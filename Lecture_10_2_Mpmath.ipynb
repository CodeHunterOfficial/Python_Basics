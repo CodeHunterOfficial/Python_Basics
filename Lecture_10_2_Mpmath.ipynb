{
  "cells": [
    {
      "cell_type": "markdown",
      "metadata": {
        "id": "view-in-github",
        "colab_type": "text"
      },
      "source": [
        "<a href=\"https://colab.research.google.com/github/CodeHunterOfficial/Python_Basics/blob/main/Lecture_10_2_Mpmath.ipynb\" target=\"_parent\"><img src=\"https://colab.research.google.com/assets/colab-badge.svg\" alt=\"Open In Colab\"/></a>"
      ]
    },
    {
      "cell_type": "markdown",
      "metadata": {
        "id": "b5rJGSgy5A9N"
      },
      "source": [
        "# mpmath\n",
        "Multiple Precision math\n",
        "\n",
        "Пакет для работы с числами с плавающей точкой со сколь угодно высокой точностью. В нём реализованы алгоритмы вычисления элементарных функций, а также большого количества специальных функций."
      ]
    },
    {
      "cell_type": "code",
      "execution_count": null,
      "metadata": {
        "collapsed": true,
        "id": "WHXXrQ0K5A9T"
      },
      "outputs": [],
      "source": [
        "from mpmath import *\n",
        "%matplotlib inline"
      ]
    },
    {
      "cell_type": "markdown",
      "metadata": {
        "id": "jAyiimcy5A9V"
      },
      "source": [
        "Точность контролируется глобальным объектом `mp`."
      ]
    },
    {
      "cell_type": "code",
      "execution_count": null,
      "metadata": {
        "colab": {
          "base_uri": "https://localhost:8080/"
        },
        "id": "DgLsrOIO5A9W",
        "outputId": "c73253a5-4c9a-48c4-ddfe-514b1b2bf239"
      },
      "outputs": [
        {
          "output_type": "stream",
          "name": "stdout",
          "text": [
            "Mpmath settings:\n",
            "  mp.prec = 53                [default: 53]\n",
            "  mp.dps = 15                 [default: 15]\n",
            "  mp.trap_complex = False     [default: False]\n"
          ]
        }
      ],
      "source": [
        "print(mp)"
      ]
    },
    {
      "cell_type": "markdown",
      "metadata": {
        "id": "5cwDEuZi5A9X"
      },
      "source": [
        "`prec` - число бит в мантиссе, `dps` - число значащих десятичных цифр. Если изменить один из этих атрибутов, другой изменится соответственно."
      ]
    },
    {
      "cell_type": "code",
      "execution_count": null,
      "metadata": {
        "colab": {
          "base_uri": "https://localhost:8080/"
        },
        "id": "EA2cmUJ55A9X",
        "outputId": "c092ba6c-c2fa-41e0-b12c-3bfdc116b667"
      },
      "outputs": [
        {
          "output_type": "stream",
          "name": "stdout",
          "text": [
            "Mpmath settings:\n",
            "  mp.prec = 169               [default: 53]\n",
            "  mp.dps = 50                 [default: 15]\n",
            "  mp.trap_complex = False     [default: False]\n"
          ]
        }
      ],
      "source": [
        "mp.dps=50\n",
        "print(mp)"
      ]
    },
    {
      "cell_type": "markdown",
      "metadata": {
        "id": "u9OxYyIh5A9Y"
      },
      "source": [
        "`mpf` создаёт число с плавающей (multiple precision float) точкой из строки или числа."
      ]
    },
    {
      "cell_type": "code",
      "execution_count": null,
      "metadata": {
        "colab": {
          "base_uri": "https://localhost:8080/"
        },
        "id": "h6o0qHAk5A9Z",
        "outputId": "87134505-b6ec-49f6-9c4a-7fe5c962f4cf"
      },
      "outputs": [
        {
          "output_type": "stream",
          "name": "stdout",
          "text": [
            "0.1\n"
          ]
        }
      ],
      "source": [
        "x=mpf('0.1')\n",
        "print(x)"
      ]
    },
    {
      "cell_type": "code",
      "execution_count": null,
      "metadata": {
        "colab": {
          "base_uri": "https://localhost:8080/"
        },
        "id": "4fcbmg0M5A9Z",
        "outputId": "224883e4-9322-4680-e07f-1621e6ae4e4d"
      },
      "outputs": [
        {
          "output_type": "execute_result",
          "data": {
            "text/plain": [
              "mpf('0.10000000000000000000000000000000000000000000000000007')"
            ]
          },
          "metadata": {},
          "execution_count": 6
        }
      ],
      "source": [
        "x"
      ]
    },
    {
      "cell_type": "markdown",
      "metadata": {
        "id": "88GceI0o5A9a"
      },
      "source": [
        "А вот так делать не надо. `0.1` сначала преобразуется в число с плавающей точкой со стандартной (т.е. двойной) точностью, а потом уже оно преобразуется в `mpf`."
      ]
    },
    {
      "cell_type": "code",
      "execution_count": null,
      "metadata": {
        "colab": {
          "base_uri": "https://localhost:8080/"
        },
        "id": "9P9EYsIz5A9a",
        "outputId": "5a0af668-bd66-49e2-9559-51267b1b56bf"
      },
      "outputs": [
        {
          "output_type": "stream",
          "name": "stdout",
          "text": [
            "0.1000000000000000055511151231257827021181583404541\n"
          ]
        }
      ],
      "source": [
        "y=mpf(0.1)\n",
        "print(y)"
      ]
    },
    {
      "cell_type": "markdown",
      "metadata": {
        "id": "xP9nPUNc5A9b"
      },
      "source": [
        "Чтобы не потерять точность, нужно делать `mpf` из строки или из отношения целых чисел (вероятно, со знаменателем вида $10^n$)."
      ]
    },
    {
      "cell_type": "code",
      "execution_count": null,
      "metadata": {
        "colab": {
          "base_uri": "https://localhost:8080/"
        },
        "id": "1V1FHh-Z5A9b",
        "outputId": "ca9c7120-6fae-4fd1-cd66-2b3a52ebaac7"
      },
      "outputs": [
        {
          "output_type": "stream",
          "name": "stdout",
          "text": [
            "0.1\n"
          ]
        }
      ],
      "source": [
        "y=mpf(1)/10\n",
        "print(y)"
      ]
    },
    {
      "cell_type": "markdown",
      "metadata": {
        "id": "h980wAFS5A9c"
      },
      "source": [
        "Математические константы типа $\\pi$ или $e$ реализованы в виде *ленивых* объектов. Они содержат сколько-то вычисленных бит плюс алгоритм, позволяющий получить больше бит, если потребуется."
      ]
    },
    {
      "cell_type": "code",
      "execution_count": null,
      "metadata": {
        "colab": {
          "base_uri": "https://localhost:8080/"
        },
        "id": "RVgwEOpj5A9c",
        "outputId": "c3fd6eb0-024d-4d53-f735-019a1761e0d1"
      },
      "outputs": [
        {
          "output_type": "execute_result",
          "data": {
            "text/plain": [
              "<pi: 3.14159~>"
            ]
          },
          "metadata": {},
          "execution_count": 9
        }
      ],
      "source": [
        "pi"
      ]
    },
    {
      "cell_type": "code",
      "execution_count": null,
      "metadata": {
        "colab": {
          "base_uri": "https://localhost:8080/"
        },
        "id": "7JF7rRIv5A9d",
        "outputId": "beca8b56-4137-4b0d-d17e-7245944a637b"
      },
      "outputs": [
        {
          "output_type": "stream",
          "name": "stdout",
          "text": [
            "3.14159265358979\n"
          ]
        }
      ],
      "source": [
        "mp.prec=53\n",
        "print(pi)"
      ]
    },
    {
      "cell_type": "code",
      "execution_count": null,
      "metadata": {
        "colab": {
          "base_uri": "https://localhost:8080/"
        },
        "id": "IeqqOUGK5A9d",
        "outputId": "e79ce48b-1b77-4c74-85b1-8ddf71cbe269"
      },
      "outputs": [
        {
          "output_type": "stream",
          "name": "stdout",
          "text": [
            "3.1415926535897932384626433832795028841971693993751\n"
          ]
        }
      ],
      "source": [
        "mp.prec=169\n",
        "print(pi)"
      ]
    },
    {
      "cell_type": "markdown",
      "metadata": {
        "id": "RBK8g8W55A9e"
      },
      "source": [
        "Когда объект `pi` встречается в выражении, из него делается число с текущей точностью."
      ]
    },
    {
      "cell_type": "code",
      "execution_count": null,
      "metadata": {
        "colab": {
          "base_uri": "https://localhost:8080/"
        },
        "id": "1ez455F95A9e",
        "outputId": "948eb8e6-5b79-48ba-b67d-a6872b188030"
      },
      "outputs": [
        {
          "output_type": "execute_result",
          "data": {
            "text/plain": [
              "mpf('3.1415926535897932384626433832795028841971693993751068')"
            ]
          },
          "metadata": {},
          "execution_count": 12
        }
      ],
      "source": [
        "+pi"
      ]
    },
    {
      "cell_type": "markdown",
      "metadata": {
        "id": "ooeGvWsb5A9e"
      },
      "source": [
        "Реализованы арифметические операции и элементарные функции."
      ]
    },
    {
      "cell_type": "code",
      "execution_count": null,
      "metadata": {
        "colab": {
          "base_uri": "https://localhost:8080/"
        },
        "id": "2hIcsECP5A9f",
        "outputId": "c4042d02-b0de-4cff-9c51-7e10458871f9"
      },
      "outputs": [
        {
          "output_type": "execute_result",
          "data": {
            "text/plain": [
              "mpf('0.50000000000000000000000000000000000000000000000000134')"
            ]
          },
          "metadata": {},
          "execution_count": 13
        }
      ],
      "source": [
        "sin(pi/4)**2"
      ]
    },
    {
      "cell_type": "markdown",
      "metadata": {
        "collapsed": true,
        "id": "yxPb3xMM5A9f"
      },
      "source": [
        "## Специальные функции"
      ]
    },
    {
      "cell_type": "code",
      "execution_count": null,
      "metadata": {
        "colab": {
          "base_uri": "https://localhost:8080/"
        },
        "id": "HRhf-QY85A9f",
        "outputId": "fcd31400-5131-470a-d8dc-028b2965466d"
      },
      "outputs": [
        {
          "output_type": "display_data",
          "data": {
            "text/plain": [
              "<Figure size 432x288 with 1 Axes>"
            ],
            "image/png": "[encoded data removed]"
          },
          "metadata": {
            "needs_background": "light"
          }
        }
      ],
      "source": [
        "plot([lambda x:besselj(0,x),\n",
        "      lambda x:besselj(1,x),\n",
        "      lambda x:besselj(2,x)],[0,10])"
      ]
    },
    {
      "cell_type": "code",
      "execution_count": null,
      "metadata": {
        "colab": {
          "base_uri": "https://localhost:8080/"
        },
        "id": "pTFKyF8_5A9g",
        "outputId": "bdd27a51-c3b2-4167-a496-7fd453e791d7"
      },
      "outputs": [
        {
          "output_type": "display_data",
          "data": {
            "text/plain": [
              "<Figure size 432x288 with 1 Axes>"
            ],
            "image/png": "[encoded data removed]"
          },
          "metadata": {
            "needs_background": "light"
          }
        }
      ],
      "source": [
        "plot([lambda x:legendre(0,x),\n",
        "      lambda x:legendre(1,x),\n",
        "      lambda x:legendre(2,x),\n",
        "      lambda x:legendre(3,x)],[-1,1])"
      ]
    },
    {
      "cell_type": "code",
      "execution_count": null,
      "metadata": {
        "colab": {
          "base_uri": "https://localhost:8080/"
        },
        "id": "JPXB06Sn5A9g",
        "outputId": "6e6fb37f-5506-41ea-9b20-4ba92e40e417"
      },
      "outputs": [
        {
          "output_type": "display_data",
          "data": {
            "text/plain": [
              "<Figure size 432x288 with 1 Axes>"
            ],
            "image/png": "[encoded data removed]"
          },
          "metadata": {
            "needs_background": "light"
          }
        }
      ],
      "source": [
        "plot([lambda x:polylog(2,x),\n",
        "      lambda x:polylog(3,x),\n",
        "      lambda x:polylog(4,x)],[-4,1])"
      ]
    },
    {
      "cell_type": "code",
      "execution_count": null,
      "metadata": {
        "colab": {
          "base_uri": "https://localhost:8080/"
        },
        "id": "mGhmurEb5A9h",
        "outputId": "36eae01c-9b13-4e4d-b32f-f03c72ed5b93"
      },
      "outputs": [
        {
          "output_type": "stream",
          "name": "stdout",
          "text": [
            "6.0 90.0\n"
          ]
        }
      ],
      "source": [
        "print(pi**2/zeta(2),pi**4/zeta(4))"
      ]
    },
    {
      "cell_type": "code",
      "execution_count": null,
      "metadata": {
        "colab": {
          "base_uri": "https://localhost:8080/"
        },
        "id": "XKtlgJss5A9h",
        "outputId": "947a33e1-dd77-46d3-e1e9-7cdaedba5e71"
      },
      "outputs": [
        {
          "output_type": "display_data",
          "data": {
            "text/plain": [
              "<Figure size 432x288 with 1 Axes>"
            ],
            "image/png": "[encoded data removed]"
          },
          "metadata": {
            "needs_background": "light"
          }
        }
      ],
      "source": [
        "splot(lambda x,y:abs(gamma(x+j*y)),[-4,4],[-4,4])"
      ]
    },
    {
      "cell_type": "code",
      "execution_count": null,
      "metadata": {
        "colab": {
          "base_uri": "https://localhost:8080/"
        },
        "id": "-rs3HSwv5A9h",
        "outputId": "d023112d-185c-4d1b-9018-643628f6ca94"
      },
      "outputs": [
        {
          "output_type": "execute_result",
          "data": {
            "text/plain": [
              "mpf('0.5')"
            ]
          },
          "metadata": {},
          "execution_count": 19
        }
      ],
      "source": [
        "gamma(1.5)/sqrt(pi)"
      ]
    },
    {
      "cell_type": "markdown",
      "metadata": {
        "id": "UxJ4Zbuw5A9h"
      },
      "source": [
        "## Решение уравнений\n",
        "\n",
        "Корни многочлена"
      ]
    },
    {
      "cell_type": "code",
      "execution_count": null,
      "metadata": {
        "colab": {
          "base_uri": "https://localhost:8080/"
        },
        "id": "ZKywzB-q5A9i",
        "outputId": "4433a17c-af7a-4b93-e7aa-827aa5934b09"
      },
      "outputs": [
        {
          "output_type": "stream",
          "name": "stdout",
          "text": [
            "-0.75487766624669276004950889635852869189460661777279\n",
            "(0.8774388331233463800247544481792643459473033088864 - 0.74486176661974423659317042860439236724016308490682j)\n",
            "(0.8774388331233463800247544481792643459473033088864 + 0.74486176661974423659317042860439236724016308490682j)\n",
            "(-0.5 + 0.86602540378443864676372317075293618347140262690519j)\n",
            "(-0.5 - 0.86602540378443864676372317075293618347140262690519j)\n"
          ]
        }
      ],
      "source": [
        "l=[1,0,0,0,1,1]\n",
        "r=polyroots(l)\n",
        "for x in r:\n",
        "    print(x)"
      ]
    },
    {
      "cell_type": "code",
      "execution_count": null,
      "metadata": {
        "colab": {
          "base_uri": "https://localhost:8080/"
        },
        "id": "swFVUZj75A9i",
        "outputId": "7dc23963-e1ba-4ee9-9605-c42c1fe28669"
      },
      "outputs": [
        {
          "output_type": "stream",
          "name": "stdout",
          "text": [
            "0.0\n",
            "(2.672764710092195646140536467151481878815196880105e-51 - 4.6512209026900071036135543450317217153701063147101e-51j)\n",
            "(2.672764710092195646140536467151481878815196880105e-51 + 4.6512209026900071036135543450317217153701063147101e-51j)\n",
            "(0.0 + 0.0j)\n",
            "(0.0 + 0.0j)\n"
          ]
        }
      ],
      "source": [
        "for x in r:\n",
        "    print(polyval(l,x))"
      ]
    },
    {
      "cell_type": "markdown",
      "metadata": {
        "id": "sdW4J3Z25A9i"
      },
      "source": [
        "Решение уравнения"
      ]
    },
    {
      "cell_type": "code",
      "execution_count": null,
      "metadata": {
        "collapsed": true,
        "id": "mEILbFf15A9j"
      },
      "outputs": [],
      "source": [
        "def f(x):\n",
        "    return exp(-x)-sin(x)"
      ]
    },
    {
      "cell_type": "code",
      "execution_count": null,
      "metadata": {
        "colab": {
          "base_uri": "https://localhost:8080/"
        },
        "id": "TRCnEPSe5A9j",
        "outputId": "c336402e-e632-4c8f-8dfd-70e1dda789ce"
      },
      "outputs": [
        {
          "output_type": "display_data",
          "data": {
            "text/plain": [
              "<Figure size 432x288 with 1 Axes>"
            ],
            "image/png": "[encoded data removed]"
          },
          "metadata": {
            "needs_background": "light"
          }
        }
      ],
      "source": [
        "plot(f,[0,pi])"
      ]
    },
    {
      "cell_type": "code",
      "execution_count": null,
      "metadata": {
        "colab": {
          "base_uri": "https://localhost:8080/"
        },
        "id": "TIf4MiI05A9j",
        "outputId": "3b654b7a-657a-460d-869b-f91af190dd4a"
      },
      "outputs": [
        {
          "output_type": "execute_result",
          "data": {
            "text/plain": [
              "mpf('0.58853274398186107743245204570290368853127151610903053')"
            ]
          },
          "metadata": {},
          "execution_count": 24
        }
      ],
      "source": [
        "findroot(f,(0.5,0.7))"
      ]
    },
    {
      "cell_type": "markdown",
      "metadata": {
        "id": "97ejShuy5A9j"
      },
      "source": [
        "Решение системы уравнений"
      ]
    },
    {
      "cell_type": "code",
      "execution_count": null,
      "metadata": {
        "colab": {
          "base_uri": "https://localhost:8080/"
        },
        "id": "JBQEVC_n5A9k",
        "outputId": "6000e112-9404-41e5-d4a8-63482a16ae83"
      },
      "outputs": [
        {
          "output_type": "execute_result",
          "data": {
            "text/plain": [
              "matrix(\n",
              "[['0.9659258262890682867497431997288973676339048390084'],\n",
              " ['0.25881904510252076234889883762404832834906890131993']])"
            ]
          },
          "metadata": {},
          "execution_count": 25
        }
      ],
      "source": [
        "findroot([lambda x,y:x**2+y**2-1,lambda x,y:x*y-1/4],(1,0.25))"
      ]
    },
    {
      "cell_type": "markdown",
      "metadata": {
        "id": "rMPid45g5A9k"
      },
      "source": [
        "## Производные"
      ]
    },
    {
      "cell_type": "code",
      "execution_count": null,
      "metadata": {
        "colab": {
          "base_uri": "https://localhost:8080/"
        },
        "id": "mGKOGaA-5A9k",
        "outputId": "1a80f2e3-1060-45ed-bdcd-62a1658d073e"
      },
      "outputs": [
        {
          "output_type": "execute_result",
          "data": {
            "text/plain": [
              "mpf('-1.4841132216030061397200811175950101054335633325969314')"
            ]
          },
          "metadata": {},
          "execution_count": 26
        }
      ],
      "source": [
        "diff(f,0.5)"
      ]
    },
    {
      "cell_type": "code",
      "execution_count": null,
      "metadata": {
        "colab": {
          "base_uri": "https://localhost:8080/"
        },
        "id": "4XKMq4Mm5A9k",
        "outputId": "6025627c-7869-41b4-b4ae-d61095246dde"
      },
      "outputs": [
        {
          "output_type": "execute_result",
          "data": {
            "text/plain": [
              "mpf('1.085956198316836423877087470206751841523721503427788')"
            ]
          },
          "metadata": {},
          "execution_count": 27
        }
      ],
      "source": [
        "diff(f,0.5,2)"
      ]
    },
    {
      "cell_type": "code",
      "execution_count": null,
      "metadata": {
        "colab": {
          "base_uri": "https://localhost:8080/"
        },
        "id": "mVst09nX5A9l",
        "outputId": "8b7b0fec-8502-46db-f195-e7653ae5693c"
      },
      "outputs": [
        {
          "output_type": "execute_result",
          "data": {
            "text/plain": [
              "mpf('-1.0')"
            ]
          },
          "metadata": {},
          "execution_count": 28
        }
      ],
      "source": [
        "diff(lambda x,y:sin(x)*cos(y),(pi,pi),(1,2))"
      ]
    },
    {
      "cell_type": "markdown",
      "metadata": {
        "id": "8kDCuQ3M5A9l"
      },
      "source": [
        "## Интегралы\n",
        "\n",
        "При вычислении этого интеграла все вычисления будут производиться с точностью, на 5 значащих цифр большей; затем она вернётся к прежней."
      ]
    },
    {
      "cell_type": "code",
      "execution_count": null,
      "metadata": {
        "colab": {
          "base_uri": "https://localhost:8080/"
        },
        "id": "Y3kZJA8I5A9l",
        "outputId": "48e2d397-d32a-48d1-bb06-5c9f455924cf"
      },
      "outputs": [
        {
          "output_type": "stream",
          "name": "stdout",
          "text": [
            "1.803085354739391428099607242267174986147479438510748322\n"
          ]
        }
      ],
      "source": [
        "with extradps(5):\n",
        "    I=quad(lambda x:log(x)**2/(1+x),(0,1))\n",
        "    print(I)"
      ]
    },
    {
      "cell_type": "markdown",
      "metadata": {
        "id": "TfFyLW1h5A9l"
      },
      "source": [
        "Допустим, у нас есть причины подозревать, что этот интеграл равен $\\zeta(3)$, умноженному на рациональное число (с не очень большими числителем и знаменателем). `pslq([x1,x2,...])` находит целые числа $n_1$, $n_2$, ... такие, что $n_1\\,x_1 + n_2\\,x_2 + \\cdots = 0$. Это - метод нахождения тождеств, называемый *экспериментальной математикой*. Для этого часто требуются вычисления с очень высокой точностью."
      ]
    },
    {
      "cell_type": "code",
      "execution_count": null,
      "metadata": {
        "colab": {
          "base_uri": "https://localhost:8080/"
        },
        "id": "bbGWv3F05A9m",
        "outputId": "baf0027e-dd5a-4677-ee5f-98dd35b6c179"
      },
      "outputs": [
        {
          "output_type": "execute_result",
          "data": {
            "text/plain": [
              "[-2, 3]"
            ]
          },
          "metadata": {},
          "execution_count": 30
        }
      ],
      "source": [
        "pslq([I,zeta(3)])"
      ]
    },
    {
      "cell_type": "markdown",
      "metadata": {
        "id": "5OFSRXWV5A9m"
      },
      "source": [
        "То есть наш интеграл равен $\\frac{3}{2} \\zeta(3)$. Это, конечно, не доказательство. Но если мы ещё увеличим точность вычисления интеграла, а результат `pslq` не изменится, то мы можем быть практически уверены, что этот результат верен.\n",
        "\n",
        "Двойной интеграл:"
      ]
    },
    {
      "cell_type": "code",
      "execution_count": null,
      "metadata": {
        "colab": {
          "base_uri": "https://localhost:8080/"
        },
        "id": "Qv7JMqYu5A9m",
        "outputId": "64c77ffd-bf17-4b0e-93d5-1911881e06f6"
      },
      "outputs": [
        {
          "output_type": "execute_result",
          "data": {
            "text/plain": [
              "mpf('0.82246703342411321823620758332301259460947495060339899')"
            ]
          },
          "metadata": {},
          "execution_count": 31
        }
      ],
      "source": [
        "quad(lambda x,y:1/(1+x*y),[0,1],[0,1])"
      ]
    },
    {
      "cell_type": "markdown",
      "metadata": {
        "id": "D0mbNHEH5A9n"
      },
      "source": [
        "## Сумма ряда"
      ]
    },
    {
      "cell_type": "code",
      "execution_count": null,
      "metadata": {
        "colab": {
          "base_uri": "https://localhost:8080/"
        },
        "id": "xRmR8EKc5A9n",
        "outputId": "7590e41b-9f42-45e6-db3c-c06bd44bf419"
      },
      "outputs": [
        {
          "output_type": "stream",
          "name": "stdout",
          "text": [
            "0.9470328294972459175765032344735219149279070829288860442\n"
          ]
        }
      ],
      "source": [
        "with extradps(5):\n",
        "    s=nsum(lambda n:(-1)**(n-1)/n**4,(1,inf))\n",
        "    print(s)"
      ]
    },
    {
      "cell_type": "code",
      "execution_count": null,
      "metadata": {
        "colab": {
          "base_uri": "https://localhost:8080/"
        },
        "id": "tnyhPsRJ5A9n",
        "outputId": "036d1e12-324a-4674-d1b5-ff277a05100c"
      },
      "outputs": [
        {
          "output_type": "execute_result",
          "data": {
            "text/plain": [
              "[-720, 7]"
            ]
          },
          "metadata": {},
          "execution_count": 33
        }
      ],
      "source": [
        "pslq([s,pi**4])"
      ]
    },
    {
      "cell_type": "markdown",
      "metadata": {
        "id": "rSDVBZTC5A9n"
      },
      "source": [
        "То есть эта сумма, вероятно, равна $\\frac{7}{720} \\pi^4$."
      ]
    },
    {
      "cell_type": "markdown",
      "metadata": {
        "id": "hSDJJn1r5A9n"
      },
      "source": [
        "## Дифференциальные уравнения"
      ]
    },
    {
      "cell_type": "code",
      "execution_count": null,
      "metadata": {
        "collapsed": true,
        "id": "xGa5sCSN5A9n"
      },
      "outputs": [],
      "source": [
        "a=mpf('0.2')\n",
        "def f(t,x):\n",
        "    global a\n",
        "    return [x[1],-x[0]-2*a*x[1]]"
      ]
    },
    {
      "cell_type": "code",
      "execution_count": null,
      "metadata": {
        "collapsed": true,
        "id": "0TAC_Hv45A9o"
      },
      "outputs": [],
      "source": [
        "x=odefun(f,0,[1,0])"
      ]
    },
    {
      "cell_type": "code",
      "execution_count": null,
      "metadata": {
        "colab": {
          "base_uri": "https://localhost:8080/"
        },
        "id": "fJJonBNj5A9o",
        "outputId": "46a8f70c-670d-43df-b44c-8aa64bb762e9"
      },
      "outputs": [
        {
          "output_type": "execute_result",
          "data": {
            "text/plain": [
              "[mpf('0.59496623263788777500734762840237378880987158574261147'),\n",
              " mpf('-0.69387986210972080683187214187798497495035321299936026')]"
            ]
          },
          "metadata": {},
          "execution_count": 36
        }
      ],
      "source": [
        "x(1)"
      ]
    },
    {
      "cell_type": "code",
      "execution_count": null,
      "metadata": {
        "colab": {
          "base_uri": "https://localhost:8080/",
          "height": 279
        },
        "id": "jpm4LCks5A9o",
        "outputId": "652c7ef7-cce3-4769-b192-59ab239448cf"
      },
      "outputs": [
        {
          "output_type": "display_data",
          "data": {
            "text/plain": [
              "<Figure size 432x288 with 1 Axes>"
            ],
            "image/png": "[encoded data removed]"
          },
          "metadata": {
            "needs_background": "light"
          }
        }
      ],
      "source": [
        "plot([lambda t:x(t)[0],lambda t:x(t)[1]],[0,10])"
      ]
    },
    {
      "cell_type": "markdown",
      "metadata": {
        "id": "oy2JrOof5A9o"
      },
      "source": [
        "## Матрицы\n",
        "\n",
        "Матрицы разреженные, реализованы как словари. Квадратная матрица"
      ]
    },
    {
      "cell_type": "code",
      "execution_count": null,
      "metadata": {
        "colab": {
          "base_uri": "https://localhost:8080/"
        },
        "id": "wAUgN5Sr5A9o",
        "outputId": "1148e9b9-fbbd-4f60-91ec-0981b0eb7bab"
      },
      "outputs": [
        {
          "output_type": "execute_result",
          "data": {
            "text/plain": [
              "matrix(\n",
              "[['0.0', '0.0'],\n",
              " ['0.0', '0.0']])"
            ]
          },
          "metadata": {},
          "execution_count": 38
        }
      ],
      "source": [
        "matrix(2)"
      ]
    },
    {
      "cell_type": "markdown",
      "metadata": {
        "id": "W1a8DNQ75A9o"
      },
      "source": [
        "Прямоугольная матрица"
      ]
    },
    {
      "cell_type": "code",
      "execution_count": null,
      "metadata": {
        "colab": {
          "base_uri": "https://localhost:8080/"
        },
        "id": "wpJhBWaM5A9p",
        "outputId": "256fa6a8-c784-48c3-80ed-6e31a59962d2"
      },
      "outputs": [
        {
          "output_type": "execute_result",
          "data": {
            "text/plain": [
              "matrix(\n",
              "[['0.0', '0.0', '0.0'],\n",
              " ['0.0', '0.0', '0.0']])"
            ]
          },
          "metadata": {},
          "execution_count": 39
        }
      ],
      "source": [
        "M=matrix(2,3)\n",
        "M"
      ]
    },
    {
      "cell_type": "code",
      "execution_count": null,
      "metadata": {
        "colab": {
          "base_uri": "https://localhost:8080/"
        },
        "id": "pQZhB1WW5A9p",
        "outputId": "9bead0ca-e8ef-4178-c293-21ef13638315"
      },
      "outputs": [
        {
          "output_type": "execute_result",
          "data": {
            "text/plain": [
              "(2, 3)"
            ]
          },
          "metadata": {},
          "execution_count": 40
        }
      ],
      "source": [
        "M.rows,M.cols"
      ]
    },
    {
      "cell_type": "code",
      "execution_count": null,
      "metadata": {
        "colab": {
          "base_uri": "https://localhost:8080/"
        },
        "id": "u8JZnh9q5A9p",
        "outputId": "7942bd31-07af-444f-b89f-713310553fdd"
      },
      "outputs": [
        {
          "output_type": "execute_result",
          "data": {
            "text/plain": [
              "matrix(\n",
              "[['0.0', '1.0', '0.0'],\n",
              " ['0.0', '0.0', '0.0']])"
            ]
          },
          "metadata": {},
          "execution_count": 41
        }
      ],
      "source": [
        "M[0,1]=1\n",
        "M"
      ]
    },
    {
      "cell_type": "markdown",
      "metadata": {
        "id": "jXl-RG5W5A9p"
      },
      "source": [
        "Операции с матрицами"
      ]
    },
    {
      "cell_type": "code",
      "execution_count": null,
      "metadata": {
        "collapsed": true,
        "id": "8BH1GmNI5A9p"
      },
      "outputs": [],
      "source": [
        "M1=matrix([[0,1],[1,0]])\n",
        "M2=matrix([[1,0],[0,-1]])"
      ]
    },
    {
      "cell_type": "code",
      "execution_count": null,
      "metadata": {
        "colab": {
          "base_uri": "https://localhost:8080/"
        },
        "id": "DpNpafgt5A9p",
        "outputId": "7c6098ce-8e6e-4462-b32f-912842fcfcef"
      },
      "outputs": [
        {
          "output_type": "execute_result",
          "data": {
            "text/plain": [
              "matrix(\n",
              "[['1.0', '1.0'],\n",
              " ['1.0', '-1.0']])"
            ]
          },
          "metadata": {},
          "execution_count": 43
        }
      ],
      "source": [
        "M1+M2"
      ]
    },
    {
      "cell_type": "code",
      "execution_count": null,
      "metadata": {
        "colab": {
          "base_uri": "https://localhost:8080/"
        },
        "id": "MfAox9x85A9q",
        "outputId": "6d2e90de-69ad-47c3-e4af-a752215dfcd0"
      },
      "outputs": [
        {
          "output_type": "execute_result",
          "data": {
            "text/plain": [
              "matrix(\n",
              "[['0.0', '-1.0'],\n",
              " ['1.0', '0.0']])"
            ]
          },
          "metadata": {},
          "execution_count": 44
        }
      ],
      "source": [
        "M1*M2"
      ]
    },
    {
      "cell_type": "code",
      "execution_count": null,
      "metadata": {
        "colab": {
          "base_uri": "https://localhost:8080/"
        },
        "id": "3FlMDWWK5A9q",
        "outputId": "2cd4d294-e5d4-4ff4-cdb0-1b1a912e43ee"
      },
      "outputs": [
        {
          "output_type": "execute_result",
          "data": {
            "text/plain": [
              "matrix(\n",
              "[['0.0', '1.0'],\n",
              " ['-1.0', '0.0']])"
            ]
          },
          "metadata": {},
          "execution_count": 45
        }
      ],
      "source": [
        "M2*M1"
      ]
    },
    {
      "cell_type": "code",
      "execution_count": null,
      "metadata": {
        "colab": {
          "base_uri": "https://localhost:8080/"
        },
        "id": "6cuXc2065A9q",
        "outputId": "6629a079-0458-47d3-942c-01d06f3ac879"
      },
      "outputs": [
        {
          "output_type": "execute_result",
          "data": {
            "text/plain": [
              "matrix(\n",
              "[['0.0', '1.0'],\n",
              " ['1.0', '0.0']])"
            ]
          },
          "metadata": {},
          "execution_count": 46
        }
      ],
      "source": [
        "M1**(-1)"
      ]
    },
    {
      "cell_type": "markdown",
      "metadata": {
        "id": "r8cGjSUK5A9q"
      },
      "source": [
        "Решение системы линейных уравнений"
      ]
    },
    {
      "cell_type": "code",
      "execution_count": null,
      "metadata": {
        "colab": {
          "base_uri": "https://localhost:8080/"
        },
        "id": "qDNzoLcJ5A9q",
        "outputId": "50ecc507-b6d5-4fea-9f8a-d0ce3c21cb7f"
      },
      "outputs": [
        {
          "output_type": "execute_result",
          "data": {
            "text/plain": [
              "matrix(\n",
              "[['1.0'],\n",
              " ['-1.0']])"
            ]
          },
          "metadata": {},
          "execution_count": 47
        }
      ],
      "source": [
        "A=matrix([[1,2],[3,4]])\n",
        "b=matrix([1,-1])\n",
        "b"
      ]
    },
    {
      "cell_type": "code",
      "execution_count": null,
      "metadata": {
        "colab": {
          "base_uri": "https://localhost:8080/"
        },
        "id": "TCXxLjbe5A9r",
        "outputId": "8d9a6f62-1d33-453c-c1b0-8de3abf67c74"
      },
      "outputs": [
        {
          "output_type": "execute_result",
          "data": {
            "text/plain": [
              "matrix(\n",
              "[['-3.0'],\n",
              " ['2.0']])"
            ]
          },
          "metadata": {},
          "execution_count": 48
        }
      ],
      "source": [
        "x=lu_solve(A,b)\n",
        "x"
      ]
    },
    {
      "cell_type": "code",
      "execution_count": null,
      "metadata": {
        "colab": {
          "base_uri": "https://localhost:8080/"
        },
        "id": "qTS6lCQ55A9r",
        "outputId": "90c8029e-2586-48e7-b9b4-2f76853b2d13"
      },
      "outputs": [
        {
          "output_type": "execute_result",
          "data": {
            "text/plain": [
              "matrix(\n",
              "[['0.0'],\n",
              " ['0.0']])"
            ]
          },
          "metadata": {},
          "execution_count": 49
        }
      ],
      "source": [
        "A*x-b"
      ]
    },
    {
      "cell_type": "markdown",
      "metadata": {
        "id": "rWCzw23o5A9r"
      },
      "source": [
        "Собственные значения и собственные векторы"
      ]
    },
    {
      "cell_type": "code",
      "execution_count": null,
      "metadata": {
        "colab": {
          "base_uri": "https://localhost:8080/"
        },
        "id": "dcJsQM9q5A9r",
        "outputId": "c7e389f1-5b3d-4802-bb3c-e239cdac1b64"
      },
      "outputs": [
        {
          "output_type": "execute_result",
          "data": {
            "text/plain": [
              "[mpf('-0.37228132326901432992530573410946465911013222899139797'),\n",
              " mpf('5.3722813232690143299253057341094646591101322289914067')]"
            ]
          },
          "metadata": {},
          "execution_count": 50
        }
      ],
      "source": [
        "l,u=eig(A)\n",
        "l"
      ]
    },
    {
      "cell_type": "code",
      "execution_count": null,
      "metadata": {
        "colab": {
          "base_uri": "https://localhost:8080/"
        },
        "id": "lKiYRSrp5A9r",
        "outputId": "bbbafc81-ec65-41e9-fb5c-061a818d241b"
      },
      "outputs": [
        {
          "output_type": "execute_result",
          "data": {
            "text/plain": [
              "matrix(\n",
              "[['-0.82456484013239376536905071707877267896095335074304', '-0.42222915041526045335929057758178658089159736117701'],\n",
              " ['0.56576746496899228472288762798052673125191630934726', '-0.92305231425019333318861560854941073593095247730112']])"
            ]
          },
          "metadata": {},
          "execution_count": 51
        }
      ],
      "source": [
        "u"
      ]
    },
    {
      "cell_type": "markdown",
      "metadata": {
        "id": "_fpfjAXK5A9r"
      },
      "source": [
        "Диагональная матрица"
      ]
    },
    {
      "cell_type": "code",
      "execution_count": null,
      "metadata": {
        "colab": {
          "base_uri": "https://localhost:8080/"
        },
        "id": "9ll3fBuK5A9s",
        "outputId": "75979edb-ae70-407b-946a-6c7a155e14c8"
      },
      "outputs": [
        {
          "output_type": "execute_result",
          "data": {
            "text/plain": [
              "matrix(\n",
              "[['-0.3722813232690143299253057341094646591101322289914', '0.0'],\n",
              " ['0.0', '5.3722813232690143299253057341094646591101322289914']])"
            ]
          },
          "metadata": {},
          "execution_count": 52
        }
      ],
      "source": [
        "L=diag(l)\n",
        "L"
      ]
    },
    {
      "cell_type": "code",
      "execution_count": null,
      "metadata": {
        "colab": {
          "base_uri": "https://localhost:8080/"
        },
        "id": "0vc74p6E5A9s",
        "outputId": "eb581485-c288-41f6-d7f0-a0662592412c"
      },
      "outputs": [
        {
          "output_type": "execute_result",
          "data": {
            "text/plain": [
              "matrix(\n",
              "[['-2.0045735325691467346054023503636114091113976600788e-51', '5.3455294201843912922810729343029637576303937602101e-51'],\n",
              " ['0.0', '1.069105884036878258456214586860592751526078752042e-50']])"
            ]
          },
          "metadata": {},
          "execution_count": 53
        }
      ],
      "source": [
        "A*u-u*L"
      ]
    }
  ],
  "metadata": {
    "kernelspec": {
      "display_name": "Python 3",
      "language": "python3.6",
      "name": "python3"
    },
    "language_info": {
      "codemirror_mode": {
        "name": "ipython",
        "version": 3
      },
      "file_extension": ".py",
      "mimetype": "text/x-python",
      "name": "python",
      "nbconvert_exporter": "python",
      "pygments_lexer": "ipython3",
      "version": "3.6.1"
    },
    "colab": {
      "provenance": [],
      "include_colab_link": true
    }
  },
  "nbformat": 4,
  "nbformat_minor": 0
}