{
  "nbformat": 4,
  "nbformat_minor": 0,
  "metadata": {
    "colab": {
      "provenance": [],
      "authorship_tag": "ABX9TyOD3c7Jq5caM8Ho/3vIG+AT",
      "include_colab_link": true
    },
    "kernelspec": {
      "name": "python3",
      "display_name": "Python 3"
    },
    "language_info": {
      "name": "python"
    }
  },
  "cells": [
    {
      "cell_type": "markdown",
      "metadata": {
        "id": "view-in-github",
        "colab_type": "text"
      },
      "source": [
        "<a href=\"https://colab.research.google.com/github/CodeHunterOfficial/Python_Basics/blob/main/Lecture_6_2_SQLite.ipynb\" target=\"_parent\"><img src=\"https://colab.research.google.com/assets/colab-badge.svg\" alt=\"Open In Colab\"/></a>"
      ]
    },
    {
      "cell_type": "markdown",
      "source": [
        "# SQLite\n",
        "## Подключение к SQLite"
      ],
      "metadata": {
        "id": "p3OcBu7OoMRN"
      }
    },
    {
      "cell_type": "markdown",
      "source": [
        "Python по умолчанию поддерживает работу с базой данных SQLite. Для этого применяется встроенная библиотека sqlite3, которая в python доступна в виде одноименного модуля.\n",
        "\n",
        "Для подключения к бд в этой библиотеке определена функция connect():"
      ],
      "metadata": {
        "id": "60sEreIfoQS0"
      }
    },
    {
      "cell_type": "markdown",
      "source": [
        "\n",
        "\n",
        "```\n",
        "sqlite3.connect(database, timeout=5.0, detect_types=0, isolation_level='DEFERRED', check_same_thread=True, factory=sqlite3.Connection, cached_statements=128, uri=False)\n",
        "\n",
        "```\n",
        "\n"
      ],
      "metadata": {
        "id": "EB4Vcf9hoa-Q"
      }
    },
    {
      "cell_type": "markdown",
      "source": [
        "Она принимает следующие параметры:\n",
        "\n",
        "* database: путь к файлу базы данных. Если база данных расположена в памяти, а не на диске, то для открытия подключения используется \":memory:\"\n",
        "\n",
        "* timeout: период времени в секундах, через который генерируется исключение, если файл бд занят другим процессом\n",
        "\n",
        "* detect_types: управляет сопоставлением типов SQLite с типами Python. Значение 0 отключает сопоставление\n",
        "\n",
        "* isolation_level : устанавливает уровень изоляции подключения и определяет процесс отрытия неявных транзакций. Возможные значения: \"DEFERRED\" (значение по умолчанию), \"EXCLUSIVE\", \"IMMEDIATE\" или None (неявные транзакции отключены)\n",
        "\n",
        "* check_same_thread: если равно True (значение по умолчанию), то только поток, который создал подключение, может его использовать. Если равно False, подключение может использоваться несколькими потоками.\n",
        "\n",
        "* factory: класс фабрики, который применяется для создания подключения. Должен представлять класс, производный от Connection. По умолчанию используется класс sqlite3.Connection\n",
        "\n",
        "* cached_statements: количество SQL-инструкций, которые должны кэшироваться. По умолчанию равно 128.\n",
        "\n",
        "* uri: булевое значение, если равно True, то путь к базе данных рассматривается как адрес URI\n",
        "\n",
        "Обязательным параметром функции является путь к базе данных. Результатом функции является объект подключения (объект класса Connection), через затем можно взаимодействовать с базой данных.\n",
        "\n",
        "Например, подключение к базе данных \"myfirst.db\", которая располагается в той же папке, что и текущий скрипт (если такая база данных отсутствует, то она автоматически создается):"
      ],
      "metadata": {
        "id": "IVnhlkeLoeDo"
      }
    },
    {
      "cell_type": "code",
      "source": [
        "import sqlite3;\n",
        "\n",
        "con = sqlite3.connect(\"myfirst.db\")"
      ],
      "metadata": {
        "id": "CWDONjjYonVF"
      },
      "execution_count": 2,
      "outputs": []
    },
    {
      "cell_type": "markdown",
      "source": [
        "## Сопоставление типов SQLite и Python\n",
        "Прежде чем начать работать с базой данных, следует понимать, как сопоставляются типы SQLite и типы Python. По умолчанию применяются следующие сопоставления:"
      ],
      "metadata": {
        "id": "Z_54099Eot8I"
      }
    },
    {
      "cell_type": "markdown",
      "source": [
        "![image.png](data:image/png;base64,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)"
      ],
      "metadata": {
        "id": "rV0g38Psoxlg"
      }
    },
    {
      "cell_type": "markdown",
      "source": [
        "Следует отметить, что при необходимости мы можем переопределять сопоставление, применяя кастомные конвертеры типов.\n",
        "\n",
        "## Получение курсора\n",
        "Для выполнения выражений SQL и получения данных из БД, необходимо создать курсор. Для этого у объекта Connection вызывается метод cursor(). Этот метод возвращает объект Cursor:"
      ],
      "metadata": {
        "id": "WnWu3ibOo3g2"
      }
    },
    {
      "cell_type": "code",
      "source": [
        "import sqlite3;\n",
        "# создаем подключение\n",
        "con = sqlite3.connect(\"firstDB.db\")\n",
        "# получаем курсор\n",
        "cursor = con.cursor()"
      ],
      "metadata": {
        "id": "0n6wLjMHo7zQ"
      },
      "execution_count": 3,
      "outputs": []
    },
    {
      "cell_type": "markdown",
      "source": [
        "## Выполнение запросов к базе данных\n",
        "Для выполнения запросов и получения данных класс Cursor предоставляет ряд методов:\n",
        "\n",
        "* execute(sql, parameters=(), /): выполняет одну SQL-инструкцию. Через второй параметр в код SQL можно передать набор параметров в виде списка или словаря\n",
        "\n",
        "* executemany(sql, parameters, /): выполняет параметризованное SQL-инструкцию. Через второй параметр принимает наборы значений, которые передаются в выполняемый код SQL.\n",
        "\n",
        "* executescript(sql_script, /): выполняет SQL-скрипт, который может включать множество SQL-инструкций\n",
        "\n",
        "* fetchone(): возвращает одну строку в виде кортежа из полученного из БД набора строк\n",
        "\n",
        "* fetchmany(size=cursor.arraysize): возвращает набор строк в виде списка. количество возвращаемых строк передается через параметр. Если больше строк нет в наборе, то возвращается пустой список.\n",
        "\n",
        "* fetchall(): возвращает все (оставшиеся) строки в виде списка. При отсутствии строк возвращается пустой список.\n",
        "\n",
        "## Создание таблицы\n",
        "Для создания таблицы в SQLite применяется инструкция CREATE TABLE. Например, создадим в базе данных \"metanit.db\" таблицу people:"
      ],
      "metadata": {
        "id": "uGBTl_0epASi"
      }
    },
    {
      "cell_type": "code",
      "source": [
        "import sqlite3;\n",
        "\n",
        "con = sqlite3.connect(\"firstDB.db\")\n",
        "cursor = con.cursor()\n",
        "\n",
        "# создаем таблицу people\n",
        "cursor.execute(\"\"\"CREATE TABLE people\n",
        "                (id INTEGER PRIMARY KEY AUTOINCREMENT,\n",
        "                name TEXT,\n",
        "                age INTEGER)\n",
        "            \"\"\")"
      ],
      "metadata": {
        "colab": {
          "base_uri": "https://localhost:8080/"
        },
        "id": "DnYMsxxFpOMo",
        "outputId": "f5a0c518-2e64-4d4a-c549-3cb371852190"
      },
      "execution_count": 4,
      "outputs": [
        {
          "output_type": "execute_result",
          "data": {
            "text/plain": [
              "<sqlite3.Cursor at 0x7fdebd21e940>"
            ]
          },
          "metadata": {},
          "execution_count": 4
        }
      ]
    },
    {
      "cell_type": "markdown",
      "source": [
        "В метод cursor.execute() передается инструкция CREATE TABLE, которая создает таблицу people с тремя столбцами. Столбец id представляет идентификатор пользователя, хранит данные типа Integer, то есть число, и также представляет первичный ключ, значение которого будет автоматически генерироваться и инкрементироваться с каждой новой строкой. Второй столбец - name представляет строку - имя пользователя. И третий столбец - age представляет возраст пользователя.\n",
        "\n",
        "После выполнения скрипта мы можем открыть базу данных в каком-нибудь браузере баз данных SQLite, например, в DB Browser for SQLite и увидеть созданную таблицу"
      ],
      "metadata": {
        "id": "yiQpCULMpU0x"
      }
    },
    {
      "cell_type": "markdown",
      "source": [
        "## Основные операции с данными в SQLite"
      ],
      "metadata": {
        "id": "wlWbHb3zpVzD"
      }
    },
    {
      "cell_type": "markdown",
      "source": [
        "Рассмотрим основные операции с базой данных SQLite с помощью библиотеки sqlite3 на примере таблицы:"
      ],
      "metadata": {
        "id": "K43v7n7vpZJf"
      }
    },
    {
      "cell_type": "markdown",
      "source": [
        "\n",
        "\n",
        "```\n",
        "CREATE TABLE people (\n",
        "    id INTEGER PRIMARY KEY AUTOINCREMENT,  \n",
        "    name TEXT,\n",
        "    age INTEGER\n",
        ")\n",
        "```\n",
        "\n"
      ],
      "metadata": {
        "id": "HD3V_7YIpfpo"
      }
    },
    {
      "cell_type": "markdown",
      "source": [
        "## Добавление данных\n",
        "Для добавления данных применяется SQL-инструкция INSERT. Для добавления одной строки используем метод execute() объекта Cursor:"
      ],
      "metadata": {
        "id": "ak7Mwl6opkDx"
      }
    },
    {
      "cell_type": "code",
      "source": [
        "import sqlite3;\n",
        "\n",
        "con = sqlite3.connect(\"firstDB.db\")\n",
        "cursor = con.cursor()\n",
        "\n",
        "# Создание таблицы\n",
        "# Создание таблицы \"people\"\n",
        "cursor.execute('''CREATE TABLE IF NOT EXISTS people (\n",
        "                    id INTEGER PRIMARY KEY AUTOINCREMENT,\n",
        "                    name TEXT,\n",
        "                    age INTEGER\n",
        "                )''')\n",
        "\n",
        "# добавляем строку в таблицу people\n",
        "cursor.execute(\"INSERT INTO people (name, age) VALUES ('Tom', 38)\")\n",
        "# выполняем транзакцию\n",
        "con.commit()"
      ],
      "metadata": {
        "id": "F7tjtB85p1Qa"
      },
      "execution_count": 6,
      "outputs": []
    },
    {
      "cell_type": "markdown",
      "source": [
        "## Множественная вставка\n",
        "Метод executemany() позволяет вставить набор строк:"
      ],
      "metadata": {
        "id": "KaR7qgELpmZE"
      }
    },
    {
      "cell_type": "code",
      "source": [
        "import sqlite3;\n",
        "\n",
        "con = sqlite3.connect(\"firstDB.db\")\n",
        "cursor = con.cursor()\n",
        "\n",
        "# данные для добавления\n",
        "people = [(\"Sam\", 28), (\"Alice\", 33), (\"Kate\", 25)]\n",
        "cursor.executemany(\"INSERT INTO people (name, age) VALUES (?, ?)\", people)\n",
        "\n",
        "con.commit()"
      ],
      "metadata": {
        "id": "UJ9wCRaDqXnc"
      },
      "execution_count": 7,
      "outputs": []
    },
    {
      "cell_type": "markdown",
      "source": [
        "В метод cursor.executemany() по сути передается то же самое выражение SQL, только теперь данные определены в виде списка кортежей people. Фактически каждый кортеж в этом списке представляет отдельную строку - данные отдельного пользователя, и при выполнении метода для каждого кортежа будет создаваться свое выражение INSERT INTO"
      ],
      "metadata": {
        "id": "pNtsoXmFqc7H"
      }
    },
    {
      "cell_type": "markdown",
      "source": [
        "## Получение данных\n",
        "Для получения данных применяется SQL-команда SELECT. После выполнения этой команды курсор получает данные, которые можно получить с помощью одного из методов: fetchall() (возвращает список со всеми строками), fetchmany() (возвращает указанное количество строк) и fetchone() (возвращает одну в наборе строку).\n",
        "\n",
        "### Получение всех строк\n",
        "Например, получим все ранее добавленные данные из таблицы people:"
      ],
      "metadata": {
        "id": "dreXgOOqqiQt"
      }
    },
    {
      "cell_type": "code",
      "source": [
        "import sqlite3;\n",
        "\n",
        "con = sqlite3.connect(\"firstDB.db\")\n",
        "cursor = con.cursor()\n",
        "\n",
        "# получаем все данные из таблицы people\n",
        "cursor.execute(\"SELECT * FROM people\")\n",
        "print(cursor.fetchall())"
      ],
      "metadata": {
        "colab": {
          "base_uri": "https://localhost:8080/"
        },
        "id": "q7mKBVQrqkbe",
        "outputId": "2edd908b-94b0-4a6b-bf59-d0090c557702"
      },
      "execution_count": 8,
      "outputs": [
        {
          "output_type": "stream",
          "name": "stdout",
          "text": [
            "[(1, 'Tom', 38), (2, 'Sam', 28), (3, 'Alice', 33), (4, 'Kate', 25)]\n"
          ]
        }
      ]
    },
    {
      "cell_type": "markdown",
      "source": [
        "При необходимости мы можем перебрать список, используя стандартные циклические конструкции:"
      ],
      "metadata": {
        "id": "Zn5_J3xQqpzW"
      }
    },
    {
      "cell_type": "code",
      "source": [
        "import sqlite3;\n",
        "\n",
        "con = sqlite3.connect(\"firstDB.db\")\n",
        "cursor = con.cursor()\n",
        "\n",
        "cursor.execute(\"SELECT * FROM people\")\n",
        "for person in cursor.fetchall():\n",
        "    print(f\"{person[1]} - {person[2]}\")"
      ],
      "metadata": {
        "colab": {
          "base_uri": "https://localhost:8080/"
        },
        "id": "X1R-DLzFqspS",
        "outputId": "14806679-22e6-4e61-8df8-04413b71e818"
      },
      "execution_count": 10,
      "outputs": [
        {
          "output_type": "stream",
          "name": "stdout",
          "text": [
            "Tom - 38\n",
            "Sam - 28\n",
            "Alice - 33\n",
            "Kate - 25\n"
          ]
        }
      ]
    },
    {
      "cell_type": "markdown",
      "source": [
        "### Получение части строк\n",
        "Получение части строк с помощью метода fetchmany(), в который передается количество строк:"
      ],
      "metadata": {
        "id": "gujGHw1qq0Lx"
      }
    },
    {
      "cell_type": "code",
      "source": [
        "import sqlite3;\n",
        "\n",
        "con = sqlite3.connect(\"firstDB.db\")\n",
        "cursor = con.cursor()\n",
        "\n",
        "cursor.execute(\"SELECT * FROM people\")\n",
        "# извлекаем первые 3 строки в полученном наборе\n",
        "print(cursor.fetchmany(3))"
      ],
      "metadata": {
        "colab": {
          "base_uri": "https://localhost:8080/"
        },
        "id": "5zmDXcPwq5Ac",
        "outputId": "68268678-5333-4b37-a5ed-c9b94647005f"
      },
      "execution_count": 11,
      "outputs": [
        {
          "output_type": "stream",
          "name": "stdout",
          "text": [
            "[(1, 'Tom', 38), (2, 'Sam', 28), (3, 'Alice', 33)]\n"
          ]
        }
      ]
    },
    {
      "cell_type": "markdown",
      "source": [
        "### Получение одной строки\n",
        "Метод fetchone() извлекает следующую строку в виде кортежа значений и возвращает его. Если строк больше нет, то возвращает None:\n",
        "\n"
      ],
      "metadata": {
        "id": "vp98Tg17q-Os"
      }
    },
    {
      "cell_type": "code",
      "source": [
        "import sqlite3;\n",
        "\n",
        "con = sqlite3.connect(\"firstDB.db\")\n",
        "cursor = con.cursor()\n",
        "\n",
        "cursor.execute(\"SELECT * FROM people\")\n",
        "# извлекаем одну строку\n",
        "print(cursor.fetchone())    # (1, 'Tom', 38)"
      ],
      "metadata": {
        "colab": {
          "base_uri": "https://localhost:8080/"
        },
        "id": "QNGW8qOLrELi",
        "outputId": "da88928d-efae-4f20-807c-81962705cbe5"
      },
      "execution_count": 12,
      "outputs": [
        {
          "output_type": "stream",
          "name": "stdout",
          "text": [
            "(1, 'Tom', 38)\n"
          ]
        }
      ]
    },
    {
      "cell_type": "markdown",
      "source": [
        "Данный метод удобно применять, когда нам надо извлечь из базы данных только один объект:"
      ],
      "metadata": {
        "id": "BmR6Q6IZrI5A"
      }
    },
    {
      "cell_type": "code",
      "source": [
        "import sqlite3;\n",
        "\n",
        "con = sqlite3.connect(\"firstDB.db\")\n",
        "cursor = con.cursor()\n",
        "\n",
        "cursor.execute(\"SELECT name, age FROM people WHERE id=2\")\n",
        "# раскладываем кортеж на две переменных\n",
        "name, age = cursor.fetchone()\n",
        "print(f\"Name: {name}    Age: {age}\")    # Name: Bob   Age: 42"
      ],
      "metadata": {
        "colab": {
          "base_uri": "https://localhost:8080/"
        },
        "id": "DwNpq4GCrMJN",
        "outputId": "575a4b2d-c77d-48c2-ed00-f2ed72d94560"
      },
      "execution_count": 13,
      "outputs": [
        {
          "output_type": "stream",
          "name": "stdout",
          "text": [
            "Name: Sam    Age: 28\n"
          ]
        }
      ]
    },
    {
      "cell_type": "markdown",
      "source": [
        "Здесь получаем из бд строку с id=2, и полученный результат раскладываем на две переменных name и age (так как кортеж в Python можно разложить на отдельные значения)\n",
        "\n",
        "## Обновление\n",
        "Для обновления в SQL выполняется команда UPDATE. Например, заменим у всех пользователей имя с Tom на Tomas:"
      ],
      "metadata": {
        "id": "PgRhXhvtrPJJ"
      }
    },
    {
      "cell_type": "code",
      "source": [
        "import sqlite3;\n",
        "\n",
        "con = sqlite3.connect(\"firstDB.db\")\n",
        "cursor = con.cursor()\n",
        "\n",
        "# обновляем строки, где name = Tom\n",
        "cursor.execute(\"UPDATE people SET name ='Tomas' WHERE name='Tom'\")\n",
        "# вариант с подстановками\n",
        "# cursor.execute(\"UPDATE people SET name =? WHERE name=?\", (\"Tomas\", \"Tom\"))\n",
        "con.commit()\n",
        "\n",
        "# проверяем\n",
        "cursor.execute(\"SELECT * FROM people\")\n",
        "print(cursor.fetchall())    # [(1, 'Tomas', 38), (2, 'Bob', 42), (3, 'Sam', 28), (4, 'Alice', 33), (5, 'Kate', 25)]"
      ],
      "metadata": {
        "colab": {
          "base_uri": "https://localhost:8080/"
        },
        "id": "9GiAs3z6rUHv",
        "outputId": "b7a88d82-788d-45b1-bee0-7c4907a1ae75"
      },
      "execution_count": 14,
      "outputs": [
        {
          "output_type": "stream",
          "name": "stdout",
          "text": [
            "[(1, 'Tomas', 38), (2, 'Sam', 28), (3, 'Alice', 33), (4, 'Kate', 25)]\n"
          ]
        }
      ]
    },
    {
      "cell_type": "markdown",
      "source": [
        "Для выполнения обновления также надо выполнять метод con.commit()\n",
        "\n",
        "## Удаление данных\n",
        "Для удаления в SQL выполняется команда DЕLETE. Например, удалим всех пользователей с именем Bob:"
      ],
      "metadata": {
        "id": "X2bvSUv7rbz6"
      }
    },
    {
      "cell_type": "code",
      "source": [
        "import sqlite3;\n",
        "\n",
        "con = sqlite3.connect(\"firstDB.db\")\n",
        "cursor = con.cursor()\n",
        "\n",
        "# обновляем строки, где name = Tom\n",
        "cursor.execute(\"DELETE FROM people WHERE name=?\", (\"Bob\",))\n",
        "con.commit()\n",
        "\n",
        "# проверяем\n",
        "cursor.execute(\"SELECT * FROM people\")\n",
        "print(cursor.fetchall())    # [(1, 'Tomas', 38), (3, 'Sam', 28), (4, 'Alice', 33), (5, 'Kate', 25)]\n"
      ],
      "metadata": {
        "colab": {
          "base_uri": "https://localhost:8080/"
        },
        "id": "NKTGsszGrdq1",
        "outputId": "3bf41803-acdd-43fa-c228-b455caeb9509"
      },
      "execution_count": 15,
      "outputs": [
        {
          "output_type": "stream",
          "name": "stdout",
          "text": [
            "[(1, 'Tomas', 38), (2, 'Sam', 28), (3, 'Alice', 33), (4, 'Kate', 25)]\n"
          ]
        }
      ]
    },
    {
      "cell_type": "markdown",
      "source": [
        "Для выполнения удаления также надо выполнять метод con.commit()"
      ],
      "metadata": {
        "id": "6lENywewrjor"
      }
    },
    {
      "cell_type": "markdown",
      "source": [
        "Допустим, у нас есть две таблицы: \"users\" и \"orders\". Мы можем использовать операторы SQL для выполнения запросов, объединяющих данные из обеих таблиц. Ниже приведен пример работы с двумя таблицами:"
      ],
      "metadata": {
        "id": "AxJXOVahrltl"
      }
    },
    {
      "cell_type": "code",
      "source": [
        "import sqlite3\n",
        "\n",
        "# Создание подключения к базе данных\n",
        "conn = sqlite3.connect('example.db')\n",
        "\n",
        "# Создание курсора для выполнения запросов\n",
        "cursor = conn.cursor()\n",
        "\n",
        "# Создание таблицы \"users\"\n",
        "cursor.execute('''CREATE TABLE IF NOT EXISTS users (\n",
        "                    id INTEGER PRIMARY KEY AUTOINCREMENT,\n",
        "                    name TEXT,\n",
        "                    email TEXT\n",
        "                )''')\n",
        "\n",
        "# Создание таблицы \"orders\"\n",
        "cursor.execute('''CREATE TABLE IF NOT EXISTS orders (\n",
        "                    id INTEGER PRIMARY KEY AUTOINCREMENT,\n",
        "                    user_id INTEGER,\n",
        "                    product TEXT,\n",
        "                    FOREIGN KEY (user_id) REFERENCES users(id)\n",
        "                )''')\n",
        "\n",
        "# Вставка данных в таблицу \"users\"\n",
        "cursor.execute(\"INSERT INTO users (name, email) VALUES ('Alice', 'alice@example.com')\")\n",
        "cursor.execute(\"INSERT INTO users (name, email) VALUES ('Bob', 'bob@example.com')\")\n",
        "\n",
        "# Вставка данных в таблицу \"orders\"\n",
        "cursor.execute(\"INSERT INTO orders (user_id, product) VALUES (1, 'Product A')\")\n",
        "cursor.execute(\"INSERT INTO orders (user_id, product) VALUES (2, 'Product B')\")\n",
        "\n",
        "# Выполнение запроса для объединения данных из обеих таблиц\n",
        "cursor.execute(\"SELECT users.name, orders.product FROM users INNER JOIN orders ON users.id = orders.user_id\")\n",
        "\n",
        "# Получение результатов\n",
        "results = cursor.fetchall()\n",
        "print(results)\n",
        "\n",
        "# Закрытие подключения\n",
        "conn.close()\n"
      ],
      "metadata": {
        "colab": {
          "base_uri": "https://localhost:8080/"
        },
        "id": "l3_pdn0wrxu5",
        "outputId": "123eaaf1-2dda-48dc-a8f7-73c5e7e03135"
      },
      "execution_count": 16,
      "outputs": [
        {
          "output_type": "stream",
          "name": "stdout",
          "text": [
            "[('Alice', 'Product A'), ('Bob', 'Product B')]\n"
          ]
        }
      ]
    },
    {
      "cell_type": "markdown",
      "source": [
        "Пример 1: Обновление данных в одной таблице на основе данных из другой таблицы:"
      ],
      "metadata": {
        "id": "vM87PnOqsGPi"
      }
    },
    {
      "cell_type": "code",
      "source": [
        "import sqlite3\n",
        "\n",
        "# Создание подключения к базе данных\n",
        "conn = sqlite3.connect('example.db')\n",
        "\n",
        "# Создание курсора для выполнения запросов\n",
        "cursor = conn.cursor()\n",
        "\n",
        "# Обновление данных в одной таблице на основе данных из другой таблицы\n",
        "cursor.execute(\"UPDATE users SET email = (SELECT email FROM orders WHERE orders.user_id = users.id) WHERE id = 1\")\n",
        "\n",
        "# Сохранение изменений\n",
        "conn.commit()\n",
        "\n",
        "# Закрытие подключения\n",
        "conn.close()\n"
      ],
      "metadata": {
        "id": "vMQer5VcsH02"
      },
      "execution_count": 17,
      "outputs": []
    },
    {
      "cell_type": "markdown",
      "source": [
        "**Пример 2:** Удаление данных из одной таблицы на основе условия из другой таблицы:"
      ],
      "metadata": {
        "id": "IuGgkm2ysKKk"
      }
    },
    {
      "cell_type": "code",
      "source": [
        "import sqlite3\n",
        "\n",
        "# Создание подключения к базе данных\n",
        "conn = sqlite3.connect('example.db')\n",
        "\n",
        "# Создание курсора для выполнения запросов\n",
        "cursor = conn.cursor()\n",
        "\n",
        "# Удаление данных из одной таблицы на основе условия из другой таблицы\n",
        "cursor.execute(\"DELETE FROM users WHERE id IN (SELECT user_id FROM orders WHERE product = 'Product B')\")\n",
        "\n",
        "# Сохранение изменений\n",
        "conn.commit()\n",
        "\n",
        "# Закрытие подключения\n",
        "conn.close()"
      ],
      "metadata": {
        "id": "zMMhbws8sORC"
      },
      "execution_count": 18,
      "outputs": []
    },
    {
      "cell_type": "markdown",
      "source": [
        "В базе данных SQLite вы можете тоже использовать оператор SQL GROUP BY для группировки данных по определенному столбцу или столбцам. Это позволяет вам выполнять агрегатные функции, такие как COUNT, SUM, AVG и другие, для каждой группы значений.\n",
        "\n",
        "Вот пример использования оператора GROUP BY:"
      ],
      "metadata": {
        "id": "QOGkO5vWsbQC"
      }
    },
    {
      "cell_type": "code",
      "source": [
        "import sqlite3\n",
        "\n",
        "# Создание подключения к базе данных\n",
        "conn = sqlite3.connect('example.db')\n",
        "\n",
        "# Создание курсора для выполнения запросов\n",
        "cursor = conn.cursor()\n",
        "\n",
        "# Создание таблицы \"employees\"\n",
        "cursor.execute('''CREATE TABLE IF NOT EXISTS employees (\n",
        "                    id INTEGER PRIMARY KEY AUTOINCREMENT,\n",
        "                    name TEXT,\n",
        "                    department TEXT,\n",
        "                    salary INTEGER\n",
        "                )''')\n",
        "\n",
        "# Вставка данных в таблицу \"employees\"\n",
        "cursor.execute(\"INSERT INTO employees (name, department, salary) VALUES ('Alice', 'HR', 50000)\")\n",
        "cursor.execute(\"INSERT INTO employees (name, department, salary) VALUES ('Bob', 'Sales', 60000)\")\n",
        "cursor.execute(\"INSERT INTO employees (name, department, salary) VALUES ('Charlie', 'HR', 55000)\")\n",
        "cursor.execute(\"INSERT INTO employees (name, department, salary) VALUES ('David', 'IT', 65000)\")\n",
        "\n",
        "# Выполнение запроса и группировка данных по столбцу \"department\"\n",
        "cursor.execute(\"SELECT department, COUNT(*), AVG(salary) FROM employees GROUP BY department\")\n",
        "\n",
        "# Получение результатов\n",
        "results = cursor.fetchall()\n",
        "for row in results:\n",
        "    print(row)\n",
        "\n",
        "# Закрытие подключения\n",
        "conn.close()"
      ],
      "metadata": {
        "colab": {
          "base_uri": "https://localhost:8080/"
        },
        "id": "hzkIwsPOsd8Y",
        "outputId": "f9cb4061-5109-4418-8966-18b9912c41c5"
      },
      "execution_count": 21,
      "outputs": [
        {
          "output_type": "stream",
          "name": "stdout",
          "text": [
            "('HR', 2, 52500.0)\n",
            "('IT', 1, 65000.0)\n",
            "('Sales', 1, 60000.0)\n"
          ]
        }
      ]
    },
    {
      "cell_type": "markdown",
      "source": [
        "Для преобразования данных из базы данных SQLite в формат JSON вам потребуется использовать язык программирования, который поддерживает работу с базами данных SQLite и имеет встроенные или сторонние библиотеки для работы с JSON.\n",
        "\n",
        "Вот пример использования Python для выполнения этой задачи:"
      ],
      "metadata": {
        "id": "JGlODYHGs7T2"
      }
    },
    {
      "cell_type": "code",
      "source": [
        "import sqlite3\n",
        "import json\n",
        "\n",
        "# Создание подключения к базе данных\n",
        "conn = sqlite3.connect('example.db')\n",
        "\n",
        "# Создание курсора для выполнения запросов\n",
        "cursor = conn.cursor()\n",
        "\n",
        "# Создание таблицы \"employees\"\n",
        "cursor.execute('''CREATE TABLE IF NOT EXISTS employees (\n",
        "                    id INTEGER PRIMARY KEY AUTOINCREMENT,\n",
        "                    name TEXT,\n",
        "                    department TEXT,\n",
        "                    salary INTEGER\n",
        "                )''')\n",
        "\n",
        "# Вставка данных в таблицу \"employees\"\n",
        "cursor.execute(\"INSERT INTO employees (name, department, salary) VALUES ('Alice', 'HR', 50000)\")\n",
        "cursor.execute(\"INSERT INTO employees (name, department, salary) VALUES ('Bob', 'Sales', 60000)\")\n",
        "cursor.execute(\"INSERT INTO employees (name, department, salary) VALUES ('Charlie', 'HR', 55000)\")\n",
        "cursor.execute(\"INSERT INTO employees (name, department, salary) VALUES ('David', 'IT', 65000)\")\n",
        "\n",
        "# Выполнение запроса для выборки данных из таблицы и преобразование в JSON\n",
        "cursor.execute(\"SELECT * FROM employees\")\n",
        "rows = cursor.fetchall()\n",
        "print(rows)\n",
        "# Преобразование данных в формат JSON\n",
        "result = []\n",
        "for row in rows:\n",
        "    result.append({\n",
        "        \"id\": row[0],\n",
        "        \"name\": row[1],\n",
        "        \"department\": row[2],\n",
        "        \"salary\": row[3]\n",
        "    })\n",
        "\n",
        "json_data = json.dumps(result, indent=4)\n",
        "print(json_data)\n",
        "\n",
        "# Закрытие подключения\n",
        "conn.close()"
      ],
      "metadata": {
        "colab": {
          "base_uri": "https://localhost:8080/"
        },
        "id": "frJdPYQys8As",
        "outputId": "aec79a6f-e399-4153-c694-2a66115da244"
      },
      "execution_count": 25,
      "outputs": [
        {
          "output_type": "stream",
          "name": "stdout",
          "text": [
            "[(1, 'Alice', 'HR', 50000), (2, 'Bob', 'Sales', 60000), (3, 'Charlie', 'HR', 55000), (4, 'David', 'IT', 65000)]\n",
            "[\n",
            "    {\n",
            "        \"id\": 1,\n",
            "        \"name\": \"Alice\",\n",
            "        \"department\": \"HR\",\n",
            "        \"salary\": 50000\n",
            "    },\n",
            "    {\n",
            "        \"id\": 2,\n",
            "        \"name\": \"Bob\",\n",
            "        \"department\": \"Sales\",\n",
            "        \"salary\": 60000\n",
            "    },\n",
            "    {\n",
            "        \"id\": 3,\n",
            "        \"name\": \"Charlie\",\n",
            "        \"department\": \"HR\",\n",
            "        \"salary\": 55000\n",
            "    },\n",
            "    {\n",
            "        \"id\": 4,\n",
            "        \"name\": \"David\",\n",
            "        \"department\": \"IT\",\n",
            "        \"salary\": 65000\n",
            "    }\n",
            "]\n"
          ]
        }
      ]
    },
    {
      "cell_type": "markdown",
      "source": [
        "В этом примере мы выбираем данные из таблицы \"employees\" в базе данных SQLite, преобразуем результаты запроса в формат JSON с помощью библиотеки json, и затем выводим полученный JSON.\n"
      ],
      "metadata": {
        "id": "P_r9HQF5tPrq"
      }
    },
    {
      "cell_type": "markdown",
      "source": [
        "Для преобразования данных из формата JSON в базу данных SQLite вы можете использовать язык программирования, такой как Python. Вот пример того, как это можно сделать:"
      ],
      "metadata": {
        "id": "23z2Uts2tcuH"
      }
    },
    {
      "cell_type": "code",
      "source": [
        "import sqlite3\n",
        "import json\n",
        "\n",
        "# JSON данные\n",
        "json_data = '''\n",
        "[\n",
        "    {\n",
        "        \"id\": 1,\n",
        "        \"name\": \"Alice\",\n",
        "        \"department\": \"HR\",\n",
        "        \"salary\": 50000\n",
        "    },\n",
        "    {\n",
        "        \"id\": 2,\n",
        "        \"name\": \"Bob\",\n",
        "        \"department\": \"Sales\",\n",
        "        \"salary\": 60000\n",
        "    },\n",
        "    {\n",
        "        \"id\": 3,\n",
        "        \"name\": \"Charlie\",\n",
        "        \"department\": \"HR\",\n",
        "        \"salary\": 55000\n",
        "    }\n",
        "]\n",
        "'''\n",
        "\n",
        "# Преобразование JSON данных в словарь Python\n",
        "data = json.loads(json_data)\n",
        "\n",
        "# Создание новой базы данных SQLite\n",
        "conn = sqlite3.connect('example.db')\n",
        "cursor = conn.cursor()\n",
        "\n",
        "# Создание таблицы для хранения JSON данных\n",
        "cursor.execute('''CREATE TABLE IF NOT EXISTS employees (\n",
        "                    id INTEGER PRIMARY KEY,\n",
        "                    name TEXT,\n",
        "                    department TEXT,\n",
        "                    salary INTEGER\n",
        "                )''')\n",
        "\n",
        "# Вставка JSON данных в базу данных SQLite\n",
        "for row in data:\n",
        "    cursor.execute(\"INSERT INTO employees (id, name, department, salary) VALUES (?, ?, ?, ?)\", (row['id'], row['name'], row['department'], row['salary']))\n",
        "\n",
        "# Применение изменений и закрытие подключения\n",
        "conn.commit()\n",
        "conn.close()\n"
      ],
      "metadata": {
        "id": "a7oqm2KdtkyP"
      },
      "execution_count": 26,
      "outputs": []
    },
    {
      "cell_type": "markdown",
      "source": [
        "Для преобразования данных из базы данных SQLite в формат XML и из формата XML в базу данных SQLite, вы можете использовать язык программирования, такой как Python, совместно с соответствующими библиотеками для работы с SQLite и XML.\n",
        "\n",
        "Вот пример того, как можно преобразовать данные из базы данных SQLite в формат XML и наоборот, используя Python:\n",
        "\n",
        "## Преобразование данных из SQLite в XML:"
      ],
      "metadata": {
        "id": "kLSbYyy2tYd8"
      }
    },
    {
      "cell_type": "code",
      "source": [
        "import sqlite3\n",
        "import xml.etree.ElementTree as ET\n",
        "\n",
        "# Создание подключения к базе данных SQLite\n",
        "conn = sqlite3.connect('example.db')\n",
        "cursor = conn.cursor()\n",
        "\n",
        "# Выборка данных из таблицы и преобразование в XML\n",
        "cursor.execute(\"SELECT * FROM employees\")\n",
        "rows = cursor.fetchall()\n",
        "\n",
        "# Создание корневого элемента XML\n",
        "root = ET.Element(\"employees\")\n",
        "\n",
        "# Добавление данных в XML\n",
        "for row in rows:\n",
        "    employee = ET.SubElement(root, \"employee\")\n",
        "    id = ET.SubElement(employee, \"id\")\n",
        "    id.text = str(row[0])\n",
        "    name = ET.SubElement(employee, \"name\")\n",
        "    name.text = row[1]\n",
        "    department = ET.SubElement(employee, \"department\")\n",
        "    department.text = row[2]\n",
        "    salary = ET.SubElement(employee, \"salary\")\n",
        "    salary.text = str(row[3])\n",
        "\n",
        "# Создание объекта ElementTree и запись в файл\n",
        "tree = ET.ElementTree(root)\n",
        "tree.write(\"employees.xml\")\n",
        "\n",
        "# Закрытие подключения\n",
        "conn.close()"
      ],
      "metadata": {
        "id": "PhOQbR-ht7Tk"
      },
      "execution_count": 27,
      "outputs": []
    },
    {
      "cell_type": "markdown",
      "source": [
        "## Преобразование данных из XML в SQLite:"
      ],
      "metadata": {
        "id": "o8BEy2ZMuCjK"
      }
    },
    {
      "cell_type": "code",
      "source": [
        "import sqlite3\n",
        "import xml.etree.ElementTree as ET\n",
        "\n",
        "# Чтение данных из XML файла\n",
        "tree = ET.parse('employees.xml')\n",
        "root = tree.getroot()\n",
        "\n",
        "# Создание подключения к базе данных SQLite\n",
        "conn = sqlite3.connect('example.db')\n",
        "cursor = conn.cursor()\n",
        "\n",
        "# Создание таблицы для хранения данных\n",
        "cursor.execute('''CREATE TABLE IF NOT EXISTS employees (\n",
        "                    id INTEGER PRIMARY KEY,\n",
        "                    name TEXT,\n",
        "                    department TEXT,\n",
        "                    salary INTEGER\n",
        "                )''')\n",
        "\n",
        "# Вставка данных из XML в базу данных SQLite\n",
        "for employee in root.findall('employee'):\n",
        "    id = int(employee.find('id').text)\n",
        "    name = employee.find('name').text\n",
        "    department = employee.find('department').text\n",
        "    salary = int(employee.find('salary').text)\n",
        "\n",
        "    # Проверка наличия записи с таким же id перед вставкой\n",
        "    cursor.execute(\"SELECT * FROM employees WHERE id=?\", (id,))\n",
        "    existing_record = cursor.fetchone()\n",
        "\n",
        "    if existing_record is None:\n",
        "        cursor.execute(\"INSERT INTO employees (id, name, department, salary) VALUES (?, ?, ?, ?)\", (id, name, department, salary))\n",
        "\n",
        "# Применение изменений и закрытие подключения\n",
        "conn.commit()\n",
        "conn.close()"
      ],
      "metadata": {
        "id": "aMpYH-dKuGGl"
      },
      "execution_count": 29,
      "outputs": []
    }
  ]
}