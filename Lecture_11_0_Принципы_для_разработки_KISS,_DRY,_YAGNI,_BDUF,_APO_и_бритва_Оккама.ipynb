{
  "nbformat": 4,
  "nbformat_minor": 0,
  "metadata": {
    "colab": {
      "provenance": [],
      "authorship_tag": "ABX9TyP9TpliXDn911l2rt4kCgJ0",
      "include_colab_link": true
    },
    "kernelspec": {
      "name": "python3",
      "display_name": "Python 3"
    },
    "language_info": {
      "name": "python"
    }
  },
  "cells": [
    {
      "cell_type": "markdown",
      "metadata": {
        "id": "view-in-github",
        "colab_type": "text"
      },
      "source": [
        "<a href=\"https://colab.research.google.com/github/CodeHunterOfficial/Python_Basics/blob/main/Lecture_11_0_%D0%9F%D1%80%D0%B8%D0%BD%D1%86%D0%B8%D0%BF%D1%8B_%D0%B4%D0%BB%D1%8F_%D1%80%D0%B0%D0%B7%D1%80%D0%B0%D0%B1%D0%BE%D1%82%D0%BA%D0%B8_KISS%2C_DRY%2C_YAGNI%2C_BDUF%2C_APO_%D0%B8_%D0%B1%D1%80%D0%B8%D1%82%D0%B2%D0%B0_%D0%9E%D0%BA%D0%BA%D0%B0%D0%BC%D0%B0.ipynb\" target=\"_parent\"><img src=\"https://colab.research.google.com/assets/colab-badge.svg\" alt=\"Open In Colab\"/></a>"
      ]
    },
    {
      "cell_type": "markdown",
      "source": [
        "# Принципы для разработки: KISS, DRY, YAGNI, BDUF, APO и бритва Оккама"
      ],
      "metadata": {
        "id": "Q7OCX05K9Q1n"
      }
    },
    {
      "cell_type": "markdown",
      "source": [
        "Хорошему программисту необходимо уметь совмещать свои навыки со здравым смыслом. Все дело в прагматизме и навыке выбора лучшего решения для вашей проблемы. Когда вы сталкиваетесь с проблемой при разработке ПО, вы можете воспользоваться базовыми принципами, которые помогут в выборе самого правильного подхода.\n",
        "\n",
        "В этом уроке приводится набор принципов, которые должен знать любой разработчик, и которые следует периодически освежать в памяти. Считайте их своим секретным оружием при программировании.\n",
        "\n",
        "Последовательное применение этих принципов упростит ваш переход от миддла к сеньору. Вы можете обнаружить, что некоторые (вероятно) вы применяете интуитивно.\n",
        "\n",
        "Принципов много. Мы остановимся на семи самых важных. Их использование поможет вам в развитии и позволит стать лучшим программистом."
      ],
      "metadata": {
        "id": "OzKJ6mSp9Vwa"
      }
    },
    {
      "cell_type": "markdown",
      "source": [
        "## 1. KISS\n",
        "**Принцип \"Keep It Simple, Stupid\" (KISS) / Будь проще**\n",
        "\n",
        "Этот принцип был разработан ВМС США в 1960 году. Он утверждает, что простые системы будут работать лучше и надежнее.\n",
        "\n",
        "Этот принцип имеет много общего с переизобретением колеса, которое было распространено в 1970-х годах. Тогда он звучал как деловая и рекламная метафора.\n",
        "\n",
        "Применительно к разработке программного обеспечения, он означает следующее: не придумывайте более сложного решения для задачи, чем требуется.\n",
        "\n",
        "Иногда самое разумное решение оказывается и самым простым. Написание производительного, эффективного и простого кода – это прекрасно.\n",
        "\n",
        "Одна из самых распространенных ошибок нашего времени – использование новых инструментов исключительно из-за того, что они блестят. Разработчиков следует мотивировать использовать новейшие технологии не потому, что они новые, а потому что они подходят для работы.\n",
        "\n",
        "Принцип KISS (Keep It Simple, Stupid) в разработке программного обеспечения означает, что решения должны быть максимально простыми, понятными и минимальными. Вот несколько конкретных примеров применения принципа KISS на Python:"
      ],
      "metadata": {
        "id": "71S86Fxx9nzL"
      }
    },
    {
      "cell_type": "markdown",
      "source": [
        "### Примеры"
      ],
      "metadata": {
        "id": "rxRpv8Z3-VU6"
      }
    },
    {
      "cell_type": "markdown",
      "source": [
        "1. Избегание избыточного кода:"
      ],
      "metadata": {
        "id": "ozBXmEf--dHo"
      }
    },
    {
      "cell_type": "code",
      "execution_count": null,
      "metadata": {
        "colab": {
          "base_uri": "https://localhost:8080/"
        },
        "id": "nD_Xt4A39QOk",
        "outputId": "1f6283d3-0411-4594-af64-48e6e3802f5c"
      },
      "outputs": [
        {
          "output_type": "stream",
          "name": "stdout",
          "text": [
            "Condition is True\n",
            "Condition is True\n"
          ]
        }
      ],
      "source": [
        "# Пример 2: Избыточность кода\n",
        "condition=True\n",
        "# Плохой способ\n",
        "if condition == True:\n",
        "    print(\"Condition is True\")\n",
        "else:\n",
        "    print(\"Condition is False\")\n",
        "\n",
        "# Лучший способ (использование условия напрямую)\n",
        "if condition:\n",
        "    print(\"Condition is True\")\n",
        "else:\n",
        "    print(\"Condition is False\")"
      ]
    },
    {
      "cell_type": "markdown",
      "source": [
        "2. Простые и понятные имена переменных и функций:"
      ],
      "metadata": {
        "id": "g2LnNeqk-0Z8"
      }
    },
    {
      "cell_type": "code",
      "source": [
        "# Пример 3: Простые имена переменных\n",
        "# Плохой способ\n",
        "a = 10\n",
        "b = 20\n",
        "c = a + b\n",
        "print(c)\n",
        "\n",
        "# Лучший способ (использование понятных имен)\n",
        "first_number = 10\n",
        "second_number = 20\n",
        "sum_of_numbers = first_number + second_number\n",
        "print(sum_of_numbers)"
      ],
      "metadata": {
        "colab": {
          "base_uri": "https://localhost:8080/"
        },
        "id": "x-tK5D4l_Cpk",
        "outputId": "ce87799c-7af6-4e68-815d-63d5f0689fb6"
      },
      "execution_count": null,
      "outputs": [
        {
          "output_type": "stream",
          "name": "stdout",
          "text": [
            "30\n",
            "30\n"
          ]
        }
      ]
    },
    {
      "cell_type": "markdown",
      "source": [
        "3. Использование генераторов списков вместо циклов:"
      ],
      "metadata": {
        "id": "pSYEWZ0W_Itw"
      }
    },
    {
      "cell_type": "code",
      "source": [
        "# Пример 4: Генераторы списков\n",
        "# Плохой способ\n",
        "squared_numbers = []\n",
        "for num in range(1, 6):\n",
        "    squared_numbers.append(num * num)\n",
        "print(squared_numbers)\n",
        "\n",
        "# Лучший способ (использование генератора списка)\n",
        "squared_numbers = [num * num for num in range(1, 6)]\n",
        "print(squared_numbers)"
      ],
      "metadata": {
        "colab": {
          "base_uri": "https://localhost:8080/"
        },
        "id": "GD5yOTSr_SgE",
        "outputId": "18cb5d7c-8871-4cea-bdeb-95fec22b14b2"
      },
      "execution_count": null,
      "outputs": [
        {
          "output_type": "stream",
          "name": "stdout",
          "text": [
            "[1, 4, 9, 16, 25]\n",
            "[1, 4, 9, 16, 25]\n"
          ]
        }
      ]
    },
    {
      "cell_type": "markdown",
      "source": [
        "4. Использование встроенных методов для простых операций:"
      ],
      "metadata": {
        "id": "ka988qW3_VOO"
      }
    },
    {
      "cell_type": "code",
      "source": [
        "# Пример 5: Встроенные методы\n",
        "# Плохой способ\n",
        "my_string = \"hello\"\n",
        "upper_case_string = \"\"\n",
        "for char in my_string:\n",
        "    upper_case_string += char.upper()\n",
        "print(upper_case_string)\n",
        "\n",
        "# Лучший способ (использование метода upper())\n",
        "my_string = \"hello\"\n",
        "upper_case_string = my_string.upper()\n",
        "print(upper_case_string)"
      ],
      "metadata": {
        "colab": {
          "base_uri": "https://localhost:8080/"
        },
        "id": "PLHWrK59_a2A",
        "outputId": "ab313446-6a52-463e-c7a9-c43f2b34c08e"
      },
      "execution_count": null,
      "outputs": [
        {
          "output_type": "stream",
          "name": "stdout",
          "text": [
            "HELLO\n",
            "HELLO\n"
          ]
        }
      ]
    },
    {
      "cell_type": "markdown",
      "source": [
        "5. Простое форматирование строк:"
      ],
      "metadata": {
        "id": "4duUkgKG_fXD"
      }
    },
    {
      "cell_type": "code",
      "source": [
        "# Пример 6: Форматирование строк\n",
        "# Плохой способ\n",
        "name = \"Alice\"\n",
        "age = 25\n",
        "greeting = \"Hello, \" + name + \". You are \" + str(age) + \" years old.\"\n",
        "print(greeting)\n",
        "\n",
        "# Лучший способ (использование f-строк)\n",
        "name = \"Alice\"\n",
        "age = 25\n",
        "greeting = f\"Hello, {name}. You are {age} years old.\"\n",
        "print(greeting)"
      ],
      "metadata": {
        "colab": {
          "base_uri": "https://localhost:8080/"
        },
        "id": "cED-G7v3_iZO",
        "outputId": "24cd41fb-8b3a-4cce-a668-450e47baa42c"
      },
      "execution_count": null,
      "outputs": [
        {
          "output_type": "stream",
          "name": "stdout",
          "text": [
            "Hello, Alice. You are 25 years old.\n",
            "Hello, Alice. You are 25 years old.\n"
          ]
        }
      ]
    },
    {
      "cell_type": "markdown",
      "source": [
        "## 2. DRY\n",
        "\n",
        "**Don't Repeat Yourself / Не повторяйтесь**\n",
        "\n",
        "Эта концепция была впервые сформулирована в книге Энди Ханта и Дэйва Томаса «Программист-прагматик: путь от подмастерья к мастеру».\n",
        "\n",
        "Идея вращается вокруг единого источника правды (single source of truth — SSOT). Что это вообще такое?\n",
        "\n",
        "\n",
        ">В проектировании и теории информационных систем единый источник истины (SSOT) – это практика структурирования информационных моделей и схемы данных, которая подразумевает, что все фрагменты данных обрабатываются (или редактируются) только в одном месте… SSOT предоставляют достоверные, актуальные и пригодные к использованию данные. (– Википедия)\n",
        "\n",
        "В разработке на Python принцип DRY подразумевает избегание повторения кода путем создания повторно используемых функций, классов и модулей.\n",
        "\n"
      ],
      "metadata": {
        "id": "aGelAHEt_sIq"
      }
    },
    {
      "cell_type": "markdown",
      "source": [
        "### Пример"
      ],
      "metadata": {
        "id": "qpYAPksVBueN"
      }
    },
    {
      "cell_type": "markdown",
      "source": [
        "Пример 1."
      ],
      "metadata": {
        "id": "5SuQqc8sCMGm"
      }
    },
    {
      "cell_type": "code",
      "source": [
        "# Без использования DRY\n",
        "\n",
        "# Повторяющийся код\n",
        "name1 = \"Alice\"\n",
        "print(\"Hello, \" + name1 + \"!\")\n",
        "\n",
        "name2 = \"Bob\"\n",
        "print(\"Hello, \" + name2 + \"!\")\n",
        "\n",
        "# С применением DRY\n",
        "\n",
        "# Использование функции для избежания повторения\n",
        "def greet(name):\n",
        "    print(\"Hello, \" + name + \"!\")\n",
        "\n",
        "greet(\"Alice\")\n",
        "greet(\"Bob\")"
      ],
      "metadata": {
        "colab": {
          "base_uri": "https://localhost:8080/"
        },
        "id": "8s1WkjIqBtwd",
        "outputId": "f01783ad-6a00-481b-b0ec-c58f9fb6a226"
      },
      "execution_count": null,
      "outputs": [
        {
          "output_type": "stream",
          "name": "stdout",
          "text": [
            "Hello, Alice!\n",
            "Hello, Bob!\n",
            "Hello, Alice!\n",
            "Hello, Bob!\n"
          ]
        }
      ]
    },
    {
      "cell_type": "markdown",
      "source": [
        "Пример 2."
      ],
      "metadata": {
        "id": "WM8dEEL7B5MW"
      }
    },
    {
      "cell_type": "code",
      "source": [
        "# Без использования DRY\n",
        "\n",
        "# Повторяющийся код\n",
        "x = 10\n",
        "y = 20\n",
        "z = x + y\n",
        "print(z)\n",
        "\n",
        "a = 30\n",
        "b = 40\n",
        "c = a + b\n",
        "print(c)\n",
        "\n",
        "# С применением DRY\n",
        "\n",
        "# Использование функции для избежания повторения\n",
        "def add_and_print(num1, num2):\n",
        "    result = num1 + num2\n",
        "    print(result)\n",
        "\n",
        "add_and_print(10, 20)\n",
        "add_and_print(30, 40)"
      ],
      "metadata": {
        "colab": {
          "base_uri": "https://localhost:8080/"
        },
        "id": "2FGI8oeGB61d",
        "outputId": "ca2d907a-36ab-4d9d-bee3-25e6e5dc48d0"
      },
      "execution_count": null,
      "outputs": [
        {
          "output_type": "stream",
          "name": "stdout",
          "text": [
            "30\n",
            "70\n",
            "30\n",
            "70\n"
          ]
        }
      ]
    },
    {
      "cell_type": "markdown",
      "source": [
        "Пример 3."
      ],
      "metadata": {
        "id": "ump7QtqiCa1v"
      }
    },
    {
      "cell_type": "code",
      "source": [
        "# Без использования DRY\n",
        "\n",
        "# Повторяющийся код\n",
        "user1 = {\n",
        "    \"name\": \"Alice\",\n",
        "    \"age\": 25\n",
        "}\n",
        "print(user1[\"name\"])\n",
        "print(user1[\"age\"])\n",
        "\n",
        "user2 = {\n",
        "    \"name\": \"Bob\",\n",
        "    \"age\": 30\n",
        "}\n",
        "print(user2[\"name\"])\n",
        "print(user2[\"age\"])\n",
        "\n",
        "\n",
        "# С применением DRY\n",
        "\n",
        "# Использование функции для избежания повторения\n",
        "def print_user_info(user):\n",
        "    print(user[\"name\"])\n",
        "    print(user[\"age\"])\n",
        "\n",
        "user1 = {\n",
        "    \"name\": \"Alice\",\n",
        "    \"age\": 25\n",
        "}\n",
        "print_user_info(user1)\n",
        "\n",
        "user2 = {\n",
        "    \"name\": \"Bob\",\n",
        "    \"age\": 30\n",
        "}\n",
        "print_user_info(user2)"
      ],
      "metadata": {
        "colab": {
          "base_uri": "https://localhost:8080/"
        },
        "id": "7c-x68oeCd2V",
        "outputId": "68848028-a2ce-42a8-90ff-c573e39cefa1"
      },
      "execution_count": null,
      "outputs": [
        {
          "output_type": "stream",
          "name": "stdout",
          "text": [
            "Alice\n",
            "25\n",
            "Bob\n",
            "30\n",
            "Alice\n",
            "25\n",
            "Bob\n",
            "30\n"
          ]
        }
      ]
    },
    {
      "cell_type": "markdown",
      "source": [
        "## 1. YAGNI\n",
        "**You Aren't Gonna Need It / Вам это не понадобится**\n",
        "\n",
        "Этот принцип прост и очевиден, но ему далеко не все следуют. Если пишете код, то будьте уверены, что он вам понадобится. Не пишите код, если думаете, что он пригодится позже.\n",
        "\n",
        "Этот принцип применим при рефакторинге. Если вы занимаетесь рефакторингом метода, класса или файла, не бойтесь удалять лишние методы. Даже если раньше они были полезны – теперь они не нужны.\n",
        "\n",
        "Может наступить день, когда они снова понадобятся – тогда вы сможете воспользоваться git-репозиторием, чтобы воскресить их из мертвых."
      ],
      "metadata": {
        "id": "ur0FcfCtCo8H"
      }
    },
    {
      "cell_type": "markdown",
      "source": [
        "** Пример 1: Ненужная функциональность**\n",
        "\n",
        "Предположим, что разработчик добавляет сложную систему управления пользователями, хотя на данный момент приложение не требует аутентификации или управления пользователями.\n",
        "\n",
        "**Пример 2: Избыточная обработка ошибок**\n",
        "\n",
        "Добавление обработки исключений для ситуаций, которые в текущей версии программы не могут возникнуть.\n",
        "\n",
        "**Пример 3: Излишняя оптимизация**\n",
        "\n",
        "Предварительная оптимизация кода или использование сложных алгоритмов, когда текущая версия программы не испытывает проблем с производительностью.\n",
        "\n",
        "**Пример 4: Добавление функциональности \"на всякий случай\"**\n",
        "Включение функций или модулей, которые могут быть полезны в будущем, но которые в настоящее время не используются и не требуются."
      ],
      "metadata": {
        "id": "e0Xgn72cDN7O"
      }
    },
    {
      "cell_type": "markdown",
      "source": [
        "4. Big Design Up Front\n",
        "Глобальное проектирование прежде всего\n",
        "\n",
        "Этот подход к разработке программного обеспечения очень важен, и его часто игнорируют. Прежде чем переходить к реализации, убедитесь, что все хорошо продумано.\n",
        "\n",
        "Зачастую продумывание решений избавляло нас от проблем при разработке… Внесение изменений в спецификации занимало час или два. Если бы мы вносили эти изменения в код, на это уходили бы недели. Я даже не могу выразить, насколько сильно я верю в важность проектирования перед реализацией, хотя адепты экстремального программирования предали эту практику анафеме. Я экономил время и делал свои продукты лучше, используя BDUF, и я горжусь этим фактом, чтобы там ни говорили фанатики экстремального программирования. Они просто ошибаются, иначе сказать не могу.\n",
        "\n",
        "— Джоел Спольски\n",
        "\n",
        "Многие разработчики считают, что если они не пишут код, то они не добиваются прогресса. Это неверный подход. Составив план, вы избавите себя от необходимости раз за разом начинать с нуля.\n",
        "\n",
        "Иногда в недостатках и процессах разработки архитектуры должны быть замешаны и другие люди. Чем раньше вы все это обсудите, тем лучше будет для всех.\n",
        "\n",
        "Очень распространенный контраргумент заключается в том, что стоимость решения проблем зачастую ниже стоимости времени планирования. Чем с меньшим количеством ошибок столкнется пользователь, тем лучше будет его опыт. У вас может не быть другого шанса справиться с этими ошибками."
      ],
      "metadata": {
        "id": "I04LnQgaDe5V"
      }
    },
    {
      "cell_type": "markdown",
      "source": [
        "**Пример без использования BDUF:**\n",
        "Без использования BDUF, разработчик может начать писать код, не проводя подробного анализа требований и дизайна. Например, разработчик может начать писать код для веб-приложения на Python, не определив заранее структуру базы данных, модели данных или интерфейсы пользователя.\n",
        "\n",
        "**Пример с применением BDUF:**\n",
        "С применением BDUF, разработчик проведет подробный анализ требований и создаст детальные спецификации перед началом разработки. Например, разработчик создаст диаграммы базы данных, определит модели данных, спроектирует интерфейсы пользователя и определит все основные компоненты приложения до начала писать код."
      ],
      "metadata": {
        "id": "ZL_xPdugEayV"
      }
    },
    {
      "cell_type": "markdown",
      "source": [
        "## Принципы APO"
      ],
      "metadata": {
        "id": "0Q7p1H0UFLyn"
      }
    },
    {
      "cell_type": "markdown",
      "source": [
        "Принципы APO (Aspect-Oriented Programming) включают в себя разделение программы на модули, называемые аспектами, которые затем могут быть внедрены в основные модули программы. Приведу примеры без использования APO и с применением APO на языке Python."
      ],
      "metadata": {
        "id": "mrw4ozBPEjIr"
      }
    },
    {
      "cell_type": "markdown",
      "source": [
        "### Примеры"
      ],
      "metadata": {
        "id": "Jjdty_WuFPKf"
      }
    },
    {
      "cell_type": "markdown",
      "source": [
        "**Пример 1**"
      ],
      "metadata": {
        "id": "IOMnUe7vFz0w"
      }
    },
    {
      "cell_type": "code",
      "source": [
        "# Пример кода без использования APO\n",
        "# Начинаем писать код без применения аспектно-ориентированного программирования\n",
        "\n",
        "# Пример: Логирование без использования APO\n",
        "# Здесь мы добавляем логирование непосредственно в основной код\n",
        "\n",
        "def perform_calculation(x, y):\n",
        "    result = x + y\n",
        "    # Логируем результат\n",
        "    print(f\"Результат вычисления: {result}\")\n",
        "    return result"
      ],
      "metadata": {
        "id": "LWbDQldDFS27"
      },
      "execution_count": null,
      "outputs": []
    },
    {
      "cell_type": "code",
      "source": [
        "!pip install aspectlib"
      ],
      "metadata": {
        "colab": {
          "base_uri": "https://localhost:8080/"
        },
        "id": "hll7AsUlFbpx",
        "outputId": "b5c7a048-0846-4429-a354-659ba57342d6"
      },
      "execution_count": null,
      "outputs": [
        {
          "output_type": "stream",
          "name": "stdout",
          "text": [
            "Collecting aspectlib\n",
            "  Downloading aspectlib-2.0.0-py3-none-any.whl (24 kB)\n",
            "Collecting fields (from aspectlib)\n",
            "  Downloading fields-5.0.0-py2.py3-none-any.whl (19 kB)\n",
            "Installing collected packages: fields, aspectlib\n",
            "Successfully installed aspectlib-2.0.0 fields-5.0.0\n"
          ]
        }
      ]
    },
    {
      "cell_type": "code",
      "source": [
        "# Пример кода с применением APO\n",
        "# Внедряем аспект для логирования с использованием APO\n",
        "\n",
        "from aspectlib import Aspect\n",
        "\n",
        "# Аспект для логирования\n",
        "def log_result(*args, **kwargs):\n",
        "    result = yield Aspect\n",
        "    print(f\"Лог: Результат вычисления: {result}\")\n",
        "\n",
        "@log_result\n",
        "def perform_calculation(x, y):\n",
        "    return x + y"
      ],
      "metadata": {
        "id": "GE9Ct_4JFW96"
      },
      "execution_count": null,
      "outputs": []
    },
    {
      "cell_type": "markdown",
      "source": [
        "В приведенных примерах показано различие между кодом без использования APO и кодом с применением APO. APO позволяет вынести кросс-концерны, такие как логирование, из основного кода и внедрить их как аспекты."
      ],
      "metadata": {
        "id": "tyrUqo96F4n5"
      }
    },
    {
      "cell_type": "markdown",
      "source": [
        "**Пример 2**"
      ],
      "metadata": {
        "id": "RigdkjBNF9Sw"
      }
    },
    {
      "cell_type": "code",
      "source": [
        "# Шифрование данных без использования APO\n",
        "# Здесь мы выполняем шифрование данных непосредственно в основном коде\n",
        "\n",
        "import hashlib\n",
        "\n",
        "def hash_password(password):\n",
        "    hashed_password = hashlib.sha256(password.encode()).hexdigest()\n",
        "    return hashed_password\n"
      ],
      "metadata": {
        "id": "mve-xu05GAKh"
      },
      "execution_count": null,
      "outputs": []
    },
    {
      "cell_type": "code",
      "source": [
        "!pip install aspectlib"
      ],
      "metadata": {
        "colab": {
          "base_uri": "https://localhost:8080/"
        },
        "id": "EKNfyTS3HAG8",
        "outputId": "968b8ac2-8d6f-461c-cee2-1b44d633e3f3"
      },
      "execution_count": null,
      "outputs": [
        {
          "output_type": "stream",
          "name": "stdout",
          "text": [
            "Requirement already satisfied: aspectlib in /usr/local/lib/python3.10/dist-packages (2.0.0)\n",
            "Requirement already satisfied: fields in /usr/local/lib/python3.10/dist-packages (from aspectlib) (5.0.0)\n"
          ]
        }
      ]
    },
    {
      "cell_type": "code",
      "source": [
        "# Шифрование данных с использованием APO\n",
        "# Здесь мы используем аспект для шифрования данных\n",
        "\n",
        "import hashlib\n",
        "from aspectlib import Aspect\n",
        "\n",
        "@Aspect\n",
        "def encrypt_data(*args, **kwargs):\n",
        "    result = yield\n",
        "    hashed_data = hashlib.sha256(result.encode()).hexdigest()\n",
        "    yield hashed_data\n",
        "\n",
        "@encrypt_data\n",
        "def hash_password(password):\n",
        "    return password"
      ],
      "metadata": {
        "id": "NjZtSnwNGMLe"
      },
      "execution_count": null,
      "outputs": []
    },
    {
      "cell_type": "markdown",
      "source": [
        "## Бритва Оккама\n",
        "\n",
        ">Бри́тва О́ккама (иногда ле́звие О́ккама) — методологический принцип, в кратком виде гласящий: «Не следует множить сущее без необходимости» (либо «Не следует привлекать новые сущности без крайней на то необходимости»). — Википедия\n",
        "\n",
        "\n",
        "Что это значит в мире программирования? Не создавайте ненужных сущностей без необходимости. Будьте прагматичны — подумайте, нужны ли они, поскольку они могут в конечном итоге усложнить вашу кодовую базу.\n",
        "\n",
        "Принцип \"бритва Оккама\" (Occam's Razor) предполагает выбор самого простого объяснения или решения, которое объясняет наблюдаемые факты."
      ],
      "metadata": {
        "id": "79ReEykvIpgV"
      }
    },
    {
      "cell_type": "markdown",
      "source": [
        "### Примеры"
      ],
      "metadata": {
        "id": "h2ef43NFI-7b"
      }
    },
    {
      "cell_type": "markdown",
      "source": [
        "**Пример 1**"
      ],
      "metadata": {
        "id": "FdYc93sBJVbG"
      }
    },
    {
      "cell_type": "code",
      "source": [
        "# Пример кода без использования \"бритвы Оккама\"\n",
        "# Здесь мы используем сложное объяснение или решение, когда более простое также могло бы быть применено\n",
        "\n",
        "# Пример: Поиск суммы всех элементов в списке\n",
        "def sum_of_list_elements(lst):\n",
        "    # Используем цикл для поиска суммы всех элементов\n",
        "    sum = 0\n",
        "    for item in lst:\n",
        "        sum += item\n",
        "    return sum\n",
        "\n",
        "\n",
        "# Пример кода с применением \"бритвы Оккама\"\n",
        "# Здесь мы используем простое объяснение или решение, которое объясняет наблюдаемые факты\n",
        "\n",
        "# Пример: Поиск суммы всех элементов в списке с использованием встроенной функции sum()\n",
        "def sum_of_list_elements(lst):\n",
        "    # Используем встроенную функцию sum() для поиска суммы всех элементов\n",
        "    return sum(lst)"
      ],
      "metadata": {
        "id": "4KAzpkvwJHxr"
      },
      "execution_count": null,
      "outputs": []
    },
    {
      "cell_type": "markdown",
      "source": [
        "**Пример 2.**"
      ],
      "metadata": {
        "id": "M8FjYiy3JD2m"
      }
    },
    {
      "cell_type": "code",
      "source": [
        "#Поиск максимального элемента в списке без использования \"бритвы Оккама\"\n",
        "def find_max_element(lst):\n",
        "    max_element = lst[0]\n",
        "    for item in lst:\n",
        "        if item > max_element:\n",
        "            max_element = item\n",
        "    return max_element\n",
        "\n",
        "# Поиск максимального элемента в списке с использованием \"бритвы Оккама\"\n",
        "def find_max_element(lst):\n",
        "    return max(lst)"
      ],
      "metadata": {
        "id": "_2Ah5rdmJcB6"
      },
      "execution_count": null,
      "outputs": []
    },
    {
      "cell_type": "markdown",
      "source": [
        "**Пример 3.**"
      ],
      "metadata": {
        "id": "6iYZqs3VJiON"
      }
    },
    {
      "cell_type": "code",
      "source": [
        "# Проверка наличия элемента в списке без использования \"бритвы Оккама\"\n",
        "def check_element(lst, element):\n",
        "    for item in lst:\n",
        "        if item == element:\n",
        "            return True\n",
        "    return False\n",
        "\n",
        "# Проверка наличия элемента в списке с использованием \"бритвы Оккама\"\n",
        "def check_element(lst, element):\n",
        "    return element in lst"
      ],
      "metadata": {
        "id": "0G43KnplJlrz"
      },
      "execution_count": null,
      "outputs": []
    },
    {
      "cell_type": "markdown",
      "source": [
        "**Пример 4.**"
      ],
      "metadata": {
        "id": "c6yXC6I_I6g4"
      }
    },
    {
      "cell_type": "code",
      "source": [
        "# Проверка наличия дубликатов в списке без использования \"бритвы Оккама\"\n",
        "def check_duplicates(lst):\n",
        "    for i in range(len(lst)):\n",
        "        for j in range(i+1, len(lst)):\n",
        "            if lst[i] == lst[j]:\n",
        "                return True\n",
        "    return False\n",
        "\n",
        "# Проверка наличия дубликатов в списке с использованием \"бритвы Оккама\"\n",
        "def check_duplicates(lst):\n",
        "    return len(lst) != len(set(lst))"
      ],
      "metadata": {
        "id": "bGY_khOrJ2hg"
      },
      "execution_count": null,
      "outputs": []
    }
  ]
}