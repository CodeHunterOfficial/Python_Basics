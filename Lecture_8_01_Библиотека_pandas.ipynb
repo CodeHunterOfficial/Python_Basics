{
  "nbformat": 4,
  "nbformat_minor": 0,
  "metadata": {
    "colab": {
      "provenance": [],
      "authorship_tag": "ABX9TyOPqtW/KTFQdu+W0G1Adpff",
      "include_colab_link": true
    },
    "kernelspec": {
      "name": "python3",
      "display_name": "Python 3"
    },
    "language_info": {
      "name": "python"
    }
  },
  "cells": [
    {
      "cell_type": "markdown",
      "metadata": {
        "id": "view-in-github",
        "colab_type": "text"
      },
      "source": [
        "<a href=\"https://colab.research.google.com/github/CodeHunterOfficial/Python_Basics/blob/main/Lecture_8_01_%D0%91%D0%B8%D0%B1%D0%BB%D0%B8%D0%BE%D1%82%D0%B5%D0%BA%D0%B0_pandas.ipynb\" target=\"_parent\"><img src=\"https://colab.research.google.com/assets/colab-badge.svg\" alt=\"Open In Colab\"/></a>"
      ]
    },
    {
      "cell_type": "markdown",
      "source": [
        "Создание фрейм"
      ],
      "metadata": {
        "id": "Lsd_HPl7g7Xu"
      }
    },
    {
      "cell_type": "code",
      "execution_count": null,
      "metadata": {
        "colab": {
          "base_uri": "https://localhost:8080/"
        },
        "id": "vpb7QjNCgs2a",
        "outputId": "7e1e1660-ded4-4ded-cedd-c815e555973e"
      },
      "outputs": [
        {
          "output_type": "stream",
          "name": "stdout",
          "text": [
            "     Имя  Возраст            Город\n",
            "0   Анна       25           Москва\n",
            "1  Борис       32  Санкт-Петербург\n",
            "2   Катя       28             Киев\n",
            "3  Денис       35            Минск\n"
          ]
        }
      ],
      "source": [
        "import pandas as pd\n",
        "\n",
        "# Создание словаря с данными\n",
        "data = {'Имя': ['Анна', 'Борис', 'Катя', 'Денис'],\n",
        "        'Возраст': [25, 32, 28, 35],\n",
        "        'Город': ['Москва', 'Санкт-Петербург', 'Киев', 'Минск']}\n",
        "\n",
        "# Создание фрейма данных из словаря\n",
        "df = pd.DataFrame(data)\n",
        "\n",
        "# Вывод фрейма данных\n",
        "print(df)\n"
      ]
    },
    {
      "cell_type": "markdown",
      "source": [
        "Индексировать фрейм"
      ],
      "metadata": {
        "id": "tNYmzcVlhF7U"
      }
    },
    {
      "cell_type": "code",
      "source": [
        "import pandas as pd\n",
        "\n",
        "# Создание фрейма данных\n",
        "data = {'Имя': ['Анна', 'Борис', 'Катя', 'Денис'],\n",
        "        'Возраст': [25, 32, 28, 35],\n",
        "        'Город': ['Москва', 'Санкт-Петербург', 'Киев', 'Минск']}\n",
        "\n",
        "df = pd.DataFrame(data)\n",
        "\n",
        "# Индексирование по столбцу \"Имя\"\n",
        "df_indexed = df.set_index('Имя')\n",
        "\n",
        "# Вывод индексированного фрейма данных\n",
        "print(df_indexed)\n"
      ],
      "metadata": {
        "colab": {
          "base_uri": "https://localhost:8080/"
        },
        "id": "gAs8rE_6hGZT",
        "outputId": "3ff5661b-b115-4b6b-d9c6-018c22260bdb"
      },
      "execution_count": null,
      "outputs": [
        {
          "output_type": "stream",
          "name": "stdout",
          "text": [
            "       Возраст            Город\n",
            "Имя                            \n",
            "Анна        25           Москва\n",
            "Борис       32  Санкт-Петербург\n",
            "Катя        28             Киев\n",
            "Денис       35            Минск\n"
          ]
        }
      ]
    },
    {
      "cell_type": "markdown",
      "source": [
        "Вывод по индексу"
      ],
      "metadata": {
        "id": "_pjZGNsjhVB0"
      }
    },
    {
      "cell_type": "code",
      "source": [
        "import pandas as pd\n",
        "\n",
        "# Создание фрейма данных\n",
        "data = {'Имя': ['Анна', 'Борис', 'Катя', 'Денис'],\n",
        "        'Возраст': [25, 32, 28, 35],\n",
        "        'Город': ['Москва', 'Санкт-Петербург', 'Киев', 'Минск']}\n",
        "\n",
        "df = pd.DataFrame(data)\n",
        "\n",
        "# Индексирование по столбцу \"Имя\"\n",
        "df_indexed = df.set_index('Имя')\n",
        "\n",
        "# Вывод данных по индексу с использованием loc[]\n",
        "print(df_indexed.loc['Анна'])\n",
        "\n",
        "# Вывод данных по индексу с использованием iloc[]\n",
        "print(df_indexed.iloc[0])\n"
      ],
      "metadata": {
        "colab": {
          "base_uri": "https://localhost:8080/"
        },
        "id": "lUwo_cJ7hWlm",
        "outputId": "7ea6aef2-c350-44b5-9f9c-a14f2e5bc0b0"
      },
      "execution_count": null,
      "outputs": [
        {
          "output_type": "stream",
          "name": "stdout",
          "text": [
            "Возраст        25\n",
            "Город      Москва\n",
            "Name: Анна, dtype: object\n",
            "Возраст        25\n",
            "Город      Москва\n",
            "Name: Анна, dtype: object\n"
          ]
        }
      ]
    },
    {
      "cell_type": "markdown",
      "source": [
        "Сортировка фрейма"
      ],
      "metadata": {
        "id": "in3HiftFhpkM"
      }
    },
    {
      "cell_type": "code",
      "source": [
        "import pandas as pd\n",
        "\n",
        "# Создание фрейма данных\n",
        "data = {'Имя': ['Анна', 'Борис', 'Катя', 'Денис'],\n",
        "        'Возраст': [25, 32, 28, 35],\n",
        "        'Город': ['Москва', 'Санкт-Петербург', 'Киев', 'Минск']}\n",
        "\n",
        "df = pd.DataFrame(data)\n",
        "\n",
        "# Сортировка по столбцу \"Возраст\" в порядке возрастания\n",
        "df_sorted = df.sort_values(by='Возраст')\n",
        "\n",
        "# Вывод отсортированного фрейма данных\n",
        "print(df_sorted)\n"
      ],
      "metadata": {
        "colab": {
          "base_uri": "https://localhost:8080/"
        },
        "id": "ZNKiuhUphqcc",
        "outputId": "4d0f66b4-c8dd-4cce-8a95-c2ab2f530bc5"
      },
      "execution_count": null,
      "outputs": [
        {
          "output_type": "stream",
          "name": "stdout",
          "text": [
            "     Имя  Возраст            Город\n",
            "0   Анна       25           Москва\n",
            "2   Катя       28             Киев\n",
            "1  Борис       32  Санкт-Петербург\n",
            "3  Денис       35            Минск\n"
          ]
        }
      ]
    },
    {
      "cell_type": "markdown",
      "source": [
        "Чтобы добавить, изменить или удалить элементы в фрейме данных в Pandas, вы можете использовать различные методы.\n",
        "\n",
        "Добавление элементов:\n",
        "\n",
        "loc[] - используется для добавления новых строк или столбцов\n",
        "append() - используется для добавления новых строк в конец фрейма данных\n",
        "Изменение элементов:\n",
        "\n",
        "Используйте оператор присваивания (=) для изменения значения элемента\n",
        "Удаление элементов:\n",
        "\n",
        "drop() - используется для удаления строк или столбцов\n",
        "del - используется для удаления столбца\n",
        "Вот примеры:"
      ],
      "metadata": {
        "id": "akoOupPDh7Hc"
      }
    },
    {
      "cell_type": "code",
      "source": [
        "import pandas as pd\n",
        "\n",
        "# Создание фрейма данных\n",
        "data = {'Имя': ['Анна', 'Борис', 'Катя', 'Денис'],\n",
        "        'Возраст': [25, 32, 28, 35],\n",
        "        'Город': ['Москва', 'Санкт-Петербург', 'Киев', 'Минск']}\n",
        "\n",
        "df = pd.DataFrame(data)\n",
        "\n",
        "# Добавление новой строки с помощью loc[]\n",
        "df.loc[4] = ['Елена', 27, 'Сочи']\n",
        "\n",
        "# Добавление нового столбца с помощью loc[]\n",
        "df.loc[:, 'Пол'] = ['Ж', 'М', 'Ж', 'М', 'Ж']\n",
        "\n",
        "# Добавление новой строки с помощью append()\n",
        "new_row = pd.Series(['Игорь', 30, 'Новосибирск', 'М'], index=df.columns)\n",
        "df = df.append(new_row, ignore_index=True)\n",
        "\n",
        "# Изменение значения элемента\n",
        "df.at[1, 'Возраст'] = 33\n",
        "\n",
        "# Удаление строки с помощью drop()\n",
        "df = df.drop(0)\n",
        "\n",
        "# Удаление столбца с помощью del\n",
        "del df['Пол']\n",
        "\n",
        "# Вывод измененного фрейма данных\n",
        "print(df)\n"
      ],
      "metadata": {
        "colab": {
          "base_uri": "https://localhost:8080/"
        },
        "id": "XbiZ3pjhh8O2",
        "outputId": "0207f077-b623-454f-d186-7c202db1ff86"
      },
      "execution_count": null,
      "outputs": [
        {
          "output_type": "stream",
          "name": "stdout",
          "text": [
            "     Имя  Возраст            Город\n",
            "1  Борис       33  Санкт-Петербург\n",
            "2   Катя       28             Киев\n",
            "3  Денис       35            Минск\n",
            "4  Елена       27             Сочи\n",
            "5  Игорь       30      Новосибирск\n"
          ]
        },
        {
          "output_type": "stream",
          "name": "stderr",
          "text": [
            "<ipython-input-5-ad2f53d49fbc>:18: FutureWarning: The frame.append method is deprecated and will be removed from pandas in a future version. Use pandas.concat instead.\n",
            "  df = df.append(new_row, ignore_index=True)\n"
          ]
        }
      ]
    },
    {
      "cell_type": "markdown",
      "source": [
        "Добавленной строкой и столбцом"
      ],
      "metadata": {
        "id": "u0cXV0DNiISz"
      }
    },
    {
      "cell_type": "code",
      "source": [
        "import pandas as pd\n",
        "\n",
        "# Создание фрейма данных\n",
        "data = {'Имя': ['Анна', 'Борис', 'Катя'],\n",
        "        'Возраст': [25, 32, 28],\n",
        "        'Город': ['Москва', 'Санкт-Петербург', 'Киев']}\n",
        "\n",
        "df = pd.DataFrame(data)\n",
        "\n",
        "# Добавление новой строки\n",
        "new_row = {'Имя': 'Денис', 'Возраст': 35, 'Город': 'Минск'}\n",
        "df = df.append(new_row, ignore_index=True)\n",
        "\n",
        "# Добавление нового столбца\n",
        "new_column = [160, 175, 165, 180]\n",
        "df['Рост'] = new_column\n",
        "\n",
        "# Вывод фрейма данных с добавленной строкой и столбцом\n",
        "print(df)\n",
        "\n",
        "# Удаление строки\n",
        "df = df.drop(2)\n",
        "\n",
        "# Удаление столбца\n",
        "df = df.drop('Рост', axis=1)\n",
        "\n",
        "# Вывод фрейма данных после удаления строки и столбца\n",
        "print(df)\n"
      ],
      "metadata": {
        "colab": {
          "base_uri": "https://localhost:8080/"
        },
        "id": "kSIdt0-kifxV",
        "outputId": "1bb12f23-10f1-47c8-da0f-9e9b172534f8"
      },
      "execution_count": null,
      "outputs": [
        {
          "output_type": "stream",
          "name": "stdout",
          "text": [
            "     Имя  Возраст            Город  Рост\n",
            "0   Анна       25           Москва   160\n",
            "1  Борис       32  Санкт-Петербург   175\n",
            "2   Катя       28             Киев   165\n",
            "3  Денис       35            Минск   180\n",
            "     Имя  Возраст            Город\n",
            "0   Анна       25           Москва\n",
            "1  Борис       32  Санкт-Петербург\n",
            "3  Денис       35            Минск\n"
          ]
        },
        {
          "output_type": "stream",
          "name": "stderr",
          "text": [
            "<ipython-input-6-a29ee28787eb>:12: FutureWarning: The frame.append method is deprecated and will be removed from pandas in a future version. Use pandas.concat instead.\n",
            "  df = df.append(new_row, ignore_index=True)\n"
          ]
        }
      ]
    },
    {
      "cell_type": "markdown",
      "source": [
        "Для объединения фреймов данных в Pandas вы можете использовать функции concat(), merge() или join(). Вот примеры:\n",
        "\n",
        "concat() - объединение по оси (столбцы или строки):"
      ],
      "metadata": {
        "id": "cLcE8GIOimJE"
      }
    },
    {
      "cell_type": "code",
      "source": [
        "import pandas as pd\n",
        "\n",
        "# Создание первого фрейма данных\n",
        "data1 = {'Имя': ['Анна', 'Борис'],\n",
        "         'Возраст': [25, 32]}\n",
        "df1 = pd.DataFrame(data1)\n",
        "\n",
        "# Создание второго фрейма данных\n",
        "data2 = {'Имя': ['Катя', 'Денис'],\n",
        "         'Город': ['Киев', 'Минск']}\n",
        "df2 = pd.DataFrame(data2)\n",
        "\n",
        "# Объединение по строкам (вертикальное объединение)\n",
        "df_concat_rows = pd.concat([df1, df2], ignore_index=True)\n",
        "\n",
        "# Объединение по столбцам (горизонтальное объединение)\n",
        "df_concat_cols = pd.concat([df1, df2], axis=1)\n",
        "\n",
        "# Вывод объединенных фреймов данных\n",
        "print(df_concat_rows)\n",
        "print(df_concat_cols)\n"
      ],
      "metadata": {
        "colab": {
          "base_uri": "https://localhost:8080/"
        },
        "id": "zJetiRGvi2tl",
        "outputId": "d1c3ba28-7f28-4890-fd33-c4051afbdafe"
      },
      "execution_count": null,
      "outputs": [
        {
          "output_type": "stream",
          "name": "stdout",
          "text": [
            "     Имя  Возраст  Город\n",
            "0   Анна     25.0    NaN\n",
            "1  Борис     32.0    NaN\n",
            "2   Катя      NaN   Киев\n",
            "3  Денис      NaN  Минск\n",
            "     Имя  Возраст    Имя  Город\n",
            "0   Анна       25   Катя   Киев\n",
            "1  Борис       32  Денис  Минск\n"
          ]
        }
      ]
    },
    {
      "cell_type": "markdown",
      "source": [
        "merge() - объединение по общему столбцу:"
      ],
      "metadata": {
        "id": "F1JdKDBujG-g"
      }
    },
    {
      "cell_type": "code",
      "source": [
        "import pandas as pd\n",
        "\n",
        "# Создание первого фрейма данных\n",
        "data1 = {'Имя': ['Анна', 'Борис'],\n",
        "         'Возраст': [25, 32]}\n",
        "df1 = pd.DataFrame(data1)\n",
        "\n",
        "# Создание второго фрейма данных\n",
        "data2 = {'Имя': ['Борис', 'Катя'],\n",
        "         'Город': ['Москва', 'Киев']}\n",
        "df2 = pd.DataFrame(data2)\n",
        "\n",
        "# Объединение по столбцу \"Имя\"\n",
        "df_merge = pd.merge(df1, df2, on='Имя')\n",
        "\n",
        "# Вывод объединенного фрейма данных\n",
        "print(df_merge)\n"
      ],
      "metadata": {
        "colab": {
          "base_uri": "https://localhost:8080/"
        },
        "id": "FSJRuJqhjHkL",
        "outputId": "d7739b1a-569c-49d5-e5a2-ebe752b12618"
      },
      "execution_count": null,
      "outputs": [
        {
          "output_type": "stream",
          "name": "stdout",
          "text": [
            "     Имя  Возраст   Город\n",
            "0  Борис       32  Москва\n"
          ]
        }
      ]
    },
    {
      "cell_type": "markdown",
      "source": [
        "join() - объединение по индексу:"
      ],
      "metadata": {
        "id": "hSWBkRJvjRa7"
      }
    },
    {
      "cell_type": "code",
      "source": [
        "import pandas as pd\n",
        "\n",
        "# Создание первого фрейма данных\n",
        "data1 = {'Возраст': [25, 32]}\n",
        "df1 = pd.DataFrame(data1, index=['Анна', 'Борис'])\n",
        "\n",
        "# Создание второго фрейма данных\n",
        "data2 = {'Город': ['Москва', 'Киев']}\n",
        "df2 = pd.DataFrame(data2, index=['Анна', 'Катя'])\n",
        "\n",
        "# Объединение по индексу\n",
        "df_join = df1.join(df2)\n",
        "\n",
        "# Вывод объединенного фрейма данных\n",
        "print(df_join)\n"
      ],
      "metadata": {
        "colab": {
          "base_uri": "https://localhost:8080/"
        },
        "id": "mIpSRYkJjSAH",
        "outputId": "450c704e-4f9c-45f7-ccce-479214dbbe0a"
      },
      "execution_count": null,
      "outputs": [
        {
          "output_type": "stream",
          "name": "stdout",
          "text": [
            "       Возраст   Город\n",
            "Анна        25  Москва\n",
            "Борис       32     NaN\n"
          ]
        }
      ]
    },
    {
      "cell_type": "markdown",
      "source": [
        "В Pandas еще  существуют несколько типов объединения (join):\n",
        "\n",
        "Внутреннее объединение (inner join): Возвращает только те строки, которые имеют совпадающие значения в обоих фреймах данных по указанным столбцам или индексам. Используйте метод merge() с параметром how='inner' или метод join() с параметром how='inner'.\n",
        "\n",
        "Левое объединение (left join): Возвращает все строки из левого фрейма данных и соответствующие строки из правого фрейма данных, при этом отсутствующие значения заполняются NaN. Используйте метод merge() с параметром how='left' или метод join() с параметром how='left'.\n",
        "\n",
        "Правое объединение (right join): Возвращает все строки из правого фрейма данных и соответствующие строки из левого фрейма данных, при этом отсутствующие значения заполняются NaN. Используйте метод merge() с параметром how='right' или метод join() с параметром how='right'.\n",
        "\n",
        "Внешнее объединение (outer join): Возвращает все строки из обоих фреймов данных, при этом отсутствующие значения заполняются NaN. Используйте метод merge() с параметром how='outer' или метод join() с параметром how='outer'.\n",
        "\n",
        "Вот еще примеры использования разных типов объединения:"
      ],
      "metadata": {
        "id": "rqr4KwBtjZIn"
      }
    },
    {
      "cell_type": "code",
      "source": [
        "import pandas as pd\n",
        "\n",
        "# Создание первого фрейма данных\n",
        "data1 = {'Имя': ['Анна', 'Борис'],\n",
        "         'Возраст': [25, 32]}\n",
        "df1 = pd.DataFrame(data1)\n",
        "\n",
        "# Создание второго фрейма данных\n",
        "data2 = {'Имя': ['Борис', 'Катя'],\n",
        "         'Город': ['Москва', 'Киев']}\n",
        "df2 = pd.DataFrame(data2)\n",
        "\n",
        "# Внутреннее объединение\n",
        "df_inner = df1.merge(df2, on='Имя', how='inner')\n",
        "\n",
        "# Левое объединение\n",
        "df_left = df1.merge(df2, on='Имя', how='left')\n",
        "\n",
        "# Правое объединение\n",
        "df_right = df1.merge(df2, on='Имя', how='right')\n",
        "\n",
        "# Внешнее объединение\n",
        "df_outer = df1.merge(df2, on='Имя', how='outer')\n",
        "\n",
        "# Вывод объединенных фреймов данных\n",
        "print(df_inner)\n",
        "print(df_left)\n",
        "print(df_right)\n",
        "print(df_outer)\n"
      ],
      "metadata": {
        "colab": {
          "base_uri": "https://localhost:8080/"
        },
        "id": "quq-5FXHjeML",
        "outputId": "743f028a-41e6-4479-cdf6-f117ac557408"
      },
      "execution_count": null,
      "outputs": [
        {
          "output_type": "stream",
          "name": "stdout",
          "text": [
            "     Имя  Возраст   Город\n",
            "0  Борис       32  Москва\n",
            "     Имя  Возраст   Город\n",
            "0   Анна       25     NaN\n",
            "1  Борис       32  Москва\n",
            "     Имя  Возраст   Город\n",
            "0  Борис     32.0  Москва\n",
            "1   Катя      NaN    Киев\n",
            "     Имя  Возраст   Город\n",
            "0   Анна     25.0     NaN\n",
            "1  Борис     32.0  Москва\n",
            "2   Катя      NaN    Киев\n"
          ]
        }
      ]
    },
    {
      "cell_type": "markdown",
      "source": [
        "В Pandas вы можете выполнять различные запросы и фильтрации данных во фрейме данных с помощью методов и операторов.\n",
        "\n",
        "Ниже приведены некоторые примеры запросов, которые вы можете выполнить в Pandas:"
      ],
      "metadata": {
        "id": "6x4Tf7zRjsTh"
      }
    },
    {
      "cell_type": "markdown",
      "source": [
        "Выборка по условию:"
      ],
      "metadata": {
        "id": "8Uy_8CcFjvLe"
      }
    },
    {
      "cell_type": "code",
      "source": [
        "# Выборка строк, где значение столбца \"Возраст\" больше 30\n",
        "df_filtered = df[df['Возраст'] > 30]\n",
        "print(df_filtered)"
      ],
      "metadata": {
        "colab": {
          "base_uri": "https://localhost:8080/"
        },
        "id": "LhD9eqG2jvt4",
        "outputId": "7f341609-511a-4bc0-e716-9981f7fb6f93"
      },
      "execution_count": null,
      "outputs": [
        {
          "output_type": "stream",
          "name": "stdout",
          "text": [
            "     Имя  Возраст            Город\n",
            "1  Борис       32  Санкт-Петербург\n",
            "3  Денис       35            Минск\n"
          ]
        }
      ]
    },
    {
      "cell_type": "markdown",
      "source": [
        "Фильтрация по нескольким условиям:"
      ],
      "metadata": {
        "id": "tJLKpCJuj0Pb"
      }
    },
    {
      "cell_type": "code",
      "source": [
        "# Выборка строк, где значение столбца \"Город\" равно \"Москва\" и значение столбца \"Возраст\" меньше 30\n",
        "df_filtered = df[(df['Город'] == 'Москва') & (df['Возраст'] < 30)]\n",
        "print(df_filtered)"
      ],
      "metadata": {
        "colab": {
          "base_uri": "https://localhost:8080/"
        },
        "id": "0x9sSEp2j03w",
        "outputId": "cf00055f-2fed-4ee9-af83-72d4e47599c3"
      },
      "execution_count": null,
      "outputs": [
        {
          "output_type": "stream",
          "name": "stdout",
          "text": [
            "    Имя  Возраст   Город\n",
            "0  Анна       25  Москва\n"
          ]
        }
      ]
    },
    {
      "cell_type": "markdown",
      "source": [
        "Сортировка данных:"
      ],
      "metadata": {
        "id": "SQ7QwU-SkB00"
      }
    },
    {
      "cell_type": "code",
      "source": [
        "# Сортировка по столбцу \"Возраст\" в порядке убывания\n",
        "df_sorted = df.sort_values(by='Возраст', ascending=False)\n",
        "print(df_sorted)"
      ],
      "metadata": {
        "colab": {
          "base_uri": "https://localhost:8080/"
        },
        "id": "8-6np7xrjs8_",
        "outputId": "bfe112b0-d87a-47ff-a688-93503e661bf9"
      },
      "execution_count": null,
      "outputs": [
        {
          "output_type": "stream",
          "name": "stdout",
          "text": [
            "     Имя  Возраст            Город\n",
            "3  Денис       35            Минск\n",
            "1  Борис       32  Санкт-Петербург\n",
            "0   Анна       25           Москва\n"
          ]
        }
      ]
    },
    {
      "cell_type": "markdown",
      "source": [
        "Группировка данных:"
      ],
      "metadata": {
        "id": "p0FZairCjdSb"
      }
    },
    {
      "cell_type": "code",
      "source": [
        "# Группировка по столбцу \"Город\" и вычисление среднего значения столбца \"Возраст\" для каждой группы\n",
        "df_grouped = df.groupby('Город')['Возраст'].mean()\n",
        "print(df_grouped)"
      ],
      "metadata": {
        "colab": {
          "base_uri": "https://localhost:8080/"
        },
        "id": "hzAMafDOkJ7J",
        "outputId": "f9f90cc7-0479-4147-8cae-6f7c3e30d639"
      },
      "execution_count": null,
      "outputs": [
        {
          "output_type": "stream",
          "name": "stdout",
          "text": [
            "Город\n",
            "Минск              35.0\n",
            "Москва             25.0\n",
            "Санкт-Петербург    32.0\n",
            "Name: Возраст, dtype: float64\n"
          ]
        }
      ]
    },
    {
      "cell_type": "markdown",
      "source": [
        "Выбор уникальных значений:"
      ],
      "metadata": {
        "id": "KCRJ7YORkQ-a"
      }
    },
    {
      "cell_type": "code",
      "source": [
        "# Получение уникальных значений из столбца \"Город\"\n",
        "unique_cities = df['Город'].unique()\n",
        "print(unique_cities)"
      ],
      "metadata": {
        "colab": {
          "base_uri": "https://localhost:8080/"
        },
        "id": "FQZ-f3_FkStR",
        "outputId": "52d91a82-d9cc-47e6-a838-7335d7f10874"
      },
      "execution_count": null,
      "outputs": [
        {
          "output_type": "stream",
          "name": "stdout",
          "text": [
            "['Москва' 'Санкт-Петербург' 'Минск']\n"
          ]
        }
      ]
    },
    {
      "cell_type": "markdown",
      "source": [
        "Выполнение агрегатных функций:"
      ],
      "metadata": {
        "id": "h7hwRWRukXcj"
      }
    },
    {
      "cell_type": "code",
      "source": [
        "# Вычисление суммы значений столбца \"Возраст\"\n",
        "total_age = df['Возраст'].sum()\n",
        "print(total_age)"
      ],
      "metadata": {
        "colab": {
          "base_uri": "https://localhost:8080/"
        },
        "id": "YRR1869ZkYCC",
        "outputId": "4cbe0c16-8d6f-4c1c-ec9b-b50cabe98918"
      },
      "execution_count": null,
      "outputs": [
        {
          "output_type": "stream",
          "name": "stdout",
          "text": [
            "92\n"
          ]
        }
      ]
    },
    {
      "cell_type": "markdown",
      "source": [
        "Выборка определенных столбцов:"
      ],
      "metadata": {
        "id": "hgW2fhohkcUH"
      }
    },
    {
      "cell_type": "code",
      "source": [
        "# Выборка только столбцов \"Имя\" и \"Возраст\"\n",
        "df_selected_columns = df[['Имя', 'Возраст']]\n",
        "print(df_selected_columns)"
      ],
      "metadata": {
        "colab": {
          "base_uri": "https://localhost:8080/"
        },
        "id": "jLBJAY7PkgP4",
        "outputId": "7a4bab55-7bfd-44f9-8793-6eb2cf968522"
      },
      "execution_count": null,
      "outputs": [
        {
          "output_type": "stream",
          "name": "stdout",
          "text": [
            "     Имя  Возраст\n",
            "0   Анна       25\n",
            "1  Борис       32\n",
            "3  Денис       35\n"
          ]
        }
      ]
    },
    {
      "cell_type": "markdown",
      "source": [
        "Поиск значений по шаблону:"
      ],
      "metadata": {
        "id": "0tmXg06bkmf_"
      }
    },
    {
      "cell_type": "code",
      "source": [
        "# Поиск строк, где значение столбца \"Имя\" содержит подстроку \"ан\"\n",
        "df_filtered = df[df['Имя'].str.contains('ан')]\n",
        "print(df_filtered)"
      ],
      "metadata": {
        "colab": {
          "base_uri": "https://localhost:8080/"
        },
        "id": "KY4dZ8eHkm9M",
        "outputId": "94cdf0fd-7500-49f2-921e-044d426a9f1c"
      },
      "execution_count": null,
      "outputs": [
        {
          "output_type": "stream",
          "name": "stdout",
          "text": [
            "Empty DataFrame\n",
            "Columns: [Имя, Возраст, Город]\n",
            "Index: []\n"
          ]
        }
      ]
    },
    {
      "cell_type": "markdown",
      "source": [
        "Вычисление статистических показателей:"
      ],
      "metadata": {
        "id": "uO72fAUOkvH9"
      }
    },
    {
      "cell_type": "code",
      "source": [
        "# Вычисление среднего значения столбца \"Возраст\"\n",
        "mean_age = df['Возраст'].mean()\n",
        "\n",
        "# Вычисление медианы столбца \"Возраст\"\n",
        "median_age = df['Возраст'].median()\n",
        "\n",
        "# Вычисление максимального значения столбца \"Возраст\"\n",
        "max_age = df['Возраст'].max()\n",
        "\n",
        "# Вычисление минимального значения столбца \"Возраст\"\n",
        "min_age = df['Возраст'].min()\n"
      ],
      "metadata": {
        "id": "UPG-MiIJkvjP"
      },
      "execution_count": null,
      "outputs": []
    },
    {
      "cell_type": "markdown",
      "source": [
        "Применение пользовательской функции к столбцам или строкам:"
      ],
      "metadata": {
        "id": "k8Lyz_GWk0ZI"
      }
    },
    {
      "cell_type": "code",
      "source": [
        "# Применение функции для преобразования значений столбца \"Возраст\" в годы\n",
        "df['Возраст'] = df['Возраст'].apply(lambda x: x / 365)\n"
      ],
      "metadata": {
        "id": "7llFL2pAk03L"
      },
      "execution_count": null,
      "outputs": []
    },
    {
      "cell_type": "markdown",
      "source": [
        "Удаление дубликатов:"
      ],
      "metadata": {
        "id": "gkdWGMIUk7PJ"
      }
    },
    {
      "cell_type": "code",
      "source": [
        "# Удаление дубликатов на основе всех столбцов\n",
        "df_no_duplicates = df.drop_duplicates()\n",
        "\n",
        "# Удаление дубликатов на основе определенных столбцов\n",
        "df_no_duplicates = df.drop_duplicates(subset=['Имя', 'Город'])\n"
      ],
      "metadata": {
        "id": "8XaEOaJKk-lw"
      },
      "execution_count": null,
      "outputs": []
    },
    {
      "cell_type": "markdown",
      "source": [
        "Чтобы дублировать элемент в фрейме данных в Pandas, вы можете использовать метод append(). Вот пример:"
      ],
      "metadata": {
        "id": "G6GkYqOUlJtC"
      }
    },
    {
      "cell_type": "code",
      "source": [
        "import pandas as pd\n",
        "\n",
        "# Создание исходного фрейма данных\n",
        "data = {'Имя': ['Анна', 'Борис'],\n",
        "        'Возраст': [25, 32]}\n",
        "df = pd.DataFrame(data)\n",
        "\n",
        "# Дублирование элемента\n",
        "df_duplicated = df.append(df.loc[0])\n",
        "\n",
        "# Вывод фрейма данных с дублированным элементом\n",
        "print(df_duplicated)\n"
      ],
      "metadata": {
        "colab": {
          "base_uri": "https://localhost:8080/"
        },
        "id": "EBX_4pymlKGV",
        "outputId": "f1d6d660-e727-45c9-9c69-fff3374c5b90"
      },
      "execution_count": null,
      "outputs": [
        {
          "output_type": "stream",
          "name": "stdout",
          "text": [
            "     Имя  Возраст\n",
            "0   Анна       25\n",
            "1  Борис       32\n",
            "0   Анна       25\n"
          ]
        },
        {
          "output_type": "stream",
          "name": "stderr",
          "text": [
            "<ipython-input-24-52df61d7084c>:9: FutureWarning: The frame.append method is deprecated and will be removed from pandas in a future version. Use pandas.concat instead.\n",
            "  df_duplicated = df.append(df.loc[0])\n"
          ]
        }
      ]
    },
    {
      "cell_type": "markdown",
      "source": [
        "Чтобы заменить значения NaN (отсутствующие значения) на среднее значение столбца в Pandas, вы можете использовать метод fillna() в сочетании с методом mean(). Вот пример:"
      ],
      "metadata": {
        "id": "qrmq6xkdl5T-"
      }
    },
    {
      "cell_type": "code",
      "source": [
        "import pandas as pd\n",
        "import numpy as np\n",
        "\n",
        "# Создание фрейма данных с пропущенными значениями\n",
        "data = {'Имя': ['Анна', 'Борис', 'Катя'],\n",
        "        'Возраст': [25, np.nan, 32]}\n",
        "df = pd.DataFrame(data)\n",
        "\n",
        "# Замена NaN на среднее значение столбца\n",
        "mean_age = df['Возраст'].mean()\n",
        "df['Возраст'] = df['Возраст'].fillna(mean_age)\n",
        "\n",
        "# Вывод фрейма данных с замененными значениями\n",
        "print(df)\n"
      ],
      "metadata": {
        "colab": {
          "base_uri": "https://localhost:8080/"
        },
        "id": "HJV5XmgMl56U",
        "outputId": "6b28feed-1410-4d96-abb1-79068e85ceb6"
      },
      "execution_count": null,
      "outputs": [
        {
          "output_type": "stream",
          "name": "stdout",
          "text": [
            "     Имя  Возраст\n",
            "0   Анна     25.0\n",
            "1  Борис     28.5\n",
            "2   Катя     32.0\n"
          ]
        }
      ]
    },
    {
      "cell_type": "markdown",
      "source": [
        "Чтобы заменить значения NaN (отсутствующие значения) на среднее значение левого и правого соседей в Pandas, вы можете использовать метод fillna() в сочетании с методом fillna() и параметром method='ffill' и method='bfill'. Вот пример:"
      ],
      "metadata": {
        "id": "Jvylf9BbmOrU"
      }
    },
    {
      "cell_type": "code",
      "source": [
        "import pandas as pd\n",
        "import numpy as np\n",
        "\n",
        "# Создание фрейма данных с пропущенными значениями\n",
        "data = {'Имя': ['Анна', 'Борис', 'Катя', 'Дмитрий'],\n",
        "        'Возраст': [25, np.nan, np.nan, 32]}\n",
        "df = pd.DataFrame(data)\n",
        "\n",
        "# Замена NaN на среднее значение левого и правого соседей\n",
        "df['Возраст'] = df['Возраст'].fillna(df['Возраст'].fillna(method='ffill') + df['Возраст'].fillna(method='bfill')) / 2\n",
        "\n",
        "# Вывод фрейма данных с замененными значениями\n",
        "print(df)\n"
      ],
      "metadata": {
        "colab": {
          "base_uri": "https://localhost:8080/"
        },
        "id": "4q6UmwSamPJ8",
        "outputId": "5026dbd8-efe9-4d8d-bac9-2e5904cdf6bb"
      },
      "execution_count": null,
      "outputs": [
        {
          "output_type": "stream",
          "name": "stdout",
          "text": [
            "       Имя  Возраст\n",
            "0     Анна     12.5\n",
            "1    Борис     28.5\n",
            "2     Катя     28.5\n",
            "3  Дмитрий     16.0\n"
          ]
        }
      ]
    },
    {
      "cell_type": "markdown",
      "source": [
        "В этом примере мы создаем фрейм данных df с пропущенными значениями (NaN) в столбце \"Возраст\". Затем мы используем метод fillna() дважды для замены NaN на значения левого и правого соседей. Параметр method='ffill' указывает на заполнение пропущенных значений предыдущими наблюдениями (левым соседом), а параметр method='bfill' указывает на заполнение пропущенных значений следующими наблюдениями (правым соседом). Затем мы суммируем значения левого и правого соседей и делим на 2, чтобы получить среднее значение."
      ],
      "metadata": {
        "id": "PW86hFuVmUi-"
      }
    },
    {
      "cell_type": "markdown",
      "source": [
        "Если вы хотите заменить значения NaN (отсутствующие значения) на среднее значение левого и правого соседей, но оставить значения в первой и последней строке без изменений, вам потребуется использовать условную индексацию.\n",
        "\n",
        "Вот исправленный пример:"
      ],
      "metadata": {
        "id": "A4Bp1PIgmx6-"
      }
    },
    {
      "cell_type": "code",
      "source": [
        "import pandas as pd\n",
        "import numpy as np\n",
        "\n",
        "# Создание фрейма данных с пропущенными значениями\n",
        "data = {'Имя': ['Анна', 'Борис', 'Катя', 'Дмитрий'],\n",
        "        'Возраст': [25, np.nan, 30, 32]}\n",
        "df = pd.DataFrame(data)\n",
        "\n",
        "# Замена NaN в возрасте Бориса на среднее значение возраста Анны и Кати\n",
        "for i in range(1, len(df)-1):\n",
        "    if pd.isna(df.loc[i, 'Возраст']):\n",
        "        df.loc[i, 'Возраст'] = (df.loc[i-1, 'Возраст'] + df.loc[i+1, 'Возраст']) / 2\n",
        "\n",
        "# Вывод фрейма данных с замененными значениями\n",
        "print(df)\n"
      ],
      "metadata": {
        "colab": {
          "base_uri": "https://localhost:8080/"
        },
        "id": "egrLoUdQmyqu",
        "outputId": "90834b91-0da3-44bf-b35f-618d3db706fb"
      },
      "execution_count": null,
      "outputs": [
        {
          "output_type": "stream",
          "name": "stdout",
          "text": [
            "       Имя  Возраст\n",
            "0     Анна     25.0\n",
            "1    Борис     27.5\n",
            "2     Катя     30.0\n",
            "3  Дмитрий     32.0\n"
          ]
        }
      ]
    },
    {
      "cell_type": "markdown",
      "source": [
        "Отобразите количество строк, в которых значение столбца \"Возраст\" является пропущенным (NaN)."
      ],
      "metadata": {
        "id": "9SlI8SQRodUq"
      }
    },
    {
      "cell_type": "code",
      "source": [
        "df['Возраст'].isna().sum()\n"
      ],
      "metadata": {
        "colab": {
          "base_uri": "https://localhost:8080/"
        },
        "id": "vs_piYQ6odu7",
        "outputId": "df4be07e-80f0-4d6c-8457-b0e6aea74cc5"
      },
      "execution_count": null,
      "outputs": [
        {
          "output_type": "execute_result",
          "data": {
            "text/plain": [
              "0"
            ]
          },
          "metadata": {},
          "execution_count": 36
        }
      ]
    },
    {
      "cell_type": "markdown",
      "source": [
        "Отобразите значения столбца \"Имя\" в верхнем регистре."
      ],
      "metadata": {
        "id": "j9nWXgMoonH0"
      }
    },
    {
      "cell_type": "code",
      "source": [
        "df['Имя'].str.upper()"
      ],
      "metadata": {
        "colab": {
          "base_uri": "https://localhost:8080/"
        },
        "id": "0KwBm5zToog4",
        "outputId": "3ef82e3c-51a5-4f9a-8072-b58e596398ad"
      },
      "execution_count": null,
      "outputs": [
        {
          "output_type": "execute_result",
          "data": {
            "text/plain": [
              "0       АННА\n",
              "1      БОРИС\n",
              "2       КАТЯ\n",
              "3    ДМИТРИЙ\n",
              "Name: Имя, dtype: object"
            ]
          },
          "metadata": {},
          "execution_count": 37
        }
      ]
    },
    {
      "cell_type": "markdown",
      "source": [
        "Удалите лишние пробелы в определенном столбце."
      ],
      "metadata": {
        "id": "f1fj2S57qABD"
      }
    },
    {
      "cell_type": "code",
      "source": [
        "import pandas as pd\n",
        "\n",
        "# Создание фрейма данных\n",
        "data = {'Имя': ['  Анна  ', 'Борис', '   Катя   ', '  Дмитрий  '],\n",
        "        'Возраст': [25, 28, 30, 32]}\n",
        "df = pd.DataFrame(data)\n",
        "\n",
        "# Удаление лишних пробелов в столбце \"Имя\"\n",
        "df['Имя'] = df['Имя'].str.strip()\n",
        "\n",
        "# Вывод фрейма данных с удаленными пробелами\n",
        "print(df)"
      ],
      "metadata": {
        "colab": {
          "base_uri": "https://localhost:8080/"
        },
        "id": "TNob_rSrqAv-",
        "outputId": "43d5e4a9-2b2a-4637-af65-13c4ef5dce12"
      },
      "execution_count": null,
      "outputs": [
        {
          "output_type": "stream",
          "name": "stdout",
          "text": [
            "       Имя  Возраст\n",
            "0     Анна       25\n",
            "1    Борис       28\n",
            "2     Катя       30\n",
            "3  Дмитрий       32\n"
          ]
        }
      ]
    },
    {
      "cell_type": "markdown",
      "source": [
        "Измените формат даты в определенном столбце."
      ],
      "metadata": {
        "id": "ij_tKukIqFlF"
      }
    },
    {
      "cell_type": "code",
      "source": [
        "import pandas as pd\n",
        "\n",
        "# Создание фрейма данных\n",
        "data = {'Имя': ['Анна', 'Борис', 'Катя'],\n",
        "        'Дата': ['2023-10-22', '2023-10-23', '2023-10-24']}\n",
        "df = pd.DataFrame(data)\n",
        "\n",
        "# Изменение формата даты в столбце \"Дата\"\n",
        "df['Дата'] = pd.to_datetime(df['Дата']).dt.strftime('%d.%m.%Y')\n",
        "\n",
        "# Вывод фрейма данных с измененным форматом даты\n",
        "print(df)"
      ],
      "metadata": {
        "colab": {
          "base_uri": "https://localhost:8080/"
        },
        "id": "1Pr2EeiZqLym",
        "outputId": "6b5d36f6-7082-46cb-b0b5-e9adeee834dd"
      },
      "execution_count": null,
      "outputs": [
        {
          "output_type": "stream",
          "name": "stdout",
          "text": [
            "     Имя        Дата\n",
            "0   Анна  22.10.2023\n",
            "1  Борис  23.10.2023\n",
            "2   Катя  24.10.2023\n"
          ]
        }
      ]
    },
    {
      "cell_type": "markdown",
      "source": [
        "Удалите знаки препинания в определенном столбце."
      ],
      "metadata": {
        "id": "eM7AXEvPqQt6"
      }
    },
    {
      "cell_type": "code",
      "source": [
        "import pandas as pd\n",
        "import re\n",
        "\n",
        "# Создание фрейма данных\n",
        "data = {'Имя': ['Анна', 'Борис', 'Катя'],\n",
        "        'Текст': ['Привет, как дела?', 'Это-то место!', 'Вопрос: когда?']}\n",
        "df = pd.DataFrame(data)\n",
        "\n",
        "# Удаление знаков препинания в столбце \"Текст\"\n",
        "df['Текст'] = df['Текст'].apply(lambda x: re.sub(r'[^\\w\\s]', '', x))\n",
        "\n",
        "# Вывод фрейма данных с удаленными знаками препинания\n",
        "print(df)\n"
      ],
      "metadata": {
        "colab": {
          "base_uri": "https://localhost:8080/"
        },
        "id": "259iXECnqVE2",
        "outputId": "58e82165-d9ee-49dd-cde7-d9589095d9a5"
      },
      "execution_count": null,
      "outputs": [
        {
          "output_type": "stream",
          "name": "stdout",
          "text": [
            "     Имя            Текст\n",
            "0   Анна  Привет как дела\n",
            "1  Борис      Этото место\n",
            "2   Катя     Вопрос когда\n"
          ]
        }
      ]
    },
    {
      "cell_type": "markdown",
      "source": [
        "В этом примере мы используем метод apply() для применения функции lambda к каждой ячейке столбца \"Текст\". Внутри функции lambda мы используем модуль re и регулярное выражение [^\\w\\s], которое соответствует любому символу, не являющемуся буквой, цифрой или пробелом. Мы заменяем найденные знаки препинания на пустую строку.\n",
        "\n",
        "После выполнения кода, знаки препинания в столбце \"Текст\" будут удалены."
      ],
      "metadata": {
        "id": "NR30tIzwqjvq"
      }
    },
    {
      "cell_type": "markdown",
      "source": [
        "Извлеките URL-адреса из определенного столбца.\n",
        "\n",
        "Чтобы извлечь URL-адреса из определенного столбца, можно использовать регулярное выражение и метод str.extract() или str.findall(). Вот пример кода для извлечения URL-адресов из столбца \"Текст\":"
      ],
      "metadata": {
        "id": "4yQAYkLHqpjl"
      }
    },
    {
      "cell_type": "code",
      "source": [
        "import pandas as pd\n",
        "import re\n",
        "\n",
        "# Создание фрейма данных\n",
        "data = {'Имя': ['Анна', 'Борис', 'Катя'],\n",
        "        'Текст': ['Посетите мой сайт: www.example.com', 'Здесь есть ссылка: http://example.com', 'Нет ссылки']}\n",
        "df = pd.DataFrame(data)\n",
        "\n",
        "# Извлечение URL-адресов из столбца \"Текст\"\n",
        "df['URL'] = df['Текст'].str.extract(r'(https?://\\S+)')\n",
        "\n",
        "# Вывод фрейма данных с извлеченными URL-адресами\n",
        "print(df)\n"
      ],
      "metadata": {
        "colab": {
          "base_uri": "https://localhost:8080/"
        },
        "id": "0WxRm8Uiq26y",
        "outputId": "ceeb6539-c4c1-4df3-9423-b0bc369b7480"
      },
      "execution_count": null,
      "outputs": [
        {
          "output_type": "stream",
          "name": "stdout",
          "text": [
            "     Имя                                  Текст                 URL\n",
            "0   Анна     Посетите мой сайт: www.example.com                 NaN\n",
            "1  Борис  Здесь есть ссылка: http://example.com  http://example.com\n",
            "2   Катя                             Нет ссылки                 NaN\n"
          ]
        }
      ]
    },
    {
      "cell_type": "markdown",
      "source": [
        "В этом примере мы используем метод str.extract() и регулярное выражение (https?://\\S+), которое соответствует строке, начинающейся с \"http://\" или \"https://\" и содержащей любые непробельные символы. Извлеченные URL-адреса сохраняются в новом столбце \"URL\".\n"
      ],
      "metadata": {
        "id": "aQWUD5X8rHlT"
      }
    },
    {
      "cell_type": "markdown",
      "source": [
        "Разделите один столбец на несколько на основе разделителя.\n",
        "\n",
        "\n",
        "Чтобы разделить один столбец на несколько на основе разделителя, можно использовать метод str.split(). Вот пример кода для разделения столбца \"ФИО\" на отдельные столбцы \"Фамилия\", \"Имя\" и \"Отчество\" на основе разделителя пробела:\n"
      ],
      "metadata": {
        "id": "w87G2WDuq3Ga"
      }
    },
    {
      "cell_type": "code",
      "source": [
        "import pandas as pd\n",
        "\n",
        "# Создание фрейма данных\n",
        "data = {'ФИО': ['Иванов Иван Иванович', 'Петров Петр Петрович', 'Сидоров Сидор Сидорович']}\n",
        "df = pd.DataFrame(data)\n",
        "\n",
        "# Разделение столбца \"ФИО\" на отдельные столбцы\n",
        "df[['Фамилия', 'Имя', 'Отчество']] = df['ФИО'].str.split(' ', expand=True)\n",
        "\n",
        "# Вывод фрейма данных с разделенными столбцами\n",
        "print(df)\n"
      ],
      "metadata": {
        "colab": {
          "base_uri": "https://localhost:8080/"
        },
        "id": "Eg1I22xSq5AW",
        "outputId": "8cfee47b-453f-4f73-cb0e-a33fb9943cc2"
      },
      "execution_count": null,
      "outputs": [
        {
          "output_type": "stream",
          "name": "stdout",
          "text": [
            "                       ФИО  Фамилия    Имя   Отчество\n",
            "0     Иванов Иван Иванович   Иванов   Иван   Иванович\n",
            "1     Петров Петр Петрович   Петров   Петр   Петрович\n",
            "2  Сидоров Сидор Сидорович  Сидоров  Сидор  Сидорович\n"
          ]
        }
      ]
    },
    {
      "cell_type": "markdown",
      "source": [
        "Объедините несколько столбцов в один.\n",
        "\n",
        "Чтобы объединить несколько столбцов в один, можно использовать метод str.cat() или операцию конкатенации (+). Вот пример кода для объединения столбцов \"Имя\" и \"Фамилия\" в новый столбец \"Полное имя\":\n",
        "\n"
      ],
      "metadata": {
        "id": "o7eow5q6q5J1"
      }
    },
    {
      "cell_type": "code",
      "source": [
        "import pandas as pd\n",
        "\n",
        "# Создание фрейма данных\n",
        "data = {'Имя': ['Анна', 'Борис', 'Катя'],\n",
        "        'Фамилия': ['Иванов', 'Петров', 'Сидоров']}\n",
        "df = pd.DataFrame(data)\n",
        "\n",
        "# Объединение столбцов \"Имя\" и \"Фамилия\" в новый столбец\n",
        "df['Полное имя'] = df['Имя'] + ' ' + df['Фамилия']\n",
        "\n",
        "# Вывод фрейма данных с объединенными столбцами\n",
        "print(df)\n"
      ],
      "metadata": {
        "colab": {
          "base_uri": "https://localhost:8080/"
        },
        "id": "0KvjG0ckq7Ab",
        "outputId": "3285e1a3-cd12-4af5-dbe9-956718c10cec"
      },
      "execution_count": null,
      "outputs": [
        {
          "output_type": "stream",
          "name": "stdout",
          "text": [
            "     Имя  Фамилия    Полное имя\n",
            "0   Анна   Иванов   Анна Иванов\n",
            "1  Борис   Петров  Борис Петров\n",
            "2   Катя  Сидоров  Катя Сидоров\n"
          ]
        }
      ]
    },
    {
      "cell_type": "markdown",
      "source": [
        "Найдите выбросы в определенном столбце и удалите их.\n",
        "\n",
        "Чтобы найти выбросы в определенном столбце и удалить их, можно использовать статистические методы или применить фильтры на основе условий. Вот пример кода для нахождения и удаления выбросов в столбце \"Зарплата\":"
      ],
      "metadata": {
        "id": "CcbhTqGBq7Lq"
      }
    },
    {
      "cell_type": "code",
      "source": [
        "import pandas as pd\n",
        "\n",
        "# Создание фрейма данных\n",
        "data = {'Имя': ['Анна', 'Борис', 'Катя', 'Дмитрий'],\n",
        "        'Зарплата': [50000, 60000, 80000, 1500000]}\n",
        "df = pd.DataFrame(data)\n",
        "\n",
        "# Нахождение выбросов в столбце \"Зарплата\"\n",
        "Q1 = df['Зарплата'].quantile(0.25)\n",
        "Q3 = df['Зарплата'].quantile(0.75)\n",
        "IQR = Q3 - Q1\n",
        "lower_bound = Q1 - 1.5 * IQR\n",
        "upper_bound = Q3 + 1.5 * IQR\n",
        "\n",
        "# Удаление выбросов в столбце \"Зарплата\"\n",
        "df = df[(df['Зарплата'] >= lower_bound) & (df['Зарплата'] <= upper_bound)]\n",
        "\n",
        "# Вывод фрейма данных без выбросов\n",
        "print(df)\n"
      ],
      "metadata": {
        "colab": {
          "base_uri": "https://localhost:8080/"
        },
        "id": "bVuibSPdrizK",
        "outputId": "eecbcf9c-4225-4a53-8656-d2cbcad1c949"
      },
      "execution_count": null,
      "outputs": [
        {
          "output_type": "stream",
          "name": "stdout",
          "text": [
            "     Имя  Зарплата\n",
            "0   Анна     50000\n",
            "1  Борис     60000\n",
            "2   Катя     80000\n"
          ]
        }
      ]
    },
    {
      "cell_type": "markdown",
      "source": [
        "В этом примере мы используем межквартильный размах (IQR) для определения нижней и верхней границы выбросов. Затем мы фильтруем фрейм данных, оставляя только строки, где значение столбца \"Зарплата\" находится в пределах этих границ.\n",
        "\n",
        "После выполнения кода, выбросы в столбце \"Зарплата\" будут удалены, и останется только фрейм данных без выбросов."
      ],
      "metadata": {
        "id": "LAOJnSeHrt4A"
      }
    },
    {
      "cell_type": "markdown",
      "source": [
        "Нормализуйте значения в определенном столбце.\n",
        "\n",
        "Чтобы нормализовать значения в определенном столбце, можно использовать метод MinMaxScaler из модуля sklearn.preprocessing. Вот пример кода для нормализации значений в столбце \"Значение\":"
      ],
      "metadata": {
        "id": "y3eYH0h_r7BA"
      }
    },
    {
      "cell_type": "code",
      "source": [
        "import pandas as pd\n",
        "from sklearn.preprocessing import MinMaxScaler\n",
        "\n",
        "# Создание фрейма данных\n",
        "data = {'Значение': [10, 20, 30, 40, 50]}\n",
        "df = pd.DataFrame(data)\n",
        "\n",
        "# Нормализация значений в столбце \"Значение\"\n",
        "scaler = MinMaxScaler()\n",
        "df['Нормализованное значение'] = scaler.fit_transform(df[['Значение']])\n",
        "\n",
        "# Вывод фрейма данных с нормализованными значениями\n",
        "print(df)\n"
      ],
      "metadata": {
        "colab": {
          "base_uri": "https://localhost:8080/"
        },
        "id": "Sv6Vr_lxr8Y7",
        "outputId": "49338c1b-cd85-405a-a416-6122990cd665"
      },
      "execution_count": null,
      "outputs": [
        {
          "output_type": "stream",
          "name": "stdout",
          "text": [
            "   Значение  Нормализованное значение\n",
            "0        10                      0.00\n",
            "1        20                      0.25\n",
            "2        30                      0.50\n",
            "3        40                      0.75\n",
            "4        50                      1.00\n"
          ]
        }
      ]
    },
    {
      "cell_type": "markdown",
      "source": [
        "В этом примере мы создаем экземпляр MinMaxScaler и применяем его к столбцу \"Значение\" с помощью метода fit_transform(). Нормализованные значения сохраняются в новом столбце \"Нормализованное значение\"."
      ],
      "metadata": {
        "id": "op5eIpaAsRIE"
      }
    },
    {
      "cell_type": "markdown",
      "source": [
        "Стандартизуйте значения в определенном столбце.\n",
        "\n",
        "Чтобы стандартизировать значения в определенном столбце, можно использовать метод StandardScaler из модуля sklearn.preprocessing. Вот пример кода для стандартизации значений в столбце \"Значение\":"
      ],
      "metadata": {
        "id": "vGMS-N43r8j_"
      }
    },
    {
      "cell_type": "code",
      "source": [
        "import pandas as pd\n",
        "from sklearn.preprocessing import StandardScaler\n",
        "\n",
        "# Создание фрейма данных\n",
        "data = {'Значение': [10, 20, 30, 40, 50]}\n",
        "df = pd.DataFrame(data)\n",
        "\n",
        "# Стандартизация значений в столбце \"Значение\"\n",
        "scaler = StandardScaler()\n",
        "df['Стандартизованное значение'] = scaler.fit_transform(df[['Значение']])\n",
        "\n",
        "# Вывод фрейма данных со стандартизованными значениями\n",
        "print(df)\n"
      ],
      "metadata": {
        "colab": {
          "base_uri": "https://localhost:8080/"
        },
        "id": "QTzkLHk-r-B6",
        "outputId": "71e1ab8a-c27e-413d-f43f-c8c4d02d5906"
      },
      "execution_count": null,
      "outputs": [
        {
          "output_type": "stream",
          "name": "stdout",
          "text": [
            "   Значение  Стандартизованное значение\n",
            "0        10                   -1.414214\n",
            "1        20                   -0.707107\n",
            "2        30                    0.000000\n",
            "3        40                    0.707107\n",
            "4        50                    1.414214\n"
          ]
        }
      ]
    },
    {
      "cell_type": "markdown",
      "source": [
        "В этом примере мы создаем экземпляр StandardScaler и применяем его к столбцу \"Значение\" с помощью метода fit_transform(). Стандартизованные значения сохраняются в новом столбце \"Стандартизованное значение\"."
      ],
      "metadata": {
        "id": "CXoKU3snsaax"
      }
    },
    {
      "cell_type": "markdown",
      "source": [
        "Измените масштаб значений в определенном столбце на заданный диапазон.\n",
        "\n",
        "Чтобы изменить масштаб значений в определенном столбце на заданный диапазон, можно использовать метод MinMaxScaler из модуля sklearn.preprocessing. Вот пример кода для изменения масштаба значений в столбце \"Значение\" на диапазон от 0 до 100:"
      ],
      "metadata": {
        "id": "kHpFsM63r-Ms"
      }
    },
    {
      "cell_type": "code",
      "source": [
        "import pandas as pd\n",
        "from sklearn.preprocessing import MinMaxScaler\n",
        "\n",
        "# Создание фрейма данных\n",
        "data = {'Значение': [10, 20, 30, 40, 50]}\n",
        "df = pd.DataFrame(data)\n",
        "\n",
        "# Изменение масштаба значений в столбце \"Значение\" на диапазон от 0 до 100\n",
        "scaler = MinMaxScaler(feature_range=(0, 100))\n",
        "df['Измененный масштаб'] = scaler.fit_transform(df[['Значение']])\n",
        "\n",
        "# Вывод фрейма данных с измененным масштабом значений\n",
        "print(df)\n"
      ],
      "metadata": {
        "colab": {
          "base_uri": "https://localhost:8080/"
        },
        "id": "aRVtLINFr_Kz",
        "outputId": "391a97c0-7b7b-49a7-d2f8-f5384a238837"
      },
      "execution_count": null,
      "outputs": [
        {
          "output_type": "stream",
          "name": "stdout",
          "text": [
            "   Значение  Измененный масштаб\n",
            "0        10                 0.0\n",
            "1        20                25.0\n",
            "2        30                50.0\n",
            "3        40                75.0\n",
            "4        50               100.0\n"
          ]
        }
      ]
    },
    {
      "cell_type": "markdown",
      "source": [
        "В этом примере мы создаем экземпляр MinMaxScaler и указываем диапазон от 0 до 100 с помощью параметра feature_range. Затем мы применяем его к столбцу \"Значение\" с помощью метода fit_transform(). Значения с измененным масштабом сохраняются в новом столбце \"Измененный масштаб\"."
      ],
      "metadata": {
        "id": "Z6TivkdtslOg"
      }
    },
    {
      "cell_type": "markdown",
      "source": [
        "Посчитайте корреляцию между двумя столбцами.\n",
        "\n",
        "Чтобы посчитать корреляцию между двумя столбцами, можно использовать метод corr() на фрейме данных. Вот пример кода для подсчета корреляции между столбцами \"Столбец1\" и \"Столбец2\":\n",
        "python\n"
      ],
      "metadata": {
        "id": "ZGmqNOnur_2S"
      }
    },
    {
      "cell_type": "code",
      "source": [
        "import pandas as pd\n",
        "\n",
        "# Создание фрейма данных\n",
        "data = {'Столбец1': [1, 2, 3, 4, 5],\n",
        "        'Столбец2': [5, 4, 3, 2, 1]}\n",
        "df = pd.DataFrame(data)\n",
        "\n",
        "# Подсчет корреляции между столбцами \"Столбец1\" и \"Столбец2\"\n",
        "correlation = df['Столбец1'].corr(df['Столбец2'])\n",
        "\n",
        "# Вывод значения корреляции\n",
        "print(\"Корреляция: \", correlation)\n"
      ],
      "metadata": {
        "colab": {
          "base_uri": "https://localhost:8080/"
        },
        "id": "3sAUMV0CsASN",
        "outputId": "65795110-08da-4446-94fd-d6c330817734"
      },
      "execution_count": null,
      "outputs": [
        {
          "output_type": "stream",
          "name": "stdout",
          "text": [
            "Корреляция:  -0.9999999999999999\n"
          ]
        }
      ]
    },
    {
      "cell_type": "markdown",
      "source": [
        "В этом примере мы используем метод corr() на фрейме данных и передаем названия столбцов \"Столбец1\" и \"Столбец2\" в качестве аргументов. Результатом будет значение корреляции между этими двумя столбцами."
      ],
      "metadata": {
        "id": "Ln0Uqe2Msvr-"
      }
    },
    {
      "cell_type": "markdown",
      "source": [
        "Чтобы сохранить фрейм данных в файл, вы можете использовать метод to_csv() или to_excel() в Pandas. Вот примеры:\n",
        "\n",
        "Сохранение в CSV файл:\n"
      ],
      "metadata": {
        "id": "p6a15FFXlVfb"
      }
    },
    {
      "cell_type": "code",
      "source": [
        "import pandas as pd\n",
        "\n",
        "# Создание фрейма данных\n",
        "data = {'Имя': ['Анна', 'Борис'],\n",
        "        'Возраст': [25, 32]}\n",
        "df = pd.DataFrame(data)\n",
        "\n",
        "# Сохранение в CSV файл\n",
        "df.to_csv('data.csv', index=False)\n"
      ],
      "metadata": {
        "id": "EQ2U0g-5lWxH"
      },
      "execution_count": null,
      "outputs": []
    },
    {
      "cell_type": "markdown",
      "source": [
        "Сохранение в Excel файл:"
      ],
      "metadata": {
        "id": "wbksT-tOlbX8"
      }
    },
    {
      "cell_type": "code",
      "source": [
        "import pandas as pd\n",
        "\n",
        "# Создание фрейма данных\n",
        "data = {'Имя': ['Анна', 'Борис'],\n",
        "        'Возраст': [25, 32]}\n",
        "df = pd.DataFrame(data)\n",
        "\n",
        "# Сохранение в Excel файл\n",
        "df.to_excel('data.xlsx', index=False)\n"
      ],
      "metadata": {
        "id": "o8i5DgqbldGW"
      },
      "execution_count": null,
      "outputs": []
    },
    {
      "cell_type": "markdown",
      "source": [
        "В обоих примерах мы создаем фрейм данных df и сохраняем его в файл с помощью методов to_csv() и to_excel(). Обратите внимание, что в обоих случаях мы указываем параметр index=False, чтобы не сохранять индексы строк в файл.\n",
        "\n",
        "Чтобы прочитать данные из файла в фрейм данных, вы можете использовать методы read_csv() или read_excel(). Вот примеры:\n",
        "\n",
        "Загрузка из CSV файла:"
      ],
      "metadata": {
        "id": "U4vs5_vdlhYY"
      }
    },
    {
      "cell_type": "code",
      "source": [
        "import pandas as pd\n",
        "\n",
        "# Загрузка из CSV файла\n",
        "df = pd.read_csv('data.csv')\n",
        "print(df)"
      ],
      "metadata": {
        "colab": {
          "base_uri": "https://localhost:8080/"
        },
        "id": "ZYLJrfK-liAJ",
        "outputId": "96bf1508-dd92-4d77-aa55-137ed025bb03"
      },
      "execution_count": null,
      "outputs": [
        {
          "output_type": "stream",
          "name": "stdout",
          "text": [
            "     Имя  Возраст\n",
            "0   Анна       25\n",
            "1  Борис       32\n"
          ]
        }
      ]
    },
    {
      "cell_type": "markdown",
      "source": [
        "Загрузка из Excel файла:"
      ],
      "metadata": {
        "id": "xreUj_TVlqEa"
      }
    },
    {
      "cell_type": "code",
      "source": [
        "import pandas as pd\n",
        "\n",
        "# Загрузка из Excel файла\n",
        "df = pd.read_excel('data.xlsx')\n",
        "print(df)"
      ],
      "metadata": {
        "colab": {
          "base_uri": "https://localhost:8080/"
        },
        "id": "Btr0eWkzlquK",
        "outputId": "2253a915-0069-423d-d1d5-6f68f6ade341"
      },
      "execution_count": null,
      "outputs": [
        {
          "output_type": "stream",
          "name": "stdout",
          "text": [
            "     Имя  Возраст\n",
            "0   Анна       25\n",
            "1  Борис       32\n"
          ]
        }
      ]
    },
    {
      "cell_type": "markdown",
      "source": [],
      "metadata": {
        "id": "pcJIHTJmlvLu"
      }
    }
  ]
}