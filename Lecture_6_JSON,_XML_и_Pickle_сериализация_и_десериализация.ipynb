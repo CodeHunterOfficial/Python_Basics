{
  "nbformat": 4,
  "nbformat_minor": 0,
  "metadata": {
    "colab": {
      "provenance": [],
      "authorship_tag": "ABX9TyPshcGK5SUMe82GA731h78q",
      "include_colab_link": true
    },
    "kernelspec": {
      "name": "python3",
      "display_name": "Python 3"
    },
    "language_info": {
      "name": "python"
    }
  },
  "cells": [
    {
      "cell_type": "markdown",
      "metadata": {
        "id": "view-in-github",
        "colab_type": "text"
      },
      "source": [
        "<a href=\"https://colab.research.google.com/github/CodeHunterOfficial/Python_Basics/blob/main/Lecture_6_JSON%2C_XML_%D0%B8_Pickle_%D1%81%D0%B5%D1%80%D0%B8%D0%B0%D0%BB%D0%B8%D0%B7%D0%B0%D1%86%D0%B8%D1%8F_%D0%B8_%D0%B4%D0%B5%D1%81%D0%B5%D1%80%D0%B8%D0%B0%D0%BB%D0%B8%D0%B7%D0%B0%D1%86%D0%B8%D1%8F.ipynb\" target=\"_parent\"><img src=\"https://colab.research.google.com/assets/colab-badge.svg\" alt=\"Open In Colab\"/></a>"
      ]
    },
    {
      "cell_type": "markdown",
      "source": [
        "### Что такое JSON?\n",
        "\n",
        "JSON, что является сокращенной аббревиатурой JavaScript Object Notation, — это удобный формат для обмена данными. Он прост для чтения и записи людьми, а также для машинного анализа и генерации. Это делает его одним из самых популярных форматов данных. В частности, JSON стал настоящим веб-языком, который широко используется для передачи данных между серверами и веб-приложениями через API.  \n",
        "\n",
        "Вот пример JSON:"
      ],
      "metadata": {
        "id": "zcLvy5tZY5ne"
      }
    },
    {
      "cell_type": "markdown",
      "source": [
        "\n",
        "\n",
        "```\n",
        "{\n",
        "    \"kwarg1\": \"value_1\",\n",
        "    \"kwarg2\": \"value_2\",\n",
        "    \"kwarg3\": \"value_3\",\n",
        "    \"additional\": [\"value_4\", \"value_5\", \"value_6\", ]\n",
        "}\n",
        "```\n",
        "\n"
      ],
      "metadata": {
        "id": "W0dQ76zrY9J9"
      }
    },
    {
      "cell_type": "markdown",
      "source": [
        "## Сериализация и десериализация\n",
        "В Python есть множество библиотек, чтобы работать с JSON, но мы рассмотрим встроенную библиотеку JSON Python. Она позволяет приводить любые структуры данных к JSON-объекту — вплоть до пользовательских классов. А из него получать совместимую для работы в Python сущность — объект языка."
      ],
      "metadata": {
        "id": "LjQZjkubZPZK"
      }
    },
    {
      "cell_type": "markdown",
      "source": [
        "Упаковка объектов в байтовую последовательность называется сериализацией. А распаковка байтов в объекты языка программирования, приведение последовательности назад к типам и структурам, — десериализацией.\n",
        "Python-р"
      ],
      "metadata": {
        "id": "AyzIrH_oZS8b"
      }
    },
    {
      "cell_type": "markdown",
      "source": [
        "В байты данные необходимо переводить, чтобы отправлять их по сети или локально другому приложению, так как иной формат передать невозможно. Вот так преобразовывают данные из объектов Python в JSON и обратно:"
      ],
      "metadata": {
        "id": "9HQvW7pnZXK0"
      }
    },
    {
      "cell_type": "code",
      "source": [
        "# Импортируем библиотеку\n",
        "import json\n",
        "\n",
        "# Объявляем переменные\n",
        "string = \"Some test string\"\n",
        "integer = 211\n",
        "array = [1, 2, 3, 4, 5]\n",
        "\n",
        "# Создаем словарь\n",
        "mydict = {\"title\": string, \"code\": integer, \"data\": array}\n",
        "\n",
        "# Сериализуем его в JSON-структуру, как строку\n",
        "x = json.dumps(mydict)\n",
        "print(x)\n",
        "\n",
        "\n",
        "# Проводим десериализацию JSON-объекта\n",
        "y = json.loads(x)\n",
        "print(y)\n",
        "\n",
        "print(y[\"title\"])"
      ],
      "metadata": {
        "colab": {
          "base_uri": "https://localhost:8080/"
        },
        "id": "18eYSzQYZbWM",
        "outputId": "7e11f260-adb8-4250-e9e9-c89cb9e47032"
      },
      "execution_count": 3,
      "outputs": [
        {
          "output_type": "stream",
          "name": "stdout",
          "text": [
            "{\"title\": \"Some test string\", \"code\": 211, \"data\": [1, 2, 3, 4, 5]}\n",
            "{'title': 'Some test string', 'code': 211, 'data': [1, 2, 3, 4, 5]}\n",
            "Some test string\n"
          ]
        }
      ]
    },
    {
      "cell_type": "markdown",
      "source": [
        "### Функции\n",
        "\n",
        "Dumps позволяет создать JSON-строку из переданного в нее объекта. Loads — преобразовать строку назад в объекты языка.\n",
        "\n",
        "Dump и load используют, чтобы сохранить результат в файл или воссоздать объект. Работают они схожим образом, но требуют передачи специального объекта для работы с файлом — filehandler."
      ],
      "metadata": {
        "id": "SuYixLDtZyf1"
      }
    },
    {
      "cell_type": "code",
      "source": [
        "import json\n",
        "\n",
        "# Создаем filehandler с помощью контекстного менеджера\n",
        "with open(\"data.json\", \"w\") as fh:\n",
        "    json.dump([1, 2, 3, 4, 5], fh) # записываем структуру в файл\n",
        "\n",
        "# Открываем тот же файл, но уже на чтение\n",
        "with open(\"data.json\", \"r\") as fh:\n",
        "    json_res=json.load(fh) # загружаем структуру из файла\n",
        "    print(json_res)"
      ],
      "metadata": {
        "colab": {
          "base_uri": "https://localhost:8080/"
        },
        "id": "Bbw1m1OwZ2n9",
        "outputId": "0830c23b-6df5-44bc-b144-ba62a84853e3"
      },
      "execution_count": 7,
      "outputs": [
        {
          "output_type": "stream",
          "name": "stdout",
          "text": [
            "[1, 2, 3, 4, 5]\n"
          ]
        }
      ]
    },
    {
      "cell_type": "markdown",
      "source": [
        "## Примеры"
      ],
      "metadata": {
        "id": "E0uoIwuzacs_"
      }
    },
    {
      "cell_type": "markdown",
      "source": [
        "**Пример 1:** Запись и чтение строки:"
      ],
      "metadata": {
        "id": "_LYw9E3tbZRP"
      }
    },
    {
      "cell_type": "code",
      "source": [
        "import json\n",
        "\n",
        "# Запись строки в JSON-файл\n",
        "with open(\"string_data.json\", \"w\") as file:\n",
        "    json.dump(\"Hello, world!\", file)\n",
        "\n",
        "# Чтение строки из JSON-файла\n",
        "with open(\"string_data.json\", \"r\") as file:\n",
        "    data = json.load(file)\n",
        "    print(data)  # Вывод: Hello, world!"
      ],
      "metadata": {
        "colab": {
          "base_uri": "https://localhost:8080/"
        },
        "id": "pvHF627Gbarl",
        "outputId": "0f60c32e-0af2-42bb-c292-423cee937667"
      },
      "execution_count": 8,
      "outputs": [
        {
          "output_type": "stream",
          "name": "stdout",
          "text": [
            "Hello, world!\n"
          ]
        }
      ]
    },
    {
      "cell_type": "markdown",
      "source": [
        "**Пример 2:** Запись и чтение кортежа:"
      ],
      "metadata": {
        "id": "-da1egCFbdF4"
      }
    },
    {
      "cell_type": "code",
      "source": [
        "import json\n",
        "\n",
        "# Запись кортежа в JSON-файл\n",
        "my_tuple = (1, 2, 3)\n",
        "with open(\"tuple_data.json\", \"w\") as file:\n",
        "    json.dump(my_tuple, file)\n",
        "\n",
        "# Чтение кортежа из JSON-файла\n",
        "with open(\"tuple_data.json\", \"r\") as file:\n",
        "    data = json.load(file)\n",
        "    print(data)  # Вывод: [1, 2, 3]"
      ],
      "metadata": {
        "colab": {
          "base_uri": "https://localhost:8080/"
        },
        "id": "cvFOQLcHbh2d",
        "outputId": "23b42a51-9a5f-4320-ebc1-cf878af73a42"
      },
      "execution_count": 9,
      "outputs": [
        {
          "output_type": "stream",
          "name": "stdout",
          "text": [
            "[1, 2, 3]\n"
          ]
        }
      ]
    },
    {
      "cell_type": "markdown",
      "source": [
        "**Пример 3:** Запись и чтение словаря (dictionary):"
      ],
      "metadata": {
        "id": "V4_WVCnDbky_"
      }
    },
    {
      "cell_type": "code",
      "source": [
        "import json\n",
        "\n",
        "# Запись словаря в JSON-файл\n",
        "my_dict = {\"name\": \"Alice\", \"age\": 30}\n",
        "with open(\"dict_data.json\", \"w\") as file:\n",
        "    json.dump(my_dict, file)\n",
        "\n",
        "# Чтение словаря из JSON-файла\n",
        "with open(\"dict_data.json\", \"r\") as file:\n",
        "    data = json.load(file)\n",
        "    print(data)  # Вывод: {'name': 'Alice', 'age': 30}"
      ],
      "metadata": {
        "colab": {
          "base_uri": "https://localhost:8080/"
        },
        "id": "bdvzJXfLbo0K",
        "outputId": "c2ddd693-d3de-4956-90d1-5f14285a30b2"
      },
      "execution_count": 10,
      "outputs": [
        {
          "output_type": "stream",
          "name": "stdout",
          "text": [
            "{'name': 'Alice', 'age': 30}\n"
          ]
        }
      ]
    },
    {
      "cell_type": "markdown",
      "source": [
        "**Пример 4:** Запись и чтение списка (list):"
      ],
      "metadata": {
        "id": "LWUasaCJbrxj"
      }
    },
    {
      "cell_type": "code",
      "source": [
        "import json\n",
        "\n",
        "# Запись списка в JSON-файл\n",
        "my_list = [\"Alice\",\"Zukha\", \"Arina\", \"Karina\"]\n",
        "with open(\"list_data.json\", \"w\") as file:\n",
        "    json.dump(my_list, file)\n",
        "\n",
        "# Чтение списка из JSON-файла\n",
        "with open(\"list_data.json\", \"r\") as file:\n",
        "    data = json.load(file)\n",
        "    print(data)"
      ],
      "metadata": {
        "colab": {
          "base_uri": "https://localhost:8080/"
        },
        "id": "pz-ZgCefbv48",
        "outputId": "72f8505f-44ea-49da-eb29-e1bde6fde055"
      },
      "execution_count": 11,
      "outputs": [
        {
          "output_type": "stream",
          "name": "stdout",
          "text": [
            "['Alice', 'Zukha', 'Arina', 'Karina']\n"
          ]
        }
      ]
    },
    {
      "cell_type": "markdown",
      "source": [
        "**Пример 5:** Запись и чтение числа (integer):"
      ],
      "metadata": {
        "id": "h4YUClJOb6CB"
      }
    },
    {
      "cell_type": "code",
      "source": [
        "import json\n",
        "\n",
        "# Запись числа в JSON-файл\n",
        "my_number = 42\n",
        "with open(\"number_data.json\", \"w\") as file:\n",
        "    json.dump(my_number, file)\n",
        "\n",
        "# Чтение числа из JSON-файла\n",
        "with open(\"number_data.json\", \"r\") as file:\n",
        "    data = json.load(file)\n",
        "    print(data)  # Вывод: 42"
      ],
      "metadata": {
        "colab": {
          "base_uri": "https://localhost:8080/"
        },
        "id": "hP-7-PjBb_es",
        "outputId": "63d82565-430e-44cb-ea60-7ff36a9ed789"
      },
      "execution_count": 12,
      "outputs": [
        {
          "output_type": "stream",
          "name": "stdout",
          "text": [
            "42\n"
          ]
        }
      ]
    },
    {
      "cell_type": "markdown",
      "source": [
        "## Как работать с пользовательскими объектами\n",
        "Пользовательские классы не относятся к JSON-сериализуемым. Это значит, что просто применить к ним функции dumps, loads или dump и load не получится:"
      ],
      "metadata": {
        "id": "mk055AMScDCR"
      }
    },
    {
      "cell_type": "code",
      "source": [
        "import json\n",
        "\n",
        "class Test:\n",
        "    def __init__(self, title, body):\n",
        "        self.title = title\n",
        "        self.body = body\n",
        "\n",
        "t = Test(\"Some string\", \"Here is a bit more text, but still isn't enough\")\n",
        "\n",
        "# пытаемся сериализовать его в JSON, но...\n",
        "json.dumps(t)\n",
        "# получаем ошибку TypeError, что класс несериализуем"
      ],
      "metadata": {
        "colab": {
          "base_uri": "https://localhost:8080/",
          "height": 373
        },
        "id": "CbPjgEV3cHic",
        "outputId": "18ddd360-2396-45a5-d258-d7aef5c9760a"
      },
      "execution_count": 14,
      "outputs": [
        {
          "output_type": "error",
          "ename": "TypeError",
          "evalue": "ignored",
          "traceback": [
            "\u001b[0;31m---------------------------------------------------------------------------\u001b[0m",
            "\u001b[0;31mTypeError\u001b[0m                                 Traceback (most recent call last)",
            "\u001b[0;32m<ipython-input-14-16ee1a4af212>\u001b[0m in \u001b[0;36m<cell line: 11>\u001b[0;34m()\u001b[0m\n\u001b[1;32m      9\u001b[0m \u001b[0;34m\u001b[0m\u001b[0m\n\u001b[1;32m     10\u001b[0m \u001b[0;31m# пытаемся сериализовать его в JSON, но...\u001b[0m\u001b[0;34m\u001b[0m\u001b[0;34m\u001b[0m\u001b[0m\n\u001b[0;32m---> 11\u001b[0;31m \u001b[0mjson\u001b[0m\u001b[0;34m.\u001b[0m\u001b[0mdumps\u001b[0m\u001b[0;34m(\u001b[0m\u001b[0mt\u001b[0m\u001b[0;34m)\u001b[0m\u001b[0;34m\u001b[0m\u001b[0;34m\u001b[0m\u001b[0m\n\u001b[0m\u001b[1;32m     12\u001b[0m \u001b[0;31m# получаем ошибку TypeError, что класс несериализуем\u001b[0m\u001b[0;34m\u001b[0m\u001b[0;34m\u001b[0m\u001b[0m\n",
            "\u001b[0;32m/usr/lib/python3.10/json/__init__.py\u001b[0m in \u001b[0;36mdumps\u001b[0;34m(obj, skipkeys, ensure_ascii, check_circular, allow_nan, cls, indent, separators, default, sort_keys, **kw)\u001b[0m\n\u001b[1;32m    229\u001b[0m         \u001b[0mcls\u001b[0m \u001b[0;32mis\u001b[0m \u001b[0;32mNone\u001b[0m \u001b[0;32mand\u001b[0m \u001b[0mindent\u001b[0m \u001b[0;32mis\u001b[0m \u001b[0;32mNone\u001b[0m \u001b[0;32mand\u001b[0m \u001b[0mseparators\u001b[0m \u001b[0;32mis\u001b[0m \u001b[0;32mNone\u001b[0m \u001b[0;32mand\u001b[0m\u001b[0;34m\u001b[0m\u001b[0;34m\u001b[0m\u001b[0m\n\u001b[1;32m    230\u001b[0m         default is None and not sort_keys and not kw):\n\u001b[0;32m--> 231\u001b[0;31m         \u001b[0;32mreturn\u001b[0m \u001b[0m_default_encoder\u001b[0m\u001b[0;34m.\u001b[0m\u001b[0mencode\u001b[0m\u001b[0;34m(\u001b[0m\u001b[0mobj\u001b[0m\u001b[0;34m)\u001b[0m\u001b[0;34m\u001b[0m\u001b[0;34m\u001b[0m\u001b[0m\n\u001b[0m\u001b[1;32m    232\u001b[0m     \u001b[0;32mif\u001b[0m \u001b[0mcls\u001b[0m \u001b[0;32mis\u001b[0m \u001b[0;32mNone\u001b[0m\u001b[0;34m:\u001b[0m\u001b[0;34m\u001b[0m\u001b[0;34m\u001b[0m\u001b[0m\n\u001b[1;32m    233\u001b[0m         \u001b[0mcls\u001b[0m \u001b[0;34m=\u001b[0m \u001b[0mJSONEncoder\u001b[0m\u001b[0;34m\u001b[0m\u001b[0;34m\u001b[0m\u001b[0m\n",
            "\u001b[0;32m/usr/lib/python3.10/json/encoder.py\u001b[0m in \u001b[0;36mencode\u001b[0;34m(self, o)\u001b[0m\n\u001b[1;32m    197\u001b[0m         \u001b[0;31m# exceptions aren't as detailed.  The list call should be roughly\u001b[0m\u001b[0;34m\u001b[0m\u001b[0;34m\u001b[0m\u001b[0m\n\u001b[1;32m    198\u001b[0m         \u001b[0;31m# equivalent to the PySequence_Fast that ''.join() would do.\u001b[0m\u001b[0;34m\u001b[0m\u001b[0;34m\u001b[0m\u001b[0m\n\u001b[0;32m--> 199\u001b[0;31m         \u001b[0mchunks\u001b[0m \u001b[0;34m=\u001b[0m \u001b[0mself\u001b[0m\u001b[0;34m.\u001b[0m\u001b[0miterencode\u001b[0m\u001b[0;34m(\u001b[0m\u001b[0mo\u001b[0m\u001b[0;34m,\u001b[0m \u001b[0m_one_shot\u001b[0m\u001b[0;34m=\u001b[0m\u001b[0;32mTrue\u001b[0m\u001b[0;34m)\u001b[0m\u001b[0;34m\u001b[0m\u001b[0;34m\u001b[0m\u001b[0m\n\u001b[0m\u001b[1;32m    200\u001b[0m         \u001b[0;32mif\u001b[0m \u001b[0;32mnot\u001b[0m \u001b[0misinstance\u001b[0m\u001b[0;34m(\u001b[0m\u001b[0mchunks\u001b[0m\u001b[0;34m,\u001b[0m \u001b[0;34m(\u001b[0m\u001b[0mlist\u001b[0m\u001b[0;34m,\u001b[0m \u001b[0mtuple\u001b[0m\u001b[0;34m)\u001b[0m\u001b[0;34m)\u001b[0m\u001b[0;34m:\u001b[0m\u001b[0;34m\u001b[0m\u001b[0;34m\u001b[0m\u001b[0m\n\u001b[1;32m    201\u001b[0m             \u001b[0mchunks\u001b[0m \u001b[0;34m=\u001b[0m \u001b[0mlist\u001b[0m\u001b[0;34m(\u001b[0m\u001b[0mchunks\u001b[0m\u001b[0;34m)\u001b[0m\u001b[0;34m\u001b[0m\u001b[0;34m\u001b[0m\u001b[0m\n",
            "\u001b[0;32m/usr/lib/python3.10/json/encoder.py\u001b[0m in \u001b[0;36miterencode\u001b[0;34m(self, o, _one_shot)\u001b[0m\n\u001b[1;32m    255\u001b[0m                 \u001b[0mself\u001b[0m\u001b[0;34m.\u001b[0m\u001b[0mkey_separator\u001b[0m\u001b[0;34m,\u001b[0m \u001b[0mself\u001b[0m\u001b[0;34m.\u001b[0m\u001b[0mitem_separator\u001b[0m\u001b[0;34m,\u001b[0m \u001b[0mself\u001b[0m\u001b[0;34m.\u001b[0m\u001b[0msort_keys\u001b[0m\u001b[0;34m,\u001b[0m\u001b[0;34m\u001b[0m\u001b[0;34m\u001b[0m\u001b[0m\n\u001b[1;32m    256\u001b[0m                 self.skipkeys, _one_shot)\n\u001b[0;32m--> 257\u001b[0;31m         \u001b[0;32mreturn\u001b[0m \u001b[0m_iterencode\u001b[0m\u001b[0;34m(\u001b[0m\u001b[0mo\u001b[0m\u001b[0;34m,\u001b[0m \u001b[0;36m0\u001b[0m\u001b[0;34m)\u001b[0m\u001b[0;34m\u001b[0m\u001b[0;34m\u001b[0m\u001b[0m\n\u001b[0m\u001b[1;32m    258\u001b[0m \u001b[0;34m\u001b[0m\u001b[0m\n\u001b[1;32m    259\u001b[0m def _make_iterencode(markers, _default, _encoder, _indent, _floatstr,\n",
            "\u001b[0;32m/usr/lib/python3.10/json/encoder.py\u001b[0m in \u001b[0;36mdefault\u001b[0;34m(self, o)\u001b[0m\n\u001b[1;32m    177\u001b[0m \u001b[0;34m\u001b[0m\u001b[0m\n\u001b[1;32m    178\u001b[0m         \"\"\"\n\u001b[0;32m--> 179\u001b[0;31m         raise TypeError(f'Object of type {o.__class__.__name__} '\n\u001b[0m\u001b[1;32m    180\u001b[0m                         f'is not JSON serializable')\n\u001b[1;32m    181\u001b[0m \u001b[0;34m\u001b[0m\u001b[0m\n",
            "\u001b[0;31mTypeError\u001b[0m: Object of type Test is not JSON serializable"
          ]
        }
      ]
    },
    {
      "cell_type": "markdown",
      "source": [
        "Решить эту проблему можно тремя способами."
      ],
      "metadata": {
        "id": "P95McABIczUH"
      }
    },
    {
      "cell_type": "markdown",
      "source": [
        "### Написать функцию\n",
        "Чтобы сериализовать пользовательский объект в JSON-структуру данных, нужен аргумент default. Указывайте вызываемый объект, то есть функцию или статический метод.\n",
        "\n",
        "Чтобы получить аргументы класса с их значениями, нужна встроенная функция __dict__, потому что любой класс — это словарь со ссылками на значения по ключу.\n",
        "\n",
        "Чтобы сериализовать аргументы класса и их значения в JSON, напишите функцию:"
      ],
      "metadata": {
        "id": "FGWRKR0GdCCt"
      }
    },
    {
      "cell_type": "code",
      "source": [
        "import json\n",
        "\n",
        "class Test:\n",
        "    def __init__(self, title, body):\n",
        "        self.title = title\n",
        "        self.body = body\n",
        "\n",
        "t = Test(\"Some string\", \"Here is a bit more text, but still isn't enough\")\n",
        "\n",
        "# используем анонимную функцию (лямбду), которая\n",
        "# в качестве сериализуемых данных указывает полученный __dict__ объекта\n",
        "json.dumps(t, default=lambda x: x.__dict__)"
      ],
      "metadata": {
        "colab": {
          "base_uri": "https://localhost:8080/",
          "height": 35
        },
        "id": "Giz3Aa5BdE-Q",
        "outputId": "25797e80-6892-4f74-f87e-7c087e83fd68"
      },
      "execution_count": 17,
      "outputs": [
        {
          "output_type": "execute_result",
          "data": {
            "text/plain": [
              "'{\"title\": \"Some string\", \"body\": \"Here is a bit more text, but still isn\\'t enough\"}'"
            ],
            "application/vnd.google.colaboratory.intrinsic+json": {
              "type": "string"
            }
          },
          "metadata": {},
          "execution_count": 17
        }
      ]
    },
    {
      "cell_type": "markdown",
      "source": [
        "Но можно создать отдельную функцию и указать ее в качестве аргумента:"
      ],
      "metadata": {
        "id": "TiB7kb9ddijd"
      }
    },
    {
      "cell_type": "code",
      "source": [
        "import json\n",
        "\n",
        "class Test:\n",
        "    def __init__(self, title, body):\n",
        "        self.title = title\n",
        "        self.body = body\n",
        "\n",
        "t = Test(\"Some string\", \"Here is a bit more text, but still isn't enough\")\n",
        "\n",
        "\n",
        "def to_json(obj):\n",
        "     if isinstance(obj, Test):\n",
        "         result = obj.__dict__\n",
        "         result[\"className\"] = obj.__class__.__name__\n",
        "         return result\n",
        "\n",
        "json.dumps(t, default=to_json)"
      ],
      "metadata": {
        "colab": {
          "base_uri": "https://localhost:8080/",
          "height": 35
        },
        "id": "yOD9xk6ydjSH",
        "outputId": "4b951b85-9b54-42ad-96c6-de7de1c6ef93"
      },
      "execution_count": 18,
      "outputs": [
        {
          "output_type": "execute_result",
          "data": {
            "text/plain": [
              "'{\"title\": \"Some string\", \"body\": \"Here is a bit more text, but still isn\\'t enough\", \"className\": \"Test\"}'"
            ],
            "application/vnd.google.colaboratory.intrinsic+json": {
              "type": "string"
            }
          },
          "metadata": {},
          "execution_count": 18
        }
      ]
    },
    {
      "cell_type": "markdown",
      "source": [
        " Мы добавили название класса в получаемую структуру. Такой подход позволяет безошибочно понять: сущность какого класса нужно десериализовать в объект."
      ],
      "metadata": {
        "id": "cem1NQnMduan"
      }
    },
    {
      "cell_type": "markdown",
      "source": [
        "### Создать расширение классов\n",
        "Такого же результата добьетесь, если примените расширения специальных классов библиотеки:"
      ],
      "metadata": {
        "id": "1VhSFC3Udx5J"
      }
    },
    {
      "cell_type": "code",
      "source": [
        "import json\n",
        "\n",
        "class Test:\n",
        "    def __init__(self, title, body):\n",
        "        self.title = title\n",
        "        self.body = body\n",
        "\n",
        "class TestEncoder(json.JSONEncoder):\n",
        "     def default(self, o):\n",
        "         return {\"TITLE\": o.title, \"BODY\": o.body, \"CLASSNAME\": o.__class__.__name__}\n",
        "\n",
        "\n",
        "t = Test(\"Some string\", \"Here is a bit more text, but still isn't enough\")\n",
        "\n",
        "x = json.dumps(t, cls=TestEncoder)\n",
        "print(x)\n",
        "\n",
        "y = json.loads(x)\n",
        "print(y)\n",
        "print(y[\"TITLE\"])"
      ],
      "metadata": {
        "colab": {
          "base_uri": "https://localhost:8080/"
        },
        "id": "BXlXKL7id2t5",
        "outputId": "8cb578e1-ce54-4d7d-8116-29e7f7a1d8aa"
      },
      "execution_count": 20,
      "outputs": [
        {
          "output_type": "stream",
          "name": "stdout",
          "text": [
            "{\"TITLE\": \"Some string\", \"BODY\": \"Here is a bit more text, but still isn't enough\", \"CLASSNAME\": \"Test\"}\n",
            "{'TITLE': 'Some string', 'BODY': \"Here is a bit more text, but still isn't enough\", 'CLASSNAME': 'Test'}\n",
            "Some string\n"
          ]
        }
      ]
    },
    {
      "cell_type": "markdown",
      "source": [
        "Этот код почти верен, но есть одна важная деталь, которую нужно учесть. При использовании пользовательского JSON-кодера (JSONEncoder), вам также нужно обеспечить правильную десериализацию при загрузке JSON обратно в объекты Python.\n",
        "\n",
        "Вот исправленный код с добавленным методом from_json для десериализации:"
      ],
      "metadata": {
        "id": "BDsPVk4BeXzI"
      }
    },
    {
      "cell_type": "code",
      "source": [
        "import json\n",
        "\n",
        "class Test:\n",
        "    def __init__(self, title, body):\n",
        "        self.title = title\n",
        "        self.body = body\n",
        "\n",
        "class TestEncoder(json.JSONEncoder):\n",
        "    def default(self, o):\n",
        "        if isinstance(o, Test):\n",
        "            return {\"TITLE\": o.title, \"BODY\": o.body, \"CLASSNAME\": o.__class__.__name__}\n",
        "        return super().default(o)\n",
        "\n",
        "def from_json(json_obj):\n",
        "    if \"CLASSNAME\" in json_obj and json_obj[\"CLASSNAME\"] == \"Test\":\n",
        "        return Test(json_obj[\"TITLE\"], json_obj[\"BODY\"])\n",
        "    return json_obj\n",
        "\n",
        "t = Test(\"Some string\", \"Here is a bit more text, but still isn't enough\")\n",
        "\n",
        "# Сериализация\n",
        "x = json.dumps(t, cls=TestEncoder)\n",
        "print(x)\n",
        "\n",
        "# Десериализация\n",
        "y = json.loads(x, object_hook=from_json)\n",
        "print(y)\n",
        "print(y.title)"
      ],
      "metadata": {
        "colab": {
          "base_uri": "https://localhost:8080/"
        },
        "id": "nBumbZ2TeawQ",
        "outputId": "dbb329f3-4716-4246-9fdc-60c205063e9a"
      },
      "execution_count": 21,
      "outputs": [
        {
          "output_type": "stream",
          "name": "stdout",
          "text": [
            "{\"TITLE\": \"Some string\", \"BODY\": \"Here is a bit more text, but still isn't enough\", \"CLASSNAME\": \"Test\"}\n",
            "<__main__.Test object at 0x7ae6420ec8b0>\n",
            "Some string\n"
          ]
        }
      ]
    },
    {
      "cell_type": "markdown",
      "source": [
        "Такой подход можно использовать и в том случае, если класс состоит из нескольких других."
      ],
      "metadata": {
        "id": "h2m_4XGheedl"
      }
    },
    {
      "cell_type": "markdown",
      "source": [
        "## Применить паттерн «Адаптер»\n",
        "Идея в том, чтобы написать класс, который приводит к JSON пользовательские объекты и восстанавливает их. Определите класс фигуры, формы и цвета:"
      ],
      "metadata": {
        "id": "rsqO937JeirD"
      }
    },
    {
      "cell_type": "code",
      "source": [
        "class Figure:\n",
        "    def __init__(self, title, form, color):\n",
        "        self.title = title\n",
        "        self.form = form\n",
        "        self.color = color\n",
        "\n",
        "    def __str__(self):\n",
        "        return f\"Figure: {self.title}, {repr(self.form)}, {repr(self.color)}\"\n",
        "\n",
        "class Form:\n",
        "    def __init__(self, name):\n",
        "        self.name = name\n",
        "\n",
        "    def __repr__(self):\n",
        "        return f\"<Form: {self.name}>\"\n",
        "\n",
        "class Color:\n",
        "    def __init__(self, name):\n",
        "        self.name = name\n",
        "\n",
        "    def __repr__(self):\n",
        "        return f\"<Color: {self.name}>\""
      ],
      "metadata": {
        "id": "t4RKjJ6zesWf"
      },
      "execution_count": 22,
      "outputs": []
    },
    {
      "cell_type": "markdown",
      "source": [
        "Теперь напишим класс, который будет приводить объекты фигуры к JSON, а из JSON воссоздавать полученный объект:"
      ],
      "metadata": {
        "id": "7Z_eBDtLe5f9"
      }
    },
    {
      "cell_type": "code",
      "source": [
        "class JSONDataAdapter:\n",
        "    @staticmethod\n",
        "    def to_json(o):\n",
        "        if isinstance(o, Figure):\n",
        "            return json.dumps({\n",
        "              \"title\": o.title,\n",
        "              \"form\": o.form.name,\n",
        "              \"color\": o.color.name,\n",
        "            })\n",
        "\n",
        "    @staticmethod\n",
        "    def from_json(o):\n",
        "        o = json.loads(o)\n",
        "\n",
        "        try:\n",
        "            form = Form(o[\"form\"])\n",
        "            color = Color(o[\"color\"])\n",
        "            figure = Figure(o[\"title\"], form, color)\n",
        "            return figure\n",
        "        except AttributeError:\n",
        "            print(\"Неверная структура\")"
      ],
      "metadata": {
        "id": "1-aQSRBue_at"
      },
      "execution_count": 23,
      "outputs": []
    },
    {
      "cell_type": "markdown",
      "source": [
        "Протестируйем решение:"
      ],
      "metadata": {
        "id": "LLtJ-jBBfDpp"
      }
    },
    {
      "cell_type": "code",
      "source": [
        "if __name__ == '__main__':\n",
        "    # создадим несколько цветов\n",
        "    black = Color(\"Black\")\n",
        "    yellow = Color(\"Yellow\")\n",
        "    green = Color(\"Green\")\n",
        "\n",
        "    # несколько форм\n",
        "    rountt = Form(\"Rounded\")\n",
        "    square = Form(\"Squared\")\n",
        "\n",
        "    # объекты фигур\n",
        "    figure_one = Figure(\"Black Square\", form=square, color=black)\n",
        "    figure_two = Figure(\"Yellow Circle\", form=rountt, color=yellow)\n",
        "\n",
        "    print(\"Отображение объектов\")\n",
        "    print(figure_one)\n",
        "    print(figure_two)\n",
        "    print()\n",
        "\n",
        "    # преобразуем данные в JSON\n",
        "    jone = JSONDataAdapter.to_json(figure_one)\n",
        "    jtwo = JSONDataAdapter.to_json(figure_two)\n",
        "\n",
        "    print(\"Отображение JSON\")\n",
        "    print(jone)\n",
        "    print(jtwo)\n",
        "    print()\n",
        "\n",
        "    # восстановим объекты\n",
        "    restored_one = JSONDataAdapter.from_json(jone)\n",
        "    restored_two = JSONDataAdapter.from_json(jtwo)\n",
        "\n",
        "    print(\"Отображение восстановленных объектов\")\n",
        "    print(restored_one)\n",
        "    print(restored_two)\n",
        ""
      ],
      "metadata": {
        "colab": {
          "base_uri": "https://localhost:8080/"
        },
        "id": "lt4NGaxBfG1b",
        "outputId": "ba092dc0-8f09-4344-b312-983fadf9b758"
      },
      "execution_count": 25,
      "outputs": [
        {
          "output_type": "stream",
          "name": "stdout",
          "text": [
            "Отображение объектов\n",
            "Figure: Black Square, <Form: Squared>, <Color: Black>\n",
            "Figure: Yellow Circle, <Form: Rounded>, <Color: Yellow>\n",
            "\n",
            "Отображение JSON\n",
            "{\"title\": \"Black Square\", \"form\": \"Squared\", \"color\": \"Black\"}\n",
            "{\"title\": \"Yellow Circle\", \"form\": \"Rounded\", \"color\": \"Yellow\"}\n",
            "\n",
            "Отображение восстановленных объектов\n",
            "Figure: Black Square, <Form: Squared>, <Color: Black>\n",
            "Figure: Yellow Circle, <Form: Rounded>, <Color: Yellow>\n"
          ]
        }
      ]
    },
    {
      "cell_type": "markdown",
      "source": [
        "## Примеры"
      ],
      "metadata": {
        "id": "MK2vDBavgCh1"
      }
    },
    {
      "cell_type": "markdown",
      "source": [
        "**Пример 1.** Создайте класс Student с реализацией сериализации и десериализации."
      ],
      "metadata": {
        "id": "XA-V7BxvgGQm"
      }
    },
    {
      "cell_type": "code",
      "source": [
        "import json\n",
        "\n",
        "class Student:\n",
        "    def __init__(self, name, age, major):\n",
        "        self.name = name\n",
        "        self.age = age\n",
        "        self.major = major\n",
        "\n",
        "    def to_json(self):\n",
        "        return {\n",
        "            \"name\": self.name,\n",
        "            \"age\": self.age,\n",
        "            \"major\": self.major\n",
        "        }\n",
        "\n",
        "    @staticmethod\n",
        "    def from_json(data):\n",
        "        return Student(data[\"name\"], data[\"age\"], data[\"major\"])\n",
        "\n",
        "# Создаем экземпляр класса Student\n",
        "student1 = Student(\"Alice\", 20, \"Computer Science\")\n",
        "\n",
        "# Сериализация экземпляра класса Student\n",
        "json_str = json.dumps(student1.to_json())\n",
        "print(json_str)\n",
        "\n",
        "# Десериализация JSON в объект Student\n",
        "json_data = '{\"name\": \"Bob\", \"age\": 21, \"major\": \"Engineering\"}'\n",
        "restored_student = Student.from_json(json.loads(json_data))\n",
        "print(restored_student.name, restored_student.age, restored_student.major)\n"
      ],
      "metadata": {
        "colab": {
          "base_uri": "https://localhost:8080/"
        },
        "id": "G8POmWPFc0Kk",
        "outputId": "cbbfc243-53e4-454e-903d-357f23bd1a2b"
      },
      "execution_count": 27,
      "outputs": [
        {
          "output_type": "stream",
          "name": "stdout",
          "text": [
            "{\"name\": \"Alice\", \"age\": 20, \"major\": \"Computer Science\"}\n",
            "Bob 21 Engineering\n"
          ]
        }
      ]
    },
    {
      "cell_type": "markdown",
      "source": [
        "**Пример 2.** Если класс Student унаследуется от класса Person, то вы можете включить это в определение класса Student следующим образом:"
      ],
      "metadata": {
        "id": "aGxCxvUMga6X"
      }
    },
    {
      "cell_type": "code",
      "source": [
        "import json\n",
        "from typing import Dict, Any\n",
        "\n",
        "class Person:\n",
        "    def __init__(self, name: str, age: int) -> None:\n",
        "        self.name = name\n",
        "        self.age = age\n",
        "\n",
        "    def to_json(self) -> Dict[str, Any]:\n",
        "        return {\"name\": self.name, \"age\": self.age}\n",
        "\n",
        "class Student(Person):\n",
        "    def __init__(self, name: str, age: int, major: str) -> None:\n",
        "        super().__init__(name, age)\n",
        "        self.major = major\n",
        "\n",
        "    def to_json(self) -> Dict[str, Any]:\n",
        "        data = super().to_json()\n",
        "        data[\"major\"] = self.major\n",
        "        return data\n",
        "\n",
        "    @staticmethod\n",
        "    def from_json(data: Dict[str, Any]) -> 'Student':\n",
        "        return Student(data[\"name\"], data[\"age\"], data[\"major\"])\n",
        "\n",
        "# Создаем экземпляр класса Student\n",
        "student1 = Student(\"Alice\", 20, \"Computer Science\")\n",
        "\n",
        "# Сериализация экземпляра класса Student\n",
        "json_str = json.dumps(student1.to_json())\n",
        "print(json_str)\n",
        "\n",
        "# Десериализация JSON в объект Student\n",
        "json_data = '{\"name\": \"Bob\", \"age\": 21, \"major\": \"Engineering\"}'\n",
        "restored_student = Student.from_json(json.loads(json_data))\n",
        "print(restored_student.name, restored_student.age, restored_student.major)"
      ],
      "metadata": {
        "colab": {
          "base_uri": "https://localhost:8080/"
        },
        "id": "B4LIz7yygva5",
        "outputId": "b5d0cbd3-6130-4f9d-dcc8-168a662b2a46"
      },
      "execution_count": 32,
      "outputs": [
        {
          "output_type": "stream",
          "name": "stdout",
          "text": [
            "{\"name\": \"Alice\", \"age\": 20, \"major\": \"Computer Science\"}\n",
            "Bob 21 Engineering\n"
          ]
        }
      ]
    },
    {
      "cell_type": "markdown",
      "source": [
        "**Пример 3.**  У вас есть JSON-объект, который содержит информацию о командах, игроках и их результаты. Вам нужно извлечь значение \"score\" для первого игрока первой команды из этого JSON-объекта с использованием сериализации и десериализации. JSON-объект должен быть сохранен в файле, и вы должны использовать модуль json в Python для записи и чтения данных из файла.\n",
        "\n",
        "Задача состоит из следующих шагов:\n",
        "\n",
        "1. Создание JSON-объекта с информацией о командах, игроках и их результаты.\n",
        "2. Сериализация (запись) JSON-объекта в файл с использованием модуля json.\n",
        "3. Чтение и десериализация JSON-объекта из файла с использованием модуля json.\n",
        "4. Извлечение значения \"score\" для первого игрока первой команды из десериализованного JSON-объекта."
      ],
      "metadata": {
        "id": "_CXrRDgmibqT"
      }
    },
    {
      "cell_type": "code",
      "source": [
        "import json\n",
        "\n",
        "# Создаем и записываем JSON в файл\n",
        "data = {\n",
        "    \"data\": {\n",
        "        \"teamStanding\": [\n",
        "            {\n",
        "                \"id\": \"team_1\",\n",
        "                \"score\": 103,\n",
        "                \"players\": [\n",
        "                    {\n",
        "                        \"user\": {\n",
        "                            \"name\": \"player_1\",\n",
        "                            \"id\": \"player_1\"\n",
        "                        },\n",
        "                        \"score\": 35\n",
        "                    }\n",
        "                ]\n",
        "            }\n",
        "        ]\n",
        "    }\n",
        "}\n",
        "\n",
        "# Записываем JSON в файл\n",
        "with open('data.json', 'w') as file:\n",
        "    json.dump(data, file)\n",
        "\n",
        "# Чтение и десериализация JSON из файла\n",
        "with open('data.json', 'r') as file:\n",
        "    data_from_file = json.load(file)\n",
        "\n",
        "# Извлечение значения score для первого игрока первой команды\n",
        "player_score = data_from_file[\"data\"][\"teamStanding\"][0][\"players\"][0][\"score\"]\n",
        "print(player_score)  # Выведет: 35"
      ],
      "metadata": {
        "colab": {
          "base_uri": "https://localhost:8080/"
        },
        "id": "LuAqlx6dihf4",
        "outputId": "be5bd873-5621-4149-fdd4-c9cfec385e4a"
      },
      "execution_count": 35,
      "outputs": [
        {
          "output_type": "stream",
          "name": "stdout",
          "text": [
            "35\n"
          ]
        }
      ]
    },
    {
      "cell_type": "markdown",
      "source": [
        "# Создание, Редактирование и Парсинг XML файла"
      ],
      "metadata": {
        "id": "YOY01pujiqES"
      }
    },
    {
      "cell_type": "markdown",
      "source": [
        "Python содержит встроенные XML инструменты для парсинга, к которым вы можете получить доступ при помощи модуля xml. В данной статье мы рассмотрим два подмодуля xml:\n",
        "\n",
        "* minidom\n",
        "* ElementTree\n",
        "Мы начнем с minidom по той причине, что де-факто он используется в качестве метода парсинга XML. После этого, мы взглянем на то, как использовать ElementTree для этих целей.\n",
        "\n",
        "## Работаем с minidom\n",
        "Для начала, нам нужен XML для парсинга. Давайте взглянем на следующий небольшой пример XML:"
      ],
      "metadata": {
        "id": "IhQiRbMYjAL0"
      }
    },
    {
      "cell_type": "markdown",
      "source": [
        "\n",
        "\n",
        "```\n",
        "<?xml version=\"1.0\" ?>\n",
        "<zAppointments reminder=\"15\">\n",
        "    <appointment>\n",
        "        <begin>1181251680</begin>\n",
        "        <uid>040000008200E000</uid>\n",
        "        <alarmTime>1181572063</alarmTime>\n",
        "        <state></state>\n",
        "        <location></location>\n",
        "        <duration>1800</duration>\n",
        "        <subject>Bring pizza home</subject>\n",
        "    </appointment>\n",
        "</zAppointments>\n",
        "```\n",
        "\n"
      ],
      "metadata": {
        "id": "nITdiS7Nlnmm"
      }
    },
    {
      "cell_type": "markdown",
      "source": [
        "Это типичный XML и читается он вполне интуитивно. В будущем вы, скорее всего, столкнетесь с более сложным примером XML, так что в нашем случае мы работаем с очень удобным материалом. В любом случае, сохраните описанный выше код XML под следующим названием: appt.xml\n",
        "\n",
        "Давайте уделим больше времени на то, чтобы поближе познакомиться с парсингом данного файла в Python при помощи модуля minidom. Это достаточно длинный кусок кода, так что подготовьтесь:"
      ],
      "metadata": {
        "id": "ovbZbLjGlqDz"
      }
    },
    {
      "cell_type": "code",
      "source": [
        "class ApptParser(object):\n",
        "    # Конструктор класса\n",
        "    def __init__(self, url, flag='url'):\n",
        "        self.appointments = []  # Список для хранения информации о встречах\n",
        "        self.flag = flag  # Флаг для определения источника данных (URL или файл)\n",
        "        self.rem_value = 0  # Переменная, которая не используется в предоставленном коде\n",
        "        xml_data = self.get_xml(url)  # Получение XML-данных из URL или файла\n",
        "        self.handle_xml(xml_data)  # Обработка XML-данных\n",
        "\n",
        "    # Метод для получения XML-данных\n",
        "    def get_xml(self, url):\n",
        "        try:\n",
        "            f = urllib.request.urlopen(url)  # Открытие URL и получение данных\n",
        "        except:\n",
        "            f = url  # Если не удалось открыть URL, предполагаем, что это путь к файлу\n",
        "\n",
        "        doc = xml.dom.minidom.parse(f)  # Парсинг XML-данных\n",
        "        node = doc.documentElement  # Получение корневого элемента (документа)\n",
        "        if node.nodeType == xml.dom.Node.ELEMENT_NODE:\n",
        "            print('Element: %s' % node.nodeName)  # Вывод информации о корневом элементе\n",
        "            for (name, value) in node.attributes.items():\n",
        "                print('Attr -- name: %s value: %s' % (name, value))  # Вывод информации об атрибутах элемента\n",
        "        return node  # Возвращает корневой элемент\n",
        "\n",
        "    # Метод для обработки XML-данных\n",
        "    def handle_xml(self, xml_data):\n",
        "        appointments = xml_data.getElementsByTagName(\"appointment\")  # Получение всех элементов \"appointment\"\n",
        "        self.handle_appointments(appointments)  # Обработка каждого элемента \"appointment\"\n",
        "\n",
        "    # Метод для получения текстового содержимого элемента\n",
        "    def get_element(self, element):\n",
        "        return self.get_text(element.childNodes)  # Вызов метода get_text для получения текстового содержимого\n",
        "\n",
        "    # Метод для обработки всех элементов \"appointment\"\n",
        "    def handle_appointments(self, appointments):\n",
        "        for appt in appointments:\n",
        "            self.handle_appointment(appt)  # Обработка каждого элемента \"appointment\"\n",
        "\n",
        "    # Метод для обработки одного элемента \"appointment\"\n",
        "    def handle_appointment(self, appt):\n",
        "        begin = self.get_element(appt.getElementsByTagName(\"begin\")[0])  # Получение текстового содержимого элемента \"begin\"\n",
        "        duration = self.get_element(appt.getElementsByTagName(\"duration\")[0])  # Получение текстового содержимого элемента \"duration\"\n",
        "        subject = self.get_element(appt.getElementsByTagName(\"subject\")[0])  # Получение текстового содержимого элемента \"subject\"\n",
        "        location = self.get_element(appt.getElementsByTagName(\"location\")[0])  # Получение текстового содержимого элемента \"location\"\n",
        "        uid = self.get_element(appt.getElementsByTagName(\"uid\")[0])  # Получение текстового содержимого элемента \"uid\"\n",
        "\n",
        "        appointment_info = [begin, duration, subject, location, uid]  # Формирование информации о встрече в виде списка\n",
        "\n",
        "        if self.flag == 'file':  # Если источник данных - файл\n",
        "            try:\n",
        "                state = self.get_element(appt.getElementsByTagName(\"state\")[0])  # Получение текстового содержимого элемента \"state\"\n",
        "                appointment_info.append(state)  # Добавление информации о состоянии встречи в список\n",
        "                alarm = self.get_element(appt.getElementsByTagName(\"alarmTime\")[0])  # Получение текстового содержимого элемента \"alarmTime\"\n",
        "                appointment_info.append(alarm)  # Добавление информации о времени напоминания в список\n",
        "            except Exception as e:\n",
        "                print(e)  # Обработка и вывод ошибки, если таковая возникла\n",
        "\n",
        "        self.appointments.append(appointment_info)  # Добавление информации о встрече в список всех встреч\n",
        "\n",
        "    # Метод для получения текстового содержимого элемента\n",
        "    def get_text(self, nodelist):\n",
        "        rc = \"\"\n",
        "        for node in nodelist:\n",
        "            if node.nodeType == node.TEXT_NODE:\n",
        "                rc = rc + node.data  # Добавление текстового содержимого элемента к результату\n",
        "        return rc  # Возвращает текстовое содержимое элемента"
      ],
      "metadata": {
        "id": "AiNsF7DzlvMR"
      },
      "execution_count": 40,
      "outputs": []
    },
    {
      "cell_type": "markdown",
      "source": [
        "Этот код определяет класс ApptParser, который выполняет разбор и обработку XML-данных из URL или файла. Класс содержит методы для получения XML-данных, обработки XML-данных, извлечения текстового содержимого элементов и формирования информации о встречах.\n",
        "\n",
        "При создании экземпляра класса ApptParser с указанием URL или пути к файлу, XML-данные извлекаются с использованием метода get_xml, а затем обрабатываются с использованием метода handle_xml. Информация о встречах сохраняется в списке self.appointments.\n",
        "\n",
        "Методы класса ApptParser используются для извлечения информации о встречах из XML-документа и обработки этой информации в соответствии с заданным флагом (URL или файл)."
      ],
      "metadata": {
        "id": "gcBE7GO_np-Q"
      }
    },
    {
      "cell_type": "markdown",
      "source": [
        "Обратите внимание на то, что метод handleAppt вызывает метод getElement, который, в свою очередь, вызывает метод getText. Технически, вы можете пропустить вызов getElement и вызвать getText напрямую. С другой стороны, вам может понадобиться добавить дополнительную обработку в getElement для конвертации текста или чего-то другого перед возвратом. Например, вам может понадобиться конвертировать целые числа, числа с запятыми или объекты decimal.Decimal."
      ],
      "metadata": {
        "id": "EkwRLBRKn4bK"
      }
    },
    {
      "cell_type": "markdown",
      "source": [
        "Чтобы использовать класс ApptParser для обработки данного XML-документа, вам нужно создать экземпляр класса и передать URL или файл с XML-данными в конструктор. Вот пример использования класса для данного XML-документа:"
      ],
      "metadata": {
        "id": "uRreUdTimaVW"
      }
    },
    {
      "cell_type": "code",
      "source": [
        "# Создание экземпляра класса ApptParser и обработка XML-документа\n",
        "url = \"/content/appointments.xml\"  # Замените на реальный URL или путь к файлу\n",
        "parser = ApptParser(url, flag='url')\n",
        "\n",
        "# Вывод списка встреч\n",
        "for appt in parser.appointments:\n",
        "    print(\"Begin:\", appt[0])\n",
        "    print(\"Duration:\", appt[1])\n",
        "    print(\"Subject:\", appt[2])\n",
        "    print(\"Location:\", appt[3])\n",
        "    print(\"UID:\", appt[4])\n",
        "    if len(appt) > 5:\n",
        "        print(\"State:\", appt[5])\n",
        "        print(\"Alarm Time:\", appt[6])\n"
      ],
      "metadata": {
        "id": "4fkXt4Y3lvR9",
        "outputId": "afe6e825-55a4-419e-cfcd-cd6b5051d84c",
        "colab": {
          "base_uri": "https://localhost:8080/"
        }
      },
      "execution_count": 41,
      "outputs": [
        {
          "output_type": "stream",
          "name": "stdout",
          "text": [
            "Element: zAppointments\n",
            "Attr -- name: reminder value: 15\n",
            "Begin: 1181251680\n",
            "Duration: 1800\n",
            "Subject: Bring pizza home\n",
            "Location: \n",
            "UID: 040000008200E000\n"
          ]
        }
      ]
    },
    {
      "cell_type": "markdown",
      "source": [
        "Давайте попробуем еще один пример с minidom перед тем, как двигаться дальше. Мы используем пример XML с сайта MSDN Майкрософт: http://msdn.microsoft.com/en-us/library/ms762271%28VS.85%29.aspx. Сохраните следующий код под названием example.xml"
      ],
      "metadata": {
        "id": "T_Jeda9OnGgB"
      }
    },
    {
      "cell_type": "markdown",
      "source": [
        "\n",
        "\n",
        "```\n",
        "<?xml version=\"1.0\"?>\n",
        "<catalog>\n",
        "   <book id=\"bk103\">\n",
        "      <author>Corets, Eva</author>\n",
        "      <title>Maeve Ascendant</title>\n",
        "      <genre>Fantasy</genre>\n",
        "      <price>5.95</price>\n",
        "      <publish_date>2000-11-17</publish_date>\n",
        "      <description>After the collapse of a nanotechnology\n",
        "      society in England, the young survivors lay the\n",
        "      foundation for a new society.</description>\n",
        "   </book>\n",
        "   <book id=\"bk104\">\n",
        "      <author>Corets, Eva</author>\n",
        "      <title>Oberon's Legacy</title>\n",
        "      <genre>Fantasy</genre>\n",
        "      <price>5.95</price>\n",
        "      <publish_date>2001-03-10</publish_date>\n",
        "      <description>In post-apocalypse England, the mysterious\n",
        "      agent known only as Oberon helps to create a new life\n",
        "      for the inhabitants of London. Sequel to Maeve\n",
        "      Ascendant.</description>\n",
        "   </book>\n",
        "   <book id=\"bk105\">\n",
        "      <author>Corets, Eva</author>\n",
        "      <title>The Sundered Grail</title>\n",
        "      <genre>Fantasy</genre>\n",
        "      <price>5.95</price>\n",
        "      <publish_date>2001-09-10</publish_date>\n",
        "      <description>The two daughters of Maeve, half-sisters,\n",
        "      battle one another for control of England. Sequel to\n",
        "      Oberon's Legacy.</description>\n",
        "   </book>\n",
        "   <book id=\"bk106\">\n",
        "      <author>Randall, Cynthia</author>\n",
        "      <title>Lover Birds</title>\n",
        "      <genre>Romance</genre>\n",
        "      <price>4.95</price>\n",
        "      <publish_date>2000-09-02</publish_date>\n",
        "      <description>When Carla meets Paul at an ornithology\n",
        "      conference, tempers fly as feathers get ruffled.</description>\n",
        "   </book>\n",
        "   <book id=\"bk107\">\n",
        "      <author>Thurman, Paula</author>\n",
        "      <title>Splish Splash</title>\n",
        "      <genre>Romance</genre>\n",
        "      <price>4.95</price>\n",
        "      <publish_date>2000-11-02</publish_date>\n",
        "      <description>A deep sea diver finds true love twenty\n",
        "      thousand leagues beneath the sea.</description>\n",
        "   </book>\n",
        "   <book id=\"bk108\">\n",
        "      <author>Knorr, Stefan</author>\n",
        "      <title>Creepy Crawlies</title>\n",
        "      <genre>Horror</genre>\n",
        "      <price>4.95</price>\n",
        "      <publish_date>2000-12-06</publish_date>\n",
        "      <description>An anthology of horror stories about roaches,\n",
        "      centipedes, scorpions  and other insects.</description>\n",
        "   </book>\n",
        "   <book id=\"bk109\">\n",
        "      <author>Kress, Peter</author>\n",
        "      <title>Paradox Lost</title>\n",
        "      <genre>Science Fiction</genre>\n",
        "      <price>6.95</price>\n",
        "      <publish_date>2000-11-02</publish_date>\n",
        "      <description>After an inadvertant trip through a Heisenberg\n",
        "      Uncertainty Device, James Salway discovers the problems\n",
        "      of being quantum.</description>\n",
        "   </book>\n",
        "   <book id=\"bk110\">\n",
        "      <author>O'Brien, Tim</author>\n",
        "      <title>Microsoft .NET: The Programming Bible</title>\n",
        "      <genre>Computer</genre>\n",
        "      <price>36.95</price>\n",
        "      <publish_date>2000-12-09</publish_date>\n",
        "      <description>Microsoft's .NET initiative is explored in\n",
        "      detail in this deep programmer's reference.</description>\n",
        "   </book>\n",
        "</catalog>\n",
        "```\n",
        "\n"
      ],
      "metadata": {
        "id": "HB_eSossoaj8"
      }
    },
    {
      "cell_type": "markdown",
      "source": [
        "В этом примере мы выполнили парсинг XML, извлекли заголовки книги и вывели их в stdout. Давайте взглянем на код:\n",
        "\n"
      ],
      "metadata": {
        "id": "zMy9DWd9ol_a"
      }
    },
    {
      "cell_type": "code",
      "source": [
        "# -*- coding: utf-8 -*-\n",
        "import xml.dom.minidom as minidom\n",
        "\n",
        "def get_titles(xml_file):\n",
        "    \"\"\"\n",
        "    Выводим все заголовки из xml.\n",
        "    \"\"\"\n",
        "    doc = minidom.parse(xml_file)\n",
        "    books = doc.getElementsByTagName(\"book\")\n",
        "\n",
        "    titles = []\n",
        "    for book in books:\n",
        "        title_obj = book.getElementsByTagName(\"title\")[0]\n",
        "        titles.append(title_obj)\n",
        "\n",
        "    for title in titles:\n",
        "        nodes = title.childNodes\n",
        "        for node in nodes:\n",
        "            if node.nodeType == node.TEXT_NODE:\n",
        "                print(node.data)\n",
        "\n",
        "if __name__ == \"__main__\":\n",
        "    document = '/content/books.xml'\n",
        "    get_titles(document)"
      ],
      "metadata": {
        "id": "LUpemQ12lgph",
        "outputId": "0d8fc4de-debc-45df-85a3-5217f9851cae",
        "colab": {
          "base_uri": "https://localhost:8080/"
        }
      },
      "execution_count": 43,
      "outputs": [
        {
          "output_type": "stream",
          "name": "stdout",
          "text": [
            "XML Developer's Guide\n",
            "Midnight Rain\n",
            "Maeve Ascendant\n",
            "Oberon's Legacy\n",
            "The Sundered Grail\n",
            "Lover Birds\n",
            "Splish Splash\n",
            "Creepy Crawlies\n",
            "Paradox Lost\n",
            "Microsoft .NET: The Programming Bible\n",
            "MSXML3: A Comprehensive Guide\n",
            "Visual Studio 7: A Comprehensive Guide\n"
          ]
        }
      ]
    },
    {
      "cell_type": "markdown",
      "source": [
        "Данный код представляет собой короткую функцию, которая принимает один аргумент - файл XML. Мы импортируем модуль minidom и даем ему такое же название, чтобы упростить отсылки к нему. Затем мы парсим XML. Первые две строки функции очень похожи на те, что были в предыдущем примере. Мы используем метод getElementsByTagName, чтобы собрать нужные нам части XML, после чего выполняем итерацию над результатом и извлекаем заголовки книги. Таким образом, мы извлекаем объекты заголовков, поэтому нам нужно выполнить итерацию этих данных, а также извлечь обычный текст. Поэтому мы используем вложенный цикл.\n",
        "\n",
        "Давайте уделаем немного времени на изучение унаследованного модуля ElementTree под названием \"xml\"."
      ],
      "metadata": {
        "id": "mdukZYpIpqSj"
      }
    },
    {
      "cell_type": "markdown",
      "source": [
        "## Парсинг с ElementTree\n",
        "\n",
        "В данном разделе, мы научимся создавать XML файлы, редактировать и выполнять парсинг при помощи ElementTree. Для сравнения, мы используем тот же XML, который мы использовали в предыдущем разделе для того, чтобы продемонстрировать разницу в использовании minidom и ElementTree. Вот наш код:"
      ],
      "metadata": {
        "id": "6vyDZgawpshf"
      }
    },
    {
      "cell_type": "markdown",
      "source": [
        "\n",
        "\n",
        "```\n",
        "<?xml version=\"1.0\" ?>\n",
        "<zAppointments reminder=\"15\">\n",
        "    <appointment>\n",
        "        <begin>1181251680</begin>\n",
        "        <uid>040000008200E000</uid>\n",
        "        <alarmTime>1181572063</alarmTime>\n",
        "        <state></state>\n",
        "        <location></location>\n",
        "        <duration>1800</duration>\n",
        "        <subject>Bring pizza home</subject>\n",
        "    </appointment>\n",
        "</zAppointments>\n",
        "```\n",
        "\n"
      ],
      "metadata": {
        "id": "n34zf20OpzYN"
      }
    },
    {
      "cell_type": "markdown",
      "source": [
        "Давайте начнем с изучения того, как создавать такую XML структуру при помощи Python\n",
        "\n",
        "### Как создавать XML при помощи ElementTree\n",
        "Создание XML при помощи ElementTree – это очень просто. В данном разделе, мы попытаемся создать написанный выше XML в Python. Давайте посмотрим на код:"
      ],
      "metadata": {
        "id": "kNbCIZZ_p1Xv"
      }
    },
    {
      "cell_type": "code",
      "source": [
        "# -*- coding: utf-8 -*-\n",
        "import xml.etree.ElementTree as ET\n",
        "\n",
        "def createXML(filename):\n",
        "    \"\"\"\n",
        "    Создает XML-файл с деталями о встрече.\n",
        "\n",
        "    Аргументы:\n",
        "    filename (str): Название создаваемого XML-файла.\n",
        "    \"\"\"\n",
        "    # Создание корневого элемента для структуры XML\n",
        "    root = ET.Element(\"zAppointments\")\n",
        "\n",
        "    # Создание элемента 'appointment' и добавление его к корню\n",
        "    appt = ET.Element(\"appointment\")\n",
        "    root.append(appt)\n",
        "\n",
        "    # Создание подэлементов для деталей о встрече\n",
        "    begin = ET.SubElement(appt, \"begin\")\n",
        "    begin.text = \"1181251680\"  # Установка текстового содержимого для элемента 'begin'\n",
        "\n",
        "    uid = ET.SubElement(appt, \"uid\")\n",
        "    uid.text = \"040000008200E000\"  # Установка текстового содержимого для элемента 'uid'\n",
        "\n",
        "    alarmTime = ET.SubElement(appt, \"alarmTime\")\n",
        "    alarmTime.text = \"1181572063\"  # Установка текстового содержимого для элемента 'alarmTime'\n",
        "\n",
        "    state = ET.SubElement(appt, \"state\")  # Создание пустого элемента 'state'\n",
        "\n",
        "    location = ET.SubElement(appt, \"location\")  # Создание пустого элемента 'location'\n",
        "\n",
        "    duration = ET.SubElement(appt, \"duration\")\n",
        "    duration.text = \"1800\"  # Установка текстового содержимого для элемента 'duration'\n",
        "\n",
        "    subject = ET.SubElement(appt, \"subject\")  # Создание пустого элемента 'subject'\n",
        "\n",
        "    # Создание объекта ElementTree с корневым элементом\n",
        "    tree = ET.ElementTree(root)\n",
        "\n",
        "    # Запись XML-структуры в файл\n",
        "    with open(filename, \"wb\") as fh:  # Открытие файла в бинарном режиме для записи\n",
        "        tree.write(fh, encoding=\"utf-8\", xml_declaration=True)\n",
        "\n",
        "if __name__ == \"__main__\":\n",
        "    createXML(\"appt.xml\")  # Вызов функции createXML для создания XML-файла"
      ],
      "metadata": {
        "id": "1eEJaNL-p6-r"
      },
      "execution_count": 46,
      "outputs": []
    },
    {
      "cell_type": "markdown",
      "source": [
        "Если вы запустите этот код, вы должны получить что-то вроде нижеизложенного (возможно в одной строке):"
      ],
      "metadata": {
        "id": "3sYJ7ZLGqa5E"
      }
    },
    {
      "cell_type": "markdown",
      "source": [
        "\n",
        "\n",
        "```\n",
        "<?xml version=\"1.0\" encoding=\"UTF-8\"?>\n",
        "<zAppointments>\n",
        "   <appointment>\n",
        "      <begin>1181251680</begin>\n",
        "      <uid>040000008200E000</uid>\n",
        "      <alarmTime>1181572063</alarmTime>\n",
        "      <state />\n",
        "      <location />\n",
        "      <duration>1800</duration>\n",
        "      <subject />\n",
        "   </appointment>\n",
        "</zAppointments>\n",
        "```\n",
        "\n"
      ],
      "metadata": {
        "id": "rIXm6N5Eqbak"
      }
    },
    {
      "cell_type": "markdown",
      "source": [
        "Это очень похоже на исходный код и это, безусловно, действенный XML. Само собой, наши коды отличаются, но весьма похожи. Давайте уделим время для разбора кода и убедиться в том, что мы его хорошо понимаем. Для начала мы создаем корневой элемент при помощи функции Element модуля ElementTree. Далее, мы создаем элемент назначения и добавляем его к root. Далее, мы создаем SubElements, выполнив парсинг назначения объекта Element (appt) в SubElement наряду с именем, например, begin. Далее, для каждого SubElement, мы назначаем их текстовые свойства, для передачи значения. В конце скрипта мы создаем ElementTree и используем его для написания XML в файле. Теперь мы готовы к тому, чтобы научиться редактировать файл!\n",
        "\n",
        "### Как редактировать XML при помощи ElementTree\n",
        "Редактирование XML при помощи ElementTree это также очень просто. Чтобы все было немного интереснее, мы добавим другой блок назначения в XML:"
      ],
      "metadata": {
        "id": "SsiFfloRq_-A"
      }
    },
    {
      "cell_type": "markdown",
      "source": [
        "\n",
        "\n",
        "```\n",
        "<?xml version=\"1.0\" ?>\n",
        "<zAppointments reminder=\"15\">\n",
        "    <appointment>\n",
        "        <begin>1181251680</begin>\n",
        "        <uid>040000008200E000</uid>\n",
        "        <alarmTime>1181572063</alarmTime>\n",
        "        <state></state>\n",
        "        <location></location>\n",
        "        <duration>1800</duration>\n",
        "        <subject>Bring pizza home</subject>\n",
        "    </appointment>\n",
        "    <appointment>\n",
        "        <begin>1181253977</begin>\n",
        "        <uid>sdlkjlkadhdakhdfd</uid>\n",
        "        <alarmTime>1181588888</alarmTime>\n",
        "        <state>TX</state>\n",
        "        <location>Dallas</location>\n",
        "        <duration>1800</duration>\n",
        "        <subject>Bring pizza home</subject>\n",
        "    </appointment>\n",
        "</zAppointments>\n",
        "```\n",
        "\n"
      ],
      "metadata": {
        "id": "tngzCRRtrF6n"
      }
    },
    {
      "cell_type": "markdown",
      "source": [
        "Теперь мы напишем код для того, чтобы изменить каждое значение тега begin от секунд, начиная с эпохи на что-нибудь более читабельное. Мы используем модуль time python, чтобы облегчить себе жизнь:\n",
        "\n"
      ],
      "metadata": {
        "id": "7HnRFgMdrJvU"
      }
    },
    {
      "cell_type": "code",
      "source": [
        "# -*- coding: utf-8 -*-\n",
        "import time\n",
        "import xml.etree.cElementTree as ET\n",
        "\n",
        "def editXML(filename):\n",
        "    \"\"\"\n",
        "    Функция для редактирования XML файла.\n",
        "\n",
        "    Аргументы:\n",
        "    filename (строка): Имя файла, который нужно отредактировать.\n",
        "    \"\"\"\n",
        "    # Загружаем XML файл\n",
        "    tree = ET.ElementTree(file=filename)\n",
        "    root = tree.getroot()\n",
        "\n",
        "    # Изменяем время начала встречи на текущее время\n",
        "    for begin_time in root.iter(\"begin\"):\n",
        "        begin_time.text = time.ctime(int(begin_time.text))\n",
        "\n",
        "    # Сохраняем изменения в новый XML файл\n",
        "    with open(\"updated.xml\", \"wb\") as f:\n",
        "        tree.write(f, encoding=\"utf-8\", xml_declaration=True)\n",
        "\n",
        "if __name__ == \"__main__\":\n",
        "    editXML(\"original_appt.xml\")"
      ],
      "metadata": {
        "id": "zc78uuOirKfY"
      },
      "execution_count": 52,
      "outputs": []
    },
    {
      "cell_type": "markdown",
      "source": [
        "Здесь мы создаем объект ElementTree с именем \"tree\" и извлекаем из него корневой элемент. Затем мы используем метод iter(), чтобы найти все теги с меткой \"begin\". Следует отметить, что метод iter() был добавлен в Python 2.7. В цикле for мы изменяем текстовое содержимое каждого элемента, чтобы преобразовать его в более читаемый формат времени с помощью метода time.ctime(). Также обратите внимание, что нам необходимо преобразовать строку в целое число перед передачей его в ctime. Результат будет примерно следующим:"
      ],
      "metadata": {
        "id": "IMc2GXTStLHu"
      }
    },
    {
      "cell_type": "markdown",
      "source": [
        "\n",
        "\n",
        "```\n",
        "<?xml version='1.0' encoding='utf-8'?>\n",
        "<zAppointments reminder=\"15\">\n",
        "    <appointment>\n",
        "        <begin>Thu Jun  7 21:28:00 2007</begin>\n",
        "        <uid>040000008200E000</uid>\n",
        "        <alarmTime>1181572063</alarmTime>\n",
        "        <state />\n",
        "        <location />\n",
        "        <duration>1800</duration>\n",
        "        <subject>Bring pizza home</subject>\n",
        "    </appointment>\n",
        "    <appointment>\n",
        "        <begin>Thu Jun  7 22:06:17 2007</begin>\n",
        "        <uid>sdlkjlkadhdakhdfd</uid>\n",
        "        <alarmTime>1181588888</alarmTime>\n",
        "        <state>TX</state>\n",
        "        <location>Dallas</location>\n",
        "        <duration>1800</duration>\n",
        "        <subject>Bring pizza home</subject>\n",
        "    </appointment>\n",
        "</zAppointments>\n",
        "```\n",
        "\n"
      ],
      "metadata": {
        "id": "8GfQkSKjtRma"
      }
    },
    {
      "cell_type": "markdown",
      "source": [
        "Вы также можете использовать методы ElementTree, такие как find() или findall() для поиска конкретных тегов в вашем XML. Метод find() найдет только первый пример, в то время как findall() найдет каждый тег с указанной отметкой. Это очень полезно при решении задач, возникших при редактировании или при парсинге, что является темой нашего следующего раздела!\n",
        "\n",
        "### Парсинг и ElementTree\n",
        "\n",
        "Сейчас мы научимся тому, как выполнять базовый парсинг при помощи ElementTree. Сначала, мы пройдемся по коду в целом, затем разберем его кирпичик за кирпичиком, чтобы понять, как это работает. Обратите внимание на то, что этот код основан на оригинальном примере, и должен работать также и на втором примере."
      ],
      "metadata": {
        "id": "4oD5ZXBAtVws"
      }
    },
    {
      "cell_type": "code",
      "source": [
        "# -*- coding: utf-8 -*-\n",
        "import xml.etree.cElementTree as ET\n",
        "\n",
        "def parseXML(xml_file):\n",
        "    \"\"\"\n",
        "    Парсинг XML с использованием ElementTree.\n",
        "\n",
        "    Аргументы:\n",
        "    xml_file (строка): Имя XML файла для парсинга.\n",
        "    \"\"\"\n",
        "    # Создаем объект ElementTree из XML файла\n",
        "    tree = ET.ElementTree(file=xml_file)\n",
        "\n",
        "    # Получаем корневой элемент и выводим его тег и атрибуты\n",
        "    root = tree.getroot()\n",
        "    print(\"tag=%s, attrib=%s\" % (root.tag, root.attrib))\n",
        "\n",
        "    # Итерируемся по дочерним элементам корневого элемента\n",
        "    for child in root:\n",
        "        print(child.tag, child.attrib)\n",
        "        if child.tag == \"appointment\":\n",
        "            # Если тег равен \"appointment\", итерируемся по его дочерним элементам\n",
        "            for step_child in child:\n",
        "                print(step_child.tag)\n",
        "\n",
        "    # Парсинг всей XML структуры с использованием итератора дерева\n",
        "    print(\"-\" * 40)\n",
        "    print(\"Итерация с использованием итератора дерева\")\n",
        "    print(\"-\" * 40)\n",
        "    iter_ = tree.iter()\n",
        "\n",
        "    for elem in iter_:\n",
        "        print(elem.tag)\n",
        "\n",
        "    # Получаем данные, используя метод list(), чтобы получить список дочерних элементов\n",
        "    print(\"-\" * 40)\n",
        "    print(\"Обработка дочерних элементов с помощью метода list()\")\n",
        "    print(\"-\" * 40)\n",
        "    appointments = list(root)\n",
        "\n",
        "    for appointment in appointments:\n",
        "        for appt_child in appointment:\n",
        "            print(\"%s=%s\" % (appt_child.tag, appt_child.text))\n",
        "\n",
        "if __name__ == \"__main__\":\n",
        "    parseXML(\"appt.xml\")"
      ],
      "metadata": {
        "id": "tDH0aDq9tYeQ",
        "outputId": "04d4cba0-8b11-475c-c969-fa32f4b660eb",
        "colab": {
          "base_uri": "https://localhost:8080/"
        }
      },
      "execution_count": 54,
      "outputs": [
        {
          "output_type": "stream",
          "name": "stdout",
          "text": [
            "tag=zAppointments, attrib={}\n",
            "appointment {}\n",
            "begin\n",
            "uid\n",
            "alarmTime\n",
            "state\n",
            "location\n",
            "duration\n",
            "subject\n",
            "----------------------------------------\n",
            "Итерация с использованием итератора дерева\n",
            "----------------------------------------\n",
            "zAppointments\n",
            "appointment\n",
            "begin\n",
            "uid\n",
            "alarmTime\n",
            "state\n",
            "location\n",
            "duration\n",
            "subject\n",
            "----------------------------------------\n",
            "Обработка дочерних элементов с помощью метода list()\n",
            "----------------------------------------\n",
            "begin=1181251680\n",
            "uid=040000008200E000\n",
            "alarmTime=1181572063\n",
            "state=None\n",
            "location=None\n",
            "duration=1800\n",
            "subject=None\n"
          ]
        }
      ]
    },
    {
      "cell_type": "markdown",
      "source": [
        "Вы уже должны понять, как это работает, но в этом примере, так же как и в предыдущем, мы импортируем `cElementTree` вместо обычного `ElementTree`. Разница между этими двумя заключается в том, что `cElementTree` основан на языке C, а не на Python, поэтому он работает намного быстрее. В любом случае, мы снова создаем объект `ElementTree` и извлекаем из него корневой элемент. Обратите внимание, что мы выводим корневой элемент, его тег и атрибуты.\n",
        "\n",
        "Далее мы покажем несколько способов итерации по тегам. Первый цикл просто итерирует XML, дочерний элемент за дочерним. Таким образом, выводятся только дочерние элементы (назначение) с наивысшим уровнем, поэтому мы добавили оператор if, чтобы проверить дочерний элемент и выполнить его итерацию.\n",
        "\n",
        "Затем мы берем итератор из объекта `tree` и также итерируем его. В результате мы получаем ту же информацию, но без дополнительных шагов, как в первом примере. Третий метод использует метод `list()`, чтобы получить список дочерних элементов. Затем мы используем вложенный цикл, чтобы получить все теги дочерних элементов и назначений.\n",
        "\n",
        "В последнем примере используется метод `iter()` для перебора всех тегов, соответствующих строке \"begin\".\n",
        "\n",
        "Как было отмечено в последнем разделе, вы также можете использовать методы `find()` или `findall()`, чтобы облегчить поиск конкретных тегов или наборов тегов соответственно. Также обратите внимание на то, что каждый объект Element имеет свой тег и текстовое значение, что можно использовать для получения точной информации."
      ],
      "metadata": {
        "id": "4JYZKYHHt0wR"
      }
    },
    {
      "cell_type": "markdown",
      "source": [],
      "metadata": {
        "id": "UODqQso7t1li"
      }
    },
    {
      "cell_type": "code",
      "source": [],
      "metadata": {
        "id": "h_nz1R1stLup"
      },
      "execution_count": null,
      "outputs": []
    },
    {
      "cell_type": "code",
      "source": [],
      "metadata": {
        "id": "A27OKpkirBtz"
      },
      "execution_count": null,
      "outputs": []
    },
    {
      "cell_type": "code",
      "source": [],
      "metadata": {
        "id": "1iZwjq4WpxAY"
      },
      "execution_count": null,
      "outputs": []
    }
  ]
}