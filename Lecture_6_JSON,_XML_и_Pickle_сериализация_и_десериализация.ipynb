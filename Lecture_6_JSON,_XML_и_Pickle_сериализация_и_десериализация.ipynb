{
  "nbformat": 4,
  "nbformat_minor": 0,
  "metadata": {
    "colab": {
      "provenance": [],
      "authorship_tag": "ABX9TyOFDG2k+wrWlaj0HpvMDNj+",
      "include_colab_link": true
    },
    "kernelspec": {
      "name": "python3",
      "display_name": "Python 3"
    },
    "language_info": {
      "name": "python"
    }
  },
  "cells": [
    {
      "cell_type": "markdown",
      "metadata": {
        "id": "view-in-github",
        "colab_type": "text"
      },
      "source": [
        "<a href=\"https://colab.research.google.com/github/CodeHunterOfficial/Python_Basics/blob/main/Lecture_6_JSON%2C_XML_%D0%B8_Pickle_%D1%81%D0%B5%D1%80%D0%B8%D0%B0%D0%BB%D0%B8%D0%B7%D0%B0%D1%86%D0%B8%D1%8F_%D0%B8_%D0%B4%D0%B5%D1%81%D0%B5%D1%80%D0%B8%D0%B0%D0%BB%D0%B8%D0%B7%D0%B0%D1%86%D0%B8%D1%8F.ipynb\" target=\"_parent\"><img src=\"https://colab.research.google.com/assets/colab-badge.svg\" alt=\"Open In Colab\"/></a>"
      ]
    },
    {
      "cell_type": "markdown",
      "source": [
        "### Что такое JSON?\n",
        "\n",
        "JSON, что является сокращенной аббревиатурой JavaScript Object Notation, — это удобный формат для обмена данными. Он прост для чтения и записи людьми, а также для машинного анализа и генерации. Это делает его одним из самых популярных форматов данных. В частности, JSON стал настоящим веб-языком, который широко используется для передачи данных между серверами и веб-приложениями через API.  \n",
        "\n",
        "Вот пример JSON:"
      ],
      "metadata": {
        "id": "zcLvy5tZY5ne"
      }
    },
    {
      "cell_type": "markdown",
      "source": [
        "\n",
        "\n",
        "```\n",
        "{\n",
        "    \"kwarg1\": \"value_1\",\n",
        "    \"kwarg2\": \"value_2\",\n",
        "    \"kwarg3\": \"value_3\",\n",
        "    \"additional\": [\"value_4\", \"value_5\", \"value_6\", ]\n",
        "}\n",
        "```\n",
        "\n"
      ],
      "metadata": {
        "id": "W0dQ76zrY9J9"
      }
    },
    {
      "cell_type": "markdown",
      "source": [
        "## Сериализация и десериализация\n",
        "В Python есть множество библиотек, чтобы работать с JSON, но мы рассмотрим встроенную библиотеку JSON Python. Она позволяет приводить любые структуры данных к JSON-объекту — вплоть до пользовательских классов. А из него получать совместимую для работы в Python сущность — объект языка."
      ],
      "metadata": {
        "id": "LjQZjkubZPZK"
      }
    },
    {
      "cell_type": "markdown",
      "source": [
        "Упаковка объектов в байтовую последовательность называется сериализацией. А распаковка байтов в объекты языка программирования, приведение последовательности назад к типам и структурам, — десериализацией.\n",
        "Python-р"
      ],
      "metadata": {
        "id": "AyzIrH_oZS8b"
      }
    },
    {
      "cell_type": "markdown",
      "source": [
        "В байты данные необходимо переводить, чтобы отправлять их по сети или локально другому приложению, так как иной формат передать невозможно. Вот так преобразовывают данные из объектов Python в JSON и обратно:"
      ],
      "metadata": {
        "id": "9HQvW7pnZXK0"
      }
    },
    {
      "cell_type": "code",
      "source": [
        "# Импортируем библиотеку\n",
        "import json\n",
        "\n",
        "# Объявляем переменные\n",
        "string = \"Some test string\"\n",
        "integer = 211\n",
        "array = [1, 2, 3, 4, 5]\n",
        "\n",
        "# Создаем словарь\n",
        "mydict = {\"title\": string, \"code\": integer, \"data\": array}\n",
        "\n",
        "# Сериализуем его в JSON-структуру, как строку\n",
        "x = json.dumps(mydict)\n",
        "print(x)\n",
        "\n",
        "\n",
        "# Проводим десериализацию JSON-объекта\n",
        "y = json.loads(x)\n",
        "print(y)\n",
        "\n",
        "print(y[\"title\"])"
      ],
      "metadata": {
        "id": "18eYSzQYZbWM",
        "outputId": "7e11f260-adb8-4250-e9e9-c89cb9e47032",
        "colab": {
          "base_uri": "https://localhost:8080/"
        }
      },
      "execution_count": 3,
      "outputs": [
        {
          "output_type": "stream",
          "name": "stdout",
          "text": [
            "{\"title\": \"Some test string\", \"code\": 211, \"data\": [1, 2, 3, 4, 5]}\n",
            "{'title': 'Some test string', 'code': 211, 'data': [1, 2, 3, 4, 5]}\n",
            "Some test string\n"
          ]
        }
      ]
    },
    {
      "cell_type": "markdown",
      "source": [
        "### Функции\n",
        "\n",
        "Dumps позволяет создать JSON-строку из переданного в нее объекта. Loads — преобразовать строку назад в объекты языка.\n",
        "\n",
        "Dump и load используют, чтобы сохранить результат в файл или воссоздать объект. Работают они схожим образом, но требуют передачи специального объекта для работы с файлом — filehandler."
      ],
      "metadata": {
        "id": "SuYixLDtZyf1"
      }
    },
    {
      "cell_type": "code",
      "source": [
        "import json\n",
        "\n",
        "# Создаем filehandler с помощью контекстного менеджера\n",
        "with open(\"data.json\", \"w\") as fh:\n",
        "    json.dump([1, 2, 3, 4, 5], fh) # записываем структуру в файл\n",
        "\n",
        "# Открываем тот же файл, но уже на чтение\n",
        "with open(\"data.json\", \"r\") as fh:\n",
        "    json_res=json.load(fh) # загружаем структуру из файла\n",
        "    print(json_res)"
      ],
      "metadata": {
        "id": "Bbw1m1OwZ2n9",
        "outputId": "0830c23b-6df5-44bc-b144-ba62a84853e3",
        "colab": {
          "base_uri": "https://localhost:8080/"
        }
      },
      "execution_count": 7,
      "outputs": [
        {
          "output_type": "stream",
          "name": "stdout",
          "text": [
            "[1, 2, 3, 4, 5]\n"
          ]
        }
      ]
    },
    {
      "cell_type": "markdown",
      "source": [
        "## Примеры"
      ],
      "metadata": {
        "id": "E0uoIwuzacs_"
      }
    },
    {
      "cell_type": "markdown",
      "source": [
        "**Пример 1:** Запись и чтение строки:"
      ],
      "metadata": {
        "id": "_LYw9E3tbZRP"
      }
    },
    {
      "cell_type": "code",
      "source": [
        "import json\n",
        "\n",
        "# Запись строки в JSON-файл\n",
        "with open(\"string_data.json\", \"w\") as file:\n",
        "    json.dump(\"Hello, world!\", file)\n",
        "\n",
        "# Чтение строки из JSON-файла\n",
        "with open(\"string_data.json\", \"r\") as file:\n",
        "    data = json.load(file)\n",
        "    print(data)  # Вывод: Hello, world!"
      ],
      "metadata": {
        "id": "pvHF627Gbarl",
        "outputId": "0f60c32e-0af2-42bb-c292-423cee937667",
        "colab": {
          "base_uri": "https://localhost:8080/"
        }
      },
      "execution_count": 8,
      "outputs": [
        {
          "output_type": "stream",
          "name": "stdout",
          "text": [
            "Hello, world!\n"
          ]
        }
      ]
    },
    {
      "cell_type": "markdown",
      "source": [
        "**Пример 2:** Запись и чтение кортежа:"
      ],
      "metadata": {
        "id": "-da1egCFbdF4"
      }
    },
    {
      "cell_type": "code",
      "source": [
        "import json\n",
        "\n",
        "# Запись кортежа в JSON-файл\n",
        "my_tuple = (1, 2, 3)\n",
        "with open(\"tuple_data.json\", \"w\") as file:\n",
        "    json.dump(my_tuple, file)\n",
        "\n",
        "# Чтение кортежа из JSON-файла\n",
        "with open(\"tuple_data.json\", \"r\") as file:\n",
        "    data = json.load(file)\n",
        "    print(data)  # Вывод: [1, 2, 3]"
      ],
      "metadata": {
        "id": "cvFOQLcHbh2d",
        "outputId": "23b42a51-9a5f-4320-ebc1-cf878af73a42",
        "colab": {
          "base_uri": "https://localhost:8080/"
        }
      },
      "execution_count": 9,
      "outputs": [
        {
          "output_type": "stream",
          "name": "stdout",
          "text": [
            "[1, 2, 3]\n"
          ]
        }
      ]
    },
    {
      "cell_type": "markdown",
      "source": [
        "**Пример 3:** Запись и чтение словаря (dictionary):"
      ],
      "metadata": {
        "id": "V4_WVCnDbky_"
      }
    },
    {
      "cell_type": "code",
      "source": [
        "import json\n",
        "\n",
        "# Запись словаря в JSON-файл\n",
        "my_dict = {\"name\": \"Alice\", \"age\": 30}\n",
        "with open(\"dict_data.json\", \"w\") as file:\n",
        "    json.dump(my_dict, file)\n",
        "\n",
        "# Чтение словаря из JSON-файла\n",
        "with open(\"dict_data.json\", \"r\") as file:\n",
        "    data = json.load(file)\n",
        "    print(data)  # Вывод: {'name': 'Alice', 'age': 30}"
      ],
      "metadata": {
        "id": "bdvzJXfLbo0K",
        "outputId": "c2ddd693-d3de-4956-90d1-5f14285a30b2",
        "colab": {
          "base_uri": "https://localhost:8080/"
        }
      },
      "execution_count": 10,
      "outputs": [
        {
          "output_type": "stream",
          "name": "stdout",
          "text": [
            "{'name': 'Alice', 'age': 30}\n"
          ]
        }
      ]
    },
    {
      "cell_type": "markdown",
      "source": [
        "**Пример 4:** Запись и чтение списка (list):"
      ],
      "metadata": {
        "id": "LWUasaCJbrxj"
      }
    },
    {
      "cell_type": "code",
      "source": [
        "import json\n",
        "\n",
        "# Запись списка в JSON-файл\n",
        "my_list = [\"Alice\",\"Zukha\", \"Arina\", \"Karina\"]\n",
        "with open(\"list_data.json\", \"w\") as file:\n",
        "    json.dump(my_list, file)\n",
        "\n",
        "# Чтение списка из JSON-файла\n",
        "with open(\"list_data.json\", \"r\") as file:\n",
        "    data = json.load(file)\n",
        "    print(data)"
      ],
      "metadata": {
        "id": "pz-ZgCefbv48",
        "outputId": "72f8505f-44ea-49da-eb29-e1bde6fde055",
        "colab": {
          "base_uri": "https://localhost:8080/"
        }
      },
      "execution_count": 11,
      "outputs": [
        {
          "output_type": "stream",
          "name": "stdout",
          "text": [
            "['Alice', 'Zukha', 'Arina', 'Karina']\n"
          ]
        }
      ]
    },
    {
      "cell_type": "markdown",
      "source": [
        "**Пример 5:** Запись и чтение числа (integer):"
      ],
      "metadata": {
        "id": "h4YUClJOb6CB"
      }
    },
    {
      "cell_type": "code",
      "source": [
        "import json\n",
        "\n",
        "# Запись числа в JSON-файл\n",
        "my_number = 42\n",
        "with open(\"number_data.json\", \"w\") as file:\n",
        "    json.dump(my_number, file)\n",
        "\n",
        "# Чтение числа из JSON-файла\n",
        "with open(\"number_data.json\", \"r\") as file:\n",
        "    data = json.load(file)\n",
        "    print(data)  # Вывод: 42"
      ],
      "metadata": {
        "id": "hP-7-PjBb_es",
        "outputId": "63d82565-430e-44cb-ea60-7ff36a9ed789",
        "colab": {
          "base_uri": "https://localhost:8080/"
        }
      },
      "execution_count": 12,
      "outputs": [
        {
          "output_type": "stream",
          "name": "stdout",
          "text": [
            "42\n"
          ]
        }
      ]
    },
    {
      "cell_type": "markdown",
      "source": [
        "## Как работать с пользовательскими объектами\n",
        "Пользовательские классы не относятся к JSON-сериализуемым. Это значит, что просто применить к ним функции dumps, loads или dump и load не получится:"
      ],
      "metadata": {
        "id": "mk055AMScDCR"
      }
    },
    {
      "cell_type": "code",
      "source": [
        "import json\n",
        "\n",
        "class Test:\n",
        "    def __init__(self, title, body):\n",
        "        self.title = title\n",
        "        self.body = body\n",
        "\n",
        "t = Test(\"Some string\", \"Here is a bit more text, but still isn't enough\")\n",
        "\n",
        "# пытаемся сериализовать его в JSON, но...\n",
        "json.dumps(t)\n",
        "# получаем ошибку TypeError, что класс несериализуем"
      ],
      "metadata": {
        "id": "CbPjgEV3cHic",
        "outputId": "18ddd360-2396-45a5-d258-d7aef5c9760a",
        "colab": {
          "base_uri": "https://localhost:8080/",
          "height": 373
        }
      },
      "execution_count": 14,
      "outputs": [
        {
          "output_type": "error",
          "ename": "TypeError",
          "evalue": "ignored",
          "traceback": [
            "\u001b[0;31m---------------------------------------------------------------------------\u001b[0m",
            "\u001b[0;31mTypeError\u001b[0m                                 Traceback (most recent call last)",
            "\u001b[0;32m<ipython-input-14-16ee1a4af212>\u001b[0m in \u001b[0;36m<cell line: 11>\u001b[0;34m()\u001b[0m\n\u001b[1;32m      9\u001b[0m \u001b[0;34m\u001b[0m\u001b[0m\n\u001b[1;32m     10\u001b[0m \u001b[0;31m# пытаемся сериализовать его в JSON, но...\u001b[0m\u001b[0;34m\u001b[0m\u001b[0;34m\u001b[0m\u001b[0m\n\u001b[0;32m---> 11\u001b[0;31m \u001b[0mjson\u001b[0m\u001b[0;34m.\u001b[0m\u001b[0mdumps\u001b[0m\u001b[0;34m(\u001b[0m\u001b[0mt\u001b[0m\u001b[0;34m)\u001b[0m\u001b[0;34m\u001b[0m\u001b[0;34m\u001b[0m\u001b[0m\n\u001b[0m\u001b[1;32m     12\u001b[0m \u001b[0;31m# получаем ошибку TypeError, что класс несериализуем\u001b[0m\u001b[0;34m\u001b[0m\u001b[0;34m\u001b[0m\u001b[0m\n",
            "\u001b[0;32m/usr/lib/python3.10/json/__init__.py\u001b[0m in \u001b[0;36mdumps\u001b[0;34m(obj, skipkeys, ensure_ascii, check_circular, allow_nan, cls, indent, separators, default, sort_keys, **kw)\u001b[0m\n\u001b[1;32m    229\u001b[0m         \u001b[0mcls\u001b[0m \u001b[0;32mis\u001b[0m \u001b[0;32mNone\u001b[0m \u001b[0;32mand\u001b[0m \u001b[0mindent\u001b[0m \u001b[0;32mis\u001b[0m \u001b[0;32mNone\u001b[0m \u001b[0;32mand\u001b[0m \u001b[0mseparators\u001b[0m \u001b[0;32mis\u001b[0m \u001b[0;32mNone\u001b[0m \u001b[0;32mand\u001b[0m\u001b[0;34m\u001b[0m\u001b[0;34m\u001b[0m\u001b[0m\n\u001b[1;32m    230\u001b[0m         default is None and not sort_keys and not kw):\n\u001b[0;32m--> 231\u001b[0;31m         \u001b[0;32mreturn\u001b[0m \u001b[0m_default_encoder\u001b[0m\u001b[0;34m.\u001b[0m\u001b[0mencode\u001b[0m\u001b[0;34m(\u001b[0m\u001b[0mobj\u001b[0m\u001b[0;34m)\u001b[0m\u001b[0;34m\u001b[0m\u001b[0;34m\u001b[0m\u001b[0m\n\u001b[0m\u001b[1;32m    232\u001b[0m     \u001b[0;32mif\u001b[0m \u001b[0mcls\u001b[0m \u001b[0;32mis\u001b[0m \u001b[0;32mNone\u001b[0m\u001b[0;34m:\u001b[0m\u001b[0;34m\u001b[0m\u001b[0;34m\u001b[0m\u001b[0m\n\u001b[1;32m    233\u001b[0m         \u001b[0mcls\u001b[0m \u001b[0;34m=\u001b[0m \u001b[0mJSONEncoder\u001b[0m\u001b[0;34m\u001b[0m\u001b[0;34m\u001b[0m\u001b[0m\n",
            "\u001b[0;32m/usr/lib/python3.10/json/encoder.py\u001b[0m in \u001b[0;36mencode\u001b[0;34m(self, o)\u001b[0m\n\u001b[1;32m    197\u001b[0m         \u001b[0;31m# exceptions aren't as detailed.  The list call should be roughly\u001b[0m\u001b[0;34m\u001b[0m\u001b[0;34m\u001b[0m\u001b[0m\n\u001b[1;32m    198\u001b[0m         \u001b[0;31m# equivalent to the PySequence_Fast that ''.join() would do.\u001b[0m\u001b[0;34m\u001b[0m\u001b[0;34m\u001b[0m\u001b[0m\n\u001b[0;32m--> 199\u001b[0;31m         \u001b[0mchunks\u001b[0m \u001b[0;34m=\u001b[0m \u001b[0mself\u001b[0m\u001b[0;34m.\u001b[0m\u001b[0miterencode\u001b[0m\u001b[0;34m(\u001b[0m\u001b[0mo\u001b[0m\u001b[0;34m,\u001b[0m \u001b[0m_one_shot\u001b[0m\u001b[0;34m=\u001b[0m\u001b[0;32mTrue\u001b[0m\u001b[0;34m)\u001b[0m\u001b[0;34m\u001b[0m\u001b[0;34m\u001b[0m\u001b[0m\n\u001b[0m\u001b[1;32m    200\u001b[0m         \u001b[0;32mif\u001b[0m \u001b[0;32mnot\u001b[0m \u001b[0misinstance\u001b[0m\u001b[0;34m(\u001b[0m\u001b[0mchunks\u001b[0m\u001b[0;34m,\u001b[0m \u001b[0;34m(\u001b[0m\u001b[0mlist\u001b[0m\u001b[0;34m,\u001b[0m \u001b[0mtuple\u001b[0m\u001b[0;34m)\u001b[0m\u001b[0;34m)\u001b[0m\u001b[0;34m:\u001b[0m\u001b[0;34m\u001b[0m\u001b[0;34m\u001b[0m\u001b[0m\n\u001b[1;32m    201\u001b[0m             \u001b[0mchunks\u001b[0m \u001b[0;34m=\u001b[0m \u001b[0mlist\u001b[0m\u001b[0;34m(\u001b[0m\u001b[0mchunks\u001b[0m\u001b[0;34m)\u001b[0m\u001b[0;34m\u001b[0m\u001b[0;34m\u001b[0m\u001b[0m\n",
            "\u001b[0;32m/usr/lib/python3.10/json/encoder.py\u001b[0m in \u001b[0;36miterencode\u001b[0;34m(self, o, _one_shot)\u001b[0m\n\u001b[1;32m    255\u001b[0m                 \u001b[0mself\u001b[0m\u001b[0;34m.\u001b[0m\u001b[0mkey_separator\u001b[0m\u001b[0;34m,\u001b[0m \u001b[0mself\u001b[0m\u001b[0;34m.\u001b[0m\u001b[0mitem_separator\u001b[0m\u001b[0;34m,\u001b[0m \u001b[0mself\u001b[0m\u001b[0;34m.\u001b[0m\u001b[0msort_keys\u001b[0m\u001b[0;34m,\u001b[0m\u001b[0;34m\u001b[0m\u001b[0;34m\u001b[0m\u001b[0m\n\u001b[1;32m    256\u001b[0m                 self.skipkeys, _one_shot)\n\u001b[0;32m--> 257\u001b[0;31m         \u001b[0;32mreturn\u001b[0m \u001b[0m_iterencode\u001b[0m\u001b[0;34m(\u001b[0m\u001b[0mo\u001b[0m\u001b[0;34m,\u001b[0m \u001b[0;36m0\u001b[0m\u001b[0;34m)\u001b[0m\u001b[0;34m\u001b[0m\u001b[0;34m\u001b[0m\u001b[0m\n\u001b[0m\u001b[1;32m    258\u001b[0m \u001b[0;34m\u001b[0m\u001b[0m\n\u001b[1;32m    259\u001b[0m def _make_iterencode(markers, _default, _encoder, _indent, _floatstr,\n",
            "\u001b[0;32m/usr/lib/python3.10/json/encoder.py\u001b[0m in \u001b[0;36mdefault\u001b[0;34m(self, o)\u001b[0m\n\u001b[1;32m    177\u001b[0m \u001b[0;34m\u001b[0m\u001b[0m\n\u001b[1;32m    178\u001b[0m         \"\"\"\n\u001b[0;32m--> 179\u001b[0;31m         raise TypeError(f'Object of type {o.__class__.__name__} '\n\u001b[0m\u001b[1;32m    180\u001b[0m                         f'is not JSON serializable')\n\u001b[1;32m    181\u001b[0m \u001b[0;34m\u001b[0m\u001b[0m\n",
            "\u001b[0;31mTypeError\u001b[0m: Object of type Test is not JSON serializable"
          ]
        }
      ]
    },
    {
      "cell_type": "markdown",
      "source": [
        "Решить эту проблему можно тремя способами."
      ],
      "metadata": {
        "id": "P95McABIczUH"
      }
    },
    {
      "cell_type": "markdown",
      "source": [
        "### Написать функцию\n",
        "Чтобы сериализовать пользовательский объект в JSON-структуру данных, нужен аргумент default. Указывайте вызываемый объект, то есть функцию или статический метод.\n",
        "\n",
        "Чтобы получить аргументы класса с их значениями, нужна встроенная функция __dict__, потому что любой класс — это словарь со ссылками на значения по ключу.\n",
        "\n",
        "Чтобы сериализовать аргументы класса и их значения в JSON, напишите функцию:"
      ],
      "metadata": {
        "id": "FGWRKR0GdCCt"
      }
    },
    {
      "cell_type": "code",
      "source": [
        "import json\n",
        "\n",
        "class Test:\n",
        "    def __init__(self, title, body):\n",
        "        self.title = title\n",
        "        self.body = body\n",
        "\n",
        "t = Test(\"Some string\", \"Here is a bit more text, but still isn't enough\")\n",
        "\n",
        "# используем анонимную функцию (лямбду), которая\n",
        "# в качестве сериализуемых данных указывает полученный __dict__ объекта\n",
        "json.dumps(t, default=lambda x: x.__dict__)"
      ],
      "metadata": {
        "id": "Giz3Aa5BdE-Q",
        "outputId": "25797e80-6892-4f74-f87e-7c087e83fd68",
        "colab": {
          "base_uri": "https://localhost:8080/",
          "height": 35
        }
      },
      "execution_count": 17,
      "outputs": [
        {
          "output_type": "execute_result",
          "data": {
            "text/plain": [
              "'{\"title\": \"Some string\", \"body\": \"Here is a bit more text, but still isn\\'t enough\"}'"
            ],
            "application/vnd.google.colaboratory.intrinsic+json": {
              "type": "string"
            }
          },
          "metadata": {},
          "execution_count": 17
        }
      ]
    },
    {
      "cell_type": "markdown",
      "source": [
        "Но можно создать отдельную функцию и указать ее в качестве аргумента:"
      ],
      "metadata": {
        "id": "TiB7kb9ddijd"
      }
    },
    {
      "cell_type": "code",
      "source": [
        "import json\n",
        "\n",
        "class Test:\n",
        "    def __init__(self, title, body):\n",
        "        self.title = title\n",
        "        self.body = body\n",
        "\n",
        "t = Test(\"Some string\", \"Here is a bit more text, but still isn't enough\")\n",
        "\n",
        "\n",
        "def to_json(obj):\n",
        "     if isinstance(obj, Test):\n",
        "         result = obj.__dict__\n",
        "         result[\"className\"] = obj.__class__.__name__\n",
        "         return result\n",
        "\n",
        "json.dumps(t, default=to_json)"
      ],
      "metadata": {
        "id": "yOD9xk6ydjSH",
        "outputId": "4b951b85-9b54-42ad-96c6-de7de1c6ef93",
        "colab": {
          "base_uri": "https://localhost:8080/",
          "height": 35
        }
      },
      "execution_count": 18,
      "outputs": [
        {
          "output_type": "execute_result",
          "data": {
            "text/plain": [
              "'{\"title\": \"Some string\", \"body\": \"Here is a bit more text, but still isn\\'t enough\", \"className\": \"Test\"}'"
            ],
            "application/vnd.google.colaboratory.intrinsic+json": {
              "type": "string"
            }
          },
          "metadata": {},
          "execution_count": 18
        }
      ]
    },
    {
      "cell_type": "markdown",
      "source": [
        " Мы добавили название класса в получаемую структуру. Такой подход позволяет безошибочно понять: сущность какого класса нужно десериализовать в объект."
      ],
      "metadata": {
        "id": "cem1NQnMduan"
      }
    },
    {
      "cell_type": "markdown",
      "source": [
        "### Создать расширение классов\n",
        "Такого же результата добьетесь, если примените расширения специальных классов библиотеки:"
      ],
      "metadata": {
        "id": "1VhSFC3Udx5J"
      }
    },
    {
      "cell_type": "code",
      "source": [
        "import json\n",
        "\n",
        "class Test:\n",
        "    def __init__(self, title, body):\n",
        "        self.title = title\n",
        "        self.body = body\n",
        "\n",
        "class TestEncoder(json.JSONEncoder):\n",
        "     def default(self, o):\n",
        "         return {\"TITLE\": o.title, \"BODY\": o.body, \"CLASSNAME\": o.__class__.__name__}\n",
        "\n",
        "\n",
        "t = Test(\"Some string\", \"Here is a bit more text, but still isn't enough\")\n",
        "\n",
        "x = json.dumps(t, cls=TestEncoder)\n",
        "print(x)\n",
        "\n",
        "y = json.loads(x)\n",
        "print(y)\n",
        "print(y[\"TITLE\"])"
      ],
      "metadata": {
        "id": "BXlXKL7id2t5",
        "outputId": "8cb578e1-ce54-4d7d-8116-29e7f7a1d8aa",
        "colab": {
          "base_uri": "https://localhost:8080/"
        }
      },
      "execution_count": 20,
      "outputs": [
        {
          "output_type": "stream",
          "name": "stdout",
          "text": [
            "{\"TITLE\": \"Some string\", \"BODY\": \"Here is a bit more text, but still isn't enough\", \"CLASSNAME\": \"Test\"}\n",
            "{'TITLE': 'Some string', 'BODY': \"Here is a bit more text, but still isn't enough\", 'CLASSNAME': 'Test'}\n",
            "Some string\n"
          ]
        }
      ]
    },
    {
      "cell_type": "markdown",
      "source": [
        "Этот код почти верен, но есть одна важная деталь, которую нужно учесть. При использовании пользовательского JSON-кодера (JSONEncoder), вам также нужно обеспечить правильную десериализацию при загрузке JSON обратно в объекты Python.\n",
        "\n",
        "Вот исправленный код с добавленным методом from_json для десериализации:"
      ],
      "metadata": {
        "id": "BDsPVk4BeXzI"
      }
    },
    {
      "cell_type": "code",
      "source": [
        "import json\n",
        "\n",
        "class Test:\n",
        "    def __init__(self, title, body):\n",
        "        self.title = title\n",
        "        self.body = body\n",
        "\n",
        "class TestEncoder(json.JSONEncoder):\n",
        "    def default(self, o):\n",
        "        if isinstance(o, Test):\n",
        "            return {\"TITLE\": o.title, \"BODY\": o.body, \"CLASSNAME\": o.__class__.__name__}\n",
        "        return super().default(o)\n",
        "\n",
        "def from_json(json_obj):\n",
        "    if \"CLASSNAME\" in json_obj and json_obj[\"CLASSNAME\"] == \"Test\":\n",
        "        return Test(json_obj[\"TITLE\"], json_obj[\"BODY\"])\n",
        "    return json_obj\n",
        "\n",
        "t = Test(\"Some string\", \"Here is a bit more text, but still isn't enough\")\n",
        "\n",
        "# Сериализация\n",
        "x = json.dumps(t, cls=TestEncoder)\n",
        "print(x)\n",
        "\n",
        "# Десериализация\n",
        "y = json.loads(x, object_hook=from_json)\n",
        "print(y)\n",
        "print(y.title)"
      ],
      "metadata": {
        "id": "nBumbZ2TeawQ",
        "outputId": "dbb329f3-4716-4246-9fdc-60c205063e9a",
        "colab": {
          "base_uri": "https://localhost:8080/"
        }
      },
      "execution_count": 21,
      "outputs": [
        {
          "output_type": "stream",
          "name": "stdout",
          "text": [
            "{\"TITLE\": \"Some string\", \"BODY\": \"Here is a bit more text, but still isn't enough\", \"CLASSNAME\": \"Test\"}\n",
            "<__main__.Test object at 0x7ae6420ec8b0>\n",
            "Some string\n"
          ]
        }
      ]
    },
    {
      "cell_type": "markdown",
      "source": [
        "Такой подход можно использовать и в том случае, если класс состоит из нескольких других."
      ],
      "metadata": {
        "id": "h2m_4XGheedl"
      }
    },
    {
      "cell_type": "markdown",
      "source": [
        "## Применить паттерн «Адаптер»\n",
        "Идея в том, чтобы написать класс, который приводит к JSON пользовательские объекты и восстанавливает их. Определите класс фигуры, формы и цвета:"
      ],
      "metadata": {
        "id": "rsqO937JeirD"
      }
    },
    {
      "cell_type": "code",
      "source": [
        "class Figure:\n",
        "    def __init__(self, title, form, color):\n",
        "        self.title = title\n",
        "        self.form = form\n",
        "        self.color = color\n",
        "\n",
        "    def __str__(self):\n",
        "        return f\"Figure: {self.title}, {repr(self.form)}, {repr(self.color)}\"\n",
        "\n",
        "class Form:\n",
        "    def __init__(self, name):\n",
        "        self.name = name\n",
        "\n",
        "    def __repr__(self):\n",
        "        return f\"<Form: {self.name}>\"\n",
        "\n",
        "class Color:\n",
        "    def __init__(self, name):\n",
        "        self.name = name\n",
        "\n",
        "    def __repr__(self):\n",
        "        return f\"<Color: {self.name}>\""
      ],
      "metadata": {
        "id": "t4RKjJ6zesWf"
      },
      "execution_count": 22,
      "outputs": []
    },
    {
      "cell_type": "markdown",
      "source": [
        "Теперь напишим класс, который будет приводить объекты фигуры к JSON, а из JSON воссоздавать полученный объект:"
      ],
      "metadata": {
        "id": "7Z_eBDtLe5f9"
      }
    },
    {
      "cell_type": "code",
      "source": [
        "class JSONDataAdapter:\n",
        "    @staticmethod\n",
        "    def to_json(o):\n",
        "        if isinstance(o, Figure):\n",
        "            return json.dumps({\n",
        "              \"title\": o.title,\n",
        "              \"form\": o.form.name,\n",
        "              \"color\": o.color.name,\n",
        "            })\n",
        "\n",
        "    @staticmethod\n",
        "    def from_json(o):\n",
        "        o = json.loads(o)\n",
        "\n",
        "        try:\n",
        "            form = Form(o[\"form\"])\n",
        "            color = Color(o[\"color\"])\n",
        "            figure = Figure(o[\"title\"], form, color)\n",
        "            return figure\n",
        "        except AttributeError:\n",
        "            print(\"Неверная структура\")"
      ],
      "metadata": {
        "id": "1-aQSRBue_at"
      },
      "execution_count": 23,
      "outputs": []
    },
    {
      "cell_type": "markdown",
      "source": [
        "Протестируйем решение:"
      ],
      "metadata": {
        "id": "LLtJ-jBBfDpp"
      }
    },
    {
      "cell_type": "code",
      "source": [
        "if __name__ == '__main__':\n",
        "    # создадим несколько цветов\n",
        "    black = Color(\"Black\")\n",
        "    yellow = Color(\"Yellow\")\n",
        "    green = Color(\"Green\")\n",
        "\n",
        "    # несколько форм\n",
        "    rountt = Form(\"Rounded\")\n",
        "    square = Form(\"Squared\")\n",
        "\n",
        "    # объекты фигур\n",
        "    figure_one = Figure(\"Black Square\", form=square, color=black)\n",
        "    figure_two = Figure(\"Yellow Circle\", form=rountt, color=yellow)\n",
        "\n",
        "    print(\"Отображение объектов\")\n",
        "    print(figure_one)\n",
        "    print(figure_two)\n",
        "    print()\n",
        "\n",
        "    # преобразуем данные в JSON\n",
        "    jone = JSONDataAdapter.to_json(figure_one)\n",
        "    jtwo = JSONDataAdapter.to_json(figure_two)\n",
        "\n",
        "    print(\"Отображение JSON\")\n",
        "    print(jone)\n",
        "    print(jtwo)\n",
        "    print()\n",
        "\n",
        "    # восстановим объекты\n",
        "    restored_one = JSONDataAdapter.from_json(jone)\n",
        "    restored_two = JSONDataAdapter.from_json(jtwo)\n",
        "\n",
        "    print(\"Отображение восстановленных объектов\")\n",
        "    print(restored_one)\n",
        "    print(restored_two)\n",
        ""
      ],
      "metadata": {
        "id": "lt4NGaxBfG1b",
        "outputId": "ba092dc0-8f09-4344-b312-983fadf9b758",
        "colab": {
          "base_uri": "https://localhost:8080/"
        }
      },
      "execution_count": 25,
      "outputs": [
        {
          "output_type": "stream",
          "name": "stdout",
          "text": [
            "Отображение объектов\n",
            "Figure: Black Square, <Form: Squared>, <Color: Black>\n",
            "Figure: Yellow Circle, <Form: Rounded>, <Color: Yellow>\n",
            "\n",
            "Отображение JSON\n",
            "{\"title\": \"Black Square\", \"form\": \"Squared\", \"color\": \"Black\"}\n",
            "{\"title\": \"Yellow Circle\", \"form\": \"Rounded\", \"color\": \"Yellow\"}\n",
            "\n",
            "Отображение восстановленных объектов\n",
            "Figure: Black Square, <Form: Squared>, <Color: Black>\n",
            "Figure: Yellow Circle, <Form: Rounded>, <Color: Yellow>\n"
          ]
        }
      ]
    },
    {
      "cell_type": "markdown",
      "source": [
        "## Примеры"
      ],
      "metadata": {
        "id": "MK2vDBavgCh1"
      }
    },
    {
      "cell_type": "markdown",
      "source": [
        "**Пример 1.** Создайте класс Student с реализацией сериализации и десериализации."
      ],
      "metadata": {
        "id": "XA-V7BxvgGQm"
      }
    },
    {
      "cell_type": "code",
      "source": [
        "import json\n",
        "\n",
        "class Student:\n",
        "    def __init__(self, name, age, major):\n",
        "        self.name = name\n",
        "        self.age = age\n",
        "        self.major = major\n",
        "\n",
        "    def to_json(self):\n",
        "        return {\n",
        "            \"name\": self.name,\n",
        "            \"age\": self.age,\n",
        "            \"major\": self.major\n",
        "        }\n",
        "\n",
        "    @staticmethod\n",
        "    def from_json(data):\n",
        "        return Student(data[\"name\"], data[\"age\"], data[\"major\"])\n",
        "\n",
        "# Создаем экземпляр класса Student\n",
        "student1 = Student(\"Alice\", 20, \"Computer Science\")\n",
        "\n",
        "# Сериализация экземпляра класса Student\n",
        "json_str = json.dumps(student1.to_json())\n",
        "print(json_str)\n",
        "\n",
        "# Десериализация JSON в объект Student\n",
        "json_data = '{\"name\": \"Bob\", \"age\": 21, \"major\": \"Engineering\"}'\n",
        "restored_student = Student.from_json(json.loads(json_data))\n",
        "print(restored_student.name, restored_student.age, restored_student.major)\n"
      ],
      "metadata": {
        "id": "G8POmWPFc0Kk",
        "outputId": "cbbfc243-53e4-454e-903d-357f23bd1a2b",
        "colab": {
          "base_uri": "https://localhost:8080/"
        }
      },
      "execution_count": 27,
      "outputs": [
        {
          "output_type": "stream",
          "name": "stdout",
          "text": [
            "{\"name\": \"Alice\", \"age\": 20, \"major\": \"Computer Science\"}\n",
            "Bob 21 Engineering\n"
          ]
        }
      ]
    },
    {
      "cell_type": "markdown",
      "source": [
        "**Пример 2.** Если класс Student унаследуется от класса Person, то вы можете включить это в определение класса Student следующим образом:"
      ],
      "metadata": {
        "id": "aGxCxvUMga6X"
      }
    },
    {
      "cell_type": "code",
      "source": [
        "import json\n",
        "from typing import Dict, Any\n",
        "\n",
        "class Person:\n",
        "    def __init__(self, name: str, age: int) -> None:\n",
        "        self.name = name\n",
        "        self.age = age\n",
        "\n",
        "    def to_json(self) -> Dict[str, Any]:\n",
        "        return {\"name\": self.name, \"age\": self.age}\n",
        "\n",
        "class Student(Person):\n",
        "    def __init__(self, name: str, age: int, major: str) -> None:\n",
        "        super().__init__(name, age)\n",
        "        self.major = major\n",
        "\n",
        "    def to_json(self) -> Dict[str, Any]:\n",
        "        data = super().to_json()\n",
        "        data[\"major\"] = self.major\n",
        "        return data\n",
        "\n",
        "    @staticmethod\n",
        "    def from_json(data: Dict[str, Any]) -> 'Student':\n",
        "        return Student(data[\"name\"], data[\"age\"], data[\"major\"])\n",
        "\n",
        "# Создаем экземпляр класса Student\n",
        "student1 = Student(\"Alice\", 20, \"Computer Science\")\n",
        "\n",
        "# Сериализация экземпляра класса Student\n",
        "json_str = json.dumps(student1.to_json())\n",
        "print(json_str)\n",
        "\n",
        "# Десериализация JSON в объект Student\n",
        "json_data = '{\"name\": \"Bob\", \"age\": 21, \"major\": \"Engineering\"}'\n",
        "restored_student = Student.from_json(json.loads(json_data))\n",
        "print(restored_student.name, restored_student.age, restored_student.major)"
      ],
      "metadata": {
        "id": "B4LIz7yygva5",
        "outputId": "b5d0cbd3-6130-4f9d-dcc8-168a662b2a46",
        "colab": {
          "base_uri": "https://localhost:8080/"
        }
      },
      "execution_count": 32,
      "outputs": [
        {
          "output_type": "stream",
          "name": "stdout",
          "text": [
            "{\"name\": \"Alice\", \"age\": 20, \"major\": \"Computer Science\"}\n",
            "Bob 21 Engineering\n"
          ]
        }
      ]
    },
    {
      "cell_type": "markdown",
      "source": [
        "**Пример 3.**  У вас есть JSON-объект, который содержит информацию о командах, игроках и их результаты. Вам нужно извлечь значение \"score\" для первого игрока первой команды из этого JSON-объекта с использованием сериализации и десериализации. JSON-объект должен быть сохранен в файле, и вы должны использовать модуль json в Python для записи и чтения данных из файла.\n",
        "\n",
        "Задача состоит из следующих шагов:\n",
        "\n",
        "1. Создание JSON-объекта с информацией о командах, игроках и их результаты.\n",
        "2. Сериализация (запись) JSON-объекта в файл с использованием модуля json.\n",
        "3. Чтение и десериализация JSON-объекта из файла с использованием модуля json.\n",
        "4. Извлечение значения \"score\" для первого игрока первой команды из десериализованного JSON-объекта."
      ],
      "metadata": {
        "id": "_CXrRDgmibqT"
      }
    },
    {
      "cell_type": "code",
      "source": [
        "import json\n",
        "\n",
        "# Создаем и записываем JSON в файл\n",
        "data = {\n",
        "    \"data\": {\n",
        "        \"teamStanding\": [\n",
        "            {\n",
        "                \"id\": \"team_1\",\n",
        "                \"score\": 103,\n",
        "                \"players\": [\n",
        "                    {\n",
        "                        \"user\": {\n",
        "                            \"name\": \"player_1\",\n",
        "                            \"id\": \"player_1\"\n",
        "                        },\n",
        "                        \"score\": 35\n",
        "                    }\n",
        "                ]\n",
        "            }\n",
        "        ]\n",
        "    }\n",
        "}\n",
        "\n",
        "# Записываем JSON в файл\n",
        "with open('data.json', 'w') as file:\n",
        "    json.dump(data, file)\n",
        "\n",
        "# Чтение и десериализация JSON из файла\n",
        "with open('data.json', 'r') as file:\n",
        "    data_from_file = json.load(file)\n",
        "\n",
        "# Извлечение значения score для первого игрока первой команды\n",
        "player_score = data_from_file[\"data\"][\"teamStanding\"][0][\"players\"][0][\"score\"]\n",
        "print(player_score)  # Выведет: 35"
      ],
      "metadata": {
        "id": "LuAqlx6dihf4",
        "outputId": "be5bd873-5621-4149-fdd4-c9cfec385e4a",
        "colab": {
          "base_uri": "https://localhost:8080/"
        }
      },
      "execution_count": 35,
      "outputs": [
        {
          "output_type": "stream",
          "name": "stdout",
          "text": [
            "35\n"
          ]
        }
      ]
    },
    {
      "cell_type": "markdown",
      "source": [],
      "metadata": {
        "id": "YOY01pujiqES"
      }
    }
  ]
}