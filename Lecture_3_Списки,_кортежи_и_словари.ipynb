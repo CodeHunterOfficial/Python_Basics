{
  "nbformat": 4,
  "nbformat_minor": 0,
  "metadata": {
    "colab": {
      "provenance": [],
      "authorship_tag": "ABX9TyOvg6nkC2re2ioixpctGgfW",
      "include_colab_link": true
    },
    "kernelspec": {
      "name": "python3",
      "display_name": "Python 3"
    },
    "language_info": {
      "name": "python"
    }
  },
  "cells": [
    {
      "cell_type": "markdown",
      "metadata": {
        "id": "view-in-github",
        "colab_type": "text"
      },
      "source": [
        "<a href=\"https://colab.research.google.com/github/CodeHunterOfficial/Python_Basics/blob/main/Lecture_3_%D0%A1%D0%BF%D0%B8%D1%81%D0%BA%D0%B8%2C_%D0%BA%D0%BE%D1%80%D1%82%D0%B5%D0%B6%D0%B8_%D0%B8_%D1%81%D0%BB%D0%BE%D0%B2%D0%B0%D1%80%D0%B8.ipynb\" target=\"_parent\"><img src=\"https://colab.research.google.com/assets/colab-badge.svg\" alt=\"Open In Colab\"/></a>"
      ]
    },
    {
      "cell_type": "markdown",
      "source": [
        "# Списки, кортежи и словари"
      ],
      "metadata": {
        "id": "SXT83mMk_fis"
      }
    },
    {
      "cell_type": "markdown",
      "source": [
        "## Список\n"
      ],
      "metadata": {
        "id": "yjIenoTz_hOw"
      }
    },
    {
      "cell_type": "markdown",
      "source": [
        "Для работы с наборами данных Python предоставляет такие встроенные типы как списки, кортежи и словари.\n",
        "\n",
        "Список (list) представляет тип данных, который хранит набор или последовательность элементов. Во многих языках программирования есть аналогичная структура данных, которая называется массив.\n",
        "\n"
      ],
      "metadata": {
        "id": "IbQoyfhR_kCK"
      }
    },
    {
      "cell_type": "markdown",
      "source": [
        "### Создание списка\n",
        "\n",
        "Для создания списка применяются квадратные скобки [], внутри которых через запятую перечисляются элементы списка. Например, определим список чисел:"
      ],
      "metadata": {
        "id": "JCs9rldc_pje"
      }
    },
    {
      "cell_type": "code",
      "source": [
        "numbers = [1, 2, 3, 4, 5]\n",
        "print(numbers)\n",
        "\n",
        "people = [\"Tomilo\", \"Samira\", \"Bobur\"]\n",
        "print(people)\n",
        "\n",
        "objects = [1, 2.6, \"Hello\", True]\n",
        "print(objects)"
      ],
      "metadata": {
        "colab": {
          "base_uri": "https://localhost:8080/"
        },
        "id": "Phk8IqgvvtZt",
        "outputId": "e30c9e06-630d-4037-8326-73371464cc31"
      },
      "execution_count": 6,
      "outputs": [
        {
          "output_type": "stream",
          "name": "stdout",
          "text": [
            "[1, 2, 3, 4, 5]\n",
            "['Tomilo', 'Samira', 'Bobur']\n",
            "[1, 2.6, 'Hello', True]\n"
          ]
        }
      ]
    },
    {
      "cell_type": "markdown",
      "source": [
        "Также для создания списка можно использовать функцию-конструктор list():"
      ],
      "metadata": {
        "id": "WnXhJc83wDPz"
      }
    },
    {
      "cell_type": "code",
      "source": [
        "numbers1 = []\n",
        "numbers2 = list()"
      ],
      "metadata": {
        "id": "wSvlB03GwDsd"
      },
      "execution_count": 2,
      "outputs": []
    },
    {
      "cell_type": "markdown",
      "source": [
        "Конструктор list может принимать набор значений, на основе которых создается список:"
      ],
      "metadata": {
        "id": "0s5ObLNwwLvH"
      }
    },
    {
      "cell_type": "code",
      "source": [
        "numbers1 = [1, 2, 3, 4, 5]\n",
        "numbers2 = list(numbers1)\n",
        "print(numbers2)  # [1, 2, 3, 4, 5]\n",
        "\n",
        "letters = list(\"Hello\")\n",
        "print(letters)      # ['H', 'e', 'l', 'l', 'o']"
      ],
      "metadata": {
        "colab": {
          "base_uri": "https://localhost:8080/"
        },
        "id": "8g7aWT6BwOQ1",
        "outputId": "50d71144-1a99-4b8d-cbd6-fa942022a7ed"
      },
      "execution_count": 4,
      "outputs": [
        {
          "output_type": "stream",
          "name": "stdout",
          "text": [
            "[1, 2, 3, 4, 5]\n",
            "['H', 'e', 'l', 'l', 'o']\n"
          ]
        }
      ]
    },
    {
      "cell_type": "markdown",
      "source": [
        "Если необходимо создать список, в котором повторяется одно и то же значение несколько раз, то можно использовать символ звездочки *, то есть фактически применить операцию умножения к уже существующему списку:"
      ],
      "metadata": {
        "id": "u-tKoYC4wSQs"
      }
    },
    {
      "cell_type": "code",
      "source": [
        "numbers = [5] * 6   # 6 раз повторяем 5\n",
        "print(numbers)      # [5, 5, 5, 5, 5, 5]\n",
        "\n",
        "people = [\"Alexandra\"] * 3    # 3 раза повторяем \"Alexandra\"\n",
        "print(people)           # [\"Alexandra\", \"Alexandra\", \"Alexandra\"]\n",
        "\n",
        "students = [\"Masha\", \"Dasha\"] * 2   # 2 раза повторяем \"Masha\", \"Dasha\"\n",
        "print(students)                 # [\"Masha\", \"Dasha\", \"Masha\", \"Dasha\"]"
      ],
      "metadata": {
        "colab": {
          "base_uri": "https://localhost:8080/"
        },
        "id": "T5D-Z6yLwWBD",
        "outputId": "99fab564-2513-4f52-a863-a0da935d9d4d"
      },
      "execution_count": 7,
      "outputs": [
        {
          "output_type": "stream",
          "name": "stdout",
          "text": [
            "[5, 5, 5, 5, 5, 5]\n",
            "['Alexandra', 'Alexandra', 'Alexandra']\n",
            "['Masha', 'Dasha', 'Masha', 'Dasha']\n"
          ]
        }
      ]
    },
    {
      "cell_type": "markdown",
      "source": [
        "## Обращение к элементам списка\n",
        "\n",
        "Для обращения к элементам списка надо использовать индексы, которые представляют номер элемента в списка. Индексы начинаются с нуля. То есть первый элемент будет иметь индекс 0, второй элемент - индекс 1 и так далее. Для обращения к элементам с конца можно использовать отрицательные индексы, начиная с -1. То есть у последнего элемента будет индекс -1, у предпоследнего - -2 и так далее"
      ],
      "metadata": {
        "id": "MrS0PrprwzEz"
      }
    },
    {
      "cell_type": "code",
      "source": [
        "people = [\"Arina\", \"Karina\", \"Sabina\"]\n",
        "# получение элементов с начала списка\n",
        "print(people[0])   # Arina\n",
        "print(people[1])   # Karina\n",
        "print(people[2])   # Sabina\n",
        "\n",
        "print()\n",
        "# получение элементов с конца списка\n",
        "print(people[-2])   # Karina\n",
        "print(people[-1])   # Sabina\n",
        "print(people[-3])   # Arina"
      ],
      "metadata": {
        "colab": {
          "base_uri": "https://localhost:8080/"
        },
        "id": "uB2kExwsw3jz",
        "outputId": "4538d195-6487-4500-d728-eb93f81d3969"
      },
      "execution_count": 9,
      "outputs": [
        {
          "output_type": "stream",
          "name": "stdout",
          "text": [
            "Arina\n",
            "Karina\n",
            "Sabina\n",
            "\n",
            "Karina\n",
            "Sabina\n",
            "Arina\n"
          ]
        }
      ]
    },
    {
      "cell_type": "markdown",
      "source": [
        "Для изменения элемента списка достаточно присвоить ему новое значение:"
      ],
      "metadata": {
        "id": "Gmdec-0WxM4M"
      }
    },
    {
      "cell_type": "code",
      "source": [
        "people = [\"Arina\", \"Karina\", \"Sabina\"]\n",
        "\n",
        "people[1] = \"Raul\"  # изменение второго элемента\n",
        "print(people[1])    # Raul\n",
        "print(people)       # [\"Arina\", \"Raul\", \"Sabina\"]"
      ],
      "metadata": {
        "colab": {
          "base_uri": "https://localhost:8080/"
        },
        "id": "9U1omX3JxP-8",
        "outputId": "c359310b-faaf-493b-d57f-136c051383ad"
      },
      "execution_count": 10,
      "outputs": [
        {
          "output_type": "stream",
          "name": "stdout",
          "text": [
            "Raul\n",
            "['Arina', 'Raul', 'Sabina']\n"
          ]
        }
      ]
    },
    {
      "cell_type": "markdown",
      "source": [
        "## Разложение списка\n",
        "\n",
        "Python позволяет разложить список на отдельные элементы:"
      ],
      "metadata": {
        "id": "m3XGJSngxfFF"
      }
    },
    {
      "cell_type": "code",
      "source": [
        "people = [\"Arina\", \"Karina\", \"Sabina\"]\n",
        "\n",
        "arina, karina, sabina = people\n",
        "\n",
        "print(arina)      # Arina\n",
        "print(karina)      # Karina\n",
        "print(sabina)      # Sabina"
      ],
      "metadata": {
        "id": "86nsHQzExm59",
        "outputId": "2c64e313-7173-4cfb-af13-c9b56dbff1e4",
        "colab": {
          "base_uri": "https://localhost:8080/"
        }
      },
      "execution_count": 11,
      "outputs": [
        {
          "output_type": "stream",
          "name": "stdout",
          "text": [
            "Arina\n",
            "Karina\n",
            "Sabina\n"
          ]
        }
      ]
    },
    {
      "cell_type": "markdown",
      "source": [
        "## Перебор элементов\n",
        "\n",
        "Для перебора элементов можно использовать как цикл for, так и цикл while.\n",
        "\n",
        "Перебор с помощью цикла for:"
      ],
      "metadata": {
        "id": "R1KpHa2Lx30r"
      }
    },
    {
      "cell_type": "code",
      "source": [
        "people = [\"Arina\", \"Karina\", \"Sabina\"]\n",
        "for person in people:\n",
        "    print(person)"
      ],
      "metadata": {
        "id": "C0b9Fg5Bx5l4",
        "outputId": "07bf544c-3ac5-4b10-a14a-4fc83ee684f6",
        "colab": {
          "base_uri": "https://localhost:8080/"
        }
      },
      "execution_count": 12,
      "outputs": [
        {
          "output_type": "stream",
          "name": "stdout",
          "text": [
            "Arina\n",
            "Karina\n",
            "Sabina\n"
          ]
        }
      ]
    },
    {
      "cell_type": "markdown",
      "source": [
        "Перебор также можно сделать с помощью цикла while:"
      ],
      "metadata": {
        "id": "AnzCAv9ex9x_"
      }
    },
    {
      "cell_type": "code",
      "source": [
        "people = [\"Arina\", \"Karina\", \"Sabina\"]\n",
        "i = 0\n",
        "while i < len(people):\n",
        "    print(people[i])    # применяем индекс для получения элемента\n",
        "    i += 1"
      ],
      "metadata": {
        "id": "btvIyc05yCa-",
        "outputId": "49f5795c-1aaa-4267-f950-fe47001b74d5",
        "colab": {
          "base_uri": "https://localhost:8080/"
        }
      },
      "execution_count": 13,
      "outputs": [
        {
          "output_type": "stream",
          "name": "stdout",
          "text": [
            "Arina\n",
            "Karina\n",
            "Sabina\n"
          ]
        }
      ]
    },
    {
      "cell_type": "markdown",
      "source": [
        "## Сравнение списков\n",
        "\n",
        "Два списка считаются равными, если они содержат один и тот же набор элементов:"
      ],
      "metadata": {
        "id": "kQlEUMLKyG5C"
      }
    },
    {
      "cell_type": "code",
      "source": [
        "numbers1 = [1, 2, 3, 4, 5]\n",
        "numbers2 = list([1, 2, 3, 4, 5])\n",
        "if numbers1 == numbers2:\n",
        "    print(\"numbers1 equal to numbers2\")\n",
        "else:\n",
        "    print(\"numbers1 is not equal to numbers2\")"
      ],
      "metadata": {
        "id": "3TAcq9OLyNPO",
        "outputId": "5b65c261-c595-4379-91cd-7e822a9cbb78",
        "colab": {
          "base_uri": "https://localhost:8080/"
        }
      },
      "execution_count": 14,
      "outputs": [
        {
          "output_type": "stream",
          "name": "stdout",
          "text": [
            "numbers1 equal to numbers2\n"
          ]
        }
      ]
    },
    {
      "cell_type": "markdown",
      "source": [
        "## Получение части списка\n",
        "\n",
        "Если необходимо получить какую-то определенную часть списка, то мы можем применять специальный синтаксис, который может принимать следующие формы:\n",
        "\n",
        "* list[:end]: через параметр end передается индекс элемента, до которого нужно копировать список\n",
        "\n",
        "* list[start:end]: параметр start указывает на индекс элемента, начиная с которого надо скопировать элементы\n",
        "\n",
        "* list[start:end:step]: параметр step указывает на шаг, через который будут копироваться элементы из списка. По умолчанию этот параметр равен 1."
      ],
      "metadata": {
        "id": "ArXGmcGxyUgE"
      }
    },
    {
      "cell_type": "code",
      "source": [
        "people = [\"Arina\", \"Karina\", \"Alice\", \"Laysan\", \"Alexandra\", \"Masha\", \"Dasha\"]\n",
        "\n",
        "slice_people1 = people[:3]   # с 0 по 3\n",
        "print(slice_people1)   # ['Arina', 'Karina', 'Alice']\n",
        "\n",
        "slice_people2 = people[1:3]   # с 1 по 3\n",
        "print(slice_people2)   # ['Karina', 'Alice']\n",
        "\n",
        "slice_people3 = people[0:7:2]   # с 1 по 6 с шагом 2\n",
        "print(slice_people3)   #  ['Arina', 'Alice', 'Alexandra', 'Dasha']"
      ],
      "metadata": {
        "id": "5DP06xQkyqEk",
        "outputId": "db55a28f-4f52-4948-b6bb-0c03899f7d52",
        "colab": {
          "base_uri": "https://localhost:8080/"
        }
      },
      "execution_count": 18,
      "outputs": [
        {
          "output_type": "stream",
          "name": "stdout",
          "text": [
            "['Arina', 'Karina', 'Alice']\n",
            "['Karina', 'Alice']\n",
            "['Arina', 'Alice', 'Alexandra', 'Dasha']\n"
          ]
        }
      ]
    },
    {
      "cell_type": "markdown",
      "source": [
        "Можно использовать отрицательные индексы, тогда отсчет будет идти с конца, например, -1 - предпоследний, -2 - третий сконца и так далее."
      ],
      "metadata": {
        "id": "BpbTZ8s-zJIh"
      }
    },
    {
      "cell_type": "code",
      "source": [
        "people = [\"Arina\", \"Karina\", \"Alice\", \"Laysan\", \"Alexandra\", \"Masha\", \"Dasha\"]\n",
        "\n",
        "slice_people1 = people[:-1]   # с предпоследнего по нулевой\n",
        "print(slice_people1)   # ['Arina', 'Karina', 'Alice', 'Laysan', 'Alexandra', 'Masha']\n",
        "\n",
        "slice_people2 = people[-3:-1]   # с третьего с конца по предпоследний\n",
        "print(slice_people2)   # ['Alexandra', 'Masha']\n",
        "\n",
        "slice_people2 = people[-4:]   # от четвертого элемента с конца до конца списка\n",
        "print(slice_people2)   # ['Laysan', 'Alexandra', 'Masha', 'Dasha']"
      ],
      "metadata": {
        "id": "miAUc8KTzMKF",
        "outputId": "5daa6ad1-0587-4206-da71-0fef5857a101",
        "colab": {
          "base_uri": "https://localhost:8080/"
        }
      },
      "execution_count": 26,
      "outputs": [
        {
          "output_type": "stream",
          "name": "stdout",
          "text": [
            "['Arina', 'Karina', 'Alice', 'Laysan', 'Alexandra', 'Masha']\n",
            "['Alexandra', 'Masha']\n",
            "['Laysan', 'Alexandra', 'Masha', 'Dasha']\n"
          ]
        }
      ]
    },
    {
      "cell_type": "markdown",
      "source": [
        "## Методы и функции по работе со списками\n",
        "\n",
        "Для управления элементами списки имеют целый ряд методов. Некоторые из них:\n",
        "\n",
        "* append(item): добавляет элемент item в конец списка\n",
        "\n",
        "* insert(index, item): добавляет элемент item в список по индексу index\n",
        "\n",
        "* extend(items): добавляет набор элементов items в конец списка\n",
        "\n",
        "* remove(item): удаляет элемент item. Удаляется только первое вхождение элемента. Если элемент не найден, генерирует исключение ValueError\n",
        "\n",
        "*  clear(): удаление всех элементов из списка\n",
        "\n",
        "* index(item): возвращает индекс элемента item. Если элемент не найден, генерирует исключение ValueError\n",
        "\n",
        "* pop([index]): удаляет и возвращает элемент по индексу index. Если индекс не передан, то просто удаляет последний элемент.\n",
        "\n",
        "* count(item): возвращает количество вхождений элемента item в список\n",
        "\n",
        "* sort([key]): сортирует элементы. По умолчанию сортирует по возрастанию. Но с помощью параметра key мы можем передать функцию сортировки.\n",
        "\n",
        "* reverse(): расставляет все элементы в списке в обратном порядке\n",
        "\n",
        "* copy(): копирует список\n",
        "\n",
        "Кроме того, Python предоставляет ряд встроенных функций для работы со списками:\n",
        "\n",
        "* len(list): возвращает длину списка\n",
        "\n",
        "* sorted(list, [key]): возвращает отсортированный список\n",
        "\n",
        "* min(list): возвращает наименьший элемент списка\n",
        "\n",
        "* max(list): возвращает наибольший элемент списка\n",
        "\n"
      ],
      "metadata": {
        "id": "nJT_KXQ0zzZ1"
      }
    },
    {
      "cell_type": "markdown",
      "source": [
        "## Добавление и удаление элементов\n",
        "\n",
        "Для добавления элемента применяются методы append(), extend и insert, а для удаления - методы remove(), pop() и clear().\n",
        "\n",
        "Использование методов:"
      ],
      "metadata": {
        "id": "28oDXMwb0hPp"
      }
    },
    {
      "cell_type": "code",
      "source": [
        "people = [\"Arina\", \"Karina\"]\n",
        "\n",
        "# добавляем в конец списка\n",
        "people.append(\"Alice\")  # [\"Tom\", \"Bob\", \"Alice\"]\n",
        "# добавляем на вторую позицию\n",
        "people.insert(1, \"Bilal\")  # [\"Tom\", \"Bill\", \"Bob\", \"Alice\"]\n",
        "# добавляем набор элементов [\"Mike\", \"Sam\"]\n",
        "people.extend([\"Misha\", \"Nikita\", \"Laysan\"])      # [\"Tom\", \"Bill\", \"Bob\", \"Alice\", \"Mike\", \"Sam\"]\n",
        "# получаем индекс элемента\n",
        "index_of_tom = people.index(\"Laysan\")\n",
        "# удаляем по этому индексу\n",
        "removed_item = people.pop(index_of_tom)     # [\"Bill\", \"Bob\", \"Alice\", \"Mike\", \"Sam\"]\n",
        "# удаляем последний элемент\n",
        "last_item = people.pop()     # [\"Bill\", \"Bob\", \"Alice\", \"Mike\"]\n",
        "# удаляем элемент \"Alice\"\n",
        "people.remove(\"Alice\")      # [\"Bill\", \"Bob\", \"Mike\"]\n",
        "print(people)       # [\"Bill\", \"Bob\", \"Mike\"]\n",
        "# удаляем все элементы\n",
        "people.clear()\n",
        "print(people)       # []"
      ],
      "metadata": {
        "id": "KKhkAI-50zcf",
        "outputId": "c92f99ff-17be-46d6-bb09-c90cf3adfdfd",
        "colab": {
          "base_uri": "https://localhost:8080/"
        }
      },
      "execution_count": 28,
      "outputs": [
        {
          "output_type": "stream",
          "name": "stdout",
          "text": [
            "['Arina', 'Bilal', 'Karina', 'Misha']\n",
            "[]\n"
          ]
        }
      ]
    }
  ]
}