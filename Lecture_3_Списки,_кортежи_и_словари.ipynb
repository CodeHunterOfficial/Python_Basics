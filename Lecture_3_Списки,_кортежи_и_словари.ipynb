{
  "nbformat": 4,
  "nbformat_minor": 0,
  "metadata": {
    "colab": {
      "provenance": [],
      "authorship_tag": "ABX9TyMLwBZTXpYjWlDW+9yt4UD7",
      "include_colab_link": true
    },
    "kernelspec": {
      "name": "python3",
      "display_name": "Python 3"
    },
    "language_info": {
      "name": "python"
    }
  },
  "cells": [
    {
      "cell_type": "markdown",
      "metadata": {
        "id": "view-in-github",
        "colab_type": "text"
      },
      "source": [
        "<a href=\"https://colab.research.google.com/github/CodeHunterOfficial/Python_Basics/blob/main/Lecture_3_%D0%A1%D0%BF%D0%B8%D1%81%D0%BA%D0%B8%2C_%D0%BA%D0%BE%D1%80%D1%82%D0%B5%D0%B6%D0%B8_%D0%B8_%D1%81%D0%BB%D0%BE%D0%B2%D0%B0%D1%80%D0%B8.ipynb\" target=\"_parent\"><img src=\"https://colab.research.google.com/assets/colab-badge.svg\" alt=\"Open In Colab\"/></a>"
      ]
    },
    {
      "cell_type": "markdown",
      "source": [
        "# Списки, кортежи и словари"
      ],
      "metadata": {
        "id": "SXT83mMk_fis"
      }
    },
    {
      "cell_type": "markdown",
      "source": [
        "## Список\n"
      ],
      "metadata": {
        "id": "yjIenoTz_hOw"
      }
    },
    {
      "cell_type": "markdown",
      "source": [
        "Для работы с наборами данных Python предоставляет такие встроенные типы как списки, кортежи и словари.\n",
        "\n",
        "Список (list) представляет тип данных, который хранит набор или последовательность элементов. Во многих языках программирования есть аналогичная структура данных, которая называется массив.\n",
        "\n"
      ],
      "metadata": {
        "id": "IbQoyfhR_kCK"
      }
    },
    {
      "cell_type": "markdown",
      "source": [
        "### Создание списка\n",
        "\n",
        "Для создания списка применяются квадратные скобки [], внутри которых через запятую перечисляются элементы списка. Например, определим список чисел:"
      ],
      "metadata": {
        "id": "JCs9rldc_pje"
      }
    },
    {
      "cell_type": "code",
      "source": [
        "numbers = [1, 2, 3, 4, 5]\n",
        "print(numbers)\n",
        "\n",
        "people = [\"Tomilo\", \"Samira\", \"Bobur\"]\n",
        "print(people)\n",
        "\n",
        "objects = [1, 2.6, \"Hello\", True]\n",
        "print(objects)"
      ],
      "metadata": {
        "colab": {
          "base_uri": "https://localhost:8080/"
        },
        "id": "Phk8IqgvvtZt",
        "outputId": "e30c9e06-630d-4037-8326-73371464cc31"
      },
      "execution_count": 6,
      "outputs": [
        {
          "output_type": "stream",
          "name": "stdout",
          "text": [
            "[1, 2, 3, 4, 5]\n",
            "['Tomilo', 'Samira', 'Bobur']\n",
            "[1, 2.6, 'Hello', True]\n"
          ]
        }
      ]
    },
    {
      "cell_type": "markdown",
      "source": [
        "Также для создания списка можно использовать функцию-конструктор list():"
      ],
      "metadata": {
        "id": "WnXhJc83wDPz"
      }
    },
    {
      "cell_type": "code",
      "source": [
        "numbers1 = []\n",
        "numbers2 = list()"
      ],
      "metadata": {
        "id": "wSvlB03GwDsd"
      },
      "execution_count": 2,
      "outputs": []
    },
    {
      "cell_type": "markdown",
      "source": [
        "Конструктор list может принимать набор значений, на основе которых создается список:"
      ],
      "metadata": {
        "id": "0s5ObLNwwLvH"
      }
    },
    {
      "cell_type": "code",
      "source": [
        "numbers1 = [1, 2, 3, 4, 5]\n",
        "numbers2 = list(numbers1)\n",
        "print(numbers2)  # [1, 2, 3, 4, 5]\n",
        "\n",
        "letters = list(\"Hello\")\n",
        "print(letters)      # ['H', 'e', 'l', 'l', 'o']"
      ],
      "metadata": {
        "colab": {
          "base_uri": "https://localhost:8080/"
        },
        "id": "8g7aWT6BwOQ1",
        "outputId": "50d71144-1a99-4b8d-cbd6-fa942022a7ed"
      },
      "execution_count": 4,
      "outputs": [
        {
          "output_type": "stream",
          "name": "stdout",
          "text": [
            "[1, 2, 3, 4, 5]\n",
            "['H', 'e', 'l', 'l', 'o']\n"
          ]
        }
      ]
    },
    {
      "cell_type": "markdown",
      "source": [
        "Если необходимо создать список, в котором повторяется одно и то же значение несколько раз, то можно использовать символ звездочки *, то есть фактически применить операцию умножения к уже существующему списку:"
      ],
      "metadata": {
        "id": "u-tKoYC4wSQs"
      }
    },
    {
      "cell_type": "code",
      "source": [
        "numbers = [5] * 6   # 6 раз повторяем 5\n",
        "print(numbers)      # [5, 5, 5, 5, 5, 5]\n",
        "\n",
        "people = [\"Alexandra\"] * 3    # 3 раза повторяем \"Alexandra\"\n",
        "print(people)           # [\"Alexandra\", \"Alexandra\", \"Alexandra\"]\n",
        "\n",
        "students = [\"Masha\", \"Dasha\"] * 2   # 2 раза повторяем \"Masha\", \"Dasha\"\n",
        "print(students)                 # [\"Masha\", \"Dasha\", \"Masha\", \"Dasha\"]"
      ],
      "metadata": {
        "colab": {
          "base_uri": "https://localhost:8080/"
        },
        "id": "T5D-Z6yLwWBD",
        "outputId": "99fab564-2513-4f52-a863-a0da935d9d4d"
      },
      "execution_count": 7,
      "outputs": [
        {
          "output_type": "stream",
          "name": "stdout",
          "text": [
            "[5, 5, 5, 5, 5, 5]\n",
            "['Alexandra', 'Alexandra', 'Alexandra']\n",
            "['Masha', 'Dasha', 'Masha', 'Dasha']\n"
          ]
        }
      ]
    },
    {
      "cell_type": "markdown",
      "source": [
        "## Обращение к элементам списка\n",
        "\n",
        "Для обращения к элементам списка надо использовать индексы, которые представляют номер элемента в списка. Индексы начинаются с нуля. То есть первый элемент будет иметь индекс 0, второй элемент - индекс 1 и так далее. Для обращения к элементам с конца можно использовать отрицательные индексы, начиная с -1. То есть у последнего элемента будет индекс -1, у предпоследнего - -2 и так далее"
      ],
      "metadata": {
        "id": "MrS0PrprwzEz"
      }
    },
    {
      "cell_type": "code",
      "source": [
        "people = [\"Arina\", \"Karina\", \"Sabina\"]\n",
        "# получение элементов с начала списка\n",
        "print(people[0])   # Arina\n",
        "print(people[1])   # Karina\n",
        "print(people[2])   # Sabina\n",
        "\n",
        "print()\n",
        "# получение элементов с конца списка\n",
        "print(people[-2])   # Karina\n",
        "print(people[-1])   # Sabina\n",
        "print(people[-3])   # Arina"
      ],
      "metadata": {
        "colab": {
          "base_uri": "https://localhost:8080/"
        },
        "id": "uB2kExwsw3jz",
        "outputId": "4538d195-6487-4500-d728-eb93f81d3969"
      },
      "execution_count": 9,
      "outputs": [
        {
          "output_type": "stream",
          "name": "stdout",
          "text": [
            "Arina\n",
            "Karina\n",
            "Sabina\n",
            "\n",
            "Karina\n",
            "Sabina\n",
            "Arina\n"
          ]
        }
      ]
    },
    {
      "cell_type": "markdown",
      "source": [
        "Для изменения элемента списка достаточно присвоить ему новое значение:"
      ],
      "metadata": {
        "id": "Gmdec-0WxM4M"
      }
    },
    {
      "cell_type": "code",
      "source": [
        "people = [\"Arina\", \"Karina\", \"Sabina\"]\n",
        "\n",
        "people[1] = \"Raul\"  # изменение второго элемента\n",
        "print(people[1])    # Raul\n",
        "print(people)       # [\"Arina\", \"Raul\", \"Sabina\"]"
      ],
      "metadata": {
        "colab": {
          "base_uri": "https://localhost:8080/"
        },
        "id": "9U1omX3JxP-8",
        "outputId": "c359310b-faaf-493b-d57f-136c051383ad"
      },
      "execution_count": 10,
      "outputs": [
        {
          "output_type": "stream",
          "name": "stdout",
          "text": [
            "Raul\n",
            "['Arina', 'Raul', 'Sabina']\n"
          ]
        }
      ]
    },
    {
      "cell_type": "markdown",
      "source": [
        "## Разложение списка\n",
        "\n",
        "Python позволяет разложить список на отдельные элементы:"
      ],
      "metadata": {
        "id": "m3XGJSngxfFF"
      }
    },
    {
      "cell_type": "code",
      "source": [
        "people = [\"Arina\", \"Karina\", \"Sabina\"]\n",
        "\n",
        "arina, karina, sabina = people\n",
        "\n",
        "print(arina)      # Arina\n",
        "print(karina)      # Karina\n",
        "print(sabina)      # Sabina"
      ],
      "metadata": {
        "colab": {
          "base_uri": "https://localhost:8080/"
        },
        "id": "86nsHQzExm59",
        "outputId": "2c64e313-7173-4cfb-af13-c9b56dbff1e4"
      },
      "execution_count": 11,
      "outputs": [
        {
          "output_type": "stream",
          "name": "stdout",
          "text": [
            "Arina\n",
            "Karina\n",
            "Sabina\n"
          ]
        }
      ]
    },
    {
      "cell_type": "markdown",
      "source": [
        "## Перебор элементов\n",
        "\n",
        "Для перебора элементов можно использовать как цикл for, так и цикл while.\n",
        "\n",
        "Перебор с помощью цикла for:"
      ],
      "metadata": {
        "id": "R1KpHa2Lx30r"
      }
    },
    {
      "cell_type": "code",
      "source": [
        "people = [\"Arina\", \"Karina\", \"Sabina\"]\n",
        "for person in people:\n",
        "    print(person)"
      ],
      "metadata": {
        "colab": {
          "base_uri": "https://localhost:8080/"
        },
        "id": "C0b9Fg5Bx5l4",
        "outputId": "07bf544c-3ac5-4b10-a14a-4fc83ee684f6"
      },
      "execution_count": 12,
      "outputs": [
        {
          "output_type": "stream",
          "name": "stdout",
          "text": [
            "Arina\n",
            "Karina\n",
            "Sabina\n"
          ]
        }
      ]
    },
    {
      "cell_type": "markdown",
      "source": [
        "Перебор также можно сделать с помощью цикла while:"
      ],
      "metadata": {
        "id": "AnzCAv9ex9x_"
      }
    },
    {
      "cell_type": "code",
      "source": [
        "people = [\"Arina\", \"Karina\", \"Sabina\"]\n",
        "i = 0\n",
        "while i < len(people):\n",
        "    print(people[i])    # применяем индекс для получения элемента\n",
        "    i += 1"
      ],
      "metadata": {
        "colab": {
          "base_uri": "https://localhost:8080/"
        },
        "id": "btvIyc05yCa-",
        "outputId": "49f5795c-1aaa-4267-f950-fe47001b74d5"
      },
      "execution_count": 13,
      "outputs": [
        {
          "output_type": "stream",
          "name": "stdout",
          "text": [
            "Arina\n",
            "Karina\n",
            "Sabina\n"
          ]
        }
      ]
    },
    {
      "cell_type": "markdown",
      "source": [
        "## Сравнение списков\n",
        "\n",
        "Два списка считаются равными, если они содержат один и тот же набор элементов:"
      ],
      "metadata": {
        "id": "kQlEUMLKyG5C"
      }
    },
    {
      "cell_type": "code",
      "source": [
        "numbers1 = [1, 2, 3, 4, 5]\n",
        "numbers2 = list([1, 2, 3, 4, 5])\n",
        "if numbers1 == numbers2:\n",
        "    print(\"numbers1 equal to numbers2\")\n",
        "else:\n",
        "    print(\"numbers1 is not equal to numbers2\")"
      ],
      "metadata": {
        "colab": {
          "base_uri": "https://localhost:8080/"
        },
        "id": "3TAcq9OLyNPO",
        "outputId": "5b65c261-c595-4379-91cd-7e822a9cbb78"
      },
      "execution_count": 14,
      "outputs": [
        {
          "output_type": "stream",
          "name": "stdout",
          "text": [
            "numbers1 equal to numbers2\n"
          ]
        }
      ]
    },
    {
      "cell_type": "markdown",
      "source": [
        "## Получение части списка\n",
        "\n",
        "Если необходимо получить какую-то определенную часть списка, то мы можем применять специальный синтаксис, который может принимать следующие формы:\n",
        "\n",
        "* list[:end]: через параметр end передается индекс элемента, до которого нужно копировать список\n",
        "\n",
        "* list[start:end]: параметр start указывает на индекс элемента, начиная с которого надо скопировать элементы\n",
        "\n",
        "* list[start:end:step]: параметр step указывает на шаг, через который будут копироваться элементы из списка. По умолчанию этот параметр равен 1."
      ],
      "metadata": {
        "id": "ArXGmcGxyUgE"
      }
    },
    {
      "cell_type": "code",
      "source": [
        "people = [\"Arina\", \"Karina\", \"Alice\", \"Laysan\", \"Alexandra\", \"Masha\", \"Dasha\"]\n",
        "\n",
        "slice_people1 = people[:3]   # с 0 по 3\n",
        "print(slice_people1)   # ['Arina', 'Karina', 'Alice']\n",
        "\n",
        "slice_people2 = people[1:3]   # с 1 по 3\n",
        "print(slice_people2)   # ['Karina', 'Alice']\n",
        "\n",
        "slice_people3 = people[0:7:2]   # с 1 по 6 с шагом 2\n",
        "print(slice_people3)   #  ['Arina', 'Alice', 'Alexandra', 'Dasha']"
      ],
      "metadata": {
        "colab": {
          "base_uri": "https://localhost:8080/"
        },
        "id": "5DP06xQkyqEk",
        "outputId": "db55a28f-4f52-4948-b6bb-0c03899f7d52"
      },
      "execution_count": 18,
      "outputs": [
        {
          "output_type": "stream",
          "name": "stdout",
          "text": [
            "['Arina', 'Karina', 'Alice']\n",
            "['Karina', 'Alice']\n",
            "['Arina', 'Alice', 'Alexandra', 'Dasha']\n"
          ]
        }
      ]
    },
    {
      "cell_type": "markdown",
      "source": [
        "Можно использовать отрицательные индексы, тогда отсчет будет идти с конца, например, -1 - предпоследний, -2 - третий сконца и так далее."
      ],
      "metadata": {
        "id": "BpbTZ8s-zJIh"
      }
    },
    {
      "cell_type": "code",
      "source": [
        "people = [\"Arina\", \"Karina\", \"Alice\", \"Laysan\", \"Alexandra\", \"Masha\", \"Dasha\"]\n",
        "\n",
        "slice_people1 = people[:-1]   # с предпоследнего по нулевой\n",
        "print(slice_people1)   # ['Arina', 'Karina', 'Alice', 'Laysan', 'Alexandra', 'Masha']\n",
        "\n",
        "slice_people2 = people[-3:-1]   # с третьего с конца по предпоследний\n",
        "print(slice_people2)   # ['Alexandra', 'Masha']\n",
        "\n",
        "slice_people2 = people[-4:]   # от четвертого элемента с конца до конца списка\n",
        "print(slice_people2)   # ['Laysan', 'Alexandra', 'Masha', 'Dasha']"
      ],
      "metadata": {
        "colab": {
          "base_uri": "https://localhost:8080/"
        },
        "id": "miAUc8KTzMKF",
        "outputId": "5daa6ad1-0587-4206-da71-0fef5857a101"
      },
      "execution_count": 26,
      "outputs": [
        {
          "output_type": "stream",
          "name": "stdout",
          "text": [
            "['Arina', 'Karina', 'Alice', 'Laysan', 'Alexandra', 'Masha']\n",
            "['Alexandra', 'Masha']\n",
            "['Laysan', 'Alexandra', 'Masha', 'Dasha']\n"
          ]
        }
      ]
    },
    {
      "cell_type": "markdown",
      "source": [
        "## Методы и функции по работе со списками\n",
        "\n",
        "Для управления элементами списки имеют целый ряд методов. Некоторые из них:\n",
        "\n",
        "* append(item): добавляет элемент item в конец списка\n",
        "\n",
        "* insert(index, item): добавляет элемент item в список по индексу index\n",
        "\n",
        "* extend(items): добавляет набор элементов items в конец списка\n",
        "\n",
        "* remove(item): удаляет элемент item. Удаляется только первое вхождение элемента. Если элемент не найден, генерирует исключение ValueError\n",
        "\n",
        "*  clear(): удаление всех элементов из списка\n",
        "\n",
        "* index(item): возвращает индекс элемента item. Если элемент не найден, генерирует исключение ValueError\n",
        "\n",
        "* pop([index]): удаляет и возвращает элемент по индексу index. Если индекс не передан, то просто удаляет последний элемент.\n",
        "\n",
        "* count(item): возвращает количество вхождений элемента item в список\n",
        "\n",
        "* sort([key]): сортирует элементы. По умолчанию сортирует по возрастанию. Но с помощью параметра key мы можем передать функцию сортировки.\n",
        "\n",
        "* reverse(): расставляет все элементы в списке в обратном порядке\n",
        "\n",
        "* copy(): копирует список\n",
        "\n",
        "Кроме того, Python предоставляет ряд встроенных функций для работы со списками:\n",
        "\n",
        "* len(list): возвращает длину списка\n",
        "\n",
        "* sorted(list, [key]): возвращает отсортированный список\n",
        "\n",
        "* min(list): возвращает наименьший элемент списка\n",
        "\n",
        "* max(list): возвращает наибольший элемент списка\n",
        "\n"
      ],
      "metadata": {
        "id": "nJT_KXQ0zzZ1"
      }
    },
    {
      "cell_type": "markdown",
      "source": [
        "## Добавление и удаление элементов\n",
        "\n",
        "Для добавления элемента применяются методы append(), extend и insert, а для удаления - методы remove(), pop() и clear().\n",
        "\n",
        "Использование методов:"
      ],
      "metadata": {
        "id": "28oDXMwb0hPp"
      }
    },
    {
      "cell_type": "code",
      "source": [
        "people = [\"Arina\", \"Karina\"]\n",
        "print(people)  # ['Arina', 'Karina']\n",
        "\n",
        "# Добавляем в конец списка\n",
        "people.append(\"Alice\")\n",
        "print(people)  # ['Arina', 'Karina', 'Alice']\n",
        "\n",
        "# Добавляем на вторую позицию\n",
        "people.insert(1, \"Bilal\")\n",
        "print(people)  # ['Arina', 'Bilal', 'Karina', 'Alice']\n",
        "\n",
        "# Добавляем набор элементов [\"Misha\", \"Nikita\", \"Laysan\"]\n",
        "people.extend([\"Misha\", \"Nikita\", \"Laysan\"])\n",
        "print(people)  # ['Arina', 'Bilal', 'Karina', 'Alice', 'Misha', 'Nikita', 'Laysan']\n",
        "\n",
        "# Получаем индекс элемента\n",
        "index_of_laysan = people.index(\"Laysan\")\n",
        "print(index_of_laysan)  # 6\n",
        "\n",
        "# Удаляем по этому индексу\n",
        "removed_item = people.pop(index_of_laysan)\n",
        "print(people)  # ['Arina', 'Bilal', 'Karina', 'Alice', 'Misha', 'Nikita']\n",
        "\n",
        "# Удаляем последний элемент\n",
        "last_item = people.pop()\n",
        "print(last_item)  # Nikita\n",
        "\n",
        "# Удаляем элемент \"Alice\"\n",
        "people.remove(\"Alice\")\n",
        "print(people)  # ['Arina', 'Bilal', 'Karina', 'Misha']\n",
        "\n",
        "# Удаляем все элементы\n",
        "people.clear()\n",
        "print(people)  # []"
      ],
      "metadata": {
        "colab": {
          "base_uri": "https://localhost:8080/"
        },
        "id": "KKhkAI-50zcf",
        "outputId": "2d15c135-4fc8-4d90-b4a1-1b5b3b28ae08"
      },
      "execution_count": 31,
      "outputs": [
        {
          "output_type": "stream",
          "name": "stdout",
          "text": [
            "['Arina', 'Karina']\n",
            "['Arina', 'Karina', 'Alice']\n",
            "['Arina', 'Bilal', 'Karina', 'Alice']\n",
            "['Arina', 'Bilal', 'Karina', 'Alice', 'Misha', 'Nikita', 'Laysan']\n",
            "6\n",
            "['Arina', 'Bilal', 'Karina', 'Alice', 'Misha', 'Nikita']\n",
            "Nikita\n",
            "['Arina', 'Bilal', 'Karina', 'Misha']\n",
            "[]\n"
          ]
        }
      ]
    },
    {
      "cell_type": "markdown",
      "source": [
        "## Проверка наличия элемента\n",
        "\n",
        "Если определенный элемент не найден, то методы remove и index генерируют исключение. Чтобы избежать подобной ситуации, перед операцией с элементом можно проверять его наличие с помощью ключевого слова in:"
      ],
      "metadata": {
        "id": "rDnY5ggI5r4t"
      }
    },
    {
      "cell_type": "code",
      "source": [
        "people = [\"Arina\", \"Karina\", \"Alice\", \"Laysan\", \"Alexandra\", \"Masha\", \"Dasha\"]\n",
        "\n",
        "if \"Alice\" in people:\n",
        "    people.remove(\"Alice\")\n",
        "print(people)       # ['Arina', 'Karina', 'Laysan', 'Alexandra', 'Masha', 'Dasha']"
      ],
      "metadata": {
        "colab": {
          "base_uri": "https://localhost:8080/"
        },
        "id": "sqWV8unY5xsI",
        "outputId": "51eecc53-e5ff-4759-9366-183647a40b97"
      },
      "execution_count": 33,
      "outputs": [
        {
          "output_type": "stream",
          "name": "stdout",
          "text": [
            "['Arina', 'Karina', 'Laysan', 'Alexandra', 'Masha', 'Dasha']\n"
          ]
        }
      ]
    },
    {
      "cell_type": "markdown",
      "source": [
        "## Удаление с помощью del\n",
        "\n",
        "Python также поддерживает еще один способ удаления элементов списка - с помощью оператора del. В качестве параметра этому оператору передается удаляемый элемент или набор элементов:"
      ],
      "metadata": {
        "id": "4bx1mKYG6ABr"
      }
    },
    {
      "cell_type": "code",
      "source": [
        "people = [\"Arina\", \"Karina\", \"Alice\", \"Laysan\", \"Alexandra\", \"Masha\", \"Dasha\"]\n",
        "\n",
        "del people[1]   # удаляем второй элемент\n",
        "print(people)   # ['Arina', 'Alice', 'Laysan', 'Alexandra', 'Masha', 'Dasha']\n",
        "\n",
        "del people[:3]   # удаляем  по четвертый элемент не включая\n",
        "print(people)   # ['Alexandra', 'Masha', 'Dasha']\n",
        "\n",
        "del people[1:]   # удаляем  со второго элемента\n",
        "print(people)   # ['Alexandra']"
      ],
      "metadata": {
        "colab": {
          "base_uri": "https://localhost:8080/"
        },
        "id": "89gqwZfL6Fuw",
        "outputId": "f3ad4bf6-493f-418d-ddc5-336e9868f683"
      },
      "execution_count": 36,
      "outputs": [
        {
          "output_type": "stream",
          "name": "stdout",
          "text": [
            "['Arina', 'Alice', 'Laysan', 'Alexandra', 'Masha', 'Dasha']\n",
            "['Alexandra', 'Masha', 'Dasha']\n",
            "['Alexandra']\n"
          ]
        }
      ]
    },
    {
      "cell_type": "markdown",
      "source": [
        "## Изменение подсписка\n",
        "\n",
        "Для изменения подсписка - набора элементов в списке можно использовать вышерассмотренный синтаксис [start:end]:"
      ],
      "metadata": {
        "id": "lVtCnlvA6U4w"
      }
    },
    {
      "cell_type": "code",
      "source": [
        "nums = [10, 20, 30, 40, 50]\n",
        "nums[1:4]=[11, 22]\n",
        "print(nums)     # [10, 11, 22, 50]"
      ],
      "metadata": {
        "colab": {
          "base_uri": "https://localhost:8080/"
        },
        "id": "JJaRFxdG6ZCY",
        "outputId": "12f9ff70-e032-47a9-a2e4-b17ba08856dd"
      },
      "execution_count": 37,
      "outputs": [
        {
          "output_type": "stream",
          "name": "stdout",
          "text": [
            "[10, 11, 22, 50]\n"
          ]
        }
      ]
    },
    {
      "cell_type": "markdown",
      "source": [
        "## Подсчет вхождений\n",
        "\n",
        "Если необходимо узнать, сколько раз в списке присутствует тот или иной элемент, то можно применить метод count():\n",
        "\n"
      ],
      "metadata": {
        "id": "qrDCQXTD6cX3"
      }
    },
    {
      "cell_type": "code",
      "source": [
        "people = [\"Arina\", \"Karina\", \"Arina\", \"Laysan\", \"Arina\", \"Masha\", \"Dasha\"]\n",
        "\n",
        "people_count = people.count(\"Arina\")\n",
        "print(people_count)      # 3"
      ],
      "metadata": {
        "colab": {
          "base_uri": "https://localhost:8080/"
        },
        "id": "airmNRXQ6hp9",
        "outputId": "cd2c5909-fb1a-41e7-e881-14e3d2ad6b46"
      },
      "execution_count": 38,
      "outputs": [
        {
          "output_type": "stream",
          "name": "stdout",
          "text": [
            "3\n"
          ]
        }
      ]
    },
    {
      "cell_type": "markdown",
      "source": [
        "## Сортировка\n",
        "\n",
        "Для сортировки по возрастанию применяется метод sort():"
      ],
      "metadata": {
        "id": "Htq949K26sLj"
      }
    },
    {
      "cell_type": "code",
      "source": [
        "people = [\"Arina\", \"Karina\", \"Alice\", \"Laysan\", \"Alexandra\", \"Masha\", \"Dasha\"]\n",
        "\n",
        "people.sort()\n",
        "print(people) #['Alexandra', 'Alice', 'Arina', 'Dasha', 'Karina', 'Laysan', 'Masha']"
      ],
      "metadata": {
        "colab": {
          "base_uri": "https://localhost:8080/"
        },
        "id": "DxSi-RjW5xu8",
        "outputId": "54b758ae-b0ee-4537-f7fc-a02f248f7900"
      },
      "execution_count": 39,
      "outputs": [
        {
          "output_type": "stream",
          "name": "stdout",
          "text": [
            "['Alexandra', 'Alice', 'Arina', 'Dasha', 'Karina', 'Laysan', 'Masha']\n"
          ]
        }
      ]
    },
    {
      "cell_type": "code",
      "source": [
        "people = [\"Arina\", \"Karina\", \"Alice\", \"Arina\", \"Alexandra\", \"Arina\", \"Dasha\"]\n",
        "\n",
        "people.sort()\n",
        "print(people) #['Alexandra', 'Alice', 'Arina', 'Arina', 'Arina', 'Dasha', 'Karina']"
      ],
      "metadata": {
        "colab": {
          "base_uri": "https://localhost:8080/"
        },
        "id": "-7U65YER64Cb",
        "outputId": "b704e08d-e461-4235-ad78-1824c3e1c164"
      },
      "execution_count": 41,
      "outputs": [
        {
          "output_type": "stream",
          "name": "stdout",
          "text": [
            "['Alexandra', 'Alice', 'Arina', 'Arina', 'Arina', 'Dasha', 'Karina']\n"
          ]
        }
      ]
    },
    {
      "cell_type": "markdown",
      "source": [
        "Если необходимо отсортировать данные в обратном порядке, то мы можем после сортировки применить метод reverse():"
      ],
      "metadata": {
        "id": "RT2jsdIg7BgN"
      }
    },
    {
      "cell_type": "code",
      "source": [
        "people = [\"Arina\", \"Karina\", \"Alice\", \"Laysan\", \"Alexandra\", \"Masha\", \"Dasha\"]\n",
        "\n",
        "people.sort()\n",
        "people.reverse()\n",
        "print(people) # ['Masha', 'Laysan', 'Karina', 'Dasha', 'Arina', 'Alice', 'Alexandra']"
      ],
      "metadata": {
        "colab": {
          "base_uri": "https://localhost:8080/"
        },
        "id": "dztORoEP7CTM",
        "outputId": "b56066b9-772f-4945-ecf3-577d67b8cf4c"
      },
      "execution_count": 43,
      "outputs": [
        {
          "output_type": "stream",
          "name": "stdout",
          "text": [
            "['Masha', 'Laysan', 'Karina', 'Dasha', 'Arina', 'Alice', 'Alexandra']\n"
          ]
        }
      ]
    },
    {
      "cell_type": "markdown",
      "source": [
        "Если в списке сочетаются строки с верхним и нижним регистром, то мы можем получить не совсем корректные результаты, так как для нас строка \"bob\" должна стоять до строки \"Tom\". И чтобы изменить стандартное поведение сортировки, мы можем передать в метод sort() в качестве параметра функцию:"
      ],
      "metadata": {
        "id": "nJZaGvUA7MOO"
      }
    },
    {
      "cell_type": "code",
      "source": [
        "people = [\"Arina\", \"karina\", \"Karim\",  \"Alice\", \"Laysan\", \"alexandra\", \"Masha\", \"Dasha\"]\n",
        "\n",
        "people.sort()       # стандартная сортировка\n",
        "print(people)      # ['Alice', 'Arina', 'Dasha', 'Karim', 'Laysan', 'Masha', 'alexandra', 'karina']\n",
        "\n",
        "people.sort(key=str.lower)  # сортировка без учета регистра\n",
        "print(people)      # ['alexandra', 'Alice', 'Arina', 'Dasha', 'Karim', 'karina', 'Laysan', 'Masha']"
      ],
      "metadata": {
        "colab": {
          "base_uri": "https://localhost:8080/"
        },
        "id": "znN5COwF7l08",
        "outputId": "5484908a-ffef-4231-979d-dd90b546d187"
      },
      "execution_count": 45,
      "outputs": [
        {
          "output_type": "stream",
          "name": "stdout",
          "text": [
            "['Alice', 'Arina', 'Dasha', 'Karim', 'Laysan', 'Masha', 'alexandra', 'karina']\n",
            "['alexandra', 'Alice', 'Arina', 'Dasha', 'Karim', 'karina', 'Laysan', 'Masha']\n"
          ]
        }
      ]
    },
    {
      "cell_type": "markdown",
      "source": [
        "Кроме метода sort мы можем использовать встроенную функцию sorted, которая имеет две формы:\n",
        "\n",
        "* sorted(list): сортирует список list\n",
        "\n",
        "* sorted(list, key): сортирует список list, применяя к элементам функцию key"
      ],
      "metadata": {
        "id": "V7wQL3MX8BSm"
      }
    },
    {
      "cell_type": "code",
      "source": [
        "people = [\"Arina\", \"karina\", \"Karin\",  \"Alice\", \"Laysan\", \"alexandra\", \"Masha\", \"Dasha\"]\n",
        "\n",
        "sorted_people = sorted(people, key=str.lower)\n",
        "print(sorted_people)      # ['alexandra', 'Alice', 'Arina', 'Dasha', 'Karin', 'karina', 'Laysan', 'Masha']"
      ],
      "metadata": {
        "colab": {
          "base_uri": "https://localhost:8080/"
        },
        "id": "MZJAtDQT8EP_",
        "outputId": "458625eb-812c-4cb4-f6f8-a92af8cfe997"
      },
      "execution_count": 47,
      "outputs": [
        {
          "output_type": "stream",
          "name": "stdout",
          "text": [
            "['alexandra', 'Alice', 'Arina', 'Dasha', 'Karin', 'karina', 'Laysan', 'Masha']\n"
          ]
        }
      ]
    },
    {
      "cell_type": "markdown",
      "source": [
        "При использовании этой функции следует учитывать, что эта функция не изменяет сортируемый список, а все отсортированные элементы она помещает в новый список, который возвращается в качестве результата."
      ],
      "metadata": {
        "id": "5G-3XURQ8SeH"
      }
    },
    {
      "cell_type": "markdown",
      "source": [
        "## Минимальное и максимальное значения\n",
        "\n",
        "Встроенный функции Python min() и max() позволяют найти минимальное и максимальное значения соответственно:"
      ],
      "metadata": {
        "id": "guIoDY8D8WTu"
      }
    },
    {
      "cell_type": "code",
      "source": [
        "numbers = [9, 21, 12, 1, 3, 15, 18]\n",
        "print(min(numbers))     # 1\n",
        "print(max(numbers))     # 21"
      ],
      "metadata": {
        "colab": {
          "base_uri": "https://localhost:8080/"
        },
        "id": "zWmiOrKF8brX",
        "outputId": "dfc37c60-5417-41fa-f814-90a213799af5"
      },
      "execution_count": 48,
      "outputs": [
        {
          "output_type": "stream",
          "name": "stdout",
          "text": [
            "1\n",
            "21\n"
          ]
        }
      ]
    },
    {
      "cell_type": "markdown",
      "source": [
        "## Копирование списков\n",
        "\n",
        "При копировании списков следует учитывать, что списки представляют изменяемый (mutable) тип, поэтому если обе переменных будут указывать на один и тот же список, то изменение одной переменной, затронет и другую переменную:"
      ],
      "metadata": {
        "id": "3EtvnIIt8eUT"
      }
    },
    {
      "cell_type": "code",
      "source": [
        "people1 = [\"Alexandra\", \"Karim\", \"Abdullo\"]\n",
        "people2 = people1\n",
        "people2.append(\"Samad\")   # добавляем элемент во второй список\n",
        "# people1 и people2 указывают на один и тот же список\n",
        "print(people1)   # ['Alexandra', 'Karim', 'Abdullo', 'Samad']\n",
        "print(people2)   # ['Alexandra', 'Karim', 'Abdullo', 'Samad']"
      ],
      "metadata": {
        "colab": {
          "base_uri": "https://localhost:8080/"
        },
        "id": "S42m-AQ98it7",
        "outputId": "c62eefd7-fd04-4301-a323-4c48c1ca9bae"
      },
      "execution_count": 50,
      "outputs": [
        {
          "output_type": "stream",
          "name": "stdout",
          "text": [
            "['Alexandra', 'Karim', 'Abdullo', 'Samad']\n",
            "['Alexandra', 'Karim', 'Abdullo', 'Samad']\n"
          ]
        }
      ]
    },
    {
      "cell_type": "markdown",
      "source": [
        "Это так называемое \"поверхностное копирование\" (shallow copy). И, как правило, такое поведение нежелательное. И чтобы происходило копирование элементов, но при этом переменные указывали на разные списки, необходимо выполнить глубокое копирование (deep copy). Для этого можно использовать метод copy():\n",
        "\n"
      ],
      "metadata": {
        "id": "8BckReU18zA4"
      }
    },
    {
      "cell_type": "code",
      "source": [
        "people1 = [\"Alexandra\", \"Karim\", \"Abdullo\"]\n",
        "people2 = people1.copy()    # копируем элементы из people1 в people2\n",
        "people2.append(\"Samad\")   # добавляем элемент ТОЛЬКО во второй список\n",
        "# people1 и people2 указывают на разные списки\n",
        "print(people1)   # ['Alexandra', 'Karim', 'Abdullo']\n",
        "print(people2)   # ['Alexandra', 'Karim', 'Abdullo', 'Samad']"
      ],
      "metadata": {
        "colab": {
          "base_uri": "https://localhost:8080/"
        },
        "id": "aw9jA1vh82ov",
        "outputId": "aaab87b4-0adf-4e07-fceb-ed252871e37c"
      },
      "execution_count": 52,
      "outputs": [
        {
          "output_type": "stream",
          "name": "stdout",
          "text": [
            "['Alexandra', 'Karim', 'Abdullo']\n",
            "['Alexandra', 'Karim', 'Abdullo', 'Samad']\n"
          ]
        }
      ]
    },
    {
      "cell_type": "markdown",
      "source": [
        "## Соединение списков\n",
        "\n",
        "Для объединения списков применяется операция сложения (+):"
      ],
      "metadata": {
        "id": "QYRqOF0W9Cfl"
      }
    },
    {
      "cell_type": "code",
      "source": [
        "people1 = [\"Dilyara\", \"Darya\", \"Dilrabo\", \"Alexandra\"]\n",
        "people2 = [\"Maxim\", \"Marat\", \"Mamur\", \"Mansur\", \"Bilol\"]\n",
        "people3 = people1 + people2\n",
        "print(people3)   # ['Dilyara', 'Darya', 'Dilrabo', 'Maxim', 'Marat', 'Mamur', 'Mansur']"
      ],
      "metadata": {
        "colab": {
          "base_uri": "https://localhost:8080/"
        },
        "id": "4nRc7PBJ9Gjw",
        "outputId": "8d9355a8-27de-47be-8f15-aaca338887b2"
      },
      "execution_count": 56,
      "outputs": [
        {
          "output_type": "stream",
          "name": "stdout",
          "text": [
            "['Dilyara', 'Darya', 'Dilrabo', 'Alexandra', 'Maxim', 'Marat', 'Mamur', 'Mansur', 'Bilol']\n"
          ]
        }
      ]
    },
    {
      "cell_type": "markdown",
      "source": [
        "## Списки списков\n",
        "\n",
        "Списки кроме стандартных данных типа строк, чисел, также могут содержать другие списки. Подобные списки можно ассоциировать с таблицами, где вложенные списки выполняют роль строк. Например:"
      ],
      "metadata": {
        "id": "mzq80oFN9veK"
      }
    },
    {
      "cell_type": "code",
      "source": [
        "people = [\n",
        "    [\"Dilyara\", 19],\n",
        "    [\"Alice\", 17],\n",
        "    [\"Mansur\", 18]\n",
        "]\n",
        "\n",
        "print(people[0])         # ['Dilyara', 19]\n",
        "print(people[0][0])      # Dilyara\n",
        "print(people[0][1])      # 19"
      ],
      "metadata": {
        "colab": {
          "base_uri": "https://localhost:8080/"
        },
        "id": "dgUx9Y4k9y48",
        "outputId": "412ef98f-d959-4499-bfbe-4355536a15ff"
      },
      "execution_count": 59,
      "outputs": [
        {
          "output_type": "stream",
          "name": "stdout",
          "text": [
            "['Dilyara', 19]\n",
            "Dilyara\n",
            "19\n"
          ]
        }
      ]
    },
    {
      "cell_type": "markdown",
      "source": [
        "Добавление, удаление и изменение общего списка, а также вложенных списков аналогично тому, как это делается с обычными (одномерными) списками:"
      ],
      "metadata": {
        "id": "9i7i2exx-E_3"
      }
    },
    {
      "cell_type": "code",
      "source": [
        "people = [\n",
        "    [\"Dilyara\", 19],\n",
        "    [\"Alice\", 17],\n",
        "    [\"Mansur\", 18]\n",
        "]\n",
        "\n",
        "# создание вложенного списка\n",
        "person = list()\n",
        "person.append(\"Ulyana\")\n",
        "person.append(20)\n",
        "# добавление вложенного списка\n",
        "people.append(person)\n",
        "\n",
        "print(people[-1])         # ['Ulyana', 20]\n",
        "\n",
        "# добавление во вложенный список\n",
        "people[-1].append(\"+79876543210\")\n",
        "\n",
        "print(people[-1])         # ['Ulyana', 20, '+79876543210']\n",
        "\n",
        "# удаление последнего элемента из вложенного списка\n",
        "people[-1].pop()\n",
        "print(people[-1])         # ['Ulyana', 20]\n",
        "\n",
        "# удаление всего последнего вложенного списка\n",
        "people.pop(-1)\n",
        "\n",
        "# изменение первого элемента\n",
        "people[0] = [\"Samira\", 18]\n",
        "print(people)            # [['Samira', 18], ['Alice', 17], ['Mansur', 18]]"
      ],
      "metadata": {
        "colab": {
          "base_uri": "https://localhost:8080/"
        },
        "id": "-sCRStzG-Gux",
        "outputId": "daabce3c-1ad1-4a04-901c-41350ee9b01b"
      },
      "execution_count": 63,
      "outputs": [
        {
          "output_type": "stream",
          "name": "stdout",
          "text": [
            "['Ulyana', 20]\n",
            "['Ulyana', 20, '+79876543210']\n",
            "['Ulyana', 20]\n",
            "[['Samira', 18], ['Alice', 17], ['Mansur', 18]]\n"
          ]
        }
      ]
    },
    {
      "cell_type": "markdown",
      "source": [
        "Перебор вложенных списков:"
      ],
      "metadata": {
        "id": "D7RNUydU-fR7"
      }
    },
    {
      "cell_type": "code",
      "source": [
        "people = [\n",
        "    [\"Dilyara\", 19],\n",
        "    [\"Alice\", 17],\n",
        "    [\"Mansur\", 18]\n",
        "]\n",
        "\n",
        "for person in people:\n",
        "    for item in person:\n",
        "        print(item, end=\" | \")"
      ],
      "metadata": {
        "colab": {
          "base_uri": "https://localhost:8080/"
        },
        "id": "Ysg43MYP-kub",
        "outputId": "708f87be-f21e-466b-8b49-865d23696013"
      },
      "execution_count": 64,
      "outputs": [
        {
          "output_type": "stream",
          "name": "stdout",
          "text": [
            "Dilyara | 19 | Alice | 17 | Mansur | 18 | "
          ]
        }
      ]
    },
    {
      "cell_type": "markdown",
      "source": [
        "# Кортежи"
      ],
      "metadata": {
        "id": "c37gEnuh-xl4"
      }
    },
    {
      "cell_type": "markdown",
      "source": [
        "Кортеж (tuple) представляет последовательность элементов, которая во многом похожа на список за тем исключением, что кортеж является неизменяемым (immutable) типом. Поэтому мы не можем добавлять или удалять элементы в кортеже, изменять его.\n",
        "\n",
        "Для создания кортежа используются круглые скобки, в которые помещаются его значения, разделенные запятыми:"
      ],
      "metadata": {
        "id": "kFUedrm1-1b1"
      }
    },
    {
      "cell_type": "code",
      "source": [
        "dil = (\"Dilyara\", 18)\n",
        "print(dil)     # ('Dilyara', 18)"
      ],
      "metadata": {
        "colab": {
          "base_uri": "https://localhost:8080/"
        },
        "id": "yybOMQJx-4KL",
        "outputId": "87e8d59e-480e-40e7-816a-8c11c6a0d041"
      },
      "execution_count": 67,
      "outputs": [
        {
          "output_type": "stream",
          "name": "stdout",
          "text": [
            "('Dilyara', 18)\n"
          ]
        }
      ]
    },
    {
      "cell_type": "markdown",
      "source": [
        "Также для определения кортежа мы можем просто перечислить значения через запятую без применения скобок:"
      ],
      "metadata": {
        "id": "WxNU8L4__Cyd"
      }
    },
    {
      "cell_type": "code",
      "source": [
        "dil = \"Dilyara\", 18\n",
        "print(dil)     # ('Dilyara', 18)"
      ],
      "metadata": {
        "colab": {
          "base_uri": "https://localhost:8080/"
        },
        "id": "HTTZPAGU_INv",
        "outputId": "07c3e6d0-be2c-463a-8cd9-08375f40bdd7"
      },
      "execution_count": 68,
      "outputs": [
        {
          "output_type": "stream",
          "name": "stdout",
          "text": [
            "('Dilyara', 18)\n"
          ]
        }
      ]
    },
    {
      "cell_type": "markdown",
      "source": [
        "Если вдруг кортеж состоит из одного элемента, то после единственного элемента кортежа необходимо поставить запятую:"
      ],
      "metadata": {
        "id": "AEoc-eq2_NkV"
      }
    },
    {
      "cell_type": "code",
      "source": [
        "dil = (\"Dilyara\", )\n",
        "print(dil)     # ('Dilyara', )"
      ],
      "metadata": {
        "colab": {
          "base_uri": "https://localhost:8080/"
        },
        "id": "Uatu4UkY_SFU",
        "outputId": "d6258e26-d0a9-46f2-ac3f-0fe6ce266950"
      },
      "execution_count": 69,
      "outputs": [
        {
          "output_type": "stream",
          "name": "stdout",
          "text": [
            "('Dilyara',)\n"
          ]
        }
      ]
    },
    {
      "cell_type": "markdown",
      "source": [
        "Для создания кортежа из другого набора элементов, например, из списка, можно передать список в функцию tuple(), которая возвратит кортеж:"
      ],
      "metadata": {
        "id": "GCGGeSBx_Wi2"
      }
    },
    {
      "cell_type": "code",
      "source": [
        "data = [\"Dilyara\", 18, \"Google\"]\n",
        "tom = tuple(data)\n",
        "print(tom)      # ('Dilyara', 18, 'Google')"
      ],
      "metadata": {
        "colab": {
          "base_uri": "https://localhost:8080/"
        },
        "id": "SYrb0MRq_Z42",
        "outputId": "7850f65e-00b7-4c2c-a03b-b52ea199449f"
      },
      "execution_count": 72,
      "outputs": [
        {
          "output_type": "stream",
          "name": "stdout",
          "text": [
            "('Dilyara', 18, 'Google')\n"
          ]
        }
      ]
    },
    {
      "cell_type": "markdown",
      "source": [
        "С помощью встроенной функции len() можно получить длину кортежа:"
      ],
      "metadata": {
        "id": "NjmNhH0MBCaH"
      }
    },
    {
      "cell_type": "code",
      "source": [
        "dil = (\"Dilyara\", 18, \"Google\")\n",
        "print(len(dil))     # 3"
      ],
      "metadata": {
        "colab": {
          "base_uri": "https://localhost:8080/"
        },
        "id": "3peVb5-_Bbvr",
        "outputId": "287fa176-0940-4372-c03e-d65ccf1996e4"
      },
      "execution_count": 73,
      "outputs": [
        {
          "output_type": "stream",
          "name": "stdout",
          "text": [
            "3\n"
          ]
        }
      ]
    },
    {
      "cell_type": "markdown",
      "source": [
        "## Обращение к элементам кортежа\n",
        "\n",
        "Обращение к элементам в кортеже происходит также, как и в списке, по индексу. Индексация начинается также с нуля при получении элементов с начала списка и с -1 при получении элементов с конца списка:"
      ],
      "metadata": {
        "id": "E0CJhD0WBn9O"
      }
    },
    {
      "cell_type": "code",
      "source": [
        "dil= (\"Dilyara\", 18, \"Google\", \"software developer\")\n",
        "print(dil[0])       # Dilyara\n",
        "print(dil[1])       # 18\n",
        "print(dil[-1])      # software developer"
      ],
      "metadata": {
        "colab": {
          "base_uri": "https://localhost:8080/"
        },
        "id": "JGDHuEuHBuMk",
        "outputId": "1a1c72ef-b804-4826-f801-77c66d26ab63"
      },
      "execution_count": 75,
      "outputs": [
        {
          "output_type": "stream",
          "name": "stdout",
          "text": [
            "Dilyara\n",
            "18\n",
            "software developer\n"
          ]
        }
      ]
    },
    {
      "cell_type": "markdown",
      "source": [
        "Но так как кортеж - неизменяемый тип (immutable), то мы не сможем изменить его элементы. То есть следующая запись работать не будет:"
      ],
      "metadata": {
        "id": "4BkO3spDB4JE"
      }
    },
    {
      "cell_type": "code",
      "source": [
        "dil[1] = \"Tim\""
      ],
      "metadata": {
        "colab": {
          "base_uri": "https://localhost:8080/",
          "height": 175
        },
        "id": "M7rFjp6tB7CN",
        "outputId": "5b01150f-4357-47a7-f85a-6050e3f275f0"
      },
      "execution_count": 76,
      "outputs": [
        {
          "output_type": "error",
          "ename": "TypeError",
          "evalue": "ignored",
          "traceback": [
            "\u001b[0;31m---------------------------------------------------------------------------\u001b[0m",
            "\u001b[0;31mTypeError\u001b[0m                                 Traceback (most recent call last)",
            "\u001b[0;32m<ipython-input-76-9410eb8acb44>\u001b[0m in \u001b[0;36m<cell line: 1>\u001b[0;34m()\u001b[0m\n\u001b[0;32m----> 1\u001b[0;31m \u001b[0mdil\u001b[0m\u001b[0;34m[\u001b[0m\u001b[0;36m1\u001b[0m\u001b[0;34m]\u001b[0m \u001b[0;34m=\u001b[0m \u001b[0;34m\"Tim\"\u001b[0m\u001b[0;34m\u001b[0m\u001b[0;34m\u001b[0m\u001b[0m\n\u001b[0m",
            "\u001b[0;31mTypeError\u001b[0m: 'tuple' object does not support item assignment"
          ]
        }
      ]
    },
    {
      "cell_type": "markdown",
      "source": [
        "При необходимости мы можем разложить кортеж на отдельные переменные:"
      ],
      "metadata": {
        "id": "VBu8gLHmB-aR"
      }
    },
    {
      "cell_type": "code",
      "source": [
        "name, age, company, position = (\"Dilyara\", 18, \"Google\", \"software developer\")\n",
        "print(name)         # Dilyara\n",
        "print(age)          # 18\n",
        "print(position)     # software developer\n",
        "print(company)     # Google"
      ],
      "metadata": {
        "colab": {
          "base_uri": "https://localhost:8080/"
        },
        "id": "zItd9QXCCAx2",
        "outputId": "442e34ca-9566-4b35-887c-5dfe6c2aa3da"
      },
      "execution_count": 77,
      "outputs": [
        {
          "output_type": "stream",
          "name": "stdout",
          "text": [
            "Dilyara\n",
            "18\n",
            "software developer\n",
            "Google\n"
          ]
        }
      ]
    },
    {
      "cell_type": "markdown",
      "source": [
        "## Получение подкортежей\n",
        "\n",
        "Как и в списках, можно получить часть кортежа в виде другого кортежа"
      ],
      "metadata": {
        "id": "X-bh6LaICIgG"
      }
    },
    {
      "cell_type": "code",
      "source": [
        "dil = (\"Dilyara\", 18, \"Google\", \"software developer\")\n",
        "\n",
        "# получем подкортеж с 1 по 3 элемента (не включая)\n",
        "print(dil[1:3])     # (18, \"Google\")\n",
        "\n",
        "# получем подкортеж с 0 по 3 элемента (не включая)\n",
        "print(dil[:3])     # ('Dilyara', 18, 'Google')\n",
        "\n",
        "# получем подкортеж с 1 по послдений элемент\n",
        "print(dil[1:])     # (18, 'Google', 'software developer')"
      ],
      "metadata": {
        "colab": {
          "base_uri": "https://localhost:8080/"
        },
        "id": "jqeHQFw3CL9w",
        "outputId": "35aff841-e03a-4120-c7a8-1f69917e5b10"
      },
      "execution_count": 79,
      "outputs": [
        {
          "output_type": "stream",
          "name": "stdout",
          "text": [
            "(18, 'Google')\n",
            "('Dilyara', 18, 'Google')\n",
            "(18, 'Google', 'software developer')\n"
          ]
        }
      ]
    },
    {
      "cell_type": "markdown",
      "source": [
        "## Кортеж как параметр и результат функций\n",
        "\n",
        "Особенно удобно использовать кортежи, когда необходимо возвратить из функции сразу несколько значений. Когда функция возвращает несколько значений, фактически она возвращает в кортеж:"
      ],
      "metadata": {
        "id": "Q3n5rDpjCY8G"
      }
    },
    {
      "cell_type": "code",
      "source": [
        "def get_user():\n",
        "    name = \"Dilyara\"\n",
        "    age = 22\n",
        "    company = \"Google\"\n",
        "    return name, age, company\n",
        "\n",
        "\n",
        "user = get_user()\n",
        "print(user)     # (\"Dilyara\", 22, \"Google\")"
      ],
      "metadata": {
        "colab": {
          "base_uri": "https://localhost:8080/"
        },
        "id": "C3I3OzOVCd68",
        "outputId": "79c60fbc-2806-4677-998d-57678d3fcdf4"
      },
      "execution_count": 80,
      "outputs": [
        {
          "output_type": "stream",
          "name": "stdout",
          "text": [
            "('Dilyara', 22, 'Google')\n"
          ]
        }
      ]
    },
    {
      "cell_type": "markdown",
      "source": [
        "При передаче кортежа в функцию с помощью оператора * его можно разложить на отдельные значения, которые передаются параметрам функции:"
      ],
      "metadata": {
        "id": "-8Qq-u72Ckto"
      }
    },
    {
      "cell_type": "code",
      "source": [
        "def print_person(name, age, company):\n",
        "    print(f\"Name: {name}  Age: {age}  Company: {company}\")\n",
        "\n",
        "dil = (\"Dilyara\", 22)\n",
        "print_person(*dil, \"Microsoft\")     # Name: Dilyara  Age: 22  Company: Microsoft\n",
        "\n",
        "annya = (\"Anna\", 18, \"Apple\")\n",
        "print_person(*annya)      # Name: Anna  Age: 18  Company: Apple"
      ],
      "metadata": {
        "colab": {
          "base_uri": "https://localhost:8080/"
        },
        "id": "HAfcMOh3Cndt",
        "outputId": "408eec32-846f-4f39-8944-d685e2043c2c"
      },
      "execution_count": 82,
      "outputs": [
        {
          "output_type": "stream",
          "name": "stdout",
          "text": [
            "Name: Dilyara  Age: 22  Company: Microsoft\n",
            "Name: Anna  Age: 18  Company: Apple\n"
          ]
        }
      ]
    },
    {
      "cell_type": "markdown",
      "source": [
        "## Перебор кортежей\n",
        "\n",
        "Для перебора кортежа можно использовать стандартные циклы for и while. С помощью цикла for:"
      ],
      "metadata": {
        "id": "S57J7WAXDBV_"
      }
    },
    {
      "cell_type": "code",
      "source": [
        "dil = (\"Dilyara\", 22, \"Google\")\n",
        "for item in dil:\n",
        "    print(item)"
      ],
      "metadata": {
        "colab": {
          "base_uri": "https://localhost:8080/"
        },
        "id": "o1tg5iB-DE6Q",
        "outputId": "4e820a70-b09a-4c65-d2df-ca3c3ee97e99"
      },
      "execution_count": 83,
      "outputs": [
        {
          "output_type": "stream",
          "name": "stdout",
          "text": [
            "Dilyara\n",
            "22\n",
            "Google\n"
          ]
        }
      ]
    },
    {
      "cell_type": "markdown",
      "source": [
        "С помощью цикла while:"
      ],
      "metadata": {
        "id": "o1Nkw5GODKBK"
      }
    },
    {
      "cell_type": "code",
      "source": [
        "dil = (\"Dilyara\", 22, \"Google\")\n",
        "\n",
        "while i < len(dil):\n",
        "    print(tom[i])\n",
        "    i += 1"
      ],
      "metadata": {
        "id": "3-CNdSQ6DL3R"
      },
      "execution_count": 84,
      "outputs": []
    },
    {
      "cell_type": "markdown",
      "source": [
        "## Проверка наличия значения\n",
        "\n",
        "Как для списка с помощью выражения элемент in кортеж можно проверить наличие элемента в кортеже:"
      ],
      "metadata": {
        "id": "IfhiOIenDQlC"
      }
    },
    {
      "cell_type": "code",
      "source": [
        "user = (\"Dilyara\", 22, \"Google\")\n",
        "name = \"Dilyara\"\n",
        "if name in user:\n",
        "    print(\"Пользователя зовут Dilyara\")\n",
        "else:\n",
        "    print(\"Пользователь имеет другое имя\")"
      ],
      "metadata": {
        "colab": {
          "base_uri": "https://localhost:8080/"
        },
        "id": "GM5cOLT-Dd7Z",
        "outputId": "4b3f60a6-851f-450e-c963-db2ca80a71dc"
      },
      "execution_count": 85,
      "outputs": [
        {
          "output_type": "stream",
          "name": "stdout",
          "text": [
            "Пользователя зовут Dilyara\n"
          ]
        }
      ]
    },
    {
      "cell_type": "markdown",
      "source": [
        "# Диапазоны\n"
      ],
      "metadata": {
        "id": "aCg0AetwDkbc"
      }
    },
    {
      "cell_type": "markdown",
      "source": [
        "Диапазоны или range представляют неизменяемый последовательный набор чисел. Для создания диапазонов используется функция range, которая имеет следующие формы:\n",
        "\n",
        "* range(stop): возвращает все целые числа от 0 до stop (не включая stop).\n",
        "* range(start, stop): возвращает все целые числа в промежутке от start (включительно) до stop (не включая stop).\n",
        "* range(start, stop, step): возвращает целые числа в промежутке от start (включительно) до stop (не включая stop), с шагом step.\n",
        "\n",
        "Примеры вызовов функции range:"
      ],
      "metadata": {
        "id": "1xeQaB-rEP-x"
      }
    },
    {
      "cell_type": "code",
      "source": [
        "# Возвращает все целые числа от 0 до 10 (не включая 10)\n",
        "numbers1 = range(10)\n",
        "print(list(numbers1))  # [0, 1, 2, 3, 4, 5, 6, 7, 8, 9]\n",
        "\n",
        "# Возвращает все целые числа в промежутке от 5 (включительно) до 10 (не включая 10)\n",
        "numbers2 = range(5, 10)\n",
        "print(list(numbers2))  # [5, 6, 7, 8, 9]\n",
        "\n",
        "# Возвращает целые числа в промежутке от 0 (включительно) до 10 (не включая 10), с шагом 2\n",
        "numbers3 = range(0, 10, 2)\n",
        "print(list(numbers3))  # [0, 2, 4, 6, 8]\n",
        "\n",
        "# Возвращает все целые числа от -10 (включительно) до -1 (не включая -1)\n",
        "numbers4 = range(-10, -1)\n",
        "print(list(numbers4))  # [-10, -9, -8, -7, -6, -5, -4, -3, -2]"
      ],
      "metadata": {
        "colab": {
          "base_uri": "https://localhost:8080/"
        },
        "id": "hyYChD4mETdc",
        "outputId": "aaa1350c-150e-48ce-99a9-bf8363ece1d1"
      },
      "execution_count": 86,
      "outputs": [
        {
          "output_type": "stream",
          "name": "stdout",
          "text": [
            "[0, 1, 2, 3, 4, 5, 6, 7, 8, 9]\n",
            "[5, 6, 7, 8, 9]\n",
            "[0, 2, 4, 6, 8]\n",
            "[-10, -9, -8, -7, -6, -5, -4, -3, -2]\n"
          ]
        }
      ]
    },
    {
      "cell_type": "markdown",
      "source": [
        "Диапазоны чаще всего применяются в циклах for. Например, выведем последовательно все числа от 0 до 4:"
      ],
      "metadata": {
        "id": "HUqVrxIqEfL6"
      }
    },
    {
      "cell_type": "code",
      "source": [
        "for i in range(5):\n",
        "    print(i, end=\" \")\n",
        "\n",
        "# Консольный вывод\n",
        "# 0, 1, 2, 3, 4"
      ],
      "metadata": {
        "colab": {
          "base_uri": "https://localhost:8080/"
        },
        "id": "4M2dkzQ6Efld",
        "outputId": "f47068ae-e350-42b6-9793-f1439575100a"
      },
      "execution_count": 87,
      "outputs": [
        {
          "output_type": "stream",
          "name": "stdout",
          "text": [
            "0 1 2 3 4 "
          ]
        }
      ]
    },
    {
      "cell_type": "markdown",
      "source": [
        "Если нам необходим последовательный список чисел, то для его создания удобно использовать функцию range:"
      ],
      "metadata": {
        "id": "Gg0twePQEi_B"
      }
    },
    {
      "cell_type": "code",
      "source": [
        "numbers = list(range(10))\n",
        "print(numbers)      # [0, 1, 2, 3, 4, 5, 6, 7, 8, 9]\n",
        "numbers = list(range(2, 10))\n",
        "print(numbers)      # [2, 3, 4, 5, 6, 7, 8, 9]\n",
        "numbers = list(range(10, 2, -2))\n",
        "print(numbers)      # [10, 8, 6, 4]"
      ],
      "metadata": {
        "colab": {
          "base_uri": "https://localhost:8080/"
        },
        "id": "tf5PWxG9En4R",
        "outputId": "dd0d4c7f-9c6a-4cec-bb0a-557e127f3abf"
      },
      "execution_count": 88,
      "outputs": [
        {
          "output_type": "stream",
          "name": "stdout",
          "text": [
            "[0, 1, 2, 3, 4, 5, 6, 7, 8, 9]\n",
            "[2, 3, 4, 5, 6, 7, 8, 9]\n",
            "[10, 8, 6, 4]\n"
          ]
        }
      ]
    },
    {
      "cell_type": "markdown",
      "source": [
        "# Словари"
      ],
      "metadata": {
        "id": "bG36bg3pEtjj"
      }
    },
    {
      "cell_type": "markdown",
      "source": [
        "Словарь (dictionary) в языке Python хранит коллекцию элементов, где каждый элемент имеет уникальный ключ и ассоциированое с ним некоторое значение.\n",
        "\n",
        "Определение словаря имеет следующий синтаксис:\n",
        "\n",
        "\n",
        "```\n",
        "dictionary = { ключ1:значение1, ключ2:значение2, ....}\n",
        "```\n",
        "\n"
      ],
      "metadata": {
        "id": "kdddYEj_FIDm"
      }
    },
    {
      "cell_type": "markdown",
      "source": [
        "Давайте определим словарь:"
      ],
      "metadata": {
        "id": "HVKivEktFPOZ"
      }
    },
    {
      "cell_type": "code",
      "source": [
        "users = {1: \"Annya\", 2: \"Zukhra\", 3: \"Masha\"}\n",
        "print(users)"
      ],
      "metadata": {
        "colab": {
          "base_uri": "https://localhost:8080/"
        },
        "id": "Xg_1WWV6FgcM",
        "outputId": "ae496be6-072d-4575-d585-ada021e25184"
      },
      "execution_count": 91,
      "outputs": [
        {
          "output_type": "stream",
          "name": "stdout",
          "text": [
            "{1: 'Annya', 2: 'Zukhra', 3: 'Masha'}\n"
          ]
        }
      ]
    },
    {
      "cell_type": "markdown",
      "source": [
        "Другой пример:"
      ],
      "metadata": {
        "id": "-rJ_KGYzFuAt"
      }
    },
    {
      "cell_type": "code",
      "source": [
        "emails = {\"anusha@gmail.com\": \"Annya\", \"zukhra@gmai.com\": \"Zukhra\", \"masha@gmail.com\": \"Masha\"}\n",
        "print(emails)"
      ],
      "metadata": {
        "colab": {
          "base_uri": "https://localhost:8080/"
        },
        "id": "ujCfWXtOFwgI",
        "outputId": "23d99634-2b61-4a60-e9d2-5204b7543b99"
      },
      "execution_count": 92,
      "outputs": [
        {
          "output_type": "stream",
          "name": "stdout",
          "text": [
            "{'anusha@gmail.com': 'Annya', 'zukhra@gmai.com': 'Zukhra', 'masha@gmail.com': 'Masha'}\n"
          ]
        }
      ]
    },
    {
      "cell_type": "markdown",
      "source": [
        "Но необязательно ключи и строки должны быть однотипными. Они могу представлять разные типы:"
      ],
      "metadata": {
        "id": "kKgnVWg0GAWu"
      }
    },
    {
      "cell_type": "code",
      "source": [
        "objects = {1: \"Annya\", \"2\": True, 3: 100.6}\n",
        "print(objects)"
      ],
      "metadata": {
        "colab": {
          "base_uri": "https://localhost:8080/"
        },
        "id": "_NXoM4PBGEJM",
        "outputId": "9816e8b2-016c-4327-841b-7a19a5e3674a"
      },
      "execution_count": 94,
      "outputs": [
        {
          "output_type": "stream",
          "name": "stdout",
          "text": [
            "{1: 'Annya', '2': True, 3: 100.6}\n"
          ]
        }
      ]
    },
    {
      "cell_type": "markdown",
      "source": [
        "Мы можем также вообще определить пустой словарь без элементов:"
      ],
      "metadata": {
        "id": "HvuO3TfQGLME"
      }
    },
    {
      "cell_type": "code",
      "source": [
        "objects = {}\n",
        "print(objects)"
      ],
      "metadata": {
        "colab": {
          "base_uri": "https://localhost:8080/"
        },
        "id": "dRo3D2ojGNo_",
        "outputId": "26c89687-cc83-4eaa-9473-e791d360f0f2"
      },
      "execution_count": 95,
      "outputs": [
        {
          "output_type": "stream",
          "name": "stdout",
          "text": [
            "{}\n"
          ]
        }
      ]
    },
    {
      "cell_type": "code",
      "source": [
        "objects = dict()\n",
        "print(objects)"
      ],
      "metadata": {
        "colab": {
          "base_uri": "https://localhost:8080/"
        },
        "id": "5dovMSCmGVz3",
        "outputId": "a5310562-737d-4a0e-e454-a89164ebcfe2"
      },
      "execution_count": 96,
      "outputs": [
        {
          "output_type": "stream",
          "name": "stdout",
          "text": [
            "{}\n"
          ]
        }
      ]
    },
    {
      "cell_type": "markdown",
      "source": [
        "## Преобразование списков и кортежей в словарь\n",
        "\n",
        "Несмотря на то, что словарь и список - непохожие по структуре типы, но тем не менее существует возможности для отдельных видов списков преобразования их в словарь с помощью встроенной функции dict(). Для этого список должен хранить набор вложенных списков. Каждый вложенный список должен состоять из двух элементов - при конвертации в словарь первый элемент станет ключом, а второй - значением:"
      ],
      "metadata": {
        "id": "9Cwh88vhGjfv"
      }
    },
    {
      "cell_type": "code",
      "source": [
        "users_list = [\n",
        "    [\"+111123455\", \"Annya\"],\n",
        "    [\"+384767557\", \"Zukhra\"],\n",
        "    [\"+958758767\", \"Alice\"]\n",
        "]\n",
        "users_dict = dict(users_list)\n",
        "print(users_dict)      # {'+111123455': 'Annya', '+384767557': 'Zukhra', '+958758767': 'Alice'}"
      ],
      "metadata": {
        "colab": {
          "base_uri": "https://localhost:8080/"
        },
        "id": "fB_9QNXgGnxS",
        "outputId": "f1041508-5654-4166-b28e-bd838cda2a95"
      },
      "execution_count": 98,
      "outputs": [
        {
          "output_type": "stream",
          "name": "stdout",
          "text": [
            "{'+111123455': 'Annya', '+384767557': 'Zukhra', '+958758767': 'Alice'}\n"
          ]
        }
      ]
    },
    {
      "cell_type": "markdown",
      "source": [
        "Подобным образом можно преобразовать в словарь двухмерные кортежи, которые в свою очередь содержать кортежи из двух элементов:"
      ],
      "metadata": {
        "id": "LQQ1D3TKG2JP"
      }
    },
    {
      "cell_type": "code",
      "source": [
        "users_tuple = (\n",
        "    (\"+111123455\", \"Annya\"),\n",
        "    (\"+384767557\", \"Zukhra\"),\n",
        "    (\"+958758767\", \"Alice\")\n",
        ")\n",
        "users_dict = dict(users_tuple)\n",
        "print(users_dict)"
      ],
      "metadata": {
        "colab": {
          "base_uri": "https://localhost:8080/"
        },
        "id": "Js8P74ZkG50y",
        "outputId": "7facf923-1867-454b-8b3d-619e9fb26b4c"
      },
      "execution_count": 99,
      "outputs": [
        {
          "output_type": "stream",
          "name": "stdout",
          "text": [
            "{'+111123455': 'Annya', '+384767557': 'Zukhra', '+958758767': 'Alice'}\n"
          ]
        }
      ]
    },
    {
      "cell_type": "markdown",
      "source": [
        "## Получение и изменение элементов\n",
        "\n",
        "Для обращения к элементам словаря после его названия в квадратных скобках указывается ключ элемента:\n",
        "\n",
        "\n",
        "\n",
        "```\n",
        "dictionary[ключ]\n",
        "```\n",
        "\n"
      ],
      "metadata": {
        "id": "p0vOwOV5HBZ_"
      }
    },
    {
      "cell_type": "markdown",
      "source": [
        "Например, получим и изменим элементы в словаре:"
      ],
      "metadata": {
        "id": "f5e5OxgbHOk-"
      }
    },
    {
      "cell_type": "code",
      "source": [
        "users = {\n",
        "    \"+11111111\": \"Annya\",\n",
        "    \"+33333333\": \"Zukhra\",\n",
        "    \"+55555555\": \"Alice\"\n",
        "}\n",
        "\n",
        "# получаем элемент с ключом \"+11111111\"\n",
        "print(users[\"+11111111\"])      # Annya\n",
        "\n",
        "# установка значения элемента с ключом \"+33333333\"\n",
        "users[\"+33333333\"] = \"Ilderova Anna\"\n",
        "print(users[\"+33333333\"])   # Ilderova Anna"
      ],
      "metadata": {
        "colab": {
          "base_uri": "https://localhost:8080/"
        },
        "id": "6D6TEDt7HL-M",
        "outputId": "c568e15d-4212-4099-8675-59516f015b40"
      },
      "execution_count": 100,
      "outputs": [
        {
          "output_type": "stream",
          "name": "stdout",
          "text": [
            "Annya\n",
            "Ilderova Anna\n"
          ]
        }
      ]
    },
    {
      "cell_type": "markdown",
      "source": [
        "Если при установки значения элемента с таким ключом в словаре не окажется, то произойдет его добавление:"
      ],
      "metadata": {
        "id": "jWENGH1UHeus"
      }
    },
    {
      "cell_type": "code",
      "source": [
        "users[\"+4444444\"] = \"Masha\""
      ],
      "metadata": {
        "id": "XjfF77VTHfUQ"
      },
      "execution_count": 101,
      "outputs": []
    },
    {
      "cell_type": "markdown",
      "source": [
        "Но если мы попробуем получить значение с ключом, которого нет в словаре, то Python сгенерирует ошибку KeyError:"
      ],
      "metadata": {
        "id": "0nfCzU6KHj5c"
      }
    },
    {
      "cell_type": "code",
      "source": [
        "user = users[\"+999999999\"]    # KeyError"
      ],
      "metadata": {
        "colab": {
          "base_uri": "https://localhost:8080/",
          "height": 175
        },
        "id": "-nznQF8aHpTF",
        "outputId": "419d16e4-df0c-4974-da6f-c9f2a328c9a5"
      },
      "execution_count": 102,
      "outputs": [
        {
          "output_type": "error",
          "ename": "KeyError",
          "evalue": "ignored",
          "traceback": [
            "\u001b[0;31m---------------------------------------------------------------------------\u001b[0m",
            "\u001b[0;31mKeyError\u001b[0m                                  Traceback (most recent call last)",
            "\u001b[0;32m<ipython-input-102-5166262d4ebf>\u001b[0m in \u001b[0;36m<cell line: 1>\u001b[0;34m()\u001b[0m\n\u001b[0;32m----> 1\u001b[0;31m \u001b[0muser\u001b[0m \u001b[0;34m=\u001b[0m \u001b[0musers\u001b[0m\u001b[0;34m[\u001b[0m\u001b[0;34m\"+999999999\"\u001b[0m\u001b[0;34m]\u001b[0m    \u001b[0;31m# KeyError\u001b[0m\u001b[0;34m\u001b[0m\u001b[0;34m\u001b[0m\u001b[0m\n\u001b[0m",
            "\u001b[0;31mKeyError\u001b[0m: '+999999999'"
          ]
        }
      ]
    },
    {
      "cell_type": "markdown",
      "source": [
        "И чтобы предупредить эту ситуацию перед обращением к элементу мы можем проверять наличие ключа в словаре с помощью выражения ключ in словарь. Если ключ имеется в словаре, то данное выражение возвращает True:"
      ],
      "metadata": {
        "id": "6WbsDyf6HuI_"
      }
    },
    {
      "cell_type": "code",
      "source": [
        "key = \"+999999999\"\n",
        "if key in users:\n",
        "    user = users[key]\n",
        "    print(user)\n",
        "else:\n",
        "    print(\"Элемент не найден\")"
      ],
      "metadata": {
        "colab": {
          "base_uri": "https://localhost:8080/"
        },
        "id": "86tIUTIsHw72",
        "outputId": "0bb3ba53-6655-47c6-c645-e582ac0e986a"
      },
      "execution_count": 103,
      "outputs": [
        {
          "output_type": "stream",
          "name": "stdout",
          "text": [
            "Элемент не найден\n"
          ]
        }
      ]
    },
    {
      "cell_type": "markdown",
      "source": [
        "Также для получения элементов можно использовать метод get, который имеет две формы:\n",
        "\n",
        "* get(key): возвращает из словаря элемент с ключом key. Если элемента с таким ключом нет, то возвращает значение None\n",
        "\n",
        "* get(key, default): возвращает из словаря элемент с ключом key. Если элемента с таким ключом нет, то возвращает значение по умолчанию default"
      ],
      "metadata": {
        "id": "nwjWMUT6H4yJ"
      }
    },
    {
      "cell_type": "code",
      "source": [
        "users = {\n",
        "    \"+11111111\": \"Annya\",\n",
        "    \"+33333333\": \"Zukhro\",\n",
        "    \"+55555555\": \"Alice\"\n",
        "}\n",
        "\n",
        "user1 = users.get(\"+55555555\")\n",
        "print(user1)    # Alice\n",
        "user2 = users.get(\"+33333333\", \"Unknown user\")\n",
        "print(user2)    # Zukhro\n",
        "user3 = users.get(\"+44444444\", \"Unknown user\")\n",
        "print(user3)    # Unknown user"
      ],
      "metadata": {
        "colab": {
          "base_uri": "https://localhost:8080/"
        },
        "id": "kBffJr86H8xn",
        "outputId": "e98821f8-38cf-4ddc-de79-c20996aa6e09"
      },
      "execution_count": 105,
      "outputs": [
        {
          "output_type": "stream",
          "name": "stdout",
          "text": [
            "Alice\n",
            "Zukhro\n",
            "Unknown user\n"
          ]
        }
      ]
    },
    {
      "cell_type": "markdown",
      "source": [
        "Удаление\n",
        "Для удаления элемента по ключу применяется оператор del:"
      ],
      "metadata": {
        "id": "13yHyI0iIJSD"
      }
    },
    {
      "cell_type": "code",
      "source": [
        "users = {\n",
        "    \"+11111111\": \"Annya\",\n",
        "    \"+33333333\": \"Zukhro\",\n",
        "    \"+55555555\": \"Alice\"\n",
        "}\n",
        "\n",
        "del users[\"+55555555\"]\n",
        "print(users)    # {'+11111111': 'Annya', '+33333333': 'Zukhro'}"
      ],
      "metadata": {
        "colab": {
          "base_uri": "https://localhost:8080/"
        },
        "id": "0sbbEGOvHIMo",
        "outputId": "f269495a-64a1-4cae-870a-629a9f7de0c3"
      },
      "execution_count": 106,
      "outputs": [
        {
          "output_type": "stream",
          "name": "stdout",
          "text": [
            "{'+11111111': 'Annya', '+33333333': 'Zukhro'}\n"
          ]
        }
      ]
    },
    {
      "cell_type": "markdown",
      "source": [
        "Но стоит учитывать, что если подобного ключа не окажется в словаре, то будет выброшено исключение KeyError. Поэтому опять же перед удалением желательно проверять наличие элемента с данным ключом."
      ],
      "metadata": {
        "id": "G3pHaeOeIU7f"
      }
    },
    {
      "cell_type": "code",
      "source": [
        "users = {\n",
        "    \"+11111111\": \"Annya\",\n",
        "    \"+33333333\": \"Zukhro\",\n",
        "    \"+55555555\": \"Alice\"\n",
        "}\n",
        "\n",
        "key = \"+55555555\"\n",
        "if key in users:\n",
        "    del users[key]\n",
        "    print(f\"Элемент с ключом {key} удален\")\n",
        "else:\n",
        "    print(\"Элемент не найден\")"
      ],
      "metadata": {
        "colab": {
          "base_uri": "https://localhost:8080/"
        },
        "id": "1wIK0khWIWaO",
        "outputId": "56c21ad5-f53e-4139-e34b-65978e189398"
      },
      "execution_count": 107,
      "outputs": [
        {
          "output_type": "stream",
          "name": "stdout",
          "text": [
            "Элемент с ключом +55555555 удален\n"
          ]
        }
      ]
    },
    {
      "cell_type": "markdown",
      "source": [
        "Другой способ удаления представляет метод pop(). Он имеет две формы:\n",
        "\n",
        "* pop(key): удаляет элемент по ключу key и возвращает удаленный элемент. Если элемент с данным ключом отсутствует, то генерируется исключение KeyError\n",
        "\n",
        "* pop(key, default): удаляет элемент по ключу key и возвращает удаленный элемент. Если элемент с данным ключом отсутствует, то возвращается значение default"
      ],
      "metadata": {
        "id": "9rW53jCdIZ1H"
      }
    },
    {
      "cell_type": "code",
      "source": [
        "users = {\n",
        "    \"+11111111\": \"Annya\",\n",
        "    \"+33333333\": \"Zukhro\",\n",
        "    \"+55555555\": \"Alice\"\n",
        "}\n",
        "\n",
        "\n",
        "key = \"+55555555\"\n",
        "user = users.pop(key)\n",
        "print(user)     # Alice\n",
        "\n",
        "user = users.pop(\"+4444444\", \"Unknown user\")\n",
        "print(user)     # Unknown user"
      ],
      "metadata": {
        "colab": {
          "base_uri": "https://localhost:8080/"
        },
        "id": "3auN2uRbIfNG",
        "outputId": "d1824b82-1198-45ea-e9ea-8adb734587e5"
      },
      "execution_count": 108,
      "outputs": [
        {
          "output_type": "stream",
          "name": "stdout",
          "text": [
            "Alice\n",
            "Unknown user\n"
          ]
        }
      ]
    },
    {
      "cell_type": "markdown",
      "source": [
        "Если необходимо удалить все элементы, то в этом случае можно воспользоваться методом clear():"
      ],
      "metadata": {
        "id": "ClGfcilpImGg"
      }
    },
    {
      "cell_type": "code",
      "source": [
        "users.clear()"
      ],
      "metadata": {
        "id": "IWqLQRj9IomF"
      },
      "execution_count": 109,
      "outputs": []
    },
    {
      "cell_type": "markdown",
      "source": [
        "## Копирование и объединение словарей\n",
        "\n",
        "Метод copy() копирует содержимое словаря, возвращая новый словарь:"
      ],
      "metadata": {
        "id": "9XYEa72mIqiM"
      }
    },
    {
      "cell_type": "code",
      "source": [
        "users = {\"+1111111\": \"Annya\", \"+3333333\": \"Zukhra\", \"+5555555\": \"Alice\"}\n",
        "students = users.copy()\n",
        "print(students)     # {'+1111111': 'Annya', '+3333333': 'Zukhra', '+5555555': 'Alice'}"
      ],
      "metadata": {
        "colab": {
          "base_uri": "https://localhost:8080/"
        },
        "id": "8DPGrwpuIwO1",
        "outputId": "21829881-f850-462b-ef36-2cd6d2b93b2a"
      },
      "execution_count": 111,
      "outputs": [
        {
          "output_type": "stream",
          "name": "stdout",
          "text": [
            "{'+1111111': 'Annya', '+3333333': 'Zukhra', '+5555555': 'Alice'}\n"
          ]
        }
      ]
    },
    {
      "cell_type": "markdown",
      "source": [
        "Метод update() объединяет два словаря:"
      ],
      "metadata": {
        "id": "i5x3LxYNI3H1"
      }
    },
    {
      "cell_type": "code",
      "source": [
        "users = {\"+1111111\": \"Annya\", \"+3333333\": \"Zukhra\"}\n",
        "\n",
        "users2 = {\"+2222222\": \"Masha\", \"+6666666\": \"Dasha\"}\n",
        "users.update(users2)\n",
        "\n",
        "print(users)    #  {'+1111111': 'Annya', '+3333333': 'Zukhra', '+2222222': 'Masha', '+6666666': 'Dasha'}\n",
        "print(users2)   # {'+2222222': 'Masha', '+6666666': 'Dasha'}"
      ],
      "metadata": {
        "colab": {
          "base_uri": "https://localhost:8080/"
        },
        "id": "epP7aAvMI5It",
        "outputId": "c5e66603-9fc8-4454-e818-b1d2cb8c77a8"
      },
      "execution_count": 113,
      "outputs": [
        {
          "output_type": "stream",
          "name": "stdout",
          "text": [
            "{'+1111111': 'Annya', '+3333333': 'Zukhra', '+2222222': 'Masha', '+6666666': 'Dasha'}\n",
            "{'+2222222': 'Masha', '+6666666': 'Dasha'}\n"
          ]
        }
      ]
    },
    {
      "cell_type": "markdown",
      "source": [
        "## Перебор словаря\n",
        "\n",
        "Для перебора словаря можно воспользоваться циклом for:"
      ],
      "metadata": {
        "id": "wLuNTyAiJFuT"
      }
    },
    {
      "cell_type": "code",
      "source": [
        "users = {\n",
        "    \"+11111111\": \"Annya\",\n",
        "    \"+33333333\": \"Zukhra\",\n",
        "    \"+55555555\": \"Alice\"\n",
        "}\n",
        "for key in users:\n",
        "    print(f\"Phone: {key}  User: {users[key]} \")"
      ],
      "metadata": {
        "colab": {
          "base_uri": "https://localhost:8080/"
        },
        "id": "XI0v29akJV8U",
        "outputId": "65a0c1dc-3d72-4aac-9328-7e401e838a23"
      },
      "execution_count": 114,
      "outputs": [
        {
          "output_type": "stream",
          "name": "stdout",
          "text": [
            "Phone: +11111111  User: Annya \n",
            "Phone: +33333333  User: Zukhra \n",
            "Phone: +55555555  User: Alice \n"
          ]
        }
      ]
    },
    {
      "cell_type": "markdown",
      "source": [
        "Другой способ перебора элементов представляет использование метода items():"
      ],
      "metadata": {
        "id": "JcXQVlSTJaw1"
      }
    },
    {
      "cell_type": "code",
      "source": [
        "users = {\n",
        "    \"+11111111\": \"Annya\",\n",
        "    \"+33333333\": \"Zukhra\",\n",
        "    \"+55555555\": \"Alice\"\n",
        "}\n",
        "\n",
        "for key, value in users.items():\n",
        "    print(f\"Phone: {key}  User: {value} \")"
      ],
      "metadata": {
        "colab": {
          "base_uri": "https://localhost:8080/"
        },
        "id": "5eCbno5RJfYn",
        "outputId": "81e0d043-0c17-40cf-8100-7e81e51d37dc"
      },
      "execution_count": 115,
      "outputs": [
        {
          "output_type": "stream",
          "name": "stdout",
          "text": [
            "Phone: +11111111  User: Annya \n",
            "Phone: +33333333  User: Zukhra \n",
            "Phone: +55555555  User: Alice \n"
          ]
        }
      ]
    },
    {
      "cell_type": "markdown",
      "source": [
        "Также существуют отдельно возможности перебора ключей и перебора значений. Для перебора ключей мы можем вызвать у словаря метод keys():"
      ],
      "metadata": {
        "id": "greaMuXYJiuV"
      }
    },
    {
      "cell_type": "code",
      "source": [
        "users = {\n",
        "    \"+11111111\": \"Annya\",\n",
        "    \"+33333333\": \"Zukhra\",\n",
        "    \"+55555555\": \"Alice\"\n",
        "}\n",
        "\n",
        "for key in users.keys():\n",
        "    print(key)"
      ],
      "metadata": {
        "colab": {
          "base_uri": "https://localhost:8080/"
        },
        "id": "BMQO8rtAJmQb",
        "outputId": "73048e97-5680-4221-aa40-1fdb3eb1e6b9"
      },
      "execution_count": 116,
      "outputs": [
        {
          "output_type": "stream",
          "name": "stdout",
          "text": [
            "+11111111\n",
            "+33333333\n",
            "+55555555\n"
          ]
        }
      ]
    },
    {
      "cell_type": "markdown",
      "source": [
        "Для перебора только значений мы можем вызвать у словаря метод values():"
      ],
      "metadata": {
        "id": "wHd2wNhcJqWO"
      }
    },
    {
      "cell_type": "code",
      "source": [
        "users = {\n",
        "    \"+11111111\": \"Annya\",\n",
        "    \"+33333333\": \"Zukhra\",\n",
        "    \"+55555555\": \"Alice\"\n",
        "}\n",
        "\n",
        "for value in users.values():\n",
        "    print(value)"
      ],
      "metadata": {
        "colab": {
          "base_uri": "https://localhost:8080/"
        },
        "id": "fJamAjJ0JuZF",
        "outputId": "0dc5c26a-020d-4b5f-9384-8aae1f5b6fc4"
      },
      "execution_count": 118,
      "outputs": [
        {
          "output_type": "stream",
          "name": "stdout",
          "text": [
            "Annya\n",
            "Zukhra\n",
            "Alice\n"
          ]
        }
      ]
    },
    {
      "cell_type": "markdown",
      "source": [
        "## Комплексные словари\n",
        "\n",
        "Кроме простейших объектов типа чисел и строк словари также могут хранить и более сложные объекты - те же списки, кортежи или другие словари:"
      ],
      "metadata": {
        "id": "mfEmtei6Jzpn"
      }
    },
    {
      "cell_type": "code",
      "source": [
        "users = {\n",
        "    \"Annya\": {\n",
        "        \"phone\": \"+971478745\",\n",
        "        \"email\": \"annusha@gmail.com\"\n",
        "    },\n",
        "    \"Zukhra\": {\n",
        "        \"phone\": \"+876390444\",\n",
        "        \"email\": \"zukha@gmail.com\",\n",
        "        \"skype\": \"zukha123\"\n",
        "    }\n",
        "}\n",
        "\n",
        "print(users)"
      ],
      "metadata": {
        "colab": {
          "base_uri": "https://localhost:8080/"
        },
        "id": "N1TtjTZlJ3uO",
        "outputId": "1e9815e0-b06a-490f-dfc9-c9e74a4fbe96"
      },
      "execution_count": 120,
      "outputs": [
        {
          "output_type": "stream",
          "name": "stdout",
          "text": [
            "{'Annya': {'phone': '+971478745', 'email': 'annusha@gmail.com'}, 'Zukhra': {'phone': '+876390444', 'email': 'zukha@gmail.com', 'skype': 'zukha123'}}\n"
          ]
        }
      ]
    },
    {
      "cell_type": "markdown",
      "source": [
        "Для обращения к элементам вложенного словаря соответственно необходимо использовать два ключа:"
      ],
      "metadata": {
        "id": "ScByCniTKIfe"
      }
    },
    {
      "cell_type": "code",
      "source": [
        "old_email = users[\"Annya\"][\"email\"]\n",
        "users[\"Annya\"][\"email\"] = \"superannya@gmail.com\"\n",
        "print(users[\"Annya\"])     # { phone\": \"+971478745\", \"email\": \"supertom@gmail.com }"
      ],
      "metadata": {
        "colab": {
          "base_uri": "https://localhost:8080/"
        },
        "id": "88k1psOnKI-g",
        "outputId": "67e82efd-5c20-41a1-ca12-1e35e5488384"
      },
      "execution_count": 122,
      "outputs": [
        {
          "output_type": "stream",
          "name": "stdout",
          "text": [
            "{'phone': '+971478745', 'email': 'superannya@gmail.com'}\n"
          ]
        }
      ]
    },
    {
      "cell_type": "markdown",
      "source": [
        "Но если мы попробуем получить значение по ключу, который отсутствует в словаре, Python сгенерирует исключение KeyError:"
      ],
      "metadata": {
        "id": "CumAbN9WKCjS"
      }
    },
    {
      "cell_type": "code",
      "source": [
        "anna_skype = users[\"Annya\"][\"skype\"]   # KeyError"
      ],
      "metadata": {
        "colab": {
          "base_uri": "https://localhost:8080/",
          "height": 175
        },
        "id": "_RmNOHiNKWQV",
        "outputId": "a1f1bf58-77e4-48db-fda4-7cf74b37516c"
      },
      "execution_count": 123,
      "outputs": [
        {
          "output_type": "error",
          "ename": "KeyError",
          "evalue": "ignored",
          "traceback": [
            "\u001b[0;31m---------------------------------------------------------------------------\u001b[0m",
            "\u001b[0;31mKeyError\u001b[0m                                  Traceback (most recent call last)",
            "\u001b[0;32m<ipython-input-123-f5945869694c>\u001b[0m in \u001b[0;36m<cell line: 1>\u001b[0;34m()\u001b[0m\n\u001b[0;32m----> 1\u001b[0;31m \u001b[0manna_skype\u001b[0m \u001b[0;34m=\u001b[0m \u001b[0musers\u001b[0m\u001b[0;34m[\u001b[0m\u001b[0;34m\"Annya\"\u001b[0m\u001b[0;34m]\u001b[0m\u001b[0;34m[\u001b[0m\u001b[0;34m\"skype\"\u001b[0m\u001b[0;34m]\u001b[0m   \u001b[0;31m# KeyError\u001b[0m\u001b[0;34m\u001b[0m\u001b[0;34m\u001b[0m\u001b[0m\n\u001b[0m",
            "\u001b[0;31mKeyError\u001b[0m: 'skype'"
          ]
        }
      ]
    },
    {
      "cell_type": "markdown",
      "source": [
        "Чтобы избежать ошибки, можно проверять наличие ключа в словаре:"
      ],
      "metadata": {
        "id": "QZmxmhK5Kbce"
      }
    },
    {
      "cell_type": "code",
      "source": [
        "key = \"skype\"\n",
        "if key in users[\"Annya\"]:\n",
        "    print(users[\"Annya\"][\"skype\"])\n",
        "else:\n",
        "    print(\"skype is not found\")"
      ],
      "metadata": {
        "colab": {
          "base_uri": "https://localhost:8080/"
        },
        "id": "GfF4gi5VKeFV",
        "outputId": "d17fc48c-10af-42fd-854a-3f411e1c0746"
      },
      "execution_count": 124,
      "outputs": [
        {
          "output_type": "stream",
          "name": "stdout",
          "text": [
            "skype is not found\n"
          ]
        }
      ]
    },
    {
      "cell_type": "markdown",
      "source": [
        "**Задача: Работа с использованием словарей в Python**\n",
        "\n",
        "1. Создайте словарь с именем \"person\", содержащий следующие данные о человеке:\n",
        "\n",
        "* Имя (name)\n",
        "* Возраст (age)\n",
        "* Город проживания (city)\n",
        "* Адрес электронной почты (email)\n",
        "\n",
        "2. Выведите на экран имя и возраст человека.\n",
        "\n",
        "3. Измените возраст человека на один год.\n",
        "\n",
        "4. Добавьте в словарь новый элемент, представляющий номер телефона человека.\n",
        "\n",
        "5. Удалите адрес электронной почты из словаря.\n",
        "\n",
        "6. Проверьте, указан ли адрес электронной почты в словаре. Если да, выведите его значение, иначе выведите сообщение о том, что адрес электронной почты не указан.\n",
        "\n",
        "7. Выведите на экран все ключи и значения в словаре \"person\".\n",
        "\n",
        "8. Выведите на экран все значения в словаре \"person\".\n",
        "\n",
        "9. Выведите на экран все пары ключ-значение в словаре \"person\".\n",
        "\n",
        "10. Перечислите все действия, которые вы выполнили с использованием словаря в этой задаче.\n"
      ],
      "metadata": {
        "id": "39XIrNSHKjjx"
      }
    },
    {
      "cell_type": "code",
      "source": [
        "# Создание словаря\n",
        "person = {\n",
        "    \"name\": \"Alice\",\n",
        "    \"age\": 25,\n",
        "    \"city\": \"New York\",\n",
        "    \"email\": \"alice@example.com\"\n",
        "}\n",
        "\n",
        "# Вывод на экран имени и возраста человека\n",
        "print(person[\"name\"])  # Выводит: Alice\n",
        "print(person[\"age\"])   # Выводит: 25\n",
        "\n",
        "# Изменение значения возраста\n",
        "person[\"age\"] = 26\n",
        "\n",
        "# Добавление новой пары ключ-значение для номера телефона\n",
        "person[\"phone\"] = \"123-456-7890\"\n",
        "\n",
        "# Удаление элемента по ключу\n",
        "del person[\"email\"]\n",
        "\n",
        "# Проверка наличия ключа в словаре\n",
        "if \"email\" in person:\n",
        "    print(\"Email:\", person[\"email\"])\n",
        "else:\n",
        "    print(\"Email не указан\")\n",
        "\n",
        "# Вывод всех ключей и значений в словаре\n",
        "print(\"Ключи и значения в словаре:\")\n",
        "for key, value in person.items():\n",
        "    print(key, \":\", value)\n",
        "\n",
        "# Вывод всех значений в словаре\n",
        "print(\"Значения в словаре:\")\n",
        "for value in person.values():\n",
        "    print(value)\n",
        "\n",
        "# Вывод всех пар ключ-значение в словаре\n",
        "print(\"Пары ключ-значение в словаре:\")\n",
        "for key, value in person.items():\n",
        "    print(key, \":\", value)\n"
      ],
      "metadata": {
        "colab": {
          "base_uri": "https://localhost:8080/"
        },
        "id": "6bUnH2vdLYHU",
        "outputId": "a13f0ed6-1ccb-4af7-ed2a-02b4a119b2bf"
      },
      "execution_count": 125,
      "outputs": [
        {
          "output_type": "stream",
          "name": "stdout",
          "text": [
            "Alice\n",
            "25\n",
            "Email не указан\n",
            "Ключи и значения в словаре:\n",
            "name : Alice\n",
            "age : 26\n",
            "city : New York\n",
            "phone : 123-456-7890\n",
            "Значения в словаре:\n",
            "Alice\n",
            "26\n",
            "New York\n",
            "123-456-7890\n",
            "Пары ключ-значение в словаре:\n",
            "name : Alice\n",
            "age : 26\n",
            "city : New York\n",
            "phone : 123-456-7890\n"
          ]
        }
      ]
    },
    {
      "cell_type": "markdown",
      "source": [
        "# Множества"
      ],
      "metadata": {
        "id": "Z3dCT3q4Lejp"
      }
    },
    {
      "cell_type": "markdown",
      "source": [
        "Множество (set) представляют еще один вид набора, который хранит только уникальные элементы. Для определения множества используются фигурные скобки, в которых перечисляются элементы:"
      ],
      "metadata": {
        "id": "PvE7jOmJVB8g"
      }
    },
    {
      "cell_type": "code",
      "source": [
        "users = {\"Tom\", \"Bob\", \"Alice\", \"Tom\"}\n",
        "print(users)    # {'Tom', 'Alice', 'Bob'}"
      ],
      "metadata": {
        "id": "pif5T_w9VC1e",
        "outputId": "e6ee888b-2295-4f11-c9ce-723d56f84eed",
        "colab": {
          "base_uri": "https://localhost:8080/"
        }
      },
      "execution_count": 128,
      "outputs": [
        {
          "output_type": "stream",
          "name": "stdout",
          "text": [
            "{'Tom', 'Alice', 'Bob'}\n"
          ]
        }
      ]
    },
    {
      "cell_type": "markdown",
      "source": [
        "Также для определения множества может применяться функция set(), в которую передается список или кортеж элементов:"
      ],
      "metadata": {
        "id": "2qwDhNIyVj4A"
      }
    },
    {
      "cell_type": "code",
      "source": [
        "people = [\"Mike\", \"Bill\", \"Ted\"]\n",
        "users = set(people)\n",
        "print(users)    # {'Bill', 'Mike', 'Ted'}"
      ],
      "metadata": {
        "id": "pPAxy1uiVksv",
        "outputId": "71c42d76-4c80-4957-d5a9-ebf944c1bbd6",
        "colab": {
          "base_uri": "https://localhost:8080/"
        }
      },
      "execution_count": 130,
      "outputs": [
        {
          "output_type": "stream",
          "name": "stdout",
          "text": [
            "{'Bill', 'Mike', 'Ted'}\n"
          ]
        }
      ]
    },
    {
      "cell_type": "markdown",
      "source": [
        "Функцию set удобно применять для создания пустого множества:"
      ],
      "metadata": {
        "id": "NjA_tnsNVt0U"
      }
    },
    {
      "cell_type": "code",
      "source": [
        "users = set()\n",
        "print(users)"
      ],
      "metadata": {
        "id": "emu9Ve2SVxOh",
        "outputId": "e21a417e-cf44-41cc-94c1-b3eb0786d1da",
        "colab": {
          "base_uri": "https://localhost:8080/"
        }
      },
      "execution_count": 131,
      "outputs": [
        {
          "output_type": "stream",
          "name": "stdout",
          "text": [
            "set()\n"
          ]
        }
      ]
    },
    {
      "cell_type": "markdown",
      "source": [
        "Для получения длины множества применяется встроенная функция len():"
      ],
      "metadata": {
        "id": "WMlqhF4HV1ny"
      }
    },
    {
      "cell_type": "code",
      "source": [
        "users = {\"Tom\", \"Bob\", \"Alice\"}\n",
        "print(len(users))       # 3"
      ],
      "metadata": {
        "id": "AzMXCXjNV4D7",
        "outputId": "df39151c-a7ca-49f0-8118-899de6416d6d",
        "colab": {
          "base_uri": "https://localhost:8080/"
        }
      },
      "execution_count": 132,
      "outputs": [
        {
          "output_type": "stream",
          "name": "stdout",
          "text": [
            "3\n"
          ]
        }
      ]
    },
    {
      "cell_type": "markdown",
      "source": [
        "## Добавление элементов\n",
        "\n",
        "Для добавления одиночного элемента вызывается метод add():"
      ],
      "metadata": {
        "id": "p2Y2KI_7V6h9"
      }
    },
    {
      "cell_type": "code",
      "source": [
        "users = set()\n",
        "users.add(\"Sam\")\n",
        "print(users)"
      ],
      "metadata": {
        "id": "awZJ0EvaV98C",
        "outputId": "44f5c156-4c78-4e24-8d95-42eb4cd3b0fe",
        "colab": {
          "base_uri": "https://localhost:8080/"
        }
      },
      "execution_count": 133,
      "outputs": [
        {
          "output_type": "stream",
          "name": "stdout",
          "text": [
            "{'Sam'}\n"
          ]
        }
      ]
    },
    {
      "cell_type": "markdown",
      "source": [
        "## Удаление элементов\n",
        "\n",
        "Для удаления одного элемента вызывается метод remove(), в который передается удаляемый элемент. Но следует учитывать, что если такого элемента не окажется в множестве, то будет сгенерирована ошибка. Поэтому перед удалением следует проверять на наличие элемента с помощью оператора in:"
      ],
      "metadata": {
        "id": "LOXY6QUZWAop"
      }
    },
    {
      "cell_type": "code",
      "source": [
        "users = {\"Tom\", \"Bob\", \"Alice\"}\n",
        "\n",
        "user = \"Tom\"\n",
        "if user in users:\n",
        "    users.remove(user)\n",
        "print(users)    # {\"Bob\", \"Alice\"}"
      ],
      "metadata": {
        "id": "lvSYmOiYWGR9",
        "outputId": "ebcc16d1-a450-4f98-deff-1a31a433df75",
        "colab": {
          "base_uri": "https://localhost:8080/"
        }
      },
      "execution_count": 134,
      "outputs": [
        {
          "output_type": "stream",
          "name": "stdout",
          "text": [
            "{'Alice', 'Bob'}\n"
          ]
        }
      ]
    },
    {
      "cell_type": "markdown",
      "source": [
        "Также для удаления можно использовать метод discard(), который не будет генерировать исключения при отсутствии элемента:"
      ],
      "metadata": {
        "id": "88QdH8CSWItm"
      }
    },
    {
      "cell_type": "code",
      "source": [
        "users = {\"Tom\", \"Bob\", \"Alice\"}\n",
        "\n",
        "users.discard(\"Tim\")    # элемент \"Tim\" отсутствует, и метод ничего не делает\n",
        "print(users)    #  {\"Tom\", \"Bob\", \"Alice\"}\n",
        "\n",
        "users.discard(\"Tom\")    # элемент \"Tom\" есть, и метод удаляет элемент\n",
        "print(users)    #  {\"Bob\", \"Alice\"}"
      ],
      "metadata": {
        "id": "ZfSlqdOBWLtn",
        "outputId": "15a56310-5d2c-44bb-c6cb-b4d7a3376f21",
        "colab": {
          "base_uri": "https://localhost:8080/"
        }
      },
      "execution_count": 135,
      "outputs": [
        {
          "output_type": "stream",
          "name": "stdout",
          "text": [
            "{'Tom', 'Alice', 'Bob'}\n",
            "{'Alice', 'Bob'}\n"
          ]
        }
      ]
    },
    {
      "cell_type": "markdown",
      "source": [
        "Для удаления всех элементов вызывается метод clear():"
      ],
      "metadata": {
        "id": "CMIi1vAjWNz8"
      }
    },
    {
      "cell_type": "code",
      "source": [
        "users.clear()\n",
        "print(users)"
      ],
      "metadata": {
        "id": "ZMyIFdUQWYm7",
        "outputId": "bfbae02f-4613-4ab1-dbf9-a12822e3afe4",
        "colab": {
          "base_uri": "https://localhost:8080/"
        }
      },
      "execution_count": 137,
      "outputs": [
        {
          "output_type": "stream",
          "name": "stdout",
          "text": [
            "set()\n"
          ]
        }
      ]
    },
    {
      "cell_type": "markdown",
      "source": [
        "## Перебор множества\n",
        "\n",
        "Для перебора элементов можно использовать цикл for:"
      ],
      "metadata": {
        "id": "EMpk3QAaWfdp"
      }
    },
    {
      "cell_type": "code",
      "source": [
        "users = {\"Tom\", \"Bob\", \"Alice\"}\n",
        "\n",
        "for user in users:\n",
        "    print(user)"
      ],
      "metadata": {
        "id": "7lGnqVEfWjkK",
        "outputId": "92f9938e-c0c0-45bb-bd49-40dbe3a37849",
        "colab": {
          "base_uri": "https://localhost:8080/"
        }
      },
      "execution_count": 138,
      "outputs": [
        {
          "output_type": "stream",
          "name": "stdout",
          "text": [
            "Tom\n",
            "Alice\n",
            "Bob\n"
          ]
        }
      ]
    },
    {
      "cell_type": "markdown",
      "source": [
        "## Операции с множествами\n",
        "\n",
        "С помощью метода copy() можно скопировать содержимое одного множества в другую переменную:"
      ],
      "metadata": {
        "id": "QeJccvfSWmUP"
      }
    },
    {
      "cell_type": "code",
      "source": [
        "users = {\"Tom\", \"Bob\", \"Alice\"}\n",
        "students = users.copy()\n",
        "print(students)     # {\"Tom\", \"Bob\", \"Alice\"}"
      ],
      "metadata": {
        "id": "kv9keae2Wpui",
        "outputId": "d4ea4c45-3cff-4bcd-8f09-81d8bd9f7b0b",
        "colab": {
          "base_uri": "https://localhost:8080/"
        }
      },
      "execution_count": 139,
      "outputs": [
        {
          "output_type": "stream",
          "name": "stdout",
          "text": [
            "{'Tom', 'Alice', 'Bob'}\n"
          ]
        }
      ]
    },
    {
      "cell_type": "markdown",
      "source": [
        "## Объединение множеств\n",
        "\n",
        "Объединение двух множеств A и B включает в себя все элементы множества A и B."
      ],
      "metadata": {
        "id": "3GYPSeGqXdj0"
      }
    },
    {
      "cell_type": "markdown",
      "source": [
        "![image.png](data:image/png;base64,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)"
      ],
      "metadata": {
        "id": "NQni0VrBXuDg"
      }
    },
    {
      "cell_type": "markdown",
      "source": [
        "\n",
        "Метод union() объединяет два множества и возвращает новое множество:"
      ],
      "metadata": {
        "id": "Bd2_JHiSXF_h"
      }
    },
    {
      "cell_type": "code",
      "source": [
        "users = {\"Tom\", \"Bob\", \"Alice\"}\n",
        "users2 = {\"Sam\", \"Kate\", \"Bob\"}\n",
        "\n",
        "users3 = users.union(users2)\n",
        "print(users3)   # {'Tom', 'Kate', 'Alice', 'Sam', 'Bob'}"
      ],
      "metadata": {
        "id": "qztoLvhVXOY7",
        "outputId": "76c88d44-1f54-4290-e5fc-18c8bdbb1e30",
        "colab": {
          "base_uri": "https://localhost:8080/"
        }
      },
      "execution_count": 140,
      "outputs": [
        {
          "output_type": "stream",
          "name": "stdout",
          "text": [
            "{'Tom', 'Kate', 'Alice', 'Sam', 'Bob'}\n"
          ]
        }
      ]
    },
    {
      "cell_type": "markdown",
      "source": [
        "## Пересечение множеств\n",
        "\n",
        "Пересечение двух наборов A и B включает в себя общие элементы между наборами A и B.\n"
      ],
      "metadata": {
        "id": "m894IbvbWusn"
      }
    },
    {
      "cell_type": "markdown",
      "source": [
        "![image.png](data:image/png;base64,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)"
      ],
      "metadata": {
        "id": "b4C3lILBXFgT"
      }
    },
    {
      "cell_type": "markdown",
      "source": [
        "Метод intersection() производит операцию пересечения множеств и возвращает новое множество:"
      ],
      "metadata": {
        "id": "SdaigwIyX8hj"
      }
    },
    {
      "cell_type": "code",
      "source": [
        "users = {\"Tom\", \"Bob\", \"Alice\"}\n",
        "users2 = {\"Sam\", \"Kate\", \"Bob\"}\n",
        "\n",
        "users3 = users.intersection(users2)\n",
        "print(users3)   # {\"Bob\"}"
      ],
      "metadata": {
        "id": "W689W2AHYE5W",
        "outputId": "c995c0f8-1210-4e2b-a1b7-cce56114848b",
        "colab": {
          "base_uri": "https://localhost:8080/"
        }
      },
      "execution_count": 141,
      "outputs": [
        {
          "output_type": "stream",
          "name": "stdout",
          "text": [
            "{'Bob'}\n"
          ]
        }
      ]
    },
    {
      "cell_type": "markdown",
      "source": [
        "Вместо метода intersection мы могли бы использовать операцию логического умножения:"
      ],
      "metadata": {
        "id": "t0OouVwoWwUv"
      }
    },
    {
      "cell_type": "code",
      "source": [
        "users = {\"Tom\", \"Bob\", \"Alice\"}\n",
        "users2 = {\"Sam\", \"Kate\", \"Bob\"}\n",
        "\n",
        "print(users & users2)   # {\"Bob\"}"
      ],
      "metadata": {
        "id": "iHlmKhf7YKLA",
        "outputId": "a92c0812-09e9-44d1-939f-cdeb8f000140",
        "colab": {
          "base_uri": "https://localhost:8080/"
        }
      },
      "execution_count": 142,
      "outputs": [
        {
          "output_type": "stream",
          "name": "stdout",
          "text": [
            "{'Bob'}\n"
          ]
        }
      ]
    },
    {
      "cell_type": "markdown",
      "source": [
        "Модификация метода - intersection_update() заменяет пересеченными элементами первое множество:"
      ],
      "metadata": {
        "id": "4ivrlalmYNJx"
      }
    },
    {
      "cell_type": "code",
      "source": [
        "users = {\"Tom\", \"Bob\", \"Alice\"}\n",
        "users2 = {\"Sam\", \"Kate\", \"Bob\"}\n",
        "users.intersection_update(users2)\n",
        "print(users)   # {\"Bob\"}"
      ],
      "metadata": {
        "id": "chJe7b7ZYQq3",
        "outputId": "145f3945-f407-40a3-aa76-f59ff47c85ba",
        "colab": {
          "base_uri": "https://localhost:8080/"
        }
      },
      "execution_count": 143,
      "outputs": [
        {
          "output_type": "stream",
          "name": "stdout",
          "text": [
            "{'Bob'}\n"
          ]
        }
      ]
    },
    {
      "cell_type": "markdown",
      "source": [
        "## Разность множеств\n",
        "\n",
        "Еще одна операция - разность множеств возвращает те элементы, которые есть в первом множестве, но отсутствуют во втором.\n",
        "\n",
        "Разница между двумя наборами A и B включает в себя элементы набора A , которых нет в наборе B.\n"
      ],
      "metadata": {
        "id": "5TJowCn-YTJR"
      }
    },
    {
      "cell_type": "markdown",
      "source": [
        "![image.png](data:image/png;base64,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)"
      ],
      "metadata": {
        "id": "VKnRyoSVYcdC"
      }
    },
    {
      "cell_type": "markdown",
      "source": [
        "\n",
        " Для получения разности множеств можно использовать метод difference или операцию вычитания:"
      ],
      "metadata": {
        "id": "ZU3eCPuyYcph"
      }
    },
    {
      "cell_type": "code",
      "source": [
        "users = {\"Tom\", \"Bob\", \"Alice\"}\n",
        "users2 = {\"Sam\", \"Kate\", \"Bob\"}\n",
        "\n",
        "users3 = users.difference(users2)\n",
        "print(users3)           # {\"Tom\", \"Alice\"}\n",
        "print(users - users2)   # {\"Tom\", \"Alice\"}"
      ],
      "metadata": {
        "id": "94AKJT62YhPJ",
        "outputId": "59ece2e1-dbc8-41ec-cf30-f0507aa2957e",
        "colab": {
          "base_uri": "https://localhost:8080/"
        }
      },
      "execution_count": 144,
      "outputs": [
        {
          "output_type": "stream",
          "name": "stdout",
          "text": [
            "{'Tom', 'Alice'}\n",
            "{'Tom', 'Alice'}\n"
          ]
        }
      ]
    },
    {
      "cell_type": "markdown",
      "source": [
        "## Установить симметричную разницу\n",
        "\n",
        "Симметричная разность между двумя множествами A и B включает в себя все элементы A и B без общих элементов."
      ],
      "metadata": {
        "id": "dbzHvDsxYsOw"
      }
    },
    {
      "cell_type": "markdown",
      "source": [
        "![image.png](data:image/png;base64,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)"
      ],
      "metadata": {
        "id": "CLsyCtabY1rx"
      }
    },
    {
      "cell_type": "markdown",
      "source": [
        "Отдельная разновидность разности множеств - симметрическая разность производится с помощью метода symmetric_difference() или с помощью операции ^. Она возвращает все элементы обоих множеств за исключением общих:"
      ],
      "metadata": {
        "id": "FzkPE5vSZUJC"
      }
    },
    {
      "cell_type": "code",
      "source": [
        "users = {\"Tom\", \"Bob\", \"Alice\"}\n",
        "users2 = {\"Sam\", \"Kate\", \"Bob\"}\n",
        "\n",
        "users3 = users.symmetric_difference(users2)\n",
        "print(users3)   # {\"Tom\", \"Alice\", \"Sam\", \"Kate\"}\n",
        "\n",
        "users4 = users ^ users2\n",
        "print(users4)   # {\"Tom\", \"Alice\", \"Sam\", \"Kate\"}"
      ],
      "metadata": {
        "id": "O1gQ9TNnYyDC",
        "outputId": "6adb0a08-fab6-4014-82f9-e9b696e50b57",
        "colab": {
          "base_uri": "https://localhost:8080/"
        }
      },
      "execution_count": 146,
      "outputs": [
        {
          "output_type": "stream",
          "name": "stdout",
          "text": [
            "{'Kate', 'Sam', 'Tom', 'Alice'}\n",
            "{'Kate', 'Sam', 'Tom', 'Alice'}\n"
          ]
        }
      ]
    },
    {
      "cell_type": "markdown",
      "source": [
        "## Отношения между множествами\n",
        "\n",
        "Метод issubset позволяет выяснить, является ли текущее множество подмножеством (то есть частью) другого множества:"
      ],
      "metadata": {
        "id": "H_3NPqvAWfxJ"
      }
    },
    {
      "cell_type": "code",
      "source": [
        "users = {\"Tom\", \"Bob\", \"Alice\"}\n",
        "superusers = {\"Sam\", \"Tom\", \"Bob\", \"Alice\", \"Greg\"}\n",
        "\n",
        "print(users.issubset(superusers))   # True\n",
        "print(superusers.issubset(users))   # False"
      ],
      "metadata": {
        "id": "vvTaTnp_ZbGq",
        "outputId": "5fc2821c-0b36-43ba-cd0c-b370bb12469b",
        "colab": {
          "base_uri": "https://localhost:8080/"
        }
      },
      "execution_count": 147,
      "outputs": [
        {
          "output_type": "stream",
          "name": "stdout",
          "text": [
            "True\n",
            "False\n"
          ]
        }
      ]
    },
    {
      "cell_type": "markdown",
      "source": [
        "Метод issuperset, наоборот, возвращает True, если текущее множество является надмножеством (то есть содержит) для другого множества:"
      ],
      "metadata": {
        "id": "mSF2zsFfZdtu"
      }
    },
    {
      "cell_type": "code",
      "source": [
        "users = {\"Tom\", \"Bob\", \"Alice\"}\n",
        "superusers = {\"Sam\", \"Tom\", \"Bob\", \"Alice\", \"Greg\"}\n",
        "\n",
        "print(users.issuperset(superusers))   # False\n",
        "print(superusers.issuperset(users))   # True"
      ],
      "metadata": {
        "id": "AIna6UqmZfzA",
        "outputId": "67970c8f-9e07-4d21-c5be-123b3585d450",
        "colab": {
          "base_uri": "https://localhost:8080/"
        }
      },
      "execution_count": 148,
      "outputs": [
        {
          "output_type": "stream",
          "name": "stdout",
          "text": [
            "False\n",
            "True\n"
          ]
        }
      ]
    },
    {
      "cell_type": "markdown",
      "source": [
        "## frozen set\n",
        "\n",
        "Тип frozen set является видом множеств, которое не может быть изменено. Для его создания используется функция frozenset:"
      ],
      "metadata": {
        "id": "-K8_8PDhZifd"
      }
    },
    {
      "cell_type": "code",
      "source": [
        "users = frozenset({\"Tom\", \"Bob\", \"Alice\"})\n",
        "print(users)"
      ],
      "metadata": {
        "id": "px4YJRmmZmAa",
        "outputId": "21b45af6-c8eb-4444-98c0-3749ca707e9f",
        "colab": {
          "base_uri": "https://localhost:8080/"
        }
      },
      "execution_count": 150,
      "outputs": [
        {
          "output_type": "stream",
          "name": "stdout",
          "text": [
            "frozenset({'Tom', 'Alice', 'Bob'})\n"
          ]
        }
      ]
    },
    {
      "cell_type": "markdown",
      "source": [
        "Для создания frozenset в Python вы можете использовать функцию frozenset(), передавая в неё итерируемый объект, такой как список, кортеж или другое множество. Вот примеры создания frozenset:"
      ],
      "metadata": {
        "id": "vOvutHLYa9n2"
      }
    },
    {
      "cell_type": "code",
      "source": [
        "# Создание frozenset из списка\n",
        "frozen_set_from_list = frozenset([1, 2, 3, 4])\n",
        "\n",
        "# Создание frozenset из кортежа\n",
        "frozen_set_from_tuple = frozenset((3, 4, 5, 6))\n",
        "\n",
        "# Создание frozenset из другого множества\n",
        "other_set = {5, 6, 7, 8}\n",
        "frozen_set_from_other_set = frozenset(other_set)\n",
        "\n",
        "print(frozen_set_from_list)  # Вывод: frozenset({1, 2, 3, 4})\n",
        "print(frozen_set_from_tuple)  # Вывод: frozenset({3, 4, 5, 6})\n",
        "print(frozen_set_from_other_set)  # Вывод: frozenset({8, 5, 6, 7})"
      ],
      "metadata": {
        "id": "dUfWa4kXa_kj",
        "outputId": "041ac395-8f1a-4780-b188-070ea8b6c4c8",
        "colab": {
          "base_uri": "https://localhost:8080/"
        }
      },
      "execution_count": 154,
      "outputs": [
        {
          "output_type": "stream",
          "name": "stdout",
          "text": [
            "frozenset({1, 2, 3, 4})\n",
            "frozenset({3, 4, 5, 6})\n",
            "frozenset({8, 5, 6, 7})\n"
          ]
        }
      ]
    },
    {
      "cell_type": "markdown",
      "source": [
        "В функцию frozenset передается набор элементов - список, кортеж, другое множество.\n",
        "\n",
        "В такое множество мы не можем добавить новые элементы, как и удалить из него уже имеющиеся. Собственно поэтому frozen set поддерживает ограниченный набор операций:\n",
        "\n",
        "* len(s): возвращает длину множества\n",
        "\n",
        "* x in s: возвращает True, если элемент x присутствует в множестве s\n",
        "\n",
        "* x not in s: возвращает True, если элемент x отсутствует в множестве s\n",
        "\n",
        "* s.issubset(t): возвращает True, если t содержит множество s\n",
        "\n",
        "* s.issuperset(t): возвращает True, если t содержится в множестве s\n",
        "\n",
        "* s.union(t): возвращает объединение множеств s и t\n",
        "* s.intersection(t): возвращает пересечение множеств s и t\n",
        "\n",
        "* s.difference(t): возвращает разность множеств s и t\n",
        "\n",
        "* s.copy(): возвращает копию множества s"
      ],
      "metadata": {
        "id": "TMKqzJTeZ8XW"
      }
    },
    {
      "cell_type": "markdown",
      "source": [
        "**Задача: Работа с frozenset**\n",
        "\n",
        "Вам необходимо выполнить ряд операций с данными frozenset в Python. Для этого предоставлены два frozenset: s и t. Выполните следующие операции:\n",
        "\n",
        "1. Выведите длину множества s.\n",
        "2. Проверьте, содержится ли элемент 2 в множестве s.\n",
        "3. Проверьте, отсутствует ли элемент 4 в множестве s.\n",
        "4. Проверьте, является ли множество s подмножеством множества t.\n",
        "5. Проверьте, является ли множество s надмножеством множества t.\n",
        "6. Выведите объединение множеств s и t.\n",
        "7. Выведите пересечение множеств s и t.\n",
        "8. Выведите разность множеств s и t.\n",
        "9. Создайте копию множества s и выведите её.\n",
        "\n",
        "После выполнения всех операций выведите результаты."
      ],
      "metadata": {
        "id": "JU9FG4nPaNHh"
      }
    },
    {
      "cell_type": "code",
      "source": [
        "# Создание frozenset для демонстрации\n",
        "s = frozenset({1, 2, 3})\n",
        "t = frozenset({3, 4, 5})\n",
        "\n",
        "# Пример использования len(s)\n",
        "print(len(s))  # Вывод: 3\n",
        "\n",
        "# Пример использования x in s\n",
        "print(2 in s)  # Вывод: True\n",
        "\n",
        "# Пример использования x not in s\n",
        "print(4 not in s)  # Вывод: True\n",
        "\n",
        "# Пример использования s.issubset(t)\n",
        "print(s.issubset(t))  # Вывод: False\n",
        "\n",
        "# Пример использования s.issuperset(t)\n",
        "print(s.issuperset(t))  # Вывод: False\n",
        "\n",
        "# Пример использования s.union(t)\n",
        "print(s.union(t))  # Вывод: frozenset({1, 2, 3, 4, 5})\n",
        "\n",
        "# Пример использования s.intersection(t)\n",
        "print(s.intersection(t))  # Вывод: frozenset({3})\n",
        "\n",
        "# Пример использования s.difference(t)\n",
        "print(s.difference(t))  # Вывод: frozenset({1, 2})\n",
        "\n",
        "# Пример использования s.copy()\n",
        "copy_of_s = s.copy()\n",
        "print(copy_of_s)  # Вывод: frozenset({1, 2, 3})"
      ],
      "metadata": {
        "id": "9rRxBVxBaN8Y",
        "outputId": "aec54ed5-b83f-4eb6-b758-6b6f6519d6e4",
        "colab": {
          "base_uri": "https://localhost:8080/"
        }
      },
      "execution_count": 152,
      "outputs": [
        {
          "output_type": "stream",
          "name": "stdout",
          "text": [
            "3\n",
            "True\n",
            "True\n",
            "False\n",
            "False\n",
            "frozenset({1, 2, 3, 4, 5})\n",
            "frozenset({3})\n",
            "frozenset({1, 2})\n",
            "frozenset({1, 2, 3})\n"
          ]
        }
      ]
    },
    {
      "cell_type": "markdown",
      "source": [
        "# List comprehension"
      ],
      "metadata": {
        "id": "M1awejC7bE4y"
      }
    },
    {
      "cell_type": "markdown",
      "source": [
        "Функциональность list comprehension предоставляет более краткий и лаконичный синтаксис для создания списков на основе других наборов данных. Она имеет следующий синтаксис:"
      ],
      "metadata": {
        "id": "j7mbZpmMbKcA"
      }
    },
    {
      "cell_type": "markdown",
      "source": [
        "\n",
        "\n",
        "```\n",
        "\n",
        "newlist = [expression for item in iterable (if condition)]\n",
        "```\n",
        "\n"
      ],
      "metadata": {
        "id": "gWqtKGjRbPT4"
      }
    },
    {
      "cell_type": "markdown",
      "source": [
        "Синтаксис list comprehension состоит из следующих компонентов:\n",
        "\n",
        "* iterable: перебираемый источник данных, в качестве которого может выступать список, множество, последовательность, либо даже функция, которая возвращает набор данных, например, range()\n",
        "\n",
        "* item: извлекаемый из источника данных элемент\n",
        "\n",
        "* expression: выражение, которое возвращает некоторое значение. Это значение затем попадает в генерируемый список\n",
        "\n",
        "* condition: условие, которому должны соответствовать извлекаемые из источника данных элементы. Если элемент НЕ удовлетворяет условию, то он НЕ выбирается. Необязательный параметр.\n",
        "\n",
        "Рассмотрим небольшой пример. Допустим, нам надо выбрать из списка все числа, которые больше 0. В обшем случае мы бы могли написать так:"
      ],
      "metadata": {
        "id": "3JGNYc9pbTAu"
      }
    },
    {
      "cell_type": "code",
      "source": [
        "numbers = [-3, -2, -1, 0, 1, 2, 3]\n",
        "positive_numbers = []\n",
        "for n in numbers:\n",
        "    if n > 0:\n",
        "        positive_numbers.append(n)\n",
        "\n",
        "print(positive_numbers)     # [1, 2, 3]"
      ],
      "metadata": {
        "id": "CGQFK1ZkbZlp",
        "outputId": "98b79a9b-888e-4df5-d800-7536a8c29c51",
        "colab": {
          "base_uri": "https://localhost:8080/"
        }
      },
      "execution_count": 155,
      "outputs": [
        {
          "output_type": "stream",
          "name": "stdout",
          "text": [
            "[1, 2, 3]\n"
          ]
        }
      ]
    },
    {
      "cell_type": "markdown",
      "source": [
        "Теперь изменим этот код, применив list comprehension:"
      ],
      "metadata": {
        "id": "VJ4N5LO_bauV"
      }
    },
    {
      "cell_type": "code",
      "source": [
        "numbers = [-3, -2, -1, 0, 1, 2, 3]\n",
        "positive_numbers = [n for n in numbers if n > 0]\n",
        "\n",
        "print(positive_numbers)     # [1, 2, 3]"
      ],
      "metadata": {
        "id": "2hd-1MhEbdIU",
        "outputId": "ab5d9a95-c894-4157-f09b-24b04788dd4e",
        "colab": {
          "base_uri": "https://localhost:8080/"
        }
      },
      "execution_count": 156,
      "outputs": [
        {
          "output_type": "stream",
          "name": "stdout",
          "text": [
            "[1, 2, 3]\n"
          ]
        }
      ]
    },
    {
      "cell_type": "markdown",
      "source": [
        "## Источник данных iterable\n",
        "\n",
        "В качестве источника данных iterable может использоваться любой перебираемый объект, например, другой список, словарь и т.д. Например, функция range() возвращает все числя нуля до указанного порога не включая:"
      ],
      "metadata": {
        "id": "UMqavbsGbmNR"
      }
    },
    {
      "cell_type": "code",
      "source": [
        "numbers = [n for n in range(10)]\n",
        "print(numbers)      # [0, 1, 2, 3, 4, 5, 6, 7, 8, 9]"
      ],
      "metadata": {
        "id": "KrU7CY26bq0h",
        "outputId": "8b824733-6a49-406b-c587-dfab92355ca6",
        "colab": {
          "base_uri": "https://localhost:8080/"
        }
      },
      "execution_count": 157,
      "outputs": [
        {
          "output_type": "stream",
          "name": "stdout",
          "text": [
            "[0, 1, 2, 3, 4, 5, 6, 7, 8, 9]\n"
          ]
        }
      ]
    },
    {
      "cell_type": "markdown",
      "source": [
        "Нередко данная конструкция применяется, чтобы создать из словаря список. Например, выберем из словаря все ключи:"
      ],
      "metadata": {
        "id": "2Qw7gJM3btEb"
      }
    },
    {
      "cell_type": "code",
      "source": [
        "dictionary = {\"red\": \"красный\", \"blue\": \"синий\", \"green\": \"зеленый\"}\n",
        "words = [word for word in dictionary]\n",
        "print(words)    # ['red', 'blue', 'green']"
      ],
      "metadata": {
        "id": "PJ_wttJwbuuc",
        "outputId": "cd039ee9-b350-4298-bcc9-3fb7a344d7ab",
        "colab": {
          "base_uri": "https://localhost:8080/"
        }
      },
      "execution_count": 158,
      "outputs": [
        {
          "output_type": "stream",
          "name": "stdout",
          "text": [
            "['red', 'blue', 'green']\n"
          ]
        }
      ]
    },
    {
      "cell_type": "markdown",
      "source": [
        "## Возвращение результата\n",
        "\n",
        "Параметр expression представляет выражение, которое возвращает некоторое значение. Это значение затем помещается в генерируемый список. В примерах выше это был текущий элемент, который извлекается из источника данных:"
      ],
      "metadata": {
        "id": "rkm6wpJqbxO9"
      }
    },
    {
      "cell_type": "code",
      "source": [
        "numbers = [-3, -2, -1, 0, 1, 2, 3]\n",
        "new_numbers = [n for n in numbers]\n",
        "print(new_numbers)      # [-3, -2, -1, 0, 1, 2, 3]"
      ],
      "metadata": {
        "id": "iISupGx2bQ4W",
        "outputId": "7602e490-6ec3-47e2-d521-39c8ac268093",
        "colab": {
          "base_uri": "https://localhost:8080/"
        }
      },
      "execution_count": 159,
      "outputs": [
        {
          "output_type": "stream",
          "name": "stdout",
          "text": [
            "[-3, -2, -1, 0, 1, 2, 3]\n"
          ]
        }
      ]
    },
    {
      "cell_type": "markdown",
      "source": [
        "Так, в данном случае параметр expression представляет непосредственно извлекаемый из списка numbers элемент n. Но это могут быть и более сложные значения. Например, возвратим удвоенное значение числа:"
      ],
      "metadata": {
        "id": "uNBhG2pmb7Pq"
      }
    },
    {
      "cell_type": "code",
      "source": [
        "numbers = [-3, -2, -1, 0, 1, 2, 3]\n",
        "new_numbers = [n * 2 for n in numbers]\n",
        "print(new_numbers)      # [-6, -4, -2, 0, 2, 4, 6]"
      ],
      "metadata": {
        "id": "wPC9ZGBDb94P",
        "outputId": "f12b5f25-4c36-4f78-f56b-bf6565897d94",
        "colab": {
          "base_uri": "https://localhost:8080/"
        }
      },
      "execution_count": 160,
      "outputs": [
        {
          "output_type": "stream",
          "name": "stdout",
          "text": [
            "[-6, -4, -2, 0, 2, 4, 6]\n"
          ]
        }
      ]
    },
    {
      "cell_type": "markdown",
      "source": [
        "Здесь expression представляет выражение n * 2\n",
        "\n",
        "Это могут быть и более сложные выражения:"
      ],
      "metadata": {
        "id": "0UXohBH4cAY6"
      }
    },
    {
      "cell_type": "code",
      "source": [
        "numbers = [-3, -2, -1, 0, 1, 2, 3]\n",
        "new_numbers = [n * 2 if n > 0 else n for n in numbers]\n",
        "print(new_numbers)      # [-3, -2, -1, 0, 2, 4, 6]"
      ],
      "metadata": {
        "id": "i_1mINN9cDMp",
        "outputId": "284a1730-dc23-4a6f-8970-c9be1cb139e6",
        "colab": {
          "base_uri": "https://localhost:8080/"
        }
      },
      "execution_count": 161,
      "outputs": [
        {
          "output_type": "stream",
          "name": "stdout",
          "text": [
            "[-3, -2, -1, 0, 2, 4, 6]\n"
          ]
        }
      ]
    },
    {
      "cell_type": "markdown",
      "source": [
        "В expression можно производить различные трансформации с данными. Например, возвратим также из словаря значение по ключу:"
      ],
      "metadata": {
        "id": "gMBvU8OucHp2"
      }
    },
    {
      "cell_type": "code",
      "source": [
        "dictionary = {\"red\": \"красный\", \"blue\": \"синий\", \"green\": \"зеленый\"}\n",
        "words = [f\"{key}: {dictionary[key]}\" for key in dictionary]\n",
        "print(words)    # ['red: красный', 'blue: синий', 'green: зеленый']"
      ],
      "metadata": {
        "id": "MpslIwCwcKKj",
        "outputId": "f609234a-0ce7-4bcc-9d53-1568a4d7a9e8",
        "colab": {
          "base_uri": "https://localhost:8080/"
        }
      },
      "execution_count": 162,
      "outputs": [
        {
          "output_type": "stream",
          "name": "stdout",
          "text": [
            "['red: красный', 'blue: синий', 'green: зеленый']\n"
          ]
        }
      ]
    },
    {
      "cell_type": "markdown",
      "source": [
        "## Условие\n",
        "\n",
        "Условие - параметр condition определяет фильтр для выбора элементов из источника данных. Применим условие для конкретизации выборки, например, выберем только четные числа:"
      ],
      "metadata": {
        "id": "YzrCsGhNcM0L"
      }
    },
    {
      "cell_type": "code",
      "source": [
        "numbers = [n for n in range(10) if n % 2 == 0]\n",
        "print(numbers)      # [0, 2, 4, 6, 8]"
      ],
      "metadata": {
        "id": "3rjHWWazcQam",
        "outputId": "738b5a96-92cf-44e8-c2c2-eb53e5675e54",
        "colab": {
          "base_uri": "https://localhost:8080/"
        }
      },
      "execution_count": 163,
      "outputs": [
        {
          "output_type": "stream",
          "name": "stdout",
          "text": [
            "[0, 2, 4, 6, 8]\n"
          ]
        }
      ]
    },
    {
      "cell_type": "markdown",
      "source": [
        "Выберем только те ключи из словаря, длина которых больше 3:"
      ],
      "metadata": {
        "id": "C5ZVTrgVcTLN"
      }
    },
    {
      "cell_type": "code",
      "source": [
        "dictionary = {\"red\": \"красный\", \"blue\": \"синий\", \"green\": \"зеленый\"}\n",
        "words = [f\"{key}: {dictionary[key]}\" for key in dictionary if len(key) > 3]\n",
        "print(words)    # ['blue: синий', 'green: зеленый']"
      ],
      "metadata": {
        "id": "KQIMerRRcVVD",
        "outputId": "d22de9d2-1180-41c6-c6fe-7ef2bbc96d63",
        "colab": {
          "base_uri": "https://localhost:8080/"
        }
      },
      "execution_count": 164,
      "outputs": [
        {
          "output_type": "stream",
          "name": "stdout",
          "text": [
            "['blue: синий', 'green: зеленый']\n"
          ]
        }
      ]
    },
    {
      "cell_type": "code",
      "source": [],
      "metadata": {
        "id": "pR94V_b3bNOL"
      },
      "execution_count": null,
      "outputs": []
    },
    {
      "cell_type": "code",
      "source": [],
      "metadata": {
        "id": "Y26wI9kBaDoV"
      },
      "execution_count": null,
      "outputs": []
    }
  ]
}