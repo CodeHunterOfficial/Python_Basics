{
  "nbformat": 4,
  "nbformat_minor": 0,
  "metadata": {
    "colab": {
      "provenance": [],
      "authorship_tag": "ABX9TyMb3HFyUHBWjrREXdC+Fs2v",
      "include_colab_link": true
    },
    "kernelspec": {
      "name": "python3",
      "display_name": "Python 3"
    },
    "language_info": {
      "name": "python"
    }
  },
  "cells": [
    {
      "cell_type": "markdown",
      "metadata": {
        "id": "view-in-github",
        "colab_type": "text"
      },
      "source": [
        "<a href=\"https://colab.research.google.com/github/CodeHunterOfficial/Python_Basics/blob/main/Lecture_3_%D0%A1%D0%BF%D0%B8%D1%81%D0%BA%D0%B8%2C_%D0%BA%D0%BE%D1%80%D1%82%D0%B5%D0%B6%D0%B8_%D0%B8_%D1%81%D0%BB%D0%BE%D0%B2%D0%B0%D1%80%D0%B8.ipynb\" target=\"_parent\"><img src=\"https://colab.research.google.com/assets/colab-badge.svg\" alt=\"Open In Colab\"/></a>"
      ]
    },
    {
      "cell_type": "markdown",
      "source": [
        "# Списки, кортежи и словари"
      ],
      "metadata": {
        "id": "SXT83mMk_fis"
      }
    },
    {
      "cell_type": "markdown",
      "source": [
        "## Список\n"
      ],
      "metadata": {
        "id": "yjIenoTz_hOw"
      }
    },
    {
      "cell_type": "markdown",
      "source": [
        "Для работы с наборами данных Python предоставляет такие встроенные типы как списки, кортежи и словари.\n",
        "\n",
        "Список (list) представляет тип данных, который хранит набор или последовательность элементов. Во многих языках программирования есть аналогичная структура данных, которая называется массив.\n",
        "\n"
      ],
      "metadata": {
        "id": "IbQoyfhR_kCK"
      }
    },
    {
      "cell_type": "markdown",
      "source": [
        "### Создание списка\n",
        "\n",
        "Для создания списка применяются квадратные скобки [], внутри которых через запятую перечисляются элементы списка. Например, определим список чисел:"
      ],
      "metadata": {
        "id": "JCs9rldc_pje"
      }
    },
    {
      "cell_type": "code",
      "source": [
        "numbers = [1, 2, 3, 4, 5]\n",
        "print(numbers)\n",
        "\n",
        "people = [\"Tomilo\", \"Samira\", \"Bobur\"]\n",
        "print(people)\n",
        "\n",
        "objects = [1, 2.6, \"Hello\", True]\n",
        "print(objects)"
      ],
      "metadata": {
        "colab": {
          "base_uri": "https://localhost:8080/"
        },
        "id": "Phk8IqgvvtZt",
        "outputId": "e30c9e06-630d-4037-8326-73371464cc31"
      },
      "execution_count": 6,
      "outputs": [
        {
          "output_type": "stream",
          "name": "stdout",
          "text": [
            "[1, 2, 3, 4, 5]\n",
            "['Tomilo', 'Samira', 'Bobur']\n",
            "[1, 2.6, 'Hello', True]\n"
          ]
        }
      ]
    },
    {
      "cell_type": "markdown",
      "source": [
        "Также для создания списка можно использовать функцию-конструктор list():"
      ],
      "metadata": {
        "id": "WnXhJc83wDPz"
      }
    },
    {
      "cell_type": "code",
      "source": [
        "numbers1 = []\n",
        "numbers2 = list()"
      ],
      "metadata": {
        "id": "wSvlB03GwDsd"
      },
      "execution_count": 2,
      "outputs": []
    },
    {
      "cell_type": "markdown",
      "source": [
        "Конструктор list может принимать набор значений, на основе которых создается список:"
      ],
      "metadata": {
        "id": "0s5ObLNwwLvH"
      }
    },
    {
      "cell_type": "code",
      "source": [
        "numbers1 = [1, 2, 3, 4, 5]\n",
        "numbers2 = list(numbers1)\n",
        "print(numbers2)  # [1, 2, 3, 4, 5]\n",
        "\n",
        "letters = list(\"Hello\")\n",
        "print(letters)      # ['H', 'e', 'l', 'l', 'o']"
      ],
      "metadata": {
        "colab": {
          "base_uri": "https://localhost:8080/"
        },
        "id": "8g7aWT6BwOQ1",
        "outputId": "50d71144-1a99-4b8d-cbd6-fa942022a7ed"
      },
      "execution_count": 4,
      "outputs": [
        {
          "output_type": "stream",
          "name": "stdout",
          "text": [
            "[1, 2, 3, 4, 5]\n",
            "['H', 'e', 'l', 'l', 'o']\n"
          ]
        }
      ]
    },
    {
      "cell_type": "markdown",
      "source": [
        "Если необходимо создать список, в котором повторяется одно и то же значение несколько раз, то можно использовать символ звездочки *, то есть фактически применить операцию умножения к уже существующему списку:"
      ],
      "metadata": {
        "id": "u-tKoYC4wSQs"
      }
    },
    {
      "cell_type": "code",
      "source": [
        "numbers = [5] * 6   # 6 раз повторяем 5\n",
        "print(numbers)      # [5, 5, 5, 5, 5, 5]\n",
        "\n",
        "people = [\"Alexandra\"] * 3    # 3 раза повторяем \"Alexandra\"\n",
        "print(people)           # [\"Alexandra\", \"Alexandra\", \"Alexandra\"]\n",
        "\n",
        "students = [\"Masha\", \"Dasha\"] * 2   # 2 раза повторяем \"Masha\", \"Dasha\"\n",
        "print(students)                 # [\"Masha\", \"Dasha\", \"Masha\", \"Dasha\"]"
      ],
      "metadata": {
        "colab": {
          "base_uri": "https://localhost:8080/"
        },
        "id": "T5D-Z6yLwWBD",
        "outputId": "99fab564-2513-4f52-a863-a0da935d9d4d"
      },
      "execution_count": 7,
      "outputs": [
        {
          "output_type": "stream",
          "name": "stdout",
          "text": [
            "[5, 5, 5, 5, 5, 5]\n",
            "['Alexandra', 'Alexandra', 'Alexandra']\n",
            "['Masha', 'Dasha', 'Masha', 'Dasha']\n"
          ]
        }
      ]
    },
    {
      "cell_type": "markdown",
      "source": [
        "## Обращение к элементам списка\n",
        "\n",
        "Для обращения к элементам списка надо использовать индексы, которые представляют номер элемента в списка. Индексы начинаются с нуля. То есть первый элемент будет иметь индекс 0, второй элемент - индекс 1 и так далее. Для обращения к элементам с конца можно использовать отрицательные индексы, начиная с -1. То есть у последнего элемента будет индекс -1, у предпоследнего - -2 и так далее"
      ],
      "metadata": {
        "id": "MrS0PrprwzEz"
      }
    },
    {
      "cell_type": "code",
      "source": [
        "people = [\"Arina\", \"Karina\", \"Sabina\"]\n",
        "# получение элементов с начала списка\n",
        "print(people[0])   # Arina\n",
        "print(people[1])   # Karina\n",
        "print(people[2])   # Sabina\n",
        "\n",
        "print()\n",
        "# получение элементов с конца списка\n",
        "print(people[-2])   # Karina\n",
        "print(people[-1])   # Sabina\n",
        "print(people[-3])   # Arina"
      ],
      "metadata": {
        "colab": {
          "base_uri": "https://localhost:8080/"
        },
        "id": "uB2kExwsw3jz",
        "outputId": "4538d195-6487-4500-d728-eb93f81d3969"
      },
      "execution_count": 9,
      "outputs": [
        {
          "output_type": "stream",
          "name": "stdout",
          "text": [
            "Arina\n",
            "Karina\n",
            "Sabina\n",
            "\n",
            "Karina\n",
            "Sabina\n",
            "Arina\n"
          ]
        }
      ]
    },
    {
      "cell_type": "markdown",
      "source": [
        "Для изменения элемента списка достаточно присвоить ему новое значение:"
      ],
      "metadata": {
        "id": "Gmdec-0WxM4M"
      }
    },
    {
      "cell_type": "code",
      "source": [
        "people = [\"Arina\", \"Karina\", \"Sabina\"]\n",
        "\n",
        "people[1] = \"Raul\"  # изменение второго элемента\n",
        "print(people[1])    # Raul\n",
        "print(people)       # [\"Arina\", \"Raul\", \"Sabina\"]"
      ],
      "metadata": {
        "colab": {
          "base_uri": "https://localhost:8080/"
        },
        "id": "9U1omX3JxP-8",
        "outputId": "c359310b-faaf-493b-d57f-136c051383ad"
      },
      "execution_count": 10,
      "outputs": [
        {
          "output_type": "stream",
          "name": "stdout",
          "text": [
            "Raul\n",
            "['Arina', 'Raul', 'Sabina']\n"
          ]
        }
      ]
    },
    {
      "cell_type": "markdown",
      "source": [
        "## Разложение списка\n",
        "\n",
        "Python позволяет разложить список на отдельные элементы:"
      ],
      "metadata": {
        "id": "m3XGJSngxfFF"
      }
    },
    {
      "cell_type": "code",
      "source": [
        "people = [\"Arina\", \"Karina\", \"Sabina\"]\n",
        "\n",
        "arina, karina, sabina = people\n",
        "\n",
        "print(arina)      # Arina\n",
        "print(karina)      # Karina\n",
        "print(sabina)      # Sabina"
      ],
      "metadata": {
        "colab": {
          "base_uri": "https://localhost:8080/"
        },
        "id": "86nsHQzExm59",
        "outputId": "2c64e313-7173-4cfb-af13-c9b56dbff1e4"
      },
      "execution_count": 11,
      "outputs": [
        {
          "output_type": "stream",
          "name": "stdout",
          "text": [
            "Arina\n",
            "Karina\n",
            "Sabina\n"
          ]
        }
      ]
    },
    {
      "cell_type": "markdown",
      "source": [
        "## Перебор элементов\n",
        "\n",
        "Для перебора элементов можно использовать как цикл for, так и цикл while.\n",
        "\n",
        "Перебор с помощью цикла for:"
      ],
      "metadata": {
        "id": "R1KpHa2Lx30r"
      }
    },
    {
      "cell_type": "code",
      "source": [
        "people = [\"Arina\", \"Karina\", \"Sabina\"]\n",
        "for person in people:\n",
        "    print(person)"
      ],
      "metadata": {
        "colab": {
          "base_uri": "https://localhost:8080/"
        },
        "id": "C0b9Fg5Bx5l4",
        "outputId": "07bf544c-3ac5-4b10-a14a-4fc83ee684f6"
      },
      "execution_count": 12,
      "outputs": [
        {
          "output_type": "stream",
          "name": "stdout",
          "text": [
            "Arina\n",
            "Karina\n",
            "Sabina\n"
          ]
        }
      ]
    },
    {
      "cell_type": "markdown",
      "source": [
        "Перебор также можно сделать с помощью цикла while:"
      ],
      "metadata": {
        "id": "AnzCAv9ex9x_"
      }
    },
    {
      "cell_type": "code",
      "source": [
        "people = [\"Arina\", \"Karina\", \"Sabina\"]\n",
        "i = 0\n",
        "while i < len(people):\n",
        "    print(people[i])    # применяем индекс для получения элемента\n",
        "    i += 1"
      ],
      "metadata": {
        "colab": {
          "base_uri": "https://localhost:8080/"
        },
        "id": "btvIyc05yCa-",
        "outputId": "49f5795c-1aaa-4267-f950-fe47001b74d5"
      },
      "execution_count": 13,
      "outputs": [
        {
          "output_type": "stream",
          "name": "stdout",
          "text": [
            "Arina\n",
            "Karina\n",
            "Sabina\n"
          ]
        }
      ]
    },
    {
      "cell_type": "markdown",
      "source": [
        "## Сравнение списков\n",
        "\n",
        "Два списка считаются равными, если они содержат один и тот же набор элементов:"
      ],
      "metadata": {
        "id": "kQlEUMLKyG5C"
      }
    },
    {
      "cell_type": "code",
      "source": [
        "numbers1 = [1, 2, 3, 4, 5]\n",
        "numbers2 = list([1, 2, 3, 4, 5])\n",
        "if numbers1 == numbers2:\n",
        "    print(\"numbers1 equal to numbers2\")\n",
        "else:\n",
        "    print(\"numbers1 is not equal to numbers2\")"
      ],
      "metadata": {
        "colab": {
          "base_uri": "https://localhost:8080/"
        },
        "id": "3TAcq9OLyNPO",
        "outputId": "5b65c261-c595-4379-91cd-7e822a9cbb78"
      },
      "execution_count": 14,
      "outputs": [
        {
          "output_type": "stream",
          "name": "stdout",
          "text": [
            "numbers1 equal to numbers2\n"
          ]
        }
      ]
    },
    {
      "cell_type": "markdown",
      "source": [
        "## Получение части списка\n",
        "\n",
        "Если необходимо получить какую-то определенную часть списка, то мы можем применять специальный синтаксис, который может принимать следующие формы:\n",
        "\n",
        "* list[:end]: через параметр end передается индекс элемента, до которого нужно копировать список\n",
        "\n",
        "* list[start:end]: параметр start указывает на индекс элемента, начиная с которого надо скопировать элементы\n",
        "\n",
        "* list[start:end:step]: параметр step указывает на шаг, через который будут копироваться элементы из списка. По умолчанию этот параметр равен 1."
      ],
      "metadata": {
        "id": "ArXGmcGxyUgE"
      }
    },
    {
      "cell_type": "code",
      "source": [
        "people = [\"Arina\", \"Karina\", \"Alice\", \"Laysan\", \"Alexandra\", \"Masha\", \"Dasha\"]\n",
        "\n",
        "slice_people1 = people[:3]   # с 0 по 3\n",
        "print(slice_people1)   # ['Arina', 'Karina', 'Alice']\n",
        "\n",
        "slice_people2 = people[1:3]   # с 1 по 3\n",
        "print(slice_people2)   # ['Karina', 'Alice']\n",
        "\n",
        "slice_people3 = people[0:7:2]   # с 1 по 6 с шагом 2\n",
        "print(slice_people3)   #  ['Arina', 'Alice', 'Alexandra', 'Dasha']"
      ],
      "metadata": {
        "colab": {
          "base_uri": "https://localhost:8080/"
        },
        "id": "5DP06xQkyqEk",
        "outputId": "db55a28f-4f52-4948-b6bb-0c03899f7d52"
      },
      "execution_count": 18,
      "outputs": [
        {
          "output_type": "stream",
          "name": "stdout",
          "text": [
            "['Arina', 'Karina', 'Alice']\n",
            "['Karina', 'Alice']\n",
            "['Arina', 'Alice', 'Alexandra', 'Dasha']\n"
          ]
        }
      ]
    },
    {
      "cell_type": "markdown",
      "source": [
        "Можно использовать отрицательные индексы, тогда отсчет будет идти с конца, например, -1 - предпоследний, -2 - третий сконца и так далее."
      ],
      "metadata": {
        "id": "BpbTZ8s-zJIh"
      }
    },
    {
      "cell_type": "code",
      "source": [
        "people = [\"Arina\", \"Karina\", \"Alice\", \"Laysan\", \"Alexandra\", \"Masha\", \"Dasha\"]\n",
        "\n",
        "slice_people1 = people[:-1]   # с предпоследнего по нулевой\n",
        "print(slice_people1)   # ['Arina', 'Karina', 'Alice', 'Laysan', 'Alexandra', 'Masha']\n",
        "\n",
        "slice_people2 = people[-3:-1]   # с третьего с конца по предпоследний\n",
        "print(slice_people2)   # ['Alexandra', 'Masha']\n",
        "\n",
        "slice_people2 = people[-4:]   # от четвертого элемента с конца до конца списка\n",
        "print(slice_people2)   # ['Laysan', 'Alexandra', 'Masha', 'Dasha']"
      ],
      "metadata": {
        "colab": {
          "base_uri": "https://localhost:8080/"
        },
        "id": "miAUc8KTzMKF",
        "outputId": "5daa6ad1-0587-4206-da71-0fef5857a101"
      },
      "execution_count": 26,
      "outputs": [
        {
          "output_type": "stream",
          "name": "stdout",
          "text": [
            "['Arina', 'Karina', 'Alice', 'Laysan', 'Alexandra', 'Masha']\n",
            "['Alexandra', 'Masha']\n",
            "['Laysan', 'Alexandra', 'Masha', 'Dasha']\n"
          ]
        }
      ]
    },
    {
      "cell_type": "markdown",
      "source": [
        "## Методы и функции по работе со списками\n",
        "\n",
        "Для управления элементами списки имеют целый ряд методов. Некоторые из них:\n",
        "\n",
        "* append(item): добавляет элемент item в конец списка\n",
        "\n",
        "* insert(index, item): добавляет элемент item в список по индексу index\n",
        "\n",
        "* extend(items): добавляет набор элементов items в конец списка\n",
        "\n",
        "* remove(item): удаляет элемент item. Удаляется только первое вхождение элемента. Если элемент не найден, генерирует исключение ValueError\n",
        "\n",
        "*  clear(): удаление всех элементов из списка\n",
        "\n",
        "* index(item): возвращает индекс элемента item. Если элемент не найден, генерирует исключение ValueError\n",
        "\n",
        "* pop([index]): удаляет и возвращает элемент по индексу index. Если индекс не передан, то просто удаляет последний элемент.\n",
        "\n",
        "* count(item): возвращает количество вхождений элемента item в список\n",
        "\n",
        "* sort([key]): сортирует элементы. По умолчанию сортирует по возрастанию. Но с помощью параметра key мы можем передать функцию сортировки.\n",
        "\n",
        "* reverse(): расставляет все элементы в списке в обратном порядке\n",
        "\n",
        "* copy(): копирует список\n",
        "\n",
        "Кроме того, Python предоставляет ряд встроенных функций для работы со списками:\n",
        "\n",
        "* len(list): возвращает длину списка\n",
        "\n",
        "* sorted(list, [key]): возвращает отсортированный список\n",
        "\n",
        "* min(list): возвращает наименьший элемент списка\n",
        "\n",
        "* max(list): возвращает наибольший элемент списка\n",
        "\n"
      ],
      "metadata": {
        "id": "nJT_KXQ0zzZ1"
      }
    },
    {
      "cell_type": "markdown",
      "source": [
        "## Добавление и удаление элементов\n",
        "\n",
        "Для добавления элемента применяются методы append(), extend и insert, а для удаления - методы remove(), pop() и clear().\n",
        "\n",
        "Использование методов:"
      ],
      "metadata": {
        "id": "28oDXMwb0hPp"
      }
    },
    {
      "cell_type": "code",
      "source": [
        "people = [\"Arina\", \"Karina\"]\n",
        "print(people)  # ['Arina', 'Karina']\n",
        "\n",
        "# Добавляем в конец списка\n",
        "people.append(\"Alice\")\n",
        "print(people)  # ['Arina', 'Karina', 'Alice']\n",
        "\n",
        "# Добавляем на вторую позицию\n",
        "people.insert(1, \"Bilal\")\n",
        "print(people)  # ['Arina', 'Bilal', 'Karina', 'Alice']\n",
        "\n",
        "# Добавляем набор элементов [\"Misha\", \"Nikita\", \"Laysan\"]\n",
        "people.extend([\"Misha\", \"Nikita\", \"Laysan\"])\n",
        "print(people)  # ['Arina', 'Bilal', 'Karina', 'Alice', 'Misha', 'Nikita', 'Laysan']\n",
        "\n",
        "# Получаем индекс элемента\n",
        "index_of_laysan = people.index(\"Laysan\")\n",
        "print(index_of_laysan)  # 6\n",
        "\n",
        "# Удаляем по этому индексу\n",
        "removed_item = people.pop(index_of_laysan)\n",
        "print(people)  # ['Arina', 'Bilal', 'Karina', 'Alice', 'Misha', 'Nikita']\n",
        "\n",
        "# Удаляем последний элемент\n",
        "last_item = people.pop()\n",
        "print(last_item)  # Nikita\n",
        "\n",
        "# Удаляем элемент \"Alice\"\n",
        "people.remove(\"Alice\")\n",
        "print(people)  # ['Arina', 'Bilal', 'Karina', 'Misha']\n",
        "\n",
        "# Удаляем все элементы\n",
        "people.clear()\n",
        "print(people)  # []"
      ],
      "metadata": {
        "colab": {
          "base_uri": "https://localhost:8080/"
        },
        "id": "KKhkAI-50zcf",
        "outputId": "2d15c135-4fc8-4d90-b4a1-1b5b3b28ae08"
      },
      "execution_count": 31,
      "outputs": [
        {
          "output_type": "stream",
          "name": "stdout",
          "text": [
            "['Arina', 'Karina']\n",
            "['Arina', 'Karina', 'Alice']\n",
            "['Arina', 'Bilal', 'Karina', 'Alice']\n",
            "['Arina', 'Bilal', 'Karina', 'Alice', 'Misha', 'Nikita', 'Laysan']\n",
            "6\n",
            "['Arina', 'Bilal', 'Karina', 'Alice', 'Misha', 'Nikita']\n",
            "Nikita\n",
            "['Arina', 'Bilal', 'Karina', 'Misha']\n",
            "[]\n"
          ]
        }
      ]
    },
    {
      "cell_type": "markdown",
      "source": [
        "## Проверка наличия элемента\n",
        "\n",
        "Если определенный элемент не найден, то методы remove и index генерируют исключение. Чтобы избежать подобной ситуации, перед операцией с элементом можно проверять его наличие с помощью ключевого слова in:"
      ],
      "metadata": {
        "id": "rDnY5ggI5r4t"
      }
    },
    {
      "cell_type": "code",
      "source": [
        "people = [\"Arina\", \"Karina\", \"Alice\", \"Laysan\", \"Alexandra\", \"Masha\", \"Dasha\"]\n",
        "\n",
        "if \"Alice\" in people:\n",
        "    people.remove(\"Alice\")\n",
        "print(people)       # ['Arina', 'Karina', 'Laysan', 'Alexandra', 'Masha', 'Dasha']"
      ],
      "metadata": {
        "id": "sqWV8unY5xsI",
        "outputId": "51eecc53-e5ff-4759-9366-183647a40b97",
        "colab": {
          "base_uri": "https://localhost:8080/"
        }
      },
      "execution_count": 33,
      "outputs": [
        {
          "output_type": "stream",
          "name": "stdout",
          "text": [
            "['Arina', 'Karina', 'Laysan', 'Alexandra', 'Masha', 'Dasha']\n"
          ]
        }
      ]
    },
    {
      "cell_type": "markdown",
      "source": [
        "## Удаление с помощью del\n",
        "\n",
        "Python также поддерживает еще один способ удаления элементов списка - с помощью оператора del. В качестве параметра этому оператору передается удаляемый элемент или набор элементов:"
      ],
      "metadata": {
        "id": "4bx1mKYG6ABr"
      }
    },
    {
      "cell_type": "code",
      "source": [
        "people = [\"Arina\", \"Karina\", \"Alice\", \"Laysan\", \"Alexandra\", \"Masha\", \"Dasha\"]\n",
        "\n",
        "del people[1]   # удаляем второй элемент\n",
        "print(people)   # ['Arina', 'Alice', 'Laysan', 'Alexandra', 'Masha', 'Dasha']\n",
        "\n",
        "del people[:3]   # удаляем  по четвертый элемент не включая\n",
        "print(people)   # ['Alexandra', 'Masha', 'Dasha']\n",
        "\n",
        "del people[1:]   # удаляем  со второго элемента\n",
        "print(people)   # ['Alexandra']"
      ],
      "metadata": {
        "id": "89gqwZfL6Fuw",
        "outputId": "f3ad4bf6-493f-418d-ddc5-336e9868f683",
        "colab": {
          "base_uri": "https://localhost:8080/"
        }
      },
      "execution_count": 36,
      "outputs": [
        {
          "output_type": "stream",
          "name": "stdout",
          "text": [
            "['Arina', 'Alice', 'Laysan', 'Alexandra', 'Masha', 'Dasha']\n",
            "['Alexandra', 'Masha', 'Dasha']\n",
            "['Alexandra']\n"
          ]
        }
      ]
    },
    {
      "cell_type": "markdown",
      "source": [
        "## Изменение подсписка\n",
        "\n",
        "Для изменения подсписка - набора элементов в списке можно использовать вышерассмотренный синтаксис [start:end]:"
      ],
      "metadata": {
        "id": "lVtCnlvA6U4w"
      }
    },
    {
      "cell_type": "code",
      "source": [
        "nums = [10, 20, 30, 40, 50]\n",
        "nums[1:4]=[11, 22]\n",
        "print(nums)     # [10, 11, 22, 50]"
      ],
      "metadata": {
        "id": "JJaRFxdG6ZCY",
        "outputId": "12f9ff70-e032-47a9-a2e4-b17ba08856dd",
        "colab": {
          "base_uri": "https://localhost:8080/"
        }
      },
      "execution_count": 37,
      "outputs": [
        {
          "output_type": "stream",
          "name": "stdout",
          "text": [
            "[10, 11, 22, 50]\n"
          ]
        }
      ]
    },
    {
      "cell_type": "markdown",
      "source": [
        "## Подсчет вхождений\n",
        "\n",
        "Если необходимо узнать, сколько раз в списке присутствует тот или иной элемент, то можно применить метод count():\n",
        "\n"
      ],
      "metadata": {
        "id": "qrDCQXTD6cX3"
      }
    },
    {
      "cell_type": "code",
      "source": [
        "people = [\"Arina\", \"Karina\", \"Arina\", \"Laysan\", \"Arina\", \"Masha\", \"Dasha\"]\n",
        "\n",
        "people_count = people.count(\"Arina\")\n",
        "print(people_count)      # 3"
      ],
      "metadata": {
        "id": "airmNRXQ6hp9",
        "outputId": "cd2c5909-fb1a-41e7-e881-14e3d2ad6b46",
        "colab": {
          "base_uri": "https://localhost:8080/"
        }
      },
      "execution_count": 38,
      "outputs": [
        {
          "output_type": "stream",
          "name": "stdout",
          "text": [
            "3\n"
          ]
        }
      ]
    },
    {
      "cell_type": "markdown",
      "source": [
        "## Сортировка\n",
        "\n",
        "Для сортировки по возрастанию применяется метод sort():"
      ],
      "metadata": {
        "id": "Htq949K26sLj"
      }
    },
    {
      "cell_type": "code",
      "source": [
        "people = [\"Arina\", \"Karina\", \"Alice\", \"Laysan\", \"Alexandra\", \"Masha\", \"Dasha\"]\n",
        "\n",
        "people.sort()\n",
        "print(people) #['Alexandra', 'Alice', 'Arina', 'Dasha', 'Karina', 'Laysan', 'Masha']"
      ],
      "metadata": {
        "id": "DxSi-RjW5xu8",
        "outputId": "54b758ae-b0ee-4537-f7fc-a02f248f7900",
        "colab": {
          "base_uri": "https://localhost:8080/"
        }
      },
      "execution_count": 39,
      "outputs": [
        {
          "output_type": "stream",
          "name": "stdout",
          "text": [
            "['Alexandra', 'Alice', 'Arina', 'Dasha', 'Karina', 'Laysan', 'Masha']\n"
          ]
        }
      ]
    },
    {
      "cell_type": "code",
      "source": [
        "people = [\"Arina\", \"Karina\", \"Alice\", \"Arina\", \"Alexandra\", \"Arina\", \"Dasha\"]\n",
        "\n",
        "people.sort()\n",
        "print(people) #['Alexandra', 'Alice', 'Arina', 'Arina', 'Arina', 'Dasha', 'Karina']"
      ],
      "metadata": {
        "id": "-7U65YER64Cb",
        "outputId": "b704e08d-e461-4235-ad78-1824c3e1c164",
        "colab": {
          "base_uri": "https://localhost:8080/"
        }
      },
      "execution_count": 41,
      "outputs": [
        {
          "output_type": "stream",
          "name": "stdout",
          "text": [
            "['Alexandra', 'Alice', 'Arina', 'Arina', 'Arina', 'Dasha', 'Karina']\n"
          ]
        }
      ]
    },
    {
      "cell_type": "markdown",
      "source": [
        "Если необходимо отсортировать данные в обратном порядке, то мы можем после сортировки применить метод reverse():"
      ],
      "metadata": {
        "id": "RT2jsdIg7BgN"
      }
    },
    {
      "cell_type": "code",
      "source": [
        "people = [\"Arina\", \"Karina\", \"Alice\", \"Laysan\", \"Alexandra\", \"Masha\", \"Dasha\"]\n",
        "\n",
        "people.sort()\n",
        "people.reverse()\n",
        "print(people) # ['Masha', 'Laysan', 'Karina', 'Dasha', 'Arina', 'Alice', 'Alexandra']"
      ],
      "metadata": {
        "id": "dztORoEP7CTM",
        "outputId": "b56066b9-772f-4945-ecf3-577d67b8cf4c",
        "colab": {
          "base_uri": "https://localhost:8080/"
        }
      },
      "execution_count": 43,
      "outputs": [
        {
          "output_type": "stream",
          "name": "stdout",
          "text": [
            "['Masha', 'Laysan', 'Karina', 'Dasha', 'Arina', 'Alice', 'Alexandra']\n"
          ]
        }
      ]
    },
    {
      "cell_type": "markdown",
      "source": [
        "Если в списке сочетаются строки с верхним и нижним регистром, то мы можем получить не совсем корректные результаты, так как для нас строка \"bob\" должна стоять до строки \"Tom\". И чтобы изменить стандартное поведение сортировки, мы можем передать в метод sort() в качестве параметра функцию:"
      ],
      "metadata": {
        "id": "nJZaGvUA7MOO"
      }
    },
    {
      "cell_type": "code",
      "source": [
        "people = [\"Arina\", \"karina\", \"Karim\",  \"Alice\", \"Laysan\", \"alexandra\", \"Masha\", \"Dasha\"]\n",
        "\n",
        "people.sort()       # стандартная сортировка\n",
        "print(people)      # ['Alice', 'Arina', 'Dasha', 'Karim', 'Laysan', 'Masha', 'alexandra', 'karina']\n",
        "\n",
        "people.sort(key=str.lower)  # сортировка без учета регистра\n",
        "print(people)      # ['alexandra', 'Alice', 'Arina', 'Dasha', 'Karim', 'karina', 'Laysan', 'Masha']"
      ],
      "metadata": {
        "id": "znN5COwF7l08",
        "outputId": "5484908a-ffef-4231-979d-dd90b546d187",
        "colab": {
          "base_uri": "https://localhost:8080/"
        }
      },
      "execution_count": 45,
      "outputs": [
        {
          "output_type": "stream",
          "name": "stdout",
          "text": [
            "['Alice', 'Arina', 'Dasha', 'Karim', 'Laysan', 'Masha', 'alexandra', 'karina']\n",
            "['alexandra', 'Alice', 'Arina', 'Dasha', 'Karim', 'karina', 'Laysan', 'Masha']\n"
          ]
        }
      ]
    },
    {
      "cell_type": "markdown",
      "source": [
        "Кроме метода sort мы можем использовать встроенную функцию sorted, которая имеет две формы:\n",
        "\n",
        "* sorted(list): сортирует список list\n",
        "\n",
        "* sorted(list, key): сортирует список list, применяя к элементам функцию key"
      ],
      "metadata": {
        "id": "V7wQL3MX8BSm"
      }
    },
    {
      "cell_type": "code",
      "source": [
        "people = [\"Arina\", \"karina\", \"Karin\",  \"Alice\", \"Laysan\", \"alexandra\", \"Masha\", \"Dasha\"]\n",
        "\n",
        "sorted_people = sorted(people, key=str.lower)\n",
        "print(sorted_people)      # ['alexandra', 'Alice', 'Arina', 'Dasha', 'Karin', 'karina', 'Laysan', 'Masha']"
      ],
      "metadata": {
        "id": "MZJAtDQT8EP_",
        "outputId": "458625eb-812c-4cb4-f6f8-a92af8cfe997",
        "colab": {
          "base_uri": "https://localhost:8080/"
        }
      },
      "execution_count": 47,
      "outputs": [
        {
          "output_type": "stream",
          "name": "stdout",
          "text": [
            "['alexandra', 'Alice', 'Arina', 'Dasha', 'Karin', 'karina', 'Laysan', 'Masha']\n"
          ]
        }
      ]
    },
    {
      "cell_type": "markdown",
      "source": [
        "При использовании этой функции следует учитывать, что эта функция не изменяет сортируемый список, а все отсортированные элементы она помещает в новый список, который возвращается в качестве результата."
      ],
      "metadata": {
        "id": "5G-3XURQ8SeH"
      }
    },
    {
      "cell_type": "markdown",
      "source": [
        "## Минимальное и максимальное значения\n",
        "\n",
        "Встроенный функции Python min() и max() позволяют найти минимальное и максимальное значения соответственно:"
      ],
      "metadata": {
        "id": "guIoDY8D8WTu"
      }
    },
    {
      "cell_type": "code",
      "source": [
        "numbers = [9, 21, 12, 1, 3, 15, 18]\n",
        "print(min(numbers))     # 1\n",
        "print(max(numbers))     # 21"
      ],
      "metadata": {
        "id": "zWmiOrKF8brX",
        "outputId": "dfc37c60-5417-41fa-f814-90a213799af5",
        "colab": {
          "base_uri": "https://localhost:8080/"
        }
      },
      "execution_count": 48,
      "outputs": [
        {
          "output_type": "stream",
          "name": "stdout",
          "text": [
            "1\n",
            "21\n"
          ]
        }
      ]
    },
    {
      "cell_type": "markdown",
      "source": [
        "## Копирование списков\n",
        "\n",
        "При копировании списков следует учитывать, что списки представляют изменяемый (mutable) тип, поэтому если обе переменных будут указывать на один и тот же список, то изменение одной переменной, затронет и другую переменную:"
      ],
      "metadata": {
        "id": "3EtvnIIt8eUT"
      }
    },
    {
      "cell_type": "code",
      "source": [
        "people1 = [\"Alexandra\", \"Karim\", \"Abdullo\"]\n",
        "people2 = people1\n",
        "people2.append(\"Samad\")   # добавляем элемент во второй список\n",
        "# people1 и people2 указывают на один и тот же список\n",
        "print(people1)   # ['Alexandra', 'Karim', 'Abdullo', 'Samad']\n",
        "print(people2)   # ['Alexandra', 'Karim', 'Abdullo', 'Samad']"
      ],
      "metadata": {
        "id": "S42m-AQ98it7",
        "outputId": "c62eefd7-fd04-4301-a323-4c48c1ca9bae",
        "colab": {
          "base_uri": "https://localhost:8080/"
        }
      },
      "execution_count": 50,
      "outputs": [
        {
          "output_type": "stream",
          "name": "stdout",
          "text": [
            "['Alexandra', 'Karim', 'Abdullo', 'Samad']\n",
            "['Alexandra', 'Karim', 'Abdullo', 'Samad']\n"
          ]
        }
      ]
    },
    {
      "cell_type": "markdown",
      "source": [
        "Это так называемое \"поверхностное копирование\" (shallow copy). И, как правило, такое поведение нежелательное. И чтобы происходило копирование элементов, но при этом переменные указывали на разные списки, необходимо выполнить глубокое копирование (deep copy). Для этого можно использовать метод copy():\n",
        "\n"
      ],
      "metadata": {
        "id": "8BckReU18zA4"
      }
    },
    {
      "cell_type": "code",
      "source": [
        "people1 = [\"Alexandra\", \"Karim\", \"Abdullo\"]\n",
        "people2 = people1.copy()    # копируем элементы из people1 в people2\n",
        "people2.append(\"Samad\")   # добавляем элемент ТОЛЬКО во второй список\n",
        "# people1 и people2 указывают на разные списки\n",
        "print(people1)   # ['Alexandra', 'Karim', 'Abdullo']\n",
        "print(people2)   # ['Alexandra', 'Karim', 'Abdullo', 'Samad']"
      ],
      "metadata": {
        "id": "aw9jA1vh82ov",
        "outputId": "aaab87b4-0adf-4e07-fceb-ed252871e37c",
        "colab": {
          "base_uri": "https://localhost:8080/"
        }
      },
      "execution_count": 52,
      "outputs": [
        {
          "output_type": "stream",
          "name": "stdout",
          "text": [
            "['Alexandra', 'Karim', 'Abdullo']\n",
            "['Alexandra', 'Karim', 'Abdullo', 'Samad']\n"
          ]
        }
      ]
    },
    {
      "cell_type": "markdown",
      "source": [
        "## Соединение списков\n",
        "\n",
        "Для объединения списков применяется операция сложения (+):"
      ],
      "metadata": {
        "id": "QYRqOF0W9Cfl"
      }
    },
    {
      "cell_type": "code",
      "source": [
        "people1 = [\"Dilyara\", \"Darya\", \"Dilrabo\", \"Alexandra\"]\n",
        "people2 = [\"Maxim\", \"Marat\", \"Mamur\", \"Mansur\", \"Bilol\"]\n",
        "people3 = people1 + people2\n",
        "print(people3)   # ['Dilyara', 'Darya', 'Dilrabo', 'Maxim', 'Marat', 'Mamur', 'Mansur']"
      ],
      "metadata": {
        "id": "4nRc7PBJ9Gjw",
        "outputId": "8d9355a8-27de-47be-8f15-aaca338887b2",
        "colab": {
          "base_uri": "https://localhost:8080/"
        }
      },
      "execution_count": 56,
      "outputs": [
        {
          "output_type": "stream",
          "name": "stdout",
          "text": [
            "['Dilyara', 'Darya', 'Dilrabo', 'Alexandra', 'Maxim', 'Marat', 'Mamur', 'Mansur', 'Bilol']\n"
          ]
        }
      ]
    },
    {
      "cell_type": "markdown",
      "source": [
        "## Списки списков\n",
        "\n",
        "Списки кроме стандартных данных типа строк, чисел, также могут содержать другие списки. Подобные списки можно ассоциировать с таблицами, где вложенные списки выполняют роль строк. Например:"
      ],
      "metadata": {
        "id": "mzq80oFN9veK"
      }
    },
    {
      "cell_type": "code",
      "source": [
        "people = [\n",
        "    [\"Dilyara\", 19],\n",
        "    [\"Alice\", 17],\n",
        "    [\"Mansur\", 18]\n",
        "]\n",
        "\n",
        "print(people[0])         # ['Dilyara', 19]\n",
        "print(people[0][0])      # Dilyara\n",
        "print(people[0][1])      # 19"
      ],
      "metadata": {
        "id": "dgUx9Y4k9y48",
        "outputId": "412ef98f-d959-4499-bfbe-4355536a15ff",
        "colab": {
          "base_uri": "https://localhost:8080/"
        }
      },
      "execution_count": 59,
      "outputs": [
        {
          "output_type": "stream",
          "name": "stdout",
          "text": [
            "['Dilyara', 19]\n",
            "Dilyara\n",
            "19\n"
          ]
        }
      ]
    },
    {
      "cell_type": "markdown",
      "source": [
        "Добавление, удаление и изменение общего списка, а также вложенных списков аналогично тому, как это делается с обычными (одномерными) списками:"
      ],
      "metadata": {
        "id": "9i7i2exx-E_3"
      }
    },
    {
      "cell_type": "code",
      "source": [
        "people = [\n",
        "    [\"Dilyara\", 19],\n",
        "    [\"Alice\", 17],\n",
        "    [\"Mansur\", 18]\n",
        "]\n",
        "\n",
        "# создание вложенного списка\n",
        "person = list()\n",
        "person.append(\"Ulyana\")\n",
        "person.append(20)\n",
        "# добавление вложенного списка\n",
        "people.append(person)\n",
        "\n",
        "print(people[-1])         # ['Ulyana', 20]\n",
        "\n",
        "# добавление во вложенный список\n",
        "people[-1].append(\"+79876543210\")\n",
        "\n",
        "print(people[-1])         # ['Ulyana', 20, '+79876543210']\n",
        "\n",
        "# удаление последнего элемента из вложенного списка\n",
        "people[-1].pop()\n",
        "print(people[-1])         # ['Ulyana', 20]\n",
        "\n",
        "# удаление всего последнего вложенного списка\n",
        "people.pop(-1)\n",
        "\n",
        "# изменение первого элемента\n",
        "people[0] = [\"Samira\", 18]\n",
        "print(people)            # [['Samira', 18], ['Alice', 17], ['Mansur', 18]]"
      ],
      "metadata": {
        "id": "-sCRStzG-Gux",
        "outputId": "daabce3c-1ad1-4a04-901c-41350ee9b01b",
        "colab": {
          "base_uri": "https://localhost:8080/"
        }
      },
      "execution_count": 63,
      "outputs": [
        {
          "output_type": "stream",
          "name": "stdout",
          "text": [
            "['Ulyana', 20]\n",
            "['Ulyana', 20, '+79876543210']\n",
            "['Ulyana', 20]\n",
            "[['Samira', 18], ['Alice', 17], ['Mansur', 18]]\n"
          ]
        }
      ]
    },
    {
      "cell_type": "markdown",
      "source": [
        "Перебор вложенных списков:"
      ],
      "metadata": {
        "id": "D7RNUydU-fR7"
      }
    },
    {
      "cell_type": "code",
      "source": [
        "people = [\n",
        "    [\"Dilyara\", 19],\n",
        "    [\"Alice\", 17],\n",
        "    [\"Mansur\", 18]\n",
        "]\n",
        "\n",
        "for person in people:\n",
        "    for item in person:\n",
        "        print(item, end=\" | \")"
      ],
      "metadata": {
        "id": "Ysg43MYP-kub",
        "outputId": "708f87be-f21e-466b-8b49-865d23696013",
        "colab": {
          "base_uri": "https://localhost:8080/"
        }
      },
      "execution_count": 64,
      "outputs": [
        {
          "output_type": "stream",
          "name": "stdout",
          "text": [
            "Dilyara | 19 | Alice | 17 | Mansur | 18 | "
          ]
        }
      ]
    },
    {
      "cell_type": "markdown",
      "source": [
        "# Кортежи"
      ],
      "metadata": {
        "id": "c37gEnuh-xl4"
      }
    },
    {
      "cell_type": "markdown",
      "source": [
        "Кортеж (tuple) представляет последовательность элементов, которая во многом похожа на список за тем исключением, что кортеж является неизменяемым (immutable) типом. Поэтому мы не можем добавлять или удалять элементы в кортеже, изменять его.\n",
        "\n",
        "Для создания кортежа используются круглые скобки, в которые помещаются его значения, разделенные запятыми:"
      ],
      "metadata": {
        "id": "kFUedrm1-1b1"
      }
    },
    {
      "cell_type": "code",
      "source": [
        "dil = (\"Dilyara\", 18)\n",
        "print(dil)     # ('Dilyara', 18)"
      ],
      "metadata": {
        "id": "yybOMQJx-4KL",
        "outputId": "87e8d59e-480e-40e7-816a-8c11c6a0d041",
        "colab": {
          "base_uri": "https://localhost:8080/"
        }
      },
      "execution_count": 67,
      "outputs": [
        {
          "output_type": "stream",
          "name": "stdout",
          "text": [
            "('Dilyara', 18)\n"
          ]
        }
      ]
    },
    {
      "cell_type": "markdown",
      "source": [
        "Также для определения кортежа мы можем просто перечислить значения через запятую без применения скобок:"
      ],
      "metadata": {
        "id": "WxNU8L4__Cyd"
      }
    },
    {
      "cell_type": "code",
      "source": [
        "dil = \"Dilyara\", 18\n",
        "print(dil)     # ('Dilyara', 18)"
      ],
      "metadata": {
        "id": "HTTZPAGU_INv",
        "outputId": "07c3e6d0-be2c-463a-8cd9-08375f40bdd7",
        "colab": {
          "base_uri": "https://localhost:8080/"
        }
      },
      "execution_count": 68,
      "outputs": [
        {
          "output_type": "stream",
          "name": "stdout",
          "text": [
            "('Dilyara', 18)\n"
          ]
        }
      ]
    },
    {
      "cell_type": "markdown",
      "source": [
        "Если вдруг кортеж состоит из одного элемента, то после единственного элемента кортежа необходимо поставить запятую:"
      ],
      "metadata": {
        "id": "AEoc-eq2_NkV"
      }
    },
    {
      "cell_type": "code",
      "source": [
        "dil = (\"Dilyara\", )\n",
        "print(dil)     # ('Dilyara', )"
      ],
      "metadata": {
        "id": "Uatu4UkY_SFU",
        "outputId": "d6258e26-d0a9-46f2-ac3f-0fe6ce266950",
        "colab": {
          "base_uri": "https://localhost:8080/"
        }
      },
      "execution_count": 69,
      "outputs": [
        {
          "output_type": "stream",
          "name": "stdout",
          "text": [
            "('Dilyara',)\n"
          ]
        }
      ]
    },
    {
      "cell_type": "markdown",
      "source": [
        "Для создания кортежа из другого набора элементов, например, из списка, можно передать список в функцию tuple(), которая возвратит кортеж:"
      ],
      "metadata": {
        "id": "GCGGeSBx_Wi2"
      }
    },
    {
      "cell_type": "code",
      "source": [
        "data = [\"Dilyara\", 18, \"Google\"]\n",
        "tom = tuple(data)\n",
        "print(tom)      # ('Dilyara', 18, 'Google')"
      ],
      "metadata": {
        "id": "SYrb0MRq_Z42",
        "outputId": "7850f65e-00b7-4c2c-a03b-b52ea199449f",
        "colab": {
          "base_uri": "https://localhost:8080/"
        }
      },
      "execution_count": 72,
      "outputs": [
        {
          "output_type": "stream",
          "name": "stdout",
          "text": [
            "('Dilyara', 18, 'Google')\n"
          ]
        }
      ]
    },
    {
      "cell_type": "markdown",
      "source": [
        "С помощью встроенной функции len() можно получить длину кортежа:"
      ],
      "metadata": {
        "id": "NjmNhH0MBCaH"
      }
    },
    {
      "cell_type": "code",
      "source": [
        "dil = (\"Dilyara\", 18, \"Google\")\n",
        "print(len(dil))     # 3"
      ],
      "metadata": {
        "id": "3peVb5-_Bbvr",
        "outputId": "287fa176-0940-4372-c03e-d65ccf1996e4",
        "colab": {
          "base_uri": "https://localhost:8080/"
        }
      },
      "execution_count": 73,
      "outputs": [
        {
          "output_type": "stream",
          "name": "stdout",
          "text": [
            "3\n"
          ]
        }
      ]
    },
    {
      "cell_type": "markdown",
      "source": [
        "## Обращение к элементам кортежа\n",
        "\n",
        "Обращение к элементам в кортеже происходит также, как и в списке, по индексу. Индексация начинается также с нуля при получении элементов с начала списка и с -1 при получении элементов с конца списка:"
      ],
      "metadata": {
        "id": "E0CJhD0WBn9O"
      }
    },
    {
      "cell_type": "code",
      "source": [
        "dil= (\"Dilyara\", 18, \"Google\", \"software developer\")\n",
        "print(dil[0])       # Dilyara\n",
        "print(dil[1])       # 18\n",
        "print(dil[-1])      # software developer"
      ],
      "metadata": {
        "id": "JGDHuEuHBuMk",
        "outputId": "1a1c72ef-b804-4826-f801-77c66d26ab63",
        "colab": {
          "base_uri": "https://localhost:8080/"
        }
      },
      "execution_count": 75,
      "outputs": [
        {
          "output_type": "stream",
          "name": "stdout",
          "text": [
            "Dilyara\n",
            "18\n",
            "software developer\n"
          ]
        }
      ]
    },
    {
      "cell_type": "markdown",
      "source": [
        "Но так как кортеж - неизменяемый тип (immutable), то мы не сможем изменить его элементы. То есть следующая запись работать не будет:"
      ],
      "metadata": {
        "id": "4BkO3spDB4JE"
      }
    },
    {
      "cell_type": "code",
      "source": [
        "dil[1] = \"Tim\""
      ],
      "metadata": {
        "id": "M7rFjp6tB7CN",
        "outputId": "5b01150f-4357-47a7-f85a-6050e3f275f0",
        "colab": {
          "base_uri": "https://localhost:8080/",
          "height": 175
        }
      },
      "execution_count": 76,
      "outputs": [
        {
          "output_type": "error",
          "ename": "TypeError",
          "evalue": "ignored",
          "traceback": [
            "\u001b[0;31m---------------------------------------------------------------------------\u001b[0m",
            "\u001b[0;31mTypeError\u001b[0m                                 Traceback (most recent call last)",
            "\u001b[0;32m<ipython-input-76-9410eb8acb44>\u001b[0m in \u001b[0;36m<cell line: 1>\u001b[0;34m()\u001b[0m\n\u001b[0;32m----> 1\u001b[0;31m \u001b[0mdil\u001b[0m\u001b[0;34m[\u001b[0m\u001b[0;36m1\u001b[0m\u001b[0;34m]\u001b[0m \u001b[0;34m=\u001b[0m \u001b[0;34m\"Tim\"\u001b[0m\u001b[0;34m\u001b[0m\u001b[0;34m\u001b[0m\u001b[0m\n\u001b[0m",
            "\u001b[0;31mTypeError\u001b[0m: 'tuple' object does not support item assignment"
          ]
        }
      ]
    },
    {
      "cell_type": "markdown",
      "source": [
        "При необходимости мы можем разложить кортеж на отдельные переменные:"
      ],
      "metadata": {
        "id": "VBu8gLHmB-aR"
      }
    },
    {
      "cell_type": "code",
      "source": [
        "name, age, company, position = (\"Dilyara\", 18, \"Google\", \"software developer\")\n",
        "print(name)         # Dilyara\n",
        "print(age)          # 18\n",
        "print(position)     # software developer\n",
        "print(company)     # Google"
      ],
      "metadata": {
        "id": "zItd9QXCCAx2",
        "outputId": "442e34ca-9566-4b35-887c-5dfe6c2aa3da",
        "colab": {
          "base_uri": "https://localhost:8080/"
        }
      },
      "execution_count": 77,
      "outputs": [
        {
          "output_type": "stream",
          "name": "stdout",
          "text": [
            "Dilyara\n",
            "18\n",
            "software developer\n",
            "Google\n"
          ]
        }
      ]
    },
    {
      "cell_type": "markdown",
      "source": [
        "## Получение подкортежей\n",
        "\n",
        "Как и в списках, можно получить часть кортежа в виде другого кортежа"
      ],
      "metadata": {
        "id": "X-bh6LaICIgG"
      }
    },
    {
      "cell_type": "code",
      "source": [
        "dil = (\"Dilyara\", 18, \"Google\", \"software developer\")\n",
        "\n",
        "# получем подкортеж с 1 по 3 элемента (не включая)\n",
        "print(dil[1:3])     # (18, \"Google\")\n",
        "\n",
        "# получем подкортеж с 0 по 3 элемента (не включая)\n",
        "print(dil[:3])     # ('Dilyara', 18, 'Google')\n",
        "\n",
        "# получем подкортеж с 1 по послдений элемент\n",
        "print(dil[1:])     # (18, 'Google', 'software developer')"
      ],
      "metadata": {
        "id": "jqeHQFw3CL9w",
        "outputId": "35aff841-e03a-4120-c7a8-1f69917e5b10",
        "colab": {
          "base_uri": "https://localhost:8080/"
        }
      },
      "execution_count": 79,
      "outputs": [
        {
          "output_type": "stream",
          "name": "stdout",
          "text": [
            "(18, 'Google')\n",
            "('Dilyara', 18, 'Google')\n",
            "(18, 'Google', 'software developer')\n"
          ]
        }
      ]
    },
    {
      "cell_type": "markdown",
      "source": [
        "## Кортеж как параметр и результат функций\n",
        "\n",
        "Особенно удобно использовать кортежи, когда необходимо возвратить из функции сразу несколько значений. Когда функция возвращает несколько значений, фактически она возвращает в кортеж:"
      ],
      "metadata": {
        "id": "Q3n5rDpjCY8G"
      }
    },
    {
      "cell_type": "code",
      "source": [
        "def get_user():\n",
        "    name = \"Dilyara\"\n",
        "    age = 22\n",
        "    company = \"Google\"\n",
        "    return name, age, company\n",
        "\n",
        "\n",
        "user = get_user()\n",
        "print(user)     # (\"Dilyara\", 22, \"Google\")"
      ],
      "metadata": {
        "id": "C3I3OzOVCd68",
        "outputId": "79c60fbc-2806-4677-998d-57678d3fcdf4",
        "colab": {
          "base_uri": "https://localhost:8080/"
        }
      },
      "execution_count": 80,
      "outputs": [
        {
          "output_type": "stream",
          "name": "stdout",
          "text": [
            "('Dilyara', 22, 'Google')\n"
          ]
        }
      ]
    },
    {
      "cell_type": "markdown",
      "source": [
        "При передаче кортежа в функцию с помощью оператора * его можно разложить на отдельные значения, которые передаются параметрам функции:"
      ],
      "metadata": {
        "id": "-8Qq-u72Ckto"
      }
    },
    {
      "cell_type": "code",
      "source": [
        "def print_person(name, age, company):\n",
        "    print(f\"Name: {name}  Age: {age}  Company: {company}\")\n",
        "\n",
        "dil = (\"Dilyara\", 22)\n",
        "print_person(*dil, \"Microsoft\")     # Name: Dilyara  Age: 22  Company: Microsoft\n",
        "\n",
        "annya = (\"Anna\", 18, \"Apple\")\n",
        "print_person(*annya)      # Name: Anna  Age: 18  Company: Apple"
      ],
      "metadata": {
        "id": "HAfcMOh3Cndt",
        "outputId": "408eec32-846f-4f39-8944-d685e2043c2c",
        "colab": {
          "base_uri": "https://localhost:8080/"
        }
      },
      "execution_count": 82,
      "outputs": [
        {
          "output_type": "stream",
          "name": "stdout",
          "text": [
            "Name: Dilyara  Age: 22  Company: Microsoft\n",
            "Name: Anna  Age: 18  Company: Apple\n"
          ]
        }
      ]
    },
    {
      "cell_type": "markdown",
      "source": [
        "## Перебор кортежей\n",
        "\n",
        "Для перебора кортежа можно использовать стандартные циклы for и while. С помощью цикла for:"
      ],
      "metadata": {
        "id": "S57J7WAXDBV_"
      }
    },
    {
      "cell_type": "code",
      "source": [
        "dil = (\"Dilyara\", 22, \"Google\")\n",
        "for item in dil:\n",
        "    print(item)"
      ],
      "metadata": {
        "id": "o1tg5iB-DE6Q",
        "outputId": "4e820a70-b09a-4c65-d2df-ca3c3ee97e99",
        "colab": {
          "base_uri": "https://localhost:8080/"
        }
      },
      "execution_count": 83,
      "outputs": [
        {
          "output_type": "stream",
          "name": "stdout",
          "text": [
            "Dilyara\n",
            "22\n",
            "Google\n"
          ]
        }
      ]
    },
    {
      "cell_type": "markdown",
      "source": [
        "С помощью цикла while:"
      ],
      "metadata": {
        "id": "o1Nkw5GODKBK"
      }
    },
    {
      "cell_type": "code",
      "source": [
        "dil = (\"Dilyara\", 22, \"Google\")\n",
        "\n",
        "while i < len(dil):\n",
        "    print(tom[i])\n",
        "    i += 1"
      ],
      "metadata": {
        "id": "3-CNdSQ6DL3R"
      },
      "execution_count": 84,
      "outputs": []
    },
    {
      "cell_type": "markdown",
      "source": [
        "## Проверка наличия значения\n",
        "\n",
        "Как для списка с помощью выражения элемент in кортеж можно проверить наличие элемента в кортеже:"
      ],
      "metadata": {
        "id": "IfhiOIenDQlC"
      }
    },
    {
      "cell_type": "code",
      "source": [
        "user = (\"Dilyara\", 22, \"Google\")\n",
        "name = \"Dilyara\"\n",
        "if name in user:\n",
        "    print(\"Пользователя зовут Dilyara\")\n",
        "else:\n",
        "    print(\"Пользователь имеет другое имя\")"
      ],
      "metadata": {
        "id": "GM5cOLT-Dd7Z",
        "outputId": "4b3f60a6-851f-450e-c963-db2ca80a71dc",
        "colab": {
          "base_uri": "https://localhost:8080/"
        }
      },
      "execution_count": 85,
      "outputs": [
        {
          "output_type": "stream",
          "name": "stdout",
          "text": [
            "Пользователя зовут Dilyara\n"
          ]
        }
      ]
    },
    {
      "cell_type": "markdown",
      "source": [
        "# Диапазоны\n"
      ],
      "metadata": {
        "id": "aCg0AetwDkbc"
      }
    },
    {
      "cell_type": "markdown",
      "source": [
        "Диапазоны или range представляют неизменяемый последовательный набор чисел. Для создания диапазонов используется функция range, которая имеет следующие формы:\n",
        "\n",
        "* range(stop): возвращает все целые числа от 0 до stop (не включая stop).\n",
        "* range(start, stop): возвращает все целые числа в промежутке от start (включительно) до stop (не включая stop).\n",
        "* range(start, stop, step): возвращает целые числа в промежутке от start (включительно) до stop (не включая stop), с шагом step.\n",
        "\n",
        "Примеры вызовов функции range:"
      ],
      "metadata": {
        "id": "1xeQaB-rEP-x"
      }
    },
    {
      "cell_type": "code",
      "source": [
        "# Возвращает все целые числа от 0 до 10 (не включая 10)\n",
        "numbers1 = range(10)\n",
        "print(list(numbers1))  # [0, 1, 2, 3, 4, 5, 6, 7, 8, 9]\n",
        "\n",
        "# Возвращает все целые числа в промежутке от 5 (включительно) до 10 (не включая 10)\n",
        "numbers2 = range(5, 10)\n",
        "print(list(numbers2))  # [5, 6, 7, 8, 9]\n",
        "\n",
        "# Возвращает целые числа в промежутке от 0 (включительно) до 10 (не включая 10), с шагом 2\n",
        "numbers3 = range(0, 10, 2)\n",
        "print(list(numbers3))  # [0, 2, 4, 6, 8]\n",
        "\n",
        "# Возвращает все целые числа от -10 (включительно) до -1 (не включая -1)\n",
        "numbers4 = range(-10, -1)\n",
        "print(list(numbers4))  # [-10, -9, -8, -7, -6, -5, -4, -3, -2]"
      ],
      "metadata": {
        "id": "hyYChD4mETdc",
        "outputId": "aaa1350c-150e-48ce-99a9-bf8363ece1d1",
        "colab": {
          "base_uri": "https://localhost:8080/"
        }
      },
      "execution_count": 86,
      "outputs": [
        {
          "output_type": "stream",
          "name": "stdout",
          "text": [
            "[0, 1, 2, 3, 4, 5, 6, 7, 8, 9]\n",
            "[5, 6, 7, 8, 9]\n",
            "[0, 2, 4, 6, 8]\n",
            "[-10, -9, -8, -7, -6, -5, -4, -3, -2]\n"
          ]
        }
      ]
    },
    {
      "cell_type": "markdown",
      "source": [
        "Диапазоны чаще всего применяются в циклах for. Например, выведем последовательно все числа от 0 до 4:"
      ],
      "metadata": {
        "id": "HUqVrxIqEfL6"
      }
    },
    {
      "cell_type": "code",
      "source": [
        "for i in range(5):\n",
        "    print(i, end=\" \")\n",
        "\n",
        "# Консольный вывод\n",
        "# 0, 1, 2, 3, 4"
      ],
      "metadata": {
        "id": "4M2dkzQ6Efld",
        "outputId": "f47068ae-e350-42b6-9793-f1439575100a",
        "colab": {
          "base_uri": "https://localhost:8080/"
        }
      },
      "execution_count": 87,
      "outputs": [
        {
          "output_type": "stream",
          "name": "stdout",
          "text": [
            "0 1 2 3 4 "
          ]
        }
      ]
    },
    {
      "cell_type": "markdown",
      "source": [
        "Если нам необходим последовательный список чисел, то для его создания удобно использовать функцию range:"
      ],
      "metadata": {
        "id": "Gg0twePQEi_B"
      }
    },
    {
      "cell_type": "code",
      "source": [
        "numbers = list(range(10))\n",
        "print(numbers)      # [0, 1, 2, 3, 4, 5, 6, 7, 8, 9]\n",
        "numbers = list(range(2, 10))\n",
        "print(numbers)      # [2, 3, 4, 5, 6, 7, 8, 9]\n",
        "numbers = list(range(10, 2, -2))\n",
        "print(numbers)      # [10, 8, 6, 4]"
      ],
      "metadata": {
        "id": "tf5PWxG9En4R",
        "outputId": "dd0d4c7f-9c6a-4cec-bb0a-557e127f3abf",
        "colab": {
          "base_uri": "https://localhost:8080/"
        }
      },
      "execution_count": 88,
      "outputs": [
        {
          "output_type": "stream",
          "name": "stdout",
          "text": [
            "[0, 1, 2, 3, 4, 5, 6, 7, 8, 9]\n",
            "[2, 3, 4, 5, 6, 7, 8, 9]\n",
            "[10, 8, 6, 4]\n"
          ]
        }
      ]
    },
    {
      "cell_type": "markdown",
      "source": [
        "# Словари"
      ],
      "metadata": {
        "id": "bG36bg3pEtjj"
      }
    },
    {
      "cell_type": "markdown",
      "source": [
        "Словарь (dictionary) в языке Python хранит коллекцию элементов, где каждый элемент имеет уникальный ключ и ассоциированое с ним некоторое значение.\n",
        "\n",
        "Определение словаря имеет следующий синтаксис:\n",
        "\n",
        "\n",
        "```\n",
        "dictionary = { ключ1:значение1, ключ2:значение2, ....}\n",
        "```\n",
        "\n"
      ],
      "metadata": {
        "id": "kdddYEj_FIDm"
      }
    },
    {
      "cell_type": "markdown",
      "source": [
        "Давайте определим словарь:"
      ],
      "metadata": {
        "id": "HVKivEktFPOZ"
      }
    },
    {
      "cell_type": "code",
      "source": [
        "users = {1: \"Annya\", 2: \"Zukhra\", 3: \"Masha\"}\n",
        "print(users)"
      ],
      "metadata": {
        "id": "Xg_1WWV6FgcM",
        "outputId": "ae496be6-072d-4575-d585-ada021e25184",
        "colab": {
          "base_uri": "https://localhost:8080/"
        }
      },
      "execution_count": 91,
      "outputs": [
        {
          "output_type": "stream",
          "name": "stdout",
          "text": [
            "{1: 'Annya', 2: 'Zukhra', 3: 'Masha'}\n"
          ]
        }
      ]
    },
    {
      "cell_type": "markdown",
      "source": [
        "Другой пример:"
      ],
      "metadata": {
        "id": "-rJ_KGYzFuAt"
      }
    },
    {
      "cell_type": "code",
      "source": [
        "emails = {\"anusha@gmail.com\": \"Annya\", \"zukhra@gmai.com\": \"Zukhra\", \"masha@gmail.com\": \"Masha\"}\n",
        "print(emails)"
      ],
      "metadata": {
        "id": "ujCfWXtOFwgI",
        "outputId": "23d99634-2b61-4a60-e9d2-5204b7543b99",
        "colab": {
          "base_uri": "https://localhost:8080/"
        }
      },
      "execution_count": 92,
      "outputs": [
        {
          "output_type": "stream",
          "name": "stdout",
          "text": [
            "{'anusha@gmail.com': 'Annya', 'zukhra@gmai.com': 'Zukhra', 'masha@gmail.com': 'Masha'}\n"
          ]
        }
      ]
    },
    {
      "cell_type": "markdown",
      "source": [
        "Но необязательно ключи и строки должны быть однотипными. Они могу представлять разные типы:"
      ],
      "metadata": {
        "id": "kKgnVWg0GAWu"
      }
    },
    {
      "cell_type": "code",
      "source": [
        "objects = {1: \"Annya\", \"2\": True, 3: 100.6}\n",
        "print(objects)"
      ],
      "metadata": {
        "id": "_NXoM4PBGEJM",
        "outputId": "9816e8b2-016c-4327-841b-7a19a5e3674a",
        "colab": {
          "base_uri": "https://localhost:8080/"
        }
      },
      "execution_count": 94,
      "outputs": [
        {
          "output_type": "stream",
          "name": "stdout",
          "text": [
            "{1: 'Annya', '2': True, 3: 100.6}\n"
          ]
        }
      ]
    },
    {
      "cell_type": "markdown",
      "source": [
        "Мы можем также вообще определить пустой словарь без элементов:"
      ],
      "metadata": {
        "id": "HvuO3TfQGLME"
      }
    },
    {
      "cell_type": "code",
      "source": [
        "objects = {}\n",
        "print(objects)"
      ],
      "metadata": {
        "id": "dRo3D2ojGNo_",
        "outputId": "26c89687-cc83-4eaa-9473-e791d360f0f2",
        "colab": {
          "base_uri": "https://localhost:8080/"
        }
      },
      "execution_count": 95,
      "outputs": [
        {
          "output_type": "stream",
          "name": "stdout",
          "text": [
            "{}\n"
          ]
        }
      ]
    },
    {
      "cell_type": "code",
      "source": [
        "objects = dict()\n",
        "print(objects)"
      ],
      "metadata": {
        "id": "5dovMSCmGVz3",
        "outputId": "a5310562-737d-4a0e-e454-a89164ebcfe2",
        "colab": {
          "base_uri": "https://localhost:8080/"
        }
      },
      "execution_count": 96,
      "outputs": [
        {
          "output_type": "stream",
          "name": "stdout",
          "text": [
            "{}\n"
          ]
        }
      ]
    },
    {
      "cell_type": "markdown",
      "source": [
        "## Преобразование списков и кортежей в словарь\n",
        "\n",
        "Несмотря на то, что словарь и список - непохожие по структуре типы, но тем не менее существует возможности для отдельных видов списков преобразования их в словарь с помощью встроенной функции dict(). Для этого список должен хранить набор вложенных списков. Каждый вложенный список должен состоять из двух элементов - при конвертации в словарь первый элемент станет ключом, а второй - значением:"
      ],
      "metadata": {
        "id": "9Cwh88vhGjfv"
      }
    },
    {
      "cell_type": "code",
      "source": [
        "users_list = [\n",
        "    [\"+111123455\", \"Annya\"],\n",
        "    [\"+384767557\", \"Zukhra\"],\n",
        "    [\"+958758767\", \"Alice\"]\n",
        "]\n",
        "users_dict = dict(users_list)\n",
        "print(users_dict)      # {'+111123455': 'Annya', '+384767557': 'Zukhra', '+958758767': 'Alice'}"
      ],
      "metadata": {
        "id": "fB_9QNXgGnxS",
        "outputId": "f1041508-5654-4166-b28e-bd838cda2a95",
        "colab": {
          "base_uri": "https://localhost:8080/"
        }
      },
      "execution_count": 98,
      "outputs": [
        {
          "output_type": "stream",
          "name": "stdout",
          "text": [
            "{'+111123455': 'Annya', '+384767557': 'Zukhra', '+958758767': 'Alice'}\n"
          ]
        }
      ]
    },
    {
      "cell_type": "markdown",
      "source": [
        "Подобным образом можно преобразовать в словарь двухмерные кортежи, которые в свою очередь содержать кортежи из двух элементов:"
      ],
      "metadata": {
        "id": "LQQ1D3TKG2JP"
      }
    },
    {
      "cell_type": "code",
      "source": [
        "users_tuple = (\n",
        "    (\"+111123455\", \"Annya\"),\n",
        "    (\"+384767557\", \"Zukhra\"),\n",
        "    (\"+958758767\", \"Alice\")\n",
        ")\n",
        "users_dict = dict(users_tuple)\n",
        "print(users_dict)"
      ],
      "metadata": {
        "id": "Js8P74ZkG50y",
        "outputId": "7facf923-1867-454b-8b3d-619e9fb26b4c",
        "colab": {
          "base_uri": "https://localhost:8080/"
        }
      },
      "execution_count": 99,
      "outputs": [
        {
          "output_type": "stream",
          "name": "stdout",
          "text": [
            "{'+111123455': 'Annya', '+384767557': 'Zukhra', '+958758767': 'Alice'}\n"
          ]
        }
      ]
    },
    {
      "cell_type": "markdown",
      "source": [
        "## Получение и изменение элементов\n",
        "\n",
        "Для обращения к элементам словаря после его названия в квадратных скобках указывается ключ элемента:\n",
        "\n",
        "\n",
        "\n",
        "```\n",
        "dictionary[ключ]\n",
        "```\n",
        "\n"
      ],
      "metadata": {
        "id": "p0vOwOV5HBZ_"
      }
    },
    {
      "cell_type": "markdown",
      "source": [
        "Например, получим и изменим элементы в словаре:"
      ],
      "metadata": {
        "id": "f5e5OxgbHOk-"
      }
    },
    {
      "cell_type": "code",
      "source": [
        "users = {\n",
        "    \"+11111111\": \"Annya\",\n",
        "    \"+33333333\": \"Zukhra\",\n",
        "    \"+55555555\": \"Alice\"\n",
        "}\n",
        "\n",
        "# получаем элемент с ключом \"+11111111\"\n",
        "print(users[\"+11111111\"])      # Annya\n",
        "\n",
        "# установка значения элемента с ключом \"+33333333\"\n",
        "users[\"+33333333\"] = \"Ilderova Anna\"\n",
        "print(users[\"+33333333\"])   # Ilderova Anna"
      ],
      "metadata": {
        "id": "6D6TEDt7HL-M",
        "outputId": "c568e15d-4212-4099-8675-59516f015b40",
        "colab": {
          "base_uri": "https://localhost:8080/"
        }
      },
      "execution_count": 100,
      "outputs": [
        {
          "output_type": "stream",
          "name": "stdout",
          "text": [
            "Annya\n",
            "Ilderova Anna\n"
          ]
        }
      ]
    },
    {
      "cell_type": "markdown",
      "source": [
        "Если при установки значения элемента с таким ключом в словаре не окажется, то произойдет его добавление:"
      ],
      "metadata": {
        "id": "jWENGH1UHeus"
      }
    },
    {
      "cell_type": "code",
      "source": [
        "users[\"+4444444\"] = \"Masha\""
      ],
      "metadata": {
        "id": "XjfF77VTHfUQ"
      },
      "execution_count": 101,
      "outputs": []
    },
    {
      "cell_type": "markdown",
      "source": [
        "Но если мы попробуем получить значение с ключом, которого нет в словаре, то Python сгенерирует ошибку KeyError:"
      ],
      "metadata": {
        "id": "0nfCzU6KHj5c"
      }
    },
    {
      "cell_type": "code",
      "source": [
        "user = users[\"+999999999\"]    # KeyError"
      ],
      "metadata": {
        "id": "-nznQF8aHpTF",
        "outputId": "419d16e4-df0c-4974-da6f-c9f2a328c9a5",
        "colab": {
          "base_uri": "https://localhost:8080/",
          "height": 175
        }
      },
      "execution_count": 102,
      "outputs": [
        {
          "output_type": "error",
          "ename": "KeyError",
          "evalue": "ignored",
          "traceback": [
            "\u001b[0;31m---------------------------------------------------------------------------\u001b[0m",
            "\u001b[0;31mKeyError\u001b[0m                                  Traceback (most recent call last)",
            "\u001b[0;32m<ipython-input-102-5166262d4ebf>\u001b[0m in \u001b[0;36m<cell line: 1>\u001b[0;34m()\u001b[0m\n\u001b[0;32m----> 1\u001b[0;31m \u001b[0muser\u001b[0m \u001b[0;34m=\u001b[0m \u001b[0musers\u001b[0m\u001b[0;34m[\u001b[0m\u001b[0;34m\"+999999999\"\u001b[0m\u001b[0;34m]\u001b[0m    \u001b[0;31m# KeyError\u001b[0m\u001b[0;34m\u001b[0m\u001b[0;34m\u001b[0m\u001b[0m\n\u001b[0m",
            "\u001b[0;31mKeyError\u001b[0m: '+999999999'"
          ]
        }
      ]
    },
    {
      "cell_type": "markdown",
      "source": [
        "И чтобы предупредить эту ситуацию перед обращением к элементу мы можем проверять наличие ключа в словаре с помощью выражения ключ in словарь. Если ключ имеется в словаре, то данное выражение возвращает True:"
      ],
      "metadata": {
        "id": "6WbsDyf6HuI_"
      }
    },
    {
      "cell_type": "code",
      "source": [
        "key = \"+999999999\"\n",
        "if key in users:\n",
        "    user = users[key]\n",
        "    print(user)\n",
        "else:\n",
        "    print(\"Элемент не найден\")"
      ],
      "metadata": {
        "id": "86tIUTIsHw72",
        "outputId": "0bb3ba53-6655-47c6-c645-e582ac0e986a",
        "colab": {
          "base_uri": "https://localhost:8080/"
        }
      },
      "execution_count": 103,
      "outputs": [
        {
          "output_type": "stream",
          "name": "stdout",
          "text": [
            "Элемент не найден\n"
          ]
        }
      ]
    },
    {
      "cell_type": "markdown",
      "source": [
        "Также для получения элементов можно использовать метод get, который имеет две формы:\n",
        "\n",
        "* get(key): возвращает из словаря элемент с ключом key. Если элемента с таким ключом нет, то возвращает значение None\n",
        "\n",
        "* get(key, default): возвращает из словаря элемент с ключом key. Если элемента с таким ключом нет, то возвращает значение по умолчанию default"
      ],
      "metadata": {
        "id": "nwjWMUT6H4yJ"
      }
    },
    {
      "cell_type": "code",
      "source": [
        "users = {\n",
        "    \"+11111111\": \"Annya\",\n",
        "    \"+33333333\": \"Zukhro\",\n",
        "    \"+55555555\": \"Alice\"\n",
        "}\n",
        "\n",
        "user1 = users.get(\"+55555555\")\n",
        "print(user1)    # Alice\n",
        "user2 = users.get(\"+33333333\", \"Unknown user\")\n",
        "print(user2)    # Zukhro\n",
        "user3 = users.get(\"+44444444\", \"Unknown user\")\n",
        "print(user3)    # Unknown user"
      ],
      "metadata": {
        "colab": {
          "base_uri": "https://localhost:8080/"
        },
        "id": "kBffJr86H8xn",
        "outputId": "e98821f8-38cf-4ddc-de79-c20996aa6e09"
      },
      "execution_count": 105,
      "outputs": [
        {
          "output_type": "stream",
          "name": "stdout",
          "text": [
            "Alice\n",
            "Zukhro\n",
            "Unknown user\n"
          ]
        }
      ]
    },
    {
      "cell_type": "markdown",
      "source": [
        "Удаление\n",
        "Для удаления элемента по ключу применяется оператор del:"
      ],
      "metadata": {
        "id": "13yHyI0iIJSD"
      }
    },
    {
      "cell_type": "code",
      "source": [
        "users = {\n",
        "    \"+11111111\": \"Annya\",\n",
        "    \"+33333333\": \"Zukhro\",\n",
        "    \"+55555555\": \"Alice\"\n",
        "}\n",
        "\n",
        "del users[\"+55555555\"]\n",
        "print(users)    # {'+11111111': 'Annya', '+33333333': 'Zukhro'}"
      ],
      "metadata": {
        "id": "0sbbEGOvHIMo",
        "outputId": "f269495a-64a1-4cae-870a-629a9f7de0c3",
        "colab": {
          "base_uri": "https://localhost:8080/"
        }
      },
      "execution_count": 106,
      "outputs": [
        {
          "output_type": "stream",
          "name": "stdout",
          "text": [
            "{'+11111111': 'Annya', '+33333333': 'Zukhro'}\n"
          ]
        }
      ]
    },
    {
      "cell_type": "markdown",
      "source": [
        "Но стоит учитывать, что если подобного ключа не окажется в словаре, то будет выброшено исключение KeyError. Поэтому опять же перед удалением желательно проверять наличие элемента с данным ключом."
      ],
      "metadata": {
        "id": "G3pHaeOeIU7f"
      }
    },
    {
      "cell_type": "code",
      "source": [
        "users = {\n",
        "    \"+11111111\": \"Annya\",\n",
        "    \"+33333333\": \"Zukhro\",\n",
        "    \"+55555555\": \"Alice\"\n",
        "}\n",
        "\n",
        "key = \"+55555555\"\n",
        "if key in users:\n",
        "    del users[key]\n",
        "    print(f\"Элемент с ключом {key} удален\")\n",
        "else:\n",
        "    print(\"Элемент не найден\")"
      ],
      "metadata": {
        "id": "1wIK0khWIWaO",
        "outputId": "56c21ad5-f53e-4139-e34b-65978e189398",
        "colab": {
          "base_uri": "https://localhost:8080/"
        }
      },
      "execution_count": 107,
      "outputs": [
        {
          "output_type": "stream",
          "name": "stdout",
          "text": [
            "Элемент с ключом +55555555 удален\n"
          ]
        }
      ]
    },
    {
      "cell_type": "markdown",
      "source": [
        "Другой способ удаления представляет метод pop(). Он имеет две формы:\n",
        "\n",
        "* pop(key): удаляет элемент по ключу key и возвращает удаленный элемент. Если элемент с данным ключом отсутствует, то генерируется исключение KeyError\n",
        "\n",
        "* pop(key, default): удаляет элемент по ключу key и возвращает удаленный элемент. Если элемент с данным ключом отсутствует, то возвращается значение default"
      ],
      "metadata": {
        "id": "9rW53jCdIZ1H"
      }
    },
    {
      "cell_type": "code",
      "source": [
        "users = {\n",
        "    \"+11111111\": \"Annya\",\n",
        "    \"+33333333\": \"Zukhro\",\n",
        "    \"+55555555\": \"Alice\"\n",
        "}\n",
        "\n",
        "\n",
        "key = \"+55555555\"\n",
        "user = users.pop(key)\n",
        "print(user)     # Alice\n",
        "\n",
        "user = users.pop(\"+4444444\", \"Unknown user\")\n",
        "print(user)     # Unknown user"
      ],
      "metadata": {
        "id": "3auN2uRbIfNG",
        "outputId": "d1824b82-1198-45ea-e9ea-8adb734587e5",
        "colab": {
          "base_uri": "https://localhost:8080/"
        }
      },
      "execution_count": 108,
      "outputs": [
        {
          "output_type": "stream",
          "name": "stdout",
          "text": [
            "Alice\n",
            "Unknown user\n"
          ]
        }
      ]
    },
    {
      "cell_type": "markdown",
      "source": [
        "Если необходимо удалить все элементы, то в этом случае можно воспользоваться методом clear():"
      ],
      "metadata": {
        "id": "ClGfcilpImGg"
      }
    },
    {
      "cell_type": "code",
      "source": [
        "users.clear()"
      ],
      "metadata": {
        "id": "IWqLQRj9IomF"
      },
      "execution_count": 109,
      "outputs": []
    },
    {
      "cell_type": "markdown",
      "source": [
        "## Копирование и объединение словарей\n",
        "\n",
        "Метод copy() копирует содержимое словаря, возвращая новый словарь:"
      ],
      "metadata": {
        "id": "9XYEa72mIqiM"
      }
    },
    {
      "cell_type": "code",
      "source": [
        "users = {\"+1111111\": \"Annya\", \"+3333333\": \"Zukhra\", \"+5555555\": \"Alice\"}\n",
        "students = users.copy()\n",
        "print(students)     # {'+1111111': 'Annya', '+3333333': 'Zukhra', '+5555555': 'Alice'}"
      ],
      "metadata": {
        "id": "8DPGrwpuIwO1",
        "outputId": "21829881-f850-462b-ef36-2cd6d2b93b2a",
        "colab": {
          "base_uri": "https://localhost:8080/"
        }
      },
      "execution_count": 111,
      "outputs": [
        {
          "output_type": "stream",
          "name": "stdout",
          "text": [
            "{'+1111111': 'Annya', '+3333333': 'Zukhra', '+5555555': 'Alice'}\n"
          ]
        }
      ]
    },
    {
      "cell_type": "markdown",
      "source": [
        "Метод update() объединяет два словаря:"
      ],
      "metadata": {
        "id": "i5x3LxYNI3H1"
      }
    },
    {
      "cell_type": "code",
      "source": [
        "users = {\"+1111111\": \"Annya\", \"+3333333\": \"Zukhra\"}\n",
        "\n",
        "users2 = {\"+2222222\": \"Masha\", \"+6666666\": \"Dasha\"}\n",
        "users.update(users2)\n",
        "\n",
        "print(users)    #  {'+1111111': 'Annya', '+3333333': 'Zukhra', '+2222222': 'Masha', '+6666666': 'Dasha'}\n",
        "print(users2)   # {'+2222222': 'Masha', '+6666666': 'Dasha'}"
      ],
      "metadata": {
        "id": "epP7aAvMI5It",
        "outputId": "c5e66603-9fc8-4454-e818-b1d2cb8c77a8",
        "colab": {
          "base_uri": "https://localhost:8080/"
        }
      },
      "execution_count": 113,
      "outputs": [
        {
          "output_type": "stream",
          "name": "stdout",
          "text": [
            "{'+1111111': 'Annya', '+3333333': 'Zukhra', '+2222222': 'Masha', '+6666666': 'Dasha'}\n",
            "{'+2222222': 'Masha', '+6666666': 'Dasha'}\n"
          ]
        }
      ]
    },
    {
      "cell_type": "markdown",
      "source": [
        "## Перебор словаря\n",
        "\n",
        "Для перебора словаря можно воспользоваться циклом for:"
      ],
      "metadata": {
        "id": "wLuNTyAiJFuT"
      }
    },
    {
      "cell_type": "code",
      "source": [
        "users = {\n",
        "    \"+11111111\": \"Annya\",\n",
        "    \"+33333333\": \"Zukhra\",\n",
        "    \"+55555555\": \"Alice\"\n",
        "}\n",
        "for key in users:\n",
        "    print(f\"Phone: {key}  User: {users[key]} \")"
      ],
      "metadata": {
        "id": "XI0v29akJV8U",
        "outputId": "65a0c1dc-3d72-4aac-9328-7e401e838a23",
        "colab": {
          "base_uri": "https://localhost:8080/"
        }
      },
      "execution_count": 114,
      "outputs": [
        {
          "output_type": "stream",
          "name": "stdout",
          "text": [
            "Phone: +11111111  User: Annya \n",
            "Phone: +33333333  User: Zukhra \n",
            "Phone: +55555555  User: Alice \n"
          ]
        }
      ]
    },
    {
      "cell_type": "markdown",
      "source": [
        "Другой способ перебора элементов представляет использование метода items():"
      ],
      "metadata": {
        "id": "JcXQVlSTJaw1"
      }
    },
    {
      "cell_type": "code",
      "source": [
        "users = {\n",
        "    \"+11111111\": \"Annya\",\n",
        "    \"+33333333\": \"Zukhra\",\n",
        "    \"+55555555\": \"Alice\"\n",
        "}\n",
        "\n",
        "for key, value in users.items():\n",
        "    print(f\"Phone: {key}  User: {value} \")"
      ],
      "metadata": {
        "id": "5eCbno5RJfYn",
        "outputId": "81e0d043-0c17-40cf-8100-7e81e51d37dc",
        "colab": {
          "base_uri": "https://localhost:8080/"
        }
      },
      "execution_count": 115,
      "outputs": [
        {
          "output_type": "stream",
          "name": "stdout",
          "text": [
            "Phone: +11111111  User: Annya \n",
            "Phone: +33333333  User: Zukhra \n",
            "Phone: +55555555  User: Alice \n"
          ]
        }
      ]
    },
    {
      "cell_type": "markdown",
      "source": [
        "Также существуют отдельно возможности перебора ключей и перебора значений. Для перебора ключей мы можем вызвать у словаря метод keys():"
      ],
      "metadata": {
        "id": "greaMuXYJiuV"
      }
    },
    {
      "cell_type": "code",
      "source": [
        "users = {\n",
        "    \"+11111111\": \"Annya\",\n",
        "    \"+33333333\": \"Zukhra\",\n",
        "    \"+55555555\": \"Alice\"\n",
        "}\n",
        "\n",
        "for key in users.keys():\n",
        "    print(key)"
      ],
      "metadata": {
        "id": "BMQO8rtAJmQb",
        "outputId": "73048e97-5680-4221-aa40-1fdb3eb1e6b9",
        "colab": {
          "base_uri": "https://localhost:8080/"
        }
      },
      "execution_count": 116,
      "outputs": [
        {
          "output_type": "stream",
          "name": "stdout",
          "text": [
            "+11111111\n",
            "+33333333\n",
            "+55555555\n"
          ]
        }
      ]
    },
    {
      "cell_type": "markdown",
      "source": [
        "Для перебора только значений мы можем вызвать у словаря метод values():"
      ],
      "metadata": {
        "id": "wHd2wNhcJqWO"
      }
    },
    {
      "cell_type": "code",
      "source": [
        "users = {\n",
        "    \"+11111111\": \"Annya\",\n",
        "    \"+33333333\": \"Zukhra\",\n",
        "    \"+55555555\": \"Alice\"\n",
        "}\n",
        "\n",
        "for value in users.values():\n",
        "    print(value)"
      ],
      "metadata": {
        "id": "fJamAjJ0JuZF",
        "outputId": "0dc5c26a-020d-4b5f-9384-8aae1f5b6fc4",
        "colab": {
          "base_uri": "https://localhost:8080/"
        }
      },
      "execution_count": 118,
      "outputs": [
        {
          "output_type": "stream",
          "name": "stdout",
          "text": [
            "Annya\n",
            "Zukhra\n",
            "Alice\n"
          ]
        }
      ]
    },
    {
      "cell_type": "markdown",
      "source": [
        "## Комплексные словари\n",
        "\n",
        "Кроме простейших объектов типа чисел и строк словари также могут хранить и более сложные объекты - те же списки, кортежи или другие словари:"
      ],
      "metadata": {
        "id": "mfEmtei6Jzpn"
      }
    },
    {
      "cell_type": "code",
      "source": [
        "users = {\n",
        "    \"Annya\": {\n",
        "        \"phone\": \"+971478745\",\n",
        "        \"email\": \"annusha@gmail.com\"\n",
        "    },\n",
        "    \"Zukhra\": {\n",
        "        \"phone\": \"+876390444\",\n",
        "        \"email\": \"zukha@gmail.com\",\n",
        "        \"skype\": \"zukha123\"\n",
        "    }\n",
        "}\n",
        "\n",
        "print(users)"
      ],
      "metadata": {
        "id": "N1TtjTZlJ3uO",
        "outputId": "1e9815e0-b06a-490f-dfc9-c9e74a4fbe96",
        "colab": {
          "base_uri": "https://localhost:8080/"
        }
      },
      "execution_count": 120,
      "outputs": [
        {
          "output_type": "stream",
          "name": "stdout",
          "text": [
            "{'Annya': {'phone': '+971478745', 'email': 'annusha@gmail.com'}, 'Zukhra': {'phone': '+876390444', 'email': 'zukha@gmail.com', 'skype': 'zukha123'}}\n"
          ]
        }
      ]
    },
    {
      "cell_type": "markdown",
      "source": [
        "Для обращения к элементам вложенного словаря соответственно необходимо использовать два ключа:"
      ],
      "metadata": {
        "id": "ScByCniTKIfe"
      }
    },
    {
      "cell_type": "code",
      "source": [
        "old_email = users[\"Annya\"][\"email\"]\n",
        "users[\"Annya\"][\"email\"] = \"superannya@gmail.com\"\n",
        "print(users[\"Annya\"])     # { phone\": \"+971478745\", \"email\": \"supertom@gmail.com }"
      ],
      "metadata": {
        "id": "88k1psOnKI-g",
        "outputId": "67e82efd-5c20-41a1-ca12-1e35e5488384",
        "colab": {
          "base_uri": "https://localhost:8080/"
        }
      },
      "execution_count": 122,
      "outputs": [
        {
          "output_type": "stream",
          "name": "stdout",
          "text": [
            "{'phone': '+971478745', 'email': 'superannya@gmail.com'}\n"
          ]
        }
      ]
    },
    {
      "cell_type": "markdown",
      "source": [
        "Но если мы попробуем получить значение по ключу, который отсутствует в словаре, Python сгенерирует исключение KeyError:"
      ],
      "metadata": {
        "id": "CumAbN9WKCjS"
      }
    },
    {
      "cell_type": "code",
      "source": [
        "anna_skype = users[\"Annya\"][\"skype\"]   # KeyError"
      ],
      "metadata": {
        "id": "_RmNOHiNKWQV",
        "outputId": "a1f1bf58-77e4-48db-fda4-7cf74b37516c",
        "colab": {
          "base_uri": "https://localhost:8080/",
          "height": 175
        }
      },
      "execution_count": 123,
      "outputs": [
        {
          "output_type": "error",
          "ename": "KeyError",
          "evalue": "ignored",
          "traceback": [
            "\u001b[0;31m---------------------------------------------------------------------------\u001b[0m",
            "\u001b[0;31mKeyError\u001b[0m                                  Traceback (most recent call last)",
            "\u001b[0;32m<ipython-input-123-f5945869694c>\u001b[0m in \u001b[0;36m<cell line: 1>\u001b[0;34m()\u001b[0m\n\u001b[0;32m----> 1\u001b[0;31m \u001b[0manna_skype\u001b[0m \u001b[0;34m=\u001b[0m \u001b[0musers\u001b[0m\u001b[0;34m[\u001b[0m\u001b[0;34m\"Annya\"\u001b[0m\u001b[0;34m]\u001b[0m\u001b[0;34m[\u001b[0m\u001b[0;34m\"skype\"\u001b[0m\u001b[0;34m]\u001b[0m   \u001b[0;31m# KeyError\u001b[0m\u001b[0;34m\u001b[0m\u001b[0;34m\u001b[0m\u001b[0m\n\u001b[0m",
            "\u001b[0;31mKeyError\u001b[0m: 'skype'"
          ]
        }
      ]
    },
    {
      "cell_type": "markdown",
      "source": [
        "Чтобы избежать ошибки, можно проверять наличие ключа в словаре:"
      ],
      "metadata": {
        "id": "QZmxmhK5Kbce"
      }
    },
    {
      "cell_type": "code",
      "source": [
        "key = \"skype\"\n",
        "if key in users[\"Annya\"]:\n",
        "    print(users[\"Annya\"][\"skype\"])\n",
        "else:\n",
        "    print(\"skype is not found\")"
      ],
      "metadata": {
        "id": "GfF4gi5VKeFV",
        "outputId": "d17fc48c-10af-42fd-854a-3f411e1c0746",
        "colab": {
          "base_uri": "https://localhost:8080/"
        }
      },
      "execution_count": 124,
      "outputs": [
        {
          "output_type": "stream",
          "name": "stdout",
          "text": [
            "skype is not found\n"
          ]
        }
      ]
    },
    {
      "cell_type": "markdown",
      "source": [
        "**Задача: Работа с использованием словарей в Python**\n",
        "\n",
        "1. Создайте словарь с именем \"person\", содержащий следующие данные о человеке:\n",
        "\n",
        "* Имя (name)\n",
        "* Возраст (age)\n",
        "* Город проживания (city)\n",
        "* Адрес электронной почты (email)\n",
        "\n",
        "2. Выведите на экран имя и возраст человека.\n",
        "\n",
        "3. Измените возраст человека на один год.\n",
        "\n",
        "4. Добавьте в словарь новый элемент, представляющий номер телефона человека.\n",
        "\n",
        "5. Удалите адрес электронной почты из словаря.\n",
        "\n",
        "6. Проверьте, указан ли адрес электронной почты в словаре. Если да, выведите его значение, иначе выведите сообщение о том, что адрес электронной почты не указан.\n",
        "\n",
        "7. Выведите на экран все ключи и значения в словаре \"person\".\n",
        "\n",
        "8. Выведите на экран все значения в словаре \"person\".\n",
        "\n",
        "9. Выведите на экран все пары ключ-значение в словаре \"person\".\n",
        "\n",
        "10. Перечислите все действия, которые вы выполнили с использованием словаря в этой задаче.\n"
      ],
      "metadata": {
        "id": "39XIrNSHKjjx"
      }
    },
    {
      "cell_type": "code",
      "source": [
        "# Создание словаря\n",
        "person = {\n",
        "    \"name\": \"Alice\",\n",
        "    \"age\": 25,\n",
        "    \"city\": \"New York\",\n",
        "    \"email\": \"alice@example.com\"\n",
        "}\n",
        "\n",
        "# Вывод на экран имени и возраста человека\n",
        "print(person[\"name\"])  # Выводит: Alice\n",
        "print(person[\"age\"])   # Выводит: 25\n",
        "\n",
        "# Изменение значения возраста\n",
        "person[\"age\"] = 26\n",
        "\n",
        "# Добавление новой пары ключ-значение для номера телефона\n",
        "person[\"phone\"] = \"123-456-7890\"\n",
        "\n",
        "# Удаление элемента по ключу\n",
        "del person[\"email\"]\n",
        "\n",
        "# Проверка наличия ключа в словаре\n",
        "if \"email\" in person:\n",
        "    print(\"Email:\", person[\"email\"])\n",
        "else:\n",
        "    print(\"Email не указан\")\n",
        "\n",
        "# Вывод всех ключей и значений в словаре\n",
        "print(\"Ключи и значения в словаре:\")\n",
        "for key, value in person.items():\n",
        "    print(key, \":\", value)\n",
        "\n",
        "# Вывод всех значений в словаре\n",
        "print(\"Значения в словаре:\")\n",
        "for value in person.values():\n",
        "    print(value)\n",
        "\n",
        "# Вывод всех пар ключ-значение в словаре\n",
        "print(\"Пары ключ-значение в словаре:\")\n",
        "for key, value in person.items():\n",
        "    print(key, \":\", value)\n"
      ],
      "metadata": {
        "id": "6bUnH2vdLYHU",
        "outputId": "a13f0ed6-1ccb-4af7-ed2a-02b4a119b2bf",
        "colab": {
          "base_uri": "https://localhost:8080/"
        }
      },
      "execution_count": 125,
      "outputs": [
        {
          "output_type": "stream",
          "name": "stdout",
          "text": [
            "Alice\n",
            "25\n",
            "Email не указан\n",
            "Ключи и значения в словаре:\n",
            "name : Alice\n",
            "age : 26\n",
            "city : New York\n",
            "phone : 123-456-7890\n",
            "Значения в словаре:\n",
            "Alice\n",
            "26\n",
            "New York\n",
            "123-456-7890\n",
            "Пары ключ-значение в словаре:\n",
            "name : Alice\n",
            "age : 26\n",
            "city : New York\n",
            "phone : 123-456-7890\n"
          ]
        }
      ]
    },
    {
      "cell_type": "markdown",
      "source": [
        "# Множества"
      ],
      "metadata": {
        "id": "Z3dCT3q4Lejp"
      }
    }
  ]
}