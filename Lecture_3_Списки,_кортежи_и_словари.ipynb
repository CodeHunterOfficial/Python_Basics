{
  "nbformat": 4,
  "nbformat_minor": 0,
  "metadata": {
    "colab": {
      "provenance": [],
      "authorship_tag": "ABX9TyPmp3EuNHBB39HvDFeCywBA",
      "include_colab_link": true
    },
    "kernelspec": {
      "name": "python3",
      "display_name": "Python 3"
    },
    "language_info": {
      "name": "python"
    }
  },
  "cells": [
    {
      "cell_type": "markdown",
      "metadata": {
        "id": "view-in-github",
        "colab_type": "text"
      },
      "source": [
        "<a href=\"https://colab.research.google.com/github/CodeHunterOfficial/Python_Basics/blob/main/Lecture_3_%D0%A1%D0%BF%D0%B8%D1%81%D0%BA%D0%B8%2C_%D0%BA%D0%BE%D1%80%D1%82%D0%B5%D0%B6%D0%B8_%D0%B8_%D1%81%D0%BB%D0%BE%D0%B2%D0%B0%D1%80%D0%B8.ipynb\" target=\"_parent\"><img src=\"https://colab.research.google.com/assets/colab-badge.svg\" alt=\"Open In Colab\"/></a>"
      ]
    },
    {
      "cell_type": "markdown",
      "source": [
        "# Списки, кортежи и словари"
      ],
      "metadata": {
        "id": "SXT83mMk_fis"
      }
    },
    {
      "cell_type": "markdown",
      "source": [
        "## Список\n"
      ],
      "metadata": {
        "id": "yjIenoTz_hOw"
      }
    },
    {
      "cell_type": "markdown",
      "source": [
        "Для работы с наборами данных Python предоставляет такие встроенные типы как списки, кортежи и словари.\n",
        "\n",
        "Список (list) представляет тип данных, который хранит набор или последовательность элементов. Во многих языках программирования есть аналогичная структура данных, которая называется массив.\n",
        "\n"
      ],
      "metadata": {
        "id": "IbQoyfhR_kCK"
      }
    },
    {
      "cell_type": "markdown",
      "source": [
        "### Создание списка\n",
        "\n",
        "Для создания списка применяются квадратные скобки [], внутри которых через запятую перечисляются элементы списка. Например, определим список чисел:"
      ],
      "metadata": {
        "id": "JCs9rldc_pje"
      }
    }
  ]
}