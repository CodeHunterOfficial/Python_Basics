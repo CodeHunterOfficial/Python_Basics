{
  "cells": [
    {
      "cell_type": "markdown",
      "metadata": {
        "id": "view-in-github",
        "colab_type": "text"
      },
      "source": [
        "<a href=\"https://colab.research.google.com/github/CodeHunterOfficial/Python_Basics/blob/main/Lecture_10_1_IMinuit.ipynb\" target=\"_parent\"><img src=\"https://colab.research.google.com/assets/colab-badge.svg\" alt=\"Open In Colab\"/></a>"
      ]
    },
    {
      "cell_type": "markdown",
      "metadata": {
        "id": "xABoU7CxypUr"
      },
      "source": [
        "# IMinuit\n",
        "\n",
        "Minuit - программа численной минимизации функций многих переменных, широко применяемая в физике элементарных частиц. Есть два питонских интерфейса, PyMinuit и IMinuit (он особенно удобен в ipython)."
      ]
    },
    {
      "cell_type": "code",
      "source": [
        "!pip install iminuit"
      ],
      "metadata": {
        "colab": {
          "base_uri": "https://localhost:8080/"
        },
        "id": "KUdZa_xNzP8L",
        "outputId": "2dc769b6-6da5-466c-ddec-05a6691eb3ba"
      },
      "execution_count": null,
      "outputs": [
        {
          "output_type": "stream",
          "name": "stdout",
          "text": [
            "Looking in indexes: https://pypi.org/simple, https://us-python.pkg.dev/colab-wheels/public/simple/\n",
            "Requirement already satisfied: iminuit in /usr/local/lib/python3.7/dist-packages (2.17.0)\n",
            "Requirement already satisfied: numpy in /usr/local/lib/python3.7/dist-packages (from iminuit) (1.21.6)\n"
          ]
        }
      ]
    },
    {
      "cell_type": "code",
      "execution_count": null,
      "metadata": {
        "colab": {
          "base_uri": "https://localhost:8080/"
        },
        "id": "seWH1c5-ypUu",
        "outputId": "09877ec9-104e-4a55-b61f-1dc4f22a432f"
      },
      "outputs": [
        {
          "output_type": "stream",
          "name": "stdout",
          "text": [
            "Populating the interactive namespace from numpy and matplotlib\n"
          ]
        },
        {
          "output_type": "stream",
          "name": "stderr",
          "text": [
            "/usr/local/lib/python3.7/dist-packages/IPython/core/magics/pylab.py:160: UserWarning: pylab import has clobbered these variables: ['f']\n",
            "`%matplotlib` prevents importing * from pylab and numpy\n",
            "  \"\\n`%matplotlib` prevents importing * from pylab and numpy\"\n"
          ]
        }
      ],
      "source": [
        "from iminuit import Minuit\n",
        "%pylab inline"
      ]
    },
    {
      "cell_type": "markdown",
      "metadata": {
        "id": "Ma7J3V0yypUw"
      },
      "source": [
        "## Простой пример\n",
        "\n",
        "Определим квадратичную функцию от двух параметров."
      ]
    },
    {
      "cell_type": "code",
      "execution_count": null,
      "metadata": {
        "collapsed": true,
        "id": "pVC-VNV5ypUw"
      },
      "outputs": [],
      "source": [
        "def f(a,b):\n",
        "    return 10*a**2+10*b**2-16*a*b+12*a-24*b"
      ]
    },
    {
      "cell_type": "code",
      "source": [
        "from iminuit import Minuit, describe\n",
        "describe(f)"
      ],
      "metadata": {
        "colab": {
          "base_uri": "https://localhost:8080/"
        },
        "id": "x_AdZ_PB1KUZ",
        "outputId": "6252e0ea-c2b4-4ed9-de88-8f0690dcd8f3"
      },
      "execution_count": null,
      "outputs": [
        {
          "output_type": "execute_result",
          "data": {
            "text/plain": [
              "['a', 'b']"
            ]
          },
          "metadata": {},
          "execution_count": 32
        }
      ]
    },
    {
      "cell_type": "markdown",
      "metadata": {
        "id": "hn6g18hdypUx"
      },
      "source": [
        "Создадим объект класса `Minuit`. `a` и `b` - грубые догадки, около чего надо искать минимум; `error_a` и `error_b` - оценки точности этих догадок (в начале минимизации программа будет делать шаги порядка этих величин, потом они будут уменьшаться). Пределы изменения задавать не обязательно. Валичина `errordef` показывает, насколько функция должна быть выше своего минимума, чтобы это считалось отклонением на одну сигму; поскольку минимизируемая функция - это, как правило, $\\chi^2$, значение 1 по умолчанию вполне годится."
      ]
    },
    {
      "cell_type": "code",
      "execution_count": null,
      "metadata": {
        "id": "Mr8S0FF_ypUx"
      },
      "outputs": [],
      "source": [
        "from iminuit import Minuit\n",
        "\n",
        "m=Minuit(f, a=5, b=5)\n",
        "# set step size with error_<name>=... keyword\n",
        "#m=Minuit(f, a=5, b=5, error_a=0.1, error_b=0.1)\n",
        "#m=Minuit(f,a=0,error_a=1,limit_a=(-10, 10), b=0,error_b=1,limit_b=(-10, 10))"
      ]
    },
    {
      "cell_type": "markdown",
      "metadata": {
        "id": "nMKb72hwypUx"
      },
      "source": [
        "Наиболее популярный метод минимизации - `migrad`."
      ]
    },
    {
      "cell_type": "code",
      "execution_count": null,
      "metadata": {
        "colab": {
          "base_uri": "https://localhost:8080/",
          "height": 279
        },
        "id": "S_qUyY3iypUx",
        "outputId": "6e7d0b00-cdf5-476e-c2bd-a53881e76aac"
      },
      "outputs": [
        {
          "output_type": "execute_result",
          "data": {
            "text/plain": [
              "┌─────────────────────────────────────────────────────────────────────────┐\n",
              "│                                Migrad                                   │\n",
              "├──────────────────────────────────┬──────────────────────────────────────┤\n",
              "│ FCN = -18                        │              Nfcn = 31               │\n",
              "│ EDM = 1.25e-20 (Goal: 0.0002)    │                                      │\n",
              "├──────────────────────────────────┼──────────────────────────────────────┤\n",
              "│          Valid Minimum           │        No Parameters at limit        │\n",
              "├──────────────────────────────────┼──────────────────────────────────────┤\n",
              "│ Below EDM threshold (goal x 10)  │           Below call limit           │\n",
              "├───────────────┬──────────────────┼───────────┬─────────────┬────────────┤\n",
              "│  Covariance   │     Hesse ok     │ Accurate  │  Pos. def.  │ Not forced │\n",
              "└───────────────┴──────────────────┴───────────┴─────────────┴────────────┘\n",
              "┌───┬──────┬───────────┬───────────┬────────────┬────────────┬─────────┬─────────┬───────┐\n",
              "│   │ Name │   Value   │ Hesse Err │ Minos Err- │ Minos Err+ │ Limit-  │ Limit+  │ Fixed │\n",
              "├───┼──────┼───────────┼───────────┼────────────┼────────────┼─────────┼─────────┼───────┤\n",
              "│ 0 │ a    │    1.0    │    0.5    │            │            │         │         │       │\n",
              "│ 1 │ b    │    2.0    │    0.5    │            │            │         │         │       │\n",
              "└───┴──────┴───────────┴───────────┴────────────┴────────────┴─────────┴─────────┴───────┘\n",
              "┌───┬─────────────┐\n",
              "│   │     a     b │\n",
              "├───┼─────────────┤\n",
              "│ a │ 0.278 0.222 │\n",
              "│ b │ 0.222 0.278 │\n",
              "└───┴─────────────┘"
            ],
            "text/html": [
              "<table>\n",
              "    <tr>\n",
              "        <th colspan=\"5\" style=\"text-align:center\" title=\"Minimizer\"> Migrad </th>\n",
              "    </tr>\n",
              "    <tr>\n",
              "        <td colspan=\"2\" style=\"text-align:left\" title=\"Minimum value of function\"> FCN = -18 </td>\n",
              "        <td colspan=\"3\" style=\"text-align:center\" title=\"Total number of function and (optional) gradient evaluations\"> Nfcn = 31 </td>\n",
              "    </tr>\n",
              "    <tr>\n",
              "        <td colspan=\"2\" style=\"text-align:left\" title=\"Estimated distance to minimum and goal\"> EDM = 1.25e-20 (Goal: 0.0002) </td>\n",
              "        <td colspan=\"3\" style=\"text-align:center\" title=\"Total run time of algorithms\">  </td>\n",
              "    </tr>\n",
              "    <tr>\n",
              "        <td colspan=\"2\" style=\"text-align:center;background-color:#92CCA6;color:black\"> Valid Minimum </td>\n",
              "        <td colspan=\"3\" style=\"text-align:center;background-color:#92CCA6;color:black\"> No Parameters at limit </td>\n",
              "    </tr>\n",
              "    <tr>\n",
              "        <td colspan=\"2\" style=\"text-align:center;background-color:#92CCA6;color:black\"> Below EDM threshold (goal x 10) </td>\n",
              "        <td colspan=\"3\" style=\"text-align:center;background-color:#92CCA6;color:black\"> Below call limit </td>\n",
              "    </tr>\n",
              "    <tr>\n",
              "        <td style=\"text-align:center;background-color:#92CCA6;color:black\"> Covariance </td>\n",
              "        <td style=\"text-align:center;background-color:#92CCA6;color:black\"> Hesse ok </td>\n",
              "        <td style=\"text-align:center;background-color:#92CCA6;color:black\" title=\"Is covariance matrix accurate?\"> Accurate </td>\n",
              "        <td style=\"text-align:center;background-color:#92CCA6;color:black\" title=\"Is covariance matrix positive definite?\"> Pos. def. </td>\n",
              "        <td style=\"text-align:center;background-color:#92CCA6;color:black\" title=\"Was positive definiteness enforced by Minuit?\"> Not forced </td>\n",
              "    </tr>\n",
              "</table><table>\n",
              "    <tr>\n",
              "        <td></td>\n",
              "        <th title=\"Variable name\"> Name </th>\n",
              "        <th title=\"Value of parameter\"> Value </th>\n",
              "        <th title=\"Hesse error\"> Hesse Error </th>\n",
              "        <th title=\"Minos lower error\"> Minos Error- </th>\n",
              "        <th title=\"Minos upper error\"> Minos Error+ </th>\n",
              "        <th title=\"Lower limit of the parameter\"> Limit- </th>\n",
              "        <th title=\"Upper limit of the parameter\"> Limit+ </th>\n",
              "        <th title=\"Is the parameter fixed in the fit\"> Fixed </th>\n",
              "    </tr>\n",
              "    <tr>\n",
              "        <th> 0 </th>\n",
              "        <td> a </td>\n",
              "        <td> 1.0 </td>\n",
              "        <td> 0.5 </td>\n",
              "        <td>  </td>\n",
              "        <td>  </td>\n",
              "        <td>  </td>\n",
              "        <td>  </td>\n",
              "        <td>  </td>\n",
              "    </tr>\n",
              "    <tr>\n",
              "        <th> 1 </th>\n",
              "        <td> b </td>\n",
              "        <td> 2.0 </td>\n",
              "        <td> 0.5 </td>\n",
              "        <td>  </td>\n",
              "        <td>  </td>\n",
              "        <td>  </td>\n",
              "        <td>  </td>\n",
              "        <td>  </td>\n",
              "    </tr>\n",
              "</table><table>\n",
              "    <tr>\n",
              "        <td></td>\n",
              "        <th> a </th>\n",
              "        <th> b </th>\n",
              "    </tr>\n",
              "    <tr>\n",
              "        <th> a </th>\n",
              "        <td> 0.278 </td>\n",
              "        <td style=\"background-color:rgb(250,130,130);color:black\"> 0.222 <strong>(0.800)</strong> </td>\n",
              "    </tr>\n",
              "    <tr>\n",
              "        <th> b </th>\n",
              "        <td style=\"background-color:rgb(250,130,130);color:black\"> 0.222 <strong>(0.800)</strong> </td>\n",
              "        <td> 0.278 </td>\n",
              "    </tr>\n",
              "</table>"
            ]
          },
          "metadata": {},
          "execution_count": 34
        }
      ],
      "source": [
        "m.migrad()"
      ]
    },
    {
      "cell_type": "markdown",
      "metadata": {
        "id": "8z3wazbDypUy"
      },
      "source": [
        "Значения параметров."
      ]
    },
    {
      "cell_type": "code",
      "execution_count": null,
      "metadata": {
        "colab": {
          "base_uri": "https://localhost:8080/"
        },
        "id": "gdSI3T4HypUy",
        "outputId": "260b7f62-81ff-405e-f9a5-5910601be156"
      },
      "outputs": [
        {
          "output_type": "execute_result",
          "data": {
            "text/plain": [
              "<ValueView a=1.0000000000433014 b=2.0000000000541194>"
            ]
          },
          "metadata": {},
          "execution_count": 35
        }
      ],
      "source": [
        "m.values"
      ]
    },
    {
      "cell_type": "markdown",
      "metadata": {
        "id": "G6rbMkp0ypUy"
      },
      "source": [
        "Значение функции в точке минимума."
      ]
    },
    {
      "cell_type": "code",
      "execution_count": null,
      "metadata": {
        "colab": {
          "base_uri": "https://localhost:8080/"
        },
        "id": "7vqSMpoUypUy",
        "outputId": "6ae29a64-a309-4a7f-dae3-b05e4d65a6ce"
      },
      "outputs": [
        {
          "output_type": "execute_result",
          "data": {
            "text/plain": [
              "-17.999999999999996"
            ]
          },
          "metadata": {},
          "execution_count": 36
        }
      ],
      "source": [
        "m.fval"
      ]
    },
    {
      "cell_type": "markdown",
      "metadata": {
        "id": "Dqhc6ZSdypUz"
      },
      "source": [
        "Ошибки параметров."
      ]
    },
    {
      "cell_type": "code",
      "execution_count": null,
      "metadata": {
        "colab": {
          "base_uri": "https://localhost:8080/"
        },
        "id": "Lmv_fpVdypUz",
        "outputId": "a927e374-8603-4efc-e08c-dbc0691cdf32"
      },
      "outputs": [
        {
          "output_type": "execute_result",
          "data": {
            "text/plain": [
              "<ErrorView a=0.5270462767576469 b=0.5270462771827125>"
            ]
          },
          "metadata": {},
          "execution_count": 37
        }
      ],
      "source": [
        "m.errors"
      ]
    },
    {
      "cell_type": "code",
      "source": [
        "# calling hesse explicitly\n",
        "#явный вызов Гессе\n",
        "m.hesse()"
      ],
      "metadata": {
        "colab": {
          "base_uri": "https://localhost:8080/",
          "height": 279
        },
        "id": "Sz9rOx9E4DsI",
        "outputId": "1c2f8820-2dc4-49a9-ca46-9eed726dffd1"
      },
      "execution_count": null,
      "outputs": [
        {
          "output_type": "execute_result",
          "data": {
            "text/plain": [
              "┌─────────────────────────────────────────────────────────────────────────┐\n",
              "│                                Migrad                                   │\n",
              "├──────────────────────────────────┬──────────────────────────────────────┤\n",
              "│ FCN = -18                        │              Nfcn = 51               │\n",
              "│ EDM = 1.09e-20 (Goal: 0.0002)    │                                      │\n",
              "├──────────────────────────────────┼──────────────────────────────────────┤\n",
              "│          Valid Minimum           │        No Parameters at limit        │\n",
              "├──────────────────────────────────┼──────────────────────────────────────┤\n",
              "│ Below EDM threshold (goal x 10)  │           Below call limit           │\n",
              "├───────────────┬──────────────────┼───────────┬─────────────┬────────────┤\n",
              "│  Covariance   │     Hesse ok     │ Accurate  │  Pos. def.  │ Not forced │\n",
              "└───────────────┴──────────────────┴───────────┴─────────────┴────────────┘\n",
              "┌───┬──────┬───────────┬───────────┬────────────┬────────────┬─────────┬─────────┬───────┐\n",
              "│   │ Name │   Value   │ Hesse Err │ Minos Err- │ Minos Err+ │ Limit-  │ Limit+  │ Fixed │\n",
              "├───┼──────┼───────────┼───────────┼────────────┼────────────┼─────────┼─────────┼───────┤\n",
              "│ 0 │ a    │    1.0    │    0.5    │            │            │         │         │       │\n",
              "│ 1 │ b    │    2.0    │    0.5    │            │            │         │         │       │\n",
              "└───┴──────┴───────────┴───────────┴────────────┴────────────┴─────────┴─────────┴───────┘\n",
              "┌───┬─────────────┐\n",
              "│   │     a     b │\n",
              "├───┼─────────────┤\n",
              "│ a │ 0.278 0.222 │\n",
              "│ b │ 0.222 0.278 │\n",
              "└───┴─────────────┘"
            ],
            "text/html": [
              "<table>\n",
              "    <tr>\n",
              "        <th colspan=\"5\" style=\"text-align:center\" title=\"Minimizer\"> Migrad </th>\n",
              "    </tr>\n",
              "    <tr>\n",
              "        <td colspan=\"2\" style=\"text-align:left\" title=\"Minimum value of function\"> FCN = -18 </td>\n",
              "        <td colspan=\"3\" style=\"text-align:center\" title=\"Total number of function and (optional) gradient evaluations\"> Nfcn = 51 </td>\n",
              "    </tr>\n",
              "    <tr>\n",
              "        <td colspan=\"2\" style=\"text-align:left\" title=\"Estimated distance to minimum and goal\"> EDM = 1.09e-20 (Goal: 0.0002) </td>\n",
              "        <td colspan=\"3\" style=\"text-align:center\" title=\"Total run time of algorithms\">  </td>\n",
              "    </tr>\n",
              "    <tr>\n",
              "        <td colspan=\"2\" style=\"text-align:center;background-color:#92CCA6;color:black\"> Valid Minimum </td>\n",
              "        <td colspan=\"3\" style=\"text-align:center;background-color:#92CCA6;color:black\"> No Parameters at limit </td>\n",
              "    </tr>\n",
              "    <tr>\n",
              "        <td colspan=\"2\" style=\"text-align:center;background-color:#92CCA6;color:black\"> Below EDM threshold (goal x 10) </td>\n",
              "        <td colspan=\"3\" style=\"text-align:center;background-color:#92CCA6;color:black\"> Below call limit </td>\n",
              "    </tr>\n",
              "    <tr>\n",
              "        <td style=\"text-align:center;background-color:#92CCA6;color:black\"> Covariance </td>\n",
              "        <td style=\"text-align:center;background-color:#92CCA6;color:black\"> Hesse ok </td>\n",
              "        <td style=\"text-align:center;background-color:#92CCA6;color:black\" title=\"Is covariance matrix accurate?\"> Accurate </td>\n",
              "        <td style=\"text-align:center;background-color:#92CCA6;color:black\" title=\"Is covariance matrix positive definite?\"> Pos. def. </td>\n",
              "        <td style=\"text-align:center;background-color:#92CCA6;color:black\" title=\"Was positive definiteness enforced by Minuit?\"> Not forced </td>\n",
              "    </tr>\n",
              "</table><table>\n",
              "    <tr>\n",
              "        <td></td>\n",
              "        <th title=\"Variable name\"> Name </th>\n",
              "        <th title=\"Value of parameter\"> Value </th>\n",
              "        <th title=\"Hesse error\"> Hesse Error </th>\n",
              "        <th title=\"Minos lower error\"> Minos Error- </th>\n",
              "        <th title=\"Minos upper error\"> Minos Error+ </th>\n",
              "        <th title=\"Lower limit of the parameter\"> Limit- </th>\n",
              "        <th title=\"Upper limit of the parameter\"> Limit+ </th>\n",
              "        <th title=\"Is the parameter fixed in the fit\"> Fixed </th>\n",
              "    </tr>\n",
              "    <tr>\n",
              "        <th> 0 </th>\n",
              "        <td> a </td>\n",
              "        <td> 1.0 </td>\n",
              "        <td> 0.5 </td>\n",
              "        <td>  </td>\n",
              "        <td>  </td>\n",
              "        <td>  </td>\n",
              "        <td>  </td>\n",
              "        <td>  </td>\n",
              "    </tr>\n",
              "    <tr>\n",
              "        <th> 1 </th>\n",
              "        <td> b </td>\n",
              "        <td> 2.0 </td>\n",
              "        <td> 0.5 </td>\n",
              "        <td>  </td>\n",
              "        <td>  </td>\n",
              "        <td>  </td>\n",
              "        <td>  </td>\n",
              "        <td>  </td>\n",
              "    </tr>\n",
              "</table><table>\n",
              "    <tr>\n",
              "        <td></td>\n",
              "        <th> a </th>\n",
              "        <th> b </th>\n",
              "    </tr>\n",
              "    <tr>\n",
              "        <th> a </th>\n",
              "        <td> 0.278 </td>\n",
              "        <td style=\"background-color:rgb(250,130,130);color:black\"> 0.222 <strong>(0.800)</strong> </td>\n",
              "    </tr>\n",
              "    <tr>\n",
              "        <th> b </th>\n",
              "        <td style=\"background-color:rgb(250,130,130);color:black\"> 0.222 <strong>(0.800)</strong> </td>\n",
              "        <td> 0.278 </td>\n",
              "    </tr>\n",
              "</table>"
            ]
          },
          "metadata": {},
          "execution_count": 42
        }
      ]
    },
    {
      "cell_type": "markdown",
      "metadata": {
        "id": "_3TbOvgcypUz"
      },
      "source": [
        "Если, скажем, $a$ - наш окончательный физический результат, то мы напишем в статье $a=1\\pm0.5$. На самом деле у нас есть больше информации, поскольку ошибки $a$ и $b$ сильно скоррелированы. Матрица корреляции ошибок:"
      ]
    },
    {
      "cell_type": "code",
      "execution_count": null,
      "metadata": {
        "colab": {
          "base_uri": "https://localhost:8080/",
          "height": 435
        },
        "id": "akvHLyR5ypUz",
        "outputId": "fd6190d9-1c22-47cb-f71c-4cc4c89ad750"
      },
      "outputs": [
        {
          "output_type": "stream",
          "name": "stderr",
          "text": [
            "100% (3 of 3) |##########################| Elapsed Time: 0:00:00 Time:  0:00:00\n"
          ]
        },
        {
          "output_type": "execute_result",
          "data": {
            "text/plain": [
              "(<Figure size 432x288 with 4 Axes>,\n",
              " array([[<matplotlib.axes._subplots.AxesSubplot object at 0x7f2735e50350>,\n",
              "         <matplotlib.axes._subplots.AxesSubplot object at 0x7f272e3a7d50>],\n",
              "        [<matplotlib.axes._subplots.AxesSubplot object at 0x7f272e3623d0>,\n",
              "         <matplotlib.axes._subplots.AxesSubplot object at 0x7f272e31f910>]],\n",
              "       dtype=object))"
            ]
          },
          "metadata": {},
          "execution_count": 43
        },
        {
          "output_type": "display_data",
          "data": {
            "text/plain": [
              "<Figure size 432x288 with 4 Axes>"
            ],
            "image/png": "[encoded data removed]"
          },
          "metadata": {
            "needs_background": "light"
          }
        }
      ],
      "source": [
        "m.draw_mnmatrix()\n"
      ]
    },
    {
      "cell_type": "markdown",
      "metadata": {
        "id": "N2YVjV2bypUz"
      },
      "source": [
        "Минимизация квадратичной формы сводится к решению системы линейных уравнений, а матрица корреляции ошибок - обратная матрица этой системы. В таком простом случае не имеет смысла использовать инструмент минимизации произвольных функций, такой, как Minuit."
      ]
    },
    {
      "cell_type": "code",
      "execution_count": null,
      "metadata": {
        "colab": {
          "base_uri": "https://localhost:8080/"
        },
        "id": "MX5qhrCPypU0",
        "outputId": "f91100ef-e31d-4580-9e18-8094204eb1f6"
      },
      "outputs": [
        {
          "output_type": "execute_result",
          "data": {
            "text/plain": [
              "array([[0.27777778, 0.22222222],\n",
              "       [0.22222222, 0.27777778]])"
            ]
          },
          "metadata": {},
          "execution_count": 44
        }
      ],
      "source": [
        "M=array([[10.,-8.],[-8.,10.]])\n",
        "M=inv(M)\n",
        "M"
      ]
    },
    {
      "cell_type": "code",
      "execution_count": null,
      "metadata": {
        "colab": {
          "base_uri": "https://localhost:8080/"
        },
        "id": "ouCBZBUEypU0",
        "outputId": "90885ef0-5445-4791-8cea-693f9de270ae"
      },
      "outputs": [
        {
          "output_type": "execute_result",
          "data": {
            "text/plain": [
              "array([[1.],\n",
              "       [2.]])"
            ]
          },
          "metadata": {},
          "execution_count": 45
        }
      ],
      "source": [
        "M@array([[-6],[12]])"
      ]
    },
    {
      "cell_type": "markdown",
      "metadata": {
        "id": "kcNjQA_WypU1"
      },
      "source": [
        "Нарисуем контуры, соответствующие отклонению на 1, 2 и 3 сигмы от оптимальной точки."
      ]
    },
    {
      "cell_type": "code",
      "execution_count": null,
      "metadata": {
        "colab": {
          "base_uri": "https://localhost:8080/",
          "height": 165
        },
        "id": "l4wd_y3DypU1",
        "outputId": "6b5682e5-a8ae-445e-911f-b42bc26c2152"
      },
      "outputs": [
        {
          "output_type": "error",
          "ename": "TypeError",
          "evalue": "ignored",
          "traceback": [
            "\u001b[0;31m---------------------------------------------------------------------------\u001b[0m",
            "\u001b[0;31mTypeError\u001b[0m                                 Traceback (most recent call last)",
            "\u001b[0;32m<ipython-input-46-d3f6c120f48c>\u001b[0m in \u001b[0;36m<module>\u001b[0;34m\u001b[0m\n\u001b[0;32m----> 1\u001b[0;31m \u001b[0mm\u001b[0m\u001b[0;34m.\u001b[0m\u001b[0mdraw_mncontour\u001b[0m\u001b[0;34m(\u001b[0m\u001b[0;34m'a'\u001b[0m\u001b[0;34m,\u001b[0m\u001b[0;34m'b'\u001b[0m\u001b[0;34m,\u001b[0m\u001b[0mnsigma\u001b[0m\u001b[0;34m=\u001b[0m\u001b[0;36m3\u001b[0m\u001b[0;34m)\u001b[0m\u001b[0;34m\u001b[0m\u001b[0;34m\u001b[0m\u001b[0m\n\u001b[0m",
            "\u001b[0;31mTypeError\u001b[0m: draw_mncontour() got an unexpected keyword argument 'nsigma'"
          ]
        }
      ],
      "source": [
        "m.draw_mncontour('a','b',nsigma=3)"
      ]
    },
    {
      "cell_type": "markdown",
      "metadata": {
        "id": "SSVIyVeTypU1"
      },
      "source": [
        "То же в виде цветов."
      ]
    },
    {
      "cell_type": "code",
      "execution_count": null,
      "metadata": {
        "colab": {
          "base_uri": "https://localhost:8080/",
          "height": 200
        },
        "id": "QzFmt_lRypU1",
        "outputId": "528f068e-a958-496b-ecb4-289810ace4b2"
      },
      "outputs": [
        {
          "output_type": "error",
          "ename": "AttributeError",
          "evalue": "ignored",
          "traceback": [
            "\u001b[0;31m---------------------------------------------------------------------------\u001b[0m",
            "\u001b[0;31mAttributeError\u001b[0m                            Traceback (most recent call last)",
            "\u001b[0;32m<ipython-input-47-e0b51d94977e>\u001b[0m in \u001b[0;36m<module>\u001b[0;34m\u001b[0m\n\u001b[0;32m----> 1\u001b[0;31m \u001b[0ma\u001b[0m\u001b[0;34m,\u001b[0m\u001b[0mb\u001b[0m\u001b[0;34m,\u001b[0m\u001b[0mg\u001b[0m\u001b[0;34m,\u001b[0m\u001b[0mr\u001b[0m\u001b[0;34m=\u001b[0m\u001b[0mm\u001b[0m\u001b[0;34m.\u001b[0m\u001b[0mmncontour_grid\u001b[0m\u001b[0;34m(\u001b[0m\u001b[0;34m'a'\u001b[0m\u001b[0;34m,\u001b[0m\u001b[0;34m'b'\u001b[0m\u001b[0;34m,\u001b[0m\u001b[0mnsigma\u001b[0m\u001b[0;34m=\u001b[0m\u001b[0;36m3\u001b[0m\u001b[0;34m)\u001b[0m\u001b[0;34m\u001b[0m\u001b[0;34m\u001b[0m\u001b[0m\n\u001b[0m\u001b[1;32m      2\u001b[0m \u001b[0mpcolormesh\u001b[0m\u001b[0;34m(\u001b[0m\u001b[0ma\u001b[0m\u001b[0;34m,\u001b[0m\u001b[0mb\u001b[0m\u001b[0;34m,\u001b[0m\u001b[0mg\u001b[0m\u001b[0;34m)\u001b[0m\u001b[0;34m\u001b[0m\u001b[0;34m\u001b[0m\u001b[0m\n\u001b[1;32m      3\u001b[0m \u001b[0mcolorbar\u001b[0m\u001b[0;34m(\u001b[0m\u001b[0;34m)\u001b[0m\u001b[0;34m\u001b[0m\u001b[0;34m\u001b[0m\u001b[0m\n",
            "\u001b[0;31mAttributeError\u001b[0m: 'Minuit' object has no attribute 'mncontour_grid'"
          ]
        }
      ],
      "source": [
        "a,b,g,r=m.mncontour_grid('a','b',nsigma=3)\n",
        "pcolormesh(a,b,g)\n",
        "colorbar()"
      ]
    },
    {
      "cell_type": "markdown",
      "metadata": {
        "id": "09gBhhFXypU2"
      },
      "source": [
        "## Дайте мне 3 параметра, и я профитирую слона. С 4 параметрами он будет махать хоботом.\n",
        "\n",
        "Пусть у нас есть экспериментальные данные, и мы хотим профитировать их прямой."
      ]
    },
    {
      "cell_type": "code",
      "execution_count": null,
      "metadata": {
        "collapsed": true,
        "id": "xN5lJ92KypU2"
      },
      "outputs": [],
      "source": [
        "def fit(a,b,x):\n",
        "    return a*x+b"
      ]
    },
    {
      "cell_type": "markdown",
      "metadata": {
        "id": "GU1L552DypU2"
      },
      "source": [
        "Данные не настоящие, а сгенерированные. Все имеют ошибки 0.1."
      ]
    },
    {
      "cell_type": "code",
      "execution_count": null,
      "metadata": {
        "collapsed": true,
        "id": "mjI2QTwxypU2"
      },
      "outputs": [],
      "source": [
        "x=linspace(0,1,11)\n",
        "dy=0.1*ones(11)\n",
        "y=x+dy*normal(size=11)"
      ]
    },
    {
      "cell_type": "markdown",
      "metadata": {
        "id": "830mFSUFypU2"
      },
      "source": [
        "Функция $\\chi^2$."
      ]
    },
    {
      "cell_type": "code",
      "execution_count": null,
      "metadata": {
        "collapsed": true,
        "id": "txqsg-fOypU2"
      },
      "outputs": [],
      "source": [
        "def chi2(a,b):\n",
        "    global x,y,dy\n",
        "    return (((y-fit(a,b,x))/dy)**2).sum()"
      ]
    },
    {
      "cell_type": "markdown",
      "metadata": {
        "id": "5d7_ykivypU3"
      },
      "source": [
        "Минимизируем."
      ]
    },
    {
      "cell_type": "code",
      "execution_count": null,
      "metadata": {
        "id": "R-O8NI8sypU3"
      },
      "outputs": [],
      "source": [
        "m=Minuit(chi2,a=0,b=0,error_a=1,error_b=1)"
      ]
    },
    {
      "cell_type": "code",
      "execution_count": null,
      "metadata": {
        "id": "6d2keEj8ypU3"
      },
      "outputs": [],
      "source": [
        "m.migrad()"
      ]
    },
    {
      "cell_type": "code",
      "execution_count": null,
      "metadata": {
        "id": "K6oDPSbtypU3"
      },
      "outputs": [],
      "source": [
        "m.values"
      ]
    },
    {
      "cell_type": "code",
      "execution_count": null,
      "metadata": {
        "id": "mgZNDbsWypU3"
      },
      "outputs": [],
      "source": [
        "m.fval"
      ]
    },
    {
      "cell_type": "code",
      "execution_count": null,
      "metadata": {
        "id": "88ObCnxqypU4"
      },
      "outputs": [],
      "source": [
        "m.matrix()"
      ]
    },
    {
      "cell_type": "code",
      "execution_count": null,
      "metadata": {
        "id": "GsxEkbl0ypU4"
      },
      "outputs": [],
      "source": [
        "m.draw_mncontour('a','b',nsigma=3)"
      ]
    },
    {
      "cell_type": "code",
      "execution_count": null,
      "metadata": {
        "id": "vFrg8oTtypU4"
      },
      "outputs": [],
      "source": [
        "a,b,g,r=m.mncontour_grid('a','b',nsigma=3)\n",
        "pcolormesh(a,b,g)\n",
        "colorbar()"
      ]
    },
    {
      "cell_type": "markdown",
      "metadata": {
        "id": "_NGS0Th7ypU4"
      },
      "source": [
        "Нарисуем на одном графике экспериментальные точки, наш фит (сплошная линия) и истинную теоретическую кривую (пунктир)."
      ]
    },
    {
      "cell_type": "code",
      "execution_count": null,
      "metadata": {
        "id": "gshbvaywypU5"
      },
      "outputs": [],
      "source": [
        "errorbar(x,y,dy,fmt='ro')\n",
        "xt=linspace(0,1,101)\n",
        "plot(xt,fit(m.values['a'],m.values['b'],xt),'b-')\n",
        "plot(xt,fit(1,0,xt),'g--')"
      ]
    },
    {
      "cell_type": "markdown",
      "metadata": {
        "id": "hgPUfjM0ypU5"
      },
      "source": [
        "Когда фитирующая функция есть линейная комбинация каких-то фиксированных функций с неизвестными коэффициентами, минимизация $\\chi^2$ сводится к решению системы линейных уравнений. Нет надобности использовать Minuit.\n",
        "\n",
        "## Резонанс без фона\n",
        "\n",
        "Пусть теперь наша фитирующая функция - Брейт-Вигнеровский резонанс (без фона), с двумя параметрами - положением и шириной (лучше бы ввести третий - высоту, но я не стал этого делать для простоты). Теперь $\\chi^2$ - сложная нелинейная функция параметров."
      ]
    },
    {
      "cell_type": "code",
      "execution_count": null,
      "metadata": {
        "collapsed": true,
        "id": "6u7Be0GXypU5"
      },
      "outputs": [],
      "source": [
        "def fit(x0,Gamma,x):\n",
        "    return 1/((x-x0)**2+Gamma**2)"
      ]
    },
    {
      "cell_type": "markdown",
      "metadata": {
        "id": "QPI5P7nTypU5"
      },
      "source": [
        "Вот наши экспериментальные данные (с ошибками 0.1)."
      ]
    },
    {
      "cell_type": "code",
      "execution_count": null,
      "metadata": {
        "collapsed": true,
        "id": "3_1_5ISNypU5"
      },
      "outputs": [],
      "source": [
        "x=linspace(-3,3,21)\n",
        "dy=0.1*ones(21)\n",
        "y=fit(0,1,x)+dy*normal(size=21)"
      ]
    },
    {
      "cell_type": "markdown",
      "metadata": {
        "id": "y4RngFXRypU6"
      },
      "source": [
        "Минимизируем $\\chi^2$."
      ]
    },
    {
      "cell_type": "code",
      "execution_count": null,
      "metadata": {
        "collapsed": true,
        "id": "aCAsBy6AypU6"
      },
      "outputs": [],
      "source": [
        "def chi2(x0,Gamma):\n",
        "    global x,y,dy\n",
        "    return (((y-fit(x0,Gamma,x))/dy)**2).sum()"
      ]
    },
    {
      "cell_type": "code",
      "execution_count": null,
      "metadata": {
        "id": "1-7Yv5CqypU6"
      },
      "outputs": [],
      "source": [
        "m=Minuit(chi2,x0=0,error_x0=1,Gamma=1,error_Gamma=1)"
      ]
    },
    {
      "cell_type": "code",
      "execution_count": null,
      "metadata": {
        "colab": {
          "base_uri": "https://localhost:8080/",
          "height": 279
        },
        "id": "TZbjiLzBypU6",
        "outputId": "3330c4a1-78d3-465c-80f1-5e74a1bed40b"
      },
      "outputs": [
        {
          "output_type": "execute_result",
          "data": {
            "text/plain": [
              "┌─────────────────────────────────────────────────────────────────────────┐\n",
              "│                                Migrad                                   │\n",
              "├──────────────────────────────────┬──────────────────────────────────────┤\n",
              "│ FCN = -18                        │              Nfcn = 825              │\n",
              "│ EDM = 1.01e-20 (Goal: 0.0002)    │                                      │\n",
              "├──────────────────────────────────┼──────────────────────────────────────┤\n",
              "│          Valid Minimum           │        No Parameters at limit        │\n",
              "├──────────────────────────────────┼──────────────────────────────────────┤\n",
              "│ Below EDM threshold (goal x 10)  │           Below call limit           │\n",
              "├───────────────┬──────────────────┼───────────┬─────────────┬────────────┤\n",
              "│  Covariance   │     Hesse ok     │ Accurate  │  Pos. def.  │ Not forced │\n",
              "└───────────────┴──────────────────┴───────────┴─────────────┴────────────┘\n",
              "┌───┬──────┬───────────┬───────────┬────────────┬────────────┬─────────┬─────────┬───────┐\n",
              "│   │ Name │   Value   │ Hesse Err │ Minos Err- │ Minos Err+ │ Limit-  │ Limit+  │ Fixed │\n",
              "├───┼──────┼───────────┼───────────┼────────────┼────────────┼─────────┼─────────┼───────┤\n",
              "│ 0 │ a    │    1.0    │    0.5    │            │            │         │         │       │\n",
              "│ 1 │ b    │    2.0    │    0.5    │            │            │         │         │       │\n",
              "└───┴──────┴───────────┴───────────┴────────────┴────────────┴─────────┴─────────┴───────┘\n",
              "┌───┬─────────────┐\n",
              "│   │     a     b │\n",
              "├───┼─────────────┤\n",
              "│ a │ 0.278 0.222 │\n",
              "│ b │ 0.222 0.278 │\n",
              "└───┴─────────────┘"
            ],
            "text/html": [
              "<table>\n",
              "    <tr>\n",
              "        <th colspan=\"5\" style=\"text-align:center\" title=\"Minimizer\"> Migrad </th>\n",
              "    </tr>\n",
              "    <tr>\n",
              "        <td colspan=\"2\" style=\"text-align:left\" title=\"Minimum value of function\"> FCN = -18 </td>\n",
              "        <td colspan=\"3\" style=\"text-align:center\" title=\"Total number of function and (optional) gradient evaluations\"> Nfcn = 825 </td>\n",
              "    </tr>\n",
              "    <tr>\n",
              "        <td colspan=\"2\" style=\"text-align:left\" title=\"Estimated distance to minimum and goal\"> EDM = 1.01e-20 (Goal: 0.0002) </td>\n",
              "        <td colspan=\"3\" style=\"text-align:center\" title=\"Total run time of algorithms\">  </td>\n",
              "    </tr>\n",
              "    <tr>\n",
              "        <td colspan=\"2\" style=\"text-align:center;background-color:#92CCA6;color:black\"> Valid Minimum </td>\n",
              "        <td colspan=\"3\" style=\"text-align:center;background-color:#92CCA6;color:black\"> No Parameters at limit </td>\n",
              "    </tr>\n",
              "    <tr>\n",
              "        <td colspan=\"2\" style=\"text-align:center;background-color:#92CCA6;color:black\"> Below EDM threshold (goal x 10) </td>\n",
              "        <td colspan=\"3\" style=\"text-align:center;background-color:#92CCA6;color:black\"> Below call limit </td>\n",
              "    </tr>\n",
              "    <tr>\n",
              "        <td style=\"text-align:center;background-color:#92CCA6;color:black\"> Covariance </td>\n",
              "        <td style=\"text-align:center;background-color:#92CCA6;color:black\"> Hesse ok </td>\n",
              "        <td style=\"text-align:center;background-color:#92CCA6;color:black\" title=\"Is covariance matrix accurate?\"> Accurate </td>\n",
              "        <td style=\"text-align:center;background-color:#92CCA6;color:black\" title=\"Is covariance matrix positive definite?\"> Pos. def. </td>\n",
              "        <td style=\"text-align:center;background-color:#92CCA6;color:black\" title=\"Was positive definiteness enforced by Minuit?\"> Not forced </td>\n",
              "    </tr>\n",
              "</table><table>\n",
              "    <tr>\n",
              "        <td></td>\n",
              "        <th title=\"Variable name\"> Name </th>\n",
              "        <th title=\"Value of parameter\"> Value </th>\n",
              "        <th title=\"Hesse error\"> Hesse Error </th>\n",
              "        <th title=\"Minos lower error\"> Minos Error- </th>\n",
              "        <th title=\"Minos upper error\"> Minos Error+ </th>\n",
              "        <th title=\"Lower limit of the parameter\"> Limit- </th>\n",
              "        <th title=\"Upper limit of the parameter\"> Limit+ </th>\n",
              "        <th title=\"Is the parameter fixed in the fit\"> Fixed </th>\n",
              "    </tr>\n",
              "    <tr>\n",
              "        <th> 0 </th>\n",
              "        <td> a </td>\n",
              "        <td> 1.0 </td>\n",
              "        <td> 0.5 </td>\n",
              "        <td>  </td>\n",
              "        <td>  </td>\n",
              "        <td>  </td>\n",
              "        <td>  </td>\n",
              "        <td>  </td>\n",
              "    </tr>\n",
              "    <tr>\n",
              "        <th> 1 </th>\n",
              "        <td> b </td>\n",
              "        <td> 2.0 </td>\n",
              "        <td> 0.5 </td>\n",
              "        <td>  </td>\n",
              "        <td>  </td>\n",
              "        <td>  </td>\n",
              "        <td>  </td>\n",
              "        <td>  </td>\n",
              "    </tr>\n",
              "</table><table>\n",
              "    <tr>\n",
              "        <td></td>\n",
              "        <th> a </th>\n",
              "        <th> b </th>\n",
              "    </tr>\n",
              "    <tr>\n",
              "        <th> a </th>\n",
              "        <td> 0.278 </td>\n",
              "        <td style=\"background-color:rgb(250,130,130);color:black\"> 0.222 <strong>(0.800)</strong> </td>\n",
              "    </tr>\n",
              "    <tr>\n",
              "        <th> b </th>\n",
              "        <td style=\"background-color:rgb(250,130,130);color:black\"> 0.222 <strong>(0.800)</strong> </td>\n",
              "        <td> 0.278 </td>\n",
              "    </tr>\n",
              "</table>"
            ]
          },
          "metadata": {},
          "execution_count": 51
        }
      ],
      "source": [
        "m.migrad()"
      ]
    },
    {
      "cell_type": "code",
      "execution_count": null,
      "metadata": {
        "colab": {
          "base_uri": "https://localhost:8080/"
        },
        "id": "Z8BmaViwypU6",
        "outputId": "940b419a-4177-4d98-9379-e6b0afaab298"
      },
      "outputs": [
        {
          "output_type": "execute_result",
          "data": {
            "text/plain": [
              "<ValueView a=1.0000000000433014 b=2.0000000000541194>"
            ]
          },
          "metadata": {},
          "execution_count": 52
        }
      ],
      "source": [
        "m.values"
      ]
    },
    {
      "cell_type": "code",
      "execution_count": null,
      "metadata": {
        "colab": {
          "base_uri": "https://localhost:8080/"
        },
        "id": "xQXYuzDDypU7",
        "outputId": "7f643957-c511-4015-8dee-85de16be170f"
      },
      "outputs": [
        {
          "output_type": "execute_result",
          "data": {
            "text/plain": [
              "-17.999999999999996"
            ]
          },
          "metadata": {},
          "execution_count": 53
        }
      ],
      "source": [
        "m.fval"
      ]
    },
    {
      "cell_type": "code",
      "execution_count": null,
      "metadata": {
        "colab": {
          "base_uri": "https://localhost:8080/"
        },
        "id": "InREteWSypU7",
        "outputId": "5f920da3-a4a4-4953-bb15-a85394d7eb44"
      },
      "outputs": [
        {
          "output_type": "execute_result",
          "data": {
            "text/plain": [
              "<ErrorView a=0.5270464487103346 b=0.5270465632194063>"
            ]
          },
          "metadata": {},
          "execution_count": 54
        }
      ],
      "source": [
        "m.errors"
      ]
    },
    {
      "cell_type": "code",
      "execution_count": null,
      "metadata": {
        "colab": {
          "base_uri": "https://localhost:8080/",
          "height": 165
        },
        "id": "hnPcmXxzypU7",
        "outputId": "135d50a9-785c-4585-e653-793e5f019872"
      },
      "outputs": [
        {
          "output_type": "error",
          "ename": "AttributeError",
          "evalue": "ignored",
          "traceback": [
            "\u001b[0;31m---------------------------------------------------------------------------\u001b[0m",
            "\u001b[0;31mAttributeError\u001b[0m                            Traceback (most recent call last)",
            "\u001b[0;32m<ipython-input-55-6baa14325619>\u001b[0m in \u001b[0;36m<module>\u001b[0;34m\u001b[0m\n\u001b[0;32m----> 1\u001b[0;31m \u001b[0mm\u001b[0m\u001b[0;34m.\u001b[0m\u001b[0mmatrix\u001b[0m\u001b[0;34m(\u001b[0m\u001b[0;34m)\u001b[0m\u001b[0;34m\u001b[0m\u001b[0;34m\u001b[0m\u001b[0m\n\u001b[0m",
            "\u001b[0;31mAttributeError\u001b[0m: 'Minuit' object has no attribute 'matrix'"
          ]
        }
      ],
      "source": [
        "m.matrix()"
      ]
    },
    {
      "cell_type": "code",
      "execution_count": null,
      "metadata": {
        "colab": {
          "base_uri": "https://localhost:8080/",
          "height": 165
        },
        "id": "-XdtKJrcypU7",
        "outputId": "2093a972-58b3-4a5f-a8de-423f929ce9f3"
      },
      "outputs": [
        {
          "output_type": "error",
          "ename": "TypeError",
          "evalue": "ignored",
          "traceback": [
            "\u001b[0;31m---------------------------------------------------------------------------\u001b[0m",
            "\u001b[0;31mTypeError\u001b[0m                                 Traceback (most recent call last)",
            "\u001b[0;32m<ipython-input-57-ecdd8a92335d>\u001b[0m in \u001b[0;36m<module>\u001b[0;34m\u001b[0m\n\u001b[0;32m----> 1\u001b[0;31m \u001b[0mm\u001b[0m\u001b[0;34m.\u001b[0m\u001b[0mdraw_mncontour\u001b[0m\u001b[0;34m(\u001b[0m\u001b[0;34m'x0'\u001b[0m\u001b[0;34m,\u001b[0m\u001b[0;34m'Gamma'\u001b[0m\u001b[0;34m,\u001b[0m\u001b[0mnsigma\u001b[0m\u001b[0;34m=\u001b[0m\u001b[0;36m3\u001b[0m\u001b[0;34m)\u001b[0m\u001b[0;34m\u001b[0m\u001b[0;34m\u001b[0m\u001b[0m\n\u001b[0m",
            "\u001b[0;31mTypeError\u001b[0m: draw_mncontour() got an unexpected keyword argument 'nsigma'"
          ]
        }
      ],
      "source": [
        "m.draw_mncontour('x0','Gamma',nsigma=3)"
      ]
    },
    {
      "cell_type": "code",
      "execution_count": null,
      "metadata": {
        "colab": {
          "base_uri": "https://localhost:8080/",
          "height": 200
        },
        "id": "p6LuBnIGypU7",
        "outputId": "87627724-8462-4890-cd26-fd3b6b9180ca"
      },
      "outputs": [
        {
          "output_type": "error",
          "ename": "AttributeError",
          "evalue": "ignored",
          "traceback": [
            "\u001b[0;31m---------------------------------------------------------------------------\u001b[0m",
            "\u001b[0;31mAttributeError\u001b[0m                            Traceback (most recent call last)",
            "\u001b[0;32m<ipython-input-56-631082e5e6e8>\u001b[0m in \u001b[0;36m<module>\u001b[0;34m\u001b[0m\n\u001b[0;32m----> 1\u001b[0;31m \u001b[0mx0\u001b[0m\u001b[0;34m,\u001b[0m\u001b[0mGamma\u001b[0m\u001b[0;34m,\u001b[0m\u001b[0mg\u001b[0m\u001b[0;34m,\u001b[0m\u001b[0mr\u001b[0m\u001b[0;34m=\u001b[0m\u001b[0mm\u001b[0m\u001b[0;34m.\u001b[0m\u001b[0mmncontour_grid\u001b[0m\u001b[0;34m(\u001b[0m\u001b[0;34m'x0'\u001b[0m\u001b[0;34m,\u001b[0m\u001b[0;34m'Gamma'\u001b[0m\u001b[0;34m,\u001b[0m\u001b[0mnsigma\u001b[0m\u001b[0;34m=\u001b[0m\u001b[0;36m3\u001b[0m\u001b[0;34m)\u001b[0m\u001b[0;34m\u001b[0m\u001b[0;34m\u001b[0m\u001b[0m\n\u001b[0m\u001b[1;32m      2\u001b[0m \u001b[0mpcolormesh\u001b[0m\u001b[0;34m(\u001b[0m\u001b[0mx0\u001b[0m\u001b[0;34m,\u001b[0m\u001b[0mGamma\u001b[0m\u001b[0;34m,\u001b[0m\u001b[0mg\u001b[0m\u001b[0;34m)\u001b[0m\u001b[0;34m\u001b[0m\u001b[0;34m\u001b[0m\u001b[0m\n\u001b[1;32m      3\u001b[0m \u001b[0mcolorbar\u001b[0m\u001b[0;34m(\u001b[0m\u001b[0;34m)\u001b[0m\u001b[0;34m\u001b[0m\u001b[0;34m\u001b[0m\u001b[0m\n",
            "\u001b[0;31mAttributeError\u001b[0m: 'Minuit' object has no attribute 'mncontour_grid'"
          ]
        }
      ],
      "source": [
        "x0,Gamma,g,r=m.mncontour_grid('x0','Gamma',nsigma=3)\n",
        "pcolormesh(x0,Gamma,g)\n",
        "colorbar()"
      ]
    },
    {
      "cell_type": "markdown",
      "metadata": {
        "id": "m6nEuIbTypU7"
      },
      "source": [
        "Теперь контуры постоянной высоты $\\chi^2$ - уже не симметричные эллипсы с центром в оптимальной точке, а какие-то сложные кривые. Ошибки положения и ширины резонанса довольно-таки независимы.\n",
        "\n",
        "Нарисуем на одном графике экспериментальные точки, наш фит (сплошная линия) и истинную теоретическую кривую (пунктир)."
      ]
    },
    {
      "cell_type": "code",
      "execution_count": null,
      "metadata": {
        "id": "FggDXxIQypU8"
      },
      "outputs": [],
      "source": [
        "errorbar(x,y,dy,fmt='ro')\n",
        "xt=linspace(-3.5,3.5,101)\n",
        "plot(xt,fit(m.values['x0'],m.values['Gamma'],xt),'b-')\n",
        "plot(xt,fit(0,1,xt),'g--')"
      ]
    }
  ],
  "metadata": {
    "kernelspec": {
      "display_name": "Python 3",
      "language": "python3.6",
      "name": "python3"
    },
    "language_info": {
      "codemirror_mode": {
        "name": "ipython",
        "version": 3
      },
      "file_extension": ".py",
      "mimetype": "text/x-python",
      "name": "python",
      "nbconvert_exporter": "python",
      "pygments_lexer": "ipython3",
      "version": "3.6.1"
    },
    "colab": {
      "provenance": [],
      "include_colab_link": true
    }
  },
  "nbformat": 4,
  "nbformat_minor": 0
}