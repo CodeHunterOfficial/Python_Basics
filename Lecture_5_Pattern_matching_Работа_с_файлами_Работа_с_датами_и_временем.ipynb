{
  "nbformat": 4,
  "nbformat_minor": 0,
  "metadata": {
    "colab": {
      "provenance": [],
      "authorship_tag": "ABX9TyNNXn248iQ1z1hYRJ7ZkQAw",
      "include_colab_link": true
    },
    "kernelspec": {
      "name": "python3",
      "display_name": "Python 3"
    },
    "language_info": {
      "name": "python"
    }
  },
  "cells": [
    {
      "cell_type": "markdown",
      "metadata": {
        "id": "view-in-github",
        "colab_type": "text"
      },
      "source": [
        "<a href=\"https://colab.research.google.com/github/CodeHunterOfficial/Python_Basics/blob/main/Lecture_5_Pattern_matching_%D0%A0%D0%B0%D0%B1%D0%BE%D1%82%D0%B0_%D1%81_%D1%84%D0%B0%D0%B9%D0%BB%D0%B0%D0%BC%D0%B8_%D0%A0%D0%B0%D0%B1%D0%BE%D1%82%D0%B0_%D1%81_%D0%B4%D0%B0%D1%82%D0%B0%D0%BC%D0%B8_%D0%B8_%D0%B2%D1%80%D0%B5%D0%BC%D0%B5%D0%BD%D0%B5%D0%BC.ipynb\" target=\"_parent\"><img src=\"https://colab.research.google.com/assets/colab-badge.svg\" alt=\"Open In Colab\"/></a>"
      ]
    },
    {
      "cell_type": "markdown",
      "source": [
        "# Pattern matching\n",
        "## Конструкция match"
      ],
      "metadata": {
        "id": "Q6Goy1WCWZjJ"
      }
    },
    {
      "cell_type": "markdown",
      "source": [
        "Начиная с версии 3.10 в языке Python появилась такая функциональность как pattern matching (сопоставление шаблонов). Pattern matching представляет применение конструкции match, которая позволяет сопоставить выражение с некоторым шаблоном. И если выражение соответствует шаблону, то выполняются определенные действия. В этом смысле конструкция match похожа на конструкцию if/else/elif, которая выполняет определенные действия в зависимости от некоторого условия. Однако функциональность match гораздо шире - она также позволяет извлечь данные из составных типов и применить действия к различным частям объектов.\n",
        "\n",
        "Конструкция match имеет следующее формальное определение:\n",
        "\n",
        "\n",
        "```\n",
        "match выражение:\n",
        "    case шаблон_1:\n",
        "        действие_1\n",
        "    case шаблон_2:\n",
        "        действие_2\n",
        "    ................\n",
        "    case шаблон_N:\n",
        "        действие_N\n",
        "    case _:\n",
        "        действие_по_умолчанию\n",
        "```\n",
        "\n"
      ],
      "metadata": {
        "id": "yUac5g6bWk2O"
      }
    },
    {
      "cell_type": "markdown",
      "source": [
        "После ключевого слова match идет сравниваемое выражение. И затем после двоеточия на последующих строках располагаются выражения case. После каждого выражения case указывается шаблон, с которым сравнивается выражение из match. После шаблона через двоеточие указываются набор выполняемых действий блока case.\n",
        "\n",
        "Конструкция match последовательно сравнивает выражение с шаблонами из блоков case. И если был найден шаблон из какого-нибудь блока case соответствует выражению из match, то выполняются инструкции из данного блока case.\n",
        "\n",
        "В качестве паттернов/шаблонов, с которыми сравниваются выражения, могут применяться как данные примитивных типов, так и последовательности элементов и объектов классов.\n",
        "\n",
        "Вначале рассмотрим ситуацию, когда в качестве шаблона выступают литералы примитивных типов. Например, в зависимости от языка выведем приветственное сообщение:"
      ],
      "metadata": {
        "id": "9Fplc5QdWrYE"
      }
    },
    {
      "cell_type": "code",
      "execution_count": 1,
      "metadata": {
        "id": "Y0MF6E0oWLJq",
        "colab": {
          "base_uri": "https://localhost:8080/"
        },
        "outputId": "deae53fd-70e3-476d-b147-401341ee604b"
      },
      "outputs": [
        {
          "output_type": "stream",
          "name": "stdout",
          "text": [
            "Hello\n",
            "Hallo\n",
            "Привет\n"
          ]
        }
      ],
      "source": [
        "def print_hello(language):\n",
        "    match language:\n",
        "        case \"russian\":\n",
        "            print(\"Привет\")\n",
        "        case \"english\":\n",
        "            print(\"Hello\")\n",
        "        case \"german\":\n",
        "            print(\"Hallo\")\n",
        "\n",
        "\n",
        "print_hello(\"english\")      # Hello\n",
        "print_hello(\"german\")       # Hallo\n",
        "print_hello(\"russian\")      # Привет"
      ]
    },
    {
      "cell_type": "markdown",
      "source": [
        "Обратите внимание, что блоки case имеют отступы от начала конструкции match. А инструкции каждого блока case имеют отступы от начала данного блока case. Но если блок case имеет одну инстукцию, ее можно поместить на той же строке, что и оператор case:"
      ],
      "metadata": {
        "id": "vTtrbbcC6osm"
      }
    },
    {
      "cell_type": "code",
      "source": [
        "def print_hello(language):\n",
        "    match language:\n",
        "        case \"russian\": print(\"Привет\")\n",
        "        case \"english\": print(\"Hello\")\n",
        "        case \"german\": print(\"Hallo\")\n",
        "\n",
        "\n",
        "print_hello(\"english\")      # Hello\n",
        "print_hello(\"german\")       # Hallo\n",
        "print_hello(\"russian\")      # Привет"
      ],
      "metadata": {
        "colab": {
          "base_uri": "https://localhost:8080/"
        },
        "id": "ex_B8FvK6paH",
        "outputId": "01663c26-6a7f-440b-ed1c-301defb3e2fa"
      },
      "execution_count": 2,
      "outputs": [
        {
          "output_type": "stream",
          "name": "stdout",
          "text": [
            "Hello\n",
            "Hallo\n",
            "Привет\n"
          ]
        }
      ]
    },
    {
      "cell_type": "markdown",
      "source": [
        "Если необходимо, чтобы при несовпадении значений (если ни один из шаблонов case не соответствует выражению match) выполнялись некоторые действия по умолчанию, то в этом случае применяется шаблон _ (прочерк):"
      ],
      "metadata": {
        "id": "1wQTIlmj6sj8"
      }
    },
    {
      "cell_type": "code",
      "source": [
        "def print_hello(language):\n",
        "    match language:\n",
        "        case \"russian\":\n",
        "            print(\"Привет\")\n",
        "        case \"english\":\n",
        "            print(\"Hello\")\n",
        "        case \"german\":\n",
        "            print(\"Hallo\")\n",
        "        case _:\n",
        "            print(\"Undefined\")\n",
        "\n",
        "\n",
        "print_hello(\"english\")      # Hello\n",
        "print_hello(\"spanish\")      # Undefined"
      ],
      "metadata": {
        "colab": {
          "base_uri": "https://localhost:8080/"
        },
        "id": "xOQe7SdD6wRt",
        "outputId": "9026c209-3caa-481e-a814-2359437cf9dc"
      },
      "execution_count": 3,
      "outputs": [
        {
          "output_type": "stream",
          "name": "stdout",
          "text": [
            "Hello\n",
            "Undefined\n"
          ]
        }
      ]
    },
    {
      "cell_type": "markdown",
      "source": [
        "Но также можно определить блок case, который позволяет сравнивать сразу с несколькими знечениями. В этом случае значения разделяются вертикальной чертой:"
      ],
      "metadata": {
        "id": "lP-sTG2D6yju"
      }
    },
    {
      "cell_type": "code",
      "source": [
        "def print_hello(language):\n",
        "    match language:\n",
        "        case \"russian\":\n",
        "            print(\"Привет\")\n",
        "        case \"american english\" | \"british english\" | \"english\":\n",
        "            print(\"Hello\")\n",
        "        case _:\n",
        "            print(\"Undefined\")\n",
        "\n",
        "\n",
        "print_hello(\"english\")              # Hello\n",
        "print_hello(\"american english\")     # Hello\n",
        "print_hello(\"spanish\")              # Undefined"
      ],
      "metadata": {
        "colab": {
          "base_uri": "https://localhost:8080/"
        },
        "id": "hou91wa9646P",
        "outputId": "8d46dfb1-6e02-44d1-e154-7bf51e21f3e4"
      },
      "execution_count": 4,
      "outputs": [
        {
          "output_type": "stream",
          "name": "stdout",
          "text": [
            "Hello\n",
            "Hello\n",
            "Undefined\n"
          ]
        }
      ]
    },
    {
      "cell_type": "markdown",
      "source": [
        "Подобным образом можно сравнивать выражения с данными других типов. Например:"
      ],
      "metadata": {
        "id": "ixhcmVPQ7BJZ"
      }
    },
    {
      "cell_type": "code",
      "source": [
        "def operation(a, b, code):\n",
        "    match code:\n",
        "        case 1:\n",
        "            return a + b\n",
        "        case 2:\n",
        "            return a - b\n",
        "        case 3:\n",
        "            return a * b\n",
        "        case _:\n",
        "            return 0\n",
        "\n",
        "\n",
        "print(operation(10, 5, 1))      # 15\n",
        "print(operation(10, 5, 2))      # 5\n",
        "print(operation(10, 5, 3))      # 50\n",
        "print(operation(10, 5, 4))      # 0"
      ],
      "metadata": {
        "colab": {
          "base_uri": "https://localhost:8080/"
        },
        "id": "vDGJyfhF7EUi",
        "outputId": "6f8337ad-77d7-48df-f83e-2c43039536f1"
      },
      "execution_count": 5,
      "outputs": [
        {
          "output_type": "stream",
          "name": "stdout",
          "text": [
            "15\n",
            "5\n",
            "50\n",
            "0\n"
          ]
        }
      ]
    },
    {
      "cell_type": "markdown",
      "source": [
        "## Примеры:\n",
        "\n",
        "**Пример 1.** Дано целое число K. Вывести строку-описание оценки, соответствующей числу K (1 — «плохо», 2 — «неудовлетворительно», 3 — «удовлетворительно», 4 — «хорошо», 5 — «отлично»). Если K не лежит в диапазоне 1–5,\n",
        "то вывести строку «ошибка»."
      ],
      "metadata": {
        "id": "Tmo7Qh4U7G56"
      }
    },
    {
      "cell_type": "code",
      "source": [
        "def get_grade_description(K):\n",
        "    match K:\n",
        "        case 1:\n",
        "            return \"плохо\"\n",
        "        case 2:\n",
        "            return \"неудовлетворительно\"\n",
        "        case 3:\n",
        "            return \"удовлетворительно\"\n",
        "        case 4:\n",
        "            return \"хорошо\"\n",
        "        case 5:\n",
        "            return \"отлично\"\n",
        "        case _:\n",
        "            return \"ошибка\"\n",
        "\n",
        "# Пример использования функции\n",
        "K = int(input(\"Введите значение K: \"))\n",
        "grade_description = get_grade_description(K)\n",
        "print(grade_description)\n"
      ],
      "metadata": {
        "colab": {
          "base_uri": "https://localhost:8080/"
        },
        "id": "LnpNPPvQ7oyb",
        "outputId": "86531223-3a58-4bf7-b7e9-720dc09636a0"
      },
      "execution_count": 6,
      "outputs": [
        {
          "output_type": "stream",
          "name": "stdout",
          "text": [
            "Введите значение K: 2\n",
            "неудовлетворительно\n"
          ]
        }
      ]
    },
    {
      "cell_type": "code",
      "source": [
        "K = int(input(\"Введите значение K: \"))\n",
        "\n",
        "match K:\n",
        "    case 1:\n",
        "        grade_description = \"плохо\"\n",
        "    case 2:\n",
        "        grade_description = \"неудовлетворительно\"\n",
        "    case 3:\n",
        "        grade_description = \"удовлетворительно\"\n",
        "    case 4:\n",
        "        grade_description = \"хорошо\"\n",
        "    case 5:\n",
        "        grade_description = \"отлично\"\n",
        "    case _:\n",
        "        grade_description = \"ошибка\"\n",
        "\n",
        "print(f\"Описание оценки: {grade_description}\")\n"
      ],
      "metadata": {
        "colab": {
          "base_uri": "https://localhost:8080/"
        },
        "id": "iA4I3opK8EPo",
        "outputId": "91cbcbe6-149e-4a97-a325-3d1617d267b7"
      },
      "execution_count": 7,
      "outputs": [
        {
          "output_type": "stream",
          "name": "stdout",
          "text": [
            "Введите значение K: 5\n",
            "Описание оценки: отлично\n"
          ]
        }
      ]
    },
    {
      "cell_type": "markdown",
      "source": [
        "Пример 2. Дано целое число в диапазоне 100–999. Вывести строку-описание\n",
        "данного числа, например: 256 — «двести пятьдесят шесть», 814 — «восемьсот четырнадцать»."
      ],
      "metadata": {
        "id": "ftX-OvI58JNY"
      }
    },
    {
      "cell_type": "code",
      "source": [
        "number = int(input(\"Введите целое число от 100 до 999: \"))\n",
        "\n",
        "# Получение описания для сотен\n",
        "def get_hundreds_description(hundreds_digit):\n",
        "    match hundreds_digit:\n",
        "        case 1:\n",
        "            return \"сто\"\n",
        "        case 2:\n",
        "            return \"двести\"\n",
        "        case 3:\n",
        "            return \"триста\"\n",
        "        case 4:\n",
        "            return \"четыреста\"\n",
        "        case 5:\n",
        "            return \"пятьсот\"\n",
        "        case 6:\n",
        "            return \"шестьсот\"\n",
        "        case 7:\n",
        "            return \"семьсот\"\n",
        "        case 8:\n",
        "            return \"восемьсот\"\n",
        "        case 9:\n",
        "            return \"девятьсот\"\n",
        "\n",
        "# Получение описания для десятков\n",
        "def get_tens_description(tens_digit):\n",
        "    match tens_digit:\n",
        "        case 2:\n",
        "            return \"двадцать\"\n",
        "        case 3:\n",
        "            return \"тридцать\"\n",
        "        case 4:\n",
        "            return \"сорок\"\n",
        "        case 5:\n",
        "            return \"пятьдесят\"\n",
        "        case 6:\n",
        "            return \"шестьдесят\"\n",
        "        case 7:\n",
        "            return \"семьдесят\"\n",
        "        case 8:\n",
        "            return \"восемьдесят\"\n",
        "        case 9:\n",
        "            return \"девяносто\"\n",
        "\n",
        "# Получение описания для чисел от 10 до 19\n",
        "def get_teens_description(teen_number):\n",
        "    match teen_number:\n",
        "        case 10:\n",
        "            return \"десять\"\n",
        "        case 11:\n",
        "            return \"одиннадцать\"\n",
        "        case 12:\n",
        "            return \"двенадцать\"\n",
        "        case 13:\n",
        "            return \"тринадцать\"\n",
        "        case 14:\n",
        "            return \"четырнадцать\"\n",
        "        case 15:\n",
        "            return \"пятнадцать\"\n",
        "        case 16:\n",
        "            return \"шестнадцать\"\n",
        "        case 17:\n",
        "            return \"семнадцать\"\n",
        "        case 18:\n",
        "            return \"восемнадцать\"\n",
        "        case 19:\n",
        "            return \"девятнадцать\"\n",
        "\n",
        "# Получение описания для единиц\n",
        "def get_ones_description(ones_digit):\n",
        "    match ones_digit:\n",
        "        case 1:\n",
        "            return \"один\"\n",
        "        case 2:\n",
        "            return \"два\"\n",
        "        case 3:\n",
        "            return \"три\"\n",
        "        case 4:\n",
        "            return \"четыре\"\n",
        "        case 5:\n",
        "            return \"пять\"\n",
        "        case 6:\n",
        "            return \"шесть\"\n",
        "        case 7:\n",
        "            return \"семь\"\n",
        "        case 8:\n",
        "            return \"восемь\"\n",
        "        case 9:\n",
        "            return \"девять\"\n",
        "\n",
        "# Определение описания для данного числа\n",
        "hundreds = number // 100\n",
        "tens = (number % 100) // 10\n",
        "ones = number % 10\n",
        "\n",
        "if tens == 1: # для чисел от 10 до 19\n",
        "    description = f\"{get_hundreds_description(hundreds)} {get_teens_description(number % 100)}\"\n",
        "else: # для остальных чисел\n",
        "    description = f\"{get_hundreds_description(hundreds)}\"\n",
        "    if tens > 0: # добавляем десятки, если они есть\n",
        "      description += f\" {get_tens_description(tens)}\"\n",
        "    if ones > 0: # добавляем единицы, если они есть\n",
        "      description += f\" {get_ones_description(ones)}\"\n",
        "\n",
        "print(f\"Описание числа {number}: {description}\")\n"
      ],
      "metadata": {
        "colab": {
          "base_uri": "https://localhost:8080/"
        },
        "id": "dz1e4xl58XN0",
        "outputId": "3473dd1b-e5b2-4743-f70c-7e9e99269410"
      },
      "execution_count": 8,
      "outputs": [
        {
          "output_type": "stream",
          "name": "stdout",
          "text": [
            "Введите целое число от 100 до 999: 254\n",
            "Описание числа 254: двести пятьдесят четыре\n"
          ]
        }
      ]
    },
    {
      "cell_type": "markdown",
      "source": [
        "Пример 3. Локатор ориентирован на одну из сторон света («С» — север, «З» —\n",
        "запад, «Ю» — юг, «В» — восток) и может принимать три цифровые команды поворота: 1 — поворот налево, −1 — поворот направо, 2 — поворот на\n",
        "180◦. Дан символ C — исходная ориентация локатора и целые числа N1\n",
        "и N2 — две посланные команды. Вывести ориентацию локатора после\n",
        "выполнения этих команд."
      ],
      "metadata": {
        "id": "hg9GRt006iC9"
      }
    },
    {
      "cell_type": "code",
      "source": [
        "def change_direction(current_direction, command):\n",
        "    directions = [\"С\", \"З\", \"Ю\", \"В\"]\n",
        "    current_index = directions.index(current_direction)\n",
        "\n",
        "    match command:\n",
        "        case 1:\n",
        "            new_index = (current_index + 1) % 4\n",
        "            new_direction = directions[new_index]\n",
        "        case -1:\n",
        "            new_index = (current_index - 1) % 4\n",
        "            new_direction = directions[new_index]\n",
        "        case 2:\n",
        "            new_index = (current_index + 2) % 4\n",
        "            new_direction = directions[new_index]\n",
        "\n",
        "    return new_direction\n",
        "\n",
        "# Пример использования функции\n",
        "C = \"С\"  # исходная ориентация локатора\n",
        "N1 = 1   # первая команда\n",
        "N2 = -1  # вторая команда\n",
        "\n",
        "new_orientation = change_direction(C, N1)\n",
        "final_orientation = change_direction(new_orientation, N2)\n",
        "print(f\"Ориентация локатора после выполнения команд: {final_orientation}\")\n"
      ],
      "metadata": {
        "colab": {
          "base_uri": "https://localhost:8080/"
        },
        "id": "4IbyOqvw9TDV",
        "outputId": "ef49ca3b-d2af-4bdf-f4bb-797d114affbb"
      },
      "execution_count": 9,
      "outputs": [
        {
          "output_type": "stream",
          "name": "stdout",
          "text": [
            "Ориентация локатора после выполнения команд: С\n"
          ]
        }
      ]
    },
    {
      "cell_type": "markdown",
      "source": [
        "Пример 4. Элементы окружности пронумерованы следующим образом: 1 — радиус R, 2 — диаметр $D = 2·R$, 3 — длина $L = 2·π·R$, 4 — площадь круга $S = π·R^2 $. Дан номер одного из этих элементов и его значение. Вывести\n",
        "значения остальных элементов данной окружности (в том же порядке). В\n",
        "качестве значения π использовать 3.14."
      ],
      "metadata": {
        "id": "aoVZE2kr9Z6_"
      }
    },
    {
      "cell_type": "code",
      "source": [
        "def calculate_circle_elements(number, value):\n",
        "    pi = 3.14\n",
        "    R = None\n",
        "\n",
        "    match number:\n",
        "        case 1:\n",
        "            R = value\n",
        "        case 2:\n",
        "            R = value / 2\n",
        "        case 3:\n",
        "            R = value / (2 * pi)\n",
        "        case 4:\n",
        "            R = (value / pi) ** 0.5\n",
        "\n",
        "    if R is not None:\n",
        "        D = 2 * R\n",
        "        L = 2 * pi * R\n",
        "        S = pi * (R ** 2)\n",
        "        return (R, D, L, S)\n",
        "    else:\n",
        "        return \"Ошибка: некорректный номер элемента\"\n",
        "\n",
        "# Пример использования функции\n",
        "number = 1  # номер элемента\n",
        "value = 5   # значение элемента\n",
        "\n",
        "other_elements = calculate_circle_elements(number, value)\n",
        "print(f\"Значения остальных элементов: {other_elements}\")\n"
      ],
      "metadata": {
        "colab": {
          "base_uri": "https://localhost:8080/"
        },
        "id": "1EtO6VeM9xep",
        "outputId": "a42a2395-8424-4d13-f3e4-16bc20aeb281"
      },
      "execution_count": 10,
      "outputs": [
        {
          "output_type": "stream",
          "name": "stdout",
          "text": [
            "Значения остальных элементов: (5, 10, 31.400000000000002, 78.5)\n"
          ]
        }
      ]
    },
    {
      "cell_type": "markdown",
      "source": [
        "#Кортежи в pattern matching"
      ],
      "metadata": {
        "id": "xh5VmNpU-Jp_"
      }
    },
    {
      "cell_type": "markdown",
      "source": [
        "В качестве шаблонов в pathern matching в Python могут выступать кортежи. Например:"
      ],
      "metadata": {
        "id": "QDtBB0sh-Qnb"
      }
    },
    {
      "cell_type": "code",
      "source": [
        "def print_data(user):\n",
        "    match user:\n",
        "        case (\"Tom\", 37):\n",
        "            print(\"default user\")\n",
        "        case (\"Tom\", age):\n",
        "            print(f\"Age: {age}\")\n",
        "        case (name, 22):\n",
        "            print(f\"Name: {name}\")\n",
        "        case (name, age):\n",
        "            print(f\"Name: {name}  Age: {age}\")\n",
        "\n",
        "\n",
        "print_data((\"Tom\", 37))     # default user\n",
        "print_data((\"Tom\", 28))     # Age: 28\n",
        "print_data((\"Sam\", 22))     # Name: Sam\n",
        "print_data((\"Bob\", 41))     # Name: Bob  Age: 41\n",
        "print_data((\"Tom\", 33, \"Google\"))    # не соответствует ни одному из шаблонов"
      ],
      "metadata": {
        "colab": {
          "base_uri": "https://localhost:8080/"
        },
        "id": "r2UoG81J-UYd",
        "outputId": "f6bd0308-231e-40ea-c718-884165cf1e46"
      },
      "execution_count": 11,
      "outputs": [
        {
          "output_type": "stream",
          "name": "stdout",
          "text": [
            "default user\n",
            "Age: 28\n",
            "Name: Sam\n",
            "Name: Bob  Age: 41\n"
          ]
        }
      ]
    },
    {
      "cell_type": "markdown",
      "source": [
        "## Альтернативные значения\n",
        "\n",
        "Если необходимо, чтобы элемент кортежа соответствовал набору значений, то эти значения можно перечислить через вертикальную черту:"
      ],
      "metadata": {
        "id": "4xPtftMf-X1Y"
      }
    },
    {
      "cell_type": "code",
      "source": [
        "def print_data(user):\n",
        "    match user:\n",
        "        case (\"Tom\" | \"Tomas\" | \"Tommy\", 37):\n",
        "            print(\"default user\")\n",
        "        case (\"Tom\", age):\n",
        "            print(f\"Age: {age}\")\n",
        "        case (name, 22):\n",
        "            print(f\"Name: {name}\")\n",
        "        case (name, age):\n",
        "            print(f\"Name: {name}  Age: {age}\")\n",
        "\n",
        "\n",
        "print_data((\"Tom\", 37))     # default user\n",
        "print_data((\"Tomas\", 37))   # default user\n",
        "print_data((\"Tom\", 28))     # Age: 28\n",
        "print_data((\"Sam\", 37))     # Name: Sam  Age: 37"
      ],
      "metadata": {
        "colab": {
          "base_uri": "https://localhost:8080/"
        },
        "id": "M9OrHd6L-dln",
        "outputId": "42c6bd6a-729b-4a4d-cd1f-3ff82e6f4551"
      },
      "execution_count": 12,
      "outputs": [
        {
          "output_type": "stream",
          "name": "stdout",
          "text": [
            "default user\n",
            "default user\n",
            "Age: 28\n",
            "Name: Sam  Age: 37\n"
          ]
        }
      ]
    },
    {
      "cell_type": "markdown",
      "source": [
        "Также можно задать альтернативные значения для отдельных элементов, но и альтернативные кортежи:"
      ],
      "metadata": {
        "id": "JVAAqyEK-hxm"
      }
    },
    {
      "cell_type": "code",
      "source": [
        "def print_data(user):\n",
        "    match user:\n",
        "        case (\"Tom\", 37) | (\"Sam\", 22):\n",
        "            print(\"default user\")\n",
        "        case (name, age):\n",
        "            print(f\"Name: {name}  Age: {age}\")\n",
        "\n",
        "\n",
        "print_data((\"Tom\", 37))     # default user\n",
        "print_data((\"Sam\", 22))     # default user\n",
        "print_data((\"Mike\", 28))    # Name: Mike  Age: 28"
      ],
      "metadata": {
        "colab": {
          "base_uri": "https://localhost:8080/"
        },
        "id": "eqSW4R27-lEE",
        "outputId": "087c0313-30d8-4f06-f7a9-3a2929c4b1fc"
      },
      "execution_count": 13,
      "outputs": [
        {
          "output_type": "stream",
          "name": "stdout",
          "text": [
            "default user\n",
            "default user\n",
            "Name: Mike  Age: 28\n"
          ]
        }
      ]
    },
    {
      "cell_type": "markdown",
      "source": [
        "## Пропуск элементов\n",
        "\n",
        "Если нам не важен какой-то элемент кортежа, то в шаблоне вместо конкретного значния или переменной можно указать шаблон _:"
      ],
      "metadata": {
        "id": "OXo0IEeA-h3r"
      }
    },
    {
      "cell_type": "code",
      "source": [
        "def print_data(user):\n",
        "    match user:\n",
        "        case (\"Tom\", 37):\n",
        "            print(\"default user\")\n",
        "        case (name, _):     # второй элемент не важен\n",
        "            print(f\"Name: {name}\")\n",
        "\n",
        "\n",
        "print_data((\"Tom\", 37))     # default user\n",
        "print_data((\"Sam\", 25))     # Name: Sam\n",
        "print_data((\"Bob\", 41))     # Name: Bob"
      ],
      "metadata": {
        "colab": {
          "base_uri": "https://localhost:8080/"
        },
        "id": "WjEDp1MX-sE5",
        "outputId": "9de24f13-666a-4576-c64f-92526e3eeaba"
      },
      "execution_count": 14,
      "outputs": [
        {
          "output_type": "stream",
          "name": "stdout",
          "text": [
            "default user\n",
            "Name: Sam\n",
            "Name: Bob\n"
          ]
        }
      ]
    },
    {
      "cell_type": "markdown",
      "source": [
        "Можно использовать прочерки для всех элементов кортежа, в этом случае значения всех этих элементов будут не важны:\n",
        "\n"
      ],
      "metadata": {
        "id": "9F2meG_C-vbM"
      }
    },
    {
      "cell_type": "code",
      "source": [
        "def print_data(user):\n",
        "    match user:\n",
        "        case (\"Tom\", 37):\n",
        "            print(\"default user\")\n",
        "        case (\"Sam\", _):\n",
        "            print(\"Name: Sam\")\n",
        "        case (_, _):\n",
        "            print(\"Undefined user\")\n",
        "\n",
        "\n",
        "print_data((\"Tom\", 37))     # default user\n",
        "print_data((\"Sam\", 25))     # Name: Sam\n",
        "print_data((\"Bob\", 41))     # Undefined user"
      ],
      "metadata": {
        "colab": {
          "base_uri": "https://localhost:8080/"
        },
        "id": "LeImdR1m-x4c",
        "outputId": "213af2d7-3272-49b6-e9bd-3da4ba2e2b35"
      },
      "execution_count": 15,
      "outputs": [
        {
          "output_type": "stream",
          "name": "stdout",
          "text": [
            "default user\n",
            "Name: Sam\n",
            "Undefined user\n"
          ]
        }
      ]
    },
    {
      "cell_type": "markdown",
      "source": [
        "В причем в последнем случае шаблон (_, _) по прежнему соответствует только двухэлементному кортежу\n",
        "\n",
        "В примере выше применяемые шаблоны соответствовали только двухэлементному кортежу. Однако также можно использовать одновременно шаблоны кортежей с разным количеством элементов:"
      ],
      "metadata": {
        "id": "kuJJUZ0B-0F-"
      }
    },
    {
      "cell_type": "code",
      "source": [
        "def print_data(user):\n",
        "    match user:\n",
        "        case (name, age):\n",
        "            print(f\"Name: {name}  Age: {age}\")\n",
        "        case (name, age, company):\n",
        "            print(f\"Name: {name}  Age: {age}  Company: {company}\")\n",
        "        case (name, age, company, lang):\n",
        "            print(f\"Name: {name}  Age: {age}  Company: {company} Language: {lang}\")\n",
        "\n",
        "\n",
        "print_data((\"Tom\", 37))                     # Name: Tom  Age: 37\n",
        "print_data((\"Sam\", 22, \"Microsoft\"))        # Name: Sam  Age: 22  Company: Microsoft\n",
        "print_data((\"Bob\", 41, \"Google\", \"english\"))\n",
        "# Name: Bob  Age: 41  Company: Google Language: english"
      ],
      "metadata": {
        "colab": {
          "base_uri": "https://localhost:8080/"
        },
        "id": "eDuQH8pf-4ig",
        "outputId": "3dd71c45-ed94-41df-ffb6-adadc049982c"
      },
      "execution_count": 16,
      "outputs": [
        {
          "output_type": "stream",
          "name": "stdout",
          "text": [
            "Name: Tom  Age: 37\n",
            "Name: Sam  Age: 22  Company: Microsoft\n",
            "Name: Bob  Age: 41  Company: Google Language: english\n"
          ]
        }
      ]
    },
    {
      "cell_type": "markdown",
      "source": [
        "## Кортеж с неопределенным количеством элементов\n",
        "\n",
        "Если необходимо сравнивать выражение с кортежем неопределенной длины, то можно определять все остальные значения кортежа с помощью символа * (звездочки):"
      ],
      "metadata": {
        "id": "V54zXcIG-7FJ"
      }
    },
    {
      "cell_type": "code",
      "source": [
        "def print_data(user):\n",
        "    match user:\n",
        "        case (\"Tom\", 37, *rest):\n",
        "            print(f\"Rest: {rest}\")\n",
        "        case (name, age, *rest):\n",
        "            print(f\"{name} ({age}): {rest}\")\n",
        "\n",
        "\n",
        "print_data((\"Tom\", 37))               # Rest: []\n",
        "print_data((\"Tom\", 37, \"Google\"))     # Rest: [\"Google\"]\n",
        "print_data((\"Bob\", 41, \"Microsoft\", \"english\"))     # Bob (41): [\"Microsoft\", \"english\"]"
      ],
      "metadata": {
        "colab": {
          "base_uri": "https://localhost:8080/"
        },
        "id": "dhPbH32i-_BB",
        "outputId": "cfa8c534-9d2b-42e3-a6c4-19ab818c743d"
      },
      "execution_count": 17,
      "outputs": [
        {
          "output_type": "stream",
          "name": "stdout",
          "text": [
            "Rest: []\n",
            "Rest: ['Google']\n",
            "Bob (41): ['Microsoft', 'english']\n"
          ]
        }
      ]
    },
    {
      "cell_type": "markdown",
      "source": [
        "Если нам этот параметр (rest) не важен, но мы по прежнему хотим, чтобы шаблон соответствовал кортежу с неопределенным количеством элементов, мы можем использовать подшаблон *_:"
      ],
      "metadata": {
        "id": "YVjbz8uu_ERH"
      }
    },
    {
      "cell_type": "code",
      "source": [
        "def print_data(user):\n",
        "    match user:\n",
        "        case (\"Tom\", 37, *_):\n",
        "            print(\"Default user\")\n",
        "        case (name, age, *_):\n",
        "            print(f\"{name} ({age})\")\n",
        "\n",
        "\n",
        "print_data((\"Tom\", 37))               # Default user\n",
        "print_data((\"Tom\", 37, \"Google\"))     # Default user\n",
        "print_data((\"Bob\", 41, \"Microsoft\", \"english\"))     # Bob (41)"
      ],
      "metadata": {
        "colab": {
          "base_uri": "https://localhost:8080/"
        },
        "id": "QDYhUoU6_EuZ",
        "outputId": "e0c3043b-328f-4ee9-c3f6-1d8b587908d1"
      },
      "execution_count": 18,
      "outputs": [
        {
          "output_type": "stream",
          "name": "stdout",
          "text": [
            "Default user\n",
            "Default user\n",
            "Bob (41)\n"
          ]
        }
      ]
    },
    {
      "cell_type": "markdown",
      "source": [
        "## Массивы в pattern matching"
      ],
      "metadata": {
        "id": "NbWZeX6I_Lc1"
      }
    },
    {
      "cell_type": "markdown",
      "source": [
        "В качестве шаблонов также могут выступать массивы. Подобным шаблоны также могут содержать либо конкретные значения, либо переменные, которые передаются элементы массивов, либо символ прочерка _, если элемент массива не важен:"
      ],
      "metadata": {
        "id": "Yc5O97mC_NeH"
      }
    },
    {
      "cell_type": "code",
      "source": [
        "def print_people(people):\n",
        "    match people:\n",
        "        case [\"Tom\", \"Sam\", \"Bob\"]:\n",
        "            print(\"default people\")\n",
        "        case [\"Tom\", second, _]:\n",
        "            print(f\"Second Person: {second}\")\n",
        "        case [first, second, third]:\n",
        "            print(f\"{first}, {second}, {third}\")\n",
        "\n",
        "\n",
        "print_people([\"Tom\", \"Sam\", \"Bob\"])         # default people\n",
        "print_people([\"Tom\", \"Mike\", \"Bob\"])        # Second Person: Mike\n",
        "print_people([\"Alice\", \"Bill\", \"Kate\"])     # Alice, Bill, Kate\n",
        "print_people([\"Tom\", \"Kate\"])               # несоответствует ни одному из шаблонов"
      ],
      "metadata": {
        "colab": {
          "base_uri": "https://localhost:8080/"
        },
        "id": "ECoWIh1D_QvM",
        "outputId": "e111956f-b708-40dc-df1f-bea941b2f705"
      },
      "execution_count": 19,
      "outputs": [
        {
          "output_type": "stream",
          "name": "stdout",
          "text": [
            "default people\n",
            "Second Person: Mike\n",
            "Alice, Bill, Kate\n"
          ]
        }
      ]
    },
    {
      "cell_type": "markdown",
      "source": [
        "В данном случае для соответствия любому из шаблонов массив должен был иметь три элемента. Но также можно определять шаблоны для массивов разной длины:"
      ],
      "metadata": {
        "id": "qFlWiHNZ_T6k"
      }
    },
    {
      "cell_type": "code",
      "source": [
        "def print_people(people):\n",
        "    match people:\n",
        "        case [_]:\n",
        "            print(\"Массив из одного элемента\")\n",
        "        case [_, _]:\n",
        "            print(\"Массив из двух элементов\")\n",
        "        case [_, _, _]:\n",
        "            print(\"Массив из трех элементов\")\n",
        "        case _:\n",
        "            print(\"Непонятно\")\n",
        "\n",
        "\n",
        "print_people([\"Tom\"])                   # Массив из одного элемента\n",
        "print_people([\"Tom\", \"Sam\"])            # Массив из двух элементов\n",
        "print_people([\"Tom\", \"Sam\", \"Bob\"])     # Массив из трех элементов\n",
        "print_people(\"Tom\")                     # Непонятно"
      ],
      "metadata": {
        "colab": {
          "base_uri": "https://localhost:8080/"
        },
        "id": "QSdD1y01_X3L",
        "outputId": "bc447d8b-c000-4d75-d7ac-3b50afcd715a"
      },
      "execution_count": 20,
      "outputs": [
        {
          "output_type": "stream",
          "name": "stdout",
          "text": [
            "Массив из одного элемента\n",
            "Массив из двух элементов\n",
            "Массив из трех элементов\n",
            "Непонятно\n"
          ]
        }
      ]
    },
    {
      "cell_type": "markdown",
      "source": [
        "### Массивы неопределенной длины\n",
        "\n",
        "Если необходимо сравнивать выражение с массивом неопределенной длины, то можно определить значения/переменные только для обязательных элементов массива, а на необязательные ссылаться с помощью символа * (звездочки):\n",
        "\n"
      ],
      "metadata": {
        "id": "sfebeE7E_aO-"
      }
    },
    {
      "cell_type": "code",
      "source": [
        "def print_people(people):\n",
        "    match people:\n",
        "        case [first, *other]:\n",
        "            print(f\"First: {first}  Other: {other}\")\n",
        "\n",
        "\n",
        "print_people([\"Tom\"])                   # First: Tom  Other: []\n",
        "print_people([\"Tom\", \"Sam\"])            # First: Tom  Other: [\"Sam\"]\n",
        "print_people([\"Tom\", \"Sam\", \"Bob\"])     # First: Tom  Other: [\"Sam\", \"Bob\"]"
      ],
      "metadata": {
        "colab": {
          "base_uri": "https://localhost:8080/"
        },
        "id": "6oaBEZGn_d6e",
        "outputId": "97cbca06-31be-4825-ddef-9428c8c8f15b"
      },
      "execution_count": 21,
      "outputs": [
        {
          "output_type": "stream",
          "name": "stdout",
          "text": [
            "First: Tom  Other: []\n",
            "First: Tom  Other: ['Sam']\n",
            "First: Tom  Other: ['Sam', 'Bob']\n"
          ]
        }
      ]
    },
    {
      "cell_type": "markdown",
      "source": [
        "Если нам параметр с символом * (other) не важен, но мы по прежнему хотим, чтобы шаблон соответствовал массиву с одним и большим количеством элементов, мы можем использовать подшаблон *_:"
      ],
      "metadata": {
        "id": "ZZ_yh4UD_i9Q"
      }
    },
    {
      "cell_type": "code",
      "source": [
        "def print_people(people):\n",
        "    match people:\n",
        "        case [first, *_]:\n",
        "            print(f\"First: {first}\")\n",
        "\n",
        "\n",
        "print_people([\"Tom\"])                   # First: Tom\n",
        "print_people([\"Sam\", \"Tom\"])            # First: Sam\n",
        "print_people([\"Bob\", \"Sam\", \"Tom\"])     # First: Bob"
      ],
      "metadata": {
        "colab": {
          "base_uri": "https://localhost:8080/"
        },
        "id": "56fB-biX_jfs",
        "outputId": "94e0c5fd-fb01-4590-d9a8-efd28e590ce4"
      },
      "execution_count": 22,
      "outputs": [
        {
          "output_type": "stream",
          "name": "stdout",
          "text": [
            "First: Tom\n",
            "First: Sam\n",
            "First: Bob\n"
          ]
        }
      ]
    },
    {
      "cell_type": "markdown",
      "source": [
        "### Альтернативные значения\n",
        "\n",
        "Если необходимо, чтобы элемент массива соответствовал набору значений, то эти значения можно перечислить через вертикальную черту:"
      ],
      "metadata": {
        "id": "PwoGFkvS_mQR"
      }
    },
    {
      "cell_type": "code",
      "source": [
        "def print_people(people):\n",
        "    match people:\n",
        "        case [\"Tom\" | \"Tomas\" | \"Tommy\", \"Sam\", \"Bob\"]:\n",
        "            print(\"default people\")\n",
        "        case [first, second, third]:\n",
        "            print(f\"{first}, {second}, {third}\")\n",
        "\n",
        "\n",
        "print_people([\"Tom\", \"Sam\", \"Bob\"])         # default people\n",
        "print_people([\"Tomas\", \"Sam\", \"Bob\"])       # default people\n",
        "print_people([\"Alice\", \"Bill\", \"Kate\"])     # Alice, Bill, Kate"
      ],
      "metadata": {
        "colab": {
          "base_uri": "https://localhost:8080/"
        },
        "id": "vldMBYQa_pfM",
        "outputId": "59db2d81-7a44-497b-e4df-7166325588fc"
      },
      "execution_count": 23,
      "outputs": [
        {
          "output_type": "stream",
          "name": "stdout",
          "text": [
            "default people\n",
            "default people\n",
            "Alice, Bill, Kate\n"
          ]
        }
      ]
    },
    {
      "cell_type": "markdown",
      "source": [
        "Также можно задать альтернативные значения для отдельных элементов, но и альтернативные массивы:"
      ],
      "metadata": {
        "id": "RRBPbyj1_tpP"
      }
    },
    {
      "cell_type": "code",
      "source": [
        "def print_people(people):\n",
        "    match people:\n",
        "        case [\"Tom\", \"Sam\", \"Bob\"] | [\"Tomas\", \"Sam\", \"Bob\"]:\n",
        "            print(\"Tom/Tomas, Sam, Bob\")\n",
        "        case [first, second, third]:\n",
        "            print(f\"{first}, {second}, {third}\")\n",
        "\n",
        "\n",
        "print_people([\"Tom\", \"Sam\", \"Bob\"])         # Tom/Tomas, Sam, Bob\n",
        "print_people([\"Tomas\", \"Sam\", \"Bob\"])       # Tom/Tomas, Sam, Bob\n",
        "print_people([\"Alice\", \"Bill\", \"Kate\"])     # Alice, Bill, Kate"
      ],
      "metadata": {
        "colab": {
          "base_uri": "https://localhost:8080/"
        },
        "id": "HKFzmbm1_wLm",
        "outputId": "4095e91c-1ffc-4214-9814-e4299136544a"
      },
      "execution_count": 24,
      "outputs": [
        {
          "output_type": "stream",
          "name": "stdout",
          "text": [
            "Tom/Tomas, Sam, Bob\n",
            "Tom/Tomas, Sam, Bob\n",
            "Alice, Bill, Kate\n"
          ]
        }
      ]
    },
    {
      "cell_type": "markdown",
      "source": [
        "## Словари в pattern matching"
      ],
      "metadata": {
        "id": "BRmv4bOD_yZc"
      }
    },
    {
      "cell_type": "markdown",
      "source": [
        "Pattern matching позволяет проверить наличие в словаре определнных ключей и значений:"
      ],
      "metadata": {
        "id": "z5kPC2Cn_28J"
      }
    },
    {
      "cell_type": "code",
      "source": [
        "def look(words):\n",
        "    match words:\n",
        "        case {\"red\": \"красный\", \"blue\": \"синий\"}:  # если в словаре words слова red и blue\n",
        "            print(\"Слова red и blue есть в словаре\")\n",
        "        case {\"red\": \"красный\"}:        # если в словаре words есть слово red\n",
        "            print(\"Слово red есть в словаре, а слово blue отсутствует\")\n",
        "        case {\"blue\": \"синий\"}:        # если в словаре words есть слово blue\n",
        "            print(\"Слово blue есть в словаре, а слово red отсутствует\")\n",
        "        case {}:\n",
        "            print(\"Слова red и blue в словаре отсутствует\")\n",
        "        case _:\n",
        "            print(\"Это не словарь\")\n",
        "\n",
        "\n",
        "look({\"red\": \"красный\", \"blue\": \"синий\", \"green\": \"зеленый\"})   # Слова red и blue есть в словаре\n",
        "look({\"red\": \"красный\", \"green\": \"зеленый\"})        # Слово red есть в словаре, а слово blue отсутствует\n",
        "look({\"blue\": \"синий\", \"green\": \"зеленый\"})         # Слово blue есть в словаре, а слово red отсутствует\n",
        "look({\"green\": \"зеленый\"})                          # Слова red и blue в словаре отсутствует\n",
        "look(\"yelllow\")                                     # Это не словарь"
      ],
      "metadata": {
        "colab": {
          "base_uri": "https://localhost:8080/"
        },
        "id": "sW8iKlP2_468",
        "outputId": "9404510d-4087-438b-e3d8-f88e8d737860"
      },
      "execution_count": 25,
      "outputs": [
        {
          "output_type": "stream",
          "name": "stdout",
          "text": [
            "Слова red и blue есть в словаре\n",
            "Слово red есть в словаре, а слово blue отсутствует\n",
            "Слово blue есть в словаре, а слово red отсутствует\n",
            "Слова red и blue в словаре отсутствует\n",
            "Это не словарь\n"
          ]
        }
      ]
    },
    {
      "cell_type": "markdown",
      "source": [
        "Здесь шаблон - case {} соответствует в принципе любому словарю.\n",
        "\n",
        "Последний шаблон соответствует любому значению и применяется на случай, если в функцию передан не словарь."
      ],
      "metadata": {
        "id": "wKf3kl8J_8ie"
      }
    },
    {
      "cell_type": "markdown",
      "source": [
        "### Передача набора значений\n",
        "\n",
        "С помощью вертикальной черты | можно определить альтернативные значения:"
      ],
      "metadata": {
        "id": "xliQZkiuAHSA"
      }
    },
    {
      "cell_type": "code",
      "source": [
        "def look(words):\n",
        "    match words:\n",
        "        case {\"red\": \"красный\" | \"алый\" | \"червонный\"}:  # если значение \"красный\", \"алый\" или \"червонный\"\n",
        "            print(\"Слово red есть в словаре\")\n",
        "        case {}:\n",
        "            print(\"Слово red в словаре отсутствует или имеет некорректное значение\")\n",
        "\n",
        "\n",
        "look({\"red\": \"красный\", \"green\": \"зеленый\"})        # Слово red есть в словаре\n",
        "look({\"red\": \"алый\", \"green\": \"зеленый\"})           # Слово red есть в словаре\n",
        "look({\"green\": \"зеленый\"})    # Слово red в словаре отсутствует или имеет некорректное значение"
      ],
      "metadata": {
        "colab": {
          "base_uri": "https://localhost:8080/"
        },
        "id": "_8OIWgWPAOww",
        "outputId": "5a524f06-0975-4fe3-9b85-13a50e238752"
      },
      "execution_count": 26,
      "outputs": [
        {
          "output_type": "stream",
          "name": "stdout",
          "text": [
            "Слово red есть в словаре\n",
            "Слово red есть в словаре\n",
            "Слово red в словаре отсутствует или имеет некорректное значение\n"
          ]
        }
      ]
    },
    {
      "cell_type": "markdown",
      "source": [
        "В данном случае шаблон {\"red\": \"красный\" | \"алый\" | \"червонный\"} соответствует словарю, в котором есть элемент с ключом \"red\" и значением \"красный\" или \"алый\" или \"червонный\"."
      ],
      "metadata": {
        "id": "LdrE1iLCAiBQ"
      }
    },
    {
      "cell_type": "markdown",
      "source": [
        "Также можно задать альтернативный набор словарей:"
      ],
      "metadata": {
        "id": "khl_P5mkASSe"
      }
    },
    {
      "cell_type": "code",
      "source": [
        "def look(words):\n",
        "    match words:\n",
        "        case {\"red\": \"красный\"} | {\"blue\": \"синий\"} :\n",
        "            print(\"либо red, либо blue есть в словаре\")\n",
        "        case {}:\n",
        "            print(\"надо проверить слова red и blue\")\n",
        "\n",
        "\n",
        "look({\"red\": \"красный\", \"green\": \"зеленый\"})    # либо red, либо blue есть в словаре\n",
        "look({\"blue\": \"синий\", \"green\": \"зеленый\"})     # либо red, либо blue есть в словаре\n",
        "look({\"green\": \"зеленый\"})                      # надо проверить слова red и blue"
      ],
      "metadata": {
        "id": "Ctd8JkkpAex7"
      },
      "execution_count": null,
      "outputs": []
    },
    {
      "cell_type": "markdown",
      "source": [
        "Если нам важны сами ключи, но не важно значение ключей, то вместо конкретных значений можно передать шаблон _:"
      ],
      "metadata": {
        "id": "rSih_L1NAlbm"
      }
    },
    {
      "cell_type": "code",
      "source": [
        "def look(words):\n",
        "    match words:\n",
        "        case {\"red\": _, \"blue\": _}:\n",
        "            print(\"Слова red и blue есть в словаре\")\n",
        "        case {}:\n",
        "            print(\"red и/или blue отсутствуют в словаре\")\n",
        "\n",
        "\n",
        "look({\"red\": \"красный\", \"blue\": \"синий\"})       # Слова red и blue есть в словаре\n",
        "look({\"red\": \"алый\", \"blue\": \"синий\"})          # Слова red и blue есть в словаре\n",
        "look({\"red\": \"красный\", \"green\": \"зеленый\"})    # red и/или blue отсутствуют в словаре"
      ],
      "metadata": {
        "colab": {
          "base_uri": "https://localhost:8080/"
        },
        "id": "UGdgzsW9_M2Z",
        "outputId": "879a85bc-3f1d-4468-b0fe-293bbdc3bf94"
      },
      "execution_count": 27,
      "outputs": [
        {
          "output_type": "stream",
          "name": "stdout",
          "text": [
            "Слова red и blue есть в словаре\n",
            "Слова red и blue есть в словаре\n",
            "red и/или blue отсутствуют в словаре\n"
          ]
        }
      ]
    },
    {
      "cell_type": "markdown",
      "source": [
        "### Получение значений по ключам\n",
        "\n",
        "Pattern matching позволяет получить значения элементов в переменные в виде:\n",
        "\n",
        "\n",
        "\n",
        "```\n",
        "{ключ: переменная}\n",
        "```\n",
        "\n",
        "\n"
      ],
      "metadata": {
        "id": "X3tXQQhGArLZ"
      }
    },
    {
      "cell_type": "markdown",
      "source": [
        "Например:"
      ],
      "metadata": {
        "id": "elOC-821A3c5"
      }
    },
    {
      "cell_type": "code",
      "source": [
        "def look(words):\n",
        "    match words:\n",
        "        case {\"red\": red, \"blue\": blue}:\n",
        "            print(f\"red: {red}  blue: {blue}\")\n",
        "        case {}:\n",
        "            print(\"надо проверить слова red и blue\")\n",
        "\n",
        "\n",
        "look({\"red\": \"красный\", \"blue\": \"синий\"})    # red: красный  blue: синий\n",
        "look({\"red\": \"алый\", \"blue\": \"синий\"})    # red: алый  blue: синий"
      ],
      "metadata": {
        "colab": {
          "base_uri": "https://localhost:8080/"
        },
        "id": "6g-_efNJA42h",
        "outputId": "12a75d62-7a97-42b2-a167-77ae745b910e"
      },
      "execution_count": 28,
      "outputs": [
        {
          "output_type": "stream",
          "name": "stdout",
          "text": [
            "red: красный  blue: синий\n",
            "red: алый  blue: синий\n"
          ]
        }
      ]
    },
    {
      "cell_type": "markdown",
      "source": [
        "### Получение всех значений\n",
        "\n",
        "С помощью символов ** (двойная звездочка) можно получить остальные элементы словаря:"
      ],
      "metadata": {
        "id": "idwGrdikA8gw"
      }
    },
    {
      "cell_type": "code",
      "source": [
        "def look(words):\n",
        "    match words:\n",
        "        case {\"red\": red, **rest}:\n",
        "            print(f\"red: {red}\")\n",
        "            for key in rest:        # rest - тоже словарь\n",
        "                print(f\"{key}: {rest[key]}\")\n",
        "\n",
        "\n",
        "look({\"red\": \"красный\", \"blue\": \"синий\", \"green\": \"зеленый\"})\n",
        "# red: красный\n",
        "# blue: синий\n",
        "# green: зеленый"
      ],
      "metadata": {
        "colab": {
          "base_uri": "https://localhost:8080/"
        },
        "id": "DpOLtPYDBAhH",
        "outputId": "ae5003e6-c024-414e-d239-9a993fa24929"
      },
      "execution_count": 29,
      "outputs": [
        {
          "output_type": "stream",
          "name": "stdout",
          "text": [
            "red: красный\n",
            "blue: синий\n",
            "green: зеленый\n"
          ]
        }
      ]
    },
    {
      "cell_type": "markdown",
      "source": [
        "Здесь шаблон {\"red\": red, **rest} соответствует любому словарь, в котором есть элемент с ключом \"red\". Все остальные элементы словаря помещаются в параметр rest, который сам в свою очередь представляет словарь."
      ],
      "metadata": {
        "id": "BgckLbsLBD5a"
      }
    },
    {
      "cell_type": "markdown",
      "source": [
        "## Классы в pattern matching"
      ],
      "metadata": {
        "id": "u8SfEPFbBGn7"
      }
    },
    {
      "cell_type": "markdown",
      "source": [
        "Python позволяет использовать в pattern matching в качестве шаблонов объекты классов. Рассмотрим на примере:"
      ],
      "metadata": {
        "id": "-uZDExFxBL8i"
      }
    },
    {
      "cell_type": "code",
      "source": [
        "class Person:\n",
        "    def __init__(self, name, age):\n",
        "        self.name = name\n",
        "        self.age = age\n",
        "\n",
        "\n",
        "def print_person(person):\n",
        "    match person:\n",
        "        case Person(name=\"Tom\", age=37):\n",
        "            print(\"Default Person\")\n",
        "        case Person(name=name, age=37):\n",
        "            print(f\"Name: {name}\")\n",
        "        case Person(name=\"Tom\", age=age):\n",
        "            print(f\"Age: {age}\")\n",
        "        case Person(name=name, age=age):\n",
        "            print(f\"Name: {name}  Age: {age}\")\n",
        "\n",
        "\n",
        "print_person(Person(\"Tom\", 37))  # Default person\n",
        "print_person(Person(\"Tom\", 22))  # Age: 22\n",
        "print_person(Person(\"Sam\", 37))  # Name: Sam\n",
        "print_person(Person(\"Bob\", 41))  # Name: Bob  Age: 41"
      ],
      "metadata": {
        "colab": {
          "base_uri": "https://localhost:8080/"
        },
        "id": "fWqufRD3BN0C",
        "outputId": "6e0216d5-8164-4e07-9391-eb1939c11d95"
      },
      "execution_count": 30,
      "outputs": [
        {
          "output_type": "stream",
          "name": "stdout",
          "text": [
            "Default Person\n",
            "Age: 22\n",
            "Name: Sam\n",
            "Name: Bob  Age: 41\n"
          ]
        }
      ]
    },
    {
      "cell_type": "markdown",
      "source": [
        "При этом нам необязательно использоваться все атрибуты объекта Person. Также мы можем применить паттерн _, если нам надо обработать случаи, которые не соответствуют ни одному шаблону:"
      ],
      "metadata": {
        "id": "luA3_v0CBV5M"
      }
    },
    {
      "cell_type": "code",
      "source": [
        "class Person:\n",
        "    def __init__(self, name, age):\n",
        "        self.name = name\n",
        "        self.age = age\n",
        "\n",
        "\n",
        "def print_person(person):\n",
        "    match person:\n",
        "        case Person(name=\"Tom\"):\n",
        "            print(\"Default Person\")\n",
        "        case Person(name=person_name):         # получаем только атрибут name\n",
        "            print(f\"Name: {person_name}\")\n",
        "        case _:\n",
        "            print(\"Not a Person\")\n",
        "\n",
        "\n",
        "print_person(Person(\"Tom\", 37))  # Default person\n",
        "print_person(Person(\"Sam\", 37))  # Name: Sam\n",
        "print_person(\"Tom\")              # Not a Person"
      ],
      "metadata": {
        "colab": {
          "base_uri": "https://localhost:8080/"
        },
        "id": "Vaa_ZU4yBYnj",
        "outputId": "333662fb-89a6-4465-9b9c-adc195c15000"
      },
      "execution_count": 31,
      "outputs": [
        {
          "output_type": "stream",
          "name": "stdout",
          "text": [
            "Default Person\n",
            "Name: Sam\n",
            "Not a Person\n"
          ]
        }
      ]
    },
    {
      "cell_type": "markdown",
      "source": [
        "### Передача набора значений\n",
        "\n",
        "Также с помощью вертикальной черты можно определить набор значений, которые должен иметь атрибут:"
      ],
      "metadata": {
        "id": "ku5ISsmhBZV4"
      }
    },
    {
      "cell_type": "code",
      "source": [
        "def print_person(person):\n",
        "    match person:\n",
        "        case Person(name=\"Tom\" | \"Tomas\" | \"Tommy\"):\n",
        "            print(\"Default Person\")\n",
        "        case Person(name=person_name):         # получаем только атрибут name\n",
        "            print(f\"Name: {person_name}\")\n",
        "        case _:\n",
        "            print(\"Not a Person\")\n",
        "\n",
        "\n",
        "print_person(Person(\"Tom\", 37))     # Default person\n",
        "print_person(Person(\"Tomas\", 37))   # Default person"
      ],
      "metadata": {
        "colab": {
          "base_uri": "https://localhost:8080/"
        },
        "id": "bZVW0mIIBdtv",
        "outputId": "e690c5f2-7598-4eb3-b109-6bd6ad63ad6c"
      },
      "execution_count": 32,
      "outputs": [
        {
          "output_type": "stream",
          "name": "stdout",
          "text": [
            "Default Person\n",
            "Default Person\n"
          ]
        }
      ]
    },
    {
      "cell_type": "markdown",
      "source": [
        "Также можно задавать альтернативные значения для всего шаблона в том числе с помощью объектов других классов:"
      ],
      "metadata": {
        "id": "wGZXZ6bqBh3o"
      }
    },
    {
      "cell_type": "code",
      "source": [
        "class Person:\n",
        "    def __init__(self, name, age):\n",
        "        self.name = name\n",
        "        self.age = age\n",
        "\n",
        "\n",
        "class Student:\n",
        "    def __init__(self, name):\n",
        "        self.name = name\n",
        "\n",
        "\n",
        "def print_person(person):\n",
        "    match person:\n",
        "        case Person(name=\"Tom\") | Student(name=\"Tomas\"):\n",
        "            print(\"Default Person/Student\")\n",
        "        case Person(name=name) | Student(name=name):    # получаем только атрибут name\n",
        "            print(f\"Name: {name}\")\n",
        "        case _:\n",
        "            print(\"Not a Person or Student\")\n",
        "\n",
        "\n",
        "print_person(Person(\"Tom\", 37))     # Default Person/Student\n",
        "print_person(Student(\"Tomas\"))      # Default Person/Student\n",
        "\n",
        "\n",
        "print_person(Person(\"Bob\", 41))     # Name: Bob\n",
        "print_person(Student(\"Mike\"))       # Name: Mike\n",
        "\n",
        "print_person(\"Tom\")                 # Not a Person or Student"
      ],
      "metadata": {
        "colab": {
          "base_uri": "https://localhost:8080/"
        },
        "id": "etlecnROBkGO",
        "outputId": "9c84f42a-0fd9-4892-f362-fd1b86368ee5"
      },
      "execution_count": 33,
      "outputs": [
        {
          "output_type": "stream",
          "name": "stdout",
          "text": [
            "Default Person/Student\n",
            "Default Person/Student\n",
            "Name: Bob\n",
            "Name: Mike\n",
            "Not a Person or Student\n"
          ]
        }
      ]
    },
    {
      "cell_type": "markdown",
      "source": [
        "### Позиционные параметры\n",
        "\n",
        "В примерах выше для определения атрибутов прописывалось их имя: case Person(name=\"Tom\", age=37). Но если используется куча шаблонов, и в каждом необходимо связать атрибуты объекта с некоторыми значениями или переменными, то постоянное упоминание атрибутов можно несколько раздуть код. Но Python также позволяет использовать позиционные параметры:"
      ],
      "metadata": {
        "id": "7ZX_lmqFBnPp"
      }
    },
    {
      "cell_type": "code",
      "source": [
        "class Person:\n",
        "    __match_args__ = (\"name\", \"age\")\n",
        "    def __init__(self, name, age):\n",
        "        self.name = name\n",
        "        self.age = age\n",
        "\n",
        "\n",
        "def print_person(person):\n",
        "    match person:\n",
        "        case Person(\"Tom\", 37):\n",
        "            print(\"Default Person\")\n",
        "        case Person(person_name, 37):\n",
        "            print(f\"Name: {person_name}\")\n",
        "        case Person(\"Tom\", person_age):\n",
        "            print(f\"Age: {person_age}\")\n",
        "        case Person(person_name, person_age):\n",
        "            print(f\"Name: {person_name}  Age: {person_age}\")\n",
        "\n",
        "\n",
        "print_person(Person(\"Tom\", 37))  # Default person\n",
        "print_person(Person(\"Tom\", 22))  # Age: 22\n",
        "print_person(Person(\"Sam\", 37))  # Name: Sam\n",
        "print_person(Person(\"Bob\", 41))  # Name: Bob  Age: 41"
      ],
      "metadata": {
        "colab": {
          "base_uri": "https://localhost:8080/"
        },
        "id": "3rHfkOR0BrAw",
        "outputId": "d7473488-edbe-4a7c-a357-c885c6cf3601"
      },
      "execution_count": 36,
      "outputs": [
        {
          "output_type": "stream",
          "name": "stdout",
          "text": [
            "Default Person\n",
            "Age: 22\n",
            "Name: Sam\n",
            "Name: Bob  Age: 41\n"
          ]
        }
      ]
    },
    {
      "cell_type": "markdown",
      "source": [
        "Обратите внимание в классе Person на вызов функции:\n",
        "\n",
        "\n",
        "\n",
        "```\n",
        "__match_args__ = (\"name\", \"age\")\n",
        "```\n",
        "\n",
        "\n",
        "Благодаря этому Python будет знать, что при указании атрибутов атрибут name будет идти первым, а атрибут age - вторым.\n",
        "\n",
        "И таким образом, в шаблонов не нужно указывать имя атрибута: case Person(\"Tom\", 37) - Python сам сопоставит атрибуты и значения/переменные на основе их позиции."
      ],
      "metadata": {
        "id": "oasI--GCB5Ld"
      }
    },
    {
      "cell_type": "markdown",
      "source": [
        "## guards или ограничения шаблонов"
      ],
      "metadata": {
        "id": "Obg6Izv3B-0A"
      }
    },
    {
      "cell_type": "markdown",
      "source": [
        "Guard или ограничения шаблонов позволяют установить дополнительные условия, которым должно соответсвовать выражение. Ограничение задается сразу после шаблона с помощью ключевого слова if, после которого идет условие ограничения:"
      ],
      "metadata": {
        "id": "TUBJmCdnCEtg"
      }
    },
    {
      "cell_type": "code",
      "source": [
        "class Person:\n",
        "    def __init__(self, name, age):\n",
        "        self.name = name\n",
        "        self.age = age\n",
        "\n",
        "\n",
        "def enter(person):\n",
        "    match person:\n",
        "        case Person(name=name, age=age) if age < 18:\n",
        "            print(f\"{name}, доступ запрещен\")\n",
        "        case Person(name=name):\n",
        "            print(f\"{name}, добро пожаловать!\")\n",
        "\n",
        "\n",
        "enter(Person(\"Tom\", 37))        # Tom, добро пожаловать!\n",
        "enter(Person(\"Sam\", 12))        # Sam, доступ запрещен"
      ],
      "metadata": {
        "colab": {
          "base_uri": "https://localhost:8080/"
        },
        "id": "cbba11KxCHDb",
        "outputId": "399c6a0e-b2cb-47c6-f62d-b239d581759d"
      },
      "execution_count": 37,
      "outputs": [
        {
          "output_type": "stream",
          "name": "stdout",
          "text": [
            "Tom, добро пожаловать!\n",
            "Sam, доступ запрещен\n"
          ]
        }
      ]
    },
    {
      "cell_type": "markdown",
      "source": [
        "Подобным образом можно вводить дополнительные ограничения:"
      ],
      "metadata": {
        "id": "Dc7nVQSNCJyU"
      }
    },
    {
      "cell_type": "code",
      "source": [
        "class Person:\n",
        "    def __init__(self, name, age):\n",
        "        self.name = name\n",
        "        self.age = age\n",
        "\n",
        "\n",
        "def enter(person):\n",
        "    match person:\n",
        "        case Person(name=name, age=age) if age < 18:\n",
        "            print(f\"{name}, доступ запрещен\")\n",
        "        case Person(name=name, age=age) if age < 22:\n",
        "            print(f\"{name}, доступ  ограничен\")\n",
        "        case Person(name=name):\n",
        "            print(f\"{name}, у вас полноценный доступ!\")\n",
        "\n",
        "\n",
        "enter(Person(\"Tom\", 37))        # Tom, у вас полноценный доступ!\n",
        "enter(Person(\"Bob\", 20))        # Bob, доступ  ограничен\n",
        "enter(Person(\"Sam\", 12))        # Sam, доступ запрещен"
      ],
      "metadata": {
        "colab": {
          "base_uri": "https://localhost:8080/"
        },
        "id": "mTPBC7aRCMpO",
        "outputId": "8a13e8c3-bccf-4366-d30b-871844c82210"
      },
      "execution_count": 38,
      "outputs": [
        {
          "output_type": "stream",
          "name": "stdout",
          "text": [
            "Tom, у вас полноценный доступ!\n",
            "Bob, доступ  ограничен\n",
            "Sam, доступ запрещен\n"
          ]
        }
      ]
    },
    {
      "cell_type": "markdown",
      "source": [
        "Условия ограничений могут быть более сложными и составными по структуре:"
      ],
      "metadata": {
        "id": "wjSjj_dmCPjG"
      }
    },
    {
      "cell_type": "code",
      "source": [
        "def check_data(data):\n",
        "    match data:\n",
        "        case name, age if name == \"admin\" or age not in range(1, 101):\n",
        "            print(\"Некорректные значения\")\n",
        "        case name, age:\n",
        "            print(f\"Данные проверены. Name: {name}  Age: {age}\")\n",
        "\n",
        "\n",
        "check_data((\"admin\", -45))      # Некорректные значения\n",
        "check_data((\"Tom\", 37))         # Данные проверены. Name: Tom  Age: 37"
      ],
      "metadata": {
        "colab": {
          "base_uri": "https://localhost:8080/"
        },
        "id": "7LvH7wHBCRz7",
        "outputId": "efc87244-5708-4545-fe46-bf6b62d7542d"
      },
      "execution_count": 39,
      "outputs": [
        {
          "output_type": "stream",
          "name": "stdout",
          "text": [
            "Некорректные значения\n",
            "Данные проверены. Name: Tom  Age: 37\n"
          ]
        }
      ]
    },
    {
      "cell_type": "markdown",
      "source": [
        "## Установка псевдонимов и паттерн AS"
      ],
      "metadata": {
        "id": "eqv2l2i5CUJv"
      }
    },
    {
      "cell_type": "markdown",
      "source": [
        "Оператор as позволяет установить псевдоним для значения шаблона или для всего шаблона. Простейший пример:\n",
        "\n"
      ],
      "metadata": {
        "id": "WtqCVMXACYk3"
      }
    },
    {
      "cell_type": "code",
      "source": [
        "def print_person(person):\n",
        "    match person:\n",
        "        case \"Tom\" | \"Tomas\" | \"Tommy\" as name:\n",
        "            print(f\"Name: {name}\")\n",
        "        case _:\n",
        "            print(\"Undefined\")\n",
        "\n",
        "\n",
        "print_person(\"Tom\")     # Name: Tom\n",
        "print_person(\"Tomas\")   # Name: Tomas\n",
        "print_person(\"Bob\")     # Undefined"
      ],
      "metadata": {
        "colab": {
          "base_uri": "https://localhost:8080/"
        },
        "id": "yAl-8hJ9Cdfu",
        "outputId": "9c56b5ad-3fbc-4ff2-d2be-736f7e99372d"
      },
      "execution_count": 40,
      "outputs": [
        {
          "output_type": "stream",
          "name": "stdout",
          "text": [
            "Name: Tom\n",
            "Name: Tomas\n",
            "Undefined\n"
          ]
        }
      ]
    },
    {
      "cell_type": "markdown",
      "source": [
        "Псевдоним можно применять как для отдельного значения шаблона, так и для всего шаблона:"
      ],
      "metadata": {
        "id": "5laA4RvqCac1"
      }
    },
    {
      "cell_type": "code",
      "source": [
        "def print_person(person):\n",
        "    match person:\n",
        "        case (\"Tom\" | \"Tomas\" as name, 37 | 38 as age):   # псевдонимы для отдельных значений\n",
        "            print(f\"Tom| Name: {name}  Age: {age}\")\n",
        "        case (\"Bob\" | \"Robert\", 41 | 42) as bob:          # псевдоним для всего шаблона\n",
        "            print(f\"Bob| Name: {bob[0]}  Age: {bob[1]}\")\n",
        "        case _:\n",
        "            print(\"Undefined\")\n",
        "\n",
        "\n",
        "print_person((\"Tomas\", 38))     # Tom| Name: Tomas  Age: 38\n",
        "print_person((\"Robert\", 41))    # Bob| Name: Robert  Age: 41"
      ],
      "metadata": {
        "colab": {
          "base_uri": "https://localhost:8080/"
        },
        "id": "DvC2dpfuCh6h",
        "outputId": "473e1af1-d052-486f-8739-c7472880d0f8"
      },
      "execution_count": 41,
      "outputs": [
        {
          "output_type": "stream",
          "name": "stdout",
          "text": [
            "Tom| Name: Tomas  Age: 38\n",
            "Bob| Name: Robert  Age: 41\n"
          ]
        }
      ]
    },
    {
      "cell_type": "markdown",
      "source": [
        "Обычно псевдонимы более применимы в каких-то более сложных по структуре данных. Например"
      ],
      "metadata": {
        "id": "0YhYf6cKCpTv"
      }
    },
    {
      "cell_type": "code",
      "source": [
        "class Person:\n",
        "    __match_args__ = (\"name\", \"age\")\n",
        "    def __init__(self, name, age):\n",
        "        self.name = name\n",
        "        self.age = age\n",
        "\n",
        "\n",
        "def print_family(family):\n",
        "    match family:\n",
        "        case (Person() as husband, Person() as wife):\n",
        "            print(f\"Husband. Name: {husband.name}  Age: {husband.age}\")\n",
        "            print(f\"Wife. Name: {wife.name}  Age: {wife.age}\")\n",
        "        case _:\n",
        "            print(\"Undefined\")\n",
        "\n",
        "\n",
        "print_family((Person(\"Tom\", 37), Person(\"Alice\", 33)))\n",
        "# Husband. Name: Tom  Age: 37\n",
        "# Wife. Name: Alice  Age: 33\n",
        "\n",
        "print_family((Person(\"Sam\", 28), Person(\"Kate\", 25)))\n",
        "# Husband. Name: Sam  Age: 28\n",
        "# Wife. Name: Kate  Age: 25"
      ],
      "metadata": {
        "colab": {
          "base_uri": "https://localhost:8080/"
        },
        "id": "6eCpHf8WCu2A",
        "outputId": "f3478d8a-6175-4953-ddfa-d3d67c6090b2"
      },
      "execution_count": 42,
      "outputs": [
        {
          "output_type": "stream",
          "name": "stdout",
          "text": [
            "Husband. Name: Tom  Age: 37\n",
            "Wife. Name: Alice  Age: 33\n",
            "Husband. Name: Sam  Age: 28\n",
            "Wife. Name: Kate  Age: 25\n"
          ]
        }
      ]
    },
    {
      "cell_type": "markdown",
      "source": [
        "# Работа с файлами\n",
        "## Открытие и закрытие файлов"
      ],
      "metadata": {
        "id": "oaqNPxAaCyNq"
      }
    },
    {
      "cell_type": "markdown",
      "source": [
        "Python поддерживает множество различных типов файлов, но условно их можно разделить на два виде: текстовые и бинарные. Текстовые файлы - это к примеру файлы с расширением cvs, txt, html, в общем любые файлы, которые сохраняют информацию в текстовом виде. Бинарные файлы - это изображения, аудио и видеофайлы и т.д. В зависимости от типа файла работа с ним может немного отличаться.\n",
        "\n",
        "При работе с файлами необходимо соблюдать некоторую последовательность операций:\n",
        "\n",
        "1. Открытие файла с помощью метода open()\n",
        "\n",
        "2. Чтение файла с помощью метода read() или запись в файл посредством метода write()\n",
        "\n",
        "3. Закрытие файла методом close()\n",
        "\n",
        "## Открытие и закрытие файла\n",
        "Чтобы начать работу с файлом, его надо открыть с помощью функции open(), которая имеет следующее формальное определение:\n",
        "\n",
        "\n",
        "\n",
        "```\n",
        "open(file, mode)\n",
        "```\n",
        "\n"
      ],
      "metadata": {
        "id": "1g9C7izcC7cr"
      }
    },
    {
      "cell_type": "markdown",
      "source": [
        "Первый параметр функции представляет путь к файлу. Путь файла может быть абсолютным, то есть начинаться с буквы диска, например, C://somedir/somefile.txt. Либо можно быть относительным, например, somedir/somefile.txt - в этом случае поиск файла будет идти относительно расположения запущенного скрипта Python.\n",
        "\n",
        "Второй передаваемый аргумент - mode устанавливает режим открытия файла в зависимости от того, что мы собираемся с ним делать. Существует 4 общих режима:\n",
        "\n",
        "* r (Read). Файл открывается для чтения. Если файл не найден, то генерируется исключение FileNotFoundError\n",
        "\n",
        "* w (Write). Файл открывается для записи. Если файл отсутствует, то он создается. Если подобный файл уже есть, то он создается заново, и соответственно старые данные в нем стираются.\n",
        "\n",
        "* a (Append). Файл открывается для дозаписи. Если файл отсутствует, то он создается. Если подобный файл уже есть, то данные записываются в его конец.\n",
        "\n",
        "* b (Binary). Используется для работы с бинарными файлами. Применяется вместе с другими режимами - w или r.\n",
        "\n",
        "После завершения работы с файлом его обязательно нужно закрыть методом close(). Данный метод освободит все связанные с файлом используемые ресурсы.\n",
        "\n",
        "Например, откроем для записи текстовый файл \"hello.txt\":"
      ],
      "metadata": {
        "id": "WVF8XjkkDPlD"
      }
    },
    {
      "cell_type": "code",
      "source": [
        "myfile = open(\"hello.txt\", \"w\")\n",
        "\n",
        "myfile.close()"
      ],
      "metadata": {
        "id": "o3yEVyujDXwJ"
      },
      "execution_count": 43,
      "outputs": []
    },
    {
      "cell_type": "markdown",
      "source": [
        "При открытии файла или в процессе работы с ним мы можем столкнуться с различными исключениями, например, к нему нет доступа и т.д. В этом случае программа выпадет в ошибку, а ее выполнение не дойдет до вызова метода close, и соответственно файл не будет закрыт.\n",
        "\n",
        "В этом случае мы можем обрабатывать исключения:"
      ],
      "metadata": {
        "id": "n0MAF9mqDkvJ"
      }
    },
    {
      "cell_type": "code",
      "source": [
        "try:\n",
        "    somefile = open(\"hello.txt\", \"w\")\n",
        "    try:\n",
        "        somefile.write(\"hello world\")\n",
        "    except Exception as e:\n",
        "        print(e)\n",
        "    finally:\n",
        "        somefile.close()\n",
        "except Exception as ex:\n",
        "    print(ex)"
      ],
      "metadata": {
        "id": "aLIcG_abDEQd"
      },
      "execution_count": 44,
      "outputs": []
    },
    {
      "cell_type": "markdown",
      "source": [
        "Однако есть и более удобная конструкция - конструкция with:\n",
        "\n",
        "\n",
        "\n",
        "\n",
        "```\n",
        "with open(file, mode) as file_obj:\n",
        "    инструкции\n",
        "```\n",
        "\n"
      ],
      "metadata": {
        "id": "J4FlxiBLDt_Z"
      }
    },
    {
      "cell_type": "markdown",
      "source": [
        "Эта конструкция определяет для открытого файла переменную file_obj и выполняет набор инструкций. После их выполнения файл автоматически закрывается. Даже если при выполнении инструкций в блоке with возникнут какие-либо исключения, то файл все равно закрывается.\n",
        "\n",
        "Так, перепишем предыдущий пример:"
      ],
      "metadata": {
        "id": "wC3zrdCUD1SM"
      }
    },
    {
      "cell_type": "code",
      "source": [
        "with open(\"hello.txt\", \"w\") as somefile:\n",
        "    somefile.write(\"hello world\")"
      ],
      "metadata": {
        "id": "3OXIouI-D31q"
      },
      "execution_count": 45,
      "outputs": []
    },
    {
      "cell_type": "markdown",
      "source": [
        "## Текстовые файлы"
      ],
      "metadata": {
        "id": "_m3WYkc5D_wQ"
      }
    },
    {
      "cell_type": "markdown",
      "source": [
        "### Запись в текстовый файл\n",
        "Чтобы открыть текстовый файл на запись, необходимо применить режим w (перезапись) или a (дозапись). Затем для записи применяется метод write(str), в который передается записываемая строка. Стоит отметить, что записывается именно строка, поэтому, если нужно записать числа, данные других типов, то их предварительно нужно конвертировать в строку.\n",
        "\n",
        "Запишем некоторую информацию в файл \"hello.txt\":"
      ],
      "metadata": {
        "id": "Ok151CaBEBUQ"
      }
    },
    {
      "cell_type": "code",
      "source": [
        "with open(\"hello.txt\", \"w\") as file:\n",
        "    file.write(\"hello world\")"
      ],
      "metadata": {
        "id": "kYgEQDqsEFgk"
      },
      "execution_count": 46,
      "outputs": []
    },
    {
      "cell_type": "markdown",
      "source": [
        "Теперь дозапишем в этот файл еще одну строку:"
      ],
      "metadata": {
        "id": "y4v5TCiFEH94"
      }
    },
    {
      "cell_type": "code",
      "source": [
        "with open(\"hello.txt\", \"a\") as file:\n",
        "    file.write(\"\\ngood bye, world\")"
      ],
      "metadata": {
        "id": "IBJHQkJwEMID"
      },
      "execution_count": 47,
      "outputs": []
    },
    {
      "cell_type": "markdown",
      "source": [
        "Еще один способ записи в файл представляет стандартный метод print(), который применяется для вывода данных на консоль:"
      ],
      "metadata": {
        "id": "LdjYnoUXEPQ6"
      }
    },
    {
      "cell_type": "code",
      "source": [
        "with open(\"hello.txt\", \"a\") as hello_file:\n",
        "    print(\"Hello, world\", file=hello_file)"
      ],
      "metadata": {
        "id": "humDrLoaETE1"
      },
      "execution_count": 48,
      "outputs": []
    },
    {
      "cell_type": "markdown",
      "source": [
        "### Чтение файла\n",
        "Для чтения файла он открывается с режимом r (Read), и затем мы можем считать его содержимое различными методами:\n",
        "\n",
        "* readline(): считывает одну строку из файла\n",
        "\n",
        "* read(): считывает все содержимое файла в одну строку\n",
        "\n",
        "* readlines(): считывает все строки файла в список\n",
        "\n",
        "Например, считаем выше записанный файл построчно:"
      ],
      "metadata": {
        "id": "qZjWn14sEVeF"
      }
    },
    {
      "cell_type": "code",
      "source": [
        "with open(\"hello.txt\", \"r\") as file:\n",
        "    for line in file:\n",
        "        print(line, end=\"\")"
      ],
      "metadata": {
        "colab": {
          "base_uri": "https://localhost:8080/"
        },
        "id": "I1vjwmK-EcYl",
        "outputId": "7ddee9d7-5ad2-4ab5-e157-0c207e8411a3"
      },
      "execution_count": 49,
      "outputs": [
        {
          "output_type": "stream",
          "name": "stdout",
          "text": [
            "hello world\n",
            "good bye, worldHello, world\n"
          ]
        }
      ]
    },
    {
      "cell_type": "markdown",
      "source": [
        "Теперь явным образом вызовем метод readline() для чтения отдельных строк:"
      ],
      "metadata": {
        "id": "OCTn1DYmEfEk"
      }
    },
    {
      "cell_type": "code",
      "source": [
        "with open(\"hello.txt\", \"r\") as file:\n",
        "    str1 = file.readline()\n",
        "    print(str1, end=\"\")\n",
        "    str2 = file.readline()\n",
        "    print(str2)"
      ],
      "metadata": {
        "colab": {
          "base_uri": "https://localhost:8080/"
        },
        "id": "7UUkuIJ7EkDG",
        "outputId": "c2abc057-5f0a-4581-f4d2-6a8899e1049f"
      },
      "execution_count": 50,
      "outputs": [
        {
          "output_type": "stream",
          "name": "stdout",
          "text": [
            "hello world\n",
            "good bye, worldHello, world\n",
            "\n"
          ]
        }
      ]
    },
    {
      "cell_type": "markdown",
      "source": [
        "Метод readline можно использовать для построчного считывания файла в цикле while:"
      ],
      "metadata": {
        "id": "w1ZlhFMhEmjv"
      }
    },
    {
      "cell_type": "code",
      "source": [
        "with open(\"hello.txt\", \"r\") as file:\n",
        "    line = file.readline()\n",
        "    while line:\n",
        "        print(line, end=\"\")\n",
        "        line = file.readline()"
      ],
      "metadata": {
        "colab": {
          "base_uri": "https://localhost:8080/"
        },
        "id": "xMoM-ANoEppk",
        "outputId": "0bf4066b-2c3a-48b0-c3fe-d4e7e0a095d2"
      },
      "execution_count": 51,
      "outputs": [
        {
          "output_type": "stream",
          "name": "stdout",
          "text": [
            "hello world\n",
            "good bye, worldHello, world\n"
          ]
        }
      ]
    },
    {
      "cell_type": "markdown",
      "source": [
        "Если файл небольшой, то его можно разом считать с помощью метода read():"
      ],
      "metadata": {
        "id": "dh5TE0rnEsw0"
      }
    },
    {
      "cell_type": "code",
      "source": [
        "with open(\"hello.txt\", \"r\") as file:\n",
        "    content = file.read()\n",
        "    print(content)"
      ],
      "metadata": {
        "colab": {
          "base_uri": "https://localhost:8080/"
        },
        "id": "kY67Ib2qEwVf",
        "outputId": "1465214e-9614-4c41-9e8a-09ca2409ea70"
      },
      "execution_count": 52,
      "outputs": [
        {
          "output_type": "stream",
          "name": "stdout",
          "text": [
            "hello world\n",
            "good bye, worldHello, world\n",
            "\n"
          ]
        }
      ]
    },
    {
      "cell_type": "markdown",
      "source": [
        "И также применим метод readlines() для считывания всего файла в список строк:"
      ],
      "metadata": {
        "id": "W6ubHH50Eyqt"
      }
    },
    {
      "cell_type": "code",
      "source": [
        "with open(\"hello.txt\", \"r\") as file:\n",
        "    contents = file.readlines()\n",
        "    str1 = contents[0]\n",
        "    str2 = contents[1]\n",
        "    print(str1, end=\"\")\n",
        "    print(str2)"
      ],
      "metadata": {
        "colab": {
          "base_uri": "https://localhost:8080/"
        },
        "id": "Y9k_d5dCE4KC",
        "outputId": "e491f9fd-53c4-44b2-a462-20638ddb96fc"
      },
      "execution_count": 53,
      "outputs": [
        {
          "output_type": "stream",
          "name": "stdout",
          "text": [
            "hello world\n",
            "good bye, worldHello, world\n",
            "\n"
          ]
        }
      ]
    },
    {
      "cell_type": "markdown",
      "source": [
        "При чтении файла мы можем столкнуться с тем, что его кодировка не совпадает с ASCII. В этом случае мы явным образом можем указать кодировку с помощью параметра encoding:"
      ],
      "metadata": {
        "id": "vO_94A7hEozb"
      }
    },
    {
      "cell_type": "code",
      "source": [
        "filename = \"hello.txt\"\n",
        "with open(filename, encoding=\"utf8\") as file:\n",
        "    text = file.read()"
      ],
      "metadata": {
        "id": "ECQSwEnBE-qt"
      },
      "execution_count": 54,
      "outputs": []
    },
    {
      "cell_type": "markdown",
      "source": [
        "Теперь напишем небольшой скрипт, в котором будет записывать введенный пользователем массив строк и считывать его обратно из файла на консоль:"
      ],
      "metadata": {
        "id": "Tev1sy1QFBYN"
      }
    },
    {
      "cell_type": "code",
      "source": [
        "# имя файла\n",
        "FILENAME = \"messages.txt\"\n",
        "# определяем пустой список\n",
        "messages = list()\n",
        "\n",
        "for i in range(5):\n",
        "    message = input(\"Введите строку \" + str(i+1) + \": \")\n",
        "    messages.append(message + \"\\n\")\n",
        "\n",
        "# запись списка в файл\n",
        "with open(FILENAME, \"a\") as file:\n",
        "    for message in messages:\n",
        "        file.write(message)\n",
        "\n",
        "# считываем сообщения из файла\n",
        "print(\"Считанные сообщения\")\n",
        "with open(FILENAME, \"r\") as file:\n",
        "    for message in file:\n",
        "        print(message, end=\"\")"
      ],
      "metadata": {
        "colab": {
          "base_uri": "https://localhost:8080/"
        },
        "id": "A94QK2tiFDyy",
        "outputId": "ab22a7c0-8b32-4fcd-a885-ca26e63b4417"
      },
      "execution_count": 56,
      "outputs": [
        {
          "output_type": "stream",
          "name": "stdout",
          "text": [
            "Введите строку 1: Hello\n",
            "Введите строку 2: Sabina\n",
            "Введите строку 3: How\n",
            "Введите строку 4: are \n",
            "Введите строку 5: you\n",
            "Считанные сообщения\n",
            "Hello\n",
            "Ruden\n",
            "How\n",
            "are \n",
            "Hello\n",
            "Sabina\n",
            "How\n",
            "are \n",
            "you\n"
          ]
        }
      ]
    },
    {
      "cell_type": "markdown",
      "source": [
        "## Примеры"
      ],
      "metadata": {
        "id": "bk-vS37yG5vE"
      }
    },
    {
      "cell_type": "markdown",
      "source": [
        "**Пример 1.** Дан символьный файл, содержащий по крайней мере один символ пробела. Удалить все его элементы, расположенные после первого символа пробела, включая и этот пробел."
      ],
      "metadata": {
        "id": "hJaijtW9G8un"
      }
    },
    {
      "cell_type": "code",
      "source": [
        "# Открываем файл для чтения и считываем его содержимое\n",
        "with open('file.txt', 'r') as file:\n",
        "    content = file.read()\n",
        "\n",
        "# Находим индекс первого символа пробела\n",
        "space_index = content.find(' ')\n",
        "\n",
        "if space_index != -1:\n",
        "    # Если символ пробела найден, удаляем все элементы после него, включая сам пробел\n",
        "    new_content = content[:space_index]\n",
        "\n",
        "    # Записываем новое содержимое обратно в файл\n",
        "    with open('file.txt', 'w') as file:\n",
        "        file.write(new_content)\n",
        "else:\n",
        "    print(\"Символ пробела не найден в файле.\")\n"
      ],
      "metadata": {
        "id": "1bxj3cGPG-eb"
      },
      "execution_count": 58,
      "outputs": []
    },
    {
      "cell_type": "markdown",
      "source": [
        "**Пример 2.**  Дан символьный файл. Упорядочить его элементы по возрастанию их\n",
        "кодов."
      ],
      "metadata": {
        "id": "wxzcsXtXHS1e"
      }
    },
    {
      "cell_type": "code",
      "source": [
        "# Открываем файл и считываем его содержимое\n",
        "with open('file.txt', 'r') as file:\n",
        "    content = file.read()\n",
        "\n",
        "# Преобразуем содержимое файла в список символов\n",
        "characters = list(content)\n",
        "\n",
        "# Сортируем список символов по возрастанию их кодов ASCII\n",
        "sorted_characters = sorted(characters)\n",
        "\n",
        "# Преобразуем отсортированный список символов обратно в строку\n",
        "sorted_content = ''.join(sorted_characters)\n",
        "\n",
        "# Записываем отсортированное содержимое обратно в файл\n",
        "with open('file.txt', 'w') as file:\n",
        "    file.write(sorted_content)"
      ],
      "metadata": {
        "id": "78uEsWIwHgZf"
      },
      "execution_count": 61,
      "outputs": []
    },
    {
      "cell_type": "markdown",
      "source": [
        "**Пример 3.** Дан строковый файл. Создать новый строковый файл, содержащий все\n",
        "строки исходного файла наибольшей длины (в обратном порядке)."
      ],
      "metadata": {
        "id": "TyoqkseeIC3i"
      }
    },
    {
      "cell_type": "code",
      "source": [
        "# Открываем файл и считываем его содержимое\n",
        "with open('file.txt', 'r') as file:\n",
        "    lines = file.readlines()\n",
        "    print(lines)\n",
        "\n",
        "# Находим самую длинную строку в файле\n",
        "max_length = max(len(line) for line in lines)\n",
        "\n",
        "# Выбираем все строки исходного файла, которые имеют максимальную длину\n",
        "longest_lines = [line for line in lines if len(line) == max_length]\n",
        "\n",
        "# Создаем новый файл и записываем в него выбранные строки в обратном порядке\n",
        "with open('output_file.txt', 'w') as file:\n",
        "    for line in reversed(longest_lines):\n",
        "        file.write(line)"
      ],
      "metadata": {
        "colab": {
          "base_uri": "https://localhost:8080/"
        },
        "id": "X3EsHIaYIP4y",
        "outputId": "e0d30872-795e-4109-919a-17d2a2391b18"
      },
      "execution_count": 67,
      "outputs": [
        {
          "output_type": "stream",
          "name": "stdout",
          "text": [
            "['Красивым быть – не значит им родиться,\\n', 'Ведь красоте мы можем научиться.\\n', 'Когда красив душою Человек –\\n', 'Какая внешность может с ней сравниться?']\n"
          ]
        }
      ]
    },
    {
      "cell_type": "markdown",
      "source": [
        "**Пример 4.** Дан строковый файл, содержащий даты в формате «день/месяц/год»,\n",
        "причем под день и месяц отводится по две позиции, а под год — четыре\n",
        "(например, «16/04/2001»). Создать два файла целых чисел, первый из которых содержит значения дней, а второй — значения месяцев для дат из\n",
        "исходного строкового файла (в том же порядке)."
      ],
      "metadata": {
        "id": "mruVqYDwH9WW"
      }
    },
    {
      "cell_type": "code",
      "source": [
        "# Открываем исходный файл и считываем его содержимое\n",
        "with open('dates.txt', 'r') as file:\n",
        "    dates = file.readlines()\n",
        "\n",
        "# Создаем списки для хранения значений дней и месяцев\n",
        "days = []\n",
        "months = []\n",
        "\n",
        "# Разделяем даты на составляющие (день, месяц, год) и добавляем их в соответствующие списки\n",
        "for date in dates:\n",
        "    day, month, year = date.strip().split('/')\n",
        "    days.append(int(day))\n",
        "    months.append(int(month))\n",
        "\n",
        "# Создаем файлы целых чисел и записываем в них значения дней и месяцев\n",
        "with open('days.txt', 'w') as file:\n",
        "    for day in days:\n",
        "        file.write(str(day) + '\\n')\n",
        "\n",
        "with open('months.txt', 'w') as file:\n",
        "    for month in months:\n",
        "        file.write(str(month) + '\\n')\n"
      ],
      "metadata": {
        "id": "ZQwzJzp2KMnI"
      },
      "execution_count": 68,
      "outputs": []
    },
    {
      "cell_type": "markdown",
      "source": [
        "## Файлы CSV"
      ],
      "metadata": {
        "id": "xzZCOQvmKgnq"
      }
    },
    {
      "cell_type": "markdown",
      "source": [
        "Одним из распространенных файловых форматов, которые хранят в удобном виде информацию, является формат csv. Каждая строка в файле csv представляет отдельную запись или строку, которая состоит из отдельных столбцов, разделенных запятыми. Собственно поэтому формат и называется Comma Separated Values. Но хотя формат csv - это формат текстовых файлов, Python для упрощения работы с ним предоставляет специальный встроенный модуль csv.\n",
        "\n",
        "Рассмотрим работу модуля на примере:"
      ],
      "metadata": {
        "id": "KeJ2_wRPKkdT"
      }
    },
    {
      "cell_type": "code",
      "source": [
        "import csv\n",
        "\n",
        "FILENAME = \"users.csv\"\n",
        "\n",
        "users = [\n",
        "    [\"Tom\", 28],\n",
        "    [\"Alice\", 23],\n",
        "    [\"Bob\", 34]\n",
        "]\n",
        "\n",
        "with open(FILENAME, \"w\", newline=\"\") as file:\n",
        "    writer = csv.writer(file)\n",
        "    writer.writerows(users)\n",
        "\n",
        "\n",
        "with open(FILENAME, \"a\", newline=\"\") as file:\n",
        "    user = [\"Sam\", 31]\n",
        "    writer = csv.writer(file)\n",
        "    writer.writerow(user)"
      ],
      "metadata": {
        "id": "In0IYvHfKnDm"
      },
      "execution_count": 69,
      "outputs": []
    },
    {
      "cell_type": "markdown",
      "source": [
        "Для чтения из файла нам наоборот нужно создать объект reader:"
      ],
      "metadata": {
        "id": "4zWKefaMKqXy"
      }
    },
    {
      "cell_type": "code",
      "source": [
        "import csv\n",
        "\n",
        "FILENAME = \"users.csv\"\n",
        "\n",
        "with open(FILENAME, \"r\", newline=\"\") as file:\n",
        "    reader = csv.reader(file)\n",
        "    for row in reader:\n",
        "        print(row[0], \" - \", row[1])"
      ],
      "metadata": {
        "colab": {
          "base_uri": "https://localhost:8080/"
        },
        "id": "M807HKw5Kzxy",
        "outputId": "40cf0f74-e529-495e-ac48-e64ca097dd07"
      },
      "execution_count": 70,
      "outputs": [
        {
          "output_type": "stream",
          "name": "stdout",
          "text": [
            "Tom  -  28\n",
            "Alice  -  23\n",
            "Bob  -  34\n",
            "Sam  -  31\n"
          ]
        }
      ]
    },
    {
      "cell_type": "markdown",
      "source": [
        "### Работа со словарями\n",
        "\n",
        "В примере выше каждая запись или строка представляла собой отдельный список, например, [\"Sam\", 31]. Но кроме того, модуль csv имеет специальные дополнительные возможности для работы со словарями. В частности, функция csv.DictWriter() возвращает объект writer, который позволяет записывать в файл. А функция csv.DictReader() возвращает объект reader для чтения из файла. Например:"
      ],
      "metadata": {
        "id": "EzNeN5XFK2Mx"
      }
    },
    {
      "cell_type": "code",
      "source": [
        "import csv\n",
        "\n",
        "FILENAME = \"users.csv\"\n",
        "\n",
        "users = [\n",
        "    {\"name\": \"Tom\", \"age\": 28},\n",
        "    {\"name\": \"Alice\", \"age\": 23},\n",
        "    {\"name\": \"Bob\", \"age\": 34}\n",
        "]\n",
        "\n",
        "with open(FILENAME, \"w\", newline=\"\") as file:\n",
        "    columns = [\"name\", \"age\"]\n",
        "    writer = csv.DictWriter(file, fieldnames=columns)\n",
        "    writer.writeheader()\n",
        "\n",
        "    # запись нескольких строк\n",
        "    writer.writerows(users)\n",
        "\n",
        "    user = {\"name\" : \"Sam\", \"age\": 41}\n",
        "    # запись одной строки\n",
        "    writer.writerow(user)\n",
        "\n",
        "with open(FILENAME, \"r\", newline=\"\") as file:\n",
        "    reader = csv.DictReader(file)\n",
        "    for row in reader:\n",
        "        print(row[\"name\"], \"-\", row[\"age\"])"
      ],
      "metadata": {
        "colab": {
          "base_uri": "https://localhost:8080/"
        },
        "id": "Rx9dWMO3K564",
        "outputId": "8023542a-20e7-40f6-a06b-4ada9c98b6be"
      },
      "execution_count": 71,
      "outputs": [
        {
          "output_type": "stream",
          "name": "stdout",
          "text": [
            "Tom - 28\n",
            "Alice - 23\n",
            "Bob - 34\n",
            "Sam - 41\n"
          ]
        }
      ]
    },
    {
      "cell_type": "markdown",
      "source": [
        "## Бинарные файлы"
      ],
      "metadata": {
        "id": "m1HMYECPK9r7"
      }
    },
    {
      "cell_type": "markdown",
      "source": [
        "Бинарные файлы в отличие от текстовых хранят информацию в виде набора байт. Для работы с ними в Python необходим встроенный модуль pickle. Этот модуль предоставляет два метода:\n",
        "\n",
        "* dump(obj, file): записывает объект obj в бинарный файл file\n",
        "\n",
        "* load(file): считывает данные из бинарного файла в объект\n",
        "\n",
        "При открытии бинарного файла на чтение или запись также надо учитывать, что нам нужно применять режим \"b\" в дополнение к режиму записи (\"w\") или чтения (\"r\"). Допустим, надо надо сохранить два объекта:"
      ],
      "metadata": {
        "id": "J69zArR-LEqH"
      }
    },
    {
      "cell_type": "code",
      "source": [
        "import pickle\n",
        "\n",
        "FILENAME = \"user.dat\"\n",
        "\n",
        "name = \"Tom\"\n",
        "age = 19\n",
        "\n",
        "with open(FILENAME, \"wb\") as file:\n",
        "    pickle.dump(name, file)\n",
        "    pickle.dump(age, file)\n",
        "\n",
        "with open(FILENAME, \"rb\") as file:\n",
        "    name = pickle.load(file)\n",
        "    age = pickle.load(file)\n",
        "    print(\"Имя:\", name, \"\\tВозраст:\", age)"
      ],
      "metadata": {
        "colab": {
          "base_uri": "https://localhost:8080/"
        },
        "id": "omLcN__iLIu8",
        "outputId": "14416665-18c4-4d84-8704-9dde6844fbeb"
      },
      "execution_count": 72,
      "outputs": [
        {
          "output_type": "stream",
          "name": "stdout",
          "text": [
            "Имя: Tom \tВозраст: 19\n"
          ]
        }
      ]
    },
    {
      "cell_type": "markdown",
      "source": [
        "Подобным образом мы можем сохранять и извлекать из файла наборы объектов:"
      ],
      "metadata": {
        "id": "YtQQr2hWLL6m"
      }
    },
    {
      "cell_type": "code",
      "source": [
        "import pickle\n",
        "\n",
        "FILENAME = \"users.dat\"\n",
        "\n",
        "users = [\n",
        "    [\"Tom\", 28, True],\n",
        "    [\"Alice\", 23, False],\n",
        "    [\"Bob\", 34, False]\n",
        "]\n",
        "\n",
        "with open(FILENAME, \"wb\") as file:\n",
        "    pickle.dump(users, file)\n",
        "\n",
        "\n",
        "with open(FILENAME, \"rb\") as file:\n",
        "    users_from_file = pickle.load(file)\n",
        "    for user in users_from_file:\n",
        "        print(\"Имя:\", user[0], \"\\tВозраст:\", user[1], \"\\tЖенат(замужем):\", user[2])"
      ],
      "metadata": {
        "colab": {
          "base_uri": "https://localhost:8080/"
        },
        "id": "ihS9j-lHLO4v",
        "outputId": "953a016b-a21b-4ef3-f90f-3ba3dfe4a24d"
      },
      "execution_count": 73,
      "outputs": [
        {
          "output_type": "stream",
          "name": "stdout",
          "text": [
            "Имя: Tom \tВозраст: 28 \tЖенат(замужем): True\n",
            "Имя: Alice \tВозраст: 23 \tЖенат(замужем): False\n",
            "Имя: Bob \tВозраст: 34 \tЖенат(замужем): False\n"
          ]
        }
      ]
    },
    {
      "cell_type": "markdown",
      "source": [
        "### Примеры"
      ],
      "metadata": {
        "id": "ifc_3robLRe-"
      }
    },
    {
      "cell_type": "markdown",
      "source": [
        "**Пример 1.** Дано имя файла и целое число N (> 1). Создать файл целых чисел с\n",
        "данным именем и записать в него N первых положительных четных чисел\n",
        "(2, 4, . . .)."
      ],
      "metadata": {
        "id": "lzeLqylGLYqu"
      }
    },
    {
      "cell_type": "code",
      "source": [
        "import struct\n",
        "\n",
        "def create_even_numbers_file(filename, n):\n",
        "    with open(filename, 'wb') as file:\n",
        "        # Записываем первые N положительных четных чисел в двоичный файл\n",
        "        for i in range(1, 2*n+1):\n",
        "            if i % 2 == 0:\n",
        "                file.write(struct.pack('i', i))\n",
        "\n",
        "# Пример использования функции\n",
        "filename = \"even_numbers.bin\"  # Имя файла для записи\n",
        "n = 5  # Количество четных чисел\n",
        "create_even_numbers_file(filename, n)"
      ],
      "metadata": {
        "id": "o4ERJ7R3Lz-b"
      },
      "execution_count": 74,
      "outputs": []
    },
    {
      "cell_type": "markdown",
      "source": [
        "**Пример 2.** Читать файла."
      ],
      "metadata": {
        "id": "IWf_yRxmL8j7"
      }
    },
    {
      "cell_type": "code",
      "source": [
        "import struct\n",
        "\n",
        "def read_even_numbers_file(filename):\n",
        "    result = []\n",
        "    with open(filename, 'rb') as file:\n",
        "        while True:\n",
        "            data = file.read(4)  # Читаем 4 байта (размер целого числа)\n",
        "            if not data:\n",
        "                break  # Достигнут конец файла\n",
        "            number = struct.unpack('i', data)[0]  # Распаковываем байты в целое число\n",
        "            result.append(number)\n",
        "    return result\n",
        "\n",
        "# Пример использования функции\n",
        "filename = \"even_numbers.bin\"  # Имя файла для чтения\n",
        "result = read_even_numbers_file(filename)\n",
        "print(result)"
      ],
      "metadata": {
        "colab": {
          "base_uri": "https://localhost:8080/"
        },
        "id": "H-8PuBdrMPMb",
        "outputId": "06170b20-1b4d-4b7d-b8f2-f5b0892d4082"
      },
      "execution_count": 75,
      "outputs": [
        {
          "output_type": "stream",
          "name": "stdout",
          "text": [
            "[2, 4, 6, 8, 10]\n"
          ]
        }
      ]
    },
    {
      "cell_type": "markdown",
      "source": [
        "**Пример 3.** Дан файл целых чисел. Создать два новых файла, первый из которых\n",
        "содержит четные числа из исходного файла, а второй — нечетные (в том же\n",
        "порядке). Если четные или нечетные числа в исходном файле отсутствуют,\n",
        "то соответствующий результирующий файл оставить пустым."
      ],
      "metadata": {
        "id": "StjBSeD2MRjj"
      }
    },
    {
      "cell_type": "code",
      "source": [
        "numbers = [2, 5, 8, 11, 14, 17]\n",
        "\n",
        "with open('numbers.bin', 'wb') as file:\n",
        "    for number in numbers:\n",
        "        file.write(number.to_bytes(4, byteorder='little', signed=True))\n",
        "\n",
        "\n",
        "def split_even_odd_numbers_binary(input_filename, even_filename, odd_filename):\n",
        "    with open(input_filename, 'rb') as input_file, open(even_filename, 'wb') as even_file, open(odd_filename, 'wb') as odd_file:\n",
        "        while True:\n",
        "            data = input_file.read(4)  # Читаем 4 байта (размер целого числа)\n",
        "            if not data:\n",
        "                break  # Достигнут конец файла\n",
        "            number = int.from_bytes(data, byteorder='little', signed=True)  # Преобразуем байты в целое число\n",
        "            if number % 2 == 0:\n",
        "                even_file.write(number.to_bytes(4, byteorder='little', signed=True))  # Записываем четное число в файл\n",
        "            else:\n",
        "                odd_file.write(number.to_bytes(4, byteorder='little', signed=True))  # Записываем нечетное число в файл\n",
        "\n",
        "# Пример использования функции\n",
        "input_filename = \"numbers.bin\"  # Имя исходного файла с числами (двоичный файл)\n",
        "even_filename = \"even_numbers.bin\"  # Имя файла для четных чисел (двоичный файл)\n",
        "odd_filename = \"odd_numbers.bin\"  # Имя файла для нечетных чисел (двоичный файл)\n",
        "split_even_odd_numbers_binary(input_filename, even_filename, odd_filename)"
      ],
      "metadata": {
        "id": "KeB_IxZTMeYt"
      },
      "execution_count": 77,
      "outputs": []
    },
    {
      "cell_type": "markdown",
      "source": [
        "## Модуль shelve"
      ],
      "metadata": {
        "id": "EyvPRIqRNGVW"
      }
    },
    {
      "cell_type": "markdown",
      "source": [
        "Для работы с бинарными файлами в Python может применяться еще один модуль - shelve. Он сохраняет объекты в файл с определенным ключом. Затем по этому ключу может извлечь ранее сохраненный объект из файла. Процесс работы с данными через модуль shelve напоминает работу со словарями, которые также используют ключи для сохранения и извлечения объектов.\n",
        "\n",
        "Для открытия файла модуль shelve использует функцию open():\n",
        "\n",
        "\n",
        "\n",
        "\n",
        "```\n",
        "open(путь_к_файлу[, flag=\"c\"[, protocol=None[, writeback=False]]])\n",
        "```\n",
        "\n",
        "\n",
        "\n",
        "Где параметр flag может принимать значения:\n",
        "\n",
        "* c: файл открывается для чтения и записи (значение по умолчанию). Если файл не существует, то он создается.\n",
        "\n",
        "* r: файл открывается только для чтения.\n",
        "\n",
        "* w: файл открывается для записи.\n",
        "\n",
        "* n: файл открывается для записи Если файл не существует, то он создается. Если он существует, то он перезаписывается\n",
        "\n",
        "Для закрытия подключения к файлу вызывается метод close():"
      ],
      "metadata": {
        "id": "IJFoMae5NMXA"
      }
    },
    {
      "cell_type": "markdown",
      "source": [
        "\n",
        "\n",
        "```\n",
        "import shelve\n",
        "d = shelve.open(filename)\n",
        "d.close()\n",
        "```\n",
        "\n"
      ],
      "metadata": {
        "id": "CmGr79_LNi5n"
      }
    },
    {
      "cell_type": "markdown",
      "source": [
        "Либо можно открывать файл с помощью оператора with. Сохраним и считаем в файл несколько объектов:"
      ],
      "metadata": {
        "id": "yROGxyLwNtxZ"
      }
    },
    {
      "cell_type": "code",
      "source": [
        "import shelve\n",
        "\n",
        "FILENAME = \"states2\"\n",
        "with shelve.open(FILENAME) as states:\n",
        "    states[\"London\"] = \"Great Britain\"\n",
        "    states[\"Paris\"] = \"France\"\n",
        "    states[\"Berlin\"] = \"Germany\"\n",
        "    states[\"Madrid\"] = \"Spain\"\n",
        "\n",
        "with shelve.open(FILENAME) as states:\n",
        "    print(states[\"London\"])\n",
        "    print(states[\"Madrid\"])"
      ],
      "metadata": {
        "colab": {
          "base_uri": "https://localhost:8080/"
        },
        "id": "zXpK-do3NcUc",
        "outputId": "7b1a9cb7-87d5-48e7-a6f5-17920c777bac"
      },
      "execution_count": 79,
      "outputs": [
        {
          "output_type": "stream",
          "name": "stdout",
          "text": [
            "Great Britain\n",
            "Spain\n"
          ]
        }
      ]
    },
    {
      "cell_type": "markdown",
      "source": [
        "Также мы можем использовать метод get(). Первый параметр метода - ключ, по которому следует получить значение, а второй - значение по умолчанию, которое возвращается, если ключ не найден."
      ],
      "metadata": {
        "id": "XDuvqNGyNZaw"
      }
    },
    {
      "cell_type": "code",
      "source": [
        "with shelve.open(FILENAME) as states:\n",
        "    state = states.get(\"Brussels\", \"Undefined\")\n",
        "    print(state)"
      ],
      "metadata": {
        "colab": {
          "base_uri": "https://localhost:8080/"
        },
        "id": "ontCYKKxQWYj",
        "outputId": "1bfaa256-2fe9-42e9-9ec5-82f548faa48a"
      },
      "execution_count": 80,
      "outputs": [
        {
          "output_type": "stream",
          "name": "stdout",
          "text": [
            "Undefined\n"
          ]
        }
      ]
    },
    {
      "cell_type": "markdown",
      "source": [
        "Используя цикл for, можно перебрать все значения из файла:"
      ],
      "metadata": {
        "id": "tSOvskt9QagM"
      }
    },
    {
      "cell_type": "code",
      "source": [
        "with shelve.open(FILENAME) as states:\n",
        "    for key in states:\n",
        "        print(key,\" - \", states[key])"
      ],
      "metadata": {
        "colab": {
          "base_uri": "https://localhost:8080/"
        },
        "id": "oFp8CFlKQdnf",
        "outputId": "92a96c9f-2180-49ee-a79e-6360f39dbfbf"
      },
      "execution_count": 81,
      "outputs": [
        {
          "output_type": "stream",
          "name": "stdout",
          "text": [
            "Berlin  -  Germany\n",
            "London  -  Great Britain\n",
            "Madrid  -  Spain\n",
            "Paris  -  France\n"
          ]
        }
      ]
    },
    {
      "cell_type": "markdown",
      "source": [
        "Метод keys() возвращает все ключи из файла, а метод values() - все значения:"
      ],
      "metadata": {
        "id": "mHi4Y2QOQhYo"
      }
    },
    {
      "cell_type": "code",
      "source": [
        "with shelve.open(FILENAME) as states:\n",
        "\n",
        "    for city in states.keys():\n",
        "        print(city, end=\" \")        # London Paris Berlin Madrid\n",
        "    print()\n",
        "    for country in states.values():\n",
        "        print(country, end=\" \")     # Great Britain France Germany Spain"
      ],
      "metadata": {
        "colab": {
          "base_uri": "https://localhost:8080/"
        },
        "id": "bMY5HQxPQky3",
        "outputId": "b12ab6df-4493-4347-ea3e-f9c3679d19db"
      },
      "execution_count": 82,
      "outputs": [
        {
          "output_type": "stream",
          "name": "stdout",
          "text": [
            "Berlin London Madrid Paris \n",
            "Germany Great Britain Spain France "
          ]
        }
      ]
    },
    {
      "cell_type": "markdown",
      "source": [
        "Еще один метод items() возвращает набор кортежей. Каждый кортеж содержит ключ и значение."
      ],
      "metadata": {
        "id": "xLj9IDgmQn3J"
      }
    },
    {
      "cell_type": "code",
      "source": [
        "with shelve.open(FILENAME) as states:\n",
        "\n",
        "    for state in states.items():\n",
        "        print(state)"
      ],
      "metadata": {
        "colab": {
          "base_uri": "https://localhost:8080/"
        },
        "id": "htLhgsdGQqGN",
        "outputId": "367fea89-ccdc-4f02-892f-58d458ab8a5b"
      },
      "execution_count": 83,
      "outputs": [
        {
          "output_type": "stream",
          "name": "stdout",
          "text": [
            "('Berlin', 'Germany')\n",
            "('London', 'Great Britain')\n",
            "('Madrid', 'Spain')\n",
            "('Paris', 'France')\n"
          ]
        }
      ]
    },
    {
      "cell_type": "markdown",
      "source": [
        "### Обновление данных\n",
        "\n",
        "Для изменения данных достаточно присвоить по ключу новое значение, а для добавления данных - определить новый ключ:"
      ],
      "metadata": {
        "id": "ddLJAr6HQuHn"
      }
    },
    {
      "cell_type": "code",
      "source": [
        "import shelve\n",
        "\n",
        "FILENAME = \"states2\"\n",
        "with shelve.open(FILENAME) as states:\n",
        "    states[\"London\"] = \"Great Britain\"\n",
        "    states[\"Paris\"] = \"France\"\n",
        "    states[\"Berlin\"] = \"Germany\"\n",
        "    states[\"Madrid\"] = \"Spain\"\n",
        "\n",
        "with shelve.open(FILENAME) as states:\n",
        "\n",
        "    states[\"London\"] = \"United Kingdom\"\n",
        "    states[\"Brussels\"] = \"Belgium\"\n",
        "    for key in states:\n",
        "        print(key, \" - \", states[key])"
      ],
      "metadata": {
        "colab": {
          "base_uri": "https://localhost:8080/"
        },
        "id": "Zg6IOLpNQvu5",
        "outputId": "6cfa691a-ed08-4c4e-d6df-16fecec05830"
      },
      "execution_count": 84,
      "outputs": [
        {
          "output_type": "stream",
          "name": "stdout",
          "text": [
            "Berlin  -  Germany\n",
            "London  -  United Kingdom\n",
            "Brussels  -  Belgium\n",
            "Madrid  -  Spain\n",
            "Paris  -  France\n"
          ]
        }
      ]
    },
    {
      "cell_type": "markdown",
      "source": [
        "### Удаление данных\n",
        "\n",
        "Для удаления с одновременным получением можно использовать функцию pop(), в которую передается ключ элемента и значение по умолчанию, если ключ не найден:"
      ],
      "metadata": {
        "id": "GArwG_bkQykv"
      }
    },
    {
      "cell_type": "code",
      "source": [
        "with shelve.open(FILENAME) as states:\n",
        "\n",
        "    state = states.pop(\"London\", \"NotFound\")\n",
        "    print(state)"
      ],
      "metadata": {
        "colab": {
          "base_uri": "https://localhost:8080/"
        },
        "id": "0-iVCA6SQ2Zd",
        "outputId": "0927041a-a99b-49ed-e322-c0a197e75728"
      },
      "execution_count": 85,
      "outputs": [
        {
          "output_type": "stream",
          "name": "stdout",
          "text": [
            "United Kingdom\n"
          ]
        }
      ]
    },
    {
      "cell_type": "markdown",
      "source": [
        "Также для удаления может применяться оператор del:"
      ],
      "metadata": {
        "id": "pqu4i0VaQ6VJ"
      }
    },
    {
      "cell_type": "code",
      "source": [
        "with shelve.open(FILENAME) as states:\n",
        "\n",
        "    del states[\"Madrid\"]    # удаляем объект с ключом Madrid"
      ],
      "metadata": {
        "id": "h556jjDtQ7PW"
      },
      "execution_count": 86,
      "outputs": []
    },
    {
      "cell_type": "markdown",
      "source": [
        "Для удаления всех элементов можно использовать метод clear():"
      ],
      "metadata": {
        "id": "KWasj3btQ_-O"
      }
    },
    {
      "cell_type": "code",
      "source": [
        "with shelve.open(FILENAME) as states:\n",
        "\n",
        "    states.clear()"
      ],
      "metadata": {
        "id": "wWbDwf1PRBDb"
      },
      "execution_count": 87,
      "outputs": []
    },
    {
      "cell_type": "markdown",
      "source": [
        "## Модуль OS и работа с файловой системой"
      ],
      "metadata": {
        "id": "GxNkQK6URD4J"
      }
    },
    {
      "cell_type": "markdown",
      "source": [
        "Ряд возможностей по работе с каталогами и файлами предоставляет встроенный модуль os. Хотя он содержит много функций, рассмотрим только основные из них:\n",
        "\n",
        "* mkdir(): создает новую папку\n",
        "\n",
        "* rmdir(): удаляет папку\n",
        "\n",
        "* rename(): переименовывает файл\n",
        "\n",
        "* remove(): удаляет файл\n",
        "\n",
        "### Создание и удаление папки\n",
        "Для создания папки применяется функция mkdir(), в которую передается путь к создаваемой папке:"
      ],
      "metadata": {
        "id": "YmFbNKkjRMXm"
      }
    },
    {
      "cell_type": "code",
      "source": [
        "import os\n",
        "\n",
        "# путь относительно текущего скрипта\n",
        "os.mkdir(\"hellodir\")\n",
        "# абсолютный путь\n",
        "os.mkdir(\"somedir\")\n",
        "os.mkdir(\"somedir/hello\")"
      ],
      "metadata": {
        "id": "3E_R6s4QRVPU"
      },
      "execution_count": 94,
      "outputs": []
    },
    {
      "cell_type": "markdown",
      "source": [
        "Для удаления папки используется функция rmdir(), в которую передается путь к удаляемой папке:"
      ],
      "metadata": {
        "id": "aa6XgS-pRjj4"
      }
    },
    {
      "cell_type": "code",
      "source": [
        "import os\n",
        "\n",
        "# путь относительно текущего скрипта\n",
        "os.rmdir(\"hellodir\")\n",
        "# абсолютный путь\n",
        "os.rmdir(\"somedir/hello\")"
      ],
      "metadata": {
        "id": "1DTDU4l_Rlz_"
      },
      "execution_count": 91,
      "outputs": []
    },
    {
      "cell_type": "markdown",
      "source": [
        "### Переименование файла\n",
        "Для переименования вызывается функция rename(source, target), первый параметр которой - путь к исходному файлу, а второй - новое имя файла. В качестве путей могут использоваться как абсолютные, так и относительные. Например, пусть в папке C://SomeDir/ располагается файл somefile.txt. Переименуем его в файл \"hello.txt\":"
      ],
      "metadata": {
        "id": "RrTRoGLPRqU2"
      }
    },
    {
      "cell_type": "code",
      "source": [
        "import os\n",
        "\n",
        "os.rename(\"/content/somedir/hello/file.txt\", \"/content/somedir/hello/myfile.txt\")"
      ],
      "metadata": {
        "id": "i3_B3vqbRvxq"
      },
      "execution_count": 98,
      "outputs": []
    },
    {
      "cell_type": "markdown",
      "source": [
        "### Удаление файла\n",
        "Для удаления вызывается функция remove(), в которую передается путь к файлу:"
      ],
      "metadata": {
        "id": "Cw4btvOuSc3S"
      }
    },
    {
      "cell_type": "code",
      "source": [
        "import os\n",
        "\n",
        "os.remove(\"/content/somedir/hello/myfile.txt\")"
      ],
      "metadata": {
        "id": "pMM6ln1VShit"
      },
      "execution_count": 99,
      "outputs": []
    },
    {
      "cell_type": "markdown",
      "source": [
        "### Существование файла\n",
        "\n",
        "Если мы попытаемся открыть файл, который не существует, то Python выбросит исключение FileNotFoundError. Для отлова исключения мы можем использовать конструкцию try...except. Однако можно уже до открытия файла проверить, существует ли он или нет с помощью метода os.path.exists(path). В этот метод передается путь, который необходимо проверить:"
      ],
      "metadata": {
        "id": "rn7F0wXwSmkq"
      }
    },
    {
      "cell_type": "code",
      "source": [
        "filename = input(\"Введите путь к файлу: \")\n",
        "if os.path.exists(filename):\n",
        "    print(\"Указанный файл существует\")\n",
        "else:\n",
        "    print(\"Файл не существует\")"
      ],
      "metadata": {
        "colab": {
          "base_uri": "https://localhost:8080/"
        },
        "id": "fNUvQEM7Sqtf",
        "outputId": "22fbe1c2-c354-4197-c091-7388adf130fe"
      },
      "execution_count": 100,
      "outputs": [
        {
          "output_type": "stream",
          "name": "stdout",
          "text": [
            "Введите путь к файлу: hello\n",
            "Указанный файл существует\n"
          ]
        }
      ]
    },
    {
      "cell_type": "markdown",
      "source": [
        "### Примеры"
      ],
      "metadata": {
        "id": "AyJxrYBqS_b6"
      }
    },
    {
      "cell_type": "markdown",
      "source": [
        "**Пример 1.**  Дана строка S. Если S является допустимым именем файла, то создать пустой файл с этим именем и вывести TRUE. Если файл с именем S создать\n",
        "нельзя, то вывести FALSE."
      ],
      "metadata": {
        "id": "2-97qN62TCSA"
      }
    },
    {
      "cell_type": "code",
      "source": [
        "import os\n",
        "\n",
        "def create_file_if_valid_filename(filename):\n",
        "    try:\n",
        "        with open(filename, 'w'):\n",
        "            pass\n",
        "        return True\n",
        "    except OSError:\n",
        "        return False\n",
        "\n",
        "# Пример использования функции\n",
        "filename = \"example.txt\"  # Замените на имя файла, которое нужно проверить и создать\n",
        "result = create_file_if_valid_filename(filename)\n",
        "print(result)"
      ],
      "metadata": {
        "colab": {
          "base_uri": "https://localhost:8080/"
        },
        "id": "HOuaiMErTOw5",
        "outputId": "5082d829-9ea3-4147-d223-f824ea22d650"
      },
      "execution_count": 102,
      "outputs": [
        {
          "output_type": "stream",
          "name": "stdout",
          "text": [
            "True\n"
          ]
        }
      ]
    },
    {
      "cell_type": "markdown",
      "source": [
        "**Пример 2.** Создания, переименования, удаления и перемещения файла"
      ],
      "metadata": {
        "id": "u2ffYAilTRYQ"
      }
    },
    {
      "cell_type": "code",
      "source": [
        "import os\n",
        "\n",
        "# Создание файла\n",
        "with open('example.txt', 'w') as file:\n",
        "    file.write('This is an example file.')\n",
        "\n",
        "# Переименование файла\n",
        "os.rename('example.txt', 'new_name.txt')\n",
        "\n",
        "# Удаление файла\n",
        "os.remove('new_name.txt')\n",
        "\n",
        "# Перемещение файла\n",
        "#os.replace('old_location/old_file.txt', 'new_location/new_file.txt')"
      ],
      "metadata": {
        "id": "eJcgUPQeTbk0"
      },
      "execution_count": 105,
      "outputs": []
    },
    {
      "cell_type": "markdown",
      "source": [
        "**Пример 3.** Программа подсчета слов"
      ],
      "metadata": {
        "id": "CzlZ-ElQTvKC"
      }
    },
    {
      "cell_type": "markdown",
      "source": [
        "Рассмотрим работу со строками на небольшом примере, который будет представлять программу подсчета слов.\n",
        "\n",
        "Пусть весь код программы будет выглядеть следующим образом:"
      ],
      "metadata": {
        "id": "BTy7ajB3TyNr"
      }
    },
    {
      "cell_type": "code",
      "source": [
        "# Программа подсчета слов в файле\n",
        "import os\n",
        "\n",
        "\n",
        "def get_words(filename):\n",
        "    with open(filename, encoding=\"utf8\") as file:\n",
        "        text = file.read()\n",
        "    text = text.replace(\"\\n\", \" \")\n",
        "    text = text.replace(\",\", \"\").replace(\".\", \"\").replace(\"?\", \"\").replace(\"!\", \"\")\n",
        "    text = text.lower()\n",
        "    words = text.split()\n",
        "    words.sort()\n",
        "    return words\n",
        "\n",
        "\n",
        "def get_words_dict(words):\n",
        "    words_dict = dict()\n",
        "\n",
        "    for word in words:\n",
        "        if word in words_dict:\n",
        "            words_dict[word] = words_dict[word] + 1\n",
        "        else:\n",
        "            words_dict[word] = 1\n",
        "    return words_dict\n",
        "\n",
        "\n",
        "def main():\n",
        "    filename = input(\"Введите путь к файлу: \")\n",
        "    if not os.path.exists(filename):\n",
        "        print(\"Указанный файл не существует\")\n",
        "    else:\n",
        "        words = get_words(filename)\n",
        "        words_dict = get_words_dict(words)\n",
        "        print(f\"Кол-во слов: {len(words)}\")\n",
        "        print(f\"Кол-во уникальных слов: {len(words_dict)}\")\n",
        "        print(\"Все использованные слова:\")\n",
        "        for word in words_dict:\n",
        "            print(word.ljust(20), words_dict[word])\n",
        "\n",
        "\n",
        "if __name__ == \"__main__\":\n",
        "    main()"
      ],
      "metadata": {
        "colab": {
          "base_uri": "https://localhost:8080/"
        },
        "id": "_UuBJ0FoT0KR",
        "outputId": "3376a198-6034-4fda-e4c9-7dd81a900e72"
      },
      "execution_count": 107,
      "outputs": [
        {
          "output_type": "stream",
          "name": "stdout",
          "text": [
            "Введите путь к файлу: hello.txt\n",
            "Кол-во слов: 6\n",
            "Кол-во уникальных слов: 5\n",
            "Все использованные слова:\n",
            "bye                  1\n",
            "good                 1\n",
            "hello                1\n",
            "world                2\n",
            "worldhello           1\n"
          ]
        }
      ]
    },
    {
      "cell_type": "markdown",
      "source": [
        "## Запись и чтение архивных zip-файлов"
      ],
      "metadata": {
        "id": "05fWo_iGUG8n"
      }
    },
    {
      "cell_type": "markdown",
      "source": [
        "Zip представляет наиболее популярный формат архивации и сжатия файлов. И язык Python имеет встроенный модуль для работы с ними - zipfile. С помощью этого модуля можно создавать, считывать, записывать zip-файлы, получать их содержимое и добавлять в них файлы. Также поддерживается шифрование, но не поддерживается дешифрование.\n",
        "\n",
        "Для представления zip-файла в этом модуле определен класс ZipFile. Он имеет следующий конструктор:\n",
        "\n",
        "\n",
        "\n",
        "\n",
        "```\n",
        "ZipFile(file, mode='r', compression=ZIP_STORED, allowZip64=True, compresslevel=None, *, strict_timestamps=True, metadata_encoding=None)\n",
        "```\n",
        "\n",
        "\n"
      ],
      "metadata": {
        "id": "VAu-M_5RUry-"
      }
    },
    {
      "cell_type": "markdown",
      "source": [
        "Параметры:\n",
        "\n",
        "* file: путь к zip-файлу\n",
        "\n",
        "* mode: режим открытия файла. Может принимать следующие значения:\n",
        "\n",
        "> * r: применяется для чтения существующего файла\n",
        "\n",
        "> * w: применяется для записи нового файла\n",
        "\n",
        "> * a: применяется для добавления в файл\n",
        "\n",
        "* compression: тип сжатия файла при записи. Может принимать значения:\n",
        "\n",
        "> * ZIP_STORED: архивация без сжатия (значение по умолчанию)\n",
        "\n",
        "> * ZIP_DEFLATED: стандартный тип сжатия при архивации в zip\n",
        "\n",
        "> * ZIP_BZIP2: сжатие с помощью способа BZIP2\n",
        "\n",
        "> * ZIP_LZMA: сжатие с помощью способа LZMA\n",
        "\n",
        "* allowZip64: если равно True, то zip-файл может быть больше 4 Гб\n",
        "\n",
        "* compresslevel: уровень сжатия при записи файла. Для типов сжатия ZIP_STORED и ZIP_LZMA не применяется. Для типа ZIP_DEFLATED допустимые значения от 0 до 9, а для типа ZIP_BZIP2 допустимые значения от 1 до 9.\n",
        "\n",
        "*  strict_timestamps: при значении False позволяет работать с zip-файлами, созданными ранее 01.01.1980 и позже 31.12.2107\n",
        "\n",
        "*  metadata_encoding: применяется для декодирования метаданных zip-файла (например, коментариев)\n",
        "\n",
        "Для работы с файлами этот класс предоставляет ряд методов:\n",
        "\n",
        "*  close(): закрывает zip-файл\n",
        "\n",
        "*  getinfo(): возвращает информацию об одном файле из архива в виде объекта ZipInfo\n",
        "\n",
        "*  namelist(): возвращает список файлов архива\n",
        "\n",
        "*  infolist(): возвращает информацию обо всех файлах из архива в виде списока объектов ZipInfo\n",
        "\n",
        "*  open(): предоставляет доступ к одному из файлов в архиве\n",
        "\n",
        "* read(): считывает файл из архива в набор байтов\n",
        "\n",
        "* extract(): извлекает из архива один файл\n",
        "\n",
        "*  extractall(): извлекает все элементы из архива\n",
        "\n",
        "*  setpassword(): устанавливает пароль для zip-файла\n",
        "\n",
        "* printdir(): выводит на консоль содержимое архива\n",
        "\n",
        "Создание и закрытие файла\n",
        "Для создания архивного файла в конструктор ZipFile передается режим \"w\" или \"a\":"
      ],
      "metadata": {
        "id": "2j9cDjnmUzkp"
      }
    },
    {
      "cell_type": "code",
      "source": [
        "from zipfile import ZipFile\n",
        "\n",
        "myzip = ZipFile(\"arkchive.zip\", \"w\")"
      ],
      "metadata": {
        "id": "c06Z18OxVYbk"
      },
      "execution_count": 109,
      "outputs": []
    },
    {
      "cell_type": "markdown",
      "source": [
        "После выполнения кода в текущей папке будет создаваться пустой архивный файл \"metanit.zip\".\n",
        "\n",
        "После окончания работы с архивом для его закрытия применяется метод close():"
      ],
      "metadata": {
        "id": "YbTH5LTSVUcc"
      }
    },
    {
      "cell_type": "code",
      "source": [
        "from zipfile import ZipFile\n",
        "\n",
        "myzip = ZipFile(\"arkchive.zip\", \"w\")\n",
        "myzip.close()"
      ],
      "metadata": {
        "id": "Ju3tPJOWViDQ"
      },
      "execution_count": 110,
      "outputs": []
    },
    {
      "cell_type": "markdown",
      "source": [
        "Но так как ZipFile также представляет менеджер контекста, то он поддерживает выражение with, которое определяет контекст и автоматически закрывает файл по завершению контекста:"
      ],
      "metadata": {
        "id": "ncBrwLSHVo4b"
      }
    },
    {
      "cell_type": "code",
      "source": [
        "from zipfile import ZipFile\n",
        "\n",
        "with ZipFile(\"arkchive.zip\", \"w\") as myzip:\n",
        "    pass"
      ],
      "metadata": {
        "id": "ATxN_9CUVrZw"
      },
      "execution_count": 111,
      "outputs": []
    },
    {
      "cell_type": "markdown",
      "source": [
        "## Запись файлов в архив\n",
        "\n",
        "Для записи файлов в архив применяется файл write():\n",
        "\n",
        "\n",
        "`write(filename, arcname=None, compress_type=None, compresslevel=None)`\n",
        "\n",
        "Первый параметр представляет файл, который записиывается в архив. Второй параметр - arcname устанавливает произвольное имя для файла внутри архива (по умолчанию это само имя файла). Третий параметр - compress_type представляет тип сжатия, а параметр compresslevel - уровень сжатия.\n",
        "\n",
        "Например, запишем в архив \"arkchive.zip\" файл \"hello.txt\" (который, как предполагается, находится в той же папке, где и текущий скрипт python):"
      ],
      "metadata": {
        "id": "g87w7-AlVuSl"
      }
    },
    {
      "cell_type": "code",
      "source": [
        "from zipfile import ZipFile\n",
        "\n",
        "with ZipFile(\"arkchive.zip\", \"w\") as myzip:\n",
        "    myzip.write(\"hello.txt\")"
      ],
      "metadata": {
        "id": "U3F3DI20V8TM"
      },
      "execution_count": 112,
      "outputs": []
    },
    {
      "cell_type": "markdown",
      "source": [
        "Стоит учитывать, что при открытии файла в режиме \"w\" при всех последующих записях текущее содержимое будет затираться, то есть фактически архивный файл будет создаваться заново. Если нам необходимо добавить, то необходимо определять zip-файл в режиме \"a\":"
      ],
      "metadata": {
        "id": "cf3REJ3hV4Z7"
      }
    },
    {
      "cell_type": "code",
      "source": [
        "from zipfile import ZipFile\n",
        "\n",
        "with ZipFile(\"archive.zip\", \"a\") as myzip:\n",
        "    myzip.write(\"hello3.txt\")\n",
        "    myzip.write(\"forest.jpg\")"
      ],
      "metadata": {
        "colab": {
          "base_uri": "https://localhost:8080/",
          "height": 373
        },
        "id": "hRWtsrlhWD3E",
        "outputId": "bfa41f58-c4d6-4b5b-b3a4-6234c56e9bf7"
      },
      "execution_count": 115,
      "outputs": [
        {
          "output_type": "error",
          "ename": "FileNotFoundError",
          "evalue": "ignored",
          "traceback": [
            "\u001b[0;31m---------------------------------------------------------------------------\u001b[0m",
            "\u001b[0;31mFileNotFoundError\u001b[0m                         Traceback (most recent call last)",
            "\u001b[0;32m<ipython-input-115-5b33a4c67c13>\u001b[0m in \u001b[0;36m<cell line: 3>\u001b[0;34m()\u001b[0m\n\u001b[1;32m      2\u001b[0m \u001b[0;34m\u001b[0m\u001b[0m\n\u001b[1;32m      3\u001b[0m \u001b[0;32mwith\u001b[0m \u001b[0mZipFile\u001b[0m\u001b[0;34m(\u001b[0m\u001b[0;34m\"archive.zip\"\u001b[0m\u001b[0;34m,\u001b[0m \u001b[0;34m\"a\"\u001b[0m\u001b[0;34m)\u001b[0m \u001b[0;32mas\u001b[0m \u001b[0mmyzip\u001b[0m\u001b[0;34m:\u001b[0m\u001b[0;34m\u001b[0m\u001b[0;34m\u001b[0m\u001b[0m\n\u001b[0;32m----> 4\u001b[0;31m     \u001b[0mmyzip\u001b[0m\u001b[0;34m.\u001b[0m\u001b[0mwrite\u001b[0m\u001b[0;34m(\u001b[0m\u001b[0;34m\"hello3.txt\"\u001b[0m\u001b[0;34m)\u001b[0m\u001b[0;34m\u001b[0m\u001b[0;34m\u001b[0m\u001b[0m\n\u001b[0m\u001b[1;32m      5\u001b[0m     \u001b[0mmyzip\u001b[0m\u001b[0;34m.\u001b[0m\u001b[0mwrite\u001b[0m\u001b[0;34m(\u001b[0m\u001b[0;34m\"forest.jpg\"\u001b[0m\u001b[0;34m)\u001b[0m\u001b[0;34m\u001b[0m\u001b[0;34m\u001b[0m\u001b[0m\n",
            "\u001b[0;32m/usr/lib/python3.10/zipfile.py\u001b[0m in \u001b[0;36mwrite\u001b[0;34m(self, filename, arcname, compress_type, compresslevel)\u001b[0m\n\u001b[1;32m   1739\u001b[0m             )\n\u001b[1;32m   1740\u001b[0m \u001b[0;34m\u001b[0m\u001b[0m\n\u001b[0;32m-> 1741\u001b[0;31m         zinfo = ZipInfo.from_file(filename, arcname,\n\u001b[0m\u001b[1;32m   1742\u001b[0m                                   strict_timestamps=self._strict_timestamps)\n\u001b[1;32m   1743\u001b[0m \u001b[0;34m\u001b[0m\u001b[0m\n",
            "\u001b[0;32m/usr/lib/python3.10/zipfile.py\u001b[0m in \u001b[0;36mfrom_file\u001b[0;34m(cls, filename, arcname, strict_timestamps)\u001b[0m\n\u001b[1;32m    502\u001b[0m         \u001b[0;32mif\u001b[0m \u001b[0misinstance\u001b[0m\u001b[0;34m(\u001b[0m\u001b[0mfilename\u001b[0m\u001b[0;34m,\u001b[0m \u001b[0mos\u001b[0m\u001b[0;34m.\u001b[0m\u001b[0mPathLike\u001b[0m\u001b[0;34m)\u001b[0m\u001b[0;34m:\u001b[0m\u001b[0;34m\u001b[0m\u001b[0;34m\u001b[0m\u001b[0m\n\u001b[1;32m    503\u001b[0m             \u001b[0mfilename\u001b[0m \u001b[0;34m=\u001b[0m \u001b[0mos\u001b[0m\u001b[0;34m.\u001b[0m\u001b[0mfspath\u001b[0m\u001b[0;34m(\u001b[0m\u001b[0mfilename\u001b[0m\u001b[0;34m)\u001b[0m\u001b[0;34m\u001b[0m\u001b[0;34m\u001b[0m\u001b[0m\n\u001b[0;32m--> 504\u001b[0;31m         \u001b[0mst\u001b[0m \u001b[0;34m=\u001b[0m \u001b[0mos\u001b[0m\u001b[0;34m.\u001b[0m\u001b[0mstat\u001b[0m\u001b[0;34m(\u001b[0m\u001b[0mfilename\u001b[0m\u001b[0;34m)\u001b[0m\u001b[0;34m\u001b[0m\u001b[0;34m\u001b[0m\u001b[0m\n\u001b[0m\u001b[1;32m    505\u001b[0m         \u001b[0misdir\u001b[0m \u001b[0;34m=\u001b[0m \u001b[0mstat\u001b[0m\u001b[0;34m.\u001b[0m\u001b[0mS_ISDIR\u001b[0m\u001b[0;34m(\u001b[0m\u001b[0mst\u001b[0m\u001b[0;34m.\u001b[0m\u001b[0mst_mode\u001b[0m\u001b[0;34m)\u001b[0m\u001b[0;34m\u001b[0m\u001b[0;34m\u001b[0m\u001b[0m\n\u001b[1;32m    506\u001b[0m         \u001b[0mmtime\u001b[0m \u001b[0;34m=\u001b[0m \u001b[0mtime\u001b[0m\u001b[0;34m.\u001b[0m\u001b[0mlocaltime\u001b[0m\u001b[0;34m(\u001b[0m\u001b[0mst\u001b[0m\u001b[0;34m.\u001b[0m\u001b[0mst_mtime\u001b[0m\u001b[0;34m)\u001b[0m\u001b[0;34m\u001b[0m\u001b[0;34m\u001b[0m\u001b[0m\n",
            "\u001b[0;31mFileNotFoundError\u001b[0m: [Errno 2] No such file or directory: 'hello3.txt'"
          ]
        }
      ]
    },
    {
      "cell_type": "markdown",
      "source": [
        "Стоит отметить, что по умолчанию сжатие не применяется. Но при необходимости можно применить какой-нибудь способ сжатия и уровень сжатия\""
      ],
      "metadata": {
        "id": "LsU8OC4pWV3B"
      }
    },
    {
      "cell_type": "code",
      "source": [
        "from zipfile import ZipFile, ZIP_DEFLATED\n",
        "\n",
        "with ZipFile(\"arkhive.zip\", \"w\", compression=ZIP_DEFLATED, compresslevel=3) as myzip:\n",
        "    myzip.write(\"hello.txt\")"
      ],
      "metadata": {
        "id": "2oJnMRv0WYep"
      },
      "execution_count": 116,
      "outputs": []
    },
    {
      "cell_type": "markdown",
      "source": [
        "Необходимо учитывать, что если мы попробуем добавить в архив файлы с уже имеющимися именами, то консоль выведет предупреждение. Чтобы избежать наличия файлов с дублирующимися именами можно через второй папаметр метода write явным образом определить для них уникальное имя внутри архива:"
      ],
      "metadata": {
        "id": "QFD_aUAhWflT"
      }
    },
    {
      "cell_type": "code",
      "source": [
        "from zipfile import ZipFile\n",
        "\n",
        "with ZipFile(\"arkhive.zip\", \"a\") as myzip:\n",
        "    myzip.write(\"hello.txt\", \"hello1.txt\")\n",
        "    myzip.write(\"hello.txt\", \"hello2.txt\")\n",
        "    myzip.write(\"hello.txt\", \"hello3.txt\")"
      ],
      "metadata": {
        "id": "lO47v-fRWiT1"
      },
      "execution_count": 118,
      "outputs": []
    },
    {
      "cell_type": "markdown",
      "source": [
        "### Получение информации о файлах в архиве\n",
        "\n",
        "Метод infolist() возвращает информацию о файлах в архиве с виде списка, где каждый отдельный файл представлен объектом ZipInfo:"
      ],
      "metadata": {
        "id": "muPaJGypWmym"
      }
    },
    {
      "cell_type": "code",
      "source": [
        "from zipfile import ZipFile\n",
        "\n",
        "with ZipFile(\"arkhive.zip\", \"a\") as myzip:\n",
        "    print(myzip.infolist())"
      ],
      "metadata": {
        "colab": {
          "base_uri": "https://localhost:8080/"
        },
        "id": "13OkXyDXWrWd",
        "outputId": "b1766e31-a009-456b-b507-618e648bf196"
      },
      "execution_count": 119,
      "outputs": [
        {
          "output_type": "stream",
          "name": "stdout",
          "text": [
            "[<ZipInfo filename='hello.txt' compress_type=deflate filemode='-rw-r--r--' file_size=40 compress_size=30>, <ZipInfo filename='hello1.txt' filemode='-rw-r--r--' file_size=40>, <ZipInfo filename='hello2.txt' filemode='-rw-r--r--' file_size=40>, <ZipInfo filename='hello3.txt' filemode='-rw-r--r--' file_size=40>]\n"
          ]
        }
      ]
    },
    {
      "cell_type": "markdown",
      "source": [
        "Класс ZipInfo предоставляет ряд атрибутов для хранения информации о файле. Основные из них:\n",
        "\n",
        "* filename: название файла\n",
        "\n",
        "* date_time: дата и время последнего изменения файла в виде кортежа в формате (год, месяц, день, час, минута, секунда)\n",
        "\n",
        "* compress_type: тип сжатия\n",
        "\n",
        "* compress_size: размер после сжатия\n",
        "\n",
        "* file_size: оригинальный размер файла до сжатия\n",
        "\n",
        "Получим эти данные по каждому отдельному файлу в архиве:"
      ],
      "metadata": {
        "id": "yhqFeCH5WuTG"
      }
    },
    {
      "cell_type": "code",
      "source": [
        "from zipfile import ZipFile\n",
        "\n",
        "with ZipFile(\"arkhive.zip\", \"r\") as myzip:\n",
        "    for item in myzip.infolist():\n",
        "        print(f\"File Name: {item.filename} Date: {item.date_time} Size: {item.file_size}\")"
      ],
      "metadata": {
        "colab": {
          "base_uri": "https://localhost:8080/"
        },
        "id": "3LuM19TWW7YX",
        "outputId": "17d4ae52-4e8c-4110-cc52-84922b72d50b"
      },
      "execution_count": 120,
      "outputs": [
        {
          "output_type": "stream",
          "name": "stdout",
          "text": [
            "File Name: hello.txt Date: (2024, 1, 1, 8, 8, 38) Size: 40\n",
            "File Name: hello1.txt Date: (2024, 1, 1, 8, 8, 38) Size: 40\n",
            "File Name: hello2.txt Date: (2024, 1, 1, 8, 8, 38) Size: 40\n",
            "File Name: hello3.txt Date: (2024, 1, 1, 8, 8, 38) Size: 40\n"
          ]
        }
      ]
    },
    {
      "cell_type": "markdown",
      "source": [
        "С помощью метода is_dir() можно проверить, является ли элемент в архиве папкой:"
      ],
      "metadata": {
        "id": "fqwhbxMbW-Gt"
      }
    },
    {
      "cell_type": "code",
      "source": [
        "from zipfile import ZipFile\n",
        "\n",
        "with ZipFile(\"arkhive.zip\", \"r\") as myzip:\n",
        "    for item in myzip.infolist():\n",
        "        if(item.is_dir()):\n",
        "            print(f\"Папка: {item.filename}\")\n",
        "        else:\n",
        "            print(f\"Файл: {item.filename}\")"
      ],
      "metadata": {
        "colab": {
          "base_uri": "https://localhost:8080/"
        },
        "id": "DaMwEv2BXA4s",
        "outputId": "4b80f71b-87c8-4d18-9920-b0ec4e207188"
      },
      "execution_count": 121,
      "outputs": [
        {
          "output_type": "stream",
          "name": "stdout",
          "text": [
            "Файл: hello.txt\n",
            "Файл: hello1.txt\n",
            "Файл: hello2.txt\n",
            "Файл: hello3.txt\n"
          ]
        }
      ]
    },
    {
      "cell_type": "markdown",
      "source": [
        "Если надо получить только список имен входящих в архив файлов, то применяется метод namelist():"
      ],
      "metadata": {
        "id": "wZV-a9tAXEMu"
      }
    },
    {
      "cell_type": "code",
      "source": [
        "from zipfile import ZipFile\n",
        "\n",
        "with ZipFile(\"arkhive.zip\", \"r\") as myzip:\n",
        "    for item in myzip.namelist():\n",
        "        print(item)"
      ],
      "metadata": {
        "colab": {
          "base_uri": "https://localhost:8080/"
        },
        "id": "7JomvTTDXGtr",
        "outputId": "036c22ce-c8bd-48df-e3a1-e68df4d59cc9"
      },
      "execution_count": 123,
      "outputs": [
        {
          "output_type": "stream",
          "name": "stdout",
          "text": [
            "hello.txt\n",
            "hello1.txt\n",
            "hello2.txt\n",
            "hello3.txt\n"
          ]
        }
      ]
    },
    {
      "cell_type": "markdown",
      "source": [
        "С помощью метода getinfo() можно получить данные по одному из архивированных файлов, передав в метод его имя в архиве. Результат метода - объект ZipInfo:"
      ],
      "metadata": {
        "id": "gPVy0t06XOmg"
      }
    },
    {
      "cell_type": "code",
      "source": [
        "from zipfile import ZipFile\n",
        "\n",
        "with ZipFile(\"arkhive.zip\", \"r\") as myzip:\n",
        "    try:\n",
        "        hello_file = myzip.getinfo(\"hello.txt\")\n",
        "        print(hello_file.file_size)\n",
        "    except KeyError:\n",
        "        print(\"Указанный файл отсутствует\")"
      ],
      "metadata": {
        "colab": {
          "base_uri": "https://localhost:8080/"
        },
        "id": "xTCMIt5rXPat",
        "outputId": "a3329003-ed8c-4e83-a5b1-3b330305cf48"
      },
      "execution_count": 125,
      "outputs": [
        {
          "output_type": "stream",
          "name": "stdout",
          "text": [
            "40\n"
          ]
        }
      ]
    },
    {
      "cell_type": "markdown",
      "source": [
        "Если в архиве не окажется элемента с указанным именем, то метод сгенерирует ошибку KeyError.\n",
        "\n",
        "### Извлечение файлов из архива\n",
        "Для извлечения всех файлов из архива применяется метод extractall():\n",
        "\n",
        "\n",
        "`extractall(path=None, members=None, pwd=None)`\n",
        "\n",
        "Первый параметр метода устанавливает каталог для извлечения архива (по умолчанию извлечение идет в текущий каталог). Параметр members представляет список строк - список названий файлов, которые надо извлечт из архива. И третий параметр - pwd представляет пароль, в случае если архив закрыт паролем.\n",
        "\n",
        "Например, извлечем все файлы из архива:"
      ],
      "metadata": {
        "id": "DXO_Jq90XVmx"
      }
    },
    {
      "cell_type": "code",
      "source": [
        "from zipfile import ZipFile\n",
        "\n",
        "with ZipFile(\"arkhive.zip\", \"r\") as myzip:\n",
        "    myzip.extractall()"
      ],
      "metadata": {
        "id": "vprSREbZXec9"
      },
      "execution_count": 126,
      "outputs": []
    },
    {
      "cell_type": "markdown",
      "source": [
        "Извлечение в определенную папку:"
      ],
      "metadata": {
        "id": "uCpo8V0NXigw"
      }
    },
    {
      "cell_type": "code",
      "source": [
        "from zipfile import ZipFile\n",
        "\n",
        "with ZipFile(\"archive.zip\", \"r\") as myzip:\n",
        "    myzip.extractall(path=\"hello\")"
      ],
      "metadata": {
        "id": "Izle4FBBXlhy"
      },
      "execution_count": 129,
      "outputs": []
    },
    {
      "cell_type": "markdown",
      "source": [
        "Извлечение части файлов:"
      ],
      "metadata": {
        "id": "CNrfHBkKXvrA"
      }
    },
    {
      "cell_type": "code",
      "source": [
        "from zipfile import ZipFile\n",
        "\n",
        "# Создание архива и добавление файлов\n",
        "with ZipFile(\"archive.zip\", \"w\") as myzip:\n",
        "    myzip.write(\"hello.txt\")\n",
        "    myzip.write(\"days.txt\")\n",
        "\n",
        "# Извлечение конкретных файлов из архива\n",
        "with ZipFile(\"archive.zip\", \"r\") as myzip:\n",
        "    myzip.extractall(path=\"archive\", members=[\"hello.txt\", \"days.txt\"])"
      ],
      "metadata": {
        "id": "kXE_gNa6X9kF"
      },
      "execution_count": 135,
      "outputs": []
    },
    {
      "cell_type": "markdown",
      "source": [
        "Для извлечения одного файла применяется метод extract(), в который в качестве обязательного параметра передается имя извлекаемого файла:"
      ],
      "metadata": {
        "id": "DoiGoMkYW40C"
      }
    },
    {
      "cell_type": "code",
      "source": [
        "from zipfile import ZipFile\n",
        "\n",
        "with ZipFile(\"archive.zip\", \"r\") as myzip:\n",
        "    myzip.extract(\"hello.txt\")"
      ],
      "metadata": {
        "id": "JQxXs2qwYmhA"
      },
      "execution_count": 136,
      "outputs": []
    },
    {
      "cell_type": "markdown",
      "source": [
        "### Считывание файла\n",
        "\n",
        "Метод read() позволяет считать содержимое файла из архива в набор байтов:"
      ],
      "metadata": {
        "id": "3NrbqFKCYsV4"
      }
    },
    {
      "cell_type": "code",
      "source": [
        "from zipfile import ZipFile\n",
        "\n",
        "with ZipFile(\"arkhive.zip\", \"r\") as myzip:\n",
        "    content = myzip.read(\"hello.txt\")\n",
        "    print(content)"
      ],
      "metadata": {
        "colab": {
          "base_uri": "https://localhost:8080/"
        },
        "id": "c2ZlO7kGYwZI",
        "outputId": "4cd52816-737e-4055-c5ec-67b052d62281"
      },
      "execution_count": 138,
      "outputs": [
        {
          "output_type": "stream",
          "name": "stdout",
          "text": [
            "b'hello world\\ngood bye, worldHello, world\\n'\n"
          ]
        }
      ]
    },
    {
      "cell_type": "markdown",
      "source": [
        "### Открытие файла\n",
        "Метод open() позволяет открывать отдельные файлы из архива без непосредственного их извлечения:\n",
        "\n",
        "\n",
        "\n",
        "\n",
        "```\n",
        "open(name, mode='r', pwd=None, *, force_zip64=False)\n",
        "```\n",
        "\n",
        "\n",
        "В качестве первого обязательного параметра передается имя файла внутри архива. Второй параметр - mode устанавливает режим открытия. Параметр pwd задает пароль, если файл защищен паролем. И параметр force_zip64 при значении True позволяет открывать файлы больше 4 Гб.\n",
        "\n",
        "Этот файл может быть полезен для манипулирования файлом, например, для считывания его содержимого или, наоборот, для записи в него. Например, откроем файл и считаем его содержимое:"
      ],
      "metadata": {
        "id": "Qa2PPOYdY1S6"
      }
    },
    {
      "cell_type": "code",
      "source": [
        "from zipfile import ZipFile\n",
        "\n",
        "with ZipFile(\"arkhive.zip\", \"a\") as myzip:\n",
        "    # записываем в архив новый файл \"hello5.txt\"\n",
        "    with myzip.open(\"hello.txt\", \"w\") as hello_file:\n",
        "        encoded_str = bytes(\"Python...\", \"UTF-8\")\n",
        "        hello_file.write(encoded_str)"
      ],
      "metadata": {
        "colab": {
          "base_uri": "https://localhost:8080/"
        },
        "id": "1LF72-6cZA-h",
        "outputId": "cc9fa466-1339-435e-f152-4509c2dbc2d2"
      },
      "execution_count": 140,
      "outputs": [
        {
          "output_type": "stream",
          "name": "stderr",
          "text": [
            "/usr/lib/python3.10/zipfile.py:1519: UserWarning: Duplicate name: 'hello.txt'\n",
            "  return self._open_to_write(zinfo, force_zip64=force_zip64)\n"
          ]
        }
      ]
    },
    {
      "cell_type": "markdown",
      "source": [
        "# Работа с датами и временем\n",
        "## Модуль datetime"
      ],
      "metadata": {
        "id": "ni8xDdvtY-Oa"
      }
    },
    {
      "cell_type": "markdown",
      "source": [
        "Основной функционал для работы с датами и временем сосредоточен в модуле datetime в виде следующих классов:\n",
        "\n",
        "* date\n",
        "\n",
        "* time\n",
        "\n",
        "* datetime\n",
        "\n",
        "### Класс date\n",
        "Для работы с датами воспользуемся классом date, который определен в модуле datetime. Для создания объекта date мы можем использовать конструктор date, который последовательно принимает три параметра: год, месяц и день.\n",
        "\n",
        "\n",
        "\n",
        "\n",
        "```\n",
        "date(year, month, day)\n",
        "```\n",
        "\n",
        "\n",
        "\n",
        "\n",
        "Например, создадим какую-либо дату:"
      ],
      "metadata": {
        "id": "iQqIMGAGZ7iz"
      }
    },
    {
      "cell_type": "code",
      "source": [
        "import datetime\n",
        "\n",
        "yesterday = datetime.date(2024,5, 2)\n",
        "print(yesterday)"
      ],
      "metadata": {
        "id": "Q5vMs1JgaH5H",
        "outputId": "5594f0db-0320-46ba-80a3-55f968321006",
        "colab": {
          "base_uri": "https://localhost:8080/"
        }
      },
      "execution_count": 142,
      "outputs": [
        {
          "output_type": "stream",
          "name": "stdout",
          "text": [
            "2024-05-02\n"
          ]
        }
      ]
    },
    {
      "cell_type": "markdown",
      "source": [
        "Если необходимо получить текущую дату, то можно воспользоваться методом today():"
      ],
      "metadata": {
        "id": "N_bdflwaaPBR"
      }
    },
    {
      "cell_type": "code",
      "source": [
        "from datetime import date\n",
        "\n",
        "today = date.today()\n",
        "print(today)\n",
        "print(\"{}.{}.{}\".format(today.day, today.month, today.year))"
      ],
      "metadata": {
        "id": "V42Z8nGYaRoY",
        "outputId": "287a6664-d762-44d4-e1ef-70c82f4b3d0d",
        "colab": {
          "base_uri": "https://localhost:8080/"
        }
      },
      "execution_count": 143,
      "outputs": [
        {
          "output_type": "stream",
          "name": "stdout",
          "text": [
            "2024-01-01\n",
            "1.1.2024\n"
          ]
        }
      ]
    },
    {
      "cell_type": "markdown",
      "source": [
        "С помощью свойств day, month, year можно получить соответственно день, месяц и год\n",
        "\n",
        "## Класс time\n",
        "За работу с временем отвечает класс time. Используя его конструктор, можно создать объект времени:\n",
        "\n",
        "\n",
        "\n",
        "\n",
        "```\n",
        "time([hour] [, min] [, sec] [, microsec])\n",
        "```\n",
        "\n",
        "\n",
        "Конструктор последовательно принимает часы, минуты, секунды и микросекунды. Все параметры необязательные, и если мы какой-то параметр не передадим, то соответствующее значение будет инициализироваться нулем."
      ],
      "metadata": {
        "id": "png7Y16raT6s"
      }
    },
    {
      "cell_type": "code",
      "source": [
        "from datetime import time\n",
        "\n",
        "current_time = time()\n",
        "print(current_time)     # 00:00:00\n",
        "\n",
        "current_time = time(16, 25)\n",
        "print(current_time)     # 16:25:00\n",
        "\n",
        "current_time = time(16, 25, 45)\n",
        "print(current_time)     # 16:25:45"
      ],
      "metadata": {
        "id": "6iUmtG4aadHf",
        "outputId": "43e13000-d4cc-48dc-e90e-66bcd01029cd",
        "colab": {
          "base_uri": "https://localhost:8080/"
        }
      },
      "execution_count": 144,
      "outputs": [
        {
          "output_type": "stream",
          "name": "stdout",
          "text": [
            "00:00:00\n",
            "16:25:00\n",
            "16:25:45\n"
          ]
        }
      ]
    },
    {
      "cell_type": "markdown",
      "source": [
        "## Класс datetime\n",
        "Класс datetime из одноименного модуля объединяет возможности работы с датой и временем. Для создания объекта datetime можно использовать следующий конструктор:\n",
        "\n",
        "\n",
        "\n",
        "\n",
        "```\n",
        "datetime(year, month, day [, hour] [, min] [, sec] [, microsec])\n",
        "```\n",
        "\n",
        "\n",
        "Первые три параметра, представляющие год, месяц и день, являются обязательными. Остальные необязательные, и если мы не укажем для них значения, то по умолчанию они инициализируются нулем."
      ],
      "metadata": {
        "id": "U2k2Qh6Lafng"
      }
    },
    {
      "cell_type": "code",
      "source": [
        "from datetime import datetime\n",
        "\n",
        "deadline = datetime(2024, 5, 10)\n",
        "print(deadline)\n",
        "\n",
        "deadline = datetime(2024, 5, 10, 4, 30)\n",
        "print(deadline)"
      ],
      "metadata": {
        "id": "KNP1YADpaoQ0",
        "outputId": "f5f41a75-a6a0-4704-ea25-6a194e95c67a",
        "colab": {
          "base_uri": "https://localhost:8080/"
        }
      },
      "execution_count": 145,
      "outputs": [
        {
          "output_type": "stream",
          "name": "stdout",
          "text": [
            "2024-05-10 00:00:00\n",
            "2024-05-10 04:30:00\n"
          ]
        }
      ]
    },
    {
      "cell_type": "markdown",
      "source": [
        "Для получения текущих даты и времени можно вызвать метод now():"
      ],
      "metadata": {
        "id": "xaYtMKncasXU"
      }
    },
    {
      "cell_type": "code",
      "source": [
        "from datetime import datetime\n",
        "\n",
        "now = datetime.now()\n",
        "print(now)\n",
        "\n",
        "print(\"{}.{}.{}  {}:{}\".format(now.day, now.month, now.year, now.hour, now.minute))\n",
        "\n",
        "print(now.date())\n",
        "print(now.time())"
      ],
      "metadata": {
        "id": "T52jeLz5auuq",
        "outputId": "17ab85ac-014e-47c3-9a53-ecce901c5506",
        "colab": {
          "base_uri": "https://localhost:8080/"
        }
      },
      "execution_count": 146,
      "outputs": [
        {
          "output_type": "stream",
          "name": "stdout",
          "text": [
            "2024-01-01 09:46:46.899847\n",
            "1.1.2024  9:46\n",
            "2024-01-01\n",
            "09:46:46.899847\n"
          ]
        }
      ]
    },
    {
      "cell_type": "markdown",
      "source": [
        "С помощью свойств day, month, year, hour, minute, second можно получить отдельные значения даты и времени. А через методы date() и time() можно получить отдельно дату и время соответственно.\n",
        "\n",
        "### Преобразование из строки в дату\n",
        "Из функциональности класса datetime следует отметить метод strptime(), который позволяет распарсить строку и преобразовать ее в дату. Этот метод принимает два параметра:\n",
        "\n",
        "\n",
        "\n",
        "```\n",
        "strptime(str, format)\n",
        "```\n",
        "\n",
        "\n",
        "\n",
        "\n",
        "Первый параметр str представляет строковое определение даты и времени, а второй параметр - формат, который определяет, как различные части даты и времени расположены в этой строке.\n",
        "\n",
        "Для определения формата мы можем использовать следующие коды:\n",
        "\n",
        "* %d: день месяца в виде числа\n",
        "\n",
        "* %m: порядковый номер месяца\n",
        "\n",
        "* %y: год в виде 2-х чисел\n",
        "\n",
        "* %Y: год в виде 4-х чисел\n",
        "\n",
        "* %H: час в 24-х часовом формате\n",
        "\n",
        "* %M: минута\n",
        "\n",
        "* %S: секунда\n",
        "\n",
        "Применим различные форматы:"
      ],
      "metadata": {
        "id": "jklL7m-Kayyi"
      }
    },
    {
      "cell_type": "code",
      "source": [
        "from datetime import datetime\n",
        "deadline = datetime.strptime(\"22/05/2024\", \"%d/%m/%Y\")\n",
        "print(deadline)\n",
        "\n",
        "deadline = datetime.strptime(\"22/05/2024 12:30\", \"%d/%m/%Y %H:%M\")\n",
        "print(deadline)\n",
        "\n",
        "deadline = datetime.strptime(\"05-22-2024 12:30\", \"%m-%d-%Y %H:%M\")\n",
        "print(deadline)"
      ],
      "metadata": {
        "id": "xJCmZOx9bFhn",
        "outputId": "541ad943-b77f-45ce-eaf6-f08e9db6aa1f",
        "colab": {
          "base_uri": "https://localhost:8080/"
        }
      },
      "execution_count": 147,
      "outputs": [
        {
          "output_type": "stream",
          "name": "stdout",
          "text": [
            "2024-05-22 00:00:00\n",
            "2024-05-22 12:30:00\n",
            "2024-05-22 12:30:00\n"
          ]
        }
      ]
    },
    {
      "cell_type": "markdown",
      "source": [
        "## Операции с датами"
      ],
      "metadata": {
        "id": "d0ntUTPxbNHP"
      }
    },
    {
      "cell_type": "markdown",
      "source": [
        "### Фоматирование дат и времени\n",
        "Для форматирования объектов date и time в обоих этих классах предусмотрен метод strftime(format). Этот метод принимает только один параметр, указывающий на формат, в который нужно преобразовать дату или время.\n",
        "\n",
        "Для определения формата мы можем использовать один из следующих кодов форматирования:\n",
        "\n",
        "* %a: аббревиатура дня недели. Например, Wed - от слова Wednesday (по умолчанию используются английские наименования)\n",
        "\n",
        "* %A: день недели полностью, например, Wednesday\n",
        "\n",
        "* %b: аббревиатура названия месяца. Например, Oct (сокращение от October)\n",
        "\n",
        "* %B: название месяца полностью, например, October\n",
        "\n",
        "* %d: день месяца, дополненный нулем, например, 01\n",
        "\n",
        "* %m: номер месяца, дополненный нулем, например, 05\n",
        "\n",
        "* %y: год в виде 2-х чисел\n",
        "\n",
        "* %Y: год в виде 4-х чисел\n",
        "\n",
        "* %H: час в 24-х часовом формате, например, 13\n",
        "\n",
        "* %I: час в 12-ти часовом формате, например, 01\n",
        "\n",
        "* %M: минута\n",
        "\n",
        "* %S: секунда\n",
        "\n",
        "* %f: микросекунда\n",
        "\n",
        "* %p: указатель AM/PM (AM и PM — это сокращения, использующиеся для обозначения времени суток.)\n",
        "\n",
        "* %c: дата и время, отформатированные под текущую локаль\n",
        "\n",
        "* %x: дата, отформатированная под текущую локаль\n",
        "\n",
        "* %X: время, форматированное под текущую локаль\n",
        "\n",
        "Используем различные форматы:"
      ],
      "metadata": {
        "id": "45RSRIBzbRrp"
      }
    },
    {
      "cell_type": "code",
      "source": [
        "from datetime import datetime\n",
        "now = datetime.now()\n",
        "print(now.strftime(\"%Y-%m-%d\"))\n",
        "print(now.strftime(\"%d/%m/%Y\"))\n",
        "print(now.strftime(\"%d/%m/%y\"))\n",
        "print(now.strftime(\"%d %B %Y (%A)\"))\n",
        "print(now.strftime(\"%d/%m/%y %I:%M\"))"
      ],
      "metadata": {
        "id": "SERUFBd4au6A",
        "outputId": "50cfaca4-504f-4079-a660-5415d13fe8ce",
        "colab": {
          "base_uri": "https://localhost:8080/"
        }
      },
      "execution_count": 148,
      "outputs": [
        {
          "output_type": "stream",
          "name": "stdout",
          "text": [
            "2024-01-01\n",
            "01/01/2024\n",
            "01/01/24\n",
            "01 January 2024 (Monday)\n",
            "01/01/24 09:51\n"
          ]
        }
      ]
    },
    {
      "cell_type": "markdown",
      "source": [
        "При выводе названий месяцев и дней недели по умолчанию используются английские наименования. Если мы хотим использовать текущую локаль, то мы можем ее предварительно установить с помощью модуля locale:"
      ],
      "metadata": {
        "id": "EHAT02wubybI"
      }
    },
    {
      "cell_type": "code",
      "source": [
        "from datetime import datetime\n",
        "import locale\n",
        "locale.setlocale(locale.LC_ALL, \"\")\n",
        "\n",
        "now = datetime.now()\n",
        "print(now.strftime(\"%d %B %Y (%A)\"))"
      ],
      "metadata": {
        "id": "BGohXcolb08H",
        "outputId": "6f3cfa10-c1df-4600-d1c7-52c35ff9a8de",
        "colab": {
          "base_uri": "https://localhost:8080/"
        }
      },
      "execution_count": 149,
      "outputs": [
        {
          "output_type": "stream",
          "name": "stdout",
          "text": [
            "01 January 2024 (Monday)\n"
          ]
        }
      ]
    },
    {
      "cell_type": "markdown",
      "source": [
        "## Сложение и вычитание дат и времени\n",
        "Нередко при работе с датами возникает необходимость добавить к какой-либо дате определенный промежуток времени или, наоборот, вычесть некоторый период. И специально для таких операций в модуле datetime определен класс timedelta. Фактически этот класс определяет некоторый период времени.\n",
        "\n",
        "Для определения промежутка времени можно использовать конструктор timedelta:\n",
        "\n",
        "\n",
        "\n",
        "```\n",
        "\n",
        "timedelta([days] [, seconds] [, microseconds] [, milliseconds] [, minutes] [, hours] [, weeks])\n",
        "\n",
        "```\n",
        "\n",
        "\n",
        "В конструктор мы последовательно передаем дни, секунды, микросекунды, миллисекунды, минуты, часы и недели.\n",
        "\n",
        "Определим несколько периодов:"
      ],
      "metadata": {
        "id": "7vGMlEOBb4Is"
      }
    },
    {
      "cell_type": "code",
      "source": [
        "from datetime import timedelta\n",
        "\n",
        "three_hours = timedelta(hours=3)\n",
        "print(three_hours)       # 3:00:00\n",
        "three_hours_thirty_minutes = timedelta(hours=3, minutes=30)  # 3:30:00\n",
        "\n",
        "two_days = timedelta(2)  # 2 days, 0:00:00\n",
        "\n",
        "two_days_three_hours_thirty_minutes = timedelta(days=2, hours=3, minutes=30)  # 2 days, 3:30:00"
      ],
      "metadata": {
        "id": "KTlJbqAycBFE",
        "outputId": "3ec04d67-1da5-495d-a744-d77859538466",
        "colab": {
          "base_uri": "https://localhost:8080/"
        }
      },
      "execution_count": 150,
      "outputs": [
        {
          "output_type": "stream",
          "name": "stdout",
          "text": [
            "3:00:00\n"
          ]
        }
      ]
    },
    {
      "cell_type": "markdown",
      "source": [
        "Используя timedelta, мы можем складывать или вычитать даты. Например, получим дату, которая будет через два дня:"
      ],
      "metadata": {
        "id": "3N3SOdzbcC5A"
      }
    },
    {
      "cell_type": "code",
      "source": [
        "from datetime import timedelta, datetime\n",
        "\n",
        "now = datetime.now()\n",
        "print(now)\n",
        "two_days = timedelta(2)\n",
        "in_two_days = now + two_days\n",
        "print(in_two_days)"
      ],
      "metadata": {
        "id": "Y4W2C10HcFXD",
        "outputId": "557176e1-c400-4911-f96e-be5a41fe3393",
        "colab": {
          "base_uri": "https://localhost:8080/"
        }
      },
      "execution_count": 151,
      "outputs": [
        {
          "output_type": "stream",
          "name": "stdout",
          "text": [
            "2024-01-01 09:52:38.450536\n",
            "2024-01-03 09:52:38.450536\n"
          ]
        }
      ]
    },
    {
      "cell_type": "markdown",
      "source": [
        "Или узнаем, сколько было времени 10 часов 15 минут назад, то есть фактически нам надо вычесть из текущего времени 10 часов и 15 минут:"
      ],
      "metadata": {
        "id": "Wvn-VglRcIqN"
      }
    },
    {
      "cell_type": "code",
      "source": [
        "from datetime import timedelta, datetime\n",
        "\n",
        "now = datetime.now()\n",
        "till_ten_hours_fifteen_minutes = now - timedelta(hours=10, minutes=15)\n",
        "print(till_ten_hours_fifteen_minutes)"
      ],
      "metadata": {
        "id": "J9iwC-gKcKvP",
        "outputId": "c24e81d0-b484-4a35-fbd1-bb26ba9d3a24",
        "colab": {
          "base_uri": "https://localhost:8080/"
        }
      },
      "execution_count": 152,
      "outputs": [
        {
          "output_type": "stream",
          "name": "stdout",
          "text": [
            "2023-12-31 23:37:56.846432\n"
          ]
        }
      ]
    },
    {
      "cell_type": "markdown",
      "source": [
        "## Свойства timedelta\n",
        "Класс timedelta имеет несколько свойств, с помощью которых мы можем получить временной промежуток:\n",
        "\n",
        "* days: возвращает количество дней\n",
        "\n",
        "* seconds: возвращает количество секунд\n",
        "\n",
        "* microseconds: возвращает количество микросекунд\n",
        "\n",
        "Кроме того, метод total_seconds() возвращает общее количество секунд, куда входят и дни, и собственно секунды, и микросекунды.\n",
        "\n",
        "Например, узнаем какой временной период между двумя датами:"
      ],
      "metadata": {
        "id": "EscPVImScPae"
      }
    },
    {
      "cell_type": "code",
      "source": [
        "from datetime import timedelta, datetime\n",
        "\n",
        "now = datetime.now()\n",
        "twenty_two_may = datetime(2017, 5, 22)\n",
        "period = twenty_two_may - now\n",
        "print(\"{} дней  {} секунд   {} микросекунд\".format(period.days, period.seconds, period.microseconds))\n",
        "# 18 дней  17537 секунд   72765 микросекунд\n",
        "\n",
        "print(\"Всего: {} секунд\".format(period.total_seconds()))\n",
        "# Всего: 1572737.072765 секунд"
      ],
      "metadata": {
        "id": "Mkamu87AcTRC",
        "outputId": "c1f82ea8-6008-40c3-de24-21bfecd883a8",
        "colab": {
          "base_uri": "https://localhost:8080/"
        }
      },
      "execution_count": 153,
      "outputs": [
        {
          "output_type": "stream",
          "name": "stdout",
          "text": [
            "-2416 дней  50786 секунд   903898 микросекунд\n",
            "Всего: -208691613.096102 секунд\n"
          ]
        }
      ]
    },
    {
      "cell_type": "markdown",
      "source": [
        "## Сравнение дат\n",
        "\n",
        "Также как и строки и числа, даты можно сравнивать с помощью стандартных операторов сравнения:"
      ],
      "metadata": {
        "id": "XXlhZGCOcWNY"
      }
    },
    {
      "cell_type": "code",
      "source": [
        "from datetime import datetime\n",
        "\n",
        "now = datetime.now()\n",
        "deadline = datetime(2024, 5, 22)\n",
        "if now > deadline:\n",
        "    print(\"Срок сдачи проекта прошел\")\n",
        "elif now.day == deadline.day and now.month == deadline.month and now.year == deadline.year:\n",
        "    print(\"Срок сдачи проекта сегодня\")\n",
        "else:\n",
        "    period = deadline - now\n",
        "    print(\"Осталось {} дней\".format(period.days))"
      ],
      "metadata": {
        "id": "J8w-FnPZcZMM",
        "outputId": "a8c53107-8da0-4d1a-80e5-0e0c121c804c",
        "colab": {
          "base_uri": "https://localhost:8080/"
        }
      },
      "execution_count": 154,
      "outputs": [
        {
          "output_type": "stream",
          "name": "stdout",
          "text": [
            "Осталось 141 дней\n"
          ]
        }
      ]
    }
  ]
}