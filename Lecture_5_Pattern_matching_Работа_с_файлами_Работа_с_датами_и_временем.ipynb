{
  "nbformat": 4,
  "nbformat_minor": 0,
  "metadata": {
    "colab": {
      "provenance": [],
      "authorship_tag": "ABX9TyN2bq9thbvcsexT0woBC2RD",
      "include_colab_link": true
    },
    "kernelspec": {
      "name": "python3",
      "display_name": "Python 3"
    },
    "language_info": {
      "name": "python"
    }
  },
  "cells": [
    {
      "cell_type": "markdown",
      "metadata": {
        "id": "view-in-github",
        "colab_type": "text"
      },
      "source": [
        "<a href=\"https://colab.research.google.com/github/CodeHunterOfficial/Python_Basics/blob/main/Lecture_5_Pattern_matching_%D0%A0%D0%B0%D0%B1%D0%BE%D1%82%D0%B0_%D1%81_%D1%84%D0%B0%D0%B9%D0%BB%D0%B0%D0%BC%D0%B8_%D0%A0%D0%B0%D0%B1%D0%BE%D1%82%D0%B0_%D1%81_%D0%B4%D0%B0%D1%82%D0%B0%D0%BC%D0%B8_%D0%B8_%D0%B2%D1%80%D0%B5%D0%BC%D0%B5%D0%BD%D0%B5%D0%BC.ipynb\" target=\"_parent\"><img src=\"https://colab.research.google.com/assets/colab-badge.svg\" alt=\"Open In Colab\"/></a>"
      ]
    },
    {
      "cell_type": "markdown",
      "source": [
        "# Pattern matching\n",
        "## Конструкция match"
      ],
      "metadata": {
        "id": "Q6Goy1WCWZjJ"
      }
    },
    {
      "cell_type": "markdown",
      "source": [
        "Начиная с версии 3.10 в языке Python появилась такая функциональность как pattern matching (сопоставление шаблонов). Pattern matching представляет применение конструкции match, которая позволяет сопоставить выражение с некоторым шаблоном. И если выражение соответствует шаблону, то выполняются определенные действия. В этом смысле конструкция match похожа на конструкцию if/else/elif, которая выполняет определенные действия в зависимости от некоторого условия. Однако функциональность match гораздо шире - она также позволяет извлечь данные из составных типов и применить действия к различным частям объектов.\n",
        "\n",
        "Конструкция match имеет следующее формальное определение:\n",
        "\n",
        "\n",
        ">```\n",
        "match выражение:\n",
        "    case шаблон_1:\n",
        "        действие_1\n",
        "    case шаблон_2:\n",
        "        действие_2\n",
        "    ................\n",
        "    case шаблон_N:\n",
        "        действие_N\n",
        "    case _:\n",
        "        действие_по_умолчанию\n",
        "```\n",
        "\n"
      ],
      "metadata": {
        "id": "yUac5g6bWk2O"
      }
    },
    {
      "cell_type": "markdown",
      "source": [
        "После ключевого слова match идет сравниваемое выражение. И затем после двоеточия на последующих строках располагаются выражения case. После каждого выражения case указывается шаблон, с которым сравнивается выражение из match. После шаблона через двоеточие указываются набор выполняемых действий блока case.\n",
        "\n",
        "Конструкция match последовательно сравнивает выражение с шаблонами из блоков case. И если был найден шаблон из какого-нибудь блока case соответствует выражению из match, то выполняются инструкции из данного блока case.\n",
        "\n",
        "В качестве паттернов/шаблонов, с которыми сравниваются выражения, могут применяться как данные примитивных типов, так и последовательности элементов и объектов классов.\n",
        "\n",
        "Вначале рассмотрим ситуацию, когда в качестве шаблона выступают литералы примитивных типов. Например, в зависимости от языка выведем приветственное сообщение:"
      ],
      "metadata": {
        "id": "9Fplc5QdWrYE"
      }
    },
    {
      "cell_type": "code",
      "execution_count": null,
      "metadata": {
        "id": "Y0MF6E0oWLJq"
      },
      "outputs": [],
      "source": []
    }
  ]
}