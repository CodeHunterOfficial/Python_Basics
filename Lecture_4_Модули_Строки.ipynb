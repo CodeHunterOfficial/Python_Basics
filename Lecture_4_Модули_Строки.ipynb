{
  "nbformat": 4,
  "nbformat_minor": 0,
  "metadata": {
    "colab": {
      "provenance": [],
      "authorship_tag": "ABX9TyORYohnIAS85DihycoLMJxv",
      "include_colab_link": true
    },
    "kernelspec": {
      "name": "python3",
      "display_name": "Python 3"
    },
    "language_info": {
      "name": "python"
    }
  },
  "cells": [
    {
      "cell_type": "markdown",
      "metadata": {
        "id": "view-in-github",
        "colab_type": "text"
      },
      "source": [
        "<a href=\"https://colab.research.google.com/github/CodeHunterOfficial/Python_Basics/blob/main/Lecture_4_%D0%9C%D0%BE%D0%B4%D1%83%D0%BB%D0%B8_%D0%A1%D1%82%D1%80%D0%BE%D0%BA%D0%B8.ipynb\" target=\"_parent\"><img src=\"https://colab.research.google.com/assets/colab-badge.svg\" alt=\"Open In Colab\"/></a>"
      ]
    },
    {
      "cell_type": "markdown",
      "source": [
        "# Модули\n",
        "## Определение и подключение модулей"
      ],
      "metadata": {
        "id": "SlFXHSASnWmW"
      }
    },
    {
      "cell_type": "markdown",
      "source": [],
      "metadata": {
        "id": "lg1O8Q4anenq"
      }
    },
    {
      "cell_type": "code",
      "execution_count": null,
      "metadata": {
        "id": "9hIiUKSYnRcn"
      },
      "outputs": [],
      "source": []
    },
    {
      "cell_type": "markdown",
      "source": [
        "# Строки\n",
        "## Работа со строками"
      ],
      "metadata": {
        "id": "tASfcaHKn8li"
      }
    },
    {
      "cell_type": "markdown",
      "source": [
        "Строка представляет последовательность символов в кодировке Unicode, заключенных в кавычки. Причем для определения строк Python позволяет использовать как одинарные, так и двойные кавычики:"
      ],
      "metadata": {
        "id": "5bjWrGjAoCe1"
      }
    },
    {
      "cell_type": "code",
      "source": [
        "message = \"Hello World!\"\n",
        "print(message)  # Hello World!\n",
        "\n",
        "name = 'Tom'\n",
        "print(name)  # Tom"
      ],
      "metadata": {
        "colab": {
          "base_uri": "https://localhost:8080/"
        },
        "id": "2M6z7ANOoDDX",
        "outputId": "cc94d486-48b7-4da6-d711-45b7a1c87654"
      },
      "execution_count": 1,
      "outputs": [
        {
          "output_type": "stream",
          "name": "stdout",
          "text": [
            "Hello World!\n",
            "Tom\n"
          ]
        }
      ]
    },
    {
      "cell_type": "markdown",
      "source": [],
      "metadata": {
        "id": "T-dgF0dBoHGq"
      }
    }
  ]
}