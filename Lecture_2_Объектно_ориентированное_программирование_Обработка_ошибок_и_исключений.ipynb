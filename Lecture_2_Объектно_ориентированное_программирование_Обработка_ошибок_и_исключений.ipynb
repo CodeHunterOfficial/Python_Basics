{
  "nbformat": 4,
  "nbformat_minor": 0,
  "metadata": {
    "colab": {
      "provenance": [],
      "authorship_tag": "ABX9TyP6+nOe0njkg516twQqXrLn",
      "include_colab_link": true
    },
    "kernelspec": {
      "name": "python3",
      "display_name": "Python 3"
    },
    "language_info": {
      "name": "python"
    }
  },
  "cells": [
    {
      "cell_type": "markdown",
      "metadata": {
        "id": "view-in-github",
        "colab_type": "text"
      },
      "source": [
        "<a href=\"https://colab.research.google.com/github/CodeHunterOfficial/Python_Basics/blob/main/Lecture_2_%D0%9E%D0%B1%D1%8A%D0%B5%D0%BA%D1%82%D0%BD%D0%BE_%D0%BE%D1%80%D0%B8%D0%B5%D0%BD%D1%82%D0%B8%D1%80%D0%BE%D0%B2%D0%B0%D0%BD%D0%BD%D0%BE%D0%B5_%D0%BF%D1%80%D0%BE%D0%B3%D1%80%D0%B0%D0%BC%D0%BC%D0%B8%D1%80%D0%BE%D0%B2%D0%B0%D0%BD%D0%B8%D0%B5_%D0%9E%D0%B1%D1%80%D0%B0%D0%B1%D0%BE%D1%82%D0%BA%D0%B0_%D0%BE%D1%88%D0%B8%D0%B1%D0%BE%D0%BA_%D0%B8_%D0%B8%D1%81%D0%BA%D0%BB%D1%8E%D1%87%D0%B5%D0%BD%D0%B8%D0%B9.ipynb\" target=\"_parent\"><img src=\"https://colab.research.google.com/assets/colab-badge.svg\" alt=\"Open In Colab\"/></a>"
      ]
    },
    {
      "cell_type": "markdown",
      "source": [
        "# Объектно-ориентированное программирование. Обработка ошибок и исключений"
      ],
      "metadata": {
        "id": "Pv5QNLp_-nCq"
      }
    },
    {
      "cell_type": "markdown",
      "source": [
        "## Классы и объекты"
      ],
      "metadata": {
        "id": "0uO9Q-DC-f7W"
      }
    },
    {
      "cell_type": "markdown",
      "source": [
        "Python имеет множество встроенных типов, например, int, str и так далее, которые мы можем использовать в программе. Но также Python позволяет определять собственные типы с помощью классов. Класс представляет некоторую сущность. Конкретным воплощением класса является объект.\n",
        "\n",
        "Можно еще провести следующую аналогию. У нас у всех есть некоторое представление о человеке, у которого есть имя, возраст, какие-то другие характеристики Человек может выполнять некоторые действия - ходить, бегать, думать и т.д. То есть это представление, которое включает набор характеристик и действий, можно назвать классом. Конкретное воплощение этого шаблона может отличаться, например, одни люди имеют одно имя, другие - другое имя. И реально существующий человек будет представлять объект этого класса.\n",
        "\n",
        "Класс определяется с помощью ключевого слова class:"
      ],
      "metadata": {
        "id": "YvUslcGzu9O0"
      }
    },
    {
      "cell_type": "markdown",
      "source": [
        "\n",
        "\n",
        "```\n",
        "class название_класса:\n",
        "    атрибуты_класса\n",
        "    методы_класса\n",
        "```\n",
        "\n"
      ],
      "metadata": {
        "id": "ZvsTLFAdvCuR"
      }
    },
    {
      "cell_type": "markdown",
      "source": [
        "Внутри класса определяются его атрибуты, которые хранят различные характеристики класса, и методы - функции класса.\n",
        "\n",
        "Создадим простейший класс:"
      ],
      "metadata": {
        "id": "THA3LIYEvGNo"
      }
    },
    {
      "cell_type": "code",
      "source": [
        "class Person:\n",
        "    pass"
      ],
      "metadata": {
        "id": "gtP90jX_vaNL"
      },
      "execution_count": null,
      "outputs": []
    },
    {
      "cell_type": "markdown",
      "source": [
        "В данном случае определен класс Person, который условно представляет человека. В данном случае в классе не определяется никаких методов или атрибутов. Однако поскольку в нем должно быть что-то определено, то в качестве заменителя функционала класса применяется оператор pass. Этот оператор применяется, когда синтаксически необходимо определить некоторый код, однако мы не хотим его, и вместо конкретного кода вставляем оператор pass.\n",
        "\n",
        "После создания класса можно определить объекты этого класса. Например:"
      ],
      "metadata": {
        "id": "-oeDhT6JvcgU"
      }
    },
    {
      "cell_type": "code",
      "source": [
        "class Person:\n",
        "    pass\n",
        "\n",
        "nastya = Person()      # определение объекта nastya\n",
        "amina = Person()      # определение объекта amina"
      ],
      "metadata": {
        "id": "kgck3CWBvgFV"
      },
      "execution_count": 2,
      "outputs": []
    },
    {
      "cell_type": "markdown",
      "source": [
        "## Методы классов\n",
        "\n",
        "Методы класса фактически представляют функции, которые определенны внутри класса и которые определяют его поведение. Например, определим класс Person с одним методом:"
      ],
      "metadata": {
        "id": "jJ6cfofEvtV-"
      }
    },
    {
      "cell_type": "code",
      "source": [
        "class Person:       # определение класса Person\n",
        "     def say_hello(self):\n",
        "        print(\"Hello\")\n",
        "\n",
        "tom = Person()\n",
        "tom.say_hello()    # Hello"
      ],
      "metadata": {
        "colab": {
          "base_uri": "https://localhost:8080/"
        },
        "id": "KHQys47RvyV2",
        "outputId": "1e251407-5eab-4c61-bfcc-4fa37d254a23"
      },
      "execution_count": null,
      "outputs": [
        {
          "output_type": "stream",
          "name": "stdout",
          "text": [
            "Hello\n"
          ]
        }
      ]
    },
    {
      "cell_type": "markdown",
      "source": [
        "Если метод должен принимать другие параметры, то они определяются после параметра self, и при вызове подобного метода для них необходимо передать значения:"
      ],
      "metadata": {
        "id": "Ml8DBO8rv4WU"
      }
    },
    {
      "cell_type": "code",
      "source": [
        "class Person:       # определение класса Person\n",
        "    def say(self, message):     # метод\n",
        "        print(message)\n",
        "\n",
        "\n",
        "saphiya = Person()\n",
        "saphiya.say(\"Hello Saphiya!\")    # Hello Saphiya\n",
        "\n",
        "nastya=Person();\n",
        "nastya.say(\"Hello KFU\")"
      ],
      "metadata": {
        "colab": {
          "base_uri": "https://localhost:8080/"
        },
        "id": "9pJSjxoov6hY",
        "outputId": "77e34e2c-3bf9-4152-e19d-2a8e39006d0c"
      },
      "execution_count": 5,
      "outputs": [
        {
          "output_type": "stream",
          "name": "stdout",
          "text": [
            "Hello Saphiya!\n",
            "Hello KFU\n"
          ]
        }
      ]
    },
    {
      "cell_type": "markdown",
      "source": [
        "## self\n",
        "\n",
        "Через ключевое слово self можно обращаться внутри класса к функциональности текущего объекта:"
      ],
      "metadata": {
        "id": "LYNoOsk6wDNE"
      }
    },
    {
      "cell_type": "markdown",
      "source": [
        "\n",
        "\n",
        "```\n",
        "self.атрибут    # обращение к атрибуту\n",
        "self.метод      # обращение к методу\n",
        "```\n",
        "\n"
      ],
      "metadata": {
        "id": "QE6zkGnGwJhn"
      }
    },
    {
      "cell_type": "markdown",
      "source": [
        "Например, определим два метода в классе Person:"
      ],
      "metadata": {
        "id": "GTls6PtPwLD9"
      }
    },
    {
      "cell_type": "code",
      "source": [
        "class Person:\n",
        "\n",
        "    def say(self, message):\n",
        "        print(message)\n",
        "\n",
        "    def say_hello(self):\n",
        "        self.say(\"Hello work\")  # обращаемся к выше определенному методу say\n",
        "\n",
        "\n",
        "muhammad = Person()\n",
        "muhammad.say_hello()     # Hello work"
      ],
      "metadata": {
        "colab": {
          "base_uri": "https://localhost:8080/"
        },
        "id": "me3UdkLUwNUF",
        "outputId": "509c880d-86aa-4c4a-e55c-cc33d17f3d66"
      },
      "execution_count": null,
      "outputs": [
        {
          "output_type": "stream",
          "name": "stdout",
          "text": [
            "Hello work\n"
          ]
        }
      ]
    },
    {
      "cell_type": "markdown",
      "source": [
        "Причем при вызове метода объекта нам обязательно необходимо использовать слово self, если мы его не используем:"
      ],
      "metadata": {
        "id": "ASNtUKCnwSUm"
      }
    },
    {
      "cell_type": "code",
      "source": [
        "def say_hello(self):\n",
        "    say(\"Hello work\")  # ! Ошибка"
      ],
      "metadata": {
        "id": "OwTxtoNPwXW5"
      },
      "execution_count": 6,
      "outputs": []
    },
    {
      "cell_type": "markdown",
      "source": [
        "## Конструкторы\n",
        "\n",
        "Для создания объекта класса используется конструктор. Так, выше когда мы создавали объекты класса Person, мы использовали конструктор по умолчанию, который не принимает параметров и который неявно имеют все классы:"
      ],
      "metadata": {
        "id": "ROMgU7WKwiNA"
      }
    },
    {
      "cell_type": "code",
      "source": [
        "alice = Person()"
      ],
      "metadata": {
        "id": "k0BQUiXjwoaD"
      },
      "execution_count": null,
      "outputs": []
    },
    {
      "cell_type": "markdown",
      "source": [
        "Однако мы можем явным образом определить в классах конструктор с помощью специального метода, который называется __init__() (по два прочерка с каждой стороны). К примеру, изменим класс Person, добавив в него конструктор:"
      ],
      "metadata": {
        "id": "3w8nt-wZwmSW"
      }
    },
    {
      "cell_type": "code",
      "source": [
        "class Person:\n",
        "    # конструктор\n",
        "    def __init__(self):\n",
        "        print(\"Создание объекта Person\")\n",
        "\n",
        "    def say_hello(self):\n",
        "        print(\"Hello\")\n",
        "\n",
        "\n",
        "alice = Person()      # Создание объекта Person\n",
        "alice.say_hello()     # Hello"
      ],
      "metadata": {
        "colab": {
          "base_uri": "https://localhost:8080/"
        },
        "id": "5bbetKMmwrVD",
        "outputId": "5f543578-6aef-46d0-d84f-09c8a35e5fc6"
      },
      "execution_count": 7,
      "outputs": [
        {
          "output_type": "stream",
          "name": "stdout",
          "text": [
            "Создание объекта Person\n",
            "Hello\n"
          ]
        }
      ]
    },
    {
      "cell_type": "markdown",
      "source": [
        "## Атрибуты объекта\n",
        "\n",
        "Атрибуты хранят состояние объекта. Для определения и установки атрибутов внутри класса можно применять слово self. Например, определим следующий класс Person:"
      ],
      "metadata": {
        "id": "DC_AJuAfwx15"
      }
    },
    {
      "cell_type": "code",
      "source": [
        "class Person:\n",
        "\n",
        "    def __init__(self, name):\n",
        "        self.name = name    # имя человека\n",
        "        self.age = 1        # возраст человека\n",
        "\n",
        "\n",
        "alice = Person(\"Alice\")\n",
        "\n",
        "# обращение к атрибутам\n",
        "# получение значений\n",
        "print(alice.name)     # Alice\n",
        "print(alice.age)      # 1\n",
        "# изменение значения\n",
        "alice.age = 18\n",
        "print(alice.age)      # 18"
      ],
      "metadata": {
        "colab": {
          "base_uri": "https://localhost:8080/"
        },
        "id": "3lLS-l0lwzYI",
        "outputId": "a876650f-6a0d-4699-fb27-e979392ae3e5"
      },
      "execution_count": 8,
      "outputs": [
        {
          "output_type": "stream",
          "name": "stdout",
          "text": [
            "Alice\n",
            "1\n",
            "18\n"
          ]
        }
      ]
    },
    {
      "cell_type": "markdown",
      "source": [
        "Для обращения к атрибутам объекта внутри класса в его методах также применяется слово self:"
      ],
      "metadata": {
        "id": "aD7oDa-8w50c"
      }
    },
    {
      "cell_type": "code",
      "source": [
        "class Person:\n",
        "\n",
        "    def __init__(self, name):\n",
        "        self.name = name    # имя человека\n",
        "        self.age = 1        # возраст человека\n",
        "\n",
        "    def display_info(self):\n",
        "        print(f\"Name: {self.name}  Age: {self.age}\")\n",
        "\n",
        "\n",
        "tomiris = Person(\"Tomiris\")\n",
        "tomiris.display_info()      # Name: Tomiris  Age: 1"
      ],
      "metadata": {
        "colab": {
          "base_uri": "https://localhost:8080/"
        },
        "id": "anz3j6Taw6Yx",
        "outputId": "f8515075-2a62-48a3-90de-f6f3d811e478"
      },
      "execution_count": null,
      "outputs": [
        {
          "output_type": "stream",
          "name": "stdout",
          "text": [
            "Name: Tomiris  Age: 1\n"
          ]
        }
      ]
    },
    {
      "cell_type": "markdown",
      "source": [
        "## Создание объектов\n",
        "\n",
        "Выше создавался один объект. Но подобным образом можно создавать и другие объекты класса:"
      ],
      "metadata": {
        "id": "bWly8kjww_UF"
      }
    },
    {
      "cell_type": "code",
      "source": [
        "class Person:\n",
        "\n",
        "    def __init__(self, name):\n",
        "        self.name = name    # имя человека\n",
        "        self.age = 1        # возраст человека\n",
        "\n",
        "    def display_info(self):\n",
        "        print(f\"Name: {self.name}  Age: {self.age}\")\n",
        "\n",
        "\n",
        "madina = Person(\"Madina\")\n",
        "madina.age = 17\n",
        "madina.display_info()      # Name: Madina  Age: 17\n",
        "\n",
        "anvar = Person(\"Anvar\")\n",
        "anvar.age = 18\n",
        "anvar.display_info()      # Name: Anvar  Age: 18"
      ],
      "metadata": {
        "colab": {
          "base_uri": "https://localhost:8080/"
        },
        "id": "O67CRVDaxCLQ",
        "outputId": "fc4f2640-c81b-4fae-df91-cbec1538a205"
      },
      "execution_count": null,
      "outputs": [
        {
          "output_type": "stream",
          "name": "stdout",
          "text": [
            "Name: Madina  Age: 17\n",
            "Name: Anvar  Age: 18\n"
          ]
        }
      ]
    },
    {
      "cell_type": "markdown",
      "source": [
        "### Примеры.\n"
      ],
      "metadata": {
        "id": "t4-0od032HvZ"
      }
    },
    {
      "cell_type": "markdown",
      "source": [
        "**Упражнение 1.**\n",
        "\n",
        "Определите класс Rectangle, который представляет прямоугольник. Через конструктор класс принимает ширину и длину и сохраняет их в атрибутах width и length соответственно. Также этом классе определите метод area, который возвращает площадь прямоугольника, и метод perimeter, который возвращает периметра прямоугольника.\n",
        "\n",
        "После создания класса определите несколько объектов класса Rectangle и продемонстрируйте работу его методов."
      ],
      "metadata": {
        "id": "R0iK87Rh2bR9"
      }
    },
    {
      "cell_type": "code",
      "source": [
        "class Rectangle:\n",
        "\n",
        "    def __init__(self, w, l):\n",
        "        self.width = w\n",
        "        self.length = l\n",
        "\n",
        "    def area(self):\n",
        "        return self.width * self.length\n",
        "\n",
        "    def perimeter(self):\n",
        "        return 2 * (self.width + self.length)\n",
        "\n",
        "\n",
        "rect1 = Rectangle(40, 40)\n",
        "print(\"rect1 area: \", rect1.area())\n",
        "print(\"rect1 perimeter: \", rect1.perimeter())\n",
        "\n",
        "rect2 = Rectangle(20, 30)\n",
        "print(\"rect2 area: \", rect2.area())\n",
        "print(\"rect2 perimeter: \", rect2.perimeter())"
      ],
      "metadata": {
        "id": "4s9AX0I02ddt",
        "outputId": "dc1dfa61-59fc-4600-e68e-c8dd9dd4a10a",
        "colab": {
          "base_uri": "https://localhost:8080/"
        }
      },
      "execution_count": null,
      "outputs": [
        {
          "output_type": "stream",
          "name": "stdout",
          "text": [
            "rect1 area:  1600\n",
            "rect1 perimeter:  160\n",
            "rect2 area:  600\n",
            "rect2 perimeter:  100\n"
          ]
        }
      ]
    },
    {
      "cell_type": "markdown",
      "source": [
        "**Упражнение 2.**\n",
        "\n",
        "Создайте класс BankAccount, который представляет банковский счет. Определите в этом классе атрибуты account_number и balance, которые представляют номер счета и баланс. Через параметры конструктора передайте этим атрибутам начальные значения.\n",
        "\n",
        "Также в классе определите метод add, который принимает некоторую сумму и добавляет ее на баланс счета. И определите метод withdraw, который принимает некоторую сумму и снимает ее с баланса. При этом с баланса нельзя снять больше, чем имеется. Если на балансе недостаточно средств, то пользователю должно выводиться соответствующее сообщение."
      ],
      "metadata": {
        "id": "AIgV559R2mIa"
      }
    },
    {
      "cell_type": "code",
      "source": [
        "class BankAccount:\n",
        "\n",
        "    def __init__(self, number, sum):\n",
        "        self.account_number = number\n",
        "        self.balance = sum\n",
        "        print(f\"Создан счет. Начальный баланс: {sum} единиц\")\n",
        "\n",
        "    def add(self, sum):\n",
        "        self.balance = self.balance + sum\n",
        "        print(f\"На счет зачислено: {sum} единиц\")\n",
        "\n",
        "    def withdraw(self, sum):\n",
        "        if self.balance >= sum:\n",
        "            self.balance = self.balance - sum\n",
        "            print(f\"Со счета снято: {sum} единиц\")\n",
        "        else:\n",
        "            print(\"Недостаточно средств на счете\")\n",
        "\n",
        "\n",
        "acc1 = BankAccount(\"123456577\", 1000)\n",
        "acc1.add(200)\n",
        "acc1.withdraw(500)\n",
        "acc1.withdraw(300)\n",
        "acc1.withdraw(900)"
      ],
      "metadata": {
        "id": "rdFvrU1k2rCa",
        "outputId": "d9b96968-271a-4e41-a3e2-dc8ade8f55bb",
        "colab": {
          "base_uri": "https://localhost:8080/"
        }
      },
      "execution_count": null,
      "outputs": [
        {
          "output_type": "stream",
          "name": "stdout",
          "text": [
            "Создан счет. Начальный баланс: 1000 единиц\n",
            "На счет зачислено: 200 единиц\n",
            "Со счета снято: 500 единиц\n",
            "Со счета снято: 300 единиц\n",
            "Недостаточно средств на счете\n"
          ]
        }
      ]
    },
    {
      "cell_type": "markdown",
      "source": [
        "# Инкапсуляция, атрибуты и свойства"
      ],
      "metadata": {
        "id": "DtLvYLKAxBZ3"
      }
    },
    {
      "cell_type": "markdown",
      "source": [
        "По умолчанию атрибуты в классах являются общедоступными, а это значит, что из любого места программы мы можем получить атрибут объекта и изменить его. Например:"
      ],
      "metadata": {
        "id": "8k2wVYs-yJUG"
      }
    },
    {
      "cell_type": "code",
      "source": [
        "class Person:\n",
        "    def __init__(self, name):\n",
        "        self.name = name    # устанавливаем имя\n",
        "        self.age = 1        # устанавливаем возраст\n",
        "\n",
        "    def display_info(self):\n",
        "        print(f\"Имя: {self.name}\\tВозраст: {self.age}\")\n",
        "\n",
        "\n",
        "elvira = Person(\"Elvira\")\n",
        "elvira.name = \"Человек-паук\"       # изменяем атрибут name\n",
        "elvira.age = -129                  # изменяем атрибут age\n",
        "elvira.display_info()              # Имя: Человек-паук     Возраст: -129"
      ],
      "metadata": {
        "colab": {
          "base_uri": "https://localhost:8080/"
        },
        "id": "wKjLbkaEyOM9",
        "outputId": "01fad5ed-4a75-4e86-921f-b65b3b8aa1a3"
      },
      "execution_count": null,
      "outputs": [
        {
          "output_type": "stream",
          "name": "stdout",
          "text": [
            "Имя: Человек-паук\tВозраст: -129\n"
          ]
        }
      ]
    },
    {
      "cell_type": "markdown",
      "source": [
        "С данной проблемой тесно связано понятие инкапсуляции. Инкапсуляция является фундаментальной концепцией объектно-ориентированного программирования. Она предотвращает прямой доступ к атрибутам объект из вызывающего кода.\n",
        "\n",
        "Касательно инкапсуляции непосредственно в языке программирования Python скрыть атрибуты класса можно сделав их приватными или закрытыми и ограничив доступ к ним через специальные методы, которые еще называются свойствами.\n",
        "\n",
        "Изменим выше определенный класс, определив в нем свойства:"
      ],
      "metadata": {
        "id": "pggM7TCzyLdW"
      }
    },
    {
      "cell_type": "code",
      "source": [
        "class Person:\n",
        "    def __init__(self, name):\n",
        "        self.__name = name  # устанавливаем имя\n",
        "        self.__age = 1  # устанавливаем возраст\n",
        "\n",
        "    def set_age(self, age):\n",
        "        if 0 < age < 110:\n",
        "            self.__age = age\n",
        "        else:\n",
        "            print(\"Недопустимый возраст\")\n",
        "\n",
        "    def get_age(self):\n",
        "        return self.__age\n",
        "\n",
        "    def get_name(self):\n",
        "        return self.__name\n",
        "\n",
        "    def display_info(self):\n",
        "        print(f\"Имя: {self.__name}\\tВозраст: {self.__age}\")\n",
        "\n",
        "\n",
        "elvira = Person(\"Elvira\")\n",
        "elvira.display_info()  # Имя: Elvira  Возраст: 1\n",
        "elvira.set_age(-3486)  # Недопустимый возраст\n",
        "elvira.set_age(25)\n",
        "elvira.display_info()  # Имя: Elvira  Возраст: 25"
      ],
      "metadata": {
        "colab": {
          "base_uri": "https://localhost:8080/"
        },
        "id": "XB-NkmLAyeBt",
        "outputId": "6d4ffd68-65dd-4384-f0af-2ca13ec21b16"
      },
      "execution_count": 9,
      "outputs": [
        {
          "output_type": "stream",
          "name": "stdout",
          "text": [
            "Имя: Elvira\tВозраст: 1\n",
            "Недопустимый возраст\n",
            "Имя: Elvira\tВозраст: 25\n"
          ]
        }
      ]
    },
    {
      "cell_type": "markdown",
      "source": [],
      "metadata": {
        "id": "mk4dDUeox9Wm"
      }
    },
    {
      "cell_type": "markdown",
      "source": [
        "## Аннотации свойств\n",
        "\n",
        "Выше мы рассмотрели, как создавать свойства. Но Python имеет также еще один - более элегантный способ определения свойств. Этот способ предполагает использование аннотаций, которые предваряются символом @.\n",
        "\n",
        "Для создания свойства-геттера над свойством ставится аннотация @property.\n",
        "\n",
        "Для создания свойства-сеттера над свойством устанавливается аннотация имя_свойства_геттера.setter.\n",
        "\n",
        "Перепишем класс Person с использованием аннотаций:"
      ],
      "metadata": {
        "id": "ckCPSONSzBc_"
      }
    },
    {
      "cell_type": "code",
      "source": [
        "class Person:\n",
        "    def __init__(self, name):\n",
        "        self.__name = name  # устанавливаем имя\n",
        "        self.__age = 1  # устанавливаем возраст\n",
        "\n",
        "    @property\n",
        "    def age(self):\n",
        "        return self.__age\n",
        "\n",
        "    @age.setter\n",
        "    def age(self, age):\n",
        "        if 1 < age < 110:\n",
        "            self.__age = age\n",
        "        else:\n",
        "            print(\"Недопустимый возраст\")\n",
        "\n",
        "    @property\n",
        "    def name(self):\n",
        "        return self.__name\n",
        "\n",
        "    def display_info(self):\n",
        "        print(f\"Имя: {self.__name}\\tВозраст: {self.__age}\")\n",
        "\n",
        "\n",
        "tom = Person(\"Tom\")\n",
        "\n",
        "tom.display_info()  # Имя: Tom  Возраст: 1\n",
        "tom.age = -3486  # Недопустимый возраст\n",
        "print(tom.age)  # 1\n",
        "tom.age = 36\n",
        "tom.display_info()  # Имя: Tom  Возраст: 36"
      ],
      "metadata": {
        "colab": {
          "base_uri": "https://localhost:8080/"
        },
        "id": "iNNrSfe0zF5a",
        "outputId": "5fe75b11-ec7e-4bd1-d830-ff1bb596fae1"
      },
      "execution_count": null,
      "outputs": [
        {
          "output_type": "stream",
          "name": "stdout",
          "text": [
            "Имя: Tom\tВозраст: 1\n",
            "Недопустимый возраст\n",
            "1\n",
            "Имя: Tom\tВозраст: 36\n"
          ]
        }
      ]
    },
    {
      "cell_type": "code",
      "source": [
        "class Person:\n",
        "    def __init__(self, n):\n",
        "        self.name = n  # устанавливаем имя\n",
        "        self.age = 1  # устанавливаем возраст\n",
        "\n",
        "    @property\n",
        "    def age(self):\n",
        "        return self.age\n",
        "\n",
        "    @age.setter\n",
        "    def age(self, age):\n",
        "        if 1 < age < 110:\n",
        "            self.age = age\n",
        "        else:\n",
        "            print(\"Недопустимый возраст\")\n",
        "\n",
        "    @property\n",
        "    def name(self):\n",
        "        return self.name\n",
        "\n",
        "    def display_info(self):\n",
        "        print(f\"Имя: {self.name}\\tВозраст: {self.age}\")\n",
        "\n",
        "\n",
        "tom = Person(\"Tom\")\n",
        "\n",
        "tom.display_info()  # Имя: Tom  Возраст: 1\n",
        "tom.age = -3486  # Недопустимый возраст\n",
        "print(tom.age)  # 1\n",
        "tom.age = 36\n",
        "tom.display_info()  # Имя: Tom  Возраст: 36"
      ],
      "metadata": {
        "id": "NdlPn0_UyulQ",
        "outputId": "5720c845-e407-4722-a131-8f081d527476",
        "colab": {
          "base_uri": "https://localhost:8080/",
          "height": 332
        }
      },
      "execution_count": 11,
      "outputs": [
        {
          "output_type": "error",
          "ename": "AttributeError",
          "evalue": "can't set attribute 'name'",
          "traceback": [
            "\u001b[0;31m---------------------------------------------------------------------------\u001b[0m",
            "\u001b[0;31mAttributeError\u001b[0m                            Traceback (most recent call last)",
            "\u001b[0;32m<ipython-input-11-4d8bb8aa21c7>\u001b[0m in \u001b[0;36m<cell line: 25>\u001b[0;34m()\u001b[0m\n\u001b[1;32m     23\u001b[0m \u001b[0;34m\u001b[0m\u001b[0m\n\u001b[1;32m     24\u001b[0m \u001b[0;34m\u001b[0m\u001b[0m\n\u001b[0;32m---> 25\u001b[0;31m \u001b[0mtom\u001b[0m \u001b[0;34m=\u001b[0m \u001b[0mPerson\u001b[0m\u001b[0;34m(\u001b[0m\u001b[0;34m\"Tom\"\u001b[0m\u001b[0;34m)\u001b[0m\u001b[0;34m\u001b[0m\u001b[0;34m\u001b[0m\u001b[0m\n\u001b[0m\u001b[1;32m     26\u001b[0m \u001b[0;34m\u001b[0m\u001b[0m\n\u001b[1;32m     27\u001b[0m \u001b[0mtom\u001b[0m\u001b[0;34m.\u001b[0m\u001b[0mdisplay_info\u001b[0m\u001b[0;34m(\u001b[0m\u001b[0;34m)\u001b[0m  \u001b[0;31m# Имя: Tom  Возраст: 1\u001b[0m\u001b[0;34m\u001b[0m\u001b[0;34m\u001b[0m\u001b[0m\n",
            "\u001b[0;32m<ipython-input-11-4d8bb8aa21c7>\u001b[0m in \u001b[0;36m__init__\u001b[0;34m(self, n)\u001b[0m\n\u001b[1;32m      1\u001b[0m \u001b[0;32mclass\u001b[0m \u001b[0mPerson\u001b[0m\u001b[0;34m:\u001b[0m\u001b[0;34m\u001b[0m\u001b[0;34m\u001b[0m\u001b[0m\n\u001b[1;32m      2\u001b[0m     \u001b[0;32mdef\u001b[0m \u001b[0m__init__\u001b[0m\u001b[0;34m(\u001b[0m\u001b[0mself\u001b[0m\u001b[0;34m,\u001b[0m \u001b[0mn\u001b[0m\u001b[0;34m)\u001b[0m\u001b[0;34m:\u001b[0m\u001b[0;34m\u001b[0m\u001b[0;34m\u001b[0m\u001b[0m\n\u001b[0;32m----> 3\u001b[0;31m         \u001b[0mself\u001b[0m\u001b[0;34m.\u001b[0m\u001b[0mname\u001b[0m \u001b[0;34m=\u001b[0m \u001b[0mn\u001b[0m  \u001b[0;31m# устанавливаем имя\u001b[0m\u001b[0;34m\u001b[0m\u001b[0;34m\u001b[0m\u001b[0m\n\u001b[0m\u001b[1;32m      4\u001b[0m         \u001b[0mself\u001b[0m\u001b[0;34m.\u001b[0m\u001b[0mage\u001b[0m \u001b[0;34m=\u001b[0m \u001b[0;36m1\u001b[0m  \u001b[0;31m# устанавливаем возраст\u001b[0m\u001b[0;34m\u001b[0m\u001b[0;34m\u001b[0m\u001b[0m\n\u001b[1;32m      5\u001b[0m \u001b[0;34m\u001b[0m\u001b[0m\n",
            "\u001b[0;31mAttributeError\u001b[0m: can't set attribute 'name'"
          ]
        }
      ]
    },
    {
      "cell_type": "markdown",
      "source": [
        "# Наследование"
      ],
      "metadata": {
        "id": "iZ-WFZwhzV_D"
      }
    },
    {
      "cell_type": "markdown",
      "source": [
        "Наследование позволяет создавать новый класс на основе уже существующего класса. Наряду с инкапсуляцией наследование является одним из краеугольных камней объектно-ориентированного программирования.\n",
        "\n",
        "Ключевыми понятиями наследования являются подкласс и суперкласс. Подкласс наследует от суперкласса все публичные атрибуты и методы. Суперкласс еще называется базовым (base class) или родительским (parent class), а подкласс - производным (derived class) или дочерним (child class).\n",
        "\n",
        "Синтаксис для наследования классов выглядит следующим образом:"
      ],
      "metadata": {
        "id": "6fzjEaNGzbtH"
      }
    },
    {
      "cell_type": "markdown",
      "source": [
        "\n",
        "\n",
        "```\n",
        "class подкласс (суперкласс):\n",
        "    методы_подкласса\n",
        "```\n",
        "\n"
      ],
      "metadata": {
        "id": "6iWi2kxszcoG"
      }
    },
    {
      "cell_type": "markdown",
      "source": [
        "Например, у нас есть класс Person, который представляет человека:"
      ],
      "metadata": {
        "id": "ToCJ2nbOzf5F"
      }
    },
    {
      "cell_type": "code",
      "source": [
        "class Person:\n",
        "\n",
        "    def __init__(self, name):\n",
        "        self.__name = name   # имя человека\n",
        "\n",
        "    @property\n",
        "    def name(self):\n",
        "        return self.__name\n",
        "\n",
        "    def display_info(self):\n",
        "        print(f\"Name: {self.__name} \")"
      ],
      "metadata": {
        "id": "FryrfSUmziy6"
      },
      "execution_count": 10,
      "outputs": []
    },
    {
      "cell_type": "markdown",
      "source": [
        "Предположим, нам необходим класс работника, который работает на некотором предприятии. Мы могли бы создать с нуля новый класс, к примеру, класс Employee:"
      ],
      "metadata": {
        "id": "lmOlWiCE2ivW"
      }
    },
    {
      "cell_type": "code",
      "source": [
        "class Employee:\n",
        "\n",
        "    def __init__(self, name):\n",
        "        self.__name = name  # имя работника\n",
        "\n",
        "    @property\n",
        "    def name(self):\n",
        "        return self.__name\n",
        "\n",
        "    def display_info(self):\n",
        "        print(f\"Name: {self.__name} \")\n",
        "\n",
        "    def work(self):\n",
        "        print(f\"{self.name} works\")"
      ],
      "metadata": {
        "id": "KC5WVL6U2lXf"
      },
      "execution_count": null,
      "outputs": []
    },
    {
      "cell_type": "markdown",
      "source": [
        "Однако класс Employee может иметь те же атрибуты и методы, что и класс Person, так как работник - это человек. Так, в выше в классе Employee только добавляется метод works, весь остальной код повторяет функционал класса Person. Но чтобы не дублировать функционал одного класса в другом, в данном случае лучше применить наследование.\n",
        "\n",
        "Итак, унаследуем класс Employee от класса Person:"
      ],
      "metadata": {
        "id": "oCz46xk42o6B"
      }
    },
    {
      "cell_type": "code",
      "source": [
        "class Person:\n",
        "\n",
        "    def __init__(self, name):\n",
        "        self.__name = name   # имя человека\n",
        "\n",
        "    @property\n",
        "    def name(self):\n",
        "        return self.__name\n",
        "\n",
        "    def display_info(self):\n",
        "        print(f\"Name: {self.__name} \")\n",
        "\n",
        "\n",
        "class Employee(Person):\n",
        "\n",
        "    def work(self):\n",
        "        print(f\"{self.name} works\")\n",
        "\n",
        "\n",
        "salm = Employee(\"Salm\")\n",
        "print(salm.name)     # Salm\n",
        "salm.display_info()  # Name: Salm\n",
        "salm.work()          # Salm works"
      ],
      "metadata": {
        "colab": {
          "base_uri": "https://localhost:8080/"
        },
        "id": "8bW6VPDf2r2U",
        "outputId": "d9c60cd2-1944-43fe-9ba3-ebc8736df6c1"
      },
      "execution_count": null,
      "outputs": [
        {
          "output_type": "stream",
          "name": "stdout",
          "text": [
            "Salm\n",
            "Name: Salm \n",
            "Salm works\n"
          ]
        }
      ]
    },
    {
      "cell_type": "markdown",
      "source": [
        "Однако, стоит обратить внимание, что для Employee НЕ доступны закрытые атрибуты типа __name. Например, мы НЕ можем в методе work обратиться к приватному атрибуту self.__name:"
      ],
      "metadata": {
        "id": "_LPRzoI-2-Qe"
      }
    },
    {
      "cell_type": "code",
      "source": [
        "def work(self):\n",
        "    print(f\"{self.__name} works\")   # ! Ошибка"
      ],
      "metadata": {
        "id": "qmzu2eHX3Q6k"
      },
      "execution_count": null,
      "outputs": []
    },
    {
      "cell_type": "markdown",
      "source": [
        "## Множественное наследование\n",
        "\n",
        "Одной из отличительных особенностей языка Python является поддержка множественного наследования, то есть один класс можно унаследовать от нескольких классов:"
      ],
      "metadata": {
        "id": "sukWFywo3giY"
      }
    },
    {
      "cell_type": "code",
      "source": [
        "#  класс работника\n",
        "class Employee:\n",
        "    def work(self):\n",
        "        print(\"Employee works\")\n",
        "\n",
        "\n",
        "#  класс студента\n",
        "class Student:\n",
        "    def study(self):\n",
        "        print(\"Student studies\")\n",
        "\n",
        "\n",
        "class WorkingStudent(Employee, Student):        # Наследование от классов Employee и Student\n",
        "    pass\n",
        "\n",
        "\n",
        "# класс работающего студента\n",
        "tom = WorkingStudent()\n",
        "tom.work()      # Employee works\n",
        "tom.study()     # Student studies"
      ],
      "metadata": {
        "colab": {
          "base_uri": "https://localhost:8080/"
        },
        "id": "uy20rnkW3knz",
        "outputId": "a7d95ecb-2003-4677-c775-2de9899e690b"
      },
      "execution_count": null,
      "outputs": [
        {
          "output_type": "stream",
          "name": "stdout",
          "text": [
            "Employee works\n",
            "Student studies\n"
          ]
        }
      ]
    },
    {
      "cell_type": "markdown",
      "source": [
        "При этом наследуемые классы могут более сложными по функциональности, например:"
      ],
      "metadata": {
        "id": "4pjBm6Fh3tUw"
      }
    },
    {
      "cell_type": "code",
      "source": [
        "class Employee:\n",
        "\n",
        "    def __init__(self, name):\n",
        "        self.__name = name\n",
        "\n",
        "    @property\n",
        "    def name(self):\n",
        "        return self.__name\n",
        "\n",
        "    def work(self):\n",
        "        print(f\"{self.name} works\")\n",
        "\n",
        "\n",
        "class Student:\n",
        "\n",
        "    def __init__(self, name):\n",
        "        self.__name = name\n",
        "\n",
        "    @property\n",
        "    def name(self):\n",
        "        return self.__name\n",
        "\n",
        "    def study(self):\n",
        "        print(f\"{self.name} studies\")\n",
        "\n",
        "\n",
        "class WorkingStudent(Employee, Student):\n",
        "    pass\n",
        "\n",
        "\n",
        "tom = WorkingStudent(\"Tom\")\n",
        "tom.work()      # Tom works\n",
        "tom.study()     # Tom studies"
      ],
      "metadata": {
        "colab": {
          "base_uri": "https://localhost:8080/"
        },
        "id": "pyzdIA2F3wse",
        "outputId": "d92eaa09-cdb3-44fb-c699-641e3298ea20"
      },
      "execution_count": null,
      "outputs": [
        {
          "output_type": "stream",
          "name": "stdout",
          "text": [
            "Tom works\n",
            "Tom studies\n"
          ]
        }
      ]
    },
    {
      "cell_type": "markdown",
      "source": [
        "Множественное наследование может показаться удобным, тем не менее оно может привести к путанице, если оба наследуемых класса содержат методы/атрибуты с одинаковыми именами. Например:"
      ],
      "metadata": {
        "id": "vg_BOqKQ393r"
      }
    },
    {
      "cell_type": "code",
      "source": [
        "class Employee:\n",
        "    def do(self):\n",
        "        print(\"Employee works\")\n",
        "\n",
        "class Student:\n",
        "    def do(self):\n",
        "        print(\"Student studies\")\n",
        "\n",
        "\n",
        "# class WorkingStudent(Student,Employee):\n",
        "class WorkingStudent(Employee, Student):\n",
        "    pass\n",
        "\n",
        "tom = WorkingStudent()\n",
        "tom.do()     # ?"
      ],
      "metadata": {
        "id": "Od7muK5o4Biw",
        "outputId": "d0d410b6-2659-44cb-a7ae-a030d3127a3d",
        "colab": {
          "base_uri": "https://localhost:8080/"
        }
      },
      "execution_count": null,
      "outputs": [
        {
          "output_type": "stream",
          "name": "stdout",
          "text": [
            "Employee works\n"
          ]
        }
      ]
    },
    {
      "cell_type": "markdown",
      "source": [
        "Оба базовых класса - Employee и Worker определяют метод do, который выводит разную строку на консоль. Какую именно из этих реализаций будет использовать класс-наследник WorkingStudent? При определении класса первым в списке базовых классов идет класс Employee"
      ],
      "metadata": {
        "id": "SbvzVB7e4PZn"
      }
    },
    {
      "cell_type": "code",
      "source": [
        "class WorkingStudent(Employee, Student):\n",
        "  pass\n",
        "\n",
        "tom = WorkingStudent()\n",
        "tom.do()     # ?"
      ],
      "metadata": {
        "id": "GKqZCrvt4P8n",
        "outputId": "b237a998-c228-4990-d8ad-e0c48c375f8e",
        "colab": {
          "base_uri": "https://localhost:8080/"
        }
      },
      "execution_count": null,
      "outputs": [
        {
          "output_type": "stream",
          "name": "stdout",
          "text": [
            "Employee works\n"
          ]
        }
      ]
    },
    {
      "cell_type": "markdown",
      "source": [
        "Поэтому реализация метода do будут браться из класса Employee.\n",
        "\n",
        "Если бы мы поменяли очередность классов:"
      ],
      "metadata": {
        "id": "rOkeVn_M4W2S"
      }
    },
    {
      "cell_type": "code",
      "source": [
        "class WorkingStudent(Student,Employee):\n",
        "  pass\n",
        "\n",
        "tom = WorkingStudent()\n",
        "tom.do()     # ?"
      ],
      "metadata": {
        "id": "ZR274oBF4bB7",
        "outputId": "a72441cf-d193-4db6-e22d-c3934c16d21d",
        "colab": {
          "base_uri": "https://localhost:8080/"
        }
      },
      "execution_count": null,
      "outputs": [
        {
          "output_type": "stream",
          "name": "stdout",
          "text": [
            "Student studies\n"
          ]
        }
      ]
    },
    {
      "cell_type": "markdown",
      "source": [
        "то использовалась бы реализация класса Student\n",
        "\n",
        "При необходимости мы можем программным образом посмотреть очередность применения функционала базовых классов. Для этого применяется атрибут __mro__, либо метод mro():"
      ],
      "metadata": {
        "id": "vq6v9GXB4fiI"
      }
    },
    {
      "cell_type": "code",
      "source": [
        "print(WorkingStudent.__mro__)\n",
        "print(WorkingStudent.mro())"
      ],
      "metadata": {
        "id": "rJssWbih4h3B",
        "outputId": "a3b4c96b-5178-4c57-b759-4046dbfdaa64",
        "colab": {
          "base_uri": "https://localhost:8080/"
        }
      },
      "execution_count": null,
      "outputs": [
        {
          "output_type": "stream",
          "name": "stdout",
          "text": [
            "(<class '__main__.WorkingStudent'>, <class '__main__.Student'>, <class '__main__.Employee'>, <class 'object'>)\n",
            "[<class '__main__.WorkingStudent'>, <class '__main__.Student'>, <class '__main__.Employee'>, <class 'object'>]\n"
          ]
        }
      ]
    },
    {
      "cell_type": "markdown",
      "source": [
        "Чтобы вызвать метод do из определенного класса, вы можете обратиться к методу do напрямую через экземпляр класса, указав класс, из которого вы хотите вызвать метод. Вот пример:"
      ],
      "metadata": {
        "id": "_XyFO1pA4os-"
      }
    },
    {
      "cell_type": "code",
      "source": [
        "class Employee:\n",
        "    def __init__(self, name):\n",
        "        self.__name = name\n",
        "\n",
        "    @property\n",
        "    def name(self):\n",
        "        return self.__name\n",
        "\n",
        "    def work(self):\n",
        "        print(f\"{self.name} works\")\n",
        "\n",
        "    def do(self):\n",
        "        print(f\"{self.name} does something\")\n",
        "\n",
        "\n",
        "class Student:\n",
        "\n",
        "    def __init__(self, name):\n",
        "        self.__name = name\n",
        "\n",
        "    @property\n",
        "    def name(self):\n",
        "        return self.__name\n",
        "\n",
        "    def study(self):\n",
        "        print(f\"{self.name} studies\")\n",
        "\n",
        "    def do(self):\n",
        "        print(f\"{self.name} does something\")\n",
        "\n",
        "\n",
        "class WorkingStudent(Employee, Student):\n",
        "    pass\n",
        "\n",
        "\n",
        "tom = WorkingStudent(\"Tom\")\n",
        "tom.work()      # Tom works\n",
        "tom.study()     # Tom studies\n",
        "\n",
        "# Вызов метода do из определенного класса\n",
        "Employee.do(tom)  # Вызов метода do из класса Employee\n",
        "Student.do(tom)   # Вызов метода do из класса Student"
      ],
      "metadata": {
        "id": "ykKtdESs496i",
        "outputId": "f40237cc-43e4-4111-a6ed-a4697a78637a",
        "colab": {
          "base_uri": "https://localhost:8080/"
        }
      },
      "execution_count": null,
      "outputs": [
        {
          "output_type": "stream",
          "name": "stdout",
          "text": [
            "Tom works\n",
            "Tom studies\n",
            "Tom does something\n",
            "Tom does something\n"
          ]
        }
      ]
    },
    {
      "cell_type": "markdown",
      "source": [
        "## Переопределение функционала базового класса"
      ],
      "metadata": {
        "id": "4jRkoRuF30eV"
      }
    },
    {
      "cell_type": "markdown",
      "source": [
        "В прошлом уроке класс Employee полностью перенимал функционал класса Person:"
      ],
      "metadata": {
        "id": "GXjiGTEz35RU"
      }
    },
    {
      "cell_type": "code",
      "source": [
        "class Person:\n",
        "\n",
        "    def __init__(self, name):\n",
        "        self.__name = name   # имя человека\n",
        "\n",
        "    @property\n",
        "    def name(self):\n",
        "        return self.__name\n",
        "\n",
        "    def display_info(self):\n",
        "        print(f\"Name: {self.__name} \")\n",
        "\n",
        "\n",
        "class Employee(Person):\n",
        "\n",
        "    def work(self):\n",
        "        print(f\"{self.name} works\")"
      ],
      "metadata": {
        "id": "q4oToIfY4A2H"
      },
      "execution_count": null,
      "outputs": []
    },
    {
      "cell_type": "markdown",
      "source": [
        "Но что, если мы хотим что-то изменить из этого функционала? Например, добавить работнику через конструктор, новый атрибут, который будет хранить компанию, где он работает или изменить реализацию метода display_info. Python позволяет переопределить функционал базового класса.\n",
        "\n",
        "Например, изменим классы следующим образом:"
      ],
      "metadata": {
        "id": "AMAuBkj84ENY"
      }
    },
    {
      "cell_type": "code",
      "source": [
        "class Person:\n",
        "\n",
        "    def __init__(self, name):\n",
        "        self.__name = name   # имя человека\n",
        "\n",
        "    @property\n",
        "    def name(self):\n",
        "        return self.__name\n",
        "\n",
        "    def display_info(self):\n",
        "        print(f\"Name: {self.__name}\")\n",
        "\n",
        "\n",
        "class Employee(Person):\n",
        "\n",
        "    def __init__(self, name, company):\n",
        "        super().__init__(name)\n",
        "        self.company = company\n",
        "\n",
        "    def display_info(self):\n",
        "        super().display_info()\n",
        "        print(f\"Company: {self.company}\")\n",
        "\n",
        "    def work(self):\n",
        "        print(f\"{self.name} works\")\n",
        "\n",
        "\n",
        "tom = Employee(\"Tom\", \"Microsoft\")\n",
        "tom.display_info()  # Name: Tom\n",
        "                    # Company: Microsoft"
      ],
      "metadata": {
        "colab": {
          "base_uri": "https://localhost:8080/"
        },
        "id": "uf4RfSzJ4FBu",
        "outputId": "ff2a4bcd-8d0f-45c5-afa5-b6e8c9866844"
      },
      "execution_count": null,
      "outputs": [
        {
          "output_type": "stream",
          "name": "stdout",
          "text": [
            "Name: Tom\n",
            "Company: Microsoft\n"
          ]
        }
      ]
    },
    {
      "cell_type": "markdown",
      "source": [
        "## Проверка типа объекта\n",
        "\n",
        "При работе с объектами бывает необходимо в зависимости от их типа выполнить те или иные операции. И с помощью встроенной функции isinstance() мы можем проверить тип объекта. Эта функция принимает два параметра:"
      ],
      "metadata": {
        "id": "d2jWVCtI4ICe"
      }
    },
    {
      "cell_type": "markdown",
      "source": [
        "\n",
        "\n",
        "```\n",
        "isinstance(object, type)\n",
        "```\n",
        "\n"
      ],
      "metadata": {
        "id": "84JXPGEc4PXH"
      }
    },
    {
      "cell_type": "markdown",
      "source": [
        "Первый параметр представляет объект, а второй - тип, на принадлежность к которому выполняется проверка. Если объект представляет указанный тип, то функция возвращает True. Например, возьмем следующую иерархию классов Person-Employee/Student:"
      ],
      "metadata": {
        "id": "PPEJa_v74TSs"
      }
    },
    {
      "cell_type": "code",
      "source": [
        "class Person:\n",
        "\n",
        "    def __init__(self, name):\n",
        "        self.__name = name   # имя человека\n",
        "\n",
        "    @property\n",
        "    def name(self):\n",
        "        return self.__name\n",
        "\n",
        "    def do_nothing(self):\n",
        "        print(f\"{self.name} does nothing\")\n",
        "\n",
        "\n",
        "#  класс работника\n",
        "class Employee(Person):\n",
        "\n",
        "    def work(self):\n",
        "        print(f\"{self.name} works\")\n",
        "\n",
        "\n",
        "#  класс студента\n",
        "class Student(Person):\n",
        "\n",
        "    def study(self):\n",
        "        print(f\"{self.name} studies\")\n",
        "\n",
        "\n",
        "def act(person):\n",
        "    if isinstance(person, Student):\n",
        "        person.study()\n",
        "    elif isinstance(person, Employee):\n",
        "        person.work()\n",
        "    elif isinstance(person, Person):\n",
        "        person.do_nothing()\n",
        "\n",
        "\n",
        "tom = Employee(\"Tom\")\n",
        "bob = Student(\"Bob\")\n",
        "sam = Person(\"Sam\")\n",
        "\n",
        "act(tom)    # Tom works\n",
        "act(bob)    # Bob studies\n",
        "act(sam)    # Sam does nothing"
      ],
      "metadata": {
        "colab": {
          "base_uri": "https://localhost:8080/"
        },
        "id": "EYJ_ghy64xRu",
        "outputId": "0b7120bc-8807-484a-9006-f70217e043ec"
      },
      "execution_count": null,
      "outputs": [
        {
          "output_type": "stream",
          "name": "stdout",
          "text": [
            "Tom works\n",
            "Bob studies\n",
            "Sam does nothing\n"
          ]
        }
      ]
    },
    {
      "cell_type": "markdown",
      "source": [
        "# Атрибуты классов и статические методы\n"
      ],
      "metadata": {
        "id": "v1duKA9B44ds"
      }
    },
    {
      "cell_type": "markdown",
      "source": [
        "## Атрибуты класса\n",
        "\n",
        "Кроме атрибутов объектов в классе можно определять атрибуты классов. Подобные атрибуты определяются в виде переменных уровня класса. Например:"
      ],
      "metadata": {
        "id": "lbHuhIuc4513"
      }
    },
    {
      "cell_type": "code",
      "source": [
        "class Person:\n",
        "     type = \"Person\"\n",
        "     description = \"Describes a person\"\n",
        "\n",
        "\n",
        "print(Person.type)          # Person\n",
        "print(Person.description)   # Describes a person\n",
        "\n",
        "Person.type = \"Class Person\"\n",
        "print(Person.type)          # Class Person"
      ],
      "metadata": {
        "colab": {
          "base_uri": "https://localhost:8080/"
        },
        "id": "o5tSDtDa49Dv",
        "outputId": "30dc7082-f191-4446-ccda-9079ade8997e"
      },
      "execution_count": null,
      "outputs": [
        {
          "output_type": "stream",
          "name": "stdout",
          "text": [
            "Person\n",
            "Describes a person\n",
            "Class Person\n"
          ]
        }
      ]
    },
    {
      "cell_type": "markdown",
      "source": [
        "Для обращения к атрибутам класса мы можем использовать имя класса, например: Person.type, и, как и атрибуты объекта, мы можем получать и изменять их значения.\n",
        "\n",
        "Подобные атрибуты являются общими для всех объектов класса:"
      ],
      "metadata": {
        "id": "sqtFcRRu5Aaz"
      }
    },
    {
      "cell_type": "code",
      "source": [
        "class Person:\n",
        "     type = \"Person\"\n",
        "     def __init__(self, name):\n",
        "         self.name = name\n",
        "\n",
        "\n",
        "tom = Person(\"Tom\")\n",
        "bob = Person(\"Bob\")\n",
        "print(tom.type)     # Person\n",
        "print(bob.type)     # Person\n",
        "\n",
        "# изменим атрибут класса\n",
        "Person.type = \"Class Person\"\n",
        "print(tom.type)     # Class Person\n",
        "print(bob.type)     # Class Person"
      ],
      "metadata": {
        "colab": {
          "base_uri": "https://localhost:8080/"
        },
        "id": "7ainnuGk5Dtb",
        "outputId": "cd44d937-0dda-42ca-ac9a-0cbb8d04d595"
      },
      "execution_count": null,
      "outputs": [
        {
          "output_type": "stream",
          "name": "stdout",
          "text": [
            "Person\n",
            "Person\n",
            "Class Person\n",
            "Class Person\n"
          ]
        }
      ]
    },
    {
      "cell_type": "markdown",
      "source": [
        "Атрибуты класса могут применяться для таких ситуаций, когда нам надо определить некоторые общие данные для всех объектов. Например:"
      ],
      "metadata": {
        "id": "xqohlEvl5GTR"
      }
    },
    {
      "cell_type": "code",
      "source": [
        "class Person:\n",
        "    default_name = \"Undefined\"\n",
        "\n",
        "    def __init__(self, name):\n",
        "        if name:\n",
        "            self.name = name\n",
        "        else:\n",
        "            self.name = Person.default_name\n",
        "\n",
        "\n",
        "tom = Person(\"Tom\")\n",
        "bob = Person(\"\")\n",
        "print(tom.name)  # Tom\n",
        "print(bob.name)  # Undefined"
      ],
      "metadata": {
        "colab": {
          "base_uri": "https://localhost:8080/"
        },
        "id": "Inslzn195ItR",
        "outputId": "42edf84f-f405-4681-ee34-de1a2e1289ea"
      },
      "execution_count": null,
      "outputs": [
        {
          "output_type": "stream",
          "name": "stdout",
          "text": [
            "Tom\n",
            "Undefined\n"
          ]
        }
      ]
    },
    {
      "cell_type": "markdown",
      "source": [
        "## Атрибут класса\n",
        "\n",
        "Возможна ситуация, когда атрибут класса и атрибут объекта совпадает по имени. Если в коде для атрибута объекта не задано значение, то для него может применяться значение атрибута класса:"
      ],
      "metadata": {
        "id": "yDB8egqS5LNF"
      }
    },
    {
      "cell_type": "code",
      "source": [
        "class Person:\n",
        "    name = \"Undefined\"\n",
        "\n",
        "    def print_name(self):\n",
        "        print(self.name)\n",
        "\n",
        "tom = Person()\n",
        "bob = Person()\n",
        "tom.print_name()    # Undefined\n",
        "bob.print_name()    # Undefined\n",
        "\n",
        "bob.name = \"Bob\"\n",
        "bob.print_name()    # Bob\n",
        "tom.print_name()    # Undefined"
      ],
      "metadata": {
        "colab": {
          "base_uri": "https://localhost:8080/"
        },
        "id": "N6wTxt0c5PI1",
        "outputId": "849aa174-e4cb-495a-c172-112ef9dfbf63"
      },
      "execution_count": null,
      "outputs": [
        {
          "output_type": "stream",
          "name": "stdout",
          "text": [
            "Undefined\n",
            "Undefined\n",
            "Bob\n",
            "Undefined\n"
          ]
        }
      ]
    },
    {
      "cell_type": "markdown",
      "source": [
        "## Статические методы\n",
        "\n",
        "Кроме обычных методов класс может определять статические методы. Такие методы предваряются аннотацией @staticmethod и относятся в целом к классу. Статические методы обычно определяют поведение, которое не зависит от конкретного объекта:"
      ],
      "metadata": {
        "id": "j7w08HmE5WdZ"
      }
    },
    {
      "cell_type": "code",
      "source": [
        "class Person:\n",
        "    __type = \"Person\"\n",
        "\n",
        "    @staticmethod\n",
        "    def print_type():\n",
        "        print(Person.__type)\n",
        "\n",
        "\n",
        "Person.print_type()     # Person - обращение к статическому методу через имя класса\n",
        "\n",
        "tom = Person()\n",
        "tom.print_type()     # Person - обращение к статическому методу через имя объекта"
      ],
      "metadata": {
        "colab": {
          "base_uri": "https://localhost:8080/"
        },
        "id": "bKy0AY_u5X_8",
        "outputId": "54706aec-81a5-4e92-cbb8-6d3e07d70779"
      },
      "execution_count": null,
      "outputs": [
        {
          "output_type": "stream",
          "name": "stdout",
          "text": [
            "Person\n",
            "Person\n"
          ]
        }
      ]
    },
    {
      "cell_type": "markdown",
      "source": [
        "## Класс object. Строковое представление объекта"
      ],
      "metadata": {
        "id": "5OOBpw6d5bBq"
      }
    },
    {
      "cell_type": "markdown",
      "source": [
        "Начиная с 3-й версии в языке программирования Python все классы неявно имеют один общий суперкласс - object и все классы по умолчанию наследуют его методы.\n",
        "\n",
        "Одним из наиболее используемых методов класса object является метод __str__(). Когда необходимо получить строковое представление объекта или вывести объект в виде строки, то Python как раз вызывает этот метод. И при определении класса хорошей практикой считается переопределение этого метода.\n",
        "\n",
        "К примеру, возьмем класс Person и выведем его строковое представление:"
      ],
      "metadata": {
        "id": "j447dcNR5kFY"
      }
    },
    {
      "cell_type": "code",
      "source": [
        "class Person:\n",
        "    def __init__(self, name, age):\n",
        "        self.name = name  # устанавливаем имя\n",
        "        self.age = age  # устанавливаем возраст\n",
        "\n",
        "    def display_info(self):\n",
        "        print(self)\n",
        "\n",
        "\n",
        "tom = Person(\"Tom\", 23)\n",
        "print(tom)"
      ],
      "metadata": {
        "colab": {
          "base_uri": "https://localhost:8080/"
        },
        "id": "5viZVe7I5k1C",
        "outputId": "62cd7b5f-56e3-4fbe-8030-bc0ea6753b63"
      },
      "execution_count": 12,
      "outputs": [
        {
          "output_type": "stream",
          "name": "stdout",
          "text": [
            "<__main__.Person object at 0x795d51c1e7a0>\n"
          ]
        }
      ]
    },
    {
      "cell_type": "markdown",
      "source": [
        "Это не очень информативная информация об объекте. Мы, конечно, можем выйти из положения, определив в классе Person дополнительный метод, который выводит данные объекта - в примере выше это метод display_info.\n",
        "\n",
        "Но есть и другой выход - определим в классе Person метод __str__() (по два подчеркивания с каждой стороны):"
      ],
      "metadata": {
        "id": "LHU1SDdk5uNH"
      }
    },
    {
      "cell_type": "code",
      "source": [
        "class Person:\n",
        "    def __init__(self, name, age):\n",
        "        self.name = name  # устанавливаем имя\n",
        "        self.age = age  # устанавливаем возраст\n",
        "\n",
        "    def display_info(self):\n",
        "        print(self)\n",
        "        # print(self.__str__())     # или так\n",
        "\n",
        "    def __str__(self):\n",
        "        return f\"Name: {self.name}  Age: {self.age}\"\n",
        "\n",
        "\n",
        "tom = Person(\"Tom\", 23)\n",
        "print(tom)      # Name: Tom  Age: 23\n",
        "tom.display_info()  # Name: Tom  Age: 23"
      ],
      "metadata": {
        "colab": {
          "base_uri": "https://localhost:8080/"
        },
        "id": "mMNFplX85uuP",
        "outputId": "ce5a68e3-1f48-4592-d237-95c07d09af83"
      },
      "execution_count": 13,
      "outputs": [
        {
          "output_type": "stream",
          "name": "stdout",
          "text": [
            "Name: Tom  Age: 23\n",
            "Name: Tom  Age: 23\n"
          ]
        }
      ]
    },
    {
      "cell_type": "markdown",
      "source": [
        "## Перегрузка операторов"
      ],
      "metadata": {
        "id": "yGyym2dC6kYB"
      }
    },
    {
      "cell_type": "markdown",
      "source": [
        "Python позволяет определять для своих классов встроенные операторы, такие как операции сложения, вычитания и т.д. Для этого в модуле operator определен ряд функций:"
      ],
      "metadata": {
        "id": "aOf5alyM63uK"
      }
    },
    {
      "cell_type": "markdown",
      "source": [
        "| Операция             | Синтаксис       | Функция               |\n",
        "|----------------------|-----------------|-----------------------|\n",
        "| Сложение             | a + b           | \\_\\_add\\_\\_(a, b)     |\n",
        "| Объединение          | seq1 + seq2     | \\_\\_concat\\_\\_(seq1, seq2) |\n",
        "| Проверка наличия     | obj in seq      | \\_\\_contains\\_\\_(seq, obj) |\n",
        "| Деление              | a / b           | \\_\\_truediv\\_\\_(a, b) |\n",
        "| Деление (целая часть)| a // b          | \\_\\_floordiv\\_\\_(a, b) |\n",
        "| Поразрядное И        | a & b           | \\_\\_and\\_\\_(a, b)    |\n",
        "| Поразрядное XOR      | a \\string^ b   | \\_\\_xor\\_\\_(a, b)    |\n",
        "| Поразрядная инверсия | \\string~ a      | \\_\\_invert\\_\\_(a)    |\n",
        "| Поразрядное ИЛИ      | a | b           | \\_\\_or\\_\\_(a, b)     |\n",
        "| Степень              | a ** b          | \\_\\_pow\\_\\_(a, b)    |\n",
        "| Присвоение по индексу| obj[k] = v      | \\_\\_setitem\\_\\_(obj, k, v) |\n",
        "| Удаление по индексу  | del obj[k]      | \\_\\_delitem\\_\\_(obj, k) |\n",
        "| Обращение по индексу | obj[k]          | \\_\\_getitem\\_\\_(obj, k) |\n",
        "| Сдвиг влево         | a << b          | \\_\\_lshift\\_\\_(a, b) |\n",
        "| Остаток от деления  | a % b           | \\_\\_mod\\_\\_(a, b)    |\n",
        "| Умножение           | a * b           | \\_\\_mul\\_\\_(a, b)    |\n",
        "| Умножение матриц    | a @ b           | \\_\\_matmul\\_\\_(a, b) |\n",
        "| Арифметическое отрицание | -a        | \\_\\_neg\\_\\_(a)       |\n",
        "| Логическое отрицание    | not a       | \\_\\_not\\_\\_(a)       |\n",
        "| Положительное значение   | +a         | \\_\\_pos\\_\\_(a)       |\n",
        "| Сдвиг вправо         | a >> b        | \\_\\_rshift\\_\\_(a, b) |\n",
        "| Установка диапазона  | seq[i:j] = values  | \\_\\_setitem\\_\\_(seq, slice(i, j), values) |\n",
        "| Удаление диапазона   | del seq[i:j]       | \\_\\_delitem\\_\\_(seq, slice(i, j)) |\n",
        "| Получение диапазона  | seq[i:j]           | \\_\\_getitem\\_\\_(seq, slice(i, j)) |\n",
        "| Вычитание           | a - b            | \\_\\_sub\\_\\_(a, b)    |\n",
        "| Проверка на Truе/False  | obj            | \\_\\_bool\\_\\_(obj)    |\n",
        "| Меньше чем         | a < b            | \\_\\_lt\\_\\_(a, b)     |\n",
        "| Меньше чем или равно   | a <= b         | \\_\\_le\\_\\_(a, b)     |\n",
        "| Равенство           | a==b            | \\_\\_eq\\_\\_(a, b)     |\n",
        "| Неравенство         | a != b          | \\_\\_ne\\_\\_(a, b)     |\n",
        "| Больше чем или равно   | a >= b         | \\_\\_ge\\_\\_(a, b)     |\n",
        "| Больше чем         | a > b            | \\_\\_gt\\_\\_(a, b)     |\n",
        "| Сложение с присваиванием  | a += b      | \\_\\_iadd\\_\\_(a, b)   |\n",
        "| Объединение с присваиванием  | a += b   | \\_\\_iconcat\\_\\_(a, b)|\n",
        "| Поразрядное умножение с присваиванием  | a &= b  |\\_\\_iand\\_\\_(a, b)|\n",
        "| Деление с присваиванием  | a //= b     |\\_\\_ifloordiv\\_\\_(a, b)|\n",
        "| Сдвиг влево с присваиванием  | a <<= b |\\_\\_ilshift\\_\\_(a, b)|\n",
        "| Сдвиг вправо с присваиванием  | a >>= b|\\_\\_irshift\\_\\_(a, b)|\n",
        "| Деление по модулю с присваиванием  | a %= b|\\_\\_imod\\_\\_(a, b)|\n",
        "| Умножение с присваиванием  | a += b   |\\_\\__imul__(a, b)|\n",
        "| Умножение матриц с присваиванием  | a @= b |\\_\\__imatmul__(a, b)|\n",
        "| Поразрядное сложение с присваиванием  | a |= b |\\_\\__ior__(a, b)|\n",
        "| Возведение в степень с присваиванием  | a **= b |\\_\\__ipow__(a, b)|\n",
        "| Вычитание с присваиванием  | a -= b   |\\__isub__(a, b)|\n",
        "| Деление с присваиванием  | a /= b    |\\__itruediv__(a, b)|\n",
        "| Операция XOR с присваиванием  | a ^= b|\\__ixor__(a, b)|\n"
      ],
      "metadata": {
        "id": "NC_mydx57ptf"
      }
    },
    {
      "cell_type": "markdown",
      "source": [
        "Чтобы определить оператор для некоторого класса, данный класс должен реализовать соответствующую функцию. Так, для определения оператора сложения применяется функция __add__(), поэтому внутри класса нам надо определить данную функцию. Например:"
      ],
      "metadata": {
        "id": "nzRwwm-F8eIJ"
      }
    },
    {
      "cell_type": "code",
      "source": [
        "class Counter:\n",
        "    def __init__(self, value):\n",
        "        self.value = value\n",
        "    # переопределение оператора сложения\n",
        "    def __add__(self, other):\n",
        "        return Counter(self.value + other.value)\n",
        "\n",
        "counter1 = Counter(5)\n",
        "counter2 = Counter(15)\n",
        "counter3 = counter1 + counter2\n",
        "print(counter3.value)       # 20"
      ],
      "metadata": {
        "id": "eNFPtlDt8jVa",
        "outputId": "397d2d4d-13c0-46d3-83b4-dc0cb00554b2",
        "colab": {
          "base_uri": "https://localhost:8080/"
        }
      },
      "execution_count": null,
      "outputs": [
        {
          "output_type": "stream",
          "name": "stdout",
          "text": [
            "20\n"
          ]
        }
      ]
    },
    {
      "cell_type": "markdown",
      "source": [
        "Здесь определен класс Counter, который имеет атрибут value - условное некоторое число. С помощью функции __add__ определяем для типа Counter оператор сложения. Допустим, мы хотим, чтобы один объект Counter можно было сложить с другим объектом Counter. В этом случае второй параметр функции будет представлять другой объект Counter:"
      ],
      "metadata": {
        "id": "767I8Z098lrc"
      }
    },
    {
      "cell_type": "code",
      "source": [
        "def __add__(self, other):\n",
        "    return Counter(self.value + other.value)"
      ],
      "metadata": {
        "id": "mWHEZOyH8tmp"
      },
      "execution_count": null,
      "outputs": []
    },
    {
      "cell_type": "markdown",
      "source": [
        "В результате возвращаем новый объект Counter, в который помещается сумма атрибутов value обоих объектов.\n",
        "\n",
        "После этого мы сможем складывать два объекта Counter, и результатом сложения будет новый объект Counter.\n",
        "\n",
        "Причем в данном случае реализован не единственно возможный вариант оператора сложения. Так, в примере выше второй параметр функции представлял другой объект Counter. Но в реалньости это может быть любой тип. Например, что, если мы хотим складывать Counter не с другим объектом Counter, а с числом. Тогда мы могли определить следующий оператор:"
      ],
      "metadata": {
        "id": "qvU2iF5a8xej"
      }
    },
    {
      "cell_type": "code",
      "source": [
        "class Counter:\n",
        "    def __init__(self, value):\n",
        "        self.value = value\n",
        "\n",
        "    def __add__(self, other):\n",
        "        return Counter(self.value + other)\n",
        "\n",
        "counter1 = Counter(5)\n",
        "counter3 = counter1 + 6\n",
        "print(counter3.value)       # 11"
      ],
      "metadata": {
        "id": "RoJ68pwe8zcG",
        "outputId": "5da47281-11b1-45d3-9ec6-6a1fc3f80b89",
        "colab": {
          "base_uri": "https://localhost:8080/"
        }
      },
      "execution_count": null,
      "outputs": [
        {
          "output_type": "stream",
          "name": "stdout",
          "text": [
            "11\n"
          ]
        }
      ]
    },
    {
      "cell_type": "markdown",
      "source": [
        "Здесь оператор сложения по прежнему возвращает объект Counter, только теперь второй параметр представляет обычное число.\n",
        "\n",
        "Возвращаемый тип ряда операторов также жестко не определен. Например, мы могли бы возвращить также обычное число:"
      ],
      "metadata": {
        "id": "dd0tS-jn7x3i"
      }
    },
    {
      "cell_type": "code",
      "source": [
        "class Counter:\n",
        "    def __init__(self, value):\n",
        "        self.value = value\n",
        "\n",
        "    def __add__(self, other):\n",
        "        return self.value + other\n",
        "\n",
        "counter1 = Counter(5)\n",
        "result = counter1 + 7\n",
        "print(result)       # 12"
      ],
      "metadata": {
        "id": "1wdpNDLa9LMD",
        "outputId": "1a0cc8fc-b690-46b4-e0e4-9ecc07d87ecb",
        "colab": {
          "base_uri": "https://localhost:8080/"
        }
      },
      "execution_count": null,
      "outputs": [
        {
          "output_type": "stream",
          "name": "stdout",
          "text": [
            "12\n"
          ]
        }
      ]
    },
    {
      "cell_type": "markdown",
      "source": [
        "Рассмотрим еще ряд примеров определения операторов.\n",
        "\n",
        "**Истинность объекта**\n",
        "\n",
        "Определение функции __bool__ позволяет установить истинность объекта или фактически преобразовать объект к значениям True/False. Например:"
      ],
      "metadata": {
        "id": "DPIE6j149Nye"
      }
    },
    {
      "cell_type": "code",
      "source": [
        "class Counter:\n",
        "    def __init__(self, value):\n",
        "        self.value = value\n",
        "    def __bool__(self):\n",
        "        return self.value > 0\n",
        "\n",
        "def test(counter):\n",
        "    if counter: print(\"Counter = True\")\n",
        "    else: print(\"Counter = False\")\n",
        "\n",
        "counter1 = Counter(3)\n",
        "test(counter1)              # Counter = True\n",
        "\n",
        "counter2 = Counter(-3)\n",
        "test(counter2)              # Counter = False"
      ],
      "metadata": {
        "id": "IWrsNyJe9Q1k",
        "outputId": "bebe06c8-4ecb-4013-c707-3f6095a6722d",
        "colab": {
          "base_uri": "https://localhost:8080/"
        }
      },
      "execution_count": null,
      "outputs": [
        {
          "output_type": "stream",
          "name": "stdout",
          "text": [
            "Counter = True\n",
            "Counter = False\n"
          ]
        }
      ]
    },
    {
      "cell_type": "markdown",
      "source": [
        "В данном случае будем считать, что, если значение value в Counter меньше 1, то объект Counter будет рассматриваться как False, а при положительных значениях - как True. Благодаря этому мы можем использовать объект Counter в условных или циклических конструкциях. Так, в примере выше для тестирования определена функция test, которая в конструкции if..else проверяет значение объекта Counter и в зависимости от результата проверки выводит определенное сообщение на консоль.\n",
        "\n",
        "Или, например, мы могли бы использовать объект Counter в цикле while в качестве условия:"
      ],
      "metadata": {
        "id": "Z641OPJr9Tx1"
      }
    },
    {
      "cell_type": "code",
      "source": [
        "class Counter:\n",
        "    def __init__(self, value):\n",
        "        self.value = value\n",
        "    def __bool__(self):\n",
        "        return self.value > 0\n",
        "\n",
        "counter1 = Counter(3)\n",
        "\n",
        "while(counter1):\n",
        "    print(\"Counter1: \", counter1.value)\n",
        "    counter1.value -=1"
      ],
      "metadata": {
        "id": "VBCscbX09Wjo",
        "outputId": "224459c1-dcb5-409b-b756-f7217ad69056",
        "colab": {
          "base_uri": "https://localhost:8080/"
        }
      },
      "execution_count": null,
      "outputs": [
        {
          "output_type": "stream",
          "name": "stdout",
          "text": [
            "Counter1:  3\n",
            "Counter1:  2\n",
            "Counter1:  1\n"
          ]
        }
      ]
    },
    {
      "cell_type": "markdown",
      "source": [
        "В данном случае цикл while будет выполняться, пока counter1 соответствует значению True (по сути покак его значение value больше 0)\n",
        "\n",
        "**Операторы, которые возвращают значение bool**\n",
        "\n",
        "Ряд операций призваны возвращать логическое значение True или False. Например, операции сравнения:"
      ],
      "metadata": {
        "id": "ctjxr9429YvD"
      }
    },
    {
      "cell_type": "code",
      "source": [
        "class Counter:\n",
        "    def __init__(self, value):\n",
        "        self.value = value\n",
        "\n",
        "    def __gt__(self, other):\n",
        "        return self.value > other.value\n",
        "    def __lt__(self, other):\n",
        "        return self.value < other.value\n",
        "\n",
        "\n",
        "counter1 = Counter(1)\n",
        "counter2 = Counter(2)\n",
        "\n",
        "if counter1 > counter2:\n",
        "    print(\"counter1 больше чем counter2\")\n",
        "elif counter1 < counter2:\n",
        "    print(\"counter1 меньше чем counter2\")\n",
        "else:\n",
        "    print(\"counter1 и counter2 равны\")"
      ],
      "metadata": {
        "id": "W1K_FEXF9cII",
        "outputId": "b924245f-51c6-460a-99a8-de07361b9e52",
        "colab": {
          "base_uri": "https://localhost:8080/"
        }
      },
      "execution_count": null,
      "outputs": [
        {
          "output_type": "stream",
          "name": "stdout",
          "text": [
            "counter1 меньше чем counter2\n"
          ]
        }
      ]
    },
    {
      "cell_type": "markdown",
      "source": [
        "Здесь в классе Counter определены операторы < (функция __lt__()) и > (функция __gt__()). В данном случае сравниваем с другим объектом Counter. В реальности же сравниваем значения атрибутов двух объектов."
      ],
      "metadata": {
        "id": "7Df-52Of9fpY"
      }
    },
    {
      "cell_type": "code",
      "source": [
        "def __gt__(self, other):\n",
        "    return self.value > other.value\n",
        "def __lt__(self, other):\n",
        "    return self.value < other.value"
      ],
      "metadata": {
        "id": "HtxWisP-9kr2"
      },
      "execution_count": null,
      "outputs": []
    },
    {
      "cell_type": "markdown",
      "source": [
        "Затем мы можем применять соответствующие операции к двум объектам Counter:\n",
        "\n",
        "\n",
        "```\n",
        "if counter1 > counter2:\n",
        "```\n",
        "\n"
      ],
      "metadata": {
        "id": "_KBMFi2w9nUa"
      }
    },
    {
      "cell_type": "markdown",
      "source": [
        "**Операции обращения по индексу**\n",
        "\n",
        "Ряд операторов позволяют обращаться к объекту по индексу, используя квадратные скобки:\n",
        "\n",
        "\n",
        "\n",
        "```\n",
        "obj[index]\n",
        "```\n",
        "\n"
      ],
      "metadata": {
        "id": "oN9qX_w-9zOR"
      }
    },
    {
      "cell_type": "markdown",
      "source": [
        "Обычно подобные операции применяются по отношению к коллекциям, которые будут рассмотрены в последующих статьях. Например, можно использовать подобные операции для получения или изменения какого-то элемента списка значений. В реальности эти операции могут применяться к любому объекту, а используемый индекс также может представлять все что угодно. Рассмотрим операции обращения по индексу на примере получения значения по индексу:"
      ],
      "metadata": {
        "id": "Vgry5-Vi96m1"
      }
    },
    {
      "cell_type": "code",
      "source": [
        "class Person:\n",
        "    def __init__(self, name, age):\n",
        "        self.__name = name\n",
        "        self.__age = age\n",
        "\n",
        "    def __getitem__(self, prop):\n",
        "        if prop == \"name\": return self.__name\n",
        "        elif prop == \"age\": return self.__age\n",
        "        return None\n",
        "\n",
        "tom = Person(\"Tom\", 39)\n",
        "\n",
        "print(\"Name:\", tom[\"name\"])     # Name: Tom\n",
        "print(\"Age:\", tom[\"age\"])       # Age: 39\n",
        "print(\"Id:\", tom[\"id\"])         # Id: None"
      ],
      "metadata": {
        "id": "deKMFvEE99ES",
        "outputId": "82f58ad0-e4f8-44ca-9b18-9971de662658",
        "colab": {
          "base_uri": "https://localhost:8080/"
        }
      },
      "execution_count": null,
      "outputs": [
        {
          "output_type": "stream",
          "name": "stdout",
          "text": [
            "Name: Tom\n",
            "Age: 39\n",
            "Id: None\n"
          ]
        }
      ]
    },
    {
      "cell_type": "markdown",
      "source": [
        "**Проверка наличия свойства**\n",
        "\n",
        "Оператор in позволяет проверить наличие определенного значения в последовательности - некотором наборе значений:\n",
        "\n",
        "\n",
        "```\n",
        "значение in последовательность\n",
        "```\n",
        "Если значение присутствует в последовательности, то возвращается True, иначе возвращается False. Например, проверим наличие свойства в объекте:\n",
        "\n",
        "\n"
      ],
      "metadata": {
        "id": "-05MTkdG-FRK"
      }
    },
    {
      "cell_type": "code",
      "source": [
        "class Person:\n",
        "    def __init__(self, name, age):\n",
        "        self.name = name\n",
        "        self.age = age\n",
        "\n",
        "    def __contains__(self, prop):\n",
        "        if prop == \"name\" or prop == \"age\": return True\n",
        "        return False\n",
        "\n",
        "tom = Person(\"Tom\", 39)\n",
        "print(\"name\" in tom)        # True\n",
        "print(\"id\" in tom)          # False"
      ],
      "metadata": {
        "id": "O445h0lO-WwL",
        "outputId": "a2457e2d-8c51-402c-ab72-9f7e096d1c18",
        "colab": {
          "base_uri": "https://localhost:8080/"
        }
      },
      "execution_count": null,
      "outputs": [
        {
          "output_type": "stream",
          "name": "stdout",
          "text": [
            "True\n",
            "False\n"
          ]
        }
      ]
    },
    {
      "cell_type": "markdown",
      "source": [
        "За реализацию оператора in отвечает функция __contains__(). В качестве первого параметра, как обычно, указывается текущий объект - тот объект, который стоит справа от оператора in. А в качестве второго параметра - проверяемое значение - оно указывается слева от in. В данном случае если второй параметр - равен \"name\" или \"age\", то возвращаем True. Что означает, что атрибут есть в объекте.\n",
        "\n",
        "Соответственно выражение \"name\" in tom возвратит True, а выражение \"id\" in tom возвратит False.\n",
        "\n",
        "**Реализация операторов парами**\n",
        "\n",
        "Некоторые операторы - операторы сравения удобнее реализовать парами. Если мы реализуем оператор ==, то можно сразу реализовать и оператор !=. Причем чтобы не прописывать одну и ту же логику по два раза, можно реализовать один оператор через другой:"
      ],
      "metadata": {
        "id": "zhHWJcQ4-Xmo"
      }
    },
    {
      "cell_type": "code",
      "source": [
        "class Counter:\n",
        "    def __init__(self, value):\n",
        "        self.value = value\n",
        "\n",
        "    def __eq__(self, other): return self.value == other.value\n",
        "    def __ne__(self, other): return not (self == other)\n",
        "\n",
        "    def __gt__(self, other): return self.value > other.value\n",
        "    def __le__(self, other): return not (self > other)\n",
        "\n",
        "    def __lt__(self, other): return self.value < other.value\n",
        "    def __ge__(self, other): return not (self < other)\n",
        "\n",
        "c1 = Counter(1)\n",
        "c2 = Counter(2)\n",
        "\n",
        "print(c1 == c2)     # False\n",
        "print(c1 != c2)     # True\n",
        "\n",
        "print(c1 < c2)      # True\n",
        "print(c1 >= c2)     # False"
      ],
      "metadata": {
        "id": "v6qrt4vl-a4m",
        "outputId": "86929483-5c70-4156-fa18-6aa5d0d0b00f",
        "colab": {
          "base_uri": "https://localhost:8080/"
        }
      },
      "execution_count": null,
      "outputs": [
        {
          "output_type": "stream",
          "name": "stdout",
          "text": [
            "False\n",
            "True\n",
            "True\n",
            "False\n"
          ]
        }
      ]
    },
    {
      "cell_type": "markdown",
      "source": [
        "Пример 1. Создайте класс Vector, который представляет вектор и определите в нем операторы сложения и вычитания. Для сложения векторо применяется формула a + b = {ax + bx; ay + by}, а для вычитания a - b = {ax - bx; ay - by}"
      ],
      "metadata": {
        "id": "91Gsbevp-lFE"
      }
    },
    {
      "cell_type": "code",
      "source": [
        "class Vector:\n",
        "    def __init__ (self, x, y):\n",
        "        self.x = x\n",
        "        self.y = y\n",
        "    def __add__ (self, other):\n",
        "        return Vector(self.x + other.x, self.y + other.y)\n",
        "    def __sub__ (self, other):\n",
        "        return Vector(self.x - other.x, self.y - other.y)\n",
        "\n",
        "v1 = Vector(3, 5)\n",
        "v2 = Vector(1, 1)\n",
        "\n",
        "v3 = v1 + v2\n",
        "print(f\"x= {v3.x}  y={v3.y}\")\n",
        "\n",
        "v4 = v1 - v2\n",
        "print(f\"x= {v4.x}  y={v4.y}\")"
      ],
      "metadata": {
        "id": "8JbOxmdK923-",
        "outputId": "e2cce2fb-a514-4b3b-f5a5-04d46c7b625f",
        "colab": {
          "base_uri": "https://localhost:8080/"
        }
      },
      "execution_count": null,
      "outputs": [
        {
          "output_type": "stream",
          "name": "stdout",
          "text": [
            "x= 4  y=6\n",
            "x= 2  y=4\n"
          ]
        }
      ]
    },
    {
      "cell_type": "markdown",
      "source": [
        "## Абстрактные классы и методы"
      ],
      "metadata": {
        "id": "DLziVPQz9scr"
      }
    },
    {
      "cell_type": "markdown",
      "source": [
        "Обычно классы отражают некоторые объекты окружающей действительности. Но иногда нам приходится работать с сущностями, которые не имеют конкретного воплощения. Например, сущность \"животное\". Есть конкретные животные - кошка, собака и так далее, но животное как таковое не имеет конкретного воплощения. Или сущность \"геометрическая фигура\". Есть прямоугольник, квадрат, круг, треугольник, но сама по себе геометрическая фигура также не имеет конкретного воплощения. И обычно для описания подобных сущностей применяются абстрактные классы.\n",
        "\n",
        "В языке Python все инструменты для создания абстрактных классов определены в специальном модуле abc, который надо дополнительно подключать в приложении\n",
        "\n",
        "```\n",
        "import abc\n",
        "```\n",
        "Ключевыми компонентами этого модуля является класс ABC и аннотация @abstractmethod. Класс ABC упрощает создание абстрактного класса, и все определяемые абстрактные классы наследуются от этого класса. Аннотация @abstractmethod предназначеня для создания абстрактного метода.\n",
        "\n",
        "Абстрактные классы определяются как обычные классы за тем исключением, что они наследуются от класса ABC из модуля abc. Например, определим абстрактный класс геометрической фигуры:"
      ],
      "metadata": {
        "id": "-5-9jYuv-7Dj"
      }
    },
    {
      "cell_type": "code",
      "source": [
        "import abc\n",
        "class Shape(abc.ABC):\n",
        "    pass"
      ],
      "metadata": {
        "id": "3se_x7ri_Xb3"
      },
      "execution_count": null,
      "outputs": []
    },
    {
      "cell_type": "markdown",
      "source": [
        "Как правило, абстрактные классы объявляют некоторый общий функционал для классов наследников. Причем некоторый функционал может не иметь никакой реализации - его реализацию должны определить классы-наследники. Подобный функционал оформляется в классе в виде абстрактных методов. Например, класс геометрической фигуры может иметь методы вычисления периметра, площади и т.д. Мы не можем определить общую формулу для вычисления площади всех фигур - для каждой конкретной фигуры принцип вычисления площади может отличаться. Поэтому в классе фигуры мы можем определить метод вычисления площади как абстрактный. Для этого применяется аннотация @abstractmethod из модуля abc:"
      ],
      "metadata": {
        "id": "YIHSVII9_NlH"
      }
    },
    {
      "cell_type": "code",
      "source": [
        "import abc\n",
        "class Shape(abc.ABC):\n",
        "    @abc.abstractmethod\n",
        "    def area (self): pass       # площадь фигуры"
      ],
      "metadata": {
        "id": "4FDqK9hC_gYM"
      },
      "execution_count": null,
      "outputs": []
    },
    {
      "cell_type": "markdown",
      "source": [
        "В данном случае метод area() определен как абстрактный. Так как ему не нужен конкретный функционал, в нем вызывается оператор pass\n",
        "\n",
        "Стоит отметить, что мы не можем напрямую создать объект абстрактного класса с абстрактными методами, используя его конструктор:"
      ],
      "metadata": {
        "id": "X9R4LApy_fv8"
      }
    },
    {
      "cell_type": "code",
      "source": [
        "import abc\n",
        "class Shape(abc.ABC):\n",
        "    @abc.abstractmethod\n",
        "    def area (self): pass       # площадь фигуры\n",
        "\n",
        "shape = Shape()     # ! Ошибка - так нельзя\n",
        "print(shape)"
      ],
      "metadata": {
        "id": "0bEpXj1Y_mQW",
        "outputId": "62df13df-53c5-48d6-a76c-a7bf3f0872e4",
        "colab": {
          "base_uri": "https://localhost:8080/",
          "height": 203
        }
      },
      "execution_count": null,
      "outputs": [
        {
          "output_type": "error",
          "ename": "TypeError",
          "evalue": "Can't instantiate abstract class Shape with abstract method area",
          "traceback": [
            "\u001b[0;31m---------------------------------------------------------------------------\u001b[0m",
            "\u001b[0;31mTypeError\u001b[0m                                 Traceback (most recent call last)",
            "\u001b[0;32m<ipython-input-25-f3f969f69bdf>\u001b[0m in \u001b[0;36m<cell line: 6>\u001b[0;34m()\u001b[0m\n\u001b[1;32m      4\u001b[0m     \u001b[0;32mdef\u001b[0m \u001b[0marea\u001b[0m \u001b[0;34m(\u001b[0m\u001b[0mself\u001b[0m\u001b[0;34m)\u001b[0m\u001b[0;34m:\u001b[0m \u001b[0;32mpass\u001b[0m       \u001b[0;31m# площадь фигуры\u001b[0m\u001b[0;34m\u001b[0m\u001b[0;34m\u001b[0m\u001b[0m\n\u001b[1;32m      5\u001b[0m \u001b[0;34m\u001b[0m\u001b[0m\n\u001b[0;32m----> 6\u001b[0;31m \u001b[0mshape\u001b[0m \u001b[0;34m=\u001b[0m \u001b[0mShape\u001b[0m\u001b[0;34m(\u001b[0m\u001b[0;34m)\u001b[0m     \u001b[0;31m# ! Ошибка - так нельзя\u001b[0m\u001b[0;34m\u001b[0m\u001b[0;34m\u001b[0m\u001b[0m\n\u001b[0m\u001b[1;32m      7\u001b[0m \u001b[0mprint\u001b[0m\u001b[0;34m(\u001b[0m\u001b[0mshape\u001b[0m\u001b[0;34m)\u001b[0m\u001b[0;34m\u001b[0m\u001b[0;34m\u001b[0m\u001b[0m\n",
            "\u001b[0;31mTypeError\u001b[0m: Can't instantiate abstract class Shape with abstract method area"
          ]
        }
      ]
    },
    {
      "cell_type": "markdown",
      "source": [
        "Классы-наследники должны реализовать все абстрактные методы абстрактного класса. Например, определим класс прямоугольника:"
      ],
      "metadata": {
        "id": "DafK4DdG_qun"
      }
    },
    {
      "cell_type": "code",
      "source": [
        "import abc\n",
        "class Shape(abc.ABC):\n",
        "    @abc.abstractmethod\n",
        "    def area (self): pass       # площадь фигуры\n",
        "\n",
        "# класс прямоугольника\n",
        "class Rectangle(Shape):\n",
        "    def __init__(self, width, height):\n",
        "        self.width = width\n",
        "        self.height = height\n",
        "    def area (self): return self.width * self.height\n",
        "\n",
        "rect = Rectangle(30, 50)\n",
        "print(\"Rectangle area:\", rect.area())   # Rectangle area: 1500"
      ],
      "metadata": {
        "id": "-U8Jnb2J_rTR",
        "outputId": "e454158a-c2fb-41ef-af0c-6ba643072c68",
        "colab": {
          "base_uri": "https://localhost:8080/"
        }
      },
      "execution_count": null,
      "outputs": [
        {
          "output_type": "stream",
          "name": "stdout",
          "text": [
            "Rectangle area: 1500\n"
          ]
        }
      ]
    },
    {
      "cell_type": "markdown",
      "source": [
        "Здесь класс прямоугольника Rectangle принимает через конструктор ширину и высоту и использует их для вычисления площади в методе area().\n",
        "\n",
        "Подобным образом можно определить и другие типы фигур. Например, добавим класс круга:"
      ],
      "metadata": {
        "id": "ZwYUinUZ_tjX"
      }
    },
    {
      "cell_type": "code",
      "source": [
        "import abc\n",
        "class Shape(abc.ABC):\n",
        "    @abc.abstractmethod\n",
        "    def area (self): pass       # площадь фигуры\n",
        "\n",
        "# класс прямоугольника\n",
        "class Rectangle(Shape):\n",
        "    def __init__(self, width, height):\n",
        "        self.width = width\n",
        "        self.height = height\n",
        "    def area (self): return self.width * self.height\n",
        "\n",
        "# класс круга\n",
        "class Circle(Shape):\n",
        "    def __init__(self, radius):\n",
        "        self.radius = radius\n",
        "    def area (self): return self.radius * self.radius * 3.14\n",
        "\n",
        "\n",
        "def print_area(shape):\n",
        "    print(\"Area:\", shape.area())\n",
        "\n",
        "\n",
        "rect = Rectangle(30, 50)\n",
        "circle = Circle(30)\n",
        "print_area(rect)        # Area: 1500\n",
        "print_area(circle)      # Area: 2826.0"
      ],
      "metadata": {
        "id": "u8SxkG5T_wD2",
        "outputId": "f35a7123-de71-40bf-f1b7-026481d197f5",
        "colab": {
          "base_uri": "https://localhost:8080/"
        }
      },
      "execution_count": null,
      "outputs": [
        {
          "output_type": "stream",
          "name": "stdout",
          "text": [
            "Area: 1500\n",
            "Area: 2826.0\n"
          ]
        }
      ]
    },
    {
      "cell_type": "markdown",
      "source": [
        "В данном случае для вывода площади фигуры определена функция print_area, которая принимает любую фигуру.\n",
        "\n",
        "При этом абстрактные классы также могут определять конструктор, атрибуты, неабстрактные методы, которые также могут применяться в классах-наследниках:"
      ],
      "metadata": {
        "id": "rREWxDtB_zYp"
      }
    },
    {
      "cell_type": "code",
      "source": [
        "import abc\n",
        "class Shape(abc.ABC):\n",
        "    def __init__(self, x, y):\n",
        "        self.x = x\n",
        "        self.y = y\n",
        "\n",
        "    @abc.abstractmethod\n",
        "    def area (self): pass       # абстрактны метод\n",
        "\n",
        "    def print_point(self):          # неабстрактный метод\n",
        "        print(\"X:\", self.x, \"\\tY:\", self.y)\n",
        "\n",
        "# класс прямоугольника\n",
        "class Rectangle(Shape):\n",
        "    def __init__(self, x, y, width, height):\n",
        "        super().__init__(x, y)\n",
        "        self.width = width\n",
        "        self.height = height\n",
        "    def area (self): return self.width * self.height\n",
        "\n",
        "\n",
        "rect = Rectangle(10, 20, 100, 100)\n",
        "rect.print_point()      # X: 10   Y: 20"
      ],
      "metadata": {
        "id": "U8o9EP50_68K",
        "outputId": "6180bfcd-e0b6-4ff1-bc52-e0d429173424",
        "colab": {
          "base_uri": "https://localhost:8080/"
        }
      },
      "execution_count": null,
      "outputs": [
        {
          "output_type": "stream",
          "name": "stdout",
          "text": [
            "X: 10 \tY: 20\n"
          ]
        }
      ]
    },
    {
      "cell_type": "markdown",
      "source": [
        "Здесь абстрактный класс Shape через конструктор принимает координаты X и Y для точки, относительно которой создается фигура (например, для прямоугольника это могут быть координаты верхнего левого угла, для круга - центр). И также определен неабстрактный метод print_point, который выводит координаты точки на консоль."
      ],
      "metadata": {
        "id": "TIScFisY_1zC"
      }
    },
    {
      "cell_type": "markdown",
      "source": [
        "# Примеры"
      ],
      "metadata": {
        "id": "1kipUUcf5xH-"
      }
    },
    {
      "cell_type": "markdown",
      "source": [
        "## Наследование:"
      ],
      "metadata": {
        "id": "ndNaUJTx6Fnw"
      }
    },
    {
      "cell_type": "code",
      "source": [
        "class Animal:\n",
        "    def __init__(self, name):\n",
        "        self.name = name\n",
        "\n",
        "    def speak(self):\n",
        "        raise NotImplementedError(\"Subclass must implement this method\")\n",
        "\n",
        "\n",
        "class Dog(Animal):  # Наследование от класса Animal\n",
        "    def speak(self):\n",
        "        return f\"{self.name} says Woof!\"\n",
        "\n",
        "class Cat(Animal):  # Наследование от класса Animal\n",
        "    def speak(self):\n",
        "        return f\"{self.name} says Meow!\"\n",
        "\n",
        "dog = Dog(\"Buddy\")\n",
        "cat = Cat(\"Whiskers\")\n",
        "\n",
        "print(dog.speak())  # Выведет: Buddy says Woof!\n",
        "print(cat.speak())  # Выведет: Whiskers says Meow!\n"
      ],
      "metadata": {
        "colab": {
          "base_uri": "https://localhost:8080/"
        },
        "id": "ZvBRn7D-6GyF",
        "outputId": "e8ceaf0a-d122-48d7-9556-90bbe900d09d"
      },
      "execution_count": null,
      "outputs": [
        {
          "output_type": "stream",
          "name": "stdout",
          "text": [
            "Buddy says Woof!\n",
            "Whiskers says Meow!\n"
          ]
        }
      ]
    },
    {
      "cell_type": "markdown",
      "source": [
        "## Инкапсуляция:"
      ],
      "metadata": {
        "id": "6tKyEPKf6KgH"
      }
    },
    {
      "cell_type": "code",
      "source": [
        "class Car:\n",
        "    def __init__(self):\n",
        "        self.__max_speed = 200  # Приватное свойство\n",
        "\n",
        "    def drive(self):\n",
        "        print(f\"Driving at {self.__max_speed} km/h\")\n",
        "\n",
        "    def set_max_speed(self, speed):\n",
        "        if speed > 300:\n",
        "            print(\"Max speed cannot exceed 300 km/h\")\n",
        "        else:\n",
        "            self.__max_speed = speed\n",
        "\n",
        "car = Car()\n",
        "car.drive()  # Выведет: Driving at 200 km/h\n",
        "car.set_max_speed(250)\n",
        "car.drive()  # Выведет: Driving at 250 km/h\n"
      ],
      "metadata": {
        "colab": {
          "base_uri": "https://localhost:8080/"
        },
        "id": "WdDI_ayc6OVs",
        "outputId": "401b1d3d-c1f6-40b8-8b02-31ce7f4af698"
      },
      "execution_count": null,
      "outputs": [
        {
          "output_type": "stream",
          "name": "stdout",
          "text": [
            "Driving at 200 km/h\n",
            "Driving at 250 km/h\n"
          ]
        }
      ]
    },
    {
      "cell_type": "markdown",
      "source": [
        "## Полиморфизм:"
      ],
      "metadata": {
        "id": "5BUSN2nm6RXG"
      }
    },
    {
      "cell_type": "code",
      "source": [
        "class Shape:\n",
        "    def area(self):\n",
        "        raise NotImplementedError(\"Subclass must implement this method\")\n",
        "\n",
        "class Rectangle(Shape):\n",
        "    def __init__(self, width, height):\n",
        "        self.width = width\n",
        "        self.height = height\n",
        "\n",
        "    def area(self):\n",
        "        return self.width * self.height\n",
        "\n",
        "class Circle(Shape):\n",
        "    def __init__(self, radius):\n",
        "        self.radius = radius\n",
        "\n",
        "    def area(self):\n",
        "        return 3.14 * self.radius ** 2\n",
        "\n",
        "shapes = [Rectangle(4, 5), Circle(3)]\n",
        "for shape in shapes:\n",
        "    print(shape.area())\n"
      ],
      "metadata": {
        "colab": {
          "base_uri": "https://localhost:8080/"
        },
        "id": "39McH6Vx6Yxs",
        "outputId": "2aa3a64e-840e-4de8-fc30-293728d6471c"
      },
      "execution_count": null,
      "outputs": [
        {
          "output_type": "stream",
          "name": "stdout",
          "text": [
            "20\n",
            "28.26\n"
          ]
        }
      ]
    },
    {
      "cell_type": "markdown",
      "source": [
        "## Линейные, квадратные, кубические уравнения"
      ],
      "metadata": {
        "id": "xtA6zZ-w7ZRe"
      }
    },
    {
      "cell_type": "code",
      "source": [
        "import math\n",
        "\n",
        "class Equation:\n",
        "    def solve(self):\n",
        "        raise NotImplementedError(\"Subclass must implement this method\")\n",
        "\n",
        "class LinearEquation(Equation):\n",
        "    def __init__(self, a, b):\n",
        "        self.a = a\n",
        "        self.b = b\n",
        "\n",
        "    def solve(self):\n",
        "        if self.a == 0:\n",
        "            if self.b == 0:\n",
        "                return \"Уравнение имеет бесконечное множество решений\"\n",
        "            else:\n",
        "                return \"Уравнение не имеет решений\"\n",
        "        else:\n",
        "            return f\"Решение уравнения: x = {-self.b/self.a}\"\n",
        "\n",
        "class QuadraticEquation(Equation):\n",
        "    def __init__(self, a, b, c):\n",
        "        self.a = a\n",
        "        self.b = b\n",
        "        self.c = c\n",
        "\n",
        "    def solve(self):\n",
        "        discriminant = self.b**2 - 4*self.a*self.c\n",
        "        if discriminant > 0:\n",
        "            x1 = (-self.b + math.sqrt(discriminant)) / (2*self.a)\n",
        "            x2 = (-self.b - math.sqrt(discriminant)) / (2*self.a)\n",
        "            return f\"Решения уравнения: x1 = {x1}, x2 = {x2}\"\n",
        "        elif discriminant == 0:\n",
        "            x = -self.b / (2*self.a)\n",
        "            return f\"Уравнение имеет одно решение: x = {x}\"\n",
        "        else:\n",
        "            return \"Уравнение не имеет действительных решений\"\n",
        "\n",
        "class CubicEquation(Equation):\n",
        "    def __init__(self, a, b, c, d):\n",
        "        self.a = a\n",
        "        self.b = b\n",
        "        self.c = c\n",
        "        self.d = d\n",
        "\n",
        "    def solve(self):\n",
        "        # Решение кубического уравнения\n",
        "        p = (3*self.a*self.c - self.b**2) / (3*self.a**2)\n",
        "        q = (2*self.b**3 - 9*self.a*self.b*self.c + 27*self.a**2*self.d) / (27*self.a**3)\n",
        "\n",
        "        discriminant = (q/2)**2 + (p/3)**3\n",
        "\n",
        "        if discriminant < 0:\n",
        "            r = math.sqrt((q/2)**2 + abs((p/3)**3))\n",
        "            t = -math.pow(r, 1/3)\n",
        "\n",
        "            if q < 0:\n",
        "                t = -t\n",
        "\n",
        "            s = (t + (q/(2*t))) - (self.b/(3*self.a))\n",
        "            return f\"Уравнение имеет одно действительное решение: x = {s}\"\n",
        "\n",
        "        elif discriminant == 0:\n",
        "            if q >= 0:\n",
        "                s = -2 * math.pow(q/2, 1/3) - (self.b/(3*self.a))\n",
        "                return f\"Уравнение имеет одно действительное решение: x = {s}\"\n",
        "            else:\n",
        "                s1 = math.pow(-q/2, 1/3) - (self.b/(3*self.a))\n",
        "                s2 = -math.pow(-q/2, 1/3) - (self.b/(3*self.a))\n",
        "                return f\"Уравнение имеет два действительных решения: x1 = {s1}, x2 = {s2}\"\n",
        "\n",
        "        else:\n",
        "            u = math.pow(-(q/2 + math.sqrt(discriminant)), 1/3)\n",
        "            v = math.pow(-(q/2 - math.sqrt(discriminant)), 1/3)\n",
        "            s1 = u + v - (self.b/(3*self.a))\n",
        "            return f\"Уравнение имеет одно действительное решение: x = {s1}\"\n",
        "\n",
        "# Пример использования классов для решения уравнений\n",
        "linear_eq = LinearEquation(2, 4)\n",
        "quadratic_eq = QuadraticEquation(1, -3, -4)\n",
        "cubic_eq = CubicEquation(1, -6, 11, -6)\n",
        "\n",
        "print(linear_eq.solve())\n",
        "print(quadratic_eq.solve())\n",
        "print(cubic_eq.solve())\n"
      ],
      "metadata": {
        "colab": {
          "base_uri": "https://localhost:8080/"
        },
        "id": "Er4VBnDV7aeL",
        "outputId": "9c5bd646-e84c-47d8-e37d-be455bf335b7"
      },
      "execution_count": null,
      "outputs": [
        {
          "output_type": "stream",
          "name": "stdout",
          "text": [
            "Решение уравнения: x = -2.0\n",
            "Решения уравнения: x1 = 4.0, x2 = -1.0\n",
            "Уравнение имеет одно действительное решение: x = 1.4226497308103743\n"
          ]
        }
      ]
    },
    {
      "cell_type": "markdown",
      "source": [
        "# Обработка ошибок и исключений\n",
        "\n",
        "## Конструкция try...except...finally"
      ],
      "metadata": {
        "id": "RkGvb0Wz78e8"
      }
    },
    {
      "cell_type": "markdown",
      "source": [
        "При программировании на Python мы можем столкнуться с двумя типами ошибок. Первый тип представляют синтаксические ошибки (syntax error). Они появляются в результате нарушения синтаксиса языка программирования при написании исходного кода. При наличии таких ошибок программа не может быть скомпилирована. При работе в какой-либо среде разработки, например, в PyCharm, IDE сама может отслеживать синтаксические ошибки и каким-либо образом их выделять.\n",
        "\n",
        "Второй тип ошибок представляют ошибки выполнения (runtime error). Они появляются в уже скомпилированной программе в процессе ее выполнения. Подобные ошибки еще называются исключениями. Например, в прошлых темах мы рассматривали преобразование строки в число:"
      ],
      "metadata": {
        "id": "GUkx4PZ67-yR"
      }
    },
    {
      "cell_type": "code",
      "source": [
        "string = \"5\"\n",
        "number = int(string)\n",
        "print(number)"
      ],
      "metadata": {
        "colab": {
          "base_uri": "https://localhost:8080/"
        },
        "id": "p9Uz6w6H8HHH",
        "outputId": "b1da1466-b424-4a98-aceb-7822b0f83c61"
      },
      "execution_count": null,
      "outputs": [
        {
          "output_type": "stream",
          "name": "stdout",
          "text": [
            "5\n"
          ]
        }
      ]
    },
    {
      "cell_type": "markdown",
      "source": [
        "Данный скрипт успешно скомпилируется и выполнится, так как строка \"5\" вполне может быть конвертирована в число. Однако возьмем другой пример:"
      ],
      "metadata": {
        "id": "vEpbj3t78JIp"
      }
    },
    {
      "cell_type": "code",
      "source": [
        "string = \"hello\"\n",
        "number = int(string)\n",
        "print(number)"
      ],
      "metadata": {
        "colab": {
          "base_uri": "https://localhost:8080/",
          "height": 210
        },
        "id": "WuEdTUHO8LIm",
        "outputId": "84bb348e-e5a0-42ab-898a-41bc92b44c6d"
      },
      "execution_count": null,
      "outputs": [
        {
          "output_type": "error",
          "ename": "ValueError",
          "evalue": "ignored",
          "traceback": [
            "\u001b[0;31m---------------------------------------------------------------------------\u001b[0m",
            "\u001b[0;31mValueError\u001b[0m                                Traceback (most recent call last)",
            "\u001b[0;32m<ipython-input-50-b2431cf11922>\u001b[0m in \u001b[0;36m<cell line: 2>\u001b[0;34m()\u001b[0m\n\u001b[1;32m      1\u001b[0m \u001b[0mstring\u001b[0m \u001b[0;34m=\u001b[0m \u001b[0;34m\"hello\"\u001b[0m\u001b[0;34m\u001b[0m\u001b[0;34m\u001b[0m\u001b[0m\n\u001b[0;32m----> 2\u001b[0;31m \u001b[0mnumber\u001b[0m \u001b[0;34m=\u001b[0m \u001b[0mint\u001b[0m\u001b[0;34m(\u001b[0m\u001b[0mstring\u001b[0m\u001b[0;34m)\u001b[0m\u001b[0;34m\u001b[0m\u001b[0;34m\u001b[0m\u001b[0m\n\u001b[0m\u001b[1;32m      3\u001b[0m \u001b[0mprint\u001b[0m\u001b[0;34m(\u001b[0m\u001b[0mnumber\u001b[0m\u001b[0;34m)\u001b[0m\u001b[0;34m\u001b[0m\u001b[0;34m\u001b[0m\u001b[0m\n",
            "\u001b[0;31mValueError\u001b[0m: invalid literal for int() with base 10: 'hello'"
          ]
        }
      ]
    },
    {
      "cell_type": "markdown",
      "source": [
        "С одной стороны, здесь очевидно, что строка не представляет число, но мы можем иметь дело с вводом пользователя, который также может ввести не совсем то, что мы ожидаем:"
      ],
      "metadata": {
        "id": "M62SCcv28NZY"
      }
    },
    {
      "cell_type": "markdown",
      "source": [
        "При возникновении исключения работа программы прерывается, и чтобы избежать подобного поведения и обрабатывать исключения в Python есть конструкция try..except.\n",
        "\n"
      ],
      "metadata": {
        "id": "PT_Tyi-58QXg"
      }
    },
    {
      "cell_type": "markdown",
      "source": [
        "## try..except\n",
        "\n",
        "Конструкция try..except имеет следующее формальное определение:"
      ],
      "metadata": {
        "id": "tUEyw2_M8THX"
      }
    },
    {
      "cell_type": "markdown",
      "source": [
        "\n",
        "\n",
        "```\n",
        "try:\n",
        "    инструкции\n",
        "except [Тип_исключения]:\n",
        "    инструкции\n",
        "```\n",
        "\n"
      ],
      "metadata": {
        "id": "woOYf6hU8WpR"
      }
    },
    {
      "cell_type": "markdown",
      "source": [
        "Рассмотрим обработку исключения на примере преобразовании строки в число:"
      ],
      "metadata": {
        "id": "a5REmrlI8asq"
      }
    },
    {
      "cell_type": "code",
      "source": [
        "try:\n",
        "    number = int(input(\"Введите число: \"))\n",
        "    print(\"Введенное число:\", number)\n",
        "except:\n",
        "    print(\"Преобразование прошло неудачно\")\n",
        "print(\"Завершение программы\")"
      ],
      "metadata": {
        "colab": {
          "base_uri": "https://localhost:8080/"
        },
        "id": "LQqUAu658f4B",
        "outputId": "02a76edf-cd9d-4254-f095-c5a6eeff629f"
      },
      "execution_count": null,
      "outputs": [
        {
          "output_type": "stream",
          "name": "stdout",
          "text": [
            "Введите число: 25\n",
            "Введенное число: 25\n",
            "Завершение программы\n"
          ]
        }
      ]
    },
    {
      "cell_type": "markdown",
      "source": [
        "## Блок finally\n",
        "\n",
        "При обработке исключений также можно использовать необязательный блок finally. Отличительной особенностью этого блока является то, что он выполняется вне зависимости, было ли сгенерировано исключение:"
      ],
      "metadata": {
        "id": "ugDBO3-q8fHm"
      }
    },
    {
      "cell_type": "code",
      "source": [
        "try:\n",
        "    number = int(input(\"Введите число: \"))\n",
        "    print(\"Введенное число:\", number)\n",
        "except:\n",
        "    print(\"Преобразование прошло неудачно\")\n",
        "finally:\n",
        "    print(\"Блок try завершил выполнение\")\n",
        "print(\"Завершение программы\")"
      ],
      "metadata": {
        "colab": {
          "base_uri": "https://localhost:8080/"
        },
        "id": "I15lBGGV8oDq",
        "outputId": "e849c104-8b43-4883-9c6e-de2f8d4b7812"
      },
      "execution_count": null,
      "outputs": [
        {
          "output_type": "stream",
          "name": "stdout",
          "text": [
            "Введите число: 45ьд\n",
            "Преобразование прошло неудачно\n",
            "Блок try завершил выполнение\n",
            "Завершение программы\n"
          ]
        }
      ]
    },
    {
      "cell_type": "markdown",
      "source": [
        "Как правило, блок finally применяется для освобождения используемых ресурсов, например, для закрытия файлов."
      ],
      "metadata": {
        "id": "bdVDGMXq8u44"
      }
    },
    {
      "cell_type": "markdown",
      "source": [
        "## except и обработка разных типов исключений"
      ],
      "metadata": {
        "id": "3rDdA5p3838A"
      }
    },
    {
      "cell_type": "markdown",
      "source": [
        "### Встроенные типы исключений\n",
        "\n",
        "В примере выше обрабатывались сразу все исключения, которые могут возникнуть в коде. Однако мы можем конкретизировать тип обрабатываемого исключения, указав его после слова except:"
      ],
      "metadata": {
        "id": "SZq9rT0m88jy"
      }
    },
    {
      "cell_type": "code",
      "source": [
        "try:\n",
        "    number = int(input(\"Введите число: \"))\n",
        "    print(\"Введенное число:\", number)\n",
        "except ValueError:\n",
        "    print(\"Преобразование прошло неудачно\")\n",
        "print(\"Завершение программы\")"
      ],
      "metadata": {
        "colab": {
          "base_uri": "https://localhost:8080/"
        },
        "id": "rHnLefgV9CD-",
        "outputId": "bec50543-a278-4362-e146-3e75e8e4d08e"
      },
      "execution_count": null,
      "outputs": [
        {
          "output_type": "stream",
          "name": "stdout",
          "text": [
            "Введите число: 545\n",
            "Введенное число: 545\n",
            "Завершение программы\n"
          ]
        }
      ]
    },
    {
      "cell_type": "markdown",
      "source": [
        "В данном случае блок execpt обрабатывает только исключения типа ValueError, которые могут возникнут при неудачном преобразовании строки в число.\n",
        "\n",
        "В Python есть следующие базовые типы исключений:\n",
        "\n",
        "* BaseException: базовый тип для всех встроенных исключений\n",
        "\n",
        "* Exception: базовый тип, который обычно применяется для создания своих типов исключений\n",
        "\n",
        "* ArithmeticError: базовый тип для исключений, связанных с арифметическими операциями (OverflowError, ZeroDivisionError, FloatingPointError).\n",
        "\n",
        "* BufferError: тип исключения, которое возникает при невозможности выполнить операцию с буффером\n",
        "\n",
        "* LookupError: базовый тип для исключений, которое возникают при обращении в коллекциях по некорректному ключу или индексу (например, IndexError, KeyError)\n",
        "\n",
        "От этих классов наследуются все конкретные типы исключений. В Python обладает довольно большим списком встроенных исключений. Весь этот список можно посмотреть в документации. Перечислю только некоторые наиболее часто встречающиеся:\n",
        "\n",
        "* IndexError: исключение возникает, если индекс при обращении к элементу коллекции находится вне допустимого диапазона\n",
        "\n",
        "* KeyError: возникает, если в словаре отсутствует ключ, по которому происходит обращение к элементу словаря.\n",
        "\n",
        "*  OverflowError: возникает, если результат арифметической операции не может быть представлен текущим числовым типом (обычно типом float).\n",
        "\n",
        "* RecursionError: возникает, если превышена допустимая глубина рекурсии.\n",
        "\n",
        "* TypeError: возникает, если операция или функция применяется к значению недопустимого типа.\n",
        "\n",
        "* ValueError: возникает, если операция или функция получают объект корректного типа с некорректным значением.\n",
        "\n",
        "* ZeroDivisionError: возникает при делении на ноль.\n",
        "\n",
        "* NotImplementedError: тип исключения для указания, что какие-то методы класса не реализованы\n",
        "\n",
        "* ModuleNotFoundError: возникает при при невозможности найти модуль при его импорте директивой import\n",
        "\n",
        "* OSError: тип исключений, которые генерируются при возникновении ошибок системы (например, невозможно найти файл, память диска заполнена и т.д.)\n",
        "\n",
        "И если ситуация такова, что в программе могут быть сгенерированы различные типы исключений, то мы можем их обработать по отдельности, используя дополнительные выражения except. И при возникновении исключения Python будет искать нужный блок except, который обрабатывает данный тип исключения:"
      ],
      "metadata": {
        "id": "hdrbRJaa9HwC"
      }
    },
    {
      "cell_type": "code",
      "source": [
        "try:\n",
        "    number1 = int(input(\"Введите первое число: \"))\n",
        "    number2 = int(input(\"Введите второе число: \"))\n",
        "    print(\"Результат деления:\", number1/number2)\n",
        "except ValueError:\n",
        "    print(\"Преобразование прошло неудачно\")\n",
        "except ZeroDivisionError:\n",
        "    print(\"Попытка деления числа на ноль\")\n",
        "except BaseException:\n",
        "    print(\"Общее исключение\")\n",
        "print(\"Завершение программы\")"
      ],
      "metadata": {
        "colab": {
          "base_uri": "https://localhost:8080/"
        },
        "id": "FEmC2akn9VIj",
        "outputId": "a7e11ca6-3b97-4ed7-c68e-daa1758d40f9"
      },
      "execution_count": null,
      "outputs": [
        {
          "output_type": "stream",
          "name": "stdout",
          "text": [
            "Введите первое число: 2\n",
            "Введите второе число: 6\n",
            "Результат деления: 0.3333333333333333\n",
            "Завершение программы\n"
          ]
        }
      ]
    },
    {
      "cell_type": "markdown",
      "source": [
        "Если возникнет исключение в результате преобразования строки в число, то оно будет обработано блоком except ValueError. Если же второе число будет равно нулю, то есть будет деление на ноль, тогда возникнет исключение ZeroDivisionError, и оно будет обработано блоком except ZeroDivisionError.\n",
        "\n",
        "Тип BaseException представляет общее исключение, под которое попадают все исключительные ситуации. Поэтому в данном случае любое исключение, которое не представляет тип ValueError или ZeroDivisionError, будет обработано в блоке except BaseException:.\n",
        "\n",
        "Однако, если в программе возникает исключение типа, для которого нет соответствующего блока except, то программа не сможет найти соответствующий блок except и сгенерирует исключение. Например, в следующем случае:"
      ],
      "metadata": {
        "id": "VNuNuqb_9XP7"
      }
    },
    {
      "cell_type": "code",
      "source": [
        "try:\n",
        "    number1 = int(input(\"Введите первое число: \"))\n",
        "    number2 = int(input(\"Введите второе число: \"))\n",
        "    print(\"Результат деления:\", number1/number2)\n",
        "except ZeroDivisionError:\n",
        "    print(\"Попытка деления числа на ноль\")\n",
        "print(\"Завершение программы\")"
      ],
      "metadata": {
        "colab": {
          "base_uri": "https://localhost:8080/"
        },
        "id": "L2hQrnXK9aYH",
        "outputId": "82f6754a-a357-4911-99e0-de20ea9ceff5"
      },
      "execution_count": null,
      "outputs": [
        {
          "output_type": "stream",
          "name": "stdout",
          "text": [
            "Введите первое число: 25\n",
            "Введите второе число: 6\n",
            "Результат деления: 4.166666666666667\n",
            "Завершение программы\n"
          ]
        }
      ]
    },
    {
      "cell_type": "markdown",
      "source": [
        "Python позволяет в одном блоке except обрабатывать сразу несколько типов исключений. В этом случае все типы исключения передаются в скобках:"
      ],
      "metadata": {
        "id": "Zxqgd1pr9f2h"
      }
    },
    {
      "cell_type": "code",
      "source": [
        "try:\n",
        "    number1 = int(input(\"Введите первое число: \"))\n",
        "    number2 = int(input(\"Введите второе число: \"))\n",
        "    print(\"Результат деления:\", number1/number2)\n",
        "except (ZeroDivisionError, ValueError):    #  обработка двух типов исключений - ZeroDivisionError и ValueError\n",
        "    print(\"Попытка деления числа на ноль или некорректный ввод\")\n",
        "\n",
        "print(\"Завершение программы\")"
      ],
      "metadata": {
        "colab": {
          "base_uri": "https://localhost:8080/"
        },
        "id": "Gox3x1NB9lrI",
        "outputId": "5125c394-7eeb-4b39-dc0b-c3f985ba5803"
      },
      "execution_count": null,
      "outputs": [
        {
          "output_type": "stream",
          "name": "stdout",
          "text": [
            "Введите первое число: 25\n",
            "Введите второе число: 6\n",
            "Результат деления: 4.166666666666667\n",
            "Завершение программы\n"
          ]
        }
      ]
    },
    {
      "cell_type": "markdown",
      "source": [
        "### Получение информации об исключении\n",
        "\n",
        "С помощью оператора as мы можем передать всю информацию об исключении в переменную, которую затем можно использовать в блоке except:"
      ],
      "metadata": {
        "id": "MmYhhNxj9pZk"
      }
    },
    {
      "cell_type": "code",
      "source": [
        "try:\n",
        "    number = int(input(\"Введите число: \"))\n",
        "    print(\"Введенное число:\", number)\n",
        "except ValueError as e:\n",
        "    print(\"Сведения об исключении\", e)\n",
        "print(\"Завершение программы\")"
      ],
      "metadata": {
        "colab": {
          "base_uri": "https://localhost:8080/"
        },
        "id": "MLeBIyf09uCn",
        "outputId": "ff6187bc-4f78-4ab1-bab2-0a0fcb8556ac"
      },
      "execution_count": null,
      "outputs": [
        {
          "output_type": "stream",
          "name": "stdout",
          "text": [
            "Введите число: 54\n",
            "Введенное число: 54\n",
            "Завершение программы\n"
          ]
        }
      ]
    },
    {
      "cell_type": "markdown",
      "source": [
        "# Генерация исключений и создание своих типов исключений"
      ],
      "metadata": {
        "id": "M7F0_5Zo90HR"
      }
    },
    {
      "cell_type": "markdown",
      "source": [
        "## Генерация исключений и оператор raise\n",
        "\n",
        "Иногда возникает необходимость вручную сгенерировать то или иное исключение. Для этого применяется оператор raise. Например, сгенерируем исключение"
      ],
      "metadata": {
        "id": "GMhERZim953_"
      }
    },
    {
      "cell_type": "code",
      "source": [
        "try:\n",
        "    number1 = int(input(\"Введите первое число: \"))\n",
        "    number2 = int(input(\"Введите второе число: \"))\n",
        "    if number2 == 0:\n",
        "        raise Exception(\"Второе число не должно быть равно 0\")\n",
        "    print(\"Результат деления двух чисел:\", number1/number2)\n",
        "except ValueError:\n",
        "    print(\"Введены некорректные данные\")\n",
        "except Exception as e:\n",
        "    print(e)\n",
        "print(\"Завершение программы\")"
      ],
      "metadata": {
        "colab": {
          "base_uri": "https://localhost:8080/"
        },
        "id": "VjxRB7zc9_K6",
        "outputId": "ae14d082-2094-4796-90b6-ee3c2972ea23"
      },
      "execution_count": null,
      "outputs": [
        {
          "output_type": "stream",
          "name": "stdout",
          "text": [
            "Введите первое число: 5\n",
            "Введите второе число: 8\n",
            "Результат деления двух чисел: 0.625\n",
            "Завершение программы\n"
          ]
        }
      ]
    },
    {
      "cell_type": "markdown",
      "source": [
        "Оператору raise передается объект BaseException - в данном случае объект Exception. В конструктор этого типа можно ему передать сообщение, которое затем можно вывести пользователю. В итоге, если number2 будет равно 0, то сработает оператор raise, который сгенерирует исключение. В итоге управление программой перейдет к блоку except, который обрабатывает исключения типа Exception:"
      ],
      "metadata": {
        "id": "1UK_c5Nd-Cmi"
      }
    },
    {
      "cell_type": "markdown",
      "source": [
        "## Создание своих типов исключений\n",
        "\n",
        "В языке Python мы не ограничены только встроенными типами исключений и можем, применяя наследование, при необходимости создавать свои типы исключений. Например, возьмем следующий класс Person:"
      ],
      "metadata": {
        "id": "osREOcAj-L9Z"
      }
    },
    {
      "cell_type": "code",
      "source": [
        "class Person:\n",
        "    def __init__(self, name, age):\n",
        "        self.__name = name  # устанавливаем имя\n",
        "        self.__age = age   # устанавливаем возраст\n",
        "\n",
        "    def display_info(self):\n",
        "        print(f\"Имя: {self.__name}  Возраст: {self.__age}\")"
      ],
      "metadata": {
        "id": "d9g_oPuB-NQz"
      },
      "execution_count": null,
      "outputs": []
    },
    {
      "cell_type": "markdown",
      "source": [
        "Здесь класс Person в конструкторе получает значения для имени и возраста и присваивает их приватным переменным name и age. Однако при создании объекта Person мы можем передать в конструктор некорректное с точки зрения логики значение - например, отрицательное число. Одним из способов решения данной ситуации представляет генерация исключения при передаче некорректных значений.\n",
        "\n",
        "Итак, определим следующий код программы:"
      ],
      "metadata": {
        "id": "zSog6fAv-UiS"
      }
    },
    {
      "cell_type": "code",
      "source": [
        "class PersonAgeException(Exception):\n",
        "    def __init__(self, age, minage, maxage):\n",
        "        self.age = age\n",
        "        self.minage = minage\n",
        "        self.maxage = maxage\n",
        "\n",
        "    def __str__(self):\n",
        "        return f\"Недопустимое значение: {self.age}. \" \\\n",
        "               f\"Возраст должен быть в диапазоне от {self.minage} до {self.maxage}\"\n",
        "\n",
        "\n",
        "class Person:\n",
        "    def __init__(self, name, age):\n",
        "        self.__name = name  # устанавливаем имя\n",
        "        minage, maxage = 1, 110\n",
        "        if minage < age < maxage:   # устанавливаем возраст, если передано корректное значение\n",
        "            self.__age = age\n",
        "        else:                       # иначе генерируем исключение\n",
        "            raise PersonAgeException(age, minage, maxage)\n",
        "\n",
        "    def display_info(self):\n",
        "        print(f\"Имя: {self.__name}  Возраст: {self.__age}\")\n",
        "\n",
        "try:\n",
        "    tom = Person(\"Tom\", 37)\n",
        "    tom.display_info()  # Имя: Tom  Возраст: 37\n",
        "\n",
        "    bob = Person(\"Bob\", -23)\n",
        "    bob.display_info()\n",
        "except PersonAgeException as e:\n",
        "    print(e)    # Недопустимое значение: -23. Возраст должен быть в диапазоне от 1 до 110"
      ],
      "metadata": {
        "colab": {
          "base_uri": "https://localhost:8080/"
        },
        "id": "GJMFUrcd-VBb",
        "outputId": "5583b9bc-981c-4d21-c442-c8b31853e4bf"
      },
      "execution_count": null,
      "outputs": [
        {
          "output_type": "stream",
          "name": "stdout",
          "text": [
            "Имя: Tom  Возраст: 37\n",
            "Недопустимое значение: -23. Возраст должен быть в диапазоне от 1 до 110\n"
          ]
        }
      ]
    }
  ]
}