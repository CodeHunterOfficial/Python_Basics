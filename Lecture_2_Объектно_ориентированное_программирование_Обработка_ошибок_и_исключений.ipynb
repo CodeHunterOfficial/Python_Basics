{
  "nbformat": 4,
  "nbformat_minor": 0,
  "metadata": {
    "colab": {
      "provenance": [],
      "authorship_tag": "ABX9TyNggWbMGaGMKPeL368bD1+H",
      "include_colab_link": true
    },
    "kernelspec": {
      "name": "python3",
      "display_name": "Python 3"
    },
    "language_info": {
      "name": "python"
    }
  },
  "cells": [
    {
      "cell_type": "markdown",
      "metadata": {
        "id": "view-in-github",
        "colab_type": "text"
      },
      "source": [
        "<a href=\"https://colab.research.google.com/github/CodeHunterOfficial/Python_Basics/blob/main/Lecture_2_%D0%9E%D0%B1%D1%8A%D0%B5%D0%BA%D1%82%D0%BD%D0%BE_%D0%BE%D1%80%D0%B8%D0%B5%D0%BD%D1%82%D0%B8%D1%80%D0%BE%D0%B2%D0%B0%D0%BD%D0%BD%D0%BE%D0%B5_%D0%BF%D1%80%D0%BE%D0%B3%D1%80%D0%B0%D0%BC%D0%BC%D0%B8%D1%80%D0%BE%D0%B2%D0%B0%D0%BD%D0%B8%D0%B5_%D0%9E%D0%B1%D1%80%D0%B0%D0%B1%D0%BE%D1%82%D0%BA%D0%B0_%D0%BE%D1%88%D0%B8%D0%B1%D0%BE%D0%BA_%D0%B8_%D0%B8%D1%81%D0%BA%D0%BB%D1%8E%D1%87%D0%B5%D0%BD%D0%B8%D0%B9.ipynb\" target=\"_parent\"><img src=\"https://colab.research.google.com/assets/colab-badge.svg\" alt=\"Open In Colab\"/></a>"
      ]
    },
    {
      "cell_type": "markdown",
      "source": [
        "# Объектно-ориентированное программирование. Обработка ошибок и исключений"
      ],
      "metadata": {
        "id": "Pv5QNLp_-nCq"
      }
    },
    {
      "cell_type": "markdown",
      "source": [
        "## Классы и объекты"
      ],
      "metadata": {
        "id": "0uO9Q-DC-f7W"
      }
    },
    {
      "cell_type": "markdown",
      "source": [
        "Python имеет множество встроенных типов, например, int, str и так далее, которые мы можем использовать в программе. Но также Python позволяет определять собственные типы с помощью классов. Класс представляет некоторую сущность. Конкретным воплощением класса является объект.\n",
        "\n",
        "Можно еще провести следующую аналогию. У нас у всех есть некоторое представление о человеке, у которого есть имя, возраст, какие-то другие характеристики Человек может выполнять некоторые действия - ходить, бегать, думать и т.д. То есть это представление, которое включает набор характеристик и действий, можно назвать классом. Конкретное воплощение этого шаблона может отличаться, например, одни люди имеют одно имя, другие - другое имя. И реально существующий человек будет представлять объект этого класса.\n",
        "\n",
        "Класс определяется с помощью ключевого слова class:"
      ],
      "metadata": {
        "id": "YvUslcGzu9O0"
      }
    },
    {
      "cell_type": "markdown",
      "source": [
        "\n",
        "\n",
        "```\n",
        "class название_класса:\n",
        "    атрибуты_класса\n",
        "    методы_класса\n",
        "```\n",
        "\n"
      ],
      "metadata": {
        "id": "ZvsTLFAdvCuR"
      }
    },
    {
      "cell_type": "markdown",
      "source": [
        "Внутри класса определяются его атрибуты, которые хранят различные характеристики класса, и методы - функции класса.\n",
        "\n",
        "Создадим простейший класс:"
      ],
      "metadata": {
        "id": "THA3LIYEvGNo"
      }
    },
    {
      "cell_type": "code",
      "source": [
        "class Person:\n",
        "    pass"
      ],
      "metadata": {
        "id": "gtP90jX_vaNL"
      },
      "execution_count": 1,
      "outputs": []
    },
    {
      "cell_type": "markdown",
      "source": [
        "В данном случае определен класс Person, который условно представляет человека. В данном случае в классе не определяется никаких методов или атрибутов. Однако поскольку в нем должно быть что-то определено, то в качестве заменителя функционала класса применяется оператор pass. Этот оператор применяется, когда синтаксически необходимо определить некоторый код, однако мы не хотим его, и вместо конкретного кода вставляем оператор pass.\n",
        "\n",
        "После создания класса можно определить объекты этого класса. Например:"
      ],
      "metadata": {
        "id": "-oeDhT6JvcgU"
      }
    },
    {
      "cell_type": "code",
      "source": [
        "class Person:\n",
        "    pass\n",
        "\n",
        "safiya = Person()      # определение объекта safiya\n",
        "amina = Person()      # определение объекта amina"
      ],
      "metadata": {
        "id": "kgck3CWBvgFV"
      },
      "execution_count": 14,
      "outputs": []
    },
    {
      "cell_type": "markdown",
      "source": [
        "## Методы классов\n",
        "\n",
        "Методы класса фактически представляют функции, которые определенны внутри класса и которые определяют его поведение. Например, определим класс Person с одним методом:"
      ],
      "metadata": {
        "id": "jJ6cfofEvtV-"
      }
    },
    {
      "cell_type": "code",
      "source": [
        "class Person:       # определение класса Person\n",
        "     def say_hello(self):\n",
        "        print(\"Hello\")\n",
        "\n",
        "tom = Person()\n",
        "tom.say_hello()    # Hello"
      ],
      "metadata": {
        "colab": {
          "base_uri": "https://localhost:8080/"
        },
        "id": "KHQys47RvyV2",
        "outputId": "1e251407-5eab-4c61-bfcc-4fa37d254a23"
      },
      "execution_count": 3,
      "outputs": [
        {
          "output_type": "stream",
          "name": "stdout",
          "text": [
            "Hello\n"
          ]
        }
      ]
    },
    {
      "cell_type": "markdown",
      "source": [
        "Если метод должен принимать другие параметры, то они определяются после параметра self, и при вызове подобного метода для них необходимо передать значения:"
      ],
      "metadata": {
        "id": "Ml8DBO8rv4WU"
      }
    },
    {
      "cell_type": "code",
      "source": [
        "class Person:       # определение класса Person\n",
        "    def say(self, message):     # метод\n",
        "        print(message)\n",
        "\n",
        "\n",
        "saphifiya = Person()\n",
        "saphifiya.say(\"Hello Saphiya!\")    # Hello Saphiya"
      ],
      "metadata": {
        "colab": {
          "base_uri": "https://localhost:8080/"
        },
        "id": "9pJSjxoov6hY",
        "outputId": "ea2abc4a-55a6-43e2-bb90-09ff6c376fd9"
      },
      "execution_count": 15,
      "outputs": [
        {
          "output_type": "stream",
          "name": "stdout",
          "text": [
            "Hello Saphiya!\n"
          ]
        }
      ]
    },
    {
      "cell_type": "markdown",
      "source": [
        "## self\n",
        "\n",
        "Через ключевое слово self можно обращаться внутри класса к функциональности текущего объекта:"
      ],
      "metadata": {
        "id": "LYNoOsk6wDNE"
      }
    },
    {
      "cell_type": "markdown",
      "source": [
        "\n",
        "\n",
        "```\n",
        "self.атрибут    # обращение к атрибуту\n",
        "self.метод      # обращение к методу\n",
        "```\n",
        "\n"
      ],
      "metadata": {
        "id": "QE6zkGnGwJhn"
      }
    },
    {
      "cell_type": "markdown",
      "source": [
        "Например, определим два метода в классе Person:"
      ],
      "metadata": {
        "id": "GTls6PtPwLD9"
      }
    },
    {
      "cell_type": "code",
      "source": [
        "class Person:\n",
        "\n",
        "    def say(self, message):\n",
        "        print(message)\n",
        "\n",
        "    def say_hello(self):\n",
        "        self.say(\"Hello work\")  # обращаемся к выше определенному методу say\n",
        "\n",
        "\n",
        "muhammad = Person()\n",
        "muhammad.say_hello()     # Hello work"
      ],
      "metadata": {
        "colab": {
          "base_uri": "https://localhost:8080/"
        },
        "id": "me3UdkLUwNUF",
        "outputId": "509c880d-86aa-4c4a-e55c-cc33d17f3d66"
      },
      "execution_count": 16,
      "outputs": [
        {
          "output_type": "stream",
          "name": "stdout",
          "text": [
            "Hello work\n"
          ]
        }
      ]
    },
    {
      "cell_type": "markdown",
      "source": [
        "Причем при вызове метода объекта нам обязательно необходимо использовать слово self, если мы его не используем:"
      ],
      "metadata": {
        "id": "ASNtUKCnwSUm"
      }
    },
    {
      "cell_type": "code",
      "source": [
        "def say_hello(self):\n",
        "    say(\"Hello work\")  # ! Ошибка"
      ],
      "metadata": {
        "id": "OwTxtoNPwXW5"
      },
      "execution_count": 8,
      "outputs": []
    },
    {
      "cell_type": "markdown",
      "source": [
        "## Конструкторы\n",
        "\n",
        "Для создания объекта класса используется конструктор. Так, выше когда мы создавали объекты класса Person, мы использовали конструктор по умолчанию, который не принимает параметров и который неявно имеют все классы:"
      ],
      "metadata": {
        "id": "ROMgU7WKwiNA"
      }
    },
    {
      "cell_type": "code",
      "source": [
        "alice = Person()"
      ],
      "metadata": {
        "id": "k0BQUiXjwoaD"
      },
      "execution_count": 9,
      "outputs": []
    },
    {
      "cell_type": "markdown",
      "source": [
        "Однако мы можем явным образом определить в классах конструктор с помощью специального метода, который называется __init__() (по два прочерка с каждой стороны). К примеру, изменим класс Person, добавив в него конструктор:"
      ],
      "metadata": {
        "id": "3w8nt-wZwmSW"
      }
    },
    {
      "cell_type": "code",
      "source": [
        "class Person:\n",
        "    # конструктор\n",
        "    def __init__(self):\n",
        "        print(\"Создание объекта Person\")\n",
        "\n",
        "    def say_hello(self):\n",
        "        print(\"Hello\")\n",
        "\n",
        "\n",
        "alice = Person()      # Создание объекта Person\n",
        "alice.say_hello()     # Hello"
      ],
      "metadata": {
        "colab": {
          "base_uri": "https://localhost:8080/"
        },
        "id": "5bbetKMmwrVD",
        "outputId": "68bd74bc-7270-43dc-d36e-645a03152840"
      },
      "execution_count": 17,
      "outputs": [
        {
          "output_type": "stream",
          "name": "stdout",
          "text": [
            "Создание объекта Person\n",
            "Hello\n"
          ]
        }
      ]
    },
    {
      "cell_type": "markdown",
      "source": [
        "## Атрибуты объекта\n",
        "\n",
        "Атрибуты хранят состояние объекта. Для определения и установки атрибутов внутри класса можно применять слово self. Например, определим следующий класс Person:"
      ],
      "metadata": {
        "id": "DC_AJuAfwx15"
      }
    },
    {
      "cell_type": "code",
      "source": [
        "class Person:\n",
        "\n",
        "    def __init__(self, name):\n",
        "        self.name = name    # имя человека\n",
        "        self.age = 1        # возраст человека\n",
        "\n",
        "\n",
        "alice = Person(\"Alice\")\n",
        "\n",
        "# обращение к атрибутам\n",
        "# получение значений\n",
        "print(alice.name)     # Alice\n",
        "print(alice.age)      # 1\n",
        "# изменение значения\n",
        "alice.age = 18\n",
        "print(alice.age)      # 18"
      ],
      "metadata": {
        "colab": {
          "base_uri": "https://localhost:8080/"
        },
        "id": "3lLS-l0lwzYI",
        "outputId": "bea9b9c3-f892-4906-9791-006d3b3c5e5a"
      },
      "execution_count": 19,
      "outputs": [
        {
          "output_type": "stream",
          "name": "stdout",
          "text": [
            "Alice\n",
            "1\n",
            "18\n"
          ]
        }
      ]
    },
    {
      "cell_type": "markdown",
      "source": [
        "Для обращения к атрибутам объекта внутри класса в его методах также применяется слово self:"
      ],
      "metadata": {
        "id": "aD7oDa-8w50c"
      }
    },
    {
      "cell_type": "code",
      "source": [
        "class Person:\n",
        "\n",
        "    def __init__(self, name):\n",
        "        self.name = name    # имя человека\n",
        "        self.age = 1        # возраст человека\n",
        "\n",
        "    def display_info(self):\n",
        "        print(f\"Name: {self.name}  Age: {self.age}\")\n",
        "\n",
        "\n",
        "tomiris = Person(\"Tomiris\")\n",
        "tomiris.display_info()      # Name: Tomiris  Age: 1"
      ],
      "metadata": {
        "colab": {
          "base_uri": "https://localhost:8080/"
        },
        "id": "anz3j6Taw6Yx",
        "outputId": "f8515075-2a62-48a3-90de-f6f3d811e478"
      },
      "execution_count": 20,
      "outputs": [
        {
          "output_type": "stream",
          "name": "stdout",
          "text": [
            "Name: Tomiris  Age: 1\n"
          ]
        }
      ]
    },
    {
      "cell_type": "markdown",
      "source": [
        "## Создание объектов\n",
        "\n",
        "Выше создавался один объект. Но подобным образом можно создавать и другие объекты класса:"
      ],
      "metadata": {
        "id": "bWly8kjww_UF"
      }
    },
    {
      "cell_type": "code",
      "source": [
        "class Person:\n",
        "\n",
        "    def __init__(self, name):\n",
        "        self.name = name    # имя человека\n",
        "        self.age = 1        # возраст человека\n",
        "\n",
        "    def display_info(self):\n",
        "        print(f\"Name: {self.name}  Age: {self.age}\")\n",
        "\n",
        "\n",
        "madina = Person(\"Madina\")\n",
        "madina.age = 17\n",
        "madina.display_info()      # Name: Madina  Age: 17\n",
        "\n",
        "anvar = Person(\"Anvar\")\n",
        "anvar.age = 18\n",
        "anvar.display_info()      # Name: Anvar  Age: 18"
      ],
      "metadata": {
        "colab": {
          "base_uri": "https://localhost:8080/"
        },
        "id": "O67CRVDaxCLQ",
        "outputId": "fc4f2640-c81b-4fae-df91-cbec1538a205"
      },
      "execution_count": 21,
      "outputs": [
        {
          "output_type": "stream",
          "name": "stdout",
          "text": [
            "Name: Madina  Age: 17\n",
            "Name: Anvar  Age: 18\n"
          ]
        }
      ]
    },
    {
      "cell_type": "markdown",
      "source": [
        "# Инкапсуляция, атрибуты и свойства"
      ],
      "metadata": {
        "id": "DtLvYLKAxBZ3"
      }
    },
    {
      "cell_type": "markdown",
      "source": [
        "По умолчанию атрибуты в классах являются общедоступными, а это значит, что из любого места программы мы можем получить атрибут объекта и изменить его. Например:"
      ],
      "metadata": {
        "id": "8k2wVYs-yJUG"
      }
    },
    {
      "cell_type": "code",
      "source": [
        "class Person:\n",
        "    def __init__(self, name):\n",
        "        self.name = name    # устанавливаем имя\n",
        "        self.age = 1        # устанавливаем возраст\n",
        "\n",
        "    def display_info(self):\n",
        "        print(f\"Имя: {self.name}\\tВозраст: {self.age}\")\n",
        "\n",
        "\n",
        "elvira = Person(\"Elvira\")\n",
        "elvira.name = \"Человек-паук\"       # изменяем атрибут name\n",
        "elvira.age = -129                  # изменяем атрибут age\n",
        "elvira.display_info()              # Имя: Человек-паук     Возраст: -129"
      ],
      "metadata": {
        "colab": {
          "base_uri": "https://localhost:8080/"
        },
        "id": "wKjLbkaEyOM9",
        "outputId": "01fad5ed-4a75-4e86-921f-b65b3b8aa1a3"
      },
      "execution_count": 23,
      "outputs": [
        {
          "output_type": "stream",
          "name": "stdout",
          "text": [
            "Имя: Человек-паук\tВозраст: -129\n"
          ]
        }
      ]
    },
    {
      "cell_type": "markdown",
      "source": [
        "С данной проблемой тесно связано понятие инкапсуляции. Инкапсуляция является фундаментальной концепцией объектно-ориентированного программирования. Она предотвращает прямой доступ к атрибутам объект из вызывающего кода.\n",
        "\n",
        "Касательно инкапсуляции непосредственно в языке программирования Python скрыть атрибуты класса можно сделав их приватными или закрытыми и ограничив доступ к ним через специальные методы, которые еще называются свойствами.\n",
        "\n",
        "Изменим выше определенный класс, определив в нем свойства:"
      ],
      "metadata": {
        "id": "pggM7TCzyLdW"
      }
    },
    {
      "cell_type": "code",
      "source": [
        "class Person:\n",
        "    def __init__(self, name):\n",
        "        self.__name = name  # устанавливаем имя\n",
        "        self.__age = 1  # устанавливаем возраст\n",
        "\n",
        "    def set_age(self, age):\n",
        "        if 1 < age < 110:\n",
        "            self.__age = age\n",
        "        else:\n",
        "            print(\"Недопустимый возраст\")\n",
        "\n",
        "    def get_age(self):\n",
        "        return self.__age\n",
        "\n",
        "    def get_name(self):\n",
        "        return self.__name\n",
        "\n",
        "    def display_info(self):\n",
        "        print(f\"Имя: {self.__name}\\tВозраст: {self.__age}\")\n",
        "\n",
        "\n",
        "elvira = Person(\"Elvira\")\n",
        "elvira.display_info()  # Имя: Elvira  Возраст: 1\n",
        "elvira.set_age(-3486)  # Недопустимый возраст\n",
        "elvira.set_age(25)\n",
        "elvira.display_info()  # Имя: Elvira  Возраст: 25"
      ],
      "metadata": {
        "colab": {
          "base_uri": "https://localhost:8080/"
        },
        "id": "XB-NkmLAyeBt",
        "outputId": "61fe3e10-bac3-402f-8a44-11ae4e7dae79"
      },
      "execution_count": 25,
      "outputs": [
        {
          "output_type": "stream",
          "name": "stdout",
          "text": [
            "Имя: Elvira\tВозраст: 1\n",
            "Недопустимый возраст\n",
            "Имя: Elvira\tВозраст: 25\n"
          ]
        }
      ]
    },
    {
      "cell_type": "markdown",
      "source": [
        "## Аннотации свойств\n",
        "\n",
        "Выше мы рассмотрели, как создавать свойства. Но Python имеет также еще один - более элегантный способ определения свойств. Этот способ предполагает использование аннотаций, которые предваряются символом @.\n",
        "\n",
        "Для создания свойства-геттера над свойством ставится аннотация @property.\n",
        "\n",
        "Для создания свойства-сеттера над свойством устанавливается аннотация имя_свойства_геттера.setter.\n",
        "\n",
        "Перепишем класс Person с использованием аннотаций:"
      ],
      "metadata": {
        "id": "ckCPSONSzBc_"
      }
    },
    {
      "cell_type": "code",
      "source": [
        "class Person:\n",
        "    def __init__(self, name):\n",
        "        self.__name = name  # устанавливаем имя\n",
        "        self.__age = 1  # устанавливаем возраст\n",
        "\n",
        "    @property\n",
        "    def age(self):\n",
        "        return self.__age\n",
        "\n",
        "    @age.setter\n",
        "    def age(self, age):\n",
        "        if 1 < age < 110:\n",
        "            self.__age = age\n",
        "        else:\n",
        "            print(\"Недопустимый возраст\")\n",
        "\n",
        "    @property\n",
        "    def name(self):\n",
        "        return self.__name\n",
        "\n",
        "    def display_info(self):\n",
        "        print(f\"Имя: {self.__name}\\tВозраст: {self.__age}\")\n",
        "\n",
        "\n",
        "tom = Person(\"Tom\")\n",
        "\n",
        "tom.display_info()  # Имя: Tom  Возраст: 1\n",
        "tom.age = -3486  # Недопустимый возраст\n",
        "print(tom.age)  # 1\n",
        "tom.age = 36\n",
        "tom.display_info()  # Имя: Tom  Возраст: 36"
      ],
      "metadata": {
        "colab": {
          "base_uri": "https://localhost:8080/"
        },
        "id": "iNNrSfe0zF5a",
        "outputId": "5fe75b11-ec7e-4bd1-d830-ff1bb596fae1"
      },
      "execution_count": 27,
      "outputs": [
        {
          "output_type": "stream",
          "name": "stdout",
          "text": [
            "Имя: Tom\tВозраст: 1\n",
            "Недопустимый возраст\n",
            "1\n",
            "Имя: Tom\tВозраст: 36\n"
          ]
        }
      ]
    },
    {
      "cell_type": "markdown",
      "source": [
        "# Наследование"
      ],
      "metadata": {
        "id": "iZ-WFZwhzV_D"
      }
    },
    {
      "cell_type": "markdown",
      "source": [
        "Наследование позволяет создавать новый класс на основе уже существующего класса. Наряду с инкапсуляцией наследование является одним из краеугольных камней объектно-ориентированного программирования.\n",
        "\n",
        "Ключевыми понятиями наследования являются подкласс и суперкласс. Подкласс наследует от суперкласса все публичные атрибуты и методы. Суперкласс еще называется базовым (base class) или родительским (parent class), а подкласс - производным (derived class) или дочерним (child class).\n",
        "\n",
        "Синтаксис для наследования классов выглядит следующим образом:"
      ],
      "metadata": {
        "id": "6fzjEaNGzbtH"
      }
    },
    {
      "cell_type": "markdown",
      "source": [
        "\n",
        "\n",
        "```\n",
        "class подкласс (суперкласс):\n",
        "    методы_подкласса\n",
        "```\n",
        "\n"
      ],
      "metadata": {
        "id": "6iWi2kxszcoG"
      }
    },
    {
      "cell_type": "markdown",
      "source": [
        "Например, у нас есть класс Person, который представляет человека:"
      ],
      "metadata": {
        "id": "ToCJ2nbOzf5F"
      }
    },
    {
      "cell_type": "code",
      "source": [
        "class Person:\n",
        "\n",
        "    def __init__(self, name):\n",
        "        self.__name = name   # имя человека\n",
        "\n",
        "    @property\n",
        "    def name(self):\n",
        "        return self.__name\n",
        "\n",
        "    def display_info(self):\n",
        "        print(f\"Name: {self.__name} \")"
      ],
      "metadata": {
        "id": "FryrfSUmziy6"
      },
      "execution_count": 28,
      "outputs": []
    },
    {
      "cell_type": "markdown",
      "source": [
        "Предположим, нам необходим класс работника, который работает на некотором предприятии. Мы могли бы создать с нуля новый класс, к примеру, класс Employee:"
      ],
      "metadata": {
        "id": "lmOlWiCE2ivW"
      }
    },
    {
      "cell_type": "code",
      "source": [
        "class Employee:\n",
        "\n",
        "    def __init__(self, name):\n",
        "        self.__name = name  # имя работника\n",
        "\n",
        "    @property\n",
        "    def name(self):\n",
        "        return self.__name\n",
        "\n",
        "    def display_info(self):\n",
        "        print(f\"Name: {self.__name} \")\n",
        "\n",
        "    def work(self):\n",
        "        print(f\"{self.name} works\")"
      ],
      "metadata": {
        "id": "KC5WVL6U2lXf"
      },
      "execution_count": 29,
      "outputs": []
    },
    {
      "cell_type": "markdown",
      "source": [
        "Однако класс Employee может иметь те же атрибуты и методы, что и класс Person, так как работник - это человек. Так, в выше в классе Employee только добавляется метод works, весь остальной код повторяет функционал класса Person. Но чтобы не дублировать функционал одного класса в другом, в данном случае лучше применить наследование.\n",
        "\n",
        "Итак, унаследуем класс Employee от класса Person:"
      ],
      "metadata": {
        "id": "oCz46xk42o6B"
      }
    },
    {
      "cell_type": "code",
      "source": [
        "class Person:\n",
        "\n",
        "    def __init__(self, name):\n",
        "        self.__name = name   # имя человека\n",
        "\n",
        "    @property\n",
        "    def name(self):\n",
        "        return self.__name\n",
        "\n",
        "    def display_info(self):\n",
        "        print(f\"Name: {self.__name} \")\n",
        "\n",
        "\n",
        "class Employee(Person):\n",
        "\n",
        "    def work(self):\n",
        "        print(f\"{self.name} works\")\n",
        "\n",
        "\n",
        "salm = Employee(\"Salm\")\n",
        "print(salm.name)     # Salim\n",
        "salm.display_info()  # Name: Salm\n",
        "salm.work()          # Salm works"
      ],
      "metadata": {
        "colab": {
          "base_uri": "https://localhost:8080/"
        },
        "id": "8bW6VPDf2r2U",
        "outputId": "d9c60cd2-1944-43fe-9ba3-ebc8736df6c1"
      },
      "execution_count": 30,
      "outputs": [
        {
          "output_type": "stream",
          "name": "stdout",
          "text": [
            "Salm\n",
            "Name: Salm \n",
            "Salm works\n"
          ]
        }
      ]
    },
    {
      "cell_type": "markdown",
      "source": [
        "Однако, стоит обратить внимание, что для Employee НЕ доступны закрытые атрибуты типа __name. Например, мы НЕ можем в методе work обратиться к приватному атрибуту self.__name:"
      ],
      "metadata": {
        "id": "_LPRzoI-2-Qe"
      }
    },
    {
      "cell_type": "code",
      "source": [
        "def work(self):\n",
        "    print(f\"{self.__name} works\")   # ! Ошибка"
      ],
      "metadata": {
        "id": "qmzu2eHX3Q6k"
      },
      "execution_count": 31,
      "outputs": []
    },
    {
      "cell_type": "markdown",
      "source": [
        "## Множественное наследование\n",
        "\n",
        "Одной из отличительных особенностей языка Python является поддержка множественного наследования, то есть один класс можно унаследовать от нескольких классов:"
      ],
      "metadata": {
        "id": "sukWFywo3giY"
      }
    },
    {
      "cell_type": "code",
      "source": [
        "#  класс работника\n",
        "class Employee:\n",
        "    def work(self):\n",
        "        print(\"Employee works\")\n",
        "\n",
        "\n",
        "#  класс студента\n",
        "class Student:\n",
        "    def study(self):\n",
        "        print(\"Student studies\")\n",
        "\n",
        "\n",
        "class WorkingStudent(Employee, Student):        # Наследование от классов Employee и Student\n",
        "    pass\n",
        "\n",
        "\n",
        "# класс работающего студента\n",
        "tom = WorkingStudent()\n",
        "tom.work()      # Employee works\n",
        "tom.study()     # Student studies"
      ],
      "metadata": {
        "colab": {
          "base_uri": "https://localhost:8080/"
        },
        "id": "uy20rnkW3knz",
        "outputId": "a7d95ecb-2003-4677-c775-2de9899e690b"
      },
      "execution_count": 33,
      "outputs": [
        {
          "output_type": "stream",
          "name": "stdout",
          "text": [
            "Employee works\n",
            "Student studies\n"
          ]
        }
      ]
    },
    {
      "cell_type": "markdown",
      "source": [
        "При этом наследуемые классы могут более сложными по функциональности, например:"
      ],
      "metadata": {
        "id": "4pjBm6Fh3tUw"
      }
    },
    {
      "cell_type": "code",
      "source": [
        "class Employee:\n",
        "\n",
        "    def __init__(self, name):\n",
        "        self.__name = name\n",
        "\n",
        "    @property\n",
        "    def name(self):\n",
        "        return self.__name\n",
        "\n",
        "    def work(self):\n",
        "        print(f\"{self.name} works\")\n",
        "\n",
        "\n",
        "class Student:\n",
        "\n",
        "    def __init__(self, name):\n",
        "        self.__name = name\n",
        "\n",
        "    @property\n",
        "    def name(self):\n",
        "        return self.__name\n",
        "\n",
        "    def study(self):\n",
        "        print(f\"{self.name} studies\")\n",
        "\n",
        "\n",
        "class WorkingStudent(Employee, Student):\n",
        "    pass\n",
        "\n",
        "\n",
        "tom = WorkingStudent(\"Tom\")\n",
        "tom.work()      # Tom works\n",
        "tom.study()     # Tom studies"
      ],
      "metadata": {
        "colab": {
          "base_uri": "https://localhost:8080/"
        },
        "id": "pyzdIA2F3wse",
        "outputId": "d92eaa09-cdb3-44fb-c699-641e3298ea20"
      },
      "execution_count": 34,
      "outputs": [
        {
          "output_type": "stream",
          "name": "stdout",
          "text": [
            "Tom works\n",
            "Tom studies\n"
          ]
        }
      ]
    },
    {
      "cell_type": "markdown",
      "source": [
        "## Переопределение функционала базового класса"
      ],
      "metadata": {
        "id": "4jRkoRuF30eV"
      }
    },
    {
      "cell_type": "markdown",
      "source": [
        "В прошлом уроке класс Employee полностью перенимал функционал класса Person:"
      ],
      "metadata": {
        "id": "GXjiGTEz35RU"
      }
    },
    {
      "cell_type": "code",
      "source": [
        "class Person:\n",
        "\n",
        "    def __init__(self, name):\n",
        "        self.__name = name   # имя человека\n",
        "\n",
        "    @property\n",
        "    def name(self):\n",
        "        return self.__name\n",
        "\n",
        "    def display_info(self):\n",
        "        print(f\"Name: {self.__name} \")\n",
        "\n",
        "\n",
        "class Employee(Person):\n",
        "\n",
        "    def work(self):\n",
        "        print(f\"{self.name} works\")"
      ],
      "metadata": {
        "id": "q4oToIfY4A2H"
      },
      "execution_count": 35,
      "outputs": []
    },
    {
      "cell_type": "markdown",
      "source": [
        "Но что, если мы хотим что-то изменить из этого функционала? Например, добавить работнику через конструктор, новый атрибут, который будет хранить компанию, где он работает или изменить реализацию метода display_info. Python позволяет переопределить функционал базового класса.\n",
        "\n",
        "Например, изменим классы следующим образом:"
      ],
      "metadata": {
        "id": "AMAuBkj84ENY"
      }
    },
    {
      "cell_type": "code",
      "source": [
        "class Person:\n",
        "\n",
        "    def __init__(self, name):\n",
        "        self.__name = name   # имя человека\n",
        "\n",
        "    @property\n",
        "    def name(self):\n",
        "        return self.__name\n",
        "\n",
        "    def display_info(self):\n",
        "        print(f\"Name: {self.__name}\")\n",
        "\n",
        "\n",
        "class Employee(Person):\n",
        "\n",
        "    def __init__(self, name, company):\n",
        "        super().__init__(name)\n",
        "        self.company = company\n",
        "\n",
        "    def display_info(self):\n",
        "        super().display_info()\n",
        "        print(f\"Company: {self.company}\")\n",
        "\n",
        "    def work(self):\n",
        "        print(f\"{self.name} works\")\n",
        "\n",
        "\n",
        "tom = Employee(\"Tom\", \"Microsoft\")\n",
        "tom.display_info()  # Name: Tom\n",
        "                    # Company: Microsoft"
      ],
      "metadata": {
        "colab": {
          "base_uri": "https://localhost:8080/"
        },
        "id": "uf4RfSzJ4FBu",
        "outputId": "ff2a4bcd-8d0f-45c5-afa5-b6e8c9866844"
      },
      "execution_count": 36,
      "outputs": [
        {
          "output_type": "stream",
          "name": "stdout",
          "text": [
            "Name: Tom\n",
            "Company: Microsoft\n"
          ]
        }
      ]
    },
    {
      "cell_type": "markdown",
      "source": [
        "## Проверка типа объекта\n",
        "\n",
        "При работе с объектами бывает необходимо в зависимости от их типа выполнить те или иные операции. И с помощью встроенной функции isinstance() мы можем проверить тип объекта. Эта функция принимает два параметра:"
      ],
      "metadata": {
        "id": "d2jWVCtI4ICe"
      }
    },
    {
      "cell_type": "markdown",
      "source": [
        "\n",
        "\n",
        "```\n",
        "isinstance(object, type)\n",
        "```\n",
        "\n"
      ],
      "metadata": {
        "id": "84JXPGEc4PXH"
      }
    },
    {
      "cell_type": "markdown",
      "source": [
        "Первый параметр представляет объект, а второй - тип, на принадлежность к которому выполняется проверка. Если объект представляет указанный тип, то функция возвращает True. Например, возьмем следующую иерархию классов Person-Employee/Student:"
      ],
      "metadata": {
        "id": "PPEJa_v74TSs"
      }
    },
    {
      "cell_type": "code",
      "source": [
        "class Person:\n",
        "\n",
        "    def __init__(self, name):\n",
        "        self.__name = name   # имя человека\n",
        "\n",
        "    @property\n",
        "    def name(self):\n",
        "        return self.__name\n",
        "\n",
        "    def do_nothing(self):\n",
        "        print(f\"{self.name} does nothing\")\n",
        "\n",
        "\n",
        "#  класс работника\n",
        "class Employee(Person):\n",
        "\n",
        "    def work(self):\n",
        "        print(f\"{self.name} works\")\n",
        "\n",
        "\n",
        "#  класс студента\n",
        "class Student(Person):\n",
        "\n",
        "    def study(self):\n",
        "        print(f\"{self.name} studies\")\n",
        "\n",
        "\n",
        "def act(person):\n",
        "    if isinstance(person, Student):\n",
        "        person.study()\n",
        "    elif isinstance(person, Employee):\n",
        "        person.work()\n",
        "    elif isinstance(person, Person):\n",
        "        person.do_nothing()\n",
        "\n",
        "\n",
        "tom = Employee(\"Tom\")\n",
        "bob = Student(\"Bob\")\n",
        "sam = Person(\"Sam\")\n",
        "\n",
        "act(tom)    # Tom works\n",
        "act(bob)    # Bob studies\n",
        "act(sam)    # Sam does nothing"
      ],
      "metadata": {
        "colab": {
          "base_uri": "https://localhost:8080/"
        },
        "id": "EYJ_ghy64xRu",
        "outputId": "0b7120bc-8807-484a-9006-f70217e043ec"
      },
      "execution_count": 37,
      "outputs": [
        {
          "output_type": "stream",
          "name": "stdout",
          "text": [
            "Tom works\n",
            "Bob studies\n",
            "Sam does nothing\n"
          ]
        }
      ]
    },
    {
      "cell_type": "markdown",
      "source": [
        "# Атрибуты классов и статические методы\n"
      ],
      "metadata": {
        "id": "v1duKA9B44ds"
      }
    },
    {
      "cell_type": "markdown",
      "source": [
        "## Атрибуты класса\n",
        "\n",
        "Кроме атрибутов объектов в классе можно определять атрибуты классов. Подобные атрибуты определяются в виде переменных уровня класса. Например:"
      ],
      "metadata": {
        "id": "lbHuhIuc4513"
      }
    },
    {
      "cell_type": "code",
      "source": [
        "class Person:\n",
        "     type = \"Person\"\n",
        "     description = \"Describes a person\"\n",
        "\n",
        "\n",
        "print(Person.type)          # Person\n",
        "print(Person.description)   # Describes a person\n",
        "\n",
        "Person.type = \"Class Person\"\n",
        "print(Person.type)          # Class Person"
      ],
      "metadata": {
        "colab": {
          "base_uri": "https://localhost:8080/"
        },
        "id": "o5tSDtDa49Dv",
        "outputId": "30dc7082-f191-4446-ccda-9079ade8997e"
      },
      "execution_count": 38,
      "outputs": [
        {
          "output_type": "stream",
          "name": "stdout",
          "text": [
            "Person\n",
            "Describes a person\n",
            "Class Person\n"
          ]
        }
      ]
    },
    {
      "cell_type": "markdown",
      "source": [
        "Для обращения к атрибутам класса мы можем использовать имя класса, например: Person.type, и, как и атрибуты объекта, мы можем получать и изменять их значения.\n",
        "\n",
        "Подобные атрибуты являются общими для всех объектов класса:"
      ],
      "metadata": {
        "id": "sqtFcRRu5Aaz"
      }
    },
    {
      "cell_type": "code",
      "source": [
        "class Person:\n",
        "     type = \"Person\"\n",
        "     def __init__(self, name):\n",
        "         self.name = name\n",
        "\n",
        "\n",
        "tom = Person(\"Tom\")\n",
        "bob = Person(\"Bob\")\n",
        "print(tom.type)     # Person\n",
        "print(bob.type)     # Person\n",
        "\n",
        "# изменим атрибут класса\n",
        "Person.type = \"Class Person\"\n",
        "print(tom.type)     # Class Person\n",
        "print(bob.type)     # Class Person"
      ],
      "metadata": {
        "colab": {
          "base_uri": "https://localhost:8080/"
        },
        "id": "7ainnuGk5Dtb",
        "outputId": "cd44d937-0dda-42ca-ac9a-0cbb8d04d595"
      },
      "execution_count": 39,
      "outputs": [
        {
          "output_type": "stream",
          "name": "stdout",
          "text": [
            "Person\n",
            "Person\n",
            "Class Person\n",
            "Class Person\n"
          ]
        }
      ]
    },
    {
      "cell_type": "markdown",
      "source": [
        "Атрибуты класса могут применяться для таких ситуаций, когда нам надо определить некоторые общие данные для всех объектов. Например:"
      ],
      "metadata": {
        "id": "xqohlEvl5GTR"
      }
    },
    {
      "cell_type": "code",
      "source": [
        "class Person:\n",
        "    default_name = \"Undefined\"\n",
        "\n",
        "    def __init__(self, name):\n",
        "        if name:\n",
        "            self.name = name\n",
        "        else:\n",
        "            self.name = Person.default_name\n",
        "\n",
        "\n",
        "tom = Person(\"Tom\")\n",
        "bob = Person(\"\")\n",
        "print(tom.name)  # Tom\n",
        "print(bob.name)  # Undefined"
      ],
      "metadata": {
        "colab": {
          "base_uri": "https://localhost:8080/"
        },
        "id": "Inslzn195ItR",
        "outputId": "42edf84f-f405-4681-ee34-de1a2e1289ea"
      },
      "execution_count": 40,
      "outputs": [
        {
          "output_type": "stream",
          "name": "stdout",
          "text": [
            "Tom\n",
            "Undefined\n"
          ]
        }
      ]
    },
    {
      "cell_type": "markdown",
      "source": [
        "## Атрибут класса\n",
        "\n",
        "Возможна ситуация, когда атрибут класса и атрибут объекта совпадает по имени. Если в коде для атрибута объекта не задано значение, то для него может применяться значение атрибута класса:"
      ],
      "metadata": {
        "id": "yDB8egqS5LNF"
      }
    },
    {
      "cell_type": "code",
      "source": [
        "class Person:\n",
        "    name = \"Undefined\"\n",
        "\n",
        "    def print_name(self):\n",
        "        print(self.name)\n",
        "\n",
        "\n",
        "tom = Person()\n",
        "bob = Person()\n",
        "tom.print_name()    # Undefined\n",
        "bob.print_name()    # Undefined\n",
        "\n",
        "bob.name = \"Bob\"\n",
        "bob.print_name()    # Bob\n",
        "tom.print_name()    # Undefined"
      ],
      "metadata": {
        "colab": {
          "base_uri": "https://localhost:8080/"
        },
        "id": "N6wTxt0c5PI1",
        "outputId": "849aa174-e4cb-495a-c172-112ef9dfbf63"
      },
      "execution_count": 41,
      "outputs": [
        {
          "output_type": "stream",
          "name": "stdout",
          "text": [
            "Undefined\n",
            "Undefined\n",
            "Bob\n",
            "Undefined\n"
          ]
        }
      ]
    },
    {
      "cell_type": "markdown",
      "source": [
        "## Статические методы\n",
        "\n",
        "Кроме обычных методов класс может определять статические методы. Такие методы предваряются аннотацией @staticmethod и относятся в целом к классу. Статические методы обычно определяют поведение, которое не зависит от конкретного объекта:"
      ],
      "metadata": {
        "id": "j7w08HmE5WdZ"
      }
    },
    {
      "cell_type": "code",
      "source": [
        "class Person:\n",
        "    __type = \"Person\"\n",
        "\n",
        "    @staticmethod\n",
        "    def print_type():\n",
        "        print(Person.__type)\n",
        "\n",
        "\n",
        "Person.print_type()     # Person - обращение к статическому методу через имя класса\n",
        "\n",
        "tom = Person()\n",
        "tom.print_type()     # Person - обращение к статическому методу через имя объекта"
      ],
      "metadata": {
        "colab": {
          "base_uri": "https://localhost:8080/"
        },
        "id": "bKy0AY_u5X_8",
        "outputId": "54706aec-81a5-4e92-cbb8-6d3e07d70779"
      },
      "execution_count": 42,
      "outputs": [
        {
          "output_type": "stream",
          "name": "stdout",
          "text": [
            "Person\n",
            "Person\n"
          ]
        }
      ]
    },
    {
      "cell_type": "markdown",
      "source": [
        "## Класс object. Строковое представление объекта"
      ],
      "metadata": {
        "id": "5OOBpw6d5bBq"
      }
    },
    {
      "cell_type": "markdown",
      "source": [
        "Начиная с 3-й версии в языке программирования Python все классы неявно имеют один общий суперкласс - object и все классы по умолчанию наследуют его методы.\n",
        "\n",
        "Одним из наиболее используемых методов класса object является метод __str__(). Когда необходимо получить строковое представление объекта или вывести объект в виде строки, то Python как раз вызывает этот метод. И при определении класса хорошей практикой считается переопределение этого метода.\n",
        "\n",
        "К примеру, возьмем класс Person и выведем его строковое представление:"
      ],
      "metadata": {
        "id": "j447dcNR5kFY"
      }
    },
    {
      "cell_type": "code",
      "source": [
        "class Person:\n",
        "    def __init__(self, name, age):\n",
        "        self.name = name  # устанавливаем имя\n",
        "        self.age = age  # устанавливаем возраст\n",
        "\n",
        "    def display_info(self):\n",
        "        print(f\"Name: {self.name}  Age: {self.age}\")\n",
        "\n",
        "\n",
        "tom = Person(\"Tom\", 23)\n",
        "print(tom)"
      ],
      "metadata": {
        "colab": {
          "base_uri": "https://localhost:8080/"
        },
        "id": "5viZVe7I5k1C",
        "outputId": "0ca906dd-6b15-41a2-eabc-6ea4b6b6ce15"
      },
      "execution_count": 43,
      "outputs": [
        {
          "output_type": "stream",
          "name": "stdout",
          "text": [
            "<__main__.Person object at 0x792c22db5240>\n"
          ]
        }
      ]
    },
    {
      "cell_type": "markdown",
      "source": [
        "Это не очень информативная информация об объекте. Мы, конечно, можем выйти из положения, определив в классе Person дополнительный метод, который выводит данные объекта - в примере выше это метод display_info.\n",
        "\n",
        "Но есть и другой выход - определим в классе Person метод __str__() (по два подчеркивания с каждой стороны):"
      ],
      "metadata": {
        "id": "LHU1SDdk5uNH"
      }
    },
    {
      "cell_type": "code",
      "source": [
        "class Person:\n",
        "    def __init__(self, name, age):\n",
        "        self.name = name  # устанавливаем имя\n",
        "        self.age = age  # устанавливаем возраст\n",
        "\n",
        "    def display_info(self):\n",
        "        print(self)\n",
        "        # print(self.__str__())     # или так\n",
        "\n",
        "    def __str__(self):\n",
        "        return f\"Name: {self.name}  Age: {self.age}\"\n",
        "\n",
        "\n",
        "tom = Person(\"Tom\", 23)\n",
        "print(tom)      # Name: Tom  Age: 23\n",
        "tom.display_info()  # Name: Tom  Age: 23"
      ],
      "metadata": {
        "colab": {
          "base_uri": "https://localhost:8080/"
        },
        "id": "mMNFplX85uuP",
        "outputId": "28a9a251-a411-46c9-e3e7-51bcf8d05f85"
      },
      "execution_count": 44,
      "outputs": [
        {
          "output_type": "stream",
          "name": "stdout",
          "text": [
            "Name: Tom  Age: 23\n",
            "Name: Tom  Age: 23\n"
          ]
        }
      ]
    },
    {
      "cell_type": "markdown",
      "source": [
        "# Примеры"
      ],
      "metadata": {
        "id": "1kipUUcf5xH-"
      }
    },
    {
      "cell_type": "markdown",
      "source": [
        "## Наследование:"
      ],
      "metadata": {
        "id": "ndNaUJTx6Fnw"
      }
    },
    {
      "cell_type": "code",
      "source": [
        "class Animal:\n",
        "    def __init__(self, name):\n",
        "        self.name = name\n",
        "\n",
        "    def speak(self):\n",
        "        raise NotImplementedError(\"Subclass must implement this method\")\n",
        "\n",
        "\n",
        "class Dog(Animal):  # Наследование от класса Animal\n",
        "    def speak(self):\n",
        "        return f\"{self.name} says Woof!\"\n",
        "\n",
        "class Cat(Animal):  # Наследование от класса Animal\n",
        "    def speak(self):\n",
        "        return f\"{self.name} says Meow!\"\n",
        "\n",
        "dog = Dog(\"Buddy\")\n",
        "cat = Cat(\"Whiskers\")\n",
        "\n",
        "print(dog.speak())  # Выведет: Buddy says Woof!\n",
        "print(cat.speak())  # Выведет: Whiskers says Meow!\n"
      ],
      "metadata": {
        "colab": {
          "base_uri": "https://localhost:8080/"
        },
        "id": "ZvBRn7D-6GyF",
        "outputId": "e8ceaf0a-d122-48d7-9556-90bbe900d09d"
      },
      "execution_count": 45,
      "outputs": [
        {
          "output_type": "stream",
          "name": "stdout",
          "text": [
            "Buddy says Woof!\n",
            "Whiskers says Meow!\n"
          ]
        }
      ]
    },
    {
      "cell_type": "markdown",
      "source": [
        "## Инкапсуляция:"
      ],
      "metadata": {
        "id": "6tKyEPKf6KgH"
      }
    },
    {
      "cell_type": "code",
      "source": [
        "class Car:\n",
        "    def __init__(self):\n",
        "        self.__max_speed = 200  # Приватное свойство\n",
        "\n",
        "    def drive(self):\n",
        "        print(f\"Driving at {self.__max_speed} km/h\")\n",
        "\n",
        "    def set_max_speed(self, speed):\n",
        "        if speed > 300:\n",
        "            print(\"Max speed cannot exceed 300 km/h\")\n",
        "        else:\n",
        "            self.__max_speed = speed\n",
        "\n",
        "car = Car()\n",
        "car.drive()  # Выведет: Driving at 200 km/h\n",
        "car.set_max_speed(250)\n",
        "car.drive()  # Выведет: Driving at 250 km/h\n"
      ],
      "metadata": {
        "colab": {
          "base_uri": "https://localhost:8080/"
        },
        "id": "WdDI_ayc6OVs",
        "outputId": "401b1d3d-c1f6-40b8-8b02-31ce7f4af698"
      },
      "execution_count": 46,
      "outputs": [
        {
          "output_type": "stream",
          "name": "stdout",
          "text": [
            "Driving at 200 km/h\n",
            "Driving at 250 km/h\n"
          ]
        }
      ]
    },
    {
      "cell_type": "markdown",
      "source": [
        "## Полиморфизм:"
      ],
      "metadata": {
        "id": "5BUSN2nm6RXG"
      }
    },
    {
      "cell_type": "code",
      "source": [
        "class Shape:\n",
        "    def area(self):\n",
        "        raise NotImplementedError(\"Subclass must implement this method\")\n",
        "\n",
        "class Rectangle(Shape):\n",
        "    def __init__(self, width, height):\n",
        "        self.width = width\n",
        "        self.height = height\n",
        "\n",
        "    def area(self):\n",
        "        return self.width * self.height\n",
        "\n",
        "class Circle(Shape):\n",
        "    def __init__(self, radius):\n",
        "        self.radius = radius\n",
        "\n",
        "    def area(self):\n",
        "        return 3.14 * self.radius ** 2\n",
        "\n",
        "shapes = [Rectangle(4, 5), Circle(3)]\n",
        "for shape in shapes:\n",
        "    print(shape.area())\n"
      ],
      "metadata": {
        "colab": {
          "base_uri": "https://localhost:8080/"
        },
        "id": "39McH6Vx6Yxs",
        "outputId": "2aa3a64e-840e-4de8-fc30-293728d6471c"
      },
      "execution_count": 47,
      "outputs": [
        {
          "output_type": "stream",
          "name": "stdout",
          "text": [
            "20\n",
            "28.26\n"
          ]
        }
      ]
    },
    {
      "cell_type": "markdown",
      "source": [
        "## Линейные, квадратные, кубические уравнения"
      ],
      "metadata": {
        "id": "xtA6zZ-w7ZRe"
      }
    },
    {
      "cell_type": "code",
      "source": [
        "import math\n",
        "\n",
        "class Equation:\n",
        "    def solve(self):\n",
        "        raise NotImplementedError(\"Subclass must implement this method\")\n",
        "\n",
        "class LinearEquation(Equation):\n",
        "    def __init__(self, a, b):\n",
        "        self.a = a\n",
        "        self.b = b\n",
        "\n",
        "    def solve(self):\n",
        "        if self.a == 0:\n",
        "            if self.b == 0:\n",
        "                return \"Уравнение имеет бесконечное множество решений\"\n",
        "            else:\n",
        "                return \"Уравнение не имеет решений\"\n",
        "        else:\n",
        "            return f\"Решение уравнения: x = {-self.b/self.a}\"\n",
        "\n",
        "class QuadraticEquation(Equation):\n",
        "    def __init__(self, a, b, c):\n",
        "        self.a = a\n",
        "        self.b = b\n",
        "        self.c = c\n",
        "\n",
        "    def solve(self):\n",
        "        discriminant = self.b**2 - 4*self.a*self.c\n",
        "        if discriminant > 0:\n",
        "            x1 = (-self.b + math.sqrt(discriminant)) / (2*self.a)\n",
        "            x2 = (-self.b - math.sqrt(discriminant)) / (2*self.a)\n",
        "            return f\"Решения уравнения: x1 = {x1}, x2 = {x2}\"\n",
        "        elif discriminant == 0:\n",
        "            x = -self.b / (2*self.a)\n",
        "            return f\"Уравнение имеет одно решение: x = {x}\"\n",
        "        else:\n",
        "            return \"Уравнение не имеет действительных решений\"\n",
        "\n",
        "class CubicEquation(Equation):\n",
        "    def __init__(self, a, b, c, d):\n",
        "        self.a = a\n",
        "        self.b = b\n",
        "        self.c = c\n",
        "        self.d = d\n",
        "\n",
        "    def solve(self):\n",
        "        # Решение кубического уравнения\n",
        "        p = (3*self.a*self.c - self.b**2) / (3*self.a**2)\n",
        "        q = (2*self.b**3 - 9*self.a*self.b*self.c + 27*self.a**2*self.d) / (27*self.a**3)\n",
        "\n",
        "        discriminant = (q/2)**2 + (p/3)**3\n",
        "\n",
        "        if discriminant < 0:\n",
        "            r = math.sqrt((q/2)**2 + abs((p/3)**3))\n",
        "            t = -math.pow(r, 1/3)\n",
        "\n",
        "            if q < 0:\n",
        "                t = -t\n",
        "\n",
        "            s = (t + (q/(2*t))) - (self.b/(3*self.a))\n",
        "            return f\"Уравнение имеет одно действительное решение: x = {s}\"\n",
        "\n",
        "        elif discriminant == 0:\n",
        "            if q >= 0:\n",
        "                s = -2 * math.pow(q/2, 1/3) - (self.b/(3*self.a))\n",
        "                return f\"Уравнение имеет одно действительное решение: x = {s}\"\n",
        "            else:\n",
        "                s1 = math.pow(-q/2, 1/3) - (self.b/(3*self.a))\n",
        "                s2 = -math.pow(-q/2, 1/3) - (self.b/(3*self.a))\n",
        "                return f\"Уравнение имеет два действительных решения: x1 = {s1}, x2 = {s2}\"\n",
        "\n",
        "        else:\n",
        "            u = math.pow(-(q/2 + math.sqrt(discriminant)), 1/3)\n",
        "            v = math.pow(-(q/2 - math.sqrt(discriminant)), 1/3)\n",
        "            s1 = u + v - (self.b/(3*self.a))\n",
        "            return f\"Уравнение имеет одно действительное решение: x = {s1}\"\n",
        "\n",
        "# Пример использования классов для решения уравнений\n",
        "linear_eq = LinearEquation(2, 4)\n",
        "quadratic_eq = QuadraticEquation(1, -3, -4)\n",
        "cubic_eq = CubicEquation(1, -6, 11, -6)\n",
        "\n",
        "print(linear_eq.solve())\n",
        "print(quadratic_eq.solve())\n",
        "print(cubic_eq.solve())\n"
      ],
      "metadata": {
        "colab": {
          "base_uri": "https://localhost:8080/"
        },
        "id": "Er4VBnDV7aeL",
        "outputId": "9c5bd646-e84c-47d8-e37d-be455bf335b7"
      },
      "execution_count": 48,
      "outputs": [
        {
          "output_type": "stream",
          "name": "stdout",
          "text": [
            "Решение уравнения: x = -2.0\n",
            "Решения уравнения: x1 = 4.0, x2 = -1.0\n",
            "Уравнение имеет одно действительное решение: x = 1.4226497308103743\n"
          ]
        }
      ]
    },
    {
      "cell_type": "markdown",
      "source": [
        "# Обработка ошибок и исключений\n",
        "\n",
        "## Конструкция try...except...finally"
      ],
      "metadata": {
        "id": "RkGvb0Wz78e8"
      }
    },
    {
      "cell_type": "markdown",
      "source": [
        "При программировании на Python мы можем столкнуться с двумя типами ошибок. Первый тип представляют синтаксические ошибки (syntax error). Они появляются в результате нарушения синтаксиса языка программирования при написании исходного кода. При наличии таких ошибок программа не может быть скомпилирована. При работе в какой-либо среде разработки, например, в PyCharm, IDE сама может отслеживать синтаксические ошибки и каким-либо образом их выделять.\n",
        "\n",
        "Второй тип ошибок представляют ошибки выполнения (runtime error). Они появляются в уже скомпилированной программе в процессе ее выполнения. Подобные ошибки еще называются исключениями. Например, в прошлых темах мы рассматривали преобразование строки в число:"
      ],
      "metadata": {
        "id": "GUkx4PZ67-yR"
      }
    },
    {
      "cell_type": "code",
      "source": [
        "string = \"5\"\n",
        "number = int(string)\n",
        "print(number)"
      ],
      "metadata": {
        "colab": {
          "base_uri": "https://localhost:8080/"
        },
        "id": "p9Uz6w6H8HHH",
        "outputId": "b1da1466-b424-4a98-aceb-7822b0f83c61"
      },
      "execution_count": 49,
      "outputs": [
        {
          "output_type": "stream",
          "name": "stdout",
          "text": [
            "5\n"
          ]
        }
      ]
    },
    {
      "cell_type": "markdown",
      "source": [
        "Данный скрипт успешно скомпилируется и выполнится, так как строка \"5\" вполне может быть конвертирована в число. Однако возьмем другой пример:"
      ],
      "metadata": {
        "id": "vEpbj3t78JIp"
      }
    },
    {
      "cell_type": "code",
      "source": [
        "string = \"hello\"\n",
        "number = int(string)\n",
        "print(number)"
      ],
      "metadata": {
        "colab": {
          "base_uri": "https://localhost:8080/",
          "height": 210
        },
        "id": "WuEdTUHO8LIm",
        "outputId": "84bb348e-e5a0-42ab-898a-41bc92b44c6d"
      },
      "execution_count": 50,
      "outputs": [
        {
          "output_type": "error",
          "ename": "ValueError",
          "evalue": "ignored",
          "traceback": [
            "\u001b[0;31m---------------------------------------------------------------------------\u001b[0m",
            "\u001b[0;31mValueError\u001b[0m                                Traceback (most recent call last)",
            "\u001b[0;32m<ipython-input-50-b2431cf11922>\u001b[0m in \u001b[0;36m<cell line: 2>\u001b[0;34m()\u001b[0m\n\u001b[1;32m      1\u001b[0m \u001b[0mstring\u001b[0m \u001b[0;34m=\u001b[0m \u001b[0;34m\"hello\"\u001b[0m\u001b[0;34m\u001b[0m\u001b[0;34m\u001b[0m\u001b[0m\n\u001b[0;32m----> 2\u001b[0;31m \u001b[0mnumber\u001b[0m \u001b[0;34m=\u001b[0m \u001b[0mint\u001b[0m\u001b[0;34m(\u001b[0m\u001b[0mstring\u001b[0m\u001b[0;34m)\u001b[0m\u001b[0;34m\u001b[0m\u001b[0;34m\u001b[0m\u001b[0m\n\u001b[0m\u001b[1;32m      3\u001b[0m \u001b[0mprint\u001b[0m\u001b[0;34m(\u001b[0m\u001b[0mnumber\u001b[0m\u001b[0;34m)\u001b[0m\u001b[0;34m\u001b[0m\u001b[0;34m\u001b[0m\u001b[0m\n",
            "\u001b[0;31mValueError\u001b[0m: invalid literal for int() with base 10: 'hello'"
          ]
        }
      ]
    },
    {
      "cell_type": "markdown",
      "source": [
        "С одной стороны, здесь очевидно, что строка не представляет число, но мы можем иметь дело с вводом пользователя, который также может ввести не совсем то, что мы ожидаем:"
      ],
      "metadata": {
        "id": "M62SCcv28NZY"
      }
    },
    {
      "cell_type": "markdown",
      "source": [
        "При возникновении исключения работа программы прерывается, и чтобы избежать подобного поведения и обрабатывать исключения в Python есть конструкция try..except.\n",
        "\n"
      ],
      "metadata": {
        "id": "PT_Tyi-58QXg"
      }
    },
    {
      "cell_type": "markdown",
      "source": [
        "## try..except\n",
        "\n",
        "Конструкция try..except имеет следующее формальное определение:"
      ],
      "metadata": {
        "id": "tUEyw2_M8THX"
      }
    },
    {
      "cell_type": "markdown",
      "source": [
        "\n",
        "\n",
        "```\n",
        "try:\n",
        "    инструкции\n",
        "except [Тип_исключения]:\n",
        "    инструкции\n",
        "```\n",
        "\n"
      ],
      "metadata": {
        "id": "woOYf6hU8WpR"
      }
    },
    {
      "cell_type": "markdown",
      "source": [
        "Рассмотрим обработку исключения на примере преобразовании строки в число:"
      ],
      "metadata": {
        "id": "a5REmrlI8asq"
      }
    },
    {
      "cell_type": "code",
      "source": [
        "try:\n",
        "    number = int(input(\"Введите число: \"))\n",
        "    print(\"Введенное число:\", number)\n",
        "except:\n",
        "    print(\"Преобразование прошло неудачно\")\n",
        "print(\"Завершение программы\")"
      ],
      "metadata": {
        "colab": {
          "base_uri": "https://localhost:8080/"
        },
        "id": "LQqUAu658f4B",
        "outputId": "02a76edf-cd9d-4254-f095-c5a6eeff629f"
      },
      "execution_count": 51,
      "outputs": [
        {
          "output_type": "stream",
          "name": "stdout",
          "text": [
            "Введите число: 25\n",
            "Введенное число: 25\n",
            "Завершение программы\n"
          ]
        }
      ]
    },
    {
      "cell_type": "markdown",
      "source": [
        "## Блок finally\n",
        "\n",
        "При обработке исключений также можно использовать необязательный блок finally. Отличительной особенностью этого блока является то, что он выполняется вне зависимости, было ли сгенерировано исключение:"
      ],
      "metadata": {
        "id": "ugDBO3-q8fHm"
      }
    },
    {
      "cell_type": "code",
      "source": [
        "try:\n",
        "    number = int(input(\"Введите число: \"))\n",
        "    print(\"Введенное число:\", number)\n",
        "except:\n",
        "    print(\"Преобразование прошло неудачно\")\n",
        "finally:\n",
        "    print(\"Блок try завершил выполнение\")\n",
        "print(\"Завершение программы\")"
      ],
      "metadata": {
        "colab": {
          "base_uri": "https://localhost:8080/"
        },
        "id": "I15lBGGV8oDq",
        "outputId": "e849c104-8b43-4883-9c6e-de2f8d4b7812"
      },
      "execution_count": 53,
      "outputs": [
        {
          "output_type": "stream",
          "name": "stdout",
          "text": [
            "Введите число: 45ьд\n",
            "Преобразование прошло неудачно\n",
            "Блок try завершил выполнение\n",
            "Завершение программы\n"
          ]
        }
      ]
    },
    {
      "cell_type": "markdown",
      "source": [
        "Как правило, блок finally применяется для освобождения используемых ресурсов, например, для закрытия файлов."
      ],
      "metadata": {
        "id": "bdVDGMXq8u44"
      }
    },
    {
      "cell_type": "markdown",
      "source": [
        "## except и обработка разных типов исключений"
      ],
      "metadata": {
        "id": "3rDdA5p3838A"
      }
    },
    {
      "cell_type": "markdown",
      "source": [
        "### Встроенные типы исключений\n",
        "\n",
        "В примере выше обрабатывались сразу все исключения, которые могут возникнуть в коде. Однако мы можем конкретизировать тип обрабатываемого исключения, указав его после слова except:"
      ],
      "metadata": {
        "id": "SZq9rT0m88jy"
      }
    },
    {
      "cell_type": "code",
      "source": [
        "try:\n",
        "    number = int(input(\"Введите число: \"))\n",
        "    print(\"Введенное число:\", number)\n",
        "except ValueError:\n",
        "    print(\"Преобразование прошло неудачно\")\n",
        "print(\"Завершение программы\")"
      ],
      "metadata": {
        "colab": {
          "base_uri": "https://localhost:8080/"
        },
        "id": "rHnLefgV9CD-",
        "outputId": "bec50543-a278-4362-e146-3e75e8e4d08e"
      },
      "execution_count": 54,
      "outputs": [
        {
          "output_type": "stream",
          "name": "stdout",
          "text": [
            "Введите число: 545\n",
            "Введенное число: 545\n",
            "Завершение программы\n"
          ]
        }
      ]
    },
    {
      "cell_type": "markdown",
      "source": [
        "В данном случае блок execpt обрабатывает только исключения типа ValueError, которые могут возникнут при неудачном преобразовании строки в число.\n",
        "\n",
        "В Python есть следующие базовые типы исключений:\n",
        "\n",
        "* BaseException: базовый тип для всех встроенных исключений\n",
        "\n",
        "* Exception: базовый тип, который обычно применяется для создания своих типов исключений\n",
        "\n",
        "* ArithmeticError: базовый тип для исключений, связанных с арифметическими операциями (OverflowError, ZeroDivisionError, FloatingPointError).\n",
        "\n",
        "* BufferError: тип исключения, которое возникает при невозможности выполнить операцию с буффером\n",
        "\n",
        "* LookupError: базовый тип для исключений, которое возникают при обращении в коллекциях по некорректному ключу или индексу (например, IndexError, KeyError)\n",
        "\n",
        "От этих классов наследуются все конкретные типы исключений. В Python обладает довольно большим списком встроенных исключений. Весь этот список можно посмотреть в документации. Перечислю только некоторые наиболее часто встречающиеся:\n",
        "\n",
        "* IndexError: исключение возникает, если индекс при обращении к элементу коллекции находится вне допустимого диапазона\n",
        "\n",
        "* KeyError: возникает, если в словаре отсутствует ключ, по которому происходит обращение к элементу словаря.\n",
        "\n",
        "*  OverflowError: возникает, если результат арифметической операции не может быть представлен текущим числовым типом (обычно типом float).\n",
        "\n",
        "* RecursionError: возникает, если превышена допустимая глубина рекурсии.\n",
        "\n",
        "* TypeError: возникает, если операция или функция применяется к значению недопустимого типа.\n",
        "\n",
        "* ValueError: возникает, если операция или функция получают объект корректного типа с некорректным значением.\n",
        "\n",
        "* ZeroDivisionError: возникает при делении на ноль.\n",
        "\n",
        "* NotImplementedError: тип исключения для указания, что какие-то методы класса не реализованы\n",
        "\n",
        "* ModuleNotFoundError: возникает при при невозможности найти модуль при его импорте директивой import\n",
        "\n",
        "* OSError: тип исключений, которые генерируются при возникновении ошибок системы (например, невозможно найти файл, память диска заполнена и т.д.)\n",
        "\n",
        "И если ситуация такова, что в программе могут быть сгенерированы различные типы исключений, то мы можем их обработать по отдельности, используя дополнительные выражения except. И при возникновении исключения Python будет искать нужный блок except, который обрабатывает данный тип исключения:"
      ],
      "metadata": {
        "id": "hdrbRJaa9HwC"
      }
    },
    {
      "cell_type": "code",
      "source": [
        "try:\n",
        "    number1 = int(input(\"Введите первое число: \"))\n",
        "    number2 = int(input(\"Введите второе число: \"))\n",
        "    print(\"Результат деления:\", number1/number2)\n",
        "except ValueError:\n",
        "    print(\"Преобразование прошло неудачно\")\n",
        "except ZeroDivisionError:\n",
        "    print(\"Попытка деления числа на ноль\")\n",
        "except BaseException:\n",
        "    print(\"Общее исключение\")\n",
        "print(\"Завершение программы\")"
      ],
      "metadata": {
        "colab": {
          "base_uri": "https://localhost:8080/"
        },
        "id": "FEmC2akn9VIj",
        "outputId": "a7e11ca6-3b97-4ed7-c68e-daa1758d40f9"
      },
      "execution_count": 55,
      "outputs": [
        {
          "output_type": "stream",
          "name": "stdout",
          "text": [
            "Введите первое число: 2\n",
            "Введите второе число: 6\n",
            "Результат деления: 0.3333333333333333\n",
            "Завершение программы\n"
          ]
        }
      ]
    },
    {
      "cell_type": "markdown",
      "source": [
        "Если возникнет исключение в результате преобразования строки в число, то оно будет обработано блоком except ValueError. Если же второе число будет равно нулю, то есть будет деление на ноль, тогда возникнет исключение ZeroDivisionError, и оно будет обработано блоком except ZeroDivisionError.\n",
        "\n",
        "Тип BaseException представляет общее исключение, под которое попадают все исключительные ситуации. Поэтому в данном случае любое исключение, которое не представляет тип ValueError или ZeroDivisionError, будет обработано в блоке except BaseException:.\n",
        "\n",
        "Однако, если в программе возникает исключение типа, для которого нет соответствующего блока except, то программа не сможет найти соответствующий блок except и сгенерирует исключение. Например, в следующем случае:"
      ],
      "metadata": {
        "id": "VNuNuqb_9XP7"
      }
    },
    {
      "cell_type": "code",
      "source": [
        "try:\n",
        "    number1 = int(input(\"Введите первое число: \"))\n",
        "    number2 = int(input(\"Введите второе число: \"))\n",
        "    print(\"Результат деления:\", number1/number2)\n",
        "except ZeroDivisionError:\n",
        "    print(\"Попытка деления числа на ноль\")\n",
        "print(\"Завершение программы\")"
      ],
      "metadata": {
        "colab": {
          "base_uri": "https://localhost:8080/"
        },
        "id": "L2hQrnXK9aYH",
        "outputId": "82f6754a-a357-4911-99e0-de20ea9ceff5"
      },
      "execution_count": 56,
      "outputs": [
        {
          "output_type": "stream",
          "name": "stdout",
          "text": [
            "Введите первое число: 25\n",
            "Введите второе число: 6\n",
            "Результат деления: 4.166666666666667\n",
            "Завершение программы\n"
          ]
        }
      ]
    },
    {
      "cell_type": "markdown",
      "source": [
        "Python позволяет в одном блоке except обрабатывать сразу несколько типов исключений. В этом случае все типы исключения передаются в скобках:"
      ],
      "metadata": {
        "id": "Zxqgd1pr9f2h"
      }
    },
    {
      "cell_type": "code",
      "source": [
        "try:\n",
        "    number1 = int(input(\"Введите первое число: \"))\n",
        "    number2 = int(input(\"Введите второе число: \"))\n",
        "    print(\"Результат деления:\", number1/number2)\n",
        "except (ZeroDivisionError, ValueError):    #  обработка двух типов исключений - ZeroDivisionError и ValueError\n",
        "    print(\"Попытка деления числа на ноль или некорректный ввод\")\n",
        "\n",
        "print(\"Завершение программы\")"
      ],
      "metadata": {
        "colab": {
          "base_uri": "https://localhost:8080/"
        },
        "id": "Gox3x1NB9lrI",
        "outputId": "5125c394-7eeb-4b39-dc0b-c3f985ba5803"
      },
      "execution_count": 57,
      "outputs": [
        {
          "output_type": "stream",
          "name": "stdout",
          "text": [
            "Введите первое число: 25\n",
            "Введите второе число: 6\n",
            "Результат деления: 4.166666666666667\n",
            "Завершение программы\n"
          ]
        }
      ]
    },
    {
      "cell_type": "markdown",
      "source": [
        "### Получение информации об исключении\n",
        "\n",
        "С помощью оператора as мы можем передать всю информацию об исключении в переменную, которую затем можно использовать в блоке except:"
      ],
      "metadata": {
        "id": "MmYhhNxj9pZk"
      }
    },
    {
      "cell_type": "code",
      "source": [
        "try:\n",
        "    number = int(input(\"Введите число: \"))\n",
        "    print(\"Введенное число:\", number)\n",
        "except ValueError as e:\n",
        "    print(\"Сведения об исключении\", e)\n",
        "print(\"Завершение программы\")"
      ],
      "metadata": {
        "colab": {
          "base_uri": "https://localhost:8080/"
        },
        "id": "MLeBIyf09uCn",
        "outputId": "ff6187bc-4f78-4ab1-bab2-0a0fcb8556ac"
      },
      "execution_count": 58,
      "outputs": [
        {
          "output_type": "stream",
          "name": "stdout",
          "text": [
            "Введите число: 54\n",
            "Введенное число: 54\n",
            "Завершение программы\n"
          ]
        }
      ]
    },
    {
      "cell_type": "markdown",
      "source": [
        "# Генерация исключений и создание своих типов исключений"
      ],
      "metadata": {
        "id": "M7F0_5Zo90HR"
      }
    },
    {
      "cell_type": "markdown",
      "source": [
        "## Генерация исключений и оператор raise\n",
        "\n",
        "Иногда возникает необходимость вручную сгенерировать то или иное исключение. Для этого применяется оператор raise. Например, сгенерируем исключение"
      ],
      "metadata": {
        "id": "GMhERZim953_"
      }
    },
    {
      "cell_type": "code",
      "source": [
        "try:\n",
        "    number1 = int(input(\"Введите первое число: \"))\n",
        "    number2 = int(input(\"Введите второе число: \"))\n",
        "    if number2 == 0:\n",
        "        raise Exception(\"Второе число не должно быть равно 0\")\n",
        "    print(\"Результат деления двух чисел:\", number1/number2)\n",
        "except ValueError:\n",
        "    print(\"Введены некорректные данные\")\n",
        "except Exception as e:\n",
        "    print(e)\n",
        "print(\"Завершение программы\")"
      ],
      "metadata": {
        "colab": {
          "base_uri": "https://localhost:8080/"
        },
        "id": "VjxRB7zc9_K6",
        "outputId": "ae14d082-2094-4796-90b6-ee3c2972ea23"
      },
      "execution_count": 60,
      "outputs": [
        {
          "output_type": "stream",
          "name": "stdout",
          "text": [
            "Введите первое число: 5\n",
            "Введите второе число: 8\n",
            "Результат деления двух чисел: 0.625\n",
            "Завершение программы\n"
          ]
        }
      ]
    },
    {
      "cell_type": "markdown",
      "source": [
        "Оператору raise передается объект BaseException - в данном случае объект Exception. В конструктор этого типа можно ему передать сообщение, которое затем можно вывести пользователю. В итоге, если number2 будет равно 0, то сработает оператор raise, который сгенерирует исключение. В итоге управление программой перейдет к блоку except, который обрабатывает исключения типа Exception:"
      ],
      "metadata": {
        "id": "1UK_c5Nd-Cmi"
      }
    },
    {
      "cell_type": "markdown",
      "source": [
        "## Создание своих типов исключений\n",
        "\n",
        "В языке Python мы не ограничены только встроенными типами исключений и можем, применяя наследование, при необходимости создавать свои типы исключений. Например, возьмем следующий класс Person:"
      ],
      "metadata": {
        "id": "osREOcAj-L9Z"
      }
    },
    {
      "cell_type": "code",
      "source": [
        "class Person:\n",
        "    def __init__(self, name, age):\n",
        "        self.__name = name  # устанавливаем имя\n",
        "        self.__age = age   # устанавливаем возраст\n",
        "\n",
        "    def display_info(self):\n",
        "        print(f\"Имя: {self.__name}  Возраст: {self.__age}\")"
      ],
      "metadata": {
        "id": "d9g_oPuB-NQz"
      },
      "execution_count": 61,
      "outputs": []
    },
    {
      "cell_type": "markdown",
      "source": [
        "Здесь класс Person в конструкторе получает значения для имени и возраста и присваивает их приватным переменным name и age. Однако при создании объекта Person мы можем передать в конструктор некорректное с точки зрения логики значение - например, отрицательное число. Одним из способов решения данной ситуации представляет генерация исключения при передаче некорректных значений.\n",
        "\n",
        "Итак, определим следующий код программы:"
      ],
      "metadata": {
        "id": "zSog6fAv-UiS"
      }
    },
    {
      "cell_type": "code",
      "source": [
        "class PersonAgeException(Exception):\n",
        "    def __init__(self, age, minage, maxage):\n",
        "        self.age = age\n",
        "        self.minage = minage\n",
        "        self.maxage = maxage\n",
        "\n",
        "    def __str__(self):\n",
        "        return f\"Недопустимое значение: {self.age}. \" \\\n",
        "               f\"Возраст должен быть в диапазоне от {self.minage} до {self.maxage}\"\n",
        "\n",
        "\n",
        "class Person:\n",
        "    def __init__(self, name, age):\n",
        "        self.__name = name  # устанавливаем имя\n",
        "        minage, maxage = 1, 110\n",
        "        if minage < age < maxage:   # устанавливаем возраст, если передано корректное значение\n",
        "            self.__age = age\n",
        "        else:                       # иначе генерируем исключение\n",
        "            raise PersonAgeException(age, minage, maxage)\n",
        "\n",
        "    def display_info(self):\n",
        "        print(f\"Имя: {self.__name}  Возраст: {self.__age}\")\n",
        "\n",
        "try:\n",
        "    tom = Person(\"Tom\", 37)\n",
        "    tom.display_info()  # Имя: Tom  Возраст: 37\n",
        "\n",
        "    bob = Person(\"Bob\", -23)\n",
        "    bob.display_info()\n",
        "except PersonAgeException as e:\n",
        "    print(e)    # Недопустимое значение: -23. Возраст должен быть в диапазоне от 1 до 110"
      ],
      "metadata": {
        "colab": {
          "base_uri": "https://localhost:8080/"
        },
        "id": "GJMFUrcd-VBb",
        "outputId": "5583b9bc-981c-4d21-c442-c8b31853e4bf"
      },
      "execution_count": 62,
      "outputs": [
        {
          "output_type": "stream",
          "name": "stdout",
          "text": [
            "Имя: Tom  Возраст: 37\n",
            "Недопустимое значение: -23. Возраст должен быть в диапазоне от 1 до 110\n"
          ]
        }
      ]
    }
  ]
}