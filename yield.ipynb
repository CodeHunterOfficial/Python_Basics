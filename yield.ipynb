{
  "nbformat": 4,
  "nbformat_minor": 0,
  "metadata": {
    "colab": {
      "provenance": [],
      "authorship_tag": "ABX9TyP0hk5noF8RK3dLiDXOX+nY",
      "include_colab_link": true
    },
    "kernelspec": {
      "name": "python3",
      "display_name": "Python 3"
    },
    "language_info": {
      "name": "python"
    }
  },
  "cells": [
    {
      "cell_type": "markdown",
      "metadata": {
        "id": "view-in-github",
        "colab_type": "text"
      },
      "source": [
        "<a href=\"https://colab.research.google.com/github/CodeHunterOfficial/Python_Basics/blob/main/yield.ipynb\" target=\"_parent\"><img src=\"https://colab.research.google.com/assets/colab-badge.svg\" alt=\"Open In Colab\"/></a>"
      ]
    },
    {
      "cell_type": "markdown",
      "source": [
        "\"yield\" в Python используется для создания генераторов, которые могут возвращать значения по мере необходимости, в отличие от обычных функций, которые возвращают значение один раз. Ключевое слово \"yield\" позволяет приостановить выполнение функции, сохраняя её состояние, и затем продолжить выполнение с сохранённого места при следующем вызове."
      ],
      "metadata": {
        "id": "WpkxDiAMMDJ7"
      }
    },
    {
      "cell_type": "markdown",
      "source": [
        "Пример использования ключевого слова \"yield\" для создания простого генератора чисел:"
      ],
      "metadata": {
        "id": "Jgrd0n-cMLER"
      }
    },
    {
      "cell_type": "code",
      "execution_count": 3,
      "metadata": {
        "colab": {
          "base_uri": "https://localhost:8080/"
        },
        "id": "fCifzX8AMBIP",
        "outputId": "8817624d-72d0-46bf-ebe0-de6064c74e57"
      },
      "outputs": [
        {
          "output_type": "stream",
          "name": "stdout",
          "text": [
            "1\n",
            "2\n",
            "3\n"
          ]
        }
      ],
      "source": [
        "def simple_generator():\n",
        "    yield 1\n",
        "    yield 2\n",
        "    yield 3\n",
        "\n",
        "# Использование генератора\n",
        "gen = simple_generator()\n",
        "print(next(gen))  # Выведет: 1\n",
        "print(next(gen))  # Выведет: 2\n",
        "print(next(gen))  # Выведет: 3"
      ]
    },
    {
      "cell_type": "markdown",
      "source": [
        "В этом примере функция simple_generator использует ключевое слово \"yield\" для возврата значений по мере необходимости. Когда мы вызываем next(gen), выполнение функции приостанавливается после каждого выражения yield, возвращая указанное значение."
      ],
      "metadata": {
        "id": "YZ91ADGtMUMp"
      }
    },
    {
      "cell_type": "markdown",
      "source": [
        "Пример использования генератора для генерации последовательности Фибоначчи:"
      ],
      "metadata": {
        "id": "Jw_rFhsWMWyu"
      }
    },
    {
      "cell_type": "code",
      "source": [
        "def fibonacci_generator(limit):\n",
        "    a, b = 0, 1\n",
        "    count = 0\n",
        "    while count < limit:\n",
        "        yield a\n",
        "        a, b = b, a + b\n",
        "        count += 1\n",
        "\n",
        "# Использование генератора\n",
        "fib = fibonacci_generator(5)\n",
        "#print(fib)\n",
        "for num in fib:\n",
        "    print(num)"
      ],
      "metadata": {
        "colab": {
          "base_uri": "https://localhost:8080/"
        },
        "id": "cSTWVLwnMZ2P",
        "outputId": "e2c044d7-d6d4-487d-fbfe-70b55b1a2a2b"
      },
      "execution_count": 5,
      "outputs": [
        {
          "output_type": "stream",
          "name": "stdout",
          "text": [
            "<generator object fibonacci_generator at 0x7e018f3954d0>\n",
            "0\n",
            "1\n",
            "1\n",
            "2\n",
            "3\n"
          ]
        }
      ]
    },
    {
      "cell_type": "markdown",
      "source": [
        "В этом примере функция fibonacci_generator использует ключевое слово \"yield\" для возврата следующего числа последовательности Фибоначчи при каждом вызове next или при итерации через цикл for."
      ],
      "metadata": {
        "id": "XDIBvOswMi4H"
      }
    },
    {
      "cell_type": "markdown",
      "source": [
        "Пример использования генератора для генерации квадратов чисел из массива:"
      ],
      "metadata": {
        "id": "o_3a7BOdMler"
      }
    },
    {
      "cell_type": "code",
      "source": [
        "def square_generator(nums):\n",
        "    for num in nums:\n",
        "        yield num ** 2\n",
        "\n",
        "# Использование генератора\n",
        "numbers = [1, 2, 3, 4, 5]\n",
        "squares = square_generator(numbers)\n",
        "for square in squares:\n",
        "    print(square)"
      ],
      "metadata": {
        "colab": {
          "base_uri": "https://localhost:8080/"
        },
        "id": "0T4VCDiEMt4w",
        "outputId": "7e73b5e1-57df-49cd-8f04-f6d91de79dca"
      },
      "execution_count": 6,
      "outputs": [
        {
          "output_type": "stream",
          "name": "stdout",
          "text": [
            "1\n",
            "4\n",
            "9\n",
            "16\n",
            "25\n"
          ]
        }
      ]
    },
    {
      "cell_type": "markdown",
      "source": [
        "В этом примере функция square_generator использует ключевое слово \"yield\" для возврата квадрата каждого числа из массива nums. При каждом вызове next или при итерации через цикл for, генератор возвращает следующий квадрат числа."
      ],
      "metadata": {
        "id": "Iun9Qr-QMwkb"
      }
    },
    {
      "cell_type": "markdown",
      "source": [
        "Пример использования генератора для работы с объектами:"
      ],
      "metadata": {
        "id": "ICPdhXRLM2Pu"
      }
    },
    {
      "cell_type": "code",
      "source": [
        "class Point:\n",
        "    def __init__(self, x, y):\n",
        "        self.x = x\n",
        "        self.y = y\n",
        "\n",
        "def point_generator(points):\n",
        "    for point in points:\n",
        "        yield point.x, point.y\n",
        "\n",
        "# Использование генератора\n",
        "point_objects = [Point(1, 2), Point(3, 4), Point(5, 6)]\n",
        "point_coordinates = point_generator(point_objects)\n",
        "for x, y in point_coordinates:\n",
        "    print(f\"Point coordinates: ({x}, {y})\")"
      ],
      "metadata": {
        "colab": {
          "base_uri": "https://localhost:8080/"
        },
        "id": "EDLm55QPM4wx",
        "outputId": "68db44e1-dbb9-4c90-9f25-92eb4ebdacee"
      },
      "execution_count": 7,
      "outputs": [
        {
          "output_type": "stream",
          "name": "stdout",
          "text": [
            "Point coordinates: (1, 2)\n",
            "Point coordinates: (3, 4)\n",
            "Point coordinates: (5, 6)\n"
          ]
        }
      ]
    },
    {
      "cell_type": "markdown",
      "source": [
        "В этом примере функция point_generator использует ключевое слово \"yield\" для возврата координат каждой точки из списка объектов типа Point. При итерации через цикл for, генератор возвращает координаты"
      ],
      "metadata": {
        "id": "H7h5EYb0M71R"
      }
    },
    {
      "cell_type": "markdown",
      "source": [
        "Несколько плюсов и минусов использования ключевого слова \"yield\" в Python:\n",
        "\n",
        "### Плюсы использования yield:\n",
        "1. **Эффективное использование памяти**: Генераторы не хранят все значения в памяти сразу, что делает их эффективными при работе с большими объемами данных.\n",
        "2. **Ленивая вычисления**: Генераторы вычисляют значения по мере необходимости, что позволяет использовать их для обработки потенциально бесконечных последовательностей.\n",
        "3. **Простота использования**: Ключевое слово \"yield\" делает создание генераторов простым и понятным.\n",
        "\n",
        "### Минусы использования yield:\n",
        "1. **Одноразовость**: Генераторы могут быть использованы только один раз, после чего они исчерпываются. Если требуется повторное использование значений, может потребоваться создание нового генератора.\n",
        "2. **Неэффективность для некоторых операций**: В некоторых случаях, особенно при выполнении сложных вычислений, генераторы могут быть менее эффективными, чем другие подходы.\n",
        "\n",
        "### Рекомендации по использованию yield:\n",
        "1. Используйте генераторы, когда требуется обработка больших объемов данных или когда нужно работать с потенциально бесконечными последовательностями.\n",
        "2. Предпочтительно использовать генераторы для ленивой обработки данных, когда необходимо вычислить значения по мере необходимости, а не заранее.\n",
        "3. Помните, что генераторы могут быть удобны для итерации, фильтрации и преобразования данных.\n",
        "\n",
        "В целом, ключевое слово \"yield\" предоставляет мощный инструмент для создания генераторов в Python, и его использование особенно полезно в определенных сценариях, таких как обработка больших объемов данных или работа с потенциально бесконечными последовательностями."
      ],
      "metadata": {
        "id": "pQGNQQGhNPNt"
      }
    },
    {
      "cell_type": "markdown",
      "source": [
        "Примеры\n",
        "\n",
        "Работа с потенциально бесконечными последовательностями:\n"
      ],
      "metadata": {
        "id": "0irZ7b15Ngx1"
      }
    },
    {
      "cell_type": "code",
      "source": [
        "# Генератор для генерации бесконечной последовательности чисел\n",
        "def infinite_sequence():\n",
        "    num = 0\n",
        "    while True:\n",
        "        yield num\n",
        "        num += 1\n",
        "\n",
        "# Использование генератора\n",
        "inf_seq = infinite_sequence()\n",
        "for i in range(55):\n",
        "    print(next(inf_seq))"
      ],
      "metadata": {
        "colab": {
          "base_uri": "https://localhost:8080/"
        },
        "id": "CNDeF8d6NiXq",
        "outputId": "67fbbac8-9642-4fa5-e9a9-1324a83c94b0"
      },
      "execution_count": 8,
      "outputs": [
        {
          "output_type": "stream",
          "name": "stdout",
          "text": [
            "0\n",
            "1\n",
            "2\n",
            "3\n",
            "4\n"
          ]
        }
      ]
    },
    {
      "cell_type": "code",
      "source": [
        "inf_seq = infinite_sequence()\n",
        "for i in range(3):\n",
        "    print(next(inf_seq))\n",
        "\n",
        "for i in range(5):\n",
        "    print(next(inf_seq))"
      ],
      "metadata": {
        "colab": {
          "base_uri": "https://localhost:8080/"
        },
        "id": "qJE7lbfTNqn3",
        "outputId": "38a72fa8-7267-41a0-ec47-3d6cc62afe12"
      },
      "execution_count": 11,
      "outputs": [
        {
          "output_type": "stream",
          "name": "stdout",
          "text": [
            "0\n",
            "1\n",
            "2\n",
            "3\n",
            "4\n",
            "5\n",
            "6\n",
            "7\n"
          ]
        }
      ]
    },
    {
      "cell_type": "markdown",
      "source": [
        "Ленивая обработка данных:"
      ],
      "metadata": {
        "id": "hqrWYR7PNzns"
      }
    },
    {
      "cell_type": "code",
      "source": [
        "# Генератор для фильтрации данных\n",
        "def filter_data(data, condition):\n",
        "    for item in data:\n",
        "        if condition(item):\n",
        "            yield item\n",
        "\n",
        "# Использование генератора\n",
        "numbers = [1, 2, 3, 4, 5, 6, 7, 8, 9, 10]\n",
        "even_numbers = filter_data(numbers, lambda x: x % 2 == 0)\n",
        "for num in even_numbers:\n",
        "    print(num)"
      ],
      "metadata": {
        "colab": {
          "base_uri": "https://localhost:8080/"
        },
        "id": "_9opTDiuN2U3",
        "outputId": "5d7985de-ad02-4c2a-8890-0fd32644d514"
      },
      "execution_count": 13,
      "outputs": [
        {
          "output_type": "stream",
          "name": "stdout",
          "text": [
            "2\n",
            "4\n",
            "6\n",
            "8\n",
            "10\n"
          ]
        }
      ]
    }
  ]
}