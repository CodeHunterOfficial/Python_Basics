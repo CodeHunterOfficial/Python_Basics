{
  "cells": [
    {
      "cell_type": "markdown",
      "metadata": {
        "id": "view-in-github",
        "colab_type": "text"
      },
      "source": [
        "<a href=\"https://colab.research.google.com/github/CodeHunterOfficial/Python_Basics/blob/main/Lecture_9_3_Sympy.ipynb\" target=\"_parent\"><img src=\"https://colab.research.google.com/assets/colab-badge.svg\" alt=\"Open In Colab\"/></a>"
      ]
    },
    {
      "cell_type": "markdown",
      "metadata": {
        "deletable": true,
        "editable": true,
        "id": "2oogu2bjvZzw"
      },
      "source": [
        "# SymPy\n",
        "\n",
        "`SymPy` - это пакет для символьных вычислений на питоне, подобный системе *Mathematica*. Он работает с выражениями, содержащими символы."
      ]
    },
    {
      "cell_type": "code",
      "execution_count": null,
      "metadata": {
        "collapsed": true,
        "deletable": true,
        "editable": true,
        "id": "Y9dH0dtZvZz1"
      },
      "outputs": [],
      "source": [
        "from sympy import *\n",
        "init_printing()"
      ]
    },
    {
      "cell_type": "markdown",
      "metadata": {
        "deletable": true,
        "editable": true,
        "id": "hq8PDG1-vZz2"
      },
      "source": [
        "Основными кирпичиками, из которых строятся выражения, являются символы. Символ имеет имя, которое используется при печати выражений. Объекты класса `Symbol` нужно создавать и присваивать переменным питона, чтобы их можно было использовать. В принципе, имя символа и имя переменной, которой мы присваиваем этот символ - две независимые вещи, и можно написать `abc=Symbol('xyz')`. Но тогда при вводе программы Вы будете использовать `abc`, а при печати результатов `SymPy` будет использовать `xyz`, что приведёт к ненужной путанице. Поэтому лучше, чтобы имя символа совпадало с именем переменной питона, которой он присваивается.\n",
        "\n",
        "В языках, специально предназначенных для символьных вычислений, таких, как *Mathematica*, если Вы используете переменную, которой ничего не было присвоено, то она автоматически воспринимается как символ с тем же именем. Питон не был изначально предназначен для символьных вычислений. Если Вы используете переменную, которой ничего не было присвоено, Вы получите сообщение об ошибке. Объекты типа `Symbol` нужно создавать явно."
      ]
    },
    {
      "cell_type": "code",
      "execution_count": null,
      "metadata": {
        "deletable": true,
        "editable": true,
        "id": "oIQ_-WpbvZz3"
      },
      "outputs": [],
      "source": [
        "x=Symbol('x')"
      ]
    },
    {
      "cell_type": "code",
      "execution_count": null,
      "metadata": {
        "deletable": true,
        "editable": true,
        "colab": {
          "base_uri": "https://localhost:8080/",
          "height": 38
        },
        "id": "4b31zcpHvZz4",
        "outputId": "a773cad9-db2c-4b3c-98f9-43599c9622a3"
      },
      "outputs": [
        {
          "output_type": "execute_result",
          "data": {
            "text/plain": [
              " 2    \n",
              "x  - 1"
            ],
            "image/png": "[encoded data removed]",
            "text/latex": "$\\displaystyle x^{2} - 1$"
          },
          "metadata": {},
          "execution_count": 94
        }
      ],
      "source": [
        "a=x**2-1\n",
        "a"
      ]
    },
    {
      "cell_type": "code",
      "execution_count": null,
      "metadata": {
        "deletable": true,
        "editable": true,
        "colab": {
          "base_uri": "https://localhost:8080/"
        },
        "id": "ci40xiKFvZz5",
        "outputId": "7a1eac89-8768-4626-d802-55a5cebf1a15"
      },
      "outputs": [
        {
          "output_type": "execute_result",
          "data": {
            "text/plain": [
              "sympy.core.add.Add"
            ]
          },
          "metadata": {},
          "execution_count": 95
        }
      ],
      "source": [
        "type(a)"
      ]
    },
    {
      "cell_type": "markdown",
      "metadata": {
        "deletable": true,
        "editable": true,
        "id": "8QFErvjbvZz5"
      },
      "source": [
        "Можно определить несколько символов одновременно. Строка разбивается на имена по пробелам."
      ]
    },
    {
      "cell_type": "code",
      "execution_count": null,
      "metadata": {
        "collapsed": true,
        "deletable": true,
        "editable": true,
        "id": "nZdpx_Q9vZz6"
      },
      "outputs": [],
      "source": [
        "y,z=symbols('y z')"
      ]
    },
    {
      "cell_type": "markdown",
      "metadata": {
        "deletable": true,
        "editable": true,
        "id": "7Lyo3UtCvZz6"
      },
      "source": [
        "Подставим вместо $x$ выражение $y+1$."
      ]
    },
    {
      "cell_type": "code",
      "execution_count": null,
      "metadata": {
        "deletable": true,
        "editable": true,
        "colab": {
          "base_uri": "https://localhost:8080/",
          "height": 39
        },
        "id": "BQsSUERhvZz7",
        "outputId": "ed94b477-08c8-4f29-8415-3e1a8ec139eb"
      },
      "outputs": [
        {
          "output_type": "execute_result",
          "data": {
            "text/plain": [
              "       2    \n",
              "(y + 1)  - 1"
            ],
            "image/png": "[encoded data removed]",
            "text/latex": "$\\displaystyle \\left(y + 1\\right)^{2} - 1$"
          },
          "metadata": {},
          "execution_count": 97
        }
      ],
      "source": [
        "a.subs(x,y+1)"
      ]
    },
    {
      "cell_type": "markdown",
      "metadata": {
        "deletable": true,
        "editable": true,
        "id": "7LVFW-5ivZz7"
      },
      "source": [
        "## Многочлены и рациональные функции\n",
        "\n",
        "`SymPy` не раскрывает скобки автоматически. Для этого используется функция `expand`."
      ]
    },
    {
      "cell_type": "code",
      "execution_count": null,
      "metadata": {
        "deletable": true,
        "editable": true,
        "colab": {
          "base_uri": "https://localhost:8080/",
          "height": 39
        },
        "id": "N86a7arqvZz8",
        "outputId": "71951d06-063c-4523-933c-519b3bf58df1"
      },
      "outputs": [
        {
          "output_type": "execute_result",
          "data": {
            "text/plain": [
              "           6\n",
              "(x + y - z) "
            ],
            "image/png": "[encoded data removed]",
            "text/latex": "$\\displaystyle \\left(x + y - z\\right)^{6}$"
          },
          "metadata": {},
          "execution_count": 98
        }
      ],
      "source": [
        "a=(x+y-z)**6\n",
        "a"
      ]
    },
    {
      "cell_type": "code",
      "execution_count": null,
      "metadata": {
        "deletable": true,
        "editable": true,
        "colab": {
          "base_uri": "https://localhost:8080/",
          "height": 60
        },
        "id": "r45UUByuvZz8",
        "outputId": "9bc7c325-f151-4620-84fc-4c2a7f62b673"
      },
      "outputs": [
        {
          "output_type": "execute_result",
          "data": {
            "text/plain": [
              " 6      5        5         4  2       4           4  2       3  3       3  2  \n",
              "x  + 6⋅x ⋅y - 6⋅x ⋅z + 15⋅x ⋅y  - 30⋅x ⋅y⋅z + 15⋅x ⋅z  + 20⋅x ⋅y  - 60⋅x ⋅y ⋅z\n",
              "\n",
              "       3    2       3  3       2  4       2  3         2  2  2       2    3   \n",
              " + 60⋅x ⋅y⋅z  - 20⋅x ⋅z  + 15⋅x ⋅y  - 60⋅x ⋅y ⋅z + 90⋅x ⋅y ⋅z  - 60⋅x ⋅y⋅z  + \n",
              "\n",
              "    2  4        5         4           3  2         2  3           4        5  \n",
              "15⋅x ⋅z  + 6⋅x⋅y  - 30⋅x⋅y ⋅z + 60⋅x⋅y ⋅z  - 60⋅x⋅y ⋅z  + 30⋅x⋅y⋅z  - 6⋅x⋅z  +\n",
              "\n",
              "  6      5         4  2       3  3       2  4        5    6\n",
              " y  - 6⋅y ⋅z + 15⋅y ⋅z  - 20⋅y ⋅z  + 15⋅y ⋅z  - 6⋅y⋅z  + z "
            ],
            "image/png": "[encoded data removed]",
            "text/latex": "$\\displaystyle x^{6} + 6 x^{5} y - 6 x^{5} z + 15 x^{4} y^{2} - 30 x^{4} y z + 15 x^{4} z^{2} + 20 x^{3} y^{3} - 60 x^{3} y^{2} z + 60 x^{3} y z^{2} - 20 x^{3} z^{3} + 15 x^{2} y^{4} - 60 x^{2} y^{3} z + 90 x^{2} y^{2} z^{2} - 60 x^{2} y z^{3} + 15 x^{2} z^{4} + 6 x y^{5} - 30 x y^{4} z + 60 x y^{3} z^{2} - 60 x y^{2} z^{3} + 30 x y z^{4} - 6 x z^{5} + y^{6} - 6 y^{5} z + 15 y^{4} z^{2} - 20 y^{3} z^{3} + 15 y^{2} z^{4} - 6 y z^{5} + z^{6}$"
          },
          "metadata": {},
          "execution_count": 99
        }
      ],
      "source": [
        "a=expand(a)\n",
        "a"
      ]
    },
    {
      "cell_type": "markdown",
      "metadata": {
        "deletable": true,
        "editable": true,
        "id": "_Olvk3ZjvZz8"
      },
      "source": [
        "Степень многочлена $a$ по $x$."
      ]
    },
    {
      "cell_type": "code",
      "execution_count": null,
      "metadata": {
        "deletable": true,
        "editable": true,
        "colab": {
          "base_uri": "https://localhost:8080/",
          "height": 37
        },
        "id": "GVNwXIGvvZz9",
        "outputId": "5f6f8c7e-c108-4512-c157-90dc14848809"
      },
      "outputs": [
        {
          "output_type": "execute_result",
          "data": {
            "text/plain": [
              "6"
            ],
            "image/png": "[encoded data removed]",
            "text/latex": "$\\displaystyle 6$"
          },
          "metadata": {},
          "execution_count": 100
        }
      ],
      "source": [
        "degree(a,x)"
      ]
    },
    {
      "cell_type": "markdown",
      "metadata": {
        "deletable": true,
        "editable": true,
        "id": "hjmkVMTVvZz9"
      },
      "source": [
        "Соберём вместе члены с определёнными степенями $x$."
      ]
    },
    {
      "cell_type": "code",
      "execution_count": null,
      "metadata": {
        "deletable": true,
        "editable": true,
        "colab": {
          "base_uri": "https://localhost:8080/",
          "height": 60
        },
        "id": "fx_pTvDRvZz9",
        "outputId": "43d0435a-faf0-49f3-c206-170e71926cb5"
      },
      "outputs": [
        {
          "output_type": "execute_result",
          "data": {
            "text/plain": [
              " 6    5                4 ⎛    2                2⎞    3 ⎛    3       2         \n",
              "x  + x ⋅(6⋅y - 6⋅z) + x ⋅⎝15⋅y  - 30⋅y⋅z + 15⋅z ⎠ + x ⋅⎝20⋅y  - 60⋅y ⋅z + 60⋅y\n",
              "\n",
              "  2       3⎞    2 ⎛    4       3         2  2         3       4⎞     ⎛   5    \n",
              "⋅z  - 20⋅z ⎠ + x ⋅⎝15⋅y  - 60⋅y ⋅z + 90⋅y ⋅z  - 60⋅y⋅z  + 15⋅z ⎠ + x⋅⎝6⋅y  - 3\n",
              "\n",
              "   4         3  2       2  3         4      5⎞    6      5         4  2       \n",
              "0⋅y ⋅z + 60⋅y ⋅z  - 60⋅y ⋅z  + 30⋅y⋅z  - 6⋅z ⎠ + y  - 6⋅y ⋅z + 15⋅y ⋅z  - 20⋅y\n",
              "\n",
              "3  3       2  4        5    6\n",
              " ⋅z  + 15⋅y ⋅z  - 6⋅y⋅z  + z "
            ],
            "image/png": "[encoded data removed]",
            "text/latex": "$\\displaystyle x^{6} + x^{5} \\left(6 y - 6 z\\right) + x^{4} \\left(15 y^{2} - 30 y z + 15 z^{2}\\right) + x^{3} \\left(20 y^{3} - 60 y^{2} z + 60 y z^{2} - 20 z^{3}\\right) + x^{2} \\left(15 y^{4} - 60 y^{3} z + 90 y^{2} z^{2} - 60 y z^{3} + 15 z^{4}\\right) + x \\left(6 y^{5} - 30 y^{4} z + 60 y^{3} z^{2} - 60 y^{2} z^{3} + 30 y z^{4} - 6 z^{5}\\right) + y^{6} - 6 y^{5} z + 15 y^{4} z^{2} - 20 y^{3} z^{3} + 15 y^{2} z^{4} - 6 y z^{5} + z^{6}$"
          },
          "metadata": {},
          "execution_count": 101
        }
      ],
      "source": [
        "collect(a,x)"
      ]
    },
    {
      "cell_type": "markdown",
      "metadata": {
        "deletable": true,
        "editable": true,
        "id": "7foQBh5nvZz-"
      },
      "source": [
        "Многочлен с целыми коэффициентами можно записать в виде произведения таких многочленов (причём каждый сомножитель уже невозможно расфакторизовать дальше, оставаясь в рамках многочленов с целыми коэффициентами). Существуют эффективные алгоритмы для решения этой задачи."
      ]
    },
    {
      "cell_type": "code",
      "execution_count": null,
      "metadata": {
        "deletable": true,
        "editable": true,
        "colab": {
          "base_uri": "https://localhost:8080/",
          "height": 39
        },
        "id": "frAdKQVdvZz-",
        "outputId": "417d456e-3378-4360-862d-882da3218dd2"
      },
      "outputs": [
        {
          "output_type": "execute_result",
          "data": {
            "text/plain": [
              "           6\n",
              "(x + y - z) "
            ],
            "image/png": "[encoded data removed]",
            "text/latex": "$\\displaystyle \\left(x + y - z\\right)^{6}$"
          },
          "metadata": {},
          "execution_count": 102
        }
      ],
      "source": [
        "a=factor(a)\n",
        "a"
      ]
    },
    {
      "cell_type": "markdown",
      "metadata": {
        "deletable": true,
        "editable": true,
        "id": "ta7huB9vvZz-"
      },
      "source": [
        "`SymPy` не сокращает отношения многочленов на их наибольший общий делитель автоматически. Для этого используется функция `cancel`."
      ]
    },
    {
      "cell_type": "code",
      "execution_count": null,
      "metadata": {
        "deletable": true,
        "editable": true,
        "colab": {
          "base_uri": "https://localhost:8080/",
          "height": 57
        },
        "id": "HbCovasYvZz-",
        "outputId": "6106ab2b-501a-4779-a4da-8696bed79c2b"
      },
      "outputs": [
        {
          "output_type": "execute_result",
          "data": {
            "text/plain": [
              " 3    3\n",
              "x  - y \n",
              "───────\n",
              " 2    2\n",
              "x  - y "
            ],
            "image/png": "[encoded data removed]",
            "text/latex": "$\\displaystyle \\frac{x^{3} - y^{3}}{x^{2} - y^{2}}$"
          },
          "metadata": {},
          "execution_count": 103
        }
      ],
      "source": [
        "a=(x**3-y**3)/(x**2-y**2)\n",
        "a"
      ]
    },
    {
      "cell_type": "code",
      "execution_count": null,
      "metadata": {
        "deletable": true,
        "editable": true,
        "colab": {
          "base_uri": "https://localhost:8080/",
          "height": 57
        },
        "id": "OAeRGNjbvZz_",
        "outputId": "5bc58e94-3ac8-41b8-e18f-f23583bd6297"
      },
      "outputs": [
        {
          "output_type": "execute_result",
          "data": {
            "text/plain": [
              " 2          2\n",
              "x  + x⋅y + y \n",
              "─────────────\n",
              "    x + y    "
            ],
            "image/png": "[encoded data removed]",
            "text/latex": "$\\displaystyle \\frac{x^{2} + x y + y^{2}}{x + y}$"
          },
          "metadata": {},
          "execution_count": 104
        }
      ],
      "source": [
        "cancel(a)"
      ]
    },
    {
      "cell_type": "markdown",
      "metadata": {
        "deletable": true,
        "editable": true,
        "id": "c6a-ImJ2vZz_"
      },
      "source": [
        "`SymPy` не приводит суммы рациональных выражений к общему знаменателю автоматически. Для этого используется функция `together`."
      ]
    },
    {
      "cell_type": "code",
      "execution_count": null,
      "metadata": {
        "deletable": true,
        "editable": true,
        "colab": {
          "base_uri": "https://localhost:8080/",
          "height": 51
        },
        "id": "Usmhw8T4vZz_",
        "outputId": "d03af419-3e39-4638-93f6-b8fa0a5265bb"
      },
      "outputs": [
        {
          "output_type": "execute_result",
          "data": {
            "text/plain": [
              "  x       y  \n",
              "───── + ─────\n",
              "x + y   x - y"
            ],
            "image/png": "[encoded data removed]",
            "text/latex": "$\\displaystyle \\frac{x}{x + y} + \\frac{y}{x - y}$"
          },
          "metadata": {},
          "execution_count": 105
        }
      ],
      "source": [
        "a=y/(x-y)+x/(x+y)\n",
        "a"
      ]
    },
    {
      "cell_type": "code",
      "execution_count": null,
      "metadata": {
        "deletable": true,
        "editable": true,
        "colab": {
          "base_uri": "https://localhost:8080/",
          "height": 57
        },
        "id": "92m-5YmxvZz_",
        "outputId": "78caec0c-fa38-434b-f0b2-55745792b32e"
      },
      "outputs": [
        {
          "output_type": "execute_result",
          "data": {
            "text/plain": [
              "x⋅(x - y) + y⋅(x + y)\n",
              "─────────────────────\n",
              "   (x - y)⋅(x + y)   "
            ],
            "image/png": "[encoded data removed]",
            "text/latex": "$\\displaystyle \\frac{x \\left(x - y\\right) + y \\left(x + y\\right)}{\\left(x - y\\right) \\left(x + y\\right)}$"
          },
          "metadata": {},
          "execution_count": 106
        }
      ],
      "source": [
        "together(a)"
      ]
    },
    {
      "cell_type": "markdown",
      "metadata": {
        "deletable": true,
        "editable": true,
        "id": "0f1apNH7vZ0A"
      },
      "source": [
        "Функция `simplify` пытается переписать выражение *в наиболее простом виде*. Это понятие не имеет чёткого определения (в разных ситуациях *наиболее простыми* могут считаться разные формы выражения), и не существует алгоритма такого упрощения. Функция `symplify` работает эвристически, и невозможно заранее предугадать, какие упрощения она попытается сделать. Поэтому её удобно использовать в интерактивных сессиях, чтобы посмотреть, удастся ли ей записать выражение в каком-нибудь разумном виде, но нежелательно использовать в программах. В них лучше применять более специализированные функции, которые выполняют одно определённое преобразование выражения."
      ]
    },
    {
      "cell_type": "code",
      "execution_count": null,
      "metadata": {
        "deletable": true,
        "editable": true,
        "colab": {
          "base_uri": "https://localhost:8080/",
          "height": 57
        },
        "id": "3bAB8myivZ0A",
        "outputId": "b765f397-c861-4f63-99c4-b28001b1b1e0"
      },
      "outputs": [
        {
          "output_type": "execute_result",
          "data": {
            "text/plain": [
              " 2    2\n",
              "x  + y \n",
              "───────\n",
              " 2    2\n",
              "x  - y "
            ],
            "image/png": "[encoded data removed]",
            "text/latex": "$\\displaystyle \\frac{x^{2} + y^{2}}{x^{2} - y^{2}}$"
          },
          "metadata": {},
          "execution_count": 107
        }
      ],
      "source": [
        "simplify(a)"
      ]
    },
    {
      "cell_type": "markdown",
      "metadata": {
        "deletable": true,
        "editable": true,
        "id": "axuWKy80vZ0A"
      },
      "source": [
        "Разложение на элементарные дроби по отношению к $x$ и $y$."
      ]
    },
    {
      "cell_type": "code",
      "execution_count": null,
      "metadata": {
        "deletable": true,
        "editable": true,
        "colab": {
          "base_uri": "https://localhost:8080/",
          "height": 51
        },
        "id": "f5lmcQwLvZ0A",
        "outputId": "bf2c9f53-a963-4423-c777-bc4954e94f2e"
      },
      "outputs": [
        {
          "output_type": "execute_result",
          "data": {
            "text/plain": [
              "    y       y      \n",
              "- ───── + ───── + 1\n",
              "  x + y   x - y    "
            ],
            "image/png": "[encoded data removed]",
            "text/latex": "$\\displaystyle - \\frac{y}{x + y} + \\frac{y}{x - y} + 1$"
          },
          "metadata": {},
          "execution_count": 108
        }
      ],
      "source": [
        "apart(a,x)"
      ]
    },
    {
      "cell_type": "code",
      "execution_count": null,
      "metadata": {
        "deletable": true,
        "editable": true,
        "colab": {
          "base_uri": "https://localhost:8080/",
          "height": 51
        },
        "id": "FSP2xQvvvZ0B",
        "outputId": "812bf880-2d20-4bed-e883-85051221b7aa"
      },
      "outputs": [
        {
          "output_type": "execute_result",
          "data": {
            "text/plain": [
              "  x       x      \n",
              "───── + ───── - 1\n",
              "x + y   x - y    "
            ],
            "image/png": "[encoded data removed]",
            "text/latex": "$\\displaystyle \\frac{x}{x + y} + \\frac{x}{x - y} - 1$"
          },
          "metadata": {},
          "execution_count": 109
        }
      ],
      "source": [
        "apart(a,y)"
      ]
    },
    {
      "cell_type": "markdown",
      "metadata": {
        "deletable": true,
        "editable": true,
        "id": "DBePpYRjvZ0B"
      },
      "source": [
        "Подставим конкретные численные значения вместо переменных $x$ и $y$."
      ]
    },
    {
      "cell_type": "code",
      "execution_count": null,
      "metadata": {
        "deletable": true,
        "editable": true,
        "colab": {
          "base_uri": "https://localhost:8080/",
          "height": 51
        },
        "id": "jJvJ7xSxvZ0B",
        "outputId": "3a8db30d-b3fb-49fa-94fa-23290478bcdc"
      },
      "outputs": [
        {
          "output_type": "execute_result",
          "data": {
            "text/plain": [
              "-5/3"
            ],
            "image/png": "[encoded data removed]",
            "text/latex": "$\\displaystyle - \\frac{5}{3}$"
          },
          "metadata": {},
          "execution_count": 110
        }
      ],
      "source": [
        "a=a.subs({x:1,y:2})\n",
        "a"
      ]
    },
    {
      "cell_type": "markdown",
      "metadata": {
        "deletable": true,
        "editable": true,
        "id": "zGGfHNZivZ0B"
      },
      "source": [
        "А сколько это будет численно?"
      ]
    },
    {
      "cell_type": "code",
      "execution_count": null,
      "metadata": {
        "deletable": true,
        "editable": true,
        "colab": {
          "base_uri": "https://localhost:8080/",
          "height": 37
        },
        "id": "E51Ze9l6vZ0C",
        "outputId": "152c3cba-ae11-4e4a-b7cc-867b0dc2b060"
      },
      "outputs": [
        {
          "output_type": "execute_result",
          "data": {
            "text/plain": [
              "-1.66666666666667"
            ],
            "image/png": "[encoded data removed]",
            "text/latex": "$\\displaystyle -1.66666666666667$"
          },
          "metadata": {},
          "execution_count": 111
        }
      ],
      "source": [
        "a.n()"
      ]
    },
    {
      "cell_type": "markdown",
      "metadata": {
        "deletable": true,
        "editable": true,
        "id": "DVqDokvNvZ0C"
      },
      "source": [
        "## Элементарные функции\n",
        "\n",
        "`SymPy` автоматически применяет упрощения элементарных функция (которые справедливы во всех случаях)."
      ]
    },
    {
      "cell_type": "code",
      "execution_count": null,
      "metadata": {
        "deletable": true,
        "editable": true,
        "colab": {
          "base_uri": "https://localhost:8080/"
        },
        "id": "XWAKZ9g3vZ0C",
        "outputId": "8a8ea002-2972-42d9-828b-dfe7bd630280"
      },
      "outputs": [
        {
          "output_type": "execute_result",
          "data": {
            "text/plain": [
              "-sin(x)"
            ],
            "image/png": "[encoded data removed]",
            "text/latex": "$\\displaystyle - \\sin{\\left(x \\right)}$"
          },
          "metadata": {},
          "execution_count": 112
        }
      ],
      "source": [
        "sin(-x)"
      ]
    },
    {
      "cell_type": "code",
      "execution_count": null,
      "metadata": {
        "deletable": true,
        "editable": true,
        "colab": {
          "base_uri": "https://localhost:8080/"
        },
        "id": "cITJv6sLvZ0C",
        "outputId": "e818ad18-b9d0-45e7-af35-3a7f806bb1da"
      },
      "outputs": [
        {
          "output_type": "execute_result",
          "data": {
            "text/plain": [
              "⎛√2  -√3 ⎞\n",
              "⎜──, ────⎟\n",
              "⎝2    3  ⎠"
            ],
            "image/png": "[encoded data removed]",
            "text/latex": "$\\displaystyle \\left( \\frac{\\sqrt{2}}{2}, \\  - \\frac{\\sqrt{3}}{3}\\right)$"
          },
          "metadata": {},
          "execution_count": 113
        }
      ],
      "source": [
        "cos(pi/4),tan(5*pi/6)"
      ]
    },
    {
      "cell_type": "markdown",
      "metadata": {
        "deletable": true,
        "editable": true,
        "id": "_fK87hIUvZ0C"
      },
      "source": [
        "`SymPy` может работать с числами с плавающей точкой, имеющими сколь угодно большую точность. Вот $\\pi$ с 100 значащими цифрами."
      ]
    },
    {
      "cell_type": "code",
      "execution_count": null,
      "metadata": {
        "deletable": true,
        "editable": true,
        "colab": {
          "base_uri": "https://localhost:8080/"
        },
        "id": "K2tX35jKvZ0D",
        "outputId": "ebfc5564-d2bb-44b8-977c-88998f041738"
      },
      "outputs": [
        {
          "output_type": "execute_result",
          "data": {
            "text/plain": [
              "3.1415926535897932384626433832795028841971693993751058209749445923078164062862\n",
              "08998628034825342117068"
            ],
            "image/png": "[encoded data removed]",
            "text/latex": "$\\displaystyle 3.141592653589793238462643383279502884197169399375105820974944592307816406286208998628034825342117068$"
          },
          "metadata": {},
          "execution_count": 114
        }
      ],
      "source": [
        "pi.n(100)"
      ]
    },
    {
      "cell_type": "markdown",
      "metadata": {
        "collapsed": false,
        "deletable": true,
        "editable": true,
        "id": "rFHJgszFvZ0D"
      },
      "source": [
        "`E` - это основание натуральных логарифмов."
      ]
    },
    {
      "cell_type": "code",
      "execution_count": null,
      "metadata": {
        "deletable": true,
        "editable": true,
        "colab": {
          "base_uri": "https://localhost:8080/"
        },
        "id": "b4C38kvEvZ0D",
        "outputId": "eb76f258-4b4d-4e1f-fdc8-b8b4e0cf4931"
      },
      "outputs": [
        {
          "output_type": "execute_result",
          "data": {
            "text/plain": [
              "(0, 1)"
            ],
            "image/png": "[encoded data removed]",
            "text/latex": "$\\displaystyle \\left( 0, \\  1\\right)$"
          },
          "metadata": {},
          "execution_count": 115
        }
      ],
      "source": [
        "log(1),log(E)"
      ]
    },
    {
      "cell_type": "code",
      "execution_count": null,
      "metadata": {
        "deletable": true,
        "editable": true,
        "colab": {
          "base_uri": "https://localhost:8080/"
        },
        "id": "fmRCkpgBvZ0D",
        "outputId": "731b709d-bfe0-46d0-adc8-6108870c5fd2"
      },
      "outputs": [
        {
          "output_type": "execute_result",
          "data": {
            "text/plain": [
              "⎛      ⎛ x⎞⎞\n",
              "⎝x, log⎝ℯ ⎠⎠"
            ],
            "image/png": "[encoded data removed]",
            "text/latex": "$\\displaystyle \\left( x, \\  \\log{\\left(e^{x} \\right)}\\right)$"
          },
          "metadata": {},
          "execution_count": 116
        }
      ],
      "source": [
        "exp(log(x)),log(exp(x))"
      ]
    },
    {
      "cell_type": "markdown",
      "metadata": {
        "deletable": true,
        "editable": true,
        "id": "T0txuvExvZ0D"
      },
      "source": [
        "А почему не $x$? Попробуйте подставить $x=2\\pi i$."
      ]
    },
    {
      "cell_type": "code",
      "execution_count": null,
      "metadata": {
        "deletable": true,
        "editable": true,
        "colab": {
          "base_uri": "https://localhost:8080/"
        },
        "id": "3OKWAnvavZ0E",
        "outputId": "31bdcdf3-588f-4adb-a445-9749bcde37e8"
      },
      "outputs": [
        {
          "output_type": "execute_result",
          "data": {
            "text/plain": [
              "0"
            ],
            "image/png": "[encoded data removed]",
            "text/latex": "$\\displaystyle 0$"
          },
          "metadata": {},
          "execution_count": 117
        }
      ],
      "source": [
        "sqrt(0)"
      ]
    },
    {
      "cell_type": "code",
      "execution_count": null,
      "metadata": {
        "deletable": true,
        "editable": true,
        "colab": {
          "base_uri": "https://localhost:8080/"
        },
        "id": "aIV_HivYvZ0E",
        "outputId": "152f5596-571d-4001-e155-dfb7e3c69ab9"
      },
      "outputs": [
        {
          "output_type": "execute_result",
          "data": {
            "text/plain": [
              "⎛       ____⎞\n",
              "⎜ 2    ╱  4 ⎟\n",
              "⎝x , ╲╱  x  ⎠"
            ],
            "image/png": "[encoded data removed]",
            "text/latex": "$\\displaystyle \\left( x^{2}, \\  \\sqrt{x^{4}}\\right)$"
          },
          "metadata": {},
          "execution_count": 118
        }
      ],
      "source": [
        "sqrt(x)**4,sqrt(x**4)"
      ]
    },
    {
      "cell_type": "markdown",
      "metadata": {
        "deletable": true,
        "editable": true,
        "id": "kKoMomt2vZ0F"
      },
      "source": [
        "А почему не $x^2$? Попробуйте подставить $x=i$.\n",
        "\n",
        "Символы могут иметь некоторые свойства. Например, они могут быть положительными. Тогда `SymPy` может сильнее упростить квадратные корни."
      ]
    },
    {
      "cell_type": "code",
      "execution_count": null,
      "metadata": {
        "deletable": true,
        "editable": true,
        "colab": {
          "base_uri": "https://localhost:8080/"
        },
        "id": "J2eCpoxhvZ0F",
        "outputId": "b534c139-9336-4078-b13e-fe5721bfc696"
      },
      "outputs": [
        {
          "output_type": "execute_result",
          "data": {
            "text/plain": [
              "p"
            ],
            "image/png": "[encoded data removed]",
            "text/latex": "$\\displaystyle p$"
          },
          "metadata": {},
          "execution_count": 119
        }
      ],
      "source": [
        "p,q=symbols('p q',positive=True)\n",
        "sqrt(p**2)"
      ]
    },
    {
      "cell_type": "code",
      "execution_count": null,
      "metadata": {
        "deletable": true,
        "editable": true,
        "colab": {
          "base_uri": "https://localhost:8080/"
        },
        "id": "h45zehyIvZ0F",
        "outputId": "83913432-1289-4fc7-d9d0-8af54a1c1c78"
      },
      "outputs": [
        {
          "output_type": "execute_result",
          "data": {
            "text/plain": [
              "⎛        ______           ⎞\n",
              "⎜       ╱  2              ⎟\n",
              "⎝2⋅√3⋅╲╱  x ⋅y , 2⋅√3⋅p⋅√y⎠"
            ],
            "image/png": "[encoded data removed]",
            "text/latex": "$\\displaystyle \\left( 2 \\sqrt{3} \\sqrt{x^{2} y}, \\  2 \\sqrt{3} p \\sqrt{y}\\right)$"
          },
          "metadata": {},
          "execution_count": 120
        }
      ],
      "source": [
        "sqrt(12*x**2*y),sqrt(12*p**2*y)"
      ]
    },
    {
      "cell_type": "markdown",
      "metadata": {
        "deletable": true,
        "editable": true,
        "id": "-PrYsT0WvZ0G"
      },
      "source": [
        "Пусть символ $n$ будет целым (`I` - это мнимая единица)."
      ]
    },
    {
      "cell_type": "code",
      "execution_count": null,
      "metadata": {
        "deletable": true,
        "editable": true,
        "colab": {
          "base_uri": "https://localhost:8080/"
        },
        "id": "cWPtDcymvZ0G",
        "outputId": "0d4f5c51-d620-4a2b-861c-aa897794eb1d"
      },
      "outputs": [
        {
          "output_type": "execute_result",
          "data": {
            "text/plain": [
              "1"
            ],
            "image/png": "[encoded data removed]",
            "text/latex": "$\\displaystyle 1$"
          },
          "metadata": {},
          "execution_count": 121
        }
      ],
      "source": [
        "n=Symbol('n',integer=True)\n",
        "simplify(exp(2*pi*I*n))"
      ]
    },
    {
      "cell_type": "code",
      "execution_count": null,
      "metadata": {
        "deletable": true,
        "editable": true,
        "colab": {
          "base_uri": "https://localhost:8080/"
        },
        "id": "q4zvCXnivZ0G",
        "outputId": "4c6802fc-9705-43c1-c4f4-6d8c63d38936"
      },
      "outputs": [
        {
          "output_type": "execute_result",
          "data": {
            "text/plain": [
              "0"
            ],
            "image/png": "[encoded data removed]",
            "text/latex": "$\\displaystyle 0$"
          },
          "metadata": {},
          "execution_count": 122
        }
      ],
      "source": [
        "sin(pi*n)"
      ]
    },
    {
      "cell_type": "markdown",
      "metadata": {
        "deletable": true,
        "editable": true,
        "id": "i887IR9BvZ0G"
      },
      "source": [
        "Метод `rewrite` пытается переписать выражение в терминах заданной функции."
      ]
    },
    {
      "cell_type": "code",
      "execution_count": null,
      "metadata": {
        "deletable": true,
        "editable": true,
        "colab": {
          "base_uri": "https://localhost:8080/"
        },
        "id": "MkvdYhPfvZ0G",
        "outputId": "1373ad78-85be-4e7a-8944-c02d7e8e1d26"
      },
      "outputs": [
        {
          "output_type": "execute_result",
          "data": {
            "text/plain": [
              "⎛ ⅈ⋅x    -ⅈ⋅x                   ⎞\n",
              "⎜ℯ      ℯ                       ⎟\n",
              "⎜──── + ─────, ⅈ⋅sin(x) + cos(x)⎟\n",
              "⎝ 2       2                     ⎠"
            ],
            "image/png": "[encoded data removed]",
            "text/latex": "$\\displaystyle \\left( \\frac{e^{i x}}{2} + \\frac{e^{- i x}}{2}, \\  i \\sin{\\left(x \\right)} + \\cos{\\left(x \\right)}\\right)$"
          },
          "metadata": {},
          "execution_count": 123
        }
      ],
      "source": [
        "cos(x).rewrite(exp),exp(I*x).rewrite(cos)"
      ]
    },
    {
      "cell_type": "code",
      "execution_count": null,
      "metadata": {
        "deletable": true,
        "editable": true,
        "colab": {
          "base_uri": "https://localhost:8080/"
        },
        "id": "qkaZuyIbvZ0G",
        "outputId": "0a8bb064-5a9c-415c-d416-11f4128a8b52"
      },
      "outputs": [
        {
          "output_type": "execute_result",
          "data": {
            "text/plain": [
              "      ⎛         ________⎞\n",
              "      ⎜        ╱      2 ⎟\n",
              "-ⅈ⋅log⎝ⅈ⋅x + ╲╱  1 - x  ⎠"
            ],
            "image/png": "[encoded data removed]",
            "text/latex": "$\\displaystyle - i \\log{\\left(i x + \\sqrt{1 - x^{2}} \\right)}$"
          },
          "metadata": {},
          "execution_count": 124
        }
      ],
      "source": [
        "asin(x).rewrite(log)"
      ]
    },
    {
      "cell_type": "markdown",
      "metadata": {
        "deletable": true,
        "editable": true,
        "id": "oBT85N2jvZ0H"
      },
      "source": [
        "Функция `trigsimp` пытается переписать тригонометрическое выражение в *наиболее простом виде*. В программах лучше использовать более специализированные функции."
      ]
    },
    {
      "cell_type": "code",
      "execution_count": null,
      "metadata": {
        "deletable": true,
        "editable": true,
        "colab": {
          "base_uri": "https://localhost:8080/"
        },
        "id": "F3O6csdDvZ0H",
        "outputId": "725f4a65-4113-4a59-ce37-0abe1fc5d5c4"
      },
      "outputs": [
        {
          "output_type": "execute_result",
          "data": {
            "text/plain": [
              "   2       \n",
              "cos (x) + 2"
            ],
            "image/png": "[encoded data removed]",
            "text/latex": "$\\displaystyle \\cos^{2}{\\left(x \\right)} + 2$"
          },
          "metadata": {},
          "execution_count": 125
        }
      ],
      "source": [
        "trigsimp(2*sin(x)**2+3*cos(x)**2)"
      ]
    },
    {
      "cell_type": "markdown",
      "metadata": {
        "deletable": true,
        "editable": true,
        "id": "H1dpUbPkvZ0H"
      },
      "source": [
        "Функция `expand_trig` разлагает синусы и косинусы сумм и кратных углов."
      ]
    },
    {
      "cell_type": "code",
      "execution_count": null,
      "metadata": {
        "deletable": true,
        "editable": true,
        "colab": {
          "base_uri": "https://localhost:8080/"
        },
        "id": "jUu3aH8QvZ0H",
        "outputId": "3cfb397b-c342-4759-a3ce-79c96568c373"
      },
      "outputs": [
        {
          "output_type": "execute_result",
          "data": {
            "text/plain": [
              "(sin(x)⋅cos(y) - sin(y)⋅cos(x), 2⋅sin(x)⋅cos(x))"
            ],
            "image/png": "[encoded data removed]",
            "text/latex": "$\\displaystyle \\left( \\sin{\\left(x \\right)} \\cos{\\left(y \\right)} - \\sin{\\left(y \\right)} \\cos{\\left(x \\right)}, \\  2 \\sin{\\left(x \\right)} \\cos{\\left(x \\right)}\\right)$"
          },
          "metadata": {},
          "execution_count": 126
        }
      ],
      "source": [
        "expand_trig(sin(x-y)),expand_trig(sin(2*x))"
      ]
    },
    {
      "cell_type": "markdown",
      "metadata": {
        "deletable": true,
        "editable": true,
        "id": "g3vbEYxQvZ0H"
      },
      "source": [
        "Чаще нужно обратное преобразование - произведений и степеней синусов и косинусов в выражения, линейные по этим функциям. Например, пусть мы работаем с отрезком ряда Фурье."
      ]
    },
    {
      "cell_type": "code",
      "execution_count": null,
      "metadata": {
        "deletable": true,
        "editable": true,
        "colab": {
          "base_uri": "https://localhost:8080/"
        },
        "id": "J5QUXTayvZ0I",
        "outputId": "68715ce6-6905-49f8-84c6-8765b13766b5"
      },
      "outputs": [
        {
          "output_type": "execute_result",
          "data": {
            "text/plain": [
              "a₁⋅cos(x) + a₂⋅cos(2⋅x) + b₁⋅sin(x) + b₂⋅sin(2⋅x)"
            ],
            "image/png": "[encoded data removed]",
            "text/latex": "$\\displaystyle a_{1} \\cos{\\left(x \\right)} + a_{2} \\cos{\\left(2 x \\right)} + b_{1} \\sin{\\left(x \\right)} + b_{2} \\sin{\\left(2 x \\right)}$"
          },
          "metadata": {},
          "execution_count": 127
        }
      ],
      "source": [
        "a1,a2,b1,b2=symbols('a1 a2 b1 b2')\n",
        "a=a1*cos(x)+a2*cos(2*x)+b1*sin(x)+b2*sin(2*x)\n",
        "a"
      ]
    },
    {
      "cell_type": "markdown",
      "metadata": {
        "deletable": true,
        "editable": true,
        "id": "x-n30gk5vZ0I"
      },
      "source": [
        "Мы хотим возвести его в квадрат и опять получить отрезок ряда Фурье."
      ]
    },
    {
      "cell_type": "code",
      "execution_count": null,
      "metadata": {
        "deletable": true,
        "editable": true,
        "colab": {
          "base_uri": "https://localhost:8080/"
        },
        "id": "dpqAR8xdvZ0I",
        "outputId": "6cb04d12-836a-42ac-ebdb-8b2877144804"
      },
      "outputs": [
        {
          "output_type": "execute_result",
          "data": {
            "text/plain": [
              "  2              2                                                            \n",
              "a₁ ⋅cos(2⋅x)   a₁                                                             \n",
              "──────────── + ─── + a₁⋅a₂⋅cos(x) + a₁⋅a₂⋅cos(3⋅x) + a₁⋅b₁⋅sin(2⋅x) + a₁⋅b₂⋅si\n",
              "     2          2                                                             \n",
              "\n",
              "                          2              2                                    \n",
              "                        a₂ ⋅cos(4⋅x)   a₂                                     \n",
              "n(x) + a₁⋅b₂⋅sin(3⋅x) + ──────────── + ─── - a₂⋅b₁⋅sin(x) + a₂⋅b₁⋅sin(3⋅x) + a\n",
              "                             2          2                                     \n",
              "\n",
              "                  2              2                                     2      \n",
              "                b₁ ⋅cos(2⋅x)   b₁                                    b₂ ⋅cos(4\n",
              "₂⋅b₂⋅sin(4⋅x) - ──────────── + ─── + b₁⋅b₂⋅cos(x) - b₁⋅b₂⋅cos(3⋅x) - ─────────\n",
              "                     2          2                                         2   \n",
              "\n",
              "        2\n",
              "⋅x)   b₂ \n",
              "─── + ───\n",
              "       2 "
            ],
            "image/png": "[encoded data removed]",
            "text/latex": "$\\displaystyle \\frac{a_{1}^{2} \\cos{\\left(2 x \\right)}}{2} + \\frac{a_{1}^{2}}{2} + a_{1} a_{2} \\cos{\\left(x \\right)} + a_{1} a_{2} \\cos{\\left(3 x \\right)} + a_{1} b_{1} \\sin{\\left(2 x \\right)} + a_{1} b_{2} \\sin{\\left(x \\right)} + a_{1} b_{2} \\sin{\\left(3 x \\right)} + \\frac{a_{2}^{2} \\cos{\\left(4 x \\right)}}{2} + \\frac{a_{2}^{2}}{2} - a_{2} b_{1} \\sin{\\left(x \\right)} + a_{2} b_{1} \\sin{\\left(3 x \\right)} + a_{2} b_{2} \\sin{\\left(4 x \\right)} - \\frac{b_{1}^{2} \\cos{\\left(2 x \\right)}}{2} + \\frac{b_{1}^{2}}{2} + b_{1} b_{2} \\cos{\\left(x \\right)} - b_{1} b_{2} \\cos{\\left(3 x \\right)} - \\frac{b_{2}^{2} \\cos{\\left(4 x \\right)}}{2} + \\frac{b_{2}^{2}}{2}$"
          },
          "metadata": {},
          "execution_count": 128
        }
      ],
      "source": [
        "a=(a**2).rewrite(exp).expand().rewrite(cos).expand()\n",
        "a"
      ]
    },
    {
      "cell_type": "code",
      "execution_count": null,
      "metadata": {
        "deletable": true,
        "editable": true,
        "colab": {
          "base_uri": "https://localhost:8080/"
        },
        "id": "gGRXmzTJvZ0I",
        "outputId": "7147a73b-a3f8-4c71-f4f2-17ae41ac080e"
      },
      "outputs": [
        {
          "output_type": "execute_result",
          "data": {
            "text/plain": [
              "  2                      2              2                      2     2        \n",
              "a₁                     a₂ ⋅cos(4⋅x)   a₂                     b₁    b₂ ⋅cos(4⋅x\n",
              "─── + a₁⋅b₁⋅sin(2⋅x) + ──────────── + ─── + a₂⋅b₂⋅sin(4⋅x) + ─── - ───────────\n",
              " 2                          2          2                      2         2     \n",
              "\n",
              "      2   ⎛  2     2⎞                                                         \n",
              ")   b₂    ⎜a₁    b₁ ⎟                                                         \n",
              "─ + ─── + ⎜─── - ───⎟⋅cos(2⋅x) + (a₁⋅a₂ - b₁⋅b₂)⋅cos(3⋅x) + (a₁⋅a₂ + b₁⋅b₂)⋅co\n",
              "     2    ⎝ 2     2 ⎠                                                         \n",
              "\n",
              "                                                        \n",
              "                                                        \n",
              "s(x) + (a₁⋅b₂ - a₂⋅b₁)⋅sin(x) + (a₁⋅b₂ + a₂⋅b₁)⋅sin(3⋅x)\n",
              "                                                        "
            ],
            "image/png": "[encoded data removed]",
            "text/latex": "$\\displaystyle \\frac{a_{1}^{2}}{2} + a_{1} b_{1} \\sin{\\left(2 x \\right)} + \\frac{a_{2}^{2} \\cos{\\left(4 x \\right)}}{2} + \\frac{a_{2}^{2}}{2} + a_{2} b_{2} \\sin{\\left(4 x \\right)} + \\frac{b_{1}^{2}}{2} - \\frac{b_{2}^{2} \\cos{\\left(4 x \\right)}}{2} + \\frac{b_{2}^{2}}{2} + \\left(\\frac{a_{1}^{2}}{2} - \\frac{b_{1}^{2}}{2}\\right) \\cos{\\left(2 x \\right)} + \\left(a_{1} a_{2} - b_{1} b_{2}\\right) \\cos{\\left(3 x \\right)} + \\left(a_{1} a_{2} + b_{1} b_{2}\\right) \\cos{\\left(x \\right)} + \\left(a_{1} b_{2} - a_{2} b_{1}\\right) \\sin{\\left(x \\right)} + \\left(a_{1} b_{2} + a_{2} b_{1}\\right) \\sin{\\left(3 x \\right)}$"
          },
          "metadata": {},
          "execution_count": 129
        }
      ],
      "source": [
        "a.collect([cos(x),cos(2*x),cos(3*x),sin(x),sin(2*x),sin(3*x)])"
      ]
    },
    {
      "cell_type": "markdown",
      "metadata": {
        "deletable": true,
        "editable": true,
        "id": "0H-UoYHRvZ0I"
      },
      "source": [
        "Функция `expand_log` преобразует логарифмы произведений и степеней в суммы логарифмов (только для положительных величин); `logcombine` производит обратное преобразование."
      ]
    },
    {
      "cell_type": "code",
      "execution_count": null,
      "metadata": {
        "deletable": true,
        "editable": true,
        "colab": {
          "base_uri": "https://localhost:8080/"
        },
        "id": "QzZ67rwAvZ0J",
        "outputId": "f9a4c03d-be3e-4021-b25e-4f40ab303d97"
      },
      "outputs": [
        {
          "output_type": "execute_result",
          "data": {
            "text/plain": [
              "log(p) + 2⋅log(q)"
            ],
            "image/png": "[encoded data removed]",
            "text/latex": "$\\displaystyle \\log{\\left(p \\right)} + 2 \\log{\\left(q \\right)}$"
          },
          "metadata": {},
          "execution_count": 130
        }
      ],
      "source": [
        "a=expand_log(log(p*q**2))\n",
        "a"
      ]
    },
    {
      "cell_type": "code",
      "execution_count": null,
      "metadata": {
        "deletable": true,
        "editable": true,
        "colab": {
          "base_uri": "https://localhost:8080/"
        },
        "id": "JVnHMyUpvZ0J",
        "outputId": "3b7a10f1-ff57-4551-8a12-db4c3b0bd82f"
      },
      "outputs": [
        {
          "output_type": "execute_result",
          "data": {
            "text/plain": [
              "   ⎛   2⎞\n",
              "log⎝p⋅q ⎠"
            ],
            "image/png": "[encoded data removed]",
            "text/latex": "$\\displaystyle \\log{\\left(p q^{2} \\right)}$"
          },
          "metadata": {},
          "execution_count": 131
        }
      ],
      "source": [
        "logcombine(a)"
      ]
    },
    {
      "cell_type": "markdown",
      "metadata": {
        "collapsed": false,
        "deletable": true,
        "editable": true,
        "id": "g6RkkygKvZ0J"
      },
      "source": [
        "Функция `expand_power_exp` переписывает степени, показатели которых - суммы, через произведения степеней."
      ]
    },
    {
      "cell_type": "code",
      "execution_count": null,
      "metadata": {
        "deletable": true,
        "editable": true,
        "colab": {
          "base_uri": "https://localhost:8080/"
        },
        "id": "uDZ4hrazvZ0J",
        "outputId": "4a6ee35a-64b3-4d5d-d6bf-125ae471d6a9"
      },
      "outputs": [
        {
          "output_type": "execute_result",
          "data": {
            "text/plain": [
              " p  q\n",
              "x ⋅x "
            ],
            "image/png": "[encoded data removed]",
            "text/latex": "$\\displaystyle x^{p} x^{q}$"
          },
          "metadata": {},
          "execution_count": 132
        }
      ],
      "source": [
        "expand_power_exp(x**(p+q))"
      ]
    },
    {
      "cell_type": "markdown",
      "metadata": {
        "deletable": true,
        "editable": true,
        "id": "hZmUrC0gvZ0J"
      },
      "source": [
        "Функция `expand_power_base` переписывает степени, основания которых - произведения, через произведения степеней."
      ]
    },
    {
      "cell_type": "code",
      "execution_count": null,
      "metadata": {
        "deletable": true,
        "editable": true,
        "colab": {
          "base_uri": "https://localhost:8080/"
        },
        "id": "qfszxnJDvZ0K",
        "outputId": "2028a3e7-4a13-41d8-f94f-e18f7b17bb3d"
      },
      "outputs": [
        {
          "output_type": "execute_result",
          "data": {
            "text/plain": [
              " n  n\n",
              "x ⋅y "
            ],
            "image/png": "[encoded data removed]",
            "text/latex": "$\\displaystyle x^{n} y^{n}$"
          },
          "metadata": {},
          "execution_count": 133
        }
      ],
      "source": [
        "expand_power_base((x*y)**n)"
      ]
    },
    {
      "cell_type": "markdown",
      "metadata": {
        "deletable": true,
        "editable": true,
        "id": "azBNQlduvZ0K"
      },
      "source": [
        "Функция `powsimp` выполняет обратные преобразования."
      ]
    },
    {
      "cell_type": "code",
      "execution_count": null,
      "metadata": {
        "deletable": true,
        "editable": true,
        "colab": {
          "base_uri": "https://localhost:8080/"
        },
        "id": "hqu23xQ0vZ0K",
        "outputId": "175ed183-5a94-4dad-f25a-eaa37b070002"
      },
      "outputs": [
        {
          "output_type": "execute_result",
          "data": {
            "text/plain": [
              "⎛ x + 2⋅y       n⎞\n",
              "⎝ℯ       , (x⋅y) ⎠"
            ],
            "image/png": "[encoded data removed]",
            "text/latex": "$\\displaystyle \\left( e^{x + 2 y}, \\  \\left(x y\\right)^{n}\\right)$"
          },
          "metadata": {},
          "execution_count": 134
        }
      ],
      "source": [
        "powsimp(exp(x)*exp(2*y)),powsimp(x**n*y**n)"
      ]
    },
    {
      "cell_type": "markdown",
      "metadata": {
        "deletable": true,
        "editable": true,
        "id": "XYok8DkjvZ0K"
      },
      "source": [
        "Можно вводить функции пользователя. Они могут иметь произвольное число аргументов."
      ]
    },
    {
      "cell_type": "code",
      "execution_count": null,
      "metadata": {
        "deletable": true,
        "editable": true,
        "colab": {
          "base_uri": "https://localhost:8080/"
        },
        "id": "2evjfGwIvZ0K",
        "outputId": "6b299d8f-5b84-4e18-b781-6a66ebe3999e"
      },
      "outputs": [
        {
          "output_type": "execute_result",
          "data": {
            "text/plain": [
              "f(x) + f(x, y)"
            ],
            "image/png": "[encoded data removed]",
            "text/latex": "$\\displaystyle f{\\left(x \\right)} + f{\\left(x,y \\right)}$"
          },
          "metadata": {},
          "execution_count": 135
        }
      ],
      "source": [
        "f=Function('f')\n",
        "f(x)+f(x,y)"
      ]
    },
    {
      "cell_type": "markdown",
      "metadata": {
        "deletable": true,
        "editable": true,
        "id": "__uJrBPRvZ0L"
      },
      "source": [
        "## Структура выражений\n",
        "\n",
        "Внутреннее представление выражения - это дерево. Функция `srepr` возвращает строку, представляющую его."
      ]
    },
    {
      "cell_type": "code",
      "execution_count": null,
      "metadata": {
        "deletable": true,
        "editable": true,
        "colab": {
          "base_uri": "https://localhost:8080/"
        },
        "id": "ljn7DJJWvZ0L",
        "outputId": "9afba5b9-87cc-43b5-c0db-e059130c47db"
      },
      "outputs": [
        {
          "output_type": "execute_result",
          "data": {
            "text/plain": [
              "\"Add(Symbol('x'), Integer(1))\""
            ],
            "application/vnd.google.colaboratory.intrinsic+json": {
              "type": "string"
            }
          },
          "metadata": {},
          "execution_count": 136
        }
      ],
      "source": [
        "srepr(x+1)"
      ]
    },
    {
      "cell_type": "code",
      "execution_count": null,
      "metadata": {
        "deletable": true,
        "editable": true,
        "colab": {
          "base_uri": "https://localhost:8080/"
        },
        "id": "DV5JoLIavZ0L",
        "outputId": "635f2d87-011e-4052-d71b-c2a6cbedd4fb"
      },
      "outputs": [
        {
          "output_type": "execute_result",
          "data": {
            "text/plain": [
              "\"Add(Symbol('x'), Integer(-1))\""
            ],
            "application/vnd.google.colaboratory.intrinsic+json": {
              "type": "string"
            }
          },
          "metadata": {},
          "execution_count": 137
        }
      ],
      "source": [
        "srepr(x-1)"
      ]
    },
    {
      "cell_type": "code",
      "execution_count": null,
      "metadata": {
        "deletable": true,
        "editable": true,
        "colab": {
          "base_uri": "https://localhost:8080/"
        },
        "id": "D3cub7lyvZ0L",
        "outputId": "07987138-9dbc-421a-fd3e-27e645c13ebe"
      },
      "outputs": [
        {
          "output_type": "execute_result",
          "data": {
            "text/plain": [
              "\"Add(Symbol('x'), Mul(Integer(-1), Symbol('y')))\""
            ],
            "application/vnd.google.colaboratory.intrinsic+json": {
              "type": "string"
            }
          },
          "metadata": {},
          "execution_count": 138
        }
      ],
      "source": [
        "srepr(x-y)"
      ]
    },
    {
      "cell_type": "code",
      "execution_count": null,
      "metadata": {
        "deletable": true,
        "editable": true,
        "colab": {
          "base_uri": "https://localhost:8080/"
        },
        "id": "VXtFHsSAvZ0L",
        "outputId": "f90789b6-93cc-48a8-8b00-c487ce77fdcc"
      },
      "outputs": [
        {
          "output_type": "execute_result",
          "data": {
            "text/plain": [
              "\"Mul(Rational(2, 3), Symbol('x'), Symbol('y'))\""
            ],
            "application/vnd.google.colaboratory.intrinsic+json": {
              "type": "string"
            }
          },
          "metadata": {},
          "execution_count": 139
        }
      ],
      "source": [
        "srepr(2*x*y/3)"
      ]
    },
    {
      "cell_type": "code",
      "execution_count": null,
      "metadata": {
        "deletable": true,
        "editable": true,
        "colab": {
          "base_uri": "https://localhost:8080/"
        },
        "id": "-_k6C0ClvZ0M",
        "outputId": "ab4e6631-7352-4049-b1a2-5446bfe011cc"
      },
      "outputs": [
        {
          "output_type": "execute_result",
          "data": {
            "text/plain": [
              "\"Mul(Symbol('x'), Pow(Symbol('y'), Integer(-1)))\""
            ],
            "application/vnd.google.colaboratory.intrinsic+json": {
              "type": "string"
            }
          },
          "metadata": {},
          "execution_count": 140
        }
      ],
      "source": [
        "srepr(x/y)"
      ]
    },
    {
      "cell_type": "markdown",
      "metadata": {
        "deletable": true,
        "editable": true,
        "id": "pVkgff9yvZ0M"
      },
      "source": [
        "Вместо бинарных операций `+`, `*`, `**` и т.д. можно использовать функции `Add`, `Mul`, `Pow` и т.д."
      ]
    },
    {
      "cell_type": "code",
      "execution_count": null,
      "metadata": {
        "deletable": true,
        "editable": true,
        "colab": {
          "base_uri": "https://localhost:8080/"
        },
        "id": "yljXU7rdvZ0M",
        "outputId": "edc665b7-fe05-4446-d7a8-cd695f060473"
      },
      "outputs": [
        {
          "output_type": "execute_result",
          "data": {
            "text/plain": [
              "True"
            ]
          },
          "metadata": {},
          "execution_count": 141
        }
      ],
      "source": [
        "Mul(x,Pow(y,-1))==x/y"
      ]
    },
    {
      "cell_type": "code",
      "execution_count": null,
      "metadata": {
        "deletable": true,
        "editable": true,
        "colab": {
          "base_uri": "https://localhost:8080/"
        },
        "id": "GMltqioWvZ0M",
        "outputId": "64bab9d3-0787-45df-f427-6724e09a9772"
      },
      "outputs": [
        {
          "output_type": "execute_result",
          "data": {
            "text/plain": [
              "\"Function('f')(Symbol('x'), Symbol('y'))\""
            ],
            "application/vnd.google.colaboratory.intrinsic+json": {
              "type": "string"
            }
          },
          "metadata": {},
          "execution_count": 142
        }
      ],
      "source": [
        "srepr(f(x,y))"
      ]
    },
    {
      "cell_type": "markdown",
      "metadata": {
        "deletable": true,
        "editable": true,
        "id": "AUqxWg2-vZ0M"
      },
      "source": [
        "Атрибут `func` - это функция верхнего уровня в выражении, а `args` - список её аргументов."
      ]
    },
    {
      "cell_type": "code",
      "execution_count": null,
      "metadata": {
        "deletable": true,
        "editable": true,
        "colab": {
          "base_uri": "https://localhost:8080/"
        },
        "id": "V4GYnMapvZ0N",
        "outputId": "61903b5b-eea4-4209-9b14-2426f820e271"
      },
      "outputs": [
        {
          "output_type": "execute_result",
          "data": {
            "text/plain": [
              "sympy.core.mul.Mul"
            ]
          },
          "metadata": {},
          "execution_count": 143
        }
      ],
      "source": [
        "a=2*x*y**2\n",
        "a.func"
      ]
    },
    {
      "cell_type": "code",
      "execution_count": null,
      "metadata": {
        "deletable": true,
        "editable": true,
        "colab": {
          "base_uri": "https://localhost:8080/"
        },
        "id": "AUJfwWqJvZ0N",
        "outputId": "5ddce197-741b-410d-ecd2-b499ad74bbb3"
      },
      "outputs": [
        {
          "output_type": "execute_result",
          "data": {
            "text/plain": [
              "⎛       2⎞\n",
              "⎝2, x, y ⎠"
            ],
            "image/png": "[encoded data removed]",
            "text/latex": "$\\displaystyle \\left( 2, \\  x, \\  y^{2}\\right)$"
          },
          "metadata": {},
          "execution_count": 144
        }
      ],
      "source": [
        "a.args"
      ]
    },
    {
      "cell_type": "code",
      "execution_count": null,
      "metadata": {
        "deletable": true,
        "editable": true,
        "colab": {
          "base_uri": "https://localhost:8080/"
        },
        "id": "fUn0ET3wvZ0N",
        "outputId": "64ab3c86-aec2-4181-8a46-bd64f315ccfb"
      },
      "outputs": [
        {
          "output_type": "execute_result",
          "data": {
            "text/plain": [
              "2"
            ],
            "image/png": "[encoded data removed]",
            "text/latex": "$\\displaystyle 2$"
          },
          "metadata": {},
          "execution_count": 145
        }
      ],
      "source": [
        "a.args[0]"
      ]
    },
    {
      "cell_type": "code",
      "execution_count": null,
      "metadata": {
        "deletable": true,
        "editable": true,
        "colab": {
          "base_uri": "https://localhost:8080/"
        },
        "id": "eZCtJmwavZ0N",
        "outputId": "2f714d01-b473-48f8-e733-41d253a2cca0"
      },
      "outputs": [
        {
          "output_type": "stream",
          "name": "stdout",
          "text": [
            "2\n",
            "x\n",
            "y**2\n"
          ]
        }
      ],
      "source": [
        "for i in a.args:\n",
        "    print(i)"
      ]
    },
    {
      "cell_type": "markdown",
      "metadata": {
        "deletable": true,
        "editable": true,
        "id": "BCsMTy2evZ0N"
      },
      "source": [
        "Функция `subs` заменяет переменную на выражение."
      ]
    },
    {
      "cell_type": "code",
      "execution_count": null,
      "metadata": {
        "deletable": true,
        "editable": true,
        "colab": {
          "base_uri": "https://localhost:8080/"
        },
        "id": "Qau7V7I6vZ0N",
        "outputId": "c82c38d0-f03f-4ed3-cceb-e28d95a7187f"
      },
      "outputs": [
        {
          "output_type": "execute_result",
          "data": {
            "text/plain": [
              "8⋅x"
            ],
            "image/png": "[encoded data removed]",
            "text/latex": "$\\displaystyle 8 x$"
          },
          "metadata": {},
          "execution_count": 147
        }
      ],
      "source": [
        "a.subs(y,2)"
      ]
    },
    {
      "cell_type": "markdown",
      "metadata": {
        "deletable": true,
        "editable": true,
        "id": "ZkAQ8RLBvZ0O"
      },
      "source": [
        "Она можнет заменить несколько переменных. Для этого ей передаётся список кортежей или словарь."
      ]
    },
    {
      "cell_type": "code",
      "execution_count": null,
      "metadata": {
        "deletable": true,
        "editable": true,
        "colab": {
          "base_uri": "https://localhost:8080/"
        },
        "id": "slsfs00fvZ0O",
        "outputId": "119ff1b4-0224-45d7-87f7-a8e2dcf6e926"
      },
      "outputs": [
        {
          "output_type": "execute_result",
          "data": {
            "text/plain": [
              "8⋅π"
            ],
            "image/png": "[encoded data removed]",
            "text/latex": "$\\displaystyle 8 \\pi$"
          },
          "metadata": {},
          "execution_count": 148
        }
      ],
      "source": [
        "a.subs([(x,pi),(y,2)])"
      ]
    },
    {
      "cell_type": "code",
      "execution_count": null,
      "metadata": {
        "deletable": true,
        "editable": true,
        "colab": {
          "base_uri": "https://localhost:8080/"
        },
        "id": "KXcTJUc9vZ0O",
        "outputId": "645df56e-b603-4100-c5c1-916f96666650"
      },
      "outputs": [
        {
          "output_type": "execute_result",
          "data": {
            "text/plain": [
              "8⋅π"
            ],
            "image/png": "[encoded data removed]",
            "text/latex": "$\\displaystyle 8 \\pi$"
          },
          "metadata": {},
          "execution_count": 149
        }
      ],
      "source": [
        "a.subs({x:pi,y:2})"
      ]
    },
    {
      "cell_type": "markdown",
      "metadata": {
        "deletable": true,
        "editable": true,
        "id": "qxufCM5AvZ0O"
      },
      "source": [
        "Она может заменить не переменную, а подвыражение - функцию с аргументами."
      ]
    },
    {
      "cell_type": "code",
      "execution_count": null,
      "metadata": {
        "deletable": true,
        "editable": true,
        "colab": {
          "base_uri": "https://localhost:8080/"
        },
        "id": "ds2x1EuFvZ0O",
        "outputId": "c3af5994-72a9-494e-a4dc-922f601d7255"
      },
      "outputs": [
        {
          "output_type": "execute_result",
          "data": {
            "text/plain": [
              "f(x) + 1"
            ],
            "image/png": "[encoded data removed]",
            "text/latex": "$\\displaystyle f{\\left(x \\right)} + 1$"
          },
          "metadata": {},
          "execution_count": 150
        }
      ],
      "source": [
        "a=f(x)+f(y)\n",
        "a.subs(f(y),1)"
      ]
    },
    {
      "cell_type": "code",
      "execution_count": null,
      "metadata": {
        "deletable": true,
        "editable": true,
        "colab": {
          "base_uri": "https://localhost:8080/"
        },
        "id": "DF9Hbfq1vZ0O",
        "outputId": "df2ade4c-059b-4a6b-b316-3bafe4260afc"
      },
      "outputs": [
        {
          "output_type": "execute_result",
          "data": {
            "text/plain": [
              "   2\n",
              "2⋅z "
            ],
            "image/png": "[encoded data removed]",
            "text/latex": "$\\displaystyle 2 z^{2}$"
          },
          "metadata": {},
          "execution_count": 151
        }
      ],
      "source": [
        "(2*x*y*z).subs(x*y,z)"
      ]
    },
    {
      "cell_type": "code",
      "execution_count": null,
      "metadata": {
        "deletable": true,
        "editable": true,
        "colab": {
          "base_uri": "https://localhost:8080/"
        },
        "id": "cDiLmvnHvZ0P",
        "outputId": "37244544-1557-4770-a0a1-a926f7a3cf1a"
      },
      "outputs": [
        {
          "output_type": "execute_result",
          "data": {
            "text/plain": [
              " 3        2    \n",
              "x  + x + y  + y"
            ],
            "image/png": "[encoded data removed]",
            "text/latex": "$\\displaystyle x^{3} + x + y^{2} + y$"
          },
          "metadata": {},
          "execution_count": 152
        }
      ],
      "source": [
        "(x+x**2+x**3+x**4).subs(x**2,y)"
      ]
    },
    {
      "cell_type": "markdown",
      "metadata": {
        "deletable": true,
        "editable": true,
        "id": "LfSoqzAAvZ0P"
      },
      "source": [
        "Подстановки производятся последовательно. В данном случае сначала $x$ заменился на $y$, получилось $y^3+y^2$; потом в этом результате $y$ заменилось на $x$."
      ]
    },
    {
      "cell_type": "code",
      "execution_count": null,
      "metadata": {
        "deletable": true,
        "editable": true,
        "colab": {
          "base_uri": "https://localhost:8080/"
        },
        "id": "ckotRcnhvZ0P",
        "outputId": "46d71199-c003-4776-c38a-093eaac862c6"
      },
      "outputs": [
        {
          "output_type": "execute_result",
          "data": {
            "text/plain": [
              " 3    2\n",
              "x  + x "
            ],
            "image/png": "[encoded data removed]",
            "text/latex": "$\\displaystyle x^{3} + x^{2}$"
          },
          "metadata": {},
          "execution_count": 153
        }
      ],
      "source": [
        "a=x**2+y**3\n",
        "a.subs([(x,y),(y,x)])"
      ]
    },
    {
      "cell_type": "markdown",
      "metadata": {
        "deletable": true,
        "editable": true,
        "id": "PsqFvkZXvZ0P"
      },
      "source": [
        "Если написать эти подстановки в другом порядке, результат будет другим."
      ]
    },
    {
      "cell_type": "code",
      "execution_count": null,
      "metadata": {
        "deletable": true,
        "editable": true,
        "colab": {
          "base_uri": "https://localhost:8080/"
        },
        "id": "taIwSBFwvZ0P",
        "outputId": "b7a5e44f-e294-4d0a-b65a-1f3ffa685771"
      },
      "outputs": [
        {
          "output_type": "execute_result",
          "data": {
            "text/plain": [
              " 3    2\n",
              "y  + y "
            ],
            "image/png": "[encoded data removed]",
            "text/latex": "$\\displaystyle y^{3} + y^{2}$"
          },
          "metadata": {},
          "execution_count": 154
        }
      ],
      "source": [
        "a.subs([(y,x),(x,y)])"
      ]
    },
    {
      "cell_type": "markdown",
      "metadata": {
        "deletable": true,
        "editable": true,
        "id": "YihlHbMrvZ0Q"
      },
      "source": [
        "Но можно передать функции `subs` ключевой параметр `simultaneous=True`, тогда подстановки будут производиться одновременно. Таким образом можно, например, поменять местами $x$ и $y$."
      ]
    },
    {
      "cell_type": "code",
      "execution_count": null,
      "metadata": {
        "deletable": true,
        "editable": true,
        "colab": {
          "base_uri": "https://localhost:8080/"
        },
        "id": "BLoyCS2PvZ0Q",
        "outputId": "671aa8cf-aa45-4573-e08c-bf11e31c9d4c"
      },
      "outputs": [
        {
          "output_type": "execute_result",
          "data": {
            "text/plain": [
              " 3    2\n",
              "x  + y "
            ],
            "image/png": "[encoded data removed]",
            "text/latex": "$\\displaystyle x^{3} + y^{2}$"
          },
          "metadata": {},
          "execution_count": 155
        }
      ],
      "source": [
        "a.subs([(x,y),(y,x)],simultaneous=True)"
      ]
    },
    {
      "cell_type": "markdown",
      "metadata": {
        "deletable": true,
        "editable": true,
        "id": "wdMx3LJCvZ0Q"
      },
      "source": [
        "Можно заменить функцию на другую функцию."
      ]
    },
    {
      "cell_type": "code",
      "execution_count": null,
      "metadata": {
        "deletable": true,
        "editable": true,
        "colab": {
          "base_uri": "https://localhost:8080/"
        },
        "id": "aeSDfc3WvZ0Q",
        "outputId": "69c2e7bc-d2f9-4355-c9ed-0c44bf2b2a4c"
      },
      "outputs": [
        {
          "output_type": "execute_result",
          "data": {
            "text/plain": [
              "g(x) + g(y)"
            ],
            "image/png": "[encoded data removed]",
            "text/latex": "$\\displaystyle g{\\left(x \\right)} + g{\\left(y \\right)}$"
          },
          "metadata": {},
          "execution_count": 156
        }
      ],
      "source": [
        "g=Function('g')\n",
        "a=f(x)+f(y)\n",
        "a.subs(f,g)"
      ]
    },
    {
      "cell_type": "markdown",
      "metadata": {
        "deletable": true,
        "editable": true,
        "id": "tIjmdsQuvZ0R"
      },
      "source": [
        "Метод `replace` ищет подвыражения, соответствующие образцу (содержащему произвольные переменные), и заменяет их на заданное выражение (оно может содержать те же произвольные переменные)."
      ]
    },
    {
      "cell_type": "code",
      "execution_count": null,
      "metadata": {
        "deletable": true,
        "editable": true,
        "colab": {
          "base_uri": "https://localhost:8080/"
        },
        "id": "8rBQ4JjBvZ0R",
        "outputId": "502ae60b-3806-4bbe-b34c-44f0346ac84a"
      },
      "outputs": [
        {
          "output_type": "execute_result",
          "data": {
            "text/plain": [
              " 2          2\n",
              "x  + (x + y) "
            ],
            "image/png": "[encoded data removed]",
            "text/latex": "$\\displaystyle x^{2} + \\left(x + y\\right)^{2}$"
          },
          "metadata": {},
          "execution_count": 157
        }
      ],
      "source": [
        "a=Wild('a')\n",
        "(f(x)+f(x+y)).replace(f(a),a**2)"
      ]
    },
    {
      "cell_type": "code",
      "execution_count": null,
      "metadata": {
        "deletable": true,
        "editable": true,
        "colab": {
          "base_uri": "https://localhost:8080/"
        },
        "id": "mSIY5VeDvZ0R",
        "outputId": "13b74bc9-5d87-447e-c540-df92df62c436"
      },
      "outputs": [
        {
          "output_type": "execute_result",
          "data": {
            "text/plain": [
              " 2          \n",
              "x  + f(x, y)"
            ],
            "image/png": "[encoded data removed]",
            "text/latex": "$\\displaystyle x^{2} + f{\\left(x,y \\right)}$"
          },
          "metadata": {},
          "execution_count": 158
        }
      ],
      "source": [
        "(f(x,x)+f(x,y)).replace(f(a,a),a**2)"
      ]
    },
    {
      "cell_type": "code",
      "execution_count": null,
      "metadata": {
        "deletable": true,
        "editable": true,
        "colab": {
          "base_uri": "https://localhost:8080/"
        },
        "id": "hDgQRcfpvZ0R",
        "outputId": "47bdb932-1c8f-4f4d-ec28-d77083178538"
      },
      "outputs": [
        {
          "output_type": "execute_result",
          "data": {
            "text/plain": [
              " 2          2\n",
              "y  + (x + 1) "
            ],
            "image/png": "[encoded data removed]",
            "text/latex": "$\\displaystyle y^{2} + \\left(x + 1\\right)^{2}$"
          },
          "metadata": {},
          "execution_count": 159
        }
      ],
      "source": [
        "a=x**2+y**2\n",
        "a.replace(x,x+1)"
      ]
    },
    {
      "cell_type": "markdown",
      "metadata": {
        "deletable": true,
        "editable": true,
        "id": "BIckomS5vZ0R"
      },
      "source": [
        "Соответствовать образцу должно целое подвыражение, это не может быть часть сомножителей в произведении или меньшая степеть в большей."
      ]
    },
    {
      "cell_type": "code",
      "execution_count": null,
      "metadata": {
        "deletable": true,
        "editable": true,
        "colab": {
          "base_uri": "https://localhost:8080/"
        },
        "id": "AUYX31awvZ0S",
        "outputId": "cb6a379e-f198-4d58-817a-cacd7038a6b5"
      },
      "outputs": [
        {
          "output_type": "execute_result",
          "data": {
            "text/plain": [
              "2⋅x⋅y⋅z"
            ],
            "image/png": "[encoded data removed]",
            "text/latex": "$\\displaystyle 2 x y z$"
          },
          "metadata": {},
          "execution_count": 160
        }
      ],
      "source": [
        "a=2*x*y*z\n",
        "a.replace(x*y,z)"
      ]
    },
    {
      "cell_type": "code",
      "execution_count": null,
      "metadata": {
        "deletable": true,
        "editable": true,
        "colab": {
          "base_uri": "https://localhost:8080/"
        },
        "id": "oVXP2C_9vZ0S",
        "outputId": "35fc0e39-70bf-409e-d602-20a4469619fd"
      },
      "outputs": [
        {
          "output_type": "execute_result",
          "data": {
            "text/plain": [
              " 4    3        \n",
              "x  + x  + x + y"
            ],
            "image/png": "[encoded data removed]",
            "text/latex": "$\\displaystyle x^{4} + x^{3} + x + y$"
          },
          "metadata": {},
          "execution_count": 161
        }
      ],
      "source": [
        "(x+x**2+x**3+x**4).replace(x**2,y)"
      ]
    },
    {
      "cell_type": "markdown",
      "metadata": {
        "deletable": true,
        "editable": true,
        "id": "7BkNVY4svZ0S"
      },
      "source": [
        "## Решение уравнений"
      ]
    },
    {
      "cell_type": "code",
      "execution_count": null,
      "metadata": {
        "collapsed": true,
        "deletable": true,
        "editable": true,
        "id": "oFYk0KGSvZ0S"
      },
      "outputs": [],
      "source": [
        "a,b,c,d,e,f=symbols('a b c d e f')"
      ]
    },
    {
      "cell_type": "markdown",
      "metadata": {
        "deletable": true,
        "editable": true,
        "id": "aYf3RdwhvZ0S"
      },
      "source": [
        "Уравнение записывается как функция `Eq` с двумя параметрами. Функция `solve` возврящает список решений."
      ]
    },
    {
      "cell_type": "code",
      "execution_count": null,
      "metadata": {
        "deletable": true,
        "editable": true,
        "colab": {
          "base_uri": "https://localhost:8080/"
        },
        "id": "LdylVEeRvZ0T",
        "outputId": "edc8fe09-15cf-44f5-c215-1a3b35d30db2"
      },
      "outputs": [
        {
          "output_type": "execute_result",
          "data": {
            "text/plain": [
              "⎡b⎤\n",
              "⎢─⎥\n",
              "⎣a⎦"
            ],
            "image/png": "[encoded data removed]",
            "text/latex": "$\\displaystyle \\left[ \\frac{b}{a}\\right]$"
          },
          "metadata": {},
          "execution_count": 163
        }
      ],
      "source": [
        "solve(Eq(a*x,b),x)"
      ]
    },
    {
      "cell_type": "markdown",
      "metadata": {
        "deletable": true,
        "editable": true,
        "id": "fNrpq-xPvZ0T"
      },
      "source": [
        "Впрочем, можно передать функции `solve` просто выражение. Подразумевается уравнение, что это выражение равно 0."
      ]
    },
    {
      "cell_type": "code",
      "execution_count": null,
      "metadata": {
        "deletable": true,
        "editable": true,
        "colab": {
          "base_uri": "https://localhost:8080/"
        },
        "id": "sSVyu9LavZ0T",
        "outputId": "bf120546-5136-4374-de36-f4d2e6de55b3"
      },
      "outputs": [
        {
          "output_type": "execute_result",
          "data": {
            "text/plain": [
              "⎡-b ⎤\n",
              "⎢───⎥\n",
              "⎣ a ⎦"
            ],
            "image/png": "[encoded data removed]",
            "text/latex": "$\\displaystyle \\left[ - \\frac{b}{a}\\right]$"
          },
          "metadata": {},
          "execution_count": 164
        }
      ],
      "source": [
        "solve(a*x+b,x)"
      ]
    },
    {
      "cell_type": "markdown",
      "metadata": {
        "deletable": true,
        "editable": true,
        "id": "NvU3ajaBvZ0T"
      },
      "source": [
        "Квадратное уравнение имеет 2 решения."
      ]
    },
    {
      "cell_type": "code",
      "execution_count": null,
      "metadata": {
        "deletable": true,
        "editable": true,
        "colab": {
          "base_uri": "https://localhost:8080/"
        },
        "id": "V60YfcxjvZ0T",
        "outputId": "1de330b5-c46f-45f6-ec19-40f38eda1485"
      },
      "outputs": [
        {
          "output_type": "execute_result",
          "data": {
            "text/plain": [
              "⎡        _____________   ⎛       _____________⎞ ⎤\n",
              "⎢       ╱           2    ⎜      ╱           2 ⎟ ⎥\n",
              "⎢-b + ╲╱  -4⋅a⋅c + b    -⎝b + ╲╱  -4⋅a⋅c + b  ⎠ ⎥\n",
              "⎢─────────────────────, ────────────────────────⎥\n",
              "⎣         2⋅a                     2⋅a           ⎦"
            ],
            "image/png": "[encoded data removed]",
            "text/latex": "$\\displaystyle \\left[ \\frac{- b + \\sqrt{- 4 a c + b^{2}}}{2 a}, \\  - \\frac{b + \\sqrt{- 4 a c + b^{2}}}{2 a}\\right]$"
          },
          "metadata": {},
          "execution_count": 165
        }
      ],
      "source": [
        "solve(a*x**2+b*x+c,x)"
      ]
    },
    {
      "cell_type": "markdown",
      "metadata": {
        "deletable": true,
        "editable": true,
        "id": "YujWXv6lvZ0T"
      },
      "source": [
        "Система линейных уравнений."
      ]
    },
    {
      "cell_type": "code",
      "execution_count": null,
      "metadata": {
        "deletable": true,
        "editable": true,
        "colab": {
          "base_uri": "https://localhost:8080/"
        },
        "id": "tpTwyf0AvZ0U",
        "outputId": "f31ae33f-c89d-4752-87d3-1e1c42eb63b8"
      },
      "outputs": [
        {
          "output_type": "execute_result",
          "data": {
            "text/plain": [
              "⎧   -b⋅f + d⋅e     a⋅f - c⋅e⎫\n",
              "⎨x: ──────────, y: ─────────⎬\n",
              "⎩   a⋅d - b⋅c      a⋅d - b⋅c⎭"
            ],
            "image/png": "[encoded data removed]",
            "text/latex": "$\\displaystyle \\left\\{ x : \\frac{- b f + d e}{a d - b c}, \\  y : \\frac{a f - c e}{a d - b c}\\right\\}$"
          },
          "metadata": {},
          "execution_count": 166
        }
      ],
      "source": [
        "solve([a*x+b*y-e,c*x+d*y-f],[x,y])"
      ]
    },
    {
      "cell_type": "markdown",
      "metadata": {
        "deletable": true,
        "editable": true,
        "id": "PIZe1uMDvZ0U"
      },
      "source": [
        "Функция `roots` возвращает корни многочлена с их множественностями."
      ]
    },
    {
      "cell_type": "code",
      "execution_count": null,
      "metadata": {
        "deletable": true,
        "editable": true,
        "colab": {
          "base_uri": "https://localhost:8080/"
        },
        "id": "9kMdfV3svZ0U",
        "outputId": "ff93c0da-0b39-4001-f1fb-361b0b8f9339"
      },
      "outputs": [
        {
          "output_type": "execute_result",
          "data": {
            "text/plain": [
              "{-2: 1, 1: 2}"
            ],
            "image/png": "[encoded data removed]",
            "text/latex": "$\\displaystyle \\left\\{ -2 : 1, \\  1 : 2\\right\\}$"
          },
          "metadata": {},
          "execution_count": 167
        }
      ],
      "source": [
        "roots(x**3-3*x+2,x)"
      ]
    },
    {
      "cell_type": "markdown",
      "metadata": {
        "collapsed": false,
        "deletable": true,
        "editable": true,
        "id": "sVnWqCw4vZ0W"
      },
      "source": [
        "Функция `solve_poly_system` решает систему полиномиальных уравнений, строя их базис Грёбнера."
      ]
    },
    {
      "cell_type": "code",
      "execution_count": null,
      "metadata": {
        "deletable": true,
        "editable": true,
        "colab": {
          "base_uri": "https://localhost:8080/"
        },
        "id": "wMCANN-qvZ0W",
        "outputId": "0a483dfb-a3cf-4e33-c144-cf3d216416d7"
      },
      "outputs": [
        {
          "output_type": "execute_result",
          "data": {
            "text/plain": [
              "⎡⎛  ⎛         ________⎞     ________ ⎛        ________⎞       ________⎞  ⎛   ⎛\n",
              "⎢⎜  ⎜        ╱ 1   √3 ⎟    ╱ 1   √3  ⎜       ╱ 1   √3 ⎟      ╱ 1   √3 ⎟  ⎜   ⎜\n",
              "⎢⎜4⋅⎜-1 -   ╱  ─ - ── ⎟⋅  ╱  ─ - ── ⋅⎜1 -   ╱  ─ - ── ⎟, -  ╱  ─ - ── ⎟, ⎜-4⋅⎜\n",
              "⎣⎝  ⎝     ╲╱   2   4  ⎠ ╲╱   2   4   ⎝    ╲╱   2   4  ⎠   ╲╱   2   4  ⎠  ⎝   ⎝\n",
              "\n",
              "         ________⎞     ________ ⎛    ________    ⎞      ________⎞  ⎛  ⎛       \n",
              "        ╱ 1   √3 ⎟    ╱ 1   √3  ⎜   ╱ 1   √3     ⎟     ╱ 1   √3 ⎟  ⎜  ⎜       \n",
              "-1 +   ╱  ─ - ── ⎟⋅  ╱  ─ - ── ⋅⎜  ╱  ─ - ──  + 1⎟,   ╱  ─ - ── ⎟, ⎜4⋅⎜-1 -   \n",
              "     ╲╱   2   4  ⎠ ╲╱   2   4   ⎝╲╱   2   4      ⎠  ╲╱   2   4  ⎠  ⎝  ⎝     ╲╱\n",
              "\n",
              "  ________⎞ ⎛        ________⎞     ________       ________⎞  ⎛   ⎛         ___\n",
              " ╱ √3   1 ⎟ ⎜       ╱ √3   1 ⎟    ╱ √3   1       ╱ √3   1 ⎟  ⎜   ⎜        ╱ √3\n",
              "╱  ── + ─ ⎟⋅⎜1 -   ╱  ── + ─ ⎟⋅  ╱  ── + ─ , -  ╱  ── + ─ ⎟, ⎜-4⋅⎜-1 +   ╱  ──\n",
              "   4    2 ⎠ ⎝    ╲╱   4    2 ⎠ ╲╱   4    2    ╲╱   4    2 ⎠  ⎝   ⎝     ╲╱   4 \n",
              "\n",
              "_____⎞     ________ ⎛    ________    ⎞      ________⎞⎤\n",
              "   1 ⎟    ╱ √3   1  ⎜   ╱ √3   1     ⎟     ╱ √3   1 ⎟⎥\n",
              " + ─ ⎟⋅  ╱  ── + ─ ⋅⎜  ╱  ── + ─  + 1⎟,   ╱  ── + ─ ⎟⎥\n",
              "   2 ⎠ ╲╱   4    2  ⎝╲╱   4    2     ⎠  ╲╱   4    2 ⎠⎦"
            ],
            "image/png": "[encoded data removed]",
            "text/latex": "$\\displaystyle \\left[ \\left( 4 \\left(-1 - \\sqrt{\\frac{1}{2} - \\frac{\\sqrt{3}}{4}}\\right) \\sqrt{\\frac{1}{2} - \\frac{\\sqrt{3}}{4}} \\left(1 - \\sqrt{\\frac{1}{2} - \\frac{\\sqrt{3}}{4}}\\right), \\  - \\sqrt{\\frac{1}{2} - \\frac{\\sqrt{3}}{4}}\\right), \\  \\left( - 4 \\left(-1 + \\sqrt{\\frac{1}{2} - \\frac{\\sqrt{3}}{4}}\\right) \\sqrt{\\frac{1}{2} - \\frac{\\sqrt{3}}{4}} \\left(\\sqrt{\\frac{1}{2} - \\frac{\\sqrt{3}}{4}} + 1\\right), \\  \\sqrt{\\frac{1}{2} - \\frac{\\sqrt{3}}{4}}\\right), \\  \\left( 4 \\left(-1 - \\sqrt{\\frac{\\sqrt{3}}{4} + \\frac{1}{2}}\\right) \\left(1 - \\sqrt{\\frac{\\sqrt{3}}{4} + \\frac{1}{2}}\\right) \\sqrt{\\frac{\\sqrt{3}}{4} + \\frac{1}{2}}, \\  - \\sqrt{\\frac{\\sqrt{3}}{4} + \\frac{1}{2}}\\right), \\  \\left( - 4 \\left(-1 + \\sqrt{\\frac{\\sqrt{3}}{4} + \\frac{1}{2}}\\right) \\sqrt{\\frac{\\sqrt{3}}{4} + \\frac{1}{2}} \\left(\\sqrt{\\frac{\\sqrt{3}}{4} + \\frac{1}{2}} + 1\\right), \\  \\sqrt{\\frac{\\sqrt{3}}{4} + \\frac{1}{2}}\\right)\\right]$"
          },
          "metadata": {},
          "execution_count": 168
        }
      ],
      "source": [
        "p1=x**2+y**2-1\n",
        "p2=4*x*y-1\n",
        "solve_poly_system([p1,p2],x,y)"
      ]
    },
    {
      "cell_type": "markdown",
      "metadata": {
        "deletable": true,
        "editable": true,
        "id": "olVh4pUMvZ0W"
      },
      "source": [
        "## Ряды"
      ]
    },
    {
      "cell_type": "code",
      "execution_count": null,
      "metadata": {
        "deletable": true,
        "editable": true,
        "colab": {
          "base_uri": "https://localhost:8080/",
          "height": 54
        },
        "id": "J7yeZnJuvZ0X",
        "outputId": "ec2600f7-5ee5-4594-e1c2-db09000b96a6"
      },
      "outputs": [
        {
          "output_type": "execute_result",
          "data": {
            "text/plain": [
              "         2    3    4        \n",
              "        x    x    x     ⎛ 5⎞\n",
              "1 + x + ── + ── + ── + O⎝x ⎠\n",
              "        2    6    24        "
            ],
            "image/png": "[encoded data removed]",
            "text/latex": "$\\displaystyle 1 + x + \\frac{x^{2}}{2} + \\frac{x^{3}}{6} + \\frac{x^{4}}{24} + O\\left(x^{5}\\right)$"
          },
          "metadata": {},
          "execution_count": 169
        }
      ],
      "source": [
        "exp(x).series(x,0,5)"
      ]
    },
    {
      "cell_type": "markdown",
      "metadata": {
        "deletable": true,
        "editable": true,
        "id": "LJ59tqUqvZ0X"
      },
      "source": [
        "Ряд может начинаться с отрицательной степени."
      ]
    },
    {
      "cell_type": "code",
      "execution_count": null,
      "metadata": {
        "deletable": true,
        "editable": true,
        "colab": {
          "base_uri": "https://localhost:8080/",
          "height": 54
        },
        "id": "I_qVERDwvZ0X",
        "outputId": "8e3fea1c-d76a-4bd3-ab4a-3a1f20dfd790"
      },
      "outputs": [
        {
          "output_type": "execute_result",
          "data": {
            "text/plain": [
              "         3        \n",
              "1   x   x     ⎛ 5⎞\n",
              "─ - ─ - ── + O⎝x ⎠\n",
              "x   3   45        "
            ],
            "image/png": "[encoded data removed]",
            "text/latex": "$\\displaystyle \\frac{1}{x} - \\frac{x}{3} - \\frac{x^{3}}{45} + O\\left(x^{5}\\right)$"
          },
          "metadata": {},
          "execution_count": 170
        }
      ],
      "source": [
        "cot(x).series(x,n=5)"
      ]
    },
    {
      "cell_type": "markdown",
      "metadata": {
        "deletable": true,
        "editable": true,
        "id": "8eA-3pBjvZ0X"
      },
      "source": [
        "И даже идти по полуцелым степеням."
      ]
    },
    {
      "cell_type": "code",
      "execution_count": null,
      "metadata": {
        "deletable": true,
        "editable": true,
        "colab": {
          "base_uri": "https://localhost:8080/",
          "height": 56
        },
        "id": "i1wxcgzwvZ0X",
        "outputId": "7fa18a2d-609f-4ea9-ab81-39f3db464668"
      },
      "outputs": [
        {
          "output_type": "execute_result",
          "data": {
            "text/plain": [
              "      3/2    5/2    7/2      9/2        \n",
              "     x      x      x      5⋅x       ⎛ 5⎞\n",
              "√x - ──── - ──── - ──── - ────── + O⎝x ⎠\n",
              "      2      8      16     128          "
            ],
            "image/png": "[encoded data removed]",
            "text/latex": "$\\displaystyle \\sqrt{x} - \\frac{x^{\\frac{3}{2}}}{2} - \\frac{x^{\\frac{5}{2}}}{8} - \\frac{x^{\\frac{7}{2}}}{16} - \\frac{5 x^{\\frac{9}{2}}}{128} + O\\left(x^{5}\\right)$"
          },
          "metadata": {},
          "execution_count": 171
        }
      ],
      "source": [
        "sqrt(x*(1-x)).series(x,n=5)"
      ]
    },
    {
      "cell_type": "code",
      "execution_count": null,
      "metadata": {
        "deletable": true,
        "editable": true,
        "colab": {
          "base_uri": "https://localhost:8080/",
          "height": 255
        },
        "id": "8gPKzsehvZ0X",
        "outputId": "448597d7-4461-4b83-eea0-5340b4f4ad2d"
      },
      "outputs": [
        {
          "output_type": "execute_result",
          "data": {
            "text/plain": [
              "                                                          ⎛                   \n",
              "                                                          ⎜                   \n",
              "                                                          ⎜                   \n",
              "        2  2      ⎛     2           3     ⎛ 2    2⎞⎞      ⎜  ⎛     2          \n",
              "       π ⋅x     3 ⎜  γ⋅π    ζ(3)   γ      ⎜γ    π ⎟⎟    4 ⎜  ⎜  γ⋅π    ζ(3)   \n",
              "-γ⋅x + ───── + x ⋅⎜- ──── - ──── - ── + γ⋅⎜── + ──⎟⎟ + x ⋅⎜γ⋅⎜- ──── - ──── - \n",
              "         12       ⎝   12     3     2      ⎝2    12⎠⎠      ⎝  ⎝   12     3     \n",
              "\n",
              "               2                                             ⎞      ⎛    ⎛    \n",
              "      ⎛ 2    2⎞                                              ⎟      ⎜    ⎜⎛ 2 \n",
              "      ⎜γ    π ⎟                                              ⎟      ⎜    ⎜⎜γ  \n",
              " 3⎞   ⎜── + ──⎟       4    2  2               ⎛ 2    2⎞     4⎟      ⎜  γ⋅⎜⎜── \n",
              "γ ⎟   ⎝2    12⎠    5⋅γ    γ ⋅π    γ⋅ζ(3)    2 ⎜γ    π ⎟    π ⎟    5 ⎜    ⎝⎝2  \n",
              "──⎟ - ────────── - ──── + ───── + ────── + γ ⋅⎜── + ──⎟ + ───⎟ + x ⋅⎜- ───────\n",
              "6 ⎠       2         24      24      3         ⎝2    12⎠   160⎠      ⎝         \n",
              "\n",
              "     2                           ⎞                2                           \n",
              "   2⎞        ⎛     2           3⎞⎟       ⎛ 2    2⎞                            \n",
              "  π ⎟        ⎜  γ⋅π    ζ(3)   γ ⎟⎟       ⎜γ    π ⎟                            \n",
              "+ ──⎟  - 2⋅γ⋅⎜- ──── - ──── - ──⎟⎟   2⋅γ⋅⎜── + ──⎟       4    2               \n",
              "  12⎠        ⎝   12     3     6 ⎠⎠       ⎝2    12⎠    γ⋅π    π ⋅ζ(3)   ζ(5)   \n",
              "────────────────────────────────── - ────────────── - ──── - ─────── - ──── + \n",
              "             3                             3          160       36      5     \n",
              "\n",
              "                                                                              \n",
              "   ⎛     2           3⎞                                                       \n",
              " 2 ⎜  γ⋅π    ζ(3)   γ ⎟                                                       \n",
              "γ ⋅⎜- ──── - ──── - ──⎟    2         3  2      5      ⎛ 2    2⎞     ⎛ 4    2  \n",
              "   ⎝   12     3     6 ⎠   γ ⋅ζ(3)   γ ⋅π    5⋅γ     3 ⎜γ    π ⎟     ⎜γ    γ ⋅π\n",
              "─────────────────────── - ─────── - ───── - ──── + γ ⋅⎜── + ──⎟ + γ⋅⎜── + ────\n",
              "           3                 6        72     24       ⎝2    12⎠     ⎝24     24\n",
              "\n",
              "                                                  ⎞        \n",
              "                                                  ⎟        \n",
              "                                                  ⎟        \n",
              "2              4⎞   ⎛ 2    2⎞ ⎛     2           3⎞⎟        \n",
              "    γ⋅ζ(3)    π ⎟   ⎜γ    π ⎟ ⎜  γ⋅π    ζ(3)   γ ⎟⎟    ⎛ 6⎞\n",
              "─ + ────── + ───⎟ - ⎜── + ──⎟⋅⎜- ──── - ──── - ──⎟⎟ + O⎝x ⎠\n",
              "      3      160⎠   ⎝2    12⎠ ⎝   12     3     6 ⎠⎠        "
            ],
            "image/png": "[encoded data removed]",
            "text/latex": "$\\displaystyle - \\gamma x + \\frac{\\pi^{2} x^{2}}{12} + x^{3} \\left(- \\frac{\\gamma \\pi^{2}}{12} - \\frac{\\zeta\\left(3\\right)}{3} - \\frac{\\gamma^{3}}{2} + \\gamma \\left(\\frac{\\gamma^{2}}{2} + \\frac{\\pi^{2}}{12}\\right)\\right) + x^{4} \\left(\\gamma \\left(- \\frac{\\gamma \\pi^{2}}{12} - \\frac{\\zeta\\left(3\\right)}{3} - \\frac{\\gamma^{3}}{6}\\right) - \\frac{\\left(\\frac{\\gamma^{2}}{2} + \\frac{\\pi^{2}}{12}\\right)^{2}}{2} - \\frac{5 \\gamma^{4}}{24} + \\frac{\\gamma^{2} \\pi^{2}}{24} + \\frac{\\gamma \\zeta\\left(3\\right)}{3} + \\gamma^{2} \\left(\\frac{\\gamma^{2}}{2} + \\frac{\\pi^{2}}{12}\\right) + \\frac{\\pi^{4}}{160}\\right) + x^{5} \\left(- \\frac{\\gamma \\left(\\left(\\frac{\\gamma^{2}}{2} + \\frac{\\pi^{2}}{12}\\right)^{2} - 2 \\gamma \\left(- \\frac{\\gamma \\pi^{2}}{12} - \\frac{\\zeta\\left(3\\right)}{3} - \\frac{\\gamma^{3}}{6}\\right)\\right)}{3} - \\frac{2 \\gamma \\left(\\frac{\\gamma^{2}}{2} + \\frac{\\pi^{2}}{12}\\right)^{2}}{3} - \\frac{\\gamma \\pi^{4}}{160} - \\frac{\\pi^{2} \\zeta\\left(3\\right)}{36} - \\frac{\\zeta\\left(5\\right)}{5} + \\frac{\\gamma^{2} \\left(- \\frac{\\gamma \\pi^{2}}{12} - \\frac{\\zeta\\left(3\\right)}{3} - \\frac{\\gamma^{3}}{6}\\right)}{3} - \\frac{\\gamma^{2} \\zeta\\left(3\\right)}{6} - \\frac{\\gamma^{3} \\pi^{2}}{72} - \\frac{5 \\gamma^{5}}{24} + \\gamma^{3} \\left(\\frac{\\gamma^{2}}{2} + \\frac{\\pi^{2}}{12}\\right) + \\gamma \\left(\\frac{\\gamma^{4}}{24} + \\frac{\\gamma^{2} \\pi^{2}}{24} + \\frac{\\gamma \\zeta\\left(3\\right)}{3} + \\frac{\\pi^{4}}{160}\\right) - \\left(\\frac{\\gamma^{2}}{2} + \\frac{\\pi^{2}}{12}\\right) \\left(- \\frac{\\gamma \\pi^{2}}{12} - \\frac{\\zeta\\left(3\\right)}{3} - \\frac{\\gamma^{3}}{6}\\right)\\right) + O\\left(x^{6}\\right)$"
          },
          "metadata": {},
          "execution_count": 172
        }
      ],
      "source": [
        "log(gamma(1+x)).series(x,n=6).rewrite(zeta)"
      ]
    },
    {
      "cell_type": "markdown",
      "metadata": {
        "deletable": true,
        "editable": true,
        "id": "47hw3dGevZ0X"
      },
      "source": [
        "Подготовим 3 ряда."
      ]
    },
    {
      "cell_type": "code",
      "execution_count": null,
      "metadata": {
        "deletable": true,
        "editable": true,
        "colab": {
          "base_uri": "https://localhost:8080/",
          "height": 54
        },
        "id": "wmXmPY39vZ0Y",
        "outputId": "f400341e-3366-4d94-901c-a50dc429f7de"
      },
      "outputs": [
        {
          "output_type": "execute_result",
          "data": {
            "text/plain": [
              "     3     5     7         \n",
              "    x     x     x      ⎛ 8⎞\n",
              "x - ── + ─── - ──── + O⎝x ⎠\n",
              "    6    120   5040        "
            ],
            "image/png": "[encoded data removed]",
            "text/latex": "$\\displaystyle x - \\frac{x^{3}}{6} + \\frac{x^{5}}{120} - \\frac{x^{7}}{5040} + O\\left(x^{8}\\right)$"
          },
          "metadata": {},
          "execution_count": 173
        }
      ],
      "source": [
        "sinx=series(sin(x),x,0,8)\n",
        "sinx"
      ]
    },
    {
      "cell_type": "code",
      "execution_count": null,
      "metadata": {
        "deletable": true,
        "editable": true,
        "colab": {
          "base_uri": "https://localhost:8080/",
          "height": 54
        },
        "id": "pTfHkKi7vZ0Y",
        "outputId": "cd8dd9cc-5cba-40c9-ec0c-134b449ea3de"
      },
      "outputs": [
        {
          "output_type": "execute_result",
          "data": {
            "text/plain": [
              "     2    4     6        \n",
              "    x    x     x     ⎛ 8⎞\n",
              "1 - ── + ── - ─── + O⎝x ⎠\n",
              "    2    24   720        "
            ],
            "image/png": "[encoded data removed]",
            "text/latex": "$\\displaystyle 1 - \\frac{x^{2}}{2} + \\frac{x^{4}}{24} - \\frac{x^{6}}{720} + O\\left(x^{8}\\right)$"
          },
          "metadata": {},
          "execution_count": 174
        }
      ],
      "source": [
        "cosx=series(cos(x),x,n=8)\n",
        "cosx"
      ]
    },
    {
      "cell_type": "code",
      "execution_count": null,
      "metadata": {
        "deletable": true,
        "editable": true,
        "colab": {
          "base_uri": "https://localhost:8080/",
          "height": 54
        },
        "id": "maKgiPH2vZ0Y",
        "outputId": "f9146c37-74e5-43e0-96cd-d1cd0704c979"
      },
      "outputs": [
        {
          "output_type": "execute_result",
          "data": {
            "text/plain": [
              "     3      5       7        \n",
              "    x    2⋅x    17⋅x     ⎛ 8⎞\n",
              "x + ── + ──── + ───── + O⎝x ⎠\n",
              "    3     15     315         "
            ],
            "image/png": "[encoded data removed]",
            "text/latex": "$\\displaystyle x + \\frac{x^{3}}{3} + \\frac{2 x^{5}}{15} + \\frac{17 x^{7}}{315} + O\\left(x^{8}\\right)$"
          },
          "metadata": {},
          "execution_count": 175
        }
      ],
      "source": [
        "tanx=series(tan(x),x,n=8)\n",
        "tanx"
      ]
    },
    {
      "cell_type": "markdown",
      "metadata": {
        "deletable": true,
        "editable": true,
        "id": "O_vaqRdnvZ0Y"
      },
      "source": [
        "Произведения и частные рядов не вычисляются автоматически, к ним надо применить функцию `series`."
      ]
    },
    {
      "cell_type": "code",
      "execution_count": null,
      "metadata": {
        "deletable": true,
        "editable": true,
        "colab": {
          "base_uri": "https://localhost:8080/",
          "height": 54
        },
        "id": "WsrBiEmxvZ0Z",
        "outputId": "71020f64-8b09-4f3d-aa8e-21ac59fbcdcb"
      },
      "outputs": [
        {
          "output_type": "execute_result",
          "data": {
            "text/plain": [
              "     3     5     7         \n",
              "    x     x     x      ⎛ 8⎞\n",
              "x - ── + ─── - ──── + O⎝x ⎠\n",
              "    6    120   5040        "
            ],
            "image/png": "[encoded data removed]",
            "text/latex": "$\\displaystyle x - \\frac{x^{3}}{6} + \\frac{x^{5}}{120} - \\frac{x^{7}}{5040} + O\\left(x^{8}\\right)$"
          },
          "metadata": {},
          "execution_count": 176
        }
      ],
      "source": [
        "series(tanx*cosx,n=8)"
      ]
    },
    {
      "cell_type": "code",
      "execution_count": null,
      "metadata": {
        "deletable": true,
        "editable": true,
        "colab": {
          "base_uri": "https://localhost:8080/",
          "height": 54
        },
        "id": "8h1pAvaHvZ0Z",
        "outputId": "d5758e91-9f28-4618-96d7-4b97eb2cb690"
      },
      "outputs": [
        {
          "output_type": "execute_result",
          "data": {
            "text/plain": [
              "     3      5       7        \n",
              "    x    2⋅x    17⋅x     ⎛ 8⎞\n",
              "x + ── + ──── + ───── + O⎝x ⎠\n",
              "    3     15     315         "
            ],
            "image/png": "[encoded data removed]",
            "text/latex": "$\\displaystyle x + \\frac{x^{3}}{3} + \\frac{2 x^{5}}{15} + \\frac{17 x^{7}}{315} + O\\left(x^{8}\\right)$"
          },
          "metadata": {},
          "execution_count": 177
        }
      ],
      "source": [
        "series(sinx/cosx,n=8)"
      ]
    },
    {
      "cell_type": "markdown",
      "metadata": {
        "deletable": true,
        "editable": true,
        "id": "rNxtzZLavZ0Z"
      },
      "source": [
        "А этот ряд должен быть равен 1. Но поскольку `sinx` и `cosx` известны лишь с ограниченной точностью, мы получаем 1 с той же точностью."
      ]
    },
    {
      "cell_type": "code",
      "execution_count": null,
      "metadata": {
        "deletable": true,
        "editable": true,
        "colab": {
          "base_uri": "https://localhost:8080/",
          "height": 38
        },
        "id": "QMRAqywpvZ0Z",
        "outputId": "5cf954e1-a761-4735-c323-5293176a52df"
      },
      "outputs": [
        {
          "output_type": "execute_result",
          "data": {
            "text/plain": [
              "     ⎛ 8⎞\n",
              "1 + O⎝x ⎠"
            ],
            "image/png": "[encoded data removed]",
            "text/latex": "$\\displaystyle 1 + O\\left(x^{8}\\right)$"
          },
          "metadata": {},
          "execution_count": 178
        }
      ],
      "source": [
        "series(sinx**2+cosx**2,n=8)"
      ]
    },
    {
      "cell_type": "markdown",
      "metadata": {
        "deletable": true,
        "editable": true,
        "id": "LOWFi0P8vZ0Z"
      },
      "source": [
        "Здесь первые члены сократились, и ответ можно получить лишь с меньшей точностью."
      ]
    },
    {
      "cell_type": "code",
      "execution_count": null,
      "metadata": {
        "deletable": true,
        "editable": true,
        "colab": {
          "base_uri": "https://localhost:8080/",
          "height": 54
        },
        "id": "0oq5UGbXvZ0Z",
        "outputId": "140bdc1e-959f-4ee0-d846-da7283bd6299"
      },
      "outputs": [
        {
          "output_type": "execute_result",
          "data": {
            "text/plain": [
              "     2     4        \n",
              "1   x     x     ⎛ 6⎞\n",
              "─ - ── + ─── + O⎝x ⎠\n",
              "2   24   720        "
            ],
            "image/png": "[encoded data removed]",
            "text/latex": "$\\displaystyle \\frac{1}{2} - \\frac{x^{2}}{24} + \\frac{x^{4}}{720} + O\\left(x^{6}\\right)$"
          },
          "metadata": {},
          "execution_count": 179
        }
      ],
      "source": [
        "series((1-cosx)/x**2,n=6)"
      ]
    },
    {
      "cell_type": "markdown",
      "metadata": {
        "deletable": true,
        "editable": true,
        "id": "sfYfa379vZ0a"
      },
      "source": [
        "Ряды можно дифференцировать и интегрировать."
      ]
    },
    {
      "cell_type": "code",
      "execution_count": null,
      "metadata": {
        "deletable": true,
        "editable": true,
        "colab": {
          "base_uri": "https://localhost:8080/",
          "height": 54
        },
        "id": "JmABQhgZvZ0a",
        "outputId": "4e1e5d6a-f4f8-4310-afe2-5456148005c5"
      },
      "outputs": [
        {
          "output_type": "execute_result",
          "data": {
            "text/plain": [
              "     2    4     6        \n",
              "    x    x     x     ⎛ 7⎞\n",
              "1 - ── + ── - ─── + O⎝x ⎠\n",
              "    2    24   720        "
            ],
            "image/png": "[encoded data removed]",
            "text/latex": "$\\displaystyle 1 - \\frac{x^{2}}{2} + \\frac{x^{4}}{24} - \\frac{x^{6}}{720} + O\\left(x^{7}\\right)$"
          },
          "metadata": {},
          "execution_count": 180
        }
      ],
      "source": [
        "diff(sinx,x)"
      ]
    },
    {
      "cell_type": "code",
      "execution_count": null,
      "metadata": {
        "deletable": true,
        "editable": true,
        "colab": {
          "base_uri": "https://localhost:8080/",
          "height": 54
        },
        "id": "qh5dBnQDvZ0a",
        "outputId": "74608a1e-d085-4c6f-ac59-8551a1b3e9d4"
      },
      "outputs": [
        {
          "output_type": "execute_result",
          "data": {
            "text/plain": [
              "     3     5     7         \n",
              "    x     x     x      ⎛ 9⎞\n",
              "x - ── + ─── - ──── + O⎝x ⎠\n",
              "    6    120   5040        "
            ],
            "image/png": "[encoded data removed]",
            "text/latex": "$\\displaystyle x - \\frac{x^{3}}{6} + \\frac{x^{5}}{120} - \\frac{x^{7}}{5040} + O\\left(x^{9}\\right)$"
          },
          "metadata": {},
          "execution_count": 181
        }
      ],
      "source": [
        "integrate(cosx,x)"
      ]
    },
    {
      "cell_type": "markdown",
      "metadata": {
        "deletable": true,
        "editable": true,
        "id": "8gMNNY6SvZ0b"
      },
      "source": [
        "В ряд нельзя подставлять численное значение переменной разложения (а значит, нельзя и строить график). Для этого нужно сначала убрать $\\mathcal{O}$ член, превратив отрезок ряда в многочлен."
      ]
    },
    {
      "cell_type": "code",
      "execution_count": null,
      "metadata": {
        "deletable": true,
        "editable": true,
        "id": "jcLQdFvBvZ0b"
      },
      "outputs": [],
      "source": [
        "a=sinx.removeO()"
      ]
    },
    {
      "cell_type": "code",
      "execution_count": null,
      "metadata": {
        "deletable": true,
        "editable": true,
        "colab": {
          "base_uri": "https://localhost:8080/",
          "height": 38
        },
        "id": "9aZ1bot0vZ0b",
        "outputId": "652e2ebc-0b7e-4e33-e591-6479e012b69a"
      },
      "outputs": [
        {
          "output_type": "execute_result",
          "data": {
            "text/plain": [
              "a"
            ],
            "image/png": "[encoded data removed]",
            "text/latex": "$\\displaystyle a$"
          },
          "metadata": {},
          "execution_count": 186
        }
      ],
      "source": [
        "a.subs(x,0.1)"
      ]
    },
    {
      "cell_type": "markdown",
      "metadata": {
        "deletable": true,
        "editable": true,
        "id": "BYzg_giXvZ0b"
      },
      "source": [
        "## Производные"
      ]
    },
    {
      "cell_type": "code",
      "execution_count": null,
      "metadata": {
        "deletable": true,
        "editable": true,
        "colab": {
          "base_uri": "https://localhost:8080/",
          "height": 38
        },
        "id": "S-KWWwebvZ0b",
        "outputId": "e9357ecd-4a6b-41da-f643-37f65249a618"
      },
      "outputs": [
        {
          "output_type": "execute_result",
          "data": {
            "text/plain": [
              "x⋅cos(x + y) + sin(x + y)"
            ],
            "image/png": "[encoded data removed]",
            "text/latex": "$\\displaystyle x \\cos{\\left(x + y \\right)} + \\sin{\\left(x + y \\right)}$"
          },
          "metadata": {},
          "execution_count": 189
        }
      ],
      "source": [
        "a=x*sin(x+y)\n",
        "diff(a,x)"
      ]
    },
    {
      "cell_type": "code",
      "execution_count": null,
      "metadata": {
        "deletable": true,
        "editable": true,
        "colab": {
          "base_uri": "https://localhost:8080/",
          "height": 38
        },
        "id": "FKidDZxCvZ0c",
        "outputId": "ded298e9-7fc1-430c-f6e7-1e7abc707c35"
      },
      "outputs": [
        {
          "output_type": "execute_result",
          "data": {
            "text/plain": [
              "x⋅cos(x + y)"
            ],
            "image/png": "[encoded data removed]",
            "text/latex": "$\\displaystyle x \\cos{\\left(x + y \\right)}$"
          },
          "metadata": {},
          "execution_count": 191
        }
      ],
      "source": [
        "diff(a,y)"
      ]
    },
    {
      "cell_type": "markdown",
      "metadata": {
        "deletable": true,
        "editable": true,
        "id": "y8n8HKWUvZ0c"
      },
      "source": [
        "Вторая производная по $x$ и первая по $y$."
      ]
    },
    {
      "cell_type": "code",
      "execution_count": null,
      "metadata": {
        "deletable": true,
        "editable": true,
        "colab": {
          "base_uri": "https://localhost:8080/",
          "height": 38
        },
        "id": "2A7XQWnMvZ0c",
        "outputId": "c760478a-efec-423a-e98c-9f4c7b42e752"
      },
      "outputs": [
        {
          "output_type": "execute_result",
          "data": {
            "text/plain": [
              "-(x⋅cos(x + y) + 2⋅sin(x + y))"
            ],
            "image/png": "[encoded data removed]",
            "text/latex": "$\\displaystyle - (x \\cos{\\left(x + y \\right)} + 2 \\sin{\\left(x + y \\right)})$"
          },
          "metadata": {},
          "execution_count": 192
        }
      ],
      "source": [
        "diff(a,x,2,y)"
      ]
    },
    {
      "cell_type": "markdown",
      "metadata": {
        "deletable": true,
        "editable": true,
        "id": "AJuoW_VdvZ0d"
      },
      "source": [
        "Функция `Derivative` представляет невычисленную производную. Её можно вычислить методом `doit`."
      ]
    },
    {
      "cell_type": "code",
      "execution_count": null,
      "metadata": {
        "deletable": true,
        "editable": true,
        "colab": {
          "base_uri": "https://localhost:8080/",
          "height": 52
        },
        "id": "9tZJfMPLvZ0d",
        "outputId": "ec81f36e-5aa1-4ee3-d2b9-b9337eaac57e"
      },
      "outputs": [
        {
          "output_type": "execute_result",
          "data": {
            "text/plain": [
              "d                  \n",
              "──(sin(x)) = cos(x)\n",
              "dx                 "
            ],
            "image/png": "[encoded data removed]",
            "text/latex": "$\\displaystyle \\frac{d}{d x} \\sin{\\left(x \\right)} = \\cos{\\left(x \\right)}$"
          },
          "metadata": {},
          "execution_count": 197
        }
      ],
      "source": [
        "a=Derivative(sin(x),x)\n",
        "Eq(a,a.doit())"
      ]
    },
    {
      "cell_type": "markdown",
      "metadata": {
        "deletable": true,
        "editable": true,
        "id": "t4qKH9B3vZ0d"
      },
      "source": [
        "## Интегралы"
      ]
    },
    {
      "cell_type": "code",
      "execution_count": null,
      "metadata": {
        "deletable": true,
        "editable": true,
        "colab": {
          "base_uri": "https://localhost:8080/",
          "height": 57
        },
        "id": "PBp5HetyvZ0d",
        "outputId": "cc686370-6799-4906-e635-e08ab65fa6be"
      },
      "outputs": [
        {
          "output_type": "execute_result",
          "data": {
            "text/plain": [
              "            ⎛ 2    ⎞           \n",
              "log(x)   log⎝x  - 2⎠      1    \n",
              "────── - ─────────── - ────────\n",
              "  4           8           2    \n",
              "                       4⋅x  - 8"
            ],
            "image/png": "[encoded data removed]",
            "text/latex": "$\\displaystyle \\frac{\\log{\\left(x \\right)}}{4} - \\frac{\\log{\\left(x^{2} - 2 \\right)}}{8} - \\frac{1}{4 x^{2} - 8}$"
          },
          "metadata": {},
          "execution_count": 199
        }
      ],
      "source": [
        "integrate(1/(x*(x**2-2)**2),x)"
      ]
    },
    {
      "cell_type": "code",
      "execution_count": null,
      "metadata": {
        "deletable": true,
        "editable": true,
        "colab": {
          "base_uri": "https://localhost:8080/",
          "height": 38
        },
        "id": "Hn9L8MLdvZ0d",
        "outputId": "37427e89-967a-4c30-aa73-53c695c3ea0f"
      },
      "outputs": [
        {
          "output_type": "execute_result",
          "data": {
            "text/plain": [
              "       ⎛ x    ⎞\n",
              "x - log⎝ℯ  + 1⎠"
            ],
            "image/png": "[encoded data removed]",
            "text/latex": "$\\displaystyle x - \\log{\\left(e^{x} + 1 \\right)}$"
          },
          "metadata": {},
          "execution_count": 200
        }
      ],
      "source": [
        "integrate(1/(exp(x)+1),x)"
      ]
    },
    {
      "cell_type": "code",
      "execution_count": null,
      "metadata": {
        "deletable": true,
        "editable": true,
        "colab": {
          "base_uri": "https://localhost:8080/",
          "height": 38
        },
        "id": "_vzhiv1pvZ0d",
        "outputId": "dff4b4e9-e39b-4ffc-815b-2b04f525777b"
      },
      "outputs": [
        {
          "output_type": "execute_result",
          "data": {
            "text/plain": [
              "x⋅log(x) - x"
            ],
            "image/png": "[encoded data removed]",
            "text/latex": "$\\displaystyle x \\log{\\left(x \\right)} - x$"
          },
          "metadata": {},
          "execution_count": 201
        }
      ],
      "source": [
        "integrate(log(x),x)"
      ]
    },
    {
      "cell_type": "code",
      "execution_count": null,
      "metadata": {
        "deletable": true,
        "editable": true,
        "colab": {
          "base_uri": "https://localhost:8080/",
          "height": 38
        },
        "id": "Rr6ysgG9vZ0e",
        "outputId": "857e139d-ed82-4cd0-cb9a-be502b414bc8"
      },
      "outputs": [
        {
          "output_type": "execute_result",
          "data": {
            "text/plain": [
              "-x⋅cos(x) + sin(x)"
            ],
            "image/png": "[encoded data removed]",
            "text/latex": "$\\displaystyle - x \\cos{\\left(x \\right)} + \\sin{\\left(x \\right)}$"
          },
          "metadata": {},
          "execution_count": 202
        }
      ],
      "source": [
        "integrate(x*sin(x),x)"
      ]
    },
    {
      "cell_type": "code",
      "execution_count": null,
      "metadata": {
        "deletable": true,
        "editable": true,
        "colab": {
          "base_uri": "https://localhost:8080/",
          "height": 57
        },
        "id": "Ky-86X0-vZ0e",
        "outputId": "383992e0-7380-4420-d809-10f5d352442a"
      },
      "outputs": [
        {
          "output_type": "execute_result",
          "data": {
            "text/plain": [
              "    2 \n",
              "  -x  \n",
              "-ℯ    \n",
              "──────\n",
              "  2   "
            ],
            "image/png": "[encoded data removed]",
            "text/latex": "$\\displaystyle - \\frac{e^{- x^{2}}}{2}$"
          },
          "metadata": {},
          "execution_count": 203
        }
      ],
      "source": [
        "integrate(x*exp(-x**2),x)"
      ]
    },
    {
      "cell_type": "code",
      "execution_count": null,
      "metadata": {
        "deletable": true,
        "editable": true,
        "colab": {
          "base_uri": "https://localhost:8080/",
          "height": 55
        },
        "id": "tnNpZciwvZ0e",
        "outputId": "4aa010ae-0b8e-40f7-b3e3-d08f72a5385c"
      },
      "outputs": [
        {
          "output_type": "execute_result",
          "data": {
            "text/plain": [
              "⌠      \n",
              "⎮  x   \n",
              "⎮ x  dx\n",
              "⌡      "
            ],
            "image/png": "[encoded data removed]",
            "text/latex": "$\\displaystyle \\int x^{x}\\, dx$"
          },
          "metadata": {},
          "execution_count": 204
        }
      ],
      "source": [
        "a=integrate(x**x,x)\n",
        "a"
      ]
    },
    {
      "cell_type": "markdown",
      "metadata": {
        "deletable": true,
        "editable": true,
        "id": "fwPysl_bvZ0e"
      },
      "source": [
        "Получился невычисленный интеграл."
      ]
    },
    {
      "cell_type": "code",
      "execution_count": null,
      "metadata": {
        "deletable": true,
        "editable": true,
        "colab": {
          "base_uri": "https://localhost:8080/"
        },
        "id": "eTXVSYROvZ0e",
        "outputId": "c9a287ea-4264-4ba1-dfb8-57d0b7d184e8"
      },
      "outputs": [
        {
          "output_type": "stream",
          "name": "stdout",
          "text": [
            "Integral(x**x, x)\n"
          ]
        }
      ],
      "source": [
        "print(a)"
      ]
    },
    {
      "cell_type": "code",
      "execution_count": null,
      "metadata": {
        "deletable": true,
        "editable": true,
        "colab": {
          "base_uri": "https://localhost:8080/",
          "height": 55
        },
        "id": "h3PeRjcivZ0e",
        "outputId": "5b51e075-40c5-40fd-bda8-5d40079be35f"
      },
      "outputs": [
        {
          "output_type": "execute_result",
          "data": {
            "text/plain": [
              "⌠                    \n",
              "⎮ sin(x) dx = -cos(x)\n",
              "⌡                    "
            ],
            "image/png": "[encoded data removed]",
            "text/latex": "$\\displaystyle \\int \\sin{\\left(x \\right)}\\, dx = - \\cos{\\left(x \\right)}$"
          },
          "metadata": {},
          "execution_count": 206
        }
      ],
      "source": [
        "a=Integral(sin(x),x)\n",
        "Eq(a,a.doit())"
      ]
    },
    {
      "cell_type": "markdown",
      "metadata": {
        "deletable": true,
        "editable": true,
        "id": "vQ_7SghdvZ0f"
      },
      "source": [
        "Определённые интегралы."
      ]
    },
    {
      "cell_type": "code",
      "execution_count": null,
      "metadata": {
        "deletable": true,
        "editable": true,
        "colab": {
          "base_uri": "https://localhost:8080/",
          "height": 37
        },
        "id": "9-JAGSvBvZ0f",
        "outputId": "639e797e-d5a8-45d2-cbc7-c050f86d1cb4"
      },
      "outputs": [
        {
          "output_type": "execute_result",
          "data": {
            "text/plain": [
              "2"
            ],
            "image/png": "[encoded data removed]",
            "text/latex": "$\\displaystyle 2$"
          },
          "metadata": {},
          "execution_count": 207
        }
      ],
      "source": [
        "integrate(sin(x),(x,0,pi))"
      ]
    },
    {
      "cell_type": "markdown",
      "metadata": {
        "deletable": true,
        "editable": true,
        "id": "1sqXTvIvvZ0f"
      },
      "source": [
        "`oo` - это $\\infty$."
      ]
    },
    {
      "cell_type": "code",
      "execution_count": null,
      "metadata": {
        "deletable": true,
        "editable": true,
        "colab": {
          "base_uri": "https://localhost:8080/",
          "height": 54
        },
        "id": "KRLelEHkvZ0f",
        "outputId": "3aff506e-f966-492d-aeaf-5ff53134e6ea"
      },
      "outputs": [
        {
          "output_type": "execute_result",
          "data": {
            "text/plain": [
              "√π\n",
              "──\n",
              "2 "
            ],
            "image/png": "[encoded data removed]",
            "text/latex": "$\\displaystyle \\frac{\\sqrt{\\pi}}{2}$"
          },
          "metadata": {},
          "execution_count": 208
        }
      ],
      "source": [
        "integrate(exp(-x**2),(x,0,oo))"
      ]
    },
    {
      "cell_type": "code",
      "execution_count": null,
      "metadata": {
        "deletable": true,
        "editable": true,
        "colab": {
          "base_uri": "https://localhost:8080/",
          "height": 54
        },
        "id": "yrKIoQdRvZ0f",
        "outputId": "ae64f807-afb7-4cec-cc56-90db35ba75f2"
      },
      "outputs": [
        {
          "output_type": "execute_result",
          "data": {
            "text/plain": [
              "  2 \n",
              "-π  \n",
              "────\n",
              " 6  "
            ],
            "image/png": "[encoded data removed]",
            "text/latex": "$\\displaystyle - \\frac{\\pi^{2}}{6}$"
          },
          "metadata": {},
          "execution_count": 209
        }
      ],
      "source": [
        "integrate(log(x)/(1-x),(x,0,1))"
      ]
    },
    {
      "cell_type": "markdown",
      "metadata": {
        "deletable": true,
        "editable": true,
        "id": "0SVXnREmvZ0f"
      },
      "source": [
        "## Суммирование рядов"
      ]
    },
    {
      "cell_type": "code",
      "execution_count": null,
      "metadata": {
        "deletable": true,
        "editable": true,
        "colab": {
          "base_uri": "https://localhost:8080/"
        },
        "id": "yhPySsxUvZ0f",
        "outputId": "cca5efaa-e886-4002-fac4-bad8ab3e34b9"
      },
      "outputs": [
        {
          "output_type": "execute_result",
          "data": {
            "text/plain": [
              " 2\n",
              "π \n",
              "──\n",
              "6 "
            ],
            "image/png": "[encoded data removed]",
            "text/latex": "$\\displaystyle \\frac{\\pi^{2}}{6}$"
          },
          "metadata": {},
          "execution_count": 210
        }
      ],
      "source": [
        "summation(1/n**2,(n,1,oo))"
      ]
    },
    {
      "cell_type": "code",
      "execution_count": null,
      "metadata": {
        "deletable": true,
        "editable": true,
        "colab": {
          "base_uri": "https://localhost:8080/"
        },
        "id": "MDIZw9cUvZ0g",
        "outputId": "1500311c-f207-4c9b-e8bb-59fb9970cf8a"
      },
      "outputs": [
        {
          "output_type": "execute_result",
          "data": {
            "text/plain": [
              "  2 \n",
              "-π  \n",
              "────\n",
              " 12 "
            ],
            "image/png": "[encoded data removed]",
            "text/latex": "$\\displaystyle - \\frac{\\pi^{2}}{12}$"
          },
          "metadata": {},
          "execution_count": 211
        }
      ],
      "source": [
        "summation((-1)**n/n**2,(n,1,oo))"
      ]
    },
    {
      "cell_type": "code",
      "execution_count": null,
      "metadata": {
        "deletable": true,
        "editable": true,
        "colab": {
          "base_uri": "https://localhost:8080/"
        },
        "id": "sK7hasWOvZ0g",
        "outputId": "a86463e4-233f-4dbb-8acd-aadc24d19d16"
      },
      "outputs": [
        {
          "output_type": "execute_result",
          "data": {
            "text/plain": [
              " 4\n",
              "π \n",
              "──\n",
              "90"
            ],
            "image/png": "[encoded data removed]",
            "text/latex": "$\\displaystyle \\frac{\\pi^{4}}{90}$"
          },
          "metadata": {},
          "execution_count": 212
        }
      ],
      "source": [
        "summation(1/n**4,(n,1,oo))"
      ]
    },
    {
      "cell_type": "markdown",
      "metadata": {
        "deletable": true,
        "editable": true,
        "id": "IXuYqA52vZ0g"
      },
      "source": [
        "Невычисленная сумма обозначается `Sum`."
      ]
    },
    {
      "cell_type": "code",
      "execution_count": null,
      "metadata": {
        "deletable": true,
        "editable": true,
        "colab": {
          "base_uri": "https://localhost:8080/"
        },
        "id": "_wJr15-svZ0g",
        "outputId": "aa83da36-faad-46aa-b5fa-c1b7c4f9c57a"
      },
      "outputs": [
        {
          "output_type": "execute_result",
          "data": {
            "text/plain": [
              "  ∞          \n",
              " ____        \n",
              " ╲           \n",
              "  ╲    n     \n",
              "   ╲  x     x\n",
              "   ╱  ── = ℯ \n",
              "  ╱   n!     \n",
              " ╱           \n",
              " ‾‾‾‾        \n",
              "n = 0        "
            ],
            "image/png": "[encoded data removed]",
            "text/latex": "$\\displaystyle \\sum_{n=0}^{\\infty} \\frac{x^{n}}{n!} = e^{x}$"
          },
          "metadata": {},
          "execution_count": 213
        }
      ],
      "source": [
        "a=Sum(x**n/factorial(n),(n,0,oo))\n",
        "Eq(a,a.doit())"
      ]
    },
    {
      "cell_type": "markdown",
      "metadata": {
        "deletable": true,
        "editable": true,
        "id": "QAl36duNvZ0g"
      },
      "source": [
        "## Пределы"
      ]
    },
    {
      "cell_type": "code",
      "execution_count": null,
      "metadata": {
        "deletable": true,
        "editable": true,
        "colab": {
          "base_uri": "https://localhost:8080/"
        },
        "id": "0AV-nZ74vZ0g",
        "outputId": "4e659ff2-6b85-41f7-d1ab-28bedda6cb1d"
      },
      "outputs": [
        {
          "output_type": "execute_result",
          "data": {
            "text/plain": [
              "1/30"
            ],
            "image/png": "[encoded data removed]",
            "text/latex": "$\\displaystyle \\frac{1}{30}$"
          },
          "metadata": {},
          "execution_count": 214
        }
      ],
      "source": [
        "limit((tan(sin(x))-sin(tan(x)))/x**7,x,0)"
      ]
    },
    {
      "cell_type": "markdown",
      "metadata": {
        "deletable": true,
        "editable": true,
        "id": "t-yOF17LvZ0g"
      },
      "source": [
        "Ну это простой предел, считается разложением числителя и знаменателя в ряды. А вот если в $x=0$ существенно особая точка, дело сложнее. Посчитаем односторонние пределы."
      ]
    },
    {
      "cell_type": "code",
      "execution_count": null,
      "metadata": {
        "deletable": true,
        "editable": true,
        "colab": {
          "base_uri": "https://localhost:8080/"
        },
        "id": "C8Jy5MU-vZ0h",
        "outputId": "3e6d5b55-943f-4466-fabc-1eae2a97b29e"
      },
      "outputs": [
        {
          "output_type": "execute_result",
          "data": {
            "text/plain": [
              "1/30"
            ],
            "image/png": "[encoded data removed]",
            "text/latex": "$\\displaystyle \\frac{1}{30}$"
          },
          "metadata": {},
          "execution_count": 215
        }
      ],
      "source": [
        "limit((tan(sin(x))-sin(tan(x)))/(x**7+exp(-1/x)),x,0,'+')"
      ]
    },
    {
      "cell_type": "code",
      "execution_count": null,
      "metadata": {
        "deletable": true,
        "editable": true,
        "colab": {
          "base_uri": "https://localhost:8080/"
        },
        "id": "w_mIuxAMvZ0h",
        "outputId": "7a5dc7da-9add-4875-87f7-0b22e8cba714"
      },
      "outputs": [
        {
          "output_type": "execute_result",
          "data": {
            "text/plain": [
              "0"
            ],
            "image/png": "[encoded data removed]",
            "text/latex": "$\\displaystyle 0$"
          },
          "metadata": {},
          "execution_count": 216
        }
      ],
      "source": [
        "limit((tan(sin(x))-sin(tan(x)))/(x**7+exp(-1/x)),x,0,'-')"
      ]
    },
    {
      "cell_type": "markdown",
      "metadata": {
        "deletable": true,
        "editable": true,
        "id": "hXPaBjOYvZ0h"
      },
      "source": [
        "## Дифференциальные уравнения"
      ]
    },
    {
      "cell_type": "code",
      "execution_count": null,
      "metadata": {
        "deletable": true,
        "editable": true,
        "id": "LECKuSy_vZ0h"
      },
      "outputs": [],
      "source": [
        "t=Symbol('t')\n",
        "x=Function('x')\n",
        "p=Function('p')"
      ]
    },
    {
      "cell_type": "markdown",
      "metadata": {
        "deletable": true,
        "editable": true,
        "id": "2xZhlqKivZ0h"
      },
      "source": [
        "Первого порядка."
      ]
    },
    {
      "cell_type": "code",
      "execution_count": null,
      "metadata": {
        "deletable": true,
        "editable": true,
        "colab": {
          "base_uri": "https://localhost:8080/"
        },
        "id": "p9b0xsDXvZ0h",
        "outputId": "82b7b291-f065-4d32-c6c9-663e0190394c"
      },
      "outputs": [
        {
          "output_type": "execute_result",
          "data": {
            "text/plain": [
              "           -t\n",
              "x(t) = C₁⋅ℯ  "
            ],
            "image/png": "[encoded data removed]",
            "text/latex": "$\\displaystyle x{\\left(t \\right)} = C_{1} e^{- t}$"
          },
          "metadata": {},
          "execution_count": 218
        }
      ],
      "source": [
        "dsolve(diff(x(t),t)+x(t),x(t))"
      ]
    },
    {
      "cell_type": "markdown",
      "metadata": {
        "deletable": true,
        "editable": true,
        "id": "ziDvW9tLvZ0h"
      },
      "source": [
        "Второго порядка."
      ]
    },
    {
      "cell_type": "code",
      "execution_count": null,
      "metadata": {
        "deletable": true,
        "editable": true,
        "colab": {
          "base_uri": "https://localhost:8080/"
        },
        "id": "754Lhd5kvZ0i",
        "outputId": "6dd38202-1426-496a-d345-d697d8ca5a7f"
      },
      "outputs": [
        {
          "output_type": "execute_result",
          "data": {
            "text/plain": [
              "x(t) = C₁⋅sin(t) + C₂⋅cos(t)"
            ],
            "image/png": "[encoded data removed]",
            "text/latex": "$\\displaystyle x{\\left(t \\right)} = C_{1} \\sin{\\left(t \\right)} + C_{2} \\cos{\\left(t \\right)}$"
          },
          "metadata": {},
          "execution_count": 219
        }
      ],
      "source": [
        "dsolve(diff(x(t),t,2)+x(t),x(t))"
      ]
    },
    {
      "cell_type": "markdown",
      "metadata": {
        "deletable": true,
        "editable": true,
        "id": "XHNvO0UCvZ0j"
      },
      "source": [
        "Система уравнений первого порядка."
      ]
    },
    {
      "cell_type": "code",
      "execution_count": null,
      "metadata": {
        "deletable": true,
        "editable": true,
        "colab": {
          "base_uri": "https://localhost:8080/"
        },
        "id": "zIvAa6GuvZ0j",
        "outputId": "6748fc57-cc95-47ed-cd67-1e8ba6798b49"
      },
      "outputs": [
        {
          "output_type": "execute_result",
          "data": {
            "text/plain": [
              "[x(t) = C₁⋅sin(t) + C₂⋅cos(t), p(t) = C₁⋅cos(t) - C₂⋅sin(t)]"
            ],
            "image/png": "[encoded data removed]",
            "text/latex": "$\\displaystyle \\left[ x{\\left(t \\right)} = C_{1} \\sin{\\left(t \\right)} + C_{2} \\cos{\\left(t \\right)}, \\  p{\\left(t \\right)} = C_{1} \\cos{\\left(t \\right)} - C_{2} \\sin{\\left(t \\right)}\\right]$"
          },
          "metadata": {},
          "execution_count": 220
        }
      ],
      "source": [
        "dsolve((diff(x(t),t)-p(t),diff(p(t),t)+x(t)))"
      ]
    },
    {
      "cell_type": "markdown",
      "metadata": {
        "deletable": true,
        "editable": true,
        "id": "X2HseuCfvZ0j"
      },
      "source": [
        "## Линейная алгебра"
      ]
    },
    {
      "cell_type": "code",
      "execution_count": null,
      "metadata": {
        "collapsed": true,
        "deletable": true,
        "editable": true,
        "id": "aFz9mAcCvZ0j"
      },
      "outputs": [],
      "source": [
        "a,b,c,d,e,f=symbols('a b c d e f')"
      ]
    },
    {
      "cell_type": "markdown",
      "metadata": {
        "deletable": true,
        "editable": true,
        "id": "zxZYXYDKvZ0j"
      },
      "source": [
        "Матрицу можно построить из списка списков."
      ]
    },
    {
      "cell_type": "code",
      "execution_count": null,
      "metadata": {
        "deletable": true,
        "editable": true,
        "colab": {
          "base_uri": "https://localhost:8080/",
          "height": 58
        },
        "id": "Q6nSnlRnvZ0k",
        "outputId": "c84f1685-7fa8-49b8-dd37-a600f034bfc0"
      },
      "outputs": [
        {
          "output_type": "execute_result",
          "data": {
            "text/plain": [
              "⎡a  b  c⎤\n",
              "⎢       ⎥\n",
              "⎣d  e  f⎦"
            ],
            "text/latex": "$\\displaystyle \\left[\\begin{matrix}a & b & c\\\\d & e & f\\end{matrix}\\right]$"
          },
          "metadata": {},
          "execution_count": 222
        }
      ],
      "source": [
        "M=Matrix([[a,b,c],[d,e,f]])\n",
        "M"
      ]
    },
    {
      "cell_type": "code",
      "execution_count": null,
      "metadata": {
        "deletable": true,
        "editable": true,
        "colab": {
          "base_uri": "https://localhost:8080/",
          "height": 37
        },
        "id": "up5MGIP_vZ0k",
        "outputId": "11bc8696-6bb0-4a8d-fefc-456422e05de9"
      },
      "outputs": [
        {
          "output_type": "execute_result",
          "data": {
            "text/plain": [
              "(2, 3)"
            ],
            "image/png": "[encoded data removed]",
            "text/latex": "$\\displaystyle \\left( 2, \\  3\\right)$"
          },
          "metadata": {},
          "execution_count": 223
        }
      ],
      "source": [
        "M.shape"
      ]
    },
    {
      "cell_type": "markdown",
      "metadata": {
        "deletable": true,
        "editable": true,
        "id": "eOW5hdsYvZ0k"
      },
      "source": [
        "Матрица-строка."
      ]
    },
    {
      "cell_type": "code",
      "execution_count": null,
      "metadata": {
        "deletable": true,
        "editable": true,
        "colab": {
          "base_uri": "https://localhost:8080/",
          "height": 38
        },
        "id": "CaSYG0_CvZ0k",
        "outputId": "697bf729-bece-4511-f4aa-c039241b7b0d"
      },
      "outputs": [
        {
          "output_type": "execute_result",
          "data": {
            "text/plain": [
              "[1  2  3]"
            ],
            "text/latex": "$\\displaystyle \\left[\\begin{matrix}1 & 2 & 3\\end{matrix}\\right]$"
          },
          "metadata": {},
          "execution_count": 224
        }
      ],
      "source": [
        "Matrix([[1,2,3]])"
      ]
    },
    {
      "cell_type": "markdown",
      "metadata": {
        "deletable": true,
        "editable": true,
        "id": "ojlQM9LavZ0k"
      },
      "source": [
        "Матрица-столбец."
      ]
    },
    {
      "cell_type": "code",
      "execution_count": null,
      "metadata": {
        "deletable": true,
        "editable": true,
        "colab": {
          "base_uri": "https://localhost:8080/",
          "height": 78
        },
        "id": "2COLl62YvZ0k",
        "outputId": "e393b285-12f3-412d-d251-ea4f5363de5e"
      },
      "outputs": [
        {
          "output_type": "execute_result",
          "data": {
            "text/plain": [
              "⎡1⎤\n",
              "⎢ ⎥\n",
              "⎢2⎥\n",
              "⎢ ⎥\n",
              "⎣3⎦"
            ],
            "text/latex": "$\\displaystyle \\left[\\begin{matrix}1\\\\2\\\\3\\end{matrix}\\right]$"
          },
          "metadata": {},
          "execution_count": 225
        }
      ],
      "source": [
        "Matrix([1,2,3])"
      ]
    },
    {
      "cell_type": "markdown",
      "metadata": {
        "deletable": true,
        "editable": true,
        "id": "xNn73gAavZ0k"
      },
      "source": [
        "Можно построить матрицу из функции."
      ]
    },
    {
      "cell_type": "code",
      "execution_count": null,
      "metadata": {
        "deletable": true,
        "editable": true,
        "colab": {
          "base_uri": "https://localhost:8080/",
          "height": 78
        },
        "id": "6IY-jzjCvZ0l",
        "outputId": "49640eee-83ef-45ef-fbe8-f1dd8bdf8449"
      },
      "outputs": [
        {
          "output_type": "execute_result",
          "data": {
            "text/plain": [
              "⎡ 1   1/2  1/3⎤\n",
              "⎢             ⎥\n",
              "⎢1/2  1/3  1/4⎥\n",
              "⎢             ⎥\n",
              "⎣1/3  1/4  1/5⎦"
            ],
            "text/latex": "$\\displaystyle \\left[\\begin{matrix}1 & \\frac{1}{2} & \\frac{1}{3}\\\\\\frac{1}{2} & \\frac{1}{3} & \\frac{1}{4}\\\\\\frac{1}{3} & \\frac{1}{4} & \\frac{1}{5}\\end{matrix}\\right]$"
          },
          "metadata": {},
          "execution_count": 226
        }
      ],
      "source": [
        "def g(i,j):\n",
        "    return Rational(1,i+j+1)\n",
        "Matrix(3,3,g)"
      ]
    },
    {
      "cell_type": "markdown",
      "metadata": {
        "collapsed": false,
        "deletable": true,
        "editable": true,
        "id": "lYYhwu51vZ0l"
      },
      "source": [
        "Или из неопределённой функции."
      ]
    },
    {
      "cell_type": "code",
      "execution_count": null,
      "metadata": {
        "deletable": true,
        "editable": true,
        "colab": {
          "base_uri": "https://localhost:8080/",
          "height": 78
        },
        "id": "5OplEh0QvZ0l",
        "outputId": "485e330e-d94a-4815-881d-03715333015f"
      },
      "outputs": [
        {
          "output_type": "execute_result",
          "data": {
            "text/plain": [
              "⎡g(0, 0)  g(0, 1)  g(0, 2)⎤\n",
              "⎢                         ⎥\n",
              "⎢g(1, 0)  g(1, 1)  g(1, 2)⎥\n",
              "⎢                         ⎥\n",
              "⎣g(2, 0)  g(2, 1)  g(2, 2)⎦"
            ],
            "text/latex": "$\\displaystyle \\left[\\begin{matrix}g{\\left(0,0 \\right)} & g{\\left(0,1 \\right)} & g{\\left(0,2 \\right)}\\\\g{\\left(1,0 \\right)} & g{\\left(1,1 \\right)} & g{\\left(1,2 \\right)}\\\\g{\\left(2,0 \\right)} & g{\\left(2,1 \\right)} & g{\\left(2,2 \\right)}\\end{matrix}\\right]$"
          },
          "metadata": {},
          "execution_count": 227
        }
      ],
      "source": [
        "g=Function('g')\n",
        "M=Matrix(3,3,g)\n",
        "M"
      ]
    },
    {
      "cell_type": "code",
      "execution_count": null,
      "metadata": {
        "deletable": true,
        "editable": true,
        "colab": {
          "base_uri": "https://localhost:8080/",
          "height": 38
        },
        "id": "1ZP7MB6DvZ0l",
        "outputId": "9c12e6a8-1e39-47e8-d78f-d09a95e64f61"
      },
      "outputs": [
        {
          "output_type": "execute_result",
          "data": {
            "text/plain": [
              "g(1, 2)"
            ],
            "image/png": "[encoded data removed]",
            "text/latex": "$\\displaystyle g{\\left(1,2 \\right)}$"
          },
          "metadata": {},
          "execution_count": 228
        }
      ],
      "source": [
        "M[1,2]"
      ]
    },
    {
      "cell_type": "code",
      "execution_count": null,
      "metadata": {
        "deletable": true,
        "editable": true,
        "colab": {
          "base_uri": "https://localhost:8080/",
          "height": 78
        },
        "id": "cn9UfeC8vZ0l",
        "outputId": "02fabb9f-8882-4b2a-c725-3c3f749ad776"
      },
      "outputs": [
        {
          "output_type": "execute_result",
          "data": {
            "text/plain": [
              "⎡g(0, 0)  g(0, 1)  g(0, 2)⎤\n",
              "⎢                         ⎥\n",
              "⎢g(1, 0)  g(1, 1)     0   ⎥\n",
              "⎢                         ⎥\n",
              "⎣g(2, 0)  g(2, 1)  g(2, 2)⎦"
            ],
            "text/latex": "$\\displaystyle \\left[\\begin{matrix}g{\\left(0,0 \\right)} & g{\\left(0,1 \\right)} & g{\\left(0,2 \\right)}\\\\g{\\left(1,0 \\right)} & g{\\left(1,1 \\right)} & 0\\\\g{\\left(2,0 \\right)} & g{\\left(2,1 \\right)} & g{\\left(2,2 \\right)}\\end{matrix}\\right]$"
          },
          "metadata": {},
          "execution_count": 229
        }
      ],
      "source": [
        "M[1,2]=0\n",
        "M"
      ]
    },
    {
      "cell_type": "code",
      "execution_count": null,
      "metadata": {
        "deletable": true,
        "editable": true,
        "colab": {
          "base_uri": "https://localhost:8080/",
          "height": 38
        },
        "id": "M3x2f0euvZ0l",
        "outputId": "2118936d-a037-4f6c-9112-587f0dd3535c"
      },
      "outputs": [
        {
          "output_type": "execute_result",
          "data": {
            "text/plain": [
              "[g(2, 0)  g(2, 1)  g(2, 2)]"
            ],
            "text/latex": "$\\displaystyle \\left[\\begin{matrix}g{\\left(2,0 \\right)} & g{\\left(2,1 \\right)} & g{\\left(2,2 \\right)}\\end{matrix}\\right]$"
          },
          "metadata": {},
          "execution_count": 230
        }
      ],
      "source": [
        "M[2,:]"
      ]
    },
    {
      "cell_type": "code",
      "execution_count": null,
      "metadata": {
        "deletable": true,
        "editable": true,
        "colab": {
          "base_uri": "https://localhost:8080/",
          "height": 78
        },
        "id": "K-3Akjk3vZ0l",
        "outputId": "716e4d09-4810-40a2-ec61-66e7d3986b78"
      },
      "outputs": [
        {
          "output_type": "execute_result",
          "data": {
            "text/plain": [
              "⎡g(0, 1)⎤\n",
              "⎢       ⎥\n",
              "⎢g(1, 1)⎥\n",
              "⎢       ⎥\n",
              "⎣g(2, 1)⎦"
            ],
            "text/latex": "$\\displaystyle \\left[\\begin{matrix}g{\\left(0,1 \\right)}\\\\g{\\left(1,1 \\right)}\\\\g{\\left(2,1 \\right)}\\end{matrix}\\right]$"
          },
          "metadata": {},
          "execution_count": 231
        }
      ],
      "source": [
        "M[:,1]"
      ]
    },
    {
      "cell_type": "code",
      "execution_count": null,
      "metadata": {
        "deletable": true,
        "editable": true,
        "colab": {
          "base_uri": "https://localhost:8080/",
          "height": 58
        },
        "id": "V50qGTkpvZ0m",
        "outputId": "45407c1e-b9e6-430d-9a7e-b0fc01935fef"
      },
      "outputs": [
        {
          "output_type": "execute_result",
          "data": {
            "text/plain": [
              "⎡g(0, 1)  g(0, 2)⎤\n",
              "⎢                ⎥\n",
              "⎣g(1, 1)     0   ⎦"
            ],
            "text/latex": "$\\displaystyle \\left[\\begin{matrix}g{\\left(0,1 \\right)} & g{\\left(0,2 \\right)}\\\\g{\\left(1,1 \\right)} & 0\\end{matrix}\\right]$"
          },
          "metadata": {},
          "execution_count": 232
        }
      ],
      "source": [
        "M[0:2,1:3]"
      ]
    },
    {
      "cell_type": "markdown",
      "metadata": {
        "collapsed": false,
        "deletable": true,
        "editable": true,
        "id": "rjy_lB0EvZ0m"
      },
      "source": [
        "Единичная матрица."
      ]
    },
    {
      "cell_type": "code",
      "execution_count": null,
      "metadata": {
        "deletable": true,
        "editable": true,
        "colab": {
          "base_uri": "https://localhost:8080/",
          "height": 78
        },
        "id": "-QvGCWmgvZ0m",
        "outputId": "70b8acdd-414d-4247-8f10-5a5c6359a89b"
      },
      "outputs": [
        {
          "output_type": "execute_result",
          "data": {
            "text/plain": [
              "⎡1  0  0⎤\n",
              "⎢       ⎥\n",
              "⎢0  1  0⎥\n",
              "⎢       ⎥\n",
              "⎣0  0  1⎦"
            ],
            "text/latex": "$\\displaystyle \\left[\\begin{matrix}1 & 0 & 0\\\\0 & 1 & 0\\\\0 & 0 & 1\\end{matrix}\\right]$"
          },
          "metadata": {},
          "execution_count": 233
        }
      ],
      "source": [
        "eye(3)"
      ]
    },
    {
      "cell_type": "markdown",
      "metadata": {
        "deletable": true,
        "editable": true,
        "id": "zpYbZ9aRvZ0m"
      },
      "source": [
        "Матрица из нулей."
      ]
    },
    {
      "cell_type": "code",
      "execution_count": null,
      "metadata": {
        "deletable": true,
        "editable": true,
        "colab": {
          "base_uri": "https://localhost:8080/",
          "height": 78
        },
        "id": "9mw39_RVvZ0m",
        "outputId": "a9f4e595-5c31-457f-e67f-cb0757908879"
      },
      "outputs": [
        {
          "output_type": "execute_result",
          "data": {
            "text/plain": [
              "⎡0  0  0⎤\n",
              "⎢       ⎥\n",
              "⎢0  0  0⎥\n",
              "⎢       ⎥\n",
              "⎣0  0  0⎦"
            ],
            "text/latex": "$\\displaystyle \\left[\\begin{matrix}0 & 0 & 0\\\\0 & 0 & 0\\\\0 & 0 & 0\\end{matrix}\\right]$"
          },
          "metadata": {},
          "execution_count": 234
        }
      ],
      "source": [
        "zeros(3)"
      ]
    },
    {
      "cell_type": "code",
      "execution_count": null,
      "metadata": {
        "deletable": true,
        "editable": true,
        "colab": {
          "base_uri": "https://localhost:8080/",
          "height": 58
        },
        "id": "WeHMXFYAvZ0m",
        "outputId": "83929c3b-6f42-4cf3-ca86-9de8ae0bb5ab"
      },
      "outputs": [
        {
          "output_type": "execute_result",
          "data": {
            "text/plain": [
              "⎡0  0  0⎤\n",
              "⎢       ⎥\n",
              "⎣0  0  0⎦"
            ],
            "text/latex": "$\\displaystyle \\left[\\begin{matrix}0 & 0 & 0\\\\0 & 0 & 0\\end{matrix}\\right]$"
          },
          "metadata": {},
          "execution_count": 235
        }
      ],
      "source": [
        "zeros(2,3)"
      ]
    },
    {
      "cell_type": "markdown",
      "metadata": {
        "deletable": true,
        "editable": true,
        "id": "oa4-_PiZvZ0m"
      },
      "source": [
        "Диагональная матрица."
      ]
    },
    {
      "cell_type": "code",
      "execution_count": null,
      "metadata": {
        "deletable": true,
        "editable": true,
        "colab": {
          "base_uri": "https://localhost:8080/",
          "height": 78
        },
        "id": "INf-msYNvZ0m",
        "outputId": "06982915-12c6-492b-87f4-b7401cdb0a90"
      },
      "outputs": [
        {
          "output_type": "execute_result",
          "data": {
            "text/plain": [
              "⎡1  0  0⎤\n",
              "⎢       ⎥\n",
              "⎢0  2  0⎥\n",
              "⎢       ⎥\n",
              "⎣0  0  3⎦"
            ],
            "text/latex": "$\\displaystyle \\left[\\begin{matrix}1 & 0 & 0\\\\0 & 2 & 0\\\\0 & 0 & 3\\end{matrix}\\right]$"
          },
          "metadata": {},
          "execution_count": 236
        }
      ],
      "source": [
        "diag(1,2,3)"
      ]
    },
    {
      "cell_type": "code",
      "execution_count": null,
      "metadata": {
        "deletable": true,
        "editable": true,
        "colab": {
          "base_uri": "https://localhost:8080/",
          "height": 98
        },
        "id": "f5RCpyFlvZ0n",
        "outputId": "64be63b3-0af8-4fc4-cf3c-0fd6e6995a53"
      },
      "outputs": [
        {
          "output_type": "execute_result",
          "data": {
            "text/plain": [
              "⎡1  0  0  0⎤\n",
              "⎢          ⎥\n",
              "⎢0  a  1  0⎥\n",
              "⎢          ⎥\n",
              "⎢0  0  a  0⎥\n",
              "⎢          ⎥\n",
              "⎣0  0  0  2⎦"
            ],
            "text/latex": "$\\displaystyle \\left[\\begin{matrix}1 & 0 & 0 & 0\\\\0 & a & 1 & 0\\\\0 & 0 & a & 0\\\\0 & 0 & 0 & 2\\end{matrix}\\right]$"
          },
          "metadata": {},
          "execution_count": 237
        }
      ],
      "source": [
        "M=Matrix([[a,1],[0,a]])\n",
        "diag(1,M,2)"
      ]
    },
    {
      "cell_type": "markdown",
      "metadata": {
        "deletable": true,
        "editable": true,
        "id": "LT9Y8ZirvZ0n"
      },
      "source": [
        "Операции с матрицами."
      ]
    },
    {
      "cell_type": "code",
      "execution_count": null,
      "metadata": {
        "deletable": true,
        "editable": true,
        "colab": {
          "base_uri": "https://localhost:8080/",
          "height": 58
        },
        "id": "AKoIDy3fvZ0n",
        "outputId": "8b11beaa-140b-4649-9952-3b2184c05ede"
      },
      "outputs": [
        {
          "output_type": "execute_result",
          "data": {
            "text/plain": [
              "⎡a + 1  b + 2⎤\n",
              "⎢            ⎥\n",
              "⎣c + 3  d + 4⎦"
            ],
            "text/latex": "$\\displaystyle \\left[\\begin{matrix}a + 1 & b + 2\\\\c + 3 & d + 4\\end{matrix}\\right]$"
          },
          "metadata": {},
          "execution_count": 238
        }
      ],
      "source": [
        "A=Matrix([[a,b],[c,d]])\n",
        "B=Matrix([[1,2],[3,4]])\n",
        "A+B"
      ]
    },
    {
      "cell_type": "code",
      "execution_count": null,
      "metadata": {
        "deletable": true,
        "editable": true,
        "colab": {
          "base_uri": "https://localhost:8080/",
          "height": 58
        },
        "id": "HPtlHo4uvZ0n",
        "outputId": "a6b69a87-b588-468a-edb9-de521dfe7115"
      },
      "outputs": [
        {
          "output_type": "execute_result",
          "data": {
            "text/plain": [
              "⎛⎡a + 3⋅b  2⋅a + 4⋅b⎤  ⎡ a + 2⋅c    b + 2⋅d ⎤⎞\n",
              "⎜⎢                  ⎥, ⎢                    ⎥⎟\n",
              "⎝⎣c + 3⋅d  2⋅c + 4⋅d⎦  ⎣3⋅a + 4⋅c  3⋅b + 4⋅d⎦⎠"
            ],
            "text/latex": "$\\displaystyle \\left( \\left[\\begin{matrix}a + 3 b & 2 a + 4 b\\\\c + 3 d & 2 c + 4 d\\end{matrix}\\right], \\  \\left[\\begin{matrix}a + 2 c & b + 2 d\\\\3 a + 4 c & 3 b + 4 d\\end{matrix}\\right]\\right)$"
          },
          "metadata": {},
          "execution_count": 239
        }
      ],
      "source": [
        "A*B,B*A"
      ]
    },
    {
      "cell_type": "code",
      "execution_count": null,
      "metadata": {
        "deletable": true,
        "editable": true,
        "colab": {
          "base_uri": "https://localhost:8080/",
          "height": 58
        },
        "id": "taefzUw6vZ0n",
        "outputId": "d28a7267-c0cc-46bf-bcfc-fc062e50b8f7"
      },
      "outputs": [
        {
          "output_type": "execute_result",
          "data": {
            "text/plain": [
              "⎡   3⋅b - 2⋅c      2⋅a + 3⋅b - 2⋅d⎤\n",
              "⎢                                 ⎥\n",
              "⎣-3⋅a - 3⋅c + 3⋅d    -3⋅b + 2⋅c   ⎦"
            ],
            "text/latex": "$\\displaystyle \\left[\\begin{matrix}3 b - 2 c & 2 a + 3 b - 2 d\\\\- 3 a - 3 c + 3 d & - 3 b + 2 c\\end{matrix}\\right]$"
          },
          "metadata": {},
          "execution_count": 240
        }
      ],
      "source": [
        "A*B-B*A"
      ]
    },
    {
      "cell_type": "code",
      "execution_count": null,
      "metadata": {
        "deletable": true,
        "editable": true,
        "colab": {
          "base_uri": "https://localhost:8080/",
          "height": 60
        },
        "id": "xG0mqQiAvZ0n",
        "outputId": "63268763-b6bf-496b-beca-25b2011bf1ba"
      },
      "outputs": [
        {
          "output_type": "execute_result",
          "data": {
            "text/plain": [
              "⎡    d         -b    ⎤\n",
              "⎢─────────  ─────────⎥\n",
              "⎢a⋅d - b⋅c  a⋅d - b⋅c⎥\n",
              "⎢                    ⎥\n",
              "⎢   -c          a    ⎥\n",
              "⎢─────────  ─────────⎥\n",
              "⎣a⋅d - b⋅c  a⋅d - b⋅c⎦"
            ],
            "text/latex": "$\\displaystyle \\left[\\begin{matrix}\\frac{d}{a d - b c} & - \\frac{b}{a d - b c}\\\\- \\frac{c}{a d - b c} & \\frac{a}{a d - b c}\\end{matrix}\\right]$"
          },
          "metadata": {},
          "execution_count": 241
        }
      ],
      "source": [
        "simplify(A**(-1))"
      ]
    },
    {
      "cell_type": "code",
      "execution_count": null,
      "metadata": {
        "deletable": true,
        "editable": true,
        "colab": {
          "base_uri": "https://localhost:8080/",
          "height": 38
        },
        "id": "cE7f9v7evZ0n",
        "outputId": "e7de1f84-ca76-4c46-ed5c-2de2f9af7929"
      },
      "outputs": [
        {
          "output_type": "execute_result",
          "data": {
            "text/plain": [
              "a⋅d - b⋅c"
            ],
            "image/png": "[encoded data removed]",
            "text/latex": "$\\displaystyle a d - b c$"
          },
          "metadata": {},
          "execution_count": 242
        }
      ],
      "source": [
        "det(A)"
      ]
    },
    {
      "cell_type": "markdown",
      "metadata": {
        "deletable": true,
        "editable": true,
        "id": "pxfU3YYFvZ0o"
      },
      "source": [
        "### Собственные значения и векторы"
      ]
    },
    {
      "cell_type": "code",
      "execution_count": null,
      "metadata": {
        "collapsed": true,
        "deletable": true,
        "editable": true,
        "id": "7SxNHBuhvZ0o"
      },
      "outputs": [],
      "source": [
        "x=Symbol('x',real=True)"
      ]
    },
    {
      "cell_type": "code",
      "execution_count": null,
      "metadata": {
        "deletable": true,
        "editable": true,
        "colab": {
          "base_uri": "https://localhost:8080/"
        },
        "id": "4H8xApHQvZ0o",
        "outputId": "69984674-3ba9-4b33-d85a-1ab84cff9cee"
      },
      "outputs": [
        {
          "output_type": "execute_result",
          "data": {
            "text/plain": [
              "⎡        3                  ⎛     2⎞             ⎛   2    ⎞⎤\n",
              "⎢ (1 - x) ⋅(x + 3)      4⋅x⋅⎝1 - x ⎠     (3 - x)⋅⎝2⋅x  - 2⎠⎥\n",
              "⎢                                                          ⎥\n",
              "⎢       ⎛     2⎞                     3   ⎛       2⎞        ⎥\n",
              "⎢   4⋅x⋅⎝1 - x ⎠     -(3 - x)⋅(x + 1)    ⎝2 - 2⋅x ⎠⋅(x + 3)⎥\n",
              "⎢                                                          ⎥\n",
              "⎢        ⎛   2    ⎞  ⎛       2⎞                            ⎥\n",
              "⎣(3 - x)⋅⎝2⋅x  - 2⎠  ⎝2 - 2⋅x ⎠⋅(x + 3)         16⋅x       ⎦"
            ],
            "text/latex": "$\\displaystyle \\left[\\begin{matrix}\\left(1 - x\\right)^{3} \\left(x + 3\\right) & 4 x \\left(1 - x^{2}\\right) & \\left(3 - x\\right) \\left(2 x^{2} - 2\\right)\\\\4 x \\left(1 - x^{2}\\right) & - \\left(3 - x\\right) \\left(x + 1\\right)^{3} & \\left(2 - 2 x^{2}\\right) \\left(x + 3\\right)\\\\\\left(3 - x\\right) \\left(2 x^{2} - 2\\right) & \\left(2 - 2 x^{2}\\right) \\left(x + 3\\right) & 16 x\\end{matrix}\\right]$"
          },
          "metadata": {},
          "execution_count": 244
        }
      ],
      "source": [
        "M=Matrix([[(1-x)**3*(3+x),4*x*(1-x**2),-2*(1-x**2)*(3-x)],\n",
        "          [4*x*(1-x**2),-(1+x)**3*(3-x),2*(1-x**2)*(3+x)],\n",
        "          [-2*(1-x**2)*(3-x),2*(1-x**2)*(3+x),16*x]])\n",
        "M"
      ]
    },
    {
      "cell_type": "code",
      "execution_count": null,
      "metadata": {
        "deletable": true,
        "editable": true,
        "colab": {
          "base_uri": "https://localhost:8080/"
        },
        "id": "o-FQD4G1vZ0o",
        "outputId": "c6bec157-f340-4652-a542-2c1fc1a58bcc"
      },
      "outputs": [
        {
          "output_type": "execute_result",
          "data": {
            "text/plain": [
              "0"
            ],
            "image/png": "[encoded data removed]",
            "text/latex": "$\\displaystyle 0$"
          },
          "metadata": {},
          "execution_count": 245
        }
      ],
      "source": [
        "det(M)"
      ]
    },
    {
      "cell_type": "markdown",
      "metadata": {
        "deletable": true,
        "editable": true,
        "id": "K9n1ZVV0vZ0o"
      },
      "source": [
        "Значит, у этой матрицы есть нулевое подпространство (она обращает векторы из этого подпространства в 0). Базис этого подпространства."
      ]
    },
    {
      "cell_type": "code",
      "execution_count": null,
      "metadata": {
        "deletable": true,
        "editable": true,
        "colab": {
          "base_uri": "https://localhost:8080/"
        },
        "id": "kWySv4qsvZ0o",
        "outputId": "732f7433-dc61-49b2-e171-c4b42fa76eee"
      },
      "outputs": [
        {
          "output_type": "execute_result",
          "data": {
            "text/plain": [
              "1"
            ],
            "image/png": "[encoded data removed]",
            "text/latex": "$\\displaystyle 1$"
          },
          "metadata": {},
          "execution_count": 246
        }
      ],
      "source": [
        "v=M.nullspace()\n",
        "len(v)"
      ]
    },
    {
      "cell_type": "markdown",
      "metadata": {
        "deletable": true,
        "editable": true,
        "id": "6O8G1cXlvZ0p"
      },
      "source": [
        "Оно одномерно."
      ]
    },
    {
      "cell_type": "code",
      "execution_count": null,
      "metadata": {
        "deletable": true,
        "editable": true,
        "colab": {
          "base_uri": "https://localhost:8080/"
        },
        "id": "uCH5KYgwvZ0p",
        "outputId": "e129d308-b53d-4811-f8ec-896ddfde255e"
      },
      "outputs": [
        {
          "output_type": "execute_result",
          "data": {
            "text/plain": [
              "⎡ -2  ⎤\n",
              "⎢─────⎥\n",
              "⎢x - 1⎥\n",
              "⎢     ⎥\n",
              "⎢  2  ⎥\n",
              "⎢─────⎥\n",
              "⎢x + 1⎥\n",
              "⎢     ⎥\n",
              "⎣  1  ⎦"
            ],
            "text/latex": "$\\displaystyle \\left[\\begin{matrix}- \\frac{2}{x - 1}\\\\\\frac{2}{x + 1}\\\\1\\end{matrix}\\right]$"
          },
          "metadata": {},
          "execution_count": 247
        }
      ],
      "source": [
        "v=simplify(v[0])\n",
        "v"
      ]
    },
    {
      "cell_type": "markdown",
      "metadata": {
        "deletable": true,
        "editable": true,
        "id": "x5so_QGMvZ0p"
      },
      "source": [
        "Проверим."
      ]
    },
    {
      "cell_type": "code",
      "execution_count": null,
      "metadata": {
        "deletable": true,
        "editable": true,
        "colab": {
          "base_uri": "https://localhost:8080/"
        },
        "id": "N-vMwaFkvZ0p",
        "outputId": "29a16b0f-545e-43bc-a1af-64b6214aeb08"
      },
      "outputs": [
        {
          "output_type": "execute_result",
          "data": {
            "text/plain": [
              "⎡0⎤\n",
              "⎢ ⎥\n",
              "⎢0⎥\n",
              "⎢ ⎥\n",
              "⎣0⎦"
            ],
            "text/latex": "$\\displaystyle \\left[\\begin{matrix}0\\\\0\\\\0\\end{matrix}\\right]$"
          },
          "metadata": {},
          "execution_count": 248
        }
      ],
      "source": [
        "simplify(M*v)"
      ]
    },
    {
      "cell_type": "markdown",
      "metadata": {
        "deletable": true,
        "editable": true,
        "id": "lppbC3UbvZ0p"
      },
      "source": [
        "Собственные значения и их кратности."
      ]
    },
    {
      "cell_type": "code",
      "execution_count": null,
      "metadata": {
        "deletable": true,
        "editable": true,
        "colab": {
          "base_uri": "https://localhost:8080/"
        },
        "id": "WJbQfyZRvZ0q",
        "outputId": "6c6fa9b2-062e-489d-c791-e6847b3f6609"
      },
      "outputs": [
        {
          "output_type": "execute_result",
          "data": {
            "text/plain": [
              "⎧               2             2   ⎫\n",
              "⎨       ⎛ 2    ⎞      ⎛ 2    ⎞    ⎬\n",
              "⎩0: 1, -⎝x  + 3⎠ : 1, ⎝x  + 3⎠ : 1⎭"
            ],
            "image/png": "[encoded data removed]",
            "text/latex": "$\\displaystyle \\left\\{ 0 : 1, \\  - \\left(x^{2} + 3\\right)^{2} : 1, \\  \\left(x^{2} + 3\\right)^{2} : 1\\right\\}$"
          },
          "metadata": {},
          "execution_count": 249
        }
      ],
      "source": [
        "M.eigenvals()"
      ]
    },
    {
      "cell_type": "markdown",
      "metadata": {
        "deletable": true,
        "editable": true,
        "id": "-1Gpa64BvZ0q"
      },
      "source": [
        "Если нужны не только собственные значения, но и собственные векторы, то нужно использовать метод `eigenvects`. Он возвращает список кортежей. В каждом из них нулевой элемент - собственное значение, первый - его кратность, и последний - список собственных векторов, образующих базис (их столько, какова кратность)."
      ]
    },
    {
      "cell_type": "code",
      "execution_count": null,
      "metadata": {
        "deletable": true,
        "editable": true,
        "colab": {
          "base_uri": "https://localhost:8080/"
        },
        "id": "oDxXbQ0MvZ0q",
        "outputId": "ea478571-bf1b-46d5-efa3-ff2cd5567c27"
      },
      "outputs": [
        {
          "output_type": "execute_result",
          "data": {
            "text/plain": [
              "3"
            ],
            "image/png": "[encoded data removed]",
            "text/latex": "$\\displaystyle 3$"
          },
          "metadata": {},
          "execution_count": 250
        }
      ],
      "source": [
        "v=M.eigenvects()\n",
        "len(v)"
      ]
    },
    {
      "cell_type": "code",
      "execution_count": null,
      "metadata": {
        "deletable": true,
        "editable": true,
        "colab": {
          "base_uri": "https://localhost:8080/"
        },
        "id": "MYRSGQsbvZ0q",
        "outputId": "7a336d7d-06ed-4c85-ae78-84bd38f2304f"
      },
      "outputs": [
        {
          "output_type": "execute_result",
          "data": {
            "text/plain": [
              "⎡⎛      ⎡⎡ -2  ⎤⎤⎞  ⎛               ⎡⎡x   1⎤⎤⎞  ⎛              ⎡⎡x - 1⎤⎤⎞⎤\n",
              "⎢⎜      ⎢⎢─────⎥⎥⎟  ⎜               ⎢⎢─ + ─⎥⎥⎟  ⎜              ⎢⎢─────⎥⎥⎟⎥\n",
              "⎢⎜      ⎢⎢x - 1⎥⎥⎟  ⎜         2     ⎢⎢2   2⎥⎥⎟  ⎜        2     ⎢⎢x + 1⎥⎥⎟⎥\n",
              "⎢⎜      ⎢⎢     ⎥⎥⎟  ⎜ ⎛ 2    ⎞      ⎢⎢     ⎥⎥⎟  ⎜⎛ 2    ⎞      ⎢⎢     ⎥⎥⎟⎥\n",
              "⎢⎜0, 1, ⎢⎢  2  ⎥⎥⎟, ⎜-⎝x  + 3⎠ , 1, ⎢⎢x + 1⎥⎥⎟, ⎜⎝x  + 3⎠ , 1, ⎢⎢1   x⎥⎥⎟⎥\n",
              "⎢⎜      ⎢⎢─────⎥⎥⎟  ⎜               ⎢⎢─────⎥⎥⎟  ⎜              ⎢⎢─ - ─⎥⎥⎟⎥\n",
              "⎢⎜      ⎢⎢x + 1⎥⎥⎟  ⎜               ⎢⎢x - 1⎥⎥⎟  ⎜              ⎢⎢2   2⎥⎥⎟⎥\n",
              "⎢⎜      ⎢⎢     ⎥⎥⎟  ⎜               ⎢⎢     ⎥⎥⎟  ⎜              ⎢⎢     ⎥⎥⎟⎥\n",
              "⎣⎝      ⎣⎣  1  ⎦⎦⎠  ⎝               ⎣⎣  1  ⎦⎦⎠  ⎝              ⎣⎣  1  ⎦⎦⎠⎦"
            ],
            "text/latex": "$\\displaystyle \\left[ \\left( 0, \\  1, \\  \\left[ \\left[\\begin{matrix}- \\frac{2}{x - 1}\\\\\\frac{2}{x + 1}\\\\1\\end{matrix}\\right]\\right]\\right), \\  \\left( - \\left(x^{2} + 3\\right)^{2}, \\  1, \\  \\left[ \\left[\\begin{matrix}\\frac{x}{2} + \\frac{1}{2}\\\\\\frac{x + 1}{x - 1}\\\\1\\end{matrix}\\right]\\right]\\right), \\  \\left( \\left(x^{2} + 3\\right)^{2}, \\  1, \\  \\left[ \\left[\\begin{matrix}\\frac{x - 1}{x + 1}\\\\\\frac{1}{2} - \\frac{x}{2}\\\\1\\end{matrix}\\right]\\right]\\right)\\right]$"
          },
          "metadata": {},
          "execution_count": 251
        }
      ],
      "source": [
        "for i in range(len(v)):\n",
        "    v[i][2][0]=simplify(v[i][2][0])\n",
        "v"
      ]
    },
    {
      "cell_type": "markdown",
      "metadata": {
        "deletable": true,
        "editable": true,
        "id": "pKESXUdBvZ0q"
      },
      "source": [
        "Проверим."
      ]
    },
    {
      "cell_type": "code",
      "execution_count": null,
      "metadata": {
        "deletable": true,
        "editable": true,
        "colab": {
          "base_uri": "https://localhost:8080/"
        },
        "id": "ECeBz2yVvZ0r",
        "outputId": "f2e21dad-1c65-4b12-9611-7430d7fcbf3b"
      },
      "outputs": [
        {
          "output_type": "stream",
          "name": "stdout",
          "text": [
            "⎡0⎤\n",
            "⎢ ⎥\n",
            "⎢0⎥\n",
            "⎢ ⎥\n",
            "⎣0⎦\n",
            "⎡0⎤\n",
            "⎢ ⎥\n",
            "⎢0⎥\n",
            "⎢ ⎥\n",
            "⎣0⎦\n",
            "⎡0⎤\n",
            "⎢ ⎥\n",
            "⎢0⎥\n",
            "⎢ ⎥\n",
            "⎣0⎦\n"
          ]
        }
      ],
      "source": [
        "for i in range(len(v)):\n",
        "    z=M*v[i][2][0]-v[i][0]*v[i][2][0]\n",
        "    pprint(simplify(z))"
      ]
    },
    {
      "cell_type": "markdown",
      "metadata": {
        "deletable": true,
        "editable": true,
        "id": "eTQ_cFURvZ0r"
      },
      "source": [
        "### Жорданова нормальная форма"
      ]
    },
    {
      "cell_type": "code",
      "execution_count": null,
      "metadata": {
        "deletable": true,
        "editable": true,
        "colab": {
          "base_uri": "https://localhost:8080/"
        },
        "id": "lAa6RtPgvZ0r",
        "outputId": "1dd9b7c2-f1e7-4f3d-b131-bce58c95841d"
      },
      "outputs": [
        {
          "output_type": "execute_result",
          "data": {
            "text/plain": [
              "⎡13/9   -2/9  1/3   4/9    2/3 ⎤\n",
              "⎢                              ⎥\n",
              "⎢                         -11  ⎥\n",
              "⎢-2/9   10/9  2/15  -2/9  ──── ⎥\n",
              "⎢                          15  ⎥\n",
              "⎢                              ⎥\n",
              "⎢              41          12  ⎥\n",
              "⎢ 1/5   -2/5   ──   -2/5   ──  ⎥\n",
              "⎢              25          25  ⎥\n",
              "⎢                              ⎥\n",
              "⎢              14              ⎥\n",
              "⎢ 4/9   -2/9   ──   13/9  -2/15⎥\n",
              "⎢              15              ⎥\n",
              "⎢                              ⎥\n",
              "⎢              12          34  ⎥\n",
              "⎢-4/15  8/15   ──   8/15   ──  ⎥\n",
              "⎣              25          25  ⎦"
            ],
            "text/latex": "$\\displaystyle \\left[\\begin{matrix}\\frac{13}{9} & - \\frac{2}{9} & \\frac{1}{3} & \\frac{4}{9} & \\frac{2}{3}\\\\- \\frac{2}{9} & \\frac{10}{9} & \\frac{2}{15} & - \\frac{2}{9} & - \\frac{11}{15}\\\\\\frac{1}{5} & - \\frac{2}{5} & \\frac{41}{25} & - \\frac{2}{5} & \\frac{12}{25}\\\\\\frac{4}{9} & - \\frac{2}{9} & \\frac{14}{15} & \\frac{13}{9} & - \\frac{2}{15}\\\\- \\frac{4}{15} & \\frac{8}{15} & \\frac{12}{25} & \\frac{8}{15} & \\frac{34}{25}\\end{matrix}\\right]$"
          },
          "metadata": {},
          "execution_count": 253
        }
      ],
      "source": [
        "M=Matrix([[Rational(13,9),-Rational(2,9),Rational(1,3),Rational(4,9),Rational(2,3)],\n",
        "          [-Rational(2,9),Rational(10,9),Rational(2,15),-Rational(2,9),-Rational(11,15)],\n",
        "          [Rational(1,5),-Rational(2,5),Rational(41,25),-Rational(2,5),Rational(12,25)],\n",
        "          [Rational(4,9),-Rational(2,9),Rational(14,15),Rational(13,9),-Rational(2,15)],\n",
        "          [-Rational(4,15),Rational(8,15),Rational(12,25),Rational(8,15),Rational(34,25)]])\n",
        "M"
      ]
    },
    {
      "cell_type": "markdown",
      "metadata": {
        "deletable": true,
        "editable": true,
        "id": "C18Ji3H3vZ0r"
      },
      "source": [
        "Метод `M.jordan_form()` возвращает пару матриц, матрицу преобразования $P$ и собственно жорданову форму $J$: $M = P J P^{-1}$."
      ]
    },
    {
      "cell_type": "code",
      "execution_count": null,
      "metadata": {
        "deletable": true,
        "editable": true,
        "colab": {
          "base_uri": "https://localhost:8080/"
        },
        "id": "GJX46y3WvZ0r",
        "outputId": "2753e4da-287c-4830-a5b5-1fdf236ec52e"
      },
      "outputs": [
        {
          "output_type": "execute_result",
          "data": {
            "text/plain": [
              "⎡1  0  0    0      0  ⎤\n",
              "⎢                     ⎥\n",
              "⎢0  2  1    0      0  ⎥\n",
              "⎢                     ⎥\n",
              "⎢0  0  2    0      0  ⎥\n",
              "⎢                     ⎥\n",
              "⎢0  0  0  1 - ⅈ    0  ⎥\n",
              "⎢                     ⎥\n",
              "⎣0  0  0    0    1 + ⅈ⎦"
            ],
            "text/latex": "$\\displaystyle \\left[\\begin{matrix}1 & 0 & 0 & 0 & 0\\\\0 & 2 & 1 & 0 & 0\\\\0 & 0 & 2 & 0 & 0\\\\0 & 0 & 0 & 1 - i & 0\\\\0 & 0 & 0 & 0 & 1 + i\\end{matrix}\\right]$"
          },
          "metadata": {},
          "execution_count": 254
        }
      ],
      "source": [
        "P,J=M.jordan_form()\n",
        "J"
      ]
    },
    {
      "cell_type": "code",
      "execution_count": null,
      "metadata": {
        "deletable": true,
        "editable": true,
        "colab": {
          "base_uri": "https://localhost:8080/"
        },
        "id": "_47Zm-65vZ0r",
        "outputId": "ef2920d7-85a3-4bf6-c3bf-8e55043fa067"
      },
      "outputs": [
        {
          "output_type": "execute_result",
          "data": {
            "text/plain": [
              "⎡                5⋅ⅈ   -5⋅ⅈ ⎤\n",
              "⎢-2  10/9   0    ───   ─────⎥\n",
              "⎢                 12     12 ⎥\n",
              "⎢                           ⎥\n",
              "⎢               -5⋅ⅈ    5⋅ⅈ ⎥\n",
              "⎢-2  -5/9   0   ─────   ─── ⎥\n",
              "⎢                 6      6  ⎥\n",
              "⎢                           ⎥\n",
              "⎢0    0    4/3  -3/4   -3/4 ⎥\n",
              "⎢                           ⎥\n",
              "⎢               -5⋅ⅈ    5⋅ⅈ ⎥\n",
              "⎢1   10/9   0   ─────   ─── ⎥\n",
              "⎢                 6      6  ⎥\n",
              "⎢                           ⎥\n",
              "⎣0    0     1     1      1  ⎦"
            ],
            "text/latex": "$\\displaystyle \\left[\\begin{matrix}-2 & \\frac{10}{9} & 0 & \\frac{5 i}{12} & - \\frac{5 i}{12}\\\\-2 & - \\frac{5}{9} & 0 & - \\frac{5 i}{6} & \\frac{5 i}{6}\\\\0 & 0 & \\frac{4}{3} & - \\frac{3}{4} & - \\frac{3}{4}\\\\1 & \\frac{10}{9} & 0 & - \\frac{5 i}{6} & \\frac{5 i}{6}\\\\0 & 0 & 1 & 1 & 1\\end{matrix}\\right]$"
          },
          "metadata": {},
          "execution_count": 255
        }
      ],
      "source": [
        "P=simplify(P)\n",
        "P"
      ]
    },
    {
      "cell_type": "markdown",
      "metadata": {
        "deletable": true,
        "editable": true,
        "id": "JYsfPhXcvZ0r"
      },
      "source": [
        "Проверим."
      ]
    },
    {
      "cell_type": "code",
      "execution_count": null,
      "metadata": {
        "deletable": true,
        "editable": true,
        "colab": {
          "base_uri": "https://localhost:8080/"
        },
        "id": "FDsLdnQ3vZ0r",
        "outputId": "a992725f-8f15-44fd-c547-3e8b6139d1d4"
      },
      "outputs": [
        {
          "output_type": "execute_result",
          "data": {
            "text/plain": [
              "⎡0  0  0  0  0⎤\n",
              "⎢             ⎥\n",
              "⎢0  0  0  0  0⎥\n",
              "⎢             ⎥\n",
              "⎢0  0  0  0  0⎥\n",
              "⎢             ⎥\n",
              "⎢0  0  0  0  0⎥\n",
              "⎢             ⎥\n",
              "⎣0  0  0  0  0⎦"
            ],
            "text/latex": "$\\displaystyle \\left[\\begin{matrix}0 & 0 & 0 & 0 & 0\\\\0 & 0 & 0 & 0 & 0\\\\0 & 0 & 0 & 0 & 0\\\\0 & 0 & 0 & 0 & 0\\\\0 & 0 & 0 & 0 & 0\\end{matrix}\\right]$"
          },
          "metadata": {},
          "execution_count": 256
        }
      ],
      "source": [
        "Z=P*J*P**(-1)-M\n",
        "simplify(Z)"
      ]
    },
    {
      "cell_type": "markdown",
      "metadata": {
        "deletable": true,
        "editable": true,
        "id": "6M62AHZZvZ0s"
      },
      "source": [
        "## Графики\n",
        "\n",
        "`SymPy` использует `matplotlib`. Однако он распределяет точки по $x$ адаптивно, а не равномерно."
      ]
    },
    {
      "cell_type": "code",
      "execution_count": null,
      "metadata": {
        "collapsed": true,
        "deletable": true,
        "editable": true,
        "id": "2AxMIaYcvZ0s"
      },
      "outputs": [],
      "source": [
        "%matplotlib inline"
      ]
    },
    {
      "cell_type": "markdown",
      "metadata": {
        "deletable": true,
        "editable": true,
        "id": "X-SpFU2ivZ0s"
      },
      "source": [
        "Одна функция."
      ]
    },
    {
      "cell_type": "code",
      "execution_count": null,
      "metadata": {
        "deletable": true,
        "editable": true,
        "colab": {
          "base_uri": "https://localhost:8080/",
          "height": 314
        },
        "id": "9Zfd5j0cvZ0s",
        "outputId": "bb8e34f1-ffcc-4a40-bdef-0bd73c893112"
      },
      "outputs": [
        {
          "output_type": "display_data",
          "data": {
            "text/plain": [
              "<Figure size 432x288 with 1 Axes>"
            ],
            "image/png": "[encoded data removed]"
          },
          "metadata": {
            "needs_background": "light"
          }
        },
        {
          "output_type": "execute_result",
          "data": {
            "text/plain": [
              "<sympy.plotting.plot.Plot at 0x7f34e223d250>"
            ]
          },
          "metadata": {},
          "execution_count": 258
        }
      ],
      "source": [
        "plot(sin(x)/x,(x,-10,10))"
      ]
    },
    {
      "cell_type": "markdown",
      "metadata": {
        "deletable": true,
        "editable": true,
        "id": "2njyNx2cvZ0s"
      },
      "source": [
        "Несколько функций."
      ]
    },
    {
      "cell_type": "code",
      "execution_count": null,
      "metadata": {
        "deletable": true,
        "editable": true,
        "colab": {
          "base_uri": "https://localhost:8080/",
          "height": 313
        },
        "id": "ETcy9t2evZ0s",
        "outputId": "d59df751-0a2e-4adc-e9e2-0c3c33285cb9"
      },
      "outputs": [
        {
          "output_type": "display_data",
          "data": {
            "text/plain": [
              "<Figure size 432x288 with 1 Axes>"
            ],
            "image/png": "[encoded data removed]"
          },
          "metadata": {
            "needs_background": "light"
          }
        },
        {
          "output_type": "execute_result",
          "data": {
            "text/plain": [
              "<sympy.plotting.plot.Plot at 0x7f34e21ae110>"
            ]
          },
          "metadata": {},
          "execution_count": 259
        }
      ],
      "source": [
        "plot(x,x**2,x**3,(x,0,2))"
      ]
    },
    {
      "cell_type": "markdown",
      "metadata": {
        "deletable": true,
        "editable": true,
        "id": "G8luXguCvZ0s"
      },
      "source": [
        "Другие функции надо импортировать из пакета `sympy.plotting`."
      ]
    },
    {
      "cell_type": "code",
      "execution_count": null,
      "metadata": {
        "collapsed": true,
        "deletable": true,
        "editable": true,
        "id": "nR1LwHSPvZ0t"
      },
      "outputs": [],
      "source": [
        "from sympy.plotting import (plot_parametric,plot_implicit,\n",
        "                            plot3d,plot3d_parametric_line,\n",
        "                            plot3d_parametric_surface)"
      ]
    },
    {
      "cell_type": "markdown",
      "metadata": {
        "deletable": true,
        "editable": true,
        "id": "hWSVrl2FvZ0t"
      },
      "source": [
        "Параметрический график - фигура Лиссажу."
      ]
    },
    {
      "cell_type": "code",
      "execution_count": null,
      "metadata": {
        "deletable": true,
        "editable": true,
        "colab": {
          "base_uri": "https://localhost:8080/",
          "height": 314
        },
        "id": "j5U-CUblvZ0t",
        "outputId": "6044ee38-99d7-477f-c87f-f79a392967a5"
      },
      "outputs": [
        {
          "output_type": "display_data",
          "data": {
            "text/plain": [
              "<Figure size 432x288 with 1 Axes>"
            ],
            "image/png": "[encoded data removed]"
          },
          "metadata": {
            "needs_background": "light"
          }
        },
        {
          "output_type": "execute_result",
          "data": {
            "text/plain": [
              "<sympy.plotting.plot.Plot at 0x7f34e013b550>"
            ]
          },
          "metadata": {},
          "execution_count": 261
        }
      ],
      "source": [
        "t=Symbol('t')\n",
        "plot_parametric(sin(2*t),cos(3*t),(t,0,2*pi),\n",
        "                title='Lissajous',xlabel='x',ylabel='y')"
      ]
    },
    {
      "cell_type": "markdown",
      "metadata": {
        "deletable": true,
        "editable": true,
        "id": "MZI_QKbWvZ0t"
      },
      "source": [
        "Неявный график - окружность."
      ]
    },
    {
      "cell_type": "code",
      "execution_count": null,
      "metadata": {
        "deletable": true,
        "editable": true,
        "colab": {
          "base_uri": "https://localhost:8080/",
          "height": 314
        },
        "id": "2LHiV9U6vZ0t",
        "outputId": "43e13b57-1b24-4ec5-8d6c-1cdd79a6059c"
      },
      "outputs": [
        {
          "output_type": "display_data",
          "data": {
            "text/plain": [
              "<Figure size 432x288 with 1 Axes>"
            ],
            "image/png": "[encoded data removed]"
          },
          "metadata": {
            "needs_background": "light"
          }
        },
        {
          "output_type": "execute_result",
          "data": {
            "text/plain": [
              "<sympy.plotting.plot.Plot at 0x7f34e00eadd0>"
            ]
          },
          "metadata": {},
          "execution_count": 262
        }
      ],
      "source": [
        "plot_implicit(x**2+y**2-1,(x,-1,1),(y,-1,1))"
      ]
    },
    {
      "cell_type": "markdown",
      "metadata": {
        "deletable": true,
        "editable": true,
        "id": "zBD2PP2_vZ0t"
      },
      "source": [
        "Поверхность. Если она строится не `inline`, а в отдельном окне, то её можно вертеть мышкой."
      ]
    },
    {
      "cell_type": "code",
      "execution_count": null,
      "metadata": {
        "deletable": true,
        "editable": true,
        "colab": {
          "base_uri": "https://localhost:8080/",
          "height": 314
        },
        "id": "eXAhkGDdvZ0t",
        "outputId": "1840fbc2-d226-4f65-b5bd-7cb4c53bf886"
      },
      "outputs": [
        {
          "output_type": "display_data",
          "data": {
            "text/plain": [
              "<Figure size 432x288 with 1 Axes>"
            ],
            "image/png": "[encoded data removed]"
          },
          "metadata": {
            "needs_background": "light"
          }
        },
        {
          "output_type": "execute_result",
          "data": {
            "text/plain": [
              "<sympy.plotting.plot.Plot at 0x7f34e24cd610>"
            ]
          },
          "metadata": {},
          "execution_count": 263
        }
      ],
      "source": [
        "plot3d(x*y,(x,-2,2),(y,-2,2))"
      ]
    },
    {
      "cell_type": "markdown",
      "metadata": {
        "deletable": true,
        "editable": true,
        "id": "7bf3XKvdvZ0t"
      },
      "source": [
        "Несколько поверхностей."
      ]
    },
    {
      "cell_type": "code",
      "execution_count": null,
      "metadata": {
        "deletable": true,
        "editable": true,
        "colab": {
          "base_uri": "https://localhost:8080/",
          "height": 314
        },
        "id": "X_3GdbwYvZ0u",
        "outputId": "225eb42d-1783-45e0-9e57-5a3efb9ccb19"
      },
      "outputs": [
        {
          "output_type": "display_data",
          "data": {
            "text/plain": [
              "<Figure size 432x288 with 1 Axes>"
            ],
            "image/png": "[encoded data removed]"
          },
          "metadata": {
            "needs_background": "light"
          }
        },
        {
          "output_type": "execute_result",
          "data": {
            "text/plain": [
              "<sympy.plotting.plot.Plot at 0x7f34dfbb4710>"
            ]
          },
          "metadata": {},
          "execution_count": 264
        }
      ],
      "source": [
        "plot3d(x**2+y**2,x*y,(x,-2,2),(y,-2,2))"
      ]
    },
    {
      "cell_type": "markdown",
      "metadata": {
        "deletable": true,
        "editable": true,
        "id": "gcYO4mP3vZ0u"
      },
      "source": [
        "Параметрическая пространственная линия - спираль."
      ]
    },
    {
      "cell_type": "code",
      "execution_count": null,
      "metadata": {
        "deletable": true,
        "editable": true,
        "colab": {
          "base_uri": "https://localhost:8080/",
          "height": 314
        },
        "id": "WJFnrpjtvZ0u",
        "outputId": "7543c55b-9d2b-4945-ed83-25f57ccaf09e"
      },
      "outputs": [
        {
          "output_type": "display_data",
          "data": {
            "text/plain": [
              "<Figure size 432x288 with 1 Axes>"
            ],
            "image/png": "[encoded data removed]"
          },
          "metadata": {
            "needs_background": "light"
          }
        },
        {
          "output_type": "execute_result",
          "data": {
            "text/plain": [
              "<sympy.plotting.plot.Plot at 0x7f34e00f1d90>"
            ]
          },
          "metadata": {},
          "execution_count": 265
        }
      ],
      "source": [
        "a=0.1\n",
        "plot3d_parametric_line(cos(t),sin(t),a*t,(t,0,4*pi))"
      ]
    },
    {
      "cell_type": "markdown",
      "metadata": {
        "deletable": true,
        "editable": true,
        "id": "zPdSw0QUvZ0u"
      },
      "source": [
        "Параметрическая поверхность - тор."
      ]
    },
    {
      "cell_type": "code",
      "execution_count": null,
      "metadata": {
        "deletable": true,
        "editable": true,
        "colab": {
          "base_uri": "https://localhost:8080/",
          "height": 314
        },
        "id": "RNy1YYLovZ0u",
        "outputId": "a2e9b825-9d76-498c-ea6b-c91eae476c7f"
      },
      "outputs": [
        {
          "output_type": "display_data",
          "data": {
            "text/plain": [
              "<Figure size 432x288 with 1 Axes>"
            ],
            "image/png": "[encoded data removed]"
          },
          "metadata": {
            "needs_background": "light"
          }
        },
        {
          "output_type": "execute_result",
          "data": {
            "text/plain": [
              "<sympy.plotting.plot.Plot at 0x7f34dfe89990>"
            ]
          },
          "metadata": {},
          "execution_count": 266
        }
      ],
      "source": [
        "u,v=symbols('u v')\n",
        "a=0.4\n",
        "plot3d_parametric_surface((1+a*cos(u))*cos(v),\n",
        "                          (1+a*cos(u))*sin(v),a*sin(u),\n",
        "                          (u,0,2*pi),(v,0,2*pi))"
      ]
    }
  ],
  "metadata": {
    "kernelspec": {
      "display_name": "Python 3",
      "language": "python",
      "name": "python3"
    },
    "language_info": {
      "codemirror_mode": {
        "name": "ipython",
        "version": 3
      },
      "file_extension": ".py",
      "mimetype": "text/x-python",
      "name": "python",
      "nbconvert_exporter": "python",
      "pygments_lexer": "ipython3",
      "version": "3.6.1"
    },
    "colab": {
      "provenance": [],
      "collapsed_sections": [
        "DVqDokvNvZ0C",
        "__uJrBPRvZ0L",
        "7BkNVY4svZ0S",
        "olVh4pUMvZ0W",
        "BYzg_giXvZ0b",
        "t4qKH9B3vZ0d",
        "0SVXnREmvZ0f",
        "QAl36duNvZ0g",
        "hXPaBjOYvZ0h",
        "X2HseuCfvZ0j",
        "pxfU3YYFvZ0o",
        "eTQ_cFURvZ0r",
        "6M62AHZZvZ0s"
      ],
      "include_colab_link": true
    }
  },
  "nbformat": 4,
  "nbformat_minor": 0
}