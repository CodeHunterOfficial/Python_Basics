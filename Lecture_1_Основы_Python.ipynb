{
  "nbformat": 4,
  "nbformat_minor": 0,
  "metadata": {
    "colab": {
      "provenance": [],
      "authorship_tag": "ABX9TyNrrgXBIDI3tIdXAq7zngeW",
      "include_colab_link": true
    },
    "kernelspec": {
      "name": "python3",
      "display_name": "Python 3"
    },
    "language_info": {
      "name": "python"
    }
  },
  "cells": [
    {
      "cell_type": "markdown",
      "metadata": {
        "id": "view-in-github",
        "colab_type": "text"
      },
      "source": [
        "<a href=\"https://colab.research.google.com/github/CodeHunterOfficial/Python_Basics/blob/main/Lecture_1_%D0%9E%D1%81%D0%BD%D0%BE%D0%B2%D1%8B_Python.ipynb\" target=\"_parent\"><img src=\"https://colab.research.google.com/assets/colab-badge.svg\" alt=\"Open In Colab\"/></a>"
      ]
    },
    {
      "cell_type": "markdown",
      "source": [
        "# Основы Python"
      ],
      "metadata": {
        "id": "uu6zbikjq0EN"
      }
    },
    {
      "cell_type": "markdown",
      "source": [
        "# Ввод и вывод данных"
      ],
      "metadata": {
        "id": "HrnJ1u5hg2Ni"
      }
    },
    {
      "cell_type": "markdown",
      "source": [
        "### Вывод данных. Функция print()\n",
        "Что такое функция в программировании, узнаем позже. Пока будем считать, что print() – это такая команда языка Python, которая выводит то, что в ее скобках на экран."
      ],
      "metadata": {
        "id": "vpYSDARlg6MH"
      }
    },
    {
      "cell_type": "markdown",
      "source": [
        "Example 1: Python Print Statement"
      ],
      "metadata": {
        "id": "vXbj9bYrh3FO"
      }
    },
    {
      "cell_type": "code",
      "source": [
        "print('Good Morning!')\n",
        "print('It is rainy today')"
      ],
      "metadata": {
        "colab": {
          "base_uri": "https://localhost:8080/"
        },
        "id": "DwlQHT4wh4MJ",
        "outputId": "a0863689-a1b4-4171-bd8e-a011026dc7d9"
      },
      "execution_count": null,
      "outputs": [
        {
          "output_type": "stream",
          "name": "stdout",
          "text": [
            "Good Morning!\n",
            "It is rainy today\n"
          ]
        }
      ]
    },
    {
      "cell_type": "markdown",
      "source": [
        "Example 2: Python print() with end Parameter"
      ],
      "metadata": {
        "id": "NQGMzyRHh_Wt"
      }
    },
    {
      "cell_type": "code",
      "source": [
        "# print with end whitespace\n",
        "print('Good Morning!', end= ' ')\n",
        "\n",
        "print('It is rainy today')"
      ],
      "metadata": {
        "colab": {
          "base_uri": "https://localhost:8080/"
        },
        "id": "I0n0BEhiiAFT",
        "outputId": "811b4c7e-0ef5-402f-ba53-ec92b92e1fd7"
      },
      "execution_count": null,
      "outputs": [
        {
          "output_type": "stream",
          "name": "stdout",
          "text": [
            "Good Morning! It is rainy today\n"
          ]
        }
      ]
    },
    {
      "cell_type": "markdown",
      "source": [
        "Example 3: Python print() with sep parameter"
      ],
      "metadata": {
        "id": "g0onF3rpiCoo"
      }
    },
    {
      "cell_type": "code",
      "source": [
        "print('New Year', 2023, 'See you soon!', sep= '. ')"
      ],
      "metadata": {
        "colab": {
          "base_uri": "https://localhost:8080/"
        },
        "id": "J_srLVWtiF3t",
        "outputId": "83edd85f-640c-49ba-89c3-136a1f44d150"
      },
      "execution_count": 1,
      "outputs": [
        {
          "output_type": "stream",
          "name": "stdout",
          "text": [
            "New Year. 2023. See you soon!\n"
          ]
        }
      ]
    },
    {
      "cell_type": "markdown",
      "source": [
        "Example 4: Print Python Variables and Literals"
      ],
      "metadata": {
        "id": "x0O2QiEHiIDa"
      }
    },
    {
      "cell_type": "code",
      "source": [
        "number = -10.6\n",
        "\n",
        "name = \"Programiz\"\n",
        "\n",
        "# print literals\n",
        "print(5)\n",
        "\n",
        "# print variables\n",
        "print(number)\n",
        "print(name)"
      ],
      "metadata": {
        "colab": {
          "base_uri": "https://localhost:8080/"
        },
        "id": "5W2SpOGpiNP_",
        "outputId": "da9efbe4-9467-4312-e7e0-6f3cd30f1e9b"
      },
      "execution_count": null,
      "outputs": [
        {
          "output_type": "stream",
          "name": "stdout",
          "text": [
            "5\n",
            "-10.6\n",
            "Programiz\n"
          ]
        }
      ]
    },
    {
      "cell_type": "markdown",
      "source": [
        "Example 5: Print Concatenated Strings"
      ],
      "metadata": {
        "id": "dgLRhGM6h7a2"
      }
    },
    {
      "cell_type": "code",
      "source": [
        "print('Programiz is ' + 'awesome.')"
      ],
      "metadata": {
        "colab": {
          "base_uri": "https://localhost:8080/"
        },
        "id": "TMrhEWsticor",
        "outputId": "2c6b41b1-5867-40dd-f745-8d0d3be3bd0a"
      },
      "execution_count": null,
      "outputs": [
        {
          "output_type": "stream",
          "name": "stdout",
          "text": [
            "Programiz is awesome.\n"
          ]
        }
      ]
    },
    {
      "cell_type": "markdown",
      "source": [
        "Example 6: Output formatting"
      ],
      "metadata": {
        "id": "OnVpw7s1iehU"
      }
    },
    {
      "cell_type": "code",
      "source": [
        "x = 5\n",
        "y = 10\n",
        "\n",
        "print('The value of x is {} and y is {}'.format(x,y))"
      ],
      "metadata": {
        "colab": {
          "base_uri": "https://localhost:8080/"
        },
        "id": "W5PjAaaOitnq",
        "outputId": "5d7d4d53-31fb-4631-e65c-5cda641d6a6a"
      },
      "execution_count": null,
      "outputs": [
        {
          "output_type": "stream",
          "name": "stdout",
          "text": [
            "The value of x is 5 and y is 10\n"
          ]
        }
      ]
    },
    {
      "cell_type": "markdown",
      "source": [
        "### Ввод Python\n",
        "Во время программирования мы можем захотеть принять вводимые пользователем данные. В Python мы можем использовать функцию input() .\n",
        "\n",
        "Синтаксис ввода()\n",
        "\n",
        "\n",
        "```\n",
        "input(prompt)\n",
        "```\n",
        "\n",
        "Вот prompt строка, которую мы хотим отобразить на экране. Это необязательно.\n"
      ],
      "metadata": {
        "id": "o4Winlopiv08"
      }
    },
    {
      "cell_type": "markdown",
      "source": [
        "Example 1: Python User Input"
      ],
      "metadata": {
        "id": "4iW6lka-i_b7"
      }
    },
    {
      "cell_type": "code",
      "source": [
        "# using input() to take user input\n",
        "num = input('Enter a number: ')\n",
        "\n",
        "print('You Entered:', num)\n",
        "\n",
        "print('Data type of num:', type(num))"
      ],
      "metadata": {
        "colab": {
          "base_uri": "https://localhost:8080/"
        },
        "id": "HRlRLbKbjEtD",
        "outputId": "71f498b9-df26-416b-90b7-b987a9502c07"
      },
      "execution_count": null,
      "outputs": [
        {
          "output_type": "stream",
          "name": "stdout",
          "text": [
            "Enter a number: 25\n",
            "You Entered: 25\n",
            "Data type of num: <class 'str'>\n"
          ]
        }
      ]
    },
    {
      "cell_type": "markdown",
      "source": [
        "Example 2: input() Return Value"
      ],
      "metadata": {
        "id": "ForNdLPwjVw1"
      }
    },
    {
      "cell_type": "code",
      "source": [
        "# get input from user\n",
        "inputString = input('Enter a string: ')\n",
        "\n",
        "print('Input String :', inputString)"
      ],
      "metadata": {
        "colab": {
          "base_uri": "https://localhost:8080/"
        },
        "id": "pTWGH8Y1jduO",
        "outputId": "b8b889c3-be21-4872-ebee-5c44982cbd8d"
      },
      "execution_count": null,
      "outputs": [
        {
          "output_type": "stream",
          "name": "stdout",
          "text": [
            "Enter a string: Hello\n",
            "Input String : Hello\n"
          ]
        }
      ]
    },
    {
      "cell_type": "markdown",
      "source": [
        "Example 3: Taking Integer Input"
      ],
      "metadata": {
        "id": "fagvnOoHjh3x"
      }
    },
    {
      "cell_type": "code",
      "source": [
        "# convert user input to integer\n",
        "num = int(input(\"Enter a number: \"))\n",
        "print(f'The integer number is: {num}')"
      ],
      "metadata": {
        "colab": {
          "base_uri": "https://localhost:8080/"
        },
        "id": "2DjFP4R4jmac",
        "outputId": "90b9ea66-62ed-4833-8e16-226c73962a4b"
      },
      "execution_count": null,
      "outputs": [
        {
          "output_type": "stream",
          "name": "stdout",
          "text": [
            "Enter a number: 25\n",
            "The integer number is: 25\n"
          ]
        }
      ]
    },
    {
      "cell_type": "markdown",
      "source": [
        "Example 3: Taking float Input"
      ],
      "metadata": {
        "id": "obI2akfjjqPq"
      }
    },
    {
      "cell_type": "code",
      "source": [
        "# convert user input to float\n",
        "float_num = float(input(\"Enter a floating number: \"))\n",
        "print(f'The floating number is: {float_num}')"
      ],
      "metadata": {
        "colab": {
          "base_uri": "https://localhost:8080/"
        },
        "id": "4dREUYTOjvpQ",
        "outputId": "1e346222-c469-4745-fbb3-68182d6cbb64"
      },
      "execution_count": null,
      "outputs": [
        {
          "output_type": "stream",
          "name": "stdout",
          "text": [
            "Enter a floating number: 3.14\n",
            "The floating number is: 3.14\n"
          ]
        }
      ]
    },
    {
      "cell_type": "markdown",
      "source": [
        "# Переменные"
      ],
      "metadata": {
        "id": "AJsuhEbwutBs"
      }
    },
    {
      "cell_type": "markdown",
      "source": [
        "Переменные предназначены для хранения данных. Название переменной в Python должно начинаться с алфавитного символа или со знака подчеркивания и может содержать алфавитно-цифровые символы и знак подчеркивания. И кроме того, название переменной не должно совпадать с названием ключевых слов языка Python. Ключевых слов не так много, их легко запомнить:"
      ],
      "metadata": {
        "id": "6yOJuEJZ_mot"
      }
    },
    {
      "cell_type": "markdown",
      "source": [
        "![image.png](data:image/png;base64,iVBORw0KGgoAAAANSUhEUgAAAY8AAACaCAYAAABR9sR7AAAgAElEQVR4Ae1dy24ctxKdP1Tgj8hX2BjpC5yVgGzuGF54K0TZK4E2MZCtVwauDeQu/AVCAG14USSLrCqyH5yZfs2chdAz3U02eepUnSJ7RO7+/ffV4Q8YgAPgADgADrRwYNdyM+4FucABcAAcAAeIAxAPjLww8gQHwAFwoJkDuz///NPhDxiAA+AAOAAOtHBg9/Ly6vAHDMABcAAcAAdaOADxgHgieQAHwAFwoJkDEA+Qppk0LdkJ7kU2Cw5cJgcgHhAPiAc4AA6AA80cgHiANM2kQSZ5mZkk7Aq7tnBgUvH4/viLu729DX8f/kaQmkmovh1+crvdzu3/gDOQMzzd/+p2P4e/m4cf4OFYHn5/djeE2/0XYDYWsyu6b1A8Pn+IwZ9F4PbW/eevtqDkRQTiMZsD9orHH3du9+aj+3ZFJOdsikQE4tHgu2sVj8+Pbvf2+So5zFxew3GUeLx//N9JgQ/i0eCwUwd1iMdJXF6D0159GyAeq+Dw6eLx14c8NdUxKukWj7/df8SI5vb97+67DJ6q7l/cb/9dURCW7Wz9TAF8t0t/PL309G7nbg7/GGL84w5v5BTUs9uLsrt3z+J+ee0nd/gq8Pr60d3IcunznXtqbf/q7v/hDm/z1FTXNEvnyIOCUZzWoqMdnXx7+CSuP14AXoIXHbbsnuojrD+5w0PE7P5Lmhbcfw71El6EoayDr3nh4xENYy6nxfw1wviL2/N1HmXYcnz95w3YhDh2/8VJLvXz7JM7fJd2EnhQvxkTtt8Ah6dIOE4Uj7/df+R0lA/2H9xn7lA8dokHTYl1jmr++7t7fysEo6PuKUCZts5nt5cB3wtJCOB+ukle8/hp8Xh6J4N9EAsWn9xuOm/Eg21ygSMPH6RSAApCYh2TsKmLBzmldVThtN4pc3Dyzm8dl7G9wGOJWRRqwiAGc8La4xJtwAEy2UBhGIJgFpPwPd2bBIJtYu9/dS9U39ZswMGdeer7yX18dS/fn91evI+zPCvtIDjqhVbUNRMPR4lHeuntRwkioBeNpJFEeb1PPIrRRqyTymhh+Z/77X37+5YcUCXYa/osAj0F9igeeRQirhd4v7p8n+xTT5mLEw8KLjm4e3t3BJe6A5rgZTCmMjnQEcZ0//yOuhSPS8yCeHhMfAAM2BfiwUHS45kxs0GxsFcUD4l50YYO+y6F0ajnFm0WOBrO+foEtvSdMOgWzH4Oj2pfrQ0D50aJhw7iMki9uvKF+njxeHkJgsDiJF/El/WGF/fynqlAmbpeCvhy2mrHowSaWvIvs2l0chdHKCQEYrThRyq6fDnVdUXiEYONnHbynyuZaRGE2DlUHVKIYpadpkd4agzi0S4eQYSlyCQ/k4HVBM10D9uKjvJ+eX7Nn4s2B26lEddLjWvdXJTi6jHq5LCO11U8j8TtJPHwI4pbOU3VNvJQHfHTVHlk0TuldWRn1fMWqiP8EkqIwYsM9FEo/rjz7z78FFUSlFf3Et9byGmqqx95jAk20dad4iG44INbGskMZIei3Bq4NUUbSswEJgJ7KQryc2hT/8jD389iL+rs7E8RiKcLkJ1taLV90WaBY21k0YeDv2ZHxBkDzeF8/mx9iX0/XTzES+4wWmgZeciOhZfnaWTh33GUdZ0bgLnr8+IhfiobRiH8fiKIx+Fw51920700AuGprCAefO+re4mjkKaRhxcgUUerE6zu/pixqWkSyav8uQyE+VriATl5Eo/X+IJTZoCVMqvD5HxtLDETQU8EOCkY8jPhSnWkKZci8IUpl5RJizqTTSy+/p6Njf6MeNgA7zFKHI6cFjzUWBjMLD6Gw7rs+bhxkni8vOhfS71//F2889BTUjw1dZtesOuydL2YHvMCIv/PRI5yzgfCVODW6yWByNNON4eP4uV2eDme/g8jjjSkOKgprzcf3UH+QqsypZWmxATBwuiH2yBHQVvFlJ2Np5XkL6aCo9lprTRd4B0tl9tV3mcERxf3cJYsMK3beqt49mE2UjzkVJ/FKwoI2yTZgvAcIx4vLOpskw2Ie8Ez02aDyf6B/kGT7yntoTAr6p5HWAfF47KcYqvOjHaDh9vhgB15wHYbfU8zkBxBPAYAAvG3E7Rgq3XYCuJRsQONDuwIbOOxB+KxcQMiYFYcFTYV/zg6Pz4QjwrmEI8KKHDURR0V4gFOggPgwBIcwMgD4gfxAwfAAXCgmQMQD5CmmTRLZDl4JrJrcGBdHIB4QDwgHuAAOAAONHMA4gHSNJMGGeC6MkDYA/ZYggMQD4gHxAMcAAfAgWYOQDxAmmbSLJHl4JnIrsGBdXEA4gHxgHiAA+AAONDMAYjH3KRZ8J+F/D9vXdh/uSIbnTAb5fWW0oJ9Ez5rbj/c4vNWZo9+8YgLE8oFC7s2doITj3QsiEdzhrNpbo1c6G+VfVxZsFolRnOK0MrsMSwe739x78Wy6xCPkSLRRSqIB8Sjixs4f13c2Li9R4jH7+63D3mTJiseYUOovGx62o/D7xJI+3HIpdftkuryWmVJ9o2DW82Uong8PXxytSWpef8EP8UUl7VOex14PPTyzGppZrpO9YvlsGVZO23l9xD4uXtTmWr7V2kTsyS7nGaJeGQc4r1q+s6UT0thh0RB2kLu9RG2pH10T5wREu6pXm2nbJN5lss+1XbMDWp3lWP3X+JeJ2FZ9OKeVfLkxMTvlD6lEajgReJKjWeaJ732qPi9tUc3h4/HZJR4fKdd/uI+HEo8/LSWEAT/nTdw4v089Pc8BRau5+9BSLL4HN+pUx1n0vIc3DnAeVJloiSSxOs64Icgl4kRiJgD4xe353oToXhPgLgHQiSsf44h76T9PsXxBsr6vqR+W4x474eAg8aTOBaFI5U3vPP2qmMYxIOCJ18vnz12f4q1Yk/YZr5FbCyHDUZr7cui7UoJBvu68d3vz27/8CONvEqeBuyr9nihurhew9+BOHAKJuPEI40iXl0WDxv8Q6Pz9rHhuhSDXPbVvZAgiekw6oS6PhAwTun0omXJ0VTQ1gGnCOopY4kb5aiyMTB2BT5DKibkQe7stnmcyXE4eIvgZnAKTvdcOtlA4KNyWZypfumo8nN4tsdY2kPab4NYV4NVweESh0V9bI04R/GQXKpiy23v4E29DOFfEflYVz+Ho8/wcxuOI8Xj1b389cHv9JcDfCkORJjR4lHsEhinvtJOg8d3atXELRwvbNPJ2V2dHBELH+h49zRxFMGKyucpEvqcMxIf2OKUFj9v1ViNIXJ0St1nOX3EPKo7GAvqt+qz4qhETAOG5zCmZdAs6usIAlvBvcrHgsMlDlvp32ztHORBjWsmKYpb+lZ9V/mBLFerV8eFYzEYLx5+y9kP7rfHX1zYSrY28pDnSnHJwhPE6NaMPI7txKbKFY4XjMsZSdVZObAVZTkwhmMQB0kc7dQpsEWi8TM3hR9jwcdBpyRsGOMgIKrfvZhyOY1zxkvjS+c9xkLML3baSo3sShwyRl3YXdn5AZ76pE9i2nF/b3yIPqHjwBCHj7dDg3iEaaX371k84jTTrX3nwd8HxCPuf57feRzfiU0R1QYr+i6mXfrJEYJfNfPgwCUI6AlpRx583T+XM+gtYx+cYycDNguLdCbVbyuw3UN+7YgWJxM0q6IcbKYEy7Rvzfyt8tFyWE3lWYzw3du3QwzY9t5XE4cjp0VckPd1+T/fE340kznez+Hj7dMkHv49xe1tHHmEh/rRBJ3zf/xynK4NiQfdo39tRXXIdyQJjA0522CbfdCWU0vZyFS26qyq/yEYyWmaHJj0tZsHPcfvScRBlMWmZ650sC+qXceT8PTnsLNlXNnBguNIkeR7Je4aNynm1LZQR647v7Oy5ez7kYiJsrlsy5KY9T277BfxjTH1wUnwSL8H6qv3iq8NiEcYoWaO7R+e3U0SjxH2UFOrJce6OXy8TfrFYzXB4fgOnh6Y8Gxg2MUBcurSUYFXF144f0ncgHhAINPPAy+J2PP0BeIxD84QnTXiDPGAeEA8juYAxGONQQ1tmkdsIR5HB455DARHAM7gADiwRg5APCAeGHmAA+AAONDMAYgHSNNMmjVmQWgTsnNwYF4OQDwgHhAPcAAcAAeaOQDxAGmaSYMMb94MD3gD7zVyAOIB8YB4gAPgADjQzAGIB0jTTJo1ZkFoE7JzcGBeDkA8IB4QD3AAHAAHmjkA8VgZadQaNGmhtHkzis1mcH1rSMVFC/sWUDym32HxybAmUVr7KXFKrkm0wWVMJsLsGJxRZn0xoFc89KKHvPjhrbvKpdRTQJjHiF5EIB4N2VAI1HmRSGOniQNh/4KWG/1P9IkxgyAYjvbGmLCgZye/e8u2PGf8vb3ikY17JVvELmCAjLE2GsRD49GFUzrvA51cKbex/Im2v0jxOBGTZBvU05AEdfH20sSDtpL1+3mIpdXTBk/tS7Jfz94evCw4L8FcBr1u8ZBTIb+6YhpGTd2IZbSjA6tpsZ87lhDforP7fpc4UgDrnVqicvdf1LLrdvpJY1affmoXj9pIqXauK5hMe74XM+LHAM8gHMY+KbkR/quWtbdL/2cuS1vIrRgST8kWqi56huApX+eRJC3fnmY1KBbRvaJdaSl40wcTF04beXjxoOks3sdDjlCGxCNcz4Ihy/Y3etvEjMKRjFfva5d4PN1nUoV9FKQAGNIYY299V7ua3XVgZzGWzpHxrQZ4DoJsD/9dYPz92e0ffqTM0T9POWqov1p3wr9uFx8U+LkpIItnp/K5DzUMpjxX71e9P1O2Y/N1p8DNQT0E6zQNZXhX8qxn5MHikPhi7MMcZ1HwbeF2cCKrvydhSnWWHDyLeMgNnEbvYU7Ck0YpoWFqm9qeRm+aSIYkXX3pEg97v3buQMhOw0cCJ8JeEsYjcNVYRWcYcjyLkcewDPDVulNZ48x83tTVX0fpvJYLU3yvt2mAZ9w/HFPSwZs9Sd+T2NJnea3cYOtU8WBxIB7JuuTnwLGxsecM4sHbzlpyD4w8/voQdx8UL+LNLoVTOMPSdZYZhcVtwIApi8hZthKLKBBheFsGOTXdUMmgl8bn6OdPJh6cmWW87U6D1GYZCMo+dIiHcmK6p2KvhQNwZ7+GeLZwu0sb1P1stvtMoqCfW+MY8a0r4Ju+DCVAxXVZfqviYUYeGlDZwQv63GvI3M+q+keHlRlKp3On7VO7AxKV1XOl+fmbs8VE4lFg1BEE+uxQZpEZ52Rnar+cwlpJ8O3vV+iH78MKhW9VHO7gTWhjGcDLtvfcU8QUk6wU1zP/9ChE2HMEFycfeaR3GjzS+PB3HMqFdxzp+kqcpTSaBPocn8cN+VNQkbh4AopsxAfM8qV46oO/3i0e/hmXMvoY6CthUg2EhWNpx/PikRyJM8QS02rdyXa6zmQffz1cu/EvLc/Br/PW0d+v+KwR2Os+n7eNm6i7Vzz4ZXnJK9k3zUWBocKfOWriRKefl6JUjT2Jy/m5E4rHq3tJL9TD/4Z8fvzF3SbxoEaIX2nRlNXtrZPvTyRwl/U5CEj+5QSThg0vp0j0y19PIN7s/u2zO9wL8fAkkmUFgdJIRF7n52ZCbBZn5UCyPxbr0P801UfllGOZQO+dPmO2f3h2NynLHlE32yodtU0Ib29T1QbZ/iU+t/ar7NNmeVQJkmfpy4B40DPCCC5zTfOSeKDtkjjMHIoc2382HC44Ljk1uXjIh+HzWcg0FUlRb35JuREsRmX3G+kLfON64uPIkcf1AALyw9azcqBzxAQ7zGoHiHNz0gXxAGmaSQOnPkNg96JBUxSY8gGfzsCnBeIYxGMB0OEs23QW2A12AwcyByAeEA+MPMABcAAcaOYAxAOkaSYNsq+cfQELYHGtHIB4QDwgHuAAOAAONHMA4gHSNJPmWjMt9BujDHAgcwDiAfGAeIAD4AA40MwBiAdI00waZF85+wIWwOJaOQDxgHhAPMABcAAcaObArOKBZRjWkaWF9bEu8J/T0j/e4Z/vTs2GA0fCOktyDaVT6+1bYbha94g1oarlIAbNYtCKI8Tj0kg2wtkuUzzConFyufpWZ8D9ZXJz/oTPLNo35H8j+LwZu11SX15eHcRjiLxbu35hBB0dGK613xPzE+JRCupoTlrbXBhHR4iHXgZYbVhD0wT3X9RSwnqIWy4xrq+f0TDWUKv+bnGRS6MbvNVS3XTt0T15Esalm9N1U662BLgsl5YVZxv01f3q/A6E6VlUhu7XU196SWnZJ37GhMe+BQZVv/US93lfd4Gf6ueEbV41R0O/O8VDTRGKLVR9THh2h7dx6vAzLWEvNx2LvOHz6lrE2tRtd27UPNMcPDqwT2oLwa3kl3pqlXGWfeNRtD9nOFk7N3ffB8Xj6V4GgQACdyptacqb5RgHJkCk2DBAc3dyXc+LwsGYKdKGa1lg7b1MQraJsQfVNSa7qd4zUDfZVhGY7heOa2w/F7mls+X9USTvLEbhe8I4CQv3xd4P8UhYJa5+cXvJX2l7/zmIifd/n6RIrgR8syAYznt7sC0qfP7+7PYPP9J8/lw8O0sMqfpdFmnP34ir6pfFJG5fXNplXq4OiocFTQlAX0CpAKXKJiLO22Hbn9m/S0ezGNSuKRylE2bSKRKp+zuwrd4zUHefreNmNCmp8P0q65sU6xp2vMGOEj0zivJYiMy5a8dBa6sr+T7OZ4WtBU9yWXG9a8QabZTLRO5WuSp4PXR9TXbqaSv1WyVn5l6Fi7k2qV/14DcsHt4p4xRJHHKlYCWIEjogSFLpoAKgp1FLgTHHc1VGYTEo8LSZl8A3li0wreBe9Kt6z0DdRdvk/XGEpIbkelhetMH2/dTvnqc8IsvBxeMts2R6juxLFYtcfvJ2n9rvicsX/IrPo/NqpMejUIFtLiu5Ij9HnKtl4rXCPjWulXZfpd2KvmSeZazyOdUHgRFxOsXgie2v2mCe1S8evrM9WZnoUHiIIEYFqEGATOP6Gr7ZawVmgix0zb6LUOcEvsKJFZEquBdYVe8ZqLtot7w/OLQeeYh+zWFXhVN+dk2s1bkqFrl8gd0cfVnRM2o+6/FTPBVcEDzJZcX1rpFHFPhcJtrA2Ieu92Xoq7aX6Ytsa9HvggOMIfmamNYr7puPuyPEQzTUO6jZM1tNCXAHqQP0OQtPIJwou2CnpdHm/xxwUQE/YWGvhaCc75X4BpKUpNO4V/tXJfFA3So4c/aXuVEGlPlI7Puo2iee7fuaeWh5OeodUbKPqPdKzpX8inttC7/3Af3okYfmqxL2GENkQuWflUaSzMONjDxMTJS+WcNZXqfPAZtP7ib1f1k+9ouH2VidFP9wLwRAZBmhoyYARbHhF0HU+RwIl+24Ncy834PD5GG/JL+5pohi8O2an5e4s1Mz+YqpJX72cN0hSITpiv3n8v4gIGI6QwSYyfHtEg8K8lFAGG/FwaqQXjM3qe+Gg3a62ly/eXjOP54QMSEHRMmVsm49YmVB4GlPup85Wtpy/0C/5hLX1y7qHb6ZserhXpEI9dw7Aw6D4jG508/QSfRhWZIBf+APDpyBAytLdCAeEK/0s0c4+BkcHHwCnybhgJ3CXp6rEI9JDL28YSEEsAE4cAkcENN4agp7+b5BPCAeyBTBAXAAHGjmAMQDpGkmDTLa5bM+2AA2WJoDEA+IB8QDHAAHwIFmDkA8QJpm0iyd8eD5yLrBgeU5APGAeEA8wAFwABxo5gDEA6RpJg2yvuWzPtgANliaAxAPiAfEAxwAB8CBZg5APECaZtIsnfHg+ci6wYHlOQDxWFo8jlxyQK8jtaG1fabEu2PdIASa5QONtMHTu53b7cLfzeGfGZOXZ7ePz93tfnKHr2vBJfwjoF7jq9K2uLaV3GAv4CrXC8uLlUrMp/gM8ZgymI2p+xjx8GXmI8kUxDt/ncGBBh1wjE1wzywBnURkXvHggEwickniwf0iH5gvLkA8lg4Ux4iHWLn0/EGYibix4zE4Lm37K38+xIN9bOTIY5AvqxMPOdTbud27Z52V/HGXhqA0FF0mk2AjbOSopldo6Wk57STWsqGlsCvr2YR1/Z/dt0EybQSPc/TDYypx5L5nx8xLyuvsTE8B2r0/Ht3h4ZPfNe/m4Ys7vOWlwrn+SzySz9+5p68f3Q1P87z5qPj27fCT8vv9HxkHukZxQE5Pyeuc8HSJR1/doayJSapt/7jDmzwttlPXuI0zjzy6EpuUBDJH5fST5nLmrtgSo/CbbvHQHNd1sz1aj4Mjj6d3d+4pNTIYLRNhZiOkdjAJNni0U06GWJ4kSTACqXj/CUkg3puCjny91fiXcL92CrGXiMFQ4qQwtqLjv7O4RGemuvz5ICxU/rIx5+DMvm/83ieMfO3VvfjveRqIgz8nkv57JYhXxWOg7peX0Bau23L42+FOvMsIQlLeO3fc6gjqRjx2acpJ+73sYz/3ep4jEtRzJZ+D4iEbTp+1wfsNacvi+6srjK/Eg4xvsoJEsCyU5zL+RdnDB3eDnU82giOqEVzCtO6k2UbCGVOZig0vIalRfSiDa/b7ekDO11+dFws5Q+FHMEJs4rNkmcDFkXVXhKiLy0Vb/LPL/nWVP8954llMSIS/ez/2SU7goXxfl69lv6e2ZG7q86Gdgq/CnlRG1h02++IEqVbPuHPD4mGmpYqpKTm0paGuaPR5gB/Xka08qzC+IJPd8S6NLsyOfBCPCicGxEM7D5cvnVY7qHBGiEeckg4BPs8+BCylEBQBu1E8+uqm5xRT5zLmqHgUp6+kkC0iHiHoEwe/PTy6/f2jO3wP28qGEWzJw/OJR6g7xZK0k+jU4hENIY0pSWIDticNBES/E5LErmUOhXjUsmcOduEI8dB4eB6eIB56Cio4WzgH8WAfz35fGx3oc6eKh55mGqhb+Vc5E1K0ZSHxIJ8N78we3dP3Z7d/+OFHESGpmV486slTxY8Unv3X+0ceXjzyXGaY2+x5KW7nKxsawiS99KMO/BSc5AvzmCWk+fq68XQd9XsuHceif0eJR8j+1A8WVD0QD8Y5i0eclpJJovH7ImCPHnkM1/1SSWi5jfw+JCW78d5ypDL3tBWPMp7d3vv2F7d/++j2PJX1MqV4VDh+prjcLx7xHQf/Qw/9cuEgf5tdTGkJoTlTAzMxLiVIRoHwokFDRwpQcrQhr4cXwDozjmQwU1mXh1OjvVXQl2VLx7RYeTGuDuchHoyVFA86F2YZ+FdN2u/7xSOMDlJMqfyzYF/dvj0sCpVfgumyd+5AvwrjaasiXlH7ddu5v2c/en7mdw80fZ2TlpKjnpMpieQkU/wgRP5QJtatp6b0tJTm+K9ud4b4MSgeZwcRotI7rQW8ZeDHZ/ABHFgrByAeEDOIGTgADoADzRyAeIA0zaRZayaEdiFLBwfm4wDEA+IB8QAHwAFwoJkDEA+Qppk0yO7my+6ANbBeKwcgHhAPiAc4AA6AA80cgHiANM2kWWsmhHYhSwcH5uMAxAPiAfEAB8ABcKCZAxAPkKaZNMju5svugDWwXisHIB4QD4gHOAAOgAPNHIB4gDTNpFlrJoR2IUsHB+bjAMRjafGQq+qOaEtYE6e+5hUcp+44p2Cm1xiq19+Nu1yTSK811F2m9Rm4/3KwjOt+NexX4vtOa3a1lhkRa4Zw3bZ40IJgZ1jgawikSa83ige3pdgX5Axk4Lov9XgMZqeJBwd2scDitdjpEnxzdlv1iUd9HxXvqxAPdrSG4yUQFOIx27QZxKPBt04NnJfgm6dicNbymxQPOfT+1antPAkcIklaztru7WyXF5dLjxORdd1q6fEUVMU9PMrw1/TyxKENtv4ZnaWFKAazvDQztddglpZl1n05JhBe6ojC8ihwoZwm6sLMLlctN87hkQeVZZ7L68Wzq/ba2siD2hs2Lbph32bfizzvxGzrvtnix2Pv7djPxO+PFKeb1FLyvIR8rJ+Ww7dL2KsdXePI44mWn68scT+V3w9OWz3dy4AcAnl2nn6nYMerNz4EySwYpu5EQg4C5joBu8XsxveL+/TqwtazGWMfpFIAshhlAekKhHWsc7lLvK4wi7zJHM19r2LmhTzjH5KhbB8Okomn5v5+/+Bn9/vJ+mwSfC0nNcb3DAYWM9+fLfrmWDFovq9j86nKdFOxF0p61sDIg0SDRYfqlZt1pTqYj+c5DoqHJbZ2wECq5FimkcHxhGPK6+TktWyGA2clCOhnb1M8ij74fjJGhCd/jgbucMKiHontVX02gS2O3GqcLDGri7O8r0yA7PO0I8qy2XeoTBakfF6XXc/5sr25X8OY+X508HY9fZwTewr8cdMpMQqpCUXtXMBsQDzUC/MOsTpzXBgWD59l5CE7Dd2VY8Yg3zVtRKTj4b4qV6nX36fEwwRS2/kNEjQ7YSSvFA+FZcat9qOAoh6LzdV8D8EsTad6DOuBusQslLWjFHlfKR6mTIXHiufeDmUwXncQLdubMTH9jzzL1yOvN+ibU9qEpp5oe9xvhzu3f3fnDl/Dbox6v/a4QyOPIJQPb008YjCTzlWQRHSwd6QR328kxxoilwyq4hnKwEN1dJVb8HyBn+yn/DzQxqKegfsVbhd2L2HBCQodE8dMP0vMQiDU9+tzpXiIwDraP0QZ06Z12qVsb8ZO4xPaXzm3Qd+c0hY0org5PLvDmzv39PWj2x/+cSwo8rmXM/LwziGyOCJEj3OGuc+u0YIlGBG029HtuwAJcPps27cBx/TBKE3XBQzy3HLAKGXRPf3Jzjzn8HuFzzpRcIuEx3M8c9iKh7Kf5V+nf5TBOHG4x8bL3VO2V/JtCDPfbovNKvs5H5+DeHx0ez+qeHb7N3duz1NZAptu8Xj1YpPea4gy8sV74MxKpq2INCmre/vsDvci4EdnSdfVvG4MhPxrDTrylFTqOAfP/Iw0yhkZFAKRuXx2+uUcb4iQEhcSZsJAtlteD/3KmXGJV6+YJ5yH2rTt64qjkW8tmGkOiWTp5dXpa78W/1eknj3oH2RPXf86edovHuC6gRkAAAWNSURBVNRmjUu9T/oeyfFt8+0om/mX2GHqisqHX1DduSfvo2FKin8plY7F9FX8PxD7i6rixftKxOMooK4kaAGbFQSBWpKBrHe2/52BD6zABxaKt8MvzBdqGEh5vaRssr2ZZqKyIeO98kwXfgsBnZgDEI+JAW4KhGjLUQ6vpo78tBWEA7xD8jU1ByAeCNhHBeypiYn6EfzAgXVzAOIB8YB4gAPgADjQzAGIB0jTTBpkhOvOCGEf2GcODkA8IB4QD3AAHAAHmjkA8QBpmkkzR1aDZyB7BgfWzQGIB8QD4gEOgAPgQDMHIB4gTTNpkBGuOyOEfWCfOTgA8YB4QDzAAXAAHGjmAMRjZaRR6wEVa4HFjMovv1FbK4wzLrM+Vlc9K+v7adlSXPcrLTrJWOSjwlatJ5bvOa0NqAf4ncaB8A+v9bXCurGVa96NKEurMvT4SfdzdN8gHisNoD7QdQX9AfHwZc9AjrEkWsd9A+KB9a6aM8t12FUHrEtv03HiwRiVC1pW8YJ4MGCXeewVjwHBIwLmVWUvE5+qU/ThciaHaX5uX5twDYJ2Vg6sTjz0MsDFevJxqWFeRjjtjFXbR1edo3rDxig3cYnhndpKkYKeXaqYlzDeeED0i/nxMvL1YWaXeMh1nOoCEaas6tc2jluHo3mseOn/jtHadY7GTrA3j25ruPprtH6YmC65upFuC7Y1nzTnFN61tdkE1p37IHWLh/IRsukZ7DU4bfX0TgbsICS0nWLIwPrWjbf32s1MwvW8Ubu9PwpHsaY9P3ujRzt94oWkJEuXeHDmW44uNLnqe6xsFLMO0WAs+FjDTIptxgQjM8asfgxcSnvr2F1AU6DjxMfef9k8q2PW3+ciebFxgDnuz9t4YIQm2iPbh5/dIR42xpxpFD4oHhYo2sQkjS5eQsDP37kT4ah3xaJ74ybwHij7PYhLqkuNUnS9tk1b+k4k0qOCQAxLhFoglP0sxYMxskTj85d/7MOscF52VhyLqaMqVjLgRPGQnO3m4+XzTvpl92cd2Du5WhMPOmdGCvXy+hmhLZX4Im15Av+HxcNMS9H0VArw9OCvH12adqJpKNkYfy2eo3rUKKJfPLzwFNNY2ydiVyYsHZGMXidH7n+3s0I8ag5cDYiSq/icRKTKPRlwagEO+CX8avyjc9lnyUd51JZ92perYUvY8/ShPBZTtGsSjygMeZrKjA4MYXzAVwISpp6ofLnZe794lPvyGpDNs7sMtrbzmUD9/ak6sOhzdz0Qj5rNIR79fJOY1bBS52oBTnBT1oXPAncW4MpIIuFUw5bLDWK8OvEQU01xFKJGHrJDtakmOvfmJ3dTjCIGxGNgSiyBLZ+/hc8+i+jIOkT7IR7C6QQufXbvw0wFv5H19T3roq/5APary6NhCkriey3AAdPBkcfLS0zs3n4S2BqeV7EN+OvpblPO418TjzDi2fEoJdp2phfmO8e/pKJfQx3kO48oJum6eqfBnSORMFNdvqND4kHlQ9lcv5kW2yphi2EovyAL5CqGqGx4+esWMXzVpLq2kccQZoGHEA/2x5FHDjKRZ4pj1QA3st6t+uyZ2u15WPkH1XCef4HJR44LhG0QEBkbkrgX8YTKywRVln10T2Q/8w7lmGRo+J3HyaCVInFMQ1EGzgkOgANb54AXiZQMbtuek4sHvevQL8q3DdjWyYv2g3/gwEIc8CM2OSJYqB0nDwhCuycTDy8a9M9/xbuObQMGx4P9wAFwoIkDYgowTTWdKYA3tePMz5xMPJbsFJ4N5wYHwAFwYFoOQDzOrMYg7LSEBb7AFxxYBwcgHhCPET8xXAdZETRgB3BgPRzY/fnnnw5/wAAcAAfAAXCghQO7f/99dfgDBuAAOAAOgAMtHIB4QDyRPIAD4AA40MyB/wM3IcTU5hqenAAAAABJRU5ErkJggg==)"
      ],
      "metadata": {
        "id": "L_gsbR6G_rj5"
      }
    },
    {
      "cell_type": "markdown",
      "source": [
        "## Комментарий"
      ],
      "metadata": {
        "id": "bw8rIM5vuCmd"
      }
    },
    {
      "cell_type": "markdown",
      "source": [
        "В Python однострочные комментарии начинаются с символа решетки #. Они используются для добавления пояснений к коду и игнорируются интерпретатором Python при выполнении программы. Вот пример однострочного комментария:"
      ],
      "metadata": {
        "id": "HKFw--juuEBC"
      }
    },
    {
      "cell_type": "markdown",
      "source": [
        "\n",
        "\n",
        "```\n",
        "# Это однострочный комментарий\n",
        "```\n",
        "\n"
      ],
      "metadata": {
        "id": "sSkHuwmhuHRL"
      }
    },
    {
      "cell_type": "markdown",
      "source": [
        "Многострочные комментарии в стандартном виде отсутствуют в Python, но вы можете использовать строковые литералы (тройные кавычки) для создания многострочных \"комментариев\", которые фактически являются многострочными строками-документацией (docstrings). Хотя это не совсем то же самое, но такой подход иногда используется для временного \"комментирования\" блоков кода."
      ],
      "metadata": {
        "id": "AAlRCEDRuKxO"
      }
    },
    {
      "cell_type": "markdown",
      "source": [
        "\n",
        "\n",
        "```\n",
        "\"\"\"\n",
        "Это многострочный \"комментарий\", который фактически является многострочной строкой-документацией.\n",
        "\"\"\"\n",
        "```\n",
        "\n"
      ],
      "metadata": {
        "id": "S0aw8hhbuNQs"
      }
    },
    {
      "cell_type": "markdown",
      "source": [
        "**Типы данных**\n",
        "\n",
        "Переменная хранит данные одного из типов данных. В Python существует множество различных типов данных. В данном случае рассмотрим только самые базовые типы: bool, int, float, complex и str."
      ],
      "metadata": {
        "id": "HSzQ8ZwV_8B4"
      }
    },
    {
      "cell_type": "markdown",
      "source": [
        "## Строка"
      ],
      "metadata": {
        "id": "mvqp0QmMvCOm"
      }
    },
    {
      "cell_type": "markdown",
      "source": [
        "Строка представляет собой последовательность символов. В Python все, что находится внутри кавычек, является строкой. И вы можете использовать как одинарные, так и двойные кавычки. Например:"
      ],
      "metadata": {
        "id": "C5lcngh4vgkR"
      }
    },
    {
      "cell_type": "code",
      "source": [
        "message = 'Только терпеливый закончит дело, а торопливый упадет. (Саади)'\n",
        "print(message)\n",
        "\n",
        "message = \"Самое худшее одиночество — это остаться среди тех, кто не понимает тебя. (Руми)\"\n",
        "print(message)"
      ],
      "metadata": {
        "colab": {
          "base_uri": "https://localhost:8080/"
        },
        "id": "2PG7Ua7vvjQo",
        "outputId": "b89427a6-a84d-4dbe-b8d6-a2d59bc44db0"
      },
      "execution_count": null,
      "outputs": [
        {
          "output_type": "stream",
          "name": "stdout",
          "text": [
            "Только терпеливый закончит дело, а торопливый упадет. (Саади)\n",
            "Самое худшее одиночество — это остаться среди тех, кто не понимает тебя. (Руми)\n"
          ]
        }
      ]
    },
    {
      "cell_type": "markdown",
      "source": [
        "Если строка содержит одинарную кавычку, ее следует заключить в двойные кавычки следующим образом:"
      ],
      "metadata": {
        "id": "XWSiSxezxv77"
      }
    },
    {
      "cell_type": "code",
      "source": [
        "message = \"It's a string\"\n",
        "print(message)"
      ],
      "metadata": {
        "colab": {
          "base_uri": "https://localhost:8080/"
        },
        "id": "TO_lMHmKx1Qf",
        "outputId": "826be00d-2cc9-4c69-8149-db94792c43de"
      },
      "execution_count": null,
      "outputs": [
        {
          "output_type": "stream",
          "name": "stdout",
          "text": [
            "It's a string\n"
          ]
        }
      ]
    },
    {
      "cell_type": "markdown",
      "source": [
        "А когда строка содержит двойные кавычки, вы можете использовать одинарные кавычки:"
      ],
      "metadata": {
        "id": "noO8a7vI4r-Z"
      }
    },
    {
      "cell_type": "code",
      "source": [
        "message = '\"Beautiful is better than ugly.\". Said Tim Peters'\n",
        "print(message)"
      ],
      "metadata": {
        "colab": {
          "base_uri": "https://localhost:8080/"
        },
        "id": "6Xa0Pttw4xAC",
        "outputId": "5c7b289b-f63c-4d45-ba6c-48c523a75289"
      },
      "execution_count": null,
      "outputs": [
        {
          "output_type": "stream",
          "name": "stdout",
          "text": [
            "\"Beautiful is better than ugly.\". Said Tim Peters\n"
          ]
        }
      ]
    },
    {
      "cell_type": "markdown",
      "source": [
        "Чтобы выйти из кавычек, используйте обратную косую черту ( \\). Например:"
      ],
      "metadata": {
        "id": "yhhJfGOZ47SD"
      }
    },
    {
      "cell_type": "code",
      "source": [
        "message = 'It\\'s also a valid string'\n",
        "print(message)"
      ],
      "metadata": {
        "colab": {
          "base_uri": "https://localhost:8080/"
        },
        "id": "bguXhfja5AMe",
        "outputId": "f2564fda-0770-4b04-b67b-985430c4fd21"
      },
      "execution_count": null,
      "outputs": [
        {
          "output_type": "stream",
          "name": "stdout",
          "text": [
            "It's also a valid string\n"
          ]
        }
      ]
    },
    {
      "cell_type": "markdown",
      "source": [
        "**Создание многострочных строк.**\n",
        "\n",
        "Чтобы объединить строку в несколько строк, используйте тройные кавычки **\"\"\"…\"\"\"** или **'''…'''**. Например:"
      ],
      "metadata": {
        "id": "weSOOQ2D50pz"
      }
    },
    {
      "cell_type": "code",
      "source": [
        "bigMessage='''\n",
        "            В мире всё идёт, как должно, ты живёшь среди отрад,\n",
        "            Нет причин для огорченья, так чему же ты не рад?\n",
        "\n",
        "            Отчего ты погрузился в думы долгие, в печаль?\n",
        "            Ты судьбе своей доверься, для неё ты — милый брат.\n",
        "\n",
        "            У судьбы — свои решенья, знает, что она творит:\n",
        "            Ей внимая, ты не слушай, что везиры говорят.\n",
        "\n",
        "            Кто родил тебя, не сможет равного тебе родить;\n",
        "            Колеса судьбы не бойся, ты рождён не для утрат.\n",
        "\n",
        "            Пред тобою бог вовеки не закроет врат, пока\n",
        "            Не откроет пред тобою сто иных, прекрасных врат! (Рудаки)\n",
        "           '''\n",
        "print(bigMessage)"
      ],
      "metadata": {
        "colab": {
          "base_uri": "https://localhost:8080/"
        },
        "id": "u8Q-McSI6Hmo",
        "outputId": "a193d8b2-130d-47f6-a2c4-6ef23dcc895c"
      },
      "execution_count": null,
      "outputs": [
        {
          "output_type": "stream",
          "name": "stdout",
          "text": [
            "\n",
            "            В мире всё идёт, как должно, ты живёшь среди отрад,\n",
            "            Нет причин для огорченья, так чему же ты не рад?\n",
            "\n",
            "            Отчего ты погрузился в думы долгие, в печаль?\n",
            "            Ты судьбе своей доверься, для неё ты — милый брат.\n",
            "\n",
            "            У судьбы — свои решенья, знает, что она творит:\n",
            "            Ей внимая, ты не слушай, что везиры говорят.\n",
            "\n",
            "            Кто родил тебя, не сможет равного тебе родить;\n",
            "            Колеса судьбы не бойся, ты рождён не для утрат.\n",
            "\n",
            "            Пред тобою бог вовеки не закроет врат, пока\n",
            "            Не откроет пред тобою сто иных, прекрасных врат! (Рудаки)\n",
            "           \n"
          ]
        }
      ]
    },
    {
      "cell_type": "markdown",
      "source": [
        "## Использование переменных в строках Python с f-строками"
      ],
      "metadata": {
        "id": "7LnXNdPp71p_"
      }
    },
    {
      "cell_type": "markdown",
      "source": [
        "Иногда вам нужно использовать значения переменных в строке.\n",
        "\n",
        "Например, вы можете использовать значение переменной nameвнутри messageстроковой переменной:"
      ],
      "metadata": {
        "id": "aKknjznM7__W"
      }
    },
    {
      "cell_type": "code",
      "source": [
        "name = 'Adelina'\n",
        "message = 'Hi'"
      ],
      "metadata": {
        "id": "1pHCsDI-8A7e"
      },
      "execution_count": null,
      "outputs": []
    },
    {
      "cell_type": "markdown",
      "source": [
        "Для этого вы помещаете букву fперед открывающей кавычкой и заключаете имя переменной в скобки:"
      ],
      "metadata": {
        "id": "g2CZ2-K78IbN"
      }
    },
    {
      "cell_type": "code",
      "source": [
        "name = 'Adelina'\n",
        "message = f'Hi {name}'\n",
        "print(message)"
      ],
      "metadata": {
        "colab": {
          "base_uri": "https://localhost:8080/"
        },
        "id": "Bhs_2AZh8I9T",
        "outputId": "8efaef65-09b2-4aab-d7e8-81b86c114da7"
      },
      "execution_count": null,
      "outputs": [
        {
          "output_type": "stream",
          "name": "stdout",
          "text": [
            "Hi Adelina\n"
          ]
        }
      ]
    },
    {
      "cell_type": "markdown",
      "source": [
        "## Объединение строк Python.\n",
        "\n",
        "Когда вы размещаете строковые литералы рядом друг с другом, Python автоматически объединяет их в одну строку. Например:"
      ],
      "metadata": {
        "id": "KH9gJDVs9GHq"
      }
    },
    {
      "cell_type": "code",
      "source": [
        "greeting = 'Good ' 'Morning!'\n",
        "print(greeting)"
      ],
      "metadata": {
        "colab": {
          "base_uri": "https://localhost:8080/"
        },
        "id": "yugyvj3q9Ijo",
        "outputId": "4f8bfa2a-e15d-41fd-ef28-2e0bcedfdb5f"
      },
      "execution_count": null,
      "outputs": [
        {
          "output_type": "stream",
          "name": "stdout",
          "text": [
            "Good Morning!\n"
          ]
        }
      ]
    },
    {
      "cell_type": "markdown",
      "source": [
        "Чтобы объединить две строковые переменные , вы используете оператор +:"
      ],
      "metadata": {
        "id": "f2e4oRBH9NYp"
      }
    },
    {
      "cell_type": "code",
      "source": [
        "greeting = 'Good '\n",
        "time = 'Afternoon'\n",
        "\n",
        "greeting = greeting + time + '!'\n",
        "print(greeting)"
      ],
      "metadata": {
        "colab": {
          "base_uri": "https://localhost:8080/"
        },
        "id": "ayNqBZJF9N-C",
        "outputId": "c451589a-cad1-49b3-e5c7-af20f28b49f2"
      },
      "execution_count": null,
      "outputs": [
        {
          "output_type": "stream",
          "name": "stdout",
          "text": [
            "Good Afternoon!\n"
          ]
        }
      ]
    },
    {
      "cell_type": "markdown",
      "source": [
        "## Доступ к строковым элементам\n",
        "\n",
        "Поскольку строка представляет собой последовательность символов, доступ к ее элементам можно получить с помощью индекса. Первый символ строки имеет нулевой индекс.\n",
        "\n",
        "В следующем примере показано, как получить доступ к элементам с помощью индекса:"
      ],
      "metadata": {
        "id": "RC0FGmUR9Qg3"
      }
    },
    {
      "cell_type": "code",
      "source": [
        "str = \"Python String\"\n",
        "print(str[0]) # P\n",
        "print(str[1]) # y"
      ],
      "metadata": {
        "colab": {
          "base_uri": "https://localhost:8080/"
        },
        "id": "8fhYMXRN9VX1",
        "outputId": "1dd2de73-5982-4d34-c3f9-d5abc9dc90fb"
      },
      "execution_count": null,
      "outputs": [
        {
          "output_type": "stream",
          "name": "stdout",
          "text": [
            "P\n",
            "y\n"
          ]
        }
      ]
    },
    {
      "cell_type": "markdown",
      "source": [
        "Как это работает:\n",
        "\n",
        "* Сначала создайте переменную, содержащую строку \"Python String\".\n",
        "* Затем получите доступ к первому и второму символам строки, используя квадратные скобки []и индексы.\n",
        "\n",
        "Если вы используете отрицательный индекс, Python возвращает символ, начиная с конца строки. Например:"
      ],
      "metadata": {
        "id": "CWhxJDNO9X0p"
      }
    },
    {
      "cell_type": "code",
      "source": [
        "str = \"Python String\"\n",
        "print(str[-1])  # g\n",
        "print(str[-2])  # n"
      ],
      "metadata": {
        "colab": {
          "base_uri": "https://localhost:8080/"
        },
        "id": "PW-H0rA_9i8W",
        "outputId": "c20281ca-6900-460e-eca6-1357201087db"
      },
      "execution_count": null,
      "outputs": [
        {
          "output_type": "stream",
          "name": "stdout",
          "text": [
            "g\n",
            "n\n"
          ]
        }
      ]
    },
    {
      "cell_type": "markdown",
      "source": [
        "Ниже показаны индексы строки \"Python String\":"
      ],
      "metadata": {
        "id": "FsjjkZgp9kHt"
      }
    },
    {
      "cell_type": "markdown",
      "source": [
        "![image.png](data:image/png;base64,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)"
      ],
      "metadata": {
        "id": "IVsmtZQs9ogH"
      }
    },
    {
      "cell_type": "markdown",
      "source": [
        "## Получение длины строки\n",
        "\n",
        "Чтобы получить длину строки, вы используете функцию len(). Например:"
      ],
      "metadata": {
        "id": "fE6MJDSU99LW"
      }
    },
    {
      "cell_type": "code",
      "source": [
        "str = \"Python String\"\n",
        "str_len = len(str)\n",
        "print(str_len)"
      ],
      "metadata": {
        "colab": {
          "base_uri": "https://localhost:8080/"
        },
        "id": "_kp4IFoA-ECq",
        "outputId": "3a938976-f632-4255-e0b8-f8d02fdaf013"
      },
      "execution_count": null,
      "outputs": [
        {
          "output_type": "stream",
          "name": "stdout",
          "text": [
            "13\n"
          ]
        }
      ]
    },
    {
      "cell_type": "markdown",
      "source": [
        "## Нарезка строк\n",
        "\n",
        "Нарезка позволяет получить подстроку из строки. Например:"
      ],
      "metadata": {
        "id": "OY6Eav059yCa"
      }
    },
    {
      "cell_type": "code",
      "source": [
        "str = \"Python String\"\n",
        "print(str[0:2])"
      ],
      "metadata": {
        "colab": {
          "base_uri": "https://localhost:8080/"
        },
        "id": "7vbi7FTb79Qx",
        "outputId": "7719a278-2ea5-4a1c-fe21-1166d3d92a48"
      },
      "execution_count": null,
      "outputs": [
        {
          "output_type": "stream",
          "name": "stdout",
          "text": [
            "Py\n"
          ]
        }
      ]
    },
    {
      "cell_type": "markdown",
      "source": [
        "## Строки Python неизменяемы\n",
        "\n",
        "Строки Python неизменяемы . Это означает, что вы не можете изменить строку. Например, вы получите сообщение об ошибке, если обновите один или несколько символов в строке:"
      ],
      "metadata": {
        "id": "ed8Wabna-WL_"
      }
    },
    {
      "cell_type": "code",
      "source": [
        "str = \"Python String\"\n",
        "str[0] = 'J'"
      ],
      "metadata": {
        "colab": {
          "base_uri": "https://localhost:8080/",
          "height": 193
        },
        "id": "c884pzJk-cI1",
        "outputId": "9e60c562-1c53-483b-ec2a-b877e3da1a3d"
      },
      "execution_count": null,
      "outputs": [
        {
          "output_type": "error",
          "ename": "TypeError",
          "evalue": "ignored",
          "traceback": [
            "\u001b[0;31m---------------------------------------------------------------------------\u001b[0m",
            "\u001b[0;31mTypeError\u001b[0m                                 Traceback (most recent call last)",
            "\u001b[0;32m<ipython-input-27-585da2e6a4e7>\u001b[0m in \u001b[0;36m<cell line: 2>\u001b[0;34m()\u001b[0m\n\u001b[1;32m      1\u001b[0m \u001b[0mstr\u001b[0m \u001b[0;34m=\u001b[0m \u001b[0;34m\"Python String\"\u001b[0m\u001b[0;34m\u001b[0m\u001b[0;34m\u001b[0m\u001b[0m\n\u001b[0;32m----> 2\u001b[0;31m \u001b[0mstr\u001b[0m\u001b[0;34m[\u001b[0m\u001b[0;36m0\u001b[0m\u001b[0;34m]\u001b[0m \u001b[0;34m=\u001b[0m \u001b[0;34m'J'\u001b[0m\u001b[0;34m\u001b[0m\u001b[0;34m\u001b[0m\u001b[0m\n\u001b[0m",
            "\u001b[0;31mTypeError\u001b[0m: 'str' object does not support item assignment"
          ]
        }
      ]
    },
    {
      "cell_type": "markdown",
      "source": [
        "Если вы хотите изменить строку, вам необходимо создать новую из существующей строки. Например:"
      ],
      "metadata": {
        "id": "BfXMJBAu-e40"
      }
    },
    {
      "cell_type": "code",
      "source": [
        "str = \"Python String\"\n",
        "new_str = 'J' + str[1:]\n",
        "print(new_str)"
      ],
      "metadata": {
        "colab": {
          "base_uri": "https://localhost:8080/"
        },
        "id": "LU88Ohq_-hs1",
        "outputId": "a27d4dbf-a45c-4229-a3d2-ba615ad8f622"
      },
      "execution_count": null,
      "outputs": [
        {
          "output_type": "stream",
          "name": "stdout",
          "text": [
            "Jython String\n"
          ]
        }
      ]
    },
    {
      "cell_type": "markdown",
      "source": [
        "Управляющие последовательности в строке\n",
        "Строка может содержать ряд специальных символов - управляющих последовательностей. Некоторые из них:\n",
        "\n",
        "* \\\\: позволяет добавить внутрь строки слеш\n",
        "\n",
        "* \\': позволяет добавить внутрь строки одинарную кавычку\n",
        "\n",
        "* \\\": позволяет добавить внутрь строки двойную кавычку\n",
        "\n",
        "*  \\n: осуществляет переход на новую строку\n",
        "\n",
        "*  \\t: добавляет табуляцию (4 отступа)\n",
        "\n",
        "Применим несколько последовательностей:"
      ],
      "metadata": {
        "id": "JES2h04PBXgj"
      }
    },
    {
      "cell_type": "code",
      "source": [
        "text = \"Message:\\n\\\"Hello World\\\"\"\n",
        "print(text)"
      ],
      "metadata": {
        "colab": {
          "base_uri": "https://localhost:8080/"
        },
        "id": "kaS_VmD-Bcfq",
        "outputId": "ff2e1ce5-f273-441e-87b0-bdfe4a894e08"
      },
      "execution_count": null,
      "outputs": [
        {
          "output_type": "stream",
          "name": "stdout",
          "text": [
            "Message:\n",
            "\"Hello World\"\n"
          ]
        }
      ]
    },
    {
      "cell_type": "markdown",
      "source": [
        "Хотя подобные последовательности могут нам помочь в некоторых делах, например, поместить в строку кавычку, сделать табуляцию, перенос на другую строку. Но они также могут и мешать. Например:"
      ],
      "metadata": {
        "id": "_7VlgPjhBg9p"
      }
    },
    {
      "cell_type": "code",
      "source": [
        "path = \"C:\\python\\name.txt\"\n",
        "print(path)"
      ],
      "metadata": {
        "colab": {
          "base_uri": "https://localhost:8080/"
        },
        "id": "R-mCtzBABre1",
        "outputId": "7bceb81e-7634-47ca-89a1-3facb4dbe7a8"
      },
      "execution_count": null,
      "outputs": [
        {
          "output_type": "stream",
          "name": "stdout",
          "text": [
            "C:\\python\n",
            "ame.txt\n"
          ]
        }
      ]
    },
    {
      "cell_type": "markdown",
      "source": [
        "Чтобы избежать подобной ситуации, перед строкой ставится символ $r$"
      ],
      "metadata": {
        "id": "peXoIsB1CG9h"
      }
    },
    {
      "cell_type": "code",
      "source": [
        "path = r\"C:\\python\\name.txt\"\n",
        "print(path)"
      ],
      "metadata": {
        "colab": {
          "base_uri": "https://localhost:8080/"
        },
        "id": "w85q0rxxCKq3",
        "outputId": "77b6f6df-ee47-458c-f0ba-b4c3d9ae7f52"
      },
      "execution_count": null,
      "outputs": [
        {
          "output_type": "stream",
          "name": "stdout",
          "text": [
            "C:\\python\\name.txt\n"
          ]
        }
      ]
    },
    {
      "cell_type": "markdown",
      "source": [
        "**Краткое содержание**\n",
        "* В Python строка представляет собой последовательность символов. Кроме того, строки Python неизменяемы.\n",
        "* Используйте кавычки, одинарные или двойные кавычки, для создания строковых литералов.\n",
        "* Используйте символ обратной косой черты \\, чтобы избежать кавычек в строках.\n",
        "* Используйте необработанные строки r'...', чтобы избежать символа обратной косой черты.\n",
        "* Используйте f-строки для вставки замещающих переменных в литеральные строки.\n",
        "* Поместите литеральные строки рядом друг с другом, чтобы объединить их. И используйте оператор + для объединения строковых переменных.\n",
        "* Используйте len()функцию, чтобы получить размер строки.\n",
        "* Используйте str[n]для доступа к символу в позиции n строки str.\n",
        "* Используйте нарезку для извлечения подстроки из строки."
      ],
      "metadata": {
        "id": "85s8eBa6-5HJ"
      }
    },
    {
      "cell_type": "markdown",
      "source": [
        "**Логические значения**\n",
        "\n",
        "Тип bool представляет два логических значения: True (верно, истина) или False (неверно, ложь). Значение True служит для того, чтобы показать, что что-то истинно. Тогда как значение False, наоборот, показывает, что что-то ложно. Пример переменных данного типа:"
      ],
      "metadata": {
        "id": "3oF6TT3V_ALh"
      }
    },
    {
      "cell_type": "code",
      "source": [
        "isMarried = False\n",
        "print(isMarried)    # False\n",
        "\n",
        "isAlive = True\n",
        "print(isAlive)      # True"
      ],
      "metadata": {
        "colab": {
          "base_uri": "https://localhost:8080/"
        },
        "id": "AzOzhPZ4ARh8",
        "outputId": "5ae65063-3181-402b-9b46-58ea82141485"
      },
      "execution_count": null,
      "outputs": [
        {
          "output_type": "stream",
          "name": "stdout",
          "text": [
            "False\n",
            "True\n"
          ]
        }
      ]
    },
    {
      "cell_type": "markdown",
      "source": [
        "# Целые числа\n",
        "\n",
        "Тип int представляет целое число, например, 1, 4, 8, 50. Пример"
      ],
      "metadata": {
        "id": "qGtNeVo4AT8i"
      }
    },
    {
      "cell_type": "code",
      "source": [
        "age = 21\n",
        "print(\"Возраст:\", age)    # Возраст: 21\n",
        "\n",
        "count = 15\n",
        "print(\"Количество:\", count) # Количество: 15"
      ],
      "metadata": {
        "colab": {
          "base_uri": "https://localhost:8080/"
        },
        "id": "3seKPriAAiCh",
        "outputId": "382bf959-9368-4a89-a107-2047e63fdcad"
      },
      "execution_count": null,
      "outputs": [
        {
          "output_type": "stream",
          "name": "stdout",
          "text": [
            "Возраст: 21\n",
            "Количество: 15\n"
          ]
        }
      ]
    },
    {
      "cell_type": "markdown",
      "source": [
        "По умолчанию стандартные числа расцениваются как числа в десятичной системе. Но Python также поддерживает числа в двоичной, восьмеричной и шестнадцатеричной системах.\n",
        "\n",
        "Для указания, что число представляет двоичную систему, перед числом ставится префикс 0b:"
      ],
      "metadata": {
        "id": "7PqdRhTLAe5U"
      }
    },
    {
      "cell_type": "code",
      "source": [
        "a = 0b11\n",
        "b = 0b1011\n",
        "c = 0b100001\n",
        "print(a)    # 3 в десятичной системе\n",
        "print(b)    # 11 в десятичной системе\n",
        "print(c)    # 33 в десятичной системе"
      ],
      "metadata": {
        "colab": {
          "base_uri": "https://localhost:8080/"
        },
        "id": "nqPP3NjBAn56",
        "outputId": "5ab687b7-51de-4a35-9b3e-def6d9cce50c"
      },
      "execution_count": null,
      "outputs": [
        {
          "output_type": "stream",
          "name": "stdout",
          "text": [
            "3\n",
            "11\n",
            "33\n"
          ]
        }
      ]
    },
    {
      "cell_type": "markdown",
      "source": [
        "Для указания, что число представляет восьмеричную систему, перед числом ставится префикс 0o:"
      ],
      "metadata": {
        "id": "jdJlmy5oArfl"
      }
    },
    {
      "cell_type": "code",
      "source": [
        "a = 0o7\n",
        "b = 0o11\n",
        "c = 0o17\n",
        "print(a)    # 7 в десятичной системе\n",
        "print(b)    # 9 в десятичной системе\n",
        "print(c)    # 15 в десятичной системе"
      ],
      "metadata": {
        "colab": {
          "base_uri": "https://localhost:8080/"
        },
        "id": "JLbe_y-FAuBr",
        "outputId": "2b964edb-cd7a-42e3-83e9-562b4f2226fa"
      },
      "execution_count": null,
      "outputs": [
        {
          "output_type": "stream",
          "name": "stdout",
          "text": [
            "7\n",
            "9\n",
            "15\n"
          ]
        }
      ]
    },
    {
      "cell_type": "markdown",
      "source": [
        "Для указания, что число представляет шестнадцатеричную систему, перед числом ставится префикс 0x:"
      ],
      "metadata": {
        "id": "1QQIXgTBAwhw"
      }
    },
    {
      "cell_type": "code",
      "source": [
        "a = 0x0A\n",
        "b = 0xFF\n",
        "c = 0xA1\n",
        "print(a)    # 10 в десятичной системе\n",
        "print(b)    # 255 в десятичной системе\n",
        "print(c)    # 161 в десятичной системе"
      ],
      "metadata": {
        "colab": {
          "base_uri": "https://localhost:8080/"
        },
        "id": "_3RAuujuA28z",
        "outputId": "cb640182-da84-4f09-cde0-8bca12eb1750"
      },
      "execution_count": null,
      "outputs": [
        {
          "output_type": "stream",
          "name": "stdout",
          "text": [
            "10\n",
            "255\n",
            "161\n"
          ]
        }
      ]
    },
    {
      "cell_type": "markdown",
      "source": [
        "Задача 1. Дан номер некоторого года (целое положительное число). Определить соответствующий ему номер столетия, учитывая, что, к примеру,\n",
        "началом 20 столетия был 1901 год."
      ],
      "metadata": {
        "id": "4bwmdnASuid7"
      }
    },
    {
      "cell_type": "markdown",
      "source": [
        "Стоит отметить, что в какой-бы системе мы не передали число в функцию print для вывода на консоль, оно по умолчанию будет выводиться в десятичной системе."
      ],
      "metadata": {
        "id": "Hwd4SwWyA5M3"
      }
    },
    {
      "cell_type": "markdown",
      "source": [
        "![image.png](data:image/png;base64,iVBORw0KGgoAAAANSUhEUgAAAswAAAGuCAYAAACEBVDWAAAgAElEQVR4Aey934tl13Xve/6oPPnphIBDIA9BFz0IPwgHBDFuEA4UwaAmcFThxi7IbfcVeiknDykOdW1fIgds1Oe049sYQYwgoq12YyGIMQRLSMhgJDAIBPMyxphjzu8Yc661d1XXrh+7vgZ5rzV/jB+fMeZcY629etd/K/wfCZAACZAACZAACZAACZDAIoH/ttjDDhIgARIgARIgARIgARIggcKCmUlAAiRAAiRAAiRAAiRAAisEWDCvwGEXCZAACZAACZAACZAACbBgZg6QAAmQAAmQAAmQAAmQwAoBFswrcNhFAiRAAiRAAiRAAiRAAiyYmQMkQAIkQAIkQAIkQAIksEKABfMKHHaRAAmQAAmQAAmQAAmQAAtm5gAJkAAJkAAJkAAJkAAJrBBgwbwCh10kQAIkQAIkQAIkQAIkwIKZOUACJEACJEACJEACJEACKwTOXTB/8os3yr1vvlC+8pf1vxdfKt/60fvl0y9WtO1l1wflh3/99fLDD9ad++RHXy/3fgFjPnu//PDo6+Wrf1X5vfxq+eF/fgYD8PCz8usf3S2v/miDklLKe//8XPmj197ByaWU35X3fvR6eeXlquuF58rz3/x2eeu/0rBSyucf/Kx8/+gbLa7Pv/BieeVf3nmGuFY+H010/eJe+crBG+W3ty5nRhZsIQESIAESIAESuL4Ezlkwv19++i/vlN9+Do598Vl57wdfL185fqdgM4zY00MpCL9cvvTi6+W9lcIvFMx/eKfce/nV8tYngOSL35QfvvKNofD+9Fc/Lve++Y3y6t++UF7eVDD//ifl1T/78qRg/qC894sPyudo33+9UV554evlzVTIfvqbd8qvf492fVbe/acXy/Pnjuu8YP78F/fK8y/cK+/+AXTxkARIgARIgARIgASuIYFzFsxLnvymfP8vXy1v3aqKWQrCe+XNf/ub8pXXlm8WsGCW42+9PYH0m5Py1fZ0+Hflzf/x9XLvR++UT74oReasF8yflbeOXirf/8G3JwXzPF6//deXystv/m7eia1f/Lzc+5N75V1s2/p4UjB/8EZ5+cV0w7C1PA4kARIgARIgARIggcslcMEFsxRHf1N+uvRmweX6dknarGB+t3xW3v7OS+XeL+bOY8H87mtfLz9MT3bN2HfKvb9+o+CDZ3diU8H8+S/vla/JU+Bf3Nu6YN4k03WX8k6596ULKpg/eKMc/MXmV1i6bh6RAAmQAAmQAAmQwNUSuNiC+YPvlZf/9ifl0+TTp7/5STn5Hy/Ze7EvPlee/6tXy5uT92dt2jvl3p/8eXuH9isvfHl8svrFB+XdH327HNT3p59/4bly8D/Te7YrheOsYA3vZOs7vt8t785r3+SdF8ylFHnVQp6cTl4z2GnB/Pk75fWX6+sNK35Hw+WJ9Avl5D9j6/TsNyfla383xnU6dmiEJ8zK56Xyj7+ag22MPvn5kC9L73d/8vZ37d3sF+v72X/1N+Xk7eV3vd/+zpfLn/rYv3yu/HG6QWk2ZD+++KD88CDe6MzG/vbf7pavvfbz+s435EaWJ0/ZD+Y3R3koz0mABEiABEiABK6WwMUUzH/4oPz6rdfLwTdnReY75eTv3ijv4Xux//W98rK8vzp5K0GfZmIR84t7Q8H8yZvfLq+/De/kfvFZefu15+K4lcJxKJg/eqPcO/55eCf70/+4V55HOxbjFIsiedIr/5AtPyXG4kqOl17JePmffznVJHPmr2R8Xt49hifbK3674M8/+mX54d+/WF55c7mw1LGff1Z++/br5eW/epZ3jWvB/J/vl+8fvLD4BF70KaN/faO8+vc/Lr/G3PjoJ+VbLzxX/vF990A+Pyvv/fNL5avf+UmIW/nig/L28Uvlq/80ez1GbPl2ebu9yz0+0cc4obb3/vmF8qU/WS+YP/n3V8vX/uFn+gqNzY250eR98cvyjy9+uXxpq/xqs3hAAiRAAiRAAiRwRQSeoWD+Xfnp3/uvLny5PP/X98r3f7GhAAMn3/unPy/3/gMa/PCjN8rL3/m5n5UyKZh7Jxz9/sfl4M73ym+9aaVwHApmnxM+f1fefOWl4R/hhSF6MhZFUlzl4jYUYrN/9PeH98v3X/nG8I/wXN9SwSyvYHwN351e8vuTH5dX9Yn8c+WPv/RceeUHPyu/nj/oLe/+zxrXv/hy+dOX7pU3f7V9XN3e/il8/rw8L98U/Ou6HPHxS3e+V37dCtoupcj73a/8uH978f7r5SuTbzNsxu/KT//2pfL94VuMHKvtCmZn/FZ6lQZjKjdYsVgWS7I+afusvPua3OD8ZPH1G/CahyRAAiRAAiRAAteAwDMUzMn6L+Sny+6Wr76y3c+ELRWA5T++Xb6GhdW2BXN+z3apcCylbFcwy7j/Hn8KLrlsp5OiyL++h/oQiyudh68d/OWL5auvzH/mzVVOef3hZ+VbL6Yn9St+uyz5/PRX39vuXeLPPyhvfeeF1X/QiHLHY+HzUrl3/I3ypxt+Qm7qYxMY/0Gp/Hxe+Jm+Ns4OPv/3V8tXfvCb1JoL5Hxen3Ljz//9/iflFWH8hzFvPKZaUIcny652zI1P2z8OHXX7LH6SAAmQAAmQAAlcLwIXVzBXv379g5fKq4/So8svPi+//dWPy/eP75Vv+W83/8Xk3WT9HeEX41fvSwXz798vb//ou+X17/xN+Vp7cgr/MO2TN6bvU4uZ04L5i9+VX7/9Rjk5/nb7veLn/+ycBbMokXdU75y0p6VeXJ03/EMxKUX55Gfo5In8+DvMC1rff708v/iUFufIE9v8SgT2rx1L0WivMvz2R18vX5kWljZ/nVGXI78r/WZ6n3iw4DcnWuSH9vzthdxkpdcigg2Jcc4bGfvqa/f0/e75b0mngln+wWO7oRx1B1t5QgIkQAIkQAIkcG0IXHjBPBRsH7xRXpF/iPW/f1l++/vP2m8BDwWgIvlN+f5L98q7+JX8UDB/Vt49frG8/Nob5e3ffFA+/cxfds2/5CBF3gvl3tv1Z9O++Lx8+l/vlB++9o3y/J/Fd1HlCeFXD75dfvj2++UTsPHcT5hreD95s/8udSjEzhH+yEu+1n+hvPJvk5+EO0vBnJ/Kr9gV9a8MHLqw0BW7nyvP4yskMH6dkcjxX2A5Z8Gcv73YUDDnV2tmBfO3/uV75UBydvIPPcMrGfreMv46CAtmCD0PSYAESIAESOBaE9hJwfylY/9Lc5+Vn/5tLE6dhv4GcP5DHL96vXz1n9I/essFszwVbb9V7NJKKfJbwfmnz/7wfnnzuD6Bfvlvyus/+rn+UY5Y+Pyy/KP8A0Qs0qvYt7/zDE+YVYb9EoX81FwoBn/53f4rIP6XEuvnq7MiuP6DuP5e9C/LSZrX/uLiC18uf/Rnz5n8v//x8I8PgVjRf2C55e8ra8G8zW82RwX1PV7IgS8+KG++8ufDO94yTXS88m/p2wmX9/nPyrf+j9fLe/X8PK9k/PoHL5bXQ3qNRavHyd9b9tsxURvzpr++8fmvXi9fe/n18t5QNPsTZn9vGX0bdbur/CQBEiABEiABErheBC64YP5cnyD2X4B4p7z+J/irBNX5L+RJ8n9PRdPn5e1/mPxDrVQwy1Pb8I5zFSnvrH4pF8wLrEPhI69u4D8W9DnyfvCfPGvBLD819/Ny76Vvlx/+P+lPY7ueLT+1YM03GLO5Z3nC/KvXy/P/8LMt/jKj/APIFyf/iG5mQG7DJ8y1T9/xHl/JER//6K+/N/1T2Z/+72+Ur/4LvJO8+o/+RGe2d/LtxdIT5rfqu+GpAA5547/qUd93lgL7Kwcn5ddhjhXMb8n71MNTdRbMOVN4TgIkQAIkQALXlcA5CuYPypuvvV7e+k16HaD+nFcsDKyAfvlfodD5Qv4R2d1y7zsvxYJZCqCjSfGWCuYi76G+cK+8DQ/rPn3/pLx6fK+8ep6CWX/J4Lly7z9A4Gfvl+///b1y7+8uoGAuRf+YyPNf2kbWcpo8S8H8ydtvlLc/wGelpXz6/hvl1Zfyr3K8X376o1/W3xCutiz8TNunj+6WP37xpPx62eTaMymYpUd+KeQF+Yd7nbv4qO8E/8NP4KfZSvn0F6+Xr730evoZQns1Z/azcm9958VykG4u5P3pr238R4D21Fh/Pg7+waa7uFYwyxgrmrHgF9+/XL50gG0ujQWzk+AnCZAACZAACVx3AucomEspH9m7wF/5iz8vz8urAfKHIF5e+IMRX/ymvHn0Ynn+hfpTZd98vbz9kRUm/orBJ/92t8g/sPtjH4OvG7zw5fKlv5C5321/mvnTX363HMgfF9FxL5Vv/ej98ukX+R3mZfS58CmfvVNOvvlcs/FrR2+U9z57hl/JGFTLbyWv/6rDMCU1PEvB/PkHP9M/BCJ/4EVe3dA/9PLaj9XHqEZ+6eTb5UD+uIzEVP/IzDyuWjDPnsxHgeMrGdivf/Wv/yET8VF++eLTX56UV16q8X3xhXLw2o/Tk9suRP9wyV+5vTUP/wNu5uTn9F58oXz16CeTJ9e/LCfptZU1zjlv3N5uTSnyW8zyO9z2jwDrHzuZFN/D742jEB6TAAmQAAmQAAlcKwLnK5gv2IVZ4RFV2Ffb78ZGnu0Zgc15sGcO0x0SIAESIAESIIEbQYAF840I0+0wkgXz7YgzvSQBEiABEiCBm0aABfNNi9ge28uCeY+DS9dIgARIgARI4AYTuBYF8w3mR9MvkAAL5guESVEkQAIkQAIkQAIXRoAF84WhpKBnJcCC+VkJcj4JkAAJkAAJkMAuCLBg3gVVyiQBEiABEiABEiABEtgbAiyY9yaUdIQESIAESIAESIAESGAXBFgw74IqZZIACZAACZAACZAACewNARbMexNKOkICJEACJEACJEACJLALAiyYd0GVMkmABEiABEiABEiABPaGAAvmvQklHSEBEiABEiABEiABEtgFARbMu6BKmSRAAiRAAiRAAiRAAntDgAXz3oSSjpAACZAACZAACZAACeyCAAvmXVClTBIgARIgARIgARIggb0hwIJ5b0JJR0iABEiABEiABEiABHZBgAXzLqhSJgmQAAmQAAmQAAmQwN4QYMG8N6GkIyRAAiRAAiRAAiRAArsgwIJ5F1QpkwRIgARIgARIgARIYG8IsGDem1DSERIgARIgARIgARIggV0QYMG8C6qUSQIkQAIkQAIkQAIksDcEWDDvTSjpCAmQAAmQAAmQAAmQwC4IsGDeBVXKJAESIAESIAESIAES2BsCLJj3JpR0hARIgARIgARIgARIYBcEWDDvgiplkgAJkAAJkAAJkAAJ7A0BFsx7E0o6QgIkQAIkQAIkQAIksAsCLJh3QZUySYAESIAESIAESIAE9oYAC+a9CSUdIQESIAESIAESIAES2AUBFsy7oEqZJEACJEACJEACJEACe0OABfPehJKOkAAJkAAJkAAJkAAJ7IIAC+ZdUKVMEiABEiABEiABEiCBvSHAgnlvQklHSIAESIAESIAESIAEdkGABfMuqFImCZAACZAACZAACZDA3hBgwbw3oaQjJEACJEACJEACJEACuyDAgnkXVCmTBEiABEiABEiABEhgbwiwYN6bUNIREiABEiABEiABEiCBXRBgwbwLqpRJAiRAAiRAAiRAAiSwNwRYMO9NKOnIjSLw0aNyeHBaHqvRH5cHR/fLg49ulAc0lgTOTODDh/fLnZOnNk/WwNGj8uG2UsKa2XYSx5HAvhCQ68Tdcueg/neWtbMvCK7YjwstmHUz9GC2TxYCVxxjqr+mBMJ68SLimtp6fcxKFw3fZ3jxuD4hWrUkxu/4yerg2MmCOfLg2e0h8ORUC+UzrZfbQ+fSPL34gjlduB6f3C13UtuleUdFJEACe0bgaTk+uFvwwqE3Htxj9izOE3dYME+gsGn/CdhNJu55++/z9fRw5wVz0Tsj/+pZIMQnDPL1Qk+E1AcXQXsaF59Wz9oQs/aHJ3d2sT18+LEO02Len1DJZxub7NAxUXfRzbt/PeIyTf84//gt+Qq+j29fqxx0udEeYCYMgYXoGH1Dz+OxcZroVpmjrZ1DKRo/0N1sbKwmulKfzGl86p3yzP/M9A6wyXag1sBikI9xLaXZ77EA31TmYlwrpzA+t0l+9Xiijeabx3QcZzHy/jBz4WQSt5Cn1n/48JEWmM67r7VNNoz90QeT3+WJmThn0q+xcT6b7F9wO+iwMcquxWU7vefmUvMr+B38qmvT86t+juP7egx9S263dmRc16fq6LkT13vlnfLa86GvsRSPxlMUi8675fgh7mEex3GPaKbmfUo4BblVZ9ovcL7r7vZ2bt12n2F2trEg13PkgTzA8djk/rR2jaP56fPD6yPKtHOI3E2Px1b7QJ/75fuiy5/al/SYt8bO5+e909oTD/cbrrmDzW7jLF+8z3GHz5Q/oCPbpvxRVtLVfFL5o1zPIWe2GJOcb0mPx8ZrkuXzmv/125CtYrmSSwEbntS9xfOz2aN2n5ZjzN32Op8I2LA+JzVXv8aPfCP/lEMYt2pvs1NMmbRZjvX9CV2+acc7L5hDseSBQ+gfPSrHWsDWwLW+eC7QD4/y+2/3y2FKTAxATmwvljwhHp9gEE2f9dkxJoLOddvqwmv94TzarfY0H826bJe0qny4mITzvPDzhQidXj0e/RqGB1/SxVAXAzIbZk8LefHFmecZwc/EKdxsTRi4rMAzj1N/+kXN59inbQbNtux7OBd2koP9Bq/lZIubyFvQpbKcXRpX9dwJm2C0dDybxRLl1jxEmRo/tw/HltIvags2igHBh+30tzVSN/Ve5GyaP3qsLcEGG6PxbzHIcsVPKV7c72fl4heFykntcdndnpZTdc9rHEIMXFacv+B5bca4mW9NtoxQ+R7DyfnC3qHr0Pc334/aeWXYGPtNQdWT1xw4sLY2tU9i0/TARD20WDWWKfazuLexlbufu67OynzC/vXry8g6MxMdLi8XYaof/NS5B31f3GRf1hXirFz6vuRrufta8wDiJ3hNJ+SKMDuRd8oTdx8L9sdI1TWF/biXi32gO7DYaLvIhvURcm1DTHBsyp1WZGoRbPZ3Xvk86gn2+1pJsVzPpUhPz9Q+8BPPdU1DfD0ebW83+/xGYh5b0BmYe8y9H301Djmn27nylWui/zsEmRuvkRttcbU35PPiC2a4i/U7pQZ4SFqgNOuDhJckPXz4VF96l8SWDeT4iQVo6R9LhcQWWSdPdV6zB9THDS4vGNPn84LcKkPs0f6ZH0HP7OnwxA+UAxxc1MwG71v+HP0ax6ZF0nSn9nGitszsamxmc0R+W/hpQNPtF354OpQ2qHbRxTkiDjkm8XKKF6J128X/++XBE//HehKz0/I46JO2aGPbxIIdGO8sd2LktMni0Td5GZTl9guyiTD7bE4ei75lWdWA4MN2+t2+cb1uml915o/A2zo1bm3TjnKX9PpaNgln4WIzNG/kBgqfpFVbpa/LH+3pfTIh9lcRKx89btHvLmsmH9uGPNe4wsVaRIU25FNNw36JScp71xd0Yexk/tGj8hj/EWD2WnVAQTc9r3arDTBWZEHbyGpc+5uuLxrzVhSOTNbiPnBI16JN9qEv4hraEmRXhtGWWcG8lnfW5zEUkTMdVdXGPVZtb+szyprJjbb3fFd9mEOJQyyCo88zPb0ts8jnMdZ9XtUxieWmXGrs6gHG0/taG+Sx98W9PtqnY3B99kn1aIxvHwK8Z3qxTY7Bd+GCfneZ+3N08QUzLAzDBMFB2Jmh9qViQzdh2wQtGB/XxenvRUNwszxc5LDRxsXod9mm1y/ufhGLF4G+GWsipwuEjpXNdM3HamNYcNKm9s18x4vBpL9t3hPnp015I6iDJuzbZol9Q2xHJerbhE2TVwuEJba+6Wk/6hM78nl9ahh4or3Vjq57gXXluBpXtdvi4T6q3GBXzkfbyHQc5CBudi0fQ//IdWyZxRL1w7prk7Gtj53bYLbHOEkO+jrYTr+sqR6frtPXWF9zYiT2N6PDgcYo5b3Kb7nR7VrTG3IiPFHrNsy5uDnI0tvsU+Z1v7o97vPIFAvsKGs8w7ikIjf44TNHOzuXOkZzL8kKbaaz+yTzoC2sAS9UYa14vNq4zniwxc2WT13Lnm++duEc8yWPTfNjjpgSbJPjvk4Xri/ABOe6yctxhzUA67zll1+rWg6P9nnudBt7vETOLKfaQwRnEeRD/NwB/FQ7k1yPI45z2W1fyJ29qPQeZbfVnltjjna3HKrS1mKiOdF9iGu+xkRl4xoVufk8smr2r8Syx2khlxxG/dQYJr6tbZbbwcZon4lMbYmF5Avy6DnU82pYfyIYbZFjtdl02bUhs0uO3vDTSyiYITEhwQZuGIih02R4gB+feFAlUH48TrLEftSeSssISQyXk2f0vknQwb6WyFmAnK/5WMe3BefzYdF7U/gU3bhp+AabFliYMz1Z8gsZ2pjGqOm29rAJT3QMvgXmExnAdRCHLJsdPqrHPugcxoE/Kg+LmfikZjWuukE5p6fl2OMR9HWb3MqWU+iLX+gfQlxDv89e+zS/xiLGbQS/mxjb2GxOtXXRhtGXmNvb6bf3Xr3IQZmb5jej4QDt780af4+HX0j0fdtlvS2/VQzKrTYucjG9liun9m5v+KWH7Bee23HU3f3Y7qgzVL9DoTKTP7aF9SJKNfc8b6oVoQ35TPrDGpD+ZKPvU3WcvKfrDAZbqnj9yGtiel7tFtmBRby4xxwxJbjepd9tWr6+OEv7ptPHmzTr6+sxnpufy9eiTfaJDh+jT+Vbvsc9zGyZ/P8Qo2jfZMbGp9htTo5L67AD873+lKD7UXMCY5Cm6WmeqwUb+O7FrT/ZDDEBnwc5wY7MIp/H/DdZ67F0O5ZzKXo749Db+nrqs7At2qdjcP3q2sD1bf65jV2mHIHvG9aUxqLGUZhY7sP8KHgvzi6hYLZgWnAMZii62rtOkz7ZeOvikICMAcakGeOhiS1PGX3DDsXb03IM7Z4oaGff/OLm60+Ecz/ORZ0y3t7TNhttwfUNRFp1cQwbQb3gw8J3L7MM89ULBB+VP8dk1nmoVxdav6DFDcpiGXxLKrJd0i2+GZtxYavf9UL34cPT+FvEuGAzA+gLOvO4ugGofphjZid/qu/LccVNpzoe9OV8BH/DRaXqxZu90C+ybYxxq7rCxxhLLFRiPtvEmCObbJD+5G+wcTv98iSj80SZm+YHZ+0ksO79MYdN7ia9yPVsXHrhov/YSHMKOAVGYmPyM4+vF+7GSOcjs+6nHSHDum9goajyYR/I56FQ6LL7xdna4rnlSrMx71eiA/cQ0DmsTdmPYWzo7+bUI9PbYpXYqo1NlnFuY3Hdu89trN8kdM5iR5/rhkTW2qq+4TctdWyyLcfdcmzpWpRySkRO88B4xNxeGPvkNPqTY+RMMHeEmb7DnK53PjZcL52RfNY1h/3tmpfyP8ua+dlsX+CPcRT1SzFBn4f4GEvL6WxjPsexNVaLdYX1b5VLiFDty/tIP4+5nm+Son0iFsdr7iGzylxtbHFyY1CWcei+pHPhizFXEZmd84I9yVXdwM+LL5jr1+CyqP2/DlwIGVDv6/8YZ9bnhdb5ktA2qRgoSSSzJ9uBG/mkb1o8dB/X/eiJL16qXUOi+cUPZPoYXPg1yaIMszdyrgPDh43DC98Qj6PTcnzkjOpmhIutFnJ40UMV0S7r6cxxczM/j0/gyVDb+DqDZutKX9A5GYeLWjeSlpv1Xx47ZzG3biZjfgq7GEf1LsTGNps+Fy6QYcO2cSFeod85xdxFzh63xkc7Ra7bOMthlLfJBpRVNQcbZ/I9bqKn9iNbePK42f7orca4xc31pE/VtZ3eEKNQNKxzMTuQo18Q7pcHb9m7vCGulUOI05CjXZ7KD+stcog3RdZnOe1xd3ucTW93SWG9eKPHyxkHG4xJYIb9gz+xEG3rT8dFe+a2NKMm69H9wv3axyc7IfcsbjA33Mid5fpSdYBsL9jW4m76e5zFYtwXN9nnHlqsoxztW9y36sywT7m0nCt13z9PnHL+6D5UWWGuzK5/U9tTLD0v/RP5+zUptE2uXSlP+5pc28swZ4z7NrGMuSC8xZ+Y+z0KECP3L+Wn75dtDQZfJ6wC8+RfuMZP5q7Jxj7hiefqhunqbD3HJjk7ALj+DRdaMF9/d/fUwlDI7KmPt8wtvJiez3XbuMaN+3zStp8lG/DFb456kQoXgWiR9g+bdxxjZ1fFZWZLbhsvNnnE1ZzbRRUvgldixzPsc5vyZ3t/hMWGwmd7YW3ktvY9+77QVF7zg5V9ZCjUdhOTCGjFnjjwCs7Etn6TegUG3BqVLJj3INTbFwt74OytcOEiLgBXVRju5sKyqaDYfg1cFZctEvcZCsItpD/DkGtyQX4GPpvyZ1s4FyUn69tKrvp/8cV6tuV6nK/sI6lg3ordMzu1Ys8zy35WAddkfT6rGzdgPgvmGxAkmkgCZydwjQvDsztzgTPI5ewwr8kF+coL5t1x2Kbo09cxtvoW5ewRvrkzdheTm8OEDC4rViyYL4s09ZAACZAACZAACZAACdxIAiyYb2TYaDQJkAAJkAAJkAAJkMBlEWDBfFmkqYcESIAESIAESIAESOBGEmDBfCPDRqNJgARIgARIgARIgAQuiwAL5ssiTT0kQAIkQAIkQAIkQAI3kgAL5hsZNhpNAiRAAiRAAiRAAiRwWQRYMF8WaeohARIgARIgARIgARK4kQRYMN/IsNFoEiABEiABEiABEiCByyLAgvmySFMPCZAACZAACZAACZDAjSTAgvlGho1GkwAJkAAJkAAJkAAJXBYBFsyXRZp6SIAESIAESIAESIAEbiQBFsw3Mmw0mgRIgARIgARIgARI4LIIsGC+LNLUQwIkQAIkQAIkQAIkcCMJsGC+kWGj0SRAAiRAAiRAAiRAApdFgAXzZZGmHhIgARIgARIgARIggRtJgAXzjQwbjSYBEiABErI+4N0AACAASURBVCABEiABErgsAiyYL4s09ZAACZAACZAACZAACdxIAiyYb2TYaDQJkAAJkAAJkAAJkMBlEWDBfFmkqYcESIAESIAESIAESOBGEmDBfCPDRqNJgARIgARIgARuC4EPH94vdw7u1v/ulwcf3RbPr4+fF1owx4B6YOvn0aPy4fXxm5aQAAmQAAmQwCUQ+Lg8OErXw1r4HD78+BL0U8XNJvC0HEu+nDy92W7sgfUXXzBPCmMtpCfte8CPLpAACZAACZDACgErmFkcryBi1yIBrZ9YLC/yucyOKyiY7W7p+OGjcrj09cJH2He3xI1mcrfeivFJn+rAry/SmDa3Yk+69SsQTNYnp/C1yN1y/MTm+dP1ZquMa7LrHWI9HxeA9ftck4U2lzJrW08UkTmRIb7MfAycNjAKim2sc7CuUffjE3zCcloeu4zAqZQ2rjGf2+K8+1dU+ZuMytxzrMkrpWgMT8sD/IqrxcoMi/IjRxnR7FT54I/71T5HFirb7Un+l1L99X6Ro/YCP7A12iFjoq2b/GhmlppjTW/nbnlpPFfXbbIz5kRmhrZOckhluS+pv+Wv94+MUHdkYBx9raH/dmy6Dh8+sqc6NX9Q3sAc4qEyEoe+D/g6hlhW3ssyPY89xyIL963Z19hkP+M88zXmZsjLBEbsW2SW/RVmLY+SIDmV8cCs+d7muM/ACca3NeJru/Y1Od7unyJ3g85hbtNn3NDepr/ZO/ExNHlOrT1Nrnrc5oN+bZnu1647+bXZthhzMTPGfaH/wPNPZuT49HXo+Yj7cstN19V87PMCLj9JvrUYqe9mw+p+lO10ZlV+kzexJzLpPvsaiP09dt4/MALdM0Z9njvvnyb7+GRed9iorl+5t9ytMtKeEGqaxNi12mfOhXSucjGGG+yIwm/k2ZUVzLgBWQLVBVmD2xZZPteCAoIUAl6Tqxaxs6DrIoHkzee6OUHChYWRE2R6Xv0Au0QHLoggE4ovHyP9h0f3+0VH9BzdL4epGFrPuJTcvlmB7zI/2yJtmUk+j3q3ZA5MVZ6fAycvZFsxvZUtM/3W5jz9ItLORecBxsTGt4u89sMFIp0H+91G9yfCqRcXyNfMHP33PtnAPU6qO85/fNJtE1vaWtELBIxNds/4ormYC3ocfLIL1Pq6Bd15bVROc1tzDKuulu/Yn2Nb6g3gsm70S/3NXBCC37BggTCJQZ9itsbcAlvUb4uX2oFyRdfJ7FW1JLOyMx3AQhn3XPDCqjHWfs8PmNeMFz3d1oFTG2d7QvMR2vVQ+GCuTGIfpuD4aSzELvALx3t8fH0M56Ip+jXYONWJFmb+MefW90OU48dxvrf2T+tva146PnpUjv11DeEJfEOcAhu4IWt8uhY7GtkEeZldzaE7LR6Zjd0Aec6JrJ4nKecy93yeTUXfhrFmB+ad+tHszMzzueW0251zJjLpN/vuG/brMcRnuN7UHJ3NVZcH3xBE9RPjGdb1FtfrM+QPas5MhnO1w/ePnMP5PEq+qWdXVjD3RI0XPExEhyoblCfbEDRcVDUxg2zcAEKAq/TcFuTFgnK2UcY2WJQuJ8v3osgXgIw7eapFqvsoDA4fPtX33sQX0XH8ZNzonM/8cxw/Yzu0Tey1C7EvjKzNfF5kjvx9quqoF0TnlDYVHbqVLRP9IrNtnFUptuFx7VYOuulBDN3eYNvI1fjABb7Nk4NxfGDe/K/r4OhReSxPvmt+xNwPgotvzJ096trkR5aFuS5yvNDycZM2iE9cBzYntuU4jba6H2O+w9xJ7KKeUXfgLd3I3N1rnzNuE9/b+HjBElt8HcOQSaxibz4bfGp+dxZ5zODnUqHdlGEMoNhqT9x6Diz7NeGJ67vpgoPGf8barwewntr4SZ+IxX5VE/3SpjZmQSeYJ4eZrd+M6IOMUBylidNT04lPXf1Yc2VrXiY8xLn5Nd8/RnNGNkFe2K/E7vvlwRP5xjfv16NkaYl5Yn7bup5xn7WB3ObbbNxkTcJ+NH04IPLcj6FWiFwCE5k3uUbbHj2xI+ip/kBbkC3d0reYUxP5yBl9dnS5LckP+tUu+CYnPEiKTIZrGerRY1izG/1yY2/W5/UomHWR2uasGxVs2L6xeAGhGxcmV0gGXKAeCAg6Bti7c5vI82I2FbfDJjrbWKsvze6h8IDCBJIMNxpJ6L6R3q2LCfxw21c/x4UWFkqdO7RlHjJu1tZ0G3P0145rga1z44IM/bhgMa5LegdbJjFXmZPF65vlav9sc4a2Tf40Ln6wIQ5ii/rd49tjAnpdXPiUfryR6TK8mI7F27o81etrD9aAqRz9sA0U1m2aE9fLZlvlwtp9H33xHPPC2lFEPdaKbcGv6l+W4bK24jbLAfV9je+MX9fqBZn7qJ+J5+BHWi/qs8cPP8G2IF/H9Pzp7M0u02frSGTHXALbcQ1XvYtjZRqOTz6oVOGL7W2NpLnoo69tFYC5U+3cRmeQB9/yVBHTIsz7Vj/X8sJ9SvsVyhPbIRdCnBqb7nPoRzl6POZhHN/ltJhrvpt9OhZjk+TLnL62zG87nzGYtYHA1ZiNfuB+NI2VynPOorvnfi4GGxPwvfHwusDzBWKj1gc91R9oU9k+t352ZuC/Hs78hH1S7UM/Jtdr0Q02Nt9EvvRhPIO8ngtmVTrHserf7DrvvLNfN/P8ehTMAF6SEoObsYZgS2cIOC5QnwlBBj3em4vBLB/PZ7bltrao3C5NpJjQJvNRe4IstrR5dTH6Befxic8FP5rxGw5mSQwLR2ajfyptC0ZR6zmYowDnVO/4Q+y3smWiX/1OCxXb8Ljaohx04zB5zt+6oW1mE/ozO1Z9aTPxOEjf0aPyAAoSjAnmxSg65wSeg81t4qytdUIuiJxcIFlb2NiBRV4HIjW2oW3Si+dml72P6HGb9MurVsrS14TZHvWMbcjTeie+WEd7EhzjD+PVZywKop/L8ao+htfFqtINMnWUjhE2Lsc+cb3MODS32rzeEmOwtBdYPJb9ynuwyDfbIkPQW3P+w9mal2Gtv87Bc42/5wjIDIeYO1nGyM1vVjC3B5Y1149P7scCI+hdOtnAo8V2Pj/nbzivbJb2j6lEZbiwH/m6fAiFFNqHsRiEm5+dI57PGMzaQGjTZeMw10Nx7FNqjPTn1tTHlCehLedIPDfG69dos8f2hpDrQU81DtpC/LTbZHRu7pB9ztZea0OffVpqy/rCudiFBTM8vMz7w3COesA/N2MfP69FwaybkwdNgxAvSLKBWkLGpNaAhIDjAvVwxTl5I4zn4/yQXJggIj6d61j3A+zSdngCYufxxqAtgFQwuxdDstbEDgu1D54eBV/qiFlbZBILglHwyCzbqvKciwqQOXUzA042b+SCG2W2zS/OcbMxmzqbdD4s7rTp5f50vurPCGhoCcxVtn+LYEPH/lwgztjJ3JjrVlzCRSP5kQ0Leus67AyNEXIOHNJayGtjKIKCrRYfefrZ5aMv1u99aie8ezvoSrYEv9Tp0ZfOIuWK31T6+h0YmqyWo9o/j5fZDfGQglHeYd4kM1zEkIXpbjGqMXNO6lPbO3Gee4uMx4JZ7a3rVmLd9Ph0/xT7h/W97fjELz08cB+6fPOj8dYBT8tx0B/9GmUknefgH/RPYu5o7HPMqVl/kNneYR7jFvJZda/sH1HR9CzIq7kW/vGw5pXnrbELufDk1NZtGCeqku2Zcz7P1kl/i2uKWVgTNjHsR8NNW4pBkC3zY87YWh2vRe53YFbXnfe530vnYa6abr6FdYsslBPsKYmb+u0PYIYHFSkGvp/5+MxBfXFdkUlmFPdd0xNyWJi2+NU6As7RxZtyfGUFc/hqMEOsCdjHSADrgklfZbQxmgBjcgxB9qcaLqfprvLbuYVwSG5N1n537kluC8w3lfyUpCZTvegOY9NFQvr7YvNUSsmbFo2PWvscfMmLp012e6ufiUkbpgfbMK+LxZnL59KC9Q276dxky0y/GJbyxfVJV4qh5FDmbTHyOPsG0j3XTWrmTx+yeBTioLZE+aF/Zu/JU3saHApMGZhyxOPb7Ix6soGDXl+Hyi7xFJktRlVS4hrXBhbD2dYaY4xR8GWMscfHdeSYtvaBgcU0x7uzSPmm7GBd+wWpMT0tx/lbscSh5frEFrcj5hPKNO4+zi/Gzb+qq/V7zJp9HvORYc4XZ9r2VLgpEfuajg7LjrK/ojvEMk2Q8SF3am4d/bj8v/p7xZH3eLM1xijaNq6DUYbrtH90uT1/8aXOdR/Vf+ecfNXT0V5n3O3OY0RetNElh3U60R36fdLKZxxvOrtd/mAIY1Ltajl2Wh7XHAjzcsE85P8as3wNFQeQR7Zhsh/5eLezxsvzvK0hZSPyuj02Bn22a5j7F5k5I8z7ZJ/nysBg035kgXObLW+iXb4neE71tYW8egIE22vc2txwTUk+OMfw2ZkNdoTrqsmKzLtNN+XoQgvm7Zw+LziZlxOlapSgQ0JuZ8fNHrV6AbvZru3eet0kFnJp99pvqIbzrtub5q4VLn5hvGnW014SuB0Ebst+tCfRlGtuuEm+mX6xYL6RcZPNAu/sbqQTV2c0C+ZzsL8tFygWzOdIDk4hgUsmcFv2o0vGuiN1+/KA7wYVzDuKJMXePgIsmM8R89tygWLBfI7k4BQSuGQCt2U/umSsVLdK4AoK5lV72EkCJEACJEACJEACJEAC14oAC+ZrFQ4aQwIkQAIkQAIkQAIkcN0IsGC+bhGhPSRAAiRAAiRAAiRAAteKAAvmaxUOGkMCJEACJEACJEACJHDdCLBgvm4RoT0kQAIkQAIkQAIkQALXigAL5msVDhpDAiRAAiRAAiRAAiRw3QiwYL5uEaE9V0zAfq6o/eWjW/YHcfJff5Pfz7zpf53pKhIq/mWua/qb6frziv7XLBnnq8gT6iQBErg5BFgw35xY0dIdE7Ai55oWNzv2PYjHQmoP/jpT8G3nJ/WG61rfaNU/w8zY7jwbqIAESGB/CLBg3p9Y0pNnIiCFDovlZ0LIyUVvuq51sVxKkRsiFsvMVhIgARI4E4ELLZiHP3/40aNyeHBaHoNJMqZ93Y199alW+Pp31gayyoL8w4cf66jx4mVPf7xfBsWvTu+WO+1il76aP7ibLjL1KY20D31opBzb2Oab2i3zeoE22HGQviLFp37e1+QgU5S7ZmMqEJv8GK/siZ1P2FQO7mP0p/s5yps97aptLRZzP6IOYODFQPOp92Hsgy0y9ui0HB/1saGo0P5H5cMwyU7UjmZrHpBsV05rPGR+muP+uOiJX4F7smVYl2m+z3W9/bwWV5CnbkL7HLjE2MX1juurSYCDTTk5ybvEJuqzXN6YJyXJBX4xtj0u8zyy/uOTU9jj+jpWWcle28MgH1JsZG8Z49FzVPs27gOAuJSi+XByWg597zq4W7I/kRnYJ6Jm+pzZkA+oO8VXuYNslQvnm9YBitbj5Thq9wrbGGcTnNfNMpOeF+O1LfXl+Acfav48qY2Nc2Wi9p+WBw/v9/xK8pZtFJmJT7hu5dj4tdGvB6m/saz97dxzE+MYnOQJCdxYApdaMOvFDBZ4OJcFd3S/HLZ+W6CHR+mCgah1Q/EFbR24yeVNUPXBxcE2F5z/cXlw4kWR6Ic+tc/77KLTi+vxHM2MhYhtirMLVG9LG6duRrAB5XMv/P2iVZWrv9AWz3EDlOMVztGZeJa4aKfal9ghyyihFYjuf7RzZJv7I18XPvok81yHj/JPywVgXAuLVjTP/KyTc565TPtMsXS5EJc4fgt/xZY2P8qf2RL8zkVJOI+y+gU2cgn2Ji7GsRfGj08gD2oBtBSD+P70GD/rB3lJt+ZF2z8qRzif54n53G2K58hTj4O8QKIXJC02vbi0onf0acjlldjqk2G8eZGxeL6wD0Qrzb+W19ppdjUGKjdxxvUrOQMckNH602vRg7mUzie5mPO8n0evPLbNh1murbANPlTRYd2sMsnrptuW45vP+0g5QjkxD3Wc2oB7WI2l59uqjSJBeKe4tjjOYiHFr4/Hfjlev16on0129JJnJHBTCVxiwYwLruLSDbIuyLqZ+SYlG9jhw6flwUUVzEl+3Jwm4UPbpFvm+wYQNnb0BS8GKBM2wryp1WHut53CeH8iVJ+az/qlbdjwN9rY46Fz3bdqz9YfyEUnTTb62cUrK1B775bDo/uds4zZ6IcMirxM9LipR8bRgCkD1Q35CU/k5EmSX5wH9kH0aNuaHdv4G/VF+bHPDEF9cpyLjt4WZUn78ZOeJ8EtP8H4C6+jR+WxPAHzi7iP088oP3TpSde1MR4yHnXnp5XSj/FT+RP9s/UIbZ3nmE8qMvzffMwy/3F81yeCo70ox9TGfmmL84Nx9cTmeO76iD5v1p/aAvekU9n5U0b77Lp6fE1vOse1PsQux9str58Qs9aT2rqPMiKyi30mofNO/ms3tkVZTT/6442zNu9Dm5LtOmTSpnbr3o32uMDUlpmKvLbvYyxk3v3y4Al+Q9z7u07XM/mc2DoZxSYSuFEELrxgDhdKXKB6HDdS+/qqFpmywPQiKwvT72wXNiJHPNl8+iYHGznY0ftNT/i60+XKp8xpm0narCd6p4VOk2d++Nd1M51iV29Hv+Ncl4EFm6gZNvyNNjpnYb1U6DcHlg/CpivDzN5+kVxqm4icbbIb/ejyO78qW+XFnIt2dRvmF4F+kYjFWc2Hym1g38U2Hhi3/tQmDLSTLfxdzpWaB6mwx1yRuWGNhifePe+6T8BgYm7n0sf1uTZBz6tNQ4yCzA05KWxW12SMtTHH3O7+NbWznIM2tD1zazLagdmffQw8IL7ajv7UWPT5aK8dxzwyfzGng65mFx6YHJyjveKz2jLrT20yFm6Igs4mp+oEf+M3CNLfc0ZH41iNwSye/sSzyvcPHZ/6Utv5103yX3Vimx33uFWj0B+3c9bmfXXv9BgP8pI/Oq21oT0uMLWJbsw3mdvOeyyEk+aH2upMN6zNZLv54HPdHn6SwM0mcKEFs22AeZOri2Z1o6gFSN2EZQO2zWJhIwLmulmnAsEvBraRPwpPqdtmgHfzIK8dhs3kYgpm9Uk3OLyIi8bsJ56nTa8ZGA/CRUu6ZrxDW98gjeE5N7fMqfriMTArt/Ch2nZ8clFPmEVz1NtjH9npmepPDLBt8DPxgwIiSsdY1h7NgaTLJ4UY1cbQ1vVab5Q/5EH6hkIYYLEjMnpblfVw/mTJTQyflcsDv8jObt5gwmoMoICa5mSOAZ4HRqAwHEZW2jWLBbR1nlYwxLwOwvVk5l9sMxv827Moby22Ps/+fcao2Vq6vUsjJjfXIWYzPbEt6wjnGBM1wbjZfp79S+cYQ4jBsifQMxsf2pKutOcGH6rYHrfov3Vjmx0PBS7646bO2rwPbVLb03Ui+GOT1O6z3Oi0Ajld03ztPYQiWm31farzU53tVQ2xw/wP+8rE1uYmD0jghhK44II5UQgLbumdwrogZYENRcfCRpTU4Gnf5OBpG8gd+31DECn9HWYcp/LFPthspB/tzedok28ovqHahgObYeKUx+tTvPQUWGS4PNGlMsFPacs2xfO+AbaxYROU/v7aQfQHzhIX7cmbZT6H6XZousyfcfONdo9+DbyqfGWSYhYLFDQk67XzNj77CT7N2HfJkxyGuX1cP1rzd9QV5Y/9xqv5kS/Y4bwyCO8nxjzpVtYj9SX+g9huw9NyHHIyMR2ERV3KAXJSzpsfMjfFRMdDvC0v0voeXvHKNsXz7ovfhCYbsg/KA9b2LNbODHwTMUGXyjVb2jrPsuuc1j+VkQ3sfrR5IQcqV7Qt+JBsyjplLMYgyI7xXX3CPCvCpKhD2cG1GDffEzxfNrEd+9O6CQwyo5GJm7a2ln1M/4xy1Cbc97MNWuRCPub+dL6+fmwPDt82aux8/cTYqV8tR2xuyye/9rR+vxa7rO4xj0jgJhG41IJZwNhCg6fQfkGVxe3HjWDcQFrzygFuCrbhxEWK/SLGxnR7Dh++p0+kh6/Nxb6wWZtt/vVZ7MsGjn643uMf27+o943dZo7jrWjudmb7VN4Cv7mNcQMUvRaberFPm232qJ0PXKzH/TPdUEC0iX5gm23039p6PmxiPfIy/euxdwv6Z9Vbv7EINikP5N9foZmzd6nJdpW9xkPmpTk17yLTaItf6Ga25JzPudQvdFVvyKMxT9wz/VQu0Z9uQ/JDfA9rKEgav6JvOfl/lf/7/xR/YzxzwSzSLIeBTfDF7On+uv4Y9553kyJWi4h4s+xS/DPGKdmsg3J+j/tQW7M5X4Y8jPI7e7dm4TPIifGTGdEH7692pxgGnUGuxaHzTpzrOlv0Na+DjTfwSX6NffQFcgPYBh8qsrxuohxnIoOX8qr3NR8Tu6qqfoxyXKcynLANe9Ri3HwdxlyJ68fYBXkrBbMYPF4vOlv7pZiuz/zo59FvnpHAzSCw24L5ZjCglRMC+WIxGcKmSyYgF51wQWv65YKIF/DWwYNrSUCKkxgvxnZ3gdobtlows+jcXaZQMgmsE2DBvM7nlvaOF/RbCuJaub03F/5rRfXyjZE45iftjO3u4rA3bFkw7y5JKJkEtiDAgnkLSBxCAiRAAhdDwL767q8pXIxUSrkFBFgw34Ig08XrTIAF83WODm0jARIgARIgARIgARK4cgIsmK88BDSABEiABEiABEiABEjgOhNgwXydo0PbSIAESIAESIAESIAErpwAC+YrDwENIAESIAESIAESIAESuM4EWDBf5+jQNhIgARIgARIgARIggSsnwIL5ykNAA0iABEiABEiABEiABK4zARbM1zk6tI0ESIAESIAESIAESODKCbBgvvIQ0AASIAESIAESIAESIIHrTIAF83WODm0jARIgARIgARIgARK4cgIsmK88BDSABEiABEiABEiABEjgOhNgwXydo0PbSIAESIAESIAESIAErpwAC+YrDwENIAESIAESIAESIAESuM4EWDBf5+jQNhIgARIgARIgARIggSsnwIL5ykNAA0iABEiABEiABEiABK4zARbM1zk6tI0ESIAESIAESIAESODKCbBgvvIQ0AASIAESIAESIAESIIHrTIAF83WODm0jARIgARIgARIgARK4cgIsmK88BDSABEiABEiABEiABEjgOhNgwbwhOh8+vF/unDy1UR89KodHj8qHG+awmwR2T+Dj8uDobrlzUP+7wXmpa8z9OLhfHny0G3qPT+6Ww4cfm/Anp31d70bdjqQ+LcfASHw6frIjVRRLAiSwBwTsWsF94tlDeaEFc7zw+cV8dxfAZ3d/GwmxMGHSbcOMY3ZKQIq9g30olKT4u3uJhWvVp8X5Dd6Xavz1ZukG3yjtdI1QOAmQQCXAgvmiUuHiC+a0gcsTkDup7aKMpxwSuH0E9mfzC9/e3L5A0mMSIAESuAQC+3PNuARYqyp2XjAXfRpyWh6vmDE+mYanP/g0ZXgyFL+eVBXy2sSB69vULzPwqVN62iW6Q7Ffnzb7KxrZJ9XtT9blE/wY+sYnhGsc9MajfW0db0LGwmPid+K4/KS8+jjzu7WtLcCJbuCkth49Kg/kRsr9QZ7JzsBQ5aR4IeM8t9prXCEWpZSxrfrtNoW5YGvoN1uOH0rO+RjUM7IwvZifKec8H5EJ8Cs1v4+RX8t3H5gYJVlDLiFDEZE4xlyZc3LN4+eSLTWHTuxpuedC15VzLJ9X9vV1BOUa/LR+fwVjU/9ot7Qk24GTxdFjbp9qu8YHc0DkmO1qS40f7ocSD7fT4juRqwZmBh6rrK97k2PtenK782+vn63kwKLvbV25/ct2iYUxJuab2OE2zlg0+zbup12e+9ZzayGu4nPb43rcok5fu8Y4xE6aVrgt5lPS22LT8jn5gjYmfYFf6uv+m+3h/+vYMCa3LTLPPD3+cI1btKXObb6KVantnHpjfnW5nl/z/pizLRa6v8fY51h77kS5PXaut/nn1wzwXed6e/30mMS+aGeIZT2JtveYhBwppQzjcn7BeRt78r/s28Fkq8hWe1O8x+v4zOLr37bzglkA90SZA5FE6GNksSwngwasBXAyNlyQNvVbMnfd6VyC3nR5kZULHPDpo0fl2N+RlGZNmrTI6nBL/ti3PQfbUNxulQWLzhYkMFQ7Vs7BBbu43y+HR32zU7uO7gML4+QLOUzXzQ50xc5aqHbZvnm4L2m4LeYWg+i3jn1yCgs06n18Ynyb/c5IcuTofjmEPNO88n7fRODci57os9kz5ojHNeVf2/hjv9ji7+3qehHWQTdQqRsR2qHxb0VzymEs1qoY0dHnJxtXc8Vkd9vyOdiph2u2VHboZ+Vjttncbmc+t/nen9eAxhOKr0392fJpXnqu1WKv52y0LedS2AfC/mRaNea4b4Axs9i6z27j8sXo4/LgBP/NhTHrdouiFH9pUht7TubzzLKZm/e7fN4G2gHK0eO2zutAsQPacHwSVfcVX1cWj56n5pPtzRMGHlexN+uTgsBzdFPsVtfOlnonzHI+hfNkc+OyIYZtnB+oHNn3PV8sL/A64EP9U+PR9p3aOrNHfYJ8Cueup/freljZA7fVm/NFua3sCXkt6PjGoxaWfh58MN/xeuM5ozb4HB1mudnXYDzPNjvrsIdIo+r3fG+j2kHUG/envJ7bJD1IeSp63P4lnTgmCmtnmWXruGEHF18wT+44enLM6egCaRcMW0BeQAwzQtAmY8OmtqE/yKqasA0ToW7ej/EfAQ7GpQacn7pmSXsWDpqAdSMfF1n0O8oVQ9ICCrZJ3/3y4Ik/qRdZp+Vx8MXm+5Mb+/TFG3UH0f5UyRdg7URf8viwMQQb4sjRx94vfA4fPtV/JCfFhow9fgJ25ouLTB3aZsxEBhafeR7oUObIVZRIP7DdJseEQb5IYdEz6w9t2Q+00djE9QrjlYnHufJdiUmInYej2TJhV29UTD/o1bn5PM4Pa0B0nDzVOLsvm/rdvPa55lewU2Yk25qPMd18WgAAIABJREFUJi3k94ThWu7GPIx6hjxuxq8cDH7F+MvMYG8VhW2BZVNltjlva561tQnwhDnGso1Its711tG4XieMl2S2djlAfSLj6FEJ+/1ELsYOj00uxAtlB6Wod8IL/fJ52LYgF+Pl02Zt3qe+w5oR1rhntnF4gHZ4+8SeVS7n2QO31BvyRewC/8Tc0K/241rA4+qc6rX9b/TJAaDcSV6LHXn/hrbRJpE7yYtpm9sAeadN8/O4Vn1uWv8tnjMb6pw2pssYjsDHoe8GNVx8wZyKoXmwkZAEot9d5rs8n79cnMWvGsbibaV/FkRsa4nQF888odEfWyRqR2KhG1a4oUC/N3DQxZp8wYI56Or2zvmZnPmC6Xaor35H3liIr7Z4+pMuO7e7atSNXOxYZQZb6wbT2qqswMk2qdlck2pz5v6YfO1zhqoL7JxtwENb9lk0W6w7h9zWdbQNVuV60Sn9fQOWnBFZqzmG+WnOx3jM+kOb+IF51230uMa1BrmiclIOapzcn2aQHQS9ta+1zdih75l3Po/zGzPg25jjxXGhP1luMWg5mXv9psvbs2123nMOeA95Nd6kLO8TXU/zF2+W3JzwaXNiTDFeGH+bqPr9qWqVhW1dNyoCn1vzrK11GmNf50mfjpJcgfasd5FTy7Guy49UxlJcZV7aG4LO1djNOPe1s1Gvc8i2TXSGm6hms3tonxgv75m1eZ8XzL6nWVFnPuH+tsjcBQ32rHNpDw38Rm1hDzy7XthLFtb8GBNYCzpnttfJWn6GvJ7lJrSFfHOm0+J4zYa4N/q+nuPYrpczX33dqW2VQ85Nt2+IuXTM4o77jk++WZ+XUDDXxF2CDcls6CBpHboHTwZAco3FtT/h88CgrBoY1Bdk1X5sq4kg79t6cs0Tus7NH6BLFzwy0L58IXW7RRDYrmPjk8y4+c2S02WvLaxssJzLeJ/7tBy7zZWF/aSeycQF2LmA3RPx4yaFd7TVj6V4BxuicOHhMYo9ln/e9/gEfPNXMnIsRMDQNvrsFxfkEOdVFg/9QuxyPc7SX49FX/W7s8yeyPmML7Rh/vr00AZjtR/PzUdn5dPbZ5DTWpcPZuOhbRaz3pZ553Oxu68JY/aofYsgRnVZfvFc7h+cEDs994fObEs+73uePqFMctRWL5DqpzMXm4PekIdVj74zjznkOT0YOjYMfmH8bbjagGvQi5nV/DTb3A+TNGvrJvU8t1jGuR6z+pOeeNPj9iBX5KTHzqfr06PBf+ivfWv7/XLs1n0NT69BZbTJZOBNQtxP6kT0dcGfTTHMJvSC2bjbnmb2+P62nptV4mDPBi66n63vgefT6/mztuYr77AW61pCxgOsuLfk7tW8Fj6+5/tEaOtzvVM+ZwxnbT7H+jxuPj+f63pTP/s+KhJC7rR4VlZpX1CNbUzUH/IYfPRRN/HzEgrm+WbosCQ4caPEDdzm9kDXYLaEw7FVYtgsN/XnpEvnGuR4AZsntOn+8OFpexdVW1qSJLm++XvBli7uJg1sb3Kqj7rJwLt13tw+Ya606fx4URU/kGubGgrm3ho3fPOnz0f/km4QIYfKb7jQ+YKVuX5sE3XxhninfMH3D4GnzMZ3ymKOSW+0M2wSedNQU7LPLmNib/PP/AnvmA75OV7Y13LM/Io5GW3HWMjodC650OxzHyA3VnPFZIWNUDgGeSLT/5d0z2zBmIU8t7k5x/p5zBVlJhc+2NBxb9nU7xb3T5Mf8sZzLcRQZmRbpc1jH/Ojy+9H3c7Mq66Xxsj6/ZsIkyB6IH5drNkQYhOZLc5X/0BmOl/MzxA/33fG/HYTgxzVgWt7ZNrHb8kJckEKz63eYZYcAmZdp1sdP3vs3F/gVvc7y9mVfAprsuYN2B7X91JBE+0aCu0UwzTarhGg0/oxBpuYV4nBF2hLOSpcO5cxRzr38+tVGSt7wsBgdk2AXLB1Xm3VXI+xxutN24cW8rrvK9G/7ney7oxrS3Om2Y5xTHma5fq+5bkQ4jnmploZxkjLuM+oPe067vvaGPfk9bU7vfiCOdyt9a+kZp4bxNnXHtKGidnHHOu/qnfQEpiYtLZRbNvfg9u+svREkS5Npih/MaHb+G5ruLDVheN6Dk9O2z8624ZDHHNa9FcS0NYAeMJFfUHbnFGYmJ4wQ19YFLYA3Rf9bItzohvEtE0M8qQXQc682xnjLYJsMXbd4Ef2sfIRnX2DcmOyncmn5o+PT5uONmdb4sXWbQ26NQ/cZpnvx67Hn4z0J2u9x4+SrUMeJLuAg3ALvNNFQjVkjsHGpNtf2XHThs+5LT4s5gOyGPX0mPf88H3C5OB8Kyyc/aZ+tyd+JtuFQ2Xjcm38LDfyzX2UjGeytpu8lX3CC/N2MVYhYmPco7rskWGMvYxcmJ9yAOcpyyHnTGuM55JdMBbluO/+L/DTGgx6fWzdR3A/NenZd7RlEleZpD7juM1rMcSuyRjz02xa0Rt8reNaW/KltVeb8dwU2f+vxBCH6bGMxVhoY8rrjcxX7Em2+Lq1/IvrVlSfLdZzvZaLUfYQrwBiXAvxuhtvyC1fINa4zyJL59baUh609uR3sK32tetmzNM0tN3Ez/fMODf6mGoLiVvIr5ybc/aZTb6Oz2Iz+nD9Wi60YD6rexIo3Ij7fAlKTPTet39Ht4mDLpSwAG9yPG3zmOfwTfbrpth+vfcJWdetEL4pSGknCZDAnhFINz575t1lusOC+TJpL+hiwbwA5to3s2C+2hBd44JZnyrFJzlXy4raSYAEbicBFswXFfcrLZgvygnKuTkE+IT55sSKlp6fgNwEj19xn18eZ5IACZDA+QiwYD4ft3EWC+aRCVtIgARIgARIgARIgARIoBFgwdxQ8IAESIAESIAESIAESIAERgIsmEcmbCEBEiABEiABEiABEiCBRoAFc0PBAxIgARIgARIgARIgARIYCbBgHpmwhQRIgARIgARIgARIgAQaARbMDQUPSIAESIAESIAESIAESGAkwIJ5ZMIWEijhj05M/woWIZEACZAACWxDwP6ym/9VPP4++TbMOOb6EbjQgjkuCl8c9XNv/rrb9QsiLdoFAfujJPanRbnB74IwZZIACYwE5tfRm7oH1X0U/vzz6DFbSOBmELj4gnlSGO/XH6u4GYGllSRAAiRAAjePwOx6qX8IZ3Jtve7eqS8slq97mGjflgQuvWCe/gUs+cr74LQ8rkYPd9gn/6scH6Qn1vX8+EkpZ1+U9pdv7Onh3XInbUS71W+6Dx8+Cj6JH0v/i/512w8ffmxT9M/wJj5hk+pz1Ofqr8ZixtXnaly63G6jyWvnTf/SU5A0XqxW2Uvjvf+0PHh4v4Q4NV1i18r8MC6PTTyEgftcZvlkT0mcd4yHhSC8wiFNSb/PLWWie80PEx//X9hBzrY4Nh+Sjjp2yGuPfZOFT9UjE4vXJB7VshkTN7qzmT1timx9jn+q3KNH5YH85Ty3t/lZ9NWZ1i79zReXkHxC1im/fW7j6fo2ygRWKTYt3mDzLA5tLW0x3z2zzxRrtxn9zDk3+AMSU972fTlz7PEQ28f4x7iaz3G9ztrAEtsjwNYWF2c52ApxUEGJTZXV5DRW1ReRm/i3sVVnO/e5YJ+tkbulxVJsqDkW2oKT44lyQblNTr9GXqgdM47qn8TLGK5fr+acPfePT+T6HvNFXJr6qbZAniTbbB9dz8UmG3S2/T3JU7s8n4ZQbPI9+S36kizL8e479scYVp/Vvh5nMUnG+fVD5QUdfZ1FeUnnxG/PydV5aT0MiG5Zw6UXzFZIwIKom3lICCieddGdPCofemAmARyTyAfPPmuSt6SL55bgmLAflwe70A8+jjqj3eifHufNVBYDtOF437T6Qo3+miZZdBgTL/igTRecn5sMW3B27PGLlvsZjpc23/Bcno+Dz3qh6XJ9To+NLnTwG2ZrwXrsNxTSofL63Dz28KBf6CK/XpS5LblfZOGm5sWyb0jxPLOo8ls+BsvmJ7gGJn4pF5CXzz0nmn2qJccxnQ/xsH7PqxkTNz6wqbHfNndULsTGc8dj4Trss1885ueWB6pb/Yn59/hklh9ZpkiWtj42+I6x8aIgXUhlfLc/5cMW86PPab52in3dtxz/fB7kPTkNBZ/x777q2GSjtAUGdT1IMeJ+qs9H93tBoXvW/XIIdgY75AT1yDEw17G72Pc26QxGptzQufdhL7Y4HB71vSVMXzhRlmlfi2soT7w4O3Icfa8I7DUWnl9xH2jjdf8xu3yPUKv1OuI8rB/3oZCbYaxfk3xuZYDxqk3qQ8gVv4abrZ6TMnz0twrRj+obygq+49jRvmU76p6PMfZ1pz7H9Yaxz/YqL1hnZpHl3YOPkn1wOtomnZN5E74g5tYdXn7BnArkWEDPNv8Uk0kALfhwRxUusGn+JCH7xnwJ+rP/Yp7a5BtQsjcs6nGD0dGJSVhUq/66rnGhhI2rDuttwEk3kLjAXWr/hPH1Ynr8ZNTZx88KXJOBm91qERyEpYtv7ksxCfzEv5OnoSAO/VXW2qYmQ3p/ZBH7BsPmDS3eEyazXBraRhumLDG2eFytUg5109djfKIDa7D7XieqLCksxicy2WHU4X09D72lf4a+xqn3+9Fgk3dMPoNM6U9rKuQD6pRxR4/KY/mWJN3A9DxOsdhifjQxzddOWFtD7N3+5f1mo3y0sQ4eGEzWzOHDp+VBLR6F6VZ7gObXJM9Fb7Ij2JBipGam8esFwoLOCEfXdYutyAe/xR70OU1dPFU/0lrCm4/ZxJCjz2BHYKiKZhzgOrTKGcaB0bj2gt3hZnpezOJcFTnEdLYeXPnoy+ivj5XPcbzfsGOR32fg+BU7ZmvShUx4os/B3hRnFzHN695pR1MbYN/w8aIj5WLfu3zQ7fm8goI5FkNrC2YahmGBTBaWBnmhiJskgCWEjJ8v8GDHs+qfLcJp8natYQOFC28bITZB+7CoUsJ3f13CuFBiXGxcb7PNwBfSfPNw2fLZN49u26gTZ4wFHG5GdeRanHWIxVPtxLt56ZvkgW8EzUbYvBY3rWoK9iunGXONUWQ3xqIKXPtA27Nfs1wa2no8mpoZS2zDY58EbY1Z7dPz+mQG2fhU7c+2eyd8zsaFNvUt3iz7WgjjQKbno8c7dMnJikwdK36vrTf1q+e32gHjhUdfMykWInvD/Ghvmq+dXff0ZnzIhyhxbW00/1Psmo8q2/ZejLv0K29nm3xMFtip5leNbdLX7ACuzQbpxLlhLeJ1ATi5AThvptPtR5lug8zVY993RNcsPq5s/ql+DLpNTsvZHdkRGKp5SW9uQ17IRNe+cei5bv4GHeqH3bxlv9f30cpO9AdWc5119Oa13QbKwQbfZcjEf4vRih3gc1AnJ5O+vI40x3TcuM5Mnugeb4hHnnnMZF7mO7Fv8GGPG66mYG6FaU6qLTaXHMDwBLZGai2omuC4aWJ0L0H/bBGu2Rv8M15t06ymhw0ojPcFveSv+z4uFF1cfiGow3obcFKeeeG5XP+s4x8+Koft661Rp4/WzyFOJiP4PowJEuIJbDC2yaHNUbbxfNSehomg6aYFGrC/c4IB7RDYedtZ/JA5Ml4vEiYLi7fZhju2bWkD2oXH1W68wOUcNJ0LG3qVdSzvJacccyT+iTq8rfHVmGLxmV5vaZx8Zv/EePVWv2CtyEy5IHOD71WnvHPtuRr6hwIqxWLj/GBtu6jHogTW1mxvmbVlse082SftE67m4/qacR6PT3ztgZ1NHxw0PZM8z9zzucxtew3IDIcT/Ws6t8m3ms/Cw2Iy4RdsGE+UZSgCbUxr36EdFsenYJTZ77GzDuFW18gGzrN1Fttcvn37gHraOgdrhsMWL+/ZzBvljv66HPl02+q/FdKu7Lvnch6/YseG9ac2hZuPvJcsrzOzfsxr9RlzamrDOG9c6+C/KbtV/39FBXO9yEhSYBB90wsbnb9/VOMyLJB0wZJhq4vYEjleqJ+W42qHJSsWmLvRjxvDWNDEHAyLum6Wff64MMP4uuiX/DVNk4WSF1Q4jzqNGW4c0X7feORpar+wT3TitCGGprP7vR7nDx+elvAOF8hTezHvElPzJxZzuMlHvmY09ls80Vez1WyP7HQ22Cbnph9zEMHkgsU2MIwvXhBkZj73ePRYyKjMN50nG/2rSY9HZqLnlfHIxnPFbHcZyUs9RTnaUGOlti/Y1FlM5Pu7gjrX7TDN+g7zJpmqP8Ym+K7z474W+of5KR82zR8gpfnaH9dWjn8+R5FiK+bFwF8Gi424flrOrq+ZMc7RTrRDj4Mei2WP7eh34HzefW9Np8YGY59skv7hBjDbaXNGFt37KfP6kEnnXYgdXR8eRYbSY/ajvTqmXaOtP/rdr6d2LYZ1Ntju+7h8k4Bs5zevIg9tWc5FlAXX8KR/9BdprPs+xGl6HZnboWsQ15DvS6i+HuP+aeyX15lNyetqyQ+Ii07M8yZrXX3M8yZG72nTlRXMXlSE5K+QW1LUu6wwRhIeEw0363ZXtimgdZG38f0OTkzYrf4xec9UMIuBdWHe8V8PmfEIG/e6v4vvPOnm0r/u7hdSk9fPOzNs62um6g82TRZnnzC56ZlwS5sfTreNutsei/XE4+i0HB/1HLD440Y3ecIMuWOvVZiu5r/HqI3znEy6td/7xIOJn8GxySZWL6Z9XSQdKT9cR7O1ybeLefMH45VyQcbgusxrBn/BpG34lUnQW9tQVjNnshZjHOvNQGN8Wsan1sknvChnn6q/ejGbyRxiGvNLfVCZGE+4oa/6oq8Wq8ZkbT6CacdpvrbntbUpH5qwuu7AryF3Zvnn6399zUS/RWe2E+yQQ2ER9NdYHn2/vCbxCX3AuYlJfqecnepf1Gn/8HwxN9xeXDNqR46P+TCyaEYP1x9fjzjn2e3o+vBI13HwYWQ4FLZ+c9LWzNreEHPEdNe4Br3VqmHNxbU15ojNy/uRsjvn2nL+9on2JzbpOiKWTO1QE9PcySsUlcD47SbuYZNvvKZ5nTgenpxO/sHtZD0qM9gPwkMvt/D2fF5owXwmbBpATL4zzeZgErh2BOQi1gqf81p3XdeFbpyXv171gpMKo/OifeZ5EpsFW8ROLGieWRcFkMC1IGCF3W5ze1Ko3Rrfr4WjNGJLAldWMOsd8uyOckvDOYwErhuBiyiYtUC8juuCBbN9s8OC+botO9qzUwK7L5iv1U1xYLl734M6nlx7AldTMOtTtPTVyrVHRQNJ4BYTYMF8i4NP128vgV0XjfY6xjN/M7eTAO3a950YTaE7JHA1BfMOHaJoEiABEiABEiABEiABErhIAiyYL5ImZZEACZAACZAACZAACewdARbMexdSOkQCJEACJEACJEACJHCRBFgwXyRNyiIBEiABEiABEiABEtg7AiyY9y6kdIgESIAESIAESIAESOAiCbBgvkialEUCJEACJEACJEACJLB3BFgw711I6dCVEAh/cER+jog/m3glcaBSEiCBnRIIvxW/8sd8dmoEhZPAFRBgwXwF0KlyPwnohcT/POx1/OMj+4mdXpEACVwqAft9Yv+T0dfzN5QvFQiV3RICLJhvSaDpJgmQAAmQAAmQAAmQwPkIXGjBbE/Y4lfRuU3/JLY/hZPP8Kdm09+U178udrfcOTgtj9W/eGcrd7h2d5vmlVJMb5oXdFVZrW2UfSc9JRxsP3Bfbe7SnbbaMpF1+PDjFjWzV3yV/1xu6y5Rt/vV+/tRYjEwdDZLuuwvL/nTA/1sjJLszDm8lmAWid3oZ9Exrjv1lTEGx289KoeYL+1YGI3jB3bNf9O5FCOxNjK+W0L8k5yoZwOXMvYbhxjHqB/6Bt3Jth78haOUny0GPc/m+TfJhcrfOc7niRmm8/Dho3LcYubr1c1M8tMaWc8Vl2Gf0Q6I9cCu+1w0LnfL8UPMMeyf5BfYqDrhXCzxfI+x7PmuOSU2tTUls6oel6U2n5YHD+/X/SDvk6WU5JfHo8kC5iFXW+y7TX1u3RvcjorYfZLTNZ/r8Lr3unzk6SPiZ4wdjt+Qtyu+uMy29wTmNe8gBjFetvZcRtgLhWubl/IX9u0oT1igX9H/HEvVl2KQZqzEX0ZO8rbZnJiqYPED7Uvz29yad3juuhbtTfpazLq+GWfMycxH+5oczzP/FLmbdZ5lbxnYs+HWErjwgvnw6H4vNCSpj+6Xw7AYkbVtOG1TC4WF9fWFUxcxLsyPHpVjLTrTgm+LyYsOmXu/HB71C7YsUrU1LH6wrcro+u1i2M9RZ1qgIEYOdUNAu+HCqkPrBdJuCvxi6LbXQg7s1M0YzqM6tCszHGXbZtR1WREB58OFpm90fdOp45UZzM1+ZqbhfC2+5uHIceSubJy1ys/2wnkEVx6foO0mu+dmHBxjgMxLGbiEvK5yEqsoL8U8xMDlL/sRLZUz5DTxa0P+qbxsgzSuzjM9/WbXx7vd2Y50HnLDfe7rN/s45kYeYeeRs62PXgD5zSTmAchJNs10ivyYMyk3RFxiqXKkEPO8Va4op7L0/tW8trF9n6q55HPBHTk03d3fTT5t6l/PiaTcWbQHIp4jbg/6kvJjIir7YuuwygLmOUYxJ9LaUz1ohyu23AmxfnJqD3Dyupitfxcjn2CbNuf44lg5zv35XNe7r7Msf8mXPl55QL6E82SrMYfczbZu2ntqDnaOyT5l2W2z/IJzz2Gwd+N+p7xgL8nngw9sIAEjcPEF88On5UEtTGWhHT+ZXDCAfliMsLHoQsSiUJPaN1IQoIeoQxbc/fLgiTw18vG5Tcaflsdp8UeptnAXFzLY6gs0Polw3ZsK5qxHrMA29K1auCWLgWGQ696iLt+Mu+1xM0dbZF7iPLFL4usM1Z6wsdnFSfsnc91C/xznm+25OHB9MbdMyqzN5cfPUXbo143cOW3gEnKlSgn+4vxJf87TMDdYtXACvgS7Zbj1OTMTMGnLNmycN5GhHOqFarAjFktjrCFXJl7Oxk+GpSJfuMOFUyYo23hB7nKiTzOdmO82bxJbZCn6jh6Vx/I02dfGhI3qqvvhLId7m9m4tCa6L/Uo+bvJp/X+yMc0zNrcilkfttmx+jJh4lLaZ/Il5LYzH8ZM4qNjfG2LdLDDlbk8P8fPwdaJjjx+62vd/Aaox18EJ33B1okvOH7gk9YEypKxOXfRLz0GfQMXGxzXDIzPD1yyvKprzEmQMdE5jl/fW6oafpBA2UHB/HF/wqabQFq8uiD965P66ReKekG1wjNdtCaJ3+PXdbTFFzY9WUAmTxfLQS3icPGLMNURbeuFRJdhervO2YaKG5jrjAW1F5K2uLsekQ5tM176dWvi02CIXe5DHgNy2/jUVjfBD70/MOo+TzmrrVFnG1c3v8xAzyX+q/E1Y8aNzmyPMvuFDmPg7szavE8+MVZYdHhM5ro2cMELkivD/NwU49W8dIFrn5HTzK/F/HOxIQ+kMeWNjsM2PHYh0DaLN7RpnFoeez4vP8kacyPqXI5bKpjrHtQYrbDHXEH5kWXPDbeo34T2vmA/cAhz6gOAWQ73NmOM9oSn/NN12NfsJp/W+yG+zfBZm3fO+rDNjt2XFhOfvsEXGyaMIX+mN0ix3/R1Jp7rqF85YJELNsnhmL8oLw1eybE0Uk97rHtvaFvdwyNTZ9teGZns4eEmUmxN1/WQu92kehT1IUMfKrb3dhtv53Fut9WvnSZh1B/nddk2foxNjX+rQ9wyfpJAJLCbglk3DN8g+kXBFh4ujny33MfaxtyLH5sL58GPOu+hL2a/K/bxsoDAHt/o2uL3YtnHiHBbdP3i120z1XhuY3Fh4oY6Lmi8o816ku7ZBhZ8zyfdroHh4FPSJafIZDjfxDkWnL7BOcOwqWez1U+PV+6085HjyB0L75m+Wdtc2xij9gRQJuhFzu3dxKXHpOlCfzfFOMdkGscmeXIAnNTutTyX6ZOc3MoGnIfHbpJwqOs/8Kv90HaWOMnsMTe6H+txi/vRUByE18miTzOdYrfnu3k1iX1l+QDGBlnAoZIx/+q+NWPT28xG3IswV3Wc738iPOVesKMqR5/W+yMfmz5rc69mfdhmx+qLMsG8rdeOFV9ES7O9Mv8wy0n+u2XxE+zwDpfn5/kzyJ3kAI4fZCEDHGjHPda9D9uGGAX5E1/whj7YXeVjW5W1mLvdpHoE+mRuWE8yBPp1Bp7bcVxPg4LJ2gcZE53IapTGFhJYJrCzgrmrhM1Ck9eLDBlhF9B+QYOx7S7dx9si6GNts+/vMMtdImyoushxLvS5cXXxy9NU3WSGzRcufjDWpqOtsECrbFyUwwaGG7mMz1zSucpC23STcd/cGf9Eu+pFpb2asp2usEEFv2u8Fjm7Df1TbG/yNCapQHlyWvvX4mvyRo4j98ASN3oRkc+7mZaL4QmDyTbbzW8sQjQmjesmLjEmqjbk5+TijzEOMZDZaJucm/7GOfjVx7v9yhFjmPItMHRZgw2bcinb6DdTnre5P52v5oob1T/H3JC+7eLmXGQGrjWVieuu2uScZzpDvqt5k9grb/zHY6ngz/HI8c15HM6NI/rU45kY+74HubDJp039XVeNzeBLbfeP3B/Ooy+qu9m6pS8eP5Fbj02O52GMuZklsnu/r7fANMdEJvo7zNP1Obn+IAO3U9tG33yofoZ4531tId+a/MjU5MY5ugZgLwznGp+V3A2GyknUF2Potq+wVn2RncjAWKhMsHc7nUvXId/Xos7BLTbcSgKXWzD7Bal9RXZajk/wa9a4cCUiuljTJulPLnuBLPOgMJOJuqn4QpRFO1kAsIn6Imuyj07L8ZHJtEWeFphumC7TNoU2V/xrG1S6GNY0yxdW12EyXG7PSeMAXx2GDaKPG95fGxh64eKyXJf74MyqzMBoE2e0w46znxYX151ucurm2jm6bSZraWPs47M83/y6Ptxoo7Xufx+LMbRCoPcdn8jTEme1iYv1RzurLMiTxRj7RaqtG1wz7qPbEr2yM/MNffdY0eSyAAAgAElEQVR88zY/X8o/9R9sdS3L8yY8Gy+fnbjknNY13Jn39e7z++eYG7UvsZvFLcQl+Jh8gD1BpM90Dvke9gm0aSW3k81inxfpzeM0xuM47GOaM6ArMT08OQ3/KHuTT5v6G5eWq6C7GR8PVOZ0/Ia8XfHFZMKaEF4tth7X3r+49tTU0Q7zIOWv5neVHXJZxq1wSLHUfAzzIy89S3Ms/tkeXDu+Z8x8yfY5n3GPsn0w+jLLiW7xqM/jffxj2UNzbo/j897b913TMuofZTSdT6plKXfC3qJso4/dHx7dZgIXWjDfZpD0nQTOTEA27XYRP/PsNmEs0lrXFR7YRWso9K7QolG1FRi92BxHXEmLXrB7MXclNlDpDSQg+byQN5JTm4rwG+gxTSaByyTAgvkyaVMXCSCBCymY89MhVHCVxyyYz02fBfO50d3uiSyYb3f86f2uCbBg3jVhyieBW0mABfO5w86C+dzoOJEESIAEdkWABfOuyFIuCZAACZAACZAACZDAXhBgwbwXYaQTJEACJEACJEACJEACuyLAgnlXZCmXBEiABEiABEiABEhgLwiwYN6LMNIJEiABEiABEiABEiCBXRFgwbwrspRLAiRAAiRAAiRAAiSwFwRYMO9FGOkECZAACZAACZAACZDArgiwYN4VWcolARIgARIgARIgARLYCwIsmPcijHSCBEiABEiABEiABEhgVwRYMO+KLOWSAAmQAAmQAAmQAAnsBQEWzHsRRjpBAiRAAiRAAiRAAiSwKwIsmHdFlnJJgARIgARIgARIgAT2ggAL5r0II50gARIgARIgARIgARLYFQEWzLsiS7kkQAIkQAIkQAIkQAJ7QYAF816EkU6QAAmQAAmQAAmQAAnsigAL5l2RpVwSIAESIAESIAESIIG9IMCCeS/CSCdIgARIgARIgARIgAR2RYAF867IUi4JkAAJkAAJkAAJkMBeEGDBvBdhpBMkQAIkQAIkQAIkQAK7InChBfPjk7vlzsH8v+Mnu3KBckmABEiABEiABEiABEhgdwQurWC+c3C/PPhod45QMgmQAAmQAAmQAAmQAAnsgsBOCub8NNmfPB8+/LiU8nF5cGRPoe28lA8f3rcn0ydPu49PTsPTah/bBzwtx7On2UePyod1kOtt9nz0qBzKnDbGZZyWx10wHM37Xa49TV+a28XE8f4EHm8gOhN/Qo/+Op/eNtrlOi7aV9dtdqHN3T8ekQAJkAAJkAAJkMA+E7jUgnko5g5Oy2MvYuXYSadi2YvIO1hQt3legNbPVgyXsosi0mU2m0IB7g7g51gM5+JzKhOeyHvRetkFs+sNvmKc0E0ekwAJkAAJkAAJkMCeEthJwRwLrFrIYrFb4KlyfUrciml4At3b/IkqPOGsBXMrIr2A3mnBXO0AHV5UdltzptSCuc3xAhp8SVO8gHaZrqP5WpxHv8nIc8rAY5wT1eZ+t7PrKPVGptsRJfCMBEiABEiABEiABPaRwOUVzAd3Syy0vEC7W6ZPjluBadi9aPQicijehgKxP2EeCvgmG2wIr3d4Mev9tWh0HWGs3RBE3zBVqoym0wtR19HHuo9ur/ua273/Djzt9YK59+Un7u5LbW8+uB3e7wWyn+fxKV7dfB6RAAmQAAmQAAmQwF4S2EnB7IVeI+avWLSisZT2BFQLNy/SZEYuME2KF40uO583eaDj/EWkv+fsRePmgjkU/c1x8LM9YR8LZrfTfcvn7utQDF9Iwbzgq8ehFdZQOANjdJXHJEACJEACJEACJLCPBK6oYPaisRdh/Qlt7/MCshXR7b3eVMhKZPzpLxRzufAcx0zktEJRiuTcX89Bx6akGGxor5wsPdkd/feCuTPKdvWn6Y3ZwGOc07nOfHU78GZmk7fsJwESIAESIAESIIH9I7CTgnl8EmqFcSv4whNnL+S8gCzFX7cY5OhTWh/fi+08zvUMxepiETmRpUWx6+pFo8uMOsF2yJH5WNAVdEB7farrxe/FFsyjHvvVkNFX1xt9vVvcLnCVhyRAAiRAAiRAAiSwtwQurWD2IrY/1exFZivM8MmtF9W1eBznTwq/NNYL1lbgbV0we4E8FpGSCS7XC8kmP6VJHufj26f7i75Km9tZX+NwPiMDt7Pb1GxxGa6jPS3P3FzG3FfX7TZ3G5KzPCUBEiABEiABEiCBPSVwoQXz5TCywm5euK31XY51qEUL5lawYk8tcBf64kiekQAJkAAJkAAJkAAJXCUBFsw7pM+CeYdwKZoESIAESIAESIAELonADSyYL4kM1ZAACZAACZAACZAACZBAKYUFM9OABEiABEiABEiABEiABFYIsGBegcMuEiABEiABEiABEiABEmDBzBwgARIgARIgARIgARIggRUCLJhX4LCLBEiABEiABEiABEiABFgwMwdIgARIgARIgARI4AoJ4N88mP9s7hUaR9VKgAUzE4EESIAESIAESIAEroqA/qEx/yNiH5cHR/0Pu12VSdQ7EmDBPDKBFvlDKD1x5XeV21/Sg1E83E8CEu/z3unr04L6lxqLbIb8IzX7mST0igT2hoAUanfLHe5Vlx/RUDCXItcPv/bYk+deh1y+cdToBC60YMavFPxPKd+BgtOV3qjP/Gerb5TxNPZZCDxLwVxKvfjUP9fOG61niQTnkgAJ7JpAuMlPyp5tL7S/wHvnwJ+gJuE34NRrGy9i1022vX+652M9cRAfwAnjXjfFhzWqnzcy69gvoffiC+YUVE2C1HYJflEFCTwzgWe7SDyzegogARIggUsiEL9NdaVYxG1XLPrMUvSbNX1gcHOfjjb//dtCcG883PCQRJ8iA4t8DgJFbyy4V4pwmMfD3RLYecFc9I5q+c7S79zwzkqOw+LUxOp3X73Pkujw4aNyXJ/kydyeaH5n2+fmu9yoH5K5PiHsskoxX3DMJDjpDvLO0ffLa2Ab+imy/c7xAd5dpsW5bGPa5Jpu4N3ajEHwJ5kf9dh4Z2190Xdr67ri/Di2lEksmp/JD7ErfUU1zG9zK8PE2P1ctykBKHNZLWags22krhdvCoU5nvvTZpgf7UqxSfkec3q0ebAF9Ax9aFfKjcHPLfwY4uLfKK36MNv8MQdm/e43jvO29Dnxa54PMcfztwLKA1gmLcV8T3ke8tb8aFwlV6q8Wfx13NGj8v/JXpD1qk+y1jbteaWsxnwhxwOfrNsdH/KhrhcfP+n3qeqvjqtMMA8n68PnyWef662YA5NcUVYxLgNvt3mSp539cvzckvgpdt0txw8flUPfF3w9xIH1bDvbw9SaBw8e3u9PI4Vl8CP6HuYvnYhcZzKMMTv9WjB054ZmS7825CHT85o/4VoY8mQ6KzbOZGDe1bh4vsfJ/czX0NY+96l1X8A6xDpVZmC8wLXG+HGQOVsHaQBPd05g5wWzJMla0o2boW34bU5dfC3Bw7lvaLAwNdl8w8CNVVimBM2JGc5tbNPbCj6XPYlN0G39j0+SbWkD8I0862n+B5u8aHeZ6F/drJ+AXdmefA5D5XCIRdKt/W5/6htujHK/8nO7sy70oxqlcfbxKW4pjoPd7le2IZ/7OP9M/TF3J3x9Xs2NEDPn5FyhWJJpYnMbX/3pOdAE64H6t/J1ZsixxCZKMh+aXvEX7HS72oUz9ZsdWMwleSLgySncsHbt0Ye8tmQc5sCs32XhOG9Ln2J3uzBFWWpH68vrKckJe03q09OJLSFv05ypvGifztBxuM/YGIubHYcbf81bHI96xxgJg5YDKfcGPigq5YN0hfGTfp8exqUcHQsJn2Wfca60IffMz/zFVwF1flg/H5cHJ4/KhyJKWMMaGHWBLdP4QX/dB3BNqW8gH0f79aiv+9H2ON7zFa+pPsf3ynrDtKhzkKgNca/LYzD/cl86X8mBNHI4tThhoWm+dT7DlKFhkFFjhvlwtpgMKrZomNs9Y6y21P3IbQ9rG7WlXMUuHl8OgYsvmNudtT29kacmfXMenZptUJhY6/2zhYzJKsd4IcHNdTYX23CsbULHT7K86A/aHXvq2WQzUf/S5tYXEdrjErGt27MkJ7KPPrlE/xxYD/ba/DtH98vhhOtMV2vTjatv6lFX98NtCU+YxY5wwfMLh8mLslwCclpr8750o1bm570Q6/PkqMes2uYxrZvcY3kiBIVazJX1uBgLzOOoO56ty1q0swoJLDH+Mz+wPxoxnmn83YeZjZgD1h+ezLb447hRjbQEHzYVhKs+mB0thwd1E1tSnscpM3kzFmnchF20SezAQiNqDTEf8jrqV3ZpD28Fy4RVYC39aa7bGcaJeerT3XJ4dH+4aYvW53hKL3KP9ouvcZ+O/Vm23uj7Wh1yJ49OccndtWBuvKRfmfR9L06Jto22x9F6Nsib2DSMmcgJTSLD12boqCcTHbNh3lZjO+zZ3r/wKf57vtgQjPPCpNQ8yAhrxwYPuZhkyKnI2VS7TKbVptl6nDNUPXBdWJYpPSJ3KZfWZ7L3YghcfMEMm4+ZOE8UN3+WvJj0nrh5I7biYyYb2yxxw9xmH45za7DNjmXz6zauLWCc6/LSp2xkTb/1qezFtplMbEP/8oZn44Lv9WIWN6Vuo9qSLnhh89ehpjO2o00uL7WJ77AxdKYyHv3oN1ptw51dAKAtylrQr83JJh+60Id5KEOCnnZRAHvdvxbnni9hbt2QO0Ozq5/3DbvHL8c3GG+21dihHC9Muhx4Qtzs7LKCna1/7oeOTbnbJa35YP4Gm9R29zHzqOOVb7cFdeGxxK0ziLLU5rUc17yCmK7e8G/IWzFqo7xoX/ND59nFUfdAz630dNbGm4y2rtdyc0Puhfg3++tFeuKLxtBtk37MBx1vMR3kZtnN8fFgzDPMgc6v68B+i1HPhyRfbHT78xpvNp4tH4IuZbBU5GyyPdna7EF5KfbTMRM5oUlk+NoLHfVkomM2LLe1PFyT7ZMwZrVN56OvPnbpcyIj5+R0/SzJgz0McmR5tPfMcy5fT2R0XNs+f+lz4t/SULbvhMAlFMy10MCNFFzpm1xvxMRaT6jZQsZkHROsb76zudhmx/Y+mi/aUV632pK/XbSww4+HxTtn031Ge1wItnV71K9w94njfO765xgLZClzq8yT0zM/YcaYiqSoq/vRLMTNcnbRgbYoyyXM/J+1+fgxftnmFpd6IcALY+sTcTXO8i6e50O00ezo8+O5ysL1ovq2ueiYL83uLe3Ur6YrhmDnJj9qP853mus+RH9tDubA2N/twnGuDT9zf5TV5fgcGV8LbM0p5GxzPYY+o39mXf7ktO4XW8mL9kXZ/rR0vAGINoEPm2Kenrj7mvZcHPhg7k3iHcYP/Z1PGCdOVrnHJ5ufMLuN8QbL41T56XvDs316ia+RznaF863i1yPmN/7OUntUhtuFY+V4k+15vN+AoTyTEfJhVedEptrhPJf6+142G7HeZvnZHoDMBms+oF99H53tLzMRllNRRoinTuo5OZWx0KhyVm+ecSKsR2gO1whtn8QOxo+HIjf6N45hyy4JXELBbMkTFjR4NCZ0KlwmFwApSEzemHCW2J5U4+LQfi9G8sYSzk22bNJ9AxzlgSv1aVLceML7pSLfddeJwR5py/4Gm/KGGe3RBYkLSudGe0Rf9ydYn4pY6bPY+Xhc8JFztiudTzZDnd/u2qMfalWYk+Mcz6Ms8GmVHYyrh9kn8bflLcYly/Un5O6P9sffMw02Bt9EufljnKNv0mt2xTh265+WY9erjTB/Gztn+ejyNvlR/W6MRL++www2VEOjD+ive4I5kPtRHo7zuf0zcNbmKGvs7zmufcijxjz411WlVwNqB8R2O3nRPhSv8+VpONpUcwVtsnF1z9sUc7DPdEX9KsvjLwNQnhwHW9KNb+6HuVFuZ+65j095kcH8GHPA7F/bpwMfFejvMEffpQvt1GP0d6t8wOtF4jc4s9n2YQowtT6TgfkQYiaDdM7S/mFSZK/zfX7QOcm5ccyztSB3lxT2X2ms/JfsHGWM8Z0V1a7v4j4xv0Gq2g9xyOcwdHoo4zEft4jrVA4bz03g4gvm9HWnbGRhMSdTxyRPBbOMrwulP2HwpOsbTu/zYlkmWuL2PvlqDfu9GPGv3FyuzK2y8eKh8nBMckZONYldHnz97X2Y8L5BJ2Z5Q1BGbQzqxwuH2aJFLb5fnO1J/qMHUY/54LFTucl209V5xvnVziF2wKblxujHuLGlWEJcZjnkfk1t8s7Jp/kUbfT8wbjEcaflGH/ZYLKRNRtrPJyrmZA29sTscHiij4ZP1gDEaaOdMFakNjvlZM2PZkKKi+fXqg/JX5WFObDmE45rRuhBjHWOoeXjbEyPRdJ7dFqOj9b2r4kt6reviW3kzVhUvyrDbp+0J5m6L7g+m7cY8y1yb+QD+43M35gvkbuvmZ5Xli/RJ2vbvmhG7pUH7Ae274PdntdtD5WY/rv9stKaP5n1VvmQCk9lHuNTo9tjucH2Pt7XJMoz/wPPrFPPI48gU05kTLDDRsRcstgGXVmQ6oo54PtnvvbiVNET5Y7rQnMoxWtdBuaJjex5iDPxeLa+uj/RRpwnx/O5vgZ0dOIT+rK4dD7Yvk1ckwyePhuBCy2Yn82U88yebBbnEXOFczZtAldo2sWolov+wiYnvq9vQBdjwnmljJv4eSVx3mUQWM4n2Sc2FAyXYeBZdYTi2yff/D3PPeHndSIwFpfXyTovRs9SYF4v+5/VGlv3t9f/Z+V3MfNZMF8Mx3NLYcH88bnZ7XoiC+ZdE75Y+ftWMOvTveGpHwvmi80aSnMCei0a8s17r/hzevN4xTZdovq9rxMukeWzqGLB/Cz0LmAuF8IFQNyRCBbMOwJLsZsJaIEweyrOgnkzPI44HwHLrfzazflkcdZFEdAaAV+zvCjBlHNmAje8YD6zv5xAAiRAAiRAAiRAAiRAAmciwIL5TLg4mARIgARIgARIgARI4LYRYMF82yJOf0mABEiABEiABEiABM5EgAXzmXBxMAmQAAmQAAmQAAmQwG0jwIL5tkWc/pIACZAACZAACZAACZyJAAvmM+HiYBIgARIgARIgARIggdtGgAXzbYs4/SUBEiABEiABEiABEjgTARbMZ8LFwSRAAiRAAiRAAiRAAreNAAvm2xZx+ksCJEACJEACJEACJHAmAiyYz4SLg0mABEiABEiABEiABG4bARbMty3i9JcESIAESIAESIAESOBMBFgwnwkXB5MACZAACZAACZAACdw2AiyYb1vE6S8JkAAJkAAJkAAJkMCZCLBgPhMuDiYBEiABEiABEiABErhtBFgw37aI018SIAESIAESIAESIIEzEWDBfCZcHEwCJEACJEACJEACJHDbCLBgvm0Rp78kQAIkQAIkQAIkQAJnIsCC+Uy4OJgESIAESIAESIAESOC2EWDBfNsiTn9JgARIgARIgARIgATOROBCC+bHJ3fLnYP5f8dPzmQXB5MACZAACZAACZAACZDAtSBwaQXznYP75cFH18JnGkECJEACJEACJEACJEACWxPYScGcnyb7k+fDhx+bYR89KofyJProUflwZurQ/7Qc1yfXLnuQWT4uD47w6fZpeZxkf/jw/vQJuMssg95SXI+PcRnNlwUdod/lVh9CX5pvp93f8MQeeT05Tb5Ef7Pdo2+uo88bfHO7US/aO+13uTUWJ09xBo9JgARIgARIgARI4MYRuNSC2YvOsXhL3GaFmBeIUrzhsU7NxbIXzvGptheRoQg9uFvW7PI5PmYoKpPpQ7/7kl5VcXlpup0uzGk3GEv9UJxmu0fmXtheZMHsMp2/fW6+QZhSYCMJkAAJkAAJkAAJXAsCOymYc0Gq51DMjcVbYuEFYXqy6UWgyYdieCigS/HC9Q7otfm9QHR5rXid6M1jXO5SEZj7/bzpKLWoTL4FAtWOpmNi12x8K6jL+GR8ZO7Fbefhtp5bb41Dm9+e+ncdwW6ekAAJkAAJkAAJkMANIHB5BfPB3dIKKS8A01PXOwe1sPL+XFR6O8qaFYcKPhem/hS6F2+5GG5F5WBXfwrtReVwU1ALc+93X13HMN59nSVJLjzd78zDi2+3F/oX9bYxXjDHp8Fip9u+zGMeJ/d99BVubmb+so0ESIAESIAESIAErjGBnRTM/Wlq9Tw/AfYC0As9/JTC0/tbcZfkyHjo80It6s0Fcz5feQqL9vz/7d0/bhy51sbh2coEE8yiBhe4sVOHmmDg4ALKnCq4gB14CwYcfB7MBgwYDi7g3LATL4EfWKzDItnVLVnuVqtajwFB9Yc8POfHt91vUZR6Po7YMdauKSymOu6H6dxrXA/8EmTEiDF3eIx8xvPmIWInz8rtZwzzVZpW7odxI++dMdttL4/4xSA1BBBAAAEEEEBgjcB5DXM1b6k3yYMRK4nvGrxqKEdDnna3ZISZCyObY4aZrXFWxh3brMVpr7XHeYw4r2OszUJ3LepcVsJHwxwxay0r9Y95jzFSXZ1extmJu8KjizPeH1fGu7qcIIAAAggggAAC2yRwEsO8tsKYr1WDF0ZrZSV3beUyow0z192v2xpiu8W4vaBsBah918abrq1vMcjjjsbzUKxsiuP+rbU2e6sX6YRZHutYznPcGGOHc/MAMubdGd1pwBjrDoZ5jdvqTwIi5pLvlGOT11KrIwQQQAABBBBAYBsEHswwVwOZuewzzGGs4v54Xg3yYmSXX+obTfOuEdwxmNUI/rxhjvrCzMb5JIOoJ8aLunY0ssdwRr/60NHXmo16McjLXuGTGubIP+qK86mesYZlHnbKdQEBBBBAAAEEENgAgaMa5sdabzGx68bt0L2Hr6eYzc5s1yQO3auNHCCAAAIIIIAAAggcmQDDPH2YybqZPjLrO4Q7ZIoP3btDaE0QQAABBBBAAAEE7kXgSRjme5HRCQEEEEAAAQQQQACBlBLDTAYIIIAAAggggAACCBwgwDAfgOMWAggggAACCCCAAAIMMw0ggAACCCCAAAIIIHCAAMN8AI5bCCCAAAIIIIAAAggwzDSAAAIIIIAAAggggMABAgzzAThuIYAAAggggAACCCDAMD+ABqYPR4mPws6fjtd9Mt4tCUyfpnf/vxOdP/GvfhDKxzdp+WTEW8Z1GwEEEEAAAQQQQGAicFTDHB8L3X8E9fJxzU+X+e5HWd+ZxU8a5pTKB56UOTEXd+auIQIIIIAAAgggMBM4vmEeVk/zCuez4Rr6P0Dgpw3zD4ylKQIIIIAAAggggMAOgZMb5pS3ATzfv6VgbVW6biGYVkf3rIo2RrLE6NuVa8u4/Th925T6FeBpNbaa/LxCO7Rvxi5E21Xcq37bQ66/xsqt57Fii8bOlOQLQ7znV2lZtW9ymfJo712lm49LwKnmbpwSd+Gb0vRAsy/+EqocTXPZj7ds8Sh1teMv3VuGK6xX+S7jtPlWfm3OlW87Thm96mCF1bjq3rNYtLPU0R4NdUQOB8cZ+kw1NPOZww/9S+379bDKe0dzKfVaWMmj00lbZ0rlNbzMR/d63tHEUM+alutYh/PothNVNmVeprmqceZ8p1xum7ehNqcIIIAAAgjcgcDJDfPOm96QVP9GHm/O8aa3a4Bq98lYRLvZEIRpGd84bzufTGzzRp/bR6w1096NXd70F1M3nHex5jyzURrf7GthQ/9urKHO2qccVHM4Xx/ZhiFcci2GeTFdB3jnmEMtxdwFt5L3EqtNro27264zP7NhrHHG8x+Zq7lvZ/DSaB5LnlMOdc7nB4nmvK0mH3c5r5znNiP/MPu1trHfWOt4noOOczAmtqfNbi5Nx7Vxmtt5zDbnKdYeNiPH8vA3vE73aX/II8dqtVr0Nsea2ob2crLD66bN3zECCCCAAAI/SeD4hrld+ZuPuze9IeGdN/LOEKysrMUb9fSGubwRxxvms+uX6UW3Yrn2Rjpeaw3daEqGezn/duyc77iC3l5r68n9rt+nD+9e7jfMbexxrHreGoUG6NR3udexzXm8/jQZvWU+RvO6UmsTfsesdbmWWMtKeF6RjPlp445jFvMZOXU5z2P3xqmNdWiu8jgv09uP79OLmkcJuDvGEDM362prIcS9hfN0d2Cfr+2O87O1j/UOecVpq7n52m4u0Th/L3nFHLR31o4Pxmq1nzsPHA/2HfLo532MNeS8wn8td9cQQAABBBC4D4HjG+YwtDWb4Y2tXi8H0xvoYLKX1azRyOTzedVpeCMu0cr9pX++ujb+cC3HavPuDEeJ2RvBxgyOBiEP2V6rsZZaDpqGtm+OtVPnEiffnlb0On6LkavjNDF6E5I5LO3LamB7nkdo/k25tT+ab1cAC9OFfTkvK+ltzvP1Lucw1mv1zOPFquStc1Xyr3U2tUcllUtcmNr0dY3bNaLp9H1qP3BaubYzzqzFXks/UHsevOqpy6g/WZmnacxgGHG6OWjnsg83nbWM2ji31DTl27TfYbKSaxj3SdtN353XwtS38Ntpu1KCSwgggAACCNyXwAMY5jtsI2jfFOc9j8V4tUarlLjfCBUj9uL1mx9eYV59E68GejeH7o27edOuk9Bey8fX79Pb5sfLO+PVjisGeTIqi6kqYy+mcNk6En0XI1fGeZ/eXi97myu/acyxtvG8TWzNrM3M332rDyaLYW5XWNu4pU/brn3AuM347LCb+X5p63nXbKkZ+a2t/K6Y3aHy/nSt/cq1nVxnc3nf2qckunr7tOrZSpsul3z/1p/C1Gi7BzX+/PDTvn6n2Itee721mogHy0Wvuw+3WTfjg8wSO/b633ws7Tquu1m7ggACCCCAwL0JPIBhLm9msWo0Ztq9kU832ze/fNy+oTb3BiPUGq0pZvtj+OFNvDVoq6uq1RDkhMYcwpjGG3drGnP74Xwau/9LIbs1t1RKjZXXWp2TmR/GCSPY8Coc+v3SnYHp6txTa5vaTvs2h3K8mJb2XstwbBfGaeY51bsY/Gn4j2/mvaxtnDmxLqfCrjODA7/ca43/pMTbSGIAABP7SURBVJ/6kJRb5Txjjuexmm+t3vLl8Txf2x3nZ2qfB+/qbRJqD1fatLlMx22tM/OquTbWVFvPYelfeC9zHj8haOdype9ssJc484C35NE9qM5dphjZVLf1TPdKbvtqGkp0igACCCCAwEECxzfMOytCh3/UW9/wmn7Lm1wYoGaVKVazGiO0a3aGN+4wL3WMMOEr8WubMJq5TbSfWTZjlytDnMgx38zmZeg/1dy2GadoNg79j+5nBq0xGNqNq+uFbW9YMqvMN7i3Zmf14aDNbaqlmYvMqtZRzGCXc821ZbjSbuBTjFE7TuY/MG7nqeZR2iz6GR9uSjH7+E86auPW2loIcTzUUWuN+/sNc8foTrUvMSc9rYzVtFjdttHXPOb+Jt1c73+dhlaWvJvXw6CJm9fznv5Bm0vfMq9ljn4sjzXDHFrp5nyCsaKFDpITBBBAAAEE7k7gqIb57sM+lpb5TbU3lDWzbAQOGqba8rQHO+b8tMM93ugbmKvHC+/hM8u63WPsswHfNbj3TNHr457gdEMAAQQQ+BECDDPD/CN6OWNbhvmM8H986AcyzGtbYX48WT0QQAABBBA4TOCJG+bDcB7FXStoj2IaJPEICUyvjWZ7yCNMUUoIIIAAApdBgGG+jHlUBQIIIIAAAggggMCJCDDMJwIrLAIIIIAAAggggMBlEGCYL2MeVYEAAggggAACCCBwIgIM84nACosAAggggAACCCBwGQQY5suYR1UggAACCCCAAAIInIgAw3wisMIigAACCCCAAAIIXAYBhvky5lEVCCCAAAIIIIAAAiciwDCfCKywCCCAAAIIIIAAApdBgGG+jHlUBQIIIIAAAggggMCJCDDMJwIrLAIIIIAAAggggMBlEGCYL2MeVYEAAggggAACCCBwIgIM84nACosAAggggAACCCBwGQQY5suYR1UggAACCCCAAAIInIgAw3wisMIigAACCCCAAAIIXAYBhvky5lEVCCCAAAIIIIAAAiciwDCfCKywCCCAAAIIIIAAApdBgGG+jHlUBQIIIIAAAggggMCJCDDMJwIrLAIIIIAAAggggMBlEDiqYf7w+io9e77/6+bjZUBTBQIIIIAAAggggMDTIcAwP525VikCCCCAAAIIIIDAPQicxDCPK8lf3r2cVp7r9a/v04u8En39Pr1tVqVfvPtWS4g+9Vr0ef4yvf1amkWbZ8/fpA+1Z0r7rvcr4H2fuHfzbs5tWilv23xKNzvXmkHTbffbto4RQAABBBBAAAEEtkLgvIZ5ZftGmOowvWGYw9A+WzXMVyn6pfQtvb2ObSGL4V36x71i2L/MM7V6fzb1pc1thvi2+1uRhDwRQAABBBBAAAEEWgJnNswrq8WvP035dYa5ri5ns7vSJxvbuV/q2oZhns3s9fsUBjnih9Guhjni1BXjGO82Q3zb/Ra7YwQQQAABBBBAAIGtEDivYa7mNOPqTW0Y2hfvPpUV4+s36WZaOQ4DG1svXqYX0/Vijku/N+lm2uoxG+bORDcrzM+vUr+CvcTOGUUOxVSHIe77LwY+7odJ34oE5IkAAggggAACCCBwiMB5DXOz4rvXMF/H/ufYarGY2mJoX6a3797Me6TnNq8/pbJifLthjpXpWGGOFecM7W6GObZ2MMyHhOYeAggggAACCCCwVQLnNcxr2yuGLRnTn6mbjPUBw/w1zGpZ/c2mtzPMw+r12mSFYQ4DXQ18zTHGaFeQ22vt8doIriGAAAIIIIAAAghskcCZDfO4vWH55b1Y3c2Guaz6HjLMYZBzvGJoe8Pc3m/HXFarq2EefxGxroKHIW77z8dTm7jfGuotSkLOCCCAAAIIIIAAAi2B8xrmO/xZuWXF97BhTh/LtoxoPxrmXPRoitvtF3Hv9j8rNxrmMMgMcyssxwgggAACCCCAwKUQOKphvjOU+CW8unp7554na1gNs08jPBljgRFAAAEEEEAAgS0SYJjnWWOYtyhfOSOAAAIIIIAAAqcnwDDPjBnm04vNCAgggAACCCCAwBYJnMcwb5GUnBFAAAEEEEAAAQSeJAGG+UlOu6IRQAABBBBAAAEE7krgaIb5P//5T/KFAQ3QAA3QAA3QAA3QwLk1cFcjfNd2RzXMdx1UOwQQQAABBBBAAAEETkEgm/Vj/2OYj01UPAQQQAABBBBAAIGzEWCYz4bewAgggAACCCCAAAJbIMAwb2GW5IgAAggggAACCCBwNgIM89nQGxgBBBBAAAEEEEBgCwQY5i3MkhwRQAABBBBAAAEEzkaAYT4begMjgAACCCCAAAIIbIEAw7yFWZIjAggggAACCCCAwNkIMMxnQ29gBBBAAAEEEEAAgS0Q2Jxh/vLuZXr2/Gr4epnefs24P6Wb6d58/vV9epHPr9+nL9NsxP25f71epurD6zHu0jfGvflY2vbnc9whXmmZUokbOaaUPr5p8m+uR4f6/Vt6e72S0+tPc4uhnudv0of5zjhmfz7m25/3tdVkykEwrTkMOdbrQz+nCCCAAAIIIIDARgls1jCHcU2jgQsz+vr9bDbDkPamMKUweoPJrKa3bz+ayP68bztqoTOrc34v3n2bmpV7Sw593znHMKFdrfO9yLe7t2vSuxziwSL6Dud9bX1GPe+B4ZxD1Db0dIoAAggggAACCGySwOUZ5hRmsazMVvM2G9VqtPN0ddcGc3qLiexN5d0Nc29cxxxGDZW4tYbBFJfW89ix6j6b63Gc/nzMtz/vaxtyanNoj6dmg4kfujpFAAEEEEAAAQS2SGCzhrnblhErsDEDYeSex+pySqsmsFvtnU1jjbVuIrtxn1+lYsDntmFa4/uKeS3GdXebRTXFUUP+PtdR70VdU9xY3b1K0/3uXv/QsOQcPPbkO684B6ulX8537tuOE8dRb/2+b8W8Lc4xAggggAACCCCwDQKbNczLSnFvbJetFrMpjW0H3WryPDnttdn8VXP6kyvMYYxznu3qbnt8q0Ta/HLjMKjZMLfH4726yh4Guc+h7vUONrfUWsfK7dtx2+Nbi9EAAQQQQAABBBDYJoELMMyx0lpWNWN1NBvfMK3FBO8z1m2/xWCOpjLihlHvz8fYYVDLCnRnkrtV7WjXjrsIqfRrVmtbgxrHs+mNWp+trGrniF0Og0G+rda9hnncBx45zTkslThCAAEEEEAAAQS2S2CzhrnfLjBvjQjDNq6cxnaCMIqxdWBuF+Z3jBnn2XBHm4OGOeLG9z3mNfZOR/yI2cqoGuCINXzPfSKnKc71m3ST/6JGZ6AXI34fwxz5le9zrGBcTXE8sAwr+m0xjhFAAAEEEEAAgQ0T2JxhPgXryXhWk92OUFaOl20a7b3THk8Gt5rSZqzZsK6Z7KaVQwQQQAABBBBAAIEjEWCY07xSyzAfSVLCIIAAAggggAACl0WAYb6s+VQNAggggAACCCCAwJEJMMxHBiocAggggAACCCCAwGURYJgvaz5VgwACCCCAAAIIIHBkAgzzkYEKhwACCCCAAAIIIHBZBBjmy5pP1SCAAAIIIIAAAggcmQDDfGSgwiGAAAIIIIAAAghcFgGG+bLmUzUIIIAAAggggAACRybw6A1zTtAXBjRAAzRAAzRAAzRAA+fUwJE9ePrlWAEzlO/fv/vCgAZogAZogAZogAZo4GwayJ702P8YZoI+m6A9YHnApAEaoAEaoAEaOLYGGGbmlrmlARqgARqgARqgARo4oAGG+QCcYz+diOeJlwZogAZogAZogAa2pwGGmWH2REkDNEADNEADNEADNHBAAwzzATieALf3BGjOzBkN0AAN0AAN0MCxNbA5w/z51b/Tr7/9Pn398erzrU9Df/9V2k59/vrn1vbHBiyeFy0N0AAN0AAN0AANbFsDGzPM/6Q///Uqfc6rwv97lf747a/0951XiD+n//7r9/Tn/217wrzgzB8N0AAN0AAN0AANPKwGNmaYWzj/pD9/2DD/O/33f20Mx15wNEADNEADNEADNEADhzWwWcOct2bcZUvG9+/ZWN99CwfBHBYMPvjQAA3QAA3QAA08NQ1s0jBP+5jvsR/57ibbC+GpvRDUS/M0QAM0QAM0QAP7NLA5wzz9Et89zHIGwDB7Iex7IbhOGzRAAzRAAzRAA/s0sC3DPP2iX/NXL377/ZZtGeUX/eKvavx6T6O9D57rXlg0QAM0QAM0QAM0cPka2JZhvvNfxLj8ifPiNMc0QAM0QAM0QAM08DAaYJiZcH+bmgZogAZogAZogAZo4IAGGOYDcDy1PcxTG8440wAN0AAN0AANPGYNMMwMsydKGqABGqABGqABGqCBAxpgmA/AecxPOnLzJE4DNEADNEADNEADD6MBhplh9kRJAzRAAzRAAzRAAzRwQAOP3jDnBH1hQAM0QAM0QAM0QAM0cE4NpCP/++VY8TIU/xBAAAEEEEAAAQQQOCeBU3hShvmcM2psBBBAAAEEEEAAgaMSYJiPilMwBBBAAAEEEEAAgUsjwDBf2oyqBwEEEEAAAQQQQOCoBBjmo+IUDAEEEEAAAQQQQODSCDDMlzaj6kEAAQQQQAABBBA4KgGG+ag4BUMAAQQQQAABBBC4NAIM86XNqHoQQAABBBBAAAEEjkqAYT4qTsEQQAABBBBAAAEELo0Aw3xpM6oeBBBAAAEEEEAAgaMS2Jxh/vLuZXr2/Gr4epnefi1cPrzO95bzjtbHN1O/F+++pTQfP7t+n76klCLudC93+vo+vWjHef2pCfUtvb0ec7hKz+Y2Yw7decTt4kXoiPsmfZgvlb7zWHOu0br7HnHbnJ9fpZuPc6uoN+7X8T+lm3ytxh7OI260H8672rqEUmW8j2nNbeznHAEEEEAAAQQQeEQENmuYq9n6CQMXZvTm3WyOwzQOMVMaTGSaje0dTWRnKndit2roDXPXL3KIMdtu+XiOG1ziAWA6n++Fce3uRdyofTwf8x3O+xyHpNoHlKFfyWHPg80QxikCCCCAAAIIIHBOAk/aMFcjPK26LuZtzcz114qBDgMaZvW4K8yjSU+pmNNl9bkTzmROxxqaFebceFhlLuZ6HGc4H4zubbXu5nSVMqfepC8GvzLsOjpBAAEEEEAAAQQeD4HNGuZuW0az6lpM5bhdYjaZ7YrnPAdh5JYtCWFMF/OZm0a7tRXbdRM55jDHCwMaWyPm78U4tivMs3Ed2u3bbtIb+vV8o29XS6woj+PEivOefPuHg7HWXd4xZjdvecxm7h7Py0ImCCCAAAIIIIDAQmCzhjm2HtRV4tng7WwRiFXVbMxGwzyYwVjtHM1nxtVdm+PUHCLObP7GHLrzoW2K7R3TvusVwxzGdZmz1aMyxrL6HAY159geL7XE6vOwohwGOsYd8x3Ou9py8D28xxxWi3ARAQQQQAABBBB4hAQuwDC3JnNldXiPgeuNaqzmDqvAdfWzN5WjOV1fYV5WqDtTORjOPo9DtfQ59Fqa79V8e5McZrU8EEStD2uYR0aRU33o6AtyhgACCCCAAAIIPBoCmzXM44/2w3gVc3r3LQKxqlxXRseV1diq0K0ej/GX85xHZ5DTcB6GOeLO33e3ZBSN9PUsK8iLghYDPDIp57lPGPGS54vXb6a/ANIZ6Kj7XivMS/3LmMtqc2U81F6vL8U4QgABBBBAAAEEHh2BzRnmcxOcDGyzklvzmc1gGPd6/eQHxTCvjVtWcddM9smTMgACCCCAAAIIIHAxBBjmH5xKhvkHgWmOAAIIIIAAAghsnADDvPEJlD4CCCCAAAIIIIDAaQkwzKflKzoCCCCAAAIIIIDAxgkwzBufQOkjgAACCCCAAAIInJYAw3xavqIjgAACCCCAAAIIbJwAw7zxCZQ+AggggAACCCCAwGkJMMyn5Ss6AggggAACCCCAwMYJMMwbn0DpI4AAAggggAACCJyWwKM3zDlBXxjQAA3QAA3QAA3QAA2cUwPHtuS/HCtghvL9+3dfGNAADdAADdAADdAADZxNA9mTHvsfw0zQZxO0BywPmDRAAzRAAzRAA8fWAMPM3DK3NEADNEADNEADNEADBzTAMB+Ac+ynE/E88dIADdAADdAADdDA9jTAMDPMnihpgAZogAZogAZogAYOaGBzhvnzq3+nX3/7ffr649Vnk3tgcj3Bbu8J1pyZMxqgARqgARp4fBrYmGH+J/35r1fpczaJ/3uV/vjtr/Q3w+ihgQZogAZogAZogAZo4IQa2Jhhbp84/kl/MsxeHCd8cXjCb19vjumBBmiABmjg6Wpgs4Y5b82wJePpCtd/WuaeBmiABmiABmjgoTSwScM87WP+6x+rq1ZXaYAGaIAGaIAGaIAGTq6BzRnmv//6Pf3KLJ9cGA/1xGYcqwM0QAM0QAM0QAOPXQPbMszTL/qVv5DhL2V4cT32F5f8aJQGaIAGaIAGLkMD2zLMfuRgZZkGaIAGaIAGaIAGaOCBNcAwPzBwT5qX8aRpHs0jDdAADdAADTwdDTDMDLOnVBqgARqgARqgARqggQMaYJgPwPHk+HSeHM21uaYBGqABGqABGtinAYaZYfZESQM0QAM0QAM0QAM0cEADDPMBOPueMlz3BEoDNEADNEADNEADT0cDDDPD7ImSBmiABmiABmiABmjggAYevWHOCfrCgAZogAZogAZogAZo4JwaSEf+98uR4wmHAAIIIIAAAggggMBFEWCYL2o6FYMAAggggAACCCBwbAIM87GJiocAAggggAACCCBwUQQY5ouaTsUggAACCCCAAAIIHJsAw3xsouIhgAACCCCAAAIIXBQBhvmiplMxCCCAAAIIIIAAAscmwDAfm6h4CCCAAAIIIIAAAhdFgGG+qOlUDAIIIIAAAggggMCxCfw/RlZaQ+EqhTgAAAAASUVORK5CYII=)"
      ],
      "metadata": {
        "id": "zfTsqNv3lByg"
      }
    },
    {
      "cell_type": "markdown",
      "source": [
        "### Подсказка и решения"
      ],
      "metadata": {
        "id": "gKaiLugAl6Ui"
      }
    },
    {
      "cell_type": "code",
      "source": [
        "def max_rabbits_in_cell(n, m):\n",
        "    return (m - 1) // n + 1\n",
        "\n",
        "# Пример использования\n",
        "n = 2\n",
        "m = 3\n",
        "max_rabbits_in_one_cell = max_rabbits_in_cell(n, m)\n",
        "print(\"Максимальное количество зайцев в одной клетке:\", max_rabbits_in_one_cell)"
      ],
      "metadata": {
        "id": "jAbYfITmmGiB",
        "outputId": "8da8b3e8-ba4a-476c-f5ef-ff3038c62d8b",
        "colab": {
          "base_uri": "https://localhost:8080/"
        }
      },
      "execution_count": null,
      "outputs": [
        {
          "output_type": "stream",
          "name": "stdout",
          "text": [
            "Максимальное количество зайцев в одной клетке: 2\n"
          ]
        }
      ]
    },
    {
      "cell_type": "markdown",
      "source": [
        "![image.png](data:image/png;base64,iVBORw0KGgoAAAANSUhEUgAAAs0AAAH7CAYAAAA3hKKsAAAgAElEQVR4Aey934tlx3X4638lD3nI+33yU0LAwWBCUNCDMEHYILDxgHCgMQFN8kXqgO2G3PFgBJd28r24ufS1cokUcNCQSexJLIgRRIw9HuyIxBiCJUbI2EgQEAjqsqpqVa21qs6P6Tmn+5zTH8Ho7L2rav34rFW1167e3ecTif8gAAEIQAACEIAABCAAgaUEPrG0lUYIQAACEIAABCAAAQhAIFE0kwQQgAAEIAABCEAAAhBYQYCieQUgmiEAAQhAAAIQgAAEIEDRTA5AAAIQgAAEIAABCEBgBQGK5hWAaIYABCAAAQhAAAIQgABFMzkAAQhAAAIQgAAEIACBFQQomlcAohkCEIAABCAAAQhAAAIUzeQABCAAAQhAAAIQgAAEVhCgaF4BiGYIQAACEIAABCAAAQhQNJMDEIAABCAAAQhAAAIQWEGAonkFIJohAAEIQAACEIAABCBA0UwOQAACEIAABCAAAQhAYAUBiuYVgGiGAAQgAAEIQAACEIAARTM5AAEIQAACEIAABCAAgRUEKJpXAKIZAhCAAAQgAAEIQAACFM3kAAQgAAEIQAACEIAABFYQ2EjR/P6PXk23/uyZ9NnP13/PPpe+9t230wcfr9B+cM3vpNf+9EvptXeWO/b+d7+Ubv3I9Pnw7fTayZfS575Q+T3/Unrtvz40Herho7fSa9/8cuP89DPPLub8/g/T2YvPlb7PPJWe/rOX05vvjyKHK7/5p/TC738pvfZoaEnp41+kN1T/s0+lp4/WlDkRlZKw+kz6659OGycXf5FeeS7aVXlPbP3oR7fSZ49eTb9ckIMfvflS+uQfv5x+tqB9YkBK6a106/c/0/iXfH8q/d4nb6UfzwdwFQIQgAAEIACBAyGwgaL57fS9v3sr/fIjQ+TjD9PP/vZL6bOnbyV72fQ40EMp4j6VPvns8mLMFc3/81a69fxL6Q1b0H78i/TaC1/2xff7r6YXnn85vfmOIbqI8zuvpueffSm9YYrJD94+S88/eyv9+H+Wo//Zt59Jn5wVzR+/k147eibd+ndTzP/3d9Lzn34pvbFC5lyjsPrd9MmTf10rR3KR+8n1imYpmJ9+ZpmvH6U3/+pL6YW/eMo/vMwN7Vc//Kf0wp++mmyociFN0dwZcQQBCEAAAhA4UAIbKJoXkflFeuXzL6U3TI23qOfhXJdC8FZ6/Z+/kj77zcUPDLZoluOvvTmB9Iuz9LlvvtXRLNoR/fjtdPb5r6TvtVpWCsLn0iu/6EP16IN//HL63N9NGrTDL87SF0/O0pnslpuCW5o/+OevpC/+7Th2pUyVPXyWXeLn//TZ9Mp/D43hwq/S6y98OR29EO0qMpyt+sDgK1sv7zf/kI6e+076+U9fTk//1XpFexbwznfSF//in9IHTtpb6RZFsyPCCQQgAAEIQOAQCWyxaJaCxhZzh4gv+lSK5h+nD9Ob33gu3fpRq2RdR1s0//ibsRDUrm+lW8Ouprb5zze/YWR89K/pa58/Sz/3XcqZ7JQuakvv5ML09UeTQjR9mL73F0aHlb1Upu0Yj4ueV/7upfT0kgeMPKoWt28MrIKt77yajv5o9esxrdD/+Cfpr//4MR7s/v3r6Q+//ZPgCEVzAMIpBCAAAQhA4CAJbK9ofuc76flhVy6lD37xT/1dW3kv9gsvpdcX7jSGd0if+VR6/rvhheGP30k//u7X01F9n/rpZ55KR//PW/596h/dSv+H3bU1oZwVre4d7fw+8LfSj+f1r5Ekh1o0p5TktQt5RWLy6sJmi+ZfpdePvpRe153VR6+m5xcW21LgfT29Odm1fv/1L6ejzDYUotnDt9KthcX2RX+ioHrkXeUvp9d/E1C2075zPsZKZSjv59Jf/3RVoPy70T/7m8+ko3/8VdO27ODnf/tM+tq/xZ8KUDQvY0YbBCAAAQhA4FAIbL5o/p930s/feDkd/dms0Hwrnf3lq+lntkCS92Ll/dNYi2TCYbf1R7eGovn917+eXn7znfSRFoIff5je/OZTvt/jFM2PXk23Tn/o3tH+4N9vpacXFqI2FUzRnFL66Cfll9G0ntWetmhe9nrG88Oupkown1Ikv/AP/ZWBpTu/UuBNdowfvZqOXtBfmjOFqKoRHUfxXV5tnPTXpqWffdxH//ZS+uwiX//7O+lz1b+FRfN/vZ1ekfetF+zsOzOMvHz97ZfTH1p+rrM9CQ8nrYmiuaHgAAIQgAAEIHDABDZUNP8qfe+r9S8/PPOp9PSf3kqv/CjsCC+BKLt9t/590kGKtW/8sDdMiubeaI7kndUb30m/1EuPUzTrGPcp79Q+538xz7XriS+a5ar8Yl3cHbdFc96Rjr8I+D9vp1de+HJ6PbxXrFraZ+3n/1qH7KQ+O32nOf+CXPwlP/kFP/dLh72YbXokDgt26qXPWMy2kUsOjB55TeKZl9Ls1e6f/c2z7S9sjHpExmfS0/ITiL9fL9/GnWXZKV/jveqFr71QNC8JMk0QgAAEIACBgyGwoaI58Pj4V+ln372ZPtd2L0N7OJUiMhaWucu/fz190RZD6xbN8qfB7C9nPXHRLIXh767xlxbGojnlvzrh37N1RbM4av883OefTZ974evpjYWvrFR4j/4p3frCV9Irkz9NJzvcTz8T/3rGd9IL35Bf8vPvmf/8b59Lz79uC05TzGqctl00yy8azn5JUf78nXn4mRfNz6Vbp19Of7Dkz8upGym/wzy+CvLLv3s2fXbyS45tnPzU4N9emrzPLD1CrtlBHEMAAhCAAAQgcDAEtlM0VzxSkL10L7xj+vFH6Zc//Yf0yumt9DX9285/NHlXOe/SPpv++m3DelHR/Ju305vf/VZ6+RtfSV/M7zaHv537/qvT96tF8liIpZQ+/lX6+ZuvprPTr6cXni876E9/+oJFsyiRv+hw4yz9vL5CMhTNxsV1Dn/5jzfT5/7iO+lnAa0d+8Hbr6avfeGp9PSzxf6jv/lhev9j2YXuf1NYdp6/OPwS3oKiefJ+etE36W8NWXgcxslO7jP+T/X98u+eS1/7t+7kGKsu45ff/VL67F/9a3pfX9OZ6M1/tm7mh7yysfRvNst71U/5XGzyKZobCg4gAAEIQAACB0xgq0Vziju877yaXvjCV9LZP/4k/fI3H7b3kOc7zbXAs0XQUDR/mH58+mx6/puvpjd/8U764EN9MToWMr9K3/uLZ9KtN+svfH38Ufrgv8sXhTz9af+OrxSSnzv6enrtzbfT+8bGC+801+R5//X+d6svXDR//E763l8+l1767ttr/W3jIW+lMNWiMf9pNl+klv69EG3jF76aID3k9Yb5Lxe28dODUY/s+LZfypsU0cuK5pQ+TD/+5lNL/hLHR+mNk0+lP6gPEe2LePQXSD+95ItWxBYpqqd+xFybduIiBCAAAQhAAAJ7TmDrRfMnT/VvDS/+s2W//Pvnxtczfvpy+tzfhD/vFYvmt1/ORdIQg49/6F/PkA7/83Z6/bTuRD//lfTyd3+Yfv6buNMs79beSj+2hXoV/uY3nmCnOcv4ML1xUn5ZzRXNP/lW+Ia5+m74559JL/2z+asO+uUi6/yy2wCkXJCd1hfqX4p4/59vLtT7B7/fi8uzHAIpjP1rHU3F0l8SbL0mB2PRnP7nX9PX6o68vK7RCug6ennRLD8hkD+b95kxl2S8vOf++/PYSrPo++SCv9k8fXWkeUTR3FBwAAEIQAACEDhgAlssmj/KO3/9izveSi///mRHMr8y8Luh0Kl/Ziy+1xuKZtm9de8810DJ+6eftO80LwmgK8TkNQ7zDm0bJsXc7z9p0SyF+w/Tree+nl77f8PXaDdFiw+k4J19ucjiEaFF3uf9wqK/UmL7TorZlJLsAs/eO//535rdYStm5fFcz8/+5qn0tTd/kl65Mf5ioItVlj+RkR8uxtd95EHlD+NDmLVRdpM/PeqUrw5f/ifxKJotRo4hAAEIQAACh0rgCYvmd9Lr33w5vfELsyMqpD5+J715+lz4VrxSRD//9+Zb5T5+J73xjZvp1jfCTvPbL6fPzr5eORTNSXY5n7mV3uyvvSb5uuiXTm+lly5SNOe/s/yU/6roD99Or3z1Vrr1lxsomuUXyuQrnj+5jiyfcj/+5qfSy2Hj3fcwZ3Gn/NEP08vPP5teXmuXelKIiuiP3kovP/ul9MrbHfYHP3k5fTH+sueH/5Re+vQz6ey/jD3TwwV6ZEf4jz+Tnp98c+FaRbPokr+R/Yx8RbbaWv+iSHwIC3YJ47i7LQ8rv7dgB7oMp2gOGDmFAAQgAAEIHCSBJyyaU0qPyrvBn/2jz6Sn5f1QeWf0+a+kszftX2So7D7+RXr95Nn09DP1FYQ/ezm9+Sgl+06zvDYgv3T3e9qnvnOa30F95lPpk38kY7+VflxFfvCTb6Uj+QKS3O+59LXvvp0++Hj9QmYoxD58K5392VPNxi+evJp/4e5J32nu2fNR+vGpFHT9yjpHUtAteh/3s5+/mb5n/xi0vPLxzFPl9Ytnnkqfe/FbmfM6esoXtPj3vNu4D99Kr7xY4/fsM+n5b/5D+nn88pZcND+XXltRoC7W81F68xs30/fs3/KuBgyxyg85C2zN3w5Yv+zkF2fps+v8Leaf2r/ZXP6M4sJcbHkpv3T6qZp/PS8bMw4gAAEIQAACEDgIAk9eNG8Yg3vfdypbdij7X4CYduEiBJ6YwIKd8IVy139QWyiCBghAAAIQgAAEdpYARfPOhgbDrpYARfPV8kc7BCAAAQhAYLcIUDTvVjywZmcIUDTvTCgwBAIQgAAEILADBHauaN4BJpgAAflGmvTany54X3rKh9czpli4CAEIQAACEDgQAhTNBxJI3IAABCAAAQhAAAIQ2B4BiubtsUUyBCAAAQhAAAIQgMCBEKBoPpBA4gYEIAABCEAAAhCAwPYIUDRvjy2SIQABCEAAAhCAAAQOhABF84EEEjcgAAEIQAACEIAABLZHgKJ5e2yRDAEIQAACEIAABCBwIAQomg8kkLgBAQhAAAIQgAAEILA9AhTN22OLZAhAAAIQgAAEIACBAyFA0XwggcQNCEAAAhCAAAQgAIHtEaBo3h5bJEMAAhCAAAQgAAEIHAgBiuYDCSRuQAACEIAABCAAAQhsjwBF8/bYIhkCEIAABCAAAQhA4EAIUDQfSCBxAwIQgAAEIAABCEBgewQomrfHFskQgAAEIAABCEAAAgdCgKL5QAKJGxCAAAQgAAEIQAAC2yNA0bw9tkiGAAQgAAEIQAACEDgQAhTNBxJI3IAABCAAAQhAAAIQ2B4BiubtsUUyBCAAAQhAAAIQgMCBEKBoPpBA4gYEIAABCEAAAhCAwPYIUDRvjy2SIQABCEAAAhCAAAQOhABF84EEEjcgAAEIQAACEIAABLZHgKJ5e2yRDAEIQAACEIAABCBwIAQomg8kkLgBAQhAAAIQgAAEILA9AhTN22OLZAhAAAIQgAAEIACBAyFA0XwggcQNCEAAAhCAAAQgAIHtEaBo3h5bJEMAAhCAAAQgAAEIHAgBiuYDCSRuQAACEIAABCAAAQhsjwBF8/bYIhkCEIAABCAAAQhA4EAIUDQfSCBxAwIQgAAEIAABCEBgewQomrfHFskQgAAEIAABCEAAAgdCgKL5QAKJGxCAAAQgAAEIQAAC2yNA0bw9tkiGAAQgAAEIQAACEDgQAhTNBxLI7brxMJ0e3U53HhUt989uptMH29W4j9LfvXs73Th7WEx/dC8dn9xL7+6jI2vYnH09uplu5H89N9YYenVdJCZH5+l+tuC9dOdkT+y+OmJovuYErtOads1DjftrEthy0SzFlt5YzacWFmsaeWndHpyXImAoduQGK/Zf45usspF4DnwuLUI7rkjzpOT6YT5Y1Dm9q3N4RYa4Yn9PfVjh4gabSz5P89iuB0fjQ7TjfJ3XzQ1G43FF+RiY+297cFxH4q6saXtWS6yDlj57SWC7RXPe2fGFpuxStt24XUOWbwS30/FJuAnI9ZPb6ZjFf9cihj2XTMDtPF2ybtRdFoEVhVJc18N5KdZ0Rz+lVNdV/UnVZXlx3fXkOBzMBkcpmt0DXM67cK++7kHH/60TuISi2SyeKaWhaK6JX37MW5+GdQcoF6v2R9x1MV/YnpK7qU9ku0kX8ebF/Tzdd3pF5+1054H8aNc/AJSbgz7B+7aU4pNxbXeyKw/ZvVWfkr9h+V3dKFN0e77eJpVbZDbfGxdjc/ZdfbELURgrzHJfM3bG0SzWOeZr+5hSavZ1exqfwM+rFj7BrizLMlrMd2B3dDMd333PqAj8W8wqE+Nz0jjaPkaSHDYu+tMYOz7EI8+PLCvYoGPNbp/3w/KoY51NS66p7Na/5sJZ/YlMbW95VX3u57Ncmdjf/J7kWmM2axNZ1r86/9Vu17aor82NpqwdeJaSj1bf4lzS+X96V9YNzWM7Vtlom51z0Y/SR7hme1o8xMzC0+dpM/8JD4psF0/NW2dD4VBssMeqfnZN2+QzxKblfonNOj4Pc+kx49TWl2xW8dtdC2tS8bX2a/H1scx2n9xLd2SjSPtMuLW2Ng+UiRmXxy/PVUtUjlX/slfEBm7WhmGtrfmuPoT2JkvbNVfUd3uvyjE+T3fklTZtt7qjMzXPfS6GvAoxErmz/k2fbW8515kvn1Mx9rfT//ea8UV9ks/sV2VnrxtOGqsxV6Kebt/pG2NNovedbnvQWxm3WFl75NjY5EMQ5Fh2vuPBn223aA6TSmjmYNnASKKbyeIWyDA+t9nAhnaR78aH8JXxSxaePHFKu9gpidfk5Qlpbnqmb1bjzkui98QtN8g8ga3NbkwxNvLx5yLX2FCLFNUz+vdeunMmDx0l4csCUo51TNYafXPndqz01kls7Si2t/8/kY+1aF4zJ5rOfBD5aAGuMa8Tv+WfP2+xVqEuPpFbOLc+ax7aXFWZCz9DzgR55UEiMI99RLazOZ4XPsfmXd6c5yfmXeyQU34RrrFv/JSv3pwKk36jqv1dzso1jUe1r8U6jrewZm3Fn7aDuYbvrW/OcbkBGVusunosOdHnitfn52Zc26rvzTcthKs+N8eUY4/vkIvGHntjyzYMD3cTRy50qfjQ41mE5JxxD5PW9zAvqt7IyptjuY46I4uZz3Kt22nlWdu6/Z1h6bt0TtRcafLjuYidzMVstysuim+aT5GJP/c++Hno6S06y/pN/i3q1697+6JP6k9jZ32Oc0/v9UZ/9k/Pc3+7KVHypsnuRtWjYluLgVzNcVg8f4u92j6R/+heOs15PMoWWzVOgymzB9UH5yb/ZmtVkBJySNl2/0IsZLjlXcX5nInrffQ5nosQ0dPXnWBlPZ2Ma+zmIw756laL5pwI9garE8leC4ngxtg2SbKTe+m+/WUr216j5MbHyOVEXZIgIk9vojWp/bmOLUnkJ5W5NrGrmdLaTH9tnNnnrsUELzLKRLPHKlA/TZv1sTYPE8/FyYyt108fRDtUT/18Ih/HxcHFNNvfn7Zl16DHYWJX5mcLFV1Eo62TB67mR1yMzFjNF9tXdMZcDYhmpy4OVp50tn7o4NhnKHilY4lfYSR8zE9SZnaKTPXJ6snXZLwtTkqHfoNZI1eiH86HMt7uBHVbvOyi2cbb+qmG22uxr/70KOSDDq2f3Te5YGRkP3Q9qJ3dtQkr0+5ibXRp0eByvrbLh7su7M4e5o2IPgdMZznMOv188XxNmxY0TcTEB5dPraPbDMm+BVkzf/vozjX7F8au9jnmRpc3fdg0cSgxXT4nnP5qtM+Lcc2SbjNfGgdnQxXqrhkfcnP0sY5Z8pH1x53EFQ/yzT6Ra+em2BbXtNZu55kaFO3XXKzzTcaGdWbGS6X1zRqTr9m3JfPX8szHi/qKrX5dG+LbDfFc7PV2vE6sPLOZ7y4WIrvxborKNcPRjZn5PMiYxMmIz4czObHPNTrfYtHsk0KZuqDKRQmiKaJz8uh5C3AP7NC+YlHI+lyfcKNTw9SWkIDtZmQn4PTG0f2dTYCmRnxSe8LNYb0FPiwaTcY48ZvOaq/q7U+zpccQkwVFc2ff49F1mKMn8nHdnKj6XFwmdtkJb+3SGOTPsphm/9x1s5DmsWHRtdfkOMei29B5GTb2MNsW4mlzP9jSclFlNJ16oeegXpkWzRrfeqNwdlqfVEi7Ns+xPr7ol/zq1zqPLE58bjkbbwR9vKruuVnaNIf7p87ndXwvfUVmZmlzQxW6T5Gp8qXB+JLH2jYtCvTajFW/1v3qCu21zq+3y1G7bmxv/viuGzjr9lphM33Wds25HqOS40P+NqFFT+mv/FrjGj4/aZzKvM4+TOaEXo/+2PvWrKDJsbK5rvGTa2vmj9MZZHVC86OZ/hYbXWeyHUvWoKxT4lPi0vJPVOZ1oY6Nts3k5vWsxretKcb22bXWPM/FYkNfl8dYLdHXZAdf6rq7KF/nXK2wshbF+6zjFXTMZA7XhE/kbGuRmFM2Pu5e0nm5Nc26YI+XxsV2vB7H2yuaYwArT7+4mptAbR8mZX0nTBN41m7f2bLtWZdNsgU2tVAvSw43dsUNeprcVUtrKzLcwut01P7uWl+81OY+sRZM1NzRtGUf/Y0pxkSG9Gt1bH43UyfbaIfakz+fyMf1cqLH3C6mE7syv2p39l19cBbnE5s7pdXIno2116rP8k7aNFejumyXKcod81hMyuASB5WdxVWdncWkjxsn/lT/RX+9cTq/rU9qs7kmeeFsqHaXa2vkSrTZndfx5s8ZLs9vG+91fL+d7tw1Nx6bG+qr/Rzajb7c5ueRf+g1uaMyzZg+v7TRzrlxDmivEqt7+a/56E15FhPt/2SfEx9inmYFM/ZW81xO79G5Zv80R2uH1T738WWIOTfMmz53TfounxOzWDVZeuDyuFzsuaudTIydDbXdXTM+1OaZvC55PFrUv13P+lavQQvXtOZzif/Ke5k1UcYq97X8Ex7e1jKsX89xWnS/z74uXvvj+rp0TjW/rUP2eFzHSsFs1ws/Z1pMjJgh7xbo1bH5p/DW/wljI74ejnk29FnJbhhx0Be2VjTnQOrTrEHoE2FMLjcuB11fpC9ChnabJPokn/X6pJTReeyy93eWJZlb0PTJ1ExCN7ZMZFdc6DtP0q/ZXPrZxcbzMYtsdn9M8OxTlVf8MzZJwTS80zzhEH1z54Wj7HjoTXrl0+kT+bhGTjR+s909uzBpuzKpvri8fJhOLb/Y1vyO+RTOc/yX5KqZA/nQ5YtcCbngGEp70CeXhj7r5KWyyFbk/7k5NegJerPdhrHzo/RdlivDzcj5UMb3PLP5P7YNeehsiSwqXzv/V9wMBlvtTvOkePRzt+gbfNHcdXNM87Rz9TEJsZJdI5Ono529/5MdjT5keSts9zprThh7fbuciZ7ue+ZoCqqyri3x2eXQAnlG/xinFXMi+2vXv5JbcX3v63rxMNut8ZZLQY63w+b66INc8fJKbJwNRW37v++vl824OF9ma5DkmvEhy1SWjnuRG/PSji1rWGW9QPdif4p8O58ak5wrJc/s+Gxry6tJHpr3ciOr5XPKMFSsen/P5+NaFeVrLqi9i9qdv463KpbPyr7dq7Rt4rP0NfGMc09H+s+JHMPO9z38s60UzWXRCz/ycT8ekN2qfyt/w9kFMOyw5InVF1MJR06u6aQtwXLtdZHSH3Edn50PfwHDhXiYyKY13ijUluaXt9MmctFvFgvnc034dq0mqMpt18WWPjnUp+nTuo5t7/sumMR2kmXfe8z6ZJ1MmGxH9NewGib3uj7GfkWmi2mwcyzQug+dkV34A9/GSB8m/Hhd1Iolgb/moTRmuzwTZ7fBo4d+npynU/vnGCd+2htSljFwLpKz3pYD1iaxf0WBkEUs8XPIeytvWa4od9u/cms5rn1MDEJbz0sxVOy0/sUY2rbik4tnntPBnoKw/KSlMTT25Gs6JtjbbFXbwjjXrjnT+1jfFuVOia3qL8Yuv8FXhx7rI/hVOVj74o+aXVtYpxzzqR1jHMvcKPFb5rPm+qjfxj744+Iguj1PMXHgH+4l/q+oxDwuTqptdh3ydq6yq+dGkWHtnORzYDvTL3JsPFavQZZj4DKsP8UmWyh7+ebBZ7K+WbuCKwvufcLHMAkxGu/3gXddOwonI8f99Gy0pFypvrY1wo4vepbH+jydnvRYzGLlx89zTK0rnK0N2hJ97jq7Hz7GOtJ/RjnrjPESDuVse0WzLSgCLQnw8gkSBnAKgSchIIupu1E+iTDGXgcCskYNN63s+LzIGpmUm+pcxtibK4dHIBdCrDvzwOaieVbkzbsf+tUnzRVqqsvLEIrmy2ONpqsiQNF8VeT3Vi9F896GbmcMf9JCaGcc2YYhFM2O6hPlSt5hv747vw7kJZxspWi+BLtRAQEIQGCHCbDTvMPBuRTTnqgQuhQLr1AJRbOD/yS5Ig/4w6t7TjonmyRA0bxJmsiCAAQgAAEIQAACEDhIAhTNBxlWnIIABCAAAQhAAAIQ2CQBiuZN0kQWBCAAAQhAAAIQgMBBEqBoPsiw4hQEIAABCEAAAhCAwCYJUDRvkiayIAABCEAAAhCAAAQOkgBF80GGFacgAAEIQAACEIAABDZJgKJ5kzSRBQEIQAACEDh4AvInFfvfBl78d80PHgQOXjMCFM3XLOC75W75W7bDV9Lq19iar3wd/46l+VrP8O2Tua8Z630249pXoNqv2fa9OYMABCDwxAQW/V3iRdefWOElCMi216/65psPLwE4KnaBAEXzLkTh2tpQiubjk9vhj7OXXYzjk/5167FojucdYRl7enY73Zgu5EWn/XrjxbK6VI4gAAEIXJjAouJ40fULK2IgBCCwTQJbK5pzIRJ2ANv3o0+/9rHsAB7ffa/4m/vUp1jdEbTyQnsbl2Y7if3HSFm4fUI+upmGAkr11U9tzz61tiAzRMn7320qdpbC7s6jPqjIPk/39VLw74botf6v9MHbV+T7a/mbhDAINU8AACAASURBVJo/Rbf30fDPBWgtOO/eS8dtnJXZ/cz2RpvVt/apBaznITYc332Y7iwsmnVcE9QPhEuz1dqmXbwuuZp9nhbYdUyTqTKqnzYe2mQ+Z3xbc4if8NI8y31Ce26b5USOw8zPqinIsQ8SPtZLZFRRvr/mY2HRbG82GnnBhta3ztXju/fSacunwCHO5xinIFv8+758Q5aR144lXtI/ymhBibkR8nlpvOPYIjTnwHRc6N/8kHkYmIqo3G6YppR8fonPtj3Ybn2uunocVH5g32JZePa1a85X5OlcumNj4PxfYlcSJlG2WRNbnOpBY2bGOF1+QLbNtS+KgcqzPEVWtC+2e33uLNs68SVcH2Jq4+YEyknIkxavatfAx9q7YqyID+N7voSxra+VPxi7UN7gs+aAxKra0HV3u2bXdK7ntsZD46mfYmfwofU1PrRrZVyvMSa+6X1EbZ/MRWdvziWjayZyIX/pXOxXf+Xz9A17X1Zf5bPoGTi73ApzQVRk/23Ohvw3c2m4N7if9I6yS3+RHWQ2fn0tGmSr3sBHGKyK0Qzz4167mqJZF3x1XqzOAEyAJGAmqG7Bq8ncktCdh8kQdeW+JlnDudNjaUb74rntqxOo+pdlGl/K4httkOR+HP/j+H4u+tzurfh4cjsdm4mcJ5CxKZ7rpGyMs381wc247Ju123JwcbENelzkZR3CU+TmMcKhxFEngWU42qrySiGhY3I/m2PSrcnvY6zsftUcqW31UvFZi0bTzxxGG+N5zvdmW8jZnFs9nmVumPOQX0atP4xy8lyoOZbbTL7Fcy+pFEMuzu+lO2f30rvuxu1jlkVk3sZ2d176u7wPNscYuvPQV/TdPzM+zW5MMsbkr3fTLu4hJnEd8QPbTczNl0mu9WFWl5kHuUPUXdr15qcyhEXXZ+XVgrrlVzjPDGSNkPjJf2Ws/GSnycu2LzmXYROWOjeanHpTXDQnXTyHeE3ySZ2f6Xe5ZTuW42ybYaJ+280LOyrb5hiFm/KD887LDpwd51y1uVk7Lbqem0vcld0o1ubJClaav82fFWMjS3dux4pV8/x09rrxug6bdaH5G66tk6uZoRkXz6frpfVhwi7buyL/rYMxju7c6tJBfr7q1fa5lFeR5zbRHt1Lp7rhOPW3Sa4HMbcm9mQbNGcjI38+zC3nf5Bd2bp1X6ySMS0/i5llPVEb5Jred4r9fZ3x9/7q5FY+rqxoLoVAh+EXzxGgDYo9VioyviwuY4L2tnDzqIOt7plsLSD94uWTRu3Qzy5nDK5frEXO7XTngTwldh4xgbq89XzQnVpJKvHv9IFNXHtcLXYTRK6NHHVxtIlailCzYCmA/LmckZdX+uYn5gddvzLP/renUMPJ6osLjZu4teOiiRkmqxXrYiE6Tu6l+3fjKyV2xGq+Np6Rtc3XInWMhR9vdffjUY62zeIyu+b7u7hrk82TCW87t3RIvzbTaeZLjKcIMNcW+6eaJnHINtpdGF03ZIzpn/WEPJtdU1W1KNF8jTE13eph15Vj6fLPx1v89PNXRPg+o+1hThpuOZ/PHuZ1QewV/Xa9EOmz/Bp4rzmXWrytDQrEXetMSnP0UQfVz6h/RXxGn6K+iXxdk6Ou0HXl6STv+i5hyDMjrLEz1/qh4ZPlL5aTx7g+y8fO9PZrZmzN+zE/u5Vy1Mf26+O1STzE5hW5KnL6vBP53j65Msbe9HFcin1j/+KD16O+FFm+zV4zunSIXWvatX4wsjEMV+S5SJnZ36WXI69jwt7qmTCyNdygT/q3Nc3KFhaTekdMcmPkwoybeiEyzUPNsP5qv81/brdobkVOv0n1xDJJ5RbO6qQANLsCNig52BPZpX+R2xckv4PrE6Xostesno7b2Nouzq61xpK0aqPxo/ToSSS6MxOboNJplf9BZvShy9Rfcus6S+HRY9JZ2Rtt8c8XSmOi+sK32q1+188e886nczCJ7yaN55vjkidhud4nZJc5xm6013LSkV22Xgmfza7OcNRlxuRYLucrdnS2lnX1LzCUGFmOS/VnUzw/Y11bjKw8XaD8NR01ctQWHac51H0qPWa8+7WZjebabF1o10y/bkw46vFqDS2W9UqTJ+fFT/VlyDHXt0lsBzYm9rh1cAdWl5130qn4Jiy7nOiL9LHjTPvMTnutrS1qgxRbXadYkGM0yUG7Jo83uWpvu1kWh7MPcs3aoCzcNbXHzJ0gS4flT/Ej2DjP32BHE2KY5WuFgZdZCtHmQxv7mAfZ1klRG69nHsZ/8S+s9V2ztzfOPc2jmT+xLY7tc7Rr69d6rizOzz5OjvrYfn28FuNh74OaGzFXPQPrq82Fbqfq9+Om/ofcyrKnsSiyrD7lW655Xd1GO3/VrvI5sjEMY874ofls9Fc3HBbllvIN7fahUY9Vn7Ej6wu8OtMeV/ErM8l5HuaDyHPzvdjU5aji+pn1e3t9DEL/DZ1ut2gOCdaAVeMzaN21c7DszaJ0tkkwS6jOoySoA22COxtrr1k9UaYPyGyi9BFdTgm8H1uT6K5JkpBEffx6/kcfVN/9M52YPXHtbl23OB5NONaiwrG1N73MWfWJvOWMtEhx8poZfmzm0XKktPkJVq+FiesXuvkk9LKbAf2gTmZ5T1O5xvj0zro4WQ6u1e9o5qZie+Hg/Y4j9Xyp/tpJckLt1XHlc6Zjdk1HWfv0mn6atiH+ZqHX7u4GOtNpYmRzS8eba4v9084m5/VSjWV5LUEuGn129yfMxzx8dk3lyqe0S46u6pfHdNtyLN0NqTLNvzugN5bev6hccp71h/yz14RBXZtFt807nYt2PbEuuuOB5bxobrKsDSrIXYs+zeXp0LFon+VT693Wo160yA1XOZWxyiWPyvlc+U98tZJXHltZtrO9nlnYh+n5/OnDa57IT+ayHPVFeqzwxz4kDWPnelscdezS/OxWylEf26+P18b4282jea6uinnRN66Xy9jN7e2Wx6OZDfaa0dWGTnxtbXP9jVfOE10XzCBzOPi7Mrcm9lg9Nk9Vj7k26Jutq0vqnSxS5LV7vFyZcVPlvV3vccJHj22vTR9fadGsNyxZxHSxLg6OsFxQJgkgk6sAG8eWBaUmWR5rFpdw7vRY2iZB8uV4bvvGH49Ue3tAJUHtgq2Flk6E0QdnV7A5FsHSt+tSw/ykyBNwSFDVL2NGGzReNlZWTrbRyhz8Vlv0s3Cw8rRF9asfg+xqX5tkWZe1v0qyrIZJWfqMsrsV+SjHWnfszZjwUGhHWS7luvAs9mV9bmxgnfWZHK35ZDmNMqz2ejyR0975zW2GVzwP4rK+WNgN7zTXIqcVIprXxhcbjxpDjbGojHoyR8PKnS/zL9vvcz5fkjFDjqp9tn+IyYIbv8ck48/Tqfspgu/Rz6yuepNsfItuvy76/nlNs37Ygn9i68DNMC02BX/r3LU519fY6kVkqfGzdgU5zo7BzuDjTF4HuPDHuTafbPfx2OqTY38fyra2mJR2J7u901zjNTA1GhfNL3vdHuehRacr5I1IXSM1RmXu2Fxe5o+Ptx+73rxdmp/OzlXytLONR70mTAau3vZyf1e/yzjxR7nIleyfk+NlzP33/Ib8V7PlM8bOnXtdZdjEVyvPrZORX5HnuKx6p9nZI4pibk3syTboPaLo7Pnvz0e+RX6JQdU13BdUdnVcbLRrh8atzUHpp+80jw/UMl+7fRbmZo+vuGiONwtxrgKewbNJXxfjvmugk6YmlNtx1LYKLydQ39ZfPrk68DKxdFyQ2bvloyGJ1N7sQ/HRBbgl6Jr+r/DByc4WiVxvc7kpqD/xx4CFo2XTYmPZujgF9ifn6dT8BYyAqMXa69Bek0npdEm/yuroPL0mv61v80PF1MLsf/1f/+fwo9yeO5XBdLwuiJ7dEN+mrx/M+PocMuzjQ1SIb/yliXX0Z0uiHOOjt8X7173oR76/LlBjnmi/FtdgQ7uuDz42n9wCKbpjTukvr1W7gmyfA2POl5ub597tif01v1bkR0NUbTWMW9NwEHXpWihxmMnp/Qe+WXZvL6qWcBNmg42lf2ehN2rLKuSIyAlzUm2zc8vJXBrPwDvnRbixWo4x9tJ/8MsOiMeBWZB3eiavf1j90T5tm8Ur6Mqytb9pC9f9mlEewBb7NMZM+WfmS/1ZMVZMjOPz75pIw8zfwNK42A4XytMeExkyZojpaHu01cdtddEsFjh2ckHv2W19CvmvZtdPHV9y3/ad2BsecoOocrqUV43BAtuyLYHb8tyasG81iVoX8t/I976XNaPXIGVcP1e2YT6Iv2E9Ec1Rtsgp1/x48c/pULM3/Lm1onldOy/L0XXtod8yAiX5/U1wWf/dacuTbDIh1cLcbhYBvb7pT9Ezn9iyCNqFdtOad1FeWfjnPHbRXmxaRWDVPFs1nnYIQAACu0zgaovm/CRz3QqFXU6HVbZRNK8itKqdotkSomi2NA7hmKL5EKKIDxCAwCICV1o05x8XXMLu3iLnuf64BPa3aH5cT+l/GQQomi+D8mXqoGi+TNroggAELpvAlRbNl+0s+iAAAQhAAAIQgAAEIHARAhTNF6HGGAhAAAIQgAAEIACBa0WAovlahRtnIQABCEAAAhCAAAQuQoCi+SLUGAMBCEAAAhCAAAQgcK0IUDRfq3DjLAQgAAEIQAACEIDARQhQNF+EGmMgAAEIQAACEIAABK4VAYrmaxVunIUABCAAAQhAAAIQuAgBiub6laD79i13/isxb06/fvIiCcEYCEAAAhCAAAQgAIGRAEXzOt8BP3K78iv3z+z3rvMlEVceEAyAAAQgAAEIQOCgCWytaJad0OO773V4+SuzbaGXkt8tNW0PztONo/N05+7tdOPoZvl3ci+926WllPvUtqObqe0Uh+si574d547LN9w1HVaO6bfcl1KwWhk34rccRpuML/kbtNTHI/uV4qNty3zJLKNe4wOHEIAABCAAAQhAAAIXJ3BlRXMu8kzx6M5rkdmL7lqYalGY202Bac8fnPcCOqW06mtdc7vKXcBxedEcBuWHg1jEG1uTPCzUQj7bbYp6dy5Fsx23bDeZr7cOUeAUAhCAAAQgAAEIbJTAFRXNsSBMKdmdaFc8Fn9t8TsUsUveS15eFC8rRDvnQZ+1tXerR17mMLb19/3KZXstMiptbUe9ysn+Ldghb6o4gAAEIAABCEAAAhB4IgJbLZrdawq20Ky7se6VhvyKQt1ZnRTN5XUM2ZUtxeM41rwOYuUv3UWOhemcpRS+C32RIdne/qqI2FZ2yW0RHGXP2uy1snvs/DQ780Wa9DE71VEF5xCAAAQgAAEIQAACGyGwtaI55V+w84Vkeyc3F7X21YPgy6Ro7jvNtrAM42anImsoNmtHW8jPxrZrkwJWi9Vsq/XF27e5nebVr5o0czmAAAQgAAEIQAACENgogS0WzcHOUKDm3VtXzEqxueBd31qAt3ech0K1FJTy6kJ7X7iq78V2sEdOJ8X5pNd4yfgyyM9tutOsOmxRbWyM+t35uAs+1+Vlj8ZyBQIQgAAEIAABCEDgSQlcWdEshufCuf3lCPMKRC4e/S51K5jV46FPKbhzYWllul+m08H6aXeQH+M1B1M0p/i6yMl5Oj0xRbOoiraaV0a8vbYAtrYpi2BjtsOOUb/4hAAEIAABCEAAAhDYJIHLK5ofx2q34/o4A+kLAQhAAAIQgAAEIACBzROgaN48UyRCAAIQgAAEIAABCBwYAYrmAwso7kAAAhCAAAQgAAEIbJ7AbhbNm/cTiRCAAAQgAAEIQAACELgwAYrmC6NjIAQgAAEIQAACEIDAdSFA0XxdIo2fEIAABCAAAQhAAAIXJkDRfGF0DIQABCAAAQhAAAIQuC4EKJqvS6TxEwIQgAAEIAABCEDgwgQomi+MjoEQgAAEIAABCEAAAteFAEXzdYk0fkIAAhCAAAQgAAEIXJgARfOF0TEQAhCAAAQgAAEIQOC6EKBovi6Rxk8IQAACEIAABCAAgQsToGi+MDoGQgACEIAABCAAAQhcFwIUzdcl0vgJAQhAAAIQgAAEIHBhAhTNF0bHQAhAAAIQgAAEIACB60KAovm6RBo/IQABCEAAAhCAAAQuTICi+cLoGAgBCEAAAhCAAAQgcF0IUDRfl0jjJwQgAAEIQAACEIDAhQlQNF8YHQMhAAEIQAACEIAABK4LAYrm6xJp/IQABCAAAQhAAAIQuDABiuYLo2MgBCAAAQhAAAIQgMB1IbC1ovn+2c1042j+7/TBdcGLnxCAAAQgAAEIQAACh0DgSormG0e3051Hh4APHyAAAQhAAAIQgAAErgOBrRfNcVdZd6CP776XUnov3Tkpu9HlPKV3794uO9RnDzv/B+du11r79g4P0+lsV/vkXnq3dlK9zZ5H99KxjGl9VMZ5ut8Fm6N5u8otu+qLxnYxvr/uxNuHiM5Ed+qtv8qnXxvtUh2b9lV1F7uszd0/jiAAAQhAAAIQgMAhEriyonko6I7O030tZOVYaYeCWQvJG7aobuO0CK2frSBOaRuFpMpsNrkiXB2wn2NBHAvQqUyzM6+F62UXzarX+WrjZN3kGAIQgAAEIAABCBwYga0Xzb7IqsWsLXiT2V2uu8WtoDY70f2a7qyanc5aNLdCUovorRbN1Q6jQwvLbmvMllo0tzFaRBtfwhAtolWm6mi+JuXRHzTimDTwGMd4tbFd7ew6Un2Y6XZ4CZxBAAIQgAAEIACBQyJwNUXz0c3kiy0t0m6m6Q5yKzILei0ctZAcCrihSOw7zUMR32QbG9yrHlrQanstHFWH61seCrxvNl2qjKZTi1HV0fuqj2qv+hqva/sNs+urRXNvizvv6ku93nxQO7Rdi2Q9j/1DvLr5HEEAAhCAAAQgAIGDIrD1olmLvUZNX7dohWNKbSc0F29aqMmIWGQWKVo4qux43uQZHRcvJPW9Zy0cVxfNrvBvjhs/2077WDSrnepbPFdfh4J4I0XzAl81Dq24NsWzYWxd5RgCEIAABCAAAQgcEoEdKJq1cOyFWN+p7W1aRLZCur3nG4pZiY7uApuCLhafY5+JnFYsSqEc2+u50bEqMQYb2usni3Z4R/+1aO6Mol19V70xG3iMYzrXma9qh32gWeUt7RCAAAQgAAEIQOBwCGy9aB53REtx3Io+t/OsxZwWkSnpqxeDnLxbq/17wR37qZ6hYF1YSE5k5cJYdfXCUWV6ncZ2kyfzvkaX02Gu191dLYA3WzSPespfExl9Vb3e15tJ7TKucggBCEAAAhCAAAQOjsCVFM1ayPbdzV5otuLM7uBqYV0LyHH8pPgLfbVobUXe2kWzFsljISnZoHK1mGzyQ6rEftq/faq/1le5pnbWVzqUz8hA7ew2NVtUhupou+aRm8qY+6q61eZuQ3CWUwhAAAIQgAAEIHBgBLZWNF8Op1LczYu3ZW2XY53VkovmVrTallrkLmjzPTmDAAQgAAEIQAACELgKAhTNl0SdovmSQKMGAhCAAAQgAAEIbIHAnhfNWyCCSAhAAAIQgAAEIAABCAQCFM0BCKcQgAAEIAABCEAAAhCIBCiaIxHOIQABCEAAAhCAAAQgEAhQNAcgnEIAAhCAAAQgAAEIQCASoGiORDiHAAQgAAEIQAACEIBAIEDRHIBwCgEIQAACEIAABCAAgUiAojkS4RwCEIAABCAAAQhAAAKBAEVzAMIpBCAAAQhAAAIQgAAEIoGtFc3xK5f1q5fzJ99+F+PAOQQgsAkC8jX0j7m+LFyrHlPOJszfpIz8hUpHN1NZe8/T/U0KfwxZc763051HjyGErhCAAAR2gMB2i+bJTScvoJPrO8ACEyAAgT0nkNeXs4eP5cUhrknRp3j+WICesPNM97JvSH1CdQyHAAQgsDUCV1w0P0ynRzfT6d176bjtiIQdCNk5am030+mDziIvxqZN+km7LtJ3znSX5Wa6YW6kfgfmpt+ZqvqsnhSvxXMxKV6r59324Fd3Ix/NfJGxx3ffaz19nyDvkWVY/a4+Z3+N/1lgtk92nyQGXlbW0/q/l+6cGI7Cu7VV04Kvmd3Mnhwrr6s5JzLCw5SzYyLPxagJmtuU46B2V3vd+HzN2DbzqemYMAm2t64ppSHf1I5U5Dg7QjyGsUaP45MVjrHUvNQ87LomfTNj3ZEc20v+aXvPeZUd89UySMEvbZvm5gJfBv0qpH6WdpOrhlXo6k7zuBV9B9kthsLJ6JTjJmsNhs6SunY12bUxx6Xkptph14UgIhXWfq1MRsbYP16Z+FR91PxRO0rszbyJolJfj9+1bXl+9Vxalud5WJiPnfFkLh51uValHnvbJXZq/0yWttV8b7EVabV/jZf64BhpLHX90nMdq7lT5aoMO6fysY7bEIeRgb/XKKvyOeNiuRkWwZ8mR/3XdvlUn6RT8EsZlrxdPKcKLzM3rMy85hS/VnIN9vn5NZkPLQ8Km2Zvc7gz8W2L1gRdQ0y+Vfsdp+k1p5STLRPYiaK5L4B1gdVFLy704TxPfDdJCi1dEHqylqT3E0HJhjaZvCe303GbFCXJj0/MTWidPiq+fuZJ22SGRr2xBF9kTLM5LyrmZhDPhY2R79gEbrrYF9kLJnGwpVmcZQUW7aaji5+d+AsKgSawHmSm95K9sTofQv8SY8MjtOdF2PAYigbLL/JZdZ5veMbHie3WnPtn1s6yyBb2swV3jEeX5XN15BPGZh+DnS1Woa8oyX6rraG9xv2Gzs26ePc5Vh4OWr52o+vRxFenLw5YpT/2l/MwZtZlci1ztLkS+oy59l66c6a5KjqVWSysgj0Dw6BITie55NaBOkSLgDnvoDePkWtm3k5UTy9N7CkFTvDZMgiCZnxnPvVhxdbmW8zj/CBa9A+yl+ZU0SBjmmyXM2OOZs66FgYWJS8mxV/Npdyex0a55bwXQ/Fc7JzEcIMcum2VepZtYtqD0R4O7FyP9jlOulGg3ESWxMXMMac/x8ysU/HcbS4YLrN4GJ3zOWLGq49Zn5kb8TzHwrBxemNsVah8ztqC/sjdnZe+xyedTZ43J7f9A4dVyfHWCexE0ewmo5kwcSIKDXvNTTyDKl83EzSOM13zoZWZbwhnD7MeWVhF1vHdh3m3tdkpib2qT1TiJkNsnBeWeYLkneYy+fpCL+PDNZFvfPZsQl/DOC5+ItmPjbZ6Wd1G7VfaG6uV8uq4YP9KO5wPqtt8Rnm5v1n4NJfkASkUEy4fqkh/bbLwGfbGismh5WOPtWuQrZfrp7VjjJMfuzw2vm8W7xjZdrHzdrrzQH6aoQyl3dxoKk+fo954b8/Md9t/lX7btx6vmGOTEflS5mh3wPQ4x3SFnY5ZLHov4MNSeaMHzXZTLAwPiHnYGK9R2uRKnEdx3clDCqNFsW82Ktf6uai/iLR57vPG25hl27kX+fnu+czLizFaktOWheg5uZfu340FTOecbZO4xLyc2WhlZyutXcUJb7d37HE5NNtUzKBfG+RzNgeMfdmfXtjlkfFakG/121ir1nit+6d6x5yzMuN9XOWue79zrGO8nC/FDv+TAV0jV3BbOZfE1/N0X/WJHdOc695xtH0Cu1c056e6snDFiSM47DU3SQyrPsH6RXctTwL9cUj91JuOJGg+loSVNpkAIfnX6VPHzCdTt0uPZr70iTsuELqQtRtPs6lIHORJey14LMOyiPgbxXys51X0zhaM0q/Z9ThFc7ipuh9Lauxdn7BQK0z5zP7ObLadZlx9jmlvx6wuXm1XXHTZG7cOMp+ZabW9P1As4mf8WpKrWabTqzcUUbxItv70QvPbM9IcsTeXlofZFr0hrMu4Q7B5ZY97D3vUfVmo33ZfN8/CGDkdOdpOhVOPmW0bd9By3rWYPL4Plrs/DnrDqfeh6+3dVvjRO/qjIbdnc2Z2rYvxtun1MGZhnod+Orx9lvZ119kyL8z8cju6K2Q1Fp3vNI8HX6y++bwp9pu55ewSZzfLIdvt1lJ/D2h480HR7edAZzB9SMsMjN/CTu+xOufquVtbq+KF16zNRp4Ma7Ew61RbO5pDxm6ry8rVY5Uv8tqcjg/GI5tu+yyfZL1VLrOY2mtia8mJLNO+fqq2Nb84uCwCu1c0m8nWk6/jsNfaJOnN+Shft0muBZckWpbvFwgrU59QRZDIKQtFmBhmAZj3qZPFJraMqRMgmNtttv2rzbY4tYVoXEQji3jei2OZiN7/WYHZFrhst05yMdVOans886pcG22Z9BU9IWZ2XI6RbTd5MpE2+TH3aGuJ+/nAw+VDFW6vWbty88T2qU1Glo3r8puRj5W1Q2PhCwaN1eivt2m8eZS5oTfu2n7XxCUz13aR5nWIbT5HvcYsX2I4yAn98uk6+v24lfp993aW42lzq7XIQfHRx8h0iLF354/vg0gWP0TfOv5k2+Um79YO0evzZlrYGDcWHjp/pJePeRk3u9YlLuLbrq9Yk1dyEBt1bV2VW0N7jVH+Sx6TWFvZlYX8rozmefbBse8ytC1/qn2CxcrsmMKRtas0bZKD2taVTnKmNXaf2iVb1Gemuu7UHuFa1GfPxS+fv5ONi8r+3aa32KtxEK1F5j33U+GR2Zxr1N/9jEVyPB/ZZDvyejK2+Qfh0m598PNLbK3rrfCseWbZOTs5uRQCO1c05wmkN7Aw8eLCvyh5etJWhllOvYkMC1aZfG3SSLtbBEVGSP6VfYpMe6PNfukEmIR25oub8NFudx7sawuI/ysCWYfcYJXvxA65ZG1ZxLJN9GyHXzBljPXdylugclLkWjvGxSXLbE/sE6lil/PTy3B+RR+W5t246PrdxWjLw3Tq8snaMcbNLaouxiI35GpU1W4otSH65R4EJ35kv7UorrosY9de42MYu3wdbFP7z9NpLQqnXdrF1fpb13xgudqWIqflq22qxy4XFrW7udvfaR58dnn3uD4U5WLP8dm5390KdpX1pBdvobnMYROb0cfVXLJM50/VEvMyngdjRt3SwegfxlduOm9yomI4/QAAIABJREFUu19j+u8JlL5tvQk5GkyZPIjIeJU9mY/Wtnzs18/sm9ppN2fCOprj1eJR9Pj7zMN02tqVj9pVvdggh2i3xqNxdOAmXMJak/1bwGG4fwY28b6+/NzEK8e6Pxxmn8ID5DA/g93ZzSAnX3tw3h6MBhkShxarkU1nMba59V0U2fwazsVXXY+zVfl/Y+x6G0fbJ7ATRbPbKWvJWJ3Xhar+yMRO6kXJ0yZPHSPy7bic1K2t3MTbAib6zOQvVoTkX7dP03EznZ6Z3ZBJXGe+xMnq/dIFtdw0+iQuwmfyymK0+EarZvmxxfcWo5PzdHoSZIQYtV2fKtDLUy3hU2SE2LtxdWFTO3JR0W52QZacDjb13YwsNyxG5ZoyHceX/KmsTVzVnvw55I0YEvjJ2OZnyKvshrkp6E246Qu5Orjtx+bmgYMuwpO+ruAovrpi07TPGMZ8HcxTFlNOsfdy/bG3nBeb4utBEzlhsB3n4tni5GVLn+O7P6t/VUZ5VqEujye6DcNgRj/NMTO52Fuajy4upt0exnXO/Z3mrCPYbgfrsfNHL0Yec1u19yK+1odoqzxYuXU422teJco59Hh8vQ4jK88vYTGZq3aNmcQl+1bzOcuPOdNyvdga577NN8tjKK4U5gY4iKhZTLx+VSifq9cp7dP8aRyi30Wu5ZavBL/a/bqu++08FL3qh7SXY5/TEhPvl9gzydeqp9mf+2g+eJl+k0T7mHxqvq/DTe3W8dY2sTXo1ti1vLJx4vgyCGytaF7P+DKh+oRYb9SqXnnytMRd1fsata9zw75GOB7f1fkiluXIos9C9vhIGXElBMZi4krMuFSl4vP8XrNkXl+qhSiDAAR2nQBF865HaIP25Z0QCrsnILrk5krR/ARcGXq5BCSP7Y7W5Wq/Km0UzVdFHr0QOBwCFM2HE8vlnuRd5ut3o1wOhVYIQAACEIAABCCwHoErLprXM5JeEIAABCAAAQhAAAIQuEoCFM1XSR/dEIAABCAAAQhAAAJ7QYCieS/ChJEQgAAEIAABCEAAAldJgKL5KumjGwIQgAAEIAABCEBgLwhQNO9FmDASAhCAAAQgAAEIQOAqCVA0XyV9dEMAAhCAAAQgAAEI7AUBiua9CBNGQgACEIAABCAAAQhcJQGK5qukv5O65YsP5Cs9x7/prF9Z2r6WNH/1qf+az/wFKu6roquT+jWlC76pUWX3rzGd27CTyDBqbwm0fG1fpby3rmA4BCAAAQhsmQBF85YB75/4UjQfn9wOXwtdvkXs+ORmWlg0T4po9V+Kk+Oz83Q8KcalTy5e7LcV8mUsio7PLRHID2rmIS6eb0ktYiEAAQhAYE8JbK1ozjcgWwTVwsgXXLKbqP/szuZ76c6JXref2qe0H9+9V3dFS5/TBxqFyXhjy2xXs9klInRXtNl2MxSQQX688RpdIi4XjHffy8aNXGqRuma7etg/dWfYcpJjuwMc+gT7uiw5Kn1PH8in8k5J7D6++zDHpbFyRbLGpPg5yiyyLAvbZ7h+0aI529RZ9Jzovs1ybpYTOnZVzKwfcpwfAI5upul4za0Wg8W5FOWm4JuN8Wijz7tZTqt9JeY91qJ3kKd21znRciAV+7ssGT3mzo3mr7abhy+5FHzz8qRD/2+wTZpW5Esec2R1ap53uatkmJ5tnvRcGnNOdZY+nq+XVXnb9cbZGnuX86n8EKdun+jXObp83XTsc1zU9tWx1txvenVtXGpX8cePtevXnI/aOc0HRSb2qw312tB/Se4Vxuq/5e6vqTo+IQCBwyZwdUVz4JoXzLa4rVqcS7stGspNd8FCVhfshYtsXjTNIi39my2xgKi6WxHgz4cFeUXRrDcKLULi+NgesA0FSm7P/qo/xT6Vn2qR08+jRFNM6A2nyQuyDLdyc1GdQabKkctmTO9V5Gp88vWsc0E8+0B/lGWbMe68+OX8fnDuCtve5u15/JhUP2sO9fFersaiF5SlvZ9794SdZZTlDjr6GMmd7lO/Lkc+Xr7Ibe2a4zkW/SFAC/BiS/RJRnt53f9iw5DTLk6aIyaOZVj/v/Q381MaFvmqukam3sYivOSIZdyVLjma2DPkefZxwfzQeChvUbWi/9A+6R+5t3yzD9R5nLKOsSw8+qtasV0MnXFUVmV8zMHRrvqgaWKa42bOZUyX4+2YyVMLMicjR667/nGdCedZr/2pm7Sf3F74E7OmlwMIQOAgCexM0exvAn5RLOTt4lza+yIqPcoCPb/h+f5u0ZShcuOwC2s4d/3zohpufqa/61tTxt7QXbuMO3vobvir2qtI82G51MvWRtFhb5LSZXatSbQcCzfZNbIFUuOe5egOm954m6B64NnP47TIh0Uyo45ybjmXK0V3tl1stTEOIvxYMy7eZEVOiFkQVU87xxbTyN3GSYWssFO7yWeTG461j/dJr9bPrFv5jvzXl+1ZFelenpWVcy/wG+2cyTT2R24TZiJT8rblqhmeD53/2thjplfW+hz0F/u97tm1Lt0xksuDzN5Xi99V8geZ0wdm67PnLgz9T5x8e7HIx9paKcc5DvZhYJqrExkhxj5HvB3Zz7BL3+4DE46Wy8w+e0366k/YRKa0eSbRY84hAIFDJrDdojksZP4mVha+9mO83FeLUb8olgDYhbW0L71pyGIZ9Gv/pYusKJOxZqG3i2wpOLVQtJ/F9pls63eTZW4K9oawqn1MRsulthrZxV7lWtszm3CtCRZ5WiTHm3fgbuTkG00szkWmtaXqsDelfMnIaWbkcVrUtatLDmb51AunzHVF0dxutOGVg8ePSTUz+2BzJPiT/bbterwoNsqz9os5GvLd5p1YVGKkOuRT7QkxD4XNOM7qX8RdZZvi3uSCyCzzcdF4bZ+F3Oa8PZa+IUdnw/O1OE4ujhwWDrcNEkeXWzMbZte6kJxjIX49H3u/cjSTNV5reduGj308r9IuevtYy6m3N5Fxp3nI+fhqm5VdpczGZBY9hyRfOg9vR7e1yrPryaI5VudOzm0zj0SCvSayc56qjTnOlkknwREEIHD4BLZbNE8WI3ejtO12oQtFSwmDXahmi7+54WVZfcH1N4bJoh1ulnERdufOzjFBXN/a3AsE1X0vvxusN4HHaR81Wi611RQnT1w0O4WBe2CRbzahcM48QjFQHmZ6YWhvUk1d9sHGsLUsOAi2xV5iqytsbAd/E9Z80fiUmC6OmZXUj7tMzYnCovs9jU0XsPrI+KQ67CCbV5mx9T/yzbG0BXUvdqbxaYq6n+1SKKSW81sRty7UHYlNEh/ro+2QbV620xzmfB4bmViBy45NHEq3mU+za13oGD+znvVu9Wgma7w2yhz7+AeF0n569146bvPYri+1vf3uiJhj2jM/W9z6AlTdGOxayT3q9edL5Q2x0TX4YTZnltv2msjWzZb7Z7oeGZ/VKT4hAIFrQeCKiubxhlBuclpQ+EWxRMIuVKVdFzNpzwtnXejz8VAg9J2rYZF1N9BRt+9f2u1OdL5xVH2+b7FcfFNbc7sUkeaB4XHax6y0XGprvgl5lqpfC8J+HiWOsek9AvdcaKme0mt1HKWflTOxX7pMbqRZto1rN6wcZXv0xlYuCe9S/Ba/nN/6jrDjJeN8DqyKWTRDzrOtNcY2J7wPy3Mpyr1/5llnuWvlneVdpBafPCurz9rs32GuvR6cu51ifcAorT6mRdfinC8PD94WGeNlWuvKfM9/jWVZPmgcwnxTSdkuMz6ea0HpckYH289JYTY8EE3mihWRdZs1QXUvZBDlxXNdE53MRXmgeVXz0f6kyRbFYV4U+02sBxvKnLNrnYwZfa3zxcSizMFq1zrz0/pp7ZBjJzfoj+tMOBdbx/gbn8WhrM/nr40txxCAwOEQuKKiWReavrN1embfvS2Lt79h2IWqL+79FQxd+CU4of3kPJ2aP5WWF+2w+1kWxrrIL1tkc+yDfLOjteiGoAtv0W1t9btlq9rH1LNcautwk6l+qc/2BjMILH09e+1U/FZfhsIgd1M2t9OdN2xMVUb5zH5+9f9O/0ttWviprJbZZWTnG1jPK/8+d+AgD1m1f/PJ+KAMHjcmvjAON+n6gNZv5Mqr2+xt6b4VO3q//npF1FHGiB1NVs6JPnbZn/+T0VmXzZMwvusu9iurolk49yJiLX5L49YZtKPHLFSUXeNRBeVYtdzTXKuNWUe41gwwB9IvrBnSqjrLGtV5mJHt0PctcYq2ts71wI8Z5ed2G8O4Lma/rX81F90YG8sxV+P6G3meyrvlTt4kt6o/fmwdV/PCs/A55zkIO8NiEpuBS9Whvthclr5etxhrmei9zOiMgeIcAhA4GAJbK5q3S6gsmuNitl2tSN8wgbCrM0i3xf/k5jf05wIENkjAPXRsUO7VidrWuilFpC2+r85DNEMAAhDYJgGK5m3SRfZyAo9RNB9eAbMcDa1XTSDsJl61ORvRT9G8EYwIgQAEri0BiuZrG3ochwAErheBbRXN14si3kIAAteXwJ4Wzdc3YHgOAQhAAAIQgAAEIHD5BCiaL585GiEAAQhAAAIQgAAE9owARfOeBQxzIQABCEAAAhCAAAQunwBF8+UzRyMEIAABCEAAAhCAwJ4RoGjes4BhLgQgAAEIQAACEIDA5ROgaL585miEAAQgAAEIQAACENgzAhTNexYwzIUABCAAAQhAAAIQuHwCFM2XzxyNEIAABCAAAQhAAAJ7RoCiec8ChrkQgAAEIAABCEAAApdPgKL58pmjEQIQgAAEIAABCEBgzwhQNO9ZwDAXAhCAAAQgAAEIQODyCVA0Xz5zNEIAAhCAAAQgAAEI7BkBiuY9CxjmQgACEIAABCAAAQhcPgGK5stnjkYIQAACEIAABCAAgT0jQNG8ZwHDXAhAAAIQgAAEIACByydA0Xz5zNEIAQhAAAIQgAAEILBnBCia9yxgmAsBCEAAAhCAAAQgcPkEKJovnzkaIQABCEAAAhCAAAT2jABF854FDHMhAAEIQAACEIAABC6fwNaK5vtnN9ONo/m/0weX7ygaIQABCEAAAhCAAAQgcFECV1I03zi6ne48uqjJjIMABCAAAQhAAAIQgMDlEth60Rx3lXUH+vjue8XTR/fSsexIn9xL7858H9ofptO6g62yB5npvXTnxO5yn6f7Qfa7d29Pd8JVZhr0pqR6tI/KaL4s0OHaVW71wbWF8eW0++t27i2vB+fBF+9vtHv0TXX0cYNvarfVa+2dtqvcGouzh3YExxCAAAQgAAEIQGBvCFxZ0ayF51jABXazYkyLRCng7HEeGgtmLZ797rYWkq4QPbqZltmlY7TPUFgG04d29SW8tqLywvByumBMe8hY1G4K1Gj3yFyL200WzSpT+ZfP1Q8JUwpchAAEIAABCEAAAldKYOtFcyxK87kp6MYCLvDQojDscGohWOSbgngoolPS4vWG0VvG9yJR5bUCdqI39lG5iwrB2K7nTUeqhWXwzRGodjQdE7tm/VtRncYd8pG5Fridh9p6Yb01Dm182/3vOpzdnEAAAhCAAAQgAIEdJnA1RfPRzdSKKS0Cw+7rjaNaXGl7LCz1upU1KxAz/Fic6m50L+BiQdwKy8GuvhutheXwYFCLc21XX1XH0F99nSVKLD7V78hDC3C117Qv1Nv6aNHsd4XFTrV9MY95nNT30VfzgDPzl2sQgAAEIAABCEBgBwlsvWjuu6rV+7gTrEWgFnv2U4pPbW8FXpAj/U2bFmtebyya4/mS3VhrTz1W2aprLAxLYa3tWnguLF6X/GKkylCdA4/IJ56bB4nBzsbtSYrmmynv4Ae9aveg074Cs4MTApMgAAEIQAACEIDAjMDuFM2tgEu+UA7FWHFiLPJaURmL8jS+nqEFnRazIlML2iZnojf2mcmx1+yx6NDzpmMWEXdN/ew74rFoVpnNl4n/0e4oI7Vd6q5nkDvh4eTE9rhD7vziBAIQgAAEIAABCOwXga0XzbOdRrnWijwttiY7urMdTMGrBZ1rb6846KsX8VWD8lpAGzvTl6/NXzcQvbH4XCZLCmNtX+mrede6p48WzNGPfi5yVcfA2TyERLtdsZsVqq41iuYZt+lPBFRmtzfbaOzqvnIEAQhAAAIQgAAEdpvAlRTNrYgUNouKZi2utD2etyK5F7P9F/1i4TwWg0OR2YrBJy+a1T8taPU8p4L6o/rUryFPFhSdOq49eHhfpVgvRXJ/d3irRbPar37pefYn+tDjMLjLBQhAAAIQgAAEILDDBLZWNO+qz6WQnRdvy9ou359ScLqCuxmxrK114gACEIAABCAAAQhAYEMEKJoNSIpmA4NDCEAAAhCAAAQgAIFG4NoVzc1zDiAAAQhAAAIQgAAEILAmAYrmNUHRDQIQgAAEIAABCEDg+hKgaL6+scdzCEAAAhCAAAQgAIE1CVA0rwmKbhCAAAQgAAEIQAAC15cARfP1jT2eQwACEIAABCAAAQisSYCieU1QdIMABCAAAQhAAAIQuL4EKJqvb+zxHAIQgAAEIAABCEBgTQIUzWuCohsEIAABCEAAAjtGIH8brX5hmXxDbv823B2zFHMOgMDWimb9Cunp11W7r1o+AIq4AAEI7DaBB+fJrkXydfNX8Z98pf30Wz71a+iPbmY7hz7B/htnD6/CfHRCYCcJuHqDuXHJMSrfUGzX13x8oHHYbtE8KY5zck+uX3KUUQcBCFwXArkgNbtP8fwSOEixrDeVoSBO5abTC/lwngtmY3/tP8q5BEdQAQEIQMARCOuVtNVNgL6muQF7fXLFRXOFffdeOq47LDeO7M0hpRR2WGwQ3NNlHS/tWpjfMTcquzNjb2D5RmaL+KrP6lEb2rXH6KM3ysGvSdqM/lgW8mOnfuO9YW02Sdr13UzF58L4xpH98dXNpL6oznwufgW5uV2fGMNumOhSORN3hthl21RWKv7Mx4vN6nvwO8dZ26rWYJcvJsbxp2/YfDNMs86JXTneQad1eBW33DfYETgPOdn8l8HLx+oCpbH3/ltD69xoMZA2y3pRu98d1ZxRfX1uaa4Zps7P0O7s8HaWs3n/Qb+uHU5Xl5fZOl2F5zJOhYvxQ3RYGXUNUAbzPO42lKO53uxPsN3avKo9atnMebHV++VzZXle1thZZrXYdxwXzl1ldS+danxXrTep5m/rr3M25FFrL+tXySftW+jNrvk5WtbT0i/kicjP8Qy8Ws6YsRM+y/PSRzfrdzJSEjubjKZTbfR+emlx/pcYSI43eRpDZVh1ezaqy8yZYIfNq+zDyb206H69Os+8TyUmer+LHtr4qp1+/KBP8m7pPaMw17Ugf9r5LL7bc81TG7dVfJR3/WzxGGTXmInsMLe6fepvj6+2tbgEe6S96RyQlvnVxuZ2nb/vld6DPLVBhcU52tvH3OptOvoyP3eiaLYJ5RI+B90ACuezBUPgFRm2oCsBmQc9tOUkvJ2OW5JLu5wbeev0CVHMgW8yQ2M9Fbu7jUXvnUelMY83kyye5wli5Ec20r/ILsmcEzzzNItL9uteeteYF+WYpsrZjLeNchzlufgZO+I4V8iN/ZzvWaaJjTsvY+NN+vRunciaK4arLph9ASj5sfShJ/o5yI12xPOy6HqdPe+dv6ku0Gqz83f1E/4YT59nsT3rNgtmbm8PYBK499KdM80ZkWXywXEpPvf8jucxCWJ7PK+67byMIup5z/3eITLtLXrkfXFcXB4r8x4vlTB+znyIhUoZlfW1+Rxz0Mds1LOJK8XWnpMi0+uNDP156Xts3i/NcTi53R8+luZu0d8f9nUDZQlnybeYf/ZcXHA5WTgJa7GzrRNi18ntdGweXLNvLR51Dprzcd2IvEoMLU+XUzqvzVwr1i3/f5QhvTNns8ZZCdEP2ybHVl4+nvi4fA77HMnyV8yXrMc9EBVWqifbrOudcmrnQV/NKZcH0cmleVLzrskv83v5PSMq8PYvyjmXbybXSrHb89zGJGuy9od8VpZNdjVtkKEbMVM/i/02V5fllG4w2P7FB3MvCIh8HgZe0vfBedmQs75mGSHeQe5lnO5E0TzCLgkTJ4sAsdfGRCjI8nU32f24CNbKzAl+9rAtPCLr+O7DvMvb7JRAruoTlQzBjx3iYmeSIy46MjRem00eOyGa/n4zdH6LzCBDLi1inK2PNuSL5n9RXu6vE0lvivq0L5/aZnyf7EiL3bqgzuxr7U6fscscjuM7H+kmsk4fWHvMYD2MfkZuMzvcGK/TFSczxubaaH/MIzWyfI79vW+uXWw0eT4vDIz86Kf1UY5bfOuY2TUVN2sbrkVuOth+lj6aL9oy5L426GfwxXKZjZ1dU1H9c31bsj6zhuVzu9tk53ZXUI8kpnZeLTvWOReFzNiaXDE52Ea6a9L3PN2XmIkf0nZyL92/24tTy1RlCMcSqxmr4ldbh3VQ/pz1n1xTe8xYscOu8WKDn/PGbx0X8mM+N/q4GE8R4/wXu9xcU0XLP52M2rUznIwd5pDv0+VNWM/GDte6zyp5NjfstRmb1u5yqkp016w+ifftdOeB/CRxeV779cDkyRBX9aJ/dkb9Wjxq9kuDMDJzWS5ZGa5vFWSv2b652cqzx2J7mGNVnNOXry31c4y92OOZqWT5LP11t7p/LopBZaIxsj5YsXIsbdovt9l4x86Xc757RXMNgCyMNnEUh702JFPtlK/PklSv5YQJNxK9CUmQ8rEmggS+TKq2WK/TR5/k3M1rSRLl/v3p8nEKp+x2s6lAmLHJ16w9ykPh5gQNXKS/stGHFivDPiGrHP2cyOsTLzBVXo29sij9+kQU+zrHnA/Onmq/yMn6e181y36OnLpdvW3FRBU9gWUfqxN/wrX5ITrVX7HO6Mu5atv8A9NS/62j9Tjb5Ww1uuxibhZV0VHiVuZEmwdRvoyxsi2XWSxm11TmrG241mOlw2af3f7emrmZvO4t9Uh0mXYbz9nY2bVBZs3xPgdKDytbx9g42WNtX0+f9r7I52zeSQ7XXFyRlyWHy9zLttadROurXvdzW9ebot+zml1T32Ztk2sSV5ujNeeznuzT5NUKvT6sM3ZeFl1+bpT5UvyzfYvNjUWW31l5n9W/+WeWMdil81XGFLs848VropNn8j9rH+afrm1Wnl9PZNwsV+21rHMSk/awpTmnCFzudX0is8fR2qQD5XOSE/bazEc73K6R9vosR5RfljlZ/2u7ZaEi7TUXkxrrlmctnzuH3F91V4HDtVV+TmxenJclz5tN6oTTsTgPZ/FXEfKZWbgcH+eS7b/t490rms2EsImjIOy1IRFqp1kQ2ria3DbArU3GS6Brwomc0i8siCv71ASxiesSSL0xn9kuO9H7JBh2lWWY4SSnkUU87z8uUV8W2DhbvOzktu3BBuNNORSfbX+7ONVjG4dus/F90s8Wwy520YCBaewwctNF9TS/Z6/xsPaMMrI9zs8gd1XsbZGcxRt9M8bm2lL/J6aqf/4m2hehEoN77icroqMsmJo7U8HjjoqN/4zB7JqKnrUN11bYU2WNjMq4xTeBcbe+5+bqIkBdGD/nerPskD/WZnvcZA4sWsuGDmZs189LWzTntcesqbq+Tv1q1s9YiX7zKlbrKwez/pNrwi2wFv6aC/fPdC6s8NXp7vrtemYffnOM20NyGVxyatFcGxRMLxQZ/i+pCFc7X5V3FrAib7q8wlq5LBw7yDPcqsWzONtrWWeISWs3a10D4K5VfXdNXHO7rt1tVD2Y5ITNnaVji4jOqIrMY3xeNvuly4Kc07i4vlWkvTboMxuLKlveB9dYjf3D/Uh0rPTTcxJ7VH410XyUXPG5L816vchSf/NAmzcTPkZ4qHXG/HJ9L+Fk54rmnCw6gXJgdRHTQPfzWXIIs3xdZcgFm9Q2WBlwCWwLqLTbYjf3KUFvSbGyjyZLHpz/l/0Ki2ZvHW/SdsGVfnYSjefBPmXQ/LD22L7lepsMk+TtjMu41ld1xF0A69Qgz8qwdsgg2yZ2aZxjv7C7YWOruh+cL75pPLqXlr+fVvRJUdniPRS1qqh+Dn7GRarKbPGQcQ/TqeboMN76vyL2S/0Pdk5Pva4cb3mqN7baBbO02xtSf6fZ9suqnF82vtIaz6NxsT2edxk9TlFGPV+xjgyjcn/rY4jn48prCmY+SGOZh90Pf16Y63yQ/kWOjVFTsbGDoqPbpHZ2O5avSeKDZygS+noS1mW1O8zdcb0ZZepQ+zCdr0n+RRtcTpaRYpPVU676eZF91fmaOwgfa8uavIw9Ja6L55qoGfUW6/T/jme92Oehz6Mmz9igcvTTyatrS2dTfFx8LlI8tyx3xXzJOi3bqldzb3WemZ+AiMI83sZGvaufMS/cefHRza1V9ww3XnQU7k3Ggpxr7evwMeuxys98sm796Ujxz8WwujxeW+5njEnPqSrQfYx5Js1ZRs61sT3HtOVhae95Ve7xJf4x56RvX4OUhRvrbNv8yU4UzW7Xy04e8VeTIv5YQoPikqkAKsHyPw7RCSg9SsC0/Tydyl/ZUDmiT48b7xK4JmPdPuZHCqdnkwW8yvf2qF36qZO/JrnKbJxKws12T4ofMSEnvugvn4hfTa5hqTzqYqbxOj47d78s03DpQYhdHqey9Mav/shn020nRvA797eTRhdJ5SWftj2Ot23hJp7trv2bnXLR2qPOmc+Zn9WvPpmjHeXJXXO15VYWG/WFsY1TtSHExftv7Jweel19oeud44KpNrc8uPuz+pddNFfr2CGfRJeJk2Pc9fWjVf0LF8+uj3ZHIUYLxwwsjb06T0TwuvKqEbM53nNjzGHXpmvdY7Fz3l/gZMbW50or3tUul5fSN+SD+mHjPvDW+RlyPusY5UXHfG6qLNNryMmyBkTeszk/xND6Udczn1eRl957il2r51rJfy/T+DLjWe9vzZ+Yp0vuQyI522T90vi0a8UmnfvjvXL0OVsc7TB/J93HrMw373PIhSHPwi5otnl5rnidMU+CPnc/mTD0LaOMAAAgAElEQVRap6ZwNk9kPCYfH19v/xDDWVxzUOZ+FjaeX7wH+CwMOaHrgZ3/0b8hD6MM0V/ta7knWmN+lXGNhzdsK2dbK5rXs7Y47CfIeiOX9cpBD0m6rP9Vt0lCzhkIH5+8V20r+tcnIHl4mZN5fcvouZCA3HAXrB3EcyG1LTSUG+a1nj9SaCzIxS0AvzKR+3a/vjJQKN4JAhTNOxAGiuYdCMIWTKDI2gLUbYukaN424TXlUzQv391bE+MedKNo3oMgYWIjQNHcUHAAAQhAAAK7QYCieTfisH0rKJq3zxgNmyNwxUXz5hxBEgQgAAEIQAACEIAABLZFgKJ5W2SRCwEIQAACEIAABCBwMAQomg8mlDgCAQhAAAIQgAAEILAtAhTN2yKLXAhAAAIQgAAEIACBgyFA0XwwocQRCEAAAhCAAAQgAIFtEaBo3hZZ5EIAAhCAAAQgAAEIHAwBiuaDCSWOQAACEIAABCAAAQhsiwBF87bIIhcCEIAABCAAAQhA4GAIUDQfTChxBAIQgAAEIAABCEBgWwQomrdFFrkQgAAEIAABCEAAAgdDgKL5YEKJIxCAAAQgAAEIQAAC2yJA0bwtssiFAAQgAAEIQAACEDgYAhTNBxNKHIEABCAAAQhAAAIQ2BYBiuZtkUUuBCAAAQhAAAIQgMDBEKBoPphQ4ggEIAABCEAAAhCAwLYIUDRviyxyIQABCEAAAhCAAAQOhgBF88GEEkcgAAEIQAACEIAABLZFgKJ5W2SRCwEIQAACEIAABCBwMAS2VjTfP7uZbhwt/nf64GAY4ggEIAABCEAAAhCAwIEToGg+8ADjHgQgAAEIQAACEIDAkxPYetEcd5TfvXs770C364/upWPZkT65l+6Y3enju+8173RMu6Zjjm6nO49KN+1z4+g83W8jU1p03e+E+zHadnq32pZ3zG2fh+l0uGaUplXtti/HEIAABCAAAQhAAAK7TmB3iubJqxxaWGvhq0WzFrU3pkXzzaTjUnov3TnRV0R60dvHa1sp2t+t0Zq218K+9FlVFK9q3/W0wD4IQAACEIAABCAAAUtgh4rmya7x2cNsqyua2y6zFLyTMVLc1nHJ9dWiuRa0J/eSFskqX4vtVjSrnLZzrPpWFcWr2m0IOIYABCAAAQhAAAIQ2HUCu1M0twJVkPnCVova47sPy87xyXk6zTvIWsTqaxi303G+XgrkMu48nebXPmrR7Apps9N8dDP5newuWyxSG0phrUWxH9+LeG3XQn3X0wD7IAABCEAAAhCAAASWEdidotns/C4smk/0fWh97aIXtqWovZ3u3D2v70zXPmcPU9k5Xl006w617jTrzrMAXK9o1tc8KJqXJR1tEIAABCAAAQhAYN8I7E7RPHvVIryekf+EXS6ulxTNj7RgLbvAUvi6ojnsYs8CpkWzFtGtiG82qg67k2yv2eOZBq5BAAIQgAAEIAABCOwTgR0qmuOrDv0X+nSXV4rmsvu7rGjWIlnklaLWF8223ersu9ataI6/nNh2w7UotuPrce6j7bao3qe0wFYIQAACEIAABCAAAUtgd4rmNf7kXN/5XV40pwflFQ3tH4tmARALY/sqhrat/pNzsWjWIpmi2SYZxxCAAAQgAAEIQGDfCWytaF4bjP5iXtvFXXvk1jq2oplvLdwaYwRDAAIQgAAEIACBfSJA0TyJFkXzBAqXIAABCEAAAhCAwDUmQNE8CT5F8wQKlyAAAQhAAAIQgMA1JnD1RfM1ho/rEIAABCAAAQhAAAL7QYCieT/ihJUQgAAEIAABCEAAAldIYCtF81e/+tXEPxiQA+QAOUAOkAPkADlADlx1Dmyqzt5a0bwpA5EDAQhAAAIQgAAEIACBixCQgn1T/1E0b4okciAAAQhAAAIQgAAEdooARfNOhQNjIAABCEAAAhCAAAR2kQBF8y5GBZsgAAEIQAACEIAABHaKAEXzToUDYyAAAQhAAAIQgAAEdpEARfMuRgWbIAABCEAAAhCAAAR2igBF806FA2MgAAEIQAACEIAABHaRAEXzLkYFmyAAAQhAAAIQgAAEdooARfNOhQNjIAABCEAAAhCAAAR2kcBeFs3v3r2dbhzdDP9upzuPBPHDdJrb6vmje+lYzk/upXdzBLS9jm/XS3jun0W5fazqPX1Q+vrzKjfIKz1TKnLVxpTSg3Njv7muA9rne+nOycSms4e1R/Dn6Dzdry1Rpz+P9vpz71szphwo02ZDsLFdD+M4hQAEIAABCEAAAntKYK+LZi1eUyzitCA9u1cLTi1KfWGYkhZ7odBsha/vHwtJf+77xnxwBWu17/jue7lbaes2+LHVRi1Ena+1Te11bWOh7mzQhwsdG869b94izzswrDaob2EkpxCAAAQgAAEIQGAvCRxm0Zy0YCw7tK2Aq8VqK7YlZO5aKFBXFJK+sFy/aPbFa7Qh5lGR23wIhXHpXXXr7nstsKMefx7t9efet2CTtcEe526hkA9DOYUABCAAAQhAAAL7SGCvi2b3iobuxGoUtJg70l3mlKaFoNv1rYVjkzUvJJ3eo5upFOG1rxau+jkpYEvxOr5y0Qpj9UE+qx+tTf3KcnWX92bK7a7NPzh0m5XHAnvrzrOy6uPE3jrW6tFj9bd9Lto5t85xDAEIQAACEIAABPaDwF4XzX3H2Be3/bWLWpjqKwhuV7kGyF6rBWArUJ9wp1mLY7HT7vLa45VpYu2TzlqkStFsj2Nb223XItnb0N79VjYrfG26pL/Va49XOkMHCEAAAhCAAAQgsJ8EDqRo1h3Xsrupu6RS/GrhWgrhRcW1HdeLzFhYqlwt1v15lK1FatmJdoWy293WflZvT6Yyzuza2iJVj2vhq77emOxui0RnQyiSV/m6sGiO74WrTdWG7glHEIAABCAAAQhAYH8J7HXR7F8dqK9JaNEWd1D11QItFvU1gtpPC+AoU8+l6NY+S4tmlaufCwpYfZda5atMm0qtCFZZ4VPGqE1Zzsl5OpW/tOGK6F6MX6RoVvvKZ5WljFthrA8tYWffOsMxBCAAAQhAAAIQ2GMCe1k0b4N3Lj5boW01lB3k/sqGbdvucS5yW2FqdNWidVZom14cQgACEIAABCAAAQhsiABFcwVJ0byhjEIMBCAAAQhAAAIQOEACFM0HGFRcggAEIAABCEAAAhDYLAGK5s3yRBoEIAABCEAAAhCAwAESoGg+wKDiEgQgAAEIQAACEIDAZglQNG+WJ9IgAAEIQAACEIAABA6QAEXzAQYVlyAAAQhAAAIQgAAENkuAonmzPJEGAQhAAAIQgAAEIHCABCiaDzCouAQBCEAAAhCAAAQgsFkCe1E0i5H8gwE5QA6QA+QAOUAOkAPkwFXmwKbK8E9sSpCVI2B+/etf8w8G5AA5QA6QA+QAOUAOkANXlgNSk27qP4pmEvnKEpkHKx4syQFygBwgB8gBcmCbOUDRTKFLoUsOkAPkADlADpAD5AA5sCIHKJpXANrmEwuyeSImB8gBcoAcIAfIAXJgP3KAopmimSdLcoAcIAfIAXKAHCAHyIEVOUDRvAIQT3/78fRHnIgTOUAOkAPkADlADmwzB/a0aP7P9L+f/Z30W78t/15M/6KF7/dfrNd+J/3Wiz/giUm58EkukAPkADlADpAD5AA58EQ5sIdFcymY//z74WnqP76d/qQV0Av6kCxPlCzbfHpDdshncpVcJQfIAXKAHCAHdioH9q9oluJ4sov8n9/+fPqTb/9ngVt3nNs5SbdTSUeBTIFMDpAD5AA5QA6QA/uWA/tXNEtB/OK3h9czStH8g3L92W+n/8z9eEVj3xISe1lEyQFygBwgB8gBcmAXc2A/i+bf/nz63/9REkp3mOVT3nFur218/8W+88xOMzvN5AA5QA6QA+QAOUAOkANPkAP7VzSH1zP+5cVaKMt12WHOMHineRef0LCJnQNygBwgB8gBcoAc2Ncc2L+i+de/TrqrnP96hnm/2V7nfWYm5b5OSuwmd8kBcoAcIAfIgd3Lgb0smkmk3UskYkJMyAFygBwgB8gBcuCQc4Ci+QnebTnkxMA3Fj5ygBwgB8gBcoAcIAd6DlA0UzTzSwHkADlADpAD5AA5QA6QAytygKJ5BSCesPoTFixgQQ6QA+QAOUAOkAPXNQcomimaebIkB8gBcoAcIAfIAXKAHFiRAxTNKwBd16cp/GYngRwgB8gBcoAcIAfIgZ4DFM0UzTxZkgPkADlADpAD5AA5QA6syIG9LJr5e8z9qYcnQFiQA+QAOUAOkAPkADmw/RzYw6L5B+nP9Zv/5FsAf/vF9C8rngxIpO0nEoxhTA6QA+QAOUAOkAOHnAN7WDTbhPxB+nOKZn6cwkMTOUAOkAPkADlADpADW86BvS6a5TUNvi7bPkRwfMhPuPhGfpMD5AA5QA6QA1eXA3tbNOf3ml/8AU9VW36qYnJe3eSEPezJAXKAHCAHyIHdyYG9LJr/5cXfSb9FwcwDAw8M5AA5QA6QA+QAOUAOXFIO7F/RnH/573fSb/12/8crGrvzFMYTMbEgB8gBcoAcIAfIgUPMgf0rmi/paeIQg41PLGLkADlADpAD5AA5QA5cLAcominC+bEOOUAOkAPkADlADpAD5MCKHKBoXgGIp7GLPY3BDW7kADlADpAD5AA5cEg5QNFM0cyTJTlADpAD5AA5QA6QA+TAihygaF4B6JCekPCFJ35ygBwgB8gBcoAcIAculgMUzRTNPFmSA+QAOUAOkAPkADlADqzIgb0omsVI/sGAHCAHyAFygBwgB8gBcuAqcyBt6L9PbEiOEyNg+A8CEIAABCAAAQhAAAJXSWCTNSlF81VGEt0QgAAEIAABCEAAAlsjQNG8NbQIhgAEIAABCEAAAhA4FAIUzYcSSfyAAAQgAAEIQAACENgaAYrmraFFMAQgAAEIQAACEIDAoRCgaD6USOIHBCAAAQhAAAIQgMDWCFA0bw0tgiEAAQhAAAIQgAAEDoUARfOhRBI/IAABCEAAAhCAAAS2RoCieWtoEQwBCEAAAhCAAAQgcCgE9rJofvfu7XTj6Gb4dzvdeVTCcv9M2vq5C9aD8zzu+O57KdXjGyf30rspJZWb22TQo3vp2Oo5e2hEvZfunEQbbqYbtU+0wZ2rXCdPRavc83S/Xipjq65qq/Z2nyrX2nx0M50+qL3UX21v+h+mU7nWZIdzlav9w7nzzRmUGuNFTJttcRznEIAABCAAAQhAYIcI7HXR3AquJyjitCA9vVsLZC0cg8yUQiGZanG7ZiHpCstBts0IXzS7cWqD6rTD5LjKVS76EJDPa5sWr65N5arv8TzaG869jcEo+5ASxhUbFjzcBDGcQgACEIAABCAAgaskcO2L5lYM593XXsDNCjp/rRTRWoRqwbrZneZYqKdUCtS+C+2SJxeo0Qez0yydw25zKbCjnnAeit1Vvo423UzCyRfqvchvDN1ATiAAAQhAAAIQgMDuENjrotm9omF2X0thGV+dqIWm3fmscdBirr+eoMVpL0Clq/ab7dzOC8loQ5WnRai+JlE/S/Fod5pr8Rr6LXr1xBf1c3t1rPNFd5ajHt15XmCvf0CIvo68VaeLm+g0sdudqYElEIAABCAAAQhAoBPY66JZX0Nou8W1yBteF9DdVSnOYtEcCkLd9YwFqCBz16qcZoPKqQVgtMGdh75JX/XI72FPimYtXnvcpkdFR9+F1iJVbLTH3RfdhQ47y1pEq95obzh3vonwBbyjDVMnuAgBCEAAAhCAAAR2kMCBFM220JzsEi8o4nyxqru6YTe47YL6wjIWqPOd5r5T7QrLUHR6O5b54m3w+VTbmr2+UNaCtTwUqK+XWzRHRmpTe/DwDnEGAQhAAAIQgAAEdobAXhfN8cf8WnyVAnX91wV0d7ntkMYdVn1twe0iR/n9XOxwRXIK51o0q9z6Ob6eUfLE+9N3knsW9SI4MinnMkaL8WLn8dl5/ssgrohWvy+009z97zr7rnNjHHxv17szHEEAAhCAAAQgAIGdI7CXRfNVU8xFrNnRbfbUglCL93Z96welaJ7pLbu5s0J760ahAAIQgAAEIAABCBwMAYrmC4SSovkC0BgCAQhAAAIQgAAE9pgARfMeBw/TIQABCEAAAhCAAAQuhwBF8+VwRgsEIAABCEAAAhCAwB4ToGje4+BhOgQgAAEIQAACEIDA5RCgaL4czmiBAAQgAAEIQAACENhjAhTNexw8TIcABCAAAQhAAAIQuBwCFM2XwxktEIAABCAAAQhAAAJ7TICieY+Dh+kQgAAEIAABCEAAApdDYC+KZjGSfzAgB8gBcoAcIAfIAXKAHLjKHNhUef6JTQmycgTMr3/9a/7BgBwgB8gBcoAcIAfIAXLgynJAatJN/UfRTCJfWSLzYMWDJTlADpAD5AA5QA5sMwcomil0KXTJAXKAHCAHyAFygBwgB1bkAEXzCkDbfGJBNk/E5AA5QA6QA+QAOUAO7EcOUDRTNPNkSQ6QA+QAOUAOkAPkADmwIgcomlcA4ulvP57+iBNxIgfIAXKAHCAHyIFt5sB+Fs3/8e30J7/9O+m3nv12+k9b9C66bvtwzJMkOUAOkAPkADlADpAD5MBj5sD+Fc1SGEux/P0XfdG86PpjAtnmEwqyeQImB8gBcoAcIAfIAXJgP3Ng/4pmLYJj0bzqurbzyZMlOUAOkAPkADlADpAD5MBj5gBF82MC4+lwP58OiRtxIwfIAXKAHCAHyIEnyQGKZopmnjTJAXKAHCAHyAFygBwgB1bkAEXzCkBP8kTCWJ5oyQFygBwgB8gBcoAcOIwc2MOi+Qfpz+UvZ5h/f/59Ccai64cRKCYccSQHyAFygBwgB8gBcuDqcmAPi+arg0Wiwp4cIAfIAXKAHCAHyIHrmQMUzbyewTtM5AA5QA6QA+QAOUAOkAMrcoCieQUgniav59MkcSfu5AA5QA6QA+QAOWBzgKKZopknS3KAHCAHyAFygBwgB8iBFTlA0bwCkH3C4JgnTnKAHCAHyAFygBwgB65nDlA0UzTzZEkOkAPkADlADpAD5AA5sCIHKJpXAOJp8no+TRJ34k4OkAPkADlADpADNgf2omgWI/kHA3KAHCAHyAFygBwgB8iBq8yBtKH/PrEhOYiBAAQgAAEIQAACEIDAwRKgaD7Y0OIYBCAAAQhAAAIQgMCmCFA0b4okciAAAQhAAAIQgAAEDpYARfPBhhbHIAABCEAAAhCAAAQ2RYCieVMkkQMBCEAAAhCAAAQgcLAEKJoPNrQ4BgEIQAACEIAABCCwKQIUzZsiiRwIQAACEIAABCAAgYMlQNF8sKHFMQhAAAIQgAAEIACBTRGgaN4USeRAAAIQgAAEIAABCBwsAYrmgw0tjkEAAhCAAAQgAAEIbIoARfOmSCIHAhCAAAQgAAEIQOBgCVA0H2xocQwCEIAABCAAAQhAYFMEKJo3RRI5EIAABCAAAQhAAAIHS2ArRfNXv/rVxD8YkAPkADlADpAD5AA5QA5cdQ5sqorfWtG8KQORAwEIQAACEIAABCAAgYsQkIJ9U/9RNG+KJHIgAAEIQAACEIAABHaKAEXzToUDYyAAAQhAAAIQgAAEdpEARfMuRgWbIAABCEAAAhCAAAR2igBF806FA2MgAAEIQAACEIAABHaRAEXzLkYFmyAAAQhAAAIQgAAEdooARfNOhQNjIAABCEAAAhCAAAR2kQBF8y5GBZsgAAEIQAACEIAABHaKAEXzToUDYyAAAQhAAAIQgAAE/v/27lg3aiUMwzC3QkHBRSEkalrKpIjo6GhTHCkUuQUkCjjiBpAQBVJ6BE0uYY5mPb/tmWwwh3g3tvMgrdbetcf/vPNG+mYyJ2eJBFYZmn98eJtevjppXm/T+58Z8bd0vvuunP/8lF7n8zef0o/dCMT35f7+8254vrxr2x3ujeeef+2urc9Lu0173ZUpde1GjSmlr5ej+kefxw39+6/0/s2emt59K1c0/Xl1mb6Ub9pn1udtvfV53be+mO4gmPY1NDX2nzf3OUUAAQQQQAABBFZKYNWhOcJrakNcBNJ3n0rgjFBaB8OUIuw1QbMPvvX1bZCsz+trWx+qwFrqe/3h1+6y7ruhhvreUmME0aqv5buot/ruZlCvaojJRdzbnNd9qyuqeTcMSw3Rt+ZOpwgggAACCCCAwCoJbDM0pwiM3QptH+BKWO3Ddh6y6rMmoE4EyTpY/nlorsNrW0PrUddu34cmGHdXl2fH6nsJ2O1z6vO23vq87ltT07iG8fHusibIN7c6RQABBBBAAAEE1khg1aG52qIRK7ExChHmXsUqc0p7g2C16luCY9/W/iBZPffVSepCeLk2gmu87wmwXXi9ueWiD8bRh/xe+tF/F/3atRurvCdp9331XT1xGGoOHrfUW1aeg9VwX6633Dt+ThxHf/v321bOx51zjAACCCCAAAIIrIPAqkPzsGJch9th20UJprEFoVpVLgM0/qwEwD6g3nGlOcJxrnO8yjs+ntRkXF++OEJqDs3j4/a7frU9QnJdQ7/3O9hM9LV/Vr5+/Nzx8WRnXIAAAggggAACCKyTwEZCc6y4dqubsUqaw28E1y4I3xaux/cNIbMNltFuhPX6vG07Qmq3El0F5Wp1O64bP3eQqbtvtGo7DqlxXIJv9PXlntXt3GJVQxOSp/p6a2hu94VHTaWGoSeOEEAAAQQQQACB9RJYdWiutw6UbRIR2toV1NhaEGExthGU6yIAt23GeQ7dcc1vQ3O0G++3BNjYSx3tR5tjlfoQHG017/meqGnXzpvLdJ7/0kYVoocw/jehOerr3ktbwbgPxjFpaVb2x51xjAACCCCAAAIIrJjAKkPzIXjvwmcftMdP6FaQhy0b4+8Oe7wLuX0wHT2rhNZ9QXt0lUMEEEAAAQQQQACBmQgIzQWk0DyTUZpBAAEEEEAAAQQ2SEBo3uCg6hICCCCAAAIIIIDAvASE5nl5ag0BBBBAAAEEEEBggwSE5g0Oqi4hgAACCCCAAAIIzEtAaJ6Xp9YQQAABBBBAAAEENkhAaN7goOoSAggggAACCCCAwLwEhOZ5eWoNAQQQQAABBBBAYIMEhOYNDqouIYAAAggggAACCMxLYBWhORfphQEHOMABDnCAAxzgwH06MFcMfzRXQ+N2Mpjr62svDDjAAQ5wgAMc4AAH7s2BnEnn+ic0E/neRDaxMrHkAAc4wAEOcOCQDgjNgq6gywEOcIADHOAABzgw4YDQPAHokDMWbZsRc4ADHOAABzjAgXU4IDQLzWaWHOAABzjAAQ5wgAMTDgjNE4DM/tYx+zNOxokDHOAABzjAgUM6sK3Q/P0iPXvyND1+fpGuhGEzRg5wgAMc4AAHOMCBmRzYTmjOgTmH5Y9nQvNMchxytqZtqwEc4AAHOMABDqzJge2E5giKQrMZZbjgnQsc4AAHOMABDszkgNA8E8g1zZTUambPAQ5wgAMc4AAH/p8DqwzNVxcv0uO8dzm/zj7XMygrzTUPkwI8OMABDnCAAxzgwJ0dWGVo/u3MSGi+sxS/5euHDl8OcIADHOAABx6gAxsKzZ/Taaw+l/fTj/9v2V1YxIsDHOAABzjAAQ5wYJ8DGwrNBnjfAPuMFxzgAAc4wAEOcODuDgjND/DXC35w7v6DgyGGHOAABzjAgYflgNAsNNuXxQEOcIADHOAABzgw4YDQPAHILPJhzSKNt/HmAAc4wAEOcGCfA0Kz0GxmyQEOcIADHOAABzgw4YDQPAFo30zDZ2agHOAABzjAAQ5w4GE5IDQLzWaWHOAABzjAAQ5wgAMTDqwzNH+/SM/y32J+fpGuJjpoFviwZoHG23hzgAMc4AAHOHAIB9YXmnNgzmHZ//nPjNCEiQMc4AAHOMABDhzJgfWF5gAjNPshCRe8c4EDHOAABzjAgQM7IDQfGPAhfj2gTb924gAHOMABDnCAA8d1QGgWms1MOcABDnCAAxzgAAcmHBCaJwCZxR13Foc33hzgAAc4wAEOLNGBFYbmz+k0/+WM0ev0I7mWKJeaeMkBDnCAAxzgwFYcWGFoJt9W5NMPLnOAAxzgAAc4sBYHhGbbM+xh4gAHOMABDnCAAxyYcEBongC0ltmPOs3UOcABDnCAAxzgwOEcEJqFZjNLDnCAAxzgAAc4wIEJB4TmCUBmbIebsWGLLQc4wAEOcIADa3FAaBaazSw5wAEOcIADHOAAByYcWEVozkV6YcABDnCAAxzgAAc4cJ8OpJn+PZqpnaqZ+wTj2X4wOcABDnCAAxzgAAfCgSqk3uHkYKH5DjW5FQEEEEAAAQQQQACBOxPIwXmuf0LzXCS1gwACCCCAAAIIILAoAkLzooZDMQgggAACCCCAAAJLJCA0L3FU1IQAAggggAACCCCwKAJC86KGQzEIIIAAAggggAACSyQgNC9xVNSEAAIIIIAAAgggsCgCQvOihkMxCCCAAAIIIIAAAkskIDQvcVTUhAACCCCAAAIIILAoAkLzooZDMQgggAACCCCAAAJLJLDK0Pzjw9v08tVJ83qb3v/sEH95l78bzivwXy93973+8Culcvzyzaf0I6UU7e6+yzf9/JRej5/z7tuoqV/p/Zu2hpP0slzT1lCdR7tVe9F0tHuZvpSPunvLs0qtcXX1Hu2Oa351ks6/lquiv/F9//xv6Tx/1rfdnEe7cX1zXvWtKij1jG9j2tfW3uccAQQQQAABBBBYEIFVh+Y+cN0hxEUgPf9QAnIEx6bNlJogmUq4/cMgWQXLG22PjahDc3Vf1BDPHN+Wj0u7wSUmAbvz8l2E1+q7aDf63p639TbndY1NUeNJSnNfV8Mtk5umGacIIIAAAggggMB9EnjwobkPw7vV1yHA7Qt09WddiI4QGoF13pXmNqin1AXUYRW6kmcXUNs+jFaa88XNanMXsNvnNOdN2J3q682aTlLmVAf1IeT3DKsbnSCAAAIIIIAAAsshsOrQXG3RGK2+dojhVA0AAAVfSURBVMGy3TpRguZ45bOMQ4S5YXtChNMhgOZL47p9K7f7g2RbQ2kvQmhskyjvXXgcrzSX8Npcd9vWkzrU76837q36EivL7XNi5fmWeusJQtvXm7zjmdW45WeOxm45PxoqQQABBBBAAAEEBgKrDs2xDaFfLS4h78Z2gVhdzeGsDc1NIIxVzzaAZmTVZ6WdvoZopwTAtobqvLk2xVaP3T7sPaE5wuswbnuPumcMq9ARUnON4+OhL7EK3awsR4iO57b1NudV33Ljt/Bua9jbCR8igAACCCCAAAILJLCR0DwOmntWiW8JcXVYjVXdZjW4XwWtg2UbUPevNA8r1VWwbEJnXcfv+lLXUPtUvuvrrYNyBNZuUhB9PW5obhlFTf3Eo+6QMwQQQAABBBBAYDEEVh2a21/zR/jqAuqfbxeI1eV+hbRdYY1tC9Uqctv+cJ7rqEJyas4jNEe75f3m9ozOk7o/w0ryYNEQglsm3Xm+J8J4V+frd5e7vwxShejo91+tNA/9H545rDr3jJu+958PnXGEAAIIIIAAAggsjsAqQ/N9U9yF2NGKbl9PCYQR3vvPD37QheZ9z+1Wc/cF7YMX5QEIIIAAAggggMBmCAjNfzGUQvNfQHMLAggggAACCCCwYgJC84oHT+kIIIAAAggggAACxyEgNB+Hs6cggAACCCCAAAIIrJiA0LziwVM6AggggAACCCCAwHEICM3H4ewpCCCAAAIIIIAAAismIDSvePCUjgACCCCAAAIIIHAcAkLzcTh7CgIIIIAAAggggMCKCQjNKx48pSOAAAIIIIAAAggch8AqQnMu0gsDDnCAAxzgAAc4wIH7dGCueP5orobG7WQw19fXXhhwgAMc4AAHOMABDtybAzmTzvVPaCbyvYlsYmViyQEOcIADHODAIR0QmgVdQZcDHOAABzjAAQ5wYMIBoXkC0CFnLNo2I+YABzjAAQ5wgAPrcEBoFprNLDnAAQ5wgAMc4AAHJhwQmicAmf2tY/ZnnIwTBzjAAQ5wgAOHdGCdofn7RXr25Gl6/PwiXY1D78ez9Dh/nl9nn4cZU1y/++5F+uc7qQ4plbb5xQEOcIADHODA1hxYX2jOATiH5RyQx6F5F4zP0r+7EH2V/nn+NJ1+zMLm41FQ/niWnl1cDYF6HLod48IBDnCAAxzgAAc4sMeB9YXm6EQTmq8uXgxhuKw4Rzj+9+xp/10+7sK0GeDWZoD6w2kOcIADHOAABw7lwMZC8+fdCvNuBToH59EWjRyW87YNgdkP06F+mLTLLQ5wgAMc4MB2HdhUaK5Ccb8No92qMaw6E3u7YhtbY8sBDnCAAxzgwJwObCY0X8de5932jXFQ/pxOn8Re5+t03axAzwlTW344OcABDnCAAxzgwDYdWGFoziG4/IWM8h5bLvK+5vjrGbGfOYs7/vzxk9F/FBj7o73b8M8BDnCAAxzgAAc48BsHVhiatzl7MSs1rhzgAAc4wAEOcGC5DgjNv5lREHe54hobY8MBDnCAAxzgwDEdEJqFZr+K4QAHOMABDnCAAxyYcEBongB0zBmMZ5kxc4ADHOAABzjAgWU6IDQLzWaWHOAABzjAAQ5wgAMTDgjNE4DM9pY52zMuxoUDHOAABzjAgWM6sIrQnIv0woADHOAABzjAAQ5w4D4dSDP9ezRTO5pBAAEEEEAAAQQQQGCzBITmzQ6tjiGAAAIIIIAAAgjMRUBonoukdhBAAAEEEEAAAQQ2S0Bo3uzQ6hgCCCCAAAIIIIDAXASE5rlIagcBBBBAAAEEEEBgswSE5s0OrY4hgAACCCCAAAIIzEVAaJ6LpHYQQAABBBBAAAEENkvgP4112IUZVoT6AAAAAElFTkSuQmCC)"
      ],
      "metadata": {
        "id": "q7OgEgOjuR8s"
      }
    },
    {
      "cell_type": "markdown",
      "source": [
        "## Дробные числа\n",
        "\n",
        "Тип float представляет число с плавающей точкой, например, 1.2 или 34.76. В качесте разделителя целой и дробной частей используется точка."
      ],
      "metadata": {
        "id": "bqOsBV4WA7Uu"
      }
    },
    {
      "cell_type": "code",
      "source": [
        "height = 1.68\n",
        "pi = 3.14\n",
        "weight = 68.\n",
        "print(height)   # 1.68\n",
        "print(pi)       # 3.14\n",
        "print(weight)   # 68.0"
      ],
      "metadata": {
        "colab": {
          "base_uri": "https://localhost:8080/"
        },
        "id": "d0epg5m8A-hF",
        "outputId": "a7900a86-d96a-4c54-df39-f3020868a8bf"
      },
      "execution_count": null,
      "outputs": [
        {
          "output_type": "stream",
          "name": "stdout",
          "text": [
            "1.68\n",
            "3.14\n",
            "68.0\n"
          ]
        }
      ]
    },
    {
      "cell_type": "markdown",
      "source": [
        "Число с плавающей точкой можно определять в экспоненциальной записи:"
      ],
      "metadata": {
        "id": "IDdogFKsBDPj"
      }
    },
    {
      "cell_type": "code",
      "source": [
        "x = 3.9e3\n",
        "print(x)  # 3900.0\n",
        "\n",
        "x = 3.9e-3\n",
        "print(x)  # 0.0039"
      ],
      "metadata": {
        "colab": {
          "base_uri": "https://localhost:8080/"
        },
        "id": "suU6sGFWBFOE",
        "outputId": "3c6773e0-f994-4fed-ea1f-7440fa3d3c0c"
      },
      "execution_count": null,
      "outputs": [
        {
          "output_type": "stream",
          "name": "stdout",
          "text": [
            "3900.0\n",
            "0.0039\n"
          ]
        }
      ]
    },
    {
      "cell_type": "markdown",
      "source": [
        "Число float может иметь только 18 значимых символов. Так, в данном случае используются только два символа - 3.9. И если число слишком велико или слишком мало, то мы можем записывать число в подобной нотации, используя экспоненту. Число после экспоненты указывает степень числа 10, на которое надо умножить основное число - 3.9."
      ],
      "metadata": {
        "id": "dUSI7VsUBHYH"
      }
    },
    {
      "cell_type": "markdown",
      "source": [
        "## Комплексные числа\n",
        "\n",
        "Тип complex представляет комплексные числа в формате вещественная_часть+мнимая_частьj - после мнимой части указывается суффикс j"
      ],
      "metadata": {
        "id": "9LIU7_05BNXa"
      }
    },
    {
      "cell_type": "code",
      "source": [
        "complexNumber = 1+2j\n",
        "print(complexNumber)   # (1+2j)"
      ],
      "metadata": {
        "colab": {
          "base_uri": "https://localhost:8080/"
        },
        "id": "KP5e143iBPIa",
        "outputId": "7ced478a-75b1-4e73-de61-93c51e96c93c"
      },
      "execution_count": null,
      "outputs": [
        {
          "output_type": "stream",
          "name": "stdout",
          "text": [
            "(1+2j)\n"
          ]
        }
      ]
    },
    {
      "cell_type": "markdown",
      "source": [
        "## Арифметические операции"
      ],
      "metadata": {
        "id": "mXIkBwNZEauF"
      }
    },
    {
      "cell_type": "markdown",
      "source": [
        "![image.png](data:image/png;base64,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)"
      ],
      "metadata": {
        "id": "5j5BUwGvEa9O"
      }
    },
    {
      "cell_type": "markdown",
      "source": [
        "# Модуль math"
      ],
      "metadata": {
        "id": "bos8madQEcsW"
      }
    },
    {
      "cell_type": "markdown",
      "source": [
        "Модуль math – один из наиважнейших в Python. Этот модуль предоставляет обширный функционал для работы с числами.\n",
        "\n",
        "* math.ceil(X) – округление до ближайшего большего числа.\n",
        "\n",
        "* math.copysign(X, Y) - возвращает число, имеющее модуль такой же, как и у числа X, а знак - как у числа Y.\n",
        "\n",
        "* math.fabs(X) - модуль X.\n",
        "\n",
        "* math.factorial(X) - факториал числа X.\n",
        "\n",
        "* math.floor(X) - округление вниз.\n",
        "\n",
        "* math.fmod(X, Y) - остаток от деления X на Y.\n",
        "\n",
        "* math.frexp(X) - возвращает мантиссу и экспоненту числа.\n",
        "\n",
        "* $math.ldexp(X, I) - X * 2^i$. Функция, обратная функции math.frexp().\n",
        "\n",
        "* math.fsum(последовательность) - сумма всех членов последовательности. Эквивалент встроенной функции sum(), но math.fsum() более точна для чисел с плавающей точкой.\n",
        "\n",
        "* math.isfinite(X) - является ли X числом.\n",
        "\n",
        "*  math.isinf(X) - является ли X бесконечностью.\n",
        "\n",
        "* math.isnan(X) - является ли X NaN (Not a Number - не число).\n",
        "\n",
        "*  math.modf(X) - возвращает дробную и целую часть числа X. Оба числа имеют тот же знак, что и X.\n",
        "\n",
        "*  math.trunc(X) - усекает значение X до целого.\n",
        "\n",
        "* $math.exp(X) - e^X$.\n",
        "\n",
        "* $math.expm1(X) - e^X - 1$. При X → 0 точнее, чем math.exp(X)-1.\n",
        "\n",
        "* math.log(X, [base]) - логарифм X по основанию base. Если base не указан, вычисляется натуральный логарифм.\n",
        "\n",
        "* math.log1p(X) - натуральный логарифм (1 + X). При X → 0 точнее, чем math.log(1+X).\n",
        "\n",
        "*  math.log10(X) - логарифм X по основанию 10.\n",
        "\n",
        "* math.log2(X) - логарифм X по основанию 2.\n",
        "\n",
        "* $math.pow(X, Y) - X^Y$.\n",
        "\n",
        "* math.sqrt(X) - квадратный корень из X.\n",
        "\n",
        "* math.acos(X) - арккосинус X. В радианах.\n",
        "\n",
        "* math.asin(X) - арксинус X. В радианах.\n",
        "\n",
        "* math.atan(X) - арктангенс X. В радианах.\n",
        "\n",
        "* math.atan2(Y, X) - арктангенс Y/X. В радианах. С учетом четверти, в которой находится точка (X, Y).\n",
        "\n",
        "* math.cos(X) - косинус X (X указывается в радианах).\n",
        "\n",
        "* math.sin(X) - синус X (X указывается в радианах).\n",
        "\n",
        "* math.tan(X) - тангенс X (X указывается в радианах).\n",
        "\n",
        "* math.hypot(X, Y) - вычисляет гипотенузу треугольника с катетами X и Y (math.sqrt(x * x + y * y)).\n",
        "\n",
        "* math.degrees(X) - конвертирует радианы в градусы.\n",
        "\n",
        "* math.radians(X) - конвертирует градусы в радианы.\n",
        "\n",
        "* math.cosh(X) - вычисляет гиперболический косинус.\n",
        "\n",
        "* math.sinh(X) - вычисляет гиперболический синус.\n",
        "\n",
        "* math.tanh(X) - вычисляет гиперболический тангенс.\n",
        "\n",
        "* math.acosh(X) - вычисляет обратный гиперболический косинус.\n",
        "\n",
        "* math.asinh(X) - вычисляет обратный гиперболический синус.\n",
        "\n",
        "* math.atanh(X) - вычисляет обратный гиперболический тангенс.\n",
        "\n",
        "* math.erf(X) - функция ошибок.\n",
        "\n",
        "* math.erfc(X) - дополнительная функция ошибок (1 - math.erf(X)).\n",
        "\n",
        "* math.gamma(X) - гамма-функция X.\n",
        "\n",
        "* math.lgamma(X) - натуральный логарифм гамма-функции X.\n",
        "\n",
        "* math.pi - pi = 3,1415926...\n",
        "\n",
        "* math.e - e = 2,718281..."
      ],
      "metadata": {
        "id": "1zaXGxk5E2BH"
      }
    },
    {
      "cell_type": "markdown",
      "source": [
        "## Поразрядные операции с числами"
      ],
      "metadata": {
        "id": "6H5zTe9iFgQj"
      }
    },
    {
      "cell_type": "markdown",
      "source": [
        "Побитовое И (AND):"
      ],
      "metadata": {
        "id": "4hnEw9c9GZEb"
      }
    },
    {
      "cell_type": "code",
      "source": [
        "a = 60  # 60 = 0011 1100\n",
        "b = 13  # 13 = 0000 1101\n",
        "c = a & b\n",
        "print(\"Результат побитового И:\", c)  # Результат: 12 (0000 1100)"
      ],
      "metadata": {
        "colab": {
          "base_uri": "https://localhost:8080/"
        },
        "id": "fl9b-OFpGfjH",
        "outputId": "31ef1429-66d8-4fa8-ea5c-3920a39ebbc6"
      },
      "execution_count": null,
      "outputs": [
        {
          "output_type": "stream",
          "name": "stdout",
          "text": [
            "Результат побитового И: 12\n"
          ]
        }
      ]
    },
    {
      "cell_type": "markdown",
      "source": [
        "Побитовое ИЛИ (OR):"
      ],
      "metadata": {
        "id": "L1FSdLTsGmHn"
      }
    },
    {
      "cell_type": "code",
      "source": [
        "a = 60  # 60 = 0011 1100\n",
        "b = 13  # 13 = 0000 1101\n",
        "c = a | b\n",
        "print(\"Результат побитового ИЛИ:\", c)  # Результат: 61 (0011 1101)\n"
      ],
      "metadata": {
        "colab": {
          "base_uri": "https://localhost:8080/"
        },
        "id": "wexBEsqcGn55",
        "outputId": "ae72b826-9a29-471b-e9dd-908405e3a945"
      },
      "execution_count": null,
      "outputs": [
        {
          "output_type": "stream",
          "name": "stdout",
          "text": [
            "Результат побитового ИЛИ: 61\n"
          ]
        }
      ]
    },
    {
      "cell_type": "markdown",
      "source": [
        "Побитовое исключающее ИЛИ (XOR):"
      ],
      "metadata": {
        "id": "mOxciTPjGqRm"
      }
    },
    {
      "cell_type": "code",
      "source": [
        "a = 60  # 60 = 0011 1100\n",
        "b = 13  # 13 = 0000 1101\n",
        "c = a ^ b\n",
        "print(\"Результат побитового XOR:\", c)  # Результат: 49 (0011 0001)\n"
      ],
      "metadata": {
        "colab": {
          "base_uri": "https://localhost:8080/"
        },
        "id": "lUGBMIX7Gs62",
        "outputId": "d305948a-b279-4901-9a4f-af3acbd28f7a"
      },
      "execution_count": null,
      "outputs": [
        {
          "output_type": "stream",
          "name": "stdout",
          "text": [
            "Результат побитового XOR: 49\n"
          ]
        }
      ]
    },
    {
      "cell_type": "markdown",
      "source": [
        "Побитовый сдвиг влево:"
      ],
      "metadata": {
        "id": "mdnq8_G_Gv3Q"
      }
    },
    {
      "cell_type": "code",
      "source": [
        "a = 60  # 60 = 0011 1100\n",
        "c = a << 2\n",
        "print(\"Результат побитового сдвига влево:\", c)  # Результат: 240 (1111 0000)\n"
      ],
      "metadata": {
        "colab": {
          "base_uri": "https://localhost:8080/"
        },
        "id": "a4b9FXPsGyT4",
        "outputId": "75ad46e7-2f2d-4e55-d9c4-75ee69749f54"
      },
      "execution_count": null,
      "outputs": [
        {
          "output_type": "stream",
          "name": "stdout",
          "text": [
            "Результат побитового сдвига влево: 240\n"
          ]
        }
      ]
    },
    {
      "cell_type": "markdown",
      "source": [
        "Побитовый сдвиг вправо:"
      ],
      "metadata": {
        "id": "-I1vTlpnG09y"
      }
    },
    {
      "cell_type": "code",
      "source": [
        "a = 60  # 60 = 0011 1100\n",
        "c = a >> 2\n",
        "print(\"Результат побитового сдвига вправо:\", c)  # Результат: 15 (0000 1111)"
      ],
      "metadata": {
        "colab": {
          "base_uri": "https://localhost:8080/"
        },
        "id": "cvjc36ZjG46J",
        "outputId": "ed030a58-a1e4-464f-e03a-fc5525477111"
      },
      "execution_count": null,
      "outputs": [
        {
          "output_type": "stream",
          "name": "stdout",
          "text": [
            "Результат побитового сдвига вправо: 15\n"
          ]
        }
      ]
    },
    {
      "cell_type": "markdown",
      "source": [
        "Побитовый отрицательный (NOT):"
      ],
      "metadata": {
        "id": "T8G86YZMG7Qf"
      }
    },
    {
      "cell_type": "code",
      "source": [
        "a = 60  # 60 = 0011 1100\n",
        "c = ~a\n",
        "print(\"Результат побитового отрицания:\", c)  # Результат: -61"
      ],
      "metadata": {
        "colab": {
          "base_uri": "https://localhost:8080/"
        },
        "id": "NWRjQRo6G-0A",
        "outputId": "08dd653c-f20a-4111-8015-e9604e197de9"
      },
      "execution_count": null,
      "outputs": [
        {
          "output_type": "stream",
          "name": "stdout",
          "text": [
            "Результат побитового отрицания: -61\n"
          ]
        }
      ]
    },
    {
      "cell_type": "markdown",
      "source": [
        "# Условные выражения"
      ],
      "metadata": {
        "id": "4CYly5JjG4AJ"
      }
    },
    {
      "cell_type": "markdown",
      "source": [
        "![image.png](data:image/png;base64,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)"
      ],
      "metadata": {
        "id": "zseEERoSIMo6"
      }
    },
    {
      "cell_type": "code",
      "source": [
        "a = 5\n",
        "b = 6\n",
        "result = 5 == 6  # сохраняем результат операции в переменную\n",
        "print(result)  # False - 5 не равно 6\n",
        "print(a != b)  # True\n",
        "print(a > b)  # False - 5 меньше 6\n",
        "print(a < b)  # True\n",
        "\n",
        "bool1 = True\n",
        "bool2 = False\n",
        "print(bool1 == bool2)  # False - bool1 не равно bool2"
      ],
      "metadata": {
        "colab": {
          "base_uri": "https://localhost:8080/"
        },
        "id": "cyuv7UTUIclO",
        "outputId": "3dcb9121-49f2-4b0d-93e3-6f968870f157"
      },
      "execution_count": null,
      "outputs": [
        {
          "output_type": "stream",
          "name": "stdout",
          "text": [
            "False\n",
            "True\n",
            "False\n",
            "True\n",
            "False\n"
          ]
        }
      ]
    },
    {
      "cell_type": "code",
      "source": [
        "message = \"hello world!\"\n",
        "hello = \"hello\"\n",
        "print(hello in message)  # True - подстрока hello есть в строке \"hello world!\"\n",
        "\n",
        "gold = \"gold\"\n",
        "print(gold in message)  # False - подстроки \"gold\" нет в строке \"hello world!\""
      ],
      "metadata": {
        "colab": {
          "base_uri": "https://localhost:8080/"
        },
        "id": "xttxi7DEI7wj",
        "outputId": "2f302273-8f14-4a01-be08-bc0c3eed1282"
      },
      "execution_count": null,
      "outputs": [
        {
          "output_type": "stream",
          "name": "stdout",
          "text": [
            "True\n",
            "False\n"
          ]
        }
      ]
    },
    {
      "cell_type": "markdown",
      "source": [
        "## Логические операции"
      ],
      "metadata": {
        "id": "YuWuA9VHIj7C"
      }
    },
    {
      "cell_type": "markdown",
      "source": [
        "![image.png](data:image/png;base64,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)"
      ],
      "metadata": {
        "id": "M0I3LPE7IpCT"
      }
    },
    {
      "cell_type": "code",
      "source": [
        "age = 22\n",
        "weight = 58\n",
        "result = age > 21 and weight == 58\n",
        "print(result)  # True"
      ],
      "metadata": {
        "colab": {
          "base_uri": "https://localhost:8080/"
        },
        "id": "bxWlc_6KIoO2",
        "outputId": "3837b002-e0a2-4cc5-fa15-423834a5aa7e"
      },
      "execution_count": null,
      "outputs": [
        {
          "output_type": "stream",
          "name": "stdout",
          "text": [
            "True\n"
          ]
        }
      ]
    },
    {
      "cell_type": "markdown",
      "source": [
        "![image.png](data:image/png;base64,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)"
      ],
      "metadata": {
        "id": "4RXBRfRKurDx"
      }
    },
    {
      "cell_type": "markdown",
      "source": [
        "# Условная конструкция if"
      ],
      "metadata": {
        "id": "Iuq_9WSOJBzT"
      }
    },
    {
      "cell_type": "markdown",
      "source": [
        "Условные конструкции используют условные выражения и в зависимости от их значения направляют выполнение программы по одному из путей. Одна из таких конструкций - это конструкция if. Она имеет следующее формальное определение:"
      ],
      "metadata": {
        "id": "04bgKNFkJgH8"
      }
    },
    {
      "cell_type": "markdown",
      "source": [
        "![image.png](data:image/png;base64,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)"
      ],
      "metadata": {
        "id": "c2fdhP3lJb9I"
      }
    },
    {
      "cell_type": "markdown",
      "source": [
        "![1.png](data:image/png;base64,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)"
      ],
      "metadata": {
        "id": "rbThm2uTJ7kd"
      }
    },
    {
      "cell_type": "code",
      "source": [
        "age = input('Enter your age:')\n",
        "if int(age) >= 18:\n",
        "    print(\"You're eligible to vote.\")"
      ],
      "metadata": {
        "colab": {
          "base_uri": "https://localhost:8080/"
        },
        "id": "N4YfSrXLKF5n",
        "outputId": "b1e86677-af01-454f-cbed-6167598c2410"
      },
      "execution_count": null,
      "outputs": [
        {
          "output_type": "stream",
          "name": "stdout",
          "text": [
            "Enter your age:25\n",
            "You're eligible to vote.\n"
          ]
        }
      ]
    },
    {
      "cell_type": "markdown",
      "source": [
        "![2.png](data:image/png;base64,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)"
      ],
      "metadata": {
        "id": "NymO0yM9J8Sh"
      }
    },
    {
      "cell_type": "code",
      "source": [
        "age = input('Enter your age:')\n",
        "if int(age) >= 18:\n",
        "    print(\"You're eligible to vote.\")\n",
        "else:\n",
        "    print(\"You're not eligible to vote.\")"
      ],
      "metadata": {
        "colab": {
          "base_uri": "https://localhost:8080/"
        },
        "id": "47bLL9vDKJgH",
        "outputId": "837a197f-f83e-4194-a658-0df282193ee2"
      },
      "execution_count": null,
      "outputs": [
        {
          "output_type": "stream",
          "name": "stdout",
          "text": [
            "Enter your age:2\n",
            "You're not eligible to vote.\n"
          ]
        }
      ]
    },
    {
      "cell_type": "markdown",
      "source": [
        "![3.png](data:image/png;base64,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)"
      ],
      "metadata": {
        "id": "Uc3EZbPNJ90m"
      }
    },
    {
      "cell_type": "code",
      "source": [
        "age = input('Enter your age:')\n",
        "\n",
        "# convert the string to int\n",
        "your_age = int(age)\n",
        "\n",
        "# determine the ticket price\n",
        "if your_age < 5:\n",
        "    ticket_price = 5\n",
        "elif your_age < 16:\n",
        "    ticket_price = 10\n",
        "else:\n",
        "    ticket_price = 18\n",
        "\n",
        "# show the ticket price\n",
        "print(f\"You'll pay ${ticket_price} for the ticket\")"
      ],
      "metadata": {
        "colab": {
          "base_uri": "https://localhost:8080/"
        },
        "id": "rw9rkg37KOrC",
        "outputId": "c8f99bb7-e3f9-4d8f-c5a8-9d03f00fc03a"
      },
      "execution_count": 2,
      "outputs": [
        {
          "output_type": "stream",
          "name": "stdout",
          "text": [
            "Enter your age:25\n",
            "You'll pay $18 for the ticket\n"
          ]
        }
      ]
    },
    {
      "cell_type": "markdown",
      "source": [
        "![image.png](data:image/png;base64,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)"
      ],
      "metadata": {
        "id": "22vR1_Z0vX_g"
      }
    },
    {
      "cell_type": "markdown",
      "source": [
        "## Тернарный оператор"
      ],
      "metadata": {
        "id": "Ii5LimAfJ_gc"
      }
    },
    {
      "cell_type": "markdown",
      "source": [
        "Следующая программа запрашивает ваш возраст и на его основе определяет стоимость билета:"
      ],
      "metadata": {
        "id": "Ici1d7UZKniV"
      }
    },
    {
      "cell_type": "code",
      "source": [
        "age = input('Enter your age:')\n",
        "\n",
        "if int(age) >= 18:\n",
        "    ticket_price = 20\n",
        "else:\n",
        "    ticket_price = 5\n",
        "\n",
        "print(f\"The ticket price is {ticket_price}\")"
      ],
      "metadata": {
        "colab": {
          "base_uri": "https://localhost:8080/"
        },
        "id": "65CE1ZloIoR4",
        "outputId": "142fd66d-d59a-4a6c-fb4f-4342b968aa7c"
      },
      "execution_count": null,
      "outputs": [
        {
          "output_type": "stream",
          "name": "stdout",
          "text": [
            "Enter your age:5\n",
            "The ticket price is 5\n"
          ]
        }
      ]
    },
    {
      "cell_type": "markdown",
      "source": [
        "Чтобы сделать его более кратким, вы можете использовать альтернативный синтаксис, например:"
      ],
      "metadata": {
        "id": "_BwcZP5KK2IM"
      }
    },
    {
      "cell_type": "code",
      "source": [
        "ticket_price = 20 if int(age) >= 18 else 5\n",
        "print(f\"The ticket price is {ticket_price}\")"
      ],
      "metadata": {
        "colab": {
          "base_uri": "https://localhost:8080/"
        },
        "id": "vb5U2amcK2ws",
        "outputId": "79312c95-36a9-42b1-c148-120da69bfcdc"
      },
      "execution_count": null,
      "outputs": [
        {
          "output_type": "stream",
          "name": "stdout",
          "text": [
            "The ticket price is 5\n"
          ]
        }
      ]
    },
    {
      "cell_type": "markdown",
      "source": [
        "В этом утверждении левая часть оператора присваивания ( =) является переменной ticket_price.\n",
        "\n",
        "Выражение в правой части возвращает 20, если ageбольше или равно 18или 5нет.\n",
        "\n",
        "Следующий синтаксис называется тернарным оператором в Python:"
      ],
      "metadata": {
        "id": "cfo0VHdJLAJ3"
      }
    },
    {
      "cell_type": "markdown",
      "source": [
        "**condition ? value_if_true : value_if_false**\n",
        "\n",
        "\n",
        "\n"
      ],
      "metadata": {
        "id": "69TBfifwLBKe"
      }
    },
    {
      "cell_type": "markdown",
      "source": [
        "# Циклы"
      ],
      "metadata": {
        "id": "sCrycfPBLIAL"
      }
    },
    {
      "cell_type": "markdown",
      "source": [
        "Циклы позволяют выполнять некоторое действие в зависимости от соблюдения некоторого условия. В языке Python есть следующие типы циклов:\n",
        "\n",
        "* while\n",
        "\n",
        "* for\n"
      ],
      "metadata": {
        "id": "8X7vHjTwVqEw"
      }
    },
    {
      "cell_type": "markdown",
      "source": [
        "# Цикл while\n",
        "\n",
        "Цикл while проверяет истинность некоторого условия, и если условие истинно, то выполняет инструкции цикла. Он имеет следующее формальное определение:"
      ],
      "metadata": {
        "id": "v-yj2601Vt4_"
      }
    },
    {
      "cell_type": "markdown",
      "source": [
        "\n",
        "\n",
        "```\n",
        "while условное_выражение:\n",
        "   инструкции\n",
        "```\n",
        "\n"
      ],
      "metadata": {
        "id": "RlliRnTlVv0Q"
      }
    },
    {
      "cell_type": "markdown",
      "source": [
        "![222.png](data:image/png;base64,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)"
      ],
      "metadata": {
        "id": "Pb2k4pVeWpJ_"
      }
    },
    {
      "cell_type": "code",
      "source": [
        "number = 1\n",
        "\n",
        "while number < 5:\n",
        "    print(f\"number = {number}\")\n",
        "    number += 1\n",
        "print(\"Работа программы завершена\")"
      ],
      "metadata": {
        "colab": {
          "base_uri": "https://localhost:8080/"
        },
        "id": "jlSbPjEFWCVS",
        "outputId": "8e17c65c-830f-4937-de13-4b33edb54ad5"
      },
      "execution_count": null,
      "outputs": [
        {
          "output_type": "stream",
          "name": "stdout",
          "text": [
            "number = 1\n",
            "number = 2\n",
            "number = 3\n",
            "number = 4\n",
            "Работа программы завершена\n"
          ]
        }
      ]
    },
    {
      "cell_type": "markdown",
      "source": [
        "Для цикла while также можно определить дополнительный блок else, инструкции которого выполняются, когда условие равно False:"
      ],
      "metadata": {
        "id": "7x3vZlPaWDLv"
      }
    },
    {
      "cell_type": "code",
      "source": [
        "number = 1\n",
        "\n",
        "while number < 5:\n",
        "    print(f\"number = {number}\")\n",
        "    number += 1\n",
        "else:\n",
        "    print(f\"number = {number}. Работа цикла завершена\")\n",
        "print(\"Работа программы завершена\")"
      ],
      "metadata": {
        "colab": {
          "base_uri": "https://localhost:8080/"
        },
        "id": "N2azdCetWGh9",
        "outputId": "217f2143-c11e-4df9-9eaa-36781ad7e51c"
      },
      "execution_count": null,
      "outputs": [
        {
          "output_type": "stream",
          "name": "stdout",
          "text": [
            "number = 1\n",
            "number = 2\n",
            "number = 3\n",
            "number = 4\n",
            "number = 5. Работа цикла завершена\n",
            "Работа программы завершена\n"
          ]
        }
      ]
    },
    {
      "cell_type": "markdown",
      "source": [
        "# Цикл for\n",
        "\n",
        "Другой тип циклов представляет конструкция for. Этот цикл пробегается по набору значений, помещает каждое значение в переменную, и затем в цикле мы можем с этой переменной производить различные действия. Формальное определение цикла for:"
      ],
      "metadata": {
        "id": "Tc_WlKbGW95F"
      }
    },
    {
      "cell_type": "markdown",
      "source": [
        "\n",
        "\n",
        "```\n",
        "for переменная in набор_значений:\n",
        "    инструкции\n",
        "```\n",
        "\n"
      ],
      "metadata": {
        "id": "aa7JaI8sXEtI"
      }
    },
    {
      "cell_type": "markdown",
      "source": [
        "![33.png](data:image/png;base64,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)"
      ],
      "metadata": {
        "id": "ld68p8hVXJpJ"
      }
    },
    {
      "cell_type": "code",
      "source": [
        "for index in range(5):\n",
        "    print(index)"
      ],
      "metadata": {
        "colab": {
          "base_uri": "https://localhost:8080/"
        },
        "id": "6qcuh6EwXhCr",
        "outputId": "2371b7ac-ce18-4b2e-ce6a-2fdfa44e691f"
      },
      "execution_count": null,
      "outputs": [
        {
          "output_type": "stream",
          "name": "stdout",
          "text": [
            "0\n",
            "1\n",
            "2\n",
            "3\n",
            "4\n"
          ]
        }
      ]
    },
    {
      "cell_type": "markdown",
      "source": [
        "Цикл for также может иметь дополнительный блок else, который выполняется после завершения цикла:"
      ],
      "metadata": {
        "id": "1Zgp2XgpXbEi"
      }
    },
    {
      "cell_type": "code",
      "source": [
        "message = \"Hello\"\n",
        "for c in message:\n",
        "    print(c)\n",
        "else:\n",
        "    print(f\"Последний символ: {c}. Цикл завершен\");\n",
        "print(\"Работа программы завершена\")  # инструкция не имеет отступа, поэтому не относится к else"
      ],
      "metadata": {
        "colab": {
          "base_uri": "https://localhost:8080/"
        },
        "id": "hGaZr3zGXmIB",
        "outputId": "5e1be801-57e5-4686-8453-5b950f7dda82"
      },
      "execution_count": null,
      "outputs": [
        {
          "output_type": "stream",
          "name": "stdout",
          "text": [
            "H\n",
            "e\n",
            "l\n",
            "l\n",
            "o\n",
            "Последний символ: o. Цикл завершен\n",
            "Работа программы завершена\n"
          ]
        }
      ]
    },
    {
      "cell_type": "markdown",
      "source": [
        "## Вложенные циклы\n",
        "\n",
        "Одни циклы внутри себя могут содержать другие циклы. Рассмотрим на примере вывода таблицы умножения:"
      ],
      "metadata": {
        "id": "OvQPqNaJX12X"
      }
    },
    {
      "cell_type": "code",
      "source": [
        "i = 1\n",
        "j = 1\n",
        "while i < 10:\n",
        "    while j < 10:\n",
        "        print(i * j, end=\"\\t\")\n",
        "        j += 1\n",
        "    print(\"\\n\")\n",
        "    j = 1\n",
        "    i += 1"
      ],
      "metadata": {
        "colab": {
          "base_uri": "https://localhost:8080/"
        },
        "id": "hjY9FZZ6X3mW",
        "outputId": "2714564a-4310-427f-d610-65331b63dea8"
      },
      "execution_count": null,
      "outputs": [
        {
          "output_type": "stream",
          "name": "stdout",
          "text": [
            "1\t2\t3\t4\t5\t6\t7\t8\t9\t\n",
            "\n",
            "2\t4\t6\t8\t10\t12\t14\t16\t18\t\n",
            "\n",
            "3\t6\t9\t12\t15\t18\t21\t24\t27\t\n",
            "\n",
            "4\t8\t12\t16\t20\t24\t28\t32\t36\t\n",
            "\n",
            "5\t10\t15\t20\t25\t30\t35\t40\t45\t\n",
            "\n",
            "6\t12\t18\t24\t30\t36\t42\t48\t54\t\n",
            "\n",
            "7\t14\t21\t28\t35\t42\t49\t56\t63\t\n",
            "\n",
            "8\t16\t24\t32\t40\t48\t56\t64\t72\t\n",
            "\n",
            "9\t18\t27\t36\t45\t54\t63\t72\t81\t\n",
            "\n"
          ]
        }
      ]
    },
    {
      "cell_type": "markdown",
      "source": [
        "## Выход из цикла. break и continue\n",
        "\n",
        "Для управления циклом мы можем использовать специальные операторы break и continue. Оператор break осуществляет выход из цикла. А оператор continue выполняет переход к следующей итерации цикла.\n",
        "\n",
        "Оператор break может использоваться, если в цикле образуются условия, которые несовместимы с его дальнейшим выполнением. Рассмотрим следующий пример:"
      ],
      "metadata": {
        "id": "8CkfeyBOYBJ8"
      }
    },
    {
      "cell_type": "code",
      "source": [
        "number = 0\n",
        "while number < 5:\n",
        "    number += 1\n",
        "    if number == 3 :    # если number = 3, выходим из цикла\n",
        "        break\n",
        "    print(f\"number = {number}\")"
      ],
      "metadata": {
        "colab": {
          "base_uri": "https://localhost:8080/"
        },
        "id": "uvrBySIWYDHo",
        "outputId": "141ba64e-f590-4a1a-a78c-55ebea404889"
      },
      "execution_count": null,
      "outputs": [
        {
          "output_type": "stream",
          "name": "stdout",
          "text": [
            "number = 1\n",
            "number = 2\n"
          ]
        }
      ]
    },
    {
      "cell_type": "markdown",
      "source": [
        "В отличие от оператора break оператор continue выполняет переход к следующей итерации цикла без его завершения. Например, в предыдущем примере заменим break на continue:"
      ],
      "metadata": {
        "id": "TWbkhc4cYMfN"
      }
    },
    {
      "cell_type": "code",
      "source": [
        "number = 0\n",
        "while number < 5:\n",
        "    number += 1\n",
        "    if number == 3 :    # если number = 3, переходим к новой итерации цикла\n",
        "        continue\n",
        "    print(f\"number = {number}\")"
      ],
      "metadata": {
        "colab": {
          "base_uri": "https://localhost:8080/"
        },
        "id": "ZP4ypG-OYRxK",
        "outputId": "ea5e731f-8b63-4be9-a259-4d2f0d8ceb7c"
      },
      "execution_count": null,
      "outputs": [
        {
          "output_type": "stream",
          "name": "stdout",
          "text": [
            "number = 1\n",
            "number = 2\n",
            "number = 4\n",
            "number = 5\n"
          ]
        }
      ]
    },
    {
      "cell_type": "markdown",
      "source": [
        "# Функции"
      ],
      "metadata": {
        "id": "vKboTG1yawTU"
      }
    },
    {
      "cell_type": "markdown",
      "source": [
        "Функции представляют блок кода, который выполняет определенную задачу и который можно повторно использовать в других частях программы. В предыдущих статьях уже использовались функции. В частности, функция print(), которая выводит некоторое значение на консоль. Python имеет множество встроенных функций и позволяет определять свои функции. Формальное определение функции:"
      ],
      "metadata": {
        "id": "_1NyG0gDaxrV"
      }
    },
    {
      "cell_type": "markdown",
      "source": [
        "\n",
        "\n",
        "```\n",
        "def имя_функции ([параметры]):\n",
        "    инструкции\n",
        "```\n",
        "\n"
      ],
      "metadata": {
        "id": "3ViMijQoa0Gk"
      }
    },
    {
      "cell_type": "code",
      "source": [
        "def say_hello():\n",
        "    print(\"Hello\")\n",
        "\n",
        "say_hello()"
      ],
      "metadata": {
        "colab": {
          "base_uri": "https://localhost:8080/"
        },
        "id": "Cjpisd_8a-YL",
        "outputId": "b7f43a61-70af-4ab8-f044-2e1c8a6b5ad5"
      },
      "execution_count": null,
      "outputs": [
        {
          "output_type": "stream",
          "name": "stdout",
          "text": [
            "Hello\n"
          ]
        }
      ]
    },
    {
      "cell_type": "markdown",
      "source": [
        "Если функция имеет одну инструкцию, то ее можно разместить на одной строке с остальным определением функции:"
      ],
      "metadata": {
        "id": "GANUqwTsa4t7"
      }
    },
    {
      "cell_type": "code",
      "source": [
        "def say_hello(): print(\"Hello\")\n",
        "\n",
        "say_hello()"
      ],
      "metadata": {
        "colab": {
          "base_uri": "https://localhost:8080/"
        },
        "id": "k1nkUb5QbHZT",
        "outputId": "a60446ec-a2c7-4e31-d9e1-ebf3faa70960"
      },
      "execution_count": null,
      "outputs": [
        {
          "output_type": "stream",
          "name": "stdout",
          "text": [
            "Hello\n"
          ]
        }
      ]
    },
    {
      "cell_type": "markdown",
      "source": [
        "Подобным образом можно определять и вызывать и другие функции. Например, определим и выполним несколько функций:"
      ],
      "metadata": {
        "id": "7OkK4FOqbQBE"
      }
    },
    {
      "cell_type": "code",
      "source": [
        "def say_hello():\n",
        "    print(\"Hello\")\n",
        "\n",
        "\n",
        "def say_goodbye():\n",
        "    print(\"Good Bye\")\n",
        "\n",
        "\n",
        "say_hello()\n",
        "say_goodbye()"
      ],
      "metadata": {
        "colab": {
          "base_uri": "https://localhost:8080/"
        },
        "id": "QoAxFCs8bSlK",
        "outputId": "9ba68d16-73a9-4571-920b-1274f5568dfd"
      },
      "execution_count": null,
      "outputs": [
        {
          "output_type": "stream",
          "name": "stdout",
          "text": [
            "Hello\n",
            "Good Bye\n"
          ]
        }
      ]
    },
    {
      "cell_type": "markdown",
      "source": [
        "## Локальные функции\n",
        "\n",
        "Одни функции могут определяться внутри других функций - внутренние функции еще называют локальными. Локальные функции можно использовать только внутри той функции, в которой они определены. Например:"
      ],
      "metadata": {
        "id": "ER760uJfbVU6"
      }
    },
    {
      "cell_type": "code",
      "source": [
        "def print_messages():\n",
        "    # определение локальных функций\n",
        "    def say_hello(): print(\"Hello\")\n",
        "    def say_goodbye(): print(\"Good Bye\")\n",
        "    # вызов локальных функций\n",
        "    say_hello()\n",
        "    say_goodbye()\n",
        "\n",
        "# Вызов функции print_messages\n",
        "print_messages()\n",
        "\n",
        "#say_hello() # вне функции print_messages функция say_hello не доступна"
      ],
      "metadata": {
        "colab": {
          "base_uri": "https://localhost:8080/"
        },
        "id": "iaczMKfebaeM",
        "outputId": "5d5ab47f-63e2-47e8-f05a-d989159ffcbe"
      },
      "execution_count": null,
      "outputs": [
        {
          "output_type": "stream",
          "name": "stdout",
          "text": [
            "Hello\n",
            "Good Bye\n"
          ]
        }
      ]
    },
    {
      "cell_type": "markdown",
      "source": [
        "## Организация программы и функция main\n",
        "\n",
        "В программе может быть определено множество функций. И чтобы всех их упорядочить, одним из способов их организации является добавление специальной функции (обычно называется main), в которой потом уже вызываются другие функции:"
      ],
      "metadata": {
        "id": "FgzMTu8ObfRB"
      }
    },
    {
      "cell_type": "code",
      "source": [
        "def main():\n",
        "    say_hello()\n",
        "    say_goodbye()\n",
        "\n",
        "def say_hello():\n",
        "    print(\"Hello\")\n",
        "\n",
        "def say_goodbye():\n",
        "    print(\"Good Bye\")\n",
        "\n",
        "# Вызов функции main\n",
        "main()"
      ],
      "metadata": {
        "colab": {
          "base_uri": "https://localhost:8080/"
        },
        "id": "YfYo6g_Dbl4A",
        "outputId": "ec8223aa-d71e-4def-aca1-bd991c0cd4bf"
      },
      "execution_count": null,
      "outputs": [
        {
          "output_type": "stream",
          "name": "stdout",
          "text": [
            "Hello\n",
            "Good Bye\n"
          ]
        }
      ]
    },
    {
      "cell_type": "markdown",
      "source": [
        "## Параметры функции\n",
        "\n",
        "Функция может принимать параметры. Через параметры в функцию можно передавать данные. Банальный пример - функция print(), которая с помощью параметра принимает значение, выводимое на консоль.\n",
        "\n",
        "Теперь определим и используем свою функцию с параметрами:"
      ],
      "metadata": {
        "id": "_OORbyvcbpNq"
      }
    },
    {
      "cell_type": "code",
      "source": [
        "def say_hello(name):\n",
        "    print(f\"Hello, {name}\")\n",
        "\n",
        "say_hello(\"Adelina\")\n",
        "say_hello(\"Sabina\")\n",
        "say_hello(\"Amina\")"
      ],
      "metadata": {
        "colab": {
          "base_uri": "https://localhost:8080/"
        },
        "id": "BxsV_z_9b2km",
        "outputId": "f5d84fd9-183c-4cac-bbae-0079c5228d2c"
      },
      "execution_count": null,
      "outputs": [
        {
          "output_type": "stream",
          "name": "stdout",
          "text": [
            "Hello, Adelina\n",
            "Hello, Sabina\n",
            "Hello, Amina\n"
          ]
        }
      ]
    },
    {
      "cell_type": "markdown",
      "source": [
        "При вызове функции значения передаются параметрам по позиции. Например, определим и вызовем функцию с несколькими параметрами:"
      ],
      "metadata": {
        "id": "0xBKCTbBb_rL"
      }
    },
    {
      "cell_type": "code",
      "source": [
        "def print_person(name, age):\n",
        "    print(f\"Name: {name}\")\n",
        "    print(f\"Age: {age}\")\n",
        "\n",
        "print_person(\"Almazchik\", 18)"
      ],
      "metadata": {
        "colab": {
          "base_uri": "https://localhost:8080/"
        },
        "id": "H91A5fcpb_Qh",
        "outputId": "49142295-35e1-4956-eb75-82ae0eaea207"
      },
      "execution_count": null,
      "outputs": [
        {
          "output_type": "stream",
          "name": "stdout",
          "text": [
            "Name: Almazchik\n",
            "Age: 18\n"
          ]
        }
      ]
    },
    {
      "cell_type": "markdown",
      "source": [
        "## Значения по умолчанию\n",
        "\n",
        "Некоторые параметры функции мы можем сделать необязательными, указав для них значения по умолчанию при определении функции. Например:"
      ],
      "metadata": {
        "id": "lgCVMxrscOkh"
      }
    },
    {
      "cell_type": "code",
      "source": [
        "def say_hello(name=\"Alice\"):\n",
        "    print(f\"Hello, {name}\")\n",
        "\n",
        "say_hello()         # здесь параметр name будет иметь значение \"Alice\"\n",
        "say_hello(\"Laysan\")    # здесь name = \"Laysan\""
      ],
      "metadata": {
        "colab": {
          "base_uri": "https://localhost:8080/"
        },
        "id": "-z4MQPS-cTJw",
        "outputId": "923df32d-53e8-4a33-9e4c-eb3df45bbbf9"
      },
      "execution_count": null,
      "outputs": [
        {
          "output_type": "stream",
          "name": "stdout",
          "text": [
            "Hello, Alice\n",
            "Hello, Laysan\n"
          ]
        }
      ]
    },
    {
      "cell_type": "markdown",
      "source": [
        "Если функция имеет несколько параметров, то необязательные параметры должны идти после обязательных. Например:"
      ],
      "metadata": {
        "id": "80ZJFRsrcgh5"
      }
    },
    {
      "cell_type": "code",
      "source": [
        "def print_person(name, age = 18):\n",
        "    print(f\"Name: {name}  Age: {age}\")\n",
        "\n",
        "\n",
        "print_person(\"Alice\")\n",
        "print_person(\"Laysan\", 18)"
      ],
      "metadata": {
        "colab": {
          "base_uri": "https://localhost:8080/"
        },
        "id": "NNII7ZaxckM9",
        "outputId": "b6cf8ba4-cf40-4508-c131-8777740082d0"
      },
      "execution_count": null,
      "outputs": [
        {
          "output_type": "stream",
          "name": "stdout",
          "text": [
            "Name: Alice  Age: 18\n",
            "Name: Laysan  Age: 18\n"
          ]
        }
      ]
    },
    {
      "cell_type": "markdown",
      "source": [
        "При необходимости мы можем сделать все параметры необязательными:"
      ],
      "metadata": {
        "id": "bIVA_fArcuqG"
      }
    },
    {
      "cell_type": "code",
      "source": [
        "def print_person(name = \"Alice\", age = 18):\n",
        "    print(f\"Name: {name}  Age: {age}\")\n",
        "\n",
        "\n",
        "print_person()              # Name: Alice  Age: 18\n",
        "print_person(\"Laysan\")         # Name: Laysan  Age: 18\n",
        "print_person(\"Amina\", 19)     # Name: Amina  Age: 19"
      ],
      "metadata": {
        "colab": {
          "base_uri": "https://localhost:8080/"
        },
        "id": "DkXF9360cvSq",
        "outputId": "aa24dfe3-69ba-440d-f12b-631c19469aa7"
      },
      "execution_count": null,
      "outputs": [
        {
          "output_type": "stream",
          "name": "stdout",
          "text": [
            "Name: Alice  Age: 18\n",
            "Name: Laysan  Age: 18\n",
            "Name: Amina  Age: 19\n"
          ]
        }
      ]
    },
    {
      "cell_type": "markdown",
      "source": [
        "## Передача значений параметрам по имени. Именованные параметры\n",
        "\n",
        "\n",
        "В примерах выше при вызове функции значения передаются параметрами функции по позиции. Но также можно передавать значения параметрам по имени. Для этого при вызове функции указывается имя параметра и ему присваивается значение:\n",
        "\n"
      ],
      "metadata": {
        "id": "X9Idsouuc_f7"
      }
    },
    {
      "cell_type": "code",
      "source": [
        "def print_person(name, age):\n",
        "    print(f\"Name: {name}  Age: {age}\")\n",
        "\n",
        "print_person(age = 22, name = \"Muhammad\")"
      ],
      "metadata": {
        "colab": {
          "base_uri": "https://localhost:8080/"
        },
        "id": "QTaucHh5dCVd",
        "outputId": "2e80bab9-7fcd-4aac-de8b-58604d56f343"
      },
      "execution_count": null,
      "outputs": [
        {
          "output_type": "stream",
          "name": "stdout",
          "text": [
            "Name: Muhammad  Age: 22\n"
          ]
        }
      ]
    },
    {
      "cell_type": "markdown",
      "source": [
        "Символ * позволяет установить, какие параметры будут именнованными - то есть такие параметры, которым можно передать значения только по имени. Все параметры, которые располагаются справа от символа *, получают значения только по имени:"
      ],
      "metadata": {
        "id": "VGI_QqeZdP48"
      }
    },
    {
      "cell_type": "code",
      "source": [
        "def print_person(name, *,  age, company):\n",
        "    print(f\"Name: {name}  Age: {age}  Company: {company}\")\n",
        "\n",
        "print_person(\"Saphifiya\", age = 18, company =\"Vitacore\")    # Name: Saphifiya  Age: 18  company: Vitacore"
      ],
      "metadata": {
        "colab": {
          "base_uri": "https://localhost:8080/"
        },
        "id": "4RngkH5odQyg",
        "outputId": "3969902a-07cc-4e01-fc56-5fecc88827d1"
      },
      "execution_count": null,
      "outputs": [
        {
          "output_type": "stream",
          "name": "stdout",
          "text": [
            "Name: Saphifiya  Age: 18  Company: Vitacore\n"
          ]
        }
      ]
    },
    {
      "cell_type": "markdown",
      "source": [
        "Можно сделать все параметры именнованными, поставив перед списком параметров символ *:"
      ],
      "metadata": {
        "id": "XUwWg4IxdaoQ"
      }
    },
    {
      "cell_type": "code",
      "source": [
        "def print_person(*, name, age, company):\n",
        "    print(f\"Name: {name}  Age: {age}  Company: {company}\")\n",
        "\n",
        "print_person(name=\"Saphifiya\", age=18, company=\"Vitacore\")  # Name: Saphifiya  Age: 18  Company: Vitacore\n",
        "\n",
        "print_person(\"Saphifiya\", age=18, company=\"Vitacore\")  # Name: Saphifiya  Age: 18  Company: Vitacore"
      ],
      "metadata": {
        "colab": {
          "base_uri": "https://localhost:8080/",
          "height": 227
        },
        "id": "6598iYCsdeNW",
        "outputId": "b975b478-b8fd-4733-f213-f6772d6de443"
      },
      "execution_count": 5,
      "outputs": [
        {
          "output_type": "stream",
          "name": "stdout",
          "text": [
            "Name: Saphifiya  Age: 18  Company: Vitacore\n"
          ]
        },
        {
          "output_type": "error",
          "ename": "TypeError",
          "evalue": "print_person() takes 0 positional arguments but 1 positional argument (and 2 keyword-only arguments) were given",
          "traceback": [
            "\u001b[0;31m---------------------------------------------------------------------------\u001b[0m",
            "\u001b[0;31mTypeError\u001b[0m                                 Traceback (most recent call last)",
            "\u001b[0;32m<ipython-input-5-f84ef3428665>\u001b[0m in \u001b[0;36m<cell line: 6>\u001b[0;34m()\u001b[0m\n\u001b[1;32m      4\u001b[0m \u001b[0mprint_person\u001b[0m\u001b[0;34m(\u001b[0m\u001b[0mname\u001b[0m\u001b[0;34m=\u001b[0m\u001b[0;34m\"Saphifiya\"\u001b[0m\u001b[0;34m,\u001b[0m \u001b[0mage\u001b[0m\u001b[0;34m=\u001b[0m\u001b[0;36m18\u001b[0m\u001b[0;34m,\u001b[0m \u001b[0mcompany\u001b[0m\u001b[0;34m=\u001b[0m\u001b[0;34m\"Vitacore\"\u001b[0m\u001b[0;34m)\u001b[0m  \u001b[0;31m# Name: Saphifiya  Age: 18  Company: Vitacore\u001b[0m\u001b[0;34m\u001b[0m\u001b[0;34m\u001b[0m\u001b[0m\n\u001b[1;32m      5\u001b[0m \u001b[0;34m\u001b[0m\u001b[0m\n\u001b[0;32m----> 6\u001b[0;31m \u001b[0mprint_person\u001b[0m\u001b[0;34m(\u001b[0m\u001b[0;34m\"Saphifiya\"\u001b[0m\u001b[0;34m,\u001b[0m \u001b[0mage\u001b[0m\u001b[0;34m=\u001b[0m\u001b[0;36m18\u001b[0m\u001b[0;34m,\u001b[0m \u001b[0mcompany\u001b[0m\u001b[0;34m=\u001b[0m\u001b[0;34m\"Vitacore\"\u001b[0m\u001b[0;34m)\u001b[0m  \u001b[0;31m# Name: Saphifiya  Age: 18  Company: Vitacore\u001b[0m\u001b[0;34m\u001b[0m\u001b[0;34m\u001b[0m\u001b[0m\n\u001b[0m",
            "\u001b[0;31mTypeError\u001b[0m: print_person() takes 0 positional arguments but 1 positional argument (and 2 keyword-only arguments) were given"
          ]
        }
      ]
    },
    {
      "cell_type": "markdown",
      "source": [
        "Если наоборот надо определить параметры, которым можно передавать значения только по позиции, то есть позиционные параметры, то можно использовать символ /: все параметры, которые идут до символа / , являются позиционными и могут получать значения только по позиции"
      ],
      "metadata": {
        "id": "0a5b96R_fvIK"
      }
    },
    {
      "cell_type": "code",
      "source": [
        "def print_person(name, /, age, company=\"Microsoft\"):\n",
        "    print(f\"Name: {name}  Age: {age}  Company: {company}\")\n",
        "\n",
        "print_person(\"Bogdan\", company=\"JetBrains\", age = 24)     # Name: Bogdan  Age: 24  company: JetBrains\n",
        "print_person(\"Madina\", 19)                 # Name: Madina  Age: 19  company: Microsoft\n",
        "\n",
        "print_person(name=\"Laylo\", 17)                 # Name: Madina  Age: 41  company: Microsoft"
      ],
      "metadata": {
        "colab": {
          "base_uri": "https://localhost:8080/",
          "height": 140
        },
        "id": "btNURoagfvmt",
        "outputId": "3b4877dc-2509-4272-be09-7981d715ebc4"
      },
      "execution_count": 7,
      "outputs": [
        {
          "output_type": "error",
          "ename": "SyntaxError",
          "evalue": "positional argument follows keyword argument (<ipython-input-7-b2983ef0c004>, line 7)",
          "traceback": [
            "\u001b[0;36m  File \u001b[0;32m\"<ipython-input-7-b2983ef0c004>\"\u001b[0;36m, line \u001b[0;32m7\u001b[0m\n\u001b[0;31m    print_person(name=\"Laylo\", 17)                 # Name: Madina  Age: 41  company: Microsoft\u001b[0m\n\u001b[0m                                 ^\u001b[0m\n\u001b[0;31mSyntaxError\u001b[0m\u001b[0;31m:\u001b[0m positional argument follows keyword argument\n"
          ]
        }
      ]
    },
    {
      "cell_type": "markdown",
      "source": [
        "В данном случае параметр name является позиционным.\n",
        "\n",
        "Для одной функции можно определять одновременно позиционные и именнованные параметры."
      ],
      "metadata": {
        "id": "vsVySZXHf_1Z"
      }
    },
    {
      "cell_type": "code",
      "source": [
        "def print_person(name, /,  age = 18, *, company):\n",
        "    print(f\"Name: {name}  Age: {age}  Company: {company}\")\n",
        "\n",
        "\n",
        "print_person(\"Maryamchik\", company =\"Google\")               # Name: Maryamchik  Age: 18  company: Google\n",
        "print_person(\"Sabina\", 17, company =\"JetBrains\")        # Name: Sabina  Age: 17  company: JetBrains\n",
        "print_person(\"Amina\", company =\"Microsoft\", age = 19)  # Name: Amina  Age: 19  company: Microsoft"
      ],
      "metadata": {
        "colab": {
          "base_uri": "https://localhost:8080/"
        },
        "id": "01lbfn1-gDD3",
        "outputId": "bdd1f8a9-13cc-4947-a4a6-0d51aeff808f"
      },
      "execution_count": null,
      "outputs": [
        {
          "output_type": "stream",
          "name": "stdout",
          "text": [
            "Name: Maryamchik  Age: 18  Company: Google\n",
            "Name: Sabina  Age: 17  Company: JetBrains\n",
            "Name: Amina  Age: 19  Company: Microsoft\n"
          ]
        }
      ]
    },
    {
      "cell_type": "markdown",
      "source": [
        "**Неопределенное количество параметров**\n",
        "\n",
        "С помощью символа звездочки можно определить параметр, через который можно передавать неопределенное количество значений. Это может быть полезно, когда мы хотим, чтобы функция получала несколько значений, но мы точно не знаем, сколько именно. Например, определим функцию подсчета суммы чисел:"
      ],
      "metadata": {
        "id": "sCVSnCI1gTBO"
      }
    },
    {
      "cell_type": "code",
      "source": [
        "def sum(*numbers):\n",
        "    result = 0\n",
        "    for n in numbers:\n",
        "        result += n\n",
        "    print(f\"sum = {result}\")\n",
        "\n",
        "sum(1, 2, 3, 4, 5)      # sum = 15\n",
        "sum(3, 4, 5, 6)         # sum = 18"
      ],
      "metadata": {
        "colab": {
          "base_uri": "https://localhost:8080/"
        },
        "id": "4BYJKYGCgXVW",
        "outputId": "75cbdb44-1d35-44c1-c109-440798d41974"
      },
      "execution_count": null,
      "outputs": [
        {
          "output_type": "stream",
          "name": "stdout",
          "text": [
            "sum = 15\n",
            "sum = 18\n"
          ]
        }
      ]
    },
    {
      "cell_type": "markdown",
      "source": [
        "# Оператор return и возвращение результата из функции"
      ],
      "metadata": {
        "id": "xyaSybVphsWD"
      }
    },
    {
      "cell_type": "markdown",
      "source": [
        "## Возвращение результата\n",
        "\n",
        "Функция может возвращать результат. Для этого в функции используется оператор return, после которого указывается возвращаемое значение:"
      ],
      "metadata": {
        "id": "1tTL9G7tht5s"
      }
    },
    {
      "cell_type": "markdown",
      "source": [
        "\n",
        "\n",
        "```\n",
        "def имя_функции ([параметры]):\n",
        "    инструкции\n",
        "    return возвращаемое_значение\n",
        "```\n",
        "\n"
      ],
      "metadata": {
        "id": "Vg4zSkBohx6H"
      }
    },
    {
      "cell_type": "code",
      "source": [
        "def double(number):\n",
        "    return 2 * number\n",
        "\n",
        "result1 = double(4)     # result1 = 8\n",
        "result2 = double(5)     # result2 = 10\n",
        "print(f\"result1 = {result1}\")   # result1 = 8\n",
        "print(f\"result2 = {result2}\")   # result2 = 10"
      ],
      "metadata": {
        "colab": {
          "base_uri": "https://localhost:8080/"
        },
        "id": "3A4hxECAh_-Q",
        "outputId": "81b6f268-3c65-4d3f-8582-9a0834253bd2"
      },
      "execution_count": null,
      "outputs": [
        {
          "output_type": "stream",
          "name": "stdout",
          "text": [
            "result1 = 8\n",
            "result2 = 10\n"
          ]
        }
      ]
    },
    {
      "cell_type": "markdown",
      "source": [
        "Или другой пример - получение суммы чисел:"
      ],
      "metadata": {
        "id": "K_7TbDe-iD8U"
      }
    },
    {
      "cell_type": "code",
      "source": [
        "def sum(a, b):\n",
        "    return a + b\n",
        "\n",
        "\n",
        "result = sum(4, 6)                  # result = 0\n",
        "print(f\"sum(4, 6) = {result}\")      # sum(4, 6) = 10\n",
        "print(f\"sum(3, 5) = {sum(3, 5)}\")   # sum(3, 5) = 8"
      ],
      "metadata": {
        "colab": {
          "base_uri": "https://localhost:8080/"
        },
        "id": "57XhDPeWiEkb",
        "outputId": "f14cd3f6-6c33-4101-b668-84e0486ae4e1"
      },
      "execution_count": null,
      "outputs": [
        {
          "output_type": "stream",
          "name": "stdout",
          "text": [
            "sum(4, 6) = 10\n",
            "sum(3, 5) = 8\n"
          ]
        }
      ]
    },
    {
      "cell_type": "markdown",
      "source": [
        "## Выход из функции\n",
        "\n",
        "Оператор return не только возвращает значение, но и производит выход из функции. Поэтому он должен определяться после остальных инструкций. Например:"
      ],
      "metadata": {
        "id": "yPLa3lLuiK3W"
      }
    },
    {
      "cell_type": "code",
      "source": [
        "def get_message():\n",
        "    return \"Hello Madina!\"\n",
        "    print(\"End of the function\")\n",
        "\n",
        "print(get_message())"
      ],
      "metadata": {
        "colab": {
          "base_uri": "https://localhost:8080/"
        },
        "id": "sJjDH1pqiMwV",
        "outputId": "92ed2dd0-5295-4d2f-8b4b-0eec20dc9a9e"
      },
      "execution_count": null,
      "outputs": [
        {
          "output_type": "stream",
          "name": "stdout",
          "text": [
            "Hello Madina!\n"
          ]
        }
      ]
    },
    {
      "cell_type": "markdown",
      "source": [
        "Однако мы можем использовать оператор return и в таких функциях, которые не возвращают никакого значения. В этом случае после оператора return не ставится никакого возвращаемого значения. Типичная ситуация - в зависимости от опеределенных условий произвести выход из функции:"
      ],
      "metadata": {
        "id": "xbBp6VF9iZK9"
      }
    },
    {
      "cell_type": "code",
      "source": [
        "def print_person(name, age):\n",
        "    if age > 120 or age < 1:\n",
        "        print(\"Invalid age\")\n",
        "        return\n",
        "    print(f\"Name: {name}  Age: {age}\")\n",
        "\n",
        "\n",
        "print_person(\"Raisa\", 22)\n",
        "print_person(\"Vladislav\", -102)"
      ],
      "metadata": {
        "colab": {
          "base_uri": "https://localhost:8080/"
        },
        "id": "6g1RqHACiaAR",
        "outputId": "3c6f5561-122b-4183-8785-0aca9c60ad42"
      },
      "execution_count": null,
      "outputs": [
        {
          "output_type": "stream",
          "name": "stdout",
          "text": [
            "Name: Raisa  Age: 22\n",
            "Invalid age\n"
          ]
        }
      ]
    },
    {
      "cell_type": "markdown",
      "source": [
        "## Функция как тип, параметр и результат другой функции"
      ],
      "metadata": {
        "id": "BfzwIaRhh6QO"
      }
    },
    {
      "cell_type": "markdown",
      "source": [
        "В Python функция фактически представляет отдельный тип. Так мы можем присвоить переменной какую-нибудь функцию и затем, используя переменную, вызывать данную функцию. Например:"
      ],
      "metadata": {
        "id": "P8gLd0Enimdl"
      }
    },
    {
      "cell_type": "code",
      "source": [
        "def say_hello(): print(\"Hello\")\n",
        "def say_goodbye(): print(\"Good Bye\")\n",
        "\n",
        "message = say_hello\n",
        "message()       # Hello\n",
        "message = say_goodbye\n",
        "message()       # Good Bye"
      ],
      "metadata": {
        "colab": {
          "base_uri": "https://localhost:8080/"
        },
        "id": "VUWsvA0fipg_",
        "outputId": "3eba783a-3d72-4e79-b02f-1d818a040a7c"
      },
      "execution_count": null,
      "outputs": [
        {
          "output_type": "stream",
          "name": "stdout",
          "text": [
            "Hello\n",
            "Good Bye\n"
          ]
        }
      ]
    },
    {
      "cell_type": "markdown",
      "source": [
        "Подобным образом можно через переменную вызывать функцию с параметрами и возвращать ее результат:"
      ],
      "metadata": {
        "id": "vBG1_zNJiusi"
      }
    },
    {
      "cell_type": "code",
      "source": [
        "def sum(a, b): return a + b\n",
        "def multiply(a, b): return a * b\n",
        "\n",
        "operation = sum\n",
        "result = operation(5, 6)\n",
        "print(result)   # 11\n",
        "\n",
        "operation = multiply\n",
        "print(operation(5, 6))      # 30"
      ],
      "metadata": {
        "colab": {
          "base_uri": "https://localhost:8080/"
        },
        "id": "bYMpp3k_i89J",
        "outputId": "4944d350-e650-4c1d-9424-971e9af7a7ad"
      },
      "execution_count": null,
      "outputs": [
        {
          "output_type": "stream",
          "name": "stdout",
          "text": [
            "11\n",
            "30\n"
          ]
        }
      ]
    },
    {
      "cell_type": "markdown",
      "source": [
        "## Функция как параметр функции\n",
        "\n",
        "Поскольку функция в Python может представлять такое же значение как строка или число, соответственно мы можем передать ее в качестве параметра в другую функцию. Например, определим функцию, которая выводит на консоль результат некоторой операции:"
      ],
      "metadata": {
        "id": "i1OqgbAFjAQl"
      }
    },
    {
      "cell_type": "code",
      "source": [
        "def do_operation(a, b, operation):\n",
        "    result = operation(a, b)\n",
        "    print(f\"result = {result}\")\n",
        "\n",
        "def sum(a, b): return a + b\n",
        "def multiply(a, b): return a * b\n",
        "\n",
        "do_operation(5, 4, sum)         # result = 9\n",
        "do_operation(5, 4, multiply)   # result = 20"
      ],
      "metadata": {
        "colab": {
          "base_uri": "https://localhost:8080/"
        },
        "id": "hKvseP-ejFW0",
        "outputId": "5c11228e-e834-47a1-96a6-2915fc0b21ab"
      },
      "execution_count": null,
      "outputs": [
        {
          "output_type": "stream",
          "name": "stdout",
          "text": [
            "result = 9\n",
            "result = 20\n"
          ]
        }
      ]
    },
    {
      "cell_type": "markdown",
      "source": [
        "## Функция как результат функции\n",
        "\n",
        "Также одна функция в Python может возвращать другую функцию. Например, определим функцию, которая в зависимости от значения параметра возвращает ту или иную операцию:"
      ],
      "metadata": {
        "id": "rjF1yxgUjIRs"
      }
    },
    {
      "cell_type": "code",
      "source": [
        "def sum(a, b): return a + b\n",
        "def subtract(a, b): return a - b\n",
        "def multiply(a, b): return a * b\n",
        "\n",
        "\n",
        "def select_operation(choice):\n",
        "    if choice == 1:\n",
        "        return sum\n",
        "    elif choice == 2:\n",
        "        return subtract\n",
        "    else:\n",
        "        return multiply\n",
        "\n",
        "\n",
        "operation = select_operation(1)     # operation = sum\n",
        "print(operation(10, 6))             # 16\n",
        "\n",
        "operation = select_operation(2)     # operation = subtract\n",
        "print(operation(10, 6))             # 4\n",
        "\n",
        "operation = select_operation(3)     # operation = multiply\n",
        "print(operation(10, 6))             # 60"
      ],
      "metadata": {
        "colab": {
          "base_uri": "https://localhost:8080/"
        },
        "id": "Vz6fB_OKjU7y",
        "outputId": "5c2d74d4-62d0-4af6-e1b6-8cd00e68dbe9"
      },
      "execution_count": null,
      "outputs": [
        {
          "output_type": "stream",
          "name": "stdout",
          "text": [
            "16\n",
            "4\n",
            "60\n"
          ]
        }
      ]
    },
    {
      "cell_type": "markdown",
      "source": [
        "## Лямбда-выражения"
      ],
      "metadata": {
        "id": "g9TSxebkjgYa"
      }
    },
    {
      "cell_type": "markdown",
      "source": [
        "Лямбда-выражения в языке Python представляют небольшие анонимные функции, которые определяются с помощью оператора lambda. Формальное определение лямбда-выражения:"
      ],
      "metadata": {
        "id": "kfgM8apdjhlw"
      }
    },
    {
      "cell_type": "markdown",
      "source": [
        "\n",
        "\n",
        "```\n",
        "lambda [параметры] : инструкция\n",
        "```\n",
        "\n"
      ],
      "metadata": {
        "id": "1rDQWjNrjkoZ"
      }
    },
    {
      "cell_type": "markdown",
      "source": [
        "Определим простейшее лямбда-выражение:"
      ],
      "metadata": {
        "id": "JleIKw27joZ_"
      }
    },
    {
      "cell_type": "code",
      "source": [
        "message = lambda: print(\"hello\")\n",
        "\n",
        "message()   # hello"
      ],
      "metadata": {
        "colab": {
          "base_uri": "https://localhost:8080/"
        },
        "id": "7L3HCCPZjr0x",
        "outputId": "218505a6-4daa-47d4-d26f-8a1f753e8b6d"
      },
      "execution_count": null,
      "outputs": [
        {
          "output_type": "stream",
          "name": "stdout",
          "text": [
            "hello\n"
          ]
        }
      ]
    },
    {
      "cell_type": "markdown",
      "source": [
        "Если лямбда-выражение имеет параметры, то они определяются после ключевого слова lambda. Если лямбда-выражение возвращает какой-то результат, то он указывается после двоеточия. Например, определим лямбда-выражение, которое возвращает квадрат числа:"
      ],
      "metadata": {
        "id": "wIYj6R3RjukS"
      }
    },
    {
      "cell_type": "code",
      "source": [
        "square = lambda n: n * n\n",
        "\n",
        "print(square(4))    # 16\n",
        "print(square(5))    # 25"
      ],
      "metadata": {
        "colab": {
          "base_uri": "https://localhost:8080/"
        },
        "id": "XE9lXvetj0fd",
        "outputId": "b95ed097-f74f-4eae-ed9b-b1ee2144abb5"
      },
      "execution_count": null,
      "outputs": [
        {
          "output_type": "stream",
          "name": "stdout",
          "text": [
            "16\n",
            "25\n"
          ]
        }
      ]
    },
    {
      "cell_type": "markdown",
      "source": [
        "В данном случае лямбда-выражение принимает один параметр - n. Справа от двоеточия идет возвращаемое значение - n* n. Это лямбда-выражение аналогично следующей функции:"
      ],
      "metadata": {
        "id": "2CBeNbeSj3Mj"
      }
    },
    {
      "cell_type": "code",
      "source": [
        "def square2(n): return n * n\n",
        "\n",
        "print(square2(4))    # 16\n",
        "print(square2(5))    # 25"
      ],
      "metadata": {
        "colab": {
          "base_uri": "https://localhost:8080/"
        },
        "id": "clm9trf4kBIP",
        "outputId": "e9635b5d-44ff-4bab-a294-3d4975f570f9"
      },
      "execution_count": null,
      "outputs": [
        {
          "output_type": "stream",
          "name": "stdout",
          "text": [
            "16\n",
            "25\n"
          ]
        }
      ]
    },
    {
      "cell_type": "markdown",
      "source": [
        "Аналогичным образом можно создавать лямбда-выражения, которые принимают несколько параметров:"
      ],
      "metadata": {
        "id": "gLHW2mPGkFz8"
      }
    },
    {
      "cell_type": "code",
      "source": [
        "sum = lambda a, b: a + b\n",
        "\n",
        "print(sum(4, 5))    # 9\n",
        "print(sum(5, 6))    # 11"
      ],
      "metadata": {
        "colab": {
          "base_uri": "https://localhost:8080/"
        },
        "id": "VXh7Zve-kKJC",
        "outputId": "6dc7493a-3166-4230-86f2-f809a07c8486"
      },
      "execution_count": null,
      "outputs": [
        {
          "output_type": "stream",
          "name": "stdout",
          "text": [
            "9\n",
            "11\n"
          ]
        }
      ]
    },
    {
      "cell_type": "markdown",
      "source": [
        "Хотя лямбда-выражения позволяют немного сократить определения функций, тем не менее они ограничены тем, что они могут выполнять только одно выражение. Однако они могут быть довольно удобны в тех случаях, когда необходимо использовать функцию для передачи в качестве параметра или возвращения в другой функции. Например, передача лямбда-выражения в качестве параметра:"
      ],
      "metadata": {
        "id": "LJDrZMAQkQi3"
      }
    },
    {
      "cell_type": "code",
      "source": [
        "def do_operation(a, b, operation):\n",
        "    result = operation(a, b)\n",
        "    print(f\"result = {result}\")\n",
        "\n",
        "do_operation(5, 4, lambda a, b: a + b)  # result = 9\n",
        "do_operation(5, 4, lambda a, b: a * b)  # result = 20"
      ],
      "metadata": {
        "colab": {
          "base_uri": "https://localhost:8080/"
        },
        "id": "aKgYD6nTkRQQ",
        "outputId": "cabac494-e77d-4279-e2e7-e57253270f97"
      },
      "execution_count": null,
      "outputs": [
        {
          "output_type": "stream",
          "name": "stdout",
          "text": [
            "result = 9\n",
            "result = 20\n"
          ]
        }
      ]
    },
    {
      "cell_type": "markdown",
      "source": [
        "В данном случае нам нет необходимости определять функции, чтобы передать их в качестве параметра, как в прошлой статье.\n",
        "\n",
        "То же самое касается и возвращение лямбда-выражений из функций:"
      ],
      "metadata": {
        "id": "0v5TKe23kUNH"
      }
    },
    {
      "cell_type": "code",
      "source": [
        "def select_operation(choice):\n",
        "    if choice == 1:\n",
        "        return lambda a, b: a + b\n",
        "    elif choice == 2:\n",
        "        return lambda a, b: a - b\n",
        "    else:\n",
        "        return lambda a, b: a * b\n",
        "\n",
        "\n",
        "operation = select_operation(1)  # operation = sum\n",
        "print(operation(10, 6))  # 16\n",
        "\n",
        "operation = select_operation(2)  # operation = subtract\n",
        "print(operation(10, 6))  # 4\n",
        "\n",
        "operation = select_operation(3)  # operation = multiply\n",
        "print(operation(10, 6))  # 60"
      ],
      "metadata": {
        "colab": {
          "base_uri": "https://localhost:8080/"
        },
        "id": "UycSIs3EkXwP",
        "outputId": "c3e5c554-f8cb-45f7-e5c4-a6763d77da3b"
      },
      "execution_count": null,
      "outputs": [
        {
          "output_type": "stream",
          "name": "stdout",
          "text": [
            "16\n",
            "4\n",
            "60\n"
          ]
        }
      ]
    },
    {
      "cell_type": "markdown",
      "source": [
        "## Рекурсивные функции\n",
        "\n",
        " Рекурсивная функция в Python - это функция, которая вызывает саму себя в своем теле. Вот пример простой рекурсивной функции на Python, которая вычисляет факториал числа:"
      ],
      "metadata": {
        "id": "alKSOyLZk3oG"
      }
    },
    {
      "cell_type": "code",
      "source": [
        "def factorial(n):\n",
        "    if n == 0:\n",
        "        return 1\n",
        "    else:\n",
        "        return n * factorial(n-1)\n",
        "\n",
        "factorial(5)"
      ],
      "metadata": {
        "colab": {
          "base_uri": "https://localhost:8080/"
        },
        "id": "EPmR4JkdlB5Q",
        "outputId": "72815bda-acac-4cba-a224-66ea848f32aa"
      },
      "execution_count": null,
      "outputs": [
        {
          "output_type": "execute_result",
          "data": {
            "text/plain": [
              "120"
            ]
          },
          "metadata": {},
          "execution_count": 107
        }
      ]
    },
    {
      "cell_type": "markdown",
      "source": [
        "Функция для вычисления чисел Фибоначчи:"
      ],
      "metadata": {
        "id": "euxC1c74lYCd"
      }
    },
    {
      "cell_type": "code",
      "source": [
        "def fibonacci(n):\n",
        "    if n <= 1:\n",
        "        return n\n",
        "    else:\n",
        "        return fibonacci(n-1) + fibonacci(n-2)\n",
        "\n",
        "result = fibonacci(5)\n",
        "print(result)  # Выведет: 5"
      ],
      "metadata": {
        "colab": {
          "base_uri": "https://localhost:8080/"
        },
        "id": "fCaYCueQlYok",
        "outputId": "1e12811b-fe02-48dc-d5c8-d688ad0486b1"
      },
      "execution_count": null,
      "outputs": [
        {
          "output_type": "stream",
          "name": "stdout",
          "text": [
            "5\n"
          ]
        }
      ]
    },
    {
      "cell_type": "markdown",
      "source": [
        "Функция для вычисления возведения числа в степень:"
      ],
      "metadata": {
        "id": "DNVfplB1leeD"
      }
    },
    {
      "cell_type": "code",
      "source": [
        "def power(base, exp):\n",
        "    if exp == 0:\n",
        "        return 1\n",
        "    else:\n",
        "        return base * power(base, exp-1)\n",
        "\n",
        "result = power(2, 3)\n",
        "print(result)  # Выведет: 8"
      ],
      "metadata": {
        "colab": {
          "base_uri": "https://localhost:8080/"
        },
        "id": "3guy00l1lwTK",
        "outputId": "b0385a35-48bd-4c69-eb21-65bdd8266c8e"
      },
      "execution_count": null,
      "outputs": [
        {
          "output_type": "stream",
          "name": "stdout",
          "text": [
            "8\n"
          ]
        }
      ]
    },
    {
      "cell_type": "markdown",
      "source": [
        "Функция для нахождения наибольшего общего делителя (НОД) двух чисел:"
      ],
      "metadata": {
        "id": "lrgRuJ8Ql2tP"
      }
    },
    {
      "cell_type": "code",
      "source": [
        "def gcd(a, b):\n",
        "    if b == 0:\n",
        "        return a\n",
        "    else:\n",
        "        return gcd(b, a % b)\n",
        "\n",
        "result = gcd(24, 36)\n",
        "print(result)  # Выведет: 12"
      ],
      "metadata": {
        "colab": {
          "base_uri": "https://localhost:8080/"
        },
        "id": "-LIp95E-l6Tg",
        "outputId": "e2cd1aa9-46aa-4cb0-b01c-02a52c8978f3"
      },
      "execution_count": null,
      "outputs": [
        {
          "output_type": "stream",
          "name": "stdout",
          "text": [
            "12\n"
          ]
        }
      ]
    },
    {
      "cell_type": "markdown",
      "source": [
        "Функция для генерации всех перестановок строки:"
      ],
      "metadata": {
        "id": "YDDaQJAel_ZG"
      }
    },
    {
      "cell_type": "code",
      "source": [
        "def permutations(s):\n",
        "    if len(s) <= 1:\n",
        "        return [s]\n",
        "    else:\n",
        "        perms = []\n",
        "        for i in range(len(s)):\n",
        "            for perm in permutations(s[:i] + s[i+1:]):\n",
        "                perms.append(s[i] + perm)\n",
        "        return perms\n",
        "\n",
        "result = permutations(\"abc\")\n",
        "print(result)  # Выведет: ['abc', 'acb', 'bac', 'bca', 'cab', 'cba']"
      ],
      "metadata": {
        "colab": {
          "base_uri": "https://localhost:8080/"
        },
        "id": "ty1iu8eDmABP",
        "outputId": "9c6b828f-c5e7-4da8-d67d-392b36bc45b8"
      },
      "execution_count": null,
      "outputs": [
        {
          "output_type": "stream",
          "name": "stdout",
          "text": [
            "['abc', 'acb', 'bac', 'bca', 'cab', 'cba']\n"
          ]
        }
      ]
    },
    {
      "cell_type": "markdown",
      "source": [
        "## Область видимости переменных"
      ],
      "metadata": {
        "id": "xAyAHfHNmKwO"
      }
    },
    {
      "cell_type": "markdown",
      "source": [
        "Область видимости или scope определяет контекст переменной, в рамках которого ее можно использовать. В Python есть два типа контекста: глобальный и локальный.\n",
        "\n",
        "### Глобальный контекст\n",
        "\n",
        "Глобальный контекст подразумевает, что переменная является глобальной, она определена вне любой из функций и доступна любой функции в программе. Например:"
      ],
      "metadata": {
        "id": "vVVBXzsWmX1Z"
      }
    },
    {
      "cell_type": "code",
      "source": [
        "name = \"Tomiris\"\n",
        "\n",
        "\n",
        "def say_hi():\n",
        "    print(\"Hello\", name)\n",
        "\n",
        "\n",
        "def say_bye():\n",
        "    print(\"Good bye\", name)\n",
        "\n",
        "say_hi()\n",
        "say_bye()"
      ],
      "metadata": {
        "colab": {
          "base_uri": "https://localhost:8080/"
        },
        "id": "XQvEAqKNme2S",
        "outputId": "ea8b25e0-8b30-4562-f3be-8fa22a2f4780"
      },
      "execution_count": null,
      "outputs": [
        {
          "output_type": "stream",
          "name": "stdout",
          "text": [
            "Hello Tomiris\n",
            "Good bye Tomiris\n"
          ]
        }
      ]
    },
    {
      "cell_type": "markdown",
      "source": [
        "### Локальный контекст\n",
        "\n",
        "В отличие от глобальных переменных локальная переменная определяется внутри функции и доступна только из этой функции, то есть имеет локальную область видимости:"
      ],
      "metadata": {
        "id": "9HOPgdiTmh5i"
      }
    },
    {
      "cell_type": "code",
      "source": [
        "def say_hi():\n",
        "    name = \"Samira\"\n",
        "    surname = \"Johnson\"\n",
        "    print(\"Hello\", name, surname)\n",
        "\n",
        "\n",
        "def say_bye():\n",
        "    name = \"Tomiras\"\n",
        "    print(\"Good bye\", name)\n",
        "\n",
        "say_hi()\n",
        "say_bye()"
      ],
      "metadata": {
        "colab": {
          "base_uri": "https://localhost:8080/"
        },
        "id": "fJa36bnkmqSj",
        "outputId": "6623a3c7-0cf6-45db-e764-d589b5e01f28"
      },
      "execution_count": null,
      "outputs": [
        {
          "output_type": "stream",
          "name": "stdout",
          "text": [
            "Hello Samira Johnson\n",
            "Good bye Tomiras\n"
          ]
        }
      ]
    },
    {
      "cell_type": "markdown",
      "source": [
        "### Скрытие переменных\n",
        "\n",
        "Есть еще один вариант определения переменной, когда локальная переменная скрывают глобальную с тем же именем:"
      ],
      "metadata": {
        "id": "5yy5pJALmeNt"
      }
    },
    {
      "cell_type": "code",
      "source": [
        "name = \"Tomiras\"\n",
        "\n",
        "\n",
        "def say_hi():\n",
        "    name = \"Bobo\"        # скрываем значение глобальной переменной\n",
        "    print(\"Hello\", name)\n",
        "\n",
        "\n",
        "def say_bye():\n",
        "    print(\"Good bye\", name)\n",
        "\n",
        "\n",
        "say_hi()    # Hello Bobo\n",
        "say_bye()   # Good bye Tomiris"
      ],
      "metadata": {
        "colab": {
          "base_uri": "https://localhost:8080/"
        },
        "id": "6XTiutUimx4N",
        "outputId": "ba5030c9-735c-4123-b228-3cec45ca0a6c"
      },
      "execution_count": null,
      "outputs": [
        {
          "output_type": "stream",
          "name": "stdout",
          "text": [
            "Hello Bobo\n",
            "Good bye Tomiras\n"
          ]
        }
      ]
    },
    {
      "cell_type": "markdown",
      "source": [
        "Если же мы хотим изменить в локальной функции глобальную переменную, а не определить локальную, то необходимо использовать ключевое слово **global**:"
      ],
      "metadata": {
        "id": "UoT4EWuum6D5"
      }
    },
    {
      "cell_type": "code",
      "source": [
        "name = \"Mirzo\"\n",
        "\n",
        "\n",
        "def say_hi():\n",
        "    global  name\n",
        "    name = \"Bobur\"        # изменяем значение глобальной переменной\n",
        "    print(\"Hello\", name)\n",
        "\n",
        "\n",
        "def say_bye():\n",
        "    print(\"Good bye\", name)\n",
        "\n",
        "\n",
        "say_hi()    # Hello Bobur\n",
        "say_bye()   # Good bye Bobur"
      ],
      "metadata": {
        "colab": {
          "base_uri": "https://localhost:8080/"
        },
        "id": "i_tqYuvsm-eW",
        "outputId": "e5d49e4a-a7fd-4ac7-ce14-64ff8dd90dd5"
      },
      "execution_count": null,
      "outputs": [
        {
          "output_type": "stream",
          "name": "stdout",
          "text": [
            "Hello Bobur\n",
            "Good bye Bobur\n"
          ]
        }
      ]
    },
    {
      "cell_type": "markdown",
      "source": [
        "### nonlocal\n",
        "Выражение **nonlocal** прикрепляет идентификатор к переменной из ближайщего окружающего контекста (за исключением глобального контекста). Обычно **nonlocal** применяется во вложенных функциях, когда надо прикрепить идентификатор за переменной или параметром окружающей внешней функции. Рассмотрим ситуацию, где это выражение может пригодиться:"
      ],
      "metadata": {
        "id": "-AhbWIganK64"
      }
    },
    {
      "cell_type": "code",
      "source": [
        "def outer():  # внешняя функция\n",
        "    n = 5\n",
        "\n",
        "    def inner():    # вложенная функция\n",
        "        print(n)\n",
        "\n",
        "    inner()     # 5\n",
        "    print(n)\n",
        "\n",
        "\n",
        "outer()     # 5"
      ],
      "metadata": {
        "colab": {
          "base_uri": "https://localhost:8080/"
        },
        "id": "uzkgufysnPCU",
        "outputId": "50d6f11f-aae9-4877-ccf0-1762d907cc07"
      },
      "execution_count": null,
      "outputs": [
        {
          "output_type": "stream",
          "name": "stdout",
          "text": [
            "5\n",
            "5\n"
          ]
        }
      ]
    },
    {
      "cell_type": "markdown",
      "source": [
        "Теперь возьмем другую ситуацию, когда вложенная функция присваивает значение переменной:"
      ],
      "metadata": {
        "id": "laTQcaHQnbSZ"
      }
    },
    {
      "cell_type": "code",
      "source": [
        "def outer():  # внешняя функция\n",
        "    n = 5\n",
        "\n",
        "    def inner():    # вложенная функция\n",
        "        n = 25\n",
        "        print(n)\n",
        "\n",
        "    inner()     # 25\n",
        "    print(n)\n",
        "\n",
        "\n",
        "outer()     # 5\n",
        "# 25    - inner\n",
        "# 5     - outer"
      ],
      "metadata": {
        "colab": {
          "base_uri": "https://localhost:8080/"
        },
        "id": "8a1tLw0lnbzP",
        "outputId": "3690466f-30ce-4b69-cd23-cc63721cb540"
      },
      "execution_count": null,
      "outputs": [
        {
          "output_type": "stream",
          "name": "stdout",
          "text": [
            "25\n",
            "5\n"
          ]
        }
      ]
    },
    {
      "cell_type": "markdown",
      "source": [
        "Чтобы во вложенной функции указать, что идентификатор во вложенной функции будет представлять переменную из окружающей функции, применяется выражение nonlocal:"
      ],
      "metadata": {
        "id": "7BCuL0YjnipS"
      }
    },
    {
      "cell_type": "code",
      "source": [
        "def outer():  # внешняя функция\n",
        "    n = 5\n",
        "\n",
        "    def inner():    # вложенная функция\n",
        "        nonlocal n  # указываем, что n - это переменная из окружающей функции\n",
        "        n = 25\n",
        "        print(n)\n",
        "\n",
        "    inner()     # 25\n",
        "    print(n)\n",
        "\n",
        "\n",
        "outer()          # 25"
      ],
      "metadata": {
        "colab": {
          "base_uri": "https://localhost:8080/"
        },
        "id": "O9ErsbsvnnrQ",
        "outputId": "c7321919-8bfa-422e-bfc1-c194cb19d009"
      },
      "execution_count": null,
      "outputs": [
        {
          "output_type": "stream",
          "name": "stdout",
          "text": [
            "25\n",
            "25\n"
          ]
        }
      ]
    },
    {
      "cell_type": "markdown",
      "source": [
        "## Замыкания"
      ],
      "metadata": {
        "id": "awdSiI_KnqeG"
      }
    },
    {
      "cell_type": "markdown",
      "source": [
        "Замыкание (closure) представляет функцию, которая запоминает свое лексическое окружение даже в том случае, когда она выполняется вне своей области видимости.\n",
        "\n",
        "Технически замыкание включает три компонента:\n",
        "\n",
        "* внешняя функция, которая определяет некоторую область видимости и в которой определены некоторые переменные и параметры - лексическое окружение\n",
        "\n",
        "*  переменные и параметры (лексическое окружение), которые определены во внешней функции\n",
        "\n",
        "*  вложенная функция, которая использует переменные и параметры внешней функции\n",
        "\n",
        "Для определения замыканий в Python применяются локальные функции:"
      ],
      "metadata": {
        "id": "jauhSYKfnxYy"
      }
    },
    {
      "cell_type": "code",
      "source": [
        "def outer():        # внешняя функция\n",
        "    n = 5           # лексическое окружение - локальная переменная\n",
        "\n",
        "    def inner():      # локальная функция\n",
        "        nonlocal n\n",
        "        n += 1        # операции с лексическим окружением\n",
        "        print(n)\n",
        "\n",
        "    return inner\n",
        "\n",
        "\n",
        "fn = outer()   # fn = inner, так как функция outer возвращает функцию inner\n",
        "# вызываем внутреннюю функцию inner\n",
        "fn()    # 6\n",
        "fn()    # 7\n",
        "fn()    # 8"
      ],
      "metadata": {
        "colab": {
          "base_uri": "https://localhost:8080/"
        },
        "id": "_6-RlH_An7u4",
        "outputId": "f5e308f4-f7ab-4ee7-c3ba-a1e70e83657c"
      },
      "execution_count": null,
      "outputs": [
        {
          "output_type": "stream",
          "name": "stdout",
          "text": [
            "6\n",
            "7\n",
            "8\n"
          ]
        }
      ]
    },
    {
      "cell_type": "markdown",
      "source": [
        "## Применение параметров\n",
        "\n",
        "Кроме внешних переменных к лексическому окружению также относятся параметры окружающей функции. Рассмотрим использование параметров:"
      ],
      "metadata": {
        "id": "BwVRtfl9oHcm"
      }
    },
    {
      "cell_type": "code",
      "source": [
        "def multiply(n):\n",
        "    def inner(m): return n * m\n",
        "\n",
        "    return inner\n",
        "\n",
        "\n",
        "fn = multiply(5)\n",
        "print(fn(5))        # 25\n",
        "print(fn(6))        # 30\n",
        "print(fn(7))        # 35"
      ],
      "metadata": {
        "colab": {
          "base_uri": "https://localhost:8080/"
        },
        "id": "MH09dLSroJlc",
        "outputId": "3b202193-dd67-483d-a4f3-99b8e5b95fea"
      },
      "execution_count": null,
      "outputs": [
        {
          "output_type": "stream",
          "name": "stdout",
          "text": [
            "25\n",
            "30\n",
            "35\n"
          ]
        }
      ]
    },
    {
      "cell_type": "markdown",
      "source": [
        "Также можно было бы сократить этот код с помощью лямбд:"
      ],
      "metadata": {
        "id": "1tXAisjFoQDW"
      }
    },
    {
      "cell_type": "code",
      "source": [
        "def multiply(n): return lambda m: n * m\n",
        "\n",
        "\n",
        "fn = multiply(5)\n",
        "print(fn(5))        # 25\n",
        "print(fn(6))        # 30\n",
        "print(fn(7))        # 35"
      ],
      "metadata": {
        "colab": {
          "base_uri": "https://localhost:8080/"
        },
        "id": "1wAitx6loTQe",
        "outputId": "b60ff12e-45de-478f-85da-8c90c5d8ed83"
      },
      "execution_count": null,
      "outputs": [
        {
          "output_type": "stream",
          "name": "stdout",
          "text": [
            "25\n",
            "30\n",
            "35\n"
          ]
        }
      ]
    },
    {
      "cell_type": "markdown",
      "source": [
        "# Декораторы"
      ],
      "metadata": {
        "id": "5EWzDWgOn23F"
      }
    },
    {
      "cell_type": "markdown",
      "source": [
        "**Декораторы** в Python представляют функцию, которая в качестве параметра получает функцию и в качестве результата также возвращает функцию. Декораторы позволяют модифицировать выполняемую функцию, значения ее параметров и ее результат без изменения исходного кода этой функции.\n",
        "\n",
        "Рассмотрим простейший пример:"
      ],
      "metadata": {
        "id": "amGR7HtVoqFr"
      }
    },
    {
      "cell_type": "code",
      "source": [
        "# определение функции декоратора\n",
        "def select(input_func):\n",
        "    def output_func():      # определяем функцию, которая будет выполняться вместо оригинальной\n",
        "        print(\"*****************\")  # перед выводом оригинальной функции выводим всякую звездочки\n",
        "        input_func()                # вызов оригинальной функции\n",
        "        print(\"*****************\")  # после вывода оригинальной функции выводим всякую звездочки\n",
        "    return output_func     # возвращаем новую функцию\n",
        "\n",
        "# определение оригинальной функции\n",
        "@select         # применение декоратора select\n",
        "def hello():\n",
        "    print(\"Hello Maryamchik!\")\n",
        "\n",
        "# вызов оригинальной функции\n",
        "hello()"
      ],
      "metadata": {
        "colab": {
          "base_uri": "https://localhost:8080/"
        },
        "id": "EptBpjqvorsS",
        "outputId": "fd36da0f-7b3a-4719-8253-761d5cc8cb29"
      },
      "execution_count": null,
      "outputs": [
        {
          "output_type": "stream",
          "name": "stdout",
          "text": [
            "*****************\n",
            "Hello Maryamchik\n",
            "*****************\n"
          ]
        }
      ]
    },
    {
      "cell_type": "markdown",
      "source": [
        "## Получение параметров функции в декораторе\n",
        "\n",
        "Декоратор может перехватывать передаваемые в функцию аргументы:"
      ],
      "metadata": {
        "id": "ouHRsItQpTXQ"
      }
    },
    {
      "cell_type": "code",
      "source": [
        "# определение функции декоратора\n",
        "def check(input_func):\n",
        "    def output_func(*args):      # через *args получаем значения параметров оригинальной функции\n",
        "        input_func(*args)                # вызов оригинальной функции\n",
        "    return output_func     # возвращаем новую функцию\n",
        "\n",
        "# определение оригинальной функции\n",
        "@check\n",
        "def print_person(name, age):\n",
        "    print(f\"Name: {name}  Age: {age}\")\n",
        "\n",
        "# вызов оригинальной функции\n",
        "print_person(\"Salmon\", 18)"
      ],
      "metadata": {
        "colab": {
          "base_uri": "https://localhost:8080/"
        },
        "id": "FzZXqWEgpZQu",
        "outputId": "c7fe3fec-78b1-4b46-cd49-ee55d75d7e2b"
      },
      "execution_count": null,
      "outputs": [
        {
          "output_type": "stream",
          "name": "stdout",
          "text": [
            "Name: Salmon  Age: 18\n"
          ]
        }
      ]
    },
    {
      "cell_type": "markdown",
      "source": [
        "Но что, если в функцию print_person будет передано какое-то недопустимое значение, например, отрицательный возраст? Одним из преимуществ декораторов как раз является то, что мы можем проверить и при необходимости модифицировать значения параметров. Например:"
      ],
      "metadata": {
        "id": "PJ5TXPLbpj-B"
      }
    },
    {
      "cell_type": "code",
      "source": [
        "# определение функции декоратора\n",
        "def check(input_func):\n",
        "    def output_func(*args):\n",
        "        name = args[0]\n",
        "        age = args[1]           # получаем значение второго параметра\n",
        "        if age < 0: age = 1     # если возраст отрицательный, изменяем его значение на 1\n",
        "        input_func(name, age)   # передаем функции значения для параметров\n",
        "    return output_func\n",
        "\n",
        "# определение оригинальной функции\n",
        "@check\n",
        "def print_person(name, age):\n",
        "    print(f\"Name: {name}  Age: {age}\")\n",
        "\n",
        "# вызов оригинальной функции\n",
        "print_person(\"Salmon\", 38)\n",
        "print_person(\"Kurbon\", -5)"
      ],
      "metadata": {
        "colab": {
          "base_uri": "https://localhost:8080/"
        },
        "id": "gOg3vff6poF5",
        "outputId": "93302f37-ce4e-429f-e8ba-ef553f6e5c85"
      },
      "execution_count": null,
      "outputs": [
        {
          "output_type": "stream",
          "name": "stdout",
          "text": [
            "Name: Salmon  Age: 38\n",
            "Name: Kurbon  Age: 1\n"
          ]
        }
      ]
    },
    {
      "cell_type": "markdown",
      "source": [
        "## Получение результата функции\n",
        "\n",
        "Подобным образом можно получить результат функции и при необходимости изменить его:"
      ],
      "metadata": {
        "id": "7Sn45G9Hpv1W"
      }
    },
    {
      "cell_type": "code",
      "source": [
        "# определение функции декоратора\n",
        "def check(input_func):\n",
        "    def output_func(*args):\n",
        "        result = input_func(*args)   # передаем функции значения для параметров\n",
        "        if result < 0: result = 0   # если результат функции меньше нуля, то возвращаем 0\n",
        "        return result\n",
        "    return output_func\n",
        "\n",
        "# определение оригинальной функции\n",
        "@check\n",
        "def sum(a, b):\n",
        "    return a + b\n",
        "\n",
        "# вызов оригинальной функции\n",
        "result1 = sum(10, 20)\n",
        "print(result1)          # 30\n",
        "\n",
        "result2 = sum(10, -20)\n",
        "print(result2)          # 0"
      ],
      "metadata": {
        "colab": {
          "base_uri": "https://localhost:8080/"
        },
        "id": "n9Myn39wp0BN",
        "outputId": "268e7e7b-21c0-4317-d7c7-7a8a63656442"
      },
      "execution_count": null,
      "outputs": [
        {
          "output_type": "stream",
          "name": "stdout",
          "text": [
            "30\n",
            "0\n"
          ]
        }
      ]
    },
    {
      "cell_type": "markdown",
      "source": [
        "## Строки документации (docstrings)\n",
        "\n",
        "Строки документации (docstrings) в Python - это строки, которые идут сразу после заголовка функции или модуля и содержат описание функции, модуля или класса. Они используются для создания документации к коду и обеспечивают информацию о том, как использовать функцию или модуль.\n",
        "\n",
        "Вот пример строки документации для функции:"
      ],
      "metadata": {
        "id": "KauNdtClqKSO"
      }
    },
    {
      "cell_type": "code",
      "source": [
        "def greet(name):\n",
        "    \"\"\"\n",
        "    Приветствует пользователя по имени.\n",
        "\n",
        "    Args:\n",
        "        name (str): Имя пользователя.\n",
        "\n",
        "    Returns:\n",
        "        str: Строка приветствия.\n",
        "\n",
        "    Example:\n",
        "        >>> greet(\"Alice\")\n",
        "        'Привет, Alice! Как дела?'\n",
        "    \"\"\"\n",
        "    return f\"Привет, {name}! Как дела?\"\n"
      ],
      "metadata": {
        "id": "aY90hqdNqPSs"
      },
      "execution_count": null,
      "outputs": []
    },
    {
      "cell_type": "markdown",
      "source": [
        "В этом примере строка документации находится между тройными кавычками (\"\"\") и содержит описание функции, аргументов, возвращаемого значения и пример использования.\n",
        "\n",
        "Строки документации могут быть извлечены с помощью встроенной функции help() или доступны в виде атрибута __doc__ объекта функции."
      ],
      "metadata": {
        "id": "Z1xMiOrwqUNT"
      }
    },
    {
      "cell_type": "code",
      "source": [
        "print(greet.__doc__)  # Выводит строку документации для функции greet"
      ],
      "metadata": {
        "colab": {
          "base_uri": "https://localhost:8080/"
        },
        "id": "SIwAZrjuqbXY",
        "outputId": "eb2b329e-9e0b-46a5-b5cd-7f1b6a612c3c"
      },
      "execution_count": null,
      "outputs": [
        {
          "output_type": "stream",
          "name": "stdout",
          "text": [
            "\n",
            "    Приветствует пользователя по имени.\n",
            "\n",
            "    Args:\n",
            "        name (str): Имя пользователя.\n",
            "\n",
            "    Returns:\n",
            "        str: Строка приветствия.\n",
            "\n",
            "    Example:\n",
            "        >>> greet(\"Alice\")\n",
            "        'Привет, Alice! Как дела?'\n",
            "    \n"
          ]
        }
      ]
    },
    {
      "cell_type": "code",
      "source": [
        "help(greet)  # Выводит документацию для функции greet"
      ],
      "metadata": {
        "colab": {
          "base_uri": "https://localhost:8080/"
        },
        "id": "ZidRqWS9qlyC",
        "outputId": "c67d7a14-d439-4590-b894-710eaf1c55f7"
      },
      "execution_count": null,
      "outputs": [
        {
          "output_type": "stream",
          "name": "stdout",
          "text": [
            "Help on function greet in module __main__:\n",
            "\n",
            "greet(name)\n",
            "    Приветствует пользователя по имени.\n",
            "    \n",
            "    Args:\n",
            "        name (str): Имя пользователя.\n",
            "    \n",
            "    Returns:\n",
            "        str: Строка приветствия.\n",
            "    \n",
            "    Example:\n",
            "        >>> greet(\"Alice\")\n",
            "        'Привет, Alice! Как дела?'\n",
            "\n"
          ]
        }
      ]
    },
    {
      "cell_type": "markdown",
      "source": [
        "# python code style conventions\n",
        "1) [PEP 8 – Style Guide for Python Code](https://peps.python.org/pep-0008/)\n",
        "\n",
        "\n",
        "2) [Google Python Style Guide](https://google.github.io/styleguide/pyguide.html)\n",
        "\n"
      ],
      "metadata": {
        "id": "lDTg47IvkOhc"
      }
    },
    {
      "cell_type": "markdown",
      "source": [
        "### Задачники\n",
        "\n",
        "https://informatics.msk.ru/\n",
        "\n",
        "https://codeforces.com/\n"
      ],
      "metadata": {
        "id": "woRNDv-3wCyX"
      }
    }
  ]
}