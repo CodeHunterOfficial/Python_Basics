{
  "nbformat": 4,
  "nbformat_minor": 0,
  "metadata": {
    "colab": {
      "provenance": [],
      "authorship_tag": "ABX9TyO4KWm0eRcCoGc34PqtmgHC",
      "include_colab_link": true
    },
    "kernelspec": {
      "name": "python3",
      "display_name": "Python 3"
    },
    "language_info": {
      "name": "python"
    }
  },
  "cells": [
    {
      "cell_type": "markdown",
      "metadata": {
        "id": "view-in-github",
        "colab_type": "text"
      },
      "source": [
        "<a href=\"https://colab.research.google.com/github/CodeHunterOfficial/Python_Basics/blob/main/Lecture_1_%D0%9E%D1%81%D0%BD%D0%BE%D0%B2%D1%8B_Python.ipynb\" target=\"_parent\"><img src=\"https://colab.research.google.com/assets/colab-badge.svg\" alt=\"Open In Colab\"/></a>"
      ]
    },
    {
      "cell_type": "markdown",
      "source": [
        "# Основы Python"
      ],
      "metadata": {
        "id": "uu6zbikjq0EN"
      }
    },
    {
      "cell_type": "markdown",
      "source": [
        "# Ввод и вывод данных"
      ],
      "metadata": {
        "id": "HrnJ1u5hg2Ni"
      }
    },
    {
      "cell_type": "markdown",
      "source": [
        "### Вывод данных. Функция print()\n",
        "Что такое функция в программировании, узнаем позже. Пока будем считать, что print() – это такая команда языка Python, которая выводит то, что в ее скобках на экран."
      ],
      "metadata": {
        "id": "vpYSDARlg6MH"
      }
    },
    {
      "cell_type": "markdown",
      "source": [
        "Example 1: Python Print Statement"
      ],
      "metadata": {
        "id": "vXbj9bYrh3FO"
      }
    },
    {
      "cell_type": "code",
      "source": [
        "print('Good Morning!')\n",
        "print('It is rainy today')"
      ],
      "metadata": {
        "id": "DwlQHT4wh4MJ",
        "outputId": "a0863689-a1b4-4171-bd8e-a011026dc7d9",
        "colab": {
          "base_uri": "https://localhost:8080/"
        }
      },
      "execution_count": 4,
      "outputs": [
        {
          "output_type": "stream",
          "name": "stdout",
          "text": [
            "Good Morning!\n",
            "It is rainy today\n"
          ]
        }
      ]
    },
    {
      "cell_type": "markdown",
      "source": [
        "Example 2: Python print() with end Parameter"
      ],
      "metadata": {
        "id": "NQGMzyRHh_Wt"
      }
    },
    {
      "cell_type": "code",
      "source": [
        "# print with end whitespace\n",
        "print('Good Morning!', end= ' ')\n",
        "\n",
        "print('It is rainy today')"
      ],
      "metadata": {
        "id": "I0n0BEhiiAFT",
        "outputId": "811b4c7e-0ef5-402f-ba53-ec92b92e1fd7",
        "colab": {
          "base_uri": "https://localhost:8080/"
        }
      },
      "execution_count": 5,
      "outputs": [
        {
          "output_type": "stream",
          "name": "stdout",
          "text": [
            "Good Morning! It is rainy today\n"
          ]
        }
      ]
    },
    {
      "cell_type": "markdown",
      "source": [
        "Example 3: Python print() with sep parameter"
      ],
      "metadata": {
        "id": "g0onF3rpiCoo"
      }
    },
    {
      "cell_type": "code",
      "source": [
        "print('New Year', 2023, 'See you soon!', sep= '. ')"
      ],
      "metadata": {
        "id": "J_srLVWtiF3t",
        "outputId": "29e88074-8f0d-4841-b713-4aa6a53d697b",
        "colab": {
          "base_uri": "https://localhost:8080/"
        }
      },
      "execution_count": 6,
      "outputs": [
        {
          "output_type": "stream",
          "name": "stdout",
          "text": [
            "New Year. 2023. See you soon!\n"
          ]
        }
      ]
    },
    {
      "cell_type": "markdown",
      "source": [
        "Example 4: Print Python Variables and Literals"
      ],
      "metadata": {
        "id": "x0O2QiEHiIDa"
      }
    },
    {
      "cell_type": "code",
      "source": [
        "number = -10.6\n",
        "\n",
        "name = \"Programiz\"\n",
        "\n",
        "# print literals\n",
        "print(5)\n",
        "\n",
        "# print variables\n",
        "print(number)\n",
        "print(name)"
      ],
      "metadata": {
        "id": "5W2SpOGpiNP_",
        "outputId": "da9efbe4-9467-4312-e7e0-6f3cd30f1e9b",
        "colab": {
          "base_uri": "https://localhost:8080/"
        }
      },
      "execution_count": 7,
      "outputs": [
        {
          "output_type": "stream",
          "name": "stdout",
          "text": [
            "5\n",
            "-10.6\n",
            "Programiz\n"
          ]
        }
      ]
    },
    {
      "cell_type": "markdown",
      "source": [
        "Example 5: Print Concatenated Strings"
      ],
      "metadata": {
        "id": "dgLRhGM6h7a2"
      }
    },
    {
      "cell_type": "code",
      "source": [
        "print('Programiz is ' + 'awesome.')"
      ],
      "metadata": {
        "id": "TMrhEWsticor",
        "outputId": "2c6b41b1-5867-40dd-f745-8d0d3be3bd0a",
        "colab": {
          "base_uri": "https://localhost:8080/"
        }
      },
      "execution_count": 8,
      "outputs": [
        {
          "output_type": "stream",
          "name": "stdout",
          "text": [
            "Programiz is awesome.\n"
          ]
        }
      ]
    },
    {
      "cell_type": "markdown",
      "source": [
        "Example 6: Output formatting"
      ],
      "metadata": {
        "id": "OnVpw7s1iehU"
      }
    },
    {
      "cell_type": "code",
      "source": [
        "x = 5\n",
        "y = 10\n",
        "\n",
        "print('The value of x is {} and y is {}'.format(x,y))"
      ],
      "metadata": {
        "id": "W5PjAaaOitnq",
        "outputId": "5d7d4d53-31fb-4631-e65c-5cda641d6a6a",
        "colab": {
          "base_uri": "https://localhost:8080/"
        }
      },
      "execution_count": 9,
      "outputs": [
        {
          "output_type": "stream",
          "name": "stdout",
          "text": [
            "The value of x is 5 and y is 10\n"
          ]
        }
      ]
    },
    {
      "cell_type": "markdown",
      "source": [
        "### Ввод Python\n",
        "Во время программирования мы можем захотеть принять вводимые пользователем данные. В Python мы можем использовать функцию input() .\n",
        "\n",
        "Синтаксис ввода()\n",
        "\n",
        "\n",
        "```\n",
        "input(prompt)\n",
        "```\n",
        "\n",
        "Вот prompt строка, которую мы хотим отобразить на экране. Это необязательно.\n"
      ],
      "metadata": {
        "id": "o4Winlopiv08"
      }
    },
    {
      "cell_type": "markdown",
      "source": [
        "Example 1: Python User Input"
      ],
      "metadata": {
        "id": "4iW6lka-i_b7"
      }
    },
    {
      "cell_type": "code",
      "source": [
        "# using input() to take user input\n",
        "num = input('Enter a number: ')\n",
        "\n",
        "print('You Entered:', num)\n",
        "\n",
        "print('Data type of num:', type(num))"
      ],
      "metadata": {
        "id": "HRlRLbKbjEtD",
        "outputId": "71f498b9-df26-416b-90b7-b987a9502c07",
        "colab": {
          "base_uri": "https://localhost:8080/"
        }
      },
      "execution_count": 10,
      "outputs": [
        {
          "output_type": "stream",
          "name": "stdout",
          "text": [
            "Enter a number: 25\n",
            "You Entered: 25\n",
            "Data type of num: <class 'str'>\n"
          ]
        }
      ]
    },
    {
      "cell_type": "markdown",
      "source": [
        "Example 2: input() Return Value"
      ],
      "metadata": {
        "id": "ForNdLPwjVw1"
      }
    },
    {
      "cell_type": "code",
      "source": [
        "# get input from user\n",
        "inputString = input('Enter a string: ')\n",
        "\n",
        "print('Input String :', inputString)"
      ],
      "metadata": {
        "id": "pTWGH8Y1jduO",
        "outputId": "b8b889c3-be21-4872-ebee-5c44982cbd8d",
        "colab": {
          "base_uri": "https://localhost:8080/"
        }
      },
      "execution_count": 11,
      "outputs": [
        {
          "output_type": "stream",
          "name": "stdout",
          "text": [
            "Enter a string: Hello\n",
            "Input String : Hello\n"
          ]
        }
      ]
    },
    {
      "cell_type": "markdown",
      "source": [
        "Example 3: Taking Integer Input"
      ],
      "metadata": {
        "id": "fagvnOoHjh3x"
      }
    },
    {
      "cell_type": "code",
      "source": [
        "# convert user input to integer\n",
        "num = int(input(\"Enter a number: \"))\n",
        "print(f'The integer number is: {num}')"
      ],
      "metadata": {
        "id": "2DjFP4R4jmac",
        "outputId": "90b9ea66-62ed-4833-8e16-226c73962a4b",
        "colab": {
          "base_uri": "https://localhost:8080/"
        }
      },
      "execution_count": 12,
      "outputs": [
        {
          "output_type": "stream",
          "name": "stdout",
          "text": [
            "Enter a number: 25\n",
            "The integer number is: 25\n"
          ]
        }
      ]
    },
    {
      "cell_type": "markdown",
      "source": [
        "Example 3: Taking float Input"
      ],
      "metadata": {
        "id": "obI2akfjjqPq"
      }
    },
    {
      "cell_type": "code",
      "source": [
        "# convert user input to float\n",
        "float_num = float(input(\"Enter a floating number: \"))\n",
        "print(f'The floating number is: {float_num}')"
      ],
      "metadata": {
        "id": "4dREUYTOjvpQ",
        "outputId": "1e346222-c469-4745-fbb3-68182d6cbb64",
        "colab": {
          "base_uri": "https://localhost:8080/"
        }
      },
      "execution_count": 14,
      "outputs": [
        {
          "output_type": "stream",
          "name": "stdout",
          "text": [
            "Enter a floating number: 3.14\n",
            "The floating number is: 3.14\n"
          ]
        }
      ]
    },
    {
      "cell_type": "markdown",
      "source": [
        "# Переменные"
      ],
      "metadata": {
        "id": "AJsuhEbwutBs"
      }
    },
    {
      "cell_type": "markdown",
      "source": [
        "Переменные предназначены для хранения данных. Название переменной в Python должно начинаться с алфавитного символа или со знака подчеркивания и может содержать алфавитно-цифровые символы и знак подчеркивания. И кроме того, название переменной не должно совпадать с названием ключевых слов языка Python. Ключевых слов не так много, их легко запомнить:"
      ],
      "metadata": {
        "id": "6yOJuEJZ_mot"
      }
    },
    {
      "cell_type": "markdown",
      "source": [
        "![image.png](data:image/png;base64,iVBORw0KGgoAAAANSUhEUgAAAY8AAACaCAYAAABR9sR7AAAgAElEQVR4Ae1dy24ctxKdP1Tgj8hX2BjpC5yVgGzuGF54K0TZK4E2MZCtVwauDeQu/AVCAG14USSLrCqyH5yZfs2chdAz3U02eepUnSJ7RO7+/ffV4Q8YgAPgADgADrRwYNdyM+4FucABcAAcAAeIAxAPjLww8gQHwAFwoJkDuz///NPhDxiAA+AAOAAOtHBg9/Ly6vAHDMABcAAcAAdaOADxgHgieQAHwAFwoJkDEA+Qppk0LdkJ7kU2Cw5cJgcgHhAPiAc4AA6AA80cgHiANM2kQSZ5mZkk7Aq7tnBgUvH4/viLu729DX8f/kaQmkmovh1+crvdzu3/gDOQMzzd/+p2P4e/m4cf4OFYHn5/djeE2/0XYDYWsyu6b1A8Pn+IwZ9F4PbW/eevtqDkRQTiMZsD9orHH3du9+aj+3ZFJOdsikQE4tHgu2sVj8+Pbvf2+So5zFxew3GUeLx//N9JgQ/i0eCwUwd1iMdJXF6D0159GyAeq+Dw6eLx14c8NdUxKukWj7/df8SI5vb97+67DJ6q7l/cb/9dURCW7Wz9TAF8t0t/PL309G7nbg7/GGL84w5v5BTUs9uLsrt3z+J+ee0nd/gq8Pr60d3IcunznXtqbf/q7v/hDm/z1FTXNEvnyIOCUZzWoqMdnXx7+CSuP14AXoIXHbbsnuojrD+5w0PE7P5Lmhbcfw71El6EoayDr3nh4xENYy6nxfw1wviL2/N1HmXYcnz95w3YhDh2/8VJLvXz7JM7fJd2EnhQvxkTtt8Ah6dIOE4Uj7/df+R0lA/2H9xn7lA8dokHTYl1jmr++7t7fysEo6PuKUCZts5nt5cB3wtJCOB+ukle8/hp8Xh6J4N9EAsWn9xuOm/Eg21ygSMPH6RSAApCYh2TsKmLBzmldVThtN4pc3Dyzm8dl7G9wGOJWRRqwiAGc8La4xJtwAEy2UBhGIJgFpPwPd2bBIJtYu9/dS9U39ZswMGdeer7yX18dS/fn91evI+zPCvtIDjqhVbUNRMPR4lHeuntRwkioBeNpJFEeb1PPIrRRqyTymhh+Z/77X37+5YcUCXYa/osAj0F9igeeRQirhd4v7p8n+xTT5mLEw8KLjm4e3t3BJe6A5rgZTCmMjnQEcZ0//yOuhSPS8yCeHhMfAAM2BfiwUHS45kxs0GxsFcUD4l50YYO+y6F0ajnFm0WOBrO+foEtvSdMOgWzH4Oj2pfrQ0D50aJhw7iMki9uvKF+njxeHkJgsDiJF/El/WGF/fynqlAmbpeCvhy2mrHowSaWvIvs2l0chdHKCQEYrThRyq6fDnVdUXiEYONnHbynyuZaRGE2DlUHVKIYpadpkd4agzi0S4eQYSlyCQ/k4HVBM10D9uKjvJ+eX7Nn4s2B26lEddLjWvdXJTi6jHq5LCO11U8j8TtJPHwI4pbOU3VNvJQHfHTVHlk0TuldWRn1fMWqiP8EkqIwYsM9FEo/rjz7z78FFUSlFf3Et9byGmqqx95jAk20dad4iG44INbGskMZIei3Bq4NUUbSswEJgJ7KQryc2hT/8jD389iL+rs7E8RiKcLkJ1taLV90WaBY21k0YeDv2ZHxBkDzeF8/mx9iX0/XTzES+4wWmgZeciOhZfnaWTh33GUdZ0bgLnr8+IhfiobRiH8fiKIx+Fw51920700AuGprCAefO+re4mjkKaRhxcgUUerE6zu/pixqWkSyav8uQyE+VriATl5Eo/X+IJTZoCVMqvD5HxtLDETQU8EOCkY8jPhSnWkKZci8IUpl5RJizqTTSy+/p6Njf6MeNgA7zFKHI6cFjzUWBjMLD6Gw7rs+bhxkni8vOhfS71//F2889BTUjw1dZtesOuydL2YHvMCIv/PRI5yzgfCVODW6yWByNNON4eP4uV2eDme/g8jjjSkOKgprzcf3UH+QqsypZWmxATBwuiH2yBHQVvFlJ2Np5XkL6aCo9lprTRd4B0tl9tV3mcERxf3cJYsMK3beqt49mE2UjzkVJ/FKwoI2yTZgvAcIx4vLOpskw2Ie8Ez02aDyf6B/kGT7yntoTAr6p5HWAfF47KcYqvOjHaDh9vhgB15wHYbfU8zkBxBPAYAAvG3E7Rgq3XYCuJRsQONDuwIbOOxB+KxcQMiYFYcFTYV/zg6Pz4QjwrmEI8KKHDURR0V4gFOggPgwBIcwMgD4gfxAwfAAXCgmQMQD5CmmTRLZDl4JrJrcGBdHIB4QDwgHuAAOAAONHMA4gHSNJMGGeC6MkDYA/ZYggMQD4gHxAMcAAfAgWYOQDxAmmbSLJHl4JnIrsGBdXEA4gHxgHiAA+AAONDMAYjH3KRZ8J+F/D9vXdh/uSIbnTAb5fWW0oJ9Ez5rbj/c4vNWZo9+8YgLE8oFC7s2doITj3QsiEdzhrNpbo1c6G+VfVxZsFolRnOK0MrsMSwe739x78Wy6xCPkSLRRSqIB8Sjixs4f13c2Li9R4jH7+63D3mTJiseYUOovGx62o/D7xJI+3HIpdftkuryWmVJ9o2DW82Uong8PXxytSWpef8EP8UUl7VOex14PPTyzGppZrpO9YvlsGVZO23l9xD4uXtTmWr7V2kTsyS7nGaJeGQc4r1q+s6UT0thh0RB2kLu9RG2pH10T5wREu6pXm2nbJN5lss+1XbMDWp3lWP3X+JeJ2FZ9OKeVfLkxMTvlD6lEajgReJKjWeaJ732qPi9tUc3h4/HZJR4fKdd/uI+HEo8/LSWEAT/nTdw4v089Pc8BRau5+9BSLL4HN+pUx1n0vIc3DnAeVJloiSSxOs64Icgl4kRiJgD4xe353oToXhPgLgHQiSsf44h76T9PsXxBsr6vqR+W4x474eAg8aTOBaFI5U3vPP2qmMYxIOCJ18vnz12f4q1Yk/YZr5FbCyHDUZr7cui7UoJBvu68d3vz27/8CONvEqeBuyr9nihurhew9+BOHAKJuPEI40iXl0WDxv8Q6Pz9rHhuhSDXPbVvZAgiekw6oS6PhAwTun0omXJ0VTQ1gGnCOopY4kb5aiyMTB2BT5DKibkQe7stnmcyXE4eIvgZnAKTvdcOtlA4KNyWZypfumo8nN4tsdY2kPab4NYV4NVweESh0V9bI04R/GQXKpiy23v4E29DOFfEflYVz+Ho8/wcxuOI8Xj1b389cHv9JcDfCkORJjR4lHsEhinvtJOg8d3atXELRwvbNPJ2V2dHBELH+h49zRxFMGKyucpEvqcMxIf2OKUFj9v1ViNIXJ0St1nOX3EPKo7GAvqt+qz4qhETAOG5zCmZdAs6usIAlvBvcrHgsMlDlvp32ztHORBjWsmKYpb+lZ9V/mBLFerV8eFYzEYLx5+y9kP7rfHX1zYSrY28pDnSnHJwhPE6NaMPI7txKbKFY4XjMsZSdVZObAVZTkwhmMQB0kc7dQpsEWi8TM3hR9jwcdBpyRsGOMgIKrfvZhyOY1zxkvjS+c9xkLML3baSo3sShwyRl3YXdn5AZ76pE9i2nF/b3yIPqHjwBCHj7dDg3iEaaX371k84jTTrX3nwd8HxCPuf57feRzfiU0R1QYr+i6mXfrJEYJfNfPgwCUI6AlpRx583T+XM+gtYx+cYycDNguLdCbVbyuw3UN+7YgWJxM0q6IcbKYEy7Rvzfyt8tFyWE3lWYzw3du3QwzY9t5XE4cjp0VckPd1+T/fE340kznez+Hj7dMkHv49xe1tHHmEh/rRBJ3zf/xynK4NiQfdo39tRXXIdyQJjA0522CbfdCWU0vZyFS26qyq/yEYyWmaHJj0tZsHPcfvScRBlMWmZ650sC+qXceT8PTnsLNlXNnBguNIkeR7Je4aNynm1LZQR647v7Oy5ez7kYiJsrlsy5KY9T277BfxjTH1wUnwSL8H6qv3iq8NiEcYoWaO7R+e3U0SjxH2UFOrJce6OXy8TfrFYzXB4fgOnh6Y8Gxg2MUBcurSUYFXF144f0ncgHhAINPPAy+J2PP0BeIxD84QnTXiDPGAeEA8juYAxGONQQ1tmkdsIR5HB455DARHAM7gADiwRg5APCAeGHmAA+AAONDMAYgHSNNMmjVmQWgTsnNwYF4OQDwgHhAPcAAcAAeaOQDxAGmaSYMMb94MD3gD7zVyAOIB8YB4gAPgADjQzAGIB0jTTJo1ZkFoE7JzcGBeDkA8IB4QD3AAHAAHmjkA8VgZadQaNGmhtHkzis1mcH1rSMVFC/sWUDym32HxybAmUVr7KXFKrkm0wWVMJsLsGJxRZn0xoFc89KKHvPjhrbvKpdRTQJjHiF5EIB4N2VAI1HmRSGOniQNh/4KWG/1P9IkxgyAYjvbGmLCgZye/e8u2PGf8vb3ikY17JVvELmCAjLE2GsRD49GFUzrvA51cKbex/Im2v0jxOBGTZBvU05AEdfH20sSDtpL1+3mIpdXTBk/tS7Jfz94evCw4L8FcBr1u8ZBTIb+6YhpGTd2IZbSjA6tpsZ87lhDforP7fpc4UgDrnVqicvdf1LLrdvpJY1affmoXj9pIqXauK5hMe74XM+LHAM8gHMY+KbkR/quWtbdL/2cuS1vIrRgST8kWqi56huApX+eRJC3fnmY1KBbRvaJdaSl40wcTF04beXjxoOks3sdDjlCGxCNcz4Ihy/Y3etvEjMKRjFfva5d4PN1nUoV9FKQAGNIYY299V7ua3XVgZzGWzpHxrQZ4DoJsD/9dYPz92e0ffqTM0T9POWqov1p3wr9uFx8U+LkpIItnp/K5DzUMpjxX71e9P1O2Y/N1p8DNQT0E6zQNZXhX8qxn5MHikPhi7MMcZ1HwbeF2cCKrvydhSnWWHDyLeMgNnEbvYU7Ck0YpoWFqm9qeRm+aSIYkXX3pEg97v3buQMhOw0cCJ8JeEsYjcNVYRWcYcjyLkcewDPDVulNZ48x83tTVX0fpvJYLU3yvt2mAZ9w/HFPSwZs9Sd+T2NJnea3cYOtU8WBxIB7JuuTnwLGxsecM4sHbzlpyD4w8/voQdx8UL+LNLoVTOMPSdZYZhcVtwIApi8hZthKLKBBheFsGOTXdUMmgl8bn6OdPJh6cmWW87U6D1GYZCMo+dIiHcmK6p2KvhQNwZ7+GeLZwu0sb1P1stvtMoqCfW+MY8a0r4Ju+DCVAxXVZfqviYUYeGlDZwQv63GvI3M+q+keHlRlKp3On7VO7AxKV1XOl+fmbs8VE4lFg1BEE+uxQZpEZ52Rnar+cwlpJ8O3vV+iH78MKhW9VHO7gTWhjGcDLtvfcU8QUk6wU1zP/9ChE2HMEFycfeaR3GjzS+PB3HMqFdxzp+kqcpTSaBPocn8cN+VNQkbh4AopsxAfM8qV46oO/3i0e/hmXMvoY6CthUg2EhWNpx/PikRyJM8QS02rdyXa6zmQffz1cu/EvLc/Br/PW0d+v+KwR2Os+n7eNm6i7Vzz4ZXnJK9k3zUWBocKfOWriRKefl6JUjT2Jy/m5E4rHq3tJL9TD/4Z8fvzF3SbxoEaIX2nRlNXtrZPvTyRwl/U5CEj+5QSThg0vp0j0y19PIN7s/u2zO9wL8fAkkmUFgdJIRF7n52ZCbBZn5UCyPxbr0P801UfllGOZQO+dPmO2f3h2NynLHlE32yodtU0Ib29T1QbZ/iU+t/ar7NNmeVQJkmfpy4B40DPCCC5zTfOSeKDtkjjMHIoc2382HC44Ljk1uXjIh+HzWcg0FUlRb35JuREsRmX3G+kLfON64uPIkcf1AALyw9azcqBzxAQ7zGoHiHNz0gXxAGmaSQOnPkNg96JBUxSY8gGfzsCnBeIYxGMB0OEs23QW2A12AwcyByAeEA+MPMABcAAcaOYAxAOkaSYNsq+cfQELYHGtHIB4QDwgHuAAOAAONHMA4gHSNJPmWjMt9BujDHAgcwDiAfGAeIAD4AA40MwBiAdI00waZF85+wIWwOJaOQDxgHhAPMABcAAcaObArOKBZRjWkaWF9bEu8J/T0j/e4Z/vTs2GA0fCOktyDaVT6+1bYbha94g1oarlIAbNYtCKI8Tj0kg2wtkuUzzConFyufpWZ8D9ZXJz/oTPLNo35H8j+LwZu11SX15eHcRjiLxbu35hBB0dGK613xPzE+JRCupoTlrbXBhHR4iHXgZYbVhD0wT3X9RSwnqIWy4xrq+f0TDWUKv+bnGRS6MbvNVS3XTt0T15Esalm9N1U662BLgsl5YVZxv01f3q/A6E6VlUhu7XU196SWnZJ37GhMe+BQZVv/US93lfd4Gf6ueEbV41R0O/O8VDTRGKLVR9THh2h7dx6vAzLWEvNx2LvOHz6lrE2tRtd27UPNMcPDqwT2oLwa3kl3pqlXGWfeNRtD9nOFk7N3ffB8Xj6V4GgQACdyptacqb5RgHJkCk2DBAc3dyXc+LwsGYKdKGa1lg7b1MQraJsQfVNSa7qd4zUDfZVhGY7heOa2w/F7mls+X9USTvLEbhe8I4CQv3xd4P8UhYJa5+cXvJX2l7/zmIifd/n6RIrgR8syAYznt7sC0qfP7+7PYPP9J8/lw8O0sMqfpdFmnP34ir6pfFJG5fXNplXq4OiocFTQlAX0CpAKXKJiLO22Hbn9m/S0ezGNSuKRylE2bSKRKp+zuwrd4zUHefreNmNCmp8P0q65sU6xp2vMGOEj0zivJYiMy5a8dBa6sr+T7OZ4WtBU9yWXG9a8QabZTLRO5WuSp4PXR9TXbqaSv1WyVn5l6Fi7k2qV/14DcsHt4p4xRJHHKlYCWIEjogSFLpoAKgp1FLgTHHc1VGYTEo8LSZl8A3li0wreBe9Kt6z0DdRdvk/XGEpIbkelhetMH2/dTvnqc8IsvBxeMts2R6juxLFYtcfvJ2n9rvicsX/IrPo/NqpMejUIFtLiu5Ij9HnKtl4rXCPjWulXZfpd2KvmSeZazyOdUHgRFxOsXgie2v2mCe1S8evrM9WZnoUHiIIEYFqEGATOP6Gr7ZawVmgix0zb6LUOcEvsKJFZEquBdYVe8ZqLtot7w/OLQeeYh+zWFXhVN+dk2s1bkqFrl8gd0cfVnRM2o+6/FTPBVcEDzJZcX1rpFHFPhcJtrA2Ieu92Xoq7aX6Ytsa9HvggOMIfmamNYr7puPuyPEQzTUO6jZM1tNCXAHqQP0OQtPIJwou2CnpdHm/xxwUQE/YWGvhaCc75X4BpKUpNO4V/tXJfFA3So4c/aXuVEGlPlI7Puo2iee7fuaeWh5OeodUbKPqPdKzpX8inttC7/3Af3okYfmqxL2GENkQuWflUaSzMONjDxMTJS+WcNZXqfPAZtP7ib1f1k+9ouH2VidFP9wLwRAZBmhoyYARbHhF0HU+RwIl+24Ncy834PD5GG/JL+5pohi8O2an5e4s1Mz+YqpJX72cN0hSITpiv3n8v4gIGI6QwSYyfHtEg8K8lFAGG/FwaqQXjM3qe+Gg3a62ly/eXjOP54QMSEHRMmVsm49YmVB4GlPup85Wtpy/0C/5hLX1y7qHb6ZserhXpEI9dw7Aw6D4jG508/QSfRhWZIBf+APDpyBAytLdCAeEK/0s0c4+BkcHHwCnybhgJ3CXp6rEI9JDL28YSEEsAE4cAkcENN4agp7+b5BPCAeyBTBAXAAHGjmAMQDpGkmDTLa5bM+2AA2WJoDEA+IB8QDHAAHwIFmDkA8QJpm0iyd8eD5yLrBgeU5APGAeEA8wAFwABxo5gDEA6RpJg2yvuWzPtgANliaAxAPiAfEAxwAB8CBZg5APECaZtIsnfHg+ci6wYHlOQDxWFo8jlxyQK8jtaG1fabEu2PdIASa5QONtMHTu53b7cLfzeGfGZOXZ7ePz93tfnKHr2vBJfwjoF7jq9K2uLaV3GAv4CrXC8uLlUrMp/gM8ZgymI2p+xjx8GXmI8kUxDt/ncGBBh1wjE1wzywBnURkXvHggEwickniwf0iH5gvLkA8lg4Ux4iHWLn0/EGYibix4zE4Lm37K38+xIN9bOTIY5AvqxMPOdTbud27Z52V/HGXhqA0FF0mk2AjbOSopldo6Wk57STWsqGlsCvr2YR1/Z/dt0EybQSPc/TDYypx5L5nx8xLyuvsTE8B2r0/Ht3h4ZPfNe/m4Ys7vOWlwrn+SzySz9+5p68f3Q1P87z5qPj27fCT8vv9HxkHukZxQE5Pyeuc8HSJR1/doayJSapt/7jDmzwttlPXuI0zjzy6EpuUBDJH5fST5nLmrtgSo/CbbvHQHNd1sz1aj4Mjj6d3d+4pNTIYLRNhZiOkdjAJNni0U06GWJ4kSTACqXj/CUkg3puCjny91fiXcL92CrGXiMFQ4qQwtqLjv7O4RGemuvz5ICxU/rIx5+DMvm/83ieMfO3VvfjveRqIgz8nkv57JYhXxWOg7peX0Bau23L42+FOvMsIQlLeO3fc6gjqRjx2acpJ+73sYz/3ep4jEtRzJZ+D4iEbTp+1wfsNacvi+6srjK/Eg4xvsoJEsCyU5zL+RdnDB3eDnU82giOqEVzCtO6k2UbCGVOZig0vIalRfSiDa/b7ekDO11+dFws5Q+FHMEJs4rNkmcDFkXVXhKiLy0Vb/LPL/nWVP8954llMSIS/ez/2SU7goXxfl69lv6e2ZG7q86Gdgq/CnlRG1h02++IEqVbPuHPD4mGmpYqpKTm0paGuaPR5gB/Xka08qzC+IJPd8S6NLsyOfBCPCicGxEM7D5cvnVY7qHBGiEeckg4BPs8+BCylEBQBu1E8+uqm5xRT5zLmqHgUp6+kkC0iHiHoEwe/PTy6/f2jO3wP28qGEWzJw/OJR6g7xZK0k+jU4hENIY0pSWIDticNBES/E5LErmUOhXjUsmcOduEI8dB4eB6eIB56Cio4WzgH8WAfz35fGx3oc6eKh55mGqhb+Vc5E1K0ZSHxIJ8N78we3dP3Z7d/+OFHESGpmV486slTxY8Unv3X+0ceXjzyXGaY2+x5KW7nKxsawiS99KMO/BSc5AvzmCWk+fq68XQd9XsuHceif0eJR8j+1A8WVD0QD8Y5i0eclpJJovH7ImCPHnkM1/1SSWi5jfw+JCW78d5ypDL3tBWPMp7d3vv2F7d/++j2PJX1MqV4VDh+prjcLx7xHQf/Qw/9cuEgf5tdTGkJoTlTAzMxLiVIRoHwokFDRwpQcrQhr4cXwDozjmQwU1mXh1OjvVXQl2VLx7RYeTGuDuchHoyVFA86F2YZ+FdN2u/7xSOMDlJMqfyzYF/dvj0sCpVfgumyd+5AvwrjaasiXlH7ddu5v2c/en7mdw80fZ2TlpKjnpMpieQkU/wgRP5QJtatp6b0tJTm+K9ud4b4MSgeZwcRotI7rQW8ZeDHZ/ABHFgrByAeEDOIGTgADoADzRyAeIA0zaRZayaEdiFLBwfm4wDEA+IB8QAHwAFwoJkDEA+Qppk0yO7my+6ANbBeKwcgHhAPiAc4AA6AA80cgHiANM2kWWsmhHYhSwcH5uMAxAPiAfEAB8ABcKCZAxAPkKaZNMju5svugDWwXisHIB4QD4gHOAAOgAPNHIB4gDTNpFlrJoR2IUsHB+bjAMRjafGQq+qOaEtYE6e+5hUcp+44p2Cm1xiq19+Nu1yTSK811F2m9Rm4/3KwjOt+NexX4vtOa3a1lhkRa4Zw3bZ40IJgZ1jgawikSa83ige3pdgX5Axk4Lov9XgMZqeJBwd2scDitdjpEnxzdlv1iUd9HxXvqxAPdrSG4yUQFOIx27QZxKPBt04NnJfgm6dicNbymxQPOfT+1antPAkcIklaztru7WyXF5dLjxORdd1q6fEUVMU9PMrw1/TyxKENtv4ZnaWFKAazvDQztddglpZl1n05JhBe6ojC8ihwoZwm6sLMLlctN87hkQeVZZ7L68Wzq/ba2siD2hs2Lbph32bfizzvxGzrvtnix2Pv7djPxO+PFKeb1FLyvIR8rJ+Ww7dL2KsdXePI44mWn68scT+V3w9OWz3dy4AcAnl2nn6nYMerNz4EySwYpu5EQg4C5joBu8XsxveL+/TqwtazGWMfpFIAshhlAekKhHWsc7lLvK4wi7zJHM19r2LmhTzjH5KhbB8Okomn5v5+/+Bn9/vJ+mwSfC0nNcb3DAYWM9+fLfrmWDFovq9j86nKdFOxF0p61sDIg0SDRYfqlZt1pTqYj+c5DoqHJbZ2wECq5FimkcHxhGPK6+TktWyGA2clCOhnb1M8ij74fjJGhCd/jgbucMKiHontVX02gS2O3GqcLDGri7O8r0yA7PO0I8qy2XeoTBakfF6XXc/5sr25X8OY+X508HY9fZwTewr8cdMpMQqpCUXtXMBsQDzUC/MOsTpzXBgWD59l5CE7Dd2VY8Yg3zVtRKTj4b4qV6nX36fEwwRS2/kNEjQ7YSSvFA+FZcat9qOAoh6LzdV8D8EsTad6DOuBusQslLWjFHlfKR6mTIXHiufeDmUwXncQLdubMTH9jzzL1yOvN+ibU9qEpp5oe9xvhzu3f3fnDl/Dbox6v/a4QyOPIJQPb008YjCTzlWQRHSwd6QR328kxxoilwyq4hnKwEN1dJVb8HyBn+yn/DzQxqKegfsVbhd2L2HBCQodE8dMP0vMQiDU9+tzpXiIwDraP0QZ06Z12qVsb8ZO4xPaXzm3Qd+c0hY0org5PLvDmzv39PWj2x/+cSwo8rmXM/LwziGyOCJEj3OGuc+u0YIlGBG029HtuwAJcPps27cBx/TBKE3XBQzy3HLAKGXRPf3Jzjzn8HuFzzpRcIuEx3M8c9iKh7Kf5V+nf5TBOHG4x8bL3VO2V/JtCDPfbovNKvs5H5+DeHx0ez+qeHb7N3duz1NZAptu8Xj1YpPea4gy8sV74MxKpq2INCmre/vsDvci4EdnSdfVvG4MhPxrDTrylFTqOAfP/Iw0yhkZFAKRuXx2+uUcb4iQEhcSZsJAtlteD/3KmXGJV6+YJ5yH2rTt64qjkW8tmGkOiWTp5dXpa78W/1eknj3oH2RPXf86edovHuC6gRkAAAWNSURBVNRmjUu9T/oeyfFt8+0om/mX2GHqisqHX1DduSfvo2FKin8plY7F9FX8PxD7i6rixftKxOMooK4kaAGbFQSBWpKBrHe2/52BD6zABxaKt8MvzBdqGEh5vaRssr2ZZqKyIeO98kwXfgsBnZgDEI+JAW4KhGjLUQ6vpo78tBWEA7xD8jU1ByAeCNhHBeypiYn6EfzAgXVzAOIB8YB4gAPgADjQzAGIB0jTTBpkhOvOCGEf2GcODkA8IB4QD3AAHAAHmjkA8QBpmkkzR1aDZyB7BgfWzQGIB8QD4gEOgAPgQDMHIB4gTTNpkBGuOyOEfWCfOTgA8YB4QDzAAXAAHGjmAMRjZaRR6wEVa4HFjMovv1FbK4wzLrM+Vlc9K+v7adlSXPcrLTrJWOSjwlatJ5bvOa0NqAf4ncaB8A+v9bXCurGVa96NKEurMvT4SfdzdN8gHisNoD7QdQX9AfHwZc9AjrEkWsd9A+KB9a6aM8t12FUHrEtv03HiwRiVC1pW8YJ4MGCXeewVjwHBIwLmVWUvE5+qU/ThciaHaX5uX5twDYJ2Vg6sTjz0MsDFevJxqWFeRjjtjFXbR1edo3rDxig3cYnhndpKkYKeXaqYlzDeeED0i/nxMvL1YWaXeMh1nOoCEaas6tc2jluHo3mseOn/jtHadY7GTrA3j25ruPprtH6YmC65upFuC7Y1nzTnFN61tdkE1p37IHWLh/IRsukZ7DU4bfX0TgbsICS0nWLIwPrWjbf32s1MwvW8Ubu9PwpHsaY9P3ujRzt94oWkJEuXeHDmW44uNLnqe6xsFLMO0WAs+FjDTIptxgQjM8asfgxcSnvr2F1AU6DjxMfef9k8q2PW3+ciebFxgDnuz9t4YIQm2iPbh5/dIR42xpxpFD4oHhYo2sQkjS5eQsDP37kT4ah3xaJ74ybwHij7PYhLqkuNUnS9tk1b+k4k0qOCQAxLhFoglP0sxYMxskTj85d/7MOscF52VhyLqaMqVjLgRPGQnO3m4+XzTvpl92cd2Du5WhMPOmdGCvXy+hmhLZX4Im15Av+HxcNMS9H0VArw9OCvH12adqJpKNkYfy2eo3rUKKJfPLzwFNNY2ydiVyYsHZGMXidH7n+3s0I8ag5cDYiSq/icRKTKPRlwagEO+CX8avyjc9lnyUd51JZ92perYUvY8/ShPBZTtGsSjygMeZrKjA4MYXzAVwISpp6ofLnZe794lPvyGpDNs7sMtrbzmUD9/ak6sOhzdz0Qj5rNIR79fJOY1bBS52oBTnBT1oXPAncW4MpIIuFUw5bLDWK8OvEQU01xFKJGHrJDtakmOvfmJ3dTjCIGxGNgSiyBLZ+/hc8+i+jIOkT7IR7C6QQufXbvw0wFv5H19T3roq/5APary6NhCkriey3AAdPBkcfLS0zs3n4S2BqeV7EN+OvpblPO418TjzDi2fEoJdp2phfmO8e/pKJfQx3kO48oJum6eqfBnSORMFNdvqND4kHlQ9lcv5kW2yphi2EovyAL5CqGqGx4+esWMXzVpLq2kccQZoGHEA/2x5FHDjKRZ4pj1QA3st6t+uyZ2u15WPkH1XCef4HJR44LhG0QEBkbkrgX8YTKywRVln10T2Q/8w7lmGRo+J3HyaCVInFMQ1EGzgkOgANb54AXiZQMbtuek4sHvevQL8q3DdjWyYv2g3/gwEIc8CM2OSJYqB0nDwhCuycTDy8a9M9/xbuObQMGx4P9wAFwoIkDYgowTTWdKYA3tePMz5xMPJbsFJ4N5wYHwAFwYFoOQDzOrMYg7LSEBb7AFxxYBwcgHhCPET8xXAdZETRgB3BgPRzY/fnnnw5/wAAcAAfAAXCghQO7f/99dfgDBuAAOAAOgAMtHIB4QDyRPIAD4AA40MyB/wM3IcTU5hqenAAAAABJRU5ErkJggg==)"
      ],
      "metadata": {
        "id": "L_gsbR6G_rj5"
      }
    },
    {
      "cell_type": "markdown",
      "source": [
        "## Комментарий"
      ],
      "metadata": {
        "id": "bw8rIM5vuCmd"
      }
    },
    {
      "cell_type": "markdown",
      "source": [
        "В Python однострочные комментарии начинаются с символа решетки #. Они используются для добавления пояснений к коду и игнорируются интерпретатором Python при выполнении программы. Вот пример однострочного комментария:"
      ],
      "metadata": {
        "id": "HKFw--juuEBC"
      }
    },
    {
      "cell_type": "markdown",
      "source": [
        "\n",
        "\n",
        "```\n",
        "# Это однострочный комментарий\n",
        "```\n",
        "\n"
      ],
      "metadata": {
        "id": "sSkHuwmhuHRL"
      }
    },
    {
      "cell_type": "markdown",
      "source": [
        "Многострочные комментарии в стандартном виде отсутствуют в Python, но вы можете использовать строковые литералы (тройные кавычки) для создания многострочных \"комментариев\", которые фактически являются многострочными строками-документацией (docstrings). Хотя это не совсем то же самое, но такой подход иногда используется для временного \"комментирования\" блоков кода."
      ],
      "metadata": {
        "id": "AAlRCEDRuKxO"
      }
    },
    {
      "cell_type": "markdown",
      "source": [
        "\n",
        "\n",
        "```\n",
        "\"\"\"\n",
        "Это многострочный \"комментарий\", который фактически является многострочной строкой-документацией.\n",
        "\"\"\"\n",
        "```\n",
        "\n"
      ],
      "metadata": {
        "id": "S0aw8hhbuNQs"
      }
    },
    {
      "cell_type": "markdown",
      "source": [
        "**Типы данных**\n",
        "\n",
        "Переменная хранит данные одного из типов данных. В Python существует множество различных типов данных. В данном случае рассмотрим только самые базовые типы: bool, int, float, complex и str."
      ],
      "metadata": {
        "id": "HSzQ8ZwV_8B4"
      }
    },
    {
      "cell_type": "markdown",
      "source": [
        "## Строка"
      ],
      "metadata": {
        "id": "mvqp0QmMvCOm"
      }
    },
    {
      "cell_type": "markdown",
      "source": [
        "Строка представляет собой последовательность символов. В Python все, что находится внутри кавычек, является строкой. И вы можете использовать как одинарные, так и двойные кавычки. Например:"
      ],
      "metadata": {
        "id": "C5lcngh4vgkR"
      }
    },
    {
      "cell_type": "code",
      "source": [
        "message = 'Только терпеливый закончит дело, а торопливый упадет. (Саади)'\n",
        "print(message)\n",
        "\n",
        "message = \"Самое худшее одиночество — это остаться среди тех, кто не понимает тебя. (Руми)\"\n",
        "print(message)"
      ],
      "metadata": {
        "colab": {
          "base_uri": "https://localhost:8080/"
        },
        "id": "2PG7Ua7vvjQo",
        "outputId": "b89427a6-a84d-4dbe-b8d6-a2d59bc44db0"
      },
      "execution_count": null,
      "outputs": [
        {
          "output_type": "stream",
          "name": "stdout",
          "text": [
            "Только терпеливый закончит дело, а торопливый упадет. (Саади)\n",
            "Самое худшее одиночество — это остаться среди тех, кто не понимает тебя. (Руми)\n"
          ]
        }
      ]
    },
    {
      "cell_type": "markdown",
      "source": [
        "Если строка содержит одинарную кавычку, ее следует заключить в двойные кавычки следующим образом:"
      ],
      "metadata": {
        "id": "XWSiSxezxv77"
      }
    },
    {
      "cell_type": "code",
      "source": [
        "message = \"It's a string\"\n",
        "print(message)"
      ],
      "metadata": {
        "colab": {
          "base_uri": "https://localhost:8080/"
        },
        "id": "TO_lMHmKx1Qf",
        "outputId": "826be00d-2cc9-4c69-8149-db94792c43de"
      },
      "execution_count": null,
      "outputs": [
        {
          "output_type": "stream",
          "name": "stdout",
          "text": [
            "It's a string\n"
          ]
        }
      ]
    },
    {
      "cell_type": "markdown",
      "source": [
        "А когда строка содержит двойные кавычки, вы можете использовать одинарные кавычки:"
      ],
      "metadata": {
        "id": "noO8a7vI4r-Z"
      }
    },
    {
      "cell_type": "code",
      "source": [
        "message = '\"Beautiful is better than ugly.\". Said Tim Peters'\n",
        "print(message)"
      ],
      "metadata": {
        "colab": {
          "base_uri": "https://localhost:8080/"
        },
        "id": "6Xa0Pttw4xAC",
        "outputId": "5c7b289b-f63c-4d45-ba6c-48c523a75289"
      },
      "execution_count": null,
      "outputs": [
        {
          "output_type": "stream",
          "name": "stdout",
          "text": [
            "\"Beautiful is better than ugly.\". Said Tim Peters\n"
          ]
        }
      ]
    },
    {
      "cell_type": "markdown",
      "source": [
        "Чтобы выйти из кавычек, используйте обратную косую черту ( \\). Например:"
      ],
      "metadata": {
        "id": "yhhJfGOZ47SD"
      }
    },
    {
      "cell_type": "code",
      "source": [
        "message = 'It\\'s also a valid string'\n",
        "print(message)"
      ],
      "metadata": {
        "colab": {
          "base_uri": "https://localhost:8080/"
        },
        "id": "bguXhfja5AMe",
        "outputId": "f2564fda-0770-4b04-b67b-985430c4fd21"
      },
      "execution_count": null,
      "outputs": [
        {
          "output_type": "stream",
          "name": "stdout",
          "text": [
            "It's also a valid string\n"
          ]
        }
      ]
    },
    {
      "cell_type": "markdown",
      "source": [
        "**Создание многострочных строк.**\n",
        "\n",
        "Чтобы объединить строку в несколько строк, используйте тройные кавычки **\"\"\"…\"\"\"** или **'''…'''**. Например:"
      ],
      "metadata": {
        "id": "weSOOQ2D50pz"
      }
    },
    {
      "cell_type": "code",
      "source": [
        "bigMessage='''\n",
        "            В мире всё идёт, как должно, ты живёшь среди отрад,\n",
        "            Нет причин для огорченья, так чему же ты не рад?\n",
        "\n",
        "            Отчего ты погрузился в думы долгие, в печаль?\n",
        "            Ты судьбе своей доверься, для неё ты — милый брат.\n",
        "\n",
        "            У судьбы — свои решенья, знает, что она творит:\n",
        "            Ей внимая, ты не слушай, что везиры говорят.\n",
        "\n",
        "            Кто родил тебя, не сможет равного тебе родить;\n",
        "            Колеса судьбы не бойся, ты рождён не для утрат.\n",
        "\n",
        "            Пред тобою бог вовеки не закроет врат, пока\n",
        "            Не откроет пред тобою сто иных, прекрасных врат! (Рудаки)\n",
        "           '''\n",
        "print(bigMessage)"
      ],
      "metadata": {
        "colab": {
          "base_uri": "https://localhost:8080/"
        },
        "id": "u8Q-McSI6Hmo",
        "outputId": "a193d8b2-130d-47f6-a2c4-6ef23dcc895c"
      },
      "execution_count": null,
      "outputs": [
        {
          "output_type": "stream",
          "name": "stdout",
          "text": [
            "\n",
            "            В мире всё идёт, как должно, ты живёшь среди отрад,\n",
            "            Нет причин для огорченья, так чему же ты не рад?\n",
            "\n",
            "            Отчего ты погрузился в думы долгие, в печаль?\n",
            "            Ты судьбе своей доверься, для неё ты — милый брат.\n",
            "\n",
            "            У судьбы — свои решенья, знает, что она творит:\n",
            "            Ей внимая, ты не слушай, что везиры говорят.\n",
            "\n",
            "            Кто родил тебя, не сможет равного тебе родить;\n",
            "            Колеса судьбы не бойся, ты рождён не для утрат.\n",
            "\n",
            "            Пред тобою бог вовеки не закроет врат, пока\n",
            "            Не откроет пред тобою сто иных, прекрасных врат! (Рудаки)\n",
            "           \n"
          ]
        }
      ]
    },
    {
      "cell_type": "markdown",
      "source": [
        "## Использование переменных в строках Python с f-строками"
      ],
      "metadata": {
        "id": "7LnXNdPp71p_"
      }
    },
    {
      "cell_type": "markdown",
      "source": [
        "Иногда вам нужно использовать значения переменных в строке.\n",
        "\n",
        "Например, вы можете использовать значение переменной nameвнутри messageстроковой переменной:"
      ],
      "metadata": {
        "id": "aKknjznM7__W"
      }
    },
    {
      "cell_type": "code",
      "source": [
        "name = 'Adelina'\n",
        "message = 'Hi'"
      ],
      "metadata": {
        "id": "1pHCsDI-8A7e"
      },
      "execution_count": null,
      "outputs": []
    },
    {
      "cell_type": "markdown",
      "source": [
        "Для этого вы помещаете букву fперед открывающей кавычкой и заключаете имя переменной в скобки:"
      ],
      "metadata": {
        "id": "g2CZ2-K78IbN"
      }
    },
    {
      "cell_type": "code",
      "source": [
        "name = 'Adelina'\n",
        "message = f'Hi {name}'\n",
        "print(message)"
      ],
      "metadata": {
        "colab": {
          "base_uri": "https://localhost:8080/"
        },
        "id": "Bhs_2AZh8I9T",
        "outputId": "8efaef65-09b2-4aab-d7e8-81b86c114da7"
      },
      "execution_count": null,
      "outputs": [
        {
          "output_type": "stream",
          "name": "stdout",
          "text": [
            "Hi Adelina\n"
          ]
        }
      ]
    },
    {
      "cell_type": "markdown",
      "source": [
        "## Объединение строк Python.\n",
        "\n",
        "Когда вы размещаете строковые литералы рядом друг с другом, Python автоматически объединяет их в одну строку. Например:"
      ],
      "metadata": {
        "id": "KH9gJDVs9GHq"
      }
    },
    {
      "cell_type": "code",
      "source": [
        "greeting = 'Good ' 'Morning!'\n",
        "print(greeting)"
      ],
      "metadata": {
        "colab": {
          "base_uri": "https://localhost:8080/"
        },
        "id": "yugyvj3q9Ijo",
        "outputId": "4f8bfa2a-e15d-41fd-ef28-2e0bcedfdb5f"
      },
      "execution_count": null,
      "outputs": [
        {
          "output_type": "stream",
          "name": "stdout",
          "text": [
            "Good Morning!\n"
          ]
        }
      ]
    },
    {
      "cell_type": "markdown",
      "source": [
        "Чтобы объединить две строковые переменные , вы используете оператор +:"
      ],
      "metadata": {
        "id": "f2e4oRBH9NYp"
      }
    },
    {
      "cell_type": "code",
      "source": [
        "greeting = 'Good '\n",
        "time = 'Afternoon'\n",
        "\n",
        "greeting = greeting + time + '!'\n",
        "print(greeting)"
      ],
      "metadata": {
        "colab": {
          "base_uri": "https://localhost:8080/"
        },
        "id": "ayNqBZJF9N-C",
        "outputId": "c451589a-cad1-49b3-e5c7-af20f28b49f2"
      },
      "execution_count": null,
      "outputs": [
        {
          "output_type": "stream",
          "name": "stdout",
          "text": [
            "Good Afternoon!\n"
          ]
        }
      ]
    },
    {
      "cell_type": "markdown",
      "source": [
        "## Доступ к строковым элементам\n",
        "\n",
        "Поскольку строка представляет собой последовательность символов, доступ к ее элементам можно получить с помощью индекса. Первый символ строки имеет нулевой индекс.\n",
        "\n",
        "В следующем примере показано, как получить доступ к элементам с помощью индекса:"
      ],
      "metadata": {
        "id": "RC0FGmUR9Qg3"
      }
    },
    {
      "cell_type": "code",
      "source": [
        "str = \"Python String\"\n",
        "print(str[0]) # P\n",
        "print(str[1]) # y"
      ],
      "metadata": {
        "colab": {
          "base_uri": "https://localhost:8080/"
        },
        "id": "8fhYMXRN9VX1",
        "outputId": "1dd2de73-5982-4d34-c3f9-d5abc9dc90fb"
      },
      "execution_count": null,
      "outputs": [
        {
          "output_type": "stream",
          "name": "stdout",
          "text": [
            "P\n",
            "y\n"
          ]
        }
      ]
    },
    {
      "cell_type": "markdown",
      "source": [
        "Как это работает:\n",
        "\n",
        "* Сначала создайте переменную, содержащую строку \"Python String\".\n",
        "* Затем получите доступ к первому и второму символам строки, используя квадратные скобки []и индексы.\n",
        "\n",
        "Если вы используете отрицательный индекс, Python возвращает символ, начиная с конца строки. Например:"
      ],
      "metadata": {
        "id": "CWhxJDNO9X0p"
      }
    },
    {
      "cell_type": "code",
      "source": [
        "str = \"Python String\"\n",
        "print(str[-1])  # g\n",
        "print(str[-2])  # n"
      ],
      "metadata": {
        "colab": {
          "base_uri": "https://localhost:8080/"
        },
        "id": "PW-H0rA_9i8W",
        "outputId": "c20281ca-6900-460e-eca6-1357201087db"
      },
      "execution_count": null,
      "outputs": [
        {
          "output_type": "stream",
          "name": "stdout",
          "text": [
            "g\n",
            "n\n"
          ]
        }
      ]
    },
    {
      "cell_type": "markdown",
      "source": [
        "Ниже показаны индексы строки \"Python String\":"
      ],
      "metadata": {
        "id": "FsjjkZgp9kHt"
      }
    },
    {
      "cell_type": "markdown",
      "source": [
        "![image.png](data:image/png;base64,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)"
      ],
      "metadata": {
        "id": "IVsmtZQs9ogH"
      }
    },
    {
      "cell_type": "markdown",
      "source": [
        "## Получение длины строки\n",
        "\n",
        "Чтобы получить длину строки, вы используете функцию len(). Например:"
      ],
      "metadata": {
        "id": "fE6MJDSU99LW"
      }
    },
    {
      "cell_type": "code",
      "source": [
        "str = \"Python String\"\n",
        "str_len = len(str)\n",
        "print(str_len)"
      ],
      "metadata": {
        "colab": {
          "base_uri": "https://localhost:8080/"
        },
        "id": "_kp4IFoA-ECq",
        "outputId": "3a938976-f632-4255-e0b8-f8d02fdaf013"
      },
      "execution_count": null,
      "outputs": [
        {
          "output_type": "stream",
          "name": "stdout",
          "text": [
            "13\n"
          ]
        }
      ]
    },
    {
      "cell_type": "markdown",
      "source": [
        "## Нарезка строк\n",
        "\n",
        "Нарезка позволяет получить подстроку из строки. Например:"
      ],
      "metadata": {
        "id": "OY6Eav059yCa"
      }
    },
    {
      "cell_type": "code",
      "source": [
        "str = \"Python String\"\n",
        "print(str[0:2])"
      ],
      "metadata": {
        "colab": {
          "base_uri": "https://localhost:8080/"
        },
        "id": "7vbi7FTb79Qx",
        "outputId": "7719a278-2ea5-4a1c-fe21-1166d3d92a48"
      },
      "execution_count": null,
      "outputs": [
        {
          "output_type": "stream",
          "name": "stdout",
          "text": [
            "Py\n"
          ]
        }
      ]
    },
    {
      "cell_type": "markdown",
      "source": [
        "## Строки Python неизменяемы\n",
        "\n",
        "Строки Python неизменяемы . Это означает, что вы не можете изменить строку. Например, вы получите сообщение об ошибке, если обновите один или несколько символов в строке:"
      ],
      "metadata": {
        "id": "ed8Wabna-WL_"
      }
    },
    {
      "cell_type": "code",
      "source": [
        "str = \"Python String\"\n",
        "str[0] = 'J'"
      ],
      "metadata": {
        "colab": {
          "base_uri": "https://localhost:8080/",
          "height": 193
        },
        "id": "c884pzJk-cI1",
        "outputId": "9e60c562-1c53-483b-ec2a-b877e3da1a3d"
      },
      "execution_count": null,
      "outputs": [
        {
          "output_type": "error",
          "ename": "TypeError",
          "evalue": "ignored",
          "traceback": [
            "\u001b[0;31m---------------------------------------------------------------------------\u001b[0m",
            "\u001b[0;31mTypeError\u001b[0m                                 Traceback (most recent call last)",
            "\u001b[0;32m<ipython-input-27-585da2e6a4e7>\u001b[0m in \u001b[0;36m<cell line: 2>\u001b[0;34m()\u001b[0m\n\u001b[1;32m      1\u001b[0m \u001b[0mstr\u001b[0m \u001b[0;34m=\u001b[0m \u001b[0;34m\"Python String\"\u001b[0m\u001b[0;34m\u001b[0m\u001b[0;34m\u001b[0m\u001b[0m\n\u001b[0;32m----> 2\u001b[0;31m \u001b[0mstr\u001b[0m\u001b[0;34m[\u001b[0m\u001b[0;36m0\u001b[0m\u001b[0;34m]\u001b[0m \u001b[0;34m=\u001b[0m \u001b[0;34m'J'\u001b[0m\u001b[0;34m\u001b[0m\u001b[0;34m\u001b[0m\u001b[0m\n\u001b[0m",
            "\u001b[0;31mTypeError\u001b[0m: 'str' object does not support item assignment"
          ]
        }
      ]
    },
    {
      "cell_type": "markdown",
      "source": [
        "Если вы хотите изменить строку, вам необходимо создать новую из существующей строки. Например:"
      ],
      "metadata": {
        "id": "BfXMJBAu-e40"
      }
    },
    {
      "cell_type": "code",
      "source": [
        "str = \"Python String\"\n",
        "new_str = 'J' + str[1:]\n",
        "print(new_str)"
      ],
      "metadata": {
        "colab": {
          "base_uri": "https://localhost:8080/"
        },
        "id": "LU88Ohq_-hs1",
        "outputId": "a27d4dbf-a45c-4229-a3d2-ba615ad8f622"
      },
      "execution_count": null,
      "outputs": [
        {
          "output_type": "stream",
          "name": "stdout",
          "text": [
            "Jython String\n"
          ]
        }
      ]
    },
    {
      "cell_type": "markdown",
      "source": [
        "Управляющие последовательности в строке\n",
        "Строка может содержать ряд специальных символов - управляющих последовательностей. Некоторые из них:\n",
        "\n",
        "* \\\\: позволяет добавить внутрь строки слеш\n",
        "\n",
        "* \\': позволяет добавить внутрь строки одинарную кавычку\n",
        "\n",
        "* \\\": позволяет добавить внутрь строки двойную кавычку\n",
        "\n",
        "*  \\n: осуществляет переход на новую строку\n",
        "\n",
        "*  \\t: добавляет табуляцию (4 отступа)\n",
        "\n",
        "Применим несколько последовательностей:"
      ],
      "metadata": {
        "id": "JES2h04PBXgj"
      }
    },
    {
      "cell_type": "code",
      "source": [
        "text = \"Message:\\n\\\"Hello World\\\"\"\n",
        "print(text)"
      ],
      "metadata": {
        "colab": {
          "base_uri": "https://localhost:8080/"
        },
        "id": "kaS_VmD-Bcfq",
        "outputId": "ff2e1ce5-f273-441e-87b0-bdfe4a894e08"
      },
      "execution_count": null,
      "outputs": [
        {
          "output_type": "stream",
          "name": "stdout",
          "text": [
            "Message:\n",
            "\"Hello World\"\n"
          ]
        }
      ]
    },
    {
      "cell_type": "markdown",
      "source": [
        "Хотя подобные последовательности могут нам помочь в некоторых делах, например, поместить в строку кавычку, сделать табуляцию, перенос на другую строку. Но они также могут и мешать. Например:"
      ],
      "metadata": {
        "id": "_7VlgPjhBg9p"
      }
    },
    {
      "cell_type": "code",
      "source": [
        "path = \"C:\\python\\name.txt\"\n",
        "print(path)"
      ],
      "metadata": {
        "colab": {
          "base_uri": "https://localhost:8080/"
        },
        "id": "R-mCtzBABre1",
        "outputId": "7bceb81e-7634-47ca-89a1-3facb4dbe7a8"
      },
      "execution_count": null,
      "outputs": [
        {
          "output_type": "stream",
          "name": "stdout",
          "text": [
            "C:\\python\n",
            "ame.txt\n"
          ]
        }
      ]
    },
    {
      "cell_type": "markdown",
      "source": [
        "Чтобы избежать подобной ситуации, перед строкой ставится символ $r$"
      ],
      "metadata": {
        "id": "peXoIsB1CG9h"
      }
    },
    {
      "cell_type": "code",
      "source": [
        "path = r\"C:\\python\\name.txt\"\n",
        "print(path)"
      ],
      "metadata": {
        "colab": {
          "base_uri": "https://localhost:8080/"
        },
        "id": "w85q0rxxCKq3",
        "outputId": "77b6f6df-ee47-458c-f0ba-b4c3d9ae7f52"
      },
      "execution_count": null,
      "outputs": [
        {
          "output_type": "stream",
          "name": "stdout",
          "text": [
            "C:\\python\\name.txt\n"
          ]
        }
      ]
    },
    {
      "cell_type": "markdown",
      "source": [
        "**Краткое содержание**\n",
        "* В Python строка представляет собой последовательность символов. Кроме того, строки Python неизменяемы.\n",
        "* Используйте кавычки, одинарные или двойные кавычки, для создания строковых литералов.\n",
        "* Используйте символ обратной косой черты \\, чтобы избежать кавычек в строках.\n",
        "* Используйте необработанные строки r'...', чтобы избежать символа обратной косой черты.\n",
        "* Используйте f-строки для вставки замещающих переменных в литеральные строки.\n",
        "* Поместите литеральные строки рядом друг с другом, чтобы объединить их. И используйте оператор + для объединения строковых переменных.\n",
        "* Используйте len()функцию, чтобы получить размер строки.\n",
        "* Используйте str[n]для доступа к символу в позиции n строки str.\n",
        "* Используйте нарезку для извлечения подстроки из строки."
      ],
      "metadata": {
        "id": "85s8eBa6-5HJ"
      }
    },
    {
      "cell_type": "markdown",
      "source": [
        "**Логические значения**\n",
        "\n",
        "Тип bool представляет два логических значения: True (верно, истина) или False (неверно, ложь). Значение True служит для того, чтобы показать, что что-то истинно. Тогда как значение False, наоборот, показывает, что что-то ложно. Пример переменных данного типа:"
      ],
      "metadata": {
        "id": "3oF6TT3V_ALh"
      }
    },
    {
      "cell_type": "code",
      "source": [
        "isMarried = False\n",
        "print(isMarried)    # False\n",
        "\n",
        "isAlive = True\n",
        "print(isAlive)      # True"
      ],
      "metadata": {
        "colab": {
          "base_uri": "https://localhost:8080/"
        },
        "id": "AzOzhPZ4ARh8",
        "outputId": "5ae65063-3181-402b-9b46-58ea82141485"
      },
      "execution_count": null,
      "outputs": [
        {
          "output_type": "stream",
          "name": "stdout",
          "text": [
            "False\n",
            "True\n"
          ]
        }
      ]
    },
    {
      "cell_type": "markdown",
      "source": [
        "# Целые числа\n",
        "\n",
        "Тип int представляет целое число, например, 1, 4, 8, 50. Пример"
      ],
      "metadata": {
        "id": "qGtNeVo4AT8i"
      }
    },
    {
      "cell_type": "code",
      "source": [
        "age = 21\n",
        "print(\"Возраст:\", age)    # Возраст: 21\n",
        "\n",
        "count = 15\n",
        "print(\"Количество:\", count) # Количество: 15"
      ],
      "metadata": {
        "colab": {
          "base_uri": "https://localhost:8080/"
        },
        "id": "3seKPriAAiCh",
        "outputId": "8b12318b-a7a7-43d7-d501-a236f2b92dc7"
      },
      "execution_count": null,
      "outputs": [
        {
          "output_type": "stream",
          "name": "stdout",
          "text": [
            "Возраст: 21\n",
            "Количество: 15\n"
          ]
        }
      ]
    },
    {
      "cell_type": "markdown",
      "source": [
        "По умолчанию стандартные числа расцениваются как числа в десятичной системе. Но Python также поддерживает числа в двоичной, восьмеричной и шестнадцатеричной системах.\n",
        "\n",
        "Для указания, что число представляет двоичную систему, перед числом ставится префикс 0b:"
      ],
      "metadata": {
        "id": "7PqdRhTLAe5U"
      }
    },
    {
      "cell_type": "code",
      "source": [
        "a = 0b11\n",
        "b = 0b1011\n",
        "c = 0b100001\n",
        "print(a)    # 3 в десятичной системе\n",
        "print(b)    # 11 в десятичной системе\n",
        "print(c)    # 33 в десятичной системе"
      ],
      "metadata": {
        "colab": {
          "base_uri": "https://localhost:8080/"
        },
        "id": "nqPP3NjBAn56",
        "outputId": "5ab687b7-51de-4a35-9b3e-def6d9cce50c"
      },
      "execution_count": null,
      "outputs": [
        {
          "output_type": "stream",
          "name": "stdout",
          "text": [
            "3\n",
            "11\n",
            "33\n"
          ]
        }
      ]
    },
    {
      "cell_type": "markdown",
      "source": [
        "Для указания, что число представляет восьмеричную систему, перед числом ставится префикс 0o:"
      ],
      "metadata": {
        "id": "jdJlmy5oArfl"
      }
    },
    {
      "cell_type": "code",
      "source": [
        "a = 0o7\n",
        "b = 0o11\n",
        "c = 0o17\n",
        "print(a)    # 7 в десятичной системе\n",
        "print(b)    # 9 в десятичной системе\n",
        "print(c)    # 15 в десятичной системе"
      ],
      "metadata": {
        "colab": {
          "base_uri": "https://localhost:8080/"
        },
        "id": "JLbe_y-FAuBr",
        "outputId": "2b964edb-cd7a-42e3-83e9-562b4f2226fa"
      },
      "execution_count": null,
      "outputs": [
        {
          "output_type": "stream",
          "name": "stdout",
          "text": [
            "7\n",
            "9\n",
            "15\n"
          ]
        }
      ]
    },
    {
      "cell_type": "markdown",
      "source": [
        "Для указания, что число представляет шестнадцатеричную систему, перед числом ставится префикс 0x:"
      ],
      "metadata": {
        "id": "1QQIXgTBAwhw"
      }
    },
    {
      "cell_type": "code",
      "source": [
        "a = 0x0A\n",
        "b = 0xFF\n",
        "c = 0xA1\n",
        "print(a)    # 10 в десятичной системе\n",
        "print(b)    # 255 в десятичной системе\n",
        "print(c)    # 161 в десятичной системе"
      ],
      "metadata": {
        "colab": {
          "base_uri": "https://localhost:8080/"
        },
        "id": "_3RAuujuA28z",
        "outputId": "cb640182-da84-4f09-cde0-8bca12eb1750"
      },
      "execution_count": null,
      "outputs": [
        {
          "output_type": "stream",
          "name": "stdout",
          "text": [
            "10\n",
            "255\n",
            "161\n"
          ]
        }
      ]
    },
    {
      "cell_type": "markdown",
      "source": [
        "Стоит отметить, что в какой-бы системе мы не передали число в функцию print для вывода на консоль, оно по умолчанию будет выводиться в десятичной системе."
      ],
      "metadata": {
        "id": "Hwd4SwWyA5M3"
      }
    },
    {
      "cell_type": "markdown",
      "source": [
        "## Дробные числа\n",
        "\n",
        "Тип float представляет число с плавающей точкой, например, 1.2 или 34.76. В качесте разделителя целой и дробной частей используется точка."
      ],
      "metadata": {
        "id": "bqOsBV4WA7Uu"
      }
    },
    {
      "cell_type": "code",
      "source": [
        "height = 1.68\n",
        "pi = 3.14\n",
        "weight = 68.\n",
        "print(height)   # 1.68\n",
        "print(pi)       # 3.14\n",
        "print(weight)   # 68.0"
      ],
      "metadata": {
        "colab": {
          "base_uri": "https://localhost:8080/"
        },
        "id": "d0epg5m8A-hF",
        "outputId": "8e8bc440-dc36-407f-8726-1dda90abcd78"
      },
      "execution_count": null,
      "outputs": [
        {
          "output_type": "stream",
          "name": "stdout",
          "text": [
            "1.68\n",
            "3.14\n",
            "68.0\n"
          ]
        }
      ]
    },
    {
      "cell_type": "markdown",
      "source": [
        "Число с плавающей точкой можно определять в экспоненциальной записи:"
      ],
      "metadata": {
        "id": "IDdogFKsBDPj"
      }
    },
    {
      "cell_type": "code",
      "source": [
        "x = 3.9e3\n",
        "print(x)  # 3900.0\n",
        "\n",
        "x = 3.9e-3\n",
        "print(x)  # 0.0039"
      ],
      "metadata": {
        "colab": {
          "base_uri": "https://localhost:8080/"
        },
        "id": "suU6sGFWBFOE",
        "outputId": "ea2e7d94-c634-43cb-e558-50f59ae7045b"
      },
      "execution_count": null,
      "outputs": [
        {
          "output_type": "stream",
          "name": "stdout",
          "text": [
            "3900.0\n",
            "0.0039\n"
          ]
        }
      ]
    },
    {
      "cell_type": "markdown",
      "source": [
        "Число float может иметь только 18 значимых символов. Так, в данном случае используются только два символа - 3.9. И если число слишком велико или слишком мало, то мы можем записывать число в подобной нотации, используя экспоненту. Число после экспоненты указывает степень числа 10, на которое надо умножить основное число - 3.9."
      ],
      "metadata": {
        "id": "dUSI7VsUBHYH"
      }
    },
    {
      "cell_type": "markdown",
      "source": [
        "## Комплексные числа\n",
        "\n",
        "Тип complex представляет комплексные числа в формате вещественная_часть+мнимая_частьj - после мнимой части указывается суффикс j"
      ],
      "metadata": {
        "id": "9LIU7_05BNXa"
      }
    },
    {
      "cell_type": "code",
      "source": [
        "complexNumber = 1+2j\n",
        "print(complexNumber)   # (1+2j)"
      ],
      "metadata": {
        "colab": {
          "base_uri": "https://localhost:8080/"
        },
        "id": "KP5e143iBPIa",
        "outputId": "ffc5a101-9b47-45db-9941-d4900058692f"
      },
      "execution_count": null,
      "outputs": [
        {
          "output_type": "stream",
          "name": "stdout",
          "text": [
            "(1+2j)\n"
          ]
        }
      ]
    },
    {
      "cell_type": "markdown",
      "source": [
        "## Арифметические операции"
      ],
      "metadata": {
        "id": "mXIkBwNZEauF"
      }
    },
    {
      "cell_type": "markdown",
      "source": [
        "![image.png](data:image/png;base64,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)"
      ],
      "metadata": {
        "id": "5j5BUwGvEa9O"
      }
    },
    {
      "cell_type": "markdown",
      "source": [
        "# Модуль math"
      ],
      "metadata": {
        "id": "bos8madQEcsW"
      }
    },
    {
      "cell_type": "markdown",
      "source": [
        "Модуль math – один из наиважнейших в Python. Этот модуль предоставляет обширный функционал для работы с числами.\n",
        "\n",
        "* math.ceil(X) – округление до ближайшего большего числа.\n",
        "\n",
        "* math.copysign(X, Y) - возвращает число, имеющее модуль такой же, как и у числа X, а знак - как у числа Y.\n",
        "\n",
        "* math.fabs(X) - модуль X.\n",
        "\n",
        "* math.factorial(X) - факториал числа X.\n",
        "\n",
        "* math.floor(X) - округление вниз.\n",
        "\n",
        "* math.fmod(X, Y) - остаток от деления X на Y.\n",
        "\n",
        "* math.frexp(X) - возвращает мантиссу и экспоненту числа.\n",
        "\n",
        "* $math.ldexp(X, I) - X * 2^i$. Функция, обратная функции math.frexp().\n",
        "\n",
        "* math.fsum(последовательность) - сумма всех членов последовательности. Эквивалент встроенной функции sum(), но math.fsum() более точна для чисел с плавающей точкой.\n",
        "\n",
        "* math.isfinite(X) - является ли X числом.\n",
        "\n",
        "*  math.isinf(X) - является ли X бесконечностью.\n",
        "\n",
        "* math.isnan(X) - является ли X NaN (Not a Number - не число).\n",
        "\n",
        "*  math.modf(X) - возвращает дробную и целую часть числа X. Оба числа имеют тот же знак, что и X.\n",
        "\n",
        "*  math.trunc(X) - усекает значение X до целого.\n",
        "\n",
        "* $math.exp(X) - e^X$.\n",
        "\n",
        "* $math.expm1(X) - e^X - 1$. При X → 0 точнее, чем math.exp(X)-1.\n",
        "\n",
        "* math.log(X, [base]) - логарифм X по основанию base. Если base не указан, вычисляется натуральный логарифм.\n",
        "\n",
        "* math.log1p(X) - натуральный логарифм (1 + X). При X → 0 точнее, чем math.log(1+X).\n",
        "\n",
        "*  math.log10(X) - логарифм X по основанию 10.\n",
        "\n",
        "* math.log2(X) - логарифм X по основанию 2.\n",
        "\n",
        "* $math.pow(X, Y) - X^Y$.\n",
        "\n",
        "* math.sqrt(X) - квадратный корень из X.\n",
        "\n",
        "* math.acos(X) - арккосинус X. В радианах.\n",
        "\n",
        "* math.asin(X) - арксинус X. В радианах.\n",
        "\n",
        "* math.atan(X) - арктангенс X. В радианах.\n",
        "\n",
        "* math.atan2(Y, X) - арктангенс Y/X. В радианах. С учетом четверти, в которой находится точка (X, Y).\n",
        "\n",
        "* math.cos(X) - косинус X (X указывается в радианах).\n",
        "\n",
        "* math.sin(X) - синус X (X указывается в радианах).\n",
        "\n",
        "* math.tan(X) - тангенс X (X указывается в радианах).\n",
        "\n",
        "* math.hypot(X, Y) - вычисляет гипотенузу треугольника с катетами X и Y (math.sqrt(x * x + y * y)).\n",
        "\n",
        "* math.degrees(X) - конвертирует радианы в градусы.\n",
        "\n",
        "* math.radians(X) - конвертирует градусы в радианы.\n",
        "\n",
        "* math.cosh(X) - вычисляет гиперболический косинус.\n",
        "\n",
        "* math.sinh(X) - вычисляет гиперболический синус.\n",
        "\n",
        "* math.tanh(X) - вычисляет гиперболический тангенс.\n",
        "\n",
        "* math.acosh(X) - вычисляет обратный гиперболический косинус.\n",
        "\n",
        "* math.asinh(X) - вычисляет обратный гиперболический синус.\n",
        "\n",
        "* math.atanh(X) - вычисляет обратный гиперболический тангенс.\n",
        "\n",
        "* math.erf(X) - функция ошибок.\n",
        "\n",
        "* math.erfc(X) - дополнительная функция ошибок (1 - math.erf(X)).\n",
        "\n",
        "* math.gamma(X) - гамма-функция X.\n",
        "\n",
        "* math.lgamma(X) - натуральный логарифм гамма-функции X.\n",
        "\n",
        "* math.pi - pi = 3,1415926...\n",
        "\n",
        "* math.e - e = 2,718281..."
      ],
      "metadata": {
        "id": "1zaXGxk5E2BH"
      }
    },
    {
      "cell_type": "markdown",
      "source": [
        "## Поразрядные операции с числами"
      ],
      "metadata": {
        "id": "6H5zTe9iFgQj"
      }
    },
    {
      "cell_type": "markdown",
      "source": [
        "Побитовое И (AND):"
      ],
      "metadata": {
        "id": "4hnEw9c9GZEb"
      }
    },
    {
      "cell_type": "code",
      "source": [
        "a = 60  # 60 = 0011 1100\n",
        "b = 13  # 13 = 0000 1101\n",
        "c = a & b\n",
        "print(\"Результат побитового И:\", c)  # Результат: 12 (0000 1100)"
      ],
      "metadata": {
        "colab": {
          "base_uri": "https://localhost:8080/"
        },
        "id": "fl9b-OFpGfjH",
        "outputId": "31ef1429-66d8-4fa8-ea5c-3920a39ebbc6"
      },
      "execution_count": null,
      "outputs": [
        {
          "output_type": "stream",
          "name": "stdout",
          "text": [
            "Результат побитового И: 12\n"
          ]
        }
      ]
    },
    {
      "cell_type": "markdown",
      "source": [
        "Побитовое ИЛИ (OR):"
      ],
      "metadata": {
        "id": "L1FSdLTsGmHn"
      }
    },
    {
      "cell_type": "code",
      "source": [
        "a = 60  # 60 = 0011 1100\n",
        "b = 13  # 13 = 0000 1101\n",
        "c = a | b\n",
        "print(\"Результат побитового ИЛИ:\", c)  # Результат: 61 (0011 1101)\n"
      ],
      "metadata": {
        "colab": {
          "base_uri": "https://localhost:8080/"
        },
        "id": "wexBEsqcGn55",
        "outputId": "ae72b826-9a29-471b-e9dd-908405e3a945"
      },
      "execution_count": null,
      "outputs": [
        {
          "output_type": "stream",
          "name": "stdout",
          "text": [
            "Результат побитового ИЛИ: 61\n"
          ]
        }
      ]
    },
    {
      "cell_type": "markdown",
      "source": [
        "Побитовое исключающее ИЛИ (XOR):"
      ],
      "metadata": {
        "id": "mOxciTPjGqRm"
      }
    },
    {
      "cell_type": "code",
      "source": [
        "a = 60  # 60 = 0011 1100\n",
        "b = 13  # 13 = 0000 1101\n",
        "c = a ^ b\n",
        "print(\"Результат побитового XOR:\", c)  # Результат: 49 (0011 0001)\n"
      ],
      "metadata": {
        "colab": {
          "base_uri": "https://localhost:8080/"
        },
        "id": "lUGBMIX7Gs62",
        "outputId": "d305948a-b279-4901-9a4f-af3acbd28f7a"
      },
      "execution_count": null,
      "outputs": [
        {
          "output_type": "stream",
          "name": "stdout",
          "text": [
            "Результат побитового XOR: 49\n"
          ]
        }
      ]
    },
    {
      "cell_type": "markdown",
      "source": [
        "Побитовый сдвиг влево:"
      ],
      "metadata": {
        "id": "mdnq8_G_Gv3Q"
      }
    },
    {
      "cell_type": "code",
      "source": [
        "a = 60  # 60 = 0011 1100\n",
        "c = a << 2\n",
        "print(\"Результат побитового сдвига влево:\", c)  # Результат: 240 (1111 0000)\n"
      ],
      "metadata": {
        "colab": {
          "base_uri": "https://localhost:8080/"
        },
        "id": "a4b9FXPsGyT4",
        "outputId": "75ad46e7-2f2d-4e55-d9c4-75ee69749f54"
      },
      "execution_count": null,
      "outputs": [
        {
          "output_type": "stream",
          "name": "stdout",
          "text": [
            "Результат побитового сдвига влево: 240\n"
          ]
        }
      ]
    },
    {
      "cell_type": "markdown",
      "source": [
        "Побитовый сдвиг вправо:"
      ],
      "metadata": {
        "id": "-I1vTlpnG09y"
      }
    },
    {
      "cell_type": "code",
      "source": [
        "a = 60  # 60 = 0011 1100\n",
        "c = a >> 2\n",
        "print(\"Результат побитового сдвига вправо:\", c)  # Результат: 15 (0000 1111)"
      ],
      "metadata": {
        "colab": {
          "base_uri": "https://localhost:8080/"
        },
        "id": "cvjc36ZjG46J",
        "outputId": "ed030a58-a1e4-464f-e03a-fc5525477111"
      },
      "execution_count": null,
      "outputs": [
        {
          "output_type": "stream",
          "name": "stdout",
          "text": [
            "Результат побитового сдвига вправо: 15\n"
          ]
        }
      ]
    },
    {
      "cell_type": "markdown",
      "source": [
        "Побитовый отрицательный (NOT):"
      ],
      "metadata": {
        "id": "T8G86YZMG7Qf"
      }
    },
    {
      "cell_type": "code",
      "source": [
        "a = 60  # 60 = 0011 1100\n",
        "c = ~a\n",
        "print(\"Результат побитового отрицания:\", c)  # Результат: -61"
      ],
      "metadata": {
        "colab": {
          "base_uri": "https://localhost:8080/"
        },
        "id": "NWRjQRo6G-0A",
        "outputId": "08dd653c-f20a-4111-8015-e9604e197de9"
      },
      "execution_count": null,
      "outputs": [
        {
          "output_type": "stream",
          "name": "stdout",
          "text": [
            "Результат побитового отрицания: -61\n"
          ]
        }
      ]
    },
    {
      "cell_type": "markdown",
      "source": [
        "# Условные выражения"
      ],
      "metadata": {
        "id": "4CYly5JjG4AJ"
      }
    },
    {
      "cell_type": "markdown",
      "source": [
        "![image.png](data:image/png;base64,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)"
      ],
      "metadata": {
        "id": "zseEERoSIMo6"
      }
    },
    {
      "cell_type": "code",
      "source": [
        "a = 5\n",
        "b = 6\n",
        "result = 5 == 6  # сохраняем результат операции в переменную\n",
        "print(result)  # False - 5 не равно 6\n",
        "print(a != b)  # True\n",
        "print(a > b)  # False - 5 меньше 6\n",
        "print(a < b)  # True\n",
        "\n",
        "bool1 = True\n",
        "bool2 = False\n",
        "print(bool1 == bool2)  # False - bool1 не равно bool2"
      ],
      "metadata": {
        "colab": {
          "base_uri": "https://localhost:8080/"
        },
        "id": "cyuv7UTUIclO",
        "outputId": "3dcb9121-49f2-4b0d-93e3-6f968870f157"
      },
      "execution_count": null,
      "outputs": [
        {
          "output_type": "stream",
          "name": "stdout",
          "text": [
            "False\n",
            "True\n",
            "False\n",
            "True\n",
            "False\n"
          ]
        }
      ]
    },
    {
      "cell_type": "code",
      "source": [
        "message = \"hello world!\"\n",
        "hello = \"hello\"\n",
        "print(hello in message)  # True - подстрока hello есть в строке \"hello world!\"\n",
        "\n",
        "gold = \"gold\"\n",
        "print(gold in message)  # False - подстроки \"gold\" нет в строке \"hello world!\""
      ],
      "metadata": {
        "colab": {
          "base_uri": "https://localhost:8080/"
        },
        "id": "xttxi7DEI7wj",
        "outputId": "2f302273-8f14-4a01-be08-bc0c3eed1282"
      },
      "execution_count": null,
      "outputs": [
        {
          "output_type": "stream",
          "name": "stdout",
          "text": [
            "True\n",
            "False\n"
          ]
        }
      ]
    },
    {
      "cell_type": "markdown",
      "source": [
        "## Логические операции"
      ],
      "metadata": {
        "id": "YuWuA9VHIj7C"
      }
    },
    {
      "cell_type": "markdown",
      "source": [
        "![image.png](data:image/png;base64,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)"
      ],
      "metadata": {
        "id": "M0I3LPE7IpCT"
      }
    },
    {
      "cell_type": "code",
      "source": [
        "age = 22\n",
        "weight = 58\n",
        "result = age > 21 and weight == 58\n",
        "print(result)  # True"
      ],
      "metadata": {
        "colab": {
          "base_uri": "https://localhost:8080/"
        },
        "id": "bxWlc_6KIoO2",
        "outputId": "3837b002-e0a2-4cc5-fa15-423834a5aa7e"
      },
      "execution_count": null,
      "outputs": [
        {
          "output_type": "stream",
          "name": "stdout",
          "text": [
            "True\n"
          ]
        }
      ]
    },
    {
      "cell_type": "markdown",
      "source": [
        "# Условная конструкция if"
      ],
      "metadata": {
        "id": "Iuq_9WSOJBzT"
      }
    },
    {
      "cell_type": "markdown",
      "source": [
        "Условные конструкции используют условные выражения и в зависимости от их значения направляют выполнение программы по одному из путей. Одна из таких конструкций - это конструкция if. Она имеет следующее формальное определение:"
      ],
      "metadata": {
        "id": "04bgKNFkJgH8"
      }
    },
    {
      "cell_type": "markdown",
      "source": [
        "![image.png](data:image/png;base64,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)"
      ],
      "metadata": {
        "id": "c2fdhP3lJb9I"
      }
    },
    {
      "cell_type": "markdown",
      "source": [
        "![1.png](data:image/png;base64,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)"
      ],
      "metadata": {
        "id": "rbThm2uTJ7kd"
      }
    },
    {
      "cell_type": "code",
      "source": [
        "age = input('Enter your age:')\n",
        "if int(age) >= 18:\n",
        "    print(\"You're eligible to vote.\")"
      ],
      "metadata": {
        "colab": {
          "base_uri": "https://localhost:8080/"
        },
        "id": "N4YfSrXLKF5n",
        "outputId": "b1e86677-af01-454f-cbed-6167598c2410"
      },
      "execution_count": null,
      "outputs": [
        {
          "output_type": "stream",
          "name": "stdout",
          "text": [
            "Enter your age:25\n",
            "You're eligible to vote.\n"
          ]
        }
      ]
    },
    {
      "cell_type": "markdown",
      "source": [
        "![2.png](data:image/png;base64,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)"
      ],
      "metadata": {
        "id": "NymO0yM9J8Sh"
      }
    },
    {
      "cell_type": "code",
      "source": [
        "age = input('Enter your age:')\n",
        "if int(age) >= 18:\n",
        "    print(\"You're eligible to vote.\")\n",
        "else:\n",
        "    print(\"You're not eligible to vote.\")"
      ],
      "metadata": {
        "colab": {
          "base_uri": "https://localhost:8080/"
        },
        "id": "47bLL9vDKJgH",
        "outputId": "837a197f-f83e-4194-a658-0df282193ee2"
      },
      "execution_count": null,
      "outputs": [
        {
          "output_type": "stream",
          "name": "stdout",
          "text": [
            "Enter your age:2\n",
            "You're not eligible to vote.\n"
          ]
        }
      ]
    },
    {
      "cell_type": "markdown",
      "source": [
        "![3.png](data:image/png;base64,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)"
      ],
      "metadata": {
        "id": "Uc3EZbPNJ90m"
      }
    },
    {
      "cell_type": "code",
      "source": [
        "age = input('Enter your age:')\n",
        "\n",
        "# convert the string to int\n",
        "your_age = int(age)\n",
        "\n",
        "# determine the ticket price\n",
        "if your_age < 5:\n",
        "    ticket_price = 5\n",
        "elif your_age < 16:\n",
        "    ticket_price = 10\n",
        "else:\n",
        "    ticket_price = 18\n",
        "\n",
        "# show the ticket price\n",
        "print(f\"You'll pay ${ticket_price} for the ticket\")"
      ],
      "metadata": {
        "colab": {
          "base_uri": "https://localhost:8080/"
        },
        "id": "rw9rkg37KOrC",
        "outputId": "cb2777e1-c45c-4643-b6f1-a96803e92e1e"
      },
      "execution_count": null,
      "outputs": [
        {
          "output_type": "stream",
          "name": "stdout",
          "text": [
            "Enter your age:222\n",
            "You'll pay $18 for the ticket\n"
          ]
        }
      ]
    },
    {
      "cell_type": "markdown",
      "source": [
        "## Тернарный оператор"
      ],
      "metadata": {
        "id": "Ii5LimAfJ_gc"
      }
    },
    {
      "cell_type": "markdown",
      "source": [
        "Следующая программа запрашивает ваш возраст и на его основе определяет стоимость билета:"
      ],
      "metadata": {
        "id": "Ici1d7UZKniV"
      }
    },
    {
      "cell_type": "code",
      "source": [
        "age = input('Enter your age:')\n",
        "\n",
        "if int(age) >= 18:\n",
        "    ticket_price = 20\n",
        "else:\n",
        "    ticket_price = 5\n",
        "\n",
        "print(f\"The ticket price is {ticket_price}\")"
      ],
      "metadata": {
        "colab": {
          "base_uri": "https://localhost:8080/"
        },
        "id": "65CE1ZloIoR4",
        "outputId": "142fd66d-d59a-4a6c-fb4f-4342b968aa7c"
      },
      "execution_count": null,
      "outputs": [
        {
          "output_type": "stream",
          "name": "stdout",
          "text": [
            "Enter your age:5\n",
            "The ticket price is 5\n"
          ]
        }
      ]
    },
    {
      "cell_type": "markdown",
      "source": [
        "Чтобы сделать его более кратким, вы можете использовать альтернативный синтаксис, например:"
      ],
      "metadata": {
        "id": "_BwcZP5KK2IM"
      }
    },
    {
      "cell_type": "code",
      "source": [
        "ticket_price = 20 if int(age) >= 18 else 5\n",
        "print(f\"The ticket price is {ticket_price}\")"
      ],
      "metadata": {
        "colab": {
          "base_uri": "https://localhost:8080/"
        },
        "id": "vb5U2amcK2ws",
        "outputId": "79312c95-36a9-42b1-c148-120da69bfcdc"
      },
      "execution_count": null,
      "outputs": [
        {
          "output_type": "stream",
          "name": "stdout",
          "text": [
            "The ticket price is 5\n"
          ]
        }
      ]
    },
    {
      "cell_type": "markdown",
      "source": [
        "В этом утверждении левая часть оператора присваивания ( =) является переменной ticket_price.\n",
        "\n",
        "Выражение в правой части возвращает 20, если ageбольше или равно 18или 5нет.\n",
        "\n",
        "Следующий синтаксис называется тернарным оператором в Python:"
      ],
      "metadata": {
        "id": "cfo0VHdJLAJ3"
      }
    },
    {
      "cell_type": "markdown",
      "source": [
        "**condition ? value_if_true : value_if_false**\n",
        "\n",
        "\n",
        "\n"
      ],
      "metadata": {
        "id": "69TBfifwLBKe"
      }
    },
    {
      "cell_type": "markdown",
      "source": [
        "# Циклы"
      ],
      "metadata": {
        "id": "sCrycfPBLIAL"
      }
    },
    {
      "cell_type": "markdown",
      "source": [
        "Циклы позволяют выполнять некоторое действие в зависимости от соблюдения некоторого условия. В языке Python есть следующие типы циклов:\n",
        "\n",
        "* while\n",
        "\n",
        "* for\n"
      ],
      "metadata": {
        "id": "8X7vHjTwVqEw"
      }
    },
    {
      "cell_type": "markdown",
      "source": [
        "# Цикл while\n",
        "\n",
        "Цикл while проверяет истинность некоторого условия, и если условие истинно, то выполняет инструкции цикла. Он имеет следующее формальное определение:"
      ],
      "metadata": {
        "id": "v-yj2601Vt4_"
      }
    },
    {
      "cell_type": "markdown",
      "source": [
        "\n",
        "\n",
        "```\n",
        "while условное_выражение:\n",
        "   инструкции\n",
        "```\n",
        "\n"
      ],
      "metadata": {
        "id": "RlliRnTlVv0Q"
      }
    },
    {
      "cell_type": "markdown",
      "source": [
        "![222.png](data:image/png;base64,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)"
      ],
      "metadata": {
        "id": "Pb2k4pVeWpJ_"
      }
    },
    {
      "cell_type": "code",
      "source": [
        "number = 1\n",
        "\n",
        "while number < 5:\n",
        "    print(f\"number = {number}\")\n",
        "    number += 1\n",
        "print(\"Работа программы завершена\")"
      ],
      "metadata": {
        "colab": {
          "base_uri": "https://localhost:8080/"
        },
        "id": "jlSbPjEFWCVS",
        "outputId": "8e17c65c-830f-4937-de13-4b33edb54ad5"
      },
      "execution_count": null,
      "outputs": [
        {
          "output_type": "stream",
          "name": "stdout",
          "text": [
            "number = 1\n",
            "number = 2\n",
            "number = 3\n",
            "number = 4\n",
            "Работа программы завершена\n"
          ]
        }
      ]
    },
    {
      "cell_type": "markdown",
      "source": [
        "Для цикла while также можно определить дополнительный блок else, инструкции которого выполняются, когда условие равно False:"
      ],
      "metadata": {
        "id": "7x3vZlPaWDLv"
      }
    },
    {
      "cell_type": "code",
      "source": [
        "number = 1\n",
        "\n",
        "while number < 5:\n",
        "    print(f\"number = {number}\")\n",
        "    number += 1\n",
        "else:\n",
        "    print(f\"number = {number}. Работа цикла завершена\")\n",
        "print(\"Работа программы завершена\")"
      ],
      "metadata": {
        "colab": {
          "base_uri": "https://localhost:8080/"
        },
        "id": "N2azdCetWGh9",
        "outputId": "217f2143-c11e-4df9-9eaa-36781ad7e51c"
      },
      "execution_count": null,
      "outputs": [
        {
          "output_type": "stream",
          "name": "stdout",
          "text": [
            "number = 1\n",
            "number = 2\n",
            "number = 3\n",
            "number = 4\n",
            "number = 5. Работа цикла завершена\n",
            "Работа программы завершена\n"
          ]
        }
      ]
    },
    {
      "cell_type": "markdown",
      "source": [
        "# Цикл for\n",
        "\n",
        "Другой тип циклов представляет конструкция for. Этот цикл пробегается по набору значений, помещает каждое значение в переменную, и затем в цикле мы можем с этой переменной производить различные действия. Формальное определение цикла for:"
      ],
      "metadata": {
        "id": "Tc_WlKbGW95F"
      }
    },
    {
      "cell_type": "markdown",
      "source": [
        "\n",
        "\n",
        "```\n",
        "for переменная in набор_значений:\n",
        "    инструкции\n",
        "```\n",
        "\n"
      ],
      "metadata": {
        "id": "aa7JaI8sXEtI"
      }
    },
    {
      "cell_type": "markdown",
      "source": [
        "![33.png](data:image/png;base64,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)"
      ],
      "metadata": {
        "id": "ld68p8hVXJpJ"
      }
    },
    {
      "cell_type": "code",
      "source": [
        "for index in range(5):\n",
        "    print(index)"
      ],
      "metadata": {
        "colab": {
          "base_uri": "https://localhost:8080/"
        },
        "id": "6qcuh6EwXhCr",
        "outputId": "2371b7ac-ce18-4b2e-ce6a-2fdfa44e691f"
      },
      "execution_count": null,
      "outputs": [
        {
          "output_type": "stream",
          "name": "stdout",
          "text": [
            "0\n",
            "1\n",
            "2\n",
            "3\n",
            "4\n"
          ]
        }
      ]
    },
    {
      "cell_type": "markdown",
      "source": [
        "Цикл for также может иметь дополнительный блок else, который выполняется после завершения цикла:"
      ],
      "metadata": {
        "id": "1Zgp2XgpXbEi"
      }
    },
    {
      "cell_type": "code",
      "source": [
        "message = \"Hello\"\n",
        "for c in message:\n",
        "    print(c)\n",
        "else:\n",
        "    print(f\"Последний символ: {c}. Цикл завершен\");\n",
        "print(\"Работа программы завершена\")  # инструкция не имеет отступа, поэтому не относится к else"
      ],
      "metadata": {
        "colab": {
          "base_uri": "https://localhost:8080/"
        },
        "id": "hGaZr3zGXmIB",
        "outputId": "5e1be801-57e5-4686-8453-5b950f7dda82"
      },
      "execution_count": null,
      "outputs": [
        {
          "output_type": "stream",
          "name": "stdout",
          "text": [
            "H\n",
            "e\n",
            "l\n",
            "l\n",
            "o\n",
            "Последний символ: o. Цикл завершен\n",
            "Работа программы завершена\n"
          ]
        }
      ]
    },
    {
      "cell_type": "markdown",
      "source": [
        "## Вложенные циклы\n",
        "\n",
        "Одни циклы внутри себя могут содержать другие циклы. Рассмотрим на примере вывода таблицы умножения:"
      ],
      "metadata": {
        "id": "OvQPqNaJX12X"
      }
    },
    {
      "cell_type": "code",
      "source": [
        "i = 1\n",
        "j = 1\n",
        "while i < 10:\n",
        "    while j < 10:\n",
        "        print(i * j, end=\"\\t\")\n",
        "        j += 1\n",
        "    print(\"\\n\")\n",
        "    j = 1\n",
        "    i += 1"
      ],
      "metadata": {
        "colab": {
          "base_uri": "https://localhost:8080/"
        },
        "id": "hjY9FZZ6X3mW",
        "outputId": "2714564a-4310-427f-d610-65331b63dea8"
      },
      "execution_count": null,
      "outputs": [
        {
          "output_type": "stream",
          "name": "stdout",
          "text": [
            "1\t2\t3\t4\t5\t6\t7\t8\t9\t\n",
            "\n",
            "2\t4\t6\t8\t10\t12\t14\t16\t18\t\n",
            "\n",
            "3\t6\t9\t12\t15\t18\t21\t24\t27\t\n",
            "\n",
            "4\t8\t12\t16\t20\t24\t28\t32\t36\t\n",
            "\n",
            "5\t10\t15\t20\t25\t30\t35\t40\t45\t\n",
            "\n",
            "6\t12\t18\t24\t30\t36\t42\t48\t54\t\n",
            "\n",
            "7\t14\t21\t28\t35\t42\t49\t56\t63\t\n",
            "\n",
            "8\t16\t24\t32\t40\t48\t56\t64\t72\t\n",
            "\n",
            "9\t18\t27\t36\t45\t54\t63\t72\t81\t\n",
            "\n"
          ]
        }
      ]
    },
    {
      "cell_type": "markdown",
      "source": [
        "## Выход из цикла. break и continue\n",
        "\n",
        "Для управления циклом мы можем использовать специальные операторы break и continue. Оператор break осуществляет выход из цикла. А оператор continue выполняет переход к следующей итерации цикла.\n",
        "\n",
        "Оператор break может использоваться, если в цикле образуются условия, которые несовместимы с его дальнейшим выполнением. Рассмотрим следующий пример:"
      ],
      "metadata": {
        "id": "8CkfeyBOYBJ8"
      }
    },
    {
      "cell_type": "code",
      "source": [
        "number = 0\n",
        "while number < 5:\n",
        "    number += 1\n",
        "    if number == 3 :    # если number = 3, выходим из цикла\n",
        "        break\n",
        "    print(f\"number = {number}\")"
      ],
      "metadata": {
        "colab": {
          "base_uri": "https://localhost:8080/"
        },
        "id": "uvrBySIWYDHo",
        "outputId": "141ba64e-f590-4a1a-a78c-55ebea404889"
      },
      "execution_count": null,
      "outputs": [
        {
          "output_type": "stream",
          "name": "stdout",
          "text": [
            "number = 1\n",
            "number = 2\n"
          ]
        }
      ]
    },
    {
      "cell_type": "markdown",
      "source": [
        "В отличие от оператора break оператор continue выполняет переход к следующей итерации цикла без его завершения. Например, в предыдущем примере заменим break на continue:"
      ],
      "metadata": {
        "id": "TWbkhc4cYMfN"
      }
    },
    {
      "cell_type": "code",
      "source": [
        "number = 0\n",
        "while number < 5:\n",
        "    number += 1\n",
        "    if number == 3 :    # если number = 3, переходим к новой итерации цикла\n",
        "        continue\n",
        "    print(f\"number = {number}\")"
      ],
      "metadata": {
        "colab": {
          "base_uri": "https://localhost:8080/"
        },
        "id": "ZP4ypG-OYRxK",
        "outputId": "ea5e731f-8b63-4be9-a259-4d2f0d8ceb7c"
      },
      "execution_count": null,
      "outputs": [
        {
          "output_type": "stream",
          "name": "stdout",
          "text": [
            "number = 1\n",
            "number = 2\n",
            "number = 4\n",
            "number = 5\n"
          ]
        }
      ]
    },
    {
      "cell_type": "markdown",
      "source": [
        "# Функции"
      ],
      "metadata": {
        "id": "vKboTG1yawTU"
      }
    },
    {
      "cell_type": "markdown",
      "source": [
        "Функции представляют блок кода, который выполняет определенную задачу и который можно повторно использовать в других частях программы. В предыдущих статьях уже использовались функции. В частности, функция print(), которая выводит некоторое значение на консоль. Python имеет множество встроенных функций и позволяет определять свои функции. Формальное определение функции:"
      ],
      "metadata": {
        "id": "_1NyG0gDaxrV"
      }
    },
    {
      "cell_type": "markdown",
      "source": [
        "\n",
        "\n",
        "```\n",
        "def имя_функции ([параметры]):\n",
        "    инструкции\n",
        "```\n",
        "\n"
      ],
      "metadata": {
        "id": "3ViMijQoa0Gk"
      }
    },
    {
      "cell_type": "code",
      "source": [
        "def say_hello():\n",
        "    print(\"Hello\")\n",
        "\n",
        "say_hello()"
      ],
      "metadata": {
        "colab": {
          "base_uri": "https://localhost:8080/"
        },
        "id": "Cjpisd_8a-YL",
        "outputId": "b7f43a61-70af-4ab8-f044-2e1c8a6b5ad5"
      },
      "execution_count": null,
      "outputs": [
        {
          "output_type": "stream",
          "name": "stdout",
          "text": [
            "Hello\n"
          ]
        }
      ]
    },
    {
      "cell_type": "markdown",
      "source": [
        "Если функция имеет одну инструкцию, то ее можно разместить на одной строке с остальным определением функции:"
      ],
      "metadata": {
        "id": "GANUqwTsa4t7"
      }
    },
    {
      "cell_type": "code",
      "source": [
        "def say_hello(): print(\"Hello\")\n",
        "\n",
        "say_hello()"
      ],
      "metadata": {
        "colab": {
          "base_uri": "https://localhost:8080/"
        },
        "id": "k1nkUb5QbHZT",
        "outputId": "a60446ec-a2c7-4e31-d9e1-ebf3faa70960"
      },
      "execution_count": null,
      "outputs": [
        {
          "output_type": "stream",
          "name": "stdout",
          "text": [
            "Hello\n"
          ]
        }
      ]
    },
    {
      "cell_type": "markdown",
      "source": [
        "Подобным образом можно определять и вызывать и другие функции. Например, определим и выполним несколько функций:"
      ],
      "metadata": {
        "id": "7OkK4FOqbQBE"
      }
    },
    {
      "cell_type": "code",
      "source": [
        "def say_hello():\n",
        "    print(\"Hello\")\n",
        "\n",
        "\n",
        "def say_goodbye():\n",
        "    print(\"Good Bye\")\n",
        "\n",
        "\n",
        "say_hello()\n",
        "say_goodbye()"
      ],
      "metadata": {
        "colab": {
          "base_uri": "https://localhost:8080/"
        },
        "id": "QoAxFCs8bSlK",
        "outputId": "9ba68d16-73a9-4571-920b-1274f5568dfd"
      },
      "execution_count": null,
      "outputs": [
        {
          "output_type": "stream",
          "name": "stdout",
          "text": [
            "Hello\n",
            "Good Bye\n"
          ]
        }
      ]
    },
    {
      "cell_type": "markdown",
      "source": [
        "## Локальные функции\n",
        "\n",
        "Одни функции могут определяться внутри других функций - внутренние функции еще называют локальными. Локальные функции можно использовать только внутри той функции, в которой они определены. Например:"
      ],
      "metadata": {
        "id": "ER760uJfbVU6"
      }
    },
    {
      "cell_type": "code",
      "source": [
        "def print_messages():\n",
        "    # определение локальных функций\n",
        "    def say_hello(): print(\"Hello\")\n",
        "    def say_goodbye(): print(\"Good Bye\")\n",
        "    # вызов локальных функций\n",
        "    say_hello()\n",
        "    say_goodbye()\n",
        "\n",
        "# Вызов функции print_messages\n",
        "print_messages()\n",
        "\n",
        "#say_hello() # вне функции print_messages функция say_hello не доступна"
      ],
      "metadata": {
        "colab": {
          "base_uri": "https://localhost:8080/"
        },
        "id": "iaczMKfebaeM",
        "outputId": "5d5ab47f-63e2-47e8-f05a-d989159ffcbe"
      },
      "execution_count": null,
      "outputs": [
        {
          "output_type": "stream",
          "name": "stdout",
          "text": [
            "Hello\n",
            "Good Bye\n"
          ]
        }
      ]
    },
    {
      "cell_type": "markdown",
      "source": [
        "## Организация программы и функция main\n",
        "\n",
        "В программе может быть определено множество функций. И чтобы всех их упорядочить, одним из способов их организации является добавление специальной функции (обычно называется main), в которой потом уже вызываются другие функции:"
      ],
      "metadata": {
        "id": "FgzMTu8ObfRB"
      }
    },
    {
      "cell_type": "code",
      "source": [
        "def main():\n",
        "    say_hello()\n",
        "    say_goodbye()\n",
        "\n",
        "def say_hello():\n",
        "    print(\"Hello\")\n",
        "\n",
        "def say_goodbye():\n",
        "    print(\"Good Bye\")\n",
        "\n",
        "# Вызов функции main\n",
        "main()"
      ],
      "metadata": {
        "colab": {
          "base_uri": "https://localhost:8080/"
        },
        "id": "YfYo6g_Dbl4A",
        "outputId": "ec8223aa-d71e-4def-aca1-bd991c0cd4bf"
      },
      "execution_count": null,
      "outputs": [
        {
          "output_type": "stream",
          "name": "stdout",
          "text": [
            "Hello\n",
            "Good Bye\n"
          ]
        }
      ]
    },
    {
      "cell_type": "markdown",
      "source": [
        "## Параметры функции\n",
        "\n",
        "Функция может принимать параметры. Через параметры в функцию можно передавать данные. Банальный пример - функция print(), которая с помощью параметра принимает значение, выводимое на консоль.\n",
        "\n",
        "Теперь определим и используем свою функцию с параметрами:"
      ],
      "metadata": {
        "id": "_OORbyvcbpNq"
      }
    },
    {
      "cell_type": "code",
      "source": [
        "def say_hello(name):\n",
        "    print(f\"Hello, {name}\")\n",
        "\n",
        "say_hello(\"Adelina\")\n",
        "say_hello(\"Sabina\")\n",
        "say_hello(\"Amina\")"
      ],
      "metadata": {
        "colab": {
          "base_uri": "https://localhost:8080/"
        },
        "id": "BxsV_z_9b2km",
        "outputId": "f5d84fd9-183c-4cac-bbae-0079c5228d2c"
      },
      "execution_count": null,
      "outputs": [
        {
          "output_type": "stream",
          "name": "stdout",
          "text": [
            "Hello, Adelina\n",
            "Hello, Sabina\n",
            "Hello, Amina\n"
          ]
        }
      ]
    },
    {
      "cell_type": "markdown",
      "source": [
        "При вызове функции значения передаются параметрам по позиции. Например, определим и вызовем функцию с несколькими параметрами:"
      ],
      "metadata": {
        "id": "0xBKCTbBb_rL"
      }
    },
    {
      "cell_type": "code",
      "source": [
        "def print_person(name, age):\n",
        "    print(f\"Name: {name}\")\n",
        "    print(f\"Age: {age}\")\n",
        "\n",
        "\n",
        "print_person(\"Almazchik\", 18)"
      ],
      "metadata": {
        "colab": {
          "base_uri": "https://localhost:8080/"
        },
        "id": "H91A5fcpb_Qh",
        "outputId": "49142295-35e1-4956-eb75-82ae0eaea207"
      },
      "execution_count": null,
      "outputs": [
        {
          "output_type": "stream",
          "name": "stdout",
          "text": [
            "Name: Almazchik\n",
            "Age: 18\n"
          ]
        }
      ]
    },
    {
      "cell_type": "markdown",
      "source": [
        "## Значения по умолчанию\n",
        "\n",
        "Некоторые параметры функции мы можем сделать необязательными, указав для них значения по умолчанию при определении функции. Например:"
      ],
      "metadata": {
        "id": "lgCVMxrscOkh"
      }
    },
    {
      "cell_type": "code",
      "source": [
        "def say_hello(name=\"Alice\"):\n",
        "    print(f\"Hello, {name}\")\n",
        "\n",
        "\n",
        "say_hello()         # здесь параметр name будет иметь значение \"Alice\"\n",
        "say_hello(\"Laysan\")    # здесь name = \"Laysan\""
      ],
      "metadata": {
        "colab": {
          "base_uri": "https://localhost:8080/"
        },
        "id": "-z4MQPS-cTJw",
        "outputId": "923df32d-53e8-4a33-9e4c-eb3df45bbbf9"
      },
      "execution_count": null,
      "outputs": [
        {
          "output_type": "stream",
          "name": "stdout",
          "text": [
            "Hello, Alice\n",
            "Hello, Laysan\n"
          ]
        }
      ]
    },
    {
      "cell_type": "markdown",
      "source": [
        "Если функция имеет несколько параметров, то необязательные параметры должны идти после обязательных. Например:"
      ],
      "metadata": {
        "id": "80ZJFRsrcgh5"
      }
    },
    {
      "cell_type": "code",
      "source": [
        "def print_person(name, age = 18):\n",
        "    print(f\"Name: {name}  Age: {age}\")\n",
        "\n",
        "\n",
        "print_person(\"Alice\")\n",
        "print_person(\"Laysan\", 18)"
      ],
      "metadata": {
        "colab": {
          "base_uri": "https://localhost:8080/"
        },
        "id": "NNII7ZaxckM9",
        "outputId": "b6cf8ba4-cf40-4508-c131-8777740082d0"
      },
      "execution_count": null,
      "outputs": [
        {
          "output_type": "stream",
          "name": "stdout",
          "text": [
            "Name: Alice  Age: 18\n",
            "Name: Laysan  Age: 18\n"
          ]
        }
      ]
    },
    {
      "cell_type": "markdown",
      "source": [
        "При необходимости мы можем сделать все параметры необязательными:"
      ],
      "metadata": {
        "id": "bIVA_fArcuqG"
      }
    },
    {
      "cell_type": "code",
      "source": [
        "def print_person(name = \"Alice\", age = 18):\n",
        "    print(f\"Name: {name}  Age: {age}\")\n",
        "\n",
        "\n",
        "print_person()              # Name: Alice  Age: 18\n",
        "print_person(\"Laysan\")         # Name: Laysan  Age: 18\n",
        "print_person(\"Amina\", 19)     # Name: Amina  Age: 19"
      ],
      "metadata": {
        "colab": {
          "base_uri": "https://localhost:8080/"
        },
        "id": "DkXF9360cvSq",
        "outputId": "aa24dfe3-69ba-440d-f12b-631c19469aa7"
      },
      "execution_count": null,
      "outputs": [
        {
          "output_type": "stream",
          "name": "stdout",
          "text": [
            "Name: Alice  Age: 18\n",
            "Name: Laysan  Age: 18\n",
            "Name: Amina  Age: 19\n"
          ]
        }
      ]
    },
    {
      "cell_type": "markdown",
      "source": [
        "## Передача значений параметрам по имени. Именованные параметры\n",
        "\n",
        "\n",
        "В примерах выше при вызове функции значения передаются параметрами функции по позиции. Но также можно передавать значения параметрам по имени. Для этого при вызове функции указывается имя параметра и ему присваивается значение:\n",
        "\n"
      ],
      "metadata": {
        "id": "X9Idsouuc_f7"
      }
    },
    {
      "cell_type": "code",
      "source": [
        "def print_person(name, age):\n",
        "    print(f\"Name: {name}  Age: {age}\")\n",
        "\n",
        "\n",
        "print_person(age = 22, name = \"Muhammad\")"
      ],
      "metadata": {
        "colab": {
          "base_uri": "https://localhost:8080/"
        },
        "id": "QTaucHh5dCVd",
        "outputId": "2e80bab9-7fcd-4aac-de8b-58604d56f343"
      },
      "execution_count": null,
      "outputs": [
        {
          "output_type": "stream",
          "name": "stdout",
          "text": [
            "Name: Muhammad  Age: 22\n"
          ]
        }
      ]
    },
    {
      "cell_type": "markdown",
      "source": [
        "Символ * позволяет установить, какие параметры будут именнованными - то есть такие параметры, которым можно передать значения только по имени. Все параметры, которые располагаются справа от символа *, получают значения только по имени:"
      ],
      "metadata": {
        "id": "VGI_QqeZdP48"
      }
    },
    {
      "cell_type": "code",
      "source": [
        "def print_person(name, *,  age, company):\n",
        "    print(f\"Name: {name}  Age: {age}  Company: {company}\")\n",
        "\n",
        "\n",
        "print_person(\"Saphifiya\", age = 18, company =\"Vitacore\")    # Name: Saphifiya  Age: 18  company: Vitacore"
      ],
      "metadata": {
        "colab": {
          "base_uri": "https://localhost:8080/"
        },
        "id": "4RngkH5odQyg",
        "outputId": "3969902a-07cc-4e01-fc56-5fecc88827d1"
      },
      "execution_count": null,
      "outputs": [
        {
          "output_type": "stream",
          "name": "stdout",
          "text": [
            "Name: Saphifiya  Age: 18  Company: Vitacore\n"
          ]
        }
      ]
    },
    {
      "cell_type": "markdown",
      "source": [
        "Можно сделать все параметры именнованными, поставив перед списком параметров символ *:"
      ],
      "metadata": {
        "id": "XUwWg4IxdaoQ"
      }
    },
    {
      "cell_type": "code",
      "source": [
        "def print_person(*, name, age, company):\n",
        "    print(f\"Name: {name}  Age: {age}  Company: {company}\")\n",
        "\n",
        "print_person(name=\"Saphifiya\", age=18, company=\"Vitacore\")  # Name: Saphifiya  Age: 18  Company: Vitacore"
      ],
      "metadata": {
        "colab": {
          "base_uri": "https://localhost:8080/"
        },
        "id": "6598iYCsdeNW",
        "outputId": "633ea63c-df9e-48c9-f4c1-b8866b230221"
      },
      "execution_count": null,
      "outputs": [
        {
          "output_type": "stream",
          "name": "stdout",
          "text": [
            "Name: Saphifiya  Age: 18  Company: Vitacore\n"
          ]
        }
      ]
    },
    {
      "cell_type": "markdown",
      "source": [
        "Если наоборот надо определить параметры, которым можно передавать значения только по позиции, то есть позиционные параметры, то можно использовать символ /: все параметры, которые идут до символа / , являются позиционными и могут получать значения только по позиции"
      ],
      "metadata": {
        "id": "0a5b96R_fvIK"
      }
    },
    {
      "cell_type": "code",
      "source": [
        "def print_person(name, /, age, company=\"Microsoft\"):\n",
        "    print(f\"Name: {name}  Age: {age}  Company: {company}\")\n",
        "\n",
        "\n",
        "print_person(\"Bogdan\", company=\"JetBrains\", age = 24)     # Name: Bogdan  Age: 24  company: JetBrains\n",
        "print_person(\"Madina\", 19)                 # Name: Madina  Age: 41  company: Microsoft"
      ],
      "metadata": {
        "colab": {
          "base_uri": "https://localhost:8080/"
        },
        "id": "btNURoagfvmt",
        "outputId": "167985c9-a7df-4b01-eff4-715fe367039f"
      },
      "execution_count": null,
      "outputs": [
        {
          "output_type": "stream",
          "name": "stdout",
          "text": [
            "Name: Bogdan  Age: 24  Company: JetBrains\n",
            "Name: Madina  Age: 19  Company: Microsoft\n"
          ]
        }
      ]
    },
    {
      "cell_type": "markdown",
      "source": [
        "В данном случае параметр name является позиционным.\n",
        "\n",
        "Для одной функции можно определять одновременно позиционные и именнованные параметры."
      ],
      "metadata": {
        "id": "vsVySZXHf_1Z"
      }
    },
    {
      "cell_type": "code",
      "source": [
        "def print_person(name, /,  age = 18, *, company):\n",
        "    print(f\"Name: {name}  Age: {age}  Company: {company}\")\n",
        "\n",
        "\n",
        "print_person(\"Maryamchik\", company =\"Google\")               # Name: Maryamchik  Age: 18  company: Google\n",
        "print_person(\"Sabina\", 17, company =\"JetBrains\")        # Name: Sabina  Age: 17  company: JetBrains\n",
        "print_person(\"Amina\", company =\"Microsoft\", age = 19)  # Name: Amina  Age: 19  company: Microsoft"
      ],
      "metadata": {
        "colab": {
          "base_uri": "https://localhost:8080/"
        },
        "id": "01lbfn1-gDD3",
        "outputId": "bdd1f8a9-13cc-4947-a4a6-0d51aeff808f"
      },
      "execution_count": null,
      "outputs": [
        {
          "output_type": "stream",
          "name": "stdout",
          "text": [
            "Name: Maryamchik  Age: 18  Company: Google\n",
            "Name: Sabina  Age: 17  Company: JetBrains\n",
            "Name: Amina  Age: 19  Company: Microsoft\n"
          ]
        }
      ]
    },
    {
      "cell_type": "markdown",
      "source": [
        "**Неопределенное количество параметров**\n",
        "\n",
        "С помощью символа звездочки можно определить параметр, через который можно передавать неопределенное количество значений. Это может быть полезно, когда мы хотим, чтобы функция получала несколько значений, но мы точно не знаем, сколько именно. Например, определим функцию подсчета суммы чисел:"
      ],
      "metadata": {
        "id": "sCVSnCI1gTBO"
      }
    },
    {
      "cell_type": "code",
      "source": [
        "def sum(*numbers):\n",
        "    result = 0\n",
        "    for n in numbers:\n",
        "        result += n\n",
        "    print(f\"sum = {result}\")\n",
        "\n",
        "\n",
        "sum(1, 2, 3, 4, 5)      # sum = 15\n",
        "sum(3, 4, 5, 6)         # sum = 18"
      ],
      "metadata": {
        "colab": {
          "base_uri": "https://localhost:8080/"
        },
        "id": "4BYJKYGCgXVW",
        "outputId": "75cbdb44-1d35-44c1-c109-440798d41974"
      },
      "execution_count": null,
      "outputs": [
        {
          "output_type": "stream",
          "name": "stdout",
          "text": [
            "sum = 15\n",
            "sum = 18\n"
          ]
        }
      ]
    },
    {
      "cell_type": "markdown",
      "source": [
        "# Оператор return и возвращение результата из функции"
      ],
      "metadata": {
        "id": "xyaSybVphsWD"
      }
    },
    {
      "cell_type": "markdown",
      "source": [
        "## Возвращение результата\n",
        "\n",
        "Функция может возвращать результат. Для этого в функции используется оператор return, после которого указывается возвращаемое значение:"
      ],
      "metadata": {
        "id": "1tTL9G7tht5s"
      }
    },
    {
      "cell_type": "markdown",
      "source": [
        "\n",
        "\n",
        "```\n",
        "def имя_функции ([параметры]):\n",
        "    инструкции\n",
        "    return возвращаемое_значение\n",
        "```\n",
        "\n"
      ],
      "metadata": {
        "id": "Vg4zSkBohx6H"
      }
    },
    {
      "cell_type": "code",
      "source": [
        "def double(number):\n",
        "    return 2 * number\n",
        "\n",
        "result1 = double(4)     # result1 = 8\n",
        "result2 = double(5)     # result2 = 10\n",
        "print(f\"result1 = {result1}\")   # result1 = 8\n",
        "print(f\"result2 = {result2}\")   # result2 = 10"
      ],
      "metadata": {
        "colab": {
          "base_uri": "https://localhost:8080/"
        },
        "id": "3A4hxECAh_-Q",
        "outputId": "81b6f268-3c65-4d3f-8582-9a0834253bd2"
      },
      "execution_count": null,
      "outputs": [
        {
          "output_type": "stream",
          "name": "stdout",
          "text": [
            "result1 = 8\n",
            "result2 = 10\n"
          ]
        }
      ]
    },
    {
      "cell_type": "markdown",
      "source": [
        "Или другой пример - получение суммы чисел:"
      ],
      "metadata": {
        "id": "K_7TbDe-iD8U"
      }
    },
    {
      "cell_type": "code",
      "source": [
        "def sum(a, b):\n",
        "    return a + b\n",
        "\n",
        "\n",
        "result = sum(4, 6)                  # result = 0\n",
        "print(f\"sum(4, 6) = {result}\")      # sum(4, 6) = 10\n",
        "print(f\"sum(3, 5) = {sum(3, 5)}\")   # sum(3, 5) = 8"
      ],
      "metadata": {
        "colab": {
          "base_uri": "https://localhost:8080/"
        },
        "id": "57XhDPeWiEkb",
        "outputId": "f14cd3f6-6c33-4101-b668-84e0486ae4e1"
      },
      "execution_count": null,
      "outputs": [
        {
          "output_type": "stream",
          "name": "stdout",
          "text": [
            "sum(4, 6) = 10\n",
            "sum(3, 5) = 8\n"
          ]
        }
      ]
    },
    {
      "cell_type": "markdown",
      "source": [
        "## Выход из функции\n",
        "\n",
        "Оператор return не только возвращает значение, но и производит выход из функции. Поэтому он должен определяться после остальных инструкций. Например:"
      ],
      "metadata": {
        "id": "yPLa3lLuiK3W"
      }
    },
    {
      "cell_type": "code",
      "source": [
        "def get_message():\n",
        "    return \"Hello Madina!\"\n",
        "    print(\"End of the function\")\n",
        "\n",
        "print(get_message())"
      ],
      "metadata": {
        "colab": {
          "base_uri": "https://localhost:8080/"
        },
        "id": "sJjDH1pqiMwV",
        "outputId": "92ed2dd0-5295-4d2f-8b4b-0eec20dc9a9e"
      },
      "execution_count": null,
      "outputs": [
        {
          "output_type": "stream",
          "name": "stdout",
          "text": [
            "Hello Madina!\n"
          ]
        }
      ]
    },
    {
      "cell_type": "markdown",
      "source": [
        "Однако мы можем использовать оператор return и в таких функциях, которые не возвращают никакого значения. В этом случае после оператора return не ставится никакого возвращаемого значения. Типичная ситуация - в зависимости от опеределенных условий произвести выход из функции:"
      ],
      "metadata": {
        "id": "xbBp6VF9iZK9"
      }
    },
    {
      "cell_type": "code",
      "source": [
        "def print_person(name, age):\n",
        "    if age > 120 or age < 1:\n",
        "        print(\"Invalid age\")\n",
        "        return\n",
        "    print(f\"Name: {name}  Age: {age}\")\n",
        "\n",
        "\n",
        "print_person(\"Raisa\", 22)\n",
        "print_person(\"Vladislav\", -102)"
      ],
      "metadata": {
        "colab": {
          "base_uri": "https://localhost:8080/"
        },
        "id": "6g1RqHACiaAR",
        "outputId": "3c6f5561-122b-4183-8785-0aca9c60ad42"
      },
      "execution_count": null,
      "outputs": [
        {
          "output_type": "stream",
          "name": "stdout",
          "text": [
            "Name: Raisa  Age: 22\n",
            "Invalid age\n"
          ]
        }
      ]
    },
    {
      "cell_type": "markdown",
      "source": [
        "## Функция как тип, параметр и результат другой функции"
      ],
      "metadata": {
        "id": "BfzwIaRhh6QO"
      }
    },
    {
      "cell_type": "markdown",
      "source": [
        "В Python функция фактически представляет отдельный тип. Так мы можем присвоить переменной какую-нибудь функцию и затем, используя переменную, вызывать данную функцию. Например:"
      ],
      "metadata": {
        "id": "P8gLd0Enimdl"
      }
    },
    {
      "cell_type": "code",
      "source": [
        "def say_hello(): print(\"Hello\")\n",
        "def say_goodbye(): print(\"Good Bye\")\n",
        "\n",
        "message = say_hello\n",
        "message()       # Hello\n",
        "message = say_goodbye\n",
        "message()       # Good Bye"
      ],
      "metadata": {
        "colab": {
          "base_uri": "https://localhost:8080/"
        },
        "id": "VUWsvA0fipg_",
        "outputId": "3eba783a-3d72-4e79-b02f-1d818a040a7c"
      },
      "execution_count": null,
      "outputs": [
        {
          "output_type": "stream",
          "name": "stdout",
          "text": [
            "Hello\n",
            "Good Bye\n"
          ]
        }
      ]
    },
    {
      "cell_type": "markdown",
      "source": [
        "Подобным образом можно через переменную вызывать функцию с параметрами и возвращать ее результат:"
      ],
      "metadata": {
        "id": "vBG1_zNJiusi"
      }
    },
    {
      "cell_type": "code",
      "source": [
        "def sum(a, b): return a + b\n",
        "def multiply(a, b): return a * b\n",
        "\n",
        "operation = sum\n",
        "result = operation(5, 6)\n",
        "print(result)   # 11\n",
        "\n",
        "operation = multiply\n",
        "print(operation(5, 6))      # 30"
      ],
      "metadata": {
        "colab": {
          "base_uri": "https://localhost:8080/"
        },
        "id": "bYMpp3k_i89J",
        "outputId": "4944d350-e650-4c1d-9424-971e9af7a7ad"
      },
      "execution_count": null,
      "outputs": [
        {
          "output_type": "stream",
          "name": "stdout",
          "text": [
            "11\n",
            "30\n"
          ]
        }
      ]
    },
    {
      "cell_type": "markdown",
      "source": [
        "## Функция как параметр функции\n",
        "\n",
        "Поскольку функция в Python может представлять такое же значение как строка или число, соответственно мы можем передать ее в качестве параметра в другую функцию. Например, определим функцию, которая выводит на консоль результат некоторой операции:"
      ],
      "metadata": {
        "id": "i1OqgbAFjAQl"
      }
    },
    {
      "cell_type": "code",
      "source": [
        "def do_operation(a, b, operation):\n",
        "    result = operation(a, b)\n",
        "    print(f\"result = {result}\")\n",
        "\n",
        "def sum(a, b): return a + b\n",
        "def multiply(a, b): return a * b\n",
        "\n",
        "do_operation(5, 4, sum)         # result = 9\n",
        "do_operation(5, 4, multiply)   # result = 20"
      ],
      "metadata": {
        "colab": {
          "base_uri": "https://localhost:8080/"
        },
        "id": "hKvseP-ejFW0",
        "outputId": "5c11228e-e834-47a1-96a6-2915fc0b21ab"
      },
      "execution_count": null,
      "outputs": [
        {
          "output_type": "stream",
          "name": "stdout",
          "text": [
            "result = 9\n",
            "result = 20\n"
          ]
        }
      ]
    },
    {
      "cell_type": "markdown",
      "source": [
        "## Функция как результат функции\n",
        "\n",
        "Также одна функция в Python может возвращать другую функцию. Например, определим функцию, которая в зависимости от значения параметра возвращает ту или иную операцию:"
      ],
      "metadata": {
        "id": "rjF1yxgUjIRs"
      }
    },
    {
      "cell_type": "code",
      "source": [
        "def sum(a, b): return a + b\n",
        "def subtract(a, b): return a - b\n",
        "def multiply(a, b): return a * b\n",
        "\n",
        "\n",
        "def select_operation(choice):\n",
        "    if choice == 1:\n",
        "        return sum\n",
        "    elif choice == 2:\n",
        "        return subtract\n",
        "    else:\n",
        "        return multiply\n",
        "\n",
        "\n",
        "operation = select_operation(1)     # operation = sum\n",
        "print(operation(10, 6))             # 16\n",
        "\n",
        "operation = select_operation(2)     # operation = subtract\n",
        "print(operation(10, 6))             # 4\n",
        "\n",
        "operation = select_operation(3)     # operation = multiply\n",
        "print(operation(10, 6))             # 60"
      ],
      "metadata": {
        "colab": {
          "base_uri": "https://localhost:8080/"
        },
        "id": "Vz6fB_OKjU7y",
        "outputId": "5c2d74d4-62d0-4af6-e1b6-8cd00e68dbe9"
      },
      "execution_count": null,
      "outputs": [
        {
          "output_type": "stream",
          "name": "stdout",
          "text": [
            "16\n",
            "4\n",
            "60\n"
          ]
        }
      ]
    },
    {
      "cell_type": "markdown",
      "source": [
        "## Лямбда-выражения"
      ],
      "metadata": {
        "id": "g9TSxebkjgYa"
      }
    },
    {
      "cell_type": "markdown",
      "source": [
        "Лямбда-выражения в языке Python представляют небольшие анонимные функции, которые определяются с помощью оператора lambda. Формальное определение лямбда-выражения:"
      ],
      "metadata": {
        "id": "kfgM8apdjhlw"
      }
    },
    {
      "cell_type": "markdown",
      "source": [
        "\n",
        "\n",
        "```\n",
        "lambda [параметры] : инструкция\n",
        "```\n",
        "\n"
      ],
      "metadata": {
        "id": "1rDQWjNrjkoZ"
      }
    },
    {
      "cell_type": "markdown",
      "source": [
        "Определим простейшее лямбда-выражение:"
      ],
      "metadata": {
        "id": "JleIKw27joZ_"
      }
    },
    {
      "cell_type": "code",
      "source": [
        "message = lambda: print(\"hello\")\n",
        "\n",
        "message()   # hello"
      ],
      "metadata": {
        "colab": {
          "base_uri": "https://localhost:8080/"
        },
        "id": "7L3HCCPZjr0x",
        "outputId": "218505a6-4daa-47d4-d26f-8a1f753e8b6d"
      },
      "execution_count": null,
      "outputs": [
        {
          "output_type": "stream",
          "name": "stdout",
          "text": [
            "hello\n"
          ]
        }
      ]
    },
    {
      "cell_type": "markdown",
      "source": [
        "Если лямбда-выражение имеет параметры, то они определяются после ключевого слова lambda. Если лямбда-выражение возвращает какой-то результат, то он указывается после двоеточия. Например, определим лямбда-выражение, которое возвращает квадрат числа:"
      ],
      "metadata": {
        "id": "wIYj6R3RjukS"
      }
    },
    {
      "cell_type": "code",
      "source": [
        "square = lambda n: n * n\n",
        "\n",
        "print(square(4))    # 16\n",
        "print(square(5))    # 25"
      ],
      "metadata": {
        "colab": {
          "base_uri": "https://localhost:8080/"
        },
        "id": "XE9lXvetj0fd",
        "outputId": "b95ed097-f74f-4eae-ed9b-b1ee2144abb5"
      },
      "execution_count": null,
      "outputs": [
        {
          "output_type": "stream",
          "name": "stdout",
          "text": [
            "16\n",
            "25\n"
          ]
        }
      ]
    },
    {
      "cell_type": "markdown",
      "source": [
        "В данном случае лямбда-выражение принимает один параметр - n. Справа от двоеточия идет возвращаемое значение - n* n. Это лямбда-выражение аналогично следующей функции:"
      ],
      "metadata": {
        "id": "2CBeNbeSj3Mj"
      }
    },
    {
      "cell_type": "code",
      "source": [
        "def square2(n): return n * n\n",
        "\n",
        "print(square2(4))    # 16\n",
        "print(square2(5))    # 25"
      ],
      "metadata": {
        "colab": {
          "base_uri": "https://localhost:8080/"
        },
        "id": "clm9trf4kBIP",
        "outputId": "e9635b5d-44ff-4bab-a294-3d4975f570f9"
      },
      "execution_count": null,
      "outputs": [
        {
          "output_type": "stream",
          "name": "stdout",
          "text": [
            "16\n",
            "25\n"
          ]
        }
      ]
    },
    {
      "cell_type": "markdown",
      "source": [
        "Аналогичным образом можно создавать лямбда-выражения, которые принимают несколько параметров:"
      ],
      "metadata": {
        "id": "gLHW2mPGkFz8"
      }
    },
    {
      "cell_type": "code",
      "source": [
        "sum = lambda a, b: a + b\n",
        "\n",
        "print(sum(4, 5))    # 9\n",
        "print(sum(5, 6))    # 11"
      ],
      "metadata": {
        "colab": {
          "base_uri": "https://localhost:8080/"
        },
        "id": "VXh7Zve-kKJC",
        "outputId": "6dc7493a-3166-4230-86f2-f809a07c8486"
      },
      "execution_count": null,
      "outputs": [
        {
          "output_type": "stream",
          "name": "stdout",
          "text": [
            "9\n",
            "11\n"
          ]
        }
      ]
    },
    {
      "cell_type": "markdown",
      "source": [
        "Хотя лямбда-выражения позволяют немного сократить определения функций, тем не менее они ограничены тем, что они могут выполнять только одно выражение. Однако они могут быть довольно удобны в тех случаях, когда необходимо использовать функцию для передачи в качестве параметра или возвращения в другой функции. Например, передача лямбда-выражения в качестве параметра:"
      ],
      "metadata": {
        "id": "LJDrZMAQkQi3"
      }
    },
    {
      "cell_type": "code",
      "source": [
        "def do_operation(a, b, operation):\n",
        "    result = operation(a, b)\n",
        "    print(f\"result = {result}\")\n",
        "\n",
        "do_operation(5, 4, lambda a, b: a + b)  # result = 9\n",
        "do_operation(5, 4, lambda a, b: a * b)  # result = 20"
      ],
      "metadata": {
        "colab": {
          "base_uri": "https://localhost:8080/"
        },
        "id": "aKgYD6nTkRQQ",
        "outputId": "cabac494-e77d-4279-e2e7-e57253270f97"
      },
      "execution_count": null,
      "outputs": [
        {
          "output_type": "stream",
          "name": "stdout",
          "text": [
            "result = 9\n",
            "result = 20\n"
          ]
        }
      ]
    },
    {
      "cell_type": "markdown",
      "source": [
        "В данном случае нам нет необходимости определять функции, чтобы передать их в качестве параметра, как в прошлой статье.\n",
        "\n",
        "То же самое касается и возвращение лямбда-выражений из функций:"
      ],
      "metadata": {
        "id": "0v5TKe23kUNH"
      }
    },
    {
      "cell_type": "code",
      "source": [
        "def select_operation(choice):\n",
        "    if choice == 1:\n",
        "        return lambda a, b: a + b\n",
        "    elif choice == 2:\n",
        "        return lambda a, b: a - b\n",
        "    else:\n",
        "        return lambda a, b: a * b\n",
        "\n",
        "\n",
        "operation = select_operation(1)  # operation = sum\n",
        "print(operation(10, 6))  # 16\n",
        "\n",
        "operation = select_operation(2)  # operation = subtract\n",
        "print(operation(10, 6))  # 4\n",
        "\n",
        "operation = select_operation(3)  # operation = multiply\n",
        "print(operation(10, 6))  # 60"
      ],
      "metadata": {
        "colab": {
          "base_uri": "https://localhost:8080/"
        },
        "id": "UycSIs3EkXwP",
        "outputId": "c3e5c554-f8cb-45f7-e5c4-a6763d77da3b"
      },
      "execution_count": null,
      "outputs": [
        {
          "output_type": "stream",
          "name": "stdout",
          "text": [
            "16\n",
            "4\n",
            "60\n"
          ]
        }
      ]
    },
    {
      "cell_type": "markdown",
      "source": [
        "## Рекурсивные функции\n",
        "\n",
        " Рекурсивная функция в Python - это функция, которая вызывает саму себя в своем теле. Вот пример простой рекурсивной функции на Python, которая вычисляет факториал числа:"
      ],
      "metadata": {
        "id": "alKSOyLZk3oG"
      }
    },
    {
      "cell_type": "code",
      "source": [
        "def factorial(n):\n",
        "    if n == 0:\n",
        "        return 1\n",
        "    else:\n",
        "        return n * factorial(n-1)\n",
        "\n",
        "factorial(5)"
      ],
      "metadata": {
        "colab": {
          "base_uri": "https://localhost:8080/"
        },
        "id": "EPmR4JkdlB5Q",
        "outputId": "72815bda-acac-4cba-a224-66ea848f32aa"
      },
      "execution_count": null,
      "outputs": [
        {
          "output_type": "execute_result",
          "data": {
            "text/plain": [
              "120"
            ]
          },
          "metadata": {},
          "execution_count": 107
        }
      ]
    },
    {
      "cell_type": "markdown",
      "source": [
        "Функция для вычисления чисел Фибоначчи:"
      ],
      "metadata": {
        "id": "euxC1c74lYCd"
      }
    },
    {
      "cell_type": "code",
      "source": [
        "def fibonacci(n):\n",
        "    if n <= 1:\n",
        "        return n\n",
        "    else:\n",
        "        return fibonacci(n-1) + fibonacci(n-2)\n",
        "\n",
        "result = fibonacci(5)\n",
        "print(result)  # Выведет: 5"
      ],
      "metadata": {
        "colab": {
          "base_uri": "https://localhost:8080/"
        },
        "id": "fCaYCueQlYok",
        "outputId": "1e12811b-fe02-48dc-d5c8-d688ad0486b1"
      },
      "execution_count": null,
      "outputs": [
        {
          "output_type": "stream",
          "name": "stdout",
          "text": [
            "5\n"
          ]
        }
      ]
    },
    {
      "cell_type": "markdown",
      "source": [
        "Функция для вычисления возведения числа в степень:"
      ],
      "metadata": {
        "id": "DNVfplB1leeD"
      }
    },
    {
      "cell_type": "code",
      "source": [
        "def power(base, exp):\n",
        "    if exp == 0:\n",
        "        return 1\n",
        "    else:\n",
        "        return base * power(base, exp-1)\n",
        "\n",
        "result = power(2, 3)\n",
        "print(result)  # Выведет: 8"
      ],
      "metadata": {
        "colab": {
          "base_uri": "https://localhost:8080/"
        },
        "id": "3guy00l1lwTK",
        "outputId": "b0385a35-48bd-4c69-eb21-65bdd8266c8e"
      },
      "execution_count": null,
      "outputs": [
        {
          "output_type": "stream",
          "name": "stdout",
          "text": [
            "8\n"
          ]
        }
      ]
    },
    {
      "cell_type": "markdown",
      "source": [
        "Функция для нахождения наибольшего общего делителя (НОД) двух чисел:"
      ],
      "metadata": {
        "id": "lrgRuJ8Ql2tP"
      }
    },
    {
      "cell_type": "code",
      "source": [
        "def gcd(a, b):\n",
        "    if b == 0:\n",
        "        return a\n",
        "    else:\n",
        "        return gcd(b, a % b)\n",
        "\n",
        "result = gcd(24, 36)\n",
        "print(result)  # Выведет: 12"
      ],
      "metadata": {
        "colab": {
          "base_uri": "https://localhost:8080/"
        },
        "id": "-LIp95E-l6Tg",
        "outputId": "e2cd1aa9-46aa-4cb0-b01c-02a52c8978f3"
      },
      "execution_count": null,
      "outputs": [
        {
          "output_type": "stream",
          "name": "stdout",
          "text": [
            "12\n"
          ]
        }
      ]
    },
    {
      "cell_type": "markdown",
      "source": [
        "Функция для генерации всех перестановок строки:"
      ],
      "metadata": {
        "id": "YDDaQJAel_ZG"
      }
    },
    {
      "cell_type": "code",
      "source": [
        "def permutations(s):\n",
        "    if len(s) <= 1:\n",
        "        return [s]\n",
        "    else:\n",
        "        perms = []\n",
        "        for i in range(len(s)):\n",
        "            for perm in permutations(s[:i] + s[i+1:]):\n",
        "                perms.append(s[i] + perm)\n",
        "        return perms\n",
        "\n",
        "result = permutations(\"abc\")\n",
        "print(result)  # Выведет: ['abc', 'acb', 'bac', 'bca', 'cab', 'cba']"
      ],
      "metadata": {
        "colab": {
          "base_uri": "https://localhost:8080/"
        },
        "id": "ty1iu8eDmABP",
        "outputId": "9c6b828f-c5e7-4da8-d67d-392b36bc45b8"
      },
      "execution_count": null,
      "outputs": [
        {
          "output_type": "stream",
          "name": "stdout",
          "text": [
            "['abc', 'acb', 'bac', 'bca', 'cab', 'cba']\n"
          ]
        }
      ]
    },
    {
      "cell_type": "markdown",
      "source": [
        "## Область видимости переменных"
      ],
      "metadata": {
        "id": "xAyAHfHNmKwO"
      }
    },
    {
      "cell_type": "markdown",
      "source": [
        "Область видимости или scope определяет контекст переменной, в рамках которого ее можно использовать. В Python есть два типа контекста: глобальный и локальный.\n",
        "\n",
        "### Глобальный контекст\n",
        "\n",
        "Глобальный контекст подразумевает, что переменная является глобальной, она определена вне любой из функций и доступна любой функции в программе. Например:"
      ],
      "metadata": {
        "id": "vVVBXzsWmX1Z"
      }
    },
    {
      "cell_type": "code",
      "source": [
        "name = \"Tomiris\"\n",
        "\n",
        "\n",
        "def say_hi():\n",
        "    print(\"Hello\", name)\n",
        "\n",
        "\n",
        "def say_bye():\n",
        "    print(\"Good bye\", name)\n",
        "\n",
        "say_hi()\n",
        "say_bye()"
      ],
      "metadata": {
        "colab": {
          "base_uri": "https://localhost:8080/"
        },
        "id": "XQvEAqKNme2S",
        "outputId": "ea8b25e0-8b30-4562-f3be-8fa22a2f4780"
      },
      "execution_count": null,
      "outputs": [
        {
          "output_type": "stream",
          "name": "stdout",
          "text": [
            "Hello Tomiris\n",
            "Good bye Tomiris\n"
          ]
        }
      ]
    },
    {
      "cell_type": "markdown",
      "source": [
        "### Локальный контекст\n",
        "\n",
        "В отличие от глобальных переменных локальная переменная определяется внутри функции и доступна только из этой функции, то есть имеет локальную область видимости:"
      ],
      "metadata": {
        "id": "9HOPgdiTmh5i"
      }
    },
    {
      "cell_type": "code",
      "source": [
        "def say_hi():\n",
        "    name = \"Samira\"\n",
        "    surname = \"Johnson\"\n",
        "    print(\"Hello\", name, surname)\n",
        "\n",
        "\n",
        "def say_bye():\n",
        "    name = \"Tomiras\"\n",
        "    print(\"Good bye\", name)\n",
        "\n",
        "say_hi()\n",
        "say_bye()"
      ],
      "metadata": {
        "colab": {
          "base_uri": "https://localhost:8080/"
        },
        "id": "fJa36bnkmqSj",
        "outputId": "6623a3c7-0cf6-45db-e764-d589b5e01f28"
      },
      "execution_count": null,
      "outputs": [
        {
          "output_type": "stream",
          "name": "stdout",
          "text": [
            "Hello Samira Johnson\n",
            "Good bye Tomiras\n"
          ]
        }
      ]
    },
    {
      "cell_type": "markdown",
      "source": [
        "### Скрытие переменных\n",
        "\n",
        "Есть еще один вариант определения переменной, когда локальная переменная скрывают глобальную с тем же именем:"
      ],
      "metadata": {
        "id": "5yy5pJALmeNt"
      }
    },
    {
      "cell_type": "code",
      "source": [
        "name = \"Tomiras\"\n",
        "\n",
        "\n",
        "def say_hi():\n",
        "    name = \"Bobo\"        # скрываем значение глобальной переменной\n",
        "    print(\"Hello\", name)\n",
        "\n",
        "\n",
        "def say_bye():\n",
        "    print(\"Good bye\", name)\n",
        "\n",
        "\n",
        "say_hi()    # Hello Bobo\n",
        "say_bye()   # Good bye Tomiris"
      ],
      "metadata": {
        "colab": {
          "base_uri": "https://localhost:8080/"
        },
        "id": "6XTiutUimx4N",
        "outputId": "ba5030c9-735c-4123-b228-3cec45ca0a6c"
      },
      "execution_count": null,
      "outputs": [
        {
          "output_type": "stream",
          "name": "stdout",
          "text": [
            "Hello Bobo\n",
            "Good bye Tomiras\n"
          ]
        }
      ]
    },
    {
      "cell_type": "markdown",
      "source": [
        "Если же мы хотим изменить в локальной функции глобальную переменную, а не определить локальную, то необходимо использовать ключевое слово **global**:"
      ],
      "metadata": {
        "id": "UoT4EWuum6D5"
      }
    },
    {
      "cell_type": "code",
      "source": [
        "name = \"Mirzo\"\n",
        "\n",
        "\n",
        "def say_hi():\n",
        "    global  name\n",
        "    name = \"Bobur\"        # изменяем значение глобальной переменной\n",
        "    print(\"Hello\", name)\n",
        "\n",
        "\n",
        "def say_bye():\n",
        "    print(\"Good bye\", name)\n",
        "\n",
        "\n",
        "say_hi()    # Hello Bobur\n",
        "say_bye()   # Good bye Bobur"
      ],
      "metadata": {
        "colab": {
          "base_uri": "https://localhost:8080/"
        },
        "id": "i_tqYuvsm-eW",
        "outputId": "e5d49e4a-a7fd-4ac7-ce14-64ff8dd90dd5"
      },
      "execution_count": null,
      "outputs": [
        {
          "output_type": "stream",
          "name": "stdout",
          "text": [
            "Hello Bobur\n",
            "Good bye Bobur\n"
          ]
        }
      ]
    },
    {
      "cell_type": "markdown",
      "source": [
        "### nonlocal\n",
        "Выражение **nonlocal** прикрепляет идентификатор к переменной из ближайщего окружающего контекста (за исключением глобального контекста). Обычно **nonlocal** применяется во вложенных функциях, когда надо прикрепить идентификатор за переменной или параметром окружающей внешней функции. Рассмотрим ситуацию, где это выражение может пригодиться:"
      ],
      "metadata": {
        "id": "-AhbWIganK64"
      }
    },
    {
      "cell_type": "code",
      "source": [
        "def outer():  # внешняя функция\n",
        "    n = 5\n",
        "\n",
        "    def inner():    # вложенная функция\n",
        "        print(n)\n",
        "\n",
        "    inner()     # 5\n",
        "    print(n)\n",
        "\n",
        "\n",
        "outer()     # 5"
      ],
      "metadata": {
        "colab": {
          "base_uri": "https://localhost:8080/"
        },
        "id": "uzkgufysnPCU",
        "outputId": "50d6f11f-aae9-4877-ccf0-1762d907cc07"
      },
      "execution_count": null,
      "outputs": [
        {
          "output_type": "stream",
          "name": "stdout",
          "text": [
            "5\n",
            "5\n"
          ]
        }
      ]
    },
    {
      "cell_type": "markdown",
      "source": [
        "Теперь возьмем другую ситуацию, когда вложенная функция присваивает значение переменной:"
      ],
      "metadata": {
        "id": "laTQcaHQnbSZ"
      }
    },
    {
      "cell_type": "code",
      "source": [
        "def outer():  # внешняя функция\n",
        "    n = 5\n",
        "\n",
        "    def inner():    # вложенная функция\n",
        "        n = 25\n",
        "        print(n)\n",
        "\n",
        "    inner()     # 25\n",
        "    print(n)\n",
        "\n",
        "\n",
        "outer()     # 5\n",
        "# 25    - inner\n",
        "# 5     - outer"
      ],
      "metadata": {
        "colab": {
          "base_uri": "https://localhost:8080/"
        },
        "id": "8a1tLw0lnbzP",
        "outputId": "3690466f-30ce-4b69-cd23-cc63721cb540"
      },
      "execution_count": null,
      "outputs": [
        {
          "output_type": "stream",
          "name": "stdout",
          "text": [
            "25\n",
            "5\n"
          ]
        }
      ]
    },
    {
      "cell_type": "markdown",
      "source": [
        "Чтобы во вложенной функции указать, что идентификатор во вложенной функции будет представлять переменную из окружающей функции, применяется выражение nonlocal:"
      ],
      "metadata": {
        "id": "7BCuL0YjnipS"
      }
    },
    {
      "cell_type": "code",
      "source": [
        "def outer():  # внешняя функция\n",
        "    n = 5\n",
        "\n",
        "    def inner():    # вложенная функция\n",
        "        nonlocal n  # указываем, что n - это переменная из окружающей функции\n",
        "        n = 25\n",
        "        print(n)\n",
        "\n",
        "    inner()     # 25\n",
        "    print(n)\n",
        "\n",
        "\n",
        "outer()          # 25"
      ],
      "metadata": {
        "colab": {
          "base_uri": "https://localhost:8080/"
        },
        "id": "O9ErsbsvnnrQ",
        "outputId": "c7321919-8bfa-422e-bfc1-c194cb19d009"
      },
      "execution_count": null,
      "outputs": [
        {
          "output_type": "stream",
          "name": "stdout",
          "text": [
            "25\n",
            "25\n"
          ]
        }
      ]
    },
    {
      "cell_type": "markdown",
      "source": [
        "## Замыкания"
      ],
      "metadata": {
        "id": "awdSiI_KnqeG"
      }
    },
    {
      "cell_type": "markdown",
      "source": [
        "Замыкание (closure) представляет функцию, которая запоминает свое лексическое окружение даже в том случае, когда она выполняется вне своей области видимости.\n",
        "\n",
        "Технически замыкание включает три компонента:\n",
        "\n",
        "* внешняя функция, которая определяет некоторую область видимости и в которой определены некоторые переменные и параметры - лексическое окружение\n",
        "\n",
        "*  переменные и параметры (лексическое окружение), которые определены во внешней функции\n",
        "\n",
        "*  вложенная функция, которая использует переменные и параметры внешней функции\n",
        "\n",
        "Для определения замыканий в Python применяются локальные функции:"
      ],
      "metadata": {
        "id": "jauhSYKfnxYy"
      }
    },
    {
      "cell_type": "code",
      "source": [
        "def outer():        # внешняя функция\n",
        "    n = 5           # лексическое окружение - локальная переменная\n",
        "\n",
        "    def inner():      # локальная функция\n",
        "        nonlocal n\n",
        "        n += 1        # операции с лексическим окружением\n",
        "        print(n)\n",
        "\n",
        "    return inner\n",
        "\n",
        "\n",
        "fn = outer()   # fn = inner, так как функция outer возвращает функцию inner\n",
        "# вызываем внутреннюю функцию inner\n",
        "fn()    # 6\n",
        "fn()    # 7\n",
        "fn()    # 8"
      ],
      "metadata": {
        "colab": {
          "base_uri": "https://localhost:8080/"
        },
        "id": "_6-RlH_An7u4",
        "outputId": "f5e308f4-f7ab-4ee7-c3ba-a1e70e83657c"
      },
      "execution_count": null,
      "outputs": [
        {
          "output_type": "stream",
          "name": "stdout",
          "text": [
            "6\n",
            "7\n",
            "8\n"
          ]
        }
      ]
    },
    {
      "cell_type": "markdown",
      "source": [
        "## Применение параметров\n",
        "\n",
        "Кроме внешних переменных к лексическому окружению также относятся параметры окружающей функции. Рассмотрим использование параметров:"
      ],
      "metadata": {
        "id": "BwVRtfl9oHcm"
      }
    },
    {
      "cell_type": "code",
      "source": [
        "def multiply(n):\n",
        "    def inner(m): return n * m\n",
        "\n",
        "    return inner\n",
        "\n",
        "\n",
        "fn = multiply(5)\n",
        "print(fn(5))        # 25\n",
        "print(fn(6))        # 30\n",
        "print(fn(7))        # 35"
      ],
      "metadata": {
        "colab": {
          "base_uri": "https://localhost:8080/"
        },
        "id": "MH09dLSroJlc",
        "outputId": "3b202193-dd67-483d-a4f3-99b8e5b95fea"
      },
      "execution_count": null,
      "outputs": [
        {
          "output_type": "stream",
          "name": "stdout",
          "text": [
            "25\n",
            "30\n",
            "35\n"
          ]
        }
      ]
    },
    {
      "cell_type": "markdown",
      "source": [
        "Также можно было бы сократить этот код с помощью лямбд:"
      ],
      "metadata": {
        "id": "1tXAisjFoQDW"
      }
    },
    {
      "cell_type": "code",
      "source": [
        "def multiply(n): return lambda m: n * m\n",
        "\n",
        "\n",
        "fn = multiply(5)\n",
        "print(fn(5))        # 25\n",
        "print(fn(6))        # 30\n",
        "print(fn(7))        # 35"
      ],
      "metadata": {
        "colab": {
          "base_uri": "https://localhost:8080/"
        },
        "id": "1wAitx6loTQe",
        "outputId": "b60ff12e-45de-478f-85da-8c90c5d8ed83"
      },
      "execution_count": null,
      "outputs": [
        {
          "output_type": "stream",
          "name": "stdout",
          "text": [
            "25\n",
            "30\n",
            "35\n"
          ]
        }
      ]
    },
    {
      "cell_type": "markdown",
      "source": [
        "# Декораторы"
      ],
      "metadata": {
        "id": "5EWzDWgOn23F"
      }
    },
    {
      "cell_type": "markdown",
      "source": [
        "**Декораторы** в Python представляют функцию, которая в качестве параметра получает функцию и в качестве результата также возвращает функцию. Декораторы позволяют модифицировать выполняемую функцию, значения ее параметров и ее результат без изменения исходного кода этой функции.\n",
        "\n",
        "Рассмотрим простейший пример:"
      ],
      "metadata": {
        "id": "amGR7HtVoqFr"
      }
    },
    {
      "cell_type": "code",
      "source": [
        "# определение функции декоратора\n",
        "def select(input_func):\n",
        "    def output_func():      # определяем функцию, которая будет выполняться вместо оригинальной\n",
        "        print(\"*****************\")  # перед выводом оригинальной функции выводим всякую звездочки\n",
        "        input_func()                # вызов оригинальной функции\n",
        "        print(\"*****************\")  # после вывода оригинальной функции выводим всякую звездочки\n",
        "    return output_func     # возвращаем новую функцию\n",
        "\n",
        "# определение оригинальной функции\n",
        "@select         # применение декоратора select\n",
        "def hello():\n",
        "    print(\"Hello Maryamchik!\")\n",
        "\n",
        "# вызов оригинальной функции\n",
        "hello()"
      ],
      "metadata": {
        "colab": {
          "base_uri": "https://localhost:8080/"
        },
        "id": "EptBpjqvorsS",
        "outputId": "fd36da0f-7b3a-4719-8253-761d5cc8cb29"
      },
      "execution_count": null,
      "outputs": [
        {
          "output_type": "stream",
          "name": "stdout",
          "text": [
            "*****************\n",
            "Hello Maryamchik\n",
            "*****************\n"
          ]
        }
      ]
    },
    {
      "cell_type": "markdown",
      "source": [
        "## Получение параметров функции в декораторе\n",
        "\n",
        "Декоратор может перехватывать передаваемые в функцию аргументы:"
      ],
      "metadata": {
        "id": "ouHRsItQpTXQ"
      }
    },
    {
      "cell_type": "code",
      "source": [
        "# определение функции декоратора\n",
        "def check(input_func):\n",
        "    def output_func(*args):      # через *args получаем значения параметров оригинальной функции\n",
        "        input_func(*args)                # вызов оригинальной функции\n",
        "    return output_func     # возвращаем новую функцию\n",
        "\n",
        "# определение оригинальной функции\n",
        "@check\n",
        "def print_person(name, age):\n",
        "    print(f\"Name: {name}  Age: {age}\")\n",
        "\n",
        "# вызов оригинальной функции\n",
        "print_person(\"Salmon\", 18)"
      ],
      "metadata": {
        "colab": {
          "base_uri": "https://localhost:8080/"
        },
        "id": "FzZXqWEgpZQu",
        "outputId": "c7fe3fec-78b1-4b46-cd49-ee55d75d7e2b"
      },
      "execution_count": null,
      "outputs": [
        {
          "output_type": "stream",
          "name": "stdout",
          "text": [
            "Name: Salmon  Age: 18\n"
          ]
        }
      ]
    },
    {
      "cell_type": "markdown",
      "source": [
        "Но что, если в функцию print_person будет передано какое-то недопустимое значение, например, отрицательный возраст? Одним из преимуществ декораторов как раз является то, что мы можем проверить и при необходимости модифицировать значения параметров. Например:"
      ],
      "metadata": {
        "id": "PJ5TXPLbpj-B"
      }
    },
    {
      "cell_type": "code",
      "source": [
        "# определение функции декоратора\n",
        "def check(input_func):\n",
        "    def output_func(*args):\n",
        "        name = args[0]\n",
        "        age = args[1]           # получаем значение второго параметра\n",
        "        if age < 0: age = 1     # если возраст отрицательный, изменяем его значение на 1\n",
        "        input_func(name, age)   # передаем функции значения для параметров\n",
        "    return output_func\n",
        "\n",
        "# определение оригинальной функции\n",
        "@check\n",
        "def print_person(name, age):\n",
        "    print(f\"Name: {name}  Age: {age}\")\n",
        "\n",
        "# вызов оригинальной функции\n",
        "print_person(\"Salmon\", 38)\n",
        "print_person(\"Kurbon\", -5)"
      ],
      "metadata": {
        "colab": {
          "base_uri": "https://localhost:8080/"
        },
        "id": "gOg3vff6poF5",
        "outputId": "93302f37-ce4e-429f-e8ba-ef553f6e5c85"
      },
      "execution_count": null,
      "outputs": [
        {
          "output_type": "stream",
          "name": "stdout",
          "text": [
            "Name: Salmon  Age: 38\n",
            "Name: Kurbon  Age: 1\n"
          ]
        }
      ]
    },
    {
      "cell_type": "markdown",
      "source": [
        "## Получение результата функции\n",
        "\n",
        "Подобным образом можно получить результат функции и при необходимости изменить его:"
      ],
      "metadata": {
        "id": "7Sn45G9Hpv1W"
      }
    },
    {
      "cell_type": "code",
      "source": [
        "# определение функции декоратора\n",
        "def check(input_func):\n",
        "    def output_func(*args):\n",
        "        result = input_func(*args)   # передаем функции значения для параметров\n",
        "        if result < 0: result = 0   # если результат функции меньше нуля, то возвращаем 0\n",
        "        return result\n",
        "    return output_func\n",
        "\n",
        "# определение оригинальной функции\n",
        "@check\n",
        "def sum(a, b):\n",
        "    return a + b\n",
        "\n",
        "# вызов оригинальной функции\n",
        "result1 = sum(10, 20)\n",
        "print(result1)          # 30\n",
        "\n",
        "result2 = sum(10, -20)\n",
        "print(result2)          # 0"
      ],
      "metadata": {
        "colab": {
          "base_uri": "https://localhost:8080/"
        },
        "id": "n9Myn39wp0BN",
        "outputId": "268e7e7b-21c0-4317-d7c7-7a8a63656442"
      },
      "execution_count": null,
      "outputs": [
        {
          "output_type": "stream",
          "name": "stdout",
          "text": [
            "30\n",
            "0\n"
          ]
        }
      ]
    },
    {
      "cell_type": "markdown",
      "source": [
        "## Строки документации (docstrings)\n",
        "\n",
        "Строки документации (docstrings) в Python - это строки, которые идут сразу после заголовка функции или модуля и содержат описание функции, модуля или класса. Они используются для создания документации к коду и обеспечивают информацию о том, как использовать функцию или модуль.\n",
        "\n",
        "Вот пример строки документации для функции:"
      ],
      "metadata": {
        "id": "KauNdtClqKSO"
      }
    },
    {
      "cell_type": "code",
      "source": [
        "def greet(name):\n",
        "    \"\"\"\n",
        "    Приветствует пользователя по имени.\n",
        "\n",
        "    Args:\n",
        "        name (str): Имя пользователя.\n",
        "\n",
        "    Returns:\n",
        "        str: Строка приветствия.\n",
        "\n",
        "    Example:\n",
        "        >>> greet(\"Alice\")\n",
        "        'Привет, Alice! Как дела?'\n",
        "    \"\"\"\n",
        "    return f\"Привет, {name}! Как дела?\"\n"
      ],
      "metadata": {
        "id": "aY90hqdNqPSs"
      },
      "execution_count": null,
      "outputs": []
    },
    {
      "cell_type": "markdown",
      "source": [
        "В этом примере строка документации находится между тройными кавычками (\"\"\") и содержит описание функции, аргументов, возвращаемого значения и пример использования.\n",
        "\n",
        "Строки документации могут быть извлечены с помощью встроенной функции help() или доступны в виде атрибута __doc__ объекта функции."
      ],
      "metadata": {
        "id": "Z1xMiOrwqUNT"
      }
    },
    {
      "cell_type": "code",
      "source": [
        "print(greet.__doc__)  # Выводит строку документации для функции greet"
      ],
      "metadata": {
        "colab": {
          "base_uri": "https://localhost:8080/"
        },
        "id": "SIwAZrjuqbXY",
        "outputId": "eb2b329e-9e0b-46a5-b5cd-7f1b6a612c3c"
      },
      "execution_count": null,
      "outputs": [
        {
          "output_type": "stream",
          "name": "stdout",
          "text": [
            "\n",
            "    Приветствует пользователя по имени.\n",
            "\n",
            "    Args:\n",
            "        name (str): Имя пользователя.\n",
            "\n",
            "    Returns:\n",
            "        str: Строка приветствия.\n",
            "\n",
            "    Example:\n",
            "        >>> greet(\"Alice\")\n",
            "        'Привет, Alice! Как дела?'\n",
            "    \n"
          ]
        }
      ]
    },
    {
      "cell_type": "code",
      "source": [
        "help(greet)  # Выводит документацию для функции greet"
      ],
      "metadata": {
        "colab": {
          "base_uri": "https://localhost:8080/"
        },
        "id": "ZidRqWS9qlyC",
        "outputId": "c67d7a14-d439-4590-b894-710eaf1c55f7"
      },
      "execution_count": null,
      "outputs": [
        {
          "output_type": "stream",
          "name": "stdout",
          "text": [
            "Help on function greet in module __main__:\n",
            "\n",
            "greet(name)\n",
            "    Приветствует пользователя по имени.\n",
            "    \n",
            "    Args:\n",
            "        name (str): Имя пользователя.\n",
            "    \n",
            "    Returns:\n",
            "        str: Строка приветствия.\n",
            "    \n",
            "    Example:\n",
            "        >>> greet(\"Alice\")\n",
            "        'Привет, Alice! Как дела?'\n",
            "\n"
          ]
        }
      ]
    },
    {
      "cell_type": "markdown",
      "source": [
        "# python code style conventions\n",
        "1) [PEP 8 – Style Guide for Python Code](https://peps.python.org/pep-0008/)\n",
        "[Google Python Style Guide](https://google.github.io/styleguide/pyguide.html)\n",
        "\n"
      ],
      "metadata": {
        "id": "lDTg47IvkOhc"
      }
    }
  ]
}