{
  "cells": [
    {
      "cell_type": "markdown",
      "metadata": {
        "id": "view-in-github",
        "colab_type": "text"
      },
      "source": [
        "<a href=\"https://colab.research.google.com/github/CodeHunterOfficial/Python_Basics/blob/main/Lecture_8_%D0%91%D0%B8%D0%B1%D0%BB%D0%B8%D0%BE%D1%82%D0%B5%D0%BA%D0%B0_pandas.ipynb\" target=\"_parent\"><img src=\"https://colab.research.google.com/assets/colab-badge.svg\" alt=\"Open In Colab\"/></a>"
      ]
    },
    {
      "cell_type": "markdown",
      "metadata": {
        "ExecuteTime": {
          "end_time": "2020-03-26T16:43:22.742690Z",
          "start_time": "2020-03-26T16:43:22.737509Z"
        },
        "id": "fAne7wxv2VRP"
      },
      "source": [
        "\n",
        "## Библиотека pandas\n",
        "\n",
        "<img src=\"https://mipt-stats.gitlab.io/images/m/pandas.gif\" width=\"800\"><br>\n",
        "\n",
        "\n",
        "Pandas &mdash; пакет для статистической обработки данных, по функциональности близкий к SQL и R. Включает в себя функциональность работы с базами данных и таблицами Excel."
      ]
    },
    {
      "cell_type": "code",
      "execution_count": null,
      "metadata": {
        "ExecuteTime": {
          "end_time": "2020-04-12T07:12:10.354398Z",
          "start_time": "2020-04-12T07:12:09.734672Z"
        },
        "id": "jpkKp6Ns2VRW"
      },
      "outputs": [],
      "source": [
        "import numpy as np\n",
        "import pandas as pd\n",
        "import scipy.stats as sps\n",
        "\n",
        "import warnings\n",
        "warnings.simplefilter(\"ignore\", FutureWarning)"
      ]
    },
    {
      "cell_type": "markdown",
      "metadata": {
        "id": "_lVOYbCh2VRY"
      },
      "source": [
        "### 1. Тип данных `Series`\n",
        "\n",
        "Одномерный набор данных. Отсутствующий данные записываются как `np.nan`. Например, в этот день термометр сломался или метеоролог был пьян. При вычислении среднего и других операций соответствующие функции не учитывают отсутствующие значения."
      ]
    },
    {
      "cell_type": "code",
      "execution_count": null,
      "metadata": {
        "ExecuteTime": {
          "end_time": "2020-04-12T07:12:10.367466Z",
          "start_time": "2020-04-12T07:12:10.356124Z"
        },
        "id": "84J9myvy2VRZ",
        "outputId": "b4c11b6e-d44e-401e-c886-30ac5b12f0dd"
      },
      "outputs": [
        {
          "data": {
            "text/plain": [
              "0    1.0\n",
              "1    3.0\n",
              "2    5.0\n",
              "3    NaN\n",
              "4    6.0\n",
              "5    8.0\n",
              "dtype: float64"
            ]
          },
          "execution_count": 2,
          "metadata": {},
          "output_type": "execute_result"
        }
      ],
      "source": [
        "l = [1, 3, 5, np.nan, 6, 8]\n",
        "s = pd.Series(l)\n",
        "s"
      ]
    },
    {
      "cell_type": "markdown",
      "metadata": {
        "id": "z8TpeH9f2VRZ"
      },
      "source": [
        "**Полезно знать:** Для поиска пропусков есть специальный метод `.isna()`. Он эквивалентен конструкции `s != s`"
      ]
    },
    {
      "cell_type": "code",
      "execution_count": null,
      "metadata": {
        "ExecuteTime": {
          "end_time": "2020-04-12T07:12:10.395928Z",
          "start_time": "2020-04-12T07:12:10.382607Z"
        },
        "id": "LKtmpAfj2VRa",
        "outputId": "ec287025-b456-4aec-d38a-cef28fa9c037"
      },
      "outputs": [
        {
          "data": {
            "text/plain": [
              "0    False\n",
              "1    False\n",
              "2    False\n",
              "3     True\n",
              "4    False\n",
              "5    False\n",
              "dtype: bool"
            ]
          },
          "execution_count": 3,
          "metadata": {},
          "output_type": "execute_result"
        }
      ],
      "source": [
        "s.isna()"
      ]
    },
    {
      "cell_type": "markdown",
      "metadata": {
        "id": "zuAleDcR2VRa"
      },
      "source": [
        "Основная информация о наборе данных: количество записей, среднее, стандартное отклонение, минимум, нижний квартиль, медиана, верхний квартиль, максимум, а так же тип данных."
      ]
    },
    {
      "cell_type": "code",
      "execution_count": null,
      "metadata": {
        "ExecuteTime": {
          "end_time": "2020-04-12T07:12:10.408067Z",
          "start_time": "2020-04-12T07:12:10.399295Z"
        },
        "id": "hefoQG712VRb",
        "outputId": "c70d59dd-fa67-430b-e378-3e5465590f45"
      },
      "outputs": [
        {
          "data": {
            "text/plain": [
              "count    5.000000\n",
              "mean     4.600000\n",
              "std      2.701851\n",
              "min      1.000000\n",
              "25%      3.000000\n",
              "50%      5.000000\n",
              "75%      6.000000\n",
              "max      8.000000\n",
              "dtype: float64"
            ]
          },
          "execution_count": 4,
          "metadata": {},
          "output_type": "execute_result"
        }
      ],
      "source": [
        "s.describe()"
      ]
    },
    {
      "cell_type": "markdown",
      "metadata": {
        "id": "TLI8qwEA2VRc"
      },
      "source": [
        "В данном примере обычная индексация."
      ]
    },
    {
      "cell_type": "code",
      "execution_count": null,
      "metadata": {
        "ExecuteTime": {
          "end_time": "2020-04-12T07:12:10.415416Z",
          "start_time": "2020-04-12T07:12:10.410924Z"
        },
        "id": "4FPe8rZp2VRc",
        "outputId": "94b3eb94-88f0-43e9-f02a-0befd95e7441"
      },
      "outputs": [
        {
          "data": {
            "text/plain": [
              "5.0"
            ]
          },
          "execution_count": 5,
          "metadata": {},
          "output_type": "execute_result"
        }
      ],
      "source": [
        "s[2]"
      ]
    },
    {
      "cell_type": "code",
      "execution_count": null,
      "metadata": {
        "ExecuteTime": {
          "end_time": "2020-04-12T07:12:10.422330Z",
          "start_time": "2020-04-12T07:12:10.417779Z"
        },
        "id": "Y2saAU3b2VRd",
        "outputId": "95e4ff64-64ab-4cd7-a78a-7f4fbaacd168"
      },
      "outputs": [
        {
          "data": {
            "text/plain": [
              "0    1.0\n",
              "1    3.0\n",
              "2    7.0\n",
              "3    NaN\n",
              "4    6.0\n",
              "5    8.0\n",
              "dtype: float64"
            ]
          },
          "execution_count": 6,
          "metadata": {},
          "output_type": "execute_result"
        }
      ],
      "source": [
        "s[2] = 7\n",
        "s"
      ]
    },
    {
      "cell_type": "code",
      "execution_count": null,
      "metadata": {
        "ExecuteTime": {
          "end_time": "2020-04-12T07:12:10.429337Z",
          "start_time": "2020-04-12T07:12:10.424646Z"
        },
        "id": "Wk8eO_3l2VRd",
        "outputId": "05ad88ec-a745-489c-c538-da7485b52690"
      },
      "outputs": [
        {
          "data": {
            "text/plain": [
              "2    7.0\n",
              "3    NaN\n",
              "4    6.0\n",
              "dtype: float64"
            ]
          },
          "execution_count": 7,
          "metadata": {},
          "output_type": "execute_result"
        }
      ],
      "source": [
        "s[2:5]"
      ]
    },
    {
      "cell_type": "code",
      "execution_count": null,
      "metadata": {
        "ExecuteTime": {
          "end_time": "2020-04-12T07:12:10.435434Z",
          "start_time": "2020-04-12T07:12:10.431461Z"
        },
        "id": "jzN3mYV92VRe",
        "outputId": "e1eb3b84-b301-4fb8-d783-07fa7c37c1a1"
      },
      "outputs": [
        {
          "data": {
            "text/plain": [
              "1    3.0\n",
              "2    7.0\n",
              "3    NaN\n",
              "4    6.0\n",
              "5    8.0\n",
              "dtype: float64"
            ]
          },
          "execution_count": 8,
          "metadata": {},
          "output_type": "execute_result"
        }
      ],
      "source": [
        "s1 = s[1:]\n",
        "s1"
      ]
    },
    {
      "cell_type": "code",
      "execution_count": null,
      "metadata": {
        "ExecuteTime": {
          "end_time": "2020-04-12T07:12:10.442420Z",
          "start_time": "2020-04-12T07:12:10.437278Z"
        },
        "id": "HGaj65BG2VRf",
        "outputId": "b1f93184-5a32-490c-f16a-0448319fc924"
      },
      "outputs": [
        {
          "data": {
            "text/plain": [
              "0    1.0\n",
              "1    3.0\n",
              "2    7.0\n",
              "3    NaN\n",
              "4    6.0\n",
              "dtype: float64"
            ]
          },
          "execution_count": 9,
          "metadata": {},
          "output_type": "execute_result"
        }
      ],
      "source": [
        "s2 = s[:-1]\n",
        "s2"
      ]
    },
    {
      "cell_type": "markdown",
      "metadata": {
        "id": "e2a8bJFT2VRf"
      },
      "source": [
        "В сумме `s1+s2` складываются данные **с одинаковыми индексами**. Поскольку в `s1` нет данного и индексом 0, а в `s2` &mdash; с индексом 5, в `s1+s2` в соответствующих позициях будет `NaN`."
      ]
    },
    {
      "cell_type": "code",
      "execution_count": null,
      "metadata": {
        "ExecuteTime": {
          "end_time": "2020-04-12T07:12:10.449849Z",
          "start_time": "2020-04-12T07:12:10.443763Z"
        },
        "id": "Md_1XPRS2VRf",
        "outputId": "6baf7ff8-6186-41c7-a374-bd432068670d"
      },
      "outputs": [
        {
          "data": {
            "text/plain": [
              "0     NaN\n",
              "1     6.0\n",
              "2    14.0\n",
              "3     NaN\n",
              "4    12.0\n",
              "5     NaN\n",
              "dtype: float64"
            ]
          },
          "execution_count": 10,
          "metadata": {},
          "output_type": "execute_result"
        }
      ],
      "source": [
        "s1 + s2"
      ]
    },
    {
      "cell_type": "markdown",
      "metadata": {
        "id": "BI1DqfQx2VRg"
      },
      "source": [
        "К наборам данных можно применять функции из `numpy`."
      ]
    },
    {
      "cell_type": "code",
      "execution_count": null,
      "metadata": {
        "ExecuteTime": {
          "end_time": "2020-04-12T07:12:10.454657Z",
          "start_time": "2020-04-12T07:12:10.451305Z"
        },
        "id": "O62L3K2t2VRg",
        "outputId": "4ba90015-3009-4977-c426-d44a7ad41ccb"
      },
      "outputs": [
        {
          "data": {
            "text/plain": [
              "0       2.718282\n",
              "1      20.085537\n",
              "2    1096.633158\n",
              "3            NaN\n",
              "4     403.428793\n",
              "5    2980.957987\n",
              "dtype: float64"
            ]
          },
          "execution_count": 11,
          "metadata": {},
          "output_type": "execute_result"
        }
      ],
      "source": [
        "np.exp(s)"
      ]
    },
    {
      "cell_type": "markdown",
      "metadata": {
        "id": "deSwj7_C2VRh"
      },
      "source": [
        "При создании набора данных `s` мы не указали, что будет играть роль индекса. По умолчанию это последовательность неотрицательных целых чисел 0, 1, 2, ..."
      ]
    },
    {
      "cell_type": "code",
      "execution_count": null,
      "metadata": {
        "ExecuteTime": {
          "end_time": "2020-04-12T07:12:10.458910Z",
          "start_time": "2020-04-12T07:12:10.456114Z"
        },
        "id": "CzFd2OOA2VRh",
        "outputId": "350d495d-665f-4f43-f59e-3ed2d8264cc2"
      },
      "outputs": [
        {
          "data": {
            "text/plain": [
              "RangeIndex(start=0, stop=6, step=1)"
            ]
          },
          "execution_count": 12,
          "metadata": {},
          "output_type": "execute_result"
        }
      ],
      "source": [
        "s.index"
      ]
    },
    {
      "cell_type": "markdown",
      "metadata": {
        "id": "Mz7K9_wr2VRh"
      },
      "source": [
        "Но можно создавать наборы данных с индексом, заданным списком."
      ]
    },
    {
      "cell_type": "code",
      "execution_count": null,
      "metadata": {
        "ExecuteTime": {
          "end_time": "2020-04-12T07:12:10.462935Z",
          "start_time": "2020-04-12T07:12:10.460165Z"
        },
        "id": "Q3IxahtO2VRh",
        "outputId": "a2a89b0b-b1c3-46bf-d5fc-3d4145602299"
      },
      "outputs": [
        {
          "data": {
            "text/plain": [
              "['a', 'b', 'c', 'd', 'e', 'f']"
            ]
          },
          "execution_count": 13,
          "metadata": {},
          "output_type": "execute_result"
        }
      ],
      "source": [
        "i = list('abcdef')\n",
        "i"
      ]
    },
    {
      "cell_type": "code",
      "execution_count": null,
      "metadata": {
        "ExecuteTime": {
          "end_time": "2020-04-12T07:12:10.468983Z",
          "start_time": "2020-04-12T07:12:10.464352Z"
        },
        "id": "V3YIKAVi2VRi",
        "outputId": "2e231e2a-9b9f-4b53-8c4c-be7ad47eced7"
      },
      "outputs": [
        {
          "data": {
            "text/plain": [
              "a    1.0\n",
              "b    3.0\n",
              "c    5.0\n",
              "d    NaN\n",
              "e    6.0\n",
              "f    8.0\n",
              "dtype: float64"
            ]
          },
          "execution_count": 14,
          "metadata": {},
          "output_type": "execute_result"
        }
      ],
      "source": [
        "s = pd.Series(l, index=i)\n",
        "s"
      ]
    },
    {
      "cell_type": "code",
      "execution_count": null,
      "metadata": {
        "ExecuteTime": {
          "end_time": "2020-04-12T07:12:10.474029Z",
          "start_time": "2020-04-12T07:12:10.470502Z"
        },
        "id": "eLk7QWuH2VRi",
        "outputId": "15de3544-9537-4882-be1f-906f354f0804"
      },
      "outputs": [
        {
          "data": {
            "text/plain": [
              "5.0"
            ]
          },
          "execution_count": 15,
          "metadata": {},
          "output_type": "execute_result"
        }
      ],
      "source": [
        "s['c']"
      ]
    },
    {
      "cell_type": "markdown",
      "metadata": {
        "id": "5vZ2LYpt2VRi"
      },
      "source": [
        "Если индекс &mdash; строка, то вместо `s['c']` можно писать `s.c`."
      ]
    },
    {
      "cell_type": "code",
      "execution_count": null,
      "metadata": {
        "ExecuteTime": {
          "end_time": "2020-04-12T07:12:10.478087Z",
          "start_time": "2020-04-12T07:12:10.475370Z"
        },
        "id": "-BCnBeFA2VRi",
        "outputId": "d92ac640-d7a6-46bf-d91c-a4a3297cd3cc"
      },
      "outputs": [
        {
          "data": {
            "text/plain": [
              "5.0"
            ]
          },
          "execution_count": 16,
          "metadata": {},
          "output_type": "execute_result"
        }
      ],
      "source": [
        "s.c"
      ]
    },
    {
      "cell_type": "markdown",
      "metadata": {
        "id": "S5d9qITN2VRj"
      },
      "source": [
        "Набор данных можно создать из словаря."
      ]
    },
    {
      "cell_type": "code",
      "execution_count": null,
      "metadata": {
        "ExecuteTime": {
          "end_time": "2020-04-12T07:12:10.483812Z",
          "start_time": "2020-04-12T07:12:10.479470Z"
        },
        "id": "U0H0TfcF2VRj",
        "outputId": "2ee15f7f-4f70-4c8e-97f6-174dc5f94c57"
      },
      "outputs": [
        {
          "data": {
            "text/plain": [
              "a    1\n",
              "b    2\n",
              "c    0\n",
              "dtype: int64"
            ]
          },
          "execution_count": 17,
          "metadata": {},
          "output_type": "execute_result"
        }
      ],
      "source": [
        "s = pd.Series({'a':1, 'b':2, 'c':0})\n",
        "s"
      ]
    },
    {
      "cell_type": "markdown",
      "metadata": {
        "id": "BfUH7nzC2VRj"
      },
      "source": [
        "Можно отсортировать набор данных."
      ]
    },
    {
      "cell_type": "code",
      "execution_count": null,
      "metadata": {
        "ExecuteTime": {
          "end_time": "2020-04-12T07:12:10.494830Z",
          "start_time": "2020-04-12T07:12:10.487720Z"
        },
        "id": "5tGGEYAJ2VRj",
        "outputId": "555e0009-a20c-4242-e0ef-aa4c416e46ad"
      },
      "outputs": [
        {
          "data": {
            "text/plain": [
              "c    0\n",
              "a    1\n",
              "b    2\n",
              "dtype: int64"
            ]
          },
          "execution_count": 18,
          "metadata": {},
          "output_type": "execute_result"
        }
      ],
      "source": [
        "s.sort_values()"
      ]
    },
    {
      "cell_type": "markdown",
      "metadata": {
        "id": "u5vYOWY12VRj"
      },
      "source": [
        "Роль индекса может играть, скажем, последовательность дат или времён измерения и т.д.."
      ]
    },
    {
      "cell_type": "code",
      "execution_count": null,
      "metadata": {
        "ExecuteTime": {
          "end_time": "2020-04-12T07:12:10.508887Z",
          "start_time": "2020-04-12T07:12:10.499875Z"
        },
        "id": "YGLPVc-x2VRk",
        "outputId": "9d84eea7-55e1-4b59-b515-79cde1ad876a"
      },
      "outputs": [
        {
          "data": {
            "text/plain": [
              "DatetimeIndex(['2016-01-01', '2016-01-02', '2016-01-03', '2016-01-04',\n",
              "               '2016-01-05', '2016-01-06', '2016-01-07', '2016-01-08',\n",
              "               '2016-01-09', '2016-01-10'],\n",
              "              dtype='datetime64[ns]', freq='D')"
            ]
          },
          "execution_count": 19,
          "metadata": {},
          "output_type": "execute_result"
        }
      ],
      "source": [
        "d = pd.date_range('20160101', periods=10)\n",
        "d"
      ]
    },
    {
      "cell_type": "code",
      "execution_count": null,
      "metadata": {
        "ExecuteTime": {
          "end_time": "2020-04-12T07:12:10.518757Z",
          "start_time": "2020-04-12T07:12:10.511503Z"
        },
        "id": "tKTvMrDB2VRk",
        "outputId": "d1f8bf73-c5ce-4efe-f726-f018504587f9"
      },
      "outputs": [
        {
          "data": {
            "text/plain": [
              "2016-01-01   -0.563028\n",
              "2016-01-02    2.015834\n",
              "2016-01-03   -2.008353\n",
              "2016-01-04    1.203577\n",
              "2016-01-05    1.216309\n",
              "2016-01-06    2.288571\n",
              "2016-01-07   -1.443840\n",
              "2016-01-08    1.250447\n",
              "2016-01-09   -0.209155\n",
              "2016-01-10   -0.551679\n",
              "Freq: D, dtype: float64"
            ]
          },
          "execution_count": 20,
          "metadata": {},
          "output_type": "execute_result"
        }
      ],
      "source": [
        "s = pd.Series(sps.norm.rvs(size=10), index=d)\n",
        "s"
      ]
    },
    {
      "cell_type": "markdown",
      "metadata": {
        "id": "TUqK9zJt2VRk"
      },
      "source": [
        "Операции сравнения возвращают наборы булевых данных."
      ]
    },
    {
      "cell_type": "code",
      "execution_count": null,
      "metadata": {
        "ExecuteTime": {
          "end_time": "2020-04-12T07:12:10.529747Z",
          "start_time": "2020-04-12T07:12:10.522360Z"
        },
        "id": "TguTtiCT2VRk",
        "outputId": "b5f3f299-6732-4b1a-a6a8-35c2d0bb13a5"
      },
      "outputs": [
        {
          "data": {
            "text/plain": [
              "2016-01-01    False\n",
              "2016-01-02     True\n",
              "2016-01-03    False\n",
              "2016-01-04     True\n",
              "2016-01-05     True\n",
              "2016-01-06     True\n",
              "2016-01-07    False\n",
              "2016-01-08     True\n",
              "2016-01-09    False\n",
              "2016-01-10    False\n",
              "Freq: D, dtype: bool"
            ]
          },
          "execution_count": 21,
          "metadata": {},
          "output_type": "execute_result"
        }
      ],
      "source": [
        "s > 0"
      ]
    },
    {
      "cell_type": "markdown",
      "metadata": {
        "id": "Bdem3HvF2VRk"
      },
      "source": [
        "Если такой булев набор использовать для индексации, получится поднабор только из тех данных, для которых условие есть `True`."
      ]
    },
    {
      "cell_type": "code",
      "execution_count": null,
      "metadata": {
        "ExecuteTime": {
          "end_time": "2020-04-12T07:12:10.536569Z",
          "start_time": "2020-04-12T07:12:10.531641Z"
        },
        "id": "R9FTM3FM2VRl",
        "outputId": "3c214b3e-5b01-4186-be35-296abb8b42dd"
      },
      "outputs": [
        {
          "data": {
            "text/plain": [
              "2016-01-02    2.015834\n",
              "2016-01-04    1.203577\n",
              "2016-01-05    1.216309\n",
              "2016-01-06    2.288571\n",
              "2016-01-08    1.250447\n",
              "dtype: float64"
            ]
          },
          "execution_count": 22,
          "metadata": {},
          "output_type": "execute_result"
        }
      ],
      "source": [
        "s[s > 0]"
      ]
    },
    {
      "cell_type": "markdown",
      "metadata": {
        "id": "mTcMv0Ng2VRl"
      },
      "source": [
        "Кумулятивные максимумы &mdash; от первого элемента до текущего. Первое значение кумулятивного максимума совпадает с первым значением исходного массива. Далее значение $k$-го элемента есть максимум среди элементов до $k$-го включительно."
      ]
    },
    {
      "cell_type": "code",
      "execution_count": null,
      "metadata": {
        "ExecuteTime": {
          "end_time": "2020-04-12T07:12:10.545853Z",
          "start_time": "2020-04-12T07:12:10.540933Z"
        },
        "id": "bcc6vT4t2VRl",
        "outputId": "60b9914c-7ed4-40f8-e508-040d29aa18d0"
      },
      "outputs": [
        {
          "data": {
            "text/plain": [
              "2016-01-01   -0.563028\n",
              "2016-01-02    2.015834\n",
              "2016-01-03    2.015834\n",
              "2016-01-04    2.015834\n",
              "2016-01-05    2.015834\n",
              "2016-01-06    2.288571\n",
              "2016-01-07    2.288571\n",
              "2016-01-08    2.288571\n",
              "2016-01-09    2.288571\n",
              "2016-01-10    2.288571\n",
              "Freq: D, dtype: float64"
            ]
          },
          "execution_count": 23,
          "metadata": {},
          "output_type": "execute_result"
        }
      ],
      "source": [
        "s.cummax()"
      ]
    },
    {
      "cell_type": "markdown",
      "metadata": {
        "id": "L5q0DAQs2VRl"
      },
      "source": [
        "Кумулятивные суммы. Первое значение кумулятивной суммы совпадает с первым значением исходного массива. Далее значение $k$-го элемента есть сумма элементов до $k$-го включительно."
      ]
    },
    {
      "cell_type": "code",
      "execution_count": null,
      "metadata": {
        "ExecuteTime": {
          "end_time": "2020-04-12T07:12:10.553299Z",
          "start_time": "2020-04-12T07:12:10.548537Z"
        },
        "id": "kmQmWkFY2VRm",
        "outputId": "423ba114-24e2-4617-d955-81ad7274b4bf"
      },
      "outputs": [
        {
          "data": {
            "text/plain": [
              "2016-01-01   -0.563028\n",
              "2016-01-02    1.452807\n",
              "2016-01-03   -0.555546\n",
              "2016-01-04    0.648032\n",
              "2016-01-05    1.864341\n",
              "2016-01-06    4.152912\n",
              "2016-01-07    2.709072\n",
              "2016-01-08    3.959519\n",
              "2016-01-09    3.750364\n",
              "2016-01-10    3.198685\n",
              "Freq: D, dtype: float64"
            ]
          },
          "execution_count": 24,
          "metadata": {},
          "output_type": "execute_result"
        }
      ],
      "source": [
        "s.cumsum()"
      ]
    },
    {
      "cell_type": "markdown",
      "metadata": {
        "id": "yE9TVc6U2VRm"
      },
      "source": [
        "Произвольные функции кумулятивным способом можно считать с помощью конструкции `expanding`. Например, так можно посчитать кумулятивные медианы. Будет не быстрее, чем вручную, но аккуратнее."
      ]
    },
    {
      "cell_type": "code",
      "execution_count": null,
      "metadata": {
        "ExecuteTime": {
          "end_time": "2020-04-12T07:12:10.562075Z",
          "start_time": "2020-04-12T07:12:10.555342Z"
        },
        "id": "2KgRbyKl2VRm",
        "outputId": "a996eafd-01c1-4b15-dd29-7ada999a4c0e"
      },
      "outputs": [
        {
          "data": {
            "text/plain": [
              "2016-01-01   -0.563028\n",
              "2016-01-02    0.726403\n",
              "2016-01-03   -0.563028\n",
              "2016-01-04    0.320275\n",
              "2016-01-05    1.203577\n",
              "2016-01-06    1.209943\n",
              "2016-01-07    1.203577\n",
              "2016-01-08    1.209943\n",
              "2016-01-09    1.203577\n",
              "2016-01-10    0.497211\n",
              "Freq: D, dtype: float64"
            ]
          },
          "execution_count": 25,
          "metadata": {},
          "output_type": "execute_result"
        }
      ],
      "source": [
        "s.expanding().apply(np.median, raw=True)"
      ]
    },
    {
      "cell_type": "markdown",
      "metadata": {
        "id": "qvrCwRKl2VRm"
      },
      "source": [
        "Если вы хотите посчитать разности соседних элементов, воспользуйтесь методом `diff`.  Ключевое слово `periods` отвечает за то, с каким шагом будут считаться разности."
      ]
    },
    {
      "cell_type": "code",
      "execution_count": null,
      "metadata": {
        "ExecuteTime": {
          "end_time": "2020-04-12T07:12:10.568506Z",
          "start_time": "2020-04-12T07:12:10.563937Z"
        },
        "id": "ep1QuHNf2VRm",
        "outputId": "2a7eacbe-00dc-4529-d57b-9c38ab97f411"
      },
      "outputs": [
        {
          "data": {
            "text/plain": [
              "2016-01-01         NaN\n",
              "2016-01-02    2.578862\n",
              "2016-01-03   -4.024187\n",
              "2016-01-04    3.211930\n",
              "2016-01-05    0.012732\n",
              "2016-01-06    1.072262\n",
              "2016-01-07   -3.732411\n",
              "2016-01-08    2.694287\n",
              "2016-01-09   -1.459602\n",
              "2016-01-10   -0.342524\n",
              "Freq: D, dtype: float64"
            ]
          },
          "execution_count": 26,
          "metadata": {},
          "output_type": "execute_result"
        }
      ],
      "source": [
        "s.diff()"
      ]
    },
    {
      "cell_type": "markdown",
      "metadata": {
        "id": "mw5BSZAg2VRn"
      },
      "source": [
        "Результат будет иметь тот же размер, но в начале появятся пропущенные значения.  От них можно избавиться при помощи метода `dropna`."
      ]
    },
    {
      "cell_type": "code",
      "execution_count": null,
      "metadata": {
        "ExecuteTime": {
          "end_time": "2020-04-12T07:12:10.576465Z",
          "start_time": "2020-04-12T07:12:10.570484Z"
        },
        "id": "GxNZ66nr2VRn",
        "outputId": "a580d047-6782-4edf-ecbb-d659f7d58f88"
      },
      "outputs": [
        {
          "data": {
            "text/plain": [
              "2016-01-02    2.578862\n",
              "2016-01-03   -4.024187\n",
              "2016-01-04    3.211930\n",
              "2016-01-05    0.012732\n",
              "2016-01-06    1.072262\n",
              "2016-01-07   -3.732411\n",
              "2016-01-08    2.694287\n",
              "2016-01-09   -1.459602\n",
              "2016-01-10   -0.342524\n",
              "Freq: D, dtype: float64"
            ]
          },
          "execution_count": 27,
          "metadata": {},
          "output_type": "execute_result"
        }
      ],
      "source": [
        "s.diff().dropna()"
      ]
    },
    {
      "cell_type": "markdown",
      "metadata": {
        "id": "Yn16JReM2VRn"
      },
      "source": [
        "**Упражнение**  \n",
        "Посчитайте кумулятивное среднее квадратов разностей соседних элементов набора `s`."
      ]
    },
    {
      "cell_type": "code",
      "execution_count": null,
      "metadata": {
        "ExecuteTime": {
          "end_time": "2020-04-12T07:12:10.584415Z",
          "start_time": "2020-04-12T07:12:10.578275Z"
        },
        "id": "kHwnOYH82VRn",
        "outputId": "6655168b-b1d3-4452-f48f-f7f858702218"
      },
      "outputs": [
        {
          "data": {
            "text/plain": [
              "2016-01-02     6.650530\n",
              "2016-01-03    11.422306\n",
              "2016-01-04    11.053702\n",
              "2016-01-05     8.290317\n",
              "2016-01-06     6.862203\n",
              "2016-01-07     8.040317\n",
              "2016-01-08     7.928727\n",
              "2016-01-09     7.203941\n",
              "2016-01-10     6.416539\n",
              "Freq: D, dtype: float64"
            ]
          },
          "execution_count": 28,
          "metadata": {},
          "output_type": "execute_result"
        }
      ],
      "source": [
        "# ВАШ КОД\n",
        "s.diff().dropna().expanding().apply(lambda x: np.mean(x**2))"
      ]
    },
    {
      "cell_type": "markdown",
      "metadata": {
        "id": "2A2PQuuz2VRn"
      },
      "source": [
        "Наконец, построим график."
      ]
    },
    {
      "cell_type": "code",
      "execution_count": null,
      "metadata": {
        "ExecuteTime": {
          "end_time": "2020-04-12T07:12:10.687410Z",
          "start_time": "2020-04-12T07:12:10.586839Z"
        },
        "id": "JHWQ7aIA2VRo"
      },
      "outputs": [],
      "source": [
        "import matplotlib.pyplot as plt\n",
        "%matplotlib inline\n",
        "\n",
        "# Нужно для новых версий библиотек для преобразования дат\n",
        "from pandas.plotting import register_matplotlib_converters\n",
        "register_matplotlib_converters()"
      ]
    },
    {
      "cell_type": "code",
      "execution_count": null,
      "metadata": {
        "ExecuteTime": {
          "end_time": "2020-04-12T07:12:11.027596Z",
          "start_time": "2020-04-12T07:12:10.688942Z"
        },
        "id": "ZcPfLysB2VRo",
        "outputId": "5a70f075-b073-4f27-bf56-91238d3b28aa"
      },
      "outputs": [
        {
          "data": {
            "image/png": "[encoded data removed]",
            "text/plain": [
              "<Figure size 1080x288 with 1 Axes>"
            ]
          },
          "metadata": {
            "needs_background": "light"
          },
          "output_type": "display_data"
        }
      ],
      "source": [
        "plt.figure(figsize=(15, 4))\n",
        "plt.plot(s)\n",
        "plt.show()"
      ]
    },
    {
      "cell_type": "markdown",
      "metadata": {
        "id": "yCnUVWAe2VRo"
      },
      "source": [
        "Более подробно ознакомиться с методами можно [в официальной документации](https://pandas.pydata.org/pandas-docs/stable/reference/api/pandas.Series.html)."
      ]
    },
    {
      "cell_type": "markdown",
      "metadata": {
        "id": "yKnWbF7n2VRo"
      },
      "source": [
        "### 2. Тип данных `DataFrame`\n",
        "\n",
        "Двумерная таблица данных. Имеет индекс и набор столбцов (возможно, имеющих разные типы). Таблицу можно построить, например, из словаря, значениями в котором являются одномерные наборы данных."
      ]
    },
    {
      "cell_type": "code",
      "execution_count": null,
      "metadata": {
        "ExecuteTime": {
          "end_time": "2020-04-12T07:12:11.046984Z",
          "start_time": "2020-04-12T07:12:11.032851Z"
        },
        "scrolled": false,
        "id": "urvYDNsW2VRo",
        "outputId": "07740ea2-8196-42d0-80bc-dd95b2343aa9"
      },
      "outputs": [
        {
          "data": {
            "text/html": [
              "<div>\n",
              "<style scoped>\n",
              "    .dataframe tbody tr th:only-of-type {\n",
              "        vertical-align: middle;\n",
              "    }\n",
              "\n",
              "    .dataframe tbody tr th {\n",
              "        vertical-align: top;\n",
              "    }\n",
              "\n",
              "    .dataframe thead th {\n",
              "        text-align: right;\n",
              "    }\n",
              "</style>\n",
              "<table border=\"1\" class=\"dataframe\">\n",
              "  <thead>\n",
              "    <tr style=\"text-align: right;\">\n",
              "      <th></th>\n",
              "      <th>one</th>\n",
              "      <th>two</th>\n",
              "      <th>three</th>\n",
              "    </tr>\n",
              "  </thead>\n",
              "  <tbody>\n",
              "    <tr>\n",
              "      <th>a</th>\n",
              "      <td>0.0</td>\n",
              "      <td>0</td>\n",
              "      <td>-1.496178</td>\n",
              "    </tr>\n",
              "    <tr>\n",
              "      <th>b</th>\n",
              "      <td>1.0</td>\n",
              "      <td>1</td>\n",
              "      <td>0.562452</td>\n",
              "    </tr>\n",
              "    <tr>\n",
              "      <th>c</th>\n",
              "      <td>2.0</td>\n",
              "      <td>2</td>\n",
              "      <td>0.520759</td>\n",
              "    </tr>\n",
              "    <tr>\n",
              "      <th>d</th>\n",
              "      <td>3.0</td>\n",
              "      <td>3</td>\n",
              "      <td>-0.461771</td>\n",
              "    </tr>\n",
              "    <tr>\n",
              "      <th>e</th>\n",
              "      <td>4.0</td>\n",
              "      <td>4</td>\n",
              "      <td>0.426069</td>\n",
              "    </tr>\n",
              "    <tr>\n",
              "      <th>f</th>\n",
              "      <td>5.0</td>\n",
              "      <td>5</td>\n",
              "      <td>-0.534984</td>\n",
              "    </tr>\n",
              "    <tr>\n",
              "      <th>g</th>\n",
              "      <td>NaN</td>\n",
              "      <td>6</td>\n",
              "      <td>-0.364495</td>\n",
              "    </tr>\n",
              "  </tbody>\n",
              "</table>\n",
              "</div>"
            ],
            "text/plain": [
              "   one  two     three\n",
              "a  0.0    0 -1.496178\n",
              "b  1.0    1  0.562452\n",
              "c  2.0    2  0.520759\n",
              "d  3.0    3 -0.461771\n",
              "e  4.0    4  0.426069\n",
              "f  5.0    5 -0.534984\n",
              "g  NaN    6 -0.364495"
            ]
          },
          "execution_count": 31,
          "metadata": {},
          "output_type": "execute_result"
        }
      ],
      "source": [
        "d = {'one': pd.Series(range(6), index=list('abcdef')),\n",
        "     'two': pd.Series(range(7), index=list('abcdefg')),\n",
        "     'three': pd.Series(sps.norm.rvs(size=7), index=list('abcdefg'))}\n",
        "df = pd.DataFrame(d)\n",
        "df"
      ]
    },
    {
      "cell_type": "markdown",
      "metadata": {
        "id": "tbcEILE72VRp"
      },
      "source": [
        "Таблица с несколькими разными типами данных"
      ]
    },
    {
      "cell_type": "code",
      "execution_count": null,
      "metadata": {
        "ExecuteTime": {
          "end_time": "2020-04-12T07:12:11.066802Z",
          "start_time": "2020-04-12T07:12:11.048830Z"
        },
        "id": "Cf7QoKA_2VRp",
        "outputId": "42eb7ad7-3573-48ea-bc80-4eb9dc8ea195"
      },
      "outputs": [
        {
          "data": {
            "text/html": [
              "<div>\n",
              "<style scoped>\n",
              "    .dataframe tbody tr th:only-of-type {\n",
              "        vertical-align: middle;\n",
              "    }\n",
              "\n",
              "    .dataframe tbody tr th {\n",
              "        vertical-align: top;\n",
              "    }\n",
              "\n",
              "    .dataframe thead th {\n",
              "        text-align: right;\n",
              "    }\n",
              "</style>\n",
              "<table border=\"1\" class=\"dataframe\">\n",
              "  <thead>\n",
              "    <tr style=\"text-align: right;\">\n",
              "      <th></th>\n",
              "      <th>A</th>\n",
              "      <th>B</th>\n",
              "      <th>C</th>\n",
              "      <th>D</th>\n",
              "      <th>E</th>\n",
              "      <th>F</th>\n",
              "    </tr>\n",
              "  </thead>\n",
              "  <tbody>\n",
              "    <tr>\n",
              "      <th>0</th>\n",
              "      <td>1.0</td>\n",
              "      <td>2013-01-02</td>\n",
              "      <td>1.0</td>\n",
              "      <td>3</td>\n",
              "      <td>test</td>\n",
              "      <td>foo</td>\n",
              "    </tr>\n",
              "    <tr>\n",
              "      <th>1</th>\n",
              "      <td>1.0</td>\n",
              "      <td>2013-01-02</td>\n",
              "      <td>1.0</td>\n",
              "      <td>3</td>\n",
              "      <td>train</td>\n",
              "      <td>foo</td>\n",
              "    </tr>\n",
              "    <tr>\n",
              "      <th>2</th>\n",
              "      <td>1.0</td>\n",
              "      <td>2013-01-02</td>\n",
              "      <td>1.0</td>\n",
              "      <td>3</td>\n",
              "      <td>test</td>\n",
              "      <td>foo</td>\n",
              "    </tr>\n",
              "    <tr>\n",
              "      <th>3</th>\n",
              "      <td>1.0</td>\n",
              "      <td>2013-01-02</td>\n",
              "      <td>1.0</td>\n",
              "      <td>3</td>\n",
              "      <td>train</td>\n",
              "      <td>foo</td>\n",
              "    </tr>\n",
              "  </tbody>\n",
              "</table>\n",
              "</div>"
            ],
            "text/plain": [
              "     A          B    C  D      E    F\n",
              "0  1.0 2013-01-02  1.0  3   test  foo\n",
              "1  1.0 2013-01-02  1.0  3  train  foo\n",
              "2  1.0 2013-01-02  1.0  3   test  foo\n",
              "3  1.0 2013-01-02  1.0  3  train  foo"
            ]
          },
          "execution_count": 32,
          "metadata": {},
          "output_type": "execute_result"
        }
      ],
      "source": [
        "df2 = pd.DataFrame({ 'A': 1.,\n",
        "                     'B': pd.Timestamp('20130102'),\n",
        "                     'C': pd.Series(1, index=list(range(4)),\n",
        "                                    dtype='float32'),\n",
        "                     'D': np.array([3] * 4,\n",
        "                                   dtype='int32'),\n",
        "                     'E': pd.Categorical([\"test\", \"train\",\n",
        "                                          \"test\", \"train\"]),\n",
        "                     'F': 'foo' })\n",
        "df2"
      ]
    },
    {
      "cell_type": "code",
      "execution_count": null,
      "metadata": {
        "ExecuteTime": {
          "end_time": "2020-04-12T07:12:11.082072Z",
          "start_time": "2020-04-12T07:12:11.069042Z"
        },
        "id": "7fPJ6w5v2VRp",
        "outputId": "327e1c93-2d4b-437c-e3ab-cdc2261cc361"
      },
      "outputs": [
        {
          "data": {
            "text/plain": [
              "A           float64\n",
              "B    datetime64[ns]\n",
              "C           float32\n",
              "D             int32\n",
              "E          category\n",
              "F            object\n",
              "dtype: object"
            ]
          },
          "execution_count": 33,
          "metadata": {},
          "output_type": "execute_result"
        }
      ],
      "source": [
        "df2.dtypes"
      ]
    },
    {
      "cell_type": "markdown",
      "metadata": {
        "id": "FY8vTUuz2VRp"
      },
      "source": [
        "#### 2.1 Данные\n",
        "\n",
        "Вернемся к первой таблице и посмотрим на ее начало и конец"
      ]
    },
    {
      "cell_type": "code",
      "execution_count": null,
      "metadata": {
        "ExecuteTime": {
          "end_time": "2020-04-12T07:12:11.100916Z",
          "start_time": "2020-04-12T07:12:11.086335Z"
        },
        "id": "C2v4_wNx2VRp",
        "outputId": "1940dd1e-717f-4fbf-f737-f7e9bd9b189d"
      },
      "outputs": [
        {
          "data": {
            "text/html": [
              "<div>\n",
              "<style scoped>\n",
              "    .dataframe tbody tr th:only-of-type {\n",
              "        vertical-align: middle;\n",
              "    }\n",
              "\n",
              "    .dataframe tbody tr th {\n",
              "        vertical-align: top;\n",
              "    }\n",
              "\n",
              "    .dataframe thead th {\n",
              "        text-align: right;\n",
              "    }\n",
              "</style>\n",
              "<table border=\"1\" class=\"dataframe\">\n",
              "  <thead>\n",
              "    <tr style=\"text-align: right;\">\n",
              "      <th></th>\n",
              "      <th>one</th>\n",
              "      <th>two</th>\n",
              "      <th>three</th>\n",
              "    </tr>\n",
              "  </thead>\n",
              "  <tbody>\n",
              "    <tr>\n",
              "      <th>a</th>\n",
              "      <td>0.0</td>\n",
              "      <td>0</td>\n",
              "      <td>-1.496178</td>\n",
              "    </tr>\n",
              "    <tr>\n",
              "      <th>b</th>\n",
              "      <td>1.0</td>\n",
              "      <td>1</td>\n",
              "      <td>0.562452</td>\n",
              "    </tr>\n",
              "    <tr>\n",
              "      <th>c</th>\n",
              "      <td>2.0</td>\n",
              "      <td>2</td>\n",
              "      <td>0.520759</td>\n",
              "    </tr>\n",
              "    <tr>\n",
              "      <th>d</th>\n",
              "      <td>3.0</td>\n",
              "      <td>3</td>\n",
              "      <td>-0.461771</td>\n",
              "    </tr>\n",
              "    <tr>\n",
              "      <th>e</th>\n",
              "      <td>4.0</td>\n",
              "      <td>4</td>\n",
              "      <td>0.426069</td>\n",
              "    </tr>\n",
              "  </tbody>\n",
              "</table>\n",
              "</div>"
            ],
            "text/plain": [
              "   one  two     three\n",
              "a  0.0    0 -1.496178\n",
              "b  1.0    1  0.562452\n",
              "c  2.0    2  0.520759\n",
              "d  3.0    3 -0.461771\n",
              "e  4.0    4  0.426069"
            ]
          },
          "execution_count": 34,
          "metadata": {},
          "output_type": "execute_result"
        }
      ],
      "source": [
        "df.head()"
      ]
    },
    {
      "cell_type": "code",
      "execution_count": null,
      "metadata": {
        "ExecuteTime": {
          "end_time": "2020-04-12T07:12:11.112867Z",
          "start_time": "2020-04-12T07:12:11.103370Z"
        },
        "id": "T59rTR4Z2VRq",
        "outputId": "3ff66d67-9961-47e5-bb55-4611ac07ff81"
      },
      "outputs": [
        {
          "data": {
            "text/html": [
              "<div>\n",
              "<style scoped>\n",
              "    .dataframe tbody tr th:only-of-type {\n",
              "        vertical-align: middle;\n",
              "    }\n",
              "\n",
              "    .dataframe tbody tr th {\n",
              "        vertical-align: top;\n",
              "    }\n",
              "\n",
              "    .dataframe thead th {\n",
              "        text-align: right;\n",
              "    }\n",
              "</style>\n",
              "<table border=\"1\" class=\"dataframe\">\n",
              "  <thead>\n",
              "    <tr style=\"text-align: right;\">\n",
              "      <th></th>\n",
              "      <th>one</th>\n",
              "      <th>two</th>\n",
              "      <th>three</th>\n",
              "    </tr>\n",
              "  </thead>\n",
              "  <tbody>\n",
              "    <tr>\n",
              "      <th>e</th>\n",
              "      <td>4.0</td>\n",
              "      <td>4</td>\n",
              "      <td>0.426069</td>\n",
              "    </tr>\n",
              "    <tr>\n",
              "      <th>f</th>\n",
              "      <td>5.0</td>\n",
              "      <td>5</td>\n",
              "      <td>-0.534984</td>\n",
              "    </tr>\n",
              "    <tr>\n",
              "      <th>g</th>\n",
              "      <td>NaN</td>\n",
              "      <td>6</td>\n",
              "      <td>-0.364495</td>\n",
              "    </tr>\n",
              "  </tbody>\n",
              "</table>\n",
              "</div>"
            ],
            "text/plain": [
              "   one  two     three\n",
              "e  4.0    4  0.426069\n",
              "f  5.0    5 -0.534984\n",
              "g  NaN    6 -0.364495"
            ]
          },
          "execution_count": 35,
          "metadata": {},
          "output_type": "execute_result"
        }
      ],
      "source": [
        "df.tail(3)"
      ]
    },
    {
      "cell_type": "markdown",
      "metadata": {
        "id": "kKMmxCQQ2VRq"
      },
      "source": [
        "Индексы"
      ]
    },
    {
      "cell_type": "code",
      "execution_count": null,
      "metadata": {
        "ExecuteTime": {
          "end_time": "2020-04-12T07:12:11.124604Z",
          "start_time": "2020-04-12T07:12:11.115881Z"
        },
        "id": "SZNEhmPx2VRq",
        "outputId": "dda93113-5f55-4911-df62-f822d1e13375"
      },
      "outputs": [
        {
          "data": {
            "text/plain": [
              "Index(['a', 'b', 'c', 'd', 'e', 'f', 'g'], dtype='object')"
            ]
          },
          "execution_count": 36,
          "metadata": {},
          "output_type": "execute_result"
        }
      ],
      "source": [
        "df.index"
      ]
    },
    {
      "cell_type": "markdown",
      "metadata": {
        "id": "8-Tu3cdM2VRq"
      },
      "source": [
        "Названия колонок"
      ]
    },
    {
      "cell_type": "code",
      "execution_count": null,
      "metadata": {
        "ExecuteTime": {
          "end_time": "2020-04-12T07:12:11.133347Z",
          "start_time": "2020-04-12T07:12:11.128428Z"
        },
        "id": "Y1CrdeXA2VRq",
        "outputId": "0f8aaaac-f2ad-4712-a817-ffdbf4ef9757"
      },
      "outputs": [
        {
          "data": {
            "text/plain": [
              "Index(['one', 'two', 'three'], dtype='object')"
            ]
          },
          "execution_count": 37,
          "metadata": {},
          "output_type": "execute_result"
        }
      ],
      "source": [
        "df.columns"
      ]
    },
    {
      "cell_type": "markdown",
      "metadata": {
        "id": "jCzBCD102VRr"
      },
      "source": [
        "Получение обычной матрицы данных"
      ]
    },
    {
      "cell_type": "code",
      "execution_count": null,
      "metadata": {
        "ExecuteTime": {
          "end_time": "2020-04-12T07:12:11.140266Z",
          "start_time": "2020-04-12T07:12:11.135743Z"
        },
        "id": "0eZ8bNP82VRr",
        "outputId": "fc7b5d8d-39f5-45d6-9971-33fc345f3ed0"
      },
      "outputs": [
        {
          "data": {
            "text/plain": [
              "array([[ 0.        ,  0.        , -1.4961779 ],\n",
              "       [ 1.        ,  1.        ,  0.56245248],\n",
              "       [ 2.        ,  2.        ,  0.52075873],\n",
              "       [ 3.        ,  3.        , -0.46177052],\n",
              "       [ 4.        ,  4.        ,  0.4260685 ],\n",
              "       [ 5.        ,  5.        , -0.53498361],\n",
              "       [        nan,  6.        , -0.36449528]])"
            ]
          },
          "execution_count": 38,
          "metadata": {},
          "output_type": "execute_result"
        }
      ],
      "source": [
        "df.values"
      ]
    },
    {
      "cell_type": "markdown",
      "metadata": {
        "id": "ljWdFueb2VRr"
      },
      "source": [
        "Описательные статистики"
      ]
    },
    {
      "cell_type": "code",
      "execution_count": null,
      "metadata": {
        "ExecuteTime": {
          "end_time": "2020-04-12T07:12:11.188640Z",
          "start_time": "2020-04-12T07:12:11.144159Z"
        },
        "id": "K4j7LROp2VRr",
        "outputId": "5f872f55-3e45-4ab8-d22d-b6acd7c53a36"
      },
      "outputs": [
        {
          "data": {
            "text/html": [
              "<div>\n",
              "<style scoped>\n",
              "    .dataframe tbody tr th:only-of-type {\n",
              "        vertical-align: middle;\n",
              "    }\n",
              "\n",
              "    .dataframe tbody tr th {\n",
              "        vertical-align: top;\n",
              "    }\n",
              "\n",
              "    .dataframe thead th {\n",
              "        text-align: right;\n",
              "    }\n",
              "</style>\n",
              "<table border=\"1\" class=\"dataframe\">\n",
              "  <thead>\n",
              "    <tr style=\"text-align: right;\">\n",
              "      <th></th>\n",
              "      <th>one</th>\n",
              "      <th>two</th>\n",
              "      <th>three</th>\n",
              "    </tr>\n",
              "  </thead>\n",
              "  <tbody>\n",
              "    <tr>\n",
              "      <th>count</th>\n",
              "      <td>6.000000</td>\n",
              "      <td>7.000000</td>\n",
              "      <td>7.000000</td>\n",
              "    </tr>\n",
              "    <tr>\n",
              "      <th>mean</th>\n",
              "      <td>2.500000</td>\n",
              "      <td>3.000000</td>\n",
              "      <td>-0.192593</td>\n",
              "    </tr>\n",
              "    <tr>\n",
              "      <th>std</th>\n",
              "      <td>1.870829</td>\n",
              "      <td>2.160247</td>\n",
              "      <td>0.750586</td>\n",
              "    </tr>\n",
              "    <tr>\n",
              "      <th>min</th>\n",
              "      <td>0.000000</td>\n",
              "      <td>0.000000</td>\n",
              "      <td>-1.496178</td>\n",
              "    </tr>\n",
              "    <tr>\n",
              "      <th>25%</th>\n",
              "      <td>1.250000</td>\n",
              "      <td>1.500000</td>\n",
              "      <td>-0.498377</td>\n",
              "    </tr>\n",
              "    <tr>\n",
              "      <th>50%</th>\n",
              "      <td>2.500000</td>\n",
              "      <td>3.000000</td>\n",
              "      <td>-0.364495</td>\n",
              "    </tr>\n",
              "    <tr>\n",
              "      <th>75%</th>\n",
              "      <td>3.750000</td>\n",
              "      <td>4.500000</td>\n",
              "      <td>0.473414</td>\n",
              "    </tr>\n",
              "    <tr>\n",
              "      <th>max</th>\n",
              "      <td>5.000000</td>\n",
              "      <td>6.000000</td>\n",
              "      <td>0.562452</td>\n",
              "    </tr>\n",
              "  </tbody>\n",
              "</table>\n",
              "</div>"
            ],
            "text/plain": [
              "            one       two     three\n",
              "count  6.000000  7.000000  7.000000\n",
              "mean   2.500000  3.000000 -0.192593\n",
              "std    1.870829  2.160247  0.750586\n",
              "min    0.000000  0.000000 -1.496178\n",
              "25%    1.250000  1.500000 -0.498377\n",
              "50%    2.500000  3.000000 -0.364495\n",
              "75%    3.750000  4.500000  0.473414\n",
              "max    5.000000  6.000000  0.562452"
            ]
          },
          "execution_count": 39,
          "metadata": {},
          "output_type": "execute_result"
        }
      ],
      "source": [
        "df.describe()"
      ]
    },
    {
      "cell_type": "markdown",
      "metadata": {
        "id": "wM_t2kEN2VRr"
      },
      "source": [
        "Транспонирование данных"
      ]
    },
    {
      "cell_type": "code",
      "execution_count": null,
      "metadata": {
        "ExecuteTime": {
          "end_time": "2020-04-12T07:12:11.211519Z",
          "start_time": "2020-04-12T07:12:11.191002Z"
        },
        "id": "556MHaRa2VRr",
        "outputId": "8a73b29f-aef4-4c41-b528-a664bc8a53f8"
      },
      "outputs": [
        {
          "data": {
            "text/html": [
              "<div>\n",
              "<style scoped>\n",
              "    .dataframe tbody tr th:only-of-type {\n",
              "        vertical-align: middle;\n",
              "    }\n",
              "\n",
              "    .dataframe tbody tr th {\n",
              "        vertical-align: top;\n",
              "    }\n",
              "\n",
              "    .dataframe thead th {\n",
              "        text-align: right;\n",
              "    }\n",
              "</style>\n",
              "<table border=\"1\" class=\"dataframe\">\n",
              "  <thead>\n",
              "    <tr style=\"text-align: right;\">\n",
              "      <th></th>\n",
              "      <th>a</th>\n",
              "      <th>b</th>\n",
              "      <th>c</th>\n",
              "      <th>d</th>\n",
              "      <th>e</th>\n",
              "      <th>f</th>\n",
              "      <th>g</th>\n",
              "    </tr>\n",
              "  </thead>\n",
              "  <tbody>\n",
              "    <tr>\n",
              "      <th>one</th>\n",
              "      <td>0.000000</td>\n",
              "      <td>1.000000</td>\n",
              "      <td>2.000000</td>\n",
              "      <td>3.000000</td>\n",
              "      <td>4.000000</td>\n",
              "      <td>5.000000</td>\n",
              "      <td>NaN</td>\n",
              "    </tr>\n",
              "    <tr>\n",
              "      <th>two</th>\n",
              "      <td>0.000000</td>\n",
              "      <td>1.000000</td>\n",
              "      <td>2.000000</td>\n",
              "      <td>3.000000</td>\n",
              "      <td>4.000000</td>\n",
              "      <td>5.000000</td>\n",
              "      <td>6.000000</td>\n",
              "    </tr>\n",
              "    <tr>\n",
              "      <th>three</th>\n",
              "      <td>-1.496178</td>\n",
              "      <td>0.562452</td>\n",
              "      <td>0.520759</td>\n",
              "      <td>-0.461771</td>\n",
              "      <td>0.426069</td>\n",
              "      <td>-0.534984</td>\n",
              "      <td>-0.364495</td>\n",
              "    </tr>\n",
              "  </tbody>\n",
              "</table>\n",
              "</div>"
            ],
            "text/plain": [
              "              a         b         c         d         e         f         g\n",
              "one    0.000000  1.000000  2.000000  3.000000  4.000000  5.000000       NaN\n",
              "two    0.000000  1.000000  2.000000  3.000000  4.000000  5.000000  6.000000\n",
              "three -1.496178  0.562452  0.520759 -0.461771  0.426069 -0.534984 -0.364495"
            ]
          },
          "execution_count": 40,
          "metadata": {},
          "output_type": "execute_result"
        }
      ],
      "source": [
        "df.T"
      ]
    },
    {
      "cell_type": "markdown",
      "metadata": {
        "id": "IwxQ21lS2VRs"
      },
      "source": [
        "Сортировка по столбцу"
      ]
    },
    {
      "cell_type": "code",
      "execution_count": null,
      "metadata": {
        "ExecuteTime": {
          "end_time": "2020-04-12T07:12:11.236986Z",
          "start_time": "2020-04-12T07:12:11.216990Z"
        },
        "id": "8I_AmYx52VRs",
        "outputId": "fa3e646c-1353-4c0d-a9c9-00ac8670f977"
      },
      "outputs": [
        {
          "data": {
            "text/html": [
              "<div>\n",
              "<style scoped>\n",
              "    .dataframe tbody tr th:only-of-type {\n",
              "        vertical-align: middle;\n",
              "    }\n",
              "\n",
              "    .dataframe tbody tr th {\n",
              "        vertical-align: top;\n",
              "    }\n",
              "\n",
              "    .dataframe thead th {\n",
              "        text-align: right;\n",
              "    }\n",
              "</style>\n",
              "<table border=\"1\" class=\"dataframe\">\n",
              "  <thead>\n",
              "    <tr style=\"text-align: right;\">\n",
              "      <th></th>\n",
              "      <th>one</th>\n",
              "      <th>two</th>\n",
              "      <th>three</th>\n",
              "    </tr>\n",
              "  </thead>\n",
              "  <tbody>\n",
              "    <tr>\n",
              "      <th>b</th>\n",
              "      <td>1.0</td>\n",
              "      <td>1</td>\n",
              "      <td>0.562452</td>\n",
              "    </tr>\n",
              "    <tr>\n",
              "      <th>c</th>\n",
              "      <td>2.0</td>\n",
              "      <td>2</td>\n",
              "      <td>0.520759</td>\n",
              "    </tr>\n",
              "    <tr>\n",
              "      <th>e</th>\n",
              "      <td>4.0</td>\n",
              "      <td>4</td>\n",
              "      <td>0.426069</td>\n",
              "    </tr>\n",
              "    <tr>\n",
              "      <th>g</th>\n",
              "      <td>NaN</td>\n",
              "      <td>6</td>\n",
              "      <td>-0.364495</td>\n",
              "    </tr>\n",
              "    <tr>\n",
              "      <th>d</th>\n",
              "      <td>3.0</td>\n",
              "      <td>3</td>\n",
              "      <td>-0.461771</td>\n",
              "    </tr>\n",
              "    <tr>\n",
              "      <th>f</th>\n",
              "      <td>5.0</td>\n",
              "      <td>5</td>\n",
              "      <td>-0.534984</td>\n",
              "    </tr>\n",
              "    <tr>\n",
              "      <th>a</th>\n",
              "      <td>0.0</td>\n",
              "      <td>0</td>\n",
              "      <td>-1.496178</td>\n",
              "    </tr>\n",
              "  </tbody>\n",
              "</table>\n",
              "</div>"
            ],
            "text/plain": [
              "   one  two     three\n",
              "b  1.0    1  0.562452\n",
              "c  2.0    2  0.520759\n",
              "e  4.0    4  0.426069\n",
              "g  NaN    6 -0.364495\n",
              "d  3.0    3 -0.461771\n",
              "f  5.0    5 -0.534984\n",
              "a  0.0    0 -1.496178"
            ]
          },
          "execution_count": 41,
          "metadata": {},
          "output_type": "execute_result"
        }
      ],
      "source": [
        "df.sort_values(by='three', ascending=False)"
      ]
    },
    {
      "cell_type": "markdown",
      "metadata": {
        "id": "Qq3FjjKx2VRs"
      },
      "source": [
        "**Упражнение:** Сгенерируйте массив точек в 3D, создайте по нему датафрейм и отсортируйте строки лексикографически."
      ]
    },
    {
      "cell_type": "code",
      "execution_count": null,
      "metadata": {
        "ExecuteTime": {
          "end_time": "2020-04-12T07:12:11.265066Z",
          "start_time": "2020-04-12T07:12:11.239555Z"
        },
        "id": "-FPATnMz2VRs",
        "outputId": "41554ab3-efca-4f40-8330-681a5831f986"
      },
      "outputs": [
        {
          "data": {
            "text/html": [
              "<div>\n",
              "<style scoped>\n",
              "    .dataframe tbody tr th:only-of-type {\n",
              "        vertical-align: middle;\n",
              "    }\n",
              "\n",
              "    .dataframe tbody tr th {\n",
              "        vertical-align: top;\n",
              "    }\n",
              "\n",
              "    .dataframe thead th {\n",
              "        text-align: right;\n",
              "    }\n",
              "</style>\n",
              "<table border=\"1\" class=\"dataframe\">\n",
              "  <thead>\n",
              "    <tr style=\"text-align: right;\">\n",
              "      <th></th>\n",
              "      <th>x</th>\n",
              "      <th>y</th>\n",
              "      <th>z</th>\n",
              "    </tr>\n",
              "  </thead>\n",
              "  <tbody>\n",
              "    <tr>\n",
              "      <th>11</th>\n",
              "      <td>-2.453554</td>\n",
              "      <td>0.070865</td>\n",
              "      <td>1.270085</td>\n",
              "    </tr>\n",
              "    <tr>\n",
              "      <th>0</th>\n",
              "      <td>-1.645365</td>\n",
              "      <td>0.680996</td>\n",
              "      <td>0.755448</td>\n",
              "    </tr>\n",
              "    <tr>\n",
              "      <th>17</th>\n",
              "      <td>-1.620365</td>\n",
              "      <td>1.704682</td>\n",
              "      <td>-0.238129</td>\n",
              "    </tr>\n",
              "    <tr>\n",
              "      <th>60</th>\n",
              "      <td>-1.523821</td>\n",
              "      <td>-0.625632</td>\n",
              "      <td>-0.641644</td>\n",
              "    </tr>\n",
              "    <tr>\n",
              "      <th>32</th>\n",
              "      <td>-1.517200</td>\n",
              "      <td>-0.756461</td>\n",
              "      <td>0.003390</td>\n",
              "    </tr>\n",
              "    <tr>\n",
              "      <th>80</th>\n",
              "      <td>-1.398230</td>\n",
              "      <td>-0.060793</td>\n",
              "      <td>-1.175577</td>\n",
              "    </tr>\n",
              "    <tr>\n",
              "      <th>75</th>\n",
              "      <td>-1.324837</td>\n",
              "      <td>-1.609736</td>\n",
              "      <td>-1.506753</td>\n",
              "    </tr>\n",
              "    <tr>\n",
              "      <th>62</th>\n",
              "      <td>-1.313305</td>\n",
              "      <td>-1.755254</td>\n",
              "      <td>0.164605</td>\n",
              "    </tr>\n",
              "    <tr>\n",
              "      <th>72</th>\n",
              "      <td>-1.302290</td>\n",
              "      <td>1.187174</td>\n",
              "      <td>-1.943044</td>\n",
              "    </tr>\n",
              "    <tr>\n",
              "      <th>70</th>\n",
              "      <td>-1.247956</td>\n",
              "      <td>0.183947</td>\n",
              "      <td>1.391994</td>\n",
              "    </tr>\n",
              "    <tr>\n",
              "      <th>78</th>\n",
              "      <td>-1.135145</td>\n",
              "      <td>-1.885870</td>\n",
              "      <td>0.963771</td>\n",
              "    </tr>\n",
              "    <tr>\n",
              "      <th>23</th>\n",
              "      <td>-1.090302</td>\n",
              "      <td>0.138006</td>\n",
              "      <td>-1.988282</td>\n",
              "    </tr>\n",
              "    <tr>\n",
              "      <th>25</th>\n",
              "      <td>-1.024776</td>\n",
              "      <td>-0.670445</td>\n",
              "      <td>2.099342</td>\n",
              "    </tr>\n",
              "    <tr>\n",
              "      <th>22</th>\n",
              "      <td>-1.013627</td>\n",
              "      <td>-0.676556</td>\n",
              "      <td>-0.195575</td>\n",
              "    </tr>\n",
              "    <tr>\n",
              "      <th>14</th>\n",
              "      <td>-0.981960</td>\n",
              "      <td>-0.056889</td>\n",
              "      <td>0.335150</td>\n",
              "    </tr>\n",
              "    <tr>\n",
              "      <th>63</th>\n",
              "      <td>-0.938201</td>\n",
              "      <td>-0.279104</td>\n",
              "      <td>-0.302362</td>\n",
              "    </tr>\n",
              "    <tr>\n",
              "      <th>20</th>\n",
              "      <td>-0.937994</td>\n",
              "      <td>-1.968142</td>\n",
              "      <td>-1.255503</td>\n",
              "    </tr>\n",
              "    <tr>\n",
              "      <th>35</th>\n",
              "      <td>-0.911286</td>\n",
              "      <td>-1.088244</td>\n",
              "      <td>1.087172</td>\n",
              "    </tr>\n",
              "    <tr>\n",
              "      <th>53</th>\n",
              "      <td>-0.883287</td>\n",
              "      <td>0.113176</td>\n",
              "      <td>-1.088797</td>\n",
              "    </tr>\n",
              "    <tr>\n",
              "      <th>47</th>\n",
              "      <td>-0.865473</td>\n",
              "      <td>2.025099</td>\n",
              "      <td>1.124176</td>\n",
              "    </tr>\n",
              "    <tr>\n",
              "      <th>65</th>\n",
              "      <td>-0.864217</td>\n",
              "      <td>0.312016</td>\n",
              "      <td>1.537469</td>\n",
              "    </tr>\n",
              "    <tr>\n",
              "      <th>58</th>\n",
              "      <td>-0.854635</td>\n",
              "      <td>0.079393</td>\n",
              "      <td>-0.787223</td>\n",
              "    </tr>\n",
              "    <tr>\n",
              "      <th>27</th>\n",
              "      <td>-0.851288</td>\n",
              "      <td>1.317678</td>\n",
              "      <td>-0.037738</td>\n",
              "    </tr>\n",
              "    <tr>\n",
              "      <th>16</th>\n",
              "      <td>-0.788237</td>\n",
              "      <td>0.021794</td>\n",
              "      <td>-0.100366</td>\n",
              "    </tr>\n",
              "    <tr>\n",
              "      <th>18</th>\n",
              "      <td>-0.783662</td>\n",
              "      <td>0.671847</td>\n",
              "      <td>1.025736</td>\n",
              "    </tr>\n",
              "    <tr>\n",
              "      <th>1</th>\n",
              "      <td>-0.744607</td>\n",
              "      <td>0.458559</td>\n",
              "      <td>2.413493</td>\n",
              "    </tr>\n",
              "    <tr>\n",
              "      <th>12</th>\n",
              "      <td>-0.685703</td>\n",
              "      <td>-1.303589</td>\n",
              "      <td>0.146562</td>\n",
              "    </tr>\n",
              "    <tr>\n",
              "      <th>82</th>\n",
              "      <td>-0.655297</td>\n",
              "      <td>0.050457</td>\n",
              "      <td>0.842924</td>\n",
              "    </tr>\n",
              "    <tr>\n",
              "      <th>79</th>\n",
              "      <td>-0.631054</td>\n",
              "      <td>0.936222</td>\n",
              "      <td>0.523676</td>\n",
              "    </tr>\n",
              "    <tr>\n",
              "      <th>57</th>\n",
              "      <td>-0.629291</td>\n",
              "      <td>0.872425</td>\n",
              "      <td>1.142377</td>\n",
              "    </tr>\n",
              "    <tr>\n",
              "      <th>...</th>\n",
              "      <td>...</td>\n",
              "      <td>...</td>\n",
              "      <td>...</td>\n",
              "    </tr>\n",
              "    <tr>\n",
              "      <th>2</th>\n",
              "      <td>0.651573</td>\n",
              "      <td>-0.221656</td>\n",
              "      <td>-1.396755</td>\n",
              "    </tr>\n",
              "    <tr>\n",
              "      <th>24</th>\n",
              "      <td>0.684697</td>\n",
              "      <td>-0.469834</td>\n",
              "      <td>-1.055235</td>\n",
              "    </tr>\n",
              "    <tr>\n",
              "      <th>90</th>\n",
              "      <td>0.701518</td>\n",
              "      <td>0.871349</td>\n",
              "      <td>1.309766</td>\n",
              "    </tr>\n",
              "    <tr>\n",
              "      <th>66</th>\n",
              "      <td>0.712471</td>\n",
              "      <td>-1.323101</td>\n",
              "      <td>-0.719519</td>\n",
              "    </tr>\n",
              "    <tr>\n",
              "      <th>4</th>\n",
              "      <td>0.745422</td>\n",
              "      <td>-1.296470</td>\n",
              "      <td>0.752359</td>\n",
              "    </tr>\n",
              "    <tr>\n",
              "      <th>26</th>\n",
              "      <td>0.766701</td>\n",
              "      <td>-0.997251</td>\n",
              "      <td>0.310131</td>\n",
              "    </tr>\n",
              "    <tr>\n",
              "      <th>34</th>\n",
              "      <td>0.813565</td>\n",
              "      <td>-0.110211</td>\n",
              "      <td>0.305231</td>\n",
              "    </tr>\n",
              "    <tr>\n",
              "      <th>19</th>\n",
              "      <td>0.878318</td>\n",
              "      <td>0.505328</td>\n",
              "      <td>1.205696</td>\n",
              "    </tr>\n",
              "    <tr>\n",
              "      <th>64</th>\n",
              "      <td>0.878949</td>\n",
              "      <td>-0.533732</td>\n",
              "      <td>-0.671754</td>\n",
              "    </tr>\n",
              "    <tr>\n",
              "      <th>29</th>\n",
              "      <td>0.886485</td>\n",
              "      <td>1.685864</td>\n",
              "      <td>-0.703312</td>\n",
              "    </tr>\n",
              "    <tr>\n",
              "      <th>9</th>\n",
              "      <td>0.915882</td>\n",
              "      <td>-0.931523</td>\n",
              "      <td>-1.096249</td>\n",
              "    </tr>\n",
              "    <tr>\n",
              "      <th>54</th>\n",
              "      <td>0.940493</td>\n",
              "      <td>1.595040</td>\n",
              "      <td>0.121120</td>\n",
              "    </tr>\n",
              "    <tr>\n",
              "      <th>56</th>\n",
              "      <td>0.950962</td>\n",
              "      <td>0.435919</td>\n",
              "      <td>-0.687967</td>\n",
              "    </tr>\n",
              "    <tr>\n",
              "      <th>76</th>\n",
              "      <td>1.022134</td>\n",
              "      <td>-0.331206</td>\n",
              "      <td>0.315905</td>\n",
              "    </tr>\n",
              "    <tr>\n",
              "      <th>86</th>\n",
              "      <td>1.051156</td>\n",
              "      <td>-0.304207</td>\n",
              "      <td>-0.283757</td>\n",
              "    </tr>\n",
              "    <tr>\n",
              "      <th>6</th>\n",
              "      <td>1.064211</td>\n",
              "      <td>0.224760</td>\n",
              "      <td>-1.017922</td>\n",
              "    </tr>\n",
              "    <tr>\n",
              "      <th>41</th>\n",
              "      <td>1.087217</td>\n",
              "      <td>1.446344</td>\n",
              "      <td>0.155127</td>\n",
              "    </tr>\n",
              "    <tr>\n",
              "      <th>46</th>\n",
              "      <td>1.104473</td>\n",
              "      <td>1.483516</td>\n",
              "      <td>0.222925</td>\n",
              "    </tr>\n",
              "    <tr>\n",
              "      <th>10</th>\n",
              "      <td>1.128220</td>\n",
              "      <td>1.176469</td>\n",
              "      <td>-0.182456</td>\n",
              "    </tr>\n",
              "    <tr>\n",
              "      <th>28</th>\n",
              "      <td>1.129427</td>\n",
              "      <td>-1.066361</td>\n",
              "      <td>-1.730470</td>\n",
              "    </tr>\n",
              "    <tr>\n",
              "      <th>15</th>\n",
              "      <td>1.144520</td>\n",
              "      <td>1.610451</td>\n",
              "      <td>0.963700</td>\n",
              "    </tr>\n",
              "    <tr>\n",
              "      <th>74</th>\n",
              "      <td>1.179138</td>\n",
              "      <td>0.444020</td>\n",
              "      <td>0.641559</td>\n",
              "    </tr>\n",
              "    <tr>\n",
              "      <th>59</th>\n",
              "      <td>1.384312</td>\n",
              "      <td>-0.423372</td>\n",
              "      <td>-0.853989</td>\n",
              "    </tr>\n",
              "    <tr>\n",
              "      <th>99</th>\n",
              "      <td>1.456734</td>\n",
              "      <td>1.345555</td>\n",
              "      <td>0.800017</td>\n",
              "    </tr>\n",
              "    <tr>\n",
              "      <th>97</th>\n",
              "      <td>1.518513</td>\n",
              "      <td>-0.236113</td>\n",
              "      <td>1.678095</td>\n",
              "    </tr>\n",
              "    <tr>\n",
              "      <th>45</th>\n",
              "      <td>1.520634</td>\n",
              "      <td>-1.263686</td>\n",
              "      <td>0.761155</td>\n",
              "    </tr>\n",
              "    <tr>\n",
              "      <th>38</th>\n",
              "      <td>1.592373</td>\n",
              "      <td>-1.157783</td>\n",
              "      <td>-0.578329</td>\n",
              "    </tr>\n",
              "    <tr>\n",
              "      <th>50</th>\n",
              "      <td>1.657409</td>\n",
              "      <td>-1.065516</td>\n",
              "      <td>0.007514</td>\n",
              "    </tr>\n",
              "    <tr>\n",
              "      <th>51</th>\n",
              "      <td>2.075467</td>\n",
              "      <td>0.194988</td>\n",
              "      <td>-0.474311</td>\n",
              "    </tr>\n",
              "    <tr>\n",
              "      <th>33</th>\n",
              "      <td>2.301687</td>\n",
              "      <td>0.583367</td>\n",
              "      <td>-1.070727</td>\n",
              "    </tr>\n",
              "  </tbody>\n",
              "</table>\n",
              "<p>100 rows × 3 columns</p>\n",
              "</div>"
            ],
            "text/plain": [
              "           x         y         z\n",
              "11 -2.453554  0.070865  1.270085\n",
              "0  -1.645365  0.680996  0.755448\n",
              "17 -1.620365  1.704682 -0.238129\n",
              "60 -1.523821 -0.625632 -0.641644\n",
              "32 -1.517200 -0.756461  0.003390\n",
              "..       ...       ...       ...\n",
              "45  1.520634 -1.263686  0.761155\n",
              "38  1.592373 -1.157783 -0.578329\n",
              "50  1.657409 -1.065516  0.007514\n",
              "51  2.075467  0.194988 -0.474311\n",
              "33  2.301687  0.583367 -1.070727\n",
              "\n",
              "[100 rows x 3 columns]"
            ]
          },
          "execution_count": 42,
          "metadata": {},
          "output_type": "execute_result"
        }
      ],
      "source": [
        "# ВАШ КОД\n",
        "pd.DataFrame(\n",
        "    sps.norm.rvs(size=(100, 3)),\n",
        "    columns=['x', 'y', 'z']\n",
        ").sort_values(by=['x', 'y', 'z'])"
      ]
    },
    {
      "cell_type": "markdown",
      "metadata": {
        "id": "B35gsyLY2VRs"
      },
      "source": [
        "#### 2.2 Индексация\n",
        "\n",
        "В отличии от обычной системы индексации в Python и Numpy, в Pandas принята иная система индексации, которая является несколько нелогичной, однако, на практике часто оказывается удобной при обработке сильно неоднородных данных.\n",
        "Для написания продуктивного кода при обработке большого объема данных стоит использовать атрибуты `.at`, `.iat`, `.loc`, `.iloc`, `.ix`."
      ]
    },
    {
      "cell_type": "markdown",
      "metadata": {
        "id": "b--wO7g72VRs"
      },
      "source": [
        "Если в качестве индекса указать имя столбца, получится одномерный набор данных типа `Series`."
      ]
    },
    {
      "cell_type": "code",
      "execution_count": null,
      "metadata": {
        "ExecuteTime": {
          "end_time": "2020-04-12T07:12:11.275636Z",
          "start_time": "2020-04-12T07:12:11.270774Z"
        },
        "id": "J96cKWFQ2VRs",
        "outputId": "c5edb837-aae8-4728-c129-68c23c2204d7"
      },
      "outputs": [
        {
          "data": {
            "text/plain": [
              "a    0.0\n",
              "b    1.0\n",
              "c    2.0\n",
              "d    3.0\n",
              "e    4.0\n",
              "f    5.0\n",
              "g    NaN\n",
              "Name: one, dtype: float64"
            ]
          },
          "execution_count": 43,
          "metadata": {},
          "output_type": "execute_result"
        }
      ],
      "source": [
        "df['one']"
      ]
    },
    {
      "cell_type": "markdown",
      "metadata": {
        "id": "V1mDxsYL2VRt"
      },
      "source": [
        "К столбцу можно обращаться как к полю объекта, если имя столбца позволяет это сделать."
      ]
    },
    {
      "cell_type": "code",
      "execution_count": null,
      "metadata": {
        "ExecuteTime": {
          "end_time": "2020-04-12T07:12:11.280831Z",
          "start_time": "2020-04-12T07:12:11.277309Z"
        },
        "id": "yd1ooAvb2VRt",
        "outputId": "ca3644ad-9f34-47fe-e42b-ac32982b71c5"
      },
      "outputs": [
        {
          "data": {
            "text/plain": [
              "a    0.0\n",
              "b    1.0\n",
              "c    2.0\n",
              "d    3.0\n",
              "e    4.0\n",
              "f    5.0\n",
              "g    NaN\n",
              "Name: one, dtype: float64"
            ]
          },
          "execution_count": 44,
          "metadata": {},
          "output_type": "execute_result"
        }
      ],
      "source": [
        "df.one"
      ]
    },
    {
      "cell_type": "markdown",
      "metadata": {
        "id": "pZaaCUVU2VRt"
      },
      "source": [
        "Индексы полученного одномерного набора данных."
      ]
    },
    {
      "cell_type": "code",
      "execution_count": null,
      "metadata": {
        "ExecuteTime": {
          "end_time": "2020-04-12T07:12:11.285167Z",
          "start_time": "2020-04-12T07:12:11.282230Z"
        },
        "id": "-hZmRAzV2VRt",
        "outputId": "a2966e9c-cf44-48cf-f0c1-7d30522e8c8b"
      },
      "outputs": [
        {
          "data": {
            "text/plain": [
              "Index(['a', 'b', 'c', 'd', 'e', 'f', 'g'], dtype='object')"
            ]
          },
          "execution_count": 45,
          "metadata": {},
          "output_type": "execute_result"
        }
      ],
      "source": [
        "df['one'].index"
      ]
    },
    {
      "cell_type": "markdown",
      "metadata": {
        "id": "Lur3W4O02VRt"
      },
      "source": [
        "У данного столбца есть имя, его можно получить следующим образом."
      ]
    },
    {
      "cell_type": "code",
      "execution_count": null,
      "metadata": {
        "ExecuteTime": {
          "end_time": "2020-04-12T07:12:11.289917Z",
          "start_time": "2020-04-12T07:12:11.286481Z"
        },
        "id": "BixWc7U82VRt",
        "outputId": "01966993-e1b3-47f9-8144-c7984f7f56d5"
      },
      "outputs": [
        {
          "data": {
            "text/plain": [
              "'one'"
            ]
          },
          "execution_count": 46,
          "metadata": {},
          "output_type": "execute_result"
        }
      ],
      "source": [
        "df['one'].name"
      ]
    },
    {
      "cell_type": "markdown",
      "metadata": {
        "id": "Mbf8DbHJ2VRu"
      },
      "source": [
        "Получение элемента массива"
      ]
    },
    {
      "cell_type": "code",
      "execution_count": null,
      "metadata": {
        "ExecuteTime": {
          "end_time": "2020-04-12T07:12:11.299798Z",
          "start_time": "2020-04-12T07:12:11.294359Z"
        },
        "id": "olguF6B12VRu",
        "outputId": "f6312105-b738-42e1-9553-02cb9bbcc0b9"
      },
      "outputs": [
        {
          "data": {
            "text/plain": [
              "2.0"
            ]
          },
          "execution_count": 47,
          "metadata": {},
          "output_type": "execute_result"
        }
      ],
      "source": [
        "df['one']['c']"
      ]
    },
    {
      "cell_type": "markdown",
      "metadata": {
        "id": "1vCuznm12VRu"
      },
      "source": [
        "Правила индексации в pandas несколько отличаются от общепринятых. Если указать диапазон индексов, то это означает диапазон строк. Причём последняя строка включается в таблицу."
      ]
    },
    {
      "cell_type": "code",
      "execution_count": null,
      "metadata": {
        "ExecuteTime": {
          "end_time": "2020-04-12T07:12:11.308600Z",
          "start_time": "2020-04-12T07:12:11.301701Z"
        },
        "id": "ji5vXZaD2VRu",
        "outputId": "7542527f-6ea6-45ed-eb75-0888a16a56bb"
      },
      "outputs": [
        {
          "data": {
            "text/html": [
              "<div>\n",
              "<style scoped>\n",
              "    .dataframe tbody tr th:only-of-type {\n",
              "        vertical-align: middle;\n",
              "    }\n",
              "\n",
              "    .dataframe tbody tr th {\n",
              "        vertical-align: top;\n",
              "    }\n",
              "\n",
              "    .dataframe thead th {\n",
              "        text-align: right;\n",
              "    }\n",
              "</style>\n",
              "<table border=\"1\" class=\"dataframe\">\n",
              "  <thead>\n",
              "    <tr style=\"text-align: right;\">\n",
              "      <th></th>\n",
              "      <th>one</th>\n",
              "      <th>two</th>\n",
              "      <th>three</th>\n",
              "    </tr>\n",
              "  </thead>\n",
              "  <tbody>\n",
              "    <tr>\n",
              "      <th>b</th>\n",
              "      <td>1.0</td>\n",
              "      <td>1</td>\n",
              "      <td>0.562452</td>\n",
              "    </tr>\n",
              "    <tr>\n",
              "      <th>c</th>\n",
              "      <td>2.0</td>\n",
              "      <td>2</td>\n",
              "      <td>0.520759</td>\n",
              "    </tr>\n",
              "    <tr>\n",
              "      <th>d</th>\n",
              "      <td>3.0</td>\n",
              "      <td>3</td>\n",
              "      <td>-0.461771</td>\n",
              "    </tr>\n",
              "  </tbody>\n",
              "</table>\n",
              "</div>"
            ],
            "text/plain": [
              "   one  two     three\n",
              "b  1.0    1  0.562452\n",
              "c  2.0    2  0.520759\n",
              "d  3.0    3 -0.461771"
            ]
          },
          "execution_count": 48,
          "metadata": {},
          "output_type": "execute_result"
        }
      ],
      "source": [
        "df['b':'d']"
      ]
    },
    {
      "cell_type": "markdown",
      "metadata": {
        "id": "U7h7v9YB2VRu"
      },
      "source": [
        "Диапазон целых чисел даёт диапазон строк с такими номерами, не включая последнюю строку (как обычно при индексировании списков). Всё это кажется довольно нелогичным, хотя и удобно на практике."
      ]
    },
    {
      "cell_type": "code",
      "execution_count": null,
      "metadata": {
        "ExecuteTime": {
          "end_time": "2020-04-12T07:12:11.329195Z",
          "start_time": "2020-04-12T07:12:11.310035Z"
        },
        "id": "iR01Qu9T2VRu",
        "outputId": "be9eb487-4f77-4d10-8085-803a25a4f829"
      },
      "outputs": [
        {
          "data": {
            "text/html": [
              "<div>\n",
              "<style scoped>\n",
              "    .dataframe tbody tr th:only-of-type {\n",
              "        vertical-align: middle;\n",
              "    }\n",
              "\n",
              "    .dataframe tbody tr th {\n",
              "        vertical-align: top;\n",
              "    }\n",
              "\n",
              "    .dataframe thead th {\n",
              "        text-align: right;\n",
              "    }\n",
              "</style>\n",
              "<table border=\"1\" class=\"dataframe\">\n",
              "  <thead>\n",
              "    <tr style=\"text-align: right;\">\n",
              "      <th></th>\n",
              "      <th>one</th>\n",
              "      <th>two</th>\n",
              "      <th>three</th>\n",
              "    </tr>\n",
              "  </thead>\n",
              "  <tbody>\n",
              "    <tr>\n",
              "      <th>b</th>\n",
              "      <td>1.0</td>\n",
              "      <td>1</td>\n",
              "      <td>0.562452</td>\n",
              "    </tr>\n",
              "    <tr>\n",
              "      <th>c</th>\n",
              "      <td>2.0</td>\n",
              "      <td>2</td>\n",
              "      <td>0.520759</td>\n",
              "    </tr>\n",
              "  </tbody>\n",
              "</table>\n",
              "</div>"
            ],
            "text/plain": [
              "   one  two     three\n",
              "b  1.0    1  0.562452\n",
              "c  2.0    2  0.520759"
            ]
          },
          "execution_count": 49,
          "metadata": {},
          "output_type": "execute_result"
        }
      ],
      "source": [
        "df[1:3]"
      ]
    },
    {
      "cell_type": "markdown",
      "metadata": {
        "id": "1zTdh5-l2VRv"
      },
      "source": [
        "Логичнее работает атрибут `loc`: первая позиция &mdash; всегда индекс строки, а вторая &mdash; столбца."
      ]
    },
    {
      "cell_type": "code",
      "execution_count": null,
      "metadata": {
        "ExecuteTime": {
          "end_time": "2020-04-12T07:12:11.342189Z",
          "start_time": "2020-04-12T07:12:11.333955Z"
        },
        "id": "bCy-o8Ld2VRv",
        "outputId": "a3062245-6f7c-46a4-c264-8a547ef787a2"
      },
      "outputs": [
        {
          "data": {
            "text/plain": [
              "one      1.000000\n",
              "two      1.000000\n",
              "three    0.562452\n",
              "Name: b, dtype: float64"
            ]
          },
          "execution_count": 50,
          "metadata": {},
          "output_type": "execute_result"
        }
      ],
      "source": [
        "df.loc['b']"
      ]
    },
    {
      "cell_type": "code",
      "execution_count": null,
      "metadata": {
        "ExecuteTime": {
          "end_time": "2020-04-12T07:12:11.348626Z",
          "start_time": "2020-04-12T07:12:11.344475Z"
        },
        "id": "k6l75g7-2VRv",
        "outputId": "5f72bcdc-def7-4676-ad40-4e8751bc0fa6"
      },
      "outputs": [
        {
          "data": {
            "text/plain": [
              "1.0"
            ]
          },
          "execution_count": 51,
          "metadata": {},
          "output_type": "execute_result"
        }
      ],
      "source": [
        "df.loc['b', 'one']"
      ]
    },
    {
      "cell_type": "code",
      "execution_count": null,
      "metadata": {
        "ExecuteTime": {
          "end_time": "2020-04-12T07:12:11.357880Z",
          "start_time": "2020-04-12T07:12:11.350997Z"
        },
        "id": "Ys6szpDx2VRv",
        "outputId": "b4b8532d-d55c-4367-c494-e5a6f6d654b4"
      },
      "outputs": [
        {
          "data": {
            "text/plain": [
              "a    0.0\n",
              "b    1.0\n",
              "Name: one, dtype: float64"
            ]
          },
          "execution_count": 52,
          "metadata": {},
          "output_type": "execute_result"
        }
      ],
      "source": [
        "df.loc['a':'b', 'one']"
      ]
    },
    {
      "cell_type": "code",
      "execution_count": null,
      "metadata": {
        "ExecuteTime": {
          "end_time": "2020-04-12T07:12:11.367860Z",
          "start_time": "2020-04-12T07:12:11.359862Z"
        },
        "id": "tzpAIOWc2VRw",
        "outputId": "2633f105-9264-43a4-a418-dac158dabeaa"
      },
      "outputs": [
        {
          "data": {
            "text/html": [
              "<div>\n",
              "<style scoped>\n",
              "    .dataframe tbody tr th:only-of-type {\n",
              "        vertical-align: middle;\n",
              "    }\n",
              "\n",
              "    .dataframe tbody tr th {\n",
              "        vertical-align: top;\n",
              "    }\n",
              "\n",
              "    .dataframe thead th {\n",
              "        text-align: right;\n",
              "    }\n",
              "</style>\n",
              "<table border=\"1\" class=\"dataframe\">\n",
              "  <thead>\n",
              "    <tr style=\"text-align: right;\">\n",
              "      <th></th>\n",
              "      <th>one</th>\n",
              "      <th>two</th>\n",
              "      <th>three</th>\n",
              "    </tr>\n",
              "  </thead>\n",
              "  <tbody>\n",
              "    <tr>\n",
              "      <th>a</th>\n",
              "      <td>0.0</td>\n",
              "      <td>0</td>\n",
              "      <td>-1.496178</td>\n",
              "    </tr>\n",
              "    <tr>\n",
              "      <th>b</th>\n",
              "      <td>1.0</td>\n",
              "      <td>1</td>\n",
              "      <td>0.562452</td>\n",
              "    </tr>\n",
              "  </tbody>\n",
              "</table>\n",
              "</div>"
            ],
            "text/plain": [
              "   one  two     three\n",
              "a  0.0    0 -1.496178\n",
              "b  1.0    1  0.562452"
            ]
          },
          "execution_count": 53,
          "metadata": {},
          "output_type": "execute_result"
        }
      ],
      "source": [
        "df.loc['a':'b', :]"
      ]
    },
    {
      "cell_type": "code",
      "execution_count": null,
      "metadata": {
        "ExecuteTime": {
          "end_time": "2020-04-12T07:12:11.373226Z",
          "start_time": "2020-04-12T07:12:11.369563Z"
        },
        "id": "ttUgRJ1z2VRw",
        "outputId": "6f5065e8-42e7-4735-d2e8-2cdb713951da"
      },
      "outputs": [
        {
          "data": {
            "text/plain": [
              "a    0.0\n",
              "b    1.0\n",
              "c    2.0\n",
              "d    3.0\n",
              "e    4.0\n",
              "f    5.0\n",
              "g    NaN\n",
              "Name: one, dtype: float64"
            ]
          },
          "execution_count": 54,
          "metadata": {},
          "output_type": "execute_result"
        }
      ],
      "source": [
        "df.loc[:, 'one']"
      ]
    },
    {
      "cell_type": "markdown",
      "metadata": {
        "id": "zS3h-Z_m2VRw"
      },
      "source": [
        "Атрибут `iloc` подобен `loc`: первый индекс &mdash; номер строки, второй &mdash; номер столбца. Это целые числа, конец диапазона не включается как обычно в питоне."
      ]
    },
    {
      "cell_type": "code",
      "execution_count": null,
      "metadata": {
        "ExecuteTime": {
          "end_time": "2020-04-12T07:12:11.378247Z",
          "start_time": "2020-04-12T07:12:11.374651Z"
        },
        "id": "KgOhmafe2VRw",
        "outputId": "0a54feba-b72f-4623-cb70-eec24d701f4a"
      },
      "outputs": [
        {
          "data": {
            "text/plain": [
              "one      2.000000\n",
              "two      2.000000\n",
              "three    0.520759\n",
              "Name: c, dtype: float64"
            ]
          },
          "execution_count": 55,
          "metadata": {},
          "output_type": "execute_result"
        }
      ],
      "source": [
        "df.iloc[2]"
      ]
    },
    {
      "cell_type": "code",
      "execution_count": null,
      "metadata": {
        "ExecuteTime": {
          "end_time": "2020-04-12T07:12:11.385340Z",
          "start_time": "2020-04-12T07:12:11.379714Z"
        },
        "id": "SCO8RWIc2VRw",
        "outputId": "5071e732-71ee-49ac-eba1-1190712b013d"
      },
      "outputs": [
        {
          "data": {
            "text/html": [
              "<div>\n",
              "<style scoped>\n",
              "    .dataframe tbody tr th:only-of-type {\n",
              "        vertical-align: middle;\n",
              "    }\n",
              "\n",
              "    .dataframe tbody tr th {\n",
              "        vertical-align: top;\n",
              "    }\n",
              "\n",
              "    .dataframe thead th {\n",
              "        text-align: right;\n",
              "    }\n",
              "</style>\n",
              "<table border=\"1\" class=\"dataframe\">\n",
              "  <thead>\n",
              "    <tr style=\"text-align: right;\">\n",
              "      <th></th>\n",
              "      <th>one</th>\n",
              "      <th>two</th>\n",
              "      <th>three</th>\n",
              "    </tr>\n",
              "  </thead>\n",
              "  <tbody>\n",
              "    <tr>\n",
              "      <th>b</th>\n",
              "      <td>1.0</td>\n",
              "      <td>1</td>\n",
              "      <td>0.562452</td>\n",
              "    </tr>\n",
              "    <tr>\n",
              "      <th>c</th>\n",
              "      <td>2.0</td>\n",
              "      <td>2</td>\n",
              "      <td>0.520759</td>\n",
              "    </tr>\n",
              "  </tbody>\n",
              "</table>\n",
              "</div>"
            ],
            "text/plain": [
              "   one  two     three\n",
              "b  1.0    1  0.562452\n",
              "c  2.0    2  0.520759"
            ]
          },
          "execution_count": 56,
          "metadata": {},
          "output_type": "execute_result"
        }
      ],
      "source": [
        "df.iloc[1:3]"
      ]
    },
    {
      "cell_type": "code",
      "execution_count": null,
      "metadata": {
        "ExecuteTime": {
          "end_time": "2020-04-12T07:12:11.397655Z",
          "start_time": "2020-04-12T07:12:11.386813Z"
        },
        "id": "uRp4fSMD2VRw",
        "outputId": "437c6e63-f919-465b-a0bc-0b05c739c6e2"
      },
      "outputs": [
        {
          "data": {
            "text/html": [
              "<div>\n",
              "<style scoped>\n",
              "    .dataframe tbody tr th:only-of-type {\n",
              "        vertical-align: middle;\n",
              "    }\n",
              "\n",
              "    .dataframe tbody tr th {\n",
              "        vertical-align: top;\n",
              "    }\n",
              "\n",
              "    .dataframe thead th {\n",
              "        text-align: right;\n",
              "    }\n",
              "</style>\n",
              "<table border=\"1\" class=\"dataframe\">\n",
              "  <thead>\n",
              "    <tr style=\"text-align: right;\">\n",
              "      <th></th>\n",
              "      <th>one</th>\n",
              "      <th>two</th>\n",
              "    </tr>\n",
              "  </thead>\n",
              "  <tbody>\n",
              "    <tr>\n",
              "      <th>b</th>\n",
              "      <td>1.0</td>\n",
              "      <td>1</td>\n",
              "    </tr>\n",
              "    <tr>\n",
              "      <th>c</th>\n",
              "      <td>2.0</td>\n",
              "      <td>2</td>\n",
              "    </tr>\n",
              "  </tbody>\n",
              "</table>\n",
              "</div>"
            ],
            "text/plain": [
              "   one  two\n",
              "b  1.0    1\n",
              "c  2.0    2"
            ]
          },
          "execution_count": 57,
          "metadata": {},
          "output_type": "execute_result"
        }
      ],
      "source": [
        "df.iloc[1:3, 0:2]"
      ]
    },
    {
      "cell_type": "markdown",
      "metadata": {
        "id": "OSzldEJu2VRx"
      },
      "source": [
        "Булевская индексация &mdash; выбор строк с заданным условием"
      ]
    },
    {
      "cell_type": "code",
      "execution_count": null,
      "metadata": {
        "ExecuteTime": {
          "end_time": "2020-04-12T07:12:11.406464Z",
          "start_time": "2020-04-12T07:12:11.399800Z"
        },
        "id": "f57DFFX72VRx",
        "outputId": "7d5df7c0-e4b7-4ab3-f9d8-6d742d53d799"
      },
      "outputs": [
        {
          "data": {
            "text/html": [
              "<div>\n",
              "<style scoped>\n",
              "    .dataframe tbody tr th:only-of-type {\n",
              "        vertical-align: middle;\n",
              "    }\n",
              "\n",
              "    .dataframe tbody tr th {\n",
              "        vertical-align: top;\n",
              "    }\n",
              "\n",
              "    .dataframe thead th {\n",
              "        text-align: right;\n",
              "    }\n",
              "</style>\n",
              "<table border=\"1\" class=\"dataframe\">\n",
              "  <thead>\n",
              "    <tr style=\"text-align: right;\">\n",
              "      <th></th>\n",
              "      <th>one</th>\n",
              "      <th>two</th>\n",
              "      <th>three</th>\n",
              "    </tr>\n",
              "  </thead>\n",
              "  <tbody>\n",
              "    <tr>\n",
              "      <th>b</th>\n",
              "      <td>1.0</td>\n",
              "      <td>1</td>\n",
              "      <td>0.562452</td>\n",
              "    </tr>\n",
              "    <tr>\n",
              "      <th>c</th>\n",
              "      <td>2.0</td>\n",
              "      <td>2</td>\n",
              "      <td>0.520759</td>\n",
              "    </tr>\n",
              "    <tr>\n",
              "      <th>e</th>\n",
              "      <td>4.0</td>\n",
              "      <td>4</td>\n",
              "      <td>0.426069</td>\n",
              "    </tr>\n",
              "  </tbody>\n",
              "</table>\n",
              "</div>"
            ],
            "text/plain": [
              "   one  two     three\n",
              "b  1.0    1  0.562452\n",
              "c  2.0    2  0.520759\n",
              "e  4.0    4  0.426069"
            ]
          },
          "execution_count": 58,
          "metadata": {},
          "output_type": "execute_result"
        }
      ],
      "source": [
        "df[df.three > 0]"
      ]
    },
    {
      "cell_type": "markdown",
      "metadata": {
        "id": "HY4H4ki02VRx"
      },
      "source": [
        "**Упражнение**  \n",
        "Сгенерируйте случайную целочисленную матрицу $n \\times m$, где $n=20, m=10$. Создайте из неё датафрейм, пронумеровав столбцы случайной перестановкой чисел из $\\{1, \\ldots, m\\}$. Выберите столбцы с чётными номерами и строки, в которых чётных элементов больше, чем нечётных.  "
      ]
    },
    {
      "cell_type": "code",
      "execution_count": null,
      "metadata": {
        "ExecuteTime": {
          "end_time": "2020-04-12T07:12:11.421654Z",
          "start_time": "2020-04-12T07:12:11.408110Z"
        },
        "id": "Cdl_twIb2VRx",
        "outputId": "f2074ee5-e135-4ddb-d472-88dac5ac4d7e"
      },
      "outputs": [
        {
          "data": {
            "text/html": [
              "<div>\n",
              "<style scoped>\n",
              "    .dataframe tbody tr th:only-of-type {\n",
              "        vertical-align: middle;\n",
              "    }\n",
              "\n",
              "    .dataframe tbody tr th {\n",
              "        vertical-align: top;\n",
              "    }\n",
              "\n",
              "    .dataframe thead th {\n",
              "        text-align: right;\n",
              "    }\n",
              "</style>\n",
              "<table border=\"1\" class=\"dataframe\">\n",
              "  <thead>\n",
              "    <tr style=\"text-align: right;\">\n",
              "      <th></th>\n",
              "      <th>2</th>\n",
              "      <th>6</th>\n",
              "      <th>8</th>\n",
              "      <th>4</th>\n",
              "      <th>10</th>\n",
              "    </tr>\n",
              "  </thead>\n",
              "  <tbody>\n",
              "    <tr>\n",
              "      <th>1</th>\n",
              "      <td>64</td>\n",
              "      <td>18</td>\n",
              "      <td>-30</td>\n",
              "      <td>94</td>\n",
              "      <td>94</td>\n",
              "    </tr>\n",
              "    <tr>\n",
              "      <th>4</th>\n",
              "      <td>34</td>\n",
              "      <td>73</td>\n",
              "      <td>-74</td>\n",
              "      <td>-20</td>\n",
              "      <td>-48</td>\n",
              "    </tr>\n",
              "    <tr>\n",
              "      <th>5</th>\n",
              "      <td>-67</td>\n",
              "      <td>39</td>\n",
              "      <td>-35</td>\n",
              "      <td>19</td>\n",
              "      <td>6</td>\n",
              "    </tr>\n",
              "    <tr>\n",
              "      <th>6</th>\n",
              "      <td>-34</td>\n",
              "      <td>17</td>\n",
              "      <td>-87</td>\n",
              "      <td>-80</td>\n",
              "      <td>96</td>\n",
              "    </tr>\n",
              "    <tr>\n",
              "      <th>8</th>\n",
              "      <td>-81</td>\n",
              "      <td>68</td>\n",
              "      <td>60</td>\n",
              "      <td>-17</td>\n",
              "      <td>74</td>\n",
              "    </tr>\n",
              "    <tr>\n",
              "      <th>10</th>\n",
              "      <td>-87</td>\n",
              "      <td>-97</td>\n",
              "      <td>-29</td>\n",
              "      <td>46</td>\n",
              "      <td>12</td>\n",
              "    </tr>\n",
              "    <tr>\n",
              "      <th>11</th>\n",
              "      <td>-74</td>\n",
              "      <td>-14</td>\n",
              "      <td>36</td>\n",
              "      <td>18</td>\n",
              "      <td>54</td>\n",
              "    </tr>\n",
              "    <tr>\n",
              "      <th>14</th>\n",
              "      <td>-40</td>\n",
              "      <td>94</td>\n",
              "      <td>-34</td>\n",
              "      <td>56</td>\n",
              "      <td>2</td>\n",
              "    </tr>\n",
              "    <tr>\n",
              "      <th>17</th>\n",
              "      <td>-90</td>\n",
              "      <td>96</td>\n",
              "      <td>56</td>\n",
              "      <td>-68</td>\n",
              "      <td>-83</td>\n",
              "    </tr>\n",
              "    <tr>\n",
              "      <th>19</th>\n",
              "      <td>64</td>\n",
              "      <td>14</td>\n",
              "      <td>94</td>\n",
              "      <td>16</td>\n",
              "      <td>-81</td>\n",
              "    </tr>\n",
              "  </tbody>\n",
              "</table>\n",
              "</div>"
            ],
            "text/plain": [
              "    2   6   8   4   10\n",
              "1   64  18 -30  94  94\n",
              "4   34  73 -74 -20 -48\n",
              "5  -67  39 -35  19   6\n",
              "6  -34  17 -87 -80  96\n",
              "8  -81  68  60 -17  74\n",
              "10 -87 -97 -29  46  12\n",
              "11 -74 -14  36  18  54\n",
              "14 -40  94 -34  56   2\n",
              "17 -90  96  56 -68 -83\n",
              "19  64  14  94  16 -81"
            ]
          },
          "execution_count": 59,
          "metadata": {},
          "output_type": "execute_result"
        }
      ],
      "source": [
        "# ВАШ КОД\n",
        "\n",
        "# создаем матрицу\n",
        "n, m = 20, 10\n",
        "data = sps.randint(low=-100, high=100).rvs(size=(n, m))\n",
        "cols = np.arange(1, m + 1)\n",
        "np.random.shuffle(cols)\n",
        "\n",
        "# создаем таблицу\n",
        "task_df = pd.DataFrame(data, columns=cols)\n",
        "\n",
        "# задаем условия для строк и столбцов\n",
        "col_mask = (cols % 2) == 0\n",
        "row_mask = np.sum(data % 2, axis=1) < (m / 2)\n",
        "\n",
        "# извлекаем данные по условию\n",
        "task_df.loc[row_mask, col_mask]"
      ]
    },
    {
      "cell_type": "markdown",
      "metadata": {
        "id": "fgesCtEo2VRx"
      },
      "source": [
        "#### 2.3 Изменение таблиц"
      ]
    },
    {
      "cell_type": "markdown",
      "metadata": {
        "id": "MFGArIoh2VRx"
      },
      "source": [
        "К таблице можно добавлять новые столбцы."
      ]
    },
    {
      "cell_type": "code",
      "execution_count": null,
      "metadata": {
        "ExecuteTime": {
          "end_time": "2020-04-12T07:12:11.432794Z",
          "start_time": "2020-04-12T07:12:11.423277Z"
        },
        "id": "mNPIww7n2VRy",
        "outputId": "918f1563-e5ff-4609-a326-b61f7a6df600"
      },
      "outputs": [
        {
          "data": {
            "text/html": [
              "<div>\n",
              "<style scoped>\n",
              "    .dataframe tbody tr th:only-of-type {\n",
              "        vertical-align: middle;\n",
              "    }\n",
              "\n",
              "    .dataframe tbody tr th {\n",
              "        vertical-align: top;\n",
              "    }\n",
              "\n",
              "    .dataframe thead th {\n",
              "        text-align: right;\n",
              "    }\n",
              "</style>\n",
              "<table border=\"1\" class=\"dataframe\">\n",
              "  <thead>\n",
              "    <tr style=\"text-align: right;\">\n",
              "      <th></th>\n",
              "      <th>one</th>\n",
              "      <th>two</th>\n",
              "      <th>three</th>\n",
              "      <th>4th</th>\n",
              "      <th>flag</th>\n",
              "    </tr>\n",
              "  </thead>\n",
              "  <tbody>\n",
              "    <tr>\n",
              "      <th>a</th>\n",
              "      <td>0.0</td>\n",
              "      <td>0</td>\n",
              "      <td>-1.496178</td>\n",
              "      <td>0.0</td>\n",
              "      <td>False</td>\n",
              "    </tr>\n",
              "    <tr>\n",
              "      <th>b</th>\n",
              "      <td>1.0</td>\n",
              "      <td>1</td>\n",
              "      <td>0.562452</td>\n",
              "      <td>1.0</td>\n",
              "      <td>False</td>\n",
              "    </tr>\n",
              "    <tr>\n",
              "      <th>c</th>\n",
              "      <td>2.0</td>\n",
              "      <td>2</td>\n",
              "      <td>0.520759</td>\n",
              "      <td>4.0</td>\n",
              "      <td>False</td>\n",
              "    </tr>\n",
              "    <tr>\n",
              "      <th>d</th>\n",
              "      <td>3.0</td>\n",
              "      <td>3</td>\n",
              "      <td>-0.461771</td>\n",
              "      <td>9.0</td>\n",
              "      <td>True</td>\n",
              "    </tr>\n",
              "    <tr>\n",
              "      <th>e</th>\n",
              "      <td>4.0</td>\n",
              "      <td>4</td>\n",
              "      <td>0.426069</td>\n",
              "      <td>16.0</td>\n",
              "      <td>True</td>\n",
              "    </tr>\n",
              "    <tr>\n",
              "      <th>f</th>\n",
              "      <td>5.0</td>\n",
              "      <td>5</td>\n",
              "      <td>-0.534984</td>\n",
              "      <td>25.0</td>\n",
              "      <td>True</td>\n",
              "    </tr>\n",
              "    <tr>\n",
              "      <th>g</th>\n",
              "      <td>NaN</td>\n",
              "      <td>6</td>\n",
              "      <td>-0.364495</td>\n",
              "      <td>NaN</td>\n",
              "      <td>True</td>\n",
              "    </tr>\n",
              "  </tbody>\n",
              "</table>\n",
              "</div>"
            ],
            "text/plain": [
              "   one  two     three   4th   flag\n",
              "a  0.0    0 -1.496178   0.0  False\n",
              "b  1.0    1  0.562452   1.0  False\n",
              "c  2.0    2  0.520759   4.0  False\n",
              "d  3.0    3 -0.461771   9.0   True\n",
              "e  4.0    4  0.426069  16.0   True\n",
              "f  5.0    5 -0.534984  25.0   True\n",
              "g  NaN    6 -0.364495   NaN   True"
            ]
          },
          "execution_count": 60,
          "metadata": {},
          "output_type": "execute_result"
        }
      ],
      "source": [
        "df['4th'] = df['one'] * df['two']\n",
        "df['flag'] = df['two'] > 2\n",
        "df"
      ]
    },
    {
      "cell_type": "markdown",
      "metadata": {
        "id": "jx2wLkbm2VRy"
      },
      "source": [
        "И удалять имеющиеся."
      ]
    },
    {
      "cell_type": "code",
      "execution_count": null,
      "metadata": {
        "ExecuteTime": {
          "end_time": "2020-04-12T07:12:11.450566Z",
          "start_time": "2020-04-12T07:12:11.434846Z"
        },
        "id": "Sw7-AVbL2VRy",
        "outputId": "bbab95d3-87f8-40af-c50b-22572605dcc8"
      },
      "outputs": [
        {
          "data": {
            "text/html": [
              "<div>\n",
              "<style scoped>\n",
              "    .dataframe tbody tr th:only-of-type {\n",
              "        vertical-align: middle;\n",
              "    }\n",
              "\n",
              "    .dataframe tbody tr th {\n",
              "        vertical-align: top;\n",
              "    }\n",
              "\n",
              "    .dataframe thead th {\n",
              "        text-align: right;\n",
              "    }\n",
              "</style>\n",
              "<table border=\"1\" class=\"dataframe\">\n",
              "  <thead>\n",
              "    <tr style=\"text-align: right;\">\n",
              "      <th></th>\n",
              "      <th>one</th>\n",
              "      <th>three</th>\n",
              "      <th>4th</th>\n",
              "      <th>flag</th>\n",
              "      <th>foo</th>\n",
              "    </tr>\n",
              "  </thead>\n",
              "  <tbody>\n",
              "    <tr>\n",
              "      <th>a</th>\n",
              "      <td>0.0</td>\n",
              "      <td>-1.496178</td>\n",
              "      <td>0.0</td>\n",
              "      <td>False</td>\n",
              "      <td>0</td>\n",
              "    </tr>\n",
              "    <tr>\n",
              "      <th>b</th>\n",
              "      <td>1.0</td>\n",
              "      <td>0.562452</td>\n",
              "      <td>1.0</td>\n",
              "      <td>False</td>\n",
              "      <td>0</td>\n",
              "    </tr>\n",
              "    <tr>\n",
              "      <th>c</th>\n",
              "      <td>2.0</td>\n",
              "      <td>0.520759</td>\n",
              "      <td>4.0</td>\n",
              "      <td>False</td>\n",
              "      <td>0</td>\n",
              "    </tr>\n",
              "    <tr>\n",
              "      <th>d</th>\n",
              "      <td>3.0</td>\n",
              "      <td>-0.461771</td>\n",
              "      <td>9.0</td>\n",
              "      <td>True</td>\n",
              "      <td>0</td>\n",
              "    </tr>\n",
              "    <tr>\n",
              "      <th>e</th>\n",
              "      <td>4.0</td>\n",
              "      <td>0.426069</td>\n",
              "      <td>16.0</td>\n",
              "      <td>True</td>\n",
              "      <td>0</td>\n",
              "    </tr>\n",
              "    <tr>\n",
              "      <th>f</th>\n",
              "      <td>5.0</td>\n",
              "      <td>-0.534984</td>\n",
              "      <td>25.0</td>\n",
              "      <td>True</td>\n",
              "      <td>0</td>\n",
              "    </tr>\n",
              "    <tr>\n",
              "      <th>g</th>\n",
              "      <td>NaN</td>\n",
              "      <td>-0.364495</td>\n",
              "      <td>NaN</td>\n",
              "      <td>True</td>\n",
              "      <td>0</td>\n",
              "    </tr>\n",
              "  </tbody>\n",
              "</table>\n",
              "</div>"
            ],
            "text/plain": [
              "   one     three   4th   flag  foo\n",
              "a  0.0 -1.496178   0.0  False    0\n",
              "b  1.0  0.562452   1.0  False    0\n",
              "c  2.0  0.520759   4.0  False    0\n",
              "d  3.0 -0.461771   9.0   True    0\n",
              "e  4.0  0.426069  16.0   True    0\n",
              "f  5.0 -0.534984  25.0   True    0\n",
              "g  NaN -0.364495   NaN   True    0"
            ]
          },
          "execution_count": 61,
          "metadata": {},
          "output_type": "execute_result"
        }
      ],
      "source": [
        "del df['two']\n",
        "df['foo'] = 0\n",
        "df"
      ]
    },
    {
      "cell_type": "markdown",
      "metadata": {
        "id": "MIS2e2Q22VRy"
      },
      "source": [
        "Изменение элемента"
      ]
    },
    {
      "cell_type": "code",
      "execution_count": null,
      "metadata": {
        "ExecuteTime": {
          "end_time": "2020-04-12T07:12:11.474486Z",
          "start_time": "2020-04-12T07:12:11.456031Z"
        },
        "id": "ZhG7a0eH2VRy",
        "outputId": "2005f178-32d9-40c4-bfa0-d36cf52876b3"
      },
      "outputs": [
        {
          "data": {
            "text/html": [
              "<div>\n",
              "<style scoped>\n",
              "    .dataframe tbody tr th:only-of-type {\n",
              "        vertical-align: middle;\n",
              "    }\n",
              "\n",
              "    .dataframe tbody tr th {\n",
              "        vertical-align: top;\n",
              "    }\n",
              "\n",
              "    .dataframe thead th {\n",
              "        text-align: right;\n",
              "    }\n",
              "</style>\n",
              "<table border=\"1\" class=\"dataframe\">\n",
              "  <thead>\n",
              "    <tr style=\"text-align: right;\">\n",
              "      <th></th>\n",
              "      <th>one</th>\n",
              "      <th>three</th>\n",
              "      <th>4th</th>\n",
              "      <th>flag</th>\n",
              "      <th>foo</th>\n",
              "    </tr>\n",
              "  </thead>\n",
              "  <tbody>\n",
              "    <tr>\n",
              "      <th>a</th>\n",
              "      <td>0.0</td>\n",
              "      <td>-1.496178</td>\n",
              "      <td>0.0</td>\n",
              "      <td>False</td>\n",
              "      <td>0</td>\n",
              "    </tr>\n",
              "    <tr>\n",
              "      <th>b</th>\n",
              "      <td>-1.0</td>\n",
              "      <td>0.562452</td>\n",
              "      <td>1.0</td>\n",
              "      <td>False</td>\n",
              "      <td>0</td>\n",
              "    </tr>\n",
              "    <tr>\n",
              "      <th>c</th>\n",
              "      <td>2.0</td>\n",
              "      <td>0.520759</td>\n",
              "      <td>4.0</td>\n",
              "      <td>False</td>\n",
              "      <td>0</td>\n",
              "    </tr>\n",
              "    <tr>\n",
              "      <th>d</th>\n",
              "      <td>3.0</td>\n",
              "      <td>-0.461771</td>\n",
              "      <td>9.0</td>\n",
              "      <td>True</td>\n",
              "      <td>0</td>\n",
              "    </tr>\n",
              "    <tr>\n",
              "      <th>e</th>\n",
              "      <td>4.0</td>\n",
              "      <td>0.426069</td>\n",
              "      <td>16.0</td>\n",
              "      <td>True</td>\n",
              "      <td>0</td>\n",
              "    </tr>\n",
              "    <tr>\n",
              "      <th>f</th>\n",
              "      <td>5.0</td>\n",
              "      <td>-0.534984</td>\n",
              "      <td>25.0</td>\n",
              "      <td>True</td>\n",
              "      <td>0</td>\n",
              "    </tr>\n",
              "    <tr>\n",
              "      <th>g</th>\n",
              "      <td>NaN</td>\n",
              "      <td>-0.364495</td>\n",
              "      <td>NaN</td>\n",
              "      <td>True</td>\n",
              "      <td>0</td>\n",
              "    </tr>\n",
              "  </tbody>\n",
              "</table>\n",
              "</div>"
            ],
            "text/plain": [
              "   one     three   4th   flag  foo\n",
              "a  0.0 -1.496178   0.0  False    0\n",
              "b -1.0  0.562452   1.0  False    0\n",
              "c  2.0  0.520759   4.0  False    0\n",
              "d  3.0 -0.461771   9.0   True    0\n",
              "e  4.0  0.426069  16.0   True    0\n",
              "f  5.0 -0.534984  25.0   True    0\n",
              "g  NaN -0.364495   NaN   True    0"
            ]
          },
          "execution_count": 62,
          "metadata": {},
          "output_type": "execute_result"
        }
      ],
      "source": [
        "df.iat[1, 0] = -1\n",
        "\n",
        "# Эквивалентные формы:\n",
        "# df['one']['b'] = -1  <--  SettingWithCopyWarning\n",
        "# df.at['b', 'one'] = -1\n",
        "\n",
        "df"
      ]
    },
    {
      "cell_type": "markdown",
      "metadata": {
        "id": "PFDH2kUR2VRz"
      },
      "source": [
        "Добавим копию столбца `one`, в которую входят только строки до третьей."
      ]
    },
    {
      "cell_type": "code",
      "execution_count": null,
      "metadata": {
        "ExecuteTime": {
          "end_time": "2020-04-12T07:12:11.490524Z",
          "start_time": "2020-04-12T07:12:11.477202Z"
        },
        "id": "aI7hpCGF2VRz",
        "outputId": "942fa859-835c-48b4-a41c-c79ce2a4719e"
      },
      "outputs": [
        {
          "data": {
            "text/html": [
              "<div>\n",
              "<style scoped>\n",
              "    .dataframe tbody tr th:only-of-type {\n",
              "        vertical-align: middle;\n",
              "    }\n",
              "\n",
              "    .dataframe tbody tr th {\n",
              "        vertical-align: top;\n",
              "    }\n",
              "\n",
              "    .dataframe thead th {\n",
              "        text-align: right;\n",
              "    }\n",
              "</style>\n",
              "<table border=\"1\" class=\"dataframe\">\n",
              "  <thead>\n",
              "    <tr style=\"text-align: right;\">\n",
              "      <th></th>\n",
              "      <th>one</th>\n",
              "      <th>three</th>\n",
              "      <th>4th</th>\n",
              "      <th>flag</th>\n",
              "      <th>foo</th>\n",
              "      <th>one_tr</th>\n",
              "    </tr>\n",
              "  </thead>\n",
              "  <tbody>\n",
              "    <tr>\n",
              "      <th>a</th>\n",
              "      <td>0.0</td>\n",
              "      <td>-1.496178</td>\n",
              "      <td>0.0</td>\n",
              "      <td>False</td>\n",
              "      <td>0</td>\n",
              "      <td>0.0</td>\n",
              "    </tr>\n",
              "    <tr>\n",
              "      <th>b</th>\n",
              "      <td>-1.0</td>\n",
              "      <td>0.562452</td>\n",
              "      <td>1.0</td>\n",
              "      <td>False</td>\n",
              "      <td>0</td>\n",
              "      <td>-1.0</td>\n",
              "    </tr>\n",
              "    <tr>\n",
              "      <th>c</th>\n",
              "      <td>2.0</td>\n",
              "      <td>0.520759</td>\n",
              "      <td>4.0</td>\n",
              "      <td>False</td>\n",
              "      <td>0</td>\n",
              "      <td>2.0</td>\n",
              "    </tr>\n",
              "    <tr>\n",
              "      <th>d</th>\n",
              "      <td>3.0</td>\n",
              "      <td>-0.461771</td>\n",
              "      <td>9.0</td>\n",
              "      <td>True</td>\n",
              "      <td>0</td>\n",
              "      <td>NaN</td>\n",
              "    </tr>\n",
              "    <tr>\n",
              "      <th>e</th>\n",
              "      <td>4.0</td>\n",
              "      <td>0.426069</td>\n",
              "      <td>16.0</td>\n",
              "      <td>True</td>\n",
              "      <td>0</td>\n",
              "      <td>NaN</td>\n",
              "    </tr>\n",
              "    <tr>\n",
              "      <th>f</th>\n",
              "      <td>5.0</td>\n",
              "      <td>-0.534984</td>\n",
              "      <td>25.0</td>\n",
              "      <td>True</td>\n",
              "      <td>0</td>\n",
              "      <td>NaN</td>\n",
              "    </tr>\n",
              "    <tr>\n",
              "      <th>g</th>\n",
              "      <td>NaN</td>\n",
              "      <td>-0.364495</td>\n",
              "      <td>NaN</td>\n",
              "      <td>True</td>\n",
              "      <td>0</td>\n",
              "      <td>NaN</td>\n",
              "    </tr>\n",
              "  </tbody>\n",
              "</table>\n",
              "</div>"
            ],
            "text/plain": [
              "   one     three   4th   flag  foo  one_tr\n",
              "a  0.0 -1.496178   0.0  False    0     0.0\n",
              "b -1.0  0.562452   1.0  False    0    -1.0\n",
              "c  2.0  0.520759   4.0  False    0     2.0\n",
              "d  3.0 -0.461771   9.0   True    0     NaN\n",
              "e  4.0  0.426069  16.0   True    0     NaN\n",
              "f  5.0 -0.534984  25.0   True    0     NaN\n",
              "g  NaN -0.364495   NaN   True    0     NaN"
            ]
          },
          "execution_count": 63,
          "metadata": {},
          "output_type": "execute_result"
        }
      ],
      "source": [
        "df['one_tr'] = df['one'][:3]\n",
        "df"
      ]
    },
    {
      "cell_type": "markdown",
      "metadata": {
        "id": "Ja_-v1fg2VRz"
      },
      "source": [
        "#### 2.4 Пропуски"
      ]
    },
    {
      "cell_type": "markdown",
      "metadata": {
        "id": "17IK0-ZG2VRz"
      },
      "source": [
        "Удаление всех строк с пропусками"
      ]
    },
    {
      "cell_type": "code",
      "execution_count": null,
      "metadata": {
        "ExecuteTime": {
          "end_time": "2020-04-12T07:12:11.504622Z",
          "start_time": "2020-04-12T07:12:11.493162Z"
        },
        "id": "TMw80zV-2VR0",
        "outputId": "a1585124-f9cc-4301-b1a7-e7319c33efa6"
      },
      "outputs": [
        {
          "data": {
            "text/html": [
              "<div>\n",
              "<style scoped>\n",
              "    .dataframe tbody tr th:only-of-type {\n",
              "        vertical-align: middle;\n",
              "    }\n",
              "\n",
              "    .dataframe tbody tr th {\n",
              "        vertical-align: top;\n",
              "    }\n",
              "\n",
              "    .dataframe thead th {\n",
              "        text-align: right;\n",
              "    }\n",
              "</style>\n",
              "<table border=\"1\" class=\"dataframe\">\n",
              "  <thead>\n",
              "    <tr style=\"text-align: right;\">\n",
              "      <th></th>\n",
              "      <th>one</th>\n",
              "      <th>three</th>\n",
              "      <th>4th</th>\n",
              "      <th>flag</th>\n",
              "      <th>foo</th>\n",
              "      <th>one_tr</th>\n",
              "    </tr>\n",
              "  </thead>\n",
              "  <tbody>\n",
              "    <tr>\n",
              "      <th>a</th>\n",
              "      <td>0.0</td>\n",
              "      <td>-1.496178</td>\n",
              "      <td>0.0</td>\n",
              "      <td>False</td>\n",
              "      <td>0</td>\n",
              "      <td>0.0</td>\n",
              "    </tr>\n",
              "    <tr>\n",
              "      <th>b</th>\n",
              "      <td>-1.0</td>\n",
              "      <td>0.562452</td>\n",
              "      <td>1.0</td>\n",
              "      <td>False</td>\n",
              "      <td>0</td>\n",
              "      <td>-1.0</td>\n",
              "    </tr>\n",
              "    <tr>\n",
              "      <th>c</th>\n",
              "      <td>2.0</td>\n",
              "      <td>0.520759</td>\n",
              "      <td>4.0</td>\n",
              "      <td>False</td>\n",
              "      <td>0</td>\n",
              "      <td>2.0</td>\n",
              "    </tr>\n",
              "  </tbody>\n",
              "</table>\n",
              "</div>"
            ],
            "text/plain": [
              "   one     three  4th   flag  foo  one_tr\n",
              "a  0.0 -1.496178  0.0  False    0     0.0\n",
              "b -1.0  0.562452  1.0  False    0    -1.0\n",
              "c  2.0  0.520759  4.0  False    0     2.0"
            ]
          },
          "execution_count": 64,
          "metadata": {},
          "output_type": "execute_result"
        }
      ],
      "source": [
        "df.dropna(how='any')"
      ]
    },
    {
      "cell_type": "markdown",
      "metadata": {
        "id": "D-7bG6Ay2VR0"
      },
      "source": [
        "Замена всех пропусков на значение"
      ]
    },
    {
      "cell_type": "code",
      "execution_count": null,
      "metadata": {
        "ExecuteTime": {
          "end_time": "2020-04-12T07:12:11.514137Z",
          "start_time": "2020-04-12T07:12:11.505903Z"
        },
        "scrolled": true,
        "id": "-uFsPksO2VR0",
        "outputId": "1f514a17-d570-4dc1-dac5-9e949a2191d2"
      },
      "outputs": [
        {
          "data": {
            "text/html": [
              "<div>\n",
              "<style scoped>\n",
              "    .dataframe tbody tr th:only-of-type {\n",
              "        vertical-align: middle;\n",
              "    }\n",
              "\n",
              "    .dataframe tbody tr th {\n",
              "        vertical-align: top;\n",
              "    }\n",
              "\n",
              "    .dataframe thead th {\n",
              "        text-align: right;\n",
              "    }\n",
              "</style>\n",
              "<table border=\"1\" class=\"dataframe\">\n",
              "  <thead>\n",
              "    <tr style=\"text-align: right;\">\n",
              "      <th></th>\n",
              "      <th>one</th>\n",
              "      <th>three</th>\n",
              "      <th>4th</th>\n",
              "      <th>flag</th>\n",
              "      <th>foo</th>\n",
              "      <th>one_tr</th>\n",
              "    </tr>\n",
              "  </thead>\n",
              "  <tbody>\n",
              "    <tr>\n",
              "      <th>a</th>\n",
              "      <td>0.0</td>\n",
              "      <td>-1.496178</td>\n",
              "      <td>0.0</td>\n",
              "      <td>False</td>\n",
              "      <td>0</td>\n",
              "      <td>0.0</td>\n",
              "    </tr>\n",
              "    <tr>\n",
              "      <th>b</th>\n",
              "      <td>-1.0</td>\n",
              "      <td>0.562452</td>\n",
              "      <td>1.0</td>\n",
              "      <td>False</td>\n",
              "      <td>0</td>\n",
              "      <td>-1.0</td>\n",
              "    </tr>\n",
              "    <tr>\n",
              "      <th>c</th>\n",
              "      <td>2.0</td>\n",
              "      <td>0.520759</td>\n",
              "      <td>4.0</td>\n",
              "      <td>False</td>\n",
              "      <td>0</td>\n",
              "      <td>2.0</td>\n",
              "    </tr>\n",
              "    <tr>\n",
              "      <th>d</th>\n",
              "      <td>3.0</td>\n",
              "      <td>-0.461771</td>\n",
              "      <td>9.0</td>\n",
              "      <td>True</td>\n",
              "      <td>0</td>\n",
              "      <td>666.0</td>\n",
              "    </tr>\n",
              "    <tr>\n",
              "      <th>e</th>\n",
              "      <td>4.0</td>\n",
              "      <td>0.426069</td>\n",
              "      <td>16.0</td>\n",
              "      <td>True</td>\n",
              "      <td>0</td>\n",
              "      <td>666.0</td>\n",
              "    </tr>\n",
              "    <tr>\n",
              "      <th>f</th>\n",
              "      <td>5.0</td>\n",
              "      <td>-0.534984</td>\n",
              "      <td>25.0</td>\n",
              "      <td>True</td>\n",
              "      <td>0</td>\n",
              "      <td>666.0</td>\n",
              "    </tr>\n",
              "    <tr>\n",
              "      <th>g</th>\n",
              "      <td>666.0</td>\n",
              "      <td>-0.364495</td>\n",
              "      <td>666.0</td>\n",
              "      <td>True</td>\n",
              "      <td>0</td>\n",
              "      <td>666.0</td>\n",
              "    </tr>\n",
              "  </tbody>\n",
              "</table>\n",
              "</div>"
            ],
            "text/plain": [
              "     one     three    4th   flag  foo  one_tr\n",
              "a    0.0 -1.496178    0.0  False    0     0.0\n",
              "b   -1.0  0.562452    1.0  False    0    -1.0\n",
              "c    2.0  0.520759    4.0  False    0     2.0\n",
              "d    3.0 -0.461771    9.0   True    0   666.0\n",
              "e    4.0  0.426069   16.0   True    0   666.0\n",
              "f    5.0 -0.534984   25.0   True    0   666.0\n",
              "g  666.0 -0.364495  666.0   True    0   666.0"
            ]
          },
          "execution_count": 65,
          "metadata": {},
          "output_type": "execute_result"
        }
      ],
      "source": [
        "df.fillna(value=666)"
      ]
    },
    {
      "cell_type": "markdown",
      "metadata": {
        "id": "75fFjKZF2VR0"
      },
      "source": [
        "Замена всех пропусков на среднее по столбцу"
      ]
    },
    {
      "cell_type": "code",
      "execution_count": null,
      "metadata": {
        "ExecuteTime": {
          "end_time": "2020-04-12T07:12:11.524938Z",
          "start_time": "2020-04-12T07:12:11.515630Z"
        },
        "id": "Kiagl2zX2VR0",
        "outputId": "9c828a64-025c-4d00-96a1-f013354e2455"
      },
      "outputs": [
        {
          "data": {
            "text/html": [
              "<div>\n",
              "<style scoped>\n",
              "    .dataframe tbody tr th:only-of-type {\n",
              "        vertical-align: middle;\n",
              "    }\n",
              "\n",
              "    .dataframe tbody tr th {\n",
              "        vertical-align: top;\n",
              "    }\n",
              "\n",
              "    .dataframe thead th {\n",
              "        text-align: right;\n",
              "    }\n",
              "</style>\n",
              "<table border=\"1\" class=\"dataframe\">\n",
              "  <thead>\n",
              "    <tr style=\"text-align: right;\">\n",
              "      <th></th>\n",
              "      <th>one</th>\n",
              "      <th>three</th>\n",
              "      <th>4th</th>\n",
              "      <th>flag</th>\n",
              "      <th>foo</th>\n",
              "      <th>one_tr</th>\n",
              "    </tr>\n",
              "  </thead>\n",
              "  <tbody>\n",
              "    <tr>\n",
              "      <th>a</th>\n",
              "      <td>0.000000</td>\n",
              "      <td>-1.496178</td>\n",
              "      <td>0.000000</td>\n",
              "      <td>False</td>\n",
              "      <td>0</td>\n",
              "      <td>0.000000</td>\n",
              "    </tr>\n",
              "    <tr>\n",
              "      <th>b</th>\n",
              "      <td>-1.000000</td>\n",
              "      <td>0.562452</td>\n",
              "      <td>1.000000</td>\n",
              "      <td>False</td>\n",
              "      <td>0</td>\n",
              "      <td>-1.000000</td>\n",
              "    </tr>\n",
              "    <tr>\n",
              "      <th>c</th>\n",
              "      <td>2.000000</td>\n",
              "      <td>0.520759</td>\n",
              "      <td>4.000000</td>\n",
              "      <td>False</td>\n",
              "      <td>0</td>\n",
              "      <td>2.000000</td>\n",
              "    </tr>\n",
              "    <tr>\n",
              "      <th>d</th>\n",
              "      <td>3.000000</td>\n",
              "      <td>-0.461771</td>\n",
              "      <td>9.000000</td>\n",
              "      <td>True</td>\n",
              "      <td>0</td>\n",
              "      <td>0.333333</td>\n",
              "    </tr>\n",
              "    <tr>\n",
              "      <th>e</th>\n",
              "      <td>4.000000</td>\n",
              "      <td>0.426069</td>\n",
              "      <td>16.000000</td>\n",
              "      <td>True</td>\n",
              "      <td>0</td>\n",
              "      <td>0.333333</td>\n",
              "    </tr>\n",
              "    <tr>\n",
              "      <th>f</th>\n",
              "      <td>5.000000</td>\n",
              "      <td>-0.534984</td>\n",
              "      <td>25.000000</td>\n",
              "      <td>True</td>\n",
              "      <td>0</td>\n",
              "      <td>0.333333</td>\n",
              "    </tr>\n",
              "    <tr>\n",
              "      <th>g</th>\n",
              "      <td>2.166667</td>\n",
              "      <td>-0.364495</td>\n",
              "      <td>9.166667</td>\n",
              "      <td>True</td>\n",
              "      <td>0</td>\n",
              "      <td>0.333333</td>\n",
              "    </tr>\n",
              "  </tbody>\n",
              "</table>\n",
              "</div>"
            ],
            "text/plain": [
              "        one     three        4th   flag  foo    one_tr\n",
              "a  0.000000 -1.496178   0.000000  False    0  0.000000\n",
              "b -1.000000  0.562452   1.000000  False    0 -1.000000\n",
              "c  2.000000  0.520759   4.000000  False    0  2.000000\n",
              "d  3.000000 -0.461771   9.000000   True    0  0.333333\n",
              "e  4.000000  0.426069  16.000000   True    0  0.333333\n",
              "f  5.000000 -0.534984  25.000000   True    0  0.333333\n",
              "g  2.166667 -0.364495   9.166667   True    0  0.333333"
            ]
          },
          "execution_count": 66,
          "metadata": {},
          "output_type": "execute_result"
        }
      ],
      "source": [
        "df.fillna(value=df.mean())"
      ]
    },
    {
      "cell_type": "markdown",
      "metadata": {
        "id": "byur0FUR2VR1"
      },
      "source": [
        "Булевская маска пропущенных значений"
      ]
    },
    {
      "cell_type": "code",
      "execution_count": null,
      "metadata": {
        "ExecuteTime": {
          "end_time": "2020-04-12T07:12:11.537620Z",
          "start_time": "2020-04-12T07:12:11.526498Z"
        },
        "id": "OzJ_d_Z92VR1",
        "outputId": "d5fcc324-91d9-44b5-e3cb-6cd7f5ea55e9"
      },
      "outputs": [
        {
          "data": {
            "text/html": [
              "<div>\n",
              "<style scoped>\n",
              "    .dataframe tbody tr th:only-of-type {\n",
              "        vertical-align: middle;\n",
              "    }\n",
              "\n",
              "    .dataframe tbody tr th {\n",
              "        vertical-align: top;\n",
              "    }\n",
              "\n",
              "    .dataframe thead th {\n",
              "        text-align: right;\n",
              "    }\n",
              "</style>\n",
              "<table border=\"1\" class=\"dataframe\">\n",
              "  <thead>\n",
              "    <tr style=\"text-align: right;\">\n",
              "      <th></th>\n",
              "      <th>one</th>\n",
              "      <th>three</th>\n",
              "      <th>4th</th>\n",
              "      <th>flag</th>\n",
              "      <th>foo</th>\n",
              "      <th>one_tr</th>\n",
              "    </tr>\n",
              "  </thead>\n",
              "  <tbody>\n",
              "    <tr>\n",
              "      <th>a</th>\n",
              "      <td>False</td>\n",
              "      <td>False</td>\n",
              "      <td>False</td>\n",
              "      <td>False</td>\n",
              "      <td>False</td>\n",
              "      <td>False</td>\n",
              "    </tr>\n",
              "    <tr>\n",
              "      <th>b</th>\n",
              "      <td>False</td>\n",
              "      <td>False</td>\n",
              "      <td>False</td>\n",
              "      <td>False</td>\n",
              "      <td>False</td>\n",
              "      <td>False</td>\n",
              "    </tr>\n",
              "    <tr>\n",
              "      <th>c</th>\n",
              "      <td>False</td>\n",
              "      <td>False</td>\n",
              "      <td>False</td>\n",
              "      <td>False</td>\n",
              "      <td>False</td>\n",
              "      <td>False</td>\n",
              "    </tr>\n",
              "    <tr>\n",
              "      <th>d</th>\n",
              "      <td>False</td>\n",
              "      <td>False</td>\n",
              "      <td>False</td>\n",
              "      <td>False</td>\n",
              "      <td>False</td>\n",
              "      <td>True</td>\n",
              "    </tr>\n",
              "    <tr>\n",
              "      <th>e</th>\n",
              "      <td>False</td>\n",
              "      <td>False</td>\n",
              "      <td>False</td>\n",
              "      <td>False</td>\n",
              "      <td>False</td>\n",
              "      <td>True</td>\n",
              "    </tr>\n",
              "    <tr>\n",
              "      <th>f</th>\n",
              "      <td>False</td>\n",
              "      <td>False</td>\n",
              "      <td>False</td>\n",
              "      <td>False</td>\n",
              "      <td>False</td>\n",
              "      <td>True</td>\n",
              "    </tr>\n",
              "    <tr>\n",
              "      <th>g</th>\n",
              "      <td>True</td>\n",
              "      <td>False</td>\n",
              "      <td>True</td>\n",
              "      <td>False</td>\n",
              "      <td>False</td>\n",
              "      <td>True</td>\n",
              "    </tr>\n",
              "  </tbody>\n",
              "</table>\n",
              "</div>"
            ],
            "text/plain": [
              "     one  three    4th   flag    foo  one_tr\n",
              "a  False  False  False  False  False   False\n",
              "b  False  False  False  False  False   False\n",
              "c  False  False  False  False  False   False\n",
              "d  False  False  False  False  False    True\n",
              "e  False  False  False  False  False    True\n",
              "f  False  False  False  False  False    True\n",
              "g   True  False   True  False  False    True"
            ]
          },
          "execution_count": 67,
          "metadata": {},
          "output_type": "execute_result"
        }
      ],
      "source": [
        "df.isnull()"
      ]
    },
    {
      "cell_type": "markdown",
      "metadata": {
        "id": "PNLY5E9k2VR1"
      },
      "source": [
        "#### 2.5 Простые операции"
      ]
    },
    {
      "cell_type": "markdown",
      "metadata": {
        "id": "i4QhBQsf2VR1"
      },
      "source": [
        "Создадим таблицу из массива случайных чисел."
      ]
    },
    {
      "cell_type": "code",
      "execution_count": null,
      "metadata": {
        "ExecuteTime": {
          "end_time": "2020-04-12T07:12:11.550922Z",
          "start_time": "2020-04-12T07:12:11.541403Z"
        },
        "id": "UM7t6qNy2VR1",
        "outputId": "c47bdcb0-3764-4bed-814b-3298a33c86af"
      },
      "outputs": [
        {
          "data": {
            "text/html": [
              "<div>\n",
              "<style scoped>\n",
              "    .dataframe tbody tr th:only-of-type {\n",
              "        vertical-align: middle;\n",
              "    }\n",
              "\n",
              "    .dataframe tbody tr th {\n",
              "        vertical-align: top;\n",
              "    }\n",
              "\n",
              "    .dataframe thead th {\n",
              "        text-align: right;\n",
              "    }\n",
              "</style>\n",
              "<table border=\"1\" class=\"dataframe\">\n",
              "  <thead>\n",
              "    <tr style=\"text-align: right;\">\n",
              "      <th></th>\n",
              "      <th>A</th>\n",
              "      <th>B</th>\n",
              "      <th>C</th>\n",
              "      <th>D</th>\n",
              "    </tr>\n",
              "  </thead>\n",
              "  <tbody>\n",
              "    <tr>\n",
              "      <th>0</th>\n",
              "      <td>0.250877</td>\n",
              "      <td>0.754734</td>\n",
              "      <td>0.276125</td>\n",
              "      <td>0.720824</td>\n",
              "    </tr>\n",
              "    <tr>\n",
              "      <th>1</th>\n",
              "      <td>0.575403</td>\n",
              "      <td>0.900451</td>\n",
              "      <td>0.877726</td>\n",
              "      <td>0.269396</td>\n",
              "    </tr>\n",
              "    <tr>\n",
              "      <th>2</th>\n",
              "      <td>0.049269</td>\n",
              "      <td>0.333501</td>\n",
              "      <td>0.266401</td>\n",
              "      <td>0.631570</td>\n",
              "    </tr>\n",
              "    <tr>\n",
              "      <th>3</th>\n",
              "      <td>0.070402</td>\n",
              "      <td>0.018452</td>\n",
              "      <td>0.765624</td>\n",
              "      <td>0.105073</td>\n",
              "    </tr>\n",
              "    <tr>\n",
              "      <th>4</th>\n",
              "      <td>0.277331</td>\n",
              "      <td>0.247629</td>\n",
              "      <td>0.819190</td>\n",
              "      <td>0.020735</td>\n",
              "    </tr>\n",
              "    <tr>\n",
              "      <th>5</th>\n",
              "      <td>0.950293</td>\n",
              "      <td>0.004797</td>\n",
              "      <td>0.389922</td>\n",
              "      <td>0.409014</td>\n",
              "    </tr>\n",
              "    <tr>\n",
              "      <th>6</th>\n",
              "      <td>0.646476</td>\n",
              "      <td>0.772134</td>\n",
              "      <td>0.681104</td>\n",
              "      <td>0.856197</td>\n",
              "    </tr>\n",
              "    <tr>\n",
              "      <th>7</th>\n",
              "      <td>0.230166</td>\n",
              "      <td>0.766094</td>\n",
              "      <td>0.232642</td>\n",
              "      <td>0.384684</td>\n",
              "    </tr>\n",
              "    <tr>\n",
              "      <th>8</th>\n",
              "      <td>0.370390</td>\n",
              "      <td>0.967563</td>\n",
              "      <td>0.482347</td>\n",
              "      <td>0.979930</td>\n",
              "    </tr>\n",
              "    <tr>\n",
              "      <th>9</th>\n",
              "      <td>0.740447</td>\n",
              "      <td>0.546133</td>\n",
              "      <td>0.475937</td>\n",
              "      <td>0.277485</td>\n",
              "    </tr>\n",
              "  </tbody>\n",
              "</table>\n",
              "</div>"
            ],
            "text/plain": [
              "          A         B         C         D\n",
              "0  0.250877  0.754734  0.276125  0.720824\n",
              "1  0.575403  0.900451  0.877726  0.269396\n",
              "2  0.049269  0.333501  0.266401  0.631570\n",
              "3  0.070402  0.018452  0.765624  0.105073\n",
              "4  0.277331  0.247629  0.819190  0.020735\n",
              "5  0.950293  0.004797  0.389922  0.409014\n",
              "6  0.646476  0.772134  0.681104  0.856197\n",
              "7  0.230166  0.766094  0.232642  0.384684\n",
              "8  0.370390  0.967563  0.482347  0.979930\n",
              "9  0.740447  0.546133  0.475937  0.277485"
            ]
          },
          "execution_count": 68,
          "metadata": {},
          "output_type": "execute_result"
        }
      ],
      "source": [
        "df1 = pd.DataFrame(sps.uniform.rvs(size=(10, 4)),\n",
        "                   columns=['A', 'B', 'C', 'D'])\n",
        "df1"
      ]
    },
    {
      "cell_type": "code",
      "execution_count": null,
      "metadata": {
        "ExecuteTime": {
          "end_time": "2020-04-12T07:12:11.573327Z",
          "start_time": "2020-04-12T07:12:11.552682Z"
        },
        "id": "2enTcZkR2VR1",
        "outputId": "d31ae84f-77b6-40f4-cf59-27bf969fa751"
      },
      "outputs": [
        {
          "data": {
            "text/html": [
              "<div>\n",
              "<style scoped>\n",
              "    .dataframe tbody tr th:only-of-type {\n",
              "        vertical-align: middle;\n",
              "    }\n",
              "\n",
              "    .dataframe tbody tr th {\n",
              "        vertical-align: top;\n",
              "    }\n",
              "\n",
              "    .dataframe thead th {\n",
              "        text-align: right;\n",
              "    }\n",
              "</style>\n",
              "<table border=\"1\" class=\"dataframe\">\n",
              "  <thead>\n",
              "    <tr style=\"text-align: right;\">\n",
              "      <th></th>\n",
              "      <th>A</th>\n",
              "      <th>B</th>\n",
              "      <th>C</th>\n",
              "    </tr>\n",
              "  </thead>\n",
              "  <tbody>\n",
              "    <tr>\n",
              "      <th>0</th>\n",
              "      <td>0.788811</td>\n",
              "      <td>0.886728</td>\n",
              "      <td>0.754926</td>\n",
              "    </tr>\n",
              "    <tr>\n",
              "      <th>1</th>\n",
              "      <td>0.649572</td>\n",
              "      <td>0.911963</td>\n",
              "      <td>0.183802</td>\n",
              "    </tr>\n",
              "    <tr>\n",
              "      <th>2</th>\n",
              "      <td>0.662806</td>\n",
              "      <td>0.555376</td>\n",
              "      <td>0.101021</td>\n",
              "    </tr>\n",
              "    <tr>\n",
              "      <th>3</th>\n",
              "      <td>0.282103</td>\n",
              "      <td>0.026328</td>\n",
              "      <td>0.829280</td>\n",
              "    </tr>\n",
              "    <tr>\n",
              "      <th>4</th>\n",
              "      <td>0.476916</td>\n",
              "      <td>0.063974</td>\n",
              "      <td>0.021611</td>\n",
              "    </tr>\n",
              "    <tr>\n",
              "      <th>5</th>\n",
              "      <td>0.751839</td>\n",
              "      <td>0.757885</td>\n",
              "      <td>0.367958</td>\n",
              "    </tr>\n",
              "    <tr>\n",
              "      <th>6</th>\n",
              "      <td>0.158158</td>\n",
              "      <td>0.729036</td>\n",
              "      <td>0.280558</td>\n",
              "    </tr>\n",
              "  </tbody>\n",
              "</table>\n",
              "</div>"
            ],
            "text/plain": [
              "          A         B         C\n",
              "0  0.788811  0.886728  0.754926\n",
              "1  0.649572  0.911963  0.183802\n",
              "2  0.662806  0.555376  0.101021\n",
              "3  0.282103  0.026328  0.829280\n",
              "4  0.476916  0.063974  0.021611\n",
              "5  0.751839  0.757885  0.367958\n",
              "6  0.158158  0.729036  0.280558"
            ]
          },
          "execution_count": 69,
          "metadata": {},
          "output_type": "execute_result"
        }
      ],
      "source": [
        "df2 = pd.DataFrame(sps.uniform.rvs(size=(7, 3)),\n",
        "                   columns=['A', 'B', 'C'])\n",
        "df2"
      ]
    },
    {
      "cell_type": "code",
      "execution_count": null,
      "metadata": {
        "ExecuteTime": {
          "end_time": "2020-04-12T07:12:11.596473Z",
          "start_time": "2020-04-12T07:12:11.577445Z"
        },
        "id": "E2fWLIvX2VR2",
        "outputId": "ec0f5200-725e-4b03-a16b-d1ad3debc4a0"
      },
      "outputs": [
        {
          "data": {
            "text/html": [
              "<div>\n",
              "<style scoped>\n",
              "    .dataframe tbody tr th:only-of-type {\n",
              "        vertical-align: middle;\n",
              "    }\n",
              "\n",
              "    .dataframe tbody tr th {\n",
              "        vertical-align: top;\n",
              "    }\n",
              "\n",
              "    .dataframe thead th {\n",
              "        text-align: right;\n",
              "    }\n",
              "</style>\n",
              "<table border=\"1\" class=\"dataframe\">\n",
              "  <thead>\n",
              "    <tr style=\"text-align: right;\">\n",
              "      <th></th>\n",
              "      <th>A</th>\n",
              "      <th>B</th>\n",
              "      <th>C</th>\n",
              "      <th>D</th>\n",
              "    </tr>\n",
              "  </thead>\n",
              "  <tbody>\n",
              "    <tr>\n",
              "      <th>0</th>\n",
              "      <td>1.039689</td>\n",
              "      <td>1.641463</td>\n",
              "      <td>1.031051</td>\n",
              "      <td>NaN</td>\n",
              "    </tr>\n",
              "    <tr>\n",
              "      <th>1</th>\n",
              "      <td>1.224976</td>\n",
              "      <td>1.812414</td>\n",
              "      <td>1.061528</td>\n",
              "      <td>NaN</td>\n",
              "    </tr>\n",
              "    <tr>\n",
              "      <th>2</th>\n",
              "      <td>0.712075</td>\n",
              "      <td>0.888877</td>\n",
              "      <td>0.367423</td>\n",
              "      <td>NaN</td>\n",
              "    </tr>\n",
              "    <tr>\n",
              "      <th>3</th>\n",
              "      <td>0.352506</td>\n",
              "      <td>0.044780</td>\n",
              "      <td>1.594904</td>\n",
              "      <td>NaN</td>\n",
              "    </tr>\n",
              "    <tr>\n",
              "      <th>4</th>\n",
              "      <td>0.754246</td>\n",
              "      <td>0.311603</td>\n",
              "      <td>0.840801</td>\n",
              "      <td>NaN</td>\n",
              "    </tr>\n",
              "    <tr>\n",
              "      <th>5</th>\n",
              "      <td>1.702132</td>\n",
              "      <td>0.762682</td>\n",
              "      <td>0.757880</td>\n",
              "      <td>NaN</td>\n",
              "    </tr>\n",
              "    <tr>\n",
              "      <th>6</th>\n",
              "      <td>0.804634</td>\n",
              "      <td>1.501170</td>\n",
              "      <td>0.961662</td>\n",
              "      <td>NaN</td>\n",
              "    </tr>\n",
              "    <tr>\n",
              "      <th>7</th>\n",
              "      <td>NaN</td>\n",
              "      <td>NaN</td>\n",
              "      <td>NaN</td>\n",
              "      <td>NaN</td>\n",
              "    </tr>\n",
              "    <tr>\n",
              "      <th>8</th>\n",
              "      <td>NaN</td>\n",
              "      <td>NaN</td>\n",
              "      <td>NaN</td>\n",
              "      <td>NaN</td>\n",
              "    </tr>\n",
              "    <tr>\n",
              "      <th>9</th>\n",
              "      <td>NaN</td>\n",
              "      <td>NaN</td>\n",
              "      <td>NaN</td>\n",
              "      <td>NaN</td>\n",
              "    </tr>\n",
              "  </tbody>\n",
              "</table>\n",
              "</div>"
            ],
            "text/plain": [
              "          A         B         C   D\n",
              "0  1.039689  1.641463  1.031051 NaN\n",
              "1  1.224976  1.812414  1.061528 NaN\n",
              "2  0.712075  0.888877  0.367423 NaN\n",
              "3  0.352506  0.044780  1.594904 NaN\n",
              "4  0.754246  0.311603  0.840801 NaN\n",
              "5  1.702132  0.762682  0.757880 NaN\n",
              "6  0.804634  1.501170  0.961662 NaN\n",
              "7       NaN       NaN       NaN NaN\n",
              "8       NaN       NaN       NaN NaN\n",
              "9       NaN       NaN       NaN NaN"
            ]
          },
          "execution_count": 70,
          "metadata": {},
          "output_type": "execute_result"
        }
      ],
      "source": [
        "df1 + df2"
      ]
    },
    {
      "cell_type": "code",
      "execution_count": null,
      "metadata": {
        "ExecuteTime": {
          "end_time": "2020-04-12T07:12:11.610425Z",
          "start_time": "2020-04-12T07:12:11.599476Z"
        },
        "id": "iVZ1UsfJ2VR2",
        "outputId": "55cfaeb8-83cf-4e20-f704-40df90a6a8b9"
      },
      "outputs": [
        {
          "data": {
            "text/html": [
              "<div>\n",
              "<style scoped>\n",
              "    .dataframe tbody tr th:only-of-type {\n",
              "        vertical-align: middle;\n",
              "    }\n",
              "\n",
              "    .dataframe tbody tr th {\n",
              "        vertical-align: top;\n",
              "    }\n",
              "\n",
              "    .dataframe thead th {\n",
              "        text-align: right;\n",
              "    }\n",
              "</style>\n",
              "<table border=\"1\" class=\"dataframe\">\n",
              "  <thead>\n",
              "    <tr style=\"text-align: right;\">\n",
              "      <th></th>\n",
              "      <th>A</th>\n",
              "      <th>B</th>\n",
              "      <th>C</th>\n",
              "      <th>D</th>\n",
              "    </tr>\n",
              "  </thead>\n",
              "  <tbody>\n",
              "    <tr>\n",
              "      <th>0</th>\n",
              "      <td>3.501754</td>\n",
              "      <td>4.509468</td>\n",
              "      <td>3.552250</td>\n",
              "      <td>4.441647</td>\n",
              "    </tr>\n",
              "    <tr>\n",
              "      <th>1</th>\n",
              "      <td>4.150807</td>\n",
              "      <td>4.800901</td>\n",
              "      <td>4.755452</td>\n",
              "      <td>3.538793</td>\n",
              "    </tr>\n",
              "    <tr>\n",
              "      <th>2</th>\n",
              "      <td>3.098538</td>\n",
              "      <td>3.667002</td>\n",
              "      <td>3.532802</td>\n",
              "      <td>4.263140</td>\n",
              "    </tr>\n",
              "    <tr>\n",
              "      <th>3</th>\n",
              "      <td>3.140805</td>\n",
              "      <td>3.036905</td>\n",
              "      <td>4.531249</td>\n",
              "      <td>3.210146</td>\n",
              "    </tr>\n",
              "    <tr>\n",
              "      <th>4</th>\n",
              "      <td>3.554661</td>\n",
              "      <td>3.495259</td>\n",
              "      <td>4.638380</td>\n",
              "      <td>3.041469</td>\n",
              "    </tr>\n",
              "    <tr>\n",
              "      <th>5</th>\n",
              "      <td>4.900586</td>\n",
              "      <td>3.009594</td>\n",
              "      <td>3.779844</td>\n",
              "      <td>3.818029</td>\n",
              "    </tr>\n",
              "    <tr>\n",
              "      <th>6</th>\n",
              "      <td>4.292952</td>\n",
              "      <td>4.544267</td>\n",
              "      <td>4.362207</td>\n",
              "      <td>4.712395</td>\n",
              "    </tr>\n",
              "    <tr>\n",
              "      <th>7</th>\n",
              "      <td>3.460333</td>\n",
              "      <td>4.532188</td>\n",
              "      <td>3.465284</td>\n",
              "      <td>3.769367</td>\n",
              "    </tr>\n",
              "    <tr>\n",
              "      <th>8</th>\n",
              "      <td>3.740779</td>\n",
              "      <td>4.935125</td>\n",
              "      <td>3.964694</td>\n",
              "      <td>4.959860</td>\n",
              "    </tr>\n",
              "    <tr>\n",
              "      <th>9</th>\n",
              "      <td>4.480894</td>\n",
              "      <td>4.092267</td>\n",
              "      <td>3.951873</td>\n",
              "      <td>3.554971</td>\n",
              "    </tr>\n",
              "  </tbody>\n",
              "</table>\n",
              "</div>"
            ],
            "text/plain": [
              "          A         B         C         D\n",
              "0  3.501754  4.509468  3.552250  4.441647\n",
              "1  4.150807  4.800901  4.755452  3.538793\n",
              "2  3.098538  3.667002  3.532802  4.263140\n",
              "3  3.140805  3.036905  4.531249  3.210146\n",
              "4  3.554661  3.495259  4.638380  3.041469\n",
              "5  4.900586  3.009594  3.779844  3.818029\n",
              "6  4.292952  4.544267  4.362207  4.712395\n",
              "7  3.460333  4.532188  3.465284  3.769367\n",
              "8  3.740779  4.935125  3.964694  4.959860\n",
              "9  4.480894  4.092267  3.951873  3.554971"
            ]
          },
          "execution_count": 71,
          "metadata": {},
          "output_type": "execute_result"
        }
      ],
      "source": [
        "2 * df1 + 3"
      ]
    },
    {
      "cell_type": "code",
      "execution_count": null,
      "metadata": {
        "ExecuteTime": {
          "end_time": "2020-04-12T07:12:11.623968Z",
          "start_time": "2020-04-12T07:12:11.612296Z"
        },
        "id": "8kCLFAPC2VR2",
        "outputId": "cf50be12-9ae1-4dc3-cc96-13a0ab015875"
      },
      "outputs": [
        {
          "data": {
            "text/html": [
              "<div>\n",
              "<style scoped>\n",
              "    .dataframe tbody tr th:only-of-type {\n",
              "        vertical-align: middle;\n",
              "    }\n",
              "\n",
              "    .dataframe tbody tr th {\n",
              "        vertical-align: top;\n",
              "    }\n",
              "\n",
              "    .dataframe thead th {\n",
              "        text-align: right;\n",
              "    }\n",
              "</style>\n",
              "<table border=\"1\" class=\"dataframe\">\n",
              "  <thead>\n",
              "    <tr style=\"text-align: right;\">\n",
              "      <th></th>\n",
              "      <th>A</th>\n",
              "      <th>B</th>\n",
              "      <th>C</th>\n",
              "      <th>D</th>\n",
              "    </tr>\n",
              "  </thead>\n",
              "  <tbody>\n",
              "    <tr>\n",
              "      <th>0</th>\n",
              "      <td>0.248254</td>\n",
              "      <td>0.685095</td>\n",
              "      <td>0.272629</td>\n",
              "      <td>0.660004</td>\n",
              "    </tr>\n",
              "    <tr>\n",
              "      <th>1</th>\n",
              "      <td>0.544173</td>\n",
              "      <td>0.783607</td>\n",
              "      <td>0.769288</td>\n",
              "      <td>0.266150</td>\n",
              "    </tr>\n",
              "    <tr>\n",
              "      <th>2</th>\n",
              "      <td>0.049249</td>\n",
              "      <td>0.327353</td>\n",
              "      <td>0.263261</td>\n",
              "      <td>0.590412</td>\n",
              "    </tr>\n",
              "    <tr>\n",
              "      <th>3</th>\n",
              "      <td>0.070344</td>\n",
              "      <td>0.018451</td>\n",
              "      <td>0.692987</td>\n",
              "      <td>0.104880</td>\n",
              "    </tr>\n",
              "    <tr>\n",
              "      <th>4</th>\n",
              "      <td>0.273789</td>\n",
              "      <td>0.245106</td>\n",
              "      <td>0.730593</td>\n",
              "      <td>0.020733</td>\n",
              "    </tr>\n",
              "    <tr>\n",
              "      <th>5</th>\n",
              "      <td>0.813586</td>\n",
              "      <td>0.004797</td>\n",
              "      <td>0.380116</td>\n",
              "      <td>0.397705</td>\n",
              "    </tr>\n",
              "    <tr>\n",
              "      <th>6</th>\n",
              "      <td>0.602377</td>\n",
              "      <td>0.697665</td>\n",
              "      <td>0.629651</td>\n",
              "      <td>0.755356</td>\n",
              "    </tr>\n",
              "    <tr>\n",
              "      <th>7</th>\n",
              "      <td>0.228139</td>\n",
              "      <td>0.693326</td>\n",
              "      <td>0.230549</td>\n",
              "      <td>0.375266</td>\n",
              "    </tr>\n",
              "    <tr>\n",
              "      <th>8</th>\n",
              "      <td>0.361979</td>\n",
              "      <td>0.823505</td>\n",
              "      <td>0.463860</td>\n",
              "      <td>0.830458</td>\n",
              "    </tr>\n",
              "    <tr>\n",
              "      <th>9</th>\n",
              "      <td>0.674618</td>\n",
              "      <td>0.519387</td>\n",
              "      <td>0.458171</td>\n",
              "      <td>0.273938</td>\n",
              "    </tr>\n",
              "  </tbody>\n",
              "</table>\n",
              "</div>"
            ],
            "text/plain": [
              "          A         B         C         D\n",
              "0  0.248254  0.685095  0.272629  0.660004\n",
              "1  0.544173  0.783607  0.769288  0.266150\n",
              "2  0.049249  0.327353  0.263261  0.590412\n",
              "3  0.070344  0.018451  0.692987  0.104880\n",
              "4  0.273789  0.245106  0.730593  0.020733\n",
              "5  0.813586  0.004797  0.380116  0.397705\n",
              "6  0.602377  0.697665  0.629651  0.755356\n",
              "7  0.228139  0.693326  0.230549  0.375266\n",
              "8  0.361979  0.823505  0.463860  0.830458\n",
              "9  0.674618  0.519387  0.458171  0.273938"
            ]
          },
          "execution_count": 72,
          "metadata": {},
          "output_type": "execute_result"
        }
      ],
      "source": [
        "np.sin(df1)"
      ]
    },
    {
      "cell_type": "markdown",
      "metadata": {
        "id": "5KBLD0RY2VR2"
      },
      "source": [
        "Построим графики кумулятивных сумм"
      ]
    },
    {
      "cell_type": "code",
      "execution_count": null,
      "metadata": {
        "ExecuteTime": {
          "end_time": "2020-04-12T07:12:11.645479Z",
          "start_time": "2020-04-12T07:12:11.629998Z"
        },
        "id": "ujgzXD-b2VR2",
        "outputId": "c6ec3f8e-442e-4d5d-acf6-ed992049238c"
      },
      "outputs": [
        {
          "data": {
            "text/html": [
              "<div>\n",
              "<style scoped>\n",
              "    .dataframe tbody tr th:only-of-type {\n",
              "        vertical-align: middle;\n",
              "    }\n",
              "\n",
              "    .dataframe tbody tr th {\n",
              "        vertical-align: top;\n",
              "    }\n",
              "\n",
              "    .dataframe thead th {\n",
              "        text-align: right;\n",
              "    }\n",
              "</style>\n",
              "<table border=\"1\" class=\"dataframe\">\n",
              "  <thead>\n",
              "    <tr style=\"text-align: right;\">\n",
              "      <th></th>\n",
              "      <th>A</th>\n",
              "      <th>B</th>\n",
              "      <th>C</th>\n",
              "      <th>D</th>\n",
              "    </tr>\n",
              "  </thead>\n",
              "  <tbody>\n",
              "    <tr>\n",
              "      <th>0</th>\n",
              "      <td>0.250877</td>\n",
              "      <td>0.754734</td>\n",
              "      <td>0.276125</td>\n",
              "      <td>0.720824</td>\n",
              "    </tr>\n",
              "    <tr>\n",
              "      <th>1</th>\n",
              "      <td>0.826281</td>\n",
              "      <td>1.655185</td>\n",
              "      <td>1.153851</td>\n",
              "      <td>0.990220</td>\n",
              "    </tr>\n",
              "    <tr>\n",
              "      <th>2</th>\n",
              "      <td>0.875550</td>\n",
              "      <td>1.988686</td>\n",
              "      <td>1.420252</td>\n",
              "      <td>1.621790</td>\n",
              "    </tr>\n",
              "    <tr>\n",
              "      <th>3</th>\n",
              "      <td>0.945952</td>\n",
              "      <td>2.007138</td>\n",
              "      <td>2.185876</td>\n",
              "      <td>1.726863</td>\n",
              "    </tr>\n",
              "    <tr>\n",
              "      <th>4</th>\n",
              "      <td>1.223283</td>\n",
              "      <td>2.254768</td>\n",
              "      <td>3.005066</td>\n",
              "      <td>1.747598</td>\n",
              "    </tr>\n",
              "    <tr>\n",
              "      <th>5</th>\n",
              "      <td>2.173576</td>\n",
              "      <td>2.259565</td>\n",
              "      <td>3.394988</td>\n",
              "      <td>2.156612</td>\n",
              "    </tr>\n",
              "    <tr>\n",
              "      <th>6</th>\n",
              "      <td>2.820052</td>\n",
              "      <td>3.031698</td>\n",
              "      <td>4.076092</td>\n",
              "      <td>3.012809</td>\n",
              "    </tr>\n",
              "    <tr>\n",
              "      <th>7</th>\n",
              "      <td>3.050218</td>\n",
              "      <td>3.797792</td>\n",
              "      <td>4.308734</td>\n",
              "      <td>3.397493</td>\n",
              "    </tr>\n",
              "    <tr>\n",
              "      <th>8</th>\n",
              "      <td>3.420608</td>\n",
              "      <td>4.765355</td>\n",
              "      <td>4.791081</td>\n",
              "      <td>4.377423</td>\n",
              "    </tr>\n",
              "    <tr>\n",
              "      <th>9</th>\n",
              "      <td>4.161055</td>\n",
              "      <td>5.311488</td>\n",
              "      <td>5.267017</td>\n",
              "      <td>4.654908</td>\n",
              "    </tr>\n",
              "  </tbody>\n",
              "</table>\n",
              "</div>"
            ],
            "text/plain": [
              "          A         B         C         D\n",
              "0  0.250877  0.754734  0.276125  0.720824\n",
              "1  0.826281  1.655185  1.153851  0.990220\n",
              "2  0.875550  1.988686  1.420252  1.621790\n",
              "3  0.945952  2.007138  2.185876  1.726863\n",
              "4  1.223283  2.254768  3.005066  1.747598\n",
              "5  2.173576  2.259565  3.394988  2.156612\n",
              "6  2.820052  3.031698  4.076092  3.012809\n",
              "7  3.050218  3.797792  4.308734  3.397493\n",
              "8  3.420608  4.765355  4.791081  4.377423\n",
              "9  4.161055  5.311488  5.267017  4.654908"
            ]
          },
          "execution_count": 73,
          "metadata": {},
          "output_type": "execute_result"
        }
      ],
      "source": [
        "cs = df1.cumsum()\n",
        "cs"
      ]
    },
    {
      "cell_type": "code",
      "execution_count": null,
      "metadata": {
        "ExecuteTime": {
          "end_time": "2020-04-12T07:12:11.929930Z",
          "start_time": "2020-04-12T07:12:11.648356Z"
        },
        "scrolled": true,
        "id": "1n0bIKNx2VR2",
        "outputId": "ac0a20f6-e0c5-41b1-87f0-f7e79ffdf7ba"
      },
      "outputs": [
        {
          "data": {
            "image/png": "[encoded data removed]",
            "text/plain": [
              "<Figure size 432x288 with 1 Axes>"
            ]
          },
          "metadata": {
            "needs_background": "light"
          },
          "output_type": "display_data"
        }
      ],
      "source": [
        "cs.plot()\n",
        "plt.show()"
      ]
    },
    {
      "cell_type": "markdown",
      "metadata": {
        "id": "D_ZcFL4E2VR3"
      },
      "source": [
        "**Упражнение**   \n",
        "Сгенерируйте случайную выборку $X_1, \\ldots, X_n$ для $n = 100$ из стандартного нормального распределения, соберите из неё `pd.DataFrame`, замените случайные 10% элементов на пропуски (`np.nan`), а затем добавьте по столбцу для оценок первых 4 моментов кумулятивно — $$\\frac{1}{m} \\sum\\limits_{i=1}^{m} X_i^{k}, \\; i \\in \\overline{1, m}, \\; m \\in  \\overline{1, n}, \\; k \\in \\overline{1, 4}$$\n",
        "Ваша функция должна корректно обрабатывать пропуски. В конце постройте график."
      ]
    },
    {
      "cell_type": "code",
      "execution_count": null,
      "metadata": {
        "ExecuteTime": {
          "end_time": "2020-04-12T07:12:12.311677Z",
          "start_time": "2020-04-12T07:12:11.932157Z"
        },
        "id": "vos82vXJ2VR3",
        "outputId": "e5462d92-d3f9-4c91-8c19-72fc1227bc8f"
      },
      "outputs": [
        {
          "data": {
            "image/png": "[encoded data removed]",
            "text/plain": [
              "<Figure size 720x360 with 1 Axes>"
            ]
          },
          "metadata": {
            "needs_background": "light"
          },
          "output_type": "display_data"
        }
      ],
      "source": [
        "# YOUR CODE\n",
        "\n",
        "# генерируем выборку\n",
        "n = 100\n",
        "sample = sps.norm.rvs(size=n)\n",
        "\n",
        "# создаем пропуски\n",
        "index = np.random.choice(np.arange(n), int(0.1 * n), replace=True)\n",
        "sample[index] = np.nan\n",
        "\n",
        "# заводим dataframe\n",
        "sample_df = pd.DataFrame(sample, columns=['Выборка'])\n",
        "\n",
        "\n",
        "for k in range(1, 5):\n",
        "    sample_df['{}-й выборочный момент'.format(k)] = (\n",
        "        sample_df['Выборка'] ** k\n",
        "    ).expanding().apply(np.nanmean)\n",
        "\n",
        "sample_df.plot(figsize=(10, 5));"
      ]
    },
    {
      "cell_type": "markdown",
      "metadata": {
        "id": "EBbfjymb2VR3"
      },
      "source": [
        "### 3. Чтение и запись данных\n",
        "\n",
        "**Загрузка текстовых файлов табличного вида** производится с помощью функции `pd.read_csv`. Основные аргументы следующие:\n",
        "* `filepath_or_buffer` &mdash; пусть к файлу;\n",
        "* `sep` &mdash; разделитель колонок в строке (запятая, табуляция и т.д.);\n",
        "* `header` &mdash; номер строки или список номеров строк, используемых в качестве имен колонок;\n",
        "* `names` &mdash; список имен, которые будут использованы в качестве имен колонок;\n",
        "* `index_col` &mdash; колонка, используемая в качестве индекса;\n",
        "* `usecols` &mdash; список имен колонок, которые будут загружены;\n",
        "* `nrows` &mdash; сколько строк прочитать;\n",
        "* `skiprows` &mdash; номера строк с начала, которые нужно пропустить;\n",
        "* `skipfooter` &mdash; сколько строк в конце пропустить;\n",
        "* `na_values` &mdash; список значений, которые распознавать как пропуски;\n",
        "* `parse_dates` &mdash; распознавать ли даты, можно передать номера строк;\n",
        "* `date_parser` &mdash; парсер дат;\n",
        "* `dayfirst` &mdash; день записывается перед месяцем или после;\n",
        "* `thousands` &mdash; разделитель тысяч;\n",
        "* `decimal` &mdash; разделитель целой и дробной частей;\n",
        "* `comment` &mdash; символ начала комментария.\n",
        "\n",
        "Полный список параметров:\n",
        "\n",
        "`pd.read_csv(filepath_or_buffer, sep=',', delimiter=None, header='infer', names=None, index_col=None, usecols=None, squeeze=False, prefix=None, mangle_dupe_cols=True, dtype=None, engine=None, converters=None, true_values=None, false_values=None, skipinitialspace=False, skiprows=None, nrows=None, na_values=None, keep_default_na=True, na_filter=True, verbose=False, skip_blank_lines=True, parse_dates=False, infer_datetime_format=False, keep_date_col=False, date_parser=None, dayfirst=False, iterator=False, chunksize=None, compression='infer', thousands=None, decimal=b'.', lineterminator=None, quotechar='\"', quoting=0, escapechar=None, comment=None, encoding=None, dialect=None, tupleize_cols=False, error_bad_lines=True, warn_bad_lines=True, skipfooter=0, skip_footer=0, doublequote=True, delim_whitespace=False, as_recarray=False, compact_ints=False, use_unsigned=False, low_memory=True, buffer_lines=None, memory_map=False, float_precision=None)`\n",
        "\n",
        "**Загрузка таблиц формата Excel** производится с помощью функции `pd.read_excel`. Основные аргументы следующие:\n",
        "* `io` &mdash; пусть к файлу;\n",
        "* `sheetname` &mdash; какие листы таблицы загрузить;\n",
        "* Остальные параметры аналогично.\n",
        "\n",
        "`pd.read_excel(io, sheetname=0, header=0, skiprows=None, skip_footer=0, index_col=None, names=None, parse_cols=None, parse_dates=False, date_parser=None, na_values=None, thousands=None, convert_float=True, has_index_names=None, converters=None, dtype=None, true_values=None, false_values=None, engine=None, squeeze=False, **kwds)`\n",
        "\n",
        "**Запись таблицы в текстовый файл** производится с помощью функции `df.to_csv`. Основные аргументы следующие:\n",
        "* `df` &mdash; DataFrame, который нужно записать;\n",
        "* `path_or_buf` &mdash; путь, куда записать;\n",
        "* `sep` &mdash; разделитель колонок в строке (запятая, табуляция и т.д.);\n",
        "* `na_rep` &mdash; как записать пропуски;\n",
        "* `float_format` &mdash; формат записи дробных чисел;\n",
        "* `columns` &mdash; какие колонки записать;\n",
        "* `header` &mdash; как назвать колонки при записи;\n",
        "* `index` &mdash; записывать ли индексы в файл;\n",
        "* `index_label` &mdash; имена индексов, которые записать в файл.\n",
        "\n",
        "Полный список параметров:\n",
        "\n",
        "`df.to_csv(path_or_buf=None, sep=',', na_rep='', float_format=None, columns=None, header=True, index=True, index_label=None, mode='w', encoding=None, compression=None, quoting=None, quotechar='\"', line_terminator='\\n', chunksize=None, tupleize_cols=False, date_format=None, doublequote=True, escapechar=None, decimal='.')`\n",
        "\n",
        "**Запись таблицы в формат Excel** производится с помощью функции `df.to_excel`. Основные аргументы аналогичные. Полный список параметров:\n",
        "\n",
        "`df.to_excel(excel_writer, sheet_name='Sheet1', na_rep='', float_format=None, columns=None, header=True, index=True, index_label=None, startrow=0, startcol=0, engine=None, merge_cells=True, encoding=None, inf_rep='inf', verbose=True, freeze_panes=None)`"
      ]
    },
    {
      "cell_type": "markdown",
      "metadata": {
        "id": "43gb-BDG2VR3"
      },
      "source": [
        "### 4. Примеры чтения данных и работы с датами\n",
        "\n",
        "Прочитаем файл, который содержит два столбца &mdash; дата и число. Столбцы разделяются табуляцией."
      ]
    },
    {
      "cell_type": "code",
      "execution_count": null,
      "metadata": {
        "ExecuteTime": {
          "end_time": "2020-04-12T07:12:12.357905Z",
          "start_time": "2020-04-12T07:12:12.313187Z"
        },
        "id": "KdtfcJFu2VR4",
        "outputId": "4249d156-2832-4d7e-9ebf-7759180a29b5"
      },
      "outputs": [
        {
          "data": {
            "text/html": [
              "<div>\n",
              "<style scoped>\n",
              "    .dataframe tbody tr th:only-of-type {\n",
              "        vertical-align: middle;\n",
              "    }\n",
              "\n",
              "    .dataframe tbody tr th {\n",
              "        vertical-align: top;\n",
              "    }\n",
              "\n",
              "    .dataframe thead th {\n",
              "        text-align: right;\n",
              "    }\n",
              "</style>\n",
              "<table border=\"1\" class=\"dataframe\">\n",
              "  <thead>\n",
              "    <tr style=\"text-align: right;\">\n",
              "      <th></th>\n",
              "      <th>Time</th>\n",
              "      <th>Value</th>\n",
              "    </tr>\n",
              "  </thead>\n",
              "  <tbody>\n",
              "    <tr>\n",
              "      <th>0</th>\n",
              "      <td>2019-01-09</td>\n",
              "      <td>66</td>\n",
              "    </tr>\n",
              "    <tr>\n",
              "      <th>1</th>\n",
              "      <td>2019-02-09</td>\n",
              "      <td>34</td>\n",
              "    </tr>\n",
              "    <tr>\n",
              "      <th>2</th>\n",
              "      <td>2019-03-09</td>\n",
              "      <td>18</td>\n",
              "    </tr>\n",
              "    <tr>\n",
              "      <th>3</th>\n",
              "      <td>2019-04-09</td>\n",
              "      <td>32</td>\n",
              "    </tr>\n",
              "    <tr>\n",
              "      <th>4</th>\n",
              "      <td>2019-05-09</td>\n",
              "      <td>84</td>\n",
              "    </tr>\n",
              "  </tbody>\n",
              "</table>\n",
              "</div>"
            ],
            "text/plain": [
              "        Time  Value\n",
              "0 2019-01-09     66\n",
              "1 2019-02-09     34\n",
              "2 2019-03-09     18\n",
              "3 2019-04-09     32\n",
              "4 2019-05-09     84"
            ]
          },
          "execution_count": 76,
          "metadata": {},
          "output_type": "execute_result"
        }
      ],
      "source": [
        "df = pd.read_csv('./example.csv', sep='\\t', parse_dates=[0])\n",
        "df.head()"
      ]
    },
    {
      "cell_type": "markdown",
      "metadata": {
        "id": "N1gXcjJJ2VR4"
      },
      "source": [
        "В информации о таблице видим, что дата определилась, т.к. формат колонки `Time` обозначен как `datetime64[ns]`."
      ]
    },
    {
      "cell_type": "code",
      "execution_count": null,
      "metadata": {
        "ExecuteTime": {
          "end_time": "2020-04-12T07:12:12.363319Z",
          "start_time": "2020-04-12T07:12:12.359131Z"
        },
        "id": "2fqlKQsA2VR4",
        "outputId": "8eb96bda-ef95-44f9-ee46-0122ec01830d"
      },
      "outputs": [
        {
          "name": "stdout",
          "output_type": "stream",
          "text": [
            "<class 'pandas.core.frame.DataFrame'>\n",
            "RangeIndex: 18 entries, 0 to 17\n",
            "Data columns (total 2 columns):\n",
            "Time     18 non-null datetime64[ns]\n",
            "Value    18 non-null int64\n",
            "dtypes: datetime64[ns](1), int64(1)\n",
            "memory usage: 416.0 bytes\n"
          ]
        }
      ],
      "source": [
        "df.info()"
      ]
    },
    {
      "cell_type": "markdown",
      "metadata": {
        "id": "mDa78Wbi2VR4"
      },
      "source": [
        "Но при печати понимаем, что часть дат распозналась неправильно. Если число месяца меньше 13, то pandas путает день и месяц. В одном и том же столбце. Кошмар..."
      ]
    },
    {
      "cell_type": "code",
      "execution_count": null,
      "metadata": {
        "ExecuteTime": {
          "end_time": "2020-04-12T07:12:12.368233Z",
          "start_time": "2020-04-12T07:12:12.364741Z"
        },
        "scrolled": false,
        "id": "pdsZMcad2VR4",
        "outputId": "20f289c7-e35b-4667-b40c-b88722c4fb41"
      },
      "outputs": [
        {
          "data": {
            "text/plain": [
              "0    2019-01-09\n",
              "1    2019-02-09\n",
              "2    2019-03-09\n",
              "3    2019-04-09\n",
              "4    2019-05-09\n",
              "5    2019-06-09\n",
              "6    2019-07-09\n",
              "7    2019-08-09\n",
              "8    2019-09-09\n",
              "9    2019-10-09\n",
              "10   2019-11-09\n",
              "11   2019-12-09\n",
              "12   2019-09-13\n",
              "13   2019-09-14\n",
              "14   2019-09-15\n",
              "15   2019-09-16\n",
              "16   2019-09-17\n",
              "17   2019-09-18\n",
              "Name: Time, dtype: datetime64[ns]"
            ]
          },
          "execution_count": 78,
          "metadata": {},
          "output_type": "execute_result"
        }
      ],
      "source": [
        "df['Time']"
      ]
    },
    {
      "cell_type": "markdown",
      "metadata": {
        "id": "myBUzBiW2VR5"
      },
      "source": [
        "Укажем, что день всегда следует первым. Теперь все правильно"
      ]
    },
    {
      "cell_type": "code",
      "execution_count": null,
      "metadata": {
        "ExecuteTime": {
          "end_time": "2020-04-12T07:12:12.377001Z",
          "start_time": "2020-04-12T07:12:12.369464Z"
        },
        "id": "mrl59zeM2VR5",
        "outputId": "09307566-81d5-4ba4-d880-60a6626c428a"
      },
      "outputs": [
        {
          "data": {
            "text/plain": [
              "0    2019-09-01\n",
              "1    2019-09-02\n",
              "2    2019-09-03\n",
              "3    2019-09-04\n",
              "4    2019-09-05\n",
              "5    2019-09-06\n",
              "6    2019-09-07\n",
              "7    2019-09-08\n",
              "8    2019-09-09\n",
              "9    2019-09-10\n",
              "10   2019-09-11\n",
              "11   2019-09-12\n",
              "12   2019-09-13\n",
              "13   2019-09-14\n",
              "14   2019-09-15\n",
              "15   2019-09-16\n",
              "16   2019-09-17\n",
              "17   2019-09-18\n",
              "Name: Time, dtype: datetime64[ns]"
            ]
          },
          "execution_count": 79,
          "metadata": {},
          "output_type": "execute_result"
        }
      ],
      "source": [
        "df = pd.read_csv('./example.csv', sep='\\t', parse_dates=[0],\n",
        "                 dayfirst=True)\n",
        "df['Time']"
      ]
    },
    {
      "cell_type": "markdown",
      "metadata": {
        "id": "AofglSag2VR5"
      },
      "source": [
        "Панды довольно ленивые, и если не попросить pandas распознать дату, то ничего делать не будет &mdash; оставит ее как `object`."
      ]
    },
    {
      "cell_type": "code",
      "execution_count": null,
      "metadata": {
        "ExecuteTime": {
          "end_time": "2020-04-12T07:12:12.385083Z",
          "start_time": "2020-04-12T07:12:12.378301Z"
        },
        "id": "ylIoR_q12VR5",
        "outputId": "8a1f73ae-9dd6-4ad0-e2d8-a61f45ea0b98"
      },
      "outputs": [
        {
          "name": "stdout",
          "output_type": "stream",
          "text": [
            "<class 'pandas.core.frame.DataFrame'>\n",
            "RangeIndex: 18 entries, 0 to 17\n",
            "Data columns (total 2 columns):\n",
            "Time     18 non-null object\n",
            "Value    18 non-null int64\n",
            "dtypes: int64(1), object(1)\n",
            "memory usage: 416.0+ bytes\n"
          ]
        }
      ],
      "source": [
        "df = pd.read_csv('./example.csv', sep='\\t')\n",
        "df.info()"
      ]
    },
    {
      "cell_type": "markdown",
      "metadata": {
        "id": "2lMZaXzl2VR5"
      },
      "source": [
        "Тогда можно воспользоваться функцией `pd.to_datetime`"
      ]
    },
    {
      "cell_type": "code",
      "execution_count": null,
      "metadata": {
        "ExecuteTime": {
          "end_time": "2020-04-12T07:12:12.393256Z",
          "start_time": "2020-04-12T07:12:12.388601Z"
        },
        "id": "BHP2xRpx2VR6",
        "outputId": "ab06b9c7-5168-46af-b057-ba8946d13867"
      },
      "outputs": [
        {
          "data": {
            "text/plain": [
              "0    2019-09-01\n",
              "1    2019-09-02\n",
              "2    2019-09-03\n",
              "3    2019-09-04\n",
              "4    2019-09-05\n",
              "5    2019-09-06\n",
              "6    2019-09-07\n",
              "7    2019-09-08\n",
              "8    2019-09-09\n",
              "9    2019-09-10\n",
              "10   2019-09-11\n",
              "11   2019-09-12\n",
              "12   2019-09-13\n",
              "13   2019-09-14\n",
              "14   2019-09-15\n",
              "15   2019-09-16\n",
              "16   2019-09-17\n",
              "17   2019-09-18\n",
              "Name: Time, dtype: datetime64[ns]"
            ]
          },
          "execution_count": 81,
          "metadata": {},
          "output_type": "execute_result"
        }
      ],
      "source": [
        "df['Time'] = pd.to_datetime(df['Time'], dayfirst=True)\n",
        "df['Time']"
      ]
    },
    {
      "cell_type": "markdown",
      "metadata": {
        "id": "QQnfYKaF2VR6"
      },
      "source": [
        "Установим дату как индекс, получив временной ряд."
      ]
    },
    {
      "cell_type": "code",
      "execution_count": null,
      "metadata": {
        "ExecuteTime": {
          "end_time": "2020-04-12T07:12:12.403311Z",
          "start_time": "2020-04-12T07:12:12.394944Z"
        },
        "id": "mdqVH2zH2VR6",
        "outputId": "6c9d959d-35a6-42f4-9d00-6ce639d46426"
      },
      "outputs": [
        {
          "data": {
            "text/html": [
              "<div>\n",
              "<style scoped>\n",
              "    .dataframe tbody tr th:only-of-type {\n",
              "        vertical-align: middle;\n",
              "    }\n",
              "\n",
              "    .dataframe tbody tr th {\n",
              "        vertical-align: top;\n",
              "    }\n",
              "\n",
              "    .dataframe thead th {\n",
              "        text-align: right;\n",
              "    }\n",
              "</style>\n",
              "<table border=\"1\" class=\"dataframe\">\n",
              "  <thead>\n",
              "    <tr style=\"text-align: right;\">\n",
              "      <th></th>\n",
              "      <th>Value</th>\n",
              "    </tr>\n",
              "    <tr>\n",
              "      <th>Time</th>\n",
              "      <th></th>\n",
              "    </tr>\n",
              "  </thead>\n",
              "  <tbody>\n",
              "    <tr>\n",
              "      <th>2019-09-01</th>\n",
              "      <td>66</td>\n",
              "    </tr>\n",
              "    <tr>\n",
              "      <th>2019-09-02</th>\n",
              "      <td>34</td>\n",
              "    </tr>\n",
              "    <tr>\n",
              "      <th>2019-09-03</th>\n",
              "      <td>18</td>\n",
              "    </tr>\n",
              "    <tr>\n",
              "      <th>2019-09-04</th>\n",
              "      <td>32</td>\n",
              "    </tr>\n",
              "    <tr>\n",
              "      <th>2019-09-05</th>\n",
              "      <td>84</td>\n",
              "    </tr>\n",
              "    <tr>\n",
              "      <th>2019-09-06</th>\n",
              "      <td>27</td>\n",
              "    </tr>\n",
              "    <tr>\n",
              "      <th>2019-09-07</th>\n",
              "      <td>45</td>\n",
              "    </tr>\n",
              "    <tr>\n",
              "      <th>2019-09-08</th>\n",
              "      <td>84</td>\n",
              "    </tr>\n",
              "    <tr>\n",
              "      <th>2019-09-09</th>\n",
              "      <td>42</td>\n",
              "    </tr>\n",
              "    <tr>\n",
              "      <th>2019-09-10</th>\n",
              "      <td>65</td>\n",
              "    </tr>\n",
              "    <tr>\n",
              "      <th>2019-09-11</th>\n",
              "      <td>65</td>\n",
              "    </tr>\n",
              "    <tr>\n",
              "      <th>2019-09-12</th>\n",
              "      <td>73</td>\n",
              "    </tr>\n",
              "    <tr>\n",
              "      <th>2019-09-13</th>\n",
              "      <td>24</td>\n",
              "    </tr>\n",
              "    <tr>\n",
              "      <th>2019-09-14</th>\n",
              "      <td>62</td>\n",
              "    </tr>\n",
              "    <tr>\n",
              "      <th>2019-09-15</th>\n",
              "      <td>44</td>\n",
              "    </tr>\n",
              "    <tr>\n",
              "      <th>2019-09-16</th>\n",
              "      <td>25</td>\n",
              "    </tr>\n",
              "    <tr>\n",
              "      <th>2019-09-17</th>\n",
              "      <td>75</td>\n",
              "    </tr>\n",
              "    <tr>\n",
              "      <th>2019-09-18</th>\n",
              "      <td>23</td>\n",
              "    </tr>\n",
              "  </tbody>\n",
              "</table>\n",
              "</div>"
            ],
            "text/plain": [
              "            Value\n",
              "Time             \n",
              "2019-09-01     66\n",
              "2019-09-02     34\n",
              "2019-09-03     18\n",
              "2019-09-04     32\n",
              "2019-09-05     84\n",
              "2019-09-06     27\n",
              "2019-09-07     45\n",
              "2019-09-08     84\n",
              "2019-09-09     42\n",
              "2019-09-10     65\n",
              "2019-09-11     65\n",
              "2019-09-12     73\n",
              "2019-09-13     24\n",
              "2019-09-14     62\n",
              "2019-09-15     44\n",
              "2019-09-16     25\n",
              "2019-09-17     75\n",
              "2019-09-18     23"
            ]
          },
          "execution_count": 82,
          "metadata": {},
          "output_type": "execute_result"
        }
      ],
      "source": [
        "df = df.set_index('Time')\n",
        "df"
      ]
    },
    {
      "cell_type": "markdown",
      "metadata": {
        "id": "LJr9i7cX2VR6"
      },
      "source": [
        "Его можно нарисовать"
      ]
    },
    {
      "cell_type": "code",
      "execution_count": null,
      "metadata": {
        "ExecuteTime": {
          "end_time": "2020-04-12T07:12:12.692193Z",
          "start_time": "2020-04-12T07:12:12.405196Z"
        },
        "scrolled": true,
        "id": "8GXtdUxy2VR6",
        "outputId": "d1db4493-46f8-45a2-cadc-c93fe5680ee1"
      },
      "outputs": [
        {
          "data": {
            "image/png": "[encoded data removed]",
            "text/plain": [
              "<Figure size 432x288 with 1 Axes>"
            ]
          },
          "metadata": {
            "needs_background": "light"
          },
          "output_type": "display_data"
        }
      ],
      "source": [
        "df.plot();"
      ]
    },
    {
      "cell_type": "markdown",
      "metadata": {
        "id": "M5aLiIqz2VR6"
      },
      "source": [
        "Усреднение данных по трем дням"
      ]
    },
    {
      "cell_type": "code",
      "execution_count": null,
      "metadata": {
        "ExecuteTime": {
          "end_time": "2020-04-12T07:12:12.712166Z",
          "start_time": "2020-04-12T07:12:12.694142Z"
        },
        "id": "Xz2b-9bC2VR7",
        "outputId": "ac2f0d8f-7440-43a5-9890-5574deb2eca4"
      },
      "outputs": [
        {
          "data": {
            "text/html": [
              "<div>\n",
              "<style scoped>\n",
              "    .dataframe tbody tr th:only-of-type {\n",
              "        vertical-align: middle;\n",
              "    }\n",
              "\n",
              "    .dataframe tbody tr th {\n",
              "        vertical-align: top;\n",
              "    }\n",
              "\n",
              "    .dataframe thead th {\n",
              "        text-align: right;\n",
              "    }\n",
              "</style>\n",
              "<table border=\"1\" class=\"dataframe\">\n",
              "  <thead>\n",
              "    <tr style=\"text-align: right;\">\n",
              "      <th></th>\n",
              "      <th>Value</th>\n",
              "    </tr>\n",
              "    <tr>\n",
              "      <th>Time</th>\n",
              "      <th></th>\n",
              "    </tr>\n",
              "  </thead>\n",
              "  <tbody>\n",
              "    <tr>\n",
              "      <th>2019-09-01</th>\n",
              "      <td>39.333333</td>\n",
              "    </tr>\n",
              "    <tr>\n",
              "      <th>2019-09-04</th>\n",
              "      <td>47.666667</td>\n",
              "    </tr>\n",
              "    <tr>\n",
              "      <th>2019-09-07</th>\n",
              "      <td>57.000000</td>\n",
              "    </tr>\n",
              "    <tr>\n",
              "      <th>2019-09-10</th>\n",
              "      <td>67.666667</td>\n",
              "    </tr>\n",
              "    <tr>\n",
              "      <th>2019-09-13</th>\n",
              "      <td>43.333333</td>\n",
              "    </tr>\n",
              "    <tr>\n",
              "      <th>2019-09-16</th>\n",
              "      <td>41.000000</td>\n",
              "    </tr>\n",
              "  </tbody>\n",
              "</table>\n",
              "</div>"
            ],
            "text/plain": [
              "                Value\n",
              "Time                 \n",
              "2019-09-01  39.333333\n",
              "2019-09-04  47.666667\n",
              "2019-09-07  57.000000\n",
              "2019-09-10  67.666667\n",
              "2019-09-13  43.333333\n",
              "2019-09-16  41.000000"
            ]
          },
          "execution_count": 84,
          "metadata": {},
          "output_type": "execute_result"
        }
      ],
      "source": [
        "df.resample('3D').mean()"
      ]
    },
    {
      "cell_type": "markdown",
      "metadata": {
        "id": "H0qefMXO2VR7"
      },
      "source": [
        "### 5. Интервалы времени\n",
        "\n",
        "Интервал времени задается объектом `pd.Timedelta`\n",
        "\n",
        "Возможные обозначения интервалов: `'Y', 'M', 'W', 'D', 'days', 'day', 'hours', hour', 'hr', 'h', 'm', 'minute', 'min', 'minutes', 'T', 'S', 'seconds', 'sec', 'second', 'ms', 'milliseconds', 'millisecond', 'milli', 'millis', 'L', 'us', 'microseconds', 'microsecond', 'micro', 'micros', 'U', 'ns', 'nanoseconds', 'nano', 'nanos', 'nanosecond', 'N'`\n",
        "\n",
        "Например, интервал времени в 5 недель 6 дней 5 часов 37 минут 23 секунды 12 милисекунд:"
      ]
    },
    {
      "cell_type": "code",
      "execution_count": null,
      "metadata": {
        "ExecuteTime": {
          "end_time": "2020-04-12T07:12:12.719255Z",
          "start_time": "2020-04-12T07:12:12.713944Z"
        },
        "id": "HG5gwp1j2VR7",
        "outputId": "2e8c9fd1-0fe8-45ad-b1ba-be6ed88e3daf"
      },
      "outputs": [
        {
          "data": {
            "text/plain": [
              "Timedelta('41 days 05:37:23.012000')"
            ]
          },
          "execution_count": 85,
          "metadata": {},
          "output_type": "execute_result"
        }
      ],
      "source": [
        "pd.Timedelta('5W 6 days 5hr 37min 23sec 12ms')"
      ]
    },
    {
      "cell_type": "markdown",
      "metadata": {
        "id": "NWd7dRYf2VR7"
      },
      "source": [
        "Поробуем понять что такое `Y` и `M`."
      ]
    },
    {
      "cell_type": "code",
      "execution_count": null,
      "metadata": {
        "ExecuteTime": {
          "end_time": "2020-04-12T07:12:12.726586Z",
          "start_time": "2020-04-12T07:12:12.721676Z"
        },
        "scrolled": true,
        "id": "Ajf5kquq2VR7",
        "outputId": "793c6240-2e68-4415-b03c-f73f569bcc32"
      },
      "outputs": [
        {
          "data": {
            "text/plain": [
              "(Timedelta('365 days 05:49:12'), Timedelta('0 days 00:01:00'))"
            ]
          },
          "execution_count": 86,
          "metadata": {},
          "output_type": "execute_result"
        }
      ],
      "source": [
        "pd.Timedelta('1Y'), pd.Timedelta('1M')"
      ]
    },
    {
      "cell_type": "markdown",
      "metadata": {
        "id": "Nr2IU7wL2VR7"
      },
      "source": [
        "Символ `Y` обозначает год. Он сделан таким из-за високосных годов. Поскольку месяцы разной длины, то их вообще нельзя здесь задать. Поэтому `M` обозначает минуты.\n",
        "\n",
        "Интервал можно добавить к какой-нибудь дате, или вычесть из нее."
      ]
    },
    {
      "cell_type": "code",
      "execution_count": null,
      "metadata": {
        "ExecuteTime": {
          "end_time": "2020-04-12T07:12:12.745273Z",
          "start_time": "2020-04-12T07:12:12.728687Z"
        },
        "scrolled": true,
        "id": "sECIql642VR8",
        "outputId": "658486a8-ab0b-42fa-eded-73db1d17d9ae"
      },
      "outputs": [
        {
          "data": {
            "text/plain": [
              "Timestamp('2019-09-19 03:07:23.012000')"
            ]
          },
          "execution_count": 87,
          "metadata": {},
          "output_type": "execute_result"
        }
      ],
      "source": [
        "pd.to_datetime('2019.09.18 18:30') \\\n",
        "    + pd.Timedelta('8hr 37min 23sec 12ms')"
      ]
    },
    {
      "cell_type": "code",
      "execution_count": null,
      "metadata": {
        "ExecuteTime": {
          "end_time": "2020-04-12T07:12:12.757304Z",
          "start_time": "2020-04-12T07:12:12.749791Z"
        },
        "id": "cPx5c7lY2VR8",
        "outputId": "a70eb3ff-76b9-49fe-cb94-33d1f3a7caa3"
      },
      "outputs": [
        {
          "data": {
            "text/plain": [
              "Timestamp('2019-09-17 21:39:36.988000')"
            ]
          },
          "execution_count": 88,
          "metadata": {},
          "output_type": "execute_result"
        }
      ],
      "source": [
        "pd.to_datetime('2019.09.18 18:30') \\\n",
        "    - pd.Timedelta('20hr 50min 23sec 12ms')"
      ]
    },
    {
      "cell_type": "markdown",
      "metadata": {
        "id": "fkTYMJ-e2VR8"
      },
      "source": [
        "Сделать регулярный список дат позволяет функция `pd.timedelta_range`, которая реализует функционал `range` для дат. Ей нужно передать **ровно три аргумента** из следующих четырех:\n",
        "* `start` &mdash; интервал начала отчета;\n",
        "* `end` &mdash; интервал окончания отчета;\n",
        "* `periods` &mdash; количество интервалов;\n",
        "* `freq` &mdash; частота отсчета.\n",
        "\n",
        "**Пример**\n",
        "<img src=\"https://mipt-stats.gitlab.io/images/m/temperature.jpg\" width=\"140\" align=\"right\">  \n",
        "Врач на протяжении дня измеряет пациенту температуру каждые 3 часа в течение 2 недель. Также пациенту необходимо спать с 11 вечера до 7 утра. Каждый день измерения температуры начинаются в 8 часов. Первое измерение 22 марта 2020 года. Определите моменты времени, когда нужно измерить пациенту температуру."
      ]
    },
    {
      "cell_type": "code",
      "execution_count": null,
      "metadata": {
        "ExecuteTime": {
          "end_time": "2020-04-12T07:12:12.768410Z",
          "start_time": "2020-04-12T07:12:12.760265Z"
        },
        "id": "jaVu3x0r2VR8",
        "outputId": "17330149-38ef-41dd-accf-36675541f0a5"
      },
      "outputs": [
        {
          "data": {
            "text/plain": [
              "TimedeltaIndex(['08:00:00', '11:00:00', '14:00:00', '17:00:00', '20:00:00',\n",
              "                '23:00:00'],\n",
              "               dtype='timedelta64[ns]', freq='3H')"
            ]
          },
          "execution_count": 89,
          "metadata": {},
          "output_type": "execute_result"
        }
      ],
      "source": [
        "# Периоды измерения температуры днем\n",
        "periods = pd.timedelta_range(start='8H', freq='3H', end='23H')\n",
        "periods"
      ]
    },
    {
      "cell_type": "code",
      "execution_count": null,
      "metadata": {
        "ExecuteTime": {
          "end_time": "2020-04-12T07:12:12.778278Z",
          "start_time": "2020-04-12T07:12:12.770773Z"
        },
        "id": "TQgX9D6d2VR8",
        "outputId": "7d558fa0-85c9-4a61-a933-a891809e7359"
      },
      "outputs": [
        {
          "data": {
            "text/plain": [
              "DatetimeIndex(['2020-03-22', '2020-03-23', '2020-03-24', '2020-03-25',\n",
              "               '2020-03-26', '2020-03-27', '2020-03-28', '2020-03-29',\n",
              "               '2020-03-30', '2020-03-31', '2020-04-01', '2020-04-02',\n",
              "               '2020-04-03', '2020-04-04', '2020-04-05'],\n",
              "              dtype='datetime64[ns]', freq='D')"
            ]
          },
          "execution_count": 90,
          "metadata": {},
          "output_type": "execute_result"
        }
      ],
      "source": [
        "# Даты измерний температуры\n",
        "dates = pd.to_datetime('2020.03.22') \\\n",
        "    + pd.timedelta_range(start=0, freq='1D', end='2W')\n",
        "dates"
      ]
    },
    {
      "cell_type": "code",
      "execution_count": null,
      "metadata": {
        "ExecuteTime": {
          "end_time": "2020-04-12T07:12:12.789523Z",
          "start_time": "2020-04-12T07:12:12.781834Z"
        },
        "id": "1QI47ldm2VR8",
        "outputId": "3b7099c8-2e4d-44c4-aa25-754a4df4b6b6"
      },
      "outputs": [
        {
          "data": {
            "text/plain": [
              "DatetimeIndex(['2020-03-22 08:00:00', '2020-03-22 11:00:00',\n",
              "               '2020-03-22 14:00:00', '2020-03-22 17:00:00',\n",
              "               '2020-03-22 20:00:00', '2020-03-22 23:00:00',\n",
              "               '2020-03-23 08:00:00', '2020-03-23 11:00:00',\n",
              "               '2020-03-23 14:00:00', '2020-03-23 17:00:00',\n",
              "               '2020-03-23 20:00:00', '2020-03-23 23:00:00',\n",
              "               '2020-03-24 08:00:00', '2020-03-24 11:00:00',\n",
              "               '2020-03-24 14:00:00', '2020-03-24 17:00:00',\n",
              "               '2020-03-24 20:00:00', '2020-03-24 23:00:00',\n",
              "               '2020-03-25 08:00:00', '2020-03-25 11:00:00',\n",
              "               '2020-03-25 14:00:00', '2020-03-25 17:00:00',\n",
              "               '2020-03-25 20:00:00', '2020-03-25 23:00:00',\n",
              "               '2020-03-26 08:00:00', '2020-03-26 11:00:00',\n",
              "               '2020-03-26 14:00:00', '2020-03-26 17:00:00',\n",
              "               '2020-03-26 20:00:00', '2020-03-26 23:00:00',\n",
              "               '2020-03-27 08:00:00', '2020-03-27 11:00:00',\n",
              "               '2020-03-27 14:00:00', '2020-03-27 17:00:00',\n",
              "               '2020-03-27 20:00:00', '2020-03-27 23:00:00',\n",
              "               '2020-03-28 08:00:00', '2020-03-28 11:00:00',\n",
              "               '2020-03-28 14:00:00', '2020-03-28 17:00:00',\n",
              "               '2020-03-28 20:00:00', '2020-03-28 23:00:00',\n",
              "               '2020-03-29 08:00:00', '2020-03-29 11:00:00',\n",
              "               '2020-03-29 14:00:00', '2020-03-29 17:00:00',\n",
              "               '2020-03-29 20:00:00', '2020-03-29 23:00:00',\n",
              "               '2020-03-30 08:00:00', '2020-03-30 11:00:00',\n",
              "               '2020-03-30 14:00:00', '2020-03-30 17:00:00',\n",
              "               '2020-03-30 20:00:00', '2020-03-30 23:00:00',\n",
              "               '2020-03-31 08:00:00', '2020-03-31 11:00:00',\n",
              "               '2020-03-31 14:00:00', '2020-03-31 17:00:00',\n",
              "               '2020-03-31 20:00:00', '2020-03-31 23:00:00',\n",
              "               '2020-04-01 08:00:00', '2020-04-01 11:00:00',\n",
              "               '2020-04-01 14:00:00', '2020-04-01 17:00:00',\n",
              "               '2020-04-01 20:00:00', '2020-04-01 23:00:00',\n",
              "               '2020-04-02 08:00:00', '2020-04-02 11:00:00',\n",
              "               '2020-04-02 14:00:00', '2020-04-02 17:00:00',\n",
              "               '2020-04-02 20:00:00', '2020-04-02 23:00:00',\n",
              "               '2020-04-03 08:00:00', '2020-04-03 11:00:00',\n",
              "               '2020-04-03 14:00:00', '2020-04-03 17:00:00',\n",
              "               '2020-04-03 20:00:00', '2020-04-03 23:00:00',\n",
              "               '2020-04-04 08:00:00', '2020-04-04 11:00:00',\n",
              "               '2020-04-04 14:00:00', '2020-04-04 17:00:00',\n",
              "               '2020-04-04 20:00:00', '2020-04-04 23:00:00',\n",
              "               '2020-04-05 08:00:00', '2020-04-05 11:00:00',\n",
              "               '2020-04-05 14:00:00', '2020-04-05 17:00:00',\n",
              "               '2020-04-05 20:00:00', '2020-04-05 23:00:00'],\n",
              "              dtype='datetime64[ns]', freq=None)"
            ]
          },
          "execution_count": 91,
          "metadata": {},
          "output_type": "execute_result"
        }
      ],
      "source": [
        "# Время измерния температуры\n",
        "n, m = len(dates), len(periods)\n",
        "dates_new = dates.repeat(m)\n",
        "periods_new = pd.to_timedelta(np.tile(periods, n))\n",
        "time = dates_new + periods_new\n",
        "time"
      ]
    },
    {
      "cell_type": "markdown",
      "metadata": {
        "id": "6u410mOV2VR9"
      },
      "source": [
        "---\n",
        "\n",
        "При подготовке использованы материалы https://inp.nsk.su/~grozin/python/ и http://pandas.pydata.org/pandas-docs/stable/10min.html"
      ]
    }
  ],
  "metadata": {
    "kernelspec": {
      "display_name": "Python 3",
      "language": "python",
      "name": "python3"
    },
    "language_info": {
      "codemirror_mode": {
        "name": "ipython",
        "version": 3
      },
      "file_extension": ".py",
      "mimetype": "text/x-python",
      "name": "python",
      "nbconvert_exporter": "python",
      "pygments_lexer": "ipython3",
      "version": "3.8.5"
    },
    "colab": {
      "provenance": [],
      "include_colab_link": true
    }
  },
  "nbformat": 4,
  "nbformat_minor": 0
}